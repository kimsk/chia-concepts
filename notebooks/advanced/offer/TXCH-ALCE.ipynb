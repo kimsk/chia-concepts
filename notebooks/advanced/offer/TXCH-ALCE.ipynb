{
 "cells": [
  {
   "cell_type": "markdown",
   "id": "fc4c6a24-b455-4d5a-bc93-f7024ba364b6",
   "metadata": {
    "jupyter": {
     "source_hidden": true
    },
    "tags": []
   },
   "source": [
    "# alice\n",
    "```sh\n",
    "❯ chia rpc wallet create_offer_for_ids '{ \"offer\": {\"2\": -10000, \"1\": 1000123 }}'\n",
    "{\n",
    "    \"offer\": \"offer1qqzh3wcuu2rykcmqvpsxygqqwc7hynr6hum6e0mnf72sn7uvvkpt68eyumkhelprk0adeg42nlelk2mpagr90qq0a37v8lc980la7d8u0q65lfa57l7myn2j55t42fet2m04u9de4trhmjargwtdae2qyhxrvhdz6v0fe0awkvlklsuy7n8qlf6kjln6lnvuvhmxa0ky5kyatnrkl7dln8tksvksj22tun5vjhs5lfdkm0vxecw5wg70h9hkm3tdaemxwk09wfw06y83vdfl9ma7g4xvhfjcneln26g78drafy46tlk4mw02kujc7d9nrxned9vquwra7tszzez6xrd56yrd56qrdk6gzdk6gpp57narp5605dwsczzlkqhn0k038h44xcdxlxcmry6jra6g9n3l5q8nh94s8cmkqemwmt536k4gy2kmv9ugruwwen70jdujkgmu48dwtyej72ej0kd8plf9l50ccd627f8y5s9tptjq5m3c47esxxauv8ne6jclwvhs3vtgw59tynxlkdm22ux5663u6jhthm7dj9l7vlfmw56dra4j7hlu5gt8w62tc9zmw4lt4wnv83nggyrrgsq6vhl3wyr2m7qu0ksg9vpejzf5f49mzsyqv79trpkrhc0fae774d8t6e6uyl62j6c047yxdcqm9dm4j8nq5drdcqag6nn0lq587ms7l0570ze73zdaswake65zm5hqzn669h84ad65840edh4sd0p54gp2l0lskv5wnml8c27gl0867k5mst4xmz6khc8s7lp40wr2na89w2dufs4fhw8yxyh7luzl06nhpwjajlr6uufn3fl84zc0ngdygz87kr7aelhetc50mr2p3uk27hls9uf0zflxtwu7xympgz6hx865m7wxlrjkxk4m6lvc99hqc0ze07a92fqw6tv8smlsk7q7075a6kx4hncgez2mmtffmqjk05mla32tgke9c0put5cfp9ummygxsxdpqmvl7pvynfjypjlvgr6syy2xrkkhhd322j7w3n0xxvu4kse0ntt2sp37ht4mzexzw34uwhuhmq7wwm5prgzs4pef0ejukk466wndfp3v0da0fzkfl3y3ne72n5t7ca4k4au4tsjuxw97lay08nn9pd30r9uh6qv0fntrc7p9n3l7rhql6yaewnn7zufxhxd67s0m0u6r6a7w0l4arxlnmwnkl37v22rglf74twx95g8s0kmmxckj48l0pyqrgzq86g5qq9gm\",\n",
    "    \"success\": true,\n",
    "    \"trade_record\": {\n",
    "        \"accepted_at_time\": null,\n",
    "        \"coins_of_interest\": [\n",
    "            {\n",
    "                \"amount\": 999000,\n",
    "                \"parent_coin_info\": \"0x547661088c6ba255fb26af282cdc4132499ded3d173cdd8b6a3a6d08d5f058f8\",\n",
    "                \"puzzle_hash\": \"0xb263fb8ea202a69439cfea929e07085aa47efa878a6d27db19c4830633657674\"\n",
    "            }\n",
    "        ],\n",
    "        \"confirmed_at_index\": 0,\n",
    "        \"created_at_time\": 1673976787,\n",
    "        \"is_my_offer\": true,\n",
    "        \"pending\": {\n",
    "            \"b831d001dc996f9fd8626bb11ecb7cac9e6a596796137fd22ff801d8746ec918\": 999000\n",
    "        },\n",
    "        \"sent\": 0,\n",
    "        \"sent_to\": [],\n",
    "        \"status\": \"PENDING_ACCEPT\",\n",
    "        \"summary\": {\n",
    "            \"fees\": 0,\n",
    "            \"infos\": {\n",
    "                \"b831d001dc996f9fd8626bb11ecb7cac9e6a596796137fd22ff801d8746ec918\": {\n",
    "                    \"tail\": \"0xb831d001dc996f9fd8626bb11ecb7cac9e6a596796137fd22ff801d8746ec918\",\n",
    "                    \"type\": \"CAT\"\n",
    "                }\n",
    "            },\n",
    "            \"offered\": {\n",
    "                \"b831d001dc996f9fd8626bb11ecb7cac9e6a596796137fd22ff801d8746ec918\": 10000\n",
    "            },\n",
    "            \"requested\": {\n",
    "                \"xch\": 1000123\n",
    "            }\n",
    "        },\n",
    "        \"taken_offer\": null,\n",
    "        \"trade_id\": \"0x14cb86ac3f5c47e5dfd973de7b45f78607dd95d0e3dbc842b1a8704611393357\"\n",
    "    }\n",
    "}\n",
    "```"
   ]
  },
  {
   "cell_type": "markdown",
   "id": "32473ffe-d3cc-4aad-aadc-55b273300be9",
   "metadata": {
    "jupyter": {
     "source_hidden": true
    },
    "tags": []
   },
   "source": [
    "## bob\n",
    "```sh\n",
    "❯ chia rpc wallet create_offer_for_ids '{ \"offer\": {\"2\": 10000, \"1\": -1000123 }}'\n",
    "{\n",
    "    \"offer\": \"offer1qqzh3wcuu2rykcmqvpsxygqq3f83n7r00nl8ymkvq2nuhwmul6la7ul0u39l25ukca0l7wmpww5t6ngr5c8dunsa4h75w6ll68d8ld8kr7kl63mtlllsx40msv9lwp0xlvlz00rtd56dud3hxf4y9m53trr02q0xw0tsd3hdpnkd5hfr4d2s24dkc0cq9cuan8ulxmeyv4hegw6akdn9u4nylg6wr7jtlgl3smu5ujwefqzkzkp6532pvs9cy3sna2xppxg949eefamkr44rcu8jhmvq47dgca80c7d7rmtd9z77d7uxavwlcnnc706s39qlag3gl9nm8azdpwhwsx42xmejexjncs5ufa2cd2clfcuf6aduakuzcaeqs2crtx5v6cjjya3xnajmupfz7cavwtver95tjmfhujrvnsewmummv08gec7fk65s5muk25vx0wjeu3zw7t9cachlv7hdcm9szqjnma64gxr9x8xz5erqvz7t35h2acqeffk2wp0gupek0pplkxa7mgh5n3n85vts58key5sr7w7qm7sj82tlp7h635eh38djjusmp6km4lah0ek77eslawe5d2mhtftg8dfkgrf0flc9hv0rjf4amudadhae5l9gglwxxtqaurcj7dmral53t97ku5w4elulm90ln0ue6a3hsz2ev6dajjaju7x24z3cnjtvg7ymcutnwhycdny7sjrav03uhxfl96mcl7msrs6l0vmvs7eklut4cmtdxhc7a7092wa46ae2zldhldhel9aqlmq04e6l5xdmu2axce9899gftl0lq40axfhflrvn2hxcu42ngllek0jm4jct0rhng8wkuz0ta48f75gua8zruqq9mu0h37pvp3fmd8t5a3xe8nak4w083yqc7988wj9jf228mwhfge5ahl3ttuk6sj6e7es2ea93f06nkfwarpltfkzvrmxggvl3tremrewwe43pw8u0huuz9ddcf8h4xmvpd67c43ldm4jkmx3t7a8dxvt2dwckwwfs4ycpz2j8z5gtu7c87\",\n",
    "    \"success\": true,\n",
    "    \"trade_record\": {\n",
    "        \"accepted_at_time\": null,\n",
    "        \"coins_of_interest\": [\n",
    "            {\n",
    "                \"amount\": 1999999000000,\n",
    "                \"parent_coin_info\": \"0x2b04347e143936fb10d28d015d2376c484d13996f818b19496f3ef330968c763\",\n",
    "                \"puzzle_hash\": \"0x3d6520eca678336946386c5bb970d74f16ebadb1d3501095ee8878326a009a71\"\n",
    "            }\n",
    "        ],\n",
    "        \"confirmed_at_index\": 0,\n",
    "        \"created_at_time\": 1673976873,\n",
    "        \"is_my_offer\": true,\n",
    "        \"pending\": {\n",
    "            \"xch\": 1999999000000\n",
    "        },\n",
    "        \"sent\": 0,\n",
    "        \"sent_to\": [],\n",
    "        \"status\": \"PENDING_ACCEPT\",\n",
    "        \"summary\": {\n",
    "            \"fees\": 0,\n",
    "            \"infos\": {\n",
    "                \"b831d001dc996f9fd8626bb11ecb7cac9e6a596796137fd22ff801d8746ec918\": {\n",
    "                    \"tail\": \"0xb831d001dc996f9fd8626bb11ecb7cac9e6a596796137fd22ff801d8746ec918\",\n",
    "                    \"type\": \"CAT\"\n",
    "                }\n",
    "            },\n",
    "            \"offered\": {\n",
    "                \"xch\": 1000123\n",
    "            },\n",
    "            \"requested\": {\n",
    "                \"b831d001dc996f9fd8626bb11ecb7cac9e6a596796137fd22ff801d8746ec918\": 10000\n",
    "            }\n",
    "        },\n",
    "        \"taken_offer\": null,\n",
    "        \"trade_id\": \"0x38f6ead46bc4f9d809142b3d85cca25f603b2eeb389cedc437ba9aaeaff36614\"\n",
    "    }\n",
    "}\n",
    "```"
   ]
  },
  {
   "cell_type": "code",
   "execution_count": 1,
   "id": "4b368762-2b3b-47d7-b26c-071e01bc759a",
   "metadata": {},
   "outputs": [],
   "source": [
    "alice_offer_hex = \"offer1qqzh3wcuu2rykcmqvpsxygqqwc7hynr6hum6e0mnf72sn7uvvkpt68eyumkhelprk0adeg42nlelk2mpagr90qq0a37v8lc980la7d8u0q65lfa57l7myn2j55t42fet2m04u9de4trhmjargwtdae2qyhxrvhdz6v0fe0awkvlklsuy7n8qlf6kjln6lnvuvhmxa0ky5kyatnrkl7dln8tksvksj22tun5vjhs5lfdkm0vxecw5wg70h9hkm3tdaemxwk09wfw06y83vdfl9ma7g4xvhfjcneln26g78drafy46tlk4mw02kujc7d9nrxned9vquwra7tszzez6xrd56yrd56qrdk6gzdk6gpp57narp5605dwsczzlkqhn0k038h44xcdxlxcmry6jra6g9n3l5q8nh94s8cmkqemwmt536k4gy2kmv9ugruwwen70jdujkgmu48dwtyej72ej0kd8plf9l50ccd627f8y5s9tptjq5m3c47esxxauv8ne6jclwvhs3vtgw59tynxlkdm22ux5663u6jhthm7dj9l7vlfmw56dra4j7hlu5gt8w62tc9zmw4lt4wnv83nggyrrgsq6vhl3wyr2m7qu0ksg9vpejzf5f49mzsyqv79trpkrhc0fae774d8t6e6uyl62j6c047yxdcqm9dm4j8nq5drdcqag6nn0lq587ms7l0570ze73zdaswake65zm5hqzn669h84ad65840edh4sd0p54gp2l0lskv5wnml8c27gl0867k5mst4xmz6khc8s7lp40wr2na89w2dufs4fhw8yxyh7luzl06nhpwjajlr6uufn3fl84zc0ngdygz87kr7aelhetc50mr2p3uk27hls9uf0zflxtwu7xympgz6hx865m7wxlrjkxk4m6lvc99hqc0ze07a92fqw6tv8smlsk7q7075a6kx4hncgez2mmtffmqjk05mla32tgke9c0put5cfp9ummygxsxdpqmvl7pvynfjypjlvgr6syy2xrkkhhd322j7w3n0xxvu4kse0ntt2sp37ht4mzexzw34uwhuhmq7wwm5prgzs4pef0ejukk466wndfp3v0da0fzkfl3y3ne72n5t7ca4k4au4tsjuxw97lay08nn9pd30r9uh6qv0fntrc7p9n3l7rhql6yaewnn7zufxhxd67s0m0u6r6a7w0l4arxlnmwnkl37v22rglf74twx95g8s0kmmxckj48l0pyqrgzq86g5qq9gm\"\n",
    "bob_offer_hex = \"offer1qqzh3wcuu2rykcmqvpsxygqq3f83n7r00nl8ymkvq2nuhwmul6la7ul0u39l25ukca0l7wmpww5t6ngr5c8dunsa4h75w6ll68d8ld8kr7kl63mtlllsx40msv9lwp0xlvlz00rtd56dud3hxf4y9m53trr02q0xw0tsd3hdpnkd5hfr4d2s24dkc0cq9cuan8ulxmeyv4hegw6akdn9u4nylg6wr7jtlgl3smu5ujwefqzkzkp6532pvs9cy3sna2xppxg949eefamkr44rcu8jhmvq47dgca80c7d7rmtd9z77d7uxavwlcnnc706s39qlag3gl9nm8azdpwhwsx42xmejexjncs5ufa2cd2clfcuf6aduakuzcaeqs2crtx5v6cjjya3xnajmupfz7cavwtver95tjmfhujrvnsewmummv08gec7fk65s5muk25vx0wjeu3zw7t9cachlv7hdcm9szqjnma64gxr9x8xz5erqvz7t35h2acqeffk2wp0gupek0pplkxa7mgh5n3n85vts58key5sr7w7qm7sj82tlp7h635eh38djjusmp6km4lah0ek77eslawe5d2mhtftg8dfkgrf0flc9hv0rjf4amudadhae5l9gglwxxtqaurcj7dmral53t97ku5w4elulm90ln0ue6a3hsz2ev6dajjaju7x24z3cnjtvg7ymcutnwhycdny7sjrav03uhxfl96mcl7msrs6l0vmvs7eklut4cmtdxhc7a7092wa46ae2zldhldhel9aqlmq04e6l5xdmu2axce9899gftl0lq40axfhflrvn2hxcu42ngllek0jm4jct0rhng8wkuz0ta48f75gua8zruqq9mu0h37pvp3fmd8t5a3xe8nak4w083yqc7988wj9jf228mwhfge5ahl3ttuk6sj6e7es2ea93f06nkfwarpltfkzvrmxggvl3tremrewwe43pw8u0huuz9ddcf8h4xmvpd67c43ldm4jkmx3t7a8dxvt2dwckwwfs4ycpz2j8z5gtu7c87\""
   ]
  },
  {
   "cell_type": "code",
   "execution_count": 3,
   "id": "c07b0c40-d869-44e1-8803-3b6f220167f6",
   "metadata": {},
   "outputs": [
    {
     "name": "stdout",
     "output_type": "stream",
     "text": [
      "Notarized Payment:\n"
     ]
    },
    {
     "data": {
      "text/html": [
       "<pre style=\"white-space:pre;overflow-x:auto;line-height:normal;font-family:Menlo,'DejaVu Sans Mono',consolas,'Courier New',monospace\"><span style=\"color: #f8f8f2; text-decoration-color: #f8f8f2; background-color: #272822\">(</span><span style=\"color: #a6e22e; text-decoration-color: #a6e22e; background-color: #272822\">CREATE_COIN</span><span style=\"color: #f8f8f2; text-decoration-color: #f8f8f2; background-color: #272822\"> </span><span style=\"color: #ae81ff; text-decoration-color: #ae81ff; background-color: #272822\">0</span><span style=\"color: #f8f8f2; text-decoration-color: #f8f8f2; background-color: #272822\">x033c8a1596e0cfd72cbf6eb0906789f0caab776fad699a36ee9f18d2917b033e </span><span style=\"color: #ae81ff; text-decoration-color: #ae81ff; background-color: #272822\">0</span><span style=\"color: #f8f8f2; text-decoration-color: #f8f8f2; background-color: #272822\">x0f42bb ())</span><span style=\"background-color: #272822\">                       </span>\n",
       "</pre>\n"
      ],
      "text/plain": [
       "\u001b[38;2;248;248;242;48;2;39;40;34m(\u001b[0m\u001b[38;2;166;226;46;48;2;39;40;34mCREATE_COIN\u001b[0m\u001b[38;2;248;248;242;48;2;39;40;34m \u001b[0m\u001b[38;2;174;129;255;48;2;39;40;34m0\u001b[0m\u001b[38;2;248;248;242;48;2;39;40;34mx033c8a1596e0cfd72cbf6eb0906789f0caab776fad699a36ee9f18d2917b033e\u001b[0m\u001b[38;2;248;248;242;48;2;39;40;34m \u001b[0m\u001b[38;2;174;129;255;48;2;39;40;34m0\u001b[0m\u001b[38;2;248;248;242;48;2;39;40;34mx0f42bb\u001b[0m\u001b[38;2;248;248;242;48;2;39;40;34m \u001b[0m\u001b[38;2;248;248;242;48;2;39;40;34m(\u001b[0m\u001b[38;2;248;248;242;48;2;39;40;34m)\u001b[0m\u001b[38;2;248;248;242;48;2;39;40;34m)\u001b[0m\u001b[48;2;39;40;34m                       \u001b[0m\n"
      ]
     },
     "metadata": {},
     "output_type": "display_data"
    },
    {
     "name": "stdout",
     "output_type": "stream",
     "text": [
      "CoinSpend:\n",
      "Coin:\n",
      "0ce3f47db17a83a1cc344666a5b9113a8ed8fe5f1a5904d1c39711510d0b0331\n",
      "Coin { parent_coin_info: 547661088c6ba255fb26af282cdc4132499ded3d173cdd8b6a3a6d08d5f058f8, puzzle_hash: b263fb8ea202a69439cfea929e07085aa47efa878a6d27db19c4830633657674, amount: 999000 }\n",
      "\n",
      "Conditions\n"
     ]
    },
    {
     "data": {
      "text/html": [
       "<pre style=\"white-space:pre;overflow-x:auto;line-height:normal;font-family:Menlo,'DejaVu Sans Mono',consolas,'Courier New',monospace\"><span style=\"color: #f8f8f2; text-decoration-color: #f8f8f2; background-color: #272822\">(</span><span style=\"color: #a6e22e; text-decoration-color: #a6e22e; background-color: #272822\">ASSERT_MY_COIN_ID</span><span style=\"color: #f8f8f2; text-decoration-color: #f8f8f2; background-color: #272822\"> </span><span style=\"color: #ae81ff; text-decoration-color: #ae81ff; background-color: #272822\">0</span><span style=\"color: #f8f8f2; text-decoration-color: #f8f8f2; background-color: #272822\">x0ce3f47db17a83a1cc344666a5b9113a8ed8fe5f1a5904d1c39711510d0b0331)</span><span style=\"background-color: #272822\">                             </span>\n",
       "</pre>\n"
      ],
      "text/plain": [
       "\u001b[38;2;248;248;242;48;2;39;40;34m(\u001b[0m\u001b[38;2;166;226;46;48;2;39;40;34mASSERT_MY_COIN_ID\u001b[0m\u001b[38;2;248;248;242;48;2;39;40;34m \u001b[0m\u001b[38;2;174;129;255;48;2;39;40;34m0\u001b[0m\u001b[38;2;248;248;242;48;2;39;40;34mx0ce3f47db17a83a1cc344666a5b9113a8ed8fe5f1a5904d1c39711510d0b0331\u001b[0m\u001b[38;2;248;248;242;48;2;39;40;34m)\u001b[0m\u001b[48;2;39;40;34m                             \u001b[0m\n"
      ]
     },
     "metadata": {},
     "output_type": "display_data"
    },
    {
     "data": {
      "text/html": [
       "<pre style=\"white-space:pre;overflow-x:auto;line-height:normal;font-family:Menlo,'DejaVu Sans Mono',consolas,'Courier New',monospace\"><span style=\"color: #f8f8f2; text-decoration-color: #f8f8f2; background-color: #272822\">(</span><span style=\"color: #a6e22e; text-decoration-color: #a6e22e; background-color: #272822\">CREATE_COIN_ANNOUNCEMENT</span><span style=\"color: #f8f8f2; text-decoration-color: #f8f8f2; background-color: #272822\"> </span><span style=\"color: #ae81ff; text-decoration-color: #ae81ff; background-color: #272822\">0</span><span style=\"color: #f8f8f2; text-decoration-color: #f8f8f2; background-color: #272822\">xcbb5f3bcf8388ac740e0668c095244ea394f5142836df39296bdc0a9c70e1580b6)</span><span style=\"background-color: #272822\">                    </span>\n",
       "</pre>\n"
      ],
      "text/plain": [
       "\u001b[38;2;248;248;242;48;2;39;40;34m(\u001b[0m\u001b[38;2;166;226;46;48;2;39;40;34mCREATE_COIN_ANNOUNCEMENT\u001b[0m\u001b[38;2;248;248;242;48;2;39;40;34m \u001b[0m\u001b[38;2;174;129;255;48;2;39;40;34m0\u001b[0m\u001b[38;2;248;248;242;48;2;39;40;34mxcbb5f3bcf8388ac740e0668c095244ea394f5142836df39296bdc0a9c70e1580b6\u001b[0m\u001b[38;2;248;248;242;48;2;39;40;34m)\u001b[0m\u001b[48;2;39;40;34m                    \u001b[0m\n"
      ]
     },
     "metadata": {},
     "output_type": "display_data"
    },
    {
     "data": {
      "text/html": [
       "<pre style=\"white-space:pre;overflow-x:auto;line-height:normal;font-family:Menlo,'DejaVu Sans Mono',consolas,'Courier New',monospace\"><span style=\"color: #f8f8f2; text-decoration-color: #f8f8f2; background-color: #272822\">(</span><span style=\"color: #a6e22e; text-decoration-color: #a6e22e; background-color: #272822\">ASSERT_COIN_ANNOUNCEMENT</span><span style=\"color: #f8f8f2; text-decoration-color: #f8f8f2; background-color: #272822\"> </span><span style=\"color: #ae81ff; text-decoration-color: #ae81ff; background-color: #272822\">0</span><span style=\"color: #f8f8f2; text-decoration-color: #f8f8f2; background-color: #272822\">xa963c01a3e9d3b1a248184ff3bc70e4d0d5a54c3150f0312e28e68655a1fcc3c)</span><span style=\"background-color: #272822\">                      </span>\n",
       "</pre>\n"
      ],
      "text/plain": [
       "\u001b[38;2;248;248;242;48;2;39;40;34m(\u001b[0m\u001b[38;2;166;226;46;48;2;39;40;34mASSERT_COIN_ANNOUNCEMENT\u001b[0m\u001b[38;2;248;248;242;48;2;39;40;34m \u001b[0m\u001b[38;2;174;129;255;48;2;39;40;34m0\u001b[0m\u001b[38;2;248;248;242;48;2;39;40;34mxa963c01a3e9d3b1a248184ff3bc70e4d0d5a54c3150f0312e28e68655a1fcc3c\u001b[0m\u001b[38;2;248;248;242;48;2;39;40;34m)\u001b[0m\u001b[48;2;39;40;34m                      \u001b[0m\n"
      ]
     },
     "metadata": {},
     "output_type": "display_data"
    },
    {
     "data": {
      "text/html": [
       "<pre style=\"white-space:pre;overflow-x:auto;line-height:normal;font-family:Menlo,'DejaVu Sans Mono',consolas,'Courier New',monospace\"><span style=\"color: #f8f8f2; text-decoration-color: #f8f8f2; background-color: #272822\">(</span><span style=\"color: #a6e22e; text-decoration-color: #a6e22e; background-color: #272822\">AGG_SIG_ME</span><span style=\"color: #f8f8f2; text-decoration-color: #f8f8f2; background-color: #272822\"> </span><span style=\"color: #ae81ff; text-decoration-color: #ae81ff; background-color: #272822\">0</span><span style=\"color: #f8f8f2; text-decoration-color: #f8f8f2; background-color: #272822\">xb9dcd2f16dd012042a89110497bcada9135ab5c58322aef4fcbe57fcb2f6ca82f17dd3d1f4265ed2b470d146eaaf7a97 </span><span style=\"background-color: #272822\">    </span>\n",
       "<span style=\"color: #ae81ff; text-decoration-color: #ae81ff; background-color: #272822\">0</span><span style=\"color: #f8f8f2; text-decoration-color: #f8f8f2; background-color: #272822\">x93190e7ce7f68990965cacf00a530e794afd9656a8c46a52e24acdce753dc194)</span><span style=\"background-color: #272822\">                                                </span>\n",
       "</pre>\n"
      ],
      "text/plain": [
       "\u001b[38;2;248;248;242;48;2;39;40;34m(\u001b[0m\u001b[38;2;166;226;46;48;2;39;40;34mAGG_SIG_ME\u001b[0m\u001b[38;2;248;248;242;48;2;39;40;34m \u001b[0m\u001b[38;2;174;129;255;48;2;39;40;34m0\u001b[0m\u001b[38;2;248;248;242;48;2;39;40;34mxb9dcd2f16dd012042a89110497bcada9135ab5c58322aef4fcbe57fcb2f6ca82f17dd3d1f4265ed2b470d146eaaf7a97\u001b[0m\u001b[38;2;248;248;242;48;2;39;40;34m \u001b[0m\u001b[48;2;39;40;34m    \u001b[0m\n",
       "\u001b[38;2;174;129;255;48;2;39;40;34m0\u001b[0m\u001b[38;2;248;248;242;48;2;39;40;34mx93190e7ce7f68990965cacf00a530e794afd9656a8c46a52e24acdce753dc194\u001b[0m\u001b[38;2;248;248;242;48;2;39;40;34m)\u001b[0m\u001b[48;2;39;40;34m                                                \u001b[0m\n"
      ]
     },
     "metadata": {},
     "output_type": "display_data"
    },
    {
     "data": {
      "text/html": [
       "<pre style=\"white-space:pre;overflow-x:auto;line-height:normal;font-family:Menlo,'DejaVu Sans Mono',consolas,'Courier New',monospace\"><span style=\"color: #f8f8f2; text-decoration-color: #f8f8f2; background-color: #272822\">(</span><span style=\"color: #a6e22e; text-decoration-color: #a6e22e; background-color: #272822\">CREATE_COIN</span><span style=\"color: #f8f8f2; text-decoration-color: #f8f8f2; background-color: #272822\"> </span><span style=\"color: #ae81ff; text-decoration-color: #ae81ff; background-color: #272822\">0</span><span style=\"color: #f8f8f2; text-decoration-color: #f8f8f2; background-color: #272822\">x73ca304fb1e7e99d5ca042d3ba4cffefbcdec9e927ca39c7ebfec83cc2878628 </span><span style=\"color: #ae81ff; text-decoration-color: #ae81ff; background-color: #272822\">10000</span><span style=\"color: #f8f8f2; text-decoration-color: #f8f8f2; background-color: #272822\"> </span><span style=\"background-color: #272822\">                             </span>\n",
       "<span style=\"color: #f8f8f2; text-decoration-color: #f8f8f2; background-color: #272822\">(</span><span style=\"color: #ae81ff; text-decoration-color: #ae81ff; background-color: #272822\">0</span><span style=\"color: #f8f8f2; text-decoration-color: #f8f8f2; background-color: #272822\">xbae24162efbd568f89bc7a340798a6118df0189eb9e3f8697bcea27af99f8f79))</span><span style=\"background-color: #272822\">                                              </span>\n",
       "</pre>\n"
      ],
      "text/plain": [
       "\u001b[38;2;248;248;242;48;2;39;40;34m(\u001b[0m\u001b[38;2;166;226;46;48;2;39;40;34mCREATE_COIN\u001b[0m\u001b[38;2;248;248;242;48;2;39;40;34m \u001b[0m\u001b[38;2;174;129;255;48;2;39;40;34m0\u001b[0m\u001b[38;2;248;248;242;48;2;39;40;34mx73ca304fb1e7e99d5ca042d3ba4cffefbcdec9e927ca39c7ebfec83cc2878628\u001b[0m\u001b[38;2;248;248;242;48;2;39;40;34m \u001b[0m\u001b[38;2;174;129;255;48;2;39;40;34m10000\u001b[0m\u001b[38;2;248;248;242;48;2;39;40;34m \u001b[0m\u001b[48;2;39;40;34m                             \u001b[0m\n",
       "\u001b[38;2;248;248;242;48;2;39;40;34m(\u001b[0m\u001b[38;2;174;129;255;48;2;39;40;34m0\u001b[0m\u001b[38;2;248;248;242;48;2;39;40;34mxbae24162efbd568f89bc7a340798a6118df0189eb9e3f8697bcea27af99f8f79\u001b[0m\u001b[38;2;248;248;242;48;2;39;40;34m)\u001b[0m\u001b[38;2;248;248;242;48;2;39;40;34m)\u001b[0m\u001b[48;2;39;40;34m                                              \u001b[0m\n"
      ]
     },
     "metadata": {},
     "output_type": "display_data"
    },
    {
     "data": {
      "text/html": [
       "<pre style=\"white-space:pre;overflow-x:auto;line-height:normal;font-family:Menlo,'DejaVu Sans Mono',consolas,'Courier New',monospace\"><span style=\"color: #f8f8f2; text-decoration-color: #f8f8f2; background-color: #272822\">(</span><span style=\"color: #a6e22e; text-decoration-color: #a6e22e; background-color: #272822\">CREATE_COIN</span><span style=\"color: #f8f8f2; text-decoration-color: #f8f8f2; background-color: #272822\"> </span><span style=\"color: #ae81ff; text-decoration-color: #ae81ff; background-color: #272822\">0</span><span style=\"color: #f8f8f2; text-decoration-color: #f8f8f2; background-color: #272822\">x3670e05085da35b80c74567f24c642e2218e5f797ecf6e96ae5c63e6b6e540f6 </span><span style=\"color: #ae81ff; text-decoration-color: #ae81ff; background-color: #272822\">0</span><span style=\"color: #f8f8f2; text-decoration-color: #f8f8f2; background-color: #272822\">x0f1748)</span><span style=\"background-color: #272822\">                          </span>\n",
       "</pre>\n"
      ],
      "text/plain": [
       "\u001b[38;2;248;248;242;48;2;39;40;34m(\u001b[0m\u001b[38;2;166;226;46;48;2;39;40;34mCREATE_COIN\u001b[0m\u001b[38;2;248;248;242;48;2;39;40;34m \u001b[0m\u001b[38;2;174;129;255;48;2;39;40;34m0\u001b[0m\u001b[38;2;248;248;242;48;2;39;40;34mx3670e05085da35b80c74567f24c642e2218e5f797ecf6e96ae5c63e6b6e540f6\u001b[0m\u001b[38;2;248;248;242;48;2;39;40;34m \u001b[0m\u001b[38;2;174;129;255;48;2;39;40;34m0\u001b[0m\u001b[38;2;248;248;242;48;2;39;40;34mx0f1748\u001b[0m\u001b[38;2;248;248;242;48;2;39;40;34m)\u001b[0m\u001b[48;2;39;40;34m                          \u001b[0m\n"
      ]
     },
     "metadata": {},
     "output_type": "display_data"
    },
    {
     "data": {
      "text/html": [
       "<pre style=\"white-space:pre;overflow-x:auto;line-height:normal;font-family:Menlo,'DejaVu Sans Mono',consolas,'Courier New',monospace\"><span style=\"color: #f8f8f2; text-decoration-color: #f8f8f2; background-color: #272822\">(</span><span style=\"color: #a6e22e; text-decoration-color: #a6e22e; background-color: #272822\">CREATE_COIN_ANNOUNCEMENT</span><span style=\"color: #f8f8f2; text-decoration-color: #f8f8f2; background-color: #272822\"> </span><span style=\"color: #ae81ff; text-decoration-color: #ae81ff; background-color: #272822\">0</span><span style=\"color: #f8f8f2; text-decoration-color: #f8f8f2; background-color: #272822\">xe13f57eef5c8eca2e43f40471d65a0bb4450e48539cdd73925cf766780bab0a9)</span><span style=\"background-color: #272822\">                      </span>\n",
       "</pre>\n"
      ],
      "text/plain": [
       "\u001b[38;2;248;248;242;48;2;39;40;34m(\u001b[0m\u001b[38;2;166;226;46;48;2;39;40;34mCREATE_COIN_ANNOUNCEMENT\u001b[0m\u001b[38;2;248;248;242;48;2;39;40;34m \u001b[0m\u001b[38;2;174;129;255;48;2;39;40;34m0\u001b[0m\u001b[38;2;248;248;242;48;2;39;40;34mxe13f57eef5c8eca2e43f40471d65a0bb4450e48539cdd73925cf766780bab0a9\u001b[0m\u001b[38;2;248;248;242;48;2;39;40;34m)\u001b[0m\u001b[48;2;39;40;34m                      \u001b[0m\n"
      ]
     },
     "metadata": {},
     "output_type": "display_data"
    },
    {
     "data": {
      "text/html": [
       "<pre style=\"white-space:pre;overflow-x:auto;line-height:normal;font-family:Menlo,'DejaVu Sans Mono',consolas,'Courier New',monospace\"><span style=\"color: #f8f8f2; text-decoration-color: #f8f8f2; background-color: #272822\">(</span><span style=\"color: #a6e22e; text-decoration-color: #a6e22e; background-color: #272822\">ASSERT_PUZZLE_ANNOUNCEMENT</span><span style=\"color: #f8f8f2; text-decoration-color: #f8f8f2; background-color: #272822\"> </span><span style=\"color: #ae81ff; text-decoration-color: #ae81ff; background-color: #272822\">0</span><span style=\"color: #f8f8f2; text-decoration-color: #f8f8f2; background-color: #272822\">x68c5cbf3da524bfcfa7d3c707bb6a2a9ef5751ea9b98351bd3773c617195bac7)</span><span style=\"background-color: #272822\">                    </span>\n",
       "</pre>\n"
      ],
      "text/plain": [
       "\u001b[38;2;248;248;242;48;2;39;40;34m(\u001b[0m\u001b[38;2;166;226;46;48;2;39;40;34mASSERT_PUZZLE_ANNOUNCEMENT\u001b[0m\u001b[38;2;248;248;242;48;2;39;40;34m \u001b[0m\u001b[38;2;174;129;255;48;2;39;40;34m0\u001b[0m\u001b[38;2;248;248;242;48;2;39;40;34mx68c5cbf3da524bfcfa7d3c707bb6a2a9ef5751ea9b98351bd3773c617195bac7\u001b[0m\u001b[38;2;248;248;242;48;2;39;40;34m)\u001b[0m\u001b[48;2;39;40;34m                    \u001b[0m\n"
      ]
     },
     "metadata": {},
     "output_type": "display_data"
    },
    {
     "name": "stdout",
     "output_type": "stream",
     "text": [
      "\n",
      "Additions:\n",
      "Coin { parent_coin_info: 0ce3f47db17a83a1cc344666a5b9113a8ed8fe5f1a5904d1c39711510d0b0331, puzzle_hash: 73ca304fb1e7e99d5ca042d3ba4cffefbcdec9e927ca39c7ebfec83cc2878628, amount: 10000 }\n",
      "Coin { parent_coin_info: 0ce3f47db17a83a1cc344666a5b9113a8ed8fe5f1a5904d1c39711510d0b0331, puzzle_hash: 3670e05085da35b80c74567f24c642e2218e5f797ecf6e96ae5c63e6b6e540f6, amount: 989000 }\n",
      "\n",
      "Removals:\n",
      "Coin { parent_coin_info: 547661088c6ba255fb26af282cdc4132499ded3d173cdd8b6a3a6d08d5f058f8, puzzle_hash: b263fb8ea202a69439cfea929e07085aa47efa878a6d27db19c4830633657674, amount: 999000 }\n",
      "Driver Dict:\n",
      "PuzzleInfo(info={'type': 'CAT', 'tail': '0xb831d001dc996f9fd8626bb11ecb7cac9e6a596796137fd22ff801d8746ec918'})\n"
     ]
    }
   ],
   "source": [
    "# offer 10 ALCE, request 1000123 mojos\n",
    "alice_offer = Offer.from_bech32(alice_offer_hex)\n",
    "print_offer(alice_offer)"
   ]
  },
  {
   "cell_type": "code",
   "execution_count": 4,
   "id": "d7d948e6-77df-499f-929d-75c3a41aa5bc",
   "metadata": {
    "tags": []
   },
   "outputs": [
    {
     "name": "stdout",
     "output_type": "stream",
     "text": [
      "Notarized Payment:\n"
     ]
    },
    {
     "data": {
      "text/html": [
       "<pre style=\"white-space:pre;overflow-x:auto;line-height:normal;font-family:Menlo,'DejaVu Sans Mono',consolas,'Courier New',monospace\"><span style=\"color: #f8f8f2; text-decoration-color: #f8f8f2; background-color: #272822\">(</span><span style=\"color: #a6e22e; text-decoration-color: #a6e22e; background-color: #272822\">CREATE_COIN</span><span style=\"color: #f8f8f2; text-decoration-color: #f8f8f2; background-color: #272822\"> </span><span style=\"color: #ae81ff; text-decoration-color: #ae81ff; background-color: #272822\">0</span><span style=\"color: #f8f8f2; text-decoration-color: #f8f8f2; background-color: #272822\">x306fa25a1fe69a2f3570d42d3125830ca29c7209120ae31aa31be391d784cf3d </span><span style=\"color: #ae81ff; text-decoration-color: #ae81ff; background-color: #272822\">10000</span><span style=\"color: #f8f8f2; text-decoration-color: #f8f8f2; background-color: #272822\"> </span><span style=\"background-color: #272822\">                             </span>\n",
       "<span style=\"color: #f8f8f2; text-decoration-color: #f8f8f2; background-color: #272822\">(</span><span style=\"color: #ae81ff; text-decoration-color: #ae81ff; background-color: #272822\">0</span><span style=\"color: #f8f8f2; text-decoration-color: #f8f8f2; background-color: #272822\">x306fa25a1fe69a2f3570d42d3125830ca29c7209120ae31aa31be391d784cf3d))</span><span style=\"background-color: #272822\">                                              </span>\n",
       "</pre>\n"
      ],
      "text/plain": [
       "\u001b[38;2;248;248;242;48;2;39;40;34m(\u001b[0m\u001b[38;2;166;226;46;48;2;39;40;34mCREATE_COIN\u001b[0m\u001b[38;2;248;248;242;48;2;39;40;34m \u001b[0m\u001b[38;2;174;129;255;48;2;39;40;34m0\u001b[0m\u001b[38;2;248;248;242;48;2;39;40;34mx306fa25a1fe69a2f3570d42d3125830ca29c7209120ae31aa31be391d784cf3d\u001b[0m\u001b[38;2;248;248;242;48;2;39;40;34m \u001b[0m\u001b[38;2;174;129;255;48;2;39;40;34m10000\u001b[0m\u001b[38;2;248;248;242;48;2;39;40;34m \u001b[0m\u001b[48;2;39;40;34m                             \u001b[0m\n",
       "\u001b[38;2;248;248;242;48;2;39;40;34m(\u001b[0m\u001b[38;2;174;129;255;48;2;39;40;34m0\u001b[0m\u001b[38;2;248;248;242;48;2;39;40;34mx306fa25a1fe69a2f3570d42d3125830ca29c7209120ae31aa31be391d784cf3d\u001b[0m\u001b[38;2;248;248;242;48;2;39;40;34m)\u001b[0m\u001b[38;2;248;248;242;48;2;39;40;34m)\u001b[0m\u001b[48;2;39;40;34m                                              \u001b[0m\n"
      ]
     },
     "metadata": {},
     "output_type": "display_data"
    },
    {
     "name": "stdout",
     "output_type": "stream",
     "text": [
      "CoinSpend:\n",
      "Coin:\n",
      "1be481bb026b30cd58340d80edaf306f5dea69597023925d3c01d7949c49edc6\n",
      "Coin { parent_coin_info: 2b04347e143936fb10d28d015d2376c484d13996f818b19496f3ef330968c763, puzzle_hash: 3d6520eca678336946386c5bb970d74f16ebadb1d3501095ee8878326a009a71, amount: 1999999000000 }\n",
      "\n",
      "Conditions\n"
     ]
    },
    {
     "data": {
      "text/html": [
       "<pre style=\"white-space:pre;overflow-x:auto;line-height:normal;font-family:Menlo,'DejaVu Sans Mono',consolas,'Courier New',monospace\"><span style=\"color: #f8f8f2; text-decoration-color: #f8f8f2; background-color: #272822\">(</span><span style=\"color: #a6e22e; text-decoration-color: #a6e22e; background-color: #272822\">AGG_SIG_ME</span><span style=\"color: #f8f8f2; text-decoration-color: #f8f8f2; background-color: #272822\"> </span><span style=\"color: #ae81ff; text-decoration-color: #ae81ff; background-color: #272822\">0</span><span style=\"color: #f8f8f2; text-decoration-color: #f8f8f2; background-color: #272822\">x87ec0e7df46233cd5ba111c4ba101f9b504f4088628fbc0d1542f618db641eb0c2aadffd7fad8db34c3bcd32abb9397b </span><span style=\"background-color: #272822\">    </span>\n",
       "<span style=\"color: #ae81ff; text-decoration-color: #ae81ff; background-color: #272822\">0</span><span style=\"color: #f8f8f2; text-decoration-color: #f8f8f2; background-color: #272822\">x4a27472735b4152d12556407c5ffda6c365bd3f29bb4be9670b1f33883891c85)</span><span style=\"background-color: #272822\">                                                </span>\n",
       "</pre>\n"
      ],
      "text/plain": [
       "\u001b[38;2;248;248;242;48;2;39;40;34m(\u001b[0m\u001b[38;2;166;226;46;48;2;39;40;34mAGG_SIG_ME\u001b[0m\u001b[38;2;248;248;242;48;2;39;40;34m \u001b[0m\u001b[38;2;174;129;255;48;2;39;40;34m0\u001b[0m\u001b[38;2;248;248;242;48;2;39;40;34mx87ec0e7df46233cd5ba111c4ba101f9b504f4088628fbc0d1542f618db641eb0c2aadffd7fad8db34c3bcd32abb9397b\u001b[0m\u001b[38;2;248;248;242;48;2;39;40;34m \u001b[0m\u001b[48;2;39;40;34m    \u001b[0m\n",
       "\u001b[38;2;174;129;255;48;2;39;40;34m0\u001b[0m\u001b[38;2;248;248;242;48;2;39;40;34mx4a27472735b4152d12556407c5ffda6c365bd3f29bb4be9670b1f33883891c85\u001b[0m\u001b[38;2;248;248;242;48;2;39;40;34m)\u001b[0m\u001b[48;2;39;40;34m                                                \u001b[0m\n"
      ]
     },
     "metadata": {},
     "output_type": "display_data"
    },
    {
     "data": {
      "text/html": [
       "<pre style=\"white-space:pre;overflow-x:auto;line-height:normal;font-family:Menlo,'DejaVu Sans Mono',consolas,'Courier New',monospace\"><span style=\"color: #f8f8f2; text-decoration-color: #f8f8f2; background-color: #272822\">(</span><span style=\"color: #a6e22e; text-decoration-color: #a6e22e; background-color: #272822\">CREATE_COIN</span><span style=\"color: #f8f8f2; text-decoration-color: #f8f8f2; background-color: #272822\"> </span><span style=\"color: #ae81ff; text-decoration-color: #ae81ff; background-color: #272822\">0</span><span style=\"color: #f8f8f2; text-decoration-color: #f8f8f2; background-color: #272822\">xbae24162efbd568f89bc7a340798a6118df0189eb9e3f8697bcea27af99f8f79 </span><span style=\"color: #ae81ff; text-decoration-color: #ae81ff; background-color: #272822\">0</span><span style=\"color: #f8f8f2; text-decoration-color: #f8f8f2; background-color: #272822\">x0f42bb)</span><span style=\"background-color: #272822\">                          </span>\n",
       "</pre>\n"
      ],
      "text/plain": [
       "\u001b[38;2;248;248;242;48;2;39;40;34m(\u001b[0m\u001b[38;2;166;226;46;48;2;39;40;34mCREATE_COIN\u001b[0m\u001b[38;2;248;248;242;48;2;39;40;34m \u001b[0m\u001b[38;2;174;129;255;48;2;39;40;34m0\u001b[0m\u001b[38;2;248;248;242;48;2;39;40;34mxbae24162efbd568f89bc7a340798a6118df0189eb9e3f8697bcea27af99f8f79\u001b[0m\u001b[38;2;248;248;242;48;2;39;40;34m \u001b[0m\u001b[38;2;174;129;255;48;2;39;40;34m0\u001b[0m\u001b[38;2;248;248;242;48;2;39;40;34mx0f42bb\u001b[0m\u001b[38;2;248;248;242;48;2;39;40;34m)\u001b[0m\u001b[48;2;39;40;34m                          \u001b[0m\n"
      ]
     },
     "metadata": {},
     "output_type": "display_data"
    },
    {
     "data": {
      "text/html": [
       "<pre style=\"white-space:pre;overflow-x:auto;line-height:normal;font-family:Menlo,'DejaVu Sans Mono',consolas,'Courier New',monospace\"><span style=\"color: #f8f8f2; text-decoration-color: #f8f8f2; background-color: #272822\">(</span><span style=\"color: #a6e22e; text-decoration-color: #a6e22e; background-color: #272822\">CREATE_COIN</span><span style=\"color: #f8f8f2; text-decoration-color: #f8f8f2; background-color: #272822\"> </span><span style=\"color: #ae81ff; text-decoration-color: #ae81ff; background-color: #272822\">0</span><span style=\"color: #f8f8f2; text-decoration-color: #f8f8f2; background-color: #272822\">x762ae91ed711ca3288820236b8741f33837b74b0698c60e13b4c0c6d926f7e0d </span><span style=\"color: #ae81ff; text-decoration-color: #ae81ff; background-color: #272822\">0</span><span style=\"color: #f8f8f2; text-decoration-color: #f8f8f2; background-color: #272822\">x01d1a92b9b05)</span><span style=\"background-color: #272822\">                    </span>\n",
       "</pre>\n"
      ],
      "text/plain": [
       "\u001b[38;2;248;248;242;48;2;39;40;34m(\u001b[0m\u001b[38;2;166;226;46;48;2;39;40;34mCREATE_COIN\u001b[0m\u001b[38;2;248;248;242;48;2;39;40;34m \u001b[0m\u001b[38;2;174;129;255;48;2;39;40;34m0\u001b[0m\u001b[38;2;248;248;242;48;2;39;40;34mx762ae91ed711ca3288820236b8741f33837b74b0698c60e13b4c0c6d926f7e0d\u001b[0m\u001b[38;2;248;248;242;48;2;39;40;34m \u001b[0m\u001b[38;2;174;129;255;48;2;39;40;34m0\u001b[0m\u001b[38;2;248;248;242;48;2;39;40;34mx01d1a92b9b05\u001b[0m\u001b[38;2;248;248;242;48;2;39;40;34m)\u001b[0m\u001b[48;2;39;40;34m                    \u001b[0m\n"
      ]
     },
     "metadata": {},
     "output_type": "display_data"
    },
    {
     "data": {
      "text/html": [
       "<pre style=\"white-space:pre;overflow-x:auto;line-height:normal;font-family:Menlo,'DejaVu Sans Mono',consolas,'Courier New',monospace\"><span style=\"color: #f8f8f2; text-decoration-color: #f8f8f2; background-color: #272822\">(</span><span style=\"color: #a6e22e; text-decoration-color: #a6e22e; background-color: #272822\">CREATE_COIN_ANNOUNCEMENT</span><span style=\"color: #f8f8f2; text-decoration-color: #f8f8f2; background-color: #272822\"> </span><span style=\"color: #ae81ff; text-decoration-color: #ae81ff; background-color: #272822\">0</span><span style=\"color: #f8f8f2; text-decoration-color: #f8f8f2; background-color: #272822\">xd58585344b8cfa4c7db72d950a06ff069f6f2ee03fc1ad42f95da8d71d598935)</span><span style=\"background-color: #272822\">                      </span>\n",
       "</pre>\n"
      ],
      "text/plain": [
       "\u001b[38;2;248;248;242;48;2;39;40;34m(\u001b[0m\u001b[38;2;166;226;46;48;2;39;40;34mCREATE_COIN_ANNOUNCEMENT\u001b[0m\u001b[38;2;248;248;242;48;2;39;40;34m \u001b[0m\u001b[38;2;174;129;255;48;2;39;40;34m0\u001b[0m\u001b[38;2;248;248;242;48;2;39;40;34mxd58585344b8cfa4c7db72d950a06ff069f6f2ee03fc1ad42f95da8d71d598935\u001b[0m\u001b[38;2;248;248;242;48;2;39;40;34m)\u001b[0m\u001b[48;2;39;40;34m                      \u001b[0m\n"
      ]
     },
     "metadata": {},
     "output_type": "display_data"
    },
    {
     "data": {
      "text/html": [
       "<pre style=\"white-space:pre;overflow-x:auto;line-height:normal;font-family:Menlo,'DejaVu Sans Mono',consolas,'Courier New',monospace\"><span style=\"color: #f8f8f2; text-decoration-color: #f8f8f2; background-color: #272822\">(</span><span style=\"color: #a6e22e; text-decoration-color: #a6e22e; background-color: #272822\">ASSERT_PUZZLE_ANNOUNCEMENT</span><span style=\"color: #f8f8f2; text-decoration-color: #f8f8f2; background-color: #272822\"> </span><span style=\"color: #ae81ff; text-decoration-color: #ae81ff; background-color: #272822\">0</span><span style=\"color: #f8f8f2; text-decoration-color: #f8f8f2; background-color: #272822\">xf566922c4e3e80d0ba4a729fa7e6a72da7700ddc82c3280b97a542ebc4096cc2)</span><span style=\"background-color: #272822\">                    </span>\n",
       "</pre>\n"
      ],
      "text/plain": [
       "\u001b[38;2;248;248;242;48;2;39;40;34m(\u001b[0m\u001b[38;2;166;226;46;48;2;39;40;34mASSERT_PUZZLE_ANNOUNCEMENT\u001b[0m\u001b[38;2;248;248;242;48;2;39;40;34m \u001b[0m\u001b[38;2;174;129;255;48;2;39;40;34m0\u001b[0m\u001b[38;2;248;248;242;48;2;39;40;34mxf566922c4e3e80d0ba4a729fa7e6a72da7700ddc82c3280b97a542ebc4096cc2\u001b[0m\u001b[38;2;248;248;242;48;2;39;40;34m)\u001b[0m\u001b[48;2;39;40;34m                    \u001b[0m\n"
      ]
     },
     "metadata": {},
     "output_type": "display_data"
    },
    {
     "name": "stdout",
     "output_type": "stream",
     "text": [
      "\n",
      "Additions:\n",
      "Coin { parent_coin_info: 1be481bb026b30cd58340d80edaf306f5dea69597023925d3c01d7949c49edc6, puzzle_hash: bae24162efbd568f89bc7a340798a6118df0189eb9e3f8697bcea27af99f8f79, amount: 1000123 }\n",
      "Coin { parent_coin_info: 1be481bb026b30cd58340d80edaf306f5dea69597023925d3c01d7949c49edc6, puzzle_hash: 762ae91ed711ca3288820236b8741f33837b74b0698c60e13b4c0c6d926f7e0d, amount: 1999997999877 }\n",
      "\n",
      "Removals:\n",
      "Coin { parent_coin_info: 2b04347e143936fb10d28d015d2376c484d13996f818b19496f3ef330968c763, puzzle_hash: 3d6520eca678336946386c5bb970d74f16ebadb1d3501095ee8878326a009a71, amount: 1999999000000 }\n",
      "Driver Dict:\n",
      "PuzzleInfo(info={'type': 'CAT', 'tail': '0xb831d001dc996f9fd8626bb11ecb7cac9e6a596796137fd22ff801d8746ec918'})\n"
     ]
    }
   ],
   "source": [
    "# offer 1000123 mojos, request 10 ALCE\n",
    "bob_offer = Offer.from_bech32(bob_offer_hex)\n",
    "print_offer(bob_offer)"
   ]
  },
  {
   "cell_type": "markdown",
   "id": "3bf6ef7e-52fd-4108-afca-a3e6078b26ea",
   "metadata": {},
   "source": [
    "## Note\n",
    "\n",
    "### Alice: \n",
    "- `(CREATE_COIN 0x73ca304fb1e7e99d5ca042d3ba4cffefbcdec9e927ca39c7ebfec83cc2878628 10000                              \n",
    "(0xbae24162efbd568f89bc7a340798a6118df0189eb9e3f8697bcea27af99f8f79))`, create_coin, offer 10 ALCE (10000 mojos)\n",
    "- `(CREATE_COIN 0x033c8a1596e0cfd72cbf6eb0906789f0caab776fad699a36ee9f18d2917b033e 0x0f42bb ())`, notarized, request 1000123 mojos\n",
    "- `033c8a1596e0cfd72cbf6eb0906789f0caab776fad699a36ee9f18d2917b033e` is Alice's PH\n",
    "\n",
    "### Bob: \n",
    "- `(CREATE_COIN 0xbae24162efbd568f89bc7a340798a6118df0189eb9e3f8697bcea27af99f8f79 0x0f42bb)`, offer TXCH (1000123 mojos)\n",
    "- `(CREATE_COIN 0x306fa25a1fe69a2f3570d42d3125830ca29c7209120ae31aa31be391d784cf3d 10000                              \n",
    "(0x306fa25a1fe69a2f3570d42d3125830ca29c7209120ae31aa31be391d784cf3d))`, notarized, request 10 ALCE (10000 mojos)\n",
    "- `306fa25a1fe69a2f3570d42d3125830ca29c7209120ae31aa31be391d784cf3d` is Bob's PH\n"
   ]
  },
  {
   "cell_type": "code",
   "execution_count": 5,
   "id": "5a765e74-c973-475b-8fde-ca4407f8cefe",
   "metadata": {},
   "outputs": [
    {
     "name": "stdout",
     "output_type": "stream",
     "text": [
      "Notarized Payment:\n"
     ]
    },
    {
     "data": {
      "text/html": [
       "<pre style=\"white-space:pre;overflow-x:auto;line-height:normal;font-family:Menlo,'DejaVu Sans Mono',consolas,'Courier New',monospace\"><span style=\"color: #f8f8f2; text-decoration-color: #f8f8f2; background-color: #272822\">(</span><span style=\"color: #a6e22e; text-decoration-color: #a6e22e; background-color: #272822\">CREATE_COIN</span><span style=\"color: #f8f8f2; text-decoration-color: #f8f8f2; background-color: #272822\"> </span><span style=\"color: #ae81ff; text-decoration-color: #ae81ff; background-color: #272822\">0</span><span style=\"color: #f8f8f2; text-decoration-color: #f8f8f2; background-color: #272822\">x033c8a1596e0cfd72cbf6eb0906789f0caab776fad699a36ee9f18d2917b033e </span><span style=\"color: #ae81ff; text-decoration-color: #ae81ff; background-color: #272822\">0</span><span style=\"color: #f8f8f2; text-decoration-color: #f8f8f2; background-color: #272822\">x0f42bb ())</span><span style=\"background-color: #272822\">                       </span>\n",
       "</pre>\n"
      ],
      "text/plain": [
       "\u001b[38;2;248;248;242;48;2;39;40;34m(\u001b[0m\u001b[38;2;166;226;46;48;2;39;40;34mCREATE_COIN\u001b[0m\u001b[38;2;248;248;242;48;2;39;40;34m \u001b[0m\u001b[38;2;174;129;255;48;2;39;40;34m0\u001b[0m\u001b[38;2;248;248;242;48;2;39;40;34mx033c8a1596e0cfd72cbf6eb0906789f0caab776fad699a36ee9f18d2917b033e\u001b[0m\u001b[38;2;248;248;242;48;2;39;40;34m \u001b[0m\u001b[38;2;174;129;255;48;2;39;40;34m0\u001b[0m\u001b[38;2;248;248;242;48;2;39;40;34mx0f42bb\u001b[0m\u001b[38;2;248;248;242;48;2;39;40;34m \u001b[0m\u001b[38;2;248;248;242;48;2;39;40;34m(\u001b[0m\u001b[38;2;248;248;242;48;2;39;40;34m)\u001b[0m\u001b[38;2;248;248;242;48;2;39;40;34m)\u001b[0m\u001b[48;2;39;40;34m                       \u001b[0m\n"
      ]
     },
     "metadata": {},
     "output_type": "display_data"
    },
    {
     "name": "stdout",
     "output_type": "stream",
     "text": [
      "Notarized Payment:\n"
     ]
    },
    {
     "data": {
      "text/html": [
       "<pre style=\"white-space:pre;overflow-x:auto;line-height:normal;font-family:Menlo,'DejaVu Sans Mono',consolas,'Courier New',monospace\"><span style=\"color: #f8f8f2; text-decoration-color: #f8f8f2; background-color: #272822\">(</span><span style=\"color: #a6e22e; text-decoration-color: #a6e22e; background-color: #272822\">CREATE_COIN</span><span style=\"color: #f8f8f2; text-decoration-color: #f8f8f2; background-color: #272822\"> </span><span style=\"color: #ae81ff; text-decoration-color: #ae81ff; background-color: #272822\">0</span><span style=\"color: #f8f8f2; text-decoration-color: #f8f8f2; background-color: #272822\">x306fa25a1fe69a2f3570d42d3125830ca29c7209120ae31aa31be391d784cf3d </span><span style=\"color: #ae81ff; text-decoration-color: #ae81ff; background-color: #272822\">10000</span><span style=\"color: #f8f8f2; text-decoration-color: #f8f8f2; background-color: #272822\"> </span><span style=\"background-color: #272822\">                             </span>\n",
       "<span style=\"color: #f8f8f2; text-decoration-color: #f8f8f2; background-color: #272822\">(</span><span style=\"color: #ae81ff; text-decoration-color: #ae81ff; background-color: #272822\">0</span><span style=\"color: #f8f8f2; text-decoration-color: #f8f8f2; background-color: #272822\">x306fa25a1fe69a2f3570d42d3125830ca29c7209120ae31aa31be391d784cf3d))</span><span style=\"background-color: #272822\">                                              </span>\n",
       "</pre>\n"
      ],
      "text/plain": [
       "\u001b[38;2;248;248;242;48;2;39;40;34m(\u001b[0m\u001b[38;2;166;226;46;48;2;39;40;34mCREATE_COIN\u001b[0m\u001b[38;2;248;248;242;48;2;39;40;34m \u001b[0m\u001b[38;2;174;129;255;48;2;39;40;34m0\u001b[0m\u001b[38;2;248;248;242;48;2;39;40;34mx306fa25a1fe69a2f3570d42d3125830ca29c7209120ae31aa31be391d784cf3d\u001b[0m\u001b[38;2;248;248;242;48;2;39;40;34m \u001b[0m\u001b[38;2;174;129;255;48;2;39;40;34m10000\u001b[0m\u001b[38;2;248;248;242;48;2;39;40;34m \u001b[0m\u001b[48;2;39;40;34m                             \u001b[0m\n",
       "\u001b[38;2;248;248;242;48;2;39;40;34m(\u001b[0m\u001b[38;2;174;129;255;48;2;39;40;34m0\u001b[0m\u001b[38;2;248;248;242;48;2;39;40;34mx306fa25a1fe69a2f3570d42d3125830ca29c7209120ae31aa31be391d784cf3d\u001b[0m\u001b[38;2;248;248;242;48;2;39;40;34m)\u001b[0m\u001b[38;2;248;248;242;48;2;39;40;34m)\u001b[0m\u001b[48;2;39;40;34m                                              \u001b[0m\n"
      ]
     },
     "metadata": {},
     "output_type": "display_data"
    },
    {
     "name": "stdout",
     "output_type": "stream",
     "text": [
      "CoinSpend:\n",
      "Coin:\n",
      "0ce3f47db17a83a1cc344666a5b9113a8ed8fe5f1a5904d1c39711510d0b0331\n",
      "Coin { parent_coin_info: 547661088c6ba255fb26af282cdc4132499ded3d173cdd8b6a3a6d08d5f058f8, puzzle_hash: b263fb8ea202a69439cfea929e07085aa47efa878a6d27db19c4830633657674, amount: 999000 }\n",
      "\n",
      "Conditions\n"
     ]
    },
    {
     "data": {
      "text/html": [
       "<pre style=\"white-space:pre;overflow-x:auto;line-height:normal;font-family:Menlo,'DejaVu Sans Mono',consolas,'Courier New',monospace\"><span style=\"color: #f8f8f2; text-decoration-color: #f8f8f2; background-color: #272822\">(</span><span style=\"color: #a6e22e; text-decoration-color: #a6e22e; background-color: #272822\">ASSERT_MY_COIN_ID</span><span style=\"color: #f8f8f2; text-decoration-color: #f8f8f2; background-color: #272822\"> </span><span style=\"color: #ae81ff; text-decoration-color: #ae81ff; background-color: #272822\">0</span><span style=\"color: #f8f8f2; text-decoration-color: #f8f8f2; background-color: #272822\">x0ce3f47db17a83a1cc344666a5b9113a8ed8fe5f1a5904d1c39711510d0b0331)</span><span style=\"background-color: #272822\">                             </span>\n",
       "</pre>\n"
      ],
      "text/plain": [
       "\u001b[38;2;248;248;242;48;2;39;40;34m(\u001b[0m\u001b[38;2;166;226;46;48;2;39;40;34mASSERT_MY_COIN_ID\u001b[0m\u001b[38;2;248;248;242;48;2;39;40;34m \u001b[0m\u001b[38;2;174;129;255;48;2;39;40;34m0\u001b[0m\u001b[38;2;248;248;242;48;2;39;40;34mx0ce3f47db17a83a1cc344666a5b9113a8ed8fe5f1a5904d1c39711510d0b0331\u001b[0m\u001b[38;2;248;248;242;48;2;39;40;34m)\u001b[0m\u001b[48;2;39;40;34m                             \u001b[0m\n"
      ]
     },
     "metadata": {},
     "output_type": "display_data"
    },
    {
     "data": {
      "text/html": [
       "<pre style=\"white-space:pre;overflow-x:auto;line-height:normal;font-family:Menlo,'DejaVu Sans Mono',consolas,'Courier New',monospace\"><span style=\"color: #f8f8f2; text-decoration-color: #f8f8f2; background-color: #272822\">(</span><span style=\"color: #a6e22e; text-decoration-color: #a6e22e; background-color: #272822\">CREATE_COIN_ANNOUNCEMENT</span><span style=\"color: #f8f8f2; text-decoration-color: #f8f8f2; background-color: #272822\"> </span><span style=\"color: #ae81ff; text-decoration-color: #ae81ff; background-color: #272822\">0</span><span style=\"color: #f8f8f2; text-decoration-color: #f8f8f2; background-color: #272822\">xcbb5f3bcf8388ac740e0668c095244ea394f5142836df39296bdc0a9c70e1580b6)</span><span style=\"background-color: #272822\">                    </span>\n",
       "</pre>\n"
      ],
      "text/plain": [
       "\u001b[38;2;248;248;242;48;2;39;40;34m(\u001b[0m\u001b[38;2;166;226;46;48;2;39;40;34mCREATE_COIN_ANNOUNCEMENT\u001b[0m\u001b[38;2;248;248;242;48;2;39;40;34m \u001b[0m\u001b[38;2;174;129;255;48;2;39;40;34m0\u001b[0m\u001b[38;2;248;248;242;48;2;39;40;34mxcbb5f3bcf8388ac740e0668c095244ea394f5142836df39296bdc0a9c70e1580b6\u001b[0m\u001b[38;2;248;248;242;48;2;39;40;34m)\u001b[0m\u001b[48;2;39;40;34m                    \u001b[0m\n"
      ]
     },
     "metadata": {},
     "output_type": "display_data"
    },
    {
     "data": {
      "text/html": [
       "<pre style=\"white-space:pre;overflow-x:auto;line-height:normal;font-family:Menlo,'DejaVu Sans Mono',consolas,'Courier New',monospace\"><span style=\"color: #f8f8f2; text-decoration-color: #f8f8f2; background-color: #272822\">(</span><span style=\"color: #a6e22e; text-decoration-color: #a6e22e; background-color: #272822\">ASSERT_COIN_ANNOUNCEMENT</span><span style=\"color: #f8f8f2; text-decoration-color: #f8f8f2; background-color: #272822\"> </span><span style=\"color: #ae81ff; text-decoration-color: #ae81ff; background-color: #272822\">0</span><span style=\"color: #f8f8f2; text-decoration-color: #f8f8f2; background-color: #272822\">xa963c01a3e9d3b1a248184ff3bc70e4d0d5a54c3150f0312e28e68655a1fcc3c)</span><span style=\"background-color: #272822\">                      </span>\n",
       "</pre>\n"
      ],
      "text/plain": [
       "\u001b[38;2;248;248;242;48;2;39;40;34m(\u001b[0m\u001b[38;2;166;226;46;48;2;39;40;34mASSERT_COIN_ANNOUNCEMENT\u001b[0m\u001b[38;2;248;248;242;48;2;39;40;34m \u001b[0m\u001b[38;2;174;129;255;48;2;39;40;34m0\u001b[0m\u001b[38;2;248;248;242;48;2;39;40;34mxa963c01a3e9d3b1a248184ff3bc70e4d0d5a54c3150f0312e28e68655a1fcc3c\u001b[0m\u001b[38;2;248;248;242;48;2;39;40;34m)\u001b[0m\u001b[48;2;39;40;34m                      \u001b[0m\n"
      ]
     },
     "metadata": {},
     "output_type": "display_data"
    },
    {
     "data": {
      "text/html": [
       "<pre style=\"white-space:pre;overflow-x:auto;line-height:normal;font-family:Menlo,'DejaVu Sans Mono',consolas,'Courier New',monospace\"><span style=\"color: #f8f8f2; text-decoration-color: #f8f8f2; background-color: #272822\">(</span><span style=\"color: #a6e22e; text-decoration-color: #a6e22e; background-color: #272822\">AGG_SIG_ME</span><span style=\"color: #f8f8f2; text-decoration-color: #f8f8f2; background-color: #272822\"> </span><span style=\"color: #ae81ff; text-decoration-color: #ae81ff; background-color: #272822\">0</span><span style=\"color: #f8f8f2; text-decoration-color: #f8f8f2; background-color: #272822\">xb9dcd2f16dd012042a89110497bcada9135ab5c58322aef4fcbe57fcb2f6ca82f17dd3d1f4265ed2b470d146eaaf7a97 </span><span style=\"background-color: #272822\">    </span>\n",
       "<span style=\"color: #ae81ff; text-decoration-color: #ae81ff; background-color: #272822\">0</span><span style=\"color: #f8f8f2; text-decoration-color: #f8f8f2; background-color: #272822\">x93190e7ce7f68990965cacf00a530e794afd9656a8c46a52e24acdce753dc194)</span><span style=\"background-color: #272822\">                                                </span>\n",
       "</pre>\n"
      ],
      "text/plain": [
       "\u001b[38;2;248;248;242;48;2;39;40;34m(\u001b[0m\u001b[38;2;166;226;46;48;2;39;40;34mAGG_SIG_ME\u001b[0m\u001b[38;2;248;248;242;48;2;39;40;34m \u001b[0m\u001b[38;2;174;129;255;48;2;39;40;34m0\u001b[0m\u001b[38;2;248;248;242;48;2;39;40;34mxb9dcd2f16dd012042a89110497bcada9135ab5c58322aef4fcbe57fcb2f6ca82f17dd3d1f4265ed2b470d146eaaf7a97\u001b[0m\u001b[38;2;248;248;242;48;2;39;40;34m \u001b[0m\u001b[48;2;39;40;34m    \u001b[0m\n",
       "\u001b[38;2;174;129;255;48;2;39;40;34m0\u001b[0m\u001b[38;2;248;248;242;48;2;39;40;34mx93190e7ce7f68990965cacf00a530e794afd9656a8c46a52e24acdce753dc194\u001b[0m\u001b[38;2;248;248;242;48;2;39;40;34m)\u001b[0m\u001b[48;2;39;40;34m                                                \u001b[0m\n"
      ]
     },
     "metadata": {},
     "output_type": "display_data"
    },
    {
     "data": {
      "text/html": [
       "<pre style=\"white-space:pre;overflow-x:auto;line-height:normal;font-family:Menlo,'DejaVu Sans Mono',consolas,'Courier New',monospace\"><span style=\"color: #f8f8f2; text-decoration-color: #f8f8f2; background-color: #272822\">(</span><span style=\"color: #a6e22e; text-decoration-color: #a6e22e; background-color: #272822\">CREATE_COIN</span><span style=\"color: #f8f8f2; text-decoration-color: #f8f8f2; background-color: #272822\"> </span><span style=\"color: #ae81ff; text-decoration-color: #ae81ff; background-color: #272822\">0</span><span style=\"color: #f8f8f2; text-decoration-color: #f8f8f2; background-color: #272822\">x73ca304fb1e7e99d5ca042d3ba4cffefbcdec9e927ca39c7ebfec83cc2878628 </span><span style=\"color: #ae81ff; text-decoration-color: #ae81ff; background-color: #272822\">10000</span><span style=\"color: #f8f8f2; text-decoration-color: #f8f8f2; background-color: #272822\"> </span><span style=\"background-color: #272822\">                             </span>\n",
       "<span style=\"color: #f8f8f2; text-decoration-color: #f8f8f2; background-color: #272822\">(</span><span style=\"color: #ae81ff; text-decoration-color: #ae81ff; background-color: #272822\">0</span><span style=\"color: #f8f8f2; text-decoration-color: #f8f8f2; background-color: #272822\">xbae24162efbd568f89bc7a340798a6118df0189eb9e3f8697bcea27af99f8f79))</span><span style=\"background-color: #272822\">                                              </span>\n",
       "</pre>\n"
      ],
      "text/plain": [
       "\u001b[38;2;248;248;242;48;2;39;40;34m(\u001b[0m\u001b[38;2;166;226;46;48;2;39;40;34mCREATE_COIN\u001b[0m\u001b[38;2;248;248;242;48;2;39;40;34m \u001b[0m\u001b[38;2;174;129;255;48;2;39;40;34m0\u001b[0m\u001b[38;2;248;248;242;48;2;39;40;34mx73ca304fb1e7e99d5ca042d3ba4cffefbcdec9e927ca39c7ebfec83cc2878628\u001b[0m\u001b[38;2;248;248;242;48;2;39;40;34m \u001b[0m\u001b[38;2;174;129;255;48;2;39;40;34m10000\u001b[0m\u001b[38;2;248;248;242;48;2;39;40;34m \u001b[0m\u001b[48;2;39;40;34m                             \u001b[0m\n",
       "\u001b[38;2;248;248;242;48;2;39;40;34m(\u001b[0m\u001b[38;2;174;129;255;48;2;39;40;34m0\u001b[0m\u001b[38;2;248;248;242;48;2;39;40;34mxbae24162efbd568f89bc7a340798a6118df0189eb9e3f8697bcea27af99f8f79\u001b[0m\u001b[38;2;248;248;242;48;2;39;40;34m)\u001b[0m\u001b[38;2;248;248;242;48;2;39;40;34m)\u001b[0m\u001b[48;2;39;40;34m                                              \u001b[0m\n"
      ]
     },
     "metadata": {},
     "output_type": "display_data"
    },
    {
     "data": {
      "text/html": [
       "<pre style=\"white-space:pre;overflow-x:auto;line-height:normal;font-family:Menlo,'DejaVu Sans Mono',consolas,'Courier New',monospace\"><span style=\"color: #f8f8f2; text-decoration-color: #f8f8f2; background-color: #272822\">(</span><span style=\"color: #a6e22e; text-decoration-color: #a6e22e; background-color: #272822\">CREATE_COIN</span><span style=\"color: #f8f8f2; text-decoration-color: #f8f8f2; background-color: #272822\"> </span><span style=\"color: #ae81ff; text-decoration-color: #ae81ff; background-color: #272822\">0</span><span style=\"color: #f8f8f2; text-decoration-color: #f8f8f2; background-color: #272822\">x3670e05085da35b80c74567f24c642e2218e5f797ecf6e96ae5c63e6b6e540f6 </span><span style=\"color: #ae81ff; text-decoration-color: #ae81ff; background-color: #272822\">0</span><span style=\"color: #f8f8f2; text-decoration-color: #f8f8f2; background-color: #272822\">x0f1748)</span><span style=\"background-color: #272822\">                          </span>\n",
       "</pre>\n"
      ],
      "text/plain": [
       "\u001b[38;2;248;248;242;48;2;39;40;34m(\u001b[0m\u001b[38;2;166;226;46;48;2;39;40;34mCREATE_COIN\u001b[0m\u001b[38;2;248;248;242;48;2;39;40;34m \u001b[0m\u001b[38;2;174;129;255;48;2;39;40;34m0\u001b[0m\u001b[38;2;248;248;242;48;2;39;40;34mx3670e05085da35b80c74567f24c642e2218e5f797ecf6e96ae5c63e6b6e540f6\u001b[0m\u001b[38;2;248;248;242;48;2;39;40;34m \u001b[0m\u001b[38;2;174;129;255;48;2;39;40;34m0\u001b[0m\u001b[38;2;248;248;242;48;2;39;40;34mx0f1748\u001b[0m\u001b[38;2;248;248;242;48;2;39;40;34m)\u001b[0m\u001b[48;2;39;40;34m                          \u001b[0m\n"
      ]
     },
     "metadata": {},
     "output_type": "display_data"
    },
    {
     "data": {
      "text/html": [
       "<pre style=\"white-space:pre;overflow-x:auto;line-height:normal;font-family:Menlo,'DejaVu Sans Mono',consolas,'Courier New',monospace\"><span style=\"color: #f8f8f2; text-decoration-color: #f8f8f2; background-color: #272822\">(</span><span style=\"color: #a6e22e; text-decoration-color: #a6e22e; background-color: #272822\">CREATE_COIN_ANNOUNCEMENT</span><span style=\"color: #f8f8f2; text-decoration-color: #f8f8f2; background-color: #272822\"> </span><span style=\"color: #ae81ff; text-decoration-color: #ae81ff; background-color: #272822\">0</span><span style=\"color: #f8f8f2; text-decoration-color: #f8f8f2; background-color: #272822\">xe13f57eef5c8eca2e43f40471d65a0bb4450e48539cdd73925cf766780bab0a9)</span><span style=\"background-color: #272822\">                      </span>\n",
       "</pre>\n"
      ],
      "text/plain": [
       "\u001b[38;2;248;248;242;48;2;39;40;34m(\u001b[0m\u001b[38;2;166;226;46;48;2;39;40;34mCREATE_COIN_ANNOUNCEMENT\u001b[0m\u001b[38;2;248;248;242;48;2;39;40;34m \u001b[0m\u001b[38;2;174;129;255;48;2;39;40;34m0\u001b[0m\u001b[38;2;248;248;242;48;2;39;40;34mxe13f57eef5c8eca2e43f40471d65a0bb4450e48539cdd73925cf766780bab0a9\u001b[0m\u001b[38;2;248;248;242;48;2;39;40;34m)\u001b[0m\u001b[48;2;39;40;34m                      \u001b[0m\n"
      ]
     },
     "metadata": {},
     "output_type": "display_data"
    },
    {
     "data": {
      "text/html": [
       "<pre style=\"white-space:pre;overflow-x:auto;line-height:normal;font-family:Menlo,'DejaVu Sans Mono',consolas,'Courier New',monospace\"><span style=\"color: #f8f8f2; text-decoration-color: #f8f8f2; background-color: #272822\">(</span><span style=\"color: #a6e22e; text-decoration-color: #a6e22e; background-color: #272822\">ASSERT_PUZZLE_ANNOUNCEMENT</span><span style=\"color: #f8f8f2; text-decoration-color: #f8f8f2; background-color: #272822\"> </span><span style=\"color: #ae81ff; text-decoration-color: #ae81ff; background-color: #272822\">0</span><span style=\"color: #f8f8f2; text-decoration-color: #f8f8f2; background-color: #272822\">x68c5cbf3da524bfcfa7d3c707bb6a2a9ef5751ea9b98351bd3773c617195bac7)</span><span style=\"background-color: #272822\">                    </span>\n",
       "</pre>\n"
      ],
      "text/plain": [
       "\u001b[38;2;248;248;242;48;2;39;40;34m(\u001b[0m\u001b[38;2;166;226;46;48;2;39;40;34mASSERT_PUZZLE_ANNOUNCEMENT\u001b[0m\u001b[38;2;248;248;242;48;2;39;40;34m \u001b[0m\u001b[38;2;174;129;255;48;2;39;40;34m0\u001b[0m\u001b[38;2;248;248;242;48;2;39;40;34mx68c5cbf3da524bfcfa7d3c707bb6a2a9ef5751ea9b98351bd3773c617195bac7\u001b[0m\u001b[38;2;248;248;242;48;2;39;40;34m)\u001b[0m\u001b[48;2;39;40;34m                    \u001b[0m\n"
      ]
     },
     "metadata": {},
     "output_type": "display_data"
    },
    {
     "name": "stdout",
     "output_type": "stream",
     "text": [
      "Coin:\n",
      "1be481bb026b30cd58340d80edaf306f5dea69597023925d3c01d7949c49edc6\n",
      "Coin { parent_coin_info: 2b04347e143936fb10d28d015d2376c484d13996f818b19496f3ef330968c763, puzzle_hash: 3d6520eca678336946386c5bb970d74f16ebadb1d3501095ee8878326a009a71, amount: 1999999000000 }\n",
      "\n",
      "Conditions\n"
     ]
    },
    {
     "data": {
      "text/html": [
       "<pre style=\"white-space:pre;overflow-x:auto;line-height:normal;font-family:Menlo,'DejaVu Sans Mono',consolas,'Courier New',monospace\"><span style=\"color: #f8f8f2; text-decoration-color: #f8f8f2; background-color: #272822\">(</span><span style=\"color: #a6e22e; text-decoration-color: #a6e22e; background-color: #272822\">AGG_SIG_ME</span><span style=\"color: #f8f8f2; text-decoration-color: #f8f8f2; background-color: #272822\"> </span><span style=\"color: #ae81ff; text-decoration-color: #ae81ff; background-color: #272822\">0</span><span style=\"color: #f8f8f2; text-decoration-color: #f8f8f2; background-color: #272822\">x87ec0e7df46233cd5ba111c4ba101f9b504f4088628fbc0d1542f618db641eb0c2aadffd7fad8db34c3bcd32abb9397b </span><span style=\"background-color: #272822\">    </span>\n",
       "<span style=\"color: #ae81ff; text-decoration-color: #ae81ff; background-color: #272822\">0</span><span style=\"color: #f8f8f2; text-decoration-color: #f8f8f2; background-color: #272822\">x4a27472735b4152d12556407c5ffda6c365bd3f29bb4be9670b1f33883891c85)</span><span style=\"background-color: #272822\">                                                </span>\n",
       "</pre>\n"
      ],
      "text/plain": [
       "\u001b[38;2;248;248;242;48;2;39;40;34m(\u001b[0m\u001b[38;2;166;226;46;48;2;39;40;34mAGG_SIG_ME\u001b[0m\u001b[38;2;248;248;242;48;2;39;40;34m \u001b[0m\u001b[38;2;174;129;255;48;2;39;40;34m0\u001b[0m\u001b[38;2;248;248;242;48;2;39;40;34mx87ec0e7df46233cd5ba111c4ba101f9b504f4088628fbc0d1542f618db641eb0c2aadffd7fad8db34c3bcd32abb9397b\u001b[0m\u001b[38;2;248;248;242;48;2;39;40;34m \u001b[0m\u001b[48;2;39;40;34m    \u001b[0m\n",
       "\u001b[38;2;174;129;255;48;2;39;40;34m0\u001b[0m\u001b[38;2;248;248;242;48;2;39;40;34mx4a27472735b4152d12556407c5ffda6c365bd3f29bb4be9670b1f33883891c85\u001b[0m\u001b[38;2;248;248;242;48;2;39;40;34m)\u001b[0m\u001b[48;2;39;40;34m                                                \u001b[0m\n"
      ]
     },
     "metadata": {},
     "output_type": "display_data"
    },
    {
     "data": {
      "text/html": [
       "<pre style=\"white-space:pre;overflow-x:auto;line-height:normal;font-family:Menlo,'DejaVu Sans Mono',consolas,'Courier New',monospace\"><span style=\"color: #f8f8f2; text-decoration-color: #f8f8f2; background-color: #272822\">(</span><span style=\"color: #a6e22e; text-decoration-color: #a6e22e; background-color: #272822\">CREATE_COIN</span><span style=\"color: #f8f8f2; text-decoration-color: #f8f8f2; background-color: #272822\"> </span><span style=\"color: #ae81ff; text-decoration-color: #ae81ff; background-color: #272822\">0</span><span style=\"color: #f8f8f2; text-decoration-color: #f8f8f2; background-color: #272822\">xbae24162efbd568f89bc7a340798a6118df0189eb9e3f8697bcea27af99f8f79 </span><span style=\"color: #ae81ff; text-decoration-color: #ae81ff; background-color: #272822\">0</span><span style=\"color: #f8f8f2; text-decoration-color: #f8f8f2; background-color: #272822\">x0f42bb)</span><span style=\"background-color: #272822\">                          </span>\n",
       "</pre>\n"
      ],
      "text/plain": [
       "\u001b[38;2;248;248;242;48;2;39;40;34m(\u001b[0m\u001b[38;2;166;226;46;48;2;39;40;34mCREATE_COIN\u001b[0m\u001b[38;2;248;248;242;48;2;39;40;34m \u001b[0m\u001b[38;2;174;129;255;48;2;39;40;34m0\u001b[0m\u001b[38;2;248;248;242;48;2;39;40;34mxbae24162efbd568f89bc7a340798a6118df0189eb9e3f8697bcea27af99f8f79\u001b[0m\u001b[38;2;248;248;242;48;2;39;40;34m \u001b[0m\u001b[38;2;174;129;255;48;2;39;40;34m0\u001b[0m\u001b[38;2;248;248;242;48;2;39;40;34mx0f42bb\u001b[0m\u001b[38;2;248;248;242;48;2;39;40;34m)\u001b[0m\u001b[48;2;39;40;34m                          \u001b[0m\n"
      ]
     },
     "metadata": {},
     "output_type": "display_data"
    },
    {
     "data": {
      "text/html": [
       "<pre style=\"white-space:pre;overflow-x:auto;line-height:normal;font-family:Menlo,'DejaVu Sans Mono',consolas,'Courier New',monospace\"><span style=\"color: #f8f8f2; text-decoration-color: #f8f8f2; background-color: #272822\">(</span><span style=\"color: #a6e22e; text-decoration-color: #a6e22e; background-color: #272822\">CREATE_COIN</span><span style=\"color: #f8f8f2; text-decoration-color: #f8f8f2; background-color: #272822\"> </span><span style=\"color: #ae81ff; text-decoration-color: #ae81ff; background-color: #272822\">0</span><span style=\"color: #f8f8f2; text-decoration-color: #f8f8f2; background-color: #272822\">x762ae91ed711ca3288820236b8741f33837b74b0698c60e13b4c0c6d926f7e0d </span><span style=\"color: #ae81ff; text-decoration-color: #ae81ff; background-color: #272822\">0</span><span style=\"color: #f8f8f2; text-decoration-color: #f8f8f2; background-color: #272822\">x01d1a92b9b05)</span><span style=\"background-color: #272822\">                    </span>\n",
       "</pre>\n"
      ],
      "text/plain": [
       "\u001b[38;2;248;248;242;48;2;39;40;34m(\u001b[0m\u001b[38;2;166;226;46;48;2;39;40;34mCREATE_COIN\u001b[0m\u001b[38;2;248;248;242;48;2;39;40;34m \u001b[0m\u001b[38;2;174;129;255;48;2;39;40;34m0\u001b[0m\u001b[38;2;248;248;242;48;2;39;40;34mx762ae91ed711ca3288820236b8741f33837b74b0698c60e13b4c0c6d926f7e0d\u001b[0m\u001b[38;2;248;248;242;48;2;39;40;34m \u001b[0m\u001b[38;2;174;129;255;48;2;39;40;34m0\u001b[0m\u001b[38;2;248;248;242;48;2;39;40;34mx01d1a92b9b05\u001b[0m\u001b[38;2;248;248;242;48;2;39;40;34m)\u001b[0m\u001b[48;2;39;40;34m                    \u001b[0m\n"
      ]
     },
     "metadata": {},
     "output_type": "display_data"
    },
    {
     "data": {
      "text/html": [
       "<pre style=\"white-space:pre;overflow-x:auto;line-height:normal;font-family:Menlo,'DejaVu Sans Mono',consolas,'Courier New',monospace\"><span style=\"color: #f8f8f2; text-decoration-color: #f8f8f2; background-color: #272822\">(</span><span style=\"color: #a6e22e; text-decoration-color: #a6e22e; background-color: #272822\">CREATE_COIN_ANNOUNCEMENT</span><span style=\"color: #f8f8f2; text-decoration-color: #f8f8f2; background-color: #272822\"> </span><span style=\"color: #ae81ff; text-decoration-color: #ae81ff; background-color: #272822\">0</span><span style=\"color: #f8f8f2; text-decoration-color: #f8f8f2; background-color: #272822\">xd58585344b8cfa4c7db72d950a06ff069f6f2ee03fc1ad42f95da8d71d598935)</span><span style=\"background-color: #272822\">                      </span>\n",
       "</pre>\n"
      ],
      "text/plain": [
       "\u001b[38;2;248;248;242;48;2;39;40;34m(\u001b[0m\u001b[38;2;166;226;46;48;2;39;40;34mCREATE_COIN_ANNOUNCEMENT\u001b[0m\u001b[38;2;248;248;242;48;2;39;40;34m \u001b[0m\u001b[38;2;174;129;255;48;2;39;40;34m0\u001b[0m\u001b[38;2;248;248;242;48;2;39;40;34mxd58585344b8cfa4c7db72d950a06ff069f6f2ee03fc1ad42f95da8d71d598935\u001b[0m\u001b[38;2;248;248;242;48;2;39;40;34m)\u001b[0m\u001b[48;2;39;40;34m                      \u001b[0m\n"
      ]
     },
     "metadata": {},
     "output_type": "display_data"
    },
    {
     "data": {
      "text/html": [
       "<pre style=\"white-space:pre;overflow-x:auto;line-height:normal;font-family:Menlo,'DejaVu Sans Mono',consolas,'Courier New',monospace\"><span style=\"color: #f8f8f2; text-decoration-color: #f8f8f2; background-color: #272822\">(</span><span style=\"color: #a6e22e; text-decoration-color: #a6e22e; background-color: #272822\">ASSERT_PUZZLE_ANNOUNCEMENT</span><span style=\"color: #f8f8f2; text-decoration-color: #f8f8f2; background-color: #272822\"> </span><span style=\"color: #ae81ff; text-decoration-color: #ae81ff; background-color: #272822\">0</span><span style=\"color: #f8f8f2; text-decoration-color: #f8f8f2; background-color: #272822\">xf566922c4e3e80d0ba4a729fa7e6a72da7700ddc82c3280b97a542ebc4096cc2)</span><span style=\"background-color: #272822\">                    </span>\n",
       "</pre>\n"
      ],
      "text/plain": [
       "\u001b[38;2;248;248;242;48;2;39;40;34m(\u001b[0m\u001b[38;2;166;226;46;48;2;39;40;34mASSERT_PUZZLE_ANNOUNCEMENT\u001b[0m\u001b[38;2;248;248;242;48;2;39;40;34m \u001b[0m\u001b[38;2;174;129;255;48;2;39;40;34m0\u001b[0m\u001b[38;2;248;248;242;48;2;39;40;34mxf566922c4e3e80d0ba4a729fa7e6a72da7700ddc82c3280b97a542ebc4096cc2\u001b[0m\u001b[38;2;248;248;242;48;2;39;40;34m)\u001b[0m\u001b[48;2;39;40;34m                    \u001b[0m\n"
      ]
     },
     "metadata": {},
     "output_type": "display_data"
    },
    {
     "name": "stdout",
     "output_type": "stream",
     "text": [
      "\n",
      "Additions:\n",
      "Coin { parent_coin_info: 0ce3f47db17a83a1cc344666a5b9113a8ed8fe5f1a5904d1c39711510d0b0331, puzzle_hash: 73ca304fb1e7e99d5ca042d3ba4cffefbcdec9e927ca39c7ebfec83cc2878628, amount: 10000 }\n",
      "Coin { parent_coin_info: 0ce3f47db17a83a1cc344666a5b9113a8ed8fe5f1a5904d1c39711510d0b0331, puzzle_hash: 3670e05085da35b80c74567f24c642e2218e5f797ecf6e96ae5c63e6b6e540f6, amount: 989000 }\n",
      "Coin { parent_coin_info: 1be481bb026b30cd58340d80edaf306f5dea69597023925d3c01d7949c49edc6, puzzle_hash: bae24162efbd568f89bc7a340798a6118df0189eb9e3f8697bcea27af99f8f79, amount: 1000123 }\n",
      "Coin { parent_coin_info: 1be481bb026b30cd58340d80edaf306f5dea69597023925d3c01d7949c49edc6, puzzle_hash: 762ae91ed711ca3288820236b8741f33837b74b0698c60e13b4c0c6d926f7e0d, amount: 1999997999877 }\n",
      "\n",
      "Removals:\n",
      "Coin { parent_coin_info: 547661088c6ba255fb26af282cdc4132499ded3d173cdd8b6a3a6d08d5f058f8, puzzle_hash: b263fb8ea202a69439cfea929e07085aa47efa878a6d27db19c4830633657674, amount: 999000 }\n",
      "Coin { parent_coin_info: 2b04347e143936fb10d28d015d2376c484d13996f818b19496f3ef330968c763, puzzle_hash: 3d6520eca678336946386c5bb970d74f16ebadb1d3501095ee8878326a009a71, amount: 1999999000000 }\n",
      "Driver Dict:\n",
      "PuzzleInfo(info={'type': 'CAT', 'tail': '0xb831d001dc996f9fd8626bb11ecb7cac9e6a596796137fd22ff801d8746ec918'})\n"
     ]
    }
   ],
   "source": [
    "alice_bob_offer = Offer.aggregate([alice_offer, bob_offer])\n",
    "print_offer(alice_bob_offer)"
   ]
  },
  {
   "cell_type": "code",
   "execution_count": 6,
   "id": "301b3fc1-cb1b-4304-bbd0-24b255b67005",
   "metadata": {
    "collapsed": true,
    "jupyter": {
     "outputs_hidden": true
    },
    "tags": []
   },
   "outputs": [
    {
     "name": "stdout",
     "output_type": "stream",
     "text": [
      "{\n",
      "    \"aggregated_signature\": \"0xb92b0f66e6f282b36c3c0e23d4be7872557f8bd5b9706d502cd07d858b2b85ac10e5d2966eddac9537e16b1575e618ce0743e0c4984758e544e7f06e714ec9e45ae0d921dd14d8d5ea3eaf574790d39ffa7627cb5a95f8667dacf690a18bf8e0\",\n",
      "    \"coin_solutions\": [\n",
      "        {\n",
      "            \"coin\": {\n",
      "                \"amount\": 1000123,\n",
      "                \"parent_coin_info\": \"0x1be481bb026b30cd58340d80edaf306f5dea69597023925d3c01d7949c49edc6\",\n",
      "                \"puzzle_hash\": \"0xbae24162efbd568f89bc7a340798a6118df0189eb9e3f8697bcea27af99f8f79\"\n",
      "            },\n",
      "            \"puzzle_reveal\": \"0xff02ffff01ff02ff0affff04ff02ffff04ff03ff80808080ffff04ffff01ffff333effff02ffff03ff05ffff01ff04ffff04ff0cffff04ffff02ff1effff04ff02ffff04ff09ff80808080ff808080ffff02ff16ffff04ff02ffff04ff19ffff04ffff02ff0affff04ff02ffff04ff0dff80808080ff808080808080ff8080ff0180ffff02ffff03ff05ffff01ff04ffff04ff08ff0980ffff02ff16ffff04ff02ffff04ff0dffff04ff0bff808080808080ffff010b80ff0180ff02ffff03ffff07ff0580ffff01ff0bffff0102ffff02ff1effff04ff02ffff04ff09ff80808080ffff02ff1effff04ff02ffff04ff0dff8080808080ffff01ff0bffff0101ff058080ff0180ff018080\",\n",
      "            \"solution\": \"0xffffa0b9ffd931f1d56e2c758defa6b21a75d12593217bdbaa59aa8c47b4e2c2394b77ffffa0033c8a1596e0cfd72cbf6eb0906789f0caab776fad699a36ee9f18d2917b033eff830f42bbff80808080\"\n",
      "        },\n",
      "        {\n",
      "            \"coin\": {\n",
      "                \"amount\": 10000,\n",
      "                \"parent_coin_info\": \"0x0ce3f47db17a83a1cc344666a5b9113a8ed8fe5f1a5904d1c39711510d0b0331\",\n",
      "                \"puzzle_hash\": \"0x73ca304fb1e7e99d5ca042d3ba4cffefbcdec9e927ca39c7ebfec83cc2878628\"\n",
      "            },\n",
      "            \"puzzle_reveal\": \"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\",\n",
      "            \"solution\": \"0xffffffa0659c23bd8ac281c0c9df16a81f5ae3420f6e4d483b1ba2efb0d738bf344cfc4fffffa0306fa25a1fe69a2f3570d42d3125830ca29c7209120ae31aa31be391d784cf3dff822710ffffa0306fa25a1fe69a2f3570d42d3125830ca29c7209120ae31aa31be391d784cf3d80808080ffffa0547661088c6ba255fb26af282cdc4132499ded3d173cdd8b6a3a6d08d5f058f8ffa0c57ee6aa551772ecb3cc6cb555d1357c2551e2dd48a490973b41fad206499db4ff830f3e5880ffa09a08527e5c03ed47c81b92aa5bec6f93fa1c886c596470e5392602cba27853bfffffa00ce3f47db17a83a1cc344666a5b9113a8ed8fe5f1a5904d1c39711510d0b0331ffa073ca304fb1e7e99d5ca042d3ba4cffefbcdec9e927ca39c7ebfec83cc2878628ff82271080ffffa00ce3f47db17a83a1cc344666a5b9113a8ed8fe5f1a5904d1c39711510d0b0331ffa0bae24162efbd568f89bc7a340798a6118df0189eb9e3f8697bcea27af99f8f79ff82271080ff80ff8080\"\n",
      "        },\n",
      "        {\n",
      "            \"coin\": {\n",
      "                \"amount\": 999000,\n",
      "                \"parent_coin_info\": \"0x547661088c6ba255fb26af282cdc4132499ded3d173cdd8b6a3a6d08d5f058f8\",\n",
      "                \"puzzle_hash\": \"0xb263fb8ea202a69439cfea929e07085aa47efa878a6d27db19c4830633657674\"\n",
      "            },\n",
      "            \"puzzle_reveal\": \"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\",\n",
      "            \"solution\": \"0xffff80ffff01ffff33ffa0bae24162efbd568f89bc7a340798a6118df0189eb9e3f8697bcea27af99f8f79ff822710ffffa0bae24162efbd568f89bc7a340798a6118df0189eb9e3f8697bcea27af99f8f798080ffff33ffa02a2170100c94332840be8c0ce74baacaef01ae12f28abc0d142951ec3a471d0cff830f174880ffff3cffa0e13f57eef5c8eca2e43f40471d65a0bb4450e48539cdd73925cf766780bab0a980ffff3fffa068c5cbf3da524bfcfa7d3c707bb6a2a9ef5751ea9b98351bd3773c617195bac78080ff8080ffffa0de7fbb12663cf2ee4c519c8cc51337c2625148d7e147cfbd1a0f58b28154ea45ffa017f4184e76bae6018073137a028e94f601f4f166874acd708453c373d38f1a64ff830f424080ffa00ce3f47db17a83a1cc344666a5b9113a8ed8fe5f1a5904d1c39711510d0b0331ffffa0547661088c6ba255fb26af282cdc4132499ded3d173cdd8b6a3a6d08d5f058f8ffa0b263fb8ea202a69439cfea929e07085aa47efa878a6d27db19c4830633657674ff830f3e5880ffffa0547661088c6ba255fb26af282cdc4132499ded3d173cdd8b6a3a6d08d5f058f8ffa0c57ee6aa551772ecb3cc6cb555d1357c2551e2dd48a490973b41fad206499db4ff830f3e5880ff80ff8080\"\n",
      "        },\n",
      "        {\n",
      "            \"coin\": {\n",
      "                \"amount\": 1999999000000,\n",
      "                \"parent_coin_info\": \"0x2b04347e143936fb10d28d015d2376c484d13996f818b19496f3ef330968c763\",\n",
      "                \"puzzle_hash\": \"0x3d6520eca678336946386c5bb970d74f16ebadb1d3501095ee8878326a009a71\"\n",
      "            },\n",
      "            \"puzzle_reveal\": \"0xff02ffff01ff02ffff01ff02ffff03ff0bffff01ff02ffff03ffff09ff05ffff1dff0bffff1effff0bff0bffff02ff06ffff04ff02ffff04ff17ff8080808080808080ffff01ff02ff17ff2f80ffff01ff088080ff0180ffff01ff04ffff04ff04ffff04ff05ffff04ffff02ff06ffff04ff02ffff04ff17ff80808080ff80808080ffff02ff17ff2f808080ff0180ffff04ffff01ff32ff02ffff03ffff07ff0580ffff01ff0bffff0102ffff02ff06ffff04ff02ffff04ff09ff80808080ffff02ff06ffff04ff02ffff04ff0dff8080808080ffff01ff0bffff0101ff058080ff0180ff018080ffff04ffff01b087ec0e7df46233cd5ba111c4ba101f9b504f4088628fbc0d1542f618db641eb0c2aadffd7fad8db34c3bcd32abb9397bff018080\",\n",
      "            \"solution\": \"0xff80ffff01ffff33ffa0bae24162efbd568f89bc7a340798a6118df0189eb9e3f8697bcea27af99f8f79ff830f42bb80ffff33ffa0762ae91ed711ca3288820236b8741f33837b74b0698c60e13b4c0c6d926f7e0dff8601d1a92b9b0580ffff3cffa0d58585344b8cfa4c7db72d950a06ff069f6f2ee03fc1ad42f95da8d71d59893580ffff3fffa0f566922c4e3e80d0ba4a729fa7e6a72da7700ddc82c3280b97a542ebc4096cc28080ff8080\"\n",
      "        }\n",
      "    ]\n",
      "}\n"
     ]
    }
   ],
   "source": [
    "spend_bundle = alice_bob_offer.to_valid_spend()\n",
    "print_json(spend_bundle.to_json_dict())"
   ]
  },
  {
   "cell_type": "markdown",
   "id": "10234de3-300e-4713-80f7-db4ced42b722",
   "metadata": {
    "jupyter": {
     "source_hidden": true
    },
    "tags": []
   },
   "source": [
    "```sh\n",
    "❯ cdv inspect spendbundles ./alice_bob-2.json -db\n",
    "/Users/karlkim/chia-network/chia-blockchain/chia/types/spend_bundle.py:96: UserWarning: `coin_solutions` is now `coin_spends` in `SpendBundle.from_json_dict`\n",
    "  warnings.warn(\"`coin_solutions` is now `coin_spends` in `SpendBundle.from_json_dict`\")\n",
    "[{\"aggregated_signature\": \"0xb92b0f66e6f282b36c3c0e23d4be7872557f8bd5b9706d502cd07d858b2b85ac10e5d2966eddac9537e16b1575e618ce0743e0c4984758e544e7f06e714ec9e45ae0d921dd14d8d5ea3eaf574790d39ffa7627cb5a95f8667dacf690a18bf8e0\", \"coin_solutions\": [{\"coin\": {\"parent_coin_info\": \"0x1be481bb026b30cd58340d80edaf306f5dea69597023925d3c01d7949c49edc6\", \"puzzle_hash\": \"0xbae24162efbd568f89bc7a340798a6118df0189eb9e3f8697bcea27af99f8f79\", \"amount\": 1000123}, \"puzzle_reveal\": \"0xff02ffff01ff02ff0affff04ff02ffff04ff03ff80808080ffff04ffff01ffff333effff02ffff03ff05ffff01ff04ffff04ff0cffff04ffff02ff1effff04ff02ffff04ff09ff80808080ff808080ffff02ff16ffff04ff02ffff04ff19ffff04ffff02ff0affff04ff02ffff04ff0dff80808080ff808080808080ff8080ff0180ffff02ffff03ff05ffff01ff04ffff04ff08ff0980ffff02ff16ffff04ff02ffff04ff0dffff04ff0bff808080808080ffff010b80ff0180ff02ffff03ffff07ff0580ffff01ff0bffff0102ffff02ff1effff04ff02ffff04ff09ff80808080ffff02ff1effff04ff02ffff04ff0dff8080808080ffff01ff0bffff0101ff058080ff0180ff018080\", \"solution\": \"0xffffa0b9ffd931f1d56e2c758defa6b21a75d12593217bdbaa59aa8c47b4e2c2394b77ffffa0033c8a1596e0cfd72cbf6eb0906789f0caab776fad699a36ee9f18d2917b033eff830f42bbff80808080\"}, {\"coin\": {\"parent_coin_info\": \"0x0ce3f47db17a83a1cc344666a5b9113a8ed8fe5f1a5904d1c39711510d0b0331\", \"puzzle_hash\": \"0x73ca304fb1e7e99d5ca042d3ba4cffefbcdec9e927ca39c7ebfec83cc2878628\", \"amount\": 10000}, \"puzzle_reveal\": \"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\", \"solution\": \"0xffffffa0659c23bd8ac281c0c9df16a81f5ae3420f6e4d483b1ba2efb0d738bf344cfc4fffffa0306fa25a1fe69a2f3570d42d3125830ca29c7209120ae31aa31be391d784cf3dff822710ffffa0306fa25a1fe69a2f3570d42d3125830ca29c7209120ae31aa31be391d784cf3d80808080ffffa0547661088c6ba255fb26af282cdc4132499ded3d173cdd8b6a3a6d08d5f058f8ffa0c57ee6aa551772ecb3cc6cb555d1357c2551e2dd48a490973b41fad206499db4ff830f3e5880ffa09a08527e5c03ed47c81b92aa5bec6f93fa1c886c596470e5392602cba27853bfffffa00ce3f47db17a83a1cc344666a5b9113a8ed8fe5f1a5904d1c39711510d0b0331ffa073ca304fb1e7e99d5ca042d3ba4cffefbcdec9e927ca39c7ebfec83cc2878628ff82271080ffffa00ce3f47db17a83a1cc344666a5b9113a8ed8fe5f1a5904d1c39711510d0b0331ffa0bae24162efbd568f89bc7a340798a6118df0189eb9e3f8697bcea27af99f8f79ff82271080ff80ff8080\"}, {\"coin\": {\"parent_coin_info\": \"0x547661088c6ba255fb26af282cdc4132499ded3d173cdd8b6a3a6d08d5f058f8\", \"puzzle_hash\": \"0xb263fb8ea202a69439cfea929e07085aa47efa878a6d27db19c4830633657674\", \"amount\": 999000}, \"puzzle_reveal\": \"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\", \"solution\": \"0xffff80ffff01ffff33ffa0bae24162efbd568f89bc7a340798a6118df0189eb9e3f8697bcea27af99f8f79ff822710ffffa0bae24162efbd568f89bc7a340798a6118df0189eb9e3f8697bcea27af99f8f798080ffff33ffa02a2170100c94332840be8c0ce74baacaef01ae12f28abc0d142951ec3a471d0cff830f174880ffff3cffa0e13f57eef5c8eca2e43f40471d65a0bb4450e48539cdd73925cf766780bab0a980ffff3fffa068c5cbf3da524bfcfa7d3c707bb6a2a9ef5751ea9b98351bd3773c617195bac78080ff8080ffffa0de7fbb12663cf2ee4c519c8cc51337c2625148d7e147cfbd1a0f58b28154ea45ffa017f4184e76bae6018073137a028e94f601f4f166874acd708453c373d38f1a64ff830f424080ffa00ce3f47db17a83a1cc344666a5b9113a8ed8fe5f1a5904d1c39711510d0b0331ffffa0547661088c6ba255fb26af282cdc4132499ded3d173cdd8b6a3a6d08d5f058f8ffa0b263fb8ea202a69439cfea929e07085aa47efa878a6d27db19c4830633657674ff830f3e5880ffffa0547661088c6ba255fb26af282cdc4132499ded3d173cdd8b6a3a6d08d5f058f8ffa0c57ee6aa551772ecb3cc6cb555d1357c2551e2dd48a490973b41fad206499db4ff830f3e5880ff80ff8080\"}, {\"coin\": {\"parent_coin_info\": \"0x2b04347e143936fb10d28d015d2376c484d13996f818b19496f3ef330968c763\", \"puzzle_hash\": \"0x3d6520eca678336946386c5bb970d74f16ebadb1d3501095ee8878326a009a71\", \"amount\": 1999999000000}, \"puzzle_reveal\": \"0xff02ffff01ff02ffff01ff02ffff03ff0bffff01ff02ffff03ffff09ff05ffff1dff0bffff1effff0bff0bffff02ff06ffff04ff02ffff04ff17ff8080808080808080ffff01ff02ff17ff2f80ffff01ff088080ff0180ffff01ff04ffff04ff04ffff04ff05ffff04ffff02ff06ffff04ff02ffff04ff17ff80808080ff80808080ffff02ff17ff2f808080ff0180ffff04ffff01ff32ff02ffff03ffff07ff0580ffff01ff0bffff0102ffff02ff06ffff04ff02ffff04ff09ff80808080ffff02ff06ffff04ff02ffff04ff0dff8080808080ffff01ff0bffff0101ff058080ff0180ff018080ffff04ffff01b087ec0e7df46233cd5ba111c4ba101f9b504f4088628fbc0d1542f618db641eb0c2aadffd7fad8db34c3bcd32abb9397bff018080\", \"solution\": \"0xff80ffff01ffff33ffa0bae24162efbd568f89bc7a340798a6118df0189eb9e3f8697bcea27af99f8f79ff830f42bb80ffff33ffa0762ae91ed711ca3288820236b8741f33837b74b0698c60e13b4c0c6d926f7e0dff8601d1a92b9b0580ffff3cffa0d58585344b8cfa4c7db72d950a06ff069f6f2ee03fc1ad42f95da8d71d59893580ffff3fffa0f566922c4e3e80d0ba4a729fa7e6a72da7700ddc82c3280b97a542ebc4096cc28080ff8080\"}]}]\n",
    "\n",
    "Debugging Information\n",
    "---------------------\n",
    "================================================================================\n",
    "consuming coin (0x1be481bb026b30cd58340d80edaf306f5dea69597023925d3c01d7949c49edc6 0xbae24162efbd568f89bc7a340798a6118df0189eb9e3f8697bcea27af99f8f79 0x0f42bb)\n",
    "  with id c45b90a1df28a0427d96c34aba0510a7bbc21897e806bedb363eda03d468655a\n",
    "\n",
    "\n",
    "brun -y main.sym '(a (q 2 10 (c 2 (c 3 ()))) (c (q (51 . 62) (a (i 5 (q 4 (c 12 (c (a 30 (c 2 (c 9 ()))) ())) (a 22 (c 2 (c 25 (c (a 10 (c 2 (c 13 ()))) ()))))) ()) 1) (a (i 5 (q 4 (c 8 9) (a 22 (c 2 (c 13 (c 11 ()))))) (q . 11)) 1) 2 (i (l 5) (q 11 (q . 2) (a 30 (c 2 (c 9 ()))) (a 30 (c 2 (c 13 ())))) (q 11 (q . 1) 5)) 1) 1))' '((0xb9ffd931f1d56e2c758defa6b21a75d12593217bdbaa59aa8c47b4e2c2394b77 (0x033c8a1596e0cfd72cbf6eb0906789f0caab776fad699a36ee9f18d2917b033e 0x0f42bb ())))'\n",
    "\n",
    "((CREATE_PUZZLE_ANNOUNCEMENT 0xb2bbec57614a4d6be2a7a4c5c547ee3cb1a1ee5d3b1effd2be72a580aeab04fb) (CREATE_COIN 0x033c8a1596e0cfd72cbf6eb0906789f0caab776fad699a36ee9f18d2917b033e 0x0f42bb ()))\n",
    "\n",
    "grouped conditions:\n",
    "\n",
    "  (CREATE_PUZZLE_ANNOUNCEMENT 0xb2bbec57614a4d6be2a7a4c5c547ee3cb1a1ee5d3b1effd2be72a580aeab04fb)\n",
    "\n",
    "  (CREATE_COIN 0x033c8a1596e0cfd72cbf6eb0906789f0caab776fad699a36ee9f18d2917b033e 0x0f42bb ())\n",
    "\n",
    "\n",
    "-------\n",
    "consuming coin (0x0ce3f47db17a83a1cc344666a5b9113a8ed8fe5f1a5904d1c39711510d0b0331 0x73ca304fb1e7e99d5ca042d3ba4cffefbcdec9e927ca39c7ebfec83cc2878628 10000)\n",
    "  with id 9a08527e5c03ed47c81b92aa5bec6f93fa1c886c596470e5392602cba27853bf\n",
    "\n",
    "\n",
    "brun -y main.sym '(a (q 2 (q 2 94 (c 2 (c (c 5 (c (sha256 52 5) (c 11 ()))) (c (a 23 47) (c 95 (c (a 46 (c 2 (c 23 ()))) (c (a 42 (c 2 (c 639 (c 1407 (c 2943 ()))))) (c -65 (c 383 (c 767 (c 1535 (c 3071 ())))))))))))) (c (q (((61 . 70) 2 51 . 60) (c . 1) 1 -53 . 2) ((not 2 (i 5 (q 2 50 (c 2 (c 13 (c (sha256 124 (sha256 52 36) (sha256 124 (sha256 124 (sha256 52 44) 9) (sha256 124 11 (sha256 52 ())))) ())))) (q . 11)) 1) (a (i (all (= (strlen 5) 34) (= (strlen 11) 34) (> 23 (q . -1))) (q 11 5 11 23) (q 8)) 1) (a (i 11 (q 2 (i (= (a 46 (c 2 (c 19 ()))) 2975) (q 2 86 (c 2 (c (a 19 (c 95 (c 23 (c 47 (c -65 (c 383 (c 27 ()))))))) (c 383 ())))) (q 8)) 1) (q 2 (i 23 (q 2 (i (not -65) (q . 383) (q 8)) 1) (q 8)) 1)) 1) 4 (c 5 39) (c (+ 11 87) 119)) ((a (i 5 (q 2 (i (= (a (i (= 17 88) (q . 89) ()) 1) (q . -113)) (q 2 38 (c 2 (c 13 (c 11 (c (c -71 377) ()))))) (q 2 122 (c 2 (c (a (i (= 17 88) (q 4 88 (c (a 118 (c 2 (c 19 (c 41 (c (sha256 52 91) (c 43 ())))))) 57)) (q 2 (i (= 17 120) (q 2 (i (not (a (i (= (q . 33) (strlen 41)) (q 2 (i (= (substr 41 () 52) 92) (q 1 . 1) ()) 1) ()) 1)) (q . 9) (q 8)) 1) (q . 9)) 1)) 1) (c (a (i (= 17 88) (q . 89) ()) 1) (c (a 38 (c 2 (c 13 (c 11 (c 23 ()))))) ())))))) 1) (q 4 () (c () 23))) 1) (a (i 5 (q 4 9 (a 86 (c 2 (c 13 (c 11 ()))))) (q . 11)) 1) 11 124 (sha256 52 40) (sha256 124 (sha256 124 (sha256 52 44) 5) (sha256 124 (a 50 (c 2 (c 7 (c (sha256 52 52) ())))) (sha256 52 ())))) (a (i (l 5) (q 11 (q . 2) (a 46 (c 2 (c 9 ()))) (a 46 (c 2 (c 13 ())))) (q 11 (q . 1) 5)) 1) (c (c 48 (c 95 ())) (a 126 (c 2 (c (c (c 47 5) (c 95 383)) (c (a 38 (c 2 (c 11 (c 5 (q ()))))) (c 23 (c -65 (c 383 (c (a 42 (c 2 (c 1279 (c (a 118 (c 2 (c 9 (c 2815 (c (sha256 52 45) (c 21 ())))))) (c 5887 ()))))) (c 1535 (c 3071 ()))))))))))) 2 90 (c 2 (c 95 (c 59 (c (a (i 23 (q 9 45 (a 42 (c 2 (c 39 (c (a 118 (c 2 (c 41 (c 87 (c (sha256 52 -71) (c 89 ())))))) (c -73 ())))))) ()) 1) (c 23 (c 5 (c 767 (c (c (c 120 (c (concat 92 (a 46 (c 2 (c (c 47 (c 383 ())) ())))) ())) (c (c 32 (c (sha256 -65 92 (a 46 (c 2 (c (c 21 (c (+ 383 (- 735 43) 767) ())) ())))) ())) 19)) ()))))))))) 1)) (c (q . 0x37bef360ee858133b69d595a906dc45d01af50379dad515eb9518abb7c1d2a7a) (c (q . 0xb831d001dc996f9fd8626bb11ecb7cac9e6a596796137fd22ff801d8746ec918) (c (q 2 (q 2 10 (c 2 (c 3 ()))) (c (q (51 . 62) (a (i 5 (q 4 (c 12 (c (a 30 (c 2 (c 9 ()))) ())) (a 22 (c 2 (c 25 (c (a 10 (c 2 (c 13 ()))) ()))))) ()) 1) (a (i 5 (q 4 (c 8 9) (a 22 (c 2 (c 13 (c 11 ()))))) (q . 11)) 1) 2 (i (l 5) (q 11 (q . 2) (a 30 (c 2 (c 9 ()))) (a 30 (c 2 (c 13 ())))) (q 11 (q . 1) 5)) 1) 1)) 1))))' '(((0x659c23bd8ac281c0c9df16a81f5ae3420f6e4d483b1ba2efb0d738bf344cfc4f (0x306fa25a1fe69a2f3570d42d3125830ca29c7209120ae31aa31be391d784cf3d 10000 (0x306fa25a1fe69a2f3570d42d3125830ca29c7209120ae31aa31be391d784cf3d)))) (0x547661088c6ba255fb26af282cdc4132499ded3d173cdd8b6a3a6d08d5f058f8 0xc57ee6aa551772ecb3cc6cb555d1357c2551e2dd48a490973b41fad206499db4 0x0f3e58) 0x9a08527e5c03ed47c81b92aa5bec6f93fa1c886c596470e5392602cba27853bf (0x0ce3f47db17a83a1cc344666a5b9113a8ed8fe5f1a5904d1c39711510d0b0331 0x73ca304fb1e7e99d5ca042d3ba4cffefbcdec9e927ca39c7ebfec83cc2878628 10000) (0x0ce3f47db17a83a1cc344666a5b9113a8ed8fe5f1a5904d1c39711510d0b0331 0xbae24162efbd568f89bc7a340798a6118df0189eb9e3f8697bcea27af99f8f79 10000) () ())'\n",
    "\n",
    "((ASSERT_MY_COIN_ID 0x9a08527e5c03ed47c81b92aa5bec6f93fa1c886c596470e5392602cba27853bf) (CREATE_COIN_ANNOUNCEMENT 0xcb78e90f411c2296e2ca90c65855b4788239a3e8b29610b4d83ffe580fa12b0fbf) (ASSERT_COIN_ANNOUNCEMENT 0xe928d445d10633a1bb2ac7a3b64c019b6afd062134ab480a07f38f2e35509904) (CREATE_PUZZLE_ANNOUNCEMENT 0xde8b4dbef54f206aa6cfe7fc6127d7ae2382d457c38674f707ac8830fd073f9c) (CREATE_COIN 0xdb09c1e6652d346654f862ffc86b076225e311511395d51c1e98531624798618 10000 (0x306fa25a1fe69a2f3570d42d3125830ca29c7209120ae31aa31be391d784cf3d)))\n",
    "\n",
    "grouped conditions:\n",
    "\n",
    "  (ASSERT_MY_COIN_ID 0x9a08527e5c03ed47c81b92aa5bec6f93fa1c886c596470e5392602cba27853bf)\n",
    "\n",
    "  (CREATE_COIN_ANNOUNCEMENT 0xcb78e90f411c2296e2ca90c65855b4788239a3e8b29610b4d83ffe580fa12b0fbf)\n",
    "\n",
    "  (ASSERT_COIN_ANNOUNCEMENT 0xe928d445d10633a1bb2ac7a3b64c019b6afd062134ab480a07f38f2e35509904)\n",
    "\n",
    "  (CREATE_PUZZLE_ANNOUNCEMENT 0xde8b4dbef54f206aa6cfe7fc6127d7ae2382d457c38674f707ac8830fd073f9c)\n",
    "\n",
    "  (CREATE_COIN 0xdb09c1e6652d346654f862ffc86b076225e311511395d51c1e98531624798618 10000)\n",
    "\n",
    "\n",
    "-------\n",
    "consuming coin (0x547661088c6ba255fb26af282cdc4132499ded3d173cdd8b6a3a6d08d5f058f8 0xb263fb8ea202a69439cfea929e07085aa47efa878a6d27db19c4830633657674 0x0f3e58)\n",
    "  with id 0ce3f47db17a83a1cc344666a5b9113a8ed8fe5f1a5904d1c39711510d0b0331\n",
    "\n",
    "\n",
    "brun -y main.sym '(a (q 2 (q 2 94 (c 2 (c (c 5 (c (sha256 52 5) (c 11 ()))) (c (a 23 47) (c 95 (c (a 46 (c 2 (c 23 ()))) (c (a 42 (c 2 (c 639 (c 1407 (c 2943 ()))))) (c -65 (c 383 (c 767 (c 1535 (c 3071 ())))))))))))) (c (q (((61 . 70) 2 51 . 60) (c . 1) 1 -53 . 2) ((not 2 (i 5 (q 2 50 (c 2 (c 13 (c (sha256 124 (sha256 52 36) (sha256 124 (sha256 124 (sha256 52 44) 9) (sha256 124 11 (sha256 52 ())))) ())))) (q . 11)) 1) (a (i (all (= (strlen 5) 34) (= (strlen 11) 34) (> 23 (q . -1))) (q 11 5 11 23) (q 8)) 1) (a (i 11 (q 2 (i (= (a 46 (c 2 (c 19 ()))) 2975) (q 2 86 (c 2 (c (a 19 (c 95 (c 23 (c 47 (c -65 (c 383 (c 27 ()))))))) (c 383 ())))) (q 8)) 1) (q 2 (i 23 (q 2 (i (not -65) (q . 383) (q 8)) 1) (q 8)) 1)) 1) 4 (c 5 39) (c (+ 11 87) 119)) ((a (i 5 (q 2 (i (= (a (i (= 17 88) (q . 89) ()) 1) (q . -113)) (q 2 38 (c 2 (c 13 (c 11 (c (c -71 377) ()))))) (q 2 122 (c 2 (c (a (i (= 17 88) (q 4 88 (c (a 118 (c 2 (c 19 (c 41 (c (sha256 52 91) (c 43 ())))))) 57)) (q 2 (i (= 17 120) (q 2 (i (not (a (i (= (q . 33) (strlen 41)) (q 2 (i (= (substr 41 () 52) 92) (q 1 . 1) ()) 1) ()) 1)) (q . 9) (q 8)) 1) (q . 9)) 1)) 1) (c (a (i (= 17 88) (q . 89) ()) 1) (c (a 38 (c 2 (c 13 (c 11 (c 23 ()))))) ())))))) 1) (q 4 () (c () 23))) 1) (a (i 5 (q 4 9 (a 86 (c 2 (c 13 (c 11 ()))))) (q . 11)) 1) 11 124 (sha256 52 40) (sha256 124 (sha256 124 (sha256 52 44) 5) (sha256 124 (a 50 (c 2 (c 7 (c (sha256 52 52) ())))) (sha256 52 ())))) (a (i (l 5) (q 11 (q . 2) (a 46 (c 2 (c 9 ()))) (a 46 (c 2 (c 13 ())))) (q 11 (q . 1) 5)) 1) (c (c 48 (c 95 ())) (a 126 (c 2 (c (c (c 47 5) (c 95 383)) (c (a 38 (c 2 (c 11 (c 5 (q ()))))) (c 23 (c -65 (c 383 (c (a 42 (c 2 (c 1279 (c (a 118 (c 2 (c 9 (c 2815 (c (sha256 52 45) (c 21 ())))))) (c 5887 ()))))) (c 1535 (c 3071 ()))))))))))) 2 90 (c 2 (c 95 (c 59 (c (a (i 23 (q 9 45 (a 42 (c 2 (c 39 (c (a 118 (c 2 (c 41 (c 87 (c (sha256 52 -71) (c 89 ())))))) (c -73 ())))))) ()) 1) (c 23 (c 5 (c 767 (c (c (c 120 (c (concat 92 (a 46 (c 2 (c (c 47 (c 383 ())) ())))) ())) (c (c 32 (c (sha256 -65 92 (a 46 (c 2 (c (c 21 (c (+ 383 (- 735 43) 767) ())) ())))) ())) 19)) ()))))))))) 1)) (c (q . 0x37bef360ee858133b69d595a906dc45d01af50379dad515eb9518abb7c1d2a7a) (c (q . 0xb831d001dc996f9fd8626bb11ecb7cac9e6a596796137fd22ff801d8746ec918) (c (q 2 (q 2 (q 2 (i 11 (q 2 (i (= 5 (point_add 11 (pubkey_for_exp (sha256 11 (a 6 (c 2 (c 23 ()))))))) (q 2 23 47) (q 8)) 1) (q 4 (c 4 (c 5 (c (a 6 (c 2 (c 23 ()))) ()))) (a 23 47))) 1) (c (q 50 2 (i (l 5) (q 11 (q . 2) (a 6 (c 2 (c 9 ()))) (a 6 (c 2 (c 13 ())))) (q 11 (q . 1) 5)) 1) 1)) (c (q . 0xb9dcd2f16dd012042a89110497bcada9135ab5c58322aef4fcbe57fcb2f6ca82f17dd3d1f4265ed2b470d146eaaf7a97) 1)) 1))))' '((() (q (51 0xbae24162efbd568f89bc7a340798a6118df0189eb9e3f8697bcea27af99f8f79 10000 (0xbae24162efbd568f89bc7a340798a6118df0189eb9e3f8697bcea27af99f8f79)) (51 0x2a2170100c94332840be8c0ce74baacaef01ae12f28abc0d142951ec3a471d0c 0x0f1748) (60 0xe13f57eef5c8eca2e43f40471d65a0bb4450e48539cdd73925cf766780bab0a9) (63 0x68c5cbf3da524bfcfa7d3c707bb6a2a9ef5751ea9b98351bd3773c617195bac7)) ()) (0xde7fbb12663cf2ee4c519c8cc51337c2625148d7e147cfbd1a0f58b28154ea45 0x17f4184e76bae6018073137a028e94f601f4f166874acd708453c373d38f1a64 0x0f4240) 0x0ce3f47db17a83a1cc344666a5b9113a8ed8fe5f1a5904d1c39711510d0b0331 (0x547661088c6ba255fb26af282cdc4132499ded3d173cdd8b6a3a6d08d5f058f8 0xb263fb8ea202a69439cfea929e07085aa47efa878a6d27db19c4830633657674 0x0f3e58) (0x547661088c6ba255fb26af282cdc4132499ded3d173cdd8b6a3a6d08d5f058f8 0xc57ee6aa551772ecb3cc6cb555d1357c2551e2dd48a490973b41fad206499db4 0x0f3e58) () ())'\n",
    "\n",
    "((ASSERT_MY_COIN_ID 0x0ce3f47db17a83a1cc344666a5b9113a8ed8fe5f1a5904d1c39711510d0b0331) (CREATE_COIN_ANNOUNCEMENT 0xcbb5f3bcf8388ac740e0668c095244ea394f5142836df39296bdc0a9c70e1580b6) (ASSERT_COIN_ANNOUNCEMENT 0xa963c01a3e9d3b1a248184ff3bc70e4d0d5a54c3150f0312e28e68655a1fcc3c) (AGG_SIG_ME 0xb9dcd2f16dd012042a89110497bcada9135ab5c58322aef4fcbe57fcb2f6ca82f17dd3d1f4265ed2b470d146eaaf7a97 0x93190e7ce7f68990965cacf00a530e794afd9656a8c46a52e24acdce753dc194) (CREATE_COIN 0x73ca304fb1e7e99d5ca042d3ba4cffefbcdec9e927ca39c7ebfec83cc2878628 10000 (0xbae24162efbd568f89bc7a340798a6118df0189eb9e3f8697bcea27af99f8f79)) (CREATE_COIN 0x3670e05085da35b80c74567f24c642e2218e5f797ecf6e96ae5c63e6b6e540f6 0x0f1748) (CREATE_COIN_ANNOUNCEMENT 0xe13f57eef5c8eca2e43f40471d65a0bb4450e48539cdd73925cf766780bab0a9) (ASSERT_PUZZLE_ANNOUNCEMENT 0x68c5cbf3da524bfcfa7d3c707bb6a2a9ef5751ea9b98351bd3773c617195bac7))\n",
    "\n",
    "grouped conditions:\n",
    "\n",
    "  (ASSERT_MY_COIN_ID 0x0ce3f47db17a83a1cc344666a5b9113a8ed8fe5f1a5904d1c39711510d0b0331)\n",
    "\n",
    "  (CREATE_COIN_ANNOUNCEMENT 0xcbb5f3bcf8388ac740e0668c095244ea394f5142836df39296bdc0a9c70e1580b6)\n",
    "  (CREATE_COIN_ANNOUNCEMENT 0xe13f57eef5c8eca2e43f40471d65a0bb4450e48539cdd73925cf766780bab0a9)\n",
    "\n",
    "  (ASSERT_COIN_ANNOUNCEMENT 0xa963c01a3e9d3b1a248184ff3bc70e4d0d5a54c3150f0312e28e68655a1fcc3c)\n",
    "\n",
    "  (AGG_SIG_ME 0xb9dcd2f16dd012042a89110497bcada9135ab5c58322aef4fcbe57fcb2f6ca82f17dd3d1f4265ed2b470d146eaaf7a97 0x93190e7ce7f68990965cacf00a530e794afd9656a8c46a52e24acdce753dc194)\n",
    "\n",
    "  (CREATE_COIN 0x73ca304fb1e7e99d5ca042d3ba4cffefbcdec9e927ca39c7ebfec83cc2878628 10000)\n",
    "  (CREATE_COIN 0x3670e05085da35b80c74567f24c642e2218e5f797ecf6e96ae5c63e6b6e540f6 0x0f1748)\n",
    "\n",
    "  (ASSERT_PUZZLE_ANNOUNCEMENT 0x68c5cbf3da524bfcfa7d3c707bb6a2a9ef5751ea9b98351bd3773c617195bac7)\n",
    "\n",
    "\n",
    "-------\n",
    "consuming coin (0x2b04347e143936fb10d28d015d2376c484d13996f818b19496f3ef330968c763 0x3d6520eca678336946386c5bb970d74f16ebadb1d3501095ee8878326a009a71 0x01d1a93addc0)\n",
    "  with id 1be481bb026b30cd58340d80edaf306f5dea69597023925d3c01d7949c49edc6\n",
    "\n",
    "\n",
    "brun -y main.sym '(a (q 2 (q 2 (i 11 (q 2 (i (= 5 (point_add 11 (pubkey_for_exp (sha256 11 (a 6 (c 2 (c 23 ()))))))) (q 2 23 47) (q 8)) 1) (q 4 (c 4 (c 5 (c (a 6 (c 2 (c 23 ()))) ()))) (a 23 47))) 1) (c (q 50 2 (i (l 5) (q 11 (q . 2) (a 6 (c 2 (c 9 ()))) (a 6 (c 2 (c 13 ())))) (q 11 (q . 1) 5)) 1) 1)) (c (q . 0x87ec0e7df46233cd5ba111c4ba101f9b504f4088628fbc0d1542f618db641eb0c2aadffd7fad8db34c3bcd32abb9397b) 1))' '(() (q (51 0xbae24162efbd568f89bc7a340798a6118df0189eb9e3f8697bcea27af99f8f79 0x0f42bb) (51 0x762ae91ed711ca3288820236b8741f33837b74b0698c60e13b4c0c6d926f7e0d 0x01d1a92b9b05) (60 0xd58585344b8cfa4c7db72d950a06ff069f6f2ee03fc1ad42f95da8d71d598935) (63 0xf566922c4e3e80d0ba4a729fa7e6a72da7700ddc82c3280b97a542ebc4096cc2)) ())'\n",
    "\n",
    "((AGG_SIG_ME 0x87ec0e7df46233cd5ba111c4ba101f9b504f4088628fbc0d1542f618db641eb0c2aadffd7fad8db34c3bcd32abb9397b 0x4a27472735b4152d12556407c5ffda6c365bd3f29bb4be9670b1f33883891c85) (CREATE_COIN 0xbae24162efbd568f89bc7a340798a6118df0189eb9e3f8697bcea27af99f8f79 0x0f42bb) (CREATE_COIN 0x762ae91ed711ca3288820236b8741f33837b74b0698c60e13b4c0c6d926f7e0d 0x01d1a92b9b05) (CREATE_COIN_ANNOUNCEMENT 0xd58585344b8cfa4c7db72d950a06ff069f6f2ee03fc1ad42f95da8d71d598935) (ASSERT_PUZZLE_ANNOUNCEMENT 0xf566922c4e3e80d0ba4a729fa7e6a72da7700ddc82c3280b97a542ebc4096cc2))\n",
    "\n",
    "grouped conditions:\n",
    "\n",
    "  (AGG_SIG_ME 0x87ec0e7df46233cd5ba111c4ba101f9b504f4088628fbc0d1542f618db641eb0c2aadffd7fad8db34c3bcd32abb9397b 0x4a27472735b4152d12556407c5ffda6c365bd3f29bb4be9670b1f33883891c85)\n",
    "\n",
    "  (CREATE_COIN 0xbae24162efbd568f89bc7a340798a6118df0189eb9e3f8697bcea27af99f8f79 0x0f42bb)\n",
    "  (CREATE_COIN 0x762ae91ed711ca3288820236b8741f33837b74b0698c60e13b4c0c6d926f7e0d 0x01d1a92b9b05)\n",
    "\n",
    "  (CREATE_COIN_ANNOUNCEMENT 0xd58585344b8cfa4c7db72d950a06ff069f6f2ee03fc1ad42f95da8d71d598935)\n",
    "\n",
    "  (ASSERT_PUZZLE_ANNOUNCEMENT 0xf566922c4e3e80d0ba4a729fa7e6a72da7700ddc82c3280b97a542ebc4096cc2)\n",
    "\n",
    "\n",
    "-------\n",
    "\n",
    "spent coins\n",
    "  (0x547661088c6ba255fb26af282cdc4132499ded3d173cdd8b6a3a6d08d5f058f8 0xb263fb8ea202a69439cfea929e07085aa47efa878a6d27db19c4830633657674 0x0f3e58)\n",
    "      => spent coin id 0ce3f47db17a83a1cc344666a5b9113a8ed8fe5f1a5904d1c39711510d0b0331\n",
    "  (0x2b04347e143936fb10d28d015d2376c484d13996f818b19496f3ef330968c763 0x3d6520eca678336946386c5bb970d74f16ebadb1d3501095ee8878326a009a71 0x01d1a93addc0)\n",
    "      => spent coin id 1be481bb026b30cd58340d80edaf306f5dea69597023925d3c01d7949c49edc6\n",
    "\n",
    "created coins\n",
    "  (0x1be481bb026b30cd58340d80edaf306f5dea69597023925d3c01d7949c49edc6 0x762ae91ed711ca3288820236b8741f33837b74b0698c60e13b4c0c6d926f7e0d 0x01d1a92b9b05)\n",
    "      => created coin id 17ce1ae4f3254e980a0442e6aa9e88dbbd1f6edb407c56918e3da332fe3405d9\n",
    "  (0x9a08527e5c03ed47c81b92aa5bec6f93fa1c886c596470e5392602cba27853bf 0xdb09c1e6652d346654f862ffc86b076225e311511395d51c1e98531624798618 10000)\n",
    "      => created coin id 41a60dec1793c05e966f3c6bcf64ffa1f0f06e83d6c52991e083a6aa271187cf\n",
    "  (0x0ce3f47db17a83a1cc344666a5b9113a8ed8fe5f1a5904d1c39711510d0b0331 0x3670e05085da35b80c74567f24c642e2218e5f797ecf6e96ae5c63e6b6e540f6 0x0f1748)\n",
    "      => created coin id 8bbdbc2147c6b5a034db0ea89eaba891dcf44fd40d88a550c31ddc1f0facb2b9\n",
    "  (0xc45b90a1df28a0427d96c34aba0510a7bbc21897e806bedb363eda03d468655a 0x033c8a1596e0cfd72cbf6eb0906789f0caab776fad699a36ee9f18d2917b033e 0x0f42bb)\n",
    "      => created coin id af3aff238e930af7927e230feafa7f85ed4b423ec90cec8778df201372afb1e2\n",
    "\n",
    "ephemeral coins\n",
    "  (0x0ce3f47db17a83a1cc344666a5b9113a8ed8fe5f1a5904d1c39711510d0b0331 0x73ca304fb1e7e99d5ca042d3ba4cffefbcdec9e927ca39c7ebfec83cc2878628 10000)\n",
    "      => created coin id 9a08527e5c03ed47c81b92aa5bec6f93fa1c886c596470e5392602cba27853bf\n",
    "  (0x1be481bb026b30cd58340d80edaf306f5dea69597023925d3c01d7949c49edc6 0xbae24162efbd568f89bc7a340798a6118df0189eb9e3f8697bcea27af99f8f79 0x0f42bb)\n",
    "      => created coin id c45b90a1df28a0427d96c34aba0510a7bbc21897e806bedb363eda03d468655a\n",
    "created coin announcements\n",
    "  ['0x1be481bb026b30cd58340d80edaf306f5dea69597023925d3c01d7949c49edc6', '0xd58585344b8cfa4c7db72d950a06ff069f6f2ee03fc1ad42f95da8d71d598935'] =>\n",
    "      7cc9497578226d472c0e0ab7df62b9a65996ac1655f2eb364d3c10bbc0a2a446\n",
    "  ['0x0ce3f47db17a83a1cc344666a5b9113a8ed8fe5f1a5904d1c39711510d0b0331', '0xcbb5f3bcf8388ac740e0668c095244ea394f5142836df39296bdc0a9c70e1580b6'] =>\n",
    "      a963c01a3e9d3b1a248184ff3bc70e4d0d5a54c3150f0312e28e68655a1fcc3c\n",
    "  ['0x0ce3f47db17a83a1cc344666a5b9113a8ed8fe5f1a5904d1c39711510d0b0331', '0xe13f57eef5c8eca2e43f40471d65a0bb4450e48539cdd73925cf766780bab0a9'] =>\n",
    "      e402966022ff6dfa7468d92c2ca010febc5d68f3abfd9a3d29811fa4837aa811\n",
    "  ['0x9a08527e5c03ed47c81b92aa5bec6f93fa1c886c596470e5392602cba27853bf', '0xcb78e90f411c2296e2ca90c65855b4788239a3e8b29610b4d83ffe580fa12b0fbf'] =>\n",
    "      e928d445d10633a1bb2ac7a3b64c019b6afd062134ab480a07f38f2e35509904\n",
    "created puzzle announcements\n",
    "  ['0xbae24162efbd568f89bc7a340798a6118df0189eb9e3f8697bcea27af99f8f79', '0xb2bbec57614a4d6be2a7a4c5c547ee3cb1a1ee5d3b1effd2be72a580aeab04fb'] =>\n",
    "      68c5cbf3da524bfcfa7d3c707bb6a2a9ef5751ea9b98351bd3773c617195bac7\n",
    "  ['0x73ca304fb1e7e99d5ca042d3ba4cffefbcdec9e927ca39c7ebfec83cc2878628', '0xde8b4dbef54f206aa6cfe7fc6127d7ae2382d457c38674f707ac8830fd073f9c'] =>\n",
    "      f566922c4e3e80d0ba4a729fa7e6a72da7700ddc82c3280b97a542ebc4096cc2\n",
    "\n",
    "\n",
    "zero_coin_set = []\n",
    "\n",
    "created  coin announcements = ['7cc9497578226d472c0e0ab7df62b9a65996ac1655f2eb364d3c10bbc0a2a446', 'a963c01a3e9d3b1a248184ff3bc70e4d0d5a54c3150f0312e28e68655a1fcc3c', 'e402966022ff6dfa7468d92c2ca010febc5d68f3abfd9a3d29811fa4837aa811', 'e928d445d10633a1bb2ac7a3b64c019b6afd062134ab480a07f38f2e35509904']\n",
    "\n",
    "asserted coin announcements = ['a963c01a3e9d3b1a248184ff3bc70e4d0d5a54c3150f0312e28e68655a1fcc3c', 'e928d445d10633a1bb2ac7a3b64c019b6afd062134ab480a07f38f2e35509904']\n",
    "\n",
    "symdiff of coin announcements = ['7cc9497578226d472c0e0ab7df62b9a65996ac1655f2eb364d3c10bbc0a2a446', 'e402966022ff6dfa7468d92c2ca010febc5d68f3abfd9a3d29811fa4837aa811']\n",
    "\n",
    "created  puzzle announcements = ['68c5cbf3da524bfcfa7d3c707bb6a2a9ef5751ea9b98351bd3773c617195bac7', 'f566922c4e3e80d0ba4a729fa7e6a72da7700ddc82c3280b97a542ebc4096cc2']\n",
    "\n",
    "asserted puzzle announcements = ['68c5cbf3da524bfcfa7d3c707bb6a2a9ef5751ea9b98351bd3773c617195bac7', 'f566922c4e3e80d0ba4a729fa7e6a72da7700ddc82c3280b97a542ebc4096cc2']\n",
    "\n",
    "symdiff of puzzle announcements = []\n",
    "\n",
    "\n",
    "================================================================================\n",
    "\n",
    "aggregated signature check pass: True\n",
    "pks: [<G1Element b9dcd2f16dd012042a89110497bcada9135ab5c58322aef4fcbe57fcb2f6ca82f17dd3d1f4265ed2b470d146eaaf7a97>, <G1Element 87ec0e7df46233cd5ba111c4ba101f9b504f4088628fbc0d1542f618db641eb0c2aadffd7fad8db34c3bcd32abb9397b>]\n",
    "msgs: ['93190e7ce7f68990965cacf00a530e794afd9656a8c46a52e24acdce753dc1940ce3f47db17a83a1cc344666a5b9113a8ed8fe5f1a5904d1c39711510d0b0331ccd5bb71183532bff220ba46c268991a3ff07eb358e8255a65c30a2dce0e5fbb', '4a27472735b4152d12556407c5ffda6c365bd3f29bb4be9670b1f33883891c851be481bb026b30cd58340d80edaf306f5dea69597023925d3c01d7949c49edc6ccd5bb71183532bff220ba46c268991a3ff07eb358e8255a65c30a2dce0e5fbb']\n",
    "  msg_data: ['93190e7ce7f68990965cacf00a530e794afd9656a8c46a52e24acdce753dc194', '4a27472735b4152d12556407c5ffda6c365bd3f29bb4be9670b1f33883891c85']\n",
    "  coin_ids: ['0ce3f47db17a83a1cc344666a5b9113a8ed8fe5f1a5904d1c39711510d0b0331', '1be481bb026b30cd58340d80edaf306f5dea69597023925d3c01d7949c49edc6']\n",
    "  add_data: ['ccd5bb71183532bff220ba46c268991a3ff07eb358e8255a65c30a2dce0e5fbb', 'ccd5bb71183532bff220ba46c268991a3ff07eb358e8255a65c30a2dce0e5fbb']\n",
    "signature: b92b0f66e6f282b36c3c0e23d4be7872557f8bd5b9706d502cd07d858b2b85ac10e5d2966eddac9537e16b1575e618ce0743e0c4984758e544e7f06e714ec9e45ae0d921dd14d8d5ea3eaf574790d39ffa7627cb5a95f8667dacf690a18bf8e0\n",
    "None\n",
    "```"
   ]
  },
  {
   "cell_type": "markdown",
   "id": "efcd68b4-aee6-4aa7-94be-46ec05bd63d1",
   "metadata": {},
   "source": [
    "#### spent coins\n",
    "  - (0x547661088c6ba255fb26af282cdc4132499ded3d173cdd8b6a3a6d08d5f058f8 0xb263fb8ea202a69439cfea929e07085aa47efa878a6d27db19c4830633657674 0x0f3e58)\n",
    "      => spent coin id 0ce3f47db17a83a1cc344666a5b9113a8ed8fe5f1a5904d1c39711510d0b0331\n",
    "  - (0x2b04347e143936fb10d28d015d2376c484d13996f818b19496f3ef330968c763 0x3d6520eca678336946386c5bb970d74f16ebadb1d3501095ee8878326a009a71 0x01d1a93addc0)\n",
    "      => spent coin id 1be481bb026b30cd58340d80edaf306f5dea69597023925d3c01d7949c49edc6\n",
    "\n",
    "#### created coins\n",
    "  - (0x1be481bb026b30cd58340d80edaf306f5dea69597023925d3c01d7949c49edc6 0x762ae91ed711ca3288820236b8741f33837b74b0698c60e13b4c0c6d926f7e0d 0x01d1a92b9b05)\n",
    "      => created coin id 17ce1ae4f3254e980a0442e6aa9e88dbbd1f6edb407c56918e3da332fe3405d9\n",
    "  - **(0x9a08527e5c03ed47c81b92aa5bec6f93fa1c886c596470e5392602cba27853bf 0xdb09c1e6652d346654f862ffc86b076225e311511395d51c1e98531624798618 10000)**\n",
    "      => created coin id 41a60dec1793c05e966f3c6bcf64ffa1f0f06e83d6c52991e083a6aa271187cf\n",
    "  - (0x0ce3f47db17a83a1cc344666a5b9113a8ed8fe5f1a5904d1c39711510d0b0331 0x3670e05085da35b80c74567f24c642e2218e5f797ecf6e96ae5c63e6b6e540f6 0x0f1748)\n",
    "      => created coin id 8bbdbc2147c6b5a034db0ea89eaba891dcf44fd40d88a550c31ddc1f0facb2b9\n",
    "  - **(0xc45b90a1df28a0427d96c34aba0510a7bbc21897e806bedb363eda03d468655a 0x033c8a1596e0cfd72cbf6eb0906789f0caab776fad699a36ee9f18d2917b033e 0x0f42bb)**\n",
    "      => created coin id af3aff238e930af7927e230feafa7f85ed4b423ec90cec8778df201372afb1e2\n",
    "\n",
    "#### ephemeral coins\n",
    "  - (0x0ce3f47db17a83a1cc344666a5b9113a8ed8fe5f1a5904d1c39711510d0b0331 **0x73ca304fb1e7e99d5ca042d3ba4cffefbcdec9e927ca39c7ebfec83cc2878628** 10000)\n",
    "      => created coin id 9a08527e5c03ed47c81b92aa5bec6f93fa1c886c596470e5392602cba27853bf\n",
    "  - (0x1be481bb026b30cd58340d80edaf306f5dea69597023925d3c01d7949c49edc6 **0xbae24162efbd568f89bc7a340798a6118df0189eb9e3f8697bcea27af99f8f79 0x0f42bb**)\n",
    "      => created coin id c45b90a1df28a0427d96c34aba0510a7bbc21897e806bedb363eda03d468655a\n"
   ]
  },
  {
   "cell_type": "markdown",
   "id": "668f14db-76d1-4b56-8b85-69855679c119",
   "metadata": {},
   "source": [
    "#### Alice\n",
    "```\n",
    "consuming coin (0x547661088c6ba255fb26af282cdc4132499ded3d173cdd8b6a3a6d08d5f058f8 0xb263fb8ea202a69439cfea929e07085aa47efa878a6d27db19c4830633657674 0x0f3e58)\n",
    "  with id 0ce3f47db17a83a1cc344666a5b9113a8ed8fe5f1a5904d1c39711510d0b0331\n",
    "\n",
    "  (ASSERT_MY_COIN_ID 0x0ce3f47db17a83a1cc344666a5b9113a8ed8fe5f1a5904d1c39711510d0b0331)\n",
    "\n",
    "  (CREATE_COIN_ANNOUNCEMENT 0xcbb5f3bcf8388ac740e0668c095244ea394f5142836df39296bdc0a9c70e1580b6)\n",
    "  (CREATE_COIN_ANNOUNCEMENT 0xe13f57eef5c8eca2e43f40471d65a0bb4450e48539cdd73925cf766780bab0a9)\n",
    "\n",
    "  (ASSERT_COIN_ANNOUNCEMENT 0xa963c01a3e9d3b1a248184ff3bc70e4d0d5a54c3150f0312e28e68655a1fcc3c)\n",
    "\n",
    "  (AGG_SIG_ME 0xb9dcd2f16dd012042a89110497bcada9135ab5c58322aef4fcbe57fcb2f6ca82f17dd3d1f4265ed2b470d146eaaf7a97 0x93190e7ce7f68990965cacf00a530e794afd9656a8c46a52e24acdce753dc194)\n",
    "\n",
    "  (CREATE_COIN **0x73ca304fb1e7e99d5ca042d3ba4cffefbcdec9e927ca39c7ebfec83cc2878628** 10000)\n",
    "  (CREATE_COIN 0x3670e05085da35b80c74567f24c642e2218e5f797ecf6e96ae5c63e6b6e540f6 0x0f1748)\n",
    "\n",
    "  (ASSERT_PUZZLE_ANNOUNCEMENT 0x68c5cbf3da524bfcfa7d3c707bb6a2a9ef5751ea9b98351bd3773c617195bac7)\n",
    "```\n",
    "\n",
    "##### Settlement\n",
    "```\n",
    "consuming coin (0x0ce3f47db17a83a1cc344666a5b9113a8ed8fe5f1a5904d1c39711510d0b0331 **0x73ca304fb1e7e99d5ca042d3ba4cffefbcdec9e927ca39c7ebfec83cc2878628** 10000)\n",
    "  with id 9a08527e5c03ed47c81b92aa5bec6f93fa1c886c596470e5392602cba27853bf\n",
    "\n",
    "  (ASSERT_MY_COIN_ID 0x9a08527e5c03ed47c81b92aa5bec6f93fa1c886c596470e5392602cba27853bf)\n",
    "\n",
    "  (CREATE_COIN_ANNOUNCEMENT 0xcb78e90f411c2296e2ca90c65855b4788239a3e8b29610b4d83ffe580fa12b0fbf)\n",
    "\n",
    "  (ASSERT_COIN_ANNOUNCEMENT 0xe928d445d10633a1bb2ac7a3b64c019b6afd062134ab480a07f38f2e35509904)\n",
    "\n",
    "  (CREATE_PUZZLE_ANNOUNCEMENT 0xde8b4dbef54f206aa6cfe7fc6127d7ae2382d457c38674f707ac8830fd073f9c)\n",
    "\n",
    "  (CREATE_COIN **0xdb09c1e6652d346654f862ffc86b076225e311511395d51c1e98531624798618** 10000)\n",
    "```\n",
    "\n",
    "`0xdb09c1e6652d346654f862ffc86b076225e311511395d51c1e98531624798618` is Bob's ALCE PH\n",
    "(CREATE_COIN 0x73ca304fb1e7e99d5ca042d3ba4cffefbcdec9e927ca39c7ebfec83cc2878628 10000                              \n",
    "(0xbae24162efbd568f89bc7a340798a6118df0189eb9e3f8697bcea27af99f8f79)) "
   ]
  },
  {
   "cell_type": "markdown",
   "id": "953daa6e-3a24-49df-8b7b-334a1c387bce",
   "metadata": {},
   "source": [
    "#### Bob\n",
    "##### Coins\n",
    "\n",
    "```\n",
    "consuming coin (0x2b04347e143936fb10d28d015d2376c484d13996f818b19496f3ef330968c763 0x3d6520eca678336946386c5bb970d74f16ebadb1d3501095ee8878326a009a71 0x01d1a93addc0)\n",
    "  with id 1be481bb026b30cd58340d80edaf306f5dea69597023925d3c01d7949c49edc6\n",
    "\n",
    "  (AGG_SIG_ME 0x87ec0e7df46233cd5ba111c4ba101f9b504f4088628fbc0d1542f618db641eb0c2aadffd7fad8db34c3bcd32abb9397b 0x4a27472735b4152d12556407c5ffda6c365bd3f29bb4be9670b1f33883891c85)\n",
    "\n",
    "  (CREATE_COIN **0xbae24162efbd568f89bc7a340798a6118df0189eb9e3f8697bcea27af99f8f79** 0x0f42bb)\n",
    "  (CREATE_COIN 0x762ae91ed711ca3288820236b8741f33837b74b0698c60e13b4c0c6d926f7e0d 0x01d1a92b9b05)\n",
    "\n",
    "  (CREATE_COIN_ANNOUNCEMENT 0xd58585344b8cfa4c7db72d950a06ff069f6f2ee03fc1ad42f95da8d71d598935)\n",
    "\n",
    "  (ASSERT_PUZZLE_ANNOUNCEMENT 0xf566922c4e3e80d0ba4a729fa7e6a72da7700ddc82c3280b97a542ebc4096cc2)\n",
    "```\n",
    "\n",
    "##### Settlement\n",
    "```\n",
    "consuming coin (0x1be481bb026b30cd58340d80edaf306f5dea69597023925d3c01d7949c49edc6 **0xbae24162efbd568f89bc7a340798a6118df0189eb9e3f8697bcea27af99f8f79** 0x0f42bb)\n",
    "  with id c45b90a1df28a0427d96c34aba0510a7bbc21897e806bedb363eda03d468655a`\n",
    "  (CREATE_PUZZLE_ANNOUNCEMENT 0xb2bbec57614a4d6be2a7a4c5c547ee3cb1a1ee5d3b1effd2be72a580aeab04fb)\n",
    "\n",
    "  (CREATE_COIN 0x033c8a1596e0cfd72cbf6eb0906789f0caab776fad699a36ee9f18d2917b033e 0x0f42bb ()))\n",
    "```\n",
    "\n",
    "`0x033c8a1596e0cfd72cbf6eb0906789f0caab776fad699a36ee9f18d2917b033e` is Alice's PH"
   ]
  },
  {
   "cell_type": "markdown",
   "id": "dd8cc96f-9ee8-4abf-8cca-1f88306bd6ef",
   "metadata": {},
   "source": [
    "From offer file\n",
    "- request mojos, notarized payment ph is the new requested coin ph\n",
    "- request CAT, notarized payment ph wrapped with asset id is the new requrested coin ph\n",
    "\n",
    "- offer mojos, child of create coin ph (check amount and parent) is the new offer coin\n",
    "- offer CAT, child of create coin ph (check amount and parent) is the new offer coin\n"
   ]
  }
 ],
 "metadata": {
  "kernelspec": {
   "display_name": "Python 3 (ipykernel)",
   "language": "python",
   "name": "python3"
  },
  "language_info": {
   "codemirror_mode": {
    "name": "ipython",
    "version": 3
   },
   "file_extension": ".py",
   "mimetype": "text/x-python",
   "name": "python",
   "nbconvert_exporter": "python",
   "pygments_lexer": "ipython3",
   "version": "3.10.9"
  }
 },
 "nbformat": 4,
 "nbformat_minor": 5
}
