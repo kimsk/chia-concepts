{
 "cells": [
  {
   "cell_type": "code",
   "execution_count": 1,
   "id": "d0e45d01-b452-48b4-b6e4-06b47d76710d",
   "metadata": {},
   "outputs": [],
   "source": [
    "# https://testnet.dexie.space/offers/2PqMMn4rAkc5rKXysou5nLp4p679uiTywdkBHc1bRra7\n",
    "offer_hex = \"offer1qqz83wcsltt6wcmqvpsxygqqd60lvl6hxaj55a4p6kemad9enu6k99nsn4xmnyq47wnulf4y57h05djvrk7qjdj6kxx4vm9rzhdk33fkt2cc64nvlur6sc5rznhqhn8h04883476dz7x6mny6jzdcga33n4s8n884cxcekcemz6mk3jk4v924myxaczlhtjejalrspuln44w87mvj0k2aad43aman777nk6uluxd46rtt592qfdt0rwwzkpnzjrxg857faaptvmud8d6ntuytnlfntt768spmv38ttk46ltyc2dhey28clg34rjwfpwtylnm5jrum6uys7m83rz0es56ed46dek7fjd438epymm855vk6hl6dxx0gs5qxkfgvvtlyaw0860ee8ttna87y2vgzdedjwkrk3l0h4sksdlm09weqhhm90jk4dalp0hvmxd8jhl9jjpwv8379sv3rn8jaj0c8lw5nxhleamj0x7sddjjcs7u5h4qxe2cdu62xwcvzxekt5a09akvlawj72lrkc7c4d5lz7769d0d7a64ama2yk4l0he3ndar0avjnupgxh2c7x97xt8tec4ylwy4prtd5qzf60l30mr6ujv0gln0tpl70832z0mpnjcy0vl53nxml8uyweh4h9z420l87atlumm934a2r3ksqpt2etp4t87whymd3l4dv735nf0ljka3l0gd232fta4su8rl0m7wxammd680ltvzdlasaqg5m0797gpd4t5nf2lh0h40l2hrtvnrkhzu99g77f3dkk568f7f88lu4t4jprgq3gfa6rlgwren3d08ewj7a3ew90ks7hd0apfkpa7gl8mwmx2mj0da09dv7ctrwzy0dt5tat0my33w6h3adu04te894cwdedm5lcnkp32edrmuk7h7sa0rh6xt694vpv8lqatatnd44nlpmpwjqvwfctdht0hm4xvlk6smmw8y5dd5met93kxxcnewc9d86hlh5a7h43kurkdlfceau05akl5wwu3wnvp8uqr0xkz8su0j54e\"\n",
    "offer = Offer.from_bech32(offer_hex)"
   ]
  },
  {
   "cell_type": "code",
   "execution_count": 2,
   "id": "52ffda56-6fa8-4d7e-8acb-67ad11530377",
   "metadata": {},
   "outputs": [],
   "source": [
    "additions = offer.bundle.additions()\n",
    "removals = offer.bundle.removals()"
   ]
  },
  {
   "cell_type": "code",
   "execution_count": 3,
   "id": "36523d0f-635b-4394-86a2-b6add06f1a19",
   "metadata": {
    "tags": []
   },
   "outputs": [],
   "source": [
    "def print_coins(coins):\n",
    "    for c in coins:\n",
    "        print(c.name().hex())\n",
    "        print(c)"
   ]
  },
  {
   "cell_type": "code",
   "execution_count": 8,
   "id": "1612f9bc-80f7-4eba-9b74-53b834c57135",
   "metadata": {},
   "outputs": [
    {
     "data": {
      "text/html": [
       "<pre style=\"white-space:pre;overflow-x:auto;line-height:normal;font-family:Menlo,'DejaVu Sans Mono',consolas,'Courier New',monospace\">770183a2120e794eae5198cdac5d9841a5959f7d2fa93cf426517a960daa2d1f\n",
       "</pre>\n"
      ],
      "text/plain": [
       "770183a2120e794eae5198cdac5d9841a5959f7d2fa93cf426517a960daa2d1f\n"
      ]
     },
     "metadata": {},
     "output_type": "display_data"
    },
    {
     "data": {
      "text/html": [
       "<pre style=\"white-space:pre;overflow-x:auto;line-height:normal;font-family:Menlo,'DejaVu Sans Mono',consolas,'Courier New',monospace\">Coin <span style=\"font-weight: bold\">{</span> parent_coin_info: 83f28397c90d849d4e25e51cb2ea63653a6b6e0b5d217db9f1b43503536ea45a, puzzle_hash: \n",
       "bae24162efbd568f89bc7a340798a6118df0189eb9e3f8697bcea27af99f8f79, amount: <span style=\"color: #008080; text-decoration-color: #008080; font-weight: bold\">23000000000</span> <span style=\"font-weight: bold\">}</span>\n",
       "</pre>\n"
      ],
      "text/plain": [
       "Coin \u001b[1m{\u001b[0m parent_coin_info: 83f28397c90d849d4e25e51cb2ea63653a6b6e0b5d217db9f1b43503536ea45a, puzzle_hash: \n",
       "bae24162efbd568f89bc7a340798a6118df0189eb9e3f8697bcea27af99f8f79, amount: \u001b[1;36m23000000000\u001b[0m \u001b[1m}\u001b[0m\n"
      ]
     },
     "metadata": {},
     "output_type": "display_data"
    },
    {
     "data": {
      "text/html": [
       "<pre style=\"white-space:pre;overflow-x:auto;line-height:normal;font-family:Menlo,'DejaVu Sans Mono',consolas,'Courier New',monospace\">939d2c1addb2996e3d0ddb35e1037cabd6921398cda0ef5e3a19001f7513247a\n",
       "</pre>\n"
      ],
      "text/plain": [
       "939d2c1addb2996e3d0ddb35e1037cabd6921398cda0ef5e3a19001f7513247a\n"
      ]
     },
     "metadata": {},
     "output_type": "display_data"
    },
    {
     "data": {
      "text/html": [
       "<pre style=\"white-space:pre;overflow-x:auto;line-height:normal;font-family:Menlo,'DejaVu Sans Mono',consolas,'Courier New',monospace\">Coin <span style=\"font-weight: bold\">{</span> parent_coin_info: 83f28397c90d849d4e25e51cb2ea63653a6b6e0b5d217db9f1b43503536ea45a, puzzle_hash: \n",
       "232a9317f5e4b6e27ead488137d4fd78bbc2d5a262f57cc0c7e7c7f1f73f0b08, amount: <span style=\"color: #008080; text-decoration-color: #008080; font-weight: bold\">77000000000</span> <span style=\"font-weight: bold\">}</span>\n",
       "</pre>\n"
      ],
      "text/plain": [
       "Coin \u001b[1m{\u001b[0m parent_coin_info: 83f28397c90d849d4e25e51cb2ea63653a6b6e0b5d217db9f1b43503536ea45a, puzzle_hash: \n",
       "232a9317f5e4b6e27ead488137d4fd78bbc2d5a262f57cc0c7e7c7f1f73f0b08, amount: \u001b[1;36m77000000000\u001b[0m \u001b[1m}\u001b[0m\n"
      ]
     },
     "metadata": {},
     "output_type": "display_data"
    }
   ],
   "source": [
    "print_coins(additions)"
   ]
  },
  {
   "cell_type": "markdown",
   "id": "7caae12c-c5c7-4a25-8925-85c5969bb6b5",
   "metadata": {},
   "source": [
    "`770183a2120e794eae5198cdac5d9841a5959f7d2fa93cf426517a960daa2d1f` does not create a child. The settlement puzzle coin creates.\n",
    "```sh\n",
    "❯ cdv rpc coinrecords --by parentid 0x770183a2120e794eae5198cdac5d9841a5959f7d2fa93cf426517a960daa2d1f -nd\n",
    "{}\n",
    "```"
   ]
  },
  {
   "cell_type": "code",
   "execution_count": 9,
   "id": "0bf402f0-c497-4f57-ae04-e61c0534c877",
   "metadata": {},
   "outputs": [
    {
     "data": {
      "text/html": [
       "<pre style=\"white-space:pre;overflow-x:auto;line-height:normal;font-family:Menlo,'DejaVu Sans Mono',consolas,'Courier New',monospace\">83f28397c90d849d4e25e51cb2ea63653a6b6e0b5d217db9f1b43503536ea45a\n",
       "</pre>\n"
      ],
      "text/plain": [
       "83f28397c90d849d4e25e51cb2ea63653a6b6e0b5d217db9f1b43503536ea45a\n"
      ]
     },
     "metadata": {},
     "output_type": "display_data"
    },
    {
     "data": {
      "text/html": [
       "<pre style=\"white-space:pre;overflow-x:auto;line-height:normal;font-family:Menlo,'DejaVu Sans Mono',consolas,'Courier New',monospace\">Coin <span style=\"font-weight: bold\">{</span> parent_coin_info: 1c3e54f5bcbe4c6cb9ade7920c705e1244b598357fb7b58430fedb230711dd05, puzzle_hash: \n",
       "eb267ee0ef76e6ac9ef51e22529dc3c319585304e6fe403f9599ea4fbd0a4aeb, amount: <span style=\"color: #008080; text-decoration-color: #008080; font-weight: bold\">100000000000</span> <span style=\"font-weight: bold\">}</span>\n",
       "</pre>\n"
      ],
      "text/plain": [
       "Coin \u001b[1m{\u001b[0m parent_coin_info: 1c3e54f5bcbe4c6cb9ade7920c705e1244b598357fb7b58430fedb230711dd05, puzzle_hash: \n",
       "eb267ee0ef76e6ac9ef51e22529dc3c319585304e6fe403f9599ea4fbd0a4aeb, amount: \u001b[1;36m100000000000\u001b[0m \u001b[1m}\u001b[0m\n"
      ]
     },
     "metadata": {},
     "output_type": "display_data"
    }
   ],
   "source": [
    "print_coins(removals)"
   ]
  },
  {
   "cell_type": "code",
   "execution_count": 5,
   "id": "a9a9863c-165c-4ea9-bd8e-7432f71330e8",
   "metadata": {},
   "outputs": [
    {
     "name": "stdout",
     "output_type": "stream",
     "text": [
      "Notarized Payment:\n"
     ]
    },
    {
     "data": {
      "text/html": [
       "<pre style=\"white-space:pre;overflow-x:auto;line-height:normal;font-family:Menlo,'DejaVu Sans Mono',consolas,'Courier New',monospace\"><span style=\"color: #f8f8f2; text-decoration-color: #f8f8f2; background-color: #272822\">(</span><span style=\"color: #a6e22e; text-decoration-color: #a6e22e; background-color: #272822\">CREATE_COIN</span><span style=\"color: #f8f8f2; text-decoration-color: #f8f8f2; background-color: #272822\"> </span><span style=\"color: #ae81ff; text-decoration-color: #ae81ff; background-color: #272822\">0</span><span style=\"color: #f8f8f2; text-decoration-color: #f8f8f2; background-color: #272822\">xc9d0d3c99d4418f3b1a22bb954189f717cd3ac956dd966917f681616eba26a3a </span><span style=\"color: #ae81ff; text-decoration-color: #ae81ff; background-color: #272822\">23795</span><span style=\"color: #f8f8f2; text-decoration-color: #f8f8f2; background-color: #272822\"> </span><span style=\"background-color: #272822\">                             </span>\n",
       "<span style=\"color: #f8f8f2; text-decoration-color: #f8f8f2; background-color: #272822\">(</span><span style=\"color: #ae81ff; text-decoration-color: #ae81ff; background-color: #272822\">0</span><span style=\"color: #f8f8f2; text-decoration-color: #f8f8f2; background-color: #272822\">xc9d0d3c99d4418f3b1a22bb954189f717cd3ac956dd966917f681616eba26a3a))</span><span style=\"background-color: #272822\">                                              </span>\n",
       "</pre>\n"
      ],
      "text/plain": [
       "\u001b[38;2;248;248;242;48;2;39;40;34m(\u001b[0m\u001b[38;2;166;226;46;48;2;39;40;34mCREATE_COIN\u001b[0m\u001b[38;2;248;248;242;48;2;39;40;34m \u001b[0m\u001b[38;2;174;129;255;48;2;39;40;34m0\u001b[0m\u001b[38;2;248;248;242;48;2;39;40;34mxc9d0d3c99d4418f3b1a22bb954189f717cd3ac956dd966917f681616eba26a3a\u001b[0m\u001b[38;2;248;248;242;48;2;39;40;34m \u001b[0m\u001b[38;2;174;129;255;48;2;39;40;34m23795\u001b[0m\u001b[38;2;248;248;242;48;2;39;40;34m \u001b[0m\u001b[48;2;39;40;34m                             \u001b[0m\n",
       "\u001b[38;2;248;248;242;48;2;39;40;34m(\u001b[0m\u001b[38;2;174;129;255;48;2;39;40;34m0\u001b[0m\u001b[38;2;248;248;242;48;2;39;40;34mxc9d0d3c99d4418f3b1a22bb954189f717cd3ac956dd966917f681616eba26a3a\u001b[0m\u001b[38;2;248;248;242;48;2;39;40;34m)\u001b[0m\u001b[38;2;248;248;242;48;2;39;40;34m)\u001b[0m\u001b[48;2;39;40;34m                                              \u001b[0m\n"
      ]
     },
     "metadata": {},
     "output_type": "display_data"
    },
    {
     "name": "stdout",
     "output_type": "stream",
     "text": [
      "CoinSpend:\n",
      "Coin:\n",
      "83f28397c90d849d4e25e51cb2ea63653a6b6e0b5d217db9f1b43503536ea45a\n",
      "Coin { parent_coin_info: 1c3e54f5bcbe4c6cb9ade7920c705e1244b598357fb7b58430fedb230711dd05, puzzle_hash: eb267ee0ef76e6ac9ef51e22529dc3c319585304e6fe403f9599ea4fbd0a4aeb, amount: 100000000000 }\n",
      "\n",
      "Conditions\n"
     ]
    },
    {
     "data": {
      "text/html": [
       "<pre style=\"white-space:pre;overflow-x:auto;line-height:normal;font-family:Menlo,'DejaVu Sans Mono',consolas,'Courier New',monospace\"><span style=\"color: #f8f8f2; text-decoration-color: #f8f8f2; background-color: #272822\">(</span><span style=\"color: #a6e22e; text-decoration-color: #a6e22e; background-color: #272822\">AGG_SIG_ME</span><span style=\"color: #f8f8f2; text-decoration-color: #f8f8f2; background-color: #272822\"> </span><span style=\"color: #ae81ff; text-decoration-color: #ae81ff; background-color: #272822\">0</span><span style=\"color: #f8f8f2; text-decoration-color: #f8f8f2; background-color: #272822\">xb2d2c4edccffbae9795eb6e25b3f9e5ba88586fbd70d4b7aa4abbfdc3695dd65d24e20003e5673e8c704aecd2390da61 </span><span style=\"background-color: #272822\">    </span>\n",
       "<span style=\"color: #ae81ff; text-decoration-color: #ae81ff; background-color: #272822\">0</span><span style=\"color: #f8f8f2; text-decoration-color: #f8f8f2; background-color: #272822\">xed1716e80e4548e1922d846dd895d0717a5f3ef3717a75b7c616aa7ed5544213)</span><span style=\"background-color: #272822\">                                                </span>\n",
       "</pre>\n"
      ],
      "text/plain": [
       "\u001b[38;2;248;248;242;48;2;39;40;34m(\u001b[0m\u001b[38;2;166;226;46;48;2;39;40;34mAGG_SIG_ME\u001b[0m\u001b[38;2;248;248;242;48;2;39;40;34m \u001b[0m\u001b[38;2;174;129;255;48;2;39;40;34m0\u001b[0m\u001b[38;2;248;248;242;48;2;39;40;34mxb2d2c4edccffbae9795eb6e25b3f9e5ba88586fbd70d4b7aa4abbfdc3695dd65d24e20003e5673e8c704aecd2390da61\u001b[0m\u001b[38;2;248;248;242;48;2;39;40;34m \u001b[0m\u001b[48;2;39;40;34m    \u001b[0m\n",
       "\u001b[38;2;174;129;255;48;2;39;40;34m0\u001b[0m\u001b[38;2;248;248;242;48;2;39;40;34mxed1716e80e4548e1922d846dd895d0717a5f3ef3717a75b7c616aa7ed5544213\u001b[0m\u001b[38;2;248;248;242;48;2;39;40;34m)\u001b[0m\u001b[48;2;39;40;34m                                                \u001b[0m\n"
      ]
     },
     "metadata": {},
     "output_type": "display_data"
    },
    {
     "data": {
      "text/html": [
       "<pre style=\"white-space:pre;overflow-x:auto;line-height:normal;font-family:Menlo,'DejaVu Sans Mono',consolas,'Courier New',monospace\"><span style=\"color: #f8f8f2; text-decoration-color: #f8f8f2; background-color: #272822\">(</span><span style=\"color: #a6e22e; text-decoration-color: #a6e22e; background-color: #272822\">CREATE_COIN</span><span style=\"color: #f8f8f2; text-decoration-color: #f8f8f2; background-color: #272822\"> </span><span style=\"color: #ae81ff; text-decoration-color: #ae81ff; background-color: #272822\">0</span><span style=\"color: #f8f8f2; text-decoration-color: #f8f8f2; background-color: #272822\">xbae24162efbd568f89bc7a340798a6118df0189eb9e3f8697bcea27af99f8f79 </span><span style=\"color: #ae81ff; text-decoration-color: #ae81ff; background-color: #272822\">0</span><span style=\"color: #f8f8f2; text-decoration-color: #f8f8f2; background-color: #272822\">x055ae82600)</span><span style=\"background-color: #272822\">                      </span>\n",
       "</pre>\n"
      ],
      "text/plain": [
       "\u001b[38;2;248;248;242;48;2;39;40;34m(\u001b[0m\u001b[38;2;166;226;46;48;2;39;40;34mCREATE_COIN\u001b[0m\u001b[38;2;248;248;242;48;2;39;40;34m \u001b[0m\u001b[38;2;174;129;255;48;2;39;40;34m0\u001b[0m\u001b[38;2;248;248;242;48;2;39;40;34mxbae24162efbd568f89bc7a340798a6118df0189eb9e3f8697bcea27af99f8f79\u001b[0m\u001b[38;2;248;248;242;48;2;39;40;34m \u001b[0m\u001b[38;2;174;129;255;48;2;39;40;34m0\u001b[0m\u001b[38;2;248;248;242;48;2;39;40;34mx055ae82600\u001b[0m\u001b[38;2;248;248;242;48;2;39;40;34m)\u001b[0m\u001b[48;2;39;40;34m                      \u001b[0m\n"
      ]
     },
     "metadata": {},
     "output_type": "display_data"
    },
    {
     "data": {
      "text/html": [
       "<pre style=\"white-space:pre;overflow-x:auto;line-height:normal;font-family:Menlo,'DejaVu Sans Mono',consolas,'Courier New',monospace\"><span style=\"color: #f8f8f2; text-decoration-color: #f8f8f2; background-color: #272822\">(</span><span style=\"color: #a6e22e; text-decoration-color: #a6e22e; background-color: #272822\">CREATE_COIN</span><span style=\"color: #f8f8f2; text-decoration-color: #f8f8f2; background-color: #272822\"> </span><span style=\"color: #ae81ff; text-decoration-color: #ae81ff; background-color: #272822\">0</span><span style=\"color: #f8f8f2; text-decoration-color: #f8f8f2; background-color: #272822\">x232a9317f5e4b6e27ead488137d4fd78bbc2d5a262f57cc0c7e7c7f1f73f0b08 </span><span style=\"color: #ae81ff; text-decoration-color: #ae81ff; background-color: #272822\">0</span><span style=\"color: #f8f8f2; text-decoration-color: #f8f8f2; background-color: #272822\">x11ed8ec200)</span><span style=\"background-color: #272822\">                      </span>\n",
       "</pre>\n"
      ],
      "text/plain": [
       "\u001b[38;2;248;248;242;48;2;39;40;34m(\u001b[0m\u001b[38;2;166;226;46;48;2;39;40;34mCREATE_COIN\u001b[0m\u001b[38;2;248;248;242;48;2;39;40;34m \u001b[0m\u001b[38;2;174;129;255;48;2;39;40;34m0\u001b[0m\u001b[38;2;248;248;242;48;2;39;40;34mx232a9317f5e4b6e27ead488137d4fd78bbc2d5a262f57cc0c7e7c7f1f73f0b08\u001b[0m\u001b[38;2;248;248;242;48;2;39;40;34m \u001b[0m\u001b[38;2;174;129;255;48;2;39;40;34m0\u001b[0m\u001b[38;2;248;248;242;48;2;39;40;34mx11ed8ec200\u001b[0m\u001b[38;2;248;248;242;48;2;39;40;34m)\u001b[0m\u001b[48;2;39;40;34m                      \u001b[0m\n"
      ]
     },
     "metadata": {},
     "output_type": "display_data"
    },
    {
     "data": {
      "text/html": [
       "<pre style=\"white-space:pre;overflow-x:auto;line-height:normal;font-family:Menlo,'DejaVu Sans Mono',consolas,'Courier New',monospace\"><span style=\"color: #f8f8f2; text-decoration-color: #f8f8f2; background-color: #272822\">(</span><span style=\"color: #a6e22e; text-decoration-color: #a6e22e; background-color: #272822\">CREATE_COIN_ANNOUNCEMENT</span><span style=\"color: #f8f8f2; text-decoration-color: #f8f8f2; background-color: #272822\"> </span><span style=\"color: #ae81ff; text-decoration-color: #ae81ff; background-color: #272822\">0</span><span style=\"color: #f8f8f2; text-decoration-color: #f8f8f2; background-color: #272822\">x1b1529429a8def65ff7ac7b49340d1a9187f461b1ab2888c82436fd4ba76580b)</span><span style=\"background-color: #272822\">                      </span>\n",
       "</pre>\n"
      ],
      "text/plain": [
       "\u001b[38;2;248;248;242;48;2;39;40;34m(\u001b[0m\u001b[38;2;166;226;46;48;2;39;40;34mCREATE_COIN_ANNOUNCEMENT\u001b[0m\u001b[38;2;248;248;242;48;2;39;40;34m \u001b[0m\u001b[38;2;174;129;255;48;2;39;40;34m0\u001b[0m\u001b[38;2;248;248;242;48;2;39;40;34mx1b1529429a8def65ff7ac7b49340d1a9187f461b1ab2888c82436fd4ba76580b\u001b[0m\u001b[38;2;248;248;242;48;2;39;40;34m)\u001b[0m\u001b[48;2;39;40;34m                      \u001b[0m\n"
      ]
     },
     "metadata": {},
     "output_type": "display_data"
    },
    {
     "data": {
      "text/html": [
       "<pre style=\"white-space:pre;overflow-x:auto;line-height:normal;font-family:Menlo,'DejaVu Sans Mono',consolas,'Courier New',monospace\"><span style=\"color: #f8f8f2; text-decoration-color: #f8f8f2; background-color: #272822\">(</span><span style=\"color: #a6e22e; text-decoration-color: #a6e22e; background-color: #272822\">ASSERT_PUZZLE_ANNOUNCEMENT</span><span style=\"color: #f8f8f2; text-decoration-color: #f8f8f2; background-color: #272822\"> </span><span style=\"color: #ae81ff; text-decoration-color: #ae81ff; background-color: #272822\">0</span><span style=\"color: #f8f8f2; text-decoration-color: #f8f8f2; background-color: #272822\">xbae1e16972e8f2d77344c8df12d77d8fa13ce04dc7cb84ba69b76783968cc333)</span><span style=\"background-color: #272822\">                    </span>\n",
       "</pre>\n"
      ],
      "text/plain": [
       "\u001b[38;2;248;248;242;48;2;39;40;34m(\u001b[0m\u001b[38;2;166;226;46;48;2;39;40;34mASSERT_PUZZLE_ANNOUNCEMENT\u001b[0m\u001b[38;2;248;248;242;48;2;39;40;34m \u001b[0m\u001b[38;2;174;129;255;48;2;39;40;34m0\u001b[0m\u001b[38;2;248;248;242;48;2;39;40;34mxbae1e16972e8f2d77344c8df12d77d8fa13ce04dc7cb84ba69b76783968cc333\u001b[0m\u001b[38;2;248;248;242;48;2;39;40;34m)\u001b[0m\u001b[48;2;39;40;34m                    \u001b[0m\n"
      ]
     },
     "metadata": {},
     "output_type": "display_data"
    },
    {
     "name": "stdout",
     "output_type": "stream",
     "text": [
      "\n",
      "Additions:\n",
      "Coin { parent_coin_info: 83f28397c90d849d4e25e51cb2ea63653a6b6e0b5d217db9f1b43503536ea45a, puzzle_hash: bae24162efbd568f89bc7a340798a6118df0189eb9e3f8697bcea27af99f8f79, amount: 23000000000 }\n",
      "Coin { parent_coin_info: 83f28397c90d849d4e25e51cb2ea63653a6b6e0b5d217db9f1b43503536ea45a, puzzle_hash: 232a9317f5e4b6e27ead488137d4fd78bbc2d5a262f57cc0c7e7c7f1f73f0b08, amount: 77000000000 }\n",
      "\n",
      "Removals:\n",
      "Coin { parent_coin_info: 1c3e54f5bcbe4c6cb9ade7920c705e1244b598357fb7b58430fedb230711dd05, puzzle_hash: eb267ee0ef76e6ac9ef51e22529dc3c319585304e6fe403f9599ea4fbd0a4aeb, amount: 100000000000 }\n",
      "Driver Dict:\n",
      "PuzzleInfo(info={'type': 'CAT', 'tail': '0xd82dd03f8a9ad2f84353cd953c4de6b21dbaaf7de3ba3f4ddd9abe31ecba80ad'})\n"
     ]
    }
   ],
   "source": [
    "print_offer(offer)"
   ]
  },
  {
   "cell_type": "markdown",
   "id": "cb3bf762-f012-4414-b215-6b4e8af2cac0",
   "metadata": {},
   "source": [
    "## Requested Coin\n",
    "\n",
    "```sh\n",
    "# CAT ph\n",
    "# 0xd82dd03f8a9ad2f84353cd953c4de6b21dbaaf7de3ba3f4ddd9abe31ecba80ad : TDBX Asset Id\n",
    "# 0xc9d0d3c99d4418f3b1a22bb954189f717cd3ac956dd966917f681616eba26a3a : Notarized Payment ph\n",
    "❯ cdv clsp cat_puzzle_hash -t 0xd82dd03f8a9ad2f84353cd953c4de6b21dbaaf7de3ba3f4ddd9abe31ecba80ad 0xc9d0d3c99d4418f3b1a22bb954189f717cd3ac956dd966917f681616eba26a3a\n",
    "04c9f88fdcdd842ea002c10e747ce083bd366742e7a71528689f5ec73732ba4e\n",
    "\n",
    "# 04c9f88fdcdd842ea002c10e747ce083bd366742e7a71528689f5ec73732ba4e : CAT ph\n",
    "❯ cdv rpc coinrecords --by puzzlehash 0x04c9f88fdcdd842ea002c10e747ce083bd366742e7a71528689f5ec73732ba4e -nd\n",
    "{\n",
    "    \"db7871d544476a1405884a40ac0e04875a8340b631bc83088fb2713cdb0acdca\": {\n",
    "        \"coin\": {\n",
    "            \"amount\": 23795,\n",
    "            \"parent_coin_info\": \"0x8250f027b983f1710fc0467febc34203c9ae838e5a42281536306534131fe4ec\",\n",
    "            \"puzzle_hash\": \"0x04c9f88fdcdd842ea002c10e747ce083bd366742e7a71528689f5ec73732ba4e\"\n",
    "        },\n",
    "        \"coinbase\": false,\n",
    "        \"confirmed_block_index\": 2047786,\n",
    "        \"spent_block_index\": 0,\n",
    "        \"timestamp\": 1673115275\n",
    "    }\n",
    "}\n",
    "\n",
    "# 0x8250f027b983f1710fc0467febc34203c9ae838e5a42281536306534131fe4ec : parent of created CAT coin\n",
    "# Settlement Puzzle Coin (ephemeral coin)\n",
    "❯ cdv rpc coinrecords --by id 0x8250f027b983f1710fc0467febc34203c9ae838e5a42281536306534131fe4ec -nd\n",
    "{\n",
    "    \"8250f027b983f1710fc0467febc34203c9ae838e5a42281536306534131fe4ec\": {\n",
    "        \"coin\": {\n",
    "            \"amount\": 87380,\n",
    "            \"parent_coin_info\": \"0x57994bb6f4a0e5ebb8c4acd9807ce7f0b79fa436bc7ae6e2c95b090d910bb550\",\n",
    "            \"puzzle_hash\": \"0xdbcb4fee7e94946b713ae68e669df3285ca40acd64d06a5cfc8e3c748c7e7bdb\"\n",
    "        },\n",
    "        \"coinbase\": false,\n",
    "        \"confirmed_block_index\": 2047786,\n",
    "        \"spent_block_index\": 2047786,\n",
    "        \"timestamp\": 1673115275\n",
    "    }\n",
    "}\n",
    "\n",
    "❯ cdv rpc coinrecords --by parentid 0x8250f027b983f1710fc0467febc34203c9ae838e5a42281536306534131fe4ec -nd\n",
    "{\n",
    "    \"54a8c9748c63f166b702a9304865156baf35a0d8644ec98ac7c9c1bca202b24f\": {\n",
    "        \"coin\": {\n",
    "            \"amount\": 865,\n",
    "            \"parent_coin_info\": \"0x8250f027b983f1710fc0467febc34203c9ae838e5a42281536306534131fe4ec\",\n",
    "            \"puzzle_hash\": \"0x8e70a5833c6ba37a6e7d2369128f21d6cbf46b4844c0bd47fb4fee7d498ccc07\"\n",
    "        },\n",
    "        \"coinbase\": false,\n",
    "        \"confirmed_block_index\": 2047786,\n",
    "        \"spent_block_index\": 0,\n",
    "        \"timestamp\": 1673115275\n",
    "    },\n",
    "    \"c646697fd1da30a58700546e195c8d579a79d57a24557a1c37439ff57d077a7b\": {\n",
    "        \"coin\": {\n",
    "            \"amount\": 28372,\n",
    "            \"parent_coin_info\": \"0x8250f027b983f1710fc0467febc34203c9ae838e5a42281536306534131fe4ec\",\n",
    "            \"puzzle_hash\": \"0x605751ea760db9b8bf4783681164e22bb2d513f01ff9c5831dda19ded6c8c2fb\"\n",
    "        },\n",
    "        \"coinbase\": false,\n",
    "        \"confirmed_block_index\": 2047786,\n",
    "        \"spent_block_index\": 0,\n",
    "        \"timestamp\": 1673115275\n",
    "    },\n",
    "    \"db7871d544476a1405884a40ac0e04875a8340b631bc83088fb2713cdb0acdca\": {\n",
    "        \"coin\": {\n",
    "            \"amount\": 23795,\n",
    "            \"parent_coin_info\": \"0x8250f027b983f1710fc0467febc34203c9ae838e5a42281536306534131fe4ec\",\n",
    "            \"puzzle_hash\": \"0x04c9f88fdcdd842ea002c10e747ce083bd366742e7a71528689f5ec73732ba4e\"\n",
    "        },\n",
    "        \"coinbase\": false,\n",
    "        \"confirmed_block_index\": 2047786,\n",
    "        \"spent_block_index\": 0,\n",
    "        \"timestamp\": 1673115275\n",
    "    },\n",
    "    \"fb2eca2f5beda6d4572ce70b49fa497d53e5c78a24f6a92790f60a6f5c536752\": {\n",
    "        \"coin\": {\n",
    "            \"amount\": 34348,\n",
    "            \"parent_coin_info\": \"0x8250f027b983f1710fc0467febc34203c9ae838e5a42281536306534131fe4ec\",\n",
    "            \"puzzle_hash\": \"0x0fb9ee837d0c1b5f82cebf76f3dc0fab5404fb8a0d5a456140a16101b9218ee6\"\n",
    "        },\n",
    "        \"coinbase\": false,\n",
    "        \"confirmed_block_index\": 2047786,\n",
    "        \"spent_block_index\": 0,\n",
    "        \"timestamp\": 1673115275\n",
    "    }\n",
    "}\n",
    "```"
   ]
  },
  {
   "cell_type": "markdown",
   "id": "29e29a98-88b9-4838-a74b-9586e7f9c6d2",
   "metadata": {},
   "source": [
    "## Offered Coin\n",
    "```sh\n",
    "# 83f28397c90d849d4e25e51cb2ea63653a6b6e0b5d217db9f1b43503536ea45a : spent coin\n",
    "❯ cdv rpc coinrecords --by parentid 0x83f28397c90d849d4e25e51cb2ea63653a6b6e0b5d217db9f1b43503536ea45a -nd\n",
    "{\n",
    "    \"770183a2120e794eae5198cdac5d9841a5959f7d2fa93cf426517a960daa2d1f\": {\n",
    "        \"coin\": {\n",
    "            \"amount\": 23000000000,\n",
    "            \"parent_coin_info\": \"0x83f28397c90d849d4e25e51cb2ea63653a6b6e0b5d217db9f1b43503536ea45a\",\n",
    "            \"puzzle_hash\": \"0xbae24162efbd568f89bc7a340798a6118df0189eb9e3f8697bcea27af99f8f79\"\n",
    "        },\n",
    "        \"coinbase\": false,\n",
    "        \"confirmed_block_index\": 2047786,\n",
    "        \"spent_block_index\": 2047786,\n",
    "        \"timestamp\": 1673115275\n",
    "    },\n",
    "    \"939d2c1addb2996e3d0ddb35e1037cabd6921398cda0ef5e3a19001f7513247a\": {\n",
    "        \"coin\": {\n",
    "            \"amount\": 77000000000,\n",
    "            \"parent_coin_info\": \"0x83f28397c90d849d4e25e51cb2ea63653a6b6e0b5d217db9f1b43503536ea45a\",\n",
    "            \"puzzle_hash\": \"0x232a9317f5e4b6e27ead488137d4fd78bbc2d5a262f57cc0c7e7c7f1f73f0b08\"\n",
    "        },\n",
    "        \"coinbase\": false,\n",
    "        \"confirmed_block_index\": 2047786,\n",
    "        \"spent_block_index\": 0,\n",
    "        \"timestamp\": 1673115275\n",
    "    }\n",
    "}\n",
    "\n",
    "# 0x77... was spent but not create any new coin\n",
    "# a new coin is created by the taker notarized payment\n",
    "❯ cdv rpc coinrecords --by parentid 0x770183a2120e794eae5198cdac5d9841a5959f7d2fa93cf426517a960daa2d1f -nd\n",
    "{}\n",
    "```"
   ]
  },
  {
   "cell_type": "markdown",
   "id": "5c19e2e2-2bac-4696-95e3-faedc40f5519",
   "metadata": {},
   "source": [
    "Maker asserts puzzle announcement by the settlement puzzle coin.\n",
    "\n",
    "`(ASSERT_PUZZLE_ANNOUNCEMENT 0xbae1e16972e8f2d77344c8df12d77d8fa13ce04dc7cb84ba69b76783968cc333)`\n",
    "\n",
    "settlement_payments ph is ``\n",
    "\n",
    "> a notarized coin payment is `(nonce . ((puzzle_hash amount ...) (puzzle_hash amount ...) ...))`"
   ]
  },
  {
   "cell_type": "code",
   "execution_count": null,
   "id": "33055ac2-29ee-4a27-9c47-bf44f29fec63",
   "metadata": {},
   "outputs": [],
   "source": []
  }
 ],
 "metadata": {
  "kernelspec": {
   "display_name": "Python 3 (ipykernel)",
   "language": "python",
   "name": "python3"
  },
  "language_info": {
   "codemirror_mode": {
    "name": "ipython",
    "version": 3
   },
   "file_extension": ".py",
   "mimetype": "text/x-python",
   "name": "python",
   "nbconvert_exporter": "python",
   "pygments_lexer": "ipython3",
   "version": "3.10.9"
  }
 },
 "nbformat": 4,
 "nbformat_minor": 5
}
