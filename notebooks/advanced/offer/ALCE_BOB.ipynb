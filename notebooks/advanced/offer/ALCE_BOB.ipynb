{
 "cells": [
  {
   "cell_type": "markdown",
   "id": "bdedbbd8-9adb-4769-9dbc-18fddd8a0ef4",
   "metadata": {},
   "source": [
    "```sh\n",
    "# alice\n",
    "❯ chia rpc wallet create_offer_for_ids '{ \"offer\": {\"2\": -1, \"3\": 1 }}'\n",
    "{\n",
    "    \"offer\": \"offer1qqzh3wcuu2rykcmqvpsxygqqnt8qwlu33q79lddaela0yvl4vvksurkxldvndh2m2auk6f5lwk48kr2vrk7f6wj6lw8adl4rkhlk3mflttacl4h7lur64as8zlhqhn8h04883476dz7x6mny6jzdcga33n4s8n884cxcekcemz6mk3jk4v925t90nm5hnkgxzmlv5678rwhu0n77na3a6cmh4m7u388gn4zn5h6zz7r582u2g826yg9jq4q6xzt4g6yveqnsadfsl5k6ndfed2v80ukmm2s5rna03qz022yvxgf96xt093a9jxtyqf28aw026zs49aat872vemtdpzaxxk4grrlw0gkfjvxamtcawffke7u4kszpgagprj96006mhpwjdsltmucfnnfhx4xcl3g99gx87kr7aelhftc5wmr2p3u7t73h605swhaxwrherk0vvmrexkw0hlvauww478e7elxnhkluf94d8f3qsm497qannrpk23rpk24rpk2arpk2dpps2tpkmfggzplwllqau5xev9ugruwwen70jdujkgmu48dwtyej72ej0kd8plf9l50ccd627f8y5s9tptjq5r4aaqw5a27dcyrx7kr9v2fjp703ezun3huvdumjyt607fjec7ee9h2e9funl9ek3e22ld24np0xdx8kt098n5t4tdaknrnz0rwusp5cpdxulcha3awgx85lmh4slm8r64fxaseevz0k06gf3dln7x8ue6nn3w48anh04uztw5sg9ypfjzp530v6vjm5m2pl84m47mnkmxysmmu7r4827t7ttxdnen0vm9acxjce4k0w0uemlyea2z5umlc975hhysayes056nhwwdn0jwkf5njrpsedd5pkt2a7n0y3mhgneelqr4d07ml3wjpvxk7875dee4cm942e60px93n567r6tw6u2nh7t823nhrxajk3uypynahlzajv6ueaenuulu7252wh2tc7reaxv7ujuw7fgsap6606gjvdzk00aalwle0ap2d80tzxw6av63w9twanmlurmm46m6vrpmesuurdru9vjjtaaua4d7pfeeks7pl5zjzeyfr5la4z6r0k46e4wnhrsxneee7kk2mwwwmnhje2jl374pugraqvkzp4cllz7gx5yzp4535v28397f8uefmr6cmv9qt2uch2n0egmuwtc768dtanq5kurput9lm5hf2q35pgts763kd3wfvaw30rw469kh5krvae4lntttgkff54l9p0aejepykd7m7axl8ds4g2uv9tzf330x7yrn35svu3l3a40ea5c5wh4a4899klhh9awkn9wmh36nmvucpa0hm526zgsdjs45m2lhwn9hewxl4a7wpj55l6jacaqrs9v02daz0nfx\",\n",
    "    \"success\": true,\n",
    "    \"trade_record\": {\n",
    "        \"accepted_at_time\": null,\n",
    "        \"coins_of_interest\": [\n",
    "            {\n",
    "                \"amount\": 1000000,\n",
    "                \"parent_coin_info\": \"0xde7fbb12663cf2ee4c519c8cc51337c2625148d7e147cfbd1a0f58b28154ea45\",\n",
    "                \"puzzle_hash\": \"0xfd6942f80e69138dc49b0736c76305cfecb7899541f39b6fcb8dfa16a6aac431\"\n",
    "            }\n",
    "        ],\n",
    "        \"confirmed_at_index\": 0,\n",
    "        \"created_at_time\": 1673843373,\n",
    "        \"is_my_offer\": true,\n",
    "        \"pending\": {\n",
    "            \"b831d001dc996f9fd8626bb11ecb7cac9e6a596796137fd22ff801d8746ec918\": 1000000\n",
    "        },\n",
    "        \"sent\": 0,\n",
    "        \"sent_to\": [],\n",
    "        \"status\": \"PENDING_ACCEPT\",\n",
    "        \"summary\": {\n",
    "            \"fees\": 0,\n",
    "            \"infos\": {\n",
    "                \"6e7f02e776b0040f79d6c781d75f9bbf6c3b8c3ece87c49c5bb9722cf455a357\": {\n",
    "                    \"tail\": \"0x6e7f02e776b0040f79d6c781d75f9bbf6c3b8c3ece87c49c5bb9722cf455a357\",\n",
    "                    \"type\": \"CAT\"\n",
    "                },\n",
    "                \"b831d001dc996f9fd8626bb11ecb7cac9e6a596796137fd22ff801d8746ec918\": {\n",
    "                    \"tail\": \"0xb831d001dc996f9fd8626bb11ecb7cac9e6a596796137fd22ff801d8746ec918\",\n",
    "                    \"type\": \"CAT\"\n",
    "                }\n",
    "            },\n",
    "            \"offered\": {\n",
    "                \"b831d001dc996f9fd8626bb11ecb7cac9e6a596796137fd22ff801d8746ec918\": 1\n",
    "            },\n",
    "            \"requested\": {\n",
    "                \"6e7f02e776b0040f79d6c781d75f9bbf6c3b8c3ece87c49c5bb9722cf455a357\": 1\n",
    "            }\n",
    "        },\n",
    "        \"taken_offer\": null,\n",
    "        \"trade_id\": \"0x56275e3dbea478cba1f22c5ef788c916a01cdc0970e507168a59e06b99eb02ca\"\n",
    "    }\n",
    "}\n",
    "```"
   ]
  },
  {
   "cell_type": "markdown",
   "id": "bb13ce6b-73b3-49e1-abd8-1c097ee65f01",
   "metadata": {},
   "source": [
    "```sh\n",
    "# bob\n",
    "❯ chia rpc wallet create_offer_for_ids '{ \"offer\": {\"2\": 1, \"3\": -1 }}'\n",
    "{\n",
    "    \"offer\": \"offer1qqzh3wcuu2rykcmqvpsxygqq3f83n7r00nl8ymkvq2nuhwmul6la7ul0u39l25ukca0l7wmpww5t6ngr5c8dunsa4h75w6ll68d8ld8kr7kl63mtlllsx40msv9lwp0xlvlz00rtd56dud3hxf4y9m53trr02q0xw0tsd3hdpnkd5hfr4d2s24dkc0cq9cuan8ulxmeyv4hegw6akdn9u4nylg6wr7jtlgl3smu5ujwefqzkzkp6532pvs9cy3sna2xppxg96xfm8ve46hzh2mjemdlz4meu0fnkughrhd87j9th66ndc7lq0supmxz2za7xrkj6y24r9xt45cc0xeme2e8mvf4rdl4j0lwfpq6halkraz7t2jft9r5qs2szt9m4plxhf6x6sz0k5hrk0mv3t9a4scy6gtlqx67fm995yc30ezctercju9aznvkvdfqan3c2sda7l2c4mc7ttwan83cfrsu6mf2sl40lkwyntncykaf038gugcdj4gcdjhgcdjnggdjmfggzzcdkm2xqq0ml7cr04rjd2vea9ldupsjl08kh3cl4lrvlkuav00kvadglnyfmmv6gua973cnsdp2czhxp5ytmmsmfk5ua3cqd8kukvm679a3h3e9pw9emrlalhz3h0xx49lyhklynav7wey3y8xauh56kcwdwh8v3q0467gn4qkuah5m7yvmkqx3q9kml7zmk84eyc74lx7kt7u60j5ylhrr9s2737f8xa470cganltw2925l70ajhsddz3pg5spxqtxl50pd7atcc50j5k4w8ja0jsef04z5fmamueanjr80m3u0nzeg7ftw9rudln80vs84g6srdsl5t6fvf4kx4489x8axpcd6c4h0nae4a4mm6j70nl6a94lctum07rag5zm0l06q49a4z3z9lnk6e47t4hnqd6zuk4nwtzu3pe64uvyma0l6md8cvnsulyrylalczd5tfxwc3fwed7q5h0vvk89x23669edya7epk9cu4dx0a7xnjvuwyll4lc8kem5dcr8r89h7le429mcvayhxhhljrgvn8dhq9yl2e5x2x0ak0gm5znnndrutlcx2n3h4hdvkehv60wnlgksdmpev3hfk7dzkskwusmlcn26h3w7tm9xkjsxtpq6u0l30yr2zpq66g6x9z4wzr79t9anflaley5e2rdvwv5lhxya2jsjnwrjlv4l9ya66vktu8qxr2zs5p6xua37hv4hxmn86wlh8hxvkwzm59svjhnl3vpt00ahw3lpyknzz0uf53dcluhxeaxtaenhxwt8msd848gdk77h5e9y72mfa3l7luxeklf9km9rfw0khp8tnldzgm2ae2avcyjxnl6fe6j4j5a0d70969hcktsl8hezspfr78lyqf6zz2d\",\n",
    "    \"success\": true,\n",
    "    \"trade_record\": {\n",
    "        \"accepted_at_time\": null,\n",
    "        \"coins_of_interest\": [\n",
    "            {\n",
    "                \"amount\": 1000000,\n",
    "                \"parent_coin_info\": \"0xc117fab9285a903f75c79abc1cadc31096206fe03b199ba4545dd01c04ef5a14\",\n",
    "                \"puzzle_hash\": \"0x0ae914a63aa076f17830deef7b20ece53edca751a240ac7daae127ff06168399\"\n",
    "            }\n",
    "        ],\n",
    "        \"confirmed_at_index\": 0,\n",
    "        \"created_at_time\": 1673843420,\n",
    "        \"is_my_offer\": true,\n",
    "        \"pending\": {\n",
    "            \"6e7f02e776b0040f79d6c781d75f9bbf6c3b8c3ece87c49c5bb9722cf455a357\": 1000000\n",
    "        },\n",
    "        \"sent\": 0,\n",
    "        \"sent_to\": [],\n",
    "        \"status\": \"PENDING_ACCEPT\",\n",
    "        \"summary\": {\n",
    "            \"fees\": 0,\n",
    "            \"infos\": {\n",
    "                \"6e7f02e776b0040f79d6c781d75f9bbf6c3b8c3ece87c49c5bb9722cf455a357\": {\n",
    "                    \"tail\": \"0x6e7f02e776b0040f79d6c781d75f9bbf6c3b8c3ece87c49c5bb9722cf455a357\",\n",
    "                    \"type\": \"CAT\"\n",
    "                },\n",
    "                \"b831d001dc996f9fd8626bb11ecb7cac9e6a596796137fd22ff801d8746ec918\": {\n",
    "                    \"tail\": \"0xb831d001dc996f9fd8626bb11ecb7cac9e6a596796137fd22ff801d8746ec918\",\n",
    "                    \"type\": \"CAT\"\n",
    "                }\n",
    "            },\n",
    "            \"offered\": {\n",
    "                \"6e7f02e776b0040f79d6c781d75f9bbf6c3b8c3ece87c49c5bb9722cf455a357\": 1\n",
    "            },\n",
    "            \"requested\": {\n",
    "                \"b831d001dc996f9fd8626bb11ecb7cac9e6a596796137fd22ff801d8746ec918\": 1\n",
    "            }\n",
    "        },\n",
    "        \"taken_offer\": null,\n",
    "        \"trade_id\": \"0xdbb65d4f3e5d331b6c66055a8d66733c30cd0af7f0d8a2d0e68d1cf9ef739ec6\"\n",
    "    }\n",
    "}\n",
    "```"
   ]
  },
  {
   "cell_type": "code",
   "execution_count": 1,
   "id": "e44e4b6a-4786-45e8-a231-6af860de147d",
   "metadata": {},
   "outputs": [],
   "source": [
    "alice_offer_hex = \"offer1qqzh3wcuu2rykcmqvpsxygqqnt8qwlu33q79lddaela0yvl4vvksurkxldvndh2m2auk6f5lwk48kr2vrk7f6wj6lw8adl4rkhlk3mflttacl4h7lur64as8zlhqhn8h04883476dz7x6mny6jzdcga33n4s8n884cxcekcemz6mk3jk4v925t90nm5hnkgxzmlv5678rwhu0n77na3a6cmh4m7u388gn4zn5h6zz7r582u2g826yg9jq4q6xzt4g6yveqnsadfsl5k6ndfed2v80ukmm2s5rna03qz022yvxgf96xt093a9jxtyqf28aw026zs49aat872vemtdpzaxxk4grrlw0gkfjvxamtcawffke7u4kszpgagprj96006mhpwjdsltmucfnnfhx4xcl3g99gx87kr7aelhftc5wmr2p3u7t73h605swhaxwrherk0vvmrexkw0hlvauww478e7elxnhkluf94d8f3qsm497qannrpk23rpk24rpk2arpk2dpps2tpkmfggzplwllqau5xev9ugruwwen70jdujkgmu48dwtyej72ej0kd8plf9l50ccd627f8y5s9tptjq5r4aaqw5a27dcyrx7kr9v2fjp703ezun3huvdumjyt607fjec7ee9h2e9funl9ek3e22ld24np0xdx8kt098n5t4tdaknrnz0rwusp5cpdxulcha3awgx85lmh4slm8r64fxaseevz0k06gf3dln7x8ue6nn3w48anh04uztw5sg9ypfjzp530v6vjm5m2pl84m47mnkmxysmmu7r4827t7ttxdnen0vm9acxjce4k0w0uemlyea2z5umlc975hhysayes056nhwwdn0jwkf5njrpsedd5pkt2a7n0y3mhgneelqr4d07ml3wjpvxk7875dee4cm942e60px93n567r6tw6u2nh7t823nhrxajk3uypynahlzajv6ueaenuulu7252wh2tc7reaxv7ujuw7fgsap6606gjvdzk00aalwle0ap2d80tzxw6av63w9twanmlurmm46m6vrpmesuurdru9vjjtaaua4d7pfeeks7pl5zjzeyfr5la4z6r0k46e4wnhrsxneee7kk2mwwwmnhje2jl374pugraqvkzp4cllz7gx5yzp4535v28397f8uefmr6cmv9qt2uch2n0egmuwtc768dtanq5kurput9lm5hf2q35pgts763kd3wfvaw30rw469kh5krvae4lntttgkff54l9p0aejepykd7m7axl8ds4g2uv9tzf330x7yrn35svu3l3a40ea5c5wh4a4899klhh9awkn9wmh36nmvucpa0hm526zgsdjs45m2lhwn9hewxl4a7wpj55l6jacaqrs9v02daz0nfx\"\n",
    "bob_offer_hex = \"offer1qqzh3wcuu2rykcmqvpsxygqq3f83n7r00nl8ymkvq2nuhwmul6la7ul0u39l25ukca0l7wmpww5t6ngr5c8dunsa4h75w6ll68d8ld8kr7kl63mtlllsx40msv9lwp0xlvlz00rtd56dud3hxf4y9m53trr02q0xw0tsd3hdpnkd5hfr4d2s24dkc0cq9cuan8ulxmeyv4hegw6akdn9u4nylg6wr7jtlgl3smu5ujwefqzkzkp6532pvs9cy3sna2xppxg96xfm8ve46hzh2mjemdlz4meu0fnkughrhd87j9th66ndc7lq0supmxz2za7xrkj6y24r9xt45cc0xeme2e8mvf4rdl4j0lwfpq6halkraz7t2jft9r5qs2szt9m4plxhf6x6sz0k5hrk0mv3t9a4scy6gtlqx67fm995yc30ezctercju9aznvkvdfqan3c2sda7l2c4mc7ttwan83cfrsu6mf2sl40lkwyntncykaf038gugcdj4gcdjhgcdjnggdjmfggzzcdkm2xqq0ml7cr04rjd2vea9ldupsjl08kh3cl4lrvlkuav00kvadglnyfmmv6gua973cnsdp2czhxp5ytmmsmfk5ua3cqd8kukvm679a3h3e9pw9emrlalhz3h0xx49lyhklynav7wey3y8xauh56kcwdwh8v3q0467gn4qkuah5m7yvmkqx3q9kml7zmk84eyc74lx7kt7u60j5ylhrr9s2737f8xa470cganltw2925l70ajhsddz3pg5spxqtxl50pd7atcc50j5k4w8ja0jsef04z5fmamueanjr80m3u0nzeg7ftw9rudln80vs84g6srdsl5t6fvf4kx4489x8axpcd6c4h0nae4a4mm6j70nl6a94lctum07rag5zm0l06q49a4z3z9lnk6e47t4hnqd6zuk4nwtzu3pe64uvyma0l6md8cvnsulyrylalczd5tfxwc3fwed7q5h0vvk89x23669edya7epk9cu4dx0a7xnjvuwyll4lc8kem5dcr8r89h7le429mcvayhxhhljrgvn8dhq9yl2e5x2x0ak0gm5znnndrutlcx2n3h4hdvkehv60wnlgksdmpev3hfk7dzkskwusmlcn26h3w7tm9xkjsxtpq6u0l30yr2zpq66g6x9z4wzr79t9anflaley5e2rdvwv5lhxya2jsjnwrjlv4l9ya66vktu8qxr2zs5p6xua37hv4hxmn86wlh8hxvkwzm59svjhnl3vpt00ahw3lpyknzz0uf53dcluhxeaxtaenhxwt8msd848gdk77h5e9y72mfa3l7luxeklf9km9rfw0khp8tnldzgm2ae2avcyjxnl6fe6j4j5a0d70969hcktsl8hezspfr78lyqf6zz2d\""
   ]
  },
  {
   "cell_type": "code",
   "execution_count": 2,
   "id": "34111738-18fe-496c-88a5-14361a389c26",
   "metadata": {},
   "outputs": [
    {
     "name": "stdout",
     "output_type": "stream",
     "text": [
      "Payment:\n"
     ]
    },
    {
     "data": {
      "text/html": [
       "<pre style=\"white-space:pre;overflow-x:auto;line-height:normal;font-family:Menlo,'DejaVu Sans Mono',consolas,'Courier New',monospace\"><span style=\"color: #f8f8f2; text-decoration-color: #f8f8f2; background-color: #272822\">(</span><span style=\"color: #a6e22e; text-decoration-color: #a6e22e; background-color: #272822\">CREATE_COIN</span><span style=\"color: #f8f8f2; text-decoration-color: #f8f8f2; background-color: #272822\"> </span><span style=\"color: #ae81ff; text-decoration-color: #ae81ff; background-color: #272822\">0</span><span style=\"color: #f8f8f2; text-decoration-color: #f8f8f2; background-color: #272822\">xc57ee6aa551772ecb3cc6cb555d1357c2551e2dd48a490973b41fad206499db4 </span><span style=\"color: #ae81ff; text-decoration-color: #ae81ff; background-color: #272822\">1</span><span style=\"color: #f8f8f2; text-decoration-color: #f8f8f2; background-color: #272822\"> </span><span style=\"background-color: #272822\">                                 </span>\n",
       "<span style=\"color: #f8f8f2; text-decoration-color: #f8f8f2; background-color: #272822\">(</span><span style=\"color: #ae81ff; text-decoration-color: #ae81ff; background-color: #272822\">0</span><span style=\"color: #f8f8f2; text-decoration-color: #f8f8f2; background-color: #272822\">xc57ee6aa551772ecb3cc6cb555d1357c2551e2dd48a490973b41fad206499db4))</span><span style=\"background-color: #272822\">                                              </span>\n",
       "</pre>\n"
      ],
      "text/plain": [
       "\u001b[38;2;248;248;242;48;2;39;40;34m(\u001b[0m\u001b[38;2;166;226;46;48;2;39;40;34mCREATE_COIN\u001b[0m\u001b[38;2;248;248;242;48;2;39;40;34m \u001b[0m\u001b[38;2;174;129;255;48;2;39;40;34m0\u001b[0m\u001b[38;2;248;248;242;48;2;39;40;34mxc57ee6aa551772ecb3cc6cb555d1357c2551e2dd48a490973b41fad206499db4\u001b[0m\u001b[38;2;248;248;242;48;2;39;40;34m \u001b[0m\u001b[38;2;174;129;255;48;2;39;40;34m1\u001b[0m\u001b[38;2;248;248;242;48;2;39;40;34m \u001b[0m\u001b[48;2;39;40;34m                                 \u001b[0m\n",
       "\u001b[38;2;248;248;242;48;2;39;40;34m(\u001b[0m\u001b[38;2;174;129;255;48;2;39;40;34m0\u001b[0m\u001b[38;2;248;248;242;48;2;39;40;34mxc57ee6aa551772ecb3cc6cb555d1357c2551e2dd48a490973b41fad206499db4\u001b[0m\u001b[38;2;248;248;242;48;2;39;40;34m)\u001b[0m\u001b[38;2;248;248;242;48;2;39;40;34m)\u001b[0m\u001b[48;2;39;40;34m                                              \u001b[0m\n"
      ]
     },
     "metadata": {},
     "output_type": "display_data"
    },
    {
     "name": "stdout",
     "output_type": "stream",
     "text": [
      "CoinSpend:\n"
     ]
    },
    {
     "data": {
      "text/html": [
       "<pre style=\"white-space:pre;overflow-x:auto;line-height:normal;font-family:Menlo,'DejaVu Sans Mono',consolas,'Courier New',monospace\"><span style=\"color: #f8f8f2; text-decoration-color: #f8f8f2; background-color: #272822\">(</span><span style=\"color: #a6e22e; text-decoration-color: #a6e22e; background-color: #272822\">ASSERT_MY_COIN_ID</span><span style=\"color: #f8f8f2; text-decoration-color: #f8f8f2; background-color: #272822\"> </span><span style=\"color: #ae81ff; text-decoration-color: #ae81ff; background-color: #272822\">0</span><span style=\"color: #f8f8f2; text-decoration-color: #f8f8f2; background-color: #272822\">x547661088c6ba255fb26af282cdc4132499ded3d173cdd8b6a3a6d08d5f058f8)</span><span style=\"background-color: #272822\">                             </span>\n",
       "</pre>\n"
      ],
      "text/plain": [
       "\u001b[38;2;248;248;242;48;2;39;40;34m(\u001b[0m\u001b[38;2;166;226;46;48;2;39;40;34mASSERT_MY_COIN_ID\u001b[0m\u001b[38;2;248;248;242;48;2;39;40;34m \u001b[0m\u001b[38;2;174;129;255;48;2;39;40;34m0\u001b[0m\u001b[38;2;248;248;242;48;2;39;40;34mx547661088c6ba255fb26af282cdc4132499ded3d173cdd8b6a3a6d08d5f058f8\u001b[0m\u001b[38;2;248;248;242;48;2;39;40;34m)\u001b[0m\u001b[48;2;39;40;34m                             \u001b[0m\n"
      ]
     },
     "metadata": {},
     "output_type": "display_data"
    },
    {
     "data": {
      "text/html": [
       "<pre style=\"white-space:pre;overflow-x:auto;line-height:normal;font-family:Menlo,'DejaVu Sans Mono',consolas,'Courier New',monospace\"><span style=\"color: #f8f8f2; text-decoration-color: #f8f8f2; background-color: #272822\">(</span><span style=\"color: #a6e22e; text-decoration-color: #a6e22e; background-color: #272822\">CREATE_COIN_ANNOUNCEMENT</span><span style=\"color: #f8f8f2; text-decoration-color: #f8f8f2; background-color: #272822\"> </span><span style=\"color: #ae81ff; text-decoration-color: #ae81ff; background-color: #272822\">0</span><span style=\"color: #f8f8f2; text-decoration-color: #f8f8f2; background-color: #272822\">xcbf0f127e9bd0b8c91cf6320a2394274573ace05326bd891b2408ea0af87ac4289)</span><span style=\"background-color: #272822\">                    </span>\n",
       "</pre>\n"
      ],
      "text/plain": [
       "\u001b[38;2;248;248;242;48;2;39;40;34m(\u001b[0m\u001b[38;2;166;226;46;48;2;39;40;34mCREATE_COIN_ANNOUNCEMENT\u001b[0m\u001b[38;2;248;248;242;48;2;39;40;34m \u001b[0m\u001b[38;2;174;129;255;48;2;39;40;34m0\u001b[0m\u001b[38;2;248;248;242;48;2;39;40;34mxcbf0f127e9bd0b8c91cf6320a2394274573ace05326bd891b2408ea0af87ac4289\u001b[0m\u001b[38;2;248;248;242;48;2;39;40;34m)\u001b[0m\u001b[48;2;39;40;34m                    \u001b[0m\n"
      ]
     },
     "metadata": {},
     "output_type": "display_data"
    },
    {
     "data": {
      "text/html": [
       "<pre style=\"white-space:pre;overflow-x:auto;line-height:normal;font-family:Menlo,'DejaVu Sans Mono',consolas,'Courier New',monospace\"><span style=\"color: #f8f8f2; text-decoration-color: #f8f8f2; background-color: #272822\">(</span><span style=\"color: #a6e22e; text-decoration-color: #a6e22e; background-color: #272822\">ASSERT_COIN_ANNOUNCEMENT</span><span style=\"color: #f8f8f2; text-decoration-color: #f8f8f2; background-color: #272822\"> </span><span style=\"color: #ae81ff; text-decoration-color: #ae81ff; background-color: #272822\">0</span><span style=\"color: #f8f8f2; text-decoration-color: #f8f8f2; background-color: #272822\">xffb5bbe312f8c8131a554fae62f83f1ec08fb6fa14b2508fe86b3b61dd2d164a)</span><span style=\"background-color: #272822\">                      </span>\n",
       "</pre>\n"
      ],
      "text/plain": [
       "\u001b[38;2;248;248;242;48;2;39;40;34m(\u001b[0m\u001b[38;2;166;226;46;48;2;39;40;34mASSERT_COIN_ANNOUNCEMENT\u001b[0m\u001b[38;2;248;248;242;48;2;39;40;34m \u001b[0m\u001b[38;2;174;129;255;48;2;39;40;34m0\u001b[0m\u001b[38;2;248;248;242;48;2;39;40;34mxffb5bbe312f8c8131a554fae62f83f1ec08fb6fa14b2508fe86b3b61dd2d164a\u001b[0m\u001b[38;2;248;248;242;48;2;39;40;34m)\u001b[0m\u001b[48;2;39;40;34m                      \u001b[0m\n"
      ]
     },
     "metadata": {},
     "output_type": "display_data"
    },
    {
     "data": {
      "text/html": [
       "<pre style=\"white-space:pre;overflow-x:auto;line-height:normal;font-family:Menlo,'DejaVu Sans Mono',consolas,'Courier New',monospace\"><span style=\"color: #f8f8f2; text-decoration-color: #f8f8f2; background-color: #272822\">(</span><span style=\"color: #a6e22e; text-decoration-color: #a6e22e; background-color: #272822\">AGG_SIG_ME</span><span style=\"color: #f8f8f2; text-decoration-color: #f8f8f2; background-color: #272822\"> </span><span style=\"color: #ae81ff; text-decoration-color: #ae81ff; background-color: #272822\">0</span><span style=\"color: #f8f8f2; text-decoration-color: #f8f8f2; background-color: #272822\">xaa343c6019f1c4ce5e4d68f6d859d3924d019dd36665390c8903f35579a93faa6a713766e31c4b96cf15273b38964e1b </span><span style=\"background-color: #272822\">    </span>\n",
       "<span style=\"color: #ae81ff; text-decoration-color: #ae81ff; background-color: #272822\">0</span><span style=\"color: #f8f8f2; text-decoration-color: #f8f8f2; background-color: #272822\">x64a067bdc89c2bf61f5e3da1406bcb6dfd507857e72cb5309131279ef2a37f71)</span><span style=\"background-color: #272822\">                                                </span>\n",
       "</pre>\n"
      ],
      "text/plain": [
       "\u001b[38;2;248;248;242;48;2;39;40;34m(\u001b[0m\u001b[38;2;166;226;46;48;2;39;40;34mAGG_SIG_ME\u001b[0m\u001b[38;2;248;248;242;48;2;39;40;34m \u001b[0m\u001b[38;2;174;129;255;48;2;39;40;34m0\u001b[0m\u001b[38;2;248;248;242;48;2;39;40;34mxaa343c6019f1c4ce5e4d68f6d859d3924d019dd36665390c8903f35579a93faa6a713766e31c4b96cf15273b38964e1b\u001b[0m\u001b[38;2;248;248;242;48;2;39;40;34m \u001b[0m\u001b[48;2;39;40;34m    \u001b[0m\n",
       "\u001b[38;2;174;129;255;48;2;39;40;34m0\u001b[0m\u001b[38;2;248;248;242;48;2;39;40;34mx64a067bdc89c2bf61f5e3da1406bcb6dfd507857e72cb5309131279ef2a37f71\u001b[0m\u001b[38;2;248;248;242;48;2;39;40;34m)\u001b[0m\u001b[48;2;39;40;34m                                                \u001b[0m\n"
      ]
     },
     "metadata": {},
     "output_type": "display_data"
    },
    {
     "data": {
      "text/html": [
       "<pre style=\"white-space:pre;overflow-x:auto;line-height:normal;font-family:Menlo,'DejaVu Sans Mono',consolas,'Courier New',monospace\"><span style=\"color: #f8f8f2; text-decoration-color: #f8f8f2; background-color: #272822\">(</span><span style=\"color: #a6e22e; text-decoration-color: #a6e22e; background-color: #272822\">CREATE_COIN</span><span style=\"color: #f8f8f2; text-decoration-color: #f8f8f2; background-color: #272822\"> </span><span style=\"color: #ae81ff; text-decoration-color: #ae81ff; background-color: #272822\">0</span><span style=\"color: #f8f8f2; text-decoration-color: #f8f8f2; background-color: #272822\">x73ca304fb1e7e99d5ca042d3ba4cffefbcdec9e927ca39c7ebfec83cc2878628 </span><span style=\"color: #ae81ff; text-decoration-color: #ae81ff; background-color: #272822\">1</span><span style=\"color: #f8f8f2; text-decoration-color: #f8f8f2; background-color: #272822\"> </span><span style=\"background-color: #272822\">                                 </span>\n",
       "<span style=\"color: #f8f8f2; text-decoration-color: #f8f8f2; background-color: #272822\">(</span><span style=\"color: #ae81ff; text-decoration-color: #ae81ff; background-color: #272822\">0</span><span style=\"color: #f8f8f2; text-decoration-color: #f8f8f2; background-color: #272822\">xbae24162efbd568f89bc7a340798a6118df0189eb9e3f8697bcea27af99f8f79))</span><span style=\"background-color: #272822\">                                              </span>\n",
       "</pre>\n"
      ],
      "text/plain": [
       "\u001b[38;2;248;248;242;48;2;39;40;34m(\u001b[0m\u001b[38;2;166;226;46;48;2;39;40;34mCREATE_COIN\u001b[0m\u001b[38;2;248;248;242;48;2;39;40;34m \u001b[0m\u001b[38;2;174;129;255;48;2;39;40;34m0\u001b[0m\u001b[38;2;248;248;242;48;2;39;40;34mx73ca304fb1e7e99d5ca042d3ba4cffefbcdec9e927ca39c7ebfec83cc2878628\u001b[0m\u001b[38;2;248;248;242;48;2;39;40;34m \u001b[0m\u001b[38;2;174;129;255;48;2;39;40;34m1\u001b[0m\u001b[38;2;248;248;242;48;2;39;40;34m \u001b[0m\u001b[48;2;39;40;34m                                 \u001b[0m\n",
       "\u001b[38;2;248;248;242;48;2;39;40;34m(\u001b[0m\u001b[38;2;174;129;255;48;2;39;40;34m0\u001b[0m\u001b[38;2;248;248;242;48;2;39;40;34mxbae24162efbd568f89bc7a340798a6118df0189eb9e3f8697bcea27af99f8f79\u001b[0m\u001b[38;2;248;248;242;48;2;39;40;34m)\u001b[0m\u001b[38;2;248;248;242;48;2;39;40;34m)\u001b[0m\u001b[48;2;39;40;34m                                              \u001b[0m\n"
      ]
     },
     "metadata": {},
     "output_type": "display_data"
    },
    {
     "data": {
      "text/html": [
       "<pre style=\"white-space:pre;overflow-x:auto;line-height:normal;font-family:Menlo,'DejaVu Sans Mono',consolas,'Courier New',monospace\"><span style=\"color: #f8f8f2; text-decoration-color: #f8f8f2; background-color: #272822\">(</span><span style=\"color: #a6e22e; text-decoration-color: #a6e22e; background-color: #272822\">CREATE_COIN</span><span style=\"color: #f8f8f2; text-decoration-color: #f8f8f2; background-color: #272822\"> </span><span style=\"color: #ae81ff; text-decoration-color: #ae81ff; background-color: #272822\">0</span><span style=\"color: #f8f8f2; text-decoration-color: #f8f8f2; background-color: #272822\">x11f038e916e66412a0cc1c803c27a85223e4c6eb4d86be58a344e8e55079d885 </span><span style=\"color: #ae81ff; text-decoration-color: #ae81ff; background-color: #272822\">0</span><span style=\"color: #f8f8f2; text-decoration-color: #f8f8f2; background-color: #272822\">x0f423f)</span><span style=\"background-color: #272822\">                          </span>\n",
       "</pre>\n"
      ],
      "text/plain": [
       "\u001b[38;2;248;248;242;48;2;39;40;34m(\u001b[0m\u001b[38;2;166;226;46;48;2;39;40;34mCREATE_COIN\u001b[0m\u001b[38;2;248;248;242;48;2;39;40;34m \u001b[0m\u001b[38;2;174;129;255;48;2;39;40;34m0\u001b[0m\u001b[38;2;248;248;242;48;2;39;40;34mx11f038e916e66412a0cc1c803c27a85223e4c6eb4d86be58a344e8e55079d885\u001b[0m\u001b[38;2;248;248;242;48;2;39;40;34m \u001b[0m\u001b[38;2;174;129;255;48;2;39;40;34m0\u001b[0m\u001b[38;2;248;248;242;48;2;39;40;34mx0f423f\u001b[0m\u001b[38;2;248;248;242;48;2;39;40;34m)\u001b[0m\u001b[48;2;39;40;34m                          \u001b[0m\n"
      ]
     },
     "metadata": {},
     "output_type": "display_data"
    },
    {
     "data": {
      "text/html": [
       "<pre style=\"white-space:pre;overflow-x:auto;line-height:normal;font-family:Menlo,'DejaVu Sans Mono',consolas,'Courier New',monospace\"><span style=\"color: #f8f8f2; text-decoration-color: #f8f8f2; background-color: #272822\">(</span><span style=\"color: #a6e22e; text-decoration-color: #a6e22e; background-color: #272822\">CREATE_COIN_ANNOUNCEMENT</span><span style=\"color: #f8f8f2; text-decoration-color: #f8f8f2; background-color: #272822\"> </span><span style=\"color: #ae81ff; text-decoration-color: #ae81ff; background-color: #272822\">0</span><span style=\"color: #f8f8f2; text-decoration-color: #f8f8f2; background-color: #272822\">x7fe86d541a37e293638e4304f5923474c300da2b30233a8ed963888b90cdf422)</span><span style=\"background-color: #272822\">                      </span>\n",
       "</pre>\n"
      ],
      "text/plain": [
       "\u001b[38;2;248;248;242;48;2;39;40;34m(\u001b[0m\u001b[38;2;166;226;46;48;2;39;40;34mCREATE_COIN_ANNOUNCEMENT\u001b[0m\u001b[38;2;248;248;242;48;2;39;40;34m \u001b[0m\u001b[38;2;174;129;255;48;2;39;40;34m0\u001b[0m\u001b[38;2;248;248;242;48;2;39;40;34mx7fe86d541a37e293638e4304f5923474c300da2b30233a8ed963888b90cdf422\u001b[0m\u001b[38;2;248;248;242;48;2;39;40;34m)\u001b[0m\u001b[48;2;39;40;34m                      \u001b[0m\n"
      ]
     },
     "metadata": {},
     "output_type": "display_data"
    },
    {
     "data": {
      "text/html": [
       "<pre style=\"white-space:pre;overflow-x:auto;line-height:normal;font-family:Menlo,'DejaVu Sans Mono',consolas,'Courier New',monospace\"><span style=\"color: #f8f8f2; text-decoration-color: #f8f8f2; background-color: #272822\">(</span><span style=\"color: #a6e22e; text-decoration-color: #a6e22e; background-color: #272822\">ASSERT_PUZZLE_ANNOUNCEMENT</span><span style=\"color: #f8f8f2; text-decoration-color: #f8f8f2; background-color: #272822\"> </span><span style=\"color: #ae81ff; text-decoration-color: #ae81ff; background-color: #272822\">0</span><span style=\"color: #f8f8f2; text-decoration-color: #f8f8f2; background-color: #272822\">x18a531dfd1238641933acd357173016745e175ba4425de6ecc25960735088844)</span><span style=\"background-color: #272822\">                    </span>\n",
       "</pre>\n"
      ],
      "text/plain": [
       "\u001b[38;2;248;248;242;48;2;39;40;34m(\u001b[0m\u001b[38;2;166;226;46;48;2;39;40;34mASSERT_PUZZLE_ANNOUNCEMENT\u001b[0m\u001b[38;2;248;248;242;48;2;39;40;34m \u001b[0m\u001b[38;2;174;129;255;48;2;39;40;34m0\u001b[0m\u001b[38;2;248;248;242;48;2;39;40;34mx18a531dfd1238641933acd357173016745e175ba4425de6ecc25960735088844\u001b[0m\u001b[38;2;248;248;242;48;2;39;40;34m)\u001b[0m\u001b[48;2;39;40;34m                    \u001b[0m\n"
      ]
     },
     "metadata": {},
     "output_type": "display_data"
    },
    {
     "name": "stdout",
     "output_type": "stream",
     "text": [
      "Driver Dict:\n",
      "PuzzleInfo(info={'type': 'CAT', 'tail': '0x6e7f02e776b0040f79d6c781d75f9bbf6c3b8c3ece87c49c5bb9722cf455a357'})\n",
      "PuzzleInfo(info={'type': 'CAT', 'tail': '0xb831d001dc996f9fd8626bb11ecb7cac9e6a596796137fd22ff801d8746ec918'})\n"
     ]
    }
   ],
   "source": [
    "offer = Offer.from_bech32(alice_offer_hex)\n",
    "print_offer(offer)"
   ]
  },
  {
   "cell_type": "code",
   "execution_count": 3,
   "id": "8cd4d796-6b2a-4408-8713-2d62d5623643",
   "metadata": {},
   "outputs": [
    {
     "name": "stdout",
     "output_type": "stream",
     "text": [
      "Payment:\n"
     ]
    },
    {
     "data": {
      "text/html": [
       "<pre style=\"white-space:pre;overflow-x:auto;line-height:normal;font-family:Menlo,'DejaVu Sans Mono',consolas,'Courier New',monospace\"><span style=\"color: #f8f8f2; text-decoration-color: #f8f8f2; background-color: #272822\">(</span><span style=\"color: #a6e22e; text-decoration-color: #a6e22e; background-color: #272822\">CREATE_COIN</span><span style=\"color: #f8f8f2; text-decoration-color: #f8f8f2; background-color: #272822\"> </span><span style=\"color: #ae81ff; text-decoration-color: #ae81ff; background-color: #272822\">0</span><span style=\"color: #f8f8f2; text-decoration-color: #f8f8f2; background-color: #272822\">xf402b57415249305991303f31f0549068232f6af92fc685533e7f832cf3b3485 </span><span style=\"color: #ae81ff; text-decoration-color: #ae81ff; background-color: #272822\">1</span><span style=\"color: #f8f8f2; text-decoration-color: #f8f8f2; background-color: #272822\"> </span><span style=\"background-color: #272822\">                                 </span>\n",
       "<span style=\"color: #f8f8f2; text-decoration-color: #f8f8f2; background-color: #272822\">(</span><span style=\"color: #ae81ff; text-decoration-color: #ae81ff; background-color: #272822\">0</span><span style=\"color: #f8f8f2; text-decoration-color: #f8f8f2; background-color: #272822\">xf402b57415249305991303f31f0549068232f6af92fc685533e7f832cf3b3485))</span><span style=\"background-color: #272822\">                                              </span>\n",
       "</pre>\n"
      ],
      "text/plain": [
       "\u001b[38;2;248;248;242;48;2;39;40;34m(\u001b[0m\u001b[38;2;166;226;46;48;2;39;40;34mCREATE_COIN\u001b[0m\u001b[38;2;248;248;242;48;2;39;40;34m \u001b[0m\u001b[38;2;174;129;255;48;2;39;40;34m0\u001b[0m\u001b[38;2;248;248;242;48;2;39;40;34mxf402b57415249305991303f31f0549068232f6af92fc685533e7f832cf3b3485\u001b[0m\u001b[38;2;248;248;242;48;2;39;40;34m \u001b[0m\u001b[38;2;174;129;255;48;2;39;40;34m1\u001b[0m\u001b[38;2;248;248;242;48;2;39;40;34m \u001b[0m\u001b[48;2;39;40;34m                                 \u001b[0m\n",
       "\u001b[38;2;248;248;242;48;2;39;40;34m(\u001b[0m\u001b[38;2;174;129;255;48;2;39;40;34m0\u001b[0m\u001b[38;2;248;248;242;48;2;39;40;34mxf402b57415249305991303f31f0549068232f6af92fc685533e7f832cf3b3485\u001b[0m\u001b[38;2;248;248;242;48;2;39;40;34m)\u001b[0m\u001b[38;2;248;248;242;48;2;39;40;34m)\u001b[0m\u001b[48;2;39;40;34m                                              \u001b[0m\n"
      ]
     },
     "metadata": {},
     "output_type": "display_data"
    },
    {
     "name": "stdout",
     "output_type": "stream",
     "text": [
      "CoinSpend:\n"
     ]
    },
    {
     "data": {
      "text/html": [
       "<pre style=\"white-space:pre;overflow-x:auto;line-height:normal;font-family:Menlo,'DejaVu Sans Mono',consolas,'Courier New',monospace\"><span style=\"color: #f8f8f2; text-decoration-color: #f8f8f2; background-color: #272822\">(</span><span style=\"color: #a6e22e; text-decoration-color: #a6e22e; background-color: #272822\">ASSERT_MY_COIN_ID</span><span style=\"color: #f8f8f2; text-decoration-color: #f8f8f2; background-color: #272822\"> </span><span style=\"color: #ae81ff; text-decoration-color: #ae81ff; background-color: #272822\">0</span><span style=\"color: #f8f8f2; text-decoration-color: #f8f8f2; background-color: #272822\">xd49cf6b52aa69cbe25bfa8513ef06a28cbec28aa56c86f80f56aa3b744cdb266)</span><span style=\"background-color: #272822\">                             </span>\n",
       "</pre>\n"
      ],
      "text/plain": [
       "\u001b[38;2;248;248;242;48;2;39;40;34m(\u001b[0m\u001b[38;2;166;226;46;48;2;39;40;34mASSERT_MY_COIN_ID\u001b[0m\u001b[38;2;248;248;242;48;2;39;40;34m \u001b[0m\u001b[38;2;174;129;255;48;2;39;40;34m0\u001b[0m\u001b[38;2;248;248;242;48;2;39;40;34mxd49cf6b52aa69cbe25bfa8513ef06a28cbec28aa56c86f80f56aa3b744cdb266\u001b[0m\u001b[38;2;248;248;242;48;2;39;40;34m)\u001b[0m\u001b[48;2;39;40;34m                             \u001b[0m\n"
      ]
     },
     "metadata": {},
     "output_type": "display_data"
    },
    {
     "data": {
      "text/html": [
       "<pre style=\"white-space:pre;overflow-x:auto;line-height:normal;font-family:Menlo,'DejaVu Sans Mono',consolas,'Courier New',monospace\"><span style=\"color: #f8f8f2; text-decoration-color: #f8f8f2; background-color: #272822\">(</span><span style=\"color: #a6e22e; text-decoration-color: #a6e22e; background-color: #272822\">CREATE_COIN_ANNOUNCEMENT</span><span style=\"color: #f8f8f2; text-decoration-color: #f8f8f2; background-color: #272822\"> </span><span style=\"color: #ae81ff; text-decoration-color: #ae81ff; background-color: #272822\">0</span><span style=\"color: #f8f8f2; text-decoration-color: #f8f8f2; background-color: #272822\">xcbc0751ee588d22c44f0c9ed7b73b225258bcadd184cdc85ec59f46085858c0c8a)</span><span style=\"background-color: #272822\">                    </span>\n",
       "</pre>\n"
      ],
      "text/plain": [
       "\u001b[38;2;248;248;242;48;2;39;40;34m(\u001b[0m\u001b[38;2;166;226;46;48;2;39;40;34mCREATE_COIN_ANNOUNCEMENT\u001b[0m\u001b[38;2;248;248;242;48;2;39;40;34m \u001b[0m\u001b[38;2;174;129;255;48;2;39;40;34m0\u001b[0m\u001b[38;2;248;248;242;48;2;39;40;34mxcbc0751ee588d22c44f0c9ed7b73b225258bcadd184cdc85ec59f46085858c0c8a\u001b[0m\u001b[38;2;248;248;242;48;2;39;40;34m)\u001b[0m\u001b[48;2;39;40;34m                    \u001b[0m\n"
      ]
     },
     "metadata": {},
     "output_type": "display_data"
    },
    {
     "data": {
      "text/html": [
       "<pre style=\"white-space:pre;overflow-x:auto;line-height:normal;font-family:Menlo,'DejaVu Sans Mono',consolas,'Courier New',monospace\"><span style=\"color: #f8f8f2; text-decoration-color: #f8f8f2; background-color: #272822\">(</span><span style=\"color: #a6e22e; text-decoration-color: #a6e22e; background-color: #272822\">ASSERT_COIN_ANNOUNCEMENT</span><span style=\"color: #f8f8f2; text-decoration-color: #f8f8f2; background-color: #272822\"> </span><span style=\"color: #ae81ff; text-decoration-color: #ae81ff; background-color: #272822\">0</span><span style=\"color: #f8f8f2; text-decoration-color: #f8f8f2; background-color: #272822\">x058ce32bcb7efc245e441867737069039f86d35899c1e260be8f8369def8f49b)</span><span style=\"background-color: #272822\">                      </span>\n",
       "</pre>\n"
      ],
      "text/plain": [
       "\u001b[38;2;248;248;242;48;2;39;40;34m(\u001b[0m\u001b[38;2;166;226;46;48;2;39;40;34mASSERT_COIN_ANNOUNCEMENT\u001b[0m\u001b[38;2;248;248;242;48;2;39;40;34m \u001b[0m\u001b[38;2;174;129;255;48;2;39;40;34m0\u001b[0m\u001b[38;2;248;248;242;48;2;39;40;34mx058ce32bcb7efc245e441867737069039f86d35899c1e260be8f8369def8f49b\u001b[0m\u001b[38;2;248;248;242;48;2;39;40;34m)\u001b[0m\u001b[48;2;39;40;34m                      \u001b[0m\n"
      ]
     },
     "metadata": {},
     "output_type": "display_data"
    },
    {
     "data": {
      "text/html": [
       "<pre style=\"white-space:pre;overflow-x:auto;line-height:normal;font-family:Menlo,'DejaVu Sans Mono',consolas,'Courier New',monospace\"><span style=\"color: #f8f8f2; text-decoration-color: #f8f8f2; background-color: #272822\">(</span><span style=\"color: #a6e22e; text-decoration-color: #a6e22e; background-color: #272822\">AGG_SIG_ME</span><span style=\"color: #f8f8f2; text-decoration-color: #f8f8f2; background-color: #272822\"> </span><span style=\"color: #ae81ff; text-decoration-color: #ae81ff; background-color: #272822\">0</span><span style=\"color: #f8f8f2; text-decoration-color: #f8f8f2; background-color: #272822\">x8c6d36eceba600e24828d9a34ffe5ec5dc0327d21f48f61e89c34462199b8a493d283b0aee324005fa7227201edb96fb </span><span style=\"background-color: #272822\">    </span>\n",
       "<span style=\"color: #ae81ff; text-decoration-color: #ae81ff; background-color: #272822\">0</span><span style=\"color: #f8f8f2; text-decoration-color: #f8f8f2; background-color: #272822\">xebd2a4d0a95f3c80c3a80b35e35889e00b6d8006a4c55533f2aefd7cb6ebfea7)</span><span style=\"background-color: #272822\">                                                </span>\n",
       "</pre>\n"
      ],
      "text/plain": [
       "\u001b[38;2;248;248;242;48;2;39;40;34m(\u001b[0m\u001b[38;2;166;226;46;48;2;39;40;34mAGG_SIG_ME\u001b[0m\u001b[38;2;248;248;242;48;2;39;40;34m \u001b[0m\u001b[38;2;174;129;255;48;2;39;40;34m0\u001b[0m\u001b[38;2;248;248;242;48;2;39;40;34mx8c6d36eceba600e24828d9a34ffe5ec5dc0327d21f48f61e89c34462199b8a493d283b0aee324005fa7227201edb96fb\u001b[0m\u001b[38;2;248;248;242;48;2;39;40;34m \u001b[0m\u001b[48;2;39;40;34m    \u001b[0m\n",
       "\u001b[38;2;174;129;255;48;2;39;40;34m0\u001b[0m\u001b[38;2;248;248;242;48;2;39;40;34mxebd2a4d0a95f3c80c3a80b35e35889e00b6d8006a4c55533f2aefd7cb6ebfea7\u001b[0m\u001b[38;2;248;248;242;48;2;39;40;34m)\u001b[0m\u001b[48;2;39;40;34m                                                \u001b[0m\n"
      ]
     },
     "metadata": {},
     "output_type": "display_data"
    },
    {
     "data": {
      "text/html": [
       "<pre style=\"white-space:pre;overflow-x:auto;line-height:normal;font-family:Menlo,'DejaVu Sans Mono',consolas,'Courier New',monospace\"><span style=\"color: #f8f8f2; text-decoration-color: #f8f8f2; background-color: #272822\">(</span><span style=\"color: #a6e22e; text-decoration-color: #a6e22e; background-color: #272822\">CREATE_COIN</span><span style=\"color: #f8f8f2; text-decoration-color: #f8f8f2; background-color: #272822\"> </span><span style=\"color: #ae81ff; text-decoration-color: #ae81ff; background-color: #272822\">0</span><span style=\"color: #f8f8f2; text-decoration-color: #f8f8f2; background-color: #272822\">x82cf53f41859cf7ab78e3bd3e627c684404033bf04b2deae79d6990e3b65477c </span><span style=\"color: #ae81ff; text-decoration-color: #ae81ff; background-color: #272822\">1</span><span style=\"color: #f8f8f2; text-decoration-color: #f8f8f2; background-color: #272822\"> </span><span style=\"background-color: #272822\">                                 </span>\n",
       "<span style=\"color: #f8f8f2; text-decoration-color: #f8f8f2; background-color: #272822\">(</span><span style=\"color: #ae81ff; text-decoration-color: #ae81ff; background-color: #272822\">0</span><span style=\"color: #f8f8f2; text-decoration-color: #f8f8f2; background-color: #272822\">xbae24162efbd568f89bc7a340798a6118df0189eb9e3f8697bcea27af99f8f79))</span><span style=\"background-color: #272822\">                                              </span>\n",
       "</pre>\n"
      ],
      "text/plain": [
       "\u001b[38;2;248;248;242;48;2;39;40;34m(\u001b[0m\u001b[38;2;166;226;46;48;2;39;40;34mCREATE_COIN\u001b[0m\u001b[38;2;248;248;242;48;2;39;40;34m \u001b[0m\u001b[38;2;174;129;255;48;2;39;40;34m0\u001b[0m\u001b[38;2;248;248;242;48;2;39;40;34mx82cf53f41859cf7ab78e3bd3e627c684404033bf04b2deae79d6990e3b65477c\u001b[0m\u001b[38;2;248;248;242;48;2;39;40;34m \u001b[0m\u001b[38;2;174;129;255;48;2;39;40;34m1\u001b[0m\u001b[38;2;248;248;242;48;2;39;40;34m \u001b[0m\u001b[48;2;39;40;34m                                 \u001b[0m\n",
       "\u001b[38;2;248;248;242;48;2;39;40;34m(\u001b[0m\u001b[38;2;174;129;255;48;2;39;40;34m0\u001b[0m\u001b[38;2;248;248;242;48;2;39;40;34mxbae24162efbd568f89bc7a340798a6118df0189eb9e3f8697bcea27af99f8f79\u001b[0m\u001b[38;2;248;248;242;48;2;39;40;34m)\u001b[0m\u001b[38;2;248;248;242;48;2;39;40;34m)\u001b[0m\u001b[48;2;39;40;34m                                              \u001b[0m\n"
      ]
     },
     "metadata": {},
     "output_type": "display_data"
    },
    {
     "data": {
      "text/html": [
       "<pre style=\"white-space:pre;overflow-x:auto;line-height:normal;font-family:Menlo,'DejaVu Sans Mono',consolas,'Courier New',monospace\"><span style=\"color: #f8f8f2; text-decoration-color: #f8f8f2; background-color: #272822\">(</span><span style=\"color: #a6e22e; text-decoration-color: #a6e22e; background-color: #272822\">CREATE_COIN</span><span style=\"color: #f8f8f2; text-decoration-color: #f8f8f2; background-color: #272822\"> </span><span style=\"color: #ae81ff; text-decoration-color: #ae81ff; background-color: #272822\">0</span><span style=\"color: #f8f8f2; text-decoration-color: #f8f8f2; background-color: #272822\">x5f38412ccb853d1890dc13087c27b189a68d83d4f551e609d1d32f0e109167b5 </span><span style=\"color: #ae81ff; text-decoration-color: #ae81ff; background-color: #272822\">0</span><span style=\"color: #f8f8f2; text-decoration-color: #f8f8f2; background-color: #272822\">x0f423f)</span><span style=\"background-color: #272822\">                          </span>\n",
       "</pre>\n"
      ],
      "text/plain": [
       "\u001b[38;2;248;248;242;48;2;39;40;34m(\u001b[0m\u001b[38;2;166;226;46;48;2;39;40;34mCREATE_COIN\u001b[0m\u001b[38;2;248;248;242;48;2;39;40;34m \u001b[0m\u001b[38;2;174;129;255;48;2;39;40;34m0\u001b[0m\u001b[38;2;248;248;242;48;2;39;40;34mx5f38412ccb853d1890dc13087c27b189a68d83d4f551e609d1d32f0e109167b5\u001b[0m\u001b[38;2;248;248;242;48;2;39;40;34m \u001b[0m\u001b[38;2;174;129;255;48;2;39;40;34m0\u001b[0m\u001b[38;2;248;248;242;48;2;39;40;34mx0f423f\u001b[0m\u001b[38;2;248;248;242;48;2;39;40;34m)\u001b[0m\u001b[48;2;39;40;34m                          \u001b[0m\n"
      ]
     },
     "metadata": {},
     "output_type": "display_data"
    },
    {
     "data": {
      "text/html": [
       "<pre style=\"white-space:pre;overflow-x:auto;line-height:normal;font-family:Menlo,'DejaVu Sans Mono',consolas,'Courier New',monospace\"><span style=\"color: #f8f8f2; text-decoration-color: #f8f8f2; background-color: #272822\">(</span><span style=\"color: #a6e22e; text-decoration-color: #a6e22e; background-color: #272822\">CREATE_COIN_ANNOUNCEMENT</span><span style=\"color: #f8f8f2; text-decoration-color: #f8f8f2; background-color: #272822\"> </span><span style=\"color: #ae81ff; text-decoration-color: #ae81ff; background-color: #272822\">0</span><span style=\"color: #f8f8f2; text-decoration-color: #f8f8f2; background-color: #272822\">x5b5a2ca56182812d0c32f03845b43ea7f7ac87dd4b75cfcd4a2f28ff769ffc78)</span><span style=\"background-color: #272822\">                      </span>\n",
       "</pre>\n"
      ],
      "text/plain": [
       "\u001b[38;2;248;248;242;48;2;39;40;34m(\u001b[0m\u001b[38;2;166;226;46;48;2;39;40;34mCREATE_COIN_ANNOUNCEMENT\u001b[0m\u001b[38;2;248;248;242;48;2;39;40;34m \u001b[0m\u001b[38;2;174;129;255;48;2;39;40;34m0\u001b[0m\u001b[38;2;248;248;242;48;2;39;40;34mx5b5a2ca56182812d0c32f03845b43ea7f7ac87dd4b75cfcd4a2f28ff769ffc78\u001b[0m\u001b[38;2;248;248;242;48;2;39;40;34m)\u001b[0m\u001b[48;2;39;40;34m                      \u001b[0m\n"
      ]
     },
     "metadata": {},
     "output_type": "display_data"
    },
    {
     "data": {
      "text/html": [
       "<pre style=\"white-space:pre;overflow-x:auto;line-height:normal;font-family:Menlo,'DejaVu Sans Mono',consolas,'Courier New',monospace\"><span style=\"color: #f8f8f2; text-decoration-color: #f8f8f2; background-color: #272822\">(</span><span style=\"color: #a6e22e; text-decoration-color: #a6e22e; background-color: #272822\">ASSERT_PUZZLE_ANNOUNCEMENT</span><span style=\"color: #f8f8f2; text-decoration-color: #f8f8f2; background-color: #272822\"> </span><span style=\"color: #ae81ff; text-decoration-color: #ae81ff; background-color: #272822\">0</span><span style=\"color: #f8f8f2; text-decoration-color: #f8f8f2; background-color: #272822\">x228ba258785fdb6aeba73a9d502cd53b050e5c1b5543a09b0affda665f6313f3)</span><span style=\"background-color: #272822\">                    </span>\n",
       "</pre>\n"
      ],
      "text/plain": [
       "\u001b[38;2;248;248;242;48;2;39;40;34m(\u001b[0m\u001b[38;2;166;226;46;48;2;39;40;34mASSERT_PUZZLE_ANNOUNCEMENT\u001b[0m\u001b[38;2;248;248;242;48;2;39;40;34m \u001b[0m\u001b[38;2;174;129;255;48;2;39;40;34m0\u001b[0m\u001b[38;2;248;248;242;48;2;39;40;34mx228ba258785fdb6aeba73a9d502cd53b050e5c1b5543a09b0affda665f6313f3\u001b[0m\u001b[38;2;248;248;242;48;2;39;40;34m)\u001b[0m\u001b[48;2;39;40;34m                    \u001b[0m\n"
      ]
     },
     "metadata": {},
     "output_type": "display_data"
    },
    {
     "name": "stdout",
     "output_type": "stream",
     "text": [
      "Driver Dict:\n",
      "PuzzleInfo(info={'type': 'CAT', 'tail': '0xb831d001dc996f9fd8626bb11ecb7cac9e6a596796137fd22ff801d8746ec918'})\n",
      "PuzzleInfo(info={'type': 'CAT', 'tail': '0x6e7f02e776b0040f79d6c781d75f9bbf6c3b8c3ece87c49c5bb9722cf455a357'})\n"
     ]
    }
   ],
   "source": [
    "offer = Offer.from_bech32(bob_offer_hex)\n",
    "print_offer(offer)"
   ]
  }
 ],
 "metadata": {
  "kernelspec": {
   "display_name": "Python 3 (ipykernel)",
   "language": "python",
   "name": "python3"
  },
  "language_info": {
   "codemirror_mode": {
    "name": "ipython",
    "version": 3
   },
   "file_extension": ".py",
   "mimetype": "text/x-python",
   "name": "python",
   "nbconvert_exporter": "python",
   "pygments_lexer": "ipython3",
   "version": "3.10.9"
  }
 },
 "nbformat": 4,
 "nbformat_minor": 5
}
