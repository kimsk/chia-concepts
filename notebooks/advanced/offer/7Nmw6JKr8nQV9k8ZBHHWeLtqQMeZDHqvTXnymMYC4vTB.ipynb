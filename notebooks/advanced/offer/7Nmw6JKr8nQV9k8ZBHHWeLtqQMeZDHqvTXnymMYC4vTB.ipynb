{
 "cells": [
  {
   "cell_type": "code",
   "execution_count": 7,
   "id": "eb4cfe3f-05bb-4d67-8e30-f136b79a0056",
   "metadata": {},
   "outputs": [],
   "source": [
    "%run testnet.ipynb"
   ]
  },
  {
   "cell_type": "code",
   "execution_count": 8,
   "id": "d85a7810-8446-44c8-b2e9-6db50cc52578",
   "metadata": {},
   "outputs": [
    {
     "name": "stdout",
     "output_type": "stream",
     "text": [
      "Notarized Payment:\n"
     ]
    },
    {
     "data": {
      "text/html": [
       "<pre style=\"white-space:pre;overflow-x:auto;line-height:normal;font-family:Menlo,'DejaVu Sans Mono',consolas,'Courier New',monospace\"><span style=\"color: #f8f8f2; text-decoration-color: #f8f8f2; background-color: #272822\">(</span><span style=\"color: #a6e22e; text-decoration-color: #a6e22e; background-color: #272822\">CREATE_COIN</span><span style=\"color: #f8f8f2; text-decoration-color: #f8f8f2; background-color: #272822\"> </span><span style=\"color: #ae81ff; text-decoration-color: #ae81ff; background-color: #272822\">0</span><span style=\"color: #f8f8f2; text-decoration-color: #f8f8f2; background-color: #272822\">xad2d58aa3b5c535a834330d7371a901b61162f13870322daafd5b208c6812221 </span><span style=\"color: #ae81ff; text-decoration-color: #ae81ff; background-color: #272822\">28372</span><span style=\"color: #f8f8f2; text-decoration-color: #f8f8f2; background-color: #272822\"> </span><span style=\"background-color: #272822\">                             </span>\n",
       "<span style=\"color: #f8f8f2; text-decoration-color: #f8f8f2; background-color: #272822\">(</span><span style=\"color: #ae81ff; text-decoration-color: #ae81ff; background-color: #272822\">0</span><span style=\"color: #f8f8f2; text-decoration-color: #f8f8f2; background-color: #272822\">xad2d58aa3b5c535a834330d7371a901b61162f13870322daafd5b208c6812221))</span><span style=\"background-color: #272822\">                                              </span>\n",
       "</pre>\n"
      ],
      "text/plain": [
       "\u001b[38;2;248;248;242;48;2;39;40;34m(\u001b[0m\u001b[38;2;166;226;46;48;2;39;40;34mCREATE_COIN\u001b[0m\u001b[38;2;248;248;242;48;2;39;40;34m \u001b[0m\u001b[38;2;174;129;255;48;2;39;40;34m0\u001b[0m\u001b[38;2;248;248;242;48;2;39;40;34mxad2d58aa3b5c535a834330d7371a901b61162f13870322daafd5b208c6812221\u001b[0m\u001b[38;2;248;248;242;48;2;39;40;34m \u001b[0m\u001b[38;2;174;129;255;48;2;39;40;34m28372\u001b[0m\u001b[38;2;248;248;242;48;2;39;40;34m \u001b[0m\u001b[48;2;39;40;34m                             \u001b[0m\n",
       "\u001b[38;2;248;248;242;48;2;39;40;34m(\u001b[0m\u001b[38;2;174;129;255;48;2;39;40;34m0\u001b[0m\u001b[38;2;248;248;242;48;2;39;40;34mxad2d58aa3b5c535a834330d7371a901b61162f13870322daafd5b208c6812221\u001b[0m\u001b[38;2;248;248;242;48;2;39;40;34m)\u001b[0m\u001b[38;2;248;248;242;48;2;39;40;34m)\u001b[0m\u001b[48;2;39;40;34m                                              \u001b[0m\n"
      ]
     },
     "metadata": {},
     "output_type": "display_data"
    },
    {
     "name": "stdout",
     "output_type": "stream",
     "text": [
      "CoinSpend:\n",
      "Coin:\n",
      "bfb94dbffbe4e7e010b449f1245f1db877686528e8527be15cc12c19422665ae\n",
      "Coin { parent_coin_info: 93e7213959f2f76ea44f88d5001f27a277fcb5bfd1b5c5bc8bfa075ffdc8f70b, puzzle_hash: eb267ee0ef76e6ac9ef51e22529dc3c319585304e6fe403f9599ea4fbd0a4aeb, amount: 100000000000 }\n",
      "\n",
      "Conditions\n"
     ]
    },
    {
     "data": {
      "text/html": [
       "<pre style=\"white-space:pre;overflow-x:auto;line-height:normal;font-family:Menlo,'DejaVu Sans Mono',consolas,'Courier New',monospace\"><span style=\"color: #f8f8f2; text-decoration-color: #f8f8f2; background-color: #272822\">(</span><span style=\"color: #a6e22e; text-decoration-color: #a6e22e; background-color: #272822\">AGG_SIG_ME</span><span style=\"color: #f8f8f2; text-decoration-color: #f8f8f2; background-color: #272822\"> </span><span style=\"color: #ae81ff; text-decoration-color: #ae81ff; background-color: #272822\">0</span><span style=\"color: #f8f8f2; text-decoration-color: #f8f8f2; background-color: #272822\">xb2d2c4edccffbae9795eb6e25b3f9e5ba88586fbd70d4b7aa4abbfdc3695dd65d24e20003e5673e8c704aecd2390da61 </span><span style=\"background-color: #272822\">    </span>\n",
       "<span style=\"color: #ae81ff; text-decoration-color: #ae81ff; background-color: #272822\">0</span><span style=\"color: #f8f8f2; text-decoration-color: #f8f8f2; background-color: #272822\">xd98bfc9ba354ae0954d5e198aec62c1d1705db406eaeabcc0959678bd055d705)</span><span style=\"background-color: #272822\">                                                </span>\n",
       "</pre>\n"
      ],
      "text/plain": [
       "\u001b[38;2;248;248;242;48;2;39;40;34m(\u001b[0m\u001b[38;2;166;226;46;48;2;39;40;34mAGG_SIG_ME\u001b[0m\u001b[38;2;248;248;242;48;2;39;40;34m \u001b[0m\u001b[38;2;174;129;255;48;2;39;40;34m0\u001b[0m\u001b[38;2;248;248;242;48;2;39;40;34mxb2d2c4edccffbae9795eb6e25b3f9e5ba88586fbd70d4b7aa4abbfdc3695dd65d24e20003e5673e8c704aecd2390da61\u001b[0m\u001b[38;2;248;248;242;48;2;39;40;34m \u001b[0m\u001b[48;2;39;40;34m    \u001b[0m\n",
       "\u001b[38;2;174;129;255;48;2;39;40;34m0\u001b[0m\u001b[38;2;248;248;242;48;2;39;40;34mxd98bfc9ba354ae0954d5e198aec62c1d1705db406eaeabcc0959678bd055d705\u001b[0m\u001b[38;2;248;248;242;48;2;39;40;34m)\u001b[0m\u001b[48;2;39;40;34m                                                \u001b[0m\n"
      ]
     },
     "metadata": {},
     "output_type": "display_data"
    },
    {
     "data": {
      "text/html": [
       "<pre style=\"white-space:pre;overflow-x:auto;line-height:normal;font-family:Menlo,'DejaVu Sans Mono',consolas,'Courier New',monospace\"><span style=\"color: #f8f8f2; text-decoration-color: #f8f8f2; background-color: #272822\">(</span><span style=\"color: #a6e22e; text-decoration-color: #a6e22e; background-color: #272822\">CREATE_COIN</span><span style=\"color: #f8f8f2; text-decoration-color: #f8f8f2; background-color: #272822\"> </span><span style=\"color: #ae81ff; text-decoration-color: #ae81ff; background-color: #272822\">0</span><span style=\"color: #f8f8f2; text-decoration-color: #f8f8f2; background-color: #272822\">xbae24162efbd568f89bc7a340798a6118df0189eb9e3f8697bcea27af99f8f79 </span><span style=\"color: #ae81ff; text-decoration-color: #ae81ff; background-color: #272822\">0</span><span style=\"color: #f8f8f2; text-decoration-color: #f8f8f2; background-color: #272822\">x09502f9000)</span><span style=\"background-color: #272822\">                      </span>\n",
       "</pre>\n"
      ],
      "text/plain": [
       "\u001b[38;2;248;248;242;48;2;39;40;34m(\u001b[0m\u001b[38;2;166;226;46;48;2;39;40;34mCREATE_COIN\u001b[0m\u001b[38;2;248;248;242;48;2;39;40;34m \u001b[0m\u001b[38;2;174;129;255;48;2;39;40;34m0\u001b[0m\u001b[38;2;248;248;242;48;2;39;40;34mxbae24162efbd568f89bc7a340798a6118df0189eb9e3f8697bcea27af99f8f79\u001b[0m\u001b[38;2;248;248;242;48;2;39;40;34m \u001b[0m\u001b[38;2;174;129;255;48;2;39;40;34m0\u001b[0m\u001b[38;2;248;248;242;48;2;39;40;34mx09502f9000\u001b[0m\u001b[38;2;248;248;242;48;2;39;40;34m)\u001b[0m\u001b[48;2;39;40;34m                      \u001b[0m\n"
      ]
     },
     "metadata": {},
     "output_type": "display_data"
    },
    {
     "data": {
      "text/html": [
       "<pre style=\"white-space:pre;overflow-x:auto;line-height:normal;font-family:Menlo,'DejaVu Sans Mono',consolas,'Courier New',monospace\"><span style=\"color: #f8f8f2; text-decoration-color: #f8f8f2; background-color: #272822\">(</span><span style=\"color: #a6e22e; text-decoration-color: #a6e22e; background-color: #272822\">CREATE_COIN</span><span style=\"color: #f8f8f2; text-decoration-color: #f8f8f2; background-color: #272822\"> </span><span style=\"color: #ae81ff; text-decoration-color: #ae81ff; background-color: #272822\">0</span><span style=\"color: #f8f8f2; text-decoration-color: #f8f8f2; background-color: #272822\">xfb58c46fe35ae3d7fb58d2601e1ec1e4ae838cabb86ce4ca918c10cb8c848eab </span><span style=\"color: #ae81ff; text-decoration-color: #ae81ff; background-color: #272822\">0</span><span style=\"color: #f8f8f2; text-decoration-color: #f8f8f2; background-color: #272822\">x0df8475800)</span><span style=\"background-color: #272822\">                      </span>\n",
       "</pre>\n"
      ],
      "text/plain": [
       "\u001b[38;2;248;248;242;48;2;39;40;34m(\u001b[0m\u001b[38;2;166;226;46;48;2;39;40;34mCREATE_COIN\u001b[0m\u001b[38;2;248;248;242;48;2;39;40;34m \u001b[0m\u001b[38;2;174;129;255;48;2;39;40;34m0\u001b[0m\u001b[38;2;248;248;242;48;2;39;40;34mxfb58c46fe35ae3d7fb58d2601e1ec1e4ae838cabb86ce4ca918c10cb8c848eab\u001b[0m\u001b[38;2;248;248;242;48;2;39;40;34m \u001b[0m\u001b[38;2;174;129;255;48;2;39;40;34m0\u001b[0m\u001b[38;2;248;248;242;48;2;39;40;34mx0df8475800\u001b[0m\u001b[38;2;248;248;242;48;2;39;40;34m)\u001b[0m\u001b[48;2;39;40;34m                      \u001b[0m\n"
      ]
     },
     "metadata": {},
     "output_type": "display_data"
    },
    {
     "data": {
      "text/html": [
       "<pre style=\"white-space:pre;overflow-x:auto;line-height:normal;font-family:Menlo,'DejaVu Sans Mono',consolas,'Courier New',monospace\"><span style=\"color: #f8f8f2; text-decoration-color: #f8f8f2; background-color: #272822\">(</span><span style=\"color: #a6e22e; text-decoration-color: #a6e22e; background-color: #272822\">CREATE_COIN_ANNOUNCEMENT</span><span style=\"color: #f8f8f2; text-decoration-color: #f8f8f2; background-color: #272822\"> </span><span style=\"color: #ae81ff; text-decoration-color: #ae81ff; background-color: #272822\">0</span><span style=\"color: #f8f8f2; text-decoration-color: #f8f8f2; background-color: #272822\">x25e0737350df48e80e3cccc4874144eb80d5d8a3b41a7d96ccc42b7056d23944)</span><span style=\"background-color: #272822\">                      </span>\n",
       "</pre>\n"
      ],
      "text/plain": [
       "\u001b[38;2;248;248;242;48;2;39;40;34m(\u001b[0m\u001b[38;2;166;226;46;48;2;39;40;34mCREATE_COIN_ANNOUNCEMENT\u001b[0m\u001b[38;2;248;248;242;48;2;39;40;34m \u001b[0m\u001b[38;2;174;129;255;48;2;39;40;34m0\u001b[0m\u001b[38;2;248;248;242;48;2;39;40;34mx25e0737350df48e80e3cccc4874144eb80d5d8a3b41a7d96ccc42b7056d23944\u001b[0m\u001b[38;2;248;248;242;48;2;39;40;34m)\u001b[0m\u001b[48;2;39;40;34m                      \u001b[0m\n"
      ]
     },
     "metadata": {},
     "output_type": "display_data"
    },
    {
     "data": {
      "text/html": [
       "<pre style=\"white-space:pre;overflow-x:auto;line-height:normal;font-family:Menlo,'DejaVu Sans Mono',consolas,'Courier New',monospace\"><span style=\"color: #f8f8f2; text-decoration-color: #f8f8f2; background-color: #272822\">(</span><span style=\"color: #a6e22e; text-decoration-color: #a6e22e; background-color: #272822\">ASSERT_PUZZLE_ANNOUNCEMENT</span><span style=\"color: #f8f8f2; text-decoration-color: #f8f8f2; background-color: #272822\"> </span><span style=\"color: #ae81ff; text-decoration-color: #ae81ff; background-color: #272822\">0</span><span style=\"color: #f8f8f2; text-decoration-color: #f8f8f2; background-color: #272822\">x33cfa4337ae76fc52aa6a2217c5a229da8793253014b5baeaf3ffd06da481b7f)</span><span style=\"background-color: #272822\">                    </span>\n",
       "</pre>\n"
      ],
      "text/plain": [
       "\u001b[38;2;248;248;242;48;2;39;40;34m(\u001b[0m\u001b[38;2;166;226;46;48;2;39;40;34mASSERT_PUZZLE_ANNOUNCEMENT\u001b[0m\u001b[38;2;248;248;242;48;2;39;40;34m \u001b[0m\u001b[38;2;174;129;255;48;2;39;40;34m0\u001b[0m\u001b[38;2;248;248;242;48;2;39;40;34mx33cfa4337ae76fc52aa6a2217c5a229da8793253014b5baeaf3ffd06da481b7f\u001b[0m\u001b[38;2;248;248;242;48;2;39;40;34m)\u001b[0m\u001b[48;2;39;40;34m                    \u001b[0m\n"
      ]
     },
     "metadata": {},
     "output_type": "display_data"
    },
    {
     "name": "stdout",
     "output_type": "stream",
     "text": [
      "\n",
      "Additions:\n",
      "Coin { parent_coin_info: bfb94dbffbe4e7e010b449f1245f1db877686528e8527be15cc12c19422665ae, puzzle_hash: bae24162efbd568f89bc7a340798a6118df0189eb9e3f8697bcea27af99f8f79, amount: 40000000000 }\n",
      "Coin { parent_coin_info: bfb94dbffbe4e7e010b449f1245f1db877686528e8527be15cc12c19422665ae, puzzle_hash: fb58c46fe35ae3d7fb58d2601e1ec1e4ae838cabb86ce4ca918c10cb8c848eab, amount: 60000000000 }\n",
      "\n",
      "Removals:\n",
      "Coin { parent_coin_info: 93e7213959f2f76ea44f88d5001f27a277fcb5bfd1b5c5bc8bfa075ffdc8f70b, puzzle_hash: eb267ee0ef76e6ac9ef51e22529dc3c319585304e6fe403f9599ea4fbd0a4aeb, amount: 100000000000 }\n",
      "Driver Dict:\n",
      "PuzzleInfo(info={'type': 'CAT', 'tail': '0xd82dd03f8a9ad2f84353cd953c4de6b21dbaaf7de3ba3f4ddd9abe31ecba80ad'})\n"
     ]
    }
   ],
   "source": [
    "maker_hex = \"offer1qqz83wcsltt6wcmqvpsxygqqd60lvl6hxaj55a4p6kemad9enu6k99nsn4xmnyq47wnulf4y57h05djvrk7qjdj6kxx4vm9rzhdk33fkt2cc64nvlur6sc5rznhqhn8h04883476dz7x6mny6jzdcga33n4s8n884cxcekcemz6mk3jk4v924myxaczlhtjejalrspuln44w87mvj0k2aad43aman777nk6uluxd46rtt592qfdt0rwwzkpnzjrxq8m3kdlps4xn85lynlt0p2ccrl09ukte6r87nz6vzzf4gy60nr5v7d4qj26m5ydt433c9gu6n5x6ax6tfkgyu9xnzahxw446khlw5f5wvwx54zhln0e2uy9pp3jwre8832tfr8a7uuklrmacegs2l04gln8adlghku0dm5la3v7lamufalw2l402r67z77akvm09wwd95zucwr6tgcztx08muasr7a0x90lm6hz747q669r337ep02zdjhsme5svdncgvnvh367rmuml6l9u4wrd373wme694a5xm7manhtmk6kfat7h0n9xmexmme98cpspw4huuguvhw4negfkufvzk5myp5h5luzmk83ey67a7x7km7u60j5y0hrr9sw7puf0xa37l6g4jltw282ul70ajhl4kwgr7snnqdyqzhlcuwyjluuw4u04mugewyhyus8rukwhmjeh537wjdf3x7cyfmmmfa9dlm0u477r85p2fk8xlupd2p79c5qlw0277rvecwwjam509whpa2xu2kayd2ne6wdzt5g8djwjqk5v4lhlqt3lxjuv4w0ww874t2my3vfxff57azj25dsydmlgwh47mlajmhefpts8sl5vejmtzul6jj098ae6lk3yhmmv8vddm0tw3f9wh8mmxua2smewxt7mx7jtl8exy8dmkav4dn8a8t0690vwduda4r3d3aazvrh29wfepf2ll9mdnnm7dq23ltcmvsadt7ndmzn7y8u2ce0dm9e5n0mw3rkz7wp09nylm4qrqqxuwlc6u5dmdx\"\n",
    "# request 28.372 TDBX, offer 0.04 TXCH (0x09502f9000 mojos)\n",
    "maker = Offer.from_bech32(maker_hex)\n",
    "print_offer(maker)"
   ]
  },
  {
   "cell_type": "code",
   "execution_count": 9,
   "id": "88ead44f-da8e-4b00-961b-60a61db1996e",
   "metadata": {},
   "outputs": [],
   "source": [
    "confirmed_at_height = 2047786\n",
    "request_mojos = 28372\n",
    "offer_mojos = 0x09502f9000 # 0x09502f9000\n",
    "TDBX_TAIL_MOD_HASH = bytes32.from_hexstr(\"0xd82dd03f8a9ad2f84353cd953c4de6b21dbaaf7de3ba3f4ddd9abe31ecba80ad\")\n",
    "SETTLEMENT_MOD_HASH = bytes32.from_hexstr(\"bae24162efbd568f89bc7a340798a6118df0189eb9e3f8697bcea27af99f8f79\")"
   ]
  },
  {
   "cell_type": "code",
   "execution_count": 10,
   "id": "af67e1ae-31a9-4a54-bfbd-7dc120b699fa",
   "metadata": {},
   "outputs": [
    {
     "data": {
      "text/html": [
       "<pre style=\"white-space:pre;overflow-x:auto;line-height:normal;font-family:Menlo,'DejaVu Sans Mono',consolas,'Courier New',monospace\"><span style=\"color: #800080; text-decoration-color: #800080; font-weight: bold\">CoinRecord</span><span style=\"font-weight: bold\">(</span>\n",
       "    <span style=\"color: #808000; text-decoration-color: #808000\">coin</span>=<span style=\"color: #800080; text-decoration-color: #800080\">Coin</span> <span style=\"font-weight: bold\">{</span> parent_coin_info: 8250f027b983f1710fc0467febc34203c9ae838e5a42281536306534131fe4ec, puzzle_hash: \n",
       "605751ea760db9b8bf4783681164e22bb2d513f01ff9c5831dda19ded6c8c2fb, amount: <span style=\"color: #008080; text-decoration-color: #008080; font-weight: bold\">28372</span> <span style=\"font-weight: bold\">}</span>,\n",
       "    <span style=\"color: #808000; text-decoration-color: #808000\">confirmed_block_index</span>=<span style=\"color: #008080; text-decoration-color: #008080; font-weight: bold\">2047786</span>,\n",
       "    <span style=\"color: #808000; text-decoration-color: #808000\">spent_block_index</span>=<span style=\"color: #008080; text-decoration-color: #008080; font-weight: bold\">0</span>,\n",
       "    <span style=\"color: #808000; text-decoration-color: #808000\">coinbase</span>=<span style=\"color: #ff0000; text-decoration-color: #ff0000; font-style: italic\">False</span>,\n",
       "    <span style=\"color: #808000; text-decoration-color: #808000\">timestamp</span>=<span style=\"color: #008080; text-decoration-color: #008080; font-weight: bold\">1673115275</span>\n",
       "<span style=\"font-weight: bold\">)</span>\n",
       "</pre>\n"
      ],
      "text/plain": [
       "\u001b[1;35mCoinRecord\u001b[0m\u001b[1m(\u001b[0m\n",
       "    \u001b[33mcoin\u001b[0m=\u001b[35mCoin\u001b[0m \u001b[1m{\u001b[0m parent_coin_info: 8250f027b983f1710fc0467febc34203c9ae838e5a42281536306534131fe4ec, puzzle_hash: \n",
       "605751ea760db9b8bf4783681164e22bb2d513f01ff9c5831dda19ded6c8c2fb, amount: \u001b[1;36m28372\u001b[0m \u001b[1m}\u001b[0m,\n",
       "    \u001b[33mconfirmed_block_index\u001b[0m=\u001b[1;36m2047786\u001b[0m,\n",
       "    \u001b[33mspent_block_index\u001b[0m=\u001b[1;36m0\u001b[0m,\n",
       "    \u001b[33mcoinbase\u001b[0m=\u001b[3;91mFalse\u001b[0m,\n",
       "    \u001b[33mtimestamp\u001b[0m=\u001b[1;36m1673115275\u001b[0m\n",
       "\u001b[1m)\u001b[0m\n"
      ]
     },
     "metadata": {},
     "output_type": "display_data"
    },
    {
     "data": {
      "text/html": [
       "<pre style=\"white-space:pre;overflow-x:auto;line-height:normal;font-family:Menlo,'DejaVu Sans Mono',consolas,'Courier New',monospace\">c646697fd1da30a58700546e195c8d579a79d57a24557a1c37439ff57d077a7b\n",
       "</pre>\n"
      ],
      "text/plain": [
       "c646697fd1da30a58700546e195c8d579a79d57a24557a1c37439ff57d077a7b\n"
      ]
     },
     "metadata": {},
     "output_type": "display_data"
    }
   ],
   "source": [
    "# (CREATE_COIN 0xad2d58aa3b5c535a834330d7371a901b61162f13870322daafd5b208c6812221 28372                              \n",
    "# (0xad2d58aa3b5c535a834330d7371a901b61162f13870322daafd5b208c6812221))                                              \n",
    "                                \n",
    "\n",
    "notarized_ph = bytes32.from_hexstr(\"0xad2d58aa3b5c535a834330d7371a901b61162f13870322daafd5b208c6812221\")\n",
    "\n",
    "taker_ph = get_cat_puzzlehash(TDBX_TAIL_MOD_HASH, notarized_ph)\n",
    "coin_records = await get_coin_records_by_puzzle_hash(taker_ph)\n",
    "maker_output_cr = next(cr for cr in coin_records if \n",
    " cr.confirmed_block_index == confirmed_at_height \n",
    " and cr.coin.amount == request_mojos)\n",
    "print(maker_output_cr)\n",
    "print(maker_output_cr.coin.name().hex())"
   ]
  },
  {
   "cell_type": "code",
   "execution_count": 11,
   "id": "a53ad299-3b6a-4036-b622-85bc13578c42",
   "metadata": {},
   "outputs": [
    {
     "data": {
      "text/html": [
       "<pre style=\"white-space:pre;overflow-x:auto;line-height:normal;font-family:Menlo,'DejaVu Sans Mono',consolas,'Courier New',monospace\">bc979039c8ee5e9db2f7a9e10e422e55f29dc55a2927e181411a8542a5b6bba5\n",
       "</pre>\n"
      ],
      "text/plain": [
       "bc979039c8ee5e9db2f7a9e10e422e55f29dc55a2927e181411a8542a5b6bba5\n"
      ]
     },
     "metadata": {},
     "output_type": "display_data"
    },
    {
     "data": {
      "text/html": [
       "<pre style=\"white-space:pre;overflow-x:auto;line-height:normal;font-family:Menlo,'DejaVu Sans Mono',consolas,'Courier New',monospace\"><span style=\"color: #800080; text-decoration-color: #800080; font-weight: bold\">CoinRecord</span><span style=\"font-weight: bold\">(</span>\n",
       "    <span style=\"color: #808000; text-decoration-color: #808000\">coin</span>=<span style=\"color: #800080; text-decoration-color: #800080\">Coin</span> <span style=\"font-weight: bold\">{</span> parent_coin_info: bfb94dbffbe4e7e010b449f1245f1db877686528e8527be15cc12c19422665ae, puzzle_hash: \n",
       "bae24162efbd568f89bc7a340798a6118df0189eb9e3f8697bcea27af99f8f79, amount: <span style=\"color: #008080; text-decoration-color: #008080; font-weight: bold\">40000000000</span> <span style=\"font-weight: bold\">}</span>,\n",
       "    <span style=\"color: #808000; text-decoration-color: #808000\">confirmed_block_index</span>=<span style=\"color: #008080; text-decoration-color: #008080; font-weight: bold\">2047786</span>,\n",
       "    <span style=\"color: #808000; text-decoration-color: #808000\">spent_block_index</span>=<span style=\"color: #008080; text-decoration-color: #008080; font-weight: bold\">2047786</span>,\n",
       "    <span style=\"color: #808000; text-decoration-color: #808000\">coinbase</span>=<span style=\"color: #ff0000; text-decoration-color: #ff0000; font-style: italic\">False</span>,\n",
       "    <span style=\"color: #808000; text-decoration-color: #808000\">timestamp</span>=<span style=\"color: #008080; text-decoration-color: #008080; font-weight: bold\">1673115275</span>\n",
       "<span style=\"font-weight: bold\">)</span>\n",
       "</pre>\n"
      ],
      "text/plain": [
       "\u001b[1;35mCoinRecord\u001b[0m\u001b[1m(\u001b[0m\n",
       "    \u001b[33mcoin\u001b[0m=\u001b[35mCoin\u001b[0m \u001b[1m{\u001b[0m parent_coin_info: bfb94dbffbe4e7e010b449f1245f1db877686528e8527be15cc12c19422665ae, puzzle_hash: \n",
       "bae24162efbd568f89bc7a340798a6118df0189eb9e3f8697bcea27af99f8f79, amount: \u001b[1;36m40000000000\u001b[0m \u001b[1m}\u001b[0m,\n",
       "    \u001b[33mconfirmed_block_index\u001b[0m=\u001b[1;36m2047786\u001b[0m,\n",
       "    \u001b[33mspent_block_index\u001b[0m=\u001b[1;36m2047786\u001b[0m,\n",
       "    \u001b[33mcoinbase\u001b[0m=\u001b[3;91mFalse\u001b[0m,\n",
       "    \u001b[33mtimestamp\u001b[0m=\u001b[1;36m1673115275\u001b[0m\n",
       "\u001b[1m)\u001b[0m\n"
      ]
     },
     "metadata": {},
     "output_type": "display_data"
    }
   ],
   "source": [
    "maker_input_coin_id = bytes32.from_hexstr(\"bfb94dbffbe4e7e010b449f1245f1db877686528e8527be15cc12c19422665ae\")\n",
    "maker_settlement_coin = Coin(\n",
    "    maker_input_coin_id,\n",
    "    SETTLEMENT_MOD_HASH,\n",
    "    offer_mojos\n",
    ")\n",
    "print(maker_settlement_coin.name().hex())\n",
    "maker_settlement_cr = await get_coin_record_by_name(maker_settlement_coin.name())\n",
    "print(maker_settlement_cr)"
   ]
  },
  {
   "cell_type": "code",
   "execution_count": 12,
   "id": "6bda595e-0fe0-4d4e-9c26-04dc069cd0fa",
   "metadata": {},
   "outputs": [
    {
     "data": {
      "text/html": [
       "<pre style=\"white-space:pre;overflow-x:auto;line-height:normal;font-family:Menlo,'DejaVu Sans Mono',consolas,'Courier New',monospace\"><span style=\"font-weight: bold\">[]</span>\n",
       "</pre>\n"
      ],
      "text/plain": [
       "\u001b[1m[\u001b[0m\u001b[1m]\u001b[0m\n"
      ]
     },
     "metadata": {},
     "output_type": "display_data"
    }
   ],
   "source": [
    "taker_output_cr = await get_coin_records_by_parent_id(maker_settlement_coin.name())\n",
    "print(taker_output_cr)"
   ]
  }
 ],
 "metadata": {
  "kernelspec": {
   "display_name": "Python 3 (ipykernel)",
   "language": "python",
   "name": "python3"
  },
  "language_info": {
   "codemirror_mode": {
    "name": "ipython",
    "version": 3
   },
   "file_extension": ".py",
   "mimetype": "text/x-python",
   "name": "python",
   "nbconvert_exporter": "python",
   "pygments_lexer": "ipython3",
   "version": "3.10.9"
  }
 },
 "nbformat": 4,
 "nbformat_minor": 5
}
