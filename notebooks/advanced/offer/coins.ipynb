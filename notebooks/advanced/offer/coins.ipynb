{
 "cells": [
  {
   "cell_type": "code",
   "execution_count": 1,
   "id": "402df68c-6b5c-4f1c-ae1d-d83ed7d256d7",
   "metadata": {},
   "outputs": [
    {
     "name": "stdout",
     "output_type": "stream",
     "text": [
      "Payment:\n"
     ]
    },
    {
     "data": {
      "text/html": [
       "<pre style=\"white-space:pre;overflow-x:auto;line-height:normal;font-family:Menlo,'DejaVu Sans Mono',consolas,'Courier New',monospace\"><span style=\"color: #f8f8f2; text-decoration-color: #f8f8f2; background-color: #272822\">(</span><span style=\"color: #a6e22e; text-decoration-color: #a6e22e; background-color: #272822\">CREATE_COIN</span><span style=\"color: #f8f8f2; text-decoration-color: #f8f8f2; background-color: #272822\"> </span><span style=\"color: #ae81ff; text-decoration-color: #ae81ff; background-color: #272822\">0</span><span style=\"color: #f8f8f2; text-decoration-color: #f8f8f2; background-color: #272822\">x8254a6df1e0a1730125488bef04782967ac4b2e124012d4098d8bacba7adba91 </span><span style=\"color: #ae81ff; text-decoration-color: #ae81ff; background-color: #272822\">0</span><span style=\"color: #f8f8f2; text-decoration-color: #f8f8f2; background-color: #272822\">x07ea8ed400 ())</span><span style=\"background-color: #272822\">                   </span>\n",
       "</pre>\n"
      ],
      "text/plain": [
       "\u001b[38;2;248;248;242;48;2;39;40;34m(\u001b[0m\u001b[38;2;166;226;46;48;2;39;40;34mCREATE_COIN\u001b[0m\u001b[38;2;248;248;242;48;2;39;40;34m \u001b[0m\u001b[38;2;174;129;255;48;2;39;40;34m0\u001b[0m\u001b[38;2;248;248;242;48;2;39;40;34mx8254a6df1e0a1730125488bef04782967ac4b2e124012d4098d8bacba7adba91\u001b[0m\u001b[38;2;248;248;242;48;2;39;40;34m \u001b[0m\u001b[38;2;174;129;255;48;2;39;40;34m0\u001b[0m\u001b[38;2;248;248;242;48;2;39;40;34mx07ea8ed400\u001b[0m\u001b[38;2;248;248;242;48;2;39;40;34m \u001b[0m\u001b[38;2;248;248;242;48;2;39;40;34m(\u001b[0m\u001b[38;2;248;248;242;48;2;39;40;34m)\u001b[0m\u001b[38;2;248;248;242;48;2;39;40;34m)\u001b[0m\u001b[48;2;39;40;34m                   \u001b[0m\n"
      ]
     },
     "metadata": {},
     "output_type": "display_data"
    },
    {
     "name": "stdout",
     "output_type": "stream",
     "text": [
      "CoinSpend:\n",
      "bd64c65bb076d8c7f62b29b060164da640b0c132d3b88a2eac0b8d30d0319ed2\n",
      "Coin { parent_coin_info: 2c7ec6e4e7e005e4efc6ae3f925de4369cd64385fd09ee23a22e7d07cebbc05a, puzzle_hash: 0fa3253fac0ad59f872b8c96dba2824f25c52c1da860b648593ce7672b67d487, amount: 100000 }\n"
     ]
    },
    {
     "data": {
      "text/html": [
       "<pre style=\"white-space:pre;overflow-x:auto;line-height:normal;font-family:Menlo,'DejaVu Sans Mono',consolas,'Courier New',monospace\"><span style=\"color: #f8f8f2; text-decoration-color: #f8f8f2; background-color: #272822\">(</span><span style=\"color: #a6e22e; text-decoration-color: #a6e22e; background-color: #272822\">ASSERT_MY_COIN_ID</span><span style=\"color: #f8f8f2; text-decoration-color: #f8f8f2; background-color: #272822\"> </span><span style=\"color: #ae81ff; text-decoration-color: #ae81ff; background-color: #272822\">0</span><span style=\"color: #f8f8f2; text-decoration-color: #f8f8f2; background-color: #272822\">xbd64c65bb076d8c7f62b29b060164da640b0c132d3b88a2eac0b8d30d0319ed2)</span><span style=\"background-color: #272822\">                             </span>\n",
       "</pre>\n"
      ],
      "text/plain": [
       "\u001b[38;2;248;248;242;48;2;39;40;34m(\u001b[0m\u001b[38;2;166;226;46;48;2;39;40;34mASSERT_MY_COIN_ID\u001b[0m\u001b[38;2;248;248;242;48;2;39;40;34m \u001b[0m\u001b[38;2;174;129;255;48;2;39;40;34m0\u001b[0m\u001b[38;2;248;248;242;48;2;39;40;34mxbd64c65bb076d8c7f62b29b060164da640b0c132d3b88a2eac0b8d30d0319ed2\u001b[0m\u001b[38;2;248;248;242;48;2;39;40;34m)\u001b[0m\u001b[48;2;39;40;34m                             \u001b[0m\n"
      ]
     },
     "metadata": {},
     "output_type": "display_data"
    },
    {
     "data": {
      "text/html": [
       "<pre style=\"white-space:pre;overflow-x:auto;line-height:normal;font-family:Menlo,'DejaVu Sans Mono',consolas,'Courier New',monospace\"><span style=\"color: #f8f8f2; text-decoration-color: #f8f8f2; background-color: #272822\">(</span><span style=\"color: #a6e22e; text-decoration-color: #a6e22e; background-color: #272822\">CREATE_COIN_ANNOUNCEMENT</span><span style=\"color: #f8f8f2; text-decoration-color: #f8f8f2; background-color: #272822\"> </span><span style=\"color: #ae81ff; text-decoration-color: #ae81ff; background-color: #272822\">0</span><span style=\"color: #f8f8f2; text-decoration-color: #f8f8f2; background-color: #272822\">xcbf8c76c43faa4d05026bae0c63afab406d475127d7e5e928583bdf1c9cfa6858d)</span><span style=\"background-color: #272822\">                    </span>\n",
       "</pre>\n"
      ],
      "text/plain": [
       "\u001b[38;2;248;248;242;48;2;39;40;34m(\u001b[0m\u001b[38;2;166;226;46;48;2;39;40;34mCREATE_COIN_ANNOUNCEMENT\u001b[0m\u001b[38;2;248;248;242;48;2;39;40;34m \u001b[0m\u001b[38;2;174;129;255;48;2;39;40;34m0\u001b[0m\u001b[38;2;248;248;242;48;2;39;40;34mxcbf8c76c43faa4d05026bae0c63afab406d475127d7e5e928583bdf1c9cfa6858d\u001b[0m\u001b[38;2;248;248;242;48;2;39;40;34m)\u001b[0m\u001b[48;2;39;40;34m                    \u001b[0m\n"
      ]
     },
     "metadata": {},
     "output_type": "display_data"
    },
    {
     "data": {
      "text/html": [
       "<pre style=\"white-space:pre;overflow-x:auto;line-height:normal;font-family:Menlo,'DejaVu Sans Mono',consolas,'Courier New',monospace\"><span style=\"color: #f8f8f2; text-decoration-color: #f8f8f2; background-color: #272822\">(</span><span style=\"color: #a6e22e; text-decoration-color: #a6e22e; background-color: #272822\">ASSERT_COIN_ANNOUNCEMENT</span><span style=\"color: #f8f8f2; text-decoration-color: #f8f8f2; background-color: #272822\"> </span><span style=\"color: #ae81ff; text-decoration-color: #ae81ff; background-color: #272822\">0</span><span style=\"color: #f8f8f2; text-decoration-color: #f8f8f2; background-color: #272822\">x4eac16f32d60dabb0f96def043c3c501cd897f1690f63d93b4c447e51d3700ed)</span><span style=\"background-color: #272822\">                      </span>\n",
       "</pre>\n"
      ],
      "text/plain": [
       "\u001b[38;2;248;248;242;48;2;39;40;34m(\u001b[0m\u001b[38;2;166;226;46;48;2;39;40;34mASSERT_COIN_ANNOUNCEMENT\u001b[0m\u001b[38;2;248;248;242;48;2;39;40;34m \u001b[0m\u001b[38;2;174;129;255;48;2;39;40;34m0\u001b[0m\u001b[38;2;248;248;242;48;2;39;40;34mx4eac16f32d60dabb0f96def043c3c501cd897f1690f63d93b4c447e51d3700ed\u001b[0m\u001b[38;2;248;248;242;48;2;39;40;34m)\u001b[0m\u001b[48;2;39;40;34m                      \u001b[0m\n"
      ]
     },
     "metadata": {},
     "output_type": "display_data"
    },
    {
     "data": {
      "text/html": [
       "<pre style=\"white-space:pre;overflow-x:auto;line-height:normal;font-family:Menlo,'DejaVu Sans Mono',consolas,'Courier New',monospace\"><span style=\"color: #f8f8f2; text-decoration-color: #f8f8f2; background-color: #272822\">(</span><span style=\"color: #a6e22e; text-decoration-color: #a6e22e; background-color: #272822\">AGG_SIG_ME</span><span style=\"color: #f8f8f2; text-decoration-color: #f8f8f2; background-color: #272822\"> </span><span style=\"color: #ae81ff; text-decoration-color: #ae81ff; background-color: #272822\">0</span><span style=\"color: #f8f8f2; text-decoration-color: #f8f8f2; background-color: #272822\">x84646ce8fc792864abfd45ac8fb06a747ba1b11ddbd680acf0099a6b876672b3b434434a0b308e7820fbe231b0bb69bc </span><span style=\"background-color: #272822\">    </span>\n",
       "<span style=\"color: #ae81ff; text-decoration-color: #ae81ff; background-color: #272822\">0</span><span style=\"color: #f8f8f2; text-decoration-color: #f8f8f2; background-color: #272822\">x19aeb4e7f599022b58edd7e5f90b2a9df1c7a61ecb52a979b17dfd8d95935d7b)</span><span style=\"background-color: #272822\">                                                </span>\n",
       "</pre>\n"
      ],
      "text/plain": [
       "\u001b[38;2;248;248;242;48;2;39;40;34m(\u001b[0m\u001b[38;2;166;226;46;48;2;39;40;34mAGG_SIG_ME\u001b[0m\u001b[38;2;248;248;242;48;2;39;40;34m \u001b[0m\u001b[38;2;174;129;255;48;2;39;40;34m0\u001b[0m\u001b[38;2;248;248;242;48;2;39;40;34mx84646ce8fc792864abfd45ac8fb06a747ba1b11ddbd680acf0099a6b876672b3b434434a0b308e7820fbe231b0bb69bc\u001b[0m\u001b[38;2;248;248;242;48;2;39;40;34m \u001b[0m\u001b[48;2;39;40;34m    \u001b[0m\n",
       "\u001b[38;2;174;129;255;48;2;39;40;34m0\u001b[0m\u001b[38;2;248;248;242;48;2;39;40;34mx19aeb4e7f599022b58edd7e5f90b2a9df1c7a61ecb52a979b17dfd8d95935d7b\u001b[0m\u001b[38;2;248;248;242;48;2;39;40;34m)\u001b[0m\u001b[48;2;39;40;34m                                                \u001b[0m\n"
      ]
     },
     "metadata": {},
     "output_type": "display_data"
    },
    {
     "data": {
      "text/html": [
       "<pre style=\"white-space:pre;overflow-x:auto;line-height:normal;font-family:Menlo,'DejaVu Sans Mono',consolas,'Courier New',monospace\"><span style=\"color: #f8f8f2; text-decoration-color: #f8f8f2; background-color: #272822\">(</span><span style=\"color: #a6e22e; text-decoration-color: #a6e22e; background-color: #272822\">CREATE_COIN</span><span style=\"color: #f8f8f2; text-decoration-color: #f8f8f2; background-color: #272822\"> </span><span style=\"color: #ae81ff; text-decoration-color: #ae81ff; background-color: #272822\">0</span><span style=\"color: #f8f8f2; text-decoration-color: #f8f8f2; background-color: #272822\">xdbcb4fee7e94946b713ae68e669df3285ca40acd64d06a5cfc8e3c748c7e7bdb </span><span style=\"color: #ae81ff; text-decoration-color: #ae81ff; background-color: #272822\">0</span><span style=\"color: #f8f8f2; text-decoration-color: #f8f8f2; background-color: #272822\">x009710 </span><span style=\"background-color: #272822\">                          </span>\n",
       "<span style=\"color: #f8f8f2; text-decoration-color: #f8f8f2; background-color: #272822\">(</span><span style=\"color: #ae81ff; text-decoration-color: #ae81ff; background-color: #272822\">0</span><span style=\"color: #f8f8f2; text-decoration-color: #f8f8f2; background-color: #272822\">xbae24162efbd568f89bc7a340798a6118df0189eb9e3f8697bcea27af99f8f79))</span><span style=\"background-color: #272822\">                                              </span>\n",
       "</pre>\n"
      ],
      "text/plain": [
       "\u001b[38;2;248;248;242;48;2;39;40;34m(\u001b[0m\u001b[38;2;166;226;46;48;2;39;40;34mCREATE_COIN\u001b[0m\u001b[38;2;248;248;242;48;2;39;40;34m \u001b[0m\u001b[38;2;174;129;255;48;2;39;40;34m0\u001b[0m\u001b[38;2;248;248;242;48;2;39;40;34mxdbcb4fee7e94946b713ae68e669df3285ca40acd64d06a5cfc8e3c748c7e7bdb\u001b[0m\u001b[38;2;248;248;242;48;2;39;40;34m \u001b[0m\u001b[38;2;174;129;255;48;2;39;40;34m0\u001b[0m\u001b[38;2;248;248;242;48;2;39;40;34mx009710\u001b[0m\u001b[38;2;248;248;242;48;2;39;40;34m \u001b[0m\u001b[48;2;39;40;34m                          \u001b[0m\n",
       "\u001b[38;2;248;248;242;48;2;39;40;34m(\u001b[0m\u001b[38;2;174;129;255;48;2;39;40;34m0\u001b[0m\u001b[38;2;248;248;242;48;2;39;40;34mxbae24162efbd568f89bc7a340798a6118df0189eb9e3f8697bcea27af99f8f79\u001b[0m\u001b[38;2;248;248;242;48;2;39;40;34m)\u001b[0m\u001b[38;2;248;248;242;48;2;39;40;34m)\u001b[0m\u001b[48;2;39;40;34m                                              \u001b[0m\n"
      ]
     },
     "metadata": {},
     "output_type": "display_data"
    },
    {
     "data": {
      "text/html": [
       "<pre style=\"white-space:pre;overflow-x:auto;line-height:normal;font-family:Menlo,'DejaVu Sans Mono',consolas,'Courier New',monospace\"><span style=\"color: #f8f8f2; text-decoration-color: #f8f8f2; background-color: #272822\">(</span><span style=\"color: #a6e22e; text-decoration-color: #a6e22e; background-color: #272822\">CREATE_COIN</span><span style=\"color: #f8f8f2; text-decoration-color: #f8f8f2; background-color: #272822\"> </span><span style=\"color: #ae81ff; text-decoration-color: #ae81ff; background-color: #272822\">0</span><span style=\"color: #f8f8f2; text-decoration-color: #f8f8f2; background-color: #272822\">x30042a3d7c95e16d82192a163c56a184ea1ae4743894f4ee3cf14a512ae3eed7 </span><span style=\"color: #ae81ff; text-decoration-color: #ae81ff; background-color: #272822\">0</span><span style=\"color: #f8f8f2; text-decoration-color: #f8f8f2; background-color: #272822\">x00ef90)</span><span style=\"background-color: #272822\">                          </span>\n",
       "</pre>\n"
      ],
      "text/plain": [
       "\u001b[38;2;248;248;242;48;2;39;40;34m(\u001b[0m\u001b[38;2;166;226;46;48;2;39;40;34mCREATE_COIN\u001b[0m\u001b[38;2;248;248;242;48;2;39;40;34m \u001b[0m\u001b[38;2;174;129;255;48;2;39;40;34m0\u001b[0m\u001b[38;2;248;248;242;48;2;39;40;34mx30042a3d7c95e16d82192a163c56a184ea1ae4743894f4ee3cf14a512ae3eed7\u001b[0m\u001b[38;2;248;248;242;48;2;39;40;34m \u001b[0m\u001b[38;2;174;129;255;48;2;39;40;34m0\u001b[0m\u001b[38;2;248;248;242;48;2;39;40;34mx00ef90\u001b[0m\u001b[38;2;248;248;242;48;2;39;40;34m)\u001b[0m\u001b[48;2;39;40;34m                          \u001b[0m\n"
      ]
     },
     "metadata": {},
     "output_type": "display_data"
    },
    {
     "data": {
      "text/html": [
       "<pre style=\"white-space:pre;overflow-x:auto;line-height:normal;font-family:Menlo,'DejaVu Sans Mono',consolas,'Courier New',monospace\"><span style=\"color: #f8f8f2; text-decoration-color: #f8f8f2; background-color: #272822\">(</span><span style=\"color: #a6e22e; text-decoration-color: #a6e22e; background-color: #272822\">CREATE_COIN_ANNOUNCEMENT</span><span style=\"color: #f8f8f2; text-decoration-color: #f8f8f2; background-color: #272822\"> </span><span style=\"color: #ae81ff; text-decoration-color: #ae81ff; background-color: #272822\">0</span><span style=\"color: #f8f8f2; text-decoration-color: #f8f8f2; background-color: #272822\">x8827a5cd4430f00394e204659ca640a1805151ecb66097c67a18a337c04135d4)</span><span style=\"background-color: #272822\">                      </span>\n",
       "</pre>\n"
      ],
      "text/plain": [
       "\u001b[38;2;248;248;242;48;2;39;40;34m(\u001b[0m\u001b[38;2;166;226;46;48;2;39;40;34mCREATE_COIN_ANNOUNCEMENT\u001b[0m\u001b[38;2;248;248;242;48;2;39;40;34m \u001b[0m\u001b[38;2;174;129;255;48;2;39;40;34m0\u001b[0m\u001b[38;2;248;248;242;48;2;39;40;34mx8827a5cd4430f00394e204659ca640a1805151ecb66097c67a18a337c04135d4\u001b[0m\u001b[38;2;248;248;242;48;2;39;40;34m)\u001b[0m\u001b[48;2;39;40;34m                      \u001b[0m\n"
      ]
     },
     "metadata": {},
     "output_type": "display_data"
    },
    {
     "data": {
      "text/html": [
       "<pre style=\"white-space:pre;overflow-x:auto;line-height:normal;font-family:Menlo,'DejaVu Sans Mono',consolas,'Courier New',monospace\"><span style=\"color: #f8f8f2; text-decoration-color: #f8f8f2; background-color: #272822\">(</span><span style=\"color: #a6e22e; text-decoration-color: #a6e22e; background-color: #272822\">ASSERT_PUZZLE_ANNOUNCEMENT</span><span style=\"color: #f8f8f2; text-decoration-color: #f8f8f2; background-color: #272822\"> </span><span style=\"color: #ae81ff; text-decoration-color: #ae81ff; background-color: #272822\">0</span><span style=\"color: #f8f8f2; text-decoration-color: #f8f8f2; background-color: #272822\">xd1cbbc7ad2bb6604dbbf40db808bdc4261284a6853f5079a7c4857029f3be5ec)</span><span style=\"background-color: #272822\">                    </span>\n",
       "</pre>\n"
      ],
      "text/plain": [
       "\u001b[38;2;248;248;242;48;2;39;40;34m(\u001b[0m\u001b[38;2;166;226;46;48;2;39;40;34mASSERT_PUZZLE_ANNOUNCEMENT\u001b[0m\u001b[38;2;248;248;242;48;2;39;40;34m \u001b[0m\u001b[38;2;174;129;255;48;2;39;40;34m0\u001b[0m\u001b[38;2;248;248;242;48;2;39;40;34mxd1cbbc7ad2bb6604dbbf40db808bdc4261284a6853f5079a7c4857029f3be5ec\u001b[0m\u001b[38;2;248;248;242;48;2;39;40;34m)\u001b[0m\u001b[48;2;39;40;34m                    \u001b[0m\n"
      ]
     },
     "metadata": {},
     "output_type": "display_data"
    },
    {
     "name": "stdout",
     "output_type": "stream",
     "text": [
      "Driver Dict:\n",
      "PuzzleInfo(info={'type': 'CAT', 'tail': '0xd82dd03f8a9ad2f84353cd953c4de6b21dbaaf7de3ba3f4ddd9abe31ecba80ad'})\n"
     ]
    }
   ],
   "source": [
    "offer_hex = \"offer1qqz83wcsltt6wcmqvpsxygqqwc7hynr6hum6e0mnf72sn7uvvkpt68eyumkhelprk0adeg42nlelk2mpafs8tkhg2qa9qmyp2n2dhse094du9nyhvjjp69pv4yghvknn97tw2cyhd55dxvdfv5nv5sp9f5suhmktwxy3kzy9wnk0hcx7xjk74j9xsu4gewswxdhwcw4a0nk6az0lt0v4la2avyq9hg6nwlkvnuc8438au86mvuljna5fmxwxhn4d0uua72f0624k20ahldqpflmz2han2hzhu7mkha6vhw763j2l7k5gamy2s3k3ayfkelfmt5a0kjpk8z93d5qme8fumtapsmta3jmru3jmr736mr736mrl7qt204qq4ac9umanufauddknfh3kxuex5shwj9vvdagpueeawpkxa5xwekjayw442p24wepl0qna67kyk0uus085ad030kmyjakhltdv0wlv0hhuakn8lpn90s66dp2czhxpphn52erqsvmmff8yhnu982v3kta2l6u6lcx4jfw4pvmu4h4766cwvql84nk0dd9ze4d5e89ahqxl52s50cln9h9s8des7mqqzfjyqqayt8m87qdpzm007e5xayp07zdtqvvs5dxwjxujdtx3uejlamv9c5089m66x6k4ryu7h4c6nhehe48t88avqc8hhqxxhk0sq4r27dl5rpl662ejupslnznnccjfnkeucctpgdswpxmdp8fc742f9smrlcrg0gz63jh7l7pghflh23wa48wxwfamlsldsmhrkn5frf0pns2lm9na27yyx0xmwlh6q6f09le0npeztc0y7d5ajyarlm9lmk9uyndw8jv76qhsk9pxg57mchn0xmke7ll7luz6mqw97gam8rpvlqhjvw2u768n3damuwtdt9mvhw3wj0nu3v3lkxcvlcms8k6gphl30mzd8yttmg0vcmcklk56rvfvglyh89krs6r509re0hs6ae0gxzux7vhqztfr6s30h0uq2zdsc6sex9rdtdzvd7wvfnfshwsc4lavdrhmjf5kc63stpeye03yhj6230l4j2m4gxxs9pwrs6f30yhh2kuynl0c2ut8ze9j6jaajfntn93vyhkfakfxe4we7au624t4l05lg77efuuqf0437vklplz5e6cuxg2m93x4g05wl486hzljh3pu7lmu226m790l4h9tv68ll24qhgw2qalzu0027rsmts00yjhx6kttrvq0jxgv6g9gm9s5\"\n",
    "print_offer(Offer.from_bech32(offer_hex))"
   ]
  },
  {
   "cell_type": "code",
   "execution_count": null,
   "id": "e5faabf9-7b12-48f9-9797-3e0159e8be14",
   "metadata": {},
   "outputs": [],
   "source": []
  }
 ],
 "metadata": {
  "kernelspec": {
   "display_name": "Python 3 (ipykernel)",
   "language": "python",
   "name": "python3"
  },
  "language_info": {
   "codemirror_mode": {
    "name": "ipython",
    "version": 3
   },
   "file_extension": ".py",
   "mimetype": "text/x-python",
   "name": "python",
   "nbconvert_exporter": "python",
   "pygments_lexer": "ipython3",
   "version": "3.10.9"
  }
 },
 "nbformat": 4,
 "nbformat_minor": 5
}
