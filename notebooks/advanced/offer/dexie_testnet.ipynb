{
 "cells": [
  {
   "cell_type": "markdown",
   "id": "a0115f89-5b24-4156-8018-ab16f6967b79",
   "metadata": {},
   "source": [
    "https://testnet.dexie.space/offers/4jMjJtkVPasCsu7ASwRPJmtcjz9TzrqojMrYCviM9Paj\n",
    "https://testnet.dexie.space/offers/8dsAAEhn3iYUCHH7e3TXyWhx565d92q6fqfrS3KtoR4a"
   ]
  },
  {
   "cell_type": "markdown",
   "id": "33ce18c1-b828-4efe-a526-0d04fca6ed84",
   "metadata": {},
   "source": [
    "# Maker\n",
    "Summary:\n",
    "  OFFERED:\n",
    "    - XCH (Wallet ID: 1): 0.0004207 (420700000 mojos)\n",
    "  REQUESTED:\n",
    "    - TDBX (Wallet ID: 2): 1.0 (1000 mojos)\n",
    "\n",
    "Included Fees: 0.0005\n",
    "\n",
    "https://testnet.dexie.space/offers/9C7D159YfRyYhgj7V4k4zDwzNH4uMj9DQkusYtMumH1i\n",
    "```\n",
    "offer1qqz83wcsltt6wcmqvpsxygqqd60lvl6hxaj55a4p6kemad9enu6k99nsn4xmnyq47wnulf4y57h05djvrk7qjdj6kxx4vm9rzhdk33fkt2cc64nvlur6sc5rznhqhn8h04883476dz7x6mny6jzdcga33n4s8n884cxcekcemz6mk3jk4v924myxaczlhtjejalrspuln44w87mvj0k2aad43aman777nk6uluxd46rtt592qfdt0rwwzkpnzjrxcx8y02ek9utd8h9s0n8vz90wteyj9t72538n4xqat4lgmu2an6jwt8cv5zfdcduf3avf3mlw8y70tlxw3hd7vmdhzmursfav0zadvxu9etp4k7rldmaal38usgyx2gqtwl6vsar77vutwmkxq50jtlmrt0ppkrphh7hmrz9wt2m0dzlhx7hxtrcgn8qupsxj897aygk55m98qhnfqcm83suvla6uz47ktq9zmla0zzay5lwauk0e0e4a90uf4dh0geyhplrr3vjnvnhhy7tyj8wutdc5xu0rjlnhww2zcpdpkgrfltlcyhv0rjfaamcda0hac5m9cglx8xtqaurcj7fmrllu3tp7k75w4elulm907tvjctcsjs89yml4kex05cerfqr4zxx02d5ke6zg6achqp2ahl6lxr67alaxt9u4myv68nt77nzvn47npllld6vawghu9dw9y4tx382t37qz2hvlchlq7rjpgd6rw3ek8p0mx82mmmw9rltdgmvfnt98xwp5fr928kx75zq3789k3wdjemrlxp8w86tq4ckr88delzdt9xy0u7nzsdwdjvnhwtjg2ms96feq9wm0cx880nhs33tasu7lwnhmcfht0k4ltrlthdksjetndnaurhpg5zjy5uaw69t9wh4ar7xjyhvjvcx6vnujmfagl9t3te65k937k3d0qvq0pcvykcl3r9yt\n",
    "```"
   ]
  },
  {
   "cell_type": "markdown",
   "id": "d1f8658c-700c-49cb-888d-8a3e455da38e",
   "metadata": {
    "tags": []
   },
   "source": [
    "```sh\n",
    "❯ chia rpc wallet create_offer_for_ids '{ \"offer\": {\"1\": 420700000, \"2\": -1000 }, \"fee\": 50000000}'\n",
    "{\n",
    "    \"offer\": \"offer1qqzh3wcuu2rykcmqvpsxvgqqwc7hynr6hum6e0mnf72sn7uvvkpt68eyumkhelprk0adeg42nlelk2mpagr90qq0a37v8lc9ewpj00lwdn3dandt69dxy5x8n24l4m6yem9uwdewxjyrgm57h2ewvv2s39hy3n8eeyxrr33mnpuw5f6yhpknlc4t7ep033050xy6zu6l44al0ukflutync0cqjczm0u2wumvndpxej97uvk7tlf4902846c7w8h03g9fz9gjfut3jan4nmw4l0a0alj6xtwlmwdh7mh7ln4eag6zuza5fd0mw5c3kafh4ennvte0s0zfquq89j8yvkmg5vkmf5gkmf5qkmd5skrfa8jxtd50g6apsy9lwp0xlvlz00rtd56dud3hxf4y9m53trr02q0xw0tsd3hdpnkd5hfr4d2s24tkg0mcylwh439nl8yrea8ttutakeyhd4l6mtrmhmraal8d5elcvetuxkng2kq4esgdu7zhvcyrxl6xvp4wztdv6tqny2kl33zyazawx8g4klfscw62kv85gdeahh8t5fthawdl40d2xgquw887ff5qf80ckqpnvjqtx2sqr532lwlcq5qraal38uutl7zftqwvqjdfvyzl4h2wztx6k63w3p0mha5frnpm7ctk4y57hhcx8nmqla796dz4aal38lcz5p9fhlctanxn27rxtck7eavfd0hfu7459n687vxt2f0dr5ezdwmfhpdkz5md7pd2ktlmlcx0hxtt9wgmj348jal7u39ryvhde4ck4epuckcmywd4wwrvanz8kv9jp607l7pr8464g4k3ymd8n3vh0924ekpw07w4et4k554leekhced6vdm0lfraflljl6rw8gfxyfanuhz8c908nslclxtkrkl72mdfzp00pdesy325zcw2j24llxuy8vd0uteglvd08cn9cw89p229cu2gl9m5n3ms5lw3hnkmwc84zxgeuee75h648qrkz94gal2lgz5yzp433vvfxtk8sc7lnl7gynq24dlamztp9dcap7xkav8dm6c0gezynt8t27dmfj85ynqzq4p0hn459cnpzz00652hk96fn3w83s9guaff8nllhynrvrths2p4v73cq3cac4wmh2crcf7symntpxxs7x9ezl283azxs6hv8cm70pp7ca7e6hcvpsk96luduvvyvkq7mgvtth7m7vwcwmhvh0td2zvlu0zgyfmcl8vuh3laum4smdruh3hy08azwp98lqvq6tlw6zuyxm2yc7nnz2kpt8nepse9whaljdc66jj36k4ckjl5myqaa2uwrn0q7efx8nguulpx8h67f2hld5k9m0evwfqmdx0udasl4adpqxf0syckpzhn0ktzcwmngsdmhaxkr7hppuwtxuhetelalcakvdk72r0prag5q4dklut6exy44eevrv69lnennlvaj4ed4kfund04uk4zhxhx69nnmrtax2sxjq2kv67auhhc08470dmr25c4kwcwd4cl5u42ge5ehauka4ehy9akl6v7hrpnzmgerv2e37pxlevu2lmcm8ty2fc9lpn5uklug8s00vsz6vmc2retylx446lu5yujyd96ctsynfha5trd65m62vp5l2cl0zlnrev2dnl8nlldqr8tzg8hpl07n2\",\n",
    "    \"success\": true,\n",
    "    \"trade_record\": {\n",
    "        \"accepted_at_time\": null,\n",
    "        \"coins_of_interest\": [\n",
    "            {\n",
    "                \"amount\": 5000,\n",
    "                \"parent_coin_info\": \"0xfa73b9821c85609e5b8a33bf7c847bbc1e818cde0da87814a818e5a2318a89cd\",\n",
    "                \"puzzle_hash\": \"0xbf7fbe8ee9e2b4f78783f9b3f3fade412051ee6126df7e5cb12db1af03377776\"\n",
    "            },\n",
    "            {\n",
    "                \"amount\": 4995000000000,\n",
    "                \"parent_coin_info\": \"0x87b9668a0214184bab78bda218c9a1c0328cd2824cff9d343c80dc5352a94840\",\n",
    "                \"puzzle_hash\": \"0x5208dd26b5a1776c513c5cc31612c7d1598ec5c4582928bbce9cc82f08df2cfa\"\n",
    "            }\n",
    "        ],\n",
    "        \"confirmed_at_index\": 0,\n",
    "        \"created_at_time\": 1673996711,\n",
    "        \"is_my_offer\": true,\n",
    "        \"pending\": {\n",
    "            \"d82dd03f8a9ad2f84353cd953c4de6b21dbaaf7de3ba3f4ddd9abe31ecba80ad\": 5000,\n",
    "            \"unknown\": 4995000000000\n",
    "        },\n",
    "        \"sent\": 0,\n",
    "        \"sent_to\": [],\n",
    "        \"status\": \"PENDING_ACCEPT\",\n",
    "        \"summary\": {\n",
    "            \"fees\": 50000000,\n",
    "            \"infos\": {\n",
    "                \"d82dd03f8a9ad2f84353cd953c4de6b21dbaaf7de3ba3f4ddd9abe31ecba80ad\": {\n",
    "                    \"tail\": \"0xd82dd03f8a9ad2f84353cd953c4de6b21dbaaf7de3ba3f4ddd9abe31ecba80ad\",\n",
    "                    \"type\": \"CAT\"\n",
    "                }\n",
    "            },\n",
    "            \"offered\": {\n",
    "                \"d82dd03f8a9ad2f84353cd953c4de6b21dbaaf7de3ba3f4ddd9abe31ecba80ad\": 1000\n",
    "            },\n",
    "            \"requested\": {\n",
    "                \"xch\": 420700000\n",
    "            }\n",
    "        },\n",
    "        \"taken_offer\": null,\n",
    "        \"trade_id\": \"0x0c86a3d8282bcd7b38cf61a9677db4533198aa29c369b1e9af15a7b49e374bbc\"\n",
    "    }\n",
    "}\n",
    "```"
   ]
  },
  {
   "cell_type": "markdown",
   "id": "e948eda7-8167-4c91-92ae-6f44bb3faa3f",
   "metadata": {},
   "source": [
    "# Taker\n",
    "Summary:\n",
    "  OFFERED:\n",
    "    - TDBX (Wallet ID: 2): 1.0 (1000 mojos)\n",
    "  REQUESTED:\n",
    "    - XCH (Wallet ID: 1): 0.0004207 (420700000 mojos)\n",
    "\n",
    "Included Fees: 0.00005\n",
    "\n",
    "```\n",
    "offer1qqzh3wcuu2rykcmqvpsxvgqqwc7hynr6hum6e0mnf72sn7uvvkpt68eyumkhelprk0adeg42nlelk2mpagr90qq0a37v8lc9ewpj00lwdn3dandt69dxy5x8n24l4m6yem9uwdewxjyrgm57h2ewvv2s39hy3n8eeyxrr33mnpuw5f6yhpknlc4t7ep033050xy6zu6l44al0ukflutync0cqjczm0u2wumvndpxej97uvk7tlf4902846c7w8h03g9fz9gjfut3jan4nmw4l0a0alj6xtwlmwdh7mh7ln4eag6zuza5fd0mw5c3kafh4ennvte0s0zfquq89j8yvkmg5vkmf5gkmf5qkmd5skrfa8jxtd50g6apsy9lwp0xlvlz00rtd56dud3hxf4y9m53trr02q0xw0tsd3hdpnkd5hfr4d2s24tkg0mcylwh439nl8yrea8ttutakeyhd4l6mtrmhmraal8d5elcvetuxkng2kq4esgdu7zhvcyrxl6xvp4wztdv6tqny2kl33zyazawx8g4klfscw62kv85gdeahh8t5fthawdl40d2xgquw887ff5qf80ckqpnvjqtx2sqr532lwlcq5qraal38uutl7zftqwvqjdfvyzl4h2wztx6k63w3p0mha5frnpm7ctk4y57hhcx8nmqla796dz4aal38lcz5p9fhlctanxn27rxtck7eavfd0hfu7459n687vxt2f0dr5ezdwmfhpdkz5md7pd2ktlmlcx0hxtt9wgmj348jal7u39ryvhde4ck4epuckcmywd4wwrvanz8kv9jp607l7pr8464g4k3ymd8n3vh0924ekpw07w4et4k554leekhced6vdm0lfraflljl6rw8gfxyfanuhz8c908nslclxtkrkl72mdfzp00pdesy325zcw2j24llxuy8vd0uteglvd08cn9cw89p229cu2gl9m5n3ms5lw3hnkmwc84zxgeuee75h648qrkz94gal2lgz5yzp433vvfxtk8sc7lnl7gynq24dlamztp9dcap7xkav8dm6c0gezynt8t27dmfj85ynqzq4p0hn459cnpzz00652hk96fn3w83s9guaff8nllhynrvrths2p4v73cq3cac4wmh2crcf7symntpxxs7x9ezl283azxs6hv8cm70pp7ca7e6hcvpsk96luduvvyvkq7mgvtth7m7vwcwmhvh0td2zvlu0zgyfmcl8vuh3laum4smdruh3hy08azwp98lqvq6tlw6zuyxm2yc7nnz2kpt8nepse9whaljdc66jj36k4ckjl5myqaa2uwrn0q7efx8nguulpx8h67f2hld5k9m0evwfqmdx0udasl4adpqxf0syckpzhn0ktzcwmngsdmhaxkr7hppuwtxuhetelalcakvdk72r0prag5q4dklut6exy44eevrv69lnennlvaj4ed4kfund04uk4zhxhx69nnmrtax2sxjq2kv67auhhc08470dmr25c4kwcwd4cl5u42ge5ehauka4ehy9akl6v7hrpnzmgerv2e37pxlevu2lmcm8ty2fc9lpn5uklug8s00vsz6vmc2retylx446lu5yujyd96ctsynfha5trd65m62vp5l2cl0zlnrev2dnl8nlldqr8tzg8hpl07n2\n",
    "```"
   ]
  },
  {
   "cell_type": "code",
   "execution_count": 1,
   "id": "6b1ddae6-7893-461f-88f1-0ff18322dc14",
   "metadata": {},
   "outputs": [],
   "source": [
    "maker_hex = \"offer1qqz83wcsltt6wcmqvpsxygqqd60lvl6hxaj55a4p6kemad9enu6k99nsn4xmnyq47wnulf4y57h05djvrk7qjdj6kxx4vm9rzhdk33fkt2cc64nvlur6sc5rznhqhn8h04883476dz7x6mny6jzdcga33n4s8n884cxcekcemz6mk3jk4v924myxaczlhtjejalrspuln44w87mvj0k2aad43aman777nk6uluxd46rtt592qfdt0rwwzkpnzjrxcx8y02ek9utd8h9s0n8vz90wteyj9t72538n4xqat4lgmu2an6jwt8cv5zfdcduf3avf3mlw8y70tlxw3hd7vmdhzmursfav0zadvxu9etp4k7rldmaal38usgyx2gqtwl6vsar77vutwmkxq50jtlmrt0ppkrphh7hmrz9wt2m0dzlhx7hxtrcgn8qupsxj897aygk55m98qhnfqcm83suvla6uz47ktq9zmla0zzay5lwauk0e0e4a90uf4dh0geyhplrr3vjnvnhhy7tyj8wutdc5xu0rjlnhww2zcpdpkgrfltlcyhv0rjfaamcda0hac5m9cglx8xtqaurcj7fmrllu3tp7k75w4elulm907tvjctcsjs89yml4kex05cerfqr4zxx02d5ke6zg6achqp2ahl6lxr67alaxt9u4myv68nt77nzvn47npllld6vawghu9dw9y4tx382t37qz2hvlchlq7rjpgd6rw3ek8p0mx82mmmw9rltdgmvfnt98xwp5fr928kx75zq3789k3wdjemrlxp8w86tq4ckr88delzdt9xy0u7nzsdwdjvnhwtjg2ms96feq9wm0cx880nhs33tasu7lwnhmcfht0k4ltrlthdksjetndnaurhpg5zjy5uaw69t9wh4ar7xjyhvjvcx6vnujmfagl9t3te65k937k3d0qvq0pcvykcl3r9yt\"\n",
    "taker_hex = \"offer1qqzh3wcuu2rykcmqvpsxvgqqwc7hynr6hum6e0mnf72sn7uvvkpt68eyumkhelprk0adeg42nlelk2mpagr90qq0a37v8lc9ewpj00lwdn3dandt69dxy5x8n24l4m6yem9uwdewxjyrgm57h2ewvv2s39hy3n8eeyxrr33mnpuw5f6yhpknlc4t7ep033050xy6zu6l44al0ukflutync0cqjczm0u2wumvndpxej97uvk7tlf4902846c7w8h03g9fz9gjfut3jan4nmw4l0a0alj6xtwlmwdh7mh7ln4eag6zuza5fd0mw5c3kafh4ennvte0s0zfquq89j8yvkmg5vkmf5gkmf5qkmd5skrfa8jxtd50g6apsy9lwp0xlvlz00rtd56dud3hxf4y9m53trr02q0xw0tsd3hdpnkd5hfr4d2s24tkg0mcylwh439nl8yrea8ttutakeyhd4l6mtrmhmraal8d5elcvetuxkng2kq4esgdu7zhvcyrxl6xvp4wztdv6tqny2kl33zyazawx8g4klfscw62kv85gdeahh8t5fthawdl40d2xgquw887ff5qf80ckqpnvjqtx2sqr532lwlcq5qraal38uutl7zftqwvqjdfvyzl4h2wztx6k63w3p0mha5frnpm7ctk4y57hhcx8nmqla796dz4aal38lcz5p9fhlctanxn27rxtck7eavfd0hfu7459n687vxt2f0dr5ezdwmfhpdkz5md7pd2ktlmlcx0hxtt9wgmj348jal7u39ryvhde4ck4epuckcmywd4wwrvanz8kv9jp607l7pr8464g4k3ymd8n3vh0924ekpw07w4et4k554leekhced6vdm0lfraflljl6rw8gfxyfanuhz8c908nslclxtkrkl72mdfzp00pdesy325zcw2j24llxuy8vd0uteglvd08cn9cw89p229cu2gl9m5n3ms5lw3hnkmwc84zxgeuee75h648qrkz94gal2lgz5yzp433vvfxtk8sc7lnl7gynq24dlamztp9dcap7xkav8dm6c0gezynt8t27dmfj85ynqzq4p0hn459cnpzz00652hk96fn3w83s9guaff8nllhynrvrths2p4v73cq3cac4wmh2crcf7symntpxxs7x9ezl283azxs6hv8cm70pp7ca7e6hcvpsk96luduvvyvkq7mgvtth7m7vwcwmhvh0td2zvlu0zgyfmcl8vuh3laum4smdruh3hy08azwp98lqvq6tlw6zuyxm2yc7nnz2kpt8nepse9whaljdc66jj36k4ckjl5myqaa2uwrn0q7efx8nguulpx8h67f2hld5k9m0evwfqmdx0udasl4adpqxf0syckpzhn0ktzcwmngsdmhaxkr7hppuwtxuhetelalcakvdk72r0prag5q4dklut6exy44eevrv69lnennlvaj4ed4kfund04uk4zhxhx69nnmrtax2sxjq2kv67auhhc08470dmr25c4kwcwd4cl5u42ge5ehauka4ehy9akl6v7hrpnzmgerv2e37pxlevu2lmcm8ty2fc9lpn5uklug8s00vsz6vmc2retylx446lu5yujyd96ctsynfha5trd65m62vp5l2cl0zlnrev2dnl8nlldqr8tzg8hpl07n2\""
   ]
  },
  {
   "cell_type": "code",
   "execution_count": 5,
   "id": "bebaa45d-d445-46e0-8a07-abcfc71b8a2e",
   "metadata": {},
   "outputs": [
    {
     "name": "stdout",
     "output_type": "stream",
     "text": [
      "Notarized Payment:\n"
     ]
    },
    {
     "data": {
      "text/html": [
       "<pre style=\"white-space:pre;overflow-x:auto;line-height:normal;font-family:Menlo,'DejaVu Sans Mono',consolas,'Courier New',monospace\"><span style=\"color: #f8f8f2; text-decoration-color: #f8f8f2; background-color: #272822\">(</span><span style=\"color: #a6e22e; text-decoration-color: #a6e22e; background-color: #272822\">CREATE_COIN</span><span style=\"color: #f8f8f2; text-decoration-color: #f8f8f2; background-color: #272822\"> </span><span style=\"color: #ae81ff; text-decoration-color: #ae81ff; background-color: #272822\">0</span><span style=\"color: #f8f8f2; text-decoration-color: #f8f8f2; background-color: #272822\">x6dec61e20403ddbcc395cfb9b1b69eb73b10f19c5673972aec2079c3b40df9b6 </span><span style=\"color: #ae81ff; text-decoration-color: #ae81ff; background-color: #272822\">1000</span><span style=\"color: #f8f8f2; text-decoration-color: #f8f8f2; background-color: #272822\"> </span><span style=\"background-color: #272822\">                              </span>\n",
       "<span style=\"color: #f8f8f2; text-decoration-color: #f8f8f2; background-color: #272822\">(</span><span style=\"color: #ae81ff; text-decoration-color: #ae81ff; background-color: #272822\">0</span><span style=\"color: #f8f8f2; text-decoration-color: #f8f8f2; background-color: #272822\">x6dec61e20403ddbcc395cfb9b1b69eb73b10f19c5673972aec2079c3b40df9b6))</span><span style=\"background-color: #272822\">                                              </span>\n",
       "</pre>\n"
      ],
      "text/plain": [
       "\u001b[38;2;248;248;242;48;2;39;40;34m(\u001b[0m\u001b[38;2;166;226;46;48;2;39;40;34mCREATE_COIN\u001b[0m\u001b[38;2;248;248;242;48;2;39;40;34m \u001b[0m\u001b[38;2;174;129;255;48;2;39;40;34m0\u001b[0m\u001b[38;2;248;248;242;48;2;39;40;34mx6dec61e20403ddbcc395cfb9b1b69eb73b10f19c5673972aec2079c3b40df9b6\u001b[0m\u001b[38;2;248;248;242;48;2;39;40;34m \u001b[0m\u001b[38;2;174;129;255;48;2;39;40;34m1000\u001b[0m\u001b[38;2;248;248;242;48;2;39;40;34m \u001b[0m\u001b[48;2;39;40;34m                              \u001b[0m\n",
       "\u001b[38;2;248;248;242;48;2;39;40;34m(\u001b[0m\u001b[38;2;174;129;255;48;2;39;40;34m0\u001b[0m\u001b[38;2;248;248;242;48;2;39;40;34mx6dec61e20403ddbcc395cfb9b1b69eb73b10f19c5673972aec2079c3b40df9b6\u001b[0m\u001b[38;2;248;248;242;48;2;39;40;34m)\u001b[0m\u001b[38;2;248;248;242;48;2;39;40;34m)\u001b[0m\u001b[48;2;39;40;34m                                              \u001b[0m\n"
      ]
     },
     "metadata": {},
     "output_type": "display_data"
    },
    {
     "name": "stdout",
     "output_type": "stream",
     "text": [
      "CoinSpend:\n",
      "Coin:\n",
      "f8d7fefd1261cf4d44509e4a6c0d13a0a1abb2402be7d26806b279308f03c427\n",
      "Coin { parent_coin_info: b88c1c89f648ceae98d04c224fc6b4578031b3ef7c385b7aa6adf44bf60aa6e2, puzzle_hash: 6dec61e20403ddbcc395cfb9b1b69eb73b10f19c5673972aec2079c3b40df9b6, amount: 4989000000000 }\n",
      "\n",
      "Conditions\n"
     ]
    },
    {
     "data": {
      "text/html": [
       "<pre style=\"white-space:pre;overflow-x:auto;line-height:normal;font-family:Menlo,'DejaVu Sans Mono',consolas,'Courier New',monospace\"><span style=\"color: #f8f8f2; text-decoration-color: #f8f8f2; background-color: #272822\">(</span><span style=\"color: #a6e22e; text-decoration-color: #a6e22e; background-color: #272822\">AGG_SIG_ME</span><span style=\"color: #f8f8f2; text-decoration-color: #f8f8f2; background-color: #272822\"> </span><span style=\"color: #ae81ff; text-decoration-color: #ae81ff; background-color: #272822\">0</span><span style=\"color: #f8f8f2; text-decoration-color: #f8f8f2; background-color: #272822\">x98ff7e53d4ac3912a7ff2055aa27aed3f9d29eee70f566bed874535fe338a43c42df91761ac1bd78d821b1f4e7dd0854 </span><span style=\"background-color: #272822\">    </span>\n",
       "<span style=\"color: #ae81ff; text-decoration-color: #ae81ff; background-color: #272822\">0</span><span style=\"color: #f8f8f2; text-decoration-color: #f8f8f2; background-color: #272822\">x988ea9574f63550891ecf2bba960a7359d1011ed8faa2d68b98979302a87c797)</span><span style=\"background-color: #272822\">                                                </span>\n",
       "</pre>\n"
      ],
      "text/plain": [
       "\u001b[38;2;248;248;242;48;2;39;40;34m(\u001b[0m\u001b[38;2;166;226;46;48;2;39;40;34mAGG_SIG_ME\u001b[0m\u001b[38;2;248;248;242;48;2;39;40;34m \u001b[0m\u001b[38;2;174;129;255;48;2;39;40;34m0\u001b[0m\u001b[38;2;248;248;242;48;2;39;40;34mx98ff7e53d4ac3912a7ff2055aa27aed3f9d29eee70f566bed874535fe338a43c42df91761ac1bd78d821b1f4e7dd0854\u001b[0m\u001b[38;2;248;248;242;48;2;39;40;34m \u001b[0m\u001b[48;2;39;40;34m    \u001b[0m\n",
       "\u001b[38;2;174;129;255;48;2;39;40;34m0\u001b[0m\u001b[38;2;248;248;242;48;2;39;40;34mx988ea9574f63550891ecf2bba960a7359d1011ed8faa2d68b98979302a87c797\u001b[0m\u001b[38;2;248;248;242;48;2;39;40;34m)\u001b[0m\u001b[48;2;39;40;34m                                                \u001b[0m\n"
      ]
     },
     "metadata": {},
     "output_type": "display_data"
    },
    {
     "data": {
      "text/html": [
       "<pre style=\"white-space:pre;overflow-x:auto;line-height:normal;font-family:Menlo,'DejaVu Sans Mono',consolas,'Courier New',monospace\"><span style=\"color: #f8f8f2; text-decoration-color: #f8f8f2; background-color: #272822\">(</span><span style=\"color: #a6e22e; text-decoration-color: #a6e22e; background-color: #272822\">CREATE_COIN</span><span style=\"color: #f8f8f2; text-decoration-color: #f8f8f2; background-color: #272822\"> </span><span style=\"color: #ae81ff; text-decoration-color: #ae81ff; background-color: #272822\">0</span><span style=\"color: #f8f8f2; text-decoration-color: #f8f8f2; background-color: #272822\">xbae24162efbd568f89bc7a340798a6118df0189eb9e3f8697bcea27af99f8f79 </span><span style=\"color: #ae81ff; text-decoration-color: #ae81ff; background-color: #272822\">0</span><span style=\"color: #f8f8f2; text-decoration-color: #f8f8f2; background-color: #272822\">x19135f60)</span><span style=\"background-color: #272822\">                        </span>\n",
       "</pre>\n"
      ],
      "text/plain": [
       "\u001b[38;2;248;248;242;48;2;39;40;34m(\u001b[0m\u001b[38;2;166;226;46;48;2;39;40;34mCREATE_COIN\u001b[0m\u001b[38;2;248;248;242;48;2;39;40;34m \u001b[0m\u001b[38;2;174;129;255;48;2;39;40;34m0\u001b[0m\u001b[38;2;248;248;242;48;2;39;40;34mxbae24162efbd568f89bc7a340798a6118df0189eb9e3f8697bcea27af99f8f79\u001b[0m\u001b[38;2;248;248;242;48;2;39;40;34m \u001b[0m\u001b[38;2;174;129;255;48;2;39;40;34m0\u001b[0m\u001b[38;2;248;248;242;48;2;39;40;34mx19135f60\u001b[0m\u001b[38;2;248;248;242;48;2;39;40;34m)\u001b[0m\u001b[48;2;39;40;34m                        \u001b[0m\n"
      ]
     },
     "metadata": {},
     "output_type": "display_data"
    },
    {
     "data": {
      "text/html": [
       "<pre style=\"white-space:pre;overflow-x:auto;line-height:normal;font-family:Menlo,'DejaVu Sans Mono',consolas,'Courier New',monospace\"><span style=\"color: #f8f8f2; text-decoration-color: #f8f8f2; background-color: #272822\">(</span><span style=\"color: #a6e22e; text-decoration-color: #a6e22e; background-color: #272822\">RESERVE_FEE</span><span style=\"color: #f8f8f2; text-decoration-color: #f8f8f2; background-color: #272822\"> </span><span style=\"color: #ae81ff; text-decoration-color: #ae81ff; background-color: #272822\">0</span><span style=\"color: #f8f8f2; text-decoration-color: #f8f8f2; background-color: #272822\">x1dcd6500)</span><span style=\"background-color: #272822\">                                                                                           </span>\n",
       "</pre>\n"
      ],
      "text/plain": [
       "\u001b[38;2;248;248;242;48;2;39;40;34m(\u001b[0m\u001b[38;2;166;226;46;48;2;39;40;34mRESERVE_FEE\u001b[0m\u001b[38;2;248;248;242;48;2;39;40;34m \u001b[0m\u001b[38;2;174;129;255;48;2;39;40;34m0\u001b[0m\u001b[38;2;248;248;242;48;2;39;40;34mx1dcd6500\u001b[0m\u001b[38;2;248;248;242;48;2;39;40;34m)\u001b[0m\u001b[48;2;39;40;34m                                                                                           \u001b[0m\n"
      ]
     },
     "metadata": {},
     "output_type": "display_data"
    },
    {
     "data": {
      "text/html": [
       "<pre style=\"white-space:pre;overflow-x:auto;line-height:normal;font-family:Menlo,'DejaVu Sans Mono',consolas,'Courier New',monospace\"><span style=\"color: #f8f8f2; text-decoration-color: #f8f8f2; background-color: #272822\">(</span><span style=\"color: #a6e22e; text-decoration-color: #a6e22e; background-color: #272822\">CREATE_COIN</span><span style=\"color: #f8f8f2; text-decoration-color: #f8f8f2; background-color: #272822\"> </span><span style=\"color: #ae81ff; text-decoration-color: #ae81ff; background-color: #272822\">0</span><span style=\"color: #f8f8f2; text-decoration-color: #f8f8f2; background-color: #272822\">x6dec61e20403ddbcc395cfb9b1b69eb73b10f19c5673972aec2079c3b40df9b6 </span><span style=\"color: #ae81ff; text-decoration-color: #ae81ff; background-color: #272822\">0</span><span style=\"color: #f8f8f2; text-decoration-color: #f8f8f2; background-color: #272822\">x048960b1dda0)</span><span style=\"background-color: #272822\">                    </span>\n",
       "</pre>\n"
      ],
      "text/plain": [
       "\u001b[38;2;248;248;242;48;2;39;40;34m(\u001b[0m\u001b[38;2;166;226;46;48;2;39;40;34mCREATE_COIN\u001b[0m\u001b[38;2;248;248;242;48;2;39;40;34m \u001b[0m\u001b[38;2;174;129;255;48;2;39;40;34m0\u001b[0m\u001b[38;2;248;248;242;48;2;39;40;34mx6dec61e20403ddbcc395cfb9b1b69eb73b10f19c5673972aec2079c3b40df9b6\u001b[0m\u001b[38;2;248;248;242;48;2;39;40;34m \u001b[0m\u001b[38;2;174;129;255;48;2;39;40;34m0\u001b[0m\u001b[38;2;248;248;242;48;2;39;40;34mx048960b1dda0\u001b[0m\u001b[38;2;248;248;242;48;2;39;40;34m)\u001b[0m\u001b[48;2;39;40;34m                    \u001b[0m\n"
      ]
     },
     "metadata": {},
     "output_type": "display_data"
    },
    {
     "data": {
      "text/html": [
       "<pre style=\"white-space:pre;overflow-x:auto;line-height:normal;font-family:Menlo,'DejaVu Sans Mono',consolas,'Courier New',monospace\"><span style=\"color: #f8f8f2; text-decoration-color: #f8f8f2; background-color: #272822\">(</span><span style=\"color: #a6e22e; text-decoration-color: #a6e22e; background-color: #272822\">ASSERT_PUZZLE_ANNOUNCEMENT</span><span style=\"color: #f8f8f2; text-decoration-color: #f8f8f2; background-color: #272822\"> </span><span style=\"color: #ae81ff; text-decoration-color: #ae81ff; background-color: #272822\">0</span><span style=\"color: #f8f8f2; text-decoration-color: #f8f8f2; background-color: #272822\">x95ddff829a6e8a59290cd7dc91659bc16fffbb1ceb140fa84465249a147c444d)</span><span style=\"background-color: #272822\">                    </span>\n",
       "</pre>\n"
      ],
      "text/plain": [
       "\u001b[38;2;248;248;242;48;2;39;40;34m(\u001b[0m\u001b[38;2;166;226;46;48;2;39;40;34mASSERT_PUZZLE_ANNOUNCEMENT\u001b[0m\u001b[38;2;248;248;242;48;2;39;40;34m \u001b[0m\u001b[38;2;174;129;255;48;2;39;40;34m0\u001b[0m\u001b[38;2;248;248;242;48;2;39;40;34mx95ddff829a6e8a59290cd7dc91659bc16fffbb1ceb140fa84465249a147c444d\u001b[0m\u001b[38;2;248;248;242;48;2;39;40;34m)\u001b[0m\u001b[48;2;39;40;34m                    \u001b[0m\n"
      ]
     },
     "metadata": {},
     "output_type": "display_data"
    },
    {
     "data": {
      "text/html": [
       "<pre style=\"white-space:pre;overflow-x:auto;line-height:normal;font-family:Menlo,'DejaVu Sans Mono',consolas,'Courier New',monospace\"><span style=\"color: #f8f8f2; text-decoration-color: #f8f8f2; background-color: #272822\">(</span><span style=\"color: #a6e22e; text-decoration-color: #a6e22e; background-color: #272822\">CREATE_COIN_ANNOUNCEMENT</span><span style=\"color: #f8f8f2; text-decoration-color: #f8f8f2; background-color: #272822\"> </span><span style=\"color: #ae81ff; text-decoration-color: #ae81ff; background-color: #272822\">0</span><span style=\"color: #f8f8f2; text-decoration-color: #f8f8f2; background-color: #272822\">x40e4ca0b005b83817847c625bd8773f0ac7eb45a950cc355521a48733f30800f)</span><span style=\"background-color: #272822\">                      </span>\n",
       "</pre>\n"
      ],
      "text/plain": [
       "\u001b[38;2;248;248;242;48;2;39;40;34m(\u001b[0m\u001b[38;2;166;226;46;48;2;39;40;34mCREATE_COIN_ANNOUNCEMENT\u001b[0m\u001b[38;2;248;248;242;48;2;39;40;34m \u001b[0m\u001b[38;2;174;129;255;48;2;39;40;34m0\u001b[0m\u001b[38;2;248;248;242;48;2;39;40;34mx40e4ca0b005b83817847c625bd8773f0ac7eb45a950cc355521a48733f30800f\u001b[0m\u001b[38;2;248;248;242;48;2;39;40;34m)\u001b[0m\u001b[48;2;39;40;34m                      \u001b[0m\n"
      ]
     },
     "metadata": {},
     "output_type": "display_data"
    },
    {
     "name": "stdout",
     "output_type": "stream",
     "text": [
      "\n",
      "Additions:\n",
      "Coin { parent_coin_info: f8d7fefd1261cf4d44509e4a6c0d13a0a1abb2402be7d26806b279308f03c427, puzzle_hash: bae24162efbd568f89bc7a340798a6118df0189eb9e3f8697bcea27af99f8f79, amount: 420700000 }\n",
      "Coin { parent_coin_info: f8d7fefd1261cf4d44509e4a6c0d13a0a1abb2402be7d26806b279308f03c427, puzzle_hash: 6dec61e20403ddbcc395cfb9b1b69eb73b10f19c5673972aec2079c3b40df9b6, amount: 4988079300000 }\n",
      "\n",
      "Removals:\n",
      "Coin { parent_coin_info: b88c1c89f648ceae98d04c224fc6b4578031b3ef7c385b7aa6adf44bf60aa6e2, puzzle_hash: 6dec61e20403ddbcc395cfb9b1b69eb73b10f19c5673972aec2079c3b40df9b6, amount: 4989000000000 }\n",
      "Driver Dict:\n",
      "PuzzleInfo(info={'type': 'CAT', 'tail': '0xd82dd03f8a9ad2f84353cd953c4de6b21dbaaf7de3ba3f4ddd9abe31ecba80ad'})\n"
     ]
    }
   ],
   "source": [
    "# request 1 TDBX, offer 0x19135f60 mojos\n",
    "maker = Offer.from_bech32(maker_hex)\n",
    "print_offer(maker)"
   ]
  },
  {
   "cell_type": "code",
   "execution_count": 3,
   "id": "3f8a48fb-9e52-4d1f-9831-e3ae9edcad50",
   "metadata": {
    "tags": []
   },
   "outputs": [
    {
     "name": "stdout",
     "output_type": "stream",
     "text": [
      "Notarized Payment:\n"
     ]
    },
    {
     "data": {
      "text/html": [
       "<pre style=\"white-space:pre;overflow-x:auto;line-height:normal;font-family:Menlo,'DejaVu Sans Mono',consolas,'Courier New',monospace\"><span style=\"color: #f8f8f2; text-decoration-color: #f8f8f2; background-color: #272822\">(</span><span style=\"color: #a6e22e; text-decoration-color: #a6e22e; background-color: #272822\">CREATE_COIN</span><span style=\"color: #f8f8f2; text-decoration-color: #f8f8f2; background-color: #272822\"> </span><span style=\"color: #ae81ff; text-decoration-color: #ae81ff; background-color: #272822\">0</span><span style=\"color: #f8f8f2; text-decoration-color: #f8f8f2; background-color: #272822\">x2d545ccf93005c33b8020c7f905846b7c44d26e813e8979e61559deaaeeee9e4 </span><span style=\"color: #ae81ff; text-decoration-color: #ae81ff; background-color: #272822\">0</span><span style=\"color: #f8f8f2; text-decoration-color: #f8f8f2; background-color: #272822\">x19135f60 ())</span><span style=\"background-color: #272822\">                     </span>\n",
       "</pre>\n"
      ],
      "text/plain": [
       "\u001b[38;2;248;248;242;48;2;39;40;34m(\u001b[0m\u001b[38;2;166;226;46;48;2;39;40;34mCREATE_COIN\u001b[0m\u001b[38;2;248;248;242;48;2;39;40;34m \u001b[0m\u001b[38;2;174;129;255;48;2;39;40;34m0\u001b[0m\u001b[38;2;248;248;242;48;2;39;40;34mx2d545ccf93005c33b8020c7f905846b7c44d26e813e8979e61559deaaeeee9e4\u001b[0m\u001b[38;2;248;248;242;48;2;39;40;34m \u001b[0m\u001b[38;2;174;129;255;48;2;39;40;34m0\u001b[0m\u001b[38;2;248;248;242;48;2;39;40;34mx19135f60\u001b[0m\u001b[38;2;248;248;242;48;2;39;40;34m \u001b[0m\u001b[38;2;248;248;242;48;2;39;40;34m(\u001b[0m\u001b[38;2;248;248;242;48;2;39;40;34m)\u001b[0m\u001b[38;2;248;248;242;48;2;39;40;34m)\u001b[0m\u001b[48;2;39;40;34m                     \u001b[0m\n"
      ]
     },
     "metadata": {},
     "output_type": "display_data"
    },
    {
     "name": "stdout",
     "output_type": "stream",
     "text": [
      "CoinSpend:\n",
      "Coin:\n",
      "76f55ce8e980b8551aa2c621c77488cf4255e883b6fb117bc4148ce64c757f94\n",
      "Coin { parent_coin_info: fa73b9821c85609e5b8a33bf7c847bbc1e818cde0da87814a818e5a2318a89cd, puzzle_hash: bf7fbe8ee9e2b4f78783f9b3f3fade412051ee6126df7e5cb12db1af03377776, amount: 5000 }\n",
      "\n",
      "Conditions\n"
     ]
    },
    {
     "data": {
      "text/html": [
       "<pre style=\"white-space:pre;overflow-x:auto;line-height:normal;font-family:Menlo,'DejaVu Sans Mono',consolas,'Courier New',monospace\"><span style=\"color: #f8f8f2; text-decoration-color: #f8f8f2; background-color: #272822\">(</span><span style=\"color: #a6e22e; text-decoration-color: #a6e22e; background-color: #272822\">ASSERT_MY_COIN_ID</span><span style=\"color: #f8f8f2; text-decoration-color: #f8f8f2; background-color: #272822\"> </span><span style=\"color: #ae81ff; text-decoration-color: #ae81ff; background-color: #272822\">0</span><span style=\"color: #f8f8f2; text-decoration-color: #f8f8f2; background-color: #272822\">x76f55ce8e980b8551aa2c621c77488cf4255e883b6fb117bc4148ce64c757f94)</span><span style=\"background-color: #272822\">                             </span>\n",
       "</pre>\n"
      ],
      "text/plain": [
       "\u001b[38;2;248;248;242;48;2;39;40;34m(\u001b[0m\u001b[38;2;166;226;46;48;2;39;40;34mASSERT_MY_COIN_ID\u001b[0m\u001b[38;2;248;248;242;48;2;39;40;34m \u001b[0m\u001b[38;2;174;129;255;48;2;39;40;34m0\u001b[0m\u001b[38;2;248;248;242;48;2;39;40;34mx76f55ce8e980b8551aa2c621c77488cf4255e883b6fb117bc4148ce64c757f94\u001b[0m\u001b[38;2;248;248;242;48;2;39;40;34m)\u001b[0m\u001b[48;2;39;40;34m                             \u001b[0m\n"
      ]
     },
     "metadata": {},
     "output_type": "display_data"
    },
    {
     "data": {
      "text/html": [
       "<pre style=\"white-space:pre;overflow-x:auto;line-height:normal;font-family:Menlo,'DejaVu Sans Mono',consolas,'Courier New',monospace\"><span style=\"color: #f8f8f2; text-decoration-color: #f8f8f2; background-color: #272822\">(</span><span style=\"color: #a6e22e; text-decoration-color: #a6e22e; background-color: #272822\">CREATE_COIN_ANNOUNCEMENT</span><span style=\"color: #f8f8f2; text-decoration-color: #f8f8f2; background-color: #272822\"> </span><span style=\"color: #ae81ff; text-decoration-color: #ae81ff; background-color: #272822\">0</span><span style=\"color: #f8f8f2; text-decoration-color: #f8f8f2; background-color: #272822\">xcb1025ad8f278de31f14afe47c283a533fa29c8032de1e47dc90d2ccc9d5b732c6)</span><span style=\"background-color: #272822\">                    </span>\n",
       "</pre>\n"
      ],
      "text/plain": [
       "\u001b[38;2;248;248;242;48;2;39;40;34m(\u001b[0m\u001b[38;2;166;226;46;48;2;39;40;34mCREATE_COIN_ANNOUNCEMENT\u001b[0m\u001b[38;2;248;248;242;48;2;39;40;34m \u001b[0m\u001b[38;2;174;129;255;48;2;39;40;34m0\u001b[0m\u001b[38;2;248;248;242;48;2;39;40;34mxcb1025ad8f278de31f14afe47c283a533fa29c8032de1e47dc90d2ccc9d5b732c6\u001b[0m\u001b[38;2;248;248;242;48;2;39;40;34m)\u001b[0m\u001b[48;2;39;40;34m                    \u001b[0m\n"
      ]
     },
     "metadata": {},
     "output_type": "display_data"
    },
    {
     "data": {
      "text/html": [
       "<pre style=\"white-space:pre;overflow-x:auto;line-height:normal;font-family:Menlo,'DejaVu Sans Mono',consolas,'Courier New',monospace\"><span style=\"color: #f8f8f2; text-decoration-color: #f8f8f2; background-color: #272822\">(</span><span style=\"color: #a6e22e; text-decoration-color: #a6e22e; background-color: #272822\">ASSERT_COIN_ANNOUNCEMENT</span><span style=\"color: #f8f8f2; text-decoration-color: #f8f8f2; background-color: #272822\"> </span><span style=\"color: #ae81ff; text-decoration-color: #ae81ff; background-color: #272822\">0</span><span style=\"color: #f8f8f2; text-decoration-color: #f8f8f2; background-color: #272822\">x7cba513965862165136fdaf65de045263b313993066bb67c6df909a1cf9d4137)</span><span style=\"background-color: #272822\">                      </span>\n",
       "</pre>\n"
      ],
      "text/plain": [
       "\u001b[38;2;248;248;242;48;2;39;40;34m(\u001b[0m\u001b[38;2;166;226;46;48;2;39;40;34mASSERT_COIN_ANNOUNCEMENT\u001b[0m\u001b[38;2;248;248;242;48;2;39;40;34m \u001b[0m\u001b[38;2;174;129;255;48;2;39;40;34m0\u001b[0m\u001b[38;2;248;248;242;48;2;39;40;34mx7cba513965862165136fdaf65de045263b313993066bb67c6df909a1cf9d4137\u001b[0m\u001b[38;2;248;248;242;48;2;39;40;34m)\u001b[0m\u001b[48;2;39;40;34m                      \u001b[0m\n"
      ]
     },
     "metadata": {},
     "output_type": "display_data"
    },
    {
     "data": {
      "text/html": [
       "<pre style=\"white-space:pre;overflow-x:auto;line-height:normal;font-family:Menlo,'DejaVu Sans Mono',consolas,'Courier New',monospace\"><span style=\"color: #f8f8f2; text-decoration-color: #f8f8f2; background-color: #272822\">(</span><span style=\"color: #a6e22e; text-decoration-color: #a6e22e; background-color: #272822\">AGG_SIG_ME</span><span style=\"color: #f8f8f2; text-decoration-color: #f8f8f2; background-color: #272822\"> </span><span style=\"color: #ae81ff; text-decoration-color: #ae81ff; background-color: #272822\">0</span><span style=\"color: #f8f8f2; text-decoration-color: #f8f8f2; background-color: #272822\">x8d6951aa12bb031c541b21e43412d741dc2446cb00b8756bc05b82e5d705b46db5ec7fbd251c50c640fd182852c8f0b8 </span><span style=\"background-color: #272822\">    </span>\n",
       "<span style=\"color: #ae81ff; text-decoration-color: #ae81ff; background-color: #272822\">0</span><span style=\"color: #f8f8f2; text-decoration-color: #f8f8f2; background-color: #272822\">x57b32c5d89afad77c71ac73155a56eaf5aebd46b7da135f619730e20f50a02ef)</span><span style=\"background-color: #272822\">                                                </span>\n",
       "</pre>\n"
      ],
      "text/plain": [
       "\u001b[38;2;248;248;242;48;2;39;40;34m(\u001b[0m\u001b[38;2;166;226;46;48;2;39;40;34mAGG_SIG_ME\u001b[0m\u001b[38;2;248;248;242;48;2;39;40;34m \u001b[0m\u001b[38;2;174;129;255;48;2;39;40;34m0\u001b[0m\u001b[38;2;248;248;242;48;2;39;40;34mx8d6951aa12bb031c541b21e43412d741dc2446cb00b8756bc05b82e5d705b46db5ec7fbd251c50c640fd182852c8f0b8\u001b[0m\u001b[38;2;248;248;242;48;2;39;40;34m \u001b[0m\u001b[48;2;39;40;34m    \u001b[0m\n",
       "\u001b[38;2;174;129;255;48;2;39;40;34m0\u001b[0m\u001b[38;2;248;248;242;48;2;39;40;34mx57b32c5d89afad77c71ac73155a56eaf5aebd46b7da135f619730e20f50a02ef\u001b[0m\u001b[38;2;248;248;242;48;2;39;40;34m)\u001b[0m\u001b[48;2;39;40;34m                                                \u001b[0m\n"
      ]
     },
     "metadata": {},
     "output_type": "display_data"
    },
    {
     "data": {
      "text/html": [
       "<pre style=\"white-space:pre;overflow-x:auto;line-height:normal;font-family:Menlo,'DejaVu Sans Mono',consolas,'Courier New',monospace\"><span style=\"color: #f8f8f2; text-decoration-color: #f8f8f2; background-color: #272822\">(</span><span style=\"color: #a6e22e; text-decoration-color: #a6e22e; background-color: #272822\">CREATE_COIN</span><span style=\"color: #f8f8f2; text-decoration-color: #f8f8f2; background-color: #272822\"> </span><span style=\"color: #ae81ff; text-decoration-color: #ae81ff; background-color: #272822\">0</span><span style=\"color: #f8f8f2; text-decoration-color: #f8f8f2; background-color: #272822\">xdbcb4fee7e94946b713ae68e669df3285ca40acd64d06a5cfc8e3c748c7e7bdb </span><span style=\"color: #ae81ff; text-decoration-color: #ae81ff; background-color: #272822\">1000</span><span style=\"color: #f8f8f2; text-decoration-color: #f8f8f2; background-color: #272822\"> </span><span style=\"background-color: #272822\">                              </span>\n",
       "<span style=\"color: #f8f8f2; text-decoration-color: #f8f8f2; background-color: #272822\">(</span><span style=\"color: #ae81ff; text-decoration-color: #ae81ff; background-color: #272822\">0</span><span style=\"color: #f8f8f2; text-decoration-color: #f8f8f2; background-color: #272822\">xbae24162efbd568f89bc7a340798a6118df0189eb9e3f8697bcea27af99f8f79))</span><span style=\"background-color: #272822\">                                              </span>\n",
       "</pre>\n"
      ],
      "text/plain": [
       "\u001b[38;2;248;248;242;48;2;39;40;34m(\u001b[0m\u001b[38;2;166;226;46;48;2;39;40;34mCREATE_COIN\u001b[0m\u001b[38;2;248;248;242;48;2;39;40;34m \u001b[0m\u001b[38;2;174;129;255;48;2;39;40;34m0\u001b[0m\u001b[38;2;248;248;242;48;2;39;40;34mxdbcb4fee7e94946b713ae68e669df3285ca40acd64d06a5cfc8e3c748c7e7bdb\u001b[0m\u001b[38;2;248;248;242;48;2;39;40;34m \u001b[0m\u001b[38;2;174;129;255;48;2;39;40;34m1000\u001b[0m\u001b[38;2;248;248;242;48;2;39;40;34m \u001b[0m\u001b[48;2;39;40;34m                              \u001b[0m\n",
       "\u001b[38;2;248;248;242;48;2;39;40;34m(\u001b[0m\u001b[38;2;174;129;255;48;2;39;40;34m0\u001b[0m\u001b[38;2;248;248;242;48;2;39;40;34mxbae24162efbd568f89bc7a340798a6118df0189eb9e3f8697bcea27af99f8f79\u001b[0m\u001b[38;2;248;248;242;48;2;39;40;34m)\u001b[0m\u001b[38;2;248;248;242;48;2;39;40;34m)\u001b[0m\u001b[48;2;39;40;34m                                              \u001b[0m\n"
      ]
     },
     "metadata": {},
     "output_type": "display_data"
    },
    {
     "data": {
      "text/html": [
       "<pre style=\"white-space:pre;overflow-x:auto;line-height:normal;font-family:Menlo,'DejaVu Sans Mono',consolas,'Courier New',monospace\"><span style=\"color: #f8f8f2; text-decoration-color: #f8f8f2; background-color: #272822\">(</span><span style=\"color: #a6e22e; text-decoration-color: #a6e22e; background-color: #272822\">CREATE_COIN</span><span style=\"color: #f8f8f2; text-decoration-color: #f8f8f2; background-color: #272822\"> </span><span style=\"color: #ae81ff; text-decoration-color: #ae81ff; background-color: #272822\">0</span><span style=\"color: #f8f8f2; text-decoration-color: #f8f8f2; background-color: #272822\">x2de580cc705b9ff9d2f951de5f5b22d93f9ff639c9f201f27c7695be80602ea0 </span><span style=\"color: #ae81ff; text-decoration-color: #ae81ff; background-color: #272822\">4000</span><span style=\"color: #f8f8f2; text-decoration-color: #f8f8f2; background-color: #272822\">)</span><span style=\"background-color: #272822\">                              </span>\n",
       "</pre>\n"
      ],
      "text/plain": [
       "\u001b[38;2;248;248;242;48;2;39;40;34m(\u001b[0m\u001b[38;2;166;226;46;48;2;39;40;34mCREATE_COIN\u001b[0m\u001b[38;2;248;248;242;48;2;39;40;34m \u001b[0m\u001b[38;2;174;129;255;48;2;39;40;34m0\u001b[0m\u001b[38;2;248;248;242;48;2;39;40;34mx2de580cc705b9ff9d2f951de5f5b22d93f9ff639c9f201f27c7695be80602ea0\u001b[0m\u001b[38;2;248;248;242;48;2;39;40;34m \u001b[0m\u001b[38;2;174;129;255;48;2;39;40;34m4000\u001b[0m\u001b[38;2;248;248;242;48;2;39;40;34m)\u001b[0m\u001b[48;2;39;40;34m                              \u001b[0m\n"
      ]
     },
     "metadata": {},
     "output_type": "display_data"
    },
    {
     "data": {
      "text/html": [
       "<pre style=\"white-space:pre;overflow-x:auto;line-height:normal;font-family:Menlo,'DejaVu Sans Mono',consolas,'Courier New',monospace\"><span style=\"color: #f8f8f2; text-decoration-color: #f8f8f2; background-color: #272822\">(</span><span style=\"color: #a6e22e; text-decoration-color: #a6e22e; background-color: #272822\">CREATE_COIN_ANNOUNCEMENT</span><span style=\"color: #f8f8f2; text-decoration-color: #f8f8f2; background-color: #272822\"> </span><span style=\"color: #ae81ff; text-decoration-color: #ae81ff; background-color: #272822\">0</span><span style=\"color: #f8f8f2; text-decoration-color: #f8f8f2; background-color: #272822\">x3f37280c99d5718d4c5e838b95c57655ff5304a50d15cb14acb73655867183dd)</span><span style=\"background-color: #272822\">                      </span>\n",
       "</pre>\n"
      ],
      "text/plain": [
       "\u001b[38;2;248;248;242;48;2;39;40;34m(\u001b[0m\u001b[38;2;166;226;46;48;2;39;40;34mCREATE_COIN_ANNOUNCEMENT\u001b[0m\u001b[38;2;248;248;242;48;2;39;40;34m \u001b[0m\u001b[38;2;174;129;255;48;2;39;40;34m0\u001b[0m\u001b[38;2;248;248;242;48;2;39;40;34mx3f37280c99d5718d4c5e838b95c57655ff5304a50d15cb14acb73655867183dd\u001b[0m\u001b[38;2;248;248;242;48;2;39;40;34m)\u001b[0m\u001b[48;2;39;40;34m                      \u001b[0m\n"
      ]
     },
     "metadata": {},
     "output_type": "display_data"
    },
    {
     "data": {
      "text/html": [
       "<pre style=\"white-space:pre;overflow-x:auto;line-height:normal;font-family:Menlo,'DejaVu Sans Mono',consolas,'Courier New',monospace\"><span style=\"color: #f8f8f2; text-decoration-color: #f8f8f2; background-color: #272822\">(</span><span style=\"color: #a6e22e; text-decoration-color: #a6e22e; background-color: #272822\">ASSERT_PUZZLE_ANNOUNCEMENT</span><span style=\"color: #f8f8f2; text-decoration-color: #f8f8f2; background-color: #272822\"> </span><span style=\"color: #ae81ff; text-decoration-color: #ae81ff; background-color: #272822\">0</span><span style=\"color: #f8f8f2; text-decoration-color: #f8f8f2; background-color: #272822\">xfcce84769db0227d0db9f90a6232358d6c428109ca08a9836589982c99e29b70)</span><span style=\"background-color: #272822\">                    </span>\n",
       "</pre>\n"
      ],
      "text/plain": [
       "\u001b[38;2;248;248;242;48;2;39;40;34m(\u001b[0m\u001b[38;2;166;226;46;48;2;39;40;34mASSERT_PUZZLE_ANNOUNCEMENT\u001b[0m\u001b[38;2;248;248;242;48;2;39;40;34m \u001b[0m\u001b[38;2;174;129;255;48;2;39;40;34m0\u001b[0m\u001b[38;2;248;248;242;48;2;39;40;34mxfcce84769db0227d0db9f90a6232358d6c428109ca08a9836589982c99e29b70\u001b[0m\u001b[38;2;248;248;242;48;2;39;40;34m)\u001b[0m\u001b[48;2;39;40;34m                    \u001b[0m\n"
      ]
     },
     "metadata": {},
     "output_type": "display_data"
    },
    {
     "name": "stdout",
     "output_type": "stream",
     "text": [
      "Coin:\n",
      "e449faa01f2a6a2312defdfc0180d7e49579db0532f559c0dcc3b85d3fcb915a\n",
      "Coin { parent_coin_info: 87b9668a0214184bab78bda218c9a1c0328cd2824cff9d343c80dc5352a94840, puzzle_hash: 5208dd26b5a1776c513c5cc31612c7d1598ec5c4582928bbce9cc82f08df2cfa, amount: 4995000000000 }\n",
      "\n",
      "Conditions\n"
     ]
    },
    {
     "data": {
      "text/html": [
       "<pre style=\"white-space:pre;overflow-x:auto;line-height:normal;font-family:Menlo,'DejaVu Sans Mono',consolas,'Courier New',monospace\"><span style=\"color: #f8f8f2; text-decoration-color: #f8f8f2; background-color: #272822\">(</span><span style=\"color: #a6e22e; text-decoration-color: #a6e22e; background-color: #272822\">AGG_SIG_ME</span><span style=\"color: #f8f8f2; text-decoration-color: #f8f8f2; background-color: #272822\"> </span><span style=\"color: #ae81ff; text-decoration-color: #ae81ff; background-color: #272822\">0</span><span style=\"color: #f8f8f2; text-decoration-color: #f8f8f2; background-color: #272822\">xb15abf4b49ee082d5dee85ab60f35e1653904a4e3f1f5efb0e8d5139e3aeb88e2113648f701022bfb7a012b07c92ecc9 </span><span style=\"background-color: #272822\">    </span>\n",
       "<span style=\"color: #ae81ff; text-decoration-color: #ae81ff; background-color: #272822\">0</span><span style=\"color: #f8f8f2; text-decoration-color: #f8f8f2; background-color: #272822\">x8c66c48b5c7b2663969e887a40f1d6257ad693de8e2a86cf5049a9896b6e1ca7)</span><span style=\"background-color: #272822\">                                                </span>\n",
       "</pre>\n"
      ],
      "text/plain": [
       "\u001b[38;2;248;248;242;48;2;39;40;34m(\u001b[0m\u001b[38;2;166;226;46;48;2;39;40;34mAGG_SIG_ME\u001b[0m\u001b[38;2;248;248;242;48;2;39;40;34m \u001b[0m\u001b[38;2;174;129;255;48;2;39;40;34m0\u001b[0m\u001b[38;2;248;248;242;48;2;39;40;34mxb15abf4b49ee082d5dee85ab60f35e1653904a4e3f1f5efb0e8d5139e3aeb88e2113648f701022bfb7a012b07c92ecc9\u001b[0m\u001b[38;2;248;248;242;48;2;39;40;34m \u001b[0m\u001b[48;2;39;40;34m    \u001b[0m\n",
       "\u001b[38;2;174;129;255;48;2;39;40;34m0\u001b[0m\u001b[38;2;248;248;242;48;2;39;40;34mx8c66c48b5c7b2663969e887a40f1d6257ad693de8e2a86cf5049a9896b6e1ca7\u001b[0m\u001b[38;2;248;248;242;48;2;39;40;34m)\u001b[0m\u001b[48;2;39;40;34m                                                \u001b[0m\n"
      ]
     },
     "metadata": {},
     "output_type": "display_data"
    },
    {
     "data": {
      "text/html": [
       "<pre style=\"white-space:pre;overflow-x:auto;line-height:normal;font-family:Menlo,'DejaVu Sans Mono',consolas,'Courier New',monospace\"><span style=\"color: #f8f8f2; text-decoration-color: #f8f8f2; background-color: #272822\">(</span><span style=\"color: #a6e22e; text-decoration-color: #a6e22e; background-color: #272822\">CREATE_COIN</span><span style=\"color: #f8f8f2; text-decoration-color: #f8f8f2; background-color: #272822\"> </span><span style=\"color: #ae81ff; text-decoration-color: #ae81ff; background-color: #272822\">0</span><span style=\"color: #f8f8f2; text-decoration-color: #f8f8f2; background-color: #272822\">x3069abd7dc68d67a21254a8a0a15e6c00dd541084be11c90e42b69e61b95c9aa </span><span style=\"color: #ae81ff; text-decoration-color: #ae81ff; background-color: #272822\">0</span><span style=\"color: #f8f8f2; text-decoration-color: #f8f8f2; background-color: #272822\">x048afa386d80)</span><span style=\"background-color: #272822\">                    </span>\n",
       "</pre>\n"
      ],
      "text/plain": [
       "\u001b[38;2;248;248;242;48;2;39;40;34m(\u001b[0m\u001b[38;2;166;226;46;48;2;39;40;34mCREATE_COIN\u001b[0m\u001b[38;2;248;248;242;48;2;39;40;34m \u001b[0m\u001b[38;2;174;129;255;48;2;39;40;34m0\u001b[0m\u001b[38;2;248;248;242;48;2;39;40;34mx3069abd7dc68d67a21254a8a0a15e6c00dd541084be11c90e42b69e61b95c9aa\u001b[0m\u001b[38;2;248;248;242;48;2;39;40;34m \u001b[0m\u001b[38;2;174;129;255;48;2;39;40;34m0\u001b[0m\u001b[38;2;248;248;242;48;2;39;40;34mx048afa386d80\u001b[0m\u001b[38;2;248;248;242;48;2;39;40;34m)\u001b[0m\u001b[48;2;39;40;34m                    \u001b[0m\n"
      ]
     },
     "metadata": {},
     "output_type": "display_data"
    },
    {
     "data": {
      "text/html": [
       "<pre style=\"white-space:pre;overflow-x:auto;line-height:normal;font-family:Menlo,'DejaVu Sans Mono',consolas,'Courier New',monospace\"><span style=\"color: #f8f8f2; text-decoration-color: #f8f8f2; background-color: #272822\">(</span><span style=\"color: #a6e22e; text-decoration-color: #a6e22e; background-color: #272822\">RESERVE_FEE</span><span style=\"color: #f8f8f2; text-decoration-color: #f8f8f2; background-color: #272822\"> </span><span style=\"color: #ae81ff; text-decoration-color: #ae81ff; background-color: #272822\">0</span><span style=\"color: #f8f8f2; text-decoration-color: #f8f8f2; background-color: #272822\">x02faf080)</span><span style=\"background-color: #272822\">                                                                                           </span>\n",
       "</pre>\n"
      ],
      "text/plain": [
       "\u001b[38;2;248;248;242;48;2;39;40;34m(\u001b[0m\u001b[38;2;166;226;46;48;2;39;40;34mRESERVE_FEE\u001b[0m\u001b[38;2;248;248;242;48;2;39;40;34m \u001b[0m\u001b[38;2;174;129;255;48;2;39;40;34m0\u001b[0m\u001b[38;2;248;248;242;48;2;39;40;34mx02faf080\u001b[0m\u001b[38;2;248;248;242;48;2;39;40;34m)\u001b[0m\u001b[48;2;39;40;34m                                                                                           \u001b[0m\n"
      ]
     },
     "metadata": {},
     "output_type": "display_data"
    },
    {
     "data": {
      "text/html": [
       "<pre style=\"white-space:pre;overflow-x:auto;line-height:normal;font-family:Menlo,'DejaVu Sans Mono',consolas,'Courier New',monospace\"><span style=\"color: #f8f8f2; text-decoration-color: #f8f8f2; background-color: #272822\">(</span><span style=\"color: #a6e22e; text-decoration-color: #a6e22e; background-color: #272822\">CREATE_COIN_ANNOUNCEMENT</span><span style=\"color: #f8f8f2; text-decoration-color: #f8f8f2; background-color: #272822\"> </span><span style=\"color: #ae81ff; text-decoration-color: #ae81ff; background-color: #272822\">0</span><span style=\"color: #f8f8f2; text-decoration-color: #f8f8f2; background-color: #272822\">x60a013af34b43c0ea5602b8f862097c3f0089a6d0eebf7bc46b8ad79d813f85a)</span><span style=\"background-color: #272822\">                      </span>\n",
       "</pre>\n"
      ],
      "text/plain": [
       "\u001b[38;2;248;248;242;48;2;39;40;34m(\u001b[0m\u001b[38;2;166;226;46;48;2;39;40;34mCREATE_COIN_ANNOUNCEMENT\u001b[0m\u001b[38;2;248;248;242;48;2;39;40;34m \u001b[0m\u001b[38;2;174;129;255;48;2;39;40;34m0\u001b[0m\u001b[38;2;248;248;242;48;2;39;40;34mx60a013af34b43c0ea5602b8f862097c3f0089a6d0eebf7bc46b8ad79d813f85a\u001b[0m\u001b[38;2;248;248;242;48;2;39;40;34m)\u001b[0m\u001b[48;2;39;40;34m                      \u001b[0m\n"
      ]
     },
     "metadata": {},
     "output_type": "display_data"
    },
    {
     "data": {
      "text/html": [
       "<pre style=\"white-space:pre;overflow-x:auto;line-height:normal;font-family:Menlo,'DejaVu Sans Mono',consolas,'Courier New',monospace\"><span style=\"color: #f8f8f2; text-decoration-color: #f8f8f2; background-color: #272822\">(</span><span style=\"color: #a6e22e; text-decoration-color: #a6e22e; background-color: #272822\">ASSERT_COIN_ANNOUNCEMENT</span><span style=\"color: #f8f8f2; text-decoration-color: #f8f8f2; background-color: #272822\"> </span><span style=\"color: #ae81ff; text-decoration-color: #ae81ff; background-color: #272822\">0</span><span style=\"color: #f8f8f2; text-decoration-color: #f8f8f2; background-color: #272822\">xa89a6724d0498417f3ce2fb9791e2b6b0cb3e9d2a429ae869a0356f5cb2430b7)</span><span style=\"background-color: #272822\">                      </span>\n",
       "</pre>\n"
      ],
      "text/plain": [
       "\u001b[38;2;248;248;242;48;2;39;40;34m(\u001b[0m\u001b[38;2;166;226;46;48;2;39;40;34mASSERT_COIN_ANNOUNCEMENT\u001b[0m\u001b[38;2;248;248;242;48;2;39;40;34m \u001b[0m\u001b[38;2;174;129;255;48;2;39;40;34m0\u001b[0m\u001b[38;2;248;248;242;48;2;39;40;34mxa89a6724d0498417f3ce2fb9791e2b6b0cb3e9d2a429ae869a0356f5cb2430b7\u001b[0m\u001b[38;2;248;248;242;48;2;39;40;34m)\u001b[0m\u001b[48;2;39;40;34m                      \u001b[0m\n"
      ]
     },
     "metadata": {},
     "output_type": "display_data"
    },
    {
     "name": "stdout",
     "output_type": "stream",
     "text": [
      "\n",
      "Additions:\n",
      "Coin { parent_coin_info: 76f55ce8e980b8551aa2c621c77488cf4255e883b6fb117bc4148ce64c757f94, puzzle_hash: dbcb4fee7e94946b713ae68e669df3285ca40acd64d06a5cfc8e3c748c7e7bdb, amount: 1000 }\n",
      "Coin { parent_coin_info: 76f55ce8e980b8551aa2c621c77488cf4255e883b6fb117bc4148ce64c757f94, puzzle_hash: 2de580cc705b9ff9d2f951de5f5b22d93f9ff639c9f201f27c7695be80602ea0, amount: 4000 }\n",
      "Coin { parent_coin_info: e449faa01f2a6a2312defdfc0180d7e49579db0532f559c0dcc3b85d3fcb915a, puzzle_hash: 3069abd7dc68d67a21254a8a0a15e6c00dd541084be11c90e42b69e61b95c9aa, amount: 4994950000000 }\n",
      "\n",
      "Removals:\n",
      "Coin { parent_coin_info: fa73b9821c85609e5b8a33bf7c847bbc1e818cde0da87814a818e5a2318a89cd, puzzle_hash: bf7fbe8ee9e2b4f78783f9b3f3fade412051ee6126df7e5cb12db1af03377776, amount: 5000 }\n",
      "Coin { parent_coin_info: 87b9668a0214184bab78bda218c9a1c0328cd2824cff9d343c80dc5352a94840, puzzle_hash: 5208dd26b5a1776c513c5cc31612c7d1598ec5c4582928bbce9cc82f08df2cfa, amount: 4995000000000 }\n",
      "Driver Dict:\n",
      "PuzzleInfo(info={'type': 'CAT', 'tail': '0xd82dd03f8a9ad2f84353cd953c4de6b21dbaaf7de3ba3f4ddd9abe31ecba80ad'})\n"
     ]
    }
   ],
   "source": [
    "# request 0x19135f60 mojos, offer 1 TDBX\n",
    "taker = Offer.from_bech32(taker_hex)\n",
    "print_offer(taker)"
   ]
  },
  {
   "cell_type": "code",
   "execution_count": 7,
   "id": "69b5c8b1-4608-40f3-b26f-d533ac27f58f",
   "metadata": {
    "collapsed": true,
    "jupyter": {
     "outputs_hidden": true
    },
    "tags": []
   },
   "outputs": [
    {
     "name": "stdout",
     "output_type": "stream",
     "text": [
      "Notarized Payment:\n"
     ]
    },
    {
     "data": {
      "text/html": [
       "<pre style=\"white-space:pre;overflow-x:auto;line-height:normal;font-family:Menlo,'DejaVu Sans Mono',consolas,'Courier New',monospace\"><span style=\"color: #f8f8f2; text-decoration-color: #f8f8f2; background-color: #272822\">(</span><span style=\"color: #a6e22e; text-decoration-color: #a6e22e; background-color: #272822\">CREATE_COIN</span><span style=\"color: #f8f8f2; text-decoration-color: #f8f8f2; background-color: #272822\"> </span><span style=\"color: #ae81ff; text-decoration-color: #ae81ff; background-color: #272822\">0</span><span style=\"color: #f8f8f2; text-decoration-color: #f8f8f2; background-color: #272822\">x6dec61e20403ddbcc395cfb9b1b69eb73b10f19c5673972aec2079c3b40df9b6 </span><span style=\"color: #ae81ff; text-decoration-color: #ae81ff; background-color: #272822\">1000</span><span style=\"color: #f8f8f2; text-decoration-color: #f8f8f2; background-color: #272822\"> </span><span style=\"background-color: #272822\">                              </span>\n",
       "<span style=\"color: #f8f8f2; text-decoration-color: #f8f8f2; background-color: #272822\">(</span><span style=\"color: #ae81ff; text-decoration-color: #ae81ff; background-color: #272822\">0</span><span style=\"color: #f8f8f2; text-decoration-color: #f8f8f2; background-color: #272822\">x6dec61e20403ddbcc395cfb9b1b69eb73b10f19c5673972aec2079c3b40df9b6))</span><span style=\"background-color: #272822\">                                              </span>\n",
       "</pre>\n"
      ],
      "text/plain": [
       "\u001b[38;2;248;248;242;48;2;39;40;34m(\u001b[0m\u001b[38;2;166;226;46;48;2;39;40;34mCREATE_COIN\u001b[0m\u001b[38;2;248;248;242;48;2;39;40;34m \u001b[0m\u001b[38;2;174;129;255;48;2;39;40;34m0\u001b[0m\u001b[38;2;248;248;242;48;2;39;40;34mx6dec61e20403ddbcc395cfb9b1b69eb73b10f19c5673972aec2079c3b40df9b6\u001b[0m\u001b[38;2;248;248;242;48;2;39;40;34m \u001b[0m\u001b[38;2;174;129;255;48;2;39;40;34m1000\u001b[0m\u001b[38;2;248;248;242;48;2;39;40;34m \u001b[0m\u001b[48;2;39;40;34m                              \u001b[0m\n",
       "\u001b[38;2;248;248;242;48;2;39;40;34m(\u001b[0m\u001b[38;2;174;129;255;48;2;39;40;34m0\u001b[0m\u001b[38;2;248;248;242;48;2;39;40;34mx6dec61e20403ddbcc395cfb9b1b69eb73b10f19c5673972aec2079c3b40df9b6\u001b[0m\u001b[38;2;248;248;242;48;2;39;40;34m)\u001b[0m\u001b[38;2;248;248;242;48;2;39;40;34m)\u001b[0m\u001b[48;2;39;40;34m                                              \u001b[0m\n"
      ]
     },
     "metadata": {},
     "output_type": "display_data"
    },
    {
     "name": "stdout",
     "output_type": "stream",
     "text": [
      "Notarized Payment:\n"
     ]
    },
    {
     "data": {
      "text/html": [
       "<pre style=\"white-space:pre;overflow-x:auto;line-height:normal;font-family:Menlo,'DejaVu Sans Mono',consolas,'Courier New',monospace\"><span style=\"color: #f8f8f2; text-decoration-color: #f8f8f2; background-color: #272822\">(</span><span style=\"color: #a6e22e; text-decoration-color: #a6e22e; background-color: #272822\">CREATE_COIN</span><span style=\"color: #f8f8f2; text-decoration-color: #f8f8f2; background-color: #272822\"> </span><span style=\"color: #ae81ff; text-decoration-color: #ae81ff; background-color: #272822\">0</span><span style=\"color: #f8f8f2; text-decoration-color: #f8f8f2; background-color: #272822\">x2d545ccf93005c33b8020c7f905846b7c44d26e813e8979e61559deaaeeee9e4 </span><span style=\"color: #ae81ff; text-decoration-color: #ae81ff; background-color: #272822\">0</span><span style=\"color: #f8f8f2; text-decoration-color: #f8f8f2; background-color: #272822\">x19135f60 ())</span><span style=\"background-color: #272822\">                     </span>\n",
       "</pre>\n"
      ],
      "text/plain": [
       "\u001b[38;2;248;248;242;48;2;39;40;34m(\u001b[0m\u001b[38;2;166;226;46;48;2;39;40;34mCREATE_COIN\u001b[0m\u001b[38;2;248;248;242;48;2;39;40;34m \u001b[0m\u001b[38;2;174;129;255;48;2;39;40;34m0\u001b[0m\u001b[38;2;248;248;242;48;2;39;40;34mx2d545ccf93005c33b8020c7f905846b7c44d26e813e8979e61559deaaeeee9e4\u001b[0m\u001b[38;2;248;248;242;48;2;39;40;34m \u001b[0m\u001b[38;2;174;129;255;48;2;39;40;34m0\u001b[0m\u001b[38;2;248;248;242;48;2;39;40;34mx19135f60\u001b[0m\u001b[38;2;248;248;242;48;2;39;40;34m \u001b[0m\u001b[38;2;248;248;242;48;2;39;40;34m(\u001b[0m\u001b[38;2;248;248;242;48;2;39;40;34m)\u001b[0m\u001b[38;2;248;248;242;48;2;39;40;34m)\u001b[0m\u001b[48;2;39;40;34m                     \u001b[0m\n"
      ]
     },
     "metadata": {},
     "output_type": "display_data"
    },
    {
     "name": "stdout",
     "output_type": "stream",
     "text": [
      "CoinSpend:\n",
      "Coin:\n",
      "f8d7fefd1261cf4d44509e4a6c0d13a0a1abb2402be7d26806b279308f03c427\n",
      "Coin { parent_coin_info: b88c1c89f648ceae98d04c224fc6b4578031b3ef7c385b7aa6adf44bf60aa6e2, puzzle_hash: 6dec61e20403ddbcc395cfb9b1b69eb73b10f19c5673972aec2079c3b40df9b6, amount: 4989000000000 }\n",
      "\n",
      "Conditions\n"
     ]
    },
    {
     "data": {
      "text/html": [
       "<pre style=\"white-space:pre;overflow-x:auto;line-height:normal;font-family:Menlo,'DejaVu Sans Mono',consolas,'Courier New',monospace\"><span style=\"color: #f8f8f2; text-decoration-color: #f8f8f2; background-color: #272822\">(</span><span style=\"color: #a6e22e; text-decoration-color: #a6e22e; background-color: #272822\">AGG_SIG_ME</span><span style=\"color: #f8f8f2; text-decoration-color: #f8f8f2; background-color: #272822\"> </span><span style=\"color: #ae81ff; text-decoration-color: #ae81ff; background-color: #272822\">0</span><span style=\"color: #f8f8f2; text-decoration-color: #f8f8f2; background-color: #272822\">x98ff7e53d4ac3912a7ff2055aa27aed3f9d29eee70f566bed874535fe338a43c42df91761ac1bd78d821b1f4e7dd0854 </span><span style=\"background-color: #272822\">    </span>\n",
       "<span style=\"color: #ae81ff; text-decoration-color: #ae81ff; background-color: #272822\">0</span><span style=\"color: #f8f8f2; text-decoration-color: #f8f8f2; background-color: #272822\">x988ea9574f63550891ecf2bba960a7359d1011ed8faa2d68b98979302a87c797)</span><span style=\"background-color: #272822\">                                                </span>\n",
       "</pre>\n"
      ],
      "text/plain": [
       "\u001b[38;2;248;248;242;48;2;39;40;34m(\u001b[0m\u001b[38;2;166;226;46;48;2;39;40;34mAGG_SIG_ME\u001b[0m\u001b[38;2;248;248;242;48;2;39;40;34m \u001b[0m\u001b[38;2;174;129;255;48;2;39;40;34m0\u001b[0m\u001b[38;2;248;248;242;48;2;39;40;34mx98ff7e53d4ac3912a7ff2055aa27aed3f9d29eee70f566bed874535fe338a43c42df91761ac1bd78d821b1f4e7dd0854\u001b[0m\u001b[38;2;248;248;242;48;2;39;40;34m \u001b[0m\u001b[48;2;39;40;34m    \u001b[0m\n",
       "\u001b[38;2;174;129;255;48;2;39;40;34m0\u001b[0m\u001b[38;2;248;248;242;48;2;39;40;34mx988ea9574f63550891ecf2bba960a7359d1011ed8faa2d68b98979302a87c797\u001b[0m\u001b[38;2;248;248;242;48;2;39;40;34m)\u001b[0m\u001b[48;2;39;40;34m                                                \u001b[0m\n"
      ]
     },
     "metadata": {},
     "output_type": "display_data"
    },
    {
     "data": {
      "text/html": [
       "<pre style=\"white-space:pre;overflow-x:auto;line-height:normal;font-family:Menlo,'DejaVu Sans Mono',consolas,'Courier New',monospace\"><span style=\"color: #f8f8f2; text-decoration-color: #f8f8f2; background-color: #272822\">(</span><span style=\"color: #a6e22e; text-decoration-color: #a6e22e; background-color: #272822\">CREATE_COIN</span><span style=\"color: #f8f8f2; text-decoration-color: #f8f8f2; background-color: #272822\"> </span><span style=\"color: #ae81ff; text-decoration-color: #ae81ff; background-color: #272822\">0</span><span style=\"color: #f8f8f2; text-decoration-color: #f8f8f2; background-color: #272822\">xbae24162efbd568f89bc7a340798a6118df0189eb9e3f8697bcea27af99f8f79 </span><span style=\"color: #ae81ff; text-decoration-color: #ae81ff; background-color: #272822\">0</span><span style=\"color: #f8f8f2; text-decoration-color: #f8f8f2; background-color: #272822\">x19135f60)</span><span style=\"background-color: #272822\">                        </span>\n",
       "</pre>\n"
      ],
      "text/plain": [
       "\u001b[38;2;248;248;242;48;2;39;40;34m(\u001b[0m\u001b[38;2;166;226;46;48;2;39;40;34mCREATE_COIN\u001b[0m\u001b[38;2;248;248;242;48;2;39;40;34m \u001b[0m\u001b[38;2;174;129;255;48;2;39;40;34m0\u001b[0m\u001b[38;2;248;248;242;48;2;39;40;34mxbae24162efbd568f89bc7a340798a6118df0189eb9e3f8697bcea27af99f8f79\u001b[0m\u001b[38;2;248;248;242;48;2;39;40;34m \u001b[0m\u001b[38;2;174;129;255;48;2;39;40;34m0\u001b[0m\u001b[38;2;248;248;242;48;2;39;40;34mx19135f60\u001b[0m\u001b[38;2;248;248;242;48;2;39;40;34m)\u001b[0m\u001b[48;2;39;40;34m                        \u001b[0m\n"
      ]
     },
     "metadata": {},
     "output_type": "display_data"
    },
    {
     "data": {
      "text/html": [
       "<pre style=\"white-space:pre;overflow-x:auto;line-height:normal;font-family:Menlo,'DejaVu Sans Mono',consolas,'Courier New',monospace\"><span style=\"color: #f8f8f2; text-decoration-color: #f8f8f2; background-color: #272822\">(</span><span style=\"color: #a6e22e; text-decoration-color: #a6e22e; background-color: #272822\">RESERVE_FEE</span><span style=\"color: #f8f8f2; text-decoration-color: #f8f8f2; background-color: #272822\"> </span><span style=\"color: #ae81ff; text-decoration-color: #ae81ff; background-color: #272822\">0</span><span style=\"color: #f8f8f2; text-decoration-color: #f8f8f2; background-color: #272822\">x1dcd6500)</span><span style=\"background-color: #272822\">                                                                                           </span>\n",
       "</pre>\n"
      ],
      "text/plain": [
       "\u001b[38;2;248;248;242;48;2;39;40;34m(\u001b[0m\u001b[38;2;166;226;46;48;2;39;40;34mRESERVE_FEE\u001b[0m\u001b[38;2;248;248;242;48;2;39;40;34m \u001b[0m\u001b[38;2;174;129;255;48;2;39;40;34m0\u001b[0m\u001b[38;2;248;248;242;48;2;39;40;34mx1dcd6500\u001b[0m\u001b[38;2;248;248;242;48;2;39;40;34m)\u001b[0m\u001b[48;2;39;40;34m                                                                                           \u001b[0m\n"
      ]
     },
     "metadata": {},
     "output_type": "display_data"
    },
    {
     "data": {
      "text/html": [
       "<pre style=\"white-space:pre;overflow-x:auto;line-height:normal;font-family:Menlo,'DejaVu Sans Mono',consolas,'Courier New',monospace\"><span style=\"color: #f8f8f2; text-decoration-color: #f8f8f2; background-color: #272822\">(</span><span style=\"color: #a6e22e; text-decoration-color: #a6e22e; background-color: #272822\">CREATE_COIN</span><span style=\"color: #f8f8f2; text-decoration-color: #f8f8f2; background-color: #272822\"> </span><span style=\"color: #ae81ff; text-decoration-color: #ae81ff; background-color: #272822\">0</span><span style=\"color: #f8f8f2; text-decoration-color: #f8f8f2; background-color: #272822\">x6dec61e20403ddbcc395cfb9b1b69eb73b10f19c5673972aec2079c3b40df9b6 </span><span style=\"color: #ae81ff; text-decoration-color: #ae81ff; background-color: #272822\">0</span><span style=\"color: #f8f8f2; text-decoration-color: #f8f8f2; background-color: #272822\">x048960b1dda0)</span><span style=\"background-color: #272822\">                    </span>\n",
       "</pre>\n"
      ],
      "text/plain": [
       "\u001b[38;2;248;248;242;48;2;39;40;34m(\u001b[0m\u001b[38;2;166;226;46;48;2;39;40;34mCREATE_COIN\u001b[0m\u001b[38;2;248;248;242;48;2;39;40;34m \u001b[0m\u001b[38;2;174;129;255;48;2;39;40;34m0\u001b[0m\u001b[38;2;248;248;242;48;2;39;40;34mx6dec61e20403ddbcc395cfb9b1b69eb73b10f19c5673972aec2079c3b40df9b6\u001b[0m\u001b[38;2;248;248;242;48;2;39;40;34m \u001b[0m\u001b[38;2;174;129;255;48;2;39;40;34m0\u001b[0m\u001b[38;2;248;248;242;48;2;39;40;34mx048960b1dda0\u001b[0m\u001b[38;2;248;248;242;48;2;39;40;34m)\u001b[0m\u001b[48;2;39;40;34m                    \u001b[0m\n"
      ]
     },
     "metadata": {},
     "output_type": "display_data"
    },
    {
     "data": {
      "text/html": [
       "<pre style=\"white-space:pre;overflow-x:auto;line-height:normal;font-family:Menlo,'DejaVu Sans Mono',consolas,'Courier New',monospace\"><span style=\"color: #f8f8f2; text-decoration-color: #f8f8f2; background-color: #272822\">(</span><span style=\"color: #a6e22e; text-decoration-color: #a6e22e; background-color: #272822\">ASSERT_PUZZLE_ANNOUNCEMENT</span><span style=\"color: #f8f8f2; text-decoration-color: #f8f8f2; background-color: #272822\"> </span><span style=\"color: #ae81ff; text-decoration-color: #ae81ff; background-color: #272822\">0</span><span style=\"color: #f8f8f2; text-decoration-color: #f8f8f2; background-color: #272822\">x95ddff829a6e8a59290cd7dc91659bc16fffbb1ceb140fa84465249a147c444d)</span><span style=\"background-color: #272822\">                    </span>\n",
       "</pre>\n"
      ],
      "text/plain": [
       "\u001b[38;2;248;248;242;48;2;39;40;34m(\u001b[0m\u001b[38;2;166;226;46;48;2;39;40;34mASSERT_PUZZLE_ANNOUNCEMENT\u001b[0m\u001b[38;2;248;248;242;48;2;39;40;34m \u001b[0m\u001b[38;2;174;129;255;48;2;39;40;34m0\u001b[0m\u001b[38;2;248;248;242;48;2;39;40;34mx95ddff829a6e8a59290cd7dc91659bc16fffbb1ceb140fa84465249a147c444d\u001b[0m\u001b[38;2;248;248;242;48;2;39;40;34m)\u001b[0m\u001b[48;2;39;40;34m                    \u001b[0m\n"
      ]
     },
     "metadata": {},
     "output_type": "display_data"
    },
    {
     "data": {
      "text/html": [
       "<pre style=\"white-space:pre;overflow-x:auto;line-height:normal;font-family:Menlo,'DejaVu Sans Mono',consolas,'Courier New',monospace\"><span style=\"color: #f8f8f2; text-decoration-color: #f8f8f2; background-color: #272822\">(</span><span style=\"color: #a6e22e; text-decoration-color: #a6e22e; background-color: #272822\">CREATE_COIN_ANNOUNCEMENT</span><span style=\"color: #f8f8f2; text-decoration-color: #f8f8f2; background-color: #272822\"> </span><span style=\"color: #ae81ff; text-decoration-color: #ae81ff; background-color: #272822\">0</span><span style=\"color: #f8f8f2; text-decoration-color: #f8f8f2; background-color: #272822\">x40e4ca0b005b83817847c625bd8773f0ac7eb45a950cc355521a48733f30800f)</span><span style=\"background-color: #272822\">                      </span>\n",
       "</pre>\n"
      ],
      "text/plain": [
       "\u001b[38;2;248;248;242;48;2;39;40;34m(\u001b[0m\u001b[38;2;166;226;46;48;2;39;40;34mCREATE_COIN_ANNOUNCEMENT\u001b[0m\u001b[38;2;248;248;242;48;2;39;40;34m \u001b[0m\u001b[38;2;174;129;255;48;2;39;40;34m0\u001b[0m\u001b[38;2;248;248;242;48;2;39;40;34mx40e4ca0b005b83817847c625bd8773f0ac7eb45a950cc355521a48733f30800f\u001b[0m\u001b[38;2;248;248;242;48;2;39;40;34m)\u001b[0m\u001b[48;2;39;40;34m                      \u001b[0m\n"
      ]
     },
     "metadata": {},
     "output_type": "display_data"
    },
    {
     "name": "stdout",
     "output_type": "stream",
     "text": [
      "Coin:\n",
      "76f55ce8e980b8551aa2c621c77488cf4255e883b6fb117bc4148ce64c757f94\n",
      "Coin { parent_coin_info: fa73b9821c85609e5b8a33bf7c847bbc1e818cde0da87814a818e5a2318a89cd, puzzle_hash: bf7fbe8ee9e2b4f78783f9b3f3fade412051ee6126df7e5cb12db1af03377776, amount: 5000 }\n",
      "\n",
      "Conditions\n"
     ]
    },
    {
     "data": {
      "text/html": [
       "<pre style=\"white-space:pre;overflow-x:auto;line-height:normal;font-family:Menlo,'DejaVu Sans Mono',consolas,'Courier New',monospace\"><span style=\"color: #f8f8f2; text-decoration-color: #f8f8f2; background-color: #272822\">(</span><span style=\"color: #a6e22e; text-decoration-color: #a6e22e; background-color: #272822\">ASSERT_MY_COIN_ID</span><span style=\"color: #f8f8f2; text-decoration-color: #f8f8f2; background-color: #272822\"> </span><span style=\"color: #ae81ff; text-decoration-color: #ae81ff; background-color: #272822\">0</span><span style=\"color: #f8f8f2; text-decoration-color: #f8f8f2; background-color: #272822\">x76f55ce8e980b8551aa2c621c77488cf4255e883b6fb117bc4148ce64c757f94)</span><span style=\"background-color: #272822\">                             </span>\n",
       "</pre>\n"
      ],
      "text/plain": [
       "\u001b[38;2;248;248;242;48;2;39;40;34m(\u001b[0m\u001b[38;2;166;226;46;48;2;39;40;34mASSERT_MY_COIN_ID\u001b[0m\u001b[38;2;248;248;242;48;2;39;40;34m \u001b[0m\u001b[38;2;174;129;255;48;2;39;40;34m0\u001b[0m\u001b[38;2;248;248;242;48;2;39;40;34mx76f55ce8e980b8551aa2c621c77488cf4255e883b6fb117bc4148ce64c757f94\u001b[0m\u001b[38;2;248;248;242;48;2;39;40;34m)\u001b[0m\u001b[48;2;39;40;34m                             \u001b[0m\n"
      ]
     },
     "metadata": {},
     "output_type": "display_data"
    },
    {
     "data": {
      "text/html": [
       "<pre style=\"white-space:pre;overflow-x:auto;line-height:normal;font-family:Menlo,'DejaVu Sans Mono',consolas,'Courier New',monospace\"><span style=\"color: #f8f8f2; text-decoration-color: #f8f8f2; background-color: #272822\">(</span><span style=\"color: #a6e22e; text-decoration-color: #a6e22e; background-color: #272822\">CREATE_COIN_ANNOUNCEMENT</span><span style=\"color: #f8f8f2; text-decoration-color: #f8f8f2; background-color: #272822\"> </span><span style=\"color: #ae81ff; text-decoration-color: #ae81ff; background-color: #272822\">0</span><span style=\"color: #f8f8f2; text-decoration-color: #f8f8f2; background-color: #272822\">xcb1025ad8f278de31f14afe47c283a533fa29c8032de1e47dc90d2ccc9d5b732c6)</span><span style=\"background-color: #272822\">                    </span>\n",
       "</pre>\n"
      ],
      "text/plain": [
       "\u001b[38;2;248;248;242;48;2;39;40;34m(\u001b[0m\u001b[38;2;166;226;46;48;2;39;40;34mCREATE_COIN_ANNOUNCEMENT\u001b[0m\u001b[38;2;248;248;242;48;2;39;40;34m \u001b[0m\u001b[38;2;174;129;255;48;2;39;40;34m0\u001b[0m\u001b[38;2;248;248;242;48;2;39;40;34mxcb1025ad8f278de31f14afe47c283a533fa29c8032de1e47dc90d2ccc9d5b732c6\u001b[0m\u001b[38;2;248;248;242;48;2;39;40;34m)\u001b[0m\u001b[48;2;39;40;34m                    \u001b[0m\n"
      ]
     },
     "metadata": {},
     "output_type": "display_data"
    },
    {
     "data": {
      "text/html": [
       "<pre style=\"white-space:pre;overflow-x:auto;line-height:normal;font-family:Menlo,'DejaVu Sans Mono',consolas,'Courier New',monospace\"><span style=\"color: #f8f8f2; text-decoration-color: #f8f8f2; background-color: #272822\">(</span><span style=\"color: #a6e22e; text-decoration-color: #a6e22e; background-color: #272822\">ASSERT_COIN_ANNOUNCEMENT</span><span style=\"color: #f8f8f2; text-decoration-color: #f8f8f2; background-color: #272822\"> </span><span style=\"color: #ae81ff; text-decoration-color: #ae81ff; background-color: #272822\">0</span><span style=\"color: #f8f8f2; text-decoration-color: #f8f8f2; background-color: #272822\">x7cba513965862165136fdaf65de045263b313993066bb67c6df909a1cf9d4137)</span><span style=\"background-color: #272822\">                      </span>\n",
       "</pre>\n"
      ],
      "text/plain": [
       "\u001b[38;2;248;248;242;48;2;39;40;34m(\u001b[0m\u001b[38;2;166;226;46;48;2;39;40;34mASSERT_COIN_ANNOUNCEMENT\u001b[0m\u001b[38;2;248;248;242;48;2;39;40;34m \u001b[0m\u001b[38;2;174;129;255;48;2;39;40;34m0\u001b[0m\u001b[38;2;248;248;242;48;2;39;40;34mx7cba513965862165136fdaf65de045263b313993066bb67c6df909a1cf9d4137\u001b[0m\u001b[38;2;248;248;242;48;2;39;40;34m)\u001b[0m\u001b[48;2;39;40;34m                      \u001b[0m\n"
      ]
     },
     "metadata": {},
     "output_type": "display_data"
    },
    {
     "data": {
      "text/html": [
       "<pre style=\"white-space:pre;overflow-x:auto;line-height:normal;font-family:Menlo,'DejaVu Sans Mono',consolas,'Courier New',monospace\"><span style=\"color: #f8f8f2; text-decoration-color: #f8f8f2; background-color: #272822\">(</span><span style=\"color: #a6e22e; text-decoration-color: #a6e22e; background-color: #272822\">AGG_SIG_ME</span><span style=\"color: #f8f8f2; text-decoration-color: #f8f8f2; background-color: #272822\"> </span><span style=\"color: #ae81ff; text-decoration-color: #ae81ff; background-color: #272822\">0</span><span style=\"color: #f8f8f2; text-decoration-color: #f8f8f2; background-color: #272822\">x8d6951aa12bb031c541b21e43412d741dc2446cb00b8756bc05b82e5d705b46db5ec7fbd251c50c640fd182852c8f0b8 </span><span style=\"background-color: #272822\">    </span>\n",
       "<span style=\"color: #ae81ff; text-decoration-color: #ae81ff; background-color: #272822\">0</span><span style=\"color: #f8f8f2; text-decoration-color: #f8f8f2; background-color: #272822\">x57b32c5d89afad77c71ac73155a56eaf5aebd46b7da135f619730e20f50a02ef)</span><span style=\"background-color: #272822\">                                                </span>\n",
       "</pre>\n"
      ],
      "text/plain": [
       "\u001b[38;2;248;248;242;48;2;39;40;34m(\u001b[0m\u001b[38;2;166;226;46;48;2;39;40;34mAGG_SIG_ME\u001b[0m\u001b[38;2;248;248;242;48;2;39;40;34m \u001b[0m\u001b[38;2;174;129;255;48;2;39;40;34m0\u001b[0m\u001b[38;2;248;248;242;48;2;39;40;34mx8d6951aa12bb031c541b21e43412d741dc2446cb00b8756bc05b82e5d705b46db5ec7fbd251c50c640fd182852c8f0b8\u001b[0m\u001b[38;2;248;248;242;48;2;39;40;34m \u001b[0m\u001b[48;2;39;40;34m    \u001b[0m\n",
       "\u001b[38;2;174;129;255;48;2;39;40;34m0\u001b[0m\u001b[38;2;248;248;242;48;2;39;40;34mx57b32c5d89afad77c71ac73155a56eaf5aebd46b7da135f619730e20f50a02ef\u001b[0m\u001b[38;2;248;248;242;48;2;39;40;34m)\u001b[0m\u001b[48;2;39;40;34m                                                \u001b[0m\n"
      ]
     },
     "metadata": {},
     "output_type": "display_data"
    },
    {
     "data": {
      "text/html": [
       "<pre style=\"white-space:pre;overflow-x:auto;line-height:normal;font-family:Menlo,'DejaVu Sans Mono',consolas,'Courier New',monospace\"><span style=\"color: #f8f8f2; text-decoration-color: #f8f8f2; background-color: #272822\">(</span><span style=\"color: #a6e22e; text-decoration-color: #a6e22e; background-color: #272822\">CREATE_COIN</span><span style=\"color: #f8f8f2; text-decoration-color: #f8f8f2; background-color: #272822\"> </span><span style=\"color: #ae81ff; text-decoration-color: #ae81ff; background-color: #272822\">0</span><span style=\"color: #f8f8f2; text-decoration-color: #f8f8f2; background-color: #272822\">xdbcb4fee7e94946b713ae68e669df3285ca40acd64d06a5cfc8e3c748c7e7bdb </span><span style=\"color: #ae81ff; text-decoration-color: #ae81ff; background-color: #272822\">1000</span><span style=\"color: #f8f8f2; text-decoration-color: #f8f8f2; background-color: #272822\"> </span><span style=\"background-color: #272822\">                              </span>\n",
       "<span style=\"color: #f8f8f2; text-decoration-color: #f8f8f2; background-color: #272822\">(</span><span style=\"color: #ae81ff; text-decoration-color: #ae81ff; background-color: #272822\">0</span><span style=\"color: #f8f8f2; text-decoration-color: #f8f8f2; background-color: #272822\">xbae24162efbd568f89bc7a340798a6118df0189eb9e3f8697bcea27af99f8f79))</span><span style=\"background-color: #272822\">                                              </span>\n",
       "</pre>\n"
      ],
      "text/plain": [
       "\u001b[38;2;248;248;242;48;2;39;40;34m(\u001b[0m\u001b[38;2;166;226;46;48;2;39;40;34mCREATE_COIN\u001b[0m\u001b[38;2;248;248;242;48;2;39;40;34m \u001b[0m\u001b[38;2;174;129;255;48;2;39;40;34m0\u001b[0m\u001b[38;2;248;248;242;48;2;39;40;34mxdbcb4fee7e94946b713ae68e669df3285ca40acd64d06a5cfc8e3c748c7e7bdb\u001b[0m\u001b[38;2;248;248;242;48;2;39;40;34m \u001b[0m\u001b[38;2;174;129;255;48;2;39;40;34m1000\u001b[0m\u001b[38;2;248;248;242;48;2;39;40;34m \u001b[0m\u001b[48;2;39;40;34m                              \u001b[0m\n",
       "\u001b[38;2;248;248;242;48;2;39;40;34m(\u001b[0m\u001b[38;2;174;129;255;48;2;39;40;34m0\u001b[0m\u001b[38;2;248;248;242;48;2;39;40;34mxbae24162efbd568f89bc7a340798a6118df0189eb9e3f8697bcea27af99f8f79\u001b[0m\u001b[38;2;248;248;242;48;2;39;40;34m)\u001b[0m\u001b[38;2;248;248;242;48;2;39;40;34m)\u001b[0m\u001b[48;2;39;40;34m                                              \u001b[0m\n"
      ]
     },
     "metadata": {},
     "output_type": "display_data"
    },
    {
     "data": {
      "text/html": [
       "<pre style=\"white-space:pre;overflow-x:auto;line-height:normal;font-family:Menlo,'DejaVu Sans Mono',consolas,'Courier New',monospace\"><span style=\"color: #f8f8f2; text-decoration-color: #f8f8f2; background-color: #272822\">(</span><span style=\"color: #a6e22e; text-decoration-color: #a6e22e; background-color: #272822\">CREATE_COIN</span><span style=\"color: #f8f8f2; text-decoration-color: #f8f8f2; background-color: #272822\"> </span><span style=\"color: #ae81ff; text-decoration-color: #ae81ff; background-color: #272822\">0</span><span style=\"color: #f8f8f2; text-decoration-color: #f8f8f2; background-color: #272822\">x2de580cc705b9ff9d2f951de5f5b22d93f9ff639c9f201f27c7695be80602ea0 </span><span style=\"color: #ae81ff; text-decoration-color: #ae81ff; background-color: #272822\">4000</span><span style=\"color: #f8f8f2; text-decoration-color: #f8f8f2; background-color: #272822\">)</span><span style=\"background-color: #272822\">                              </span>\n",
       "</pre>\n"
      ],
      "text/plain": [
       "\u001b[38;2;248;248;242;48;2;39;40;34m(\u001b[0m\u001b[38;2;166;226;46;48;2;39;40;34mCREATE_COIN\u001b[0m\u001b[38;2;248;248;242;48;2;39;40;34m \u001b[0m\u001b[38;2;174;129;255;48;2;39;40;34m0\u001b[0m\u001b[38;2;248;248;242;48;2;39;40;34mx2de580cc705b9ff9d2f951de5f5b22d93f9ff639c9f201f27c7695be80602ea0\u001b[0m\u001b[38;2;248;248;242;48;2;39;40;34m \u001b[0m\u001b[38;2;174;129;255;48;2;39;40;34m4000\u001b[0m\u001b[38;2;248;248;242;48;2;39;40;34m)\u001b[0m\u001b[48;2;39;40;34m                              \u001b[0m\n"
      ]
     },
     "metadata": {},
     "output_type": "display_data"
    },
    {
     "data": {
      "text/html": [
       "<pre style=\"white-space:pre;overflow-x:auto;line-height:normal;font-family:Menlo,'DejaVu Sans Mono',consolas,'Courier New',monospace\"><span style=\"color: #f8f8f2; text-decoration-color: #f8f8f2; background-color: #272822\">(</span><span style=\"color: #a6e22e; text-decoration-color: #a6e22e; background-color: #272822\">CREATE_COIN_ANNOUNCEMENT</span><span style=\"color: #f8f8f2; text-decoration-color: #f8f8f2; background-color: #272822\"> </span><span style=\"color: #ae81ff; text-decoration-color: #ae81ff; background-color: #272822\">0</span><span style=\"color: #f8f8f2; text-decoration-color: #f8f8f2; background-color: #272822\">x3f37280c99d5718d4c5e838b95c57655ff5304a50d15cb14acb73655867183dd)</span><span style=\"background-color: #272822\">                      </span>\n",
       "</pre>\n"
      ],
      "text/plain": [
       "\u001b[38;2;248;248;242;48;2;39;40;34m(\u001b[0m\u001b[38;2;166;226;46;48;2;39;40;34mCREATE_COIN_ANNOUNCEMENT\u001b[0m\u001b[38;2;248;248;242;48;2;39;40;34m \u001b[0m\u001b[38;2;174;129;255;48;2;39;40;34m0\u001b[0m\u001b[38;2;248;248;242;48;2;39;40;34mx3f37280c99d5718d4c5e838b95c57655ff5304a50d15cb14acb73655867183dd\u001b[0m\u001b[38;2;248;248;242;48;2;39;40;34m)\u001b[0m\u001b[48;2;39;40;34m                      \u001b[0m\n"
      ]
     },
     "metadata": {},
     "output_type": "display_data"
    },
    {
     "data": {
      "text/html": [
       "<pre style=\"white-space:pre;overflow-x:auto;line-height:normal;font-family:Menlo,'DejaVu Sans Mono',consolas,'Courier New',monospace\"><span style=\"color: #f8f8f2; text-decoration-color: #f8f8f2; background-color: #272822\">(</span><span style=\"color: #a6e22e; text-decoration-color: #a6e22e; background-color: #272822\">ASSERT_PUZZLE_ANNOUNCEMENT</span><span style=\"color: #f8f8f2; text-decoration-color: #f8f8f2; background-color: #272822\"> </span><span style=\"color: #ae81ff; text-decoration-color: #ae81ff; background-color: #272822\">0</span><span style=\"color: #f8f8f2; text-decoration-color: #f8f8f2; background-color: #272822\">xfcce84769db0227d0db9f90a6232358d6c428109ca08a9836589982c99e29b70)</span><span style=\"background-color: #272822\">                    </span>\n",
       "</pre>\n"
      ],
      "text/plain": [
       "\u001b[38;2;248;248;242;48;2;39;40;34m(\u001b[0m\u001b[38;2;166;226;46;48;2;39;40;34mASSERT_PUZZLE_ANNOUNCEMENT\u001b[0m\u001b[38;2;248;248;242;48;2;39;40;34m \u001b[0m\u001b[38;2;174;129;255;48;2;39;40;34m0\u001b[0m\u001b[38;2;248;248;242;48;2;39;40;34mxfcce84769db0227d0db9f90a6232358d6c428109ca08a9836589982c99e29b70\u001b[0m\u001b[38;2;248;248;242;48;2;39;40;34m)\u001b[0m\u001b[48;2;39;40;34m                    \u001b[0m\n"
      ]
     },
     "metadata": {},
     "output_type": "display_data"
    },
    {
     "name": "stdout",
     "output_type": "stream",
     "text": [
      "Coin:\n",
      "e449faa01f2a6a2312defdfc0180d7e49579db0532f559c0dcc3b85d3fcb915a\n",
      "Coin { parent_coin_info: 87b9668a0214184bab78bda218c9a1c0328cd2824cff9d343c80dc5352a94840, puzzle_hash: 5208dd26b5a1776c513c5cc31612c7d1598ec5c4582928bbce9cc82f08df2cfa, amount: 4995000000000 }\n",
      "\n",
      "Conditions\n"
     ]
    },
    {
     "data": {
      "text/html": [
       "<pre style=\"white-space:pre;overflow-x:auto;line-height:normal;font-family:Menlo,'DejaVu Sans Mono',consolas,'Courier New',monospace\"><span style=\"color: #f8f8f2; text-decoration-color: #f8f8f2; background-color: #272822\">(</span><span style=\"color: #a6e22e; text-decoration-color: #a6e22e; background-color: #272822\">AGG_SIG_ME</span><span style=\"color: #f8f8f2; text-decoration-color: #f8f8f2; background-color: #272822\"> </span><span style=\"color: #ae81ff; text-decoration-color: #ae81ff; background-color: #272822\">0</span><span style=\"color: #f8f8f2; text-decoration-color: #f8f8f2; background-color: #272822\">xb15abf4b49ee082d5dee85ab60f35e1653904a4e3f1f5efb0e8d5139e3aeb88e2113648f701022bfb7a012b07c92ecc9 </span><span style=\"background-color: #272822\">    </span>\n",
       "<span style=\"color: #ae81ff; text-decoration-color: #ae81ff; background-color: #272822\">0</span><span style=\"color: #f8f8f2; text-decoration-color: #f8f8f2; background-color: #272822\">x8c66c48b5c7b2663969e887a40f1d6257ad693de8e2a86cf5049a9896b6e1ca7)</span><span style=\"background-color: #272822\">                                                </span>\n",
       "</pre>\n"
      ],
      "text/plain": [
       "\u001b[38;2;248;248;242;48;2;39;40;34m(\u001b[0m\u001b[38;2;166;226;46;48;2;39;40;34mAGG_SIG_ME\u001b[0m\u001b[38;2;248;248;242;48;2;39;40;34m \u001b[0m\u001b[38;2;174;129;255;48;2;39;40;34m0\u001b[0m\u001b[38;2;248;248;242;48;2;39;40;34mxb15abf4b49ee082d5dee85ab60f35e1653904a4e3f1f5efb0e8d5139e3aeb88e2113648f701022bfb7a012b07c92ecc9\u001b[0m\u001b[38;2;248;248;242;48;2;39;40;34m \u001b[0m\u001b[48;2;39;40;34m    \u001b[0m\n",
       "\u001b[38;2;174;129;255;48;2;39;40;34m0\u001b[0m\u001b[38;2;248;248;242;48;2;39;40;34mx8c66c48b5c7b2663969e887a40f1d6257ad693de8e2a86cf5049a9896b6e1ca7\u001b[0m\u001b[38;2;248;248;242;48;2;39;40;34m)\u001b[0m\u001b[48;2;39;40;34m                                                \u001b[0m\n"
      ]
     },
     "metadata": {},
     "output_type": "display_data"
    },
    {
     "data": {
      "text/html": [
       "<pre style=\"white-space:pre;overflow-x:auto;line-height:normal;font-family:Menlo,'DejaVu Sans Mono',consolas,'Courier New',monospace\"><span style=\"color: #f8f8f2; text-decoration-color: #f8f8f2; background-color: #272822\">(</span><span style=\"color: #a6e22e; text-decoration-color: #a6e22e; background-color: #272822\">CREATE_COIN</span><span style=\"color: #f8f8f2; text-decoration-color: #f8f8f2; background-color: #272822\"> </span><span style=\"color: #ae81ff; text-decoration-color: #ae81ff; background-color: #272822\">0</span><span style=\"color: #f8f8f2; text-decoration-color: #f8f8f2; background-color: #272822\">x3069abd7dc68d67a21254a8a0a15e6c00dd541084be11c90e42b69e61b95c9aa </span><span style=\"color: #ae81ff; text-decoration-color: #ae81ff; background-color: #272822\">0</span><span style=\"color: #f8f8f2; text-decoration-color: #f8f8f2; background-color: #272822\">x048afa386d80)</span><span style=\"background-color: #272822\">                    </span>\n",
       "</pre>\n"
      ],
      "text/plain": [
       "\u001b[38;2;248;248;242;48;2;39;40;34m(\u001b[0m\u001b[38;2;166;226;46;48;2;39;40;34mCREATE_COIN\u001b[0m\u001b[38;2;248;248;242;48;2;39;40;34m \u001b[0m\u001b[38;2;174;129;255;48;2;39;40;34m0\u001b[0m\u001b[38;2;248;248;242;48;2;39;40;34mx3069abd7dc68d67a21254a8a0a15e6c00dd541084be11c90e42b69e61b95c9aa\u001b[0m\u001b[38;2;248;248;242;48;2;39;40;34m \u001b[0m\u001b[38;2;174;129;255;48;2;39;40;34m0\u001b[0m\u001b[38;2;248;248;242;48;2;39;40;34mx048afa386d80\u001b[0m\u001b[38;2;248;248;242;48;2;39;40;34m)\u001b[0m\u001b[48;2;39;40;34m                    \u001b[0m\n"
      ]
     },
     "metadata": {},
     "output_type": "display_data"
    },
    {
     "data": {
      "text/html": [
       "<pre style=\"white-space:pre;overflow-x:auto;line-height:normal;font-family:Menlo,'DejaVu Sans Mono',consolas,'Courier New',monospace\"><span style=\"color: #f8f8f2; text-decoration-color: #f8f8f2; background-color: #272822\">(</span><span style=\"color: #a6e22e; text-decoration-color: #a6e22e; background-color: #272822\">RESERVE_FEE</span><span style=\"color: #f8f8f2; text-decoration-color: #f8f8f2; background-color: #272822\"> </span><span style=\"color: #ae81ff; text-decoration-color: #ae81ff; background-color: #272822\">0</span><span style=\"color: #f8f8f2; text-decoration-color: #f8f8f2; background-color: #272822\">x02faf080)</span><span style=\"background-color: #272822\">                                                                                           </span>\n",
       "</pre>\n"
      ],
      "text/plain": [
       "\u001b[38;2;248;248;242;48;2;39;40;34m(\u001b[0m\u001b[38;2;166;226;46;48;2;39;40;34mRESERVE_FEE\u001b[0m\u001b[38;2;248;248;242;48;2;39;40;34m \u001b[0m\u001b[38;2;174;129;255;48;2;39;40;34m0\u001b[0m\u001b[38;2;248;248;242;48;2;39;40;34mx02faf080\u001b[0m\u001b[38;2;248;248;242;48;2;39;40;34m)\u001b[0m\u001b[48;2;39;40;34m                                                                                           \u001b[0m\n"
      ]
     },
     "metadata": {},
     "output_type": "display_data"
    },
    {
     "data": {
      "text/html": [
       "<pre style=\"white-space:pre;overflow-x:auto;line-height:normal;font-family:Menlo,'DejaVu Sans Mono',consolas,'Courier New',monospace\"><span style=\"color: #f8f8f2; text-decoration-color: #f8f8f2; background-color: #272822\">(</span><span style=\"color: #a6e22e; text-decoration-color: #a6e22e; background-color: #272822\">CREATE_COIN_ANNOUNCEMENT</span><span style=\"color: #f8f8f2; text-decoration-color: #f8f8f2; background-color: #272822\"> </span><span style=\"color: #ae81ff; text-decoration-color: #ae81ff; background-color: #272822\">0</span><span style=\"color: #f8f8f2; text-decoration-color: #f8f8f2; background-color: #272822\">x60a013af34b43c0ea5602b8f862097c3f0089a6d0eebf7bc46b8ad79d813f85a)</span><span style=\"background-color: #272822\">                      </span>\n",
       "</pre>\n"
      ],
      "text/plain": [
       "\u001b[38;2;248;248;242;48;2;39;40;34m(\u001b[0m\u001b[38;2;166;226;46;48;2;39;40;34mCREATE_COIN_ANNOUNCEMENT\u001b[0m\u001b[38;2;248;248;242;48;2;39;40;34m \u001b[0m\u001b[38;2;174;129;255;48;2;39;40;34m0\u001b[0m\u001b[38;2;248;248;242;48;2;39;40;34mx60a013af34b43c0ea5602b8f862097c3f0089a6d0eebf7bc46b8ad79d813f85a\u001b[0m\u001b[38;2;248;248;242;48;2;39;40;34m)\u001b[0m\u001b[48;2;39;40;34m                      \u001b[0m\n"
      ]
     },
     "metadata": {},
     "output_type": "display_data"
    },
    {
     "data": {
      "text/html": [
       "<pre style=\"white-space:pre;overflow-x:auto;line-height:normal;font-family:Menlo,'DejaVu Sans Mono',consolas,'Courier New',monospace\"><span style=\"color: #f8f8f2; text-decoration-color: #f8f8f2; background-color: #272822\">(</span><span style=\"color: #a6e22e; text-decoration-color: #a6e22e; background-color: #272822\">ASSERT_COIN_ANNOUNCEMENT</span><span style=\"color: #f8f8f2; text-decoration-color: #f8f8f2; background-color: #272822\"> </span><span style=\"color: #ae81ff; text-decoration-color: #ae81ff; background-color: #272822\">0</span><span style=\"color: #f8f8f2; text-decoration-color: #f8f8f2; background-color: #272822\">xa89a6724d0498417f3ce2fb9791e2b6b0cb3e9d2a429ae869a0356f5cb2430b7)</span><span style=\"background-color: #272822\">                      </span>\n",
       "</pre>\n"
      ],
      "text/plain": [
       "\u001b[38;2;248;248;242;48;2;39;40;34m(\u001b[0m\u001b[38;2;166;226;46;48;2;39;40;34mASSERT_COIN_ANNOUNCEMENT\u001b[0m\u001b[38;2;248;248;242;48;2;39;40;34m \u001b[0m\u001b[38;2;174;129;255;48;2;39;40;34m0\u001b[0m\u001b[38;2;248;248;242;48;2;39;40;34mxa89a6724d0498417f3ce2fb9791e2b6b0cb3e9d2a429ae869a0356f5cb2430b7\u001b[0m\u001b[38;2;248;248;242;48;2;39;40;34m)\u001b[0m\u001b[48;2;39;40;34m                      \u001b[0m\n"
      ]
     },
     "metadata": {},
     "output_type": "display_data"
    },
    {
     "name": "stdout",
     "output_type": "stream",
     "text": [
      "\n",
      "Additions:\n",
      "Coin { parent_coin_info: f8d7fefd1261cf4d44509e4a6c0d13a0a1abb2402be7d26806b279308f03c427, puzzle_hash: bae24162efbd568f89bc7a340798a6118df0189eb9e3f8697bcea27af99f8f79, amount: 420700000 }\n",
      "Coin { parent_coin_info: f8d7fefd1261cf4d44509e4a6c0d13a0a1abb2402be7d26806b279308f03c427, puzzle_hash: 6dec61e20403ddbcc395cfb9b1b69eb73b10f19c5673972aec2079c3b40df9b6, amount: 4988079300000 }\n",
      "Coin { parent_coin_info: 76f55ce8e980b8551aa2c621c77488cf4255e883b6fb117bc4148ce64c757f94, puzzle_hash: dbcb4fee7e94946b713ae68e669df3285ca40acd64d06a5cfc8e3c748c7e7bdb, amount: 1000 }\n",
      "Coin { parent_coin_info: 76f55ce8e980b8551aa2c621c77488cf4255e883b6fb117bc4148ce64c757f94, puzzle_hash: 2de580cc705b9ff9d2f951de5f5b22d93f9ff639c9f201f27c7695be80602ea0, amount: 4000 }\n",
      "Coin { parent_coin_info: e449faa01f2a6a2312defdfc0180d7e49579db0532f559c0dcc3b85d3fcb915a, puzzle_hash: 3069abd7dc68d67a21254a8a0a15e6c00dd541084be11c90e42b69e61b95c9aa, amount: 4994950000000 }\n",
      "\n",
      "Removals:\n",
      "Coin { parent_coin_info: b88c1c89f648ceae98d04c224fc6b4578031b3ef7c385b7aa6adf44bf60aa6e2, puzzle_hash: 6dec61e20403ddbcc395cfb9b1b69eb73b10f19c5673972aec2079c3b40df9b6, amount: 4989000000000 }\n",
      "Coin { parent_coin_info: fa73b9821c85609e5b8a33bf7c847bbc1e818cde0da87814a818e5a2318a89cd, puzzle_hash: bf7fbe8ee9e2b4f78783f9b3f3fade412051ee6126df7e5cb12db1af03377776, amount: 5000 }\n",
      "Coin { parent_coin_info: 87b9668a0214184bab78bda218c9a1c0328cd2824cff9d343c80dc5352a94840, puzzle_hash: 5208dd26b5a1776c513c5cc31612c7d1598ec5c4582928bbce9cc82f08df2cfa, amount: 4995000000000 }\n",
      "Driver Dict:\n",
      "PuzzleInfo(info={'type': 'CAT', 'tail': '0xd82dd03f8a9ad2f84353cd953c4de6b21dbaaf7de3ba3f4ddd9abe31ecba80ad'})\n"
     ]
    }
   ],
   "source": [
    "agg_offer = Offer.aggregate([maker, taker])\n",
    "print_offer(agg_offer)"
   ]
  },
  {
   "cell_type": "code",
   "execution_count": 8,
   "id": "fdf2084d-31e5-4b6f-b1a2-91b850788ac6",
   "metadata": {
    "collapsed": true,
    "jupyter": {
     "outputs_hidden": true
    },
    "tags": []
   },
   "outputs": [
    {
     "name": "stdout",
     "output_type": "stream",
     "text": [
      "{\n",
      "    \"aggregated_signature\": \"0x8b03bbaa9002b171c378e6a3a66b270c0dea6270d0e3ce26bef667f760a53a49f8a4eb1cd0509bcc98e369e3130c306219c54ecbe4d1302edb1b2bd9db622332a2003a90479c6b556645dcfc2081c50241028c45788d9392de638605da308df9\",\n",
      "    \"coin_solutions\": [\n",
      "        {\n",
      "            \"coin\": {\n",
      "                \"amount\": 1000,\n",
      "                \"parent_coin_info\": \"0x76f55ce8e980b8551aa2c621c77488cf4255e883b6fb117bc4148ce64c757f94\",\n",
      "                \"puzzle_hash\": \"0xdbcb4fee7e94946b713ae68e669df3285ca40acd64d06a5cfc8e3c748c7e7bdb\"\n",
      "            },\n",
      "            \"puzzle_reveal\": \"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\",\n",
      "            \"solution\": \"0xffffffa0b8e2aab3a31629b0a79cc1a8474a6214ea761bc94036c5a7d601ee6e1939fc68ffffa06dec61e20403ddbcc395cfb9b1b69eb73b10f19c5673972aec2079c3b40df9b6ff8203e8ffffa06dec61e20403ddbcc395cfb9b1b69eb73b10f19c5673972aec2079c3b40df9b680808080ffffa0fa73b9821c85609e5b8a33bf7c847bbc1e818cde0da87814a818e5a2318a89cdffa0d35d56e4ffe234503a8d87c6b47446b8e132d806bbb0a5c958662cd69eba35c5ff82138880ffa0fc82d0ae1a093cd6e8dc99a37a7e83f6c00af48efaadda52ff8abcc3f91698d8ffffa076f55ce8e980b8551aa2c621c77488cf4255e883b6fb117bc4148ce64c757f94ffa0dbcb4fee7e94946b713ae68e669df3285ca40acd64d06a5cfc8e3c748c7e7bdbff8203e880ffffa076f55ce8e980b8551aa2c621c77488cf4255e883b6fb117bc4148ce64c757f94ffa0bae24162efbd568f89bc7a340798a6118df0189eb9e3f8697bcea27af99f8f79ff8203e880ff80ff8080\"\n",
      "        },\n",
      "        {\n",
      "            \"coin\": {\n",
      "                \"amount\": 420700000,\n",
      "                \"parent_coin_info\": \"0xf8d7fefd1261cf4d44509e4a6c0d13a0a1abb2402be7d26806b279308f03c427\",\n",
      "                \"puzzle_hash\": \"0xbae24162efbd568f89bc7a340798a6118df0189eb9e3f8697bcea27af99f8f79\"\n",
      "            },\n",
      "            \"puzzle_reveal\": \"0xff02ffff01ff02ff0affff04ff02ffff04ff03ff80808080ffff04ffff01ffff333effff02ffff03ff05ffff01ff04ffff04ff0cffff04ffff02ff1effff04ff02ffff04ff09ff80808080ff808080ffff02ff16ffff04ff02ffff04ff19ffff04ffff02ff0affff04ff02ffff04ff0dff80808080ff808080808080ff8080ff0180ffff02ffff03ff05ffff01ff04ffff04ff08ff0980ffff02ff16ffff04ff02ffff04ff0dffff04ff0bff808080808080ffff010b80ff0180ff02ffff03ffff07ff0580ffff01ff0bffff0102ffff02ff1effff04ff02ffff04ff09ff80808080ffff02ff1effff04ff02ffff04ff0dff8080808080ffff01ff0bffff0101ff058080ff0180ff018080\",\n",
      "            \"solution\": \"0xffffa0a75393eb89820bbb0d288574307e056d25fec86ce9e3d8d0801481b395a97ce3ffffa02d545ccf93005c33b8020c7f905846b7c44d26e813e8979e61559deaaeeee9e4ff8419135f60ff80808080\"\n",
      "        },\n",
      "        {\n",
      "            \"coin\": {\n",
      "                \"amount\": 4989000000000,\n",
      "                \"parent_coin_info\": \"0xb88c1c89f648ceae98d04c224fc6b4578031b3ef7c385b7aa6adf44bf60aa6e2\",\n",
      "                \"puzzle_hash\": \"0x6dec61e20403ddbcc395cfb9b1b69eb73b10f19c5673972aec2079c3b40df9b6\"\n",
      "            },\n",
      "            \"puzzle_reveal\": \"0xff02ffff01ff02ffff01ff02ffff03ff0bffff01ff02ffff03ffff09ff05ffff1dff0bffff1effff0bff0bffff02ff06ffff04ff02ffff04ff17ff8080808080808080ffff01ff02ff17ff2f80ffff01ff088080ff0180ffff01ff04ffff04ff04ffff04ff05ffff04ffff02ff06ffff04ff02ffff04ff17ff80808080ff80808080ffff02ff17ff2f808080ff0180ffff04ffff01ff32ff02ffff03ffff07ff0580ffff01ff0bffff0102ffff02ff06ffff04ff02ffff04ff09ff80808080ffff02ff06ffff04ff02ffff04ff0dff8080808080ffff01ff0bffff0101ff058080ff0180ff018080ffff04ffff01b098ff7e53d4ac3912a7ff2055aa27aed3f9d29eee70f566bed874535fe338a43c42df91761ac1bd78d821b1f4e7dd0854ff018080\",\n",
      "            \"solution\": \"0xff80ffff01ffff33ffa0bae24162efbd568f89bc7a340798a6118df0189eb9e3f8697bcea27af99f8f79ff8419135f6080ffff34ff841dcd650080ffff33ffa06dec61e20403ddbcc395cfb9b1b69eb73b10f19c5673972aec2079c3b40df9b6ff86048960b1dda080ffff3fffa095ddff829a6e8a59290cd7dc91659bc16fffbb1ceb140fa84465249a147c444d80ffff3cffa040e4ca0b005b83817847c625bd8773f0ac7eb45a950cc355521a48733f30800f8080ff8080\"\n",
      "        },\n",
      "        {\n",
      "            \"coin\": {\n",
      "                \"amount\": 5000,\n",
      "                \"parent_coin_info\": \"0xfa73b9821c85609e5b8a33bf7c847bbc1e818cde0da87814a818e5a2318a89cd\",\n",
      "                \"puzzle_hash\": \"0xbf7fbe8ee9e2b4f78783f9b3f3fade412051ee6126df7e5cb12db1af03377776\"\n",
      "            },\n",
      "            \"puzzle_reveal\": \"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\",\n",
      "            \"solution\": \"0xffff80ffff01ffff33ffa0bae24162efbd568f89bc7a340798a6118df0189eb9e3f8697bcea27af99f8f79ff8203e8ffffa0bae24162efbd568f89bc7a340798a6118df0189eb9e3f8697bcea27af99f8f798080ffff33ffa0605f7b2288431586a872e847fe5b1469dc3fd07c62e6e84e076807f3d715652eff820fa080ffff3cffa03f37280c99d5718d4c5e838b95c57655ff5304a50d15cb14acb73655867183dd80ffff3fffa0fcce84769db0227d0db9f90a6232358d6c428109ca08a9836589982c99e29b708080ff8080ffffa0ccd725153c613d94ccaed50526380ce7d579d7261afaceb1ea35b89b8f92bee5ffa08b82c4543e1cb4c89f24436cfce302bac7da4b39205770fd715465202094a4d5ff82138880ffa076f55ce8e980b8551aa2c621c77488cf4255e883b6fb117bc4148ce64c757f94ffffa0fa73b9821c85609e5b8a33bf7c847bbc1e818cde0da87814a818e5a2318a89cdffa0bf7fbe8ee9e2b4f78783f9b3f3fade412051ee6126df7e5cb12db1af03377776ff82138880ffffa0fa73b9821c85609e5b8a33bf7c847bbc1e818cde0da87814a818e5a2318a89cdffa0d35d56e4ffe234503a8d87c6b47446b8e132d806bbb0a5c958662cd69eba35c5ff82138880ff80ff8080\"\n",
      "        },\n",
      "        {\n",
      "            \"coin\": {\n",
      "                \"amount\": 4995000000000,\n",
      "                \"parent_coin_info\": \"0x87b9668a0214184bab78bda218c9a1c0328cd2824cff9d343c80dc5352a94840\",\n",
      "                \"puzzle_hash\": \"0x5208dd26b5a1776c513c5cc31612c7d1598ec5c4582928bbce9cc82f08df2cfa\"\n",
      "            },\n",
      "            \"puzzle_reveal\": \"0xff02ffff01ff02ffff01ff02ffff03ff0bffff01ff02ffff03ffff09ff05ffff1dff0bffff1effff0bff0bffff02ff06ffff04ff02ffff04ff17ff8080808080808080ffff01ff02ff17ff2f80ffff01ff088080ff0180ffff01ff04ffff04ff04ffff04ff05ffff04ffff02ff06ffff04ff02ffff04ff17ff80808080ff80808080ffff02ff17ff2f808080ff0180ffff04ffff01ff32ff02ffff03ffff07ff0580ffff01ff0bffff0102ffff02ff06ffff04ff02ffff04ff09ff80808080ffff02ff06ffff04ff02ffff04ff0dff8080808080ffff01ff0bffff0101ff058080ff0180ff018080ffff04ffff01b0b15abf4b49ee082d5dee85ab60f35e1653904a4e3f1f5efb0e8d5139e3aeb88e2113648f701022bfb7a012b07c92ecc9ff018080\",\n",
      "            \"solution\": \"0xff80ffff01ffff33ffa03069abd7dc68d67a21254a8a0a15e6c00dd541084be11c90e42b69e61b95c9aaff86048afa386d8080ffff34ff8402faf08080ffff3cffa060a013af34b43c0ea5602b8f862097c3f0089a6d0eebf7bc46b8ad79d813f85a80ffff3dffa0a89a6724d0498417f3ce2fb9791e2b6b0cb3e9d2a429ae869a0356f5cb2430b78080ff8080\"\n",
      "        }\n",
      "    ]\n",
      "}\n"
     ]
    }
   ],
   "source": [
    "print_json(agg_offer.to_valid_spend().to_json_dict())"
   ]
  },
  {
   "cell_type": "markdown",
   "id": "710d69b6-15b6-4587-a7dd-a660a545d8a7",
   "metadata": {
    "tags": []
   },
   "source": [
    "# Maker\n",
    "> request 1 TDBX, offer 0x19135f60 mojos\n",
    "## Maker creates settlement (maker) and changes to itself\n",
    "**(CREATE_COIN 0xbae24162efbd568f89bc7a340798a6118df0189eb9e3f8697bcea27af99f8f79 0x19135f60)**\n",
    "\n",
    "**(ASSERT_PUZZLE_ANNOUNCEMENT 0x95ddff829a6e8a59290cd7dc91659bc16fffbb1ceb140fa84465249a147c444d)**\n",
    "-> assert announcement from settlement (taker)\n",
    "\n",
    "```\n",
    "consuming coin (0xb88c1c89f648ceae98d04c224fc6b4578031b3ef7c385b7aa6adf44bf60aa6e2 0x6dec61e20403ddbcc395cfb9b1b69eb73b10f19c5673972aec2079c3b40df9b6 0x04899792a200)\n",
    "  with id f8d7fefd1261cf4d44509e4a6c0d13a0a1abb2402be7d26806b279308f03c427\n",
    "\n",
    "(\n",
    "    (AGG_SIG_ME 0x98ff7e53d4ac3912a7ff2055aa27aed3f9d29eee70f566bed874535fe338a43c42df91761ac1bd78d821b1f4e7dd0854 0x988ea9574f63550891ecf2bba960a7359d1011ed8faa2d68b98979302a87c797) \n",
    "    (CREATE_COIN 0xbae24162efbd568f89bc7a340798a6118df0189eb9e3f8697bcea27af99f8f79 0x19135f60) \n",
    "    (RESERVE_FEE 0x1dcd6500) \n",
    "    (CREATE_COIN 0x6dec61e20403ddbcc395cfb9b1b69eb73b10f19c5673972aec2079c3b40df9b6 0x048960b1dda0) \n",
    "    (ASSERT_PUZZLE_ANNOUNCEMENT 0x95ddff829a6e8a59290cd7dc91659bc16fffbb1ceb140fa84465249a147c444d) \n",
    "    (CREATE_COIN_ANNOUNCEMENT 0x40e4ca0b005b83817847c625bd8773f0ac7eb45a950cc355521a48733f30800f)\n",
    ")\n",
    "```\n",
    "## Settlement (maker) creates 0x19135f60 mojos for Taker\n",
    "**(CREATE_COIN 0x2d545ccf93005c33b8020c7f905846b7c44d26e813e8979e61559deaaeeee9e4 0x19135f60 ())**\n",
    "\n",
    "**(CREATE_PUZZLE_ANNOUNCEMENT 0x9fd18c86a8ab9da39cebe88dca91a401688fdd0cf9ca757313bb7957a37a18eb)**\n",
    "`(sha256 0xbae24162efbd568f89bc7a340798a6118df0189eb9e3f8697bcea27af99f8f799fd18c86a8ab9da39cebe88dca91a401688fdd0cf9ca757313bb7957a37a18eb)`\n",
    "-> 0xfcce84769db0227d0db9f90a6232358d6c428109ca08a9836589982c99e29b70\n",
    "\n",
    "```\n",
    "consuming coin (0xf8d7fefd1261cf4d44509e4a6c0d13a0a1abb2402be7d26806b279308f03c427 0xbae24162efbd568f89bc7a340798a6118df0189eb9e3f8697bcea27af99f8f79 0x19135f60)\n",
    "  with id 671dbbd64022a3f7a77eec14b55b18163167360daea9423d9611bca7653b0fcb\n",
    "\n",
    "(\n",
    "    (CREATE_PUZZLE_ANNOUNCEMENT 0x9fd18c86a8ab9da39cebe88dca91a401688fdd0cf9ca757313bb7957a37a18eb) \n",
    "    (CREATE_COIN 0x2d545ccf93005c33b8020c7f905846b7c44d26e813e8979e61559deaaeeee9e4 0x19135f60 ())\n",
    ")\n",
    "```\n",
    "\n",
    "# Taker\n",
    "> request 0x19135f60 mojos, offer 1 TDBX\n",
    "## Taker creates settlement (taker) and changes to itself\n",
    "**(CREATE_COIN 0xdbcb4fee7e94946b713ae68e669df3285ca40acd64d06a5cfc8e3c748c7e7bdb 1000 (0xbae24162efbd568f89bc7a340798a6118df0189eb9e3f8697bcea27af99f8f79))**\n",
    "- `0xdbcb4fee7e94946b713ae68e669df3285ca40acd64d06a5cfc8e3c748c7e7bdb` is CAT ph\n",
    "- `0xbae24162efbd568f89bc7a340798a6118df0189eb9e3f8697bcea27af99f8f79` is settlement ph\n",
    "\n",
    "**(ASSERT_PUZZLE_ANNOUNCEMENT 0xfcce84769db0227d0db9f90a6232358d6c428109ca08a9836589982c99e29b70)**\n",
    "-> assert announcement from settlement (maker)\n",
    "\n",
    "```\n",
    "consuming coin (0xfa73b9821c85609e5b8a33bf7c847bbc1e818cde0da87814a818e5a2318a89cd 0xbf7fbe8ee9e2b4f78783f9b3f3fade412051ee6126df7e5cb12db1af03377776 5000)\n",
    "  with id 76f55ce8e980b8551aa2c621c77488cf4255e883b6fb117bc4148ce64c757f94\n",
    "\n",
    "(\n",
    "    (ASSERT_MY_COIN_ID 0x76f55ce8e980b8551aa2c621c77488cf4255e883b6fb117bc4148ce64c757f94) \n",
    "    (CREATE_COIN_ANNOUNCEMENT 0xcb1025ad8f278de31f14afe47c283a533fa29c8032de1e47dc90d2ccc9d5b732c6) \n",
    "    (ASSERT_COIN_ANNOUNCEMENT 0x7cba513965862165136fdaf65de045263b313993066bb67c6df909a1cf9d4137) \n",
    "    (AGG_SIG_ME 0x8d6951aa12bb031c541b21e43412d741dc2446cb00b8756bc05b82e5d705b46db5ec7fbd251c50c640fd182852c8f0b8 0x57b32c5d89afad77c71ac73155a56eaf5aebd46b7da135f619730e20f50a02ef) \n",
    "    (CREATE_COIN 0xdbcb4fee7e94946b713ae68e669df3285ca40acd64d06a5cfc8e3c748c7e7bdb 1000 (0xbae24162efbd568f89bc7a340798a6118df0189eb9e3f8697bcea27af99f8f79)) \n",
    "    (CREATE_COIN 0x2de580cc705b9ff9d2f951de5f5b22d93f9ff639c9f201f27c7695be80602ea0 4000) \n",
    "    (CREATE_COIN_ANNOUNCEMENT 0x3f37280c99d5718d4c5e838b95c57655ff5304a50d15cb14acb73655867183dd) \n",
    "    (ASSERT_PUZZLE_ANNOUNCEMENT 0xfcce84769db0227d0db9f90a6232358d6c428109ca08a9836589982c99e29b70)\n",
    ")\n",
    "```\n",
    "\n",
    "## Fees\n",
    "```\n",
    "consuming coin (0x87b9668a0214184bab78bda218c9a1c0328cd2824cff9d343c80dc5352a94840 0x5208dd26b5a1776c513c5cc31612c7d1598ec5c4582928bbce9cc82f08df2cfa 0x048afd335e00)\n",
    "  with id e449faa01f2a6a2312defdfc0180d7e49579db0532f559c0dcc3b85d3fcb915a\n",
    "\n",
    "(\n",
    "    (AGG_SIG_ME 0xb15abf4b49ee082d5dee85ab60f35e1653904a4e3f1f5efb0e8d5139e3aeb88e2113648f701022bfb7a012b07c92ecc9 0x8c66c48b5c7b2663969e887a40f1d6257ad693de8e2a86cf5049a9896b6e1ca7) \n",
    "    (CREATE_COIN 0x3069abd7dc68d67a21254a8a0a15e6c00dd541084be11c90e42b69e61b95c9aa 0x048afa386d80) \n",
    "    (RESERVE_FEE 0x02faf080) \n",
    "    (CREATE_COIN_ANNOUNCEMENT 0x60a013af34b43c0ea5602b8f862097c3f0089a6d0eebf7bc46b8ad79d813f85a) \n",
    "    (ASSERT_COIN_ANNOUNCEMENT 0xa89a6724d0498417f3ce2fb9791e2b6b0cb3e9d2a429ae869a0356f5cb2430b7)\n",
    ")\n",
    "```\n",
    "\n",
    "## Settlement (maker) creates 1 TDBX for Taker\n",
    "**(CREATE_COIN 0x8f0d1d3957bc934670207656855e8ae9541d862079fe065a5862350718952aa1 1000 (0x6dec61e20403ddbcc395cfb9b1b69eb73b10f19c5673972aec2079c3b40df9b6))**\n",
    "```\n",
    "❯ cdv clsp cat_puzzle_hash -t 0xd82dd03f8a9ad2f84353cd953c4de6b21dbaaf7de3ba3f4ddd9abe31ecba80ad 0x6dec61e20403ddbcc395cfb9b1b69eb73b10f19c5673972aec2079c3b40df9b6\n",
    "8f0d1d3957bc934670207656855e8ae9541d862079fe065a5862350718952aa1\n",
    "```\n",
    "\n",
    "**(CREATE_PUZZLE_ANNOUNCEMENT 0x785267aaded72e79bdc322cb2465cf8d3ceb1d78624db917e5095a48dcbfc7e3)**\n",
    "`(sha256 0xdbcb4fee7e94946b713ae68e669df3285ca40acd64d06a5cfc8e3c748c7e7bdb785267aaded72e79bdc322cb2465cf8d3ceb1d78624db917e5095a48dcbfc7e3)`\n",
    "-> 0x95ddff829a6e8a59290cd7dc91659bc16fffbb1ceb140fa84465249a147c444d\n",
    "\n",
    "Settlement creates TDBX (`0xd82dd03f8a9ad2f84353cd953c4de6b21dbaaf7de3ba3f4ddd9abe31ecba80ad`)\n",
    "```\n",
    "❯ cdv clsp cat_puzzle_hash -t 0xd82dd03f8a9ad2f84353cd953c4de6b21dbaaf7de3ba3f4ddd9abe31ecba80ad 0xbae24162efbd568f89bc7a340798a6118df0189eb9e3f8697bcea27af99f8f79\n",
    "dbcb4fee7e94946b713ae68e669df3285ca40acd64d06a5cfc8e3c748c7e7bdb\n",
    "```\n",
    "\n",
    "```\n",
    "consuming coin (0x76f55ce8e980b8551aa2c621c77488cf4255e883b6fb117bc4148ce64c757f94 0xdbcb4fee7e94946b713ae68e669df3285ca40acd64d06a5cfc8e3c748c7e7bdb 1000)\n",
    "  with id fc82d0ae1a093cd6e8dc99a37a7e83f6c00af48efaadda52ff8abcc3f91698d8\n",
    "\n",
    "(\n",
    "    (ASSERT_MY_COIN_ID 0xfc82d0ae1a093cd6e8dc99a37a7e83f6c00af48efaadda52ff8abcc3f91698d8) \n",
    "    (CREATE_COIN_ANNOUNCEMENT 0xcb4560f911d6102ee2eca0aa3724a1a18e9b87d6d3b1ff698e9a72dd852eb180ff) \n",
    "    (ASSERT_COIN_ANNOUNCEMENT 0xb80a8ec5f0c059a771a0d9d6971ba6221fdd1b84ceb13ed2fe5e4dc8359d642e) \n",
    "    (CREATE_PUZZLE_ANNOUNCEMENT 0x785267aaded72e79bdc322cb2465cf8d3ceb1d78624db917e5095a48dcbfc7e3) \n",
    "    (CREATE_COIN 0x8f0d1d3957bc934670207656855e8ae9541d862079fe065a5862350718952aa1 1000 (0x6dec61e20403ddbcc395cfb9b1b69eb73b10f19c5673972aec2079c3b40df9b6))\n",
    ")\n",
    "```"
   ]
  },
  {
   "cell_type": "markdown",
   "id": "f8a1c709-c598-457b-b026-4f484261932b",
   "metadata": {},
   "source": [
    "Output Coins (Maker)\n",
    "- request CAT, notarized payment ph wrapped with asset id is the new requrested coin ph\n",
    "- request 1 TDBX, offer 0x19135f60 mojos\n",
    "\n",
    "`(CREATE_COIN 0x6dec61e20403ddbcc395cfb9b1b69eb73b10f19c5673972aec2079c3b40df9b6 1000                               \n",
    "(0x6dec61e20403ddbcc395cfb9b1b69eb73b10f19c5673972aec2079c3b40df9b6))`\n",
    "\n",
    "->\n",
    "\n",
    "`(CREATE_COIN 0x8f0d1d3957bc934670207656855e8ae9541d862079fe065a5862350718952aa1 1000 (0x6dec61e20403ddbcc395cfb9b1b69eb73b10f19c5673972aec2079c3b40df9b6))`\n",
    "\n",
    "```sh\n",
    "❯ cdv rpc coinrecords --by puzzlehash 0x8f0d1d3957bc934670207656855e8ae9541d862079fe065a5862350718952aa1 -nd\n",
    "{\n",
    "    ...\n",
    "    \"643a34d20eae93f02780764b0215070a159b653ead1f6f9b69c57939eaa47202\": {\n",
    "        \"coin\": {\n",
    "            \"amount\": 1000,\n",
    "            \"parent_coin_info\": \"0xfc82d0ae1a093cd6e8dc99a37a7e83f6c00af48efaadda52ff8abcc3f91698d8\",\n",
    "            \"puzzle_hash\": \"0x8f0d1d3957bc934670207656855e8ae9541d862079fe065a5862350718952aa1\"\n",
    "        },\n",
    "        \"coinbase\": false,\n",
    "        \"confirmed_block_index\": 2094173,\n",
    "        \"spent_block_index\": 0,\n",
    "        \"timestamp\": 1674002486\n",
    "    },...\n",
    "}\n",
    "❯ cdv rpc coinrecords --by hint 0x6dec61e20403ddbcc395cfb9b1b69eb73b10f19c5673972aec2079c3b40df9b6 -nd\n",
    "{\n",
    "    \"643a34d20eae93f02780764b0215070a159b653ead1f6f9b69c57939eaa47202\": {\n",
    "        \"coin\": {\n",
    "            \"amount\": 1000,\n",
    "            \"parent_coin_info\": \"0xfc82d0ae1a093cd6e8dc99a37a7e83f6c00af48efaadda52ff8abcc3f91698d8\",\n",
    "            \"puzzle_hash\": \"0x8f0d1d3957bc934670207656855e8ae9541d862079fe065a5862350718952aa1\"\n",
    "        },\n",
    "        \"coinbase\": false,\n",
    "        \"confirmed_block_index\": 2094173,\n",
    "        \"spent_block_index\": 0,\n",
    "        \"timestamp\": 1674002486\n",
    "    },...\n",
    "}\n",
    "```\n",
    "\n",
    "\n"
   ]
  }
 ],
 "metadata": {
  "kernelspec": {
   "display_name": "Python 3 (ipykernel)",
   "language": "python",
   "name": "python3"
  },
  "language_info": {
   "codemirror_mode": {
    "name": "ipython",
    "version": 3
   },
   "file_extension": ".py",
   "mimetype": "text/x-python",
   "name": "python",
   "nbconvert_exporter": "python",
   "pygments_lexer": "ipython3",
   "version": "3.10.9"
  }
 },
 "nbformat": 4,
 "nbformat_minor": 5
}
