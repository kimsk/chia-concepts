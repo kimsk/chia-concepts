{
 "cells": [
  {
   "cell_type": "code",
   "execution_count": 1,
   "id": "7990ecfc-9f3c-4dc3-80db-114e4cfb4b6f",
   "metadata": {},
   "outputs": [
    {
     "data": {
      "text/html": [
       "<pre style=\"white-space:pre;overflow-x:auto;line-height:normal;font-family:Menlo,'DejaVu Sans Mono',consolas,'Courier New',monospace\"><span style=\"color: #800080; text-decoration-color: #800080\">/Users/karlkim/.chia/</span><span style=\"color: #ff00ff; text-decoration-color: #ff00ff\">mainnet</span>\n",
       "</pre>\n"
      ],
      "text/plain": [
       "\u001b[35m/Users/karlkim/.chia/\u001b[0m\u001b[95mmainnet\u001b[0m\n"
      ]
     },
     "metadata": {},
     "output_type": "display_data"
    }
   ],
   "source": [
    "chia_root = Path(\"/Users/karlkim/.chia/mainnet/\")\n",
    "%run ../rpc.ipynb"
   ]
  },
  {
   "cell_type": "code",
   "execution_count": 2,
   "id": "ac7d8011-8783-4866-8be5-f350f77efcf5",
   "metadata": {},
   "outputs": [
    {
     "name": "stdout",
     "output_type": "stream",
     "text": [
      "Notarized Payment:\n"
     ]
    },
    {
     "data": {
      "text/html": [
       "<pre style=\"white-space:pre;overflow-x:auto;line-height:normal;font-family:Menlo,'DejaVu Sans Mono',consolas,'Courier New',monospace\"><span style=\"color: #f8f8f2; text-decoration-color: #f8f8f2; background-color: #272822\">(</span><span style=\"color: #a6e22e; text-decoration-color: #a6e22e; background-color: #272822\">CREATE_COIN</span><span style=\"color: #f8f8f2; text-decoration-color: #f8f8f2; background-color: #272822\"> </span><span style=\"color: #ae81ff; text-decoration-color: #ae81ff; background-color: #272822\">0</span><span style=\"color: #f8f8f2; text-decoration-color: #f8f8f2; background-color: #272822\">x5588c44c47b805b4a00d8801998b6ba32ab23b95539bc5e522a37d5037e92030 </span><span style=\"color: #ae81ff; text-decoration-color: #ae81ff; background-color: #272822\">0</span><span style=\"color: #f8f8f2; text-decoration-color: #f8f8f2; background-color: #272822\">x381cb82a00 ())</span><span style=\"background-color: #272822\">                   </span>\n",
       "</pre>\n"
      ],
      "text/plain": [
       "\u001b[38;2;248;248;242;48;2;39;40;34m(\u001b[0m\u001b[38;2;166;226;46;48;2;39;40;34mCREATE_COIN\u001b[0m\u001b[38;2;248;248;242;48;2;39;40;34m \u001b[0m\u001b[38;2;174;129;255;48;2;39;40;34m0\u001b[0m\u001b[38;2;248;248;242;48;2;39;40;34mx5588c44c47b805b4a00d8801998b6ba32ab23b95539bc5e522a37d5037e92030\u001b[0m\u001b[38;2;248;248;242;48;2;39;40;34m \u001b[0m\u001b[38;2;174;129;255;48;2;39;40;34m0\u001b[0m\u001b[38;2;248;248;242;48;2;39;40;34mx381cb82a00\u001b[0m\u001b[38;2;248;248;242;48;2;39;40;34m \u001b[0m\u001b[38;2;248;248;242;48;2;39;40;34m(\u001b[0m\u001b[38;2;248;248;242;48;2;39;40;34m)\u001b[0m\u001b[38;2;248;248;242;48;2;39;40;34m)\u001b[0m\u001b[48;2;39;40;34m                   \u001b[0m\n"
      ]
     },
     "metadata": {},
     "output_type": "display_data"
    },
    {
     "name": "stdout",
     "output_type": "stream",
     "text": [
      "CoinSpend:\n",
      "Coin:\n",
      "6d79fcc2b7c1c52156359ca5c184cfc988861c8c51ea1398effa02fd90d70c59\n",
      "Coin { parent_coin_info: 4b95f440842ce02bc359aa24059286dc3f3bfb81aa5e0d1ec3757c1f50c2e854, puzzle_hash: 1d7cfdd80e9993d437650367012f3b6e5378a5fadcf9e57627798ea424db25d6, amount: 100000 }\n",
      "\n",
      "Conditions\n"
     ]
    },
    {
     "data": {
      "text/html": [
       "<pre style=\"white-space:pre;overflow-x:auto;line-height:normal;font-family:Menlo,'DejaVu Sans Mono',consolas,'Courier New',monospace\"><span style=\"color: #f8f8f2; text-decoration-color: #f8f8f2; background-color: #272822\">(</span><span style=\"color: #a6e22e; text-decoration-color: #a6e22e; background-color: #272822\">ASSERT_MY_COIN_ID</span><span style=\"color: #f8f8f2; text-decoration-color: #f8f8f2; background-color: #272822\"> </span><span style=\"color: #ae81ff; text-decoration-color: #ae81ff; background-color: #272822\">0</span><span style=\"color: #f8f8f2; text-decoration-color: #f8f8f2; background-color: #272822\">x6d79fcc2b7c1c52156359ca5c184cfc988861c8c51ea1398effa02fd90d70c59)</span><span style=\"background-color: #272822\">                             </span>\n",
       "</pre>\n"
      ],
      "text/plain": [
       "\u001b[38;2;248;248;242;48;2;39;40;34m(\u001b[0m\u001b[38;2;166;226;46;48;2;39;40;34mASSERT_MY_COIN_ID\u001b[0m\u001b[38;2;248;248;242;48;2;39;40;34m \u001b[0m\u001b[38;2;174;129;255;48;2;39;40;34m0\u001b[0m\u001b[38;2;248;248;242;48;2;39;40;34mx6d79fcc2b7c1c52156359ca5c184cfc988861c8c51ea1398effa02fd90d70c59\u001b[0m\u001b[38;2;248;248;242;48;2;39;40;34m)\u001b[0m\u001b[48;2;39;40;34m                             \u001b[0m\n"
      ]
     },
     "metadata": {},
     "output_type": "display_data"
    },
    {
     "data": {
      "text/html": [
       "<pre style=\"white-space:pre;overflow-x:auto;line-height:normal;font-family:Menlo,'DejaVu Sans Mono',consolas,'Courier New',monospace\"><span style=\"color: #f8f8f2; text-decoration-color: #f8f8f2; background-color: #272822\">(</span><span style=\"color: #a6e22e; text-decoration-color: #a6e22e; background-color: #272822\">CREATE_COIN_ANNOUNCEMENT</span><span style=\"color: #f8f8f2; text-decoration-color: #f8f8f2; background-color: #272822\"> </span><span style=\"color: #ae81ff; text-decoration-color: #ae81ff; background-color: #272822\">0</span><span style=\"color: #f8f8f2; text-decoration-color: #f8f8f2; background-color: #272822\">xcba580e133318c67073dc89258ac3c4fa78f58296b2ff1a1107d35da7df6878138)</span><span style=\"background-color: #272822\">                    </span>\n",
       "</pre>\n"
      ],
      "text/plain": [
       "\u001b[38;2;248;248;242;48;2;39;40;34m(\u001b[0m\u001b[38;2;166;226;46;48;2;39;40;34mCREATE_COIN_ANNOUNCEMENT\u001b[0m\u001b[38;2;248;248;242;48;2;39;40;34m \u001b[0m\u001b[38;2;174;129;255;48;2;39;40;34m0\u001b[0m\u001b[38;2;248;248;242;48;2;39;40;34mxcba580e133318c67073dc89258ac3c4fa78f58296b2ff1a1107d35da7df6878138\u001b[0m\u001b[38;2;248;248;242;48;2;39;40;34m)\u001b[0m\u001b[48;2;39;40;34m                    \u001b[0m\n"
      ]
     },
     "metadata": {},
     "output_type": "display_data"
    },
    {
     "data": {
      "text/html": [
       "<pre style=\"white-space:pre;overflow-x:auto;line-height:normal;font-family:Menlo,'DejaVu Sans Mono',consolas,'Courier New',monospace\"><span style=\"color: #f8f8f2; text-decoration-color: #f8f8f2; background-color: #272822\">(</span><span style=\"color: #a6e22e; text-decoration-color: #a6e22e; background-color: #272822\">ASSERT_COIN_ANNOUNCEMENT</span><span style=\"color: #f8f8f2; text-decoration-color: #f8f8f2; background-color: #272822\"> </span><span style=\"color: #ae81ff; text-decoration-color: #ae81ff; background-color: #272822\">0</span><span style=\"color: #f8f8f2; text-decoration-color: #f8f8f2; background-color: #272822\">x53b8d7ad6b90b3ff2a5ad207b51b67b3a92eab6d6a84f987848409e5dad23950)</span><span style=\"background-color: #272822\">                      </span>\n",
       "</pre>\n"
      ],
      "text/plain": [
       "\u001b[38;2;248;248;242;48;2;39;40;34m(\u001b[0m\u001b[38;2;166;226;46;48;2;39;40;34mASSERT_COIN_ANNOUNCEMENT\u001b[0m\u001b[38;2;248;248;242;48;2;39;40;34m \u001b[0m\u001b[38;2;174;129;255;48;2;39;40;34m0\u001b[0m\u001b[38;2;248;248;242;48;2;39;40;34mx53b8d7ad6b90b3ff2a5ad207b51b67b3a92eab6d6a84f987848409e5dad23950\u001b[0m\u001b[38;2;248;248;242;48;2;39;40;34m)\u001b[0m\u001b[48;2;39;40;34m                      \u001b[0m\n"
      ]
     },
     "metadata": {},
     "output_type": "display_data"
    },
    {
     "data": {
      "text/html": [
       "<pre style=\"white-space:pre;overflow-x:auto;line-height:normal;font-family:Menlo,'DejaVu Sans Mono',consolas,'Courier New',monospace\"><span style=\"color: #f8f8f2; text-decoration-color: #f8f8f2; background-color: #272822\">(</span><span style=\"color: #a6e22e; text-decoration-color: #a6e22e; background-color: #272822\">AGG_SIG_ME</span><span style=\"color: #f8f8f2; text-decoration-color: #f8f8f2; background-color: #272822\"> </span><span style=\"color: #ae81ff; text-decoration-color: #ae81ff; background-color: #272822\">0</span><span style=\"color: #f8f8f2; text-decoration-color: #f8f8f2; background-color: #272822\">x8b65f637e47594d02fadd47d518374f9b9cac213a86bd63a4db3804236f84ca7a8448630da68095dfcaa99be0857dcab </span><span style=\"background-color: #272822\">    </span>\n",
       "<span style=\"color: #ae81ff; text-decoration-color: #ae81ff; background-color: #272822\">0</span><span style=\"color: #f8f8f2; text-decoration-color: #f8f8f2; background-color: #272822\">x45e9bfb6da925cadb25bc67da586a281b7a152cf487f5f04b560b565b997d9ee)</span><span style=\"background-color: #272822\">                                                </span>\n",
       "</pre>\n"
      ],
      "text/plain": [
       "\u001b[38;2;248;248;242;48;2;39;40;34m(\u001b[0m\u001b[38;2;166;226;46;48;2;39;40;34mAGG_SIG_ME\u001b[0m\u001b[38;2;248;248;242;48;2;39;40;34m \u001b[0m\u001b[38;2;174;129;255;48;2;39;40;34m0\u001b[0m\u001b[38;2;248;248;242;48;2;39;40;34mx8b65f637e47594d02fadd47d518374f9b9cac213a86bd63a4db3804236f84ca7a8448630da68095dfcaa99be0857dcab\u001b[0m\u001b[38;2;248;248;242;48;2;39;40;34m \u001b[0m\u001b[48;2;39;40;34m    \u001b[0m\n",
       "\u001b[38;2;174;129;255;48;2;39;40;34m0\u001b[0m\u001b[38;2;248;248;242;48;2;39;40;34mx45e9bfb6da925cadb25bc67da586a281b7a152cf487f5f04b560b565b997d9ee\u001b[0m\u001b[38;2;248;248;242;48;2;39;40;34m)\u001b[0m\u001b[48;2;39;40;34m                                                \u001b[0m\n"
      ]
     },
     "metadata": {},
     "output_type": "display_data"
    },
    {
     "data": {
      "text/html": [
       "<pre style=\"white-space:pre;overflow-x:auto;line-height:normal;font-family:Menlo,'DejaVu Sans Mono',consolas,'Courier New',monospace\"><span style=\"color: #f8f8f2; text-decoration-color: #f8f8f2; background-color: #272822\">(</span><span style=\"color: #a6e22e; text-decoration-color: #a6e22e; background-color: #272822\">CREATE_COIN</span><span style=\"color: #f8f8f2; text-decoration-color: #f8f8f2; background-color: #272822\"> </span><span style=\"color: #ae81ff; text-decoration-color: #ae81ff; background-color: #272822\">0</span><span style=\"color: #f8f8f2; text-decoration-color: #f8f8f2; background-color: #272822\">xf22a940aead19b869efd1e8d490028e2ce079c1c463039d93db3f00908c3b6a8 </span><span style=\"color: #ae81ff; text-decoration-color: #ae81ff; background-color: #272822\">0</span><span style=\"color: #f8f8f2; text-decoration-color: #f8f8f2; background-color: #272822\">x0186a0 </span><span style=\"background-color: #272822\">                          </span>\n",
       "<span style=\"color: #f8f8f2; text-decoration-color: #f8f8f2; background-color: #272822\">(</span><span style=\"color: #ae81ff; text-decoration-color: #ae81ff; background-color: #272822\">0</span><span style=\"color: #f8f8f2; text-decoration-color: #f8f8f2; background-color: #272822\">xbae24162efbd568f89bc7a340798a6118df0189eb9e3f8697bcea27af99f8f79))</span><span style=\"background-color: #272822\">                                              </span>\n",
       "</pre>\n"
      ],
      "text/plain": [
       "\u001b[38;2;248;248;242;48;2;39;40;34m(\u001b[0m\u001b[38;2;166;226;46;48;2;39;40;34mCREATE_COIN\u001b[0m\u001b[38;2;248;248;242;48;2;39;40;34m \u001b[0m\u001b[38;2;174;129;255;48;2;39;40;34m0\u001b[0m\u001b[38;2;248;248;242;48;2;39;40;34mxf22a940aead19b869efd1e8d490028e2ce079c1c463039d93db3f00908c3b6a8\u001b[0m\u001b[38;2;248;248;242;48;2;39;40;34m \u001b[0m\u001b[38;2;174;129;255;48;2;39;40;34m0\u001b[0m\u001b[38;2;248;248;242;48;2;39;40;34mx0186a0\u001b[0m\u001b[38;2;248;248;242;48;2;39;40;34m \u001b[0m\u001b[48;2;39;40;34m                          \u001b[0m\n",
       "\u001b[38;2;248;248;242;48;2;39;40;34m(\u001b[0m\u001b[38;2;174;129;255;48;2;39;40;34m0\u001b[0m\u001b[38;2;248;248;242;48;2;39;40;34mxbae24162efbd568f89bc7a340798a6118df0189eb9e3f8697bcea27af99f8f79\u001b[0m\u001b[38;2;248;248;242;48;2;39;40;34m)\u001b[0m\u001b[38;2;248;248;242;48;2;39;40;34m)\u001b[0m\u001b[48;2;39;40;34m                                              \u001b[0m\n"
      ]
     },
     "metadata": {},
     "output_type": "display_data"
    },
    {
     "data": {
      "text/html": [
       "<pre style=\"white-space:pre;overflow-x:auto;line-height:normal;font-family:Menlo,'DejaVu Sans Mono',consolas,'Courier New',monospace\"><span style=\"color: #f8f8f2; text-decoration-color: #f8f8f2; background-color: #272822\">(</span><span style=\"color: #a6e22e; text-decoration-color: #a6e22e; background-color: #272822\">CREATE_COIN_ANNOUNCEMENT</span><span style=\"color: #f8f8f2; text-decoration-color: #f8f8f2; background-color: #272822\"> </span><span style=\"color: #ae81ff; text-decoration-color: #ae81ff; background-color: #272822\">0</span><span style=\"color: #f8f8f2; text-decoration-color: #f8f8f2; background-color: #272822\">x7797a95ac0da2c51744e3145f10aa01a0f7a0338adf05114be1a6a53e4307a45)</span><span style=\"background-color: #272822\">                      </span>\n",
       "</pre>\n"
      ],
      "text/plain": [
       "\u001b[38;2;248;248;242;48;2;39;40;34m(\u001b[0m\u001b[38;2;166;226;46;48;2;39;40;34mCREATE_COIN_ANNOUNCEMENT\u001b[0m\u001b[38;2;248;248;242;48;2;39;40;34m \u001b[0m\u001b[38;2;174;129;255;48;2;39;40;34m0\u001b[0m\u001b[38;2;248;248;242;48;2;39;40;34mx7797a95ac0da2c51744e3145f10aa01a0f7a0338adf05114be1a6a53e4307a45\u001b[0m\u001b[38;2;248;248;242;48;2;39;40;34m)\u001b[0m\u001b[48;2;39;40;34m                      \u001b[0m\n"
      ]
     },
     "metadata": {},
     "output_type": "display_data"
    },
    {
     "data": {
      "text/html": [
       "<pre style=\"white-space:pre;overflow-x:auto;line-height:normal;font-family:Menlo,'DejaVu Sans Mono',consolas,'Courier New',monospace\"><span style=\"color: #f8f8f2; text-decoration-color: #f8f8f2; background-color: #272822\">(</span><span style=\"color: #a6e22e; text-decoration-color: #a6e22e; background-color: #272822\">ASSERT_PUZZLE_ANNOUNCEMENT</span><span style=\"color: #f8f8f2; text-decoration-color: #f8f8f2; background-color: #272822\"> </span><span style=\"color: #ae81ff; text-decoration-color: #ae81ff; background-color: #272822\">0</span><span style=\"color: #f8f8f2; text-decoration-color: #f8f8f2; background-color: #272822\">x6ddbeaaa8e91e6d678ebae9354dcdfaa2c81554a14f660924a0edee6e53afbd2)</span><span style=\"background-color: #272822\">                    </span>\n",
       "</pre>\n"
      ],
      "text/plain": [
       "\u001b[38;2;248;248;242;48;2;39;40;34m(\u001b[0m\u001b[38;2;166;226;46;48;2;39;40;34mASSERT_PUZZLE_ANNOUNCEMENT\u001b[0m\u001b[38;2;248;248;242;48;2;39;40;34m \u001b[0m\u001b[38;2;174;129;255;48;2;39;40;34m0\u001b[0m\u001b[38;2;248;248;242;48;2;39;40;34mx6ddbeaaa8e91e6d678ebae9354dcdfaa2c81554a14f660924a0edee6e53afbd2\u001b[0m\u001b[38;2;248;248;242;48;2;39;40;34m)\u001b[0m\u001b[48;2;39;40;34m                    \u001b[0m\n"
      ]
     },
     "metadata": {},
     "output_type": "display_data"
    },
    {
     "name": "stdout",
     "output_type": "stream",
     "text": [
      "\n",
      "Additions:\n",
      "Coin { parent_coin_info: 6d79fcc2b7c1c52156359ca5c184cfc988861c8c51ea1398effa02fd90d70c59, puzzle_hash: f22a940aead19b869efd1e8d490028e2ce079c1c463039d93db3f00908c3b6a8, amount: 100000 }\n",
      "\n",
      "Removals:\n",
      "Coin { parent_coin_info: 4b95f440842ce02bc359aa24059286dc3f3bfb81aa5e0d1ec3757c1f50c2e854, puzzle_hash: 1d7cfdd80e9993d437650367012f3b6e5378a5fadcf9e57627798ea424db25d6, amount: 100000 }\n",
      "Driver Dict:\n",
      "PuzzleInfo(info={'type': 'CAT', 'tail': '0xdb1a9020d48d9d4ad22631b66ab4b9ebd3637ef7758ad38881348c5d24c38f20'})\n"
     ]
    }
   ],
   "source": [
    "# https://dexie.space/offers/2w843jnNLnUuxdstnbU1x5hiarbEbWLzhAAWjMp4vgFNmaker_hex = \"offer1qqzh3wcuu2rykcmqvpsxvgqqwc7hynr6hum6e0mnf72sn7uvvkpt68eyumkhelprk0adeg42nlelk2mpagr90qq0a37v8lc98d0t08m8fqy8l6ghl0mxa37y3epu5zc7kwvpjh5kug59yr07z5elwv2sf8s58p0ddelt0t7y43d00wh0mktup8t4ckucug48t56yf8cutuez7s090u4uwfa8cv8xq672hmrtc7xekq34g6k3x8z7xfgau7w5yhe5dlaj6kragjjw0x20d873fhd8p4ns4gh8l770gvlste7tf5jdl0ua7tz00e30c4znxe647suzmcpys98397qyt5ngzdkmfzfkmfzpkmdz35mdr5xn6d5p8rt7f568pcd7cp7dleuyw7kcm3kmueryvnwg85fvhwp7cp7wakkqhzwczhdmddjtt24qefhwsh4sa7d8t6v8w0cdn2fkhm8ndj0wtf0lk7yhhhha6k0mpn07c6jcpwkj4ypthrsme5swdncgdttteutnlheckl789f8acettdjhr4a99efqulak43ekj87ecr60ydk47jfue9ck3d0xqk9s9j7la9785jamq5w6zqqc6yrxm9lctpz6lpl3hk90lsn6cr8yyegrfn73xdmwvu83wreymtp3mel06myfl9jcajmtdj62lkhd8yfkm8pj57vwgxjsy4xllpv2zd38ua9uxf4rajmhjrecw5l424v5fxd3u7a99hthdhem3lk3d03grgp2ldlch3qe2eayejnh07nk6443f7ez9stadjete8g0puk6zznhsg47x0vu9aqayl0lskls4aakfy62dnqta6eduh7n22750t33u70w7z52jy2eynchr9m828nahls09mzcz0lclnyz93adkrld49c4kuwsazrdkm5ded85vfrfmjdn0jl5arl6dcgwsmlchmryneh39kadykeyavl240zcn72fkutv6hl43zs756wha0nmeaevle5cpdqt6rekcluzcgxnyl7dls9e5zpj4ysnuk4fg0vmgmw92y9lwl73y2vh0mp06sjt67mpg70vrlheht5258kyyngzqfzta6lwdg95lral9w4h5fdjxfwypnf5m7xh9h6ty8dxhpnlj234la5a6yyc7wfencsvw7c8z4x03pcdklky2lkstuyta8ee9sm88md0wmh9j0gpx52j8qlxzpr958juau58vk2rkrt5nuk7uu45z8s4getvk3dzfl3w0nrz5md28kua4v2tcjdvl2uye40lx06ukhhuyk3xjuc9d7rxvxfh7w4rvl7me4a43fapvrj4da0kg8xejme7jg6h2aa5ht34hmrh8tlaa7g3xj8msp2xuu3lsh5a0puxepf8l03p4gp7n52knhq7euwldd9eu486dprnx28v7v7h87nray46l8lhnsp25vhah7swd8yaa7v8pl2pswz4004st07m357fxm6g6a8aq74d46h7m7yjaqvxjrgt4a9t039qn2wjkwhnzx7a6c0a9j6kldh93jjgt9lte86fztn37mlt5ezgv47dk0wmpjlsuwfuk3lej55nevu6a50de0nxmcmqtm7pqhy0mwlwns505ag698hunvk7tuesdwg5ld3ulul7lpyvjdwymww0hkw3fm5guqq2vuf47347f38\"\n",
    "maker_hex = \"offer1qqzh3wcuu2rykcmqvpsxygqqwc7hynr6hum6e0mnf72sn7uvvkpt68eyumkhelprk0adeg42nlelk2mpagr90qq0a37v8lc9uujaladteux7yt0etq3ehlrhckxnceuh2jgkfra4fn3072hxs7acwq54s3mpeut3mlqm5egpdur78n8wanz44xav5urv70h6235hzmvql99stqll45trywa5rrqdv7z0lh3dpghngrahpep2zhtyjmthajkh7daw3t3e2w6utg337u8ggkyxenwlrd7rxf6lx98k2nn86jmuuzawtrawhnk05aj749tafd2xa267q0r3qc7mqfvzfrfk69rfk69rfk6dzfk6dqfs60fa35mdr6xhgsp30mstenmh6nnc6ldx30rddejdfpxuywcce6crenn6urvvmvva3ddmget2kz42ajmdgpy99w7h80fw4yvkaj76ktelte0yhth62hvh8vdy67nz2580w26q4v9wgznw8zhmgqcmhjsnhavmlxfay2gh7nt4a2gddsh0nw0n6ss7z9we67k8cdeh8zvlmuzehmp2tn0q2crx0myl25elwuvymavs6xa9q5vaqqrfjm747s9gshmm7xw5wgs2crny4rxl7p096dt5v8dc55f43cn8arafz6upz3l3tv79mg8czghm5jeg98cc2jusy4wela0eq7lm6k4tazw04e2mch3h88jval2482x6zh3zmufzv703m4ald4827uj5suh7hlsde8seahma9adzy5mtypmlndslauc4ja5wdyshm9afkd2cpu9748mdynf0jr2qrv4l78x60mc2sc5caxw22p6me607c6ynayyhcffuu07jlf4lzwh0x3qz953afn86h7q9qsctdgvnz3helqzsfl8lej7jlnj7vthfd0ha3vjkk7klaqa8fxqgrmy86l44jnc3h4pg2qu2eenkkqxzkm8ehv5e6tehgtel8rq4kl0em5duhajxn39ztyd870w0fs6fze7c09qwmsylvdekvw8h7u93my9uvl829hchw0x8j3wfw3hfhv6ptxasxhtw49lnjd0r9hmmckvpuhr0y9h88adxkx2ltzc42wlawltvl4gq8t6lqzs5x2tsq\"\n",
    "# request 0.241 XCH, offer 100 DBX\n",
    "maker = Offer.from_bech32(maker_hex)\n",
    "print_offer(maker)"
   ]
  },
  {
   "cell_type": "code",
   "execution_count": 6,
   "id": "af4c338f-9bce-490a-81b6-609da622e028",
   "metadata": {},
   "outputs": [],
   "source": [
    "confirmed_at_height = 3124256\n",
    "request_mojos = 0x381cb82a00\n",
    "offer_mojos = 0x0186a0\n",
    "DBX_TAIL_MOD_HASH = bytes32.from_hexstr(\"0xdb1a9020d48d9d4ad22631b66ab4b9ebd3637ef7758ad38881348c5d24c38f20\")\n",
    "SETTLEMENT_MOD_HASH = bytes32.from_hexstr(\"bae24162efbd568f89bc7a340798a6118df0189eb9e3f8697bcea27af99f8f79\")"
   ]
  },
  {
   "cell_type": "code",
   "execution_count": 5,
   "id": "5eb5c5f6-af61-4595-a03e-d9138cb51c22",
   "metadata": {},
   "outputs": [
    {
     "data": {
      "text/html": [
       "<pre style=\"white-space:pre;overflow-x:auto;line-height:normal;font-family:Menlo,'DejaVu Sans Mono',consolas,'Courier New',monospace\"><span style=\"color: #800080; text-decoration-color: #800080; font-weight: bold\">CoinRecord</span><span style=\"font-weight: bold\">(</span>\n",
       "    <span style=\"color: #808000; text-decoration-color: #808000\">coin</span>=<span style=\"color: #800080; text-decoration-color: #800080\">Coin</span> <span style=\"font-weight: bold\">{</span> parent_coin_info: 800aa5ceda8c7239641c4a81da5800439315d4f4e75704b2f71e3275ef8cfc12, puzzle_hash: \n",
       "5588c44c47b805b4a00d8801998b6ba32ab23b95539bc5e522a37d5037e92030, amount: <span style=\"color: #008080; text-decoration-color: #008080; font-weight: bold\">241000000000</span> <span style=\"font-weight: bold\">}</span>,\n",
       "    <span style=\"color: #808000; text-decoration-color: #808000\">confirmed_block_index</span>=<span style=\"color: #008080; text-decoration-color: #008080; font-weight: bold\">3124256</span>,\n",
       "    <span style=\"color: #808000; text-decoration-color: #808000\">spent_block_index</span>=<span style=\"color: #008080; text-decoration-color: #008080; font-weight: bold\">3124337</span>,\n",
       "    <span style=\"color: #808000; text-decoration-color: #808000\">coinbase</span>=<span style=\"color: #ff0000; text-decoration-color: #ff0000; font-style: italic\">False</span>,\n",
       "    <span style=\"color: #808000; text-decoration-color: #808000\">timestamp</span>=<span style=\"color: #008080; text-decoration-color: #008080; font-weight: bold\">1674056901</span>\n",
       "<span style=\"font-weight: bold\">)</span>\n",
       "</pre>\n"
      ],
      "text/plain": [
       "\u001b[1;35mCoinRecord\u001b[0m\u001b[1m(\u001b[0m\n",
       "    \u001b[33mcoin\u001b[0m=\u001b[35mCoin\u001b[0m \u001b[1m{\u001b[0m parent_coin_info: 800aa5ceda8c7239641c4a81da5800439315d4f4e75704b2f71e3275ef8cfc12, puzzle_hash: \n",
       "5588c44c47b805b4a00d8801998b6ba32ab23b95539bc5e522a37d5037e92030, amount: \u001b[1;36m241000000000\u001b[0m \u001b[1m}\u001b[0m,\n",
       "    \u001b[33mconfirmed_block_index\u001b[0m=\u001b[1;36m3124256\u001b[0m,\n",
       "    \u001b[33mspent_block_index\u001b[0m=\u001b[1;36m3124337\u001b[0m,\n",
       "    \u001b[33mcoinbase\u001b[0m=\u001b[3;91mFalse\u001b[0m,\n",
       "    \u001b[33mtimestamp\u001b[0m=\u001b[1;36m1674056901\u001b[0m\n",
       "\u001b[1m)\u001b[0m\n"
      ]
     },
     "metadata": {},
     "output_type": "display_data"
    },
    {
     "data": {
      "text/html": [
       "<pre style=\"white-space:pre;overflow-x:auto;line-height:normal;font-family:Menlo,'DejaVu Sans Mono',consolas,'Courier New',monospace\">9cd78d821e50fffe9cd953fb2dc311bb2a3568bc4f16da8da86ed4f9a1711e4b\n",
       "</pre>\n"
      ],
      "text/plain": [
       "9cd78d821e50fffe9cd953fb2dc311bb2a3568bc4f16da8da86ed4f9a1711e4b\n"
      ]
     },
     "metadata": {},
     "output_type": "display_data"
    }
   ],
   "source": [
    "notarized_ph = bytes32.from_hexstr(\"0x5588c44c47b805b4a00d8801998b6ba32ab23b95539bc5e522a37d5037e92030\")\n",
    "\n",
    "taker_ph = notarized_ph # request XCH\n",
    "coin_records = await get_coin_records_by_puzzle_hash(taker_ph)\n",
    "maker_output_cr = next(cr for cr in coin_records if \n",
    " cr.confirmed_block_index == confirmed_at_height \n",
    " and cr.coin.amount == request_mojos)\n",
    "print(maker_output_cr)\n",
    "print(maker_output_cr.coin.name().hex())"
   ]
  },
  {
   "cell_type": "code",
   "execution_count": 7,
   "id": "f8ac8ba2-9d57-4b2c-b8fe-2cbcb6f49866",
   "metadata": {},
   "outputs": [
    {
     "data": {
      "text/html": [
       "<pre style=\"white-space:pre;overflow-x:auto;line-height:normal;font-family:Menlo,'DejaVu Sans Mono',consolas,'Courier New',monospace\">24a564f143fc524bb32bf6db190df4a90ad0e1b216c59af3812097a379cb59c9\n",
       "</pre>\n"
      ],
      "text/plain": [
       "24a564f143fc524bb32bf6db190df4a90ad0e1b216c59af3812097a379cb59c9\n"
      ]
     },
     "metadata": {},
     "output_type": "display_data"
    },
    {
     "data": {
      "text/html": [
       "<pre style=\"white-space:pre;overflow-x:auto;line-height:normal;font-family:Menlo,'DejaVu Sans Mono',consolas,'Courier New',monospace\"><span style=\"color: #800080; text-decoration-color: #800080; font-weight: bold\">CoinRecord</span><span style=\"font-weight: bold\">(</span>\n",
       "    <span style=\"color: #808000; text-decoration-color: #808000\">coin</span>=<span style=\"color: #800080; text-decoration-color: #800080\">Coin</span> <span style=\"font-weight: bold\">{</span> parent_coin_info: 6d79fcc2b7c1c52156359ca5c184cfc988861c8c51ea1398effa02fd90d70c59, puzzle_hash: \n",
       "f22a940aead19b869efd1e8d490028e2ce079c1c463039d93db3f00908c3b6a8, amount: <span style=\"color: #008080; text-decoration-color: #008080; font-weight: bold\">100000</span> <span style=\"font-weight: bold\">}</span>,\n",
       "    <span style=\"color: #808000; text-decoration-color: #808000\">confirmed_block_index</span>=<span style=\"color: #008080; text-decoration-color: #008080; font-weight: bold\">3124256</span>,\n",
       "    <span style=\"color: #808000; text-decoration-color: #808000\">spent_block_index</span>=<span style=\"color: #008080; text-decoration-color: #008080; font-weight: bold\">3124256</span>,\n",
       "    <span style=\"color: #808000; text-decoration-color: #808000\">coinbase</span>=<span style=\"color: #ff0000; text-decoration-color: #ff0000; font-style: italic\">False</span>,\n",
       "    <span style=\"color: #808000; text-decoration-color: #808000\">timestamp</span>=<span style=\"color: #008080; text-decoration-color: #008080; font-weight: bold\">1674056901</span>\n",
       "<span style=\"font-weight: bold\">)</span>\n",
       "</pre>\n"
      ],
      "text/plain": [
       "\u001b[1;35mCoinRecord\u001b[0m\u001b[1m(\u001b[0m\n",
       "    \u001b[33mcoin\u001b[0m=\u001b[35mCoin\u001b[0m \u001b[1m{\u001b[0m parent_coin_info: 6d79fcc2b7c1c52156359ca5c184cfc988861c8c51ea1398effa02fd90d70c59, puzzle_hash: \n",
       "f22a940aead19b869efd1e8d490028e2ce079c1c463039d93db3f00908c3b6a8, amount: \u001b[1;36m100000\u001b[0m \u001b[1m}\u001b[0m,\n",
       "    \u001b[33mconfirmed_block_index\u001b[0m=\u001b[1;36m3124256\u001b[0m,\n",
       "    \u001b[33mspent_block_index\u001b[0m=\u001b[1;36m3124256\u001b[0m,\n",
       "    \u001b[33mcoinbase\u001b[0m=\u001b[3;91mFalse\u001b[0m,\n",
       "    \u001b[33mtimestamp\u001b[0m=\u001b[1;36m1674056901\u001b[0m\n",
       "\u001b[1m)\u001b[0m\n"
      ]
     },
     "metadata": {},
     "output_type": "display_data"
    }
   ],
   "source": [
    "maker_input_coin_id = bytes32.from_hexstr(\"6d79fcc2b7c1c52156359ca5c184cfc988861c8c51ea1398effa02fd90d70c59\")\n",
    "maker_settlement_coin = Coin(\n",
    "    maker_input_coin_id,\n",
    "    get_cat_puzzlehash(DBX_TAIL_MOD_HASH, SETTLEMENT_MOD_HASH), # offer TDBX\n",
    "    offer_mojos\n",
    ")\n",
    "print(maker_settlement_coin.name().hex())\n",
    "maker_settlement_cr = await get_coin_record_by_name(maker_settlement_coin.name())\n",
    "print(maker_settlement_cr)"
   ]
  },
  {
   "cell_type": "code",
   "execution_count": 8,
   "id": "5072d443-1c1f-4f5c-9350-5724fce4bbd5",
   "metadata": {},
   "outputs": [
    {
     "data": {
      "text/html": [
       "<pre style=\"white-space:pre;overflow-x:auto;line-height:normal;font-family:Menlo,'DejaVu Sans Mono',consolas,'Courier New',monospace\"><span style=\"font-weight: bold\">[</span>\n",
       "    <span style=\"color: #800080; text-decoration-color: #800080; font-weight: bold\">CoinRecord</span><span style=\"font-weight: bold\">(</span>\n",
       "        <span style=\"color: #808000; text-decoration-color: #808000\">coin</span>=<span style=\"color: #800080; text-decoration-color: #800080\">Coin</span> <span style=\"font-weight: bold\">{</span> parent_coin_info: 24a564f143fc524bb32bf6db190df4a90ad0e1b216c59af3812097a379cb59c9, \n",
       "puzzle_hash: ed658cf520f9c4fdd1f7aedc6a089652ece69a12a22f3cb050776be305fef1ea, amount: <span style=\"color: #008080; text-decoration-color: #008080; font-weight: bold\">100000</span> <span style=\"font-weight: bold\">}</span>,\n",
       "        <span style=\"color: #808000; text-decoration-color: #808000\">confirmed_block_index</span>=<span style=\"color: #008080; text-decoration-color: #008080; font-weight: bold\">3124256</span>,\n",
       "        <span style=\"color: #808000; text-decoration-color: #808000\">spent_block_index</span>=<span style=\"color: #008080; text-decoration-color: #008080; font-weight: bold\">0</span>,\n",
       "        <span style=\"color: #808000; text-decoration-color: #808000\">coinbase</span>=<span style=\"color: #ff0000; text-decoration-color: #ff0000; font-style: italic\">False</span>,\n",
       "        <span style=\"color: #808000; text-decoration-color: #808000\">timestamp</span>=<span style=\"color: #008080; text-decoration-color: #008080; font-weight: bold\">1674056901</span>\n",
       "    <span style=\"font-weight: bold\">)</span>\n",
       "<span style=\"font-weight: bold\">]</span>\n",
       "</pre>\n"
      ],
      "text/plain": [
       "\u001b[1m[\u001b[0m\n",
       "    \u001b[1;35mCoinRecord\u001b[0m\u001b[1m(\u001b[0m\n",
       "        \u001b[33mcoin\u001b[0m=\u001b[35mCoin\u001b[0m \u001b[1m{\u001b[0m parent_coin_info: 24a564f143fc524bb32bf6db190df4a90ad0e1b216c59af3812097a379cb59c9, \n",
       "puzzle_hash: ed658cf520f9c4fdd1f7aedc6a089652ece69a12a22f3cb050776be305fef1ea, amount: \u001b[1;36m100000\u001b[0m \u001b[1m}\u001b[0m,\n",
       "        \u001b[33mconfirmed_block_index\u001b[0m=\u001b[1;36m3124256\u001b[0m,\n",
       "        \u001b[33mspent_block_index\u001b[0m=\u001b[1;36m0\u001b[0m,\n",
       "        \u001b[33mcoinbase\u001b[0m=\u001b[3;91mFalse\u001b[0m,\n",
       "        \u001b[33mtimestamp\u001b[0m=\u001b[1;36m1674056901\u001b[0m\n",
       "    \u001b[1m)\u001b[0m\n",
       "\u001b[1m]\u001b[0m\n"
      ]
     },
     "metadata": {},
     "output_type": "display_data"
    }
   ],
   "source": [
    "taker_output_cr = await get_coin_records_by_parent_id(maker_settlement_coin.name())\n",
    "print(taker_output_cr)"
   ]
  }
 ],
 "metadata": {
  "kernelspec": {
   "display_name": "Python 3 (ipykernel)",
   "language": "python",
   "name": "python3"
  },
  "language_info": {
   "codemirror_mode": {
    "name": "ipython",
    "version": 3
   },
   "file_extension": ".py",
   "mimetype": "text/x-python",
   "name": "python",
   "nbconvert_exporter": "python",
   "pygments_lexer": "ipython3",
   "version": "3.10.9"
  }
 },
 "nbformat": 4,
 "nbformat_minor": 5
}
