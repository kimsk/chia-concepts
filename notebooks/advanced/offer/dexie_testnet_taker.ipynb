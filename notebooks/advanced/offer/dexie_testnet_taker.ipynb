{
 "cells": [
  {
   "cell_type": "code",
   "execution_count": 60,
   "id": "e5f14a0f-5e0c-478f-b1ca-e50739072008",
   "metadata": {},
   "outputs": [],
   "source": [
    "chia_root = Path(\"/Users/karlkim/.chia/testnet10/\")\n",
    "chia_config = load_config(chia_root, \"config.yaml\")\n",
    "self_hostname = chia_config[\"self_hostname\"]\n",
    "full_node_rpc_port = chia_config[\"full_node\"][\"rpc_port\"]\n",
    "wallet_rpc_port = chia_config[\"wallet\"][\"rpc_port\"]\n",
    "@with_full_node_rpc_client(self_hostname, full_node_rpc_port, chia_root, chia_config)\n",
    "async def get_coin_records_by_puzzle_hash(full_node_client, puzzle_hash):\n",
    "    puzzle_hash_bytes: bytes32 = bytes32.from_hexstr(puzzle_hash)\n",
    "    coin_records = await full_node_client.get_coin_records_by_puzzle_hash(\n",
    "        puzzle_hash_bytes\n",
    "    )\n",
    "    return coin_records\n",
    "\n",
    "@with_full_node_rpc_client(self_hostname, full_node_rpc_port, chia_root, chia_config)\n",
    "async def get_coin_spend(full_node_client, coin_id, spent_height):\n",
    "    coin_spend = await full_node_client.get_puzzle_and_solution(coin_id, spent_height)\n",
    "    return coin_spend\n",
    "\n",
    "@with_full_node_rpc_client(self_hostname, full_node_rpc_port, chia_root, chia_config)\n",
    "async def get_coins_in_block(full_node_client, height):\n",
    "    block_records = await full_node_client.get_block_records(height, height + 1)\n",
    "    header_hash = bytes32.from_hexstr(block_records[0]['header_hash'])\n",
    "    result = await full_node_client.get_additions_and_removals(header_hash)\n",
    "    return result"
   ]
  },
  {
   "cell_type": "code",
   "execution_count": 45,
   "id": "c9f79842-ef3a-44ac-832b-cde469a3f1fe",
   "metadata": {},
   "outputs": [
    {
     "name": "stdout",
     "output_type": "stream",
     "text": [
      "Notarized Payment:\n"
     ]
    },
    {
     "data": {
      "text/html": [
       "<pre style=\"white-space:pre;overflow-x:auto;line-height:normal;font-family:Menlo,'DejaVu Sans Mono',consolas,'Courier New',monospace\"><span style=\"color: #f8f8f2; text-decoration-color: #f8f8f2; background-color: #272822\">(</span><span style=\"color: #a6e22e; text-decoration-color: #a6e22e; background-color: #272822\">CREATE_COIN</span><span style=\"color: #f8f8f2; text-decoration-color: #f8f8f2; background-color: #272822\"> </span><span style=\"color: #ae81ff; text-decoration-color: #ae81ff; background-color: #272822\">0</span><span style=\"color: #f8f8f2; text-decoration-color: #f8f8f2; background-color: #272822\">x6dec61e20403ddbcc395cfb9b1b69eb73b10f19c5673972aec2079c3b40df9b6 </span><span style=\"color: #ae81ff; text-decoration-color: #ae81ff; background-color: #272822\">1000</span><span style=\"color: #f8f8f2; text-decoration-color: #f8f8f2; background-color: #272822\"> </span><span style=\"background-color: #272822\">                              </span>\n",
       "<span style=\"color: #f8f8f2; text-decoration-color: #f8f8f2; background-color: #272822\">(</span><span style=\"color: #ae81ff; text-decoration-color: #ae81ff; background-color: #272822\">0</span><span style=\"color: #f8f8f2; text-decoration-color: #f8f8f2; background-color: #272822\">x6dec61e20403ddbcc395cfb9b1b69eb73b10f19c5673972aec2079c3b40df9b6))</span><span style=\"background-color: #272822\">                                              </span>\n",
       "</pre>\n"
      ],
      "text/plain": [
       "\u001b[38;2;248;248;242;48;2;39;40;34m(\u001b[0m\u001b[38;2;166;226;46;48;2;39;40;34mCREATE_COIN\u001b[0m\u001b[38;2;248;248;242;48;2;39;40;34m \u001b[0m\u001b[38;2;174;129;255;48;2;39;40;34m0\u001b[0m\u001b[38;2;248;248;242;48;2;39;40;34mx6dec61e20403ddbcc395cfb9b1b69eb73b10f19c5673972aec2079c3b40df9b6\u001b[0m\u001b[38;2;248;248;242;48;2;39;40;34m \u001b[0m\u001b[38;2;174;129;255;48;2;39;40;34m1000\u001b[0m\u001b[38;2;248;248;242;48;2;39;40;34m \u001b[0m\u001b[48;2;39;40;34m                              \u001b[0m\n",
       "\u001b[38;2;248;248;242;48;2;39;40;34m(\u001b[0m\u001b[38;2;174;129;255;48;2;39;40;34m0\u001b[0m\u001b[38;2;248;248;242;48;2;39;40;34mx6dec61e20403ddbcc395cfb9b1b69eb73b10f19c5673972aec2079c3b40df9b6\u001b[0m\u001b[38;2;248;248;242;48;2;39;40;34m)\u001b[0m\u001b[38;2;248;248;242;48;2;39;40;34m)\u001b[0m\u001b[48;2;39;40;34m                                              \u001b[0m\n"
      ]
     },
     "metadata": {},
     "output_type": "display_data"
    },
    {
     "name": "stdout",
     "output_type": "stream",
     "text": [
      "CoinSpend:\n",
      "Coin:\n",
      "f8d7fefd1261cf4d44509e4a6c0d13a0a1abb2402be7d26806b279308f03c427\n",
      "Coin { parent_coin_info: b88c1c89f648ceae98d04c224fc6b4578031b3ef7c385b7aa6adf44bf60aa6e2, puzzle_hash: 6dec61e20403ddbcc395cfb9b1b69eb73b10f19c5673972aec2079c3b40df9b6, amount: 4989000000000 }\n",
      "\n",
      "Conditions\n"
     ]
    },
    {
     "data": {
      "text/html": [
       "<pre style=\"white-space:pre;overflow-x:auto;line-height:normal;font-family:Menlo,'DejaVu Sans Mono',consolas,'Courier New',monospace\"><span style=\"color: #f8f8f2; text-decoration-color: #f8f8f2; background-color: #272822\">(</span><span style=\"color: #a6e22e; text-decoration-color: #a6e22e; background-color: #272822\">AGG_SIG_ME</span><span style=\"color: #f8f8f2; text-decoration-color: #f8f8f2; background-color: #272822\"> </span><span style=\"color: #ae81ff; text-decoration-color: #ae81ff; background-color: #272822\">0</span><span style=\"color: #f8f8f2; text-decoration-color: #f8f8f2; background-color: #272822\">x98ff7e53d4ac3912a7ff2055aa27aed3f9d29eee70f566bed874535fe338a43c42df91761ac1bd78d821b1f4e7dd0854 </span><span style=\"background-color: #272822\">    </span>\n",
       "<span style=\"color: #ae81ff; text-decoration-color: #ae81ff; background-color: #272822\">0</span><span style=\"color: #f8f8f2; text-decoration-color: #f8f8f2; background-color: #272822\">x988ea9574f63550891ecf2bba960a7359d1011ed8faa2d68b98979302a87c797)</span><span style=\"background-color: #272822\">                                                </span>\n",
       "</pre>\n"
      ],
      "text/plain": [
       "\u001b[38;2;248;248;242;48;2;39;40;34m(\u001b[0m\u001b[38;2;166;226;46;48;2;39;40;34mAGG_SIG_ME\u001b[0m\u001b[38;2;248;248;242;48;2;39;40;34m \u001b[0m\u001b[38;2;174;129;255;48;2;39;40;34m0\u001b[0m\u001b[38;2;248;248;242;48;2;39;40;34mx98ff7e53d4ac3912a7ff2055aa27aed3f9d29eee70f566bed874535fe338a43c42df91761ac1bd78d821b1f4e7dd0854\u001b[0m\u001b[38;2;248;248;242;48;2;39;40;34m \u001b[0m\u001b[48;2;39;40;34m    \u001b[0m\n",
       "\u001b[38;2;174;129;255;48;2;39;40;34m0\u001b[0m\u001b[38;2;248;248;242;48;2;39;40;34mx988ea9574f63550891ecf2bba960a7359d1011ed8faa2d68b98979302a87c797\u001b[0m\u001b[38;2;248;248;242;48;2;39;40;34m)\u001b[0m\u001b[48;2;39;40;34m                                                \u001b[0m\n"
      ]
     },
     "metadata": {},
     "output_type": "display_data"
    },
    {
     "data": {
      "text/html": [
       "<pre style=\"white-space:pre;overflow-x:auto;line-height:normal;font-family:Menlo,'DejaVu Sans Mono',consolas,'Courier New',monospace\"><span style=\"color: #f8f8f2; text-decoration-color: #f8f8f2; background-color: #272822\">(</span><span style=\"color: #a6e22e; text-decoration-color: #a6e22e; background-color: #272822\">CREATE_COIN</span><span style=\"color: #f8f8f2; text-decoration-color: #f8f8f2; background-color: #272822\"> </span><span style=\"color: #ae81ff; text-decoration-color: #ae81ff; background-color: #272822\">0</span><span style=\"color: #f8f8f2; text-decoration-color: #f8f8f2; background-color: #272822\">xbae24162efbd568f89bc7a340798a6118df0189eb9e3f8697bcea27af99f8f79 </span><span style=\"color: #ae81ff; text-decoration-color: #ae81ff; background-color: #272822\">0</span><span style=\"color: #f8f8f2; text-decoration-color: #f8f8f2; background-color: #272822\">x19135f60)</span><span style=\"background-color: #272822\">                        </span>\n",
       "</pre>\n"
      ],
      "text/plain": [
       "\u001b[38;2;248;248;242;48;2;39;40;34m(\u001b[0m\u001b[38;2;166;226;46;48;2;39;40;34mCREATE_COIN\u001b[0m\u001b[38;2;248;248;242;48;2;39;40;34m \u001b[0m\u001b[38;2;174;129;255;48;2;39;40;34m0\u001b[0m\u001b[38;2;248;248;242;48;2;39;40;34mxbae24162efbd568f89bc7a340798a6118df0189eb9e3f8697bcea27af99f8f79\u001b[0m\u001b[38;2;248;248;242;48;2;39;40;34m \u001b[0m\u001b[38;2;174;129;255;48;2;39;40;34m0\u001b[0m\u001b[38;2;248;248;242;48;2;39;40;34mx19135f60\u001b[0m\u001b[38;2;248;248;242;48;2;39;40;34m)\u001b[0m\u001b[48;2;39;40;34m                        \u001b[0m\n"
      ]
     },
     "metadata": {},
     "output_type": "display_data"
    },
    {
     "data": {
      "text/html": [
       "<pre style=\"white-space:pre;overflow-x:auto;line-height:normal;font-family:Menlo,'DejaVu Sans Mono',consolas,'Courier New',monospace\"><span style=\"color: #f8f8f2; text-decoration-color: #f8f8f2; background-color: #272822\">(</span><span style=\"color: #a6e22e; text-decoration-color: #a6e22e; background-color: #272822\">RESERVE_FEE</span><span style=\"color: #f8f8f2; text-decoration-color: #f8f8f2; background-color: #272822\"> </span><span style=\"color: #ae81ff; text-decoration-color: #ae81ff; background-color: #272822\">0</span><span style=\"color: #f8f8f2; text-decoration-color: #f8f8f2; background-color: #272822\">x1dcd6500)</span><span style=\"background-color: #272822\">                                                                                           </span>\n",
       "</pre>\n"
      ],
      "text/plain": [
       "\u001b[38;2;248;248;242;48;2;39;40;34m(\u001b[0m\u001b[38;2;166;226;46;48;2;39;40;34mRESERVE_FEE\u001b[0m\u001b[38;2;248;248;242;48;2;39;40;34m \u001b[0m\u001b[38;2;174;129;255;48;2;39;40;34m0\u001b[0m\u001b[38;2;248;248;242;48;2;39;40;34mx1dcd6500\u001b[0m\u001b[38;2;248;248;242;48;2;39;40;34m)\u001b[0m\u001b[48;2;39;40;34m                                                                                           \u001b[0m\n"
      ]
     },
     "metadata": {},
     "output_type": "display_data"
    },
    {
     "data": {
      "text/html": [
       "<pre style=\"white-space:pre;overflow-x:auto;line-height:normal;font-family:Menlo,'DejaVu Sans Mono',consolas,'Courier New',monospace\"><span style=\"color: #f8f8f2; text-decoration-color: #f8f8f2; background-color: #272822\">(</span><span style=\"color: #a6e22e; text-decoration-color: #a6e22e; background-color: #272822\">CREATE_COIN</span><span style=\"color: #f8f8f2; text-decoration-color: #f8f8f2; background-color: #272822\"> </span><span style=\"color: #ae81ff; text-decoration-color: #ae81ff; background-color: #272822\">0</span><span style=\"color: #f8f8f2; text-decoration-color: #f8f8f2; background-color: #272822\">x6dec61e20403ddbcc395cfb9b1b69eb73b10f19c5673972aec2079c3b40df9b6 </span><span style=\"color: #ae81ff; text-decoration-color: #ae81ff; background-color: #272822\">0</span><span style=\"color: #f8f8f2; text-decoration-color: #f8f8f2; background-color: #272822\">x048960b1dda0)</span><span style=\"background-color: #272822\">                    </span>\n",
       "</pre>\n"
      ],
      "text/plain": [
       "\u001b[38;2;248;248;242;48;2;39;40;34m(\u001b[0m\u001b[38;2;166;226;46;48;2;39;40;34mCREATE_COIN\u001b[0m\u001b[38;2;248;248;242;48;2;39;40;34m \u001b[0m\u001b[38;2;174;129;255;48;2;39;40;34m0\u001b[0m\u001b[38;2;248;248;242;48;2;39;40;34mx6dec61e20403ddbcc395cfb9b1b69eb73b10f19c5673972aec2079c3b40df9b6\u001b[0m\u001b[38;2;248;248;242;48;2;39;40;34m \u001b[0m\u001b[38;2;174;129;255;48;2;39;40;34m0\u001b[0m\u001b[38;2;248;248;242;48;2;39;40;34mx048960b1dda0\u001b[0m\u001b[38;2;248;248;242;48;2;39;40;34m)\u001b[0m\u001b[48;2;39;40;34m                    \u001b[0m\n"
      ]
     },
     "metadata": {},
     "output_type": "display_data"
    },
    {
     "data": {
      "text/html": [
       "<pre style=\"white-space:pre;overflow-x:auto;line-height:normal;font-family:Menlo,'DejaVu Sans Mono',consolas,'Courier New',monospace\"><span style=\"color: #f8f8f2; text-decoration-color: #f8f8f2; background-color: #272822\">(</span><span style=\"color: #a6e22e; text-decoration-color: #a6e22e; background-color: #272822\">ASSERT_PUZZLE_ANNOUNCEMENT</span><span style=\"color: #f8f8f2; text-decoration-color: #f8f8f2; background-color: #272822\"> </span><span style=\"color: #ae81ff; text-decoration-color: #ae81ff; background-color: #272822\">0</span><span style=\"color: #f8f8f2; text-decoration-color: #f8f8f2; background-color: #272822\">x95ddff829a6e8a59290cd7dc91659bc16fffbb1ceb140fa84465249a147c444d)</span><span style=\"background-color: #272822\">                    </span>\n",
       "</pre>\n"
      ],
      "text/plain": [
       "\u001b[38;2;248;248;242;48;2;39;40;34m(\u001b[0m\u001b[38;2;166;226;46;48;2;39;40;34mASSERT_PUZZLE_ANNOUNCEMENT\u001b[0m\u001b[38;2;248;248;242;48;2;39;40;34m \u001b[0m\u001b[38;2;174;129;255;48;2;39;40;34m0\u001b[0m\u001b[38;2;248;248;242;48;2;39;40;34mx95ddff829a6e8a59290cd7dc91659bc16fffbb1ceb140fa84465249a147c444d\u001b[0m\u001b[38;2;248;248;242;48;2;39;40;34m)\u001b[0m\u001b[48;2;39;40;34m                    \u001b[0m\n"
      ]
     },
     "metadata": {},
     "output_type": "display_data"
    },
    {
     "data": {
      "text/html": [
       "<pre style=\"white-space:pre;overflow-x:auto;line-height:normal;font-family:Menlo,'DejaVu Sans Mono',consolas,'Courier New',monospace\"><span style=\"color: #f8f8f2; text-decoration-color: #f8f8f2; background-color: #272822\">(</span><span style=\"color: #a6e22e; text-decoration-color: #a6e22e; background-color: #272822\">CREATE_COIN_ANNOUNCEMENT</span><span style=\"color: #f8f8f2; text-decoration-color: #f8f8f2; background-color: #272822\"> </span><span style=\"color: #ae81ff; text-decoration-color: #ae81ff; background-color: #272822\">0</span><span style=\"color: #f8f8f2; text-decoration-color: #f8f8f2; background-color: #272822\">x40e4ca0b005b83817847c625bd8773f0ac7eb45a950cc355521a48733f30800f)</span><span style=\"background-color: #272822\">                      </span>\n",
       "</pre>\n"
      ],
      "text/plain": [
       "\u001b[38;2;248;248;242;48;2;39;40;34m(\u001b[0m\u001b[38;2;166;226;46;48;2;39;40;34mCREATE_COIN_ANNOUNCEMENT\u001b[0m\u001b[38;2;248;248;242;48;2;39;40;34m \u001b[0m\u001b[38;2;174;129;255;48;2;39;40;34m0\u001b[0m\u001b[38;2;248;248;242;48;2;39;40;34mx40e4ca0b005b83817847c625bd8773f0ac7eb45a950cc355521a48733f30800f\u001b[0m\u001b[38;2;248;248;242;48;2;39;40;34m)\u001b[0m\u001b[48;2;39;40;34m                      \u001b[0m\n"
      ]
     },
     "metadata": {},
     "output_type": "display_data"
    },
    {
     "name": "stdout",
     "output_type": "stream",
     "text": [
      "\n",
      "Additions:\n",
      "Coin { parent_coin_info: f8d7fefd1261cf4d44509e4a6c0d13a0a1abb2402be7d26806b279308f03c427, puzzle_hash: bae24162efbd568f89bc7a340798a6118df0189eb9e3f8697bcea27af99f8f79, amount: 420700000 }\n",
      "Coin { parent_coin_info: f8d7fefd1261cf4d44509e4a6c0d13a0a1abb2402be7d26806b279308f03c427, puzzle_hash: 6dec61e20403ddbcc395cfb9b1b69eb73b10f19c5673972aec2079c3b40df9b6, amount: 4988079300000 }\n",
      "\n",
      "Removals:\n",
      "Coin { parent_coin_info: b88c1c89f648ceae98d04c224fc6b4578031b3ef7c385b7aa6adf44bf60aa6e2, puzzle_hash: 6dec61e20403ddbcc395cfb9b1b69eb73b10f19c5673972aec2079c3b40df9b6, amount: 4989000000000 }\n",
      "Driver Dict:\n",
      "PuzzleInfo(info={'type': 'CAT', 'tail': '0xd82dd03f8a9ad2f84353cd953c4de6b21dbaaf7de3ba3f4ddd9abe31ecba80ad'})\n"
     ]
    }
   ],
   "source": [
    "maker_hex = \"offer1qqz83wcsltt6wcmqvpsxygqqd60lvl6hxaj55a4p6kemad9enu6k99nsn4xmnyq47wnulf4y57h05djvrk7qjdj6kxx4vm9rzhdk33fkt2cc64nvlur6sc5rznhqhn8h04883476dz7x6mny6jzdcga33n4s8n884cxcekcemz6mk3jk4v924myxaczlhtjejalrspuln44w87mvj0k2aad43aman777nk6uluxd46rtt592qfdt0rwwzkpnzjrxcx8y02ek9utd8h9s0n8vz90wteyj9t72538n4xqat4lgmu2an6jwt8cv5zfdcduf3avf3mlw8y70tlxw3hd7vmdhzmursfav0zadvxu9etp4k7rldmaal38usgyx2gqtwl6vsar77vutwmkxq50jtlmrt0ppkrphh7hmrz9wt2m0dzlhx7hxtrcgn8qupsxj897aygk55m98qhnfqcm83suvla6uz47ktq9zmla0zzay5lwauk0e0e4a90uf4dh0geyhplrr3vjnvnhhy7tyj8wutdc5xu0rjlnhww2zcpdpkgrfltlcyhv0rjfaamcda0hac5m9cglx8xtqaurcj7fmrllu3tp7k75w4elulm907tvjctcsjs89yml4kex05cerfqr4zxx02d5ke6zg6achqp2ahl6lxr67alaxt9u4myv68nt77nzvn47npllld6vawghu9dw9y4tx382t37qz2hvlchlq7rjpgd6rw3ek8p0mx82mmmw9rltdgmvfnt98xwp5fr928kx75zq3789k3wdjemrlxp8w86tq4ckr88delzdt9xy0u7nzsdwdjvnhwtjg2ms96feq9wm0cx880nhs33tasu7lwnhmcfht0k4ltrlthdksjetndnaurhpg5zjy5uaw69t9wh4ar7xjyhvjvcx6vnujmfagl9t3te65k937k3d0qvq0pcvykcl3r9yt\"\n",
    "# request 1 TDBX, offer 0x19135f60 mojos\n",
    "maker = Offer.from_bech32(maker_hex)\n",
    "print_offer(maker)"
   ]
  },
  {
   "cell_type": "code",
   "execution_count": 46,
   "id": "05f297fe-d097-43df-911e-25f32b6d9728",
   "metadata": {},
   "outputs": [],
   "source": [
    "request_mojos = 1000\n",
    "confirmed_at_height = 2094173"
   ]
  },
  {
   "cell_type": "code",
   "execution_count": 47,
   "id": "8536c836-2326-4637-afcf-863793b66df6",
   "metadata": {},
   "outputs": [
    {
     "data": {
      "text/html": [
       "<pre style=\"white-space:pre;overflow-x:auto;line-height:normal;font-family:Menlo,'DejaVu Sans Mono',consolas,'Courier New',monospace\"><span style=\"color: #008000; text-decoration-color: #008000\">'8f0d1d3957bc934670207656855e8ae9541d862079fe065a5862350718952aa1'</span>\n",
       "</pre>\n"
      ],
      "text/plain": [
       "\u001b[32m'8f0d1d3957bc934670207656855e8ae9541d862079fe065a5862350718952aa1'\u001b[0m\n"
      ]
     },
     "metadata": {},
     "output_type": "display_data"
    }
   ],
   "source": [
    "# (CREATE_COIN \n",
    "#      0x6dec61e20403ddbcc395cfb9b1b69eb73b10f19c5673972aec2079c3b40df9b6 \n",
    "#      1000 \n",
    "#     (0x6dec61e20403ddbcc395cfb9b1b69eb73b10f19c5673972aec2079c3b40df9b6)\n",
    "# ) \n",
    "tdbx_asset_id = bytes32.from_hexstr(\"0xd82dd03f8a9ad2f84353cd953c4de6b21dbaaf7de3ba3f4ddd9abe31ecba80ad\")\n",
    "notarized_ph = bytes32.from_hexstr(\"0x6dec61e20403ddbcc395cfb9b1b69eb73b10f19c5673972aec2079c3b40df9b6\")\n",
    "\n",
    "taker_ph = get_cat_puzzlehash(tdbx_asset_id, notarized_ph)\n",
    "taker_ph.hex()"
   ]
  },
  {
   "cell_type": "code",
   "execution_count": 87,
   "id": "e915b2ca-919f-4025-97cc-70d36a3c12c3",
   "metadata": {},
   "outputs": [
    {
     "data": {
      "text/html": [
       "<pre style=\"white-space:pre;overflow-x:auto;line-height:normal;font-family:Menlo,'DejaVu Sans Mono',consolas,'Courier New',monospace\">671dbbd64022a3f7a77eec14b55b18163167360daea9423d9611bca7653b0fcb\n",
       "</pre>\n"
      ],
      "text/plain": [
       "671dbbd64022a3f7a77eec14b55b18163167360daea9423d9611bca7653b0fcb\n"
      ]
     },
     "metadata": {},
     "output_type": "display_data"
    }
   ],
   "source": [
    "maker_coin_id = bytes32.from_hexstr(\"f8d7fefd1261cf4d44509e4a6c0d13a0a1abb2402be7d26806b279308f03c427\")\n",
    "maker_settlement_coin = Coin(\n",
    "    bytes32.from_hexstr(\"f8d7fefd1261cf4d44509e4a6c0d13a0a1abb2402be7d26806b279308f03c427\"),\n",
    "    bytes32.from_hexstr(\"bae24162efbd568f89bc7a340798a6118df0189eb9e3f8697bcea27af99f8f79\"),\n",
    "    420700000\n",
    ")\n",
    "print(maker_settlement_coin.name().hex())\n",
    "coin_records = await get_coin_records_by_puzzle_hash(taker_ph.hex())\n",
    "maker_output_coin = next(cr for cr in coin_records if cr.confirmed_block_index == 2094173 and cr.coin.amount == request_mojos)"
   ]
  },
  {
   "cell_type": "code",
   "execution_count": 86,
   "id": "ab96d44e-eeec-4815-bc43-e8bd5396d3c4",
   "metadata": {},
   "outputs": [
    {
     "data": {
      "text/html": [
       "<pre style=\"white-space:pre;overflow-x:auto;line-height:normal;font-family:Menlo,'DejaVu Sans Mono',consolas,'Courier New',monospace\"><span style=\"color: #800080; text-decoration-color: #800080; font-weight: bold\">CoinRecord</span><span style=\"font-weight: bold\">(</span>\n",
       "    <span style=\"color: #808000; text-decoration-color: #808000\">coin</span>=<span style=\"color: #800080; text-decoration-color: #800080\">Coin</span> <span style=\"font-weight: bold\">{</span> parent_coin_info: fc82d0ae1a093cd6e8dc99a37a7e83f6c00af48efaadda52ff8abcc3f91698d8, puzzle_hash: \n",
       "8f0d1d3957bc934670207656855e8ae9541d862079fe065a5862350718952aa1, amount: <span style=\"color: #008080; text-decoration-color: #008080; font-weight: bold\">1000</span> <span style=\"font-weight: bold\">}</span>,\n",
       "    <span style=\"color: #808000; text-decoration-color: #808000\">confirmed_block_index</span>=<span style=\"color: #008080; text-decoration-color: #008080; font-weight: bold\">2094173</span>,\n",
       "    <span style=\"color: #808000; text-decoration-color: #808000\">spent_block_index</span>=<span style=\"color: #008080; text-decoration-color: #008080; font-weight: bold\">0</span>,\n",
       "    <span style=\"color: #808000; text-decoration-color: #808000\">coinbase</span>=<span style=\"color: #ff0000; text-decoration-color: #ff0000; font-style: italic\">False</span>,\n",
       "    <span style=\"color: #808000; text-decoration-color: #808000\">timestamp</span>=<span style=\"color: #008080; text-decoration-color: #008080; font-weight: bold\">1674002486</span>\n",
       "<span style=\"font-weight: bold\">)</span>\n",
       "</pre>\n"
      ],
      "text/plain": [
       "\u001b[1;35mCoinRecord\u001b[0m\u001b[1m(\u001b[0m\n",
       "    \u001b[33mcoin\u001b[0m=\u001b[35mCoin\u001b[0m \u001b[1m{\u001b[0m parent_coin_info: fc82d0ae1a093cd6e8dc99a37a7e83f6c00af48efaadda52ff8abcc3f91698d8, puzzle_hash: \n",
       "8f0d1d3957bc934670207656855e8ae9541d862079fe065a5862350718952aa1, amount: \u001b[1;36m1000\u001b[0m \u001b[1m}\u001b[0m,\n",
       "    \u001b[33mconfirmed_block_index\u001b[0m=\u001b[1;36m2094173\u001b[0m,\n",
       "    \u001b[33mspent_block_index\u001b[0m=\u001b[1;36m0\u001b[0m,\n",
       "    \u001b[33mcoinbase\u001b[0m=\u001b[3;91mFalse\u001b[0m,\n",
       "    \u001b[33mtimestamp\u001b[0m=\u001b[1;36m1674002486\u001b[0m\n",
       "\u001b[1m)\u001b[0m\n"
      ]
     },
     "metadata": {},
     "output_type": "display_data"
    },
    {
     "ename": "AttributeError",
     "evalue": "'NoneType' object has no attribute 'puzzle_reveal'",
     "output_type": "error",
     "traceback": [
      "\u001b[0;31m---------------------------------------------------------------------------\u001b[0m",
      "\u001b[0;31mAttributeError\u001b[0m                            Traceback (most recent call last)",
      "Cell \u001b[0;32mIn [86], line 5\u001b[0m\n\u001b[1;32m      1\u001b[0m \u001b[38;5;28mprint\u001b[39m(maker_settlement_cr)\n\u001b[1;32m      2\u001b[0m coin_spend \u001b[38;5;241m=\u001b[39m \u001b[38;5;28;01mawait\u001b[39;00m get_coin_spend(\n\u001b[1;32m      3\u001b[0m     maker_settlement_cr\u001b[38;5;241m.\u001b[39mcoin\u001b[38;5;241m.\u001b[39mname(), \n\u001b[1;32m      4\u001b[0m     maker_settlement_cr\u001b[38;5;241m.\u001b[39mspent_block_index)\n\u001b[0;32m----> 5\u001b[0m puzzle \u001b[38;5;241m=\u001b[39m \u001b[43mcoin_spend\u001b[49m\u001b[38;5;241;43m.\u001b[39;49m\u001b[43mpuzzle_reveal\u001b[49m\u001b[38;5;241m.\u001b[39mto_program()\n\u001b[1;32m      6\u001b[0m solution \u001b[38;5;241m=\u001b[39m coin_spend\u001b[38;5;241m.\u001b[39msolution\u001b[38;5;241m.\u001b[39mto_program()\n\u001b[1;32m      7\u001b[0m conditions \u001b[38;5;241m=\u001b[39m puzzle\u001b[38;5;241m.\u001b[39mrun(solution)\u001b[38;5;241m.\u001b[39mas_python()\n",
      "\u001b[0;31mAttributeError\u001b[0m: 'NoneType' object has no attribute 'puzzle_reveal'"
     ]
    }
   ],
   "source": [
    "m\n",
    "coin_spend = await get_coin_spend(\n",
    "    maker_settlement_cr.coin.name(), \n",
    "    maker_settlement_cr.spent_block_index)\n",
    "puzzle = coin_spend.puzzle_reveal.to_program()\n",
    "solution = coin_spend.solution.to_program()\n",
    "conditions = puzzle.run(solution).as_python()\n",
    "for c in conditions:\n",
    "    opcode = ConditionOpcode.from_bytes(c[0])\n",
    "    if opcode == ConditionOpcode.CREATE_COIN:\n",
    "        announcement = std_hash(maker_settlement_cr.coin.puzzle_hash + c[1])\n",
    "        print(announcement)"
   ]
  },
  {
   "cell_type": "code",
   "execution_count": 92,
   "id": "d93a9319-8b8c-414f-abf9-13ca8e714897",
   "metadata": {},
   "outputs": [
    {
     "data": {
      "text/html": [
       "<pre style=\"white-space:pre;overflow-x:auto;line-height:normal;font-family:Menlo,'DejaVu Sans Mono',consolas,'Courier New',monospace\">dbcb4fee7e94946b713ae68e669df3285ca40acd64d06a5cfc8e3c748c7e7bdb\n",
       "</pre>\n"
      ],
      "text/plain": [
       "dbcb4fee7e94946b713ae68e669df3285ca40acd64d06a5cfc8e3c748c7e7bdb\n"
      ]
     },
     "metadata": {},
     "output_type": "display_data"
    },
    {
     "data": {
      "text/html": [
       "<pre style=\"white-space:pre;overflow-x:auto;line-height:normal;font-family:Menlo,'DejaVu Sans Mono',consolas,'Courier New',monospace\"><span style=\"color: #800080; text-decoration-color: #800080; font-weight: bold\">CoinRecord</span><span style=\"font-weight: bold\">(</span>\n",
       "    <span style=\"color: #808000; text-decoration-color: #808000\">coin</span>=<span style=\"color: #800080; text-decoration-color: #800080\">Coin</span> <span style=\"font-weight: bold\">{</span> parent_coin_info: 76f55ce8e980b8551aa2c621c77488cf4255e883b6fb117bc4148ce64c757f94, puzzle_hash: \n",
       "dbcb4fee7e94946b713ae68e669df3285ca40acd64d06a5cfc8e3c748c7e7bdb, amount: <span style=\"color: #008080; text-decoration-color: #008080; font-weight: bold\">1000</span> <span style=\"font-weight: bold\">}</span>,\n",
       "    <span style=\"color: #808000; text-decoration-color: #808000\">confirmed_block_index</span>=<span style=\"color: #008080; text-decoration-color: #008080; font-weight: bold\">2094173</span>,\n",
       "    <span style=\"color: #808000; text-decoration-color: #808000\">spent_block_index</span>=<span style=\"color: #008080; text-decoration-color: #008080; font-weight: bold\">2094173</span>,\n",
       "    <span style=\"color: #808000; text-decoration-color: #808000\">coinbase</span>=<span style=\"color: #ff0000; text-decoration-color: #ff0000; font-style: italic\">False</span>,\n",
       "    <span style=\"color: #808000; text-decoration-color: #808000\">timestamp</span>=<span style=\"color: #008080; text-decoration-color: #008080; font-weight: bold\">1674002486</span>\n",
       "<span style=\"font-weight: bold\">)</span>\n",
       "</pre>\n"
      ],
      "text/plain": [
       "\u001b[1;35mCoinRecord\u001b[0m\u001b[1m(\u001b[0m\n",
       "    \u001b[33mcoin\u001b[0m=\u001b[35mCoin\u001b[0m \u001b[1m{\u001b[0m parent_coin_info: 76f55ce8e980b8551aa2c621c77488cf4255e883b6fb117bc4148ce64c757f94, puzzle_hash: \n",
       "dbcb4fee7e94946b713ae68e669df3285ca40acd64d06a5cfc8e3c748c7e7bdb, amount: \u001b[1;36m1000\u001b[0m \u001b[1m}\u001b[0m,\n",
       "    \u001b[33mconfirmed_block_index\u001b[0m=\u001b[1;36m2094173\u001b[0m,\n",
       "    \u001b[33mspent_block_index\u001b[0m=\u001b[1;36m2094173\u001b[0m,\n",
       "    \u001b[33mcoinbase\u001b[0m=\u001b[3;91mFalse\u001b[0m,\n",
       "    \u001b[33mtimestamp\u001b[0m=\u001b[1;36m1674002486\u001b[0m\n",
       "\u001b[1m)\u001b[0m\n"
      ]
     },
     "metadata": {},
     "output_type": "display_data"
    },
    {
     "data": {
      "text/html": [
       "<pre style=\"white-space:pre;overflow-x:auto;line-height:normal;font-family:Menlo,'DejaVu Sans Mono',consolas,'Courier New',monospace\">95ddff829a6e8a59290cd7dc91659bc16fffbb1ceb140fa84465249a147c444d\n",
       "</pre>\n"
      ],
      "text/plain": [
       "95ddff829a6e8a59290cd7dc91659bc16fffbb1ceb140fa84465249a147c444d\n"
      ]
     },
     "metadata": {},
     "output_type": "display_data"
    },
    {
     "data": {
      "text/html": [
       "<pre style=\"white-space:pre;overflow-x:auto;line-height:normal;font-family:Menlo,'DejaVu Sans Mono',consolas,'Courier New',monospace\"><span style=\"color: #008000; text-decoration-color: #008000\">b'\\x03\\xe8'</span>\n",
       "</pre>\n"
      ],
      "text/plain": [
       "\u001b[32mb'\\x03\\xe8'\u001b[0m\n"
      ]
     },
     "metadata": {},
     "output_type": "display_data"
    }
   ],
   "source": [
    "# (ASSERT_PUZZLE_ANNOUNCEMENT 0x95ddff829a6e8a59290cd7dc91659bc16fffbb1ceb140fa84465249a147c444d)\n",
    "coins = await get_coins_in_block(confirmed_at_height)\n",
    "additions = coins[0]\n",
    "removals = coins[1]\n",
    "\n",
    "settlement_ph = bytes32.from_hexstr(\"0xbae24162efbd568f89bc7a340798a6118df0189eb9e3f8697bcea27af99f8f79\")\n",
    "settlement_taker_ph = get_cat_puzzlehash(tdbx_asset_id, settlement_ph)\n",
    "print(settlement_taker_ph)\n",
    "for cr in removals:\n",
    "    if cr.coin.puzzle_hash == settlement_taker_ph:\n",
    "        print(cr)\n",
    "        coin_spend = await get_coin_spend(cr.coin.name(), cr.spent_block_index)\n",
    "        puzzle = coin_spend.puzzle_reveal.to_program()\n",
    "        solution = coin_spend.solution.to_program()\n",
    "        \n",
    "        conditions = puzzle.run(solution).as_python()\n",
    "        for c in conditions:\n",
    "            opcode = ConditionOpcode.from_bytes(c[0])\n",
    "            if opcode == ConditionOpcode.CREATE_PUZZLE_ANNOUNCEMENT:\n",
    "                announcement = std_hash(cr.coin.puzzle_hash + c[1])\n",
    "                print(announcement)\n",
    "            if opcode == ConditionOpcode.CREATE_COIN:\n",
    "                print(c[2])\n",
    "        "
   ]
  },
  {
   "cell_type": "code",
   "execution_count": 95,
   "id": "46255044-cc81-4d13-841c-efe9bc0c7ecd",
   "metadata": {},
   "outputs": [
    {
     "data": {
      "text/html": [
       "<pre style=\"white-space:pre;overflow-x:auto;line-height:normal;font-family:Menlo,'DejaVu Sans Mono',consolas,'Courier New',monospace\">bae24162efbd568f89bc7a340798a6118df0189eb9e3f8697bcea27af99f8f79\n",
       "</pre>\n"
      ],
      "text/plain": [
       "bae24162efbd568f89bc7a340798a6118df0189eb9e3f8697bcea27af99f8f79\n"
      ]
     },
     "metadata": {},
     "output_type": "display_data"
    },
    {
     "data": {
      "text/html": [
       "<pre style=\"white-space:pre;overflow-x:auto;line-height:normal;font-family:Menlo,'DejaVu Sans Mono',consolas,'Courier New',monospace\"><span style=\"color: #800080; text-decoration-color: #800080; font-weight: bold\">CoinRecord</span><span style=\"font-weight: bold\">(</span>\n",
       "    <span style=\"color: #808000; text-decoration-color: #808000\">coin</span>=<span style=\"color: #800080; text-decoration-color: #800080\">Coin</span> <span style=\"font-weight: bold\">{</span> parent_coin_info: f8d7fefd1261cf4d44509e4a6c0d13a0a1abb2402be7d26806b279308f03c427, puzzle_hash: \n",
       "bae24162efbd568f89bc7a340798a6118df0189eb9e3f8697bcea27af99f8f79, amount: <span style=\"color: #008080; text-decoration-color: #008080; font-weight: bold\">420700000</span> <span style=\"font-weight: bold\">}</span>,\n",
       "    <span style=\"color: #808000; text-decoration-color: #808000\">confirmed_block_index</span>=<span style=\"color: #008080; text-decoration-color: #008080; font-weight: bold\">2094173</span>,\n",
       "    <span style=\"color: #808000; text-decoration-color: #808000\">spent_block_index</span>=<span style=\"color: #008080; text-decoration-color: #008080; font-weight: bold\">2094173</span>,\n",
       "    <span style=\"color: #808000; text-decoration-color: #808000\">coinbase</span>=<span style=\"color: #ff0000; text-decoration-color: #ff0000; font-style: italic\">False</span>,\n",
       "    <span style=\"color: #808000; text-decoration-color: #808000\">timestamp</span>=<span style=\"color: #008080; text-decoration-color: #008080; font-weight: bold\">1674002486</span>\n",
       "<span style=\"font-weight: bold\">)</span>\n",
       "</pre>\n"
      ],
      "text/plain": [
       "\u001b[1;35mCoinRecord\u001b[0m\u001b[1m(\u001b[0m\n",
       "    \u001b[33mcoin\u001b[0m=\u001b[35mCoin\u001b[0m \u001b[1m{\u001b[0m parent_coin_info: f8d7fefd1261cf4d44509e4a6c0d13a0a1abb2402be7d26806b279308f03c427, puzzle_hash: \n",
       "bae24162efbd568f89bc7a340798a6118df0189eb9e3f8697bcea27af99f8f79, amount: \u001b[1;36m420700000\u001b[0m \u001b[1m}\u001b[0m,\n",
       "    \u001b[33mconfirmed_block_index\u001b[0m=\u001b[1;36m2094173\u001b[0m,\n",
       "    \u001b[33mspent_block_index\u001b[0m=\u001b[1;36m2094173\u001b[0m,\n",
       "    \u001b[33mcoinbase\u001b[0m=\u001b[3;91mFalse\u001b[0m,\n",
       "    \u001b[33mtimestamp\u001b[0m=\u001b[1;36m1674002486\u001b[0m\n",
       "\u001b[1m)\u001b[0m\n"
      ]
     },
     "metadata": {},
     "output_type": "display_data"
    },
    {
     "data": {
      "text/html": [
       "<pre style=\"white-space:pre;overflow-x:auto;line-height:normal;font-family:Menlo,'DejaVu Sans Mono',consolas,'Courier New',monospace\">fcce84769db0227d0db9f90a6232358d6c428109ca08a9836589982c99e29b70\n",
       "</pre>\n"
      ],
      "text/plain": [
       "fcce84769db0227d0db9f90a6232358d6c428109ca08a9836589982c99e29b70\n"
      ]
     },
     "metadata": {},
     "output_type": "display_data"
    },
    {
     "data": {
      "text/html": [
       "<pre style=\"white-space:pre;overflow-x:auto;line-height:normal;font-family:Menlo,'DejaVu Sans Mono',consolas,'Courier New',monospace\">2d545ccf93005c33b8020c7f905846b7c44d26e813e8979e61559deaaeeee9e4\n",
       "</pre>\n"
      ],
      "text/plain": [
       "2d545ccf93005c33b8020c7f905846b7c44d26e813e8979e61559deaaeeee9e4\n"
      ]
     },
     "metadata": {},
     "output_type": "display_data"
    }
   ],
   "source": [
    "settlement_maker_ph = bytes32.from_hexstr(\"0xbae24162efbd568f89bc7a340798a6118df0189eb9e3f8697bcea27af99f8f79\")\n",
    "print(settlement_maker_ph)\n",
    "for cr in removals:\n",
    "    if cr.coin.puzzle_hash == settlement_maker_ph:\n",
    "        print(cr)\n",
    "        coin_spend = await get_coin_spend(cr.coin.name(), cr.spent_block_index)\n",
    "        puzzle = coin_spend.puzzle_reveal.to_program()\n",
    "        solution = coin_spend.solution.to_program()\n",
    "        \n",
    "        conditions = puzzle.run(solution).as_python()\n",
    "        for c in conditions:\n",
    "            opcode = ConditionOpcode.from_bytes(c[0])\n",
    "            if opcode == ConditionOpcode.CREATE_PUZZLE_ANNOUNCEMENT:\n",
    "                announcement = std_hash(cr.coin.puzzle_hash + c[1])\n",
    "                print(announcement)\n",
    "            if opcode == ConditionOpcode.CREATE_COIN:\n",
    "                print(c[1].hex())"
   ]
  },
  {
   "cell_type": "code",
   "execution_count": null,
   "id": "8e07781a-368e-4389-a022-691873268cff",
   "metadata": {},
   "outputs": [],
   "source": []
  }
 ],
 "metadata": {
  "kernelspec": {
   "display_name": "Python 3 (ipykernel)",
   "language": "python",
   "name": "python3"
  },
  "language_info": {
   "codemirror_mode": {
    "name": "ipython",
    "version": 3
   },
   "file_extension": ".py",
   "mimetype": "text/x-python",
   "name": "python",
   "nbconvert_exporter": "python",
   "pygments_lexer": "ipython3",
   "version": "3.10.9"
  }
 },
 "nbformat": 4,
 "nbformat_minor": 5
}
