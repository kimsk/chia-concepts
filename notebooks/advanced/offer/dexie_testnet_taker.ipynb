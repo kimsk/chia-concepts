{
 "cells": [
  {
   "cell_type": "code",
   "execution_count": 1,
   "id": "e5f14a0f-5e0c-478f-b1ca-e50739072008",
   "metadata": {},
   "outputs": [],
   "source": [
    "%run testnet.ipynb"
   ]
  },
  {
   "cell_type": "code",
   "execution_count": 2,
   "id": "c9f79842-ef3a-44ac-832b-cde469a3f1fe",
   "metadata": {},
   "outputs": [
    {
     "name": "stdout",
     "output_type": "stream",
     "text": [
      "Notarized Payment:\n"
     ]
    },
    {
     "data": {
      "text/html": [
       "<pre style=\"white-space:pre;overflow-x:auto;line-height:normal;font-family:Menlo,'DejaVu Sans Mono',consolas,'Courier New',monospace\"><span style=\"color: #f8f8f2; text-decoration-color: #f8f8f2; background-color: #272822\">(</span><span style=\"color: #a6e22e; text-decoration-color: #a6e22e; background-color: #272822\">CREATE_COIN</span><span style=\"color: #f8f8f2; text-decoration-color: #f8f8f2; background-color: #272822\"> </span><span style=\"color: #ae81ff; text-decoration-color: #ae81ff; background-color: #272822\">0</span><span style=\"color: #f8f8f2; text-decoration-color: #f8f8f2; background-color: #272822\">xc9d0d3c99d4418f3b1a22bb954189f717cd3ac956dd966917f681616eba26a3a </span><span style=\"color: #ae81ff; text-decoration-color: #ae81ff; background-color: #272822\">23795</span><span style=\"color: #f8f8f2; text-decoration-color: #f8f8f2; background-color: #272822\"> </span><span style=\"background-color: #272822\">                             </span>\n",
       "<span style=\"color: #f8f8f2; text-decoration-color: #f8f8f2; background-color: #272822\">(</span><span style=\"color: #ae81ff; text-decoration-color: #ae81ff; background-color: #272822\">0</span><span style=\"color: #f8f8f2; text-decoration-color: #f8f8f2; background-color: #272822\">xc9d0d3c99d4418f3b1a22bb954189f717cd3ac956dd966917f681616eba26a3a))</span><span style=\"background-color: #272822\">                                              </span>\n",
       "</pre>\n"
      ],
      "text/plain": [
       "\u001b[38;2;248;248;242;48;2;39;40;34m(\u001b[0m\u001b[38;2;166;226;46;48;2;39;40;34mCREATE_COIN\u001b[0m\u001b[38;2;248;248;242;48;2;39;40;34m \u001b[0m\u001b[38;2;174;129;255;48;2;39;40;34m0\u001b[0m\u001b[38;2;248;248;242;48;2;39;40;34mxc9d0d3c99d4418f3b1a22bb954189f717cd3ac956dd966917f681616eba26a3a\u001b[0m\u001b[38;2;248;248;242;48;2;39;40;34m \u001b[0m\u001b[38;2;174;129;255;48;2;39;40;34m23795\u001b[0m\u001b[38;2;248;248;242;48;2;39;40;34m \u001b[0m\u001b[48;2;39;40;34m                             \u001b[0m\n",
       "\u001b[38;2;248;248;242;48;2;39;40;34m(\u001b[0m\u001b[38;2;174;129;255;48;2;39;40;34m0\u001b[0m\u001b[38;2;248;248;242;48;2;39;40;34mxc9d0d3c99d4418f3b1a22bb954189f717cd3ac956dd966917f681616eba26a3a\u001b[0m\u001b[38;2;248;248;242;48;2;39;40;34m)\u001b[0m\u001b[38;2;248;248;242;48;2;39;40;34m)\u001b[0m\u001b[48;2;39;40;34m                                              \u001b[0m\n"
      ]
     },
     "metadata": {},
     "output_type": "display_data"
    },
    {
     "name": "stdout",
     "output_type": "stream",
     "text": [
      "CoinSpend:\n",
      "Coin:\n",
      "83f28397c90d849d4e25e51cb2ea63653a6b6e0b5d217db9f1b43503536ea45a\n",
      "Coin { parent_coin_info: 1c3e54f5bcbe4c6cb9ade7920c705e1244b598357fb7b58430fedb230711dd05, puzzle_hash: eb267ee0ef76e6ac9ef51e22529dc3c319585304e6fe403f9599ea4fbd0a4aeb, amount: 100000000000 }\n",
      "\n",
      "Conditions\n"
     ]
    },
    {
     "data": {
      "text/html": [
       "<pre style=\"white-space:pre;overflow-x:auto;line-height:normal;font-family:Menlo,'DejaVu Sans Mono',consolas,'Courier New',monospace\"><span style=\"color: #f8f8f2; text-decoration-color: #f8f8f2; background-color: #272822\">(</span><span style=\"color: #a6e22e; text-decoration-color: #a6e22e; background-color: #272822\">AGG_SIG_ME</span><span style=\"color: #f8f8f2; text-decoration-color: #f8f8f2; background-color: #272822\"> </span><span style=\"color: #ae81ff; text-decoration-color: #ae81ff; background-color: #272822\">0</span><span style=\"color: #f8f8f2; text-decoration-color: #f8f8f2; background-color: #272822\">xb2d2c4edccffbae9795eb6e25b3f9e5ba88586fbd70d4b7aa4abbfdc3695dd65d24e20003e5673e8c704aecd2390da61 </span><span style=\"background-color: #272822\">    </span>\n",
       "<span style=\"color: #ae81ff; text-decoration-color: #ae81ff; background-color: #272822\">0</span><span style=\"color: #f8f8f2; text-decoration-color: #f8f8f2; background-color: #272822\">xed1716e80e4548e1922d846dd895d0717a5f3ef3717a75b7c616aa7ed5544213)</span><span style=\"background-color: #272822\">                                                </span>\n",
       "</pre>\n"
      ],
      "text/plain": [
       "\u001b[38;2;248;248;242;48;2;39;40;34m(\u001b[0m\u001b[38;2;166;226;46;48;2;39;40;34mAGG_SIG_ME\u001b[0m\u001b[38;2;248;248;242;48;2;39;40;34m \u001b[0m\u001b[38;2;174;129;255;48;2;39;40;34m0\u001b[0m\u001b[38;2;248;248;242;48;2;39;40;34mxb2d2c4edccffbae9795eb6e25b3f9e5ba88586fbd70d4b7aa4abbfdc3695dd65d24e20003e5673e8c704aecd2390da61\u001b[0m\u001b[38;2;248;248;242;48;2;39;40;34m \u001b[0m\u001b[48;2;39;40;34m    \u001b[0m\n",
       "\u001b[38;2;174;129;255;48;2;39;40;34m0\u001b[0m\u001b[38;2;248;248;242;48;2;39;40;34mxed1716e80e4548e1922d846dd895d0717a5f3ef3717a75b7c616aa7ed5544213\u001b[0m\u001b[38;2;248;248;242;48;2;39;40;34m)\u001b[0m\u001b[48;2;39;40;34m                                                \u001b[0m\n"
      ]
     },
     "metadata": {},
     "output_type": "display_data"
    },
    {
     "data": {
      "text/html": [
       "<pre style=\"white-space:pre;overflow-x:auto;line-height:normal;font-family:Menlo,'DejaVu Sans Mono',consolas,'Courier New',monospace\"><span style=\"color: #f8f8f2; text-decoration-color: #f8f8f2; background-color: #272822\">(</span><span style=\"color: #a6e22e; text-decoration-color: #a6e22e; background-color: #272822\">CREATE_COIN</span><span style=\"color: #f8f8f2; text-decoration-color: #f8f8f2; background-color: #272822\"> </span><span style=\"color: #ae81ff; text-decoration-color: #ae81ff; background-color: #272822\">0</span><span style=\"color: #f8f8f2; text-decoration-color: #f8f8f2; background-color: #272822\">xbae24162efbd568f89bc7a340798a6118df0189eb9e3f8697bcea27af99f8f79 </span><span style=\"color: #ae81ff; text-decoration-color: #ae81ff; background-color: #272822\">0</span><span style=\"color: #f8f8f2; text-decoration-color: #f8f8f2; background-color: #272822\">x055ae82600)</span><span style=\"background-color: #272822\">                      </span>\n",
       "</pre>\n"
      ],
      "text/plain": [
       "\u001b[38;2;248;248;242;48;2;39;40;34m(\u001b[0m\u001b[38;2;166;226;46;48;2;39;40;34mCREATE_COIN\u001b[0m\u001b[38;2;248;248;242;48;2;39;40;34m \u001b[0m\u001b[38;2;174;129;255;48;2;39;40;34m0\u001b[0m\u001b[38;2;248;248;242;48;2;39;40;34mxbae24162efbd568f89bc7a340798a6118df0189eb9e3f8697bcea27af99f8f79\u001b[0m\u001b[38;2;248;248;242;48;2;39;40;34m \u001b[0m\u001b[38;2;174;129;255;48;2;39;40;34m0\u001b[0m\u001b[38;2;248;248;242;48;2;39;40;34mx055ae82600\u001b[0m\u001b[38;2;248;248;242;48;2;39;40;34m)\u001b[0m\u001b[48;2;39;40;34m                      \u001b[0m\n"
      ]
     },
     "metadata": {},
     "output_type": "display_data"
    },
    {
     "data": {
      "text/html": [
       "<pre style=\"white-space:pre;overflow-x:auto;line-height:normal;font-family:Menlo,'DejaVu Sans Mono',consolas,'Courier New',monospace\"><span style=\"color: #f8f8f2; text-decoration-color: #f8f8f2; background-color: #272822\">(</span><span style=\"color: #a6e22e; text-decoration-color: #a6e22e; background-color: #272822\">CREATE_COIN</span><span style=\"color: #f8f8f2; text-decoration-color: #f8f8f2; background-color: #272822\"> </span><span style=\"color: #ae81ff; text-decoration-color: #ae81ff; background-color: #272822\">0</span><span style=\"color: #f8f8f2; text-decoration-color: #f8f8f2; background-color: #272822\">x232a9317f5e4b6e27ead488137d4fd78bbc2d5a262f57cc0c7e7c7f1f73f0b08 </span><span style=\"color: #ae81ff; text-decoration-color: #ae81ff; background-color: #272822\">0</span><span style=\"color: #f8f8f2; text-decoration-color: #f8f8f2; background-color: #272822\">x11ed8ec200)</span><span style=\"background-color: #272822\">                      </span>\n",
       "</pre>\n"
      ],
      "text/plain": [
       "\u001b[38;2;248;248;242;48;2;39;40;34m(\u001b[0m\u001b[38;2;166;226;46;48;2;39;40;34mCREATE_COIN\u001b[0m\u001b[38;2;248;248;242;48;2;39;40;34m \u001b[0m\u001b[38;2;174;129;255;48;2;39;40;34m0\u001b[0m\u001b[38;2;248;248;242;48;2;39;40;34mx232a9317f5e4b6e27ead488137d4fd78bbc2d5a262f57cc0c7e7c7f1f73f0b08\u001b[0m\u001b[38;2;248;248;242;48;2;39;40;34m \u001b[0m\u001b[38;2;174;129;255;48;2;39;40;34m0\u001b[0m\u001b[38;2;248;248;242;48;2;39;40;34mx11ed8ec200\u001b[0m\u001b[38;2;248;248;242;48;2;39;40;34m)\u001b[0m\u001b[48;2;39;40;34m                      \u001b[0m\n"
      ]
     },
     "metadata": {},
     "output_type": "display_data"
    },
    {
     "data": {
      "text/html": [
       "<pre style=\"white-space:pre;overflow-x:auto;line-height:normal;font-family:Menlo,'DejaVu Sans Mono',consolas,'Courier New',monospace\"><span style=\"color: #f8f8f2; text-decoration-color: #f8f8f2; background-color: #272822\">(</span><span style=\"color: #a6e22e; text-decoration-color: #a6e22e; background-color: #272822\">CREATE_COIN_ANNOUNCEMENT</span><span style=\"color: #f8f8f2; text-decoration-color: #f8f8f2; background-color: #272822\"> </span><span style=\"color: #ae81ff; text-decoration-color: #ae81ff; background-color: #272822\">0</span><span style=\"color: #f8f8f2; text-decoration-color: #f8f8f2; background-color: #272822\">x1b1529429a8def65ff7ac7b49340d1a9187f461b1ab2888c82436fd4ba76580b)</span><span style=\"background-color: #272822\">                      </span>\n",
       "</pre>\n"
      ],
      "text/plain": [
       "\u001b[38;2;248;248;242;48;2;39;40;34m(\u001b[0m\u001b[38;2;166;226;46;48;2;39;40;34mCREATE_COIN_ANNOUNCEMENT\u001b[0m\u001b[38;2;248;248;242;48;2;39;40;34m \u001b[0m\u001b[38;2;174;129;255;48;2;39;40;34m0\u001b[0m\u001b[38;2;248;248;242;48;2;39;40;34mx1b1529429a8def65ff7ac7b49340d1a9187f461b1ab2888c82436fd4ba76580b\u001b[0m\u001b[38;2;248;248;242;48;2;39;40;34m)\u001b[0m\u001b[48;2;39;40;34m                      \u001b[0m\n"
      ]
     },
     "metadata": {},
     "output_type": "display_data"
    },
    {
     "data": {
      "text/html": [
       "<pre style=\"white-space:pre;overflow-x:auto;line-height:normal;font-family:Menlo,'DejaVu Sans Mono',consolas,'Courier New',monospace\"><span style=\"color: #f8f8f2; text-decoration-color: #f8f8f2; background-color: #272822\">(</span><span style=\"color: #a6e22e; text-decoration-color: #a6e22e; background-color: #272822\">ASSERT_PUZZLE_ANNOUNCEMENT</span><span style=\"color: #f8f8f2; text-decoration-color: #f8f8f2; background-color: #272822\"> </span><span style=\"color: #ae81ff; text-decoration-color: #ae81ff; background-color: #272822\">0</span><span style=\"color: #f8f8f2; text-decoration-color: #f8f8f2; background-color: #272822\">xbae1e16972e8f2d77344c8df12d77d8fa13ce04dc7cb84ba69b76783968cc333)</span><span style=\"background-color: #272822\">                    </span>\n",
       "</pre>\n"
      ],
      "text/plain": [
       "\u001b[38;2;248;248;242;48;2;39;40;34m(\u001b[0m\u001b[38;2;166;226;46;48;2;39;40;34mASSERT_PUZZLE_ANNOUNCEMENT\u001b[0m\u001b[38;2;248;248;242;48;2;39;40;34m \u001b[0m\u001b[38;2;174;129;255;48;2;39;40;34m0\u001b[0m\u001b[38;2;248;248;242;48;2;39;40;34mxbae1e16972e8f2d77344c8df12d77d8fa13ce04dc7cb84ba69b76783968cc333\u001b[0m\u001b[38;2;248;248;242;48;2;39;40;34m)\u001b[0m\u001b[48;2;39;40;34m                    \u001b[0m\n"
      ]
     },
     "metadata": {},
     "output_type": "display_data"
    },
    {
     "name": "stdout",
     "output_type": "stream",
     "text": [
      "\n",
      "Additions:\n",
      "Coin { parent_coin_info: 83f28397c90d849d4e25e51cb2ea63653a6b6e0b5d217db9f1b43503536ea45a, puzzle_hash: bae24162efbd568f89bc7a340798a6118df0189eb9e3f8697bcea27af99f8f79, amount: 23000000000 }\n",
      "Coin { parent_coin_info: 83f28397c90d849d4e25e51cb2ea63653a6b6e0b5d217db9f1b43503536ea45a, puzzle_hash: 232a9317f5e4b6e27ead488137d4fd78bbc2d5a262f57cc0c7e7c7f1f73f0b08, amount: 77000000000 }\n",
      "\n",
      "Removals:\n",
      "Coin { parent_coin_info: 1c3e54f5bcbe4c6cb9ade7920c705e1244b598357fb7b58430fedb230711dd05, puzzle_hash: eb267ee0ef76e6ac9ef51e22529dc3c319585304e6fe403f9599ea4fbd0a4aeb, amount: 100000000000 }\n",
      "Driver Dict:\n",
      "PuzzleInfo(info={'type': 'CAT', 'tail': '0xd82dd03f8a9ad2f84353cd953c4de6b21dbaaf7de3ba3f4ddd9abe31ecba80ad'})\n"
     ]
    }
   ],
   "source": [
    "# https://testnet.dexie.space/offers/2PqMMn4rAkc5rKXysou5nLp4p679uiTywdkBHc1bRra7\n",
    "maker_hex = \"offer1qqz83wcsltt6wcmqvpsxygqqd60lvl6hxaj55a4p6kemad9enu6k99nsn4xmnyq47wnulf4y57h05djvrk7qjdj6kxx4vm9rzhdk33fkt2cc64nvlur6sc5rznhqhn8h04883476dz7x6mny6jzdcga33n4s8n884cxcekcemz6mk3jk4v924myxaczlhtjejalrspuln44w87mvj0k2aad43aman777nk6uluxd46rtt592qfdt0rwwzkpnzjrxg857faaptvmud8d6ntuytnlfntt768spmv38ttk46ltyc2dhey28clg34rjwfpwtylnm5jrum6uys7m83rz0es56ed46dek7fjd438epymm855vk6hl6dxx0gs5qxkfgvvtlyaw0860ee8ttna87y2vgzdedjwkrk3l0h4sksdlm09weqhhm90jk4dalp0hvmxd8jhl9jjpwv8379sv3rn8jaj0c8lw5nxhleamj0x7sddjjcs7u5h4qxe2cdu62xwcvzxekt5a09akvlawj72lrkc7c4d5lz7769d0d7a64ama2yk4l0he3ndar0avjnupgxh2c7x97xt8tec4ylwy4prtd5qzf60l30mr6ujv0gln0tpl70832z0mpnjcy0vl53nxml8uyweh4h9z420l87atlumm934a2r3ksqpt2etp4t87whymd3l4dv735nf0ljka3l0gd232fta4su8rl0m7wxammd680ltvzdlasaqg5m0797gpd4t5nf2lh0h40l2hrtvnrkhzu99g77f3dkk568f7f88lu4t4jprgq3gfa6rlgwren3d08ewj7a3ew90ks7hd0apfkpa7gl8mwmx2mj0da09dv7ctrwzy0dt5tat0my33w6h3adu04te894cwdedm5lcnkp32edrmuk7h7sa0rh6xt694vpv8lqatatnd44nlpmpwjqvwfctdht0hm4xvlk6smmw8y5dd5met93kxxcnewc9d86hlh5a7h43kurkdlfceau05akl5wwu3wnvp8uqr0xkz8su0j54e\"\n",
    "# request 23.795 TDBX, offer 0.023 TXCH (0x055ae82600 mojos)\n",
    "maker = Offer.from_bech32(maker_hex)\n",
    "print_offer(maker)"
   ]
  },
  {
   "cell_type": "code",
   "execution_count": 3,
   "id": "05f297fe-d097-43df-911e-25f32b6d9728",
   "metadata": {},
   "outputs": [],
   "source": [
    "confirmed_at_height = 2047786\n",
    "request_mojos = 23795\n",
    "offer_mojos = 0x055ae82600 # 0x19135f60\n",
    "TDBX_TAIL_MOD_HASH = bytes32.from_hexstr(\"0xd82dd03f8a9ad2f84353cd953c4de6b21dbaaf7de3ba3f4ddd9abe31ecba80ad\")\n",
    "SETTLEMENT_MOD_HASH = bytes32.from_hexstr(\"bae24162efbd568f89bc7a340798a6118df0189eb9e3f8697bcea27af99f8f79\")"
   ]
  },
  {
   "cell_type": "code",
   "execution_count": 4,
   "id": "8536c836-2326-4637-afcf-863793b66df6",
   "metadata": {},
   "outputs": [
    {
     "data": {
      "text/html": [
       "<pre style=\"white-space:pre;overflow-x:auto;line-height:normal;font-family:Menlo,'DejaVu Sans Mono',consolas,'Courier New',monospace\"><span style=\"color: #800080; text-decoration-color: #800080; font-weight: bold\">CoinRecord</span><span style=\"font-weight: bold\">(</span>\n",
       "    <span style=\"color: #808000; text-decoration-color: #808000\">coin</span>=<span style=\"color: #800080; text-decoration-color: #800080\">Coin</span> <span style=\"font-weight: bold\">{</span> parent_coin_info: 8250f027b983f1710fc0467febc34203c9ae838e5a42281536306534131fe4ec, puzzle_hash: \n",
       "04c9f88fdcdd842ea002c10e747ce083bd366742e7a71528689f5ec73732ba4e, amount: <span style=\"color: #008080; text-decoration-color: #008080; font-weight: bold\">23795</span> <span style=\"font-weight: bold\">}</span>,\n",
       "    <span style=\"color: #808000; text-decoration-color: #808000\">confirmed_block_index</span>=<span style=\"color: #008080; text-decoration-color: #008080; font-weight: bold\">2047786</span>,\n",
       "    <span style=\"color: #808000; text-decoration-color: #808000\">spent_block_index</span>=<span style=\"color: #008080; text-decoration-color: #008080; font-weight: bold\">0</span>,\n",
       "    <span style=\"color: #808000; text-decoration-color: #808000\">coinbase</span>=<span style=\"color: #ff0000; text-decoration-color: #ff0000; font-style: italic\">False</span>,\n",
       "    <span style=\"color: #808000; text-decoration-color: #808000\">timestamp</span>=<span style=\"color: #008080; text-decoration-color: #008080; font-weight: bold\">1673115275</span>\n",
       "<span style=\"font-weight: bold\">)</span>\n",
       "</pre>\n"
      ],
      "text/plain": [
       "\u001b[1;35mCoinRecord\u001b[0m\u001b[1m(\u001b[0m\n",
       "    \u001b[33mcoin\u001b[0m=\u001b[35mCoin\u001b[0m \u001b[1m{\u001b[0m parent_coin_info: 8250f027b983f1710fc0467febc34203c9ae838e5a42281536306534131fe4ec, puzzle_hash: \n",
       "04c9f88fdcdd842ea002c10e747ce083bd366742e7a71528689f5ec73732ba4e, amount: \u001b[1;36m23795\u001b[0m \u001b[1m}\u001b[0m,\n",
       "    \u001b[33mconfirmed_block_index\u001b[0m=\u001b[1;36m2047786\u001b[0m,\n",
       "    \u001b[33mspent_block_index\u001b[0m=\u001b[1;36m0\u001b[0m,\n",
       "    \u001b[33mcoinbase\u001b[0m=\u001b[3;91mFalse\u001b[0m,\n",
       "    \u001b[33mtimestamp\u001b[0m=\u001b[1;36m1673115275\u001b[0m\n",
       "\u001b[1m)\u001b[0m\n"
      ]
     },
     "metadata": {},
     "output_type": "display_data"
    },
    {
     "data": {
      "text/html": [
       "<pre style=\"white-space:pre;overflow-x:auto;line-height:normal;font-family:Menlo,'DejaVu Sans Mono',consolas,'Courier New',monospace\">db7871d544476a1405884a40ac0e04875a8340b631bc83088fb2713cdb0acdca\n",
       "</pre>\n"
      ],
      "text/plain": [
       "db7871d544476a1405884a40ac0e04875a8340b631bc83088fb2713cdb0acdca\n"
      ]
     },
     "metadata": {},
     "output_type": "display_data"
    }
   ],
   "source": [
    "# (CREATE_COIN 0xc9d0d3c99d4418f3b1a22bb954189f717cd3ac956dd966917f681616eba26a3a 23795                              \n",
    "# (0xc9d0d3c99d4418f3b1a22bb954189f717cd3ac956dd966917f681616eba26a3a))                                              \n",
    "\n",
    "notarized_ph = bytes32.from_hexstr(\"0xc9d0d3c99d4418f3b1a22bb954189f717cd3ac956dd966917f681616eba26a3a\")\n",
    "\n",
    "taker_ph = get_cat_puzzlehash(TDBX_TAIL_MOD_HASH, notarized_ph)\n",
    "coin_records = await get_coin_records_by_puzzle_hash(taker_ph)\n",
    "maker_output_cr = next(cr for cr in coin_records if \n",
    " cr.confirmed_block_index == confirmed_at_height \n",
    " and cr.coin.amount == request_mojos)\n",
    "print(maker_output_cr)\n",
    "print(maker_output_cr.coin.name().hex())"
   ]
  },
  {
   "cell_type": "code",
   "execution_count": 5,
   "id": "e915b2ca-919f-4025-97cc-70d36a3c12c3",
   "metadata": {},
   "outputs": [
    {
     "data": {
      "text/html": [
       "<pre style=\"white-space:pre;overflow-x:auto;line-height:normal;font-family:Menlo,'DejaVu Sans Mono',consolas,'Courier New',monospace\">770183a2120e794eae5198cdac5d9841a5959f7d2fa93cf426517a960daa2d1f\n",
       "</pre>\n"
      ],
      "text/plain": [
       "770183a2120e794eae5198cdac5d9841a5959f7d2fa93cf426517a960daa2d1f\n"
      ]
     },
     "metadata": {},
     "output_type": "display_data"
    },
    {
     "data": {
      "text/html": [
       "<pre style=\"white-space:pre;overflow-x:auto;line-height:normal;font-family:Menlo,'DejaVu Sans Mono',consolas,'Courier New',monospace\"><span style=\"color: #800080; text-decoration-color: #800080; font-weight: bold\">CoinRecord</span><span style=\"font-weight: bold\">(</span>\n",
       "    <span style=\"color: #808000; text-decoration-color: #808000\">coin</span>=<span style=\"color: #800080; text-decoration-color: #800080\">Coin</span> <span style=\"font-weight: bold\">{</span> parent_coin_info: 83f28397c90d849d4e25e51cb2ea63653a6b6e0b5d217db9f1b43503536ea45a, puzzle_hash: \n",
       "bae24162efbd568f89bc7a340798a6118df0189eb9e3f8697bcea27af99f8f79, amount: <span style=\"color: #008080; text-decoration-color: #008080; font-weight: bold\">23000000000</span> <span style=\"font-weight: bold\">}</span>,\n",
       "    <span style=\"color: #808000; text-decoration-color: #808000\">confirmed_block_index</span>=<span style=\"color: #008080; text-decoration-color: #008080; font-weight: bold\">2047786</span>,\n",
       "    <span style=\"color: #808000; text-decoration-color: #808000\">spent_block_index</span>=<span style=\"color: #008080; text-decoration-color: #008080; font-weight: bold\">2047786</span>,\n",
       "    <span style=\"color: #808000; text-decoration-color: #808000\">coinbase</span>=<span style=\"color: #ff0000; text-decoration-color: #ff0000; font-style: italic\">False</span>,\n",
       "    <span style=\"color: #808000; text-decoration-color: #808000\">timestamp</span>=<span style=\"color: #008080; text-decoration-color: #008080; font-weight: bold\">1673115275</span>\n",
       "<span style=\"font-weight: bold\">)</span>\n",
       "</pre>\n"
      ],
      "text/plain": [
       "\u001b[1;35mCoinRecord\u001b[0m\u001b[1m(\u001b[0m\n",
       "    \u001b[33mcoin\u001b[0m=\u001b[35mCoin\u001b[0m \u001b[1m{\u001b[0m parent_coin_info: 83f28397c90d849d4e25e51cb2ea63653a6b6e0b5d217db9f1b43503536ea45a, puzzle_hash: \n",
       "bae24162efbd568f89bc7a340798a6118df0189eb9e3f8697bcea27af99f8f79, amount: \u001b[1;36m23000000000\u001b[0m \u001b[1m}\u001b[0m,\n",
       "    \u001b[33mconfirmed_block_index\u001b[0m=\u001b[1;36m2047786\u001b[0m,\n",
       "    \u001b[33mspent_block_index\u001b[0m=\u001b[1;36m2047786\u001b[0m,\n",
       "    \u001b[33mcoinbase\u001b[0m=\u001b[3;91mFalse\u001b[0m,\n",
       "    \u001b[33mtimestamp\u001b[0m=\u001b[1;36m1673115275\u001b[0m\n",
       "\u001b[1m)\u001b[0m\n"
      ]
     },
     "metadata": {},
     "output_type": "display_data"
    }
   ],
   "source": [
    "maker_input_coin_id = bytes32.from_hexstr(\"83f28397c90d849d4e25e51cb2ea63653a6b6e0b5d217db9f1b43503536ea45a\")\n",
    "maker_settlement_coin = Coin(\n",
    "    maker_input_coin_id,\n",
    "    SETTLEMENT_MOD_HASH,\n",
    "    offer_mojos\n",
    ")\n",
    "print(maker_settlement_coin.name().hex())\n",
    "maker_settlement_cr = await get_coin_record_by_name(maker_settlement_coin.name())\n",
    "print(maker_settlement_cr)"
   ]
  },
  {
   "cell_type": "code",
   "execution_count": 6,
   "id": "49158272-ab84-43df-8bf4-a498d0014a23",
   "metadata": {},
   "outputs": [
    {
     "data": {
      "text/html": [
       "<pre style=\"white-space:pre;overflow-x:auto;line-height:normal;font-family:Menlo,'DejaVu Sans Mono',consolas,'Courier New',monospace\"><span style=\"font-weight: bold\">[]</span>\n",
       "</pre>\n"
      ],
      "text/plain": [
       "\u001b[1m[\u001b[0m\u001b[1m]\u001b[0m\n"
      ]
     },
     "metadata": {},
     "output_type": "display_data"
    }
   ],
   "source": [
    "taker_output_cr = await get_coin_records_by_parent_id(maker_settlement_coin.name())\n",
    "print(taker_output_cr)"
   ]
  },
  {
   "cell_type": "code",
   "execution_count": 12,
   "id": "ab96d44e-eeec-4815-bc43-e8bd5396d3c4",
   "metadata": {},
   "outputs": [
    {
     "data": {
      "text/html": [
       "<pre style=\"white-space:pre;overflow-x:auto;line-height:normal;font-family:Menlo,'DejaVu Sans Mono',consolas,'Courier New',monospace\"><span style=\"color: #f8f8f2; text-decoration-color: #f8f8f2; background-color: #272822\">(</span><span style=\"color: #a6e22e; text-decoration-color: #a6e22e; background-color: #272822\">a</span><span style=\"color: #f8f8f2; text-decoration-color: #f8f8f2; background-color: #272822\"> (</span><span style=\"color: #a6e22e; text-decoration-color: #a6e22e; background-color: #272822\">q</span><span style=\"color: #f8f8f2; text-decoration-color: #f8f8f2; background-color: #272822\"> </span><span style=\"color: #ae81ff; text-decoration-color: #ae81ff; background-color: #272822\">2</span><span style=\"color: #f8f8f2; text-decoration-color: #f8f8f2; background-color: #272822\"> </span><span style=\"color: #ae81ff; text-decoration-color: #ae81ff; background-color: #272822\">10</span><span style=\"color: #f8f8f2; text-decoration-color: #f8f8f2; background-color: #272822\"> (</span><span style=\"color: #a6e22e; text-decoration-color: #a6e22e; background-color: #272822\">c</span><span style=\"color: #f8f8f2; text-decoration-color: #f8f8f2; background-color: #272822\"> </span><span style=\"color: #ae81ff; text-decoration-color: #ae81ff; background-color: #272822\">2</span><span style=\"color: #f8f8f2; text-decoration-color: #f8f8f2; background-color: #272822\"> (</span><span style=\"color: #a6e22e; text-decoration-color: #a6e22e; background-color: #272822\">c</span><span style=\"color: #f8f8f2; text-decoration-color: #f8f8f2; background-color: #272822\"> </span><span style=\"color: #ae81ff; text-decoration-color: #ae81ff; background-color: #272822\">3</span><span style=\"color: #f8f8f2; text-decoration-color: #f8f8f2; background-color: #272822\"> ()))) (</span><span style=\"color: #a6e22e; text-decoration-color: #a6e22e; background-color: #272822\">c</span><span style=\"color: #f8f8f2; text-decoration-color: #f8f8f2; background-color: #272822\"> (</span><span style=\"color: #a6e22e; text-decoration-color: #a6e22e; background-color: #272822\">q</span><span style=\"color: #f8f8f2; text-decoration-color: #f8f8f2; background-color: #272822\"> (</span><span style=\"color: #ae81ff; text-decoration-color: #ae81ff; background-color: #272822\">51</span><span style=\"color: #f8f8f2; text-decoration-color: #f8f8f2; background-color: #272822\"> </span><span style=\"color: #66d9ef; text-decoration-color: #66d9ef; background-color: #272822\">. </span><span style=\"color: #ae81ff; text-decoration-color: #ae81ff; background-color: #272822\">62</span><span style=\"color: #f8f8f2; text-decoration-color: #f8f8f2; background-color: #272822\">) (</span><span style=\"color: #a6e22e; text-decoration-color: #a6e22e; background-color: #272822\">a</span><span style=\"color: #f8f8f2; text-decoration-color: #f8f8f2; background-color: #272822\"> (</span><span style=\"color: #a6e22e; text-decoration-color: #a6e22e; background-color: #272822\">i</span><span style=\"color: #f8f8f2; text-decoration-color: #f8f8f2; background-color: #272822\"> </span><span style=\"color: #ae81ff; text-decoration-color: #ae81ff; background-color: #272822\">5</span><span style=\"color: #f8f8f2; text-decoration-color: #f8f8f2; background-color: #272822\"> (</span><span style=\"color: #a6e22e; text-decoration-color: #a6e22e; background-color: #272822\">q</span><span style=\"color: #f8f8f2; text-decoration-color: #f8f8f2; background-color: #272822\"> </span><span style=\"color: #ae81ff; text-decoration-color: #ae81ff; background-color: #272822\">4</span><span style=\"color: #f8f8f2; text-decoration-color: #f8f8f2; background-color: #272822\"> (</span><span style=\"color: #a6e22e; text-decoration-color: #a6e22e; background-color: #272822\">c</span><span style=\"color: #f8f8f2; text-decoration-color: #f8f8f2; background-color: #272822\"> </span><span style=\"color: #ae81ff; text-decoration-color: #ae81ff; background-color: #272822\">12</span><span style=\"color: #f8f8f2; text-decoration-color: #f8f8f2; background-color: #272822\"> (</span><span style=\"color: #a6e22e; text-decoration-color: #a6e22e; background-color: #272822\">c</span><span style=\"color: #f8f8f2; text-decoration-color: #f8f8f2; background-color: #272822\"> (</span><span style=\"color: #a6e22e; text-decoration-color: #a6e22e; background-color: #272822\">a</span><span style=\"color: #f8f8f2; text-decoration-color: #f8f8f2; background-color: #272822\"> </span><span style=\"color: #ae81ff; text-decoration-color: #ae81ff; background-color: #272822\">30</span><span style=\"color: #f8f8f2; text-decoration-color: #f8f8f2; background-color: #272822\"> (</span><span style=\"color: #a6e22e; text-decoration-color: #a6e22e; background-color: #272822\">c</span><span style=\"color: #f8f8f2; text-decoration-color: #f8f8f2; background-color: #272822\"> </span><span style=\"color: #ae81ff; text-decoration-color: #ae81ff; background-color: #272822\">2</span><span style=\"color: #f8f8f2; text-decoration-color: #f8f8f2; background-color: #272822\"> (</span><span style=\"color: #a6e22e; text-decoration-color: #a6e22e; background-color: #272822\">c</span><span style=\"color: #f8f8f2; text-decoration-color: #f8f8f2; background-color: #272822\"> </span><span style=\"color: #ae81ff; text-decoration-color: #ae81ff; background-color: #272822\">9</span><span style=\"color: #f8f8f2; text-decoration-color: #f8f8f2; background-color: #272822\"> ()))) ())) (</span><span style=\"color: #a6e22e; text-decoration-color: #a6e22e; background-color: #272822\">a</span><span style=\"color: #f8f8f2; text-decoration-color: #f8f8f2; background-color: #272822\"> </span><span style=\"color: #ae81ff; text-decoration-color: #ae81ff; background-color: #272822\">22</span><span style=\"color: #f8f8f2; text-decoration-color: #f8f8f2; background-color: #272822\"> (</span><span style=\"color: #a6e22e; text-decoration-color: #a6e22e; background-color: #272822\">c</span><span style=\"color: #f8f8f2; text-decoration-color: #f8f8f2; background-color: #272822\"> </span><span style=\"color: #ae81ff; text-decoration-color: #ae81ff; background-color: #272822\">2</span><span style=\"color: #f8f8f2; text-decoration-color: #f8f8f2; background-color: #272822\"> (</span><span style=\"color: #a6e22e; text-decoration-color: #a6e22e; background-color: #272822\">c</span><span style=\"color: #f8f8f2; text-decoration-color: #f8f8f2; background-color: #272822\"> </span><span style=\"color: #ae81ff; text-decoration-color: #ae81ff; background-color: #272822\">25</span><span style=\"color: #f8f8f2; text-decoration-color: #f8f8f2; background-color: #272822\"> (</span><span style=\"color: #a6e22e; text-decoration-color: #a6e22e; background-color: #272822\">c</span><span style=\"color: #f8f8f2; text-decoration-color: #f8f8f2; background-color: #272822\"> (</span><span style=\"color: #a6e22e; text-decoration-color: #a6e22e; background-color: #272822\">a</span><span style=\"color: #f8f8f2; text-decoration-color: #f8f8f2; background-color: #272822\"> </span>\n",
       "<span style=\"color: #ae81ff; text-decoration-color: #ae81ff; background-color: #272822\">10</span><span style=\"color: #f8f8f2; text-decoration-color: #f8f8f2; background-color: #272822\"> (</span><span style=\"color: #a6e22e; text-decoration-color: #a6e22e; background-color: #272822\">c</span><span style=\"color: #f8f8f2; text-decoration-color: #f8f8f2; background-color: #272822\"> </span><span style=\"color: #ae81ff; text-decoration-color: #ae81ff; background-color: #272822\">2</span><span style=\"color: #f8f8f2; text-decoration-color: #f8f8f2; background-color: #272822\"> (</span><span style=\"color: #a6e22e; text-decoration-color: #a6e22e; background-color: #272822\">c</span><span style=\"color: #f8f8f2; text-decoration-color: #f8f8f2; background-color: #272822\"> </span><span style=\"color: #ae81ff; text-decoration-color: #ae81ff; background-color: #272822\">13</span><span style=\"color: #f8f8f2; text-decoration-color: #f8f8f2; background-color: #272822\"> ()))) ()))))) ()) </span><span style=\"color: #ae81ff; text-decoration-color: #ae81ff; background-color: #272822\">1</span><span style=\"color: #f8f8f2; text-decoration-color: #f8f8f2; background-color: #272822\">) (</span><span style=\"color: #a6e22e; text-decoration-color: #a6e22e; background-color: #272822\">a</span><span style=\"color: #f8f8f2; text-decoration-color: #f8f8f2; background-color: #272822\"> (</span><span style=\"color: #a6e22e; text-decoration-color: #a6e22e; background-color: #272822\">i</span><span style=\"color: #f8f8f2; text-decoration-color: #f8f8f2; background-color: #272822\"> </span><span style=\"color: #ae81ff; text-decoration-color: #ae81ff; background-color: #272822\">5</span><span style=\"color: #f8f8f2; text-decoration-color: #f8f8f2; background-color: #272822\"> (</span><span style=\"color: #a6e22e; text-decoration-color: #a6e22e; background-color: #272822\">q</span><span style=\"color: #f8f8f2; text-decoration-color: #f8f8f2; background-color: #272822\"> </span><span style=\"color: #ae81ff; text-decoration-color: #ae81ff; background-color: #272822\">4</span><span style=\"color: #f8f8f2; text-decoration-color: #f8f8f2; background-color: #272822\"> (</span><span style=\"color: #a6e22e; text-decoration-color: #a6e22e; background-color: #272822\">c</span><span style=\"color: #f8f8f2; text-decoration-color: #f8f8f2; background-color: #272822\"> </span><span style=\"color: #ae81ff; text-decoration-color: #ae81ff; background-color: #272822\">8</span><span style=\"color: #f8f8f2; text-decoration-color: #f8f8f2; background-color: #272822\"> </span><span style=\"color: #ae81ff; text-decoration-color: #ae81ff; background-color: #272822\">9</span><span style=\"color: #f8f8f2; text-decoration-color: #f8f8f2; background-color: #272822\">) (</span><span style=\"color: #a6e22e; text-decoration-color: #a6e22e; background-color: #272822\">a</span><span style=\"color: #f8f8f2; text-decoration-color: #f8f8f2; background-color: #272822\"> </span><span style=\"color: #ae81ff; text-decoration-color: #ae81ff; background-color: #272822\">22</span><span style=\"color: #f8f8f2; text-decoration-color: #f8f8f2; background-color: #272822\"> (</span><span style=\"color: #a6e22e; text-decoration-color: #a6e22e; background-color: #272822\">c</span><span style=\"color: #f8f8f2; text-decoration-color: #f8f8f2; background-color: #272822\"> </span><span style=\"color: #ae81ff; text-decoration-color: #ae81ff; background-color: #272822\">2</span><span style=\"color: #f8f8f2; text-decoration-color: #f8f8f2; background-color: #272822\"> (</span><span style=\"color: #a6e22e; text-decoration-color: #a6e22e; background-color: #272822\">c</span><span style=\"color: #f8f8f2; text-decoration-color: #f8f8f2; background-color: #272822\"> </span><span style=\"color: #ae81ff; text-decoration-color: #ae81ff; background-color: #272822\">13</span><span style=\"color: #f8f8f2; text-decoration-color: #f8f8f2; background-color: #272822\"> (</span><span style=\"color: #a6e22e; text-decoration-color: #a6e22e; background-color: #272822\">c</span><span style=\"color: #f8f8f2; text-decoration-color: #f8f8f2; background-color: #272822\"> </span><span style=\"color: #ae81ff; text-decoration-color: #ae81ff; background-color: #272822\">11</span><span style=\"color: #f8f8f2; text-decoration-color: #f8f8f2; background-color: #272822\"> ()))))) (</span><span style=\"color: #a6e22e; text-decoration-color: #a6e22e; background-color: #272822\">q</span><span style=\"color: #f8f8f2; text-decoration-color: #f8f8f2; background-color: #272822\"> </span><span style=\"color: #66d9ef; text-decoration-color: #66d9ef; background-color: #272822\">. </span><span style=\"color: #ae81ff; text-decoration-color: #ae81ff; background-color: #272822\">11</span><span style=\"color: #f8f8f2; text-decoration-color: #f8f8f2; background-color: #272822\">)) </span><span style=\"color: #ae81ff; text-decoration-color: #ae81ff; background-color: #272822\">1</span><span style=\"color: #f8f8f2; text-decoration-color: #f8f8f2; background-color: #272822\">) </span><span style=\"color: #ae81ff; text-decoration-color: #ae81ff; background-color: #272822\">2</span><span style=\"color: #f8f8f2; text-decoration-color: #f8f8f2; background-color: #272822\"> (</span><span style=\"color: #a6e22e; text-decoration-color: #a6e22e; background-color: #272822\">i</span><span style=\"color: #f8f8f2; text-decoration-color: #f8f8f2; background-color: #272822\"> (</span><span style=\"color: #a6e22e; text-decoration-color: #a6e22e; background-color: #272822\">l</span><span style=\"color: #f8f8f2; text-decoration-color: #f8f8f2; background-color: #272822\"> </span><span style=\"color: #ae81ff; text-decoration-color: #ae81ff; background-color: #272822\">5</span><span style=\"color: #f8f8f2; text-decoration-color: #f8f8f2; background-color: #272822\">) (</span><span style=\"color: #a6e22e; text-decoration-color: #a6e22e; background-color: #272822\">q</span><span style=\"color: #f8f8f2; text-decoration-color: #f8f8f2; background-color: #272822\"> </span><span style=\"background-color: #272822\"> </span>\n",
       "<span style=\"color: #ae81ff; text-decoration-color: #ae81ff; background-color: #272822\">11</span><span style=\"color: #f8f8f2; text-decoration-color: #f8f8f2; background-color: #272822\"> (</span><span style=\"color: #a6e22e; text-decoration-color: #a6e22e; background-color: #272822\">q</span><span style=\"color: #f8f8f2; text-decoration-color: #f8f8f2; background-color: #272822\"> </span><span style=\"color: #66d9ef; text-decoration-color: #66d9ef; background-color: #272822\">. </span><span style=\"color: #ae81ff; text-decoration-color: #ae81ff; background-color: #272822\">2</span><span style=\"color: #f8f8f2; text-decoration-color: #f8f8f2; background-color: #272822\">) (</span><span style=\"color: #a6e22e; text-decoration-color: #a6e22e; background-color: #272822\">a</span><span style=\"color: #f8f8f2; text-decoration-color: #f8f8f2; background-color: #272822\"> </span><span style=\"color: #ae81ff; text-decoration-color: #ae81ff; background-color: #272822\">30</span><span style=\"color: #f8f8f2; text-decoration-color: #f8f8f2; background-color: #272822\"> (</span><span style=\"color: #a6e22e; text-decoration-color: #a6e22e; background-color: #272822\">c</span><span style=\"color: #f8f8f2; text-decoration-color: #f8f8f2; background-color: #272822\"> </span><span style=\"color: #ae81ff; text-decoration-color: #ae81ff; background-color: #272822\">2</span><span style=\"color: #f8f8f2; text-decoration-color: #f8f8f2; background-color: #272822\"> (</span><span style=\"color: #a6e22e; text-decoration-color: #a6e22e; background-color: #272822\">c</span><span style=\"color: #f8f8f2; text-decoration-color: #f8f8f2; background-color: #272822\"> </span><span style=\"color: #ae81ff; text-decoration-color: #ae81ff; background-color: #272822\">9</span><span style=\"color: #f8f8f2; text-decoration-color: #f8f8f2; background-color: #272822\"> ()))) (</span><span style=\"color: #a6e22e; text-decoration-color: #a6e22e; background-color: #272822\">a</span><span style=\"color: #f8f8f2; text-decoration-color: #f8f8f2; background-color: #272822\"> </span><span style=\"color: #ae81ff; text-decoration-color: #ae81ff; background-color: #272822\">30</span><span style=\"color: #f8f8f2; text-decoration-color: #f8f8f2; background-color: #272822\"> (</span><span style=\"color: #a6e22e; text-decoration-color: #a6e22e; background-color: #272822\">c</span><span style=\"color: #f8f8f2; text-decoration-color: #f8f8f2; background-color: #272822\"> </span><span style=\"color: #ae81ff; text-decoration-color: #ae81ff; background-color: #272822\">2</span><span style=\"color: #f8f8f2; text-decoration-color: #f8f8f2; background-color: #272822\"> (</span><span style=\"color: #a6e22e; text-decoration-color: #a6e22e; background-color: #272822\">c</span><span style=\"color: #f8f8f2; text-decoration-color: #f8f8f2; background-color: #272822\"> </span><span style=\"color: #ae81ff; text-decoration-color: #ae81ff; background-color: #272822\">13</span><span style=\"color: #f8f8f2; text-decoration-color: #f8f8f2; background-color: #272822\"> ())))) (</span><span style=\"color: #a6e22e; text-decoration-color: #a6e22e; background-color: #272822\">q</span><span style=\"color: #f8f8f2; text-decoration-color: #f8f8f2; background-color: #272822\"> </span><span style=\"color: #ae81ff; text-decoration-color: #ae81ff; background-color: #272822\">11</span><span style=\"color: #f8f8f2; text-decoration-color: #f8f8f2; background-color: #272822\"> (</span><span style=\"color: #a6e22e; text-decoration-color: #a6e22e; background-color: #272822\">q</span><span style=\"color: #f8f8f2; text-decoration-color: #f8f8f2; background-color: #272822\"> </span><span style=\"color: #66d9ef; text-decoration-color: #66d9ef; background-color: #272822\">. </span><span style=\"color: #ae81ff; text-decoration-color: #ae81ff; background-color: #272822\">1</span><span style=\"color: #f8f8f2; text-decoration-color: #f8f8f2; background-color: #272822\">) </span><span style=\"color: #ae81ff; text-decoration-color: #ae81ff; background-color: #272822\">5</span><span style=\"color: #f8f8f2; text-decoration-color: #f8f8f2; background-color: #272822\">)) </span><span style=\"color: #ae81ff; text-decoration-color: #ae81ff; background-color: #272822\">1</span><span style=\"color: #f8f8f2; text-decoration-color: #f8f8f2; background-color: #272822\">) </span><span style=\"color: #ae81ff; text-decoration-color: #ae81ff; background-color: #272822\">1</span><span style=\"color: #f8f8f2; text-decoration-color: #f8f8f2; background-color: #272822\">))</span><span style=\"background-color: #272822\">                                  </span>\n",
       "</pre>\n"
      ],
      "text/plain": [
       "\u001b[38;2;248;248;242;48;2;39;40;34m(\u001b[0m\u001b[38;2;166;226;46;48;2;39;40;34ma\u001b[0m\u001b[38;2;248;248;242;48;2;39;40;34m \u001b[0m\u001b[38;2;248;248;242;48;2;39;40;34m(\u001b[0m\u001b[38;2;166;226;46;48;2;39;40;34mq\u001b[0m\u001b[38;2;248;248;242;48;2;39;40;34m \u001b[0m\u001b[38;2;174;129;255;48;2;39;40;34m2\u001b[0m\u001b[38;2;248;248;242;48;2;39;40;34m \u001b[0m\u001b[38;2;174;129;255;48;2;39;40;34m10\u001b[0m\u001b[38;2;248;248;242;48;2;39;40;34m \u001b[0m\u001b[38;2;248;248;242;48;2;39;40;34m(\u001b[0m\u001b[38;2;166;226;46;48;2;39;40;34mc\u001b[0m\u001b[38;2;248;248;242;48;2;39;40;34m \u001b[0m\u001b[38;2;174;129;255;48;2;39;40;34m2\u001b[0m\u001b[38;2;248;248;242;48;2;39;40;34m \u001b[0m\u001b[38;2;248;248;242;48;2;39;40;34m(\u001b[0m\u001b[38;2;166;226;46;48;2;39;40;34mc\u001b[0m\u001b[38;2;248;248;242;48;2;39;40;34m \u001b[0m\u001b[38;2;174;129;255;48;2;39;40;34m3\u001b[0m\u001b[38;2;248;248;242;48;2;39;40;34m \u001b[0m\u001b[38;2;248;248;242;48;2;39;40;34m(\u001b[0m\u001b[38;2;248;248;242;48;2;39;40;34m)\u001b[0m\u001b[38;2;248;248;242;48;2;39;40;34m)\u001b[0m\u001b[38;2;248;248;242;48;2;39;40;34m)\u001b[0m\u001b[38;2;248;248;242;48;2;39;40;34m)\u001b[0m\u001b[38;2;248;248;242;48;2;39;40;34m \u001b[0m\u001b[38;2;248;248;242;48;2;39;40;34m(\u001b[0m\u001b[38;2;166;226;46;48;2;39;40;34mc\u001b[0m\u001b[38;2;248;248;242;48;2;39;40;34m \u001b[0m\u001b[38;2;248;248;242;48;2;39;40;34m(\u001b[0m\u001b[38;2;166;226;46;48;2;39;40;34mq\u001b[0m\u001b[38;2;248;248;242;48;2;39;40;34m \u001b[0m\u001b[38;2;248;248;242;48;2;39;40;34m(\u001b[0m\u001b[38;2;174;129;255;48;2;39;40;34m51\u001b[0m\u001b[38;2;248;248;242;48;2;39;40;34m \u001b[0m\u001b[38;2;102;217;239;48;2;39;40;34m. \u001b[0m\u001b[38;2;174;129;255;48;2;39;40;34m62\u001b[0m\u001b[38;2;248;248;242;48;2;39;40;34m)\u001b[0m\u001b[38;2;248;248;242;48;2;39;40;34m \u001b[0m\u001b[38;2;248;248;242;48;2;39;40;34m(\u001b[0m\u001b[38;2;166;226;46;48;2;39;40;34ma\u001b[0m\u001b[38;2;248;248;242;48;2;39;40;34m \u001b[0m\u001b[38;2;248;248;242;48;2;39;40;34m(\u001b[0m\u001b[38;2;166;226;46;48;2;39;40;34mi\u001b[0m\u001b[38;2;248;248;242;48;2;39;40;34m \u001b[0m\u001b[38;2;174;129;255;48;2;39;40;34m5\u001b[0m\u001b[38;2;248;248;242;48;2;39;40;34m \u001b[0m\u001b[38;2;248;248;242;48;2;39;40;34m(\u001b[0m\u001b[38;2;166;226;46;48;2;39;40;34mq\u001b[0m\u001b[38;2;248;248;242;48;2;39;40;34m \u001b[0m\u001b[38;2;174;129;255;48;2;39;40;34m4\u001b[0m\u001b[38;2;248;248;242;48;2;39;40;34m \u001b[0m\u001b[38;2;248;248;242;48;2;39;40;34m(\u001b[0m\u001b[38;2;166;226;46;48;2;39;40;34mc\u001b[0m\u001b[38;2;248;248;242;48;2;39;40;34m \u001b[0m\u001b[38;2;174;129;255;48;2;39;40;34m12\u001b[0m\u001b[38;2;248;248;242;48;2;39;40;34m \u001b[0m\u001b[38;2;248;248;242;48;2;39;40;34m(\u001b[0m\u001b[38;2;166;226;46;48;2;39;40;34mc\u001b[0m\u001b[38;2;248;248;242;48;2;39;40;34m \u001b[0m\u001b[38;2;248;248;242;48;2;39;40;34m(\u001b[0m\u001b[38;2;166;226;46;48;2;39;40;34ma\u001b[0m\u001b[38;2;248;248;242;48;2;39;40;34m \u001b[0m\u001b[38;2;174;129;255;48;2;39;40;34m30\u001b[0m\u001b[38;2;248;248;242;48;2;39;40;34m \u001b[0m\u001b[38;2;248;248;242;48;2;39;40;34m(\u001b[0m\u001b[38;2;166;226;46;48;2;39;40;34mc\u001b[0m\u001b[38;2;248;248;242;48;2;39;40;34m \u001b[0m\u001b[38;2;174;129;255;48;2;39;40;34m2\u001b[0m\u001b[38;2;248;248;242;48;2;39;40;34m \u001b[0m\u001b[38;2;248;248;242;48;2;39;40;34m(\u001b[0m\u001b[38;2;166;226;46;48;2;39;40;34mc\u001b[0m\u001b[38;2;248;248;242;48;2;39;40;34m \u001b[0m\u001b[38;2;174;129;255;48;2;39;40;34m9\u001b[0m\u001b[38;2;248;248;242;48;2;39;40;34m \u001b[0m\u001b[38;2;248;248;242;48;2;39;40;34m(\u001b[0m\u001b[38;2;248;248;242;48;2;39;40;34m)\u001b[0m\u001b[38;2;248;248;242;48;2;39;40;34m)\u001b[0m\u001b[38;2;248;248;242;48;2;39;40;34m)\u001b[0m\u001b[38;2;248;248;242;48;2;39;40;34m)\u001b[0m\u001b[38;2;248;248;242;48;2;39;40;34m \u001b[0m\u001b[38;2;248;248;242;48;2;39;40;34m(\u001b[0m\u001b[38;2;248;248;242;48;2;39;40;34m)\u001b[0m\u001b[38;2;248;248;242;48;2;39;40;34m)\u001b[0m\u001b[38;2;248;248;242;48;2;39;40;34m)\u001b[0m\u001b[38;2;248;248;242;48;2;39;40;34m \u001b[0m\u001b[38;2;248;248;242;48;2;39;40;34m(\u001b[0m\u001b[38;2;166;226;46;48;2;39;40;34ma\u001b[0m\u001b[38;2;248;248;242;48;2;39;40;34m \u001b[0m\u001b[38;2;174;129;255;48;2;39;40;34m22\u001b[0m\u001b[38;2;248;248;242;48;2;39;40;34m \u001b[0m\u001b[38;2;248;248;242;48;2;39;40;34m(\u001b[0m\u001b[38;2;166;226;46;48;2;39;40;34mc\u001b[0m\u001b[38;2;248;248;242;48;2;39;40;34m \u001b[0m\u001b[38;2;174;129;255;48;2;39;40;34m2\u001b[0m\u001b[38;2;248;248;242;48;2;39;40;34m \u001b[0m\u001b[38;2;248;248;242;48;2;39;40;34m(\u001b[0m\u001b[38;2;166;226;46;48;2;39;40;34mc\u001b[0m\u001b[38;2;248;248;242;48;2;39;40;34m \u001b[0m\u001b[38;2;174;129;255;48;2;39;40;34m25\u001b[0m\u001b[38;2;248;248;242;48;2;39;40;34m \u001b[0m\u001b[38;2;248;248;242;48;2;39;40;34m(\u001b[0m\u001b[38;2;166;226;46;48;2;39;40;34mc\u001b[0m\u001b[38;2;248;248;242;48;2;39;40;34m \u001b[0m\u001b[38;2;248;248;242;48;2;39;40;34m(\u001b[0m\u001b[38;2;166;226;46;48;2;39;40;34ma\u001b[0m\u001b[38;2;248;248;242;48;2;39;40;34m \u001b[0m\n",
       "\u001b[38;2;174;129;255;48;2;39;40;34m10\u001b[0m\u001b[38;2;248;248;242;48;2;39;40;34m \u001b[0m\u001b[38;2;248;248;242;48;2;39;40;34m(\u001b[0m\u001b[38;2;166;226;46;48;2;39;40;34mc\u001b[0m\u001b[38;2;248;248;242;48;2;39;40;34m \u001b[0m\u001b[38;2;174;129;255;48;2;39;40;34m2\u001b[0m\u001b[38;2;248;248;242;48;2;39;40;34m \u001b[0m\u001b[38;2;248;248;242;48;2;39;40;34m(\u001b[0m\u001b[38;2;166;226;46;48;2;39;40;34mc\u001b[0m\u001b[38;2;248;248;242;48;2;39;40;34m \u001b[0m\u001b[38;2;174;129;255;48;2;39;40;34m13\u001b[0m\u001b[38;2;248;248;242;48;2;39;40;34m \u001b[0m\u001b[38;2;248;248;242;48;2;39;40;34m(\u001b[0m\u001b[38;2;248;248;242;48;2;39;40;34m)\u001b[0m\u001b[38;2;248;248;242;48;2;39;40;34m)\u001b[0m\u001b[38;2;248;248;242;48;2;39;40;34m)\u001b[0m\u001b[38;2;248;248;242;48;2;39;40;34m)\u001b[0m\u001b[38;2;248;248;242;48;2;39;40;34m \u001b[0m\u001b[38;2;248;248;242;48;2;39;40;34m(\u001b[0m\u001b[38;2;248;248;242;48;2;39;40;34m)\u001b[0m\u001b[38;2;248;248;242;48;2;39;40;34m)\u001b[0m\u001b[38;2;248;248;242;48;2;39;40;34m)\u001b[0m\u001b[38;2;248;248;242;48;2;39;40;34m)\u001b[0m\u001b[38;2;248;248;242;48;2;39;40;34m)\u001b[0m\u001b[38;2;248;248;242;48;2;39;40;34m)\u001b[0m\u001b[38;2;248;248;242;48;2;39;40;34m \u001b[0m\u001b[38;2;248;248;242;48;2;39;40;34m(\u001b[0m\u001b[38;2;248;248;242;48;2;39;40;34m)\u001b[0m\u001b[38;2;248;248;242;48;2;39;40;34m)\u001b[0m\u001b[38;2;248;248;242;48;2;39;40;34m \u001b[0m\u001b[38;2;174;129;255;48;2;39;40;34m1\u001b[0m\u001b[38;2;248;248;242;48;2;39;40;34m)\u001b[0m\u001b[38;2;248;248;242;48;2;39;40;34m \u001b[0m\u001b[38;2;248;248;242;48;2;39;40;34m(\u001b[0m\u001b[38;2;166;226;46;48;2;39;40;34ma\u001b[0m\u001b[38;2;248;248;242;48;2;39;40;34m \u001b[0m\u001b[38;2;248;248;242;48;2;39;40;34m(\u001b[0m\u001b[38;2;166;226;46;48;2;39;40;34mi\u001b[0m\u001b[38;2;248;248;242;48;2;39;40;34m \u001b[0m\u001b[38;2;174;129;255;48;2;39;40;34m5\u001b[0m\u001b[38;2;248;248;242;48;2;39;40;34m \u001b[0m\u001b[38;2;248;248;242;48;2;39;40;34m(\u001b[0m\u001b[38;2;166;226;46;48;2;39;40;34mq\u001b[0m\u001b[38;2;248;248;242;48;2;39;40;34m \u001b[0m\u001b[38;2;174;129;255;48;2;39;40;34m4\u001b[0m\u001b[38;2;248;248;242;48;2;39;40;34m \u001b[0m\u001b[38;2;248;248;242;48;2;39;40;34m(\u001b[0m\u001b[38;2;166;226;46;48;2;39;40;34mc\u001b[0m\u001b[38;2;248;248;242;48;2;39;40;34m \u001b[0m\u001b[38;2;174;129;255;48;2;39;40;34m8\u001b[0m\u001b[38;2;248;248;242;48;2;39;40;34m \u001b[0m\u001b[38;2;174;129;255;48;2;39;40;34m9\u001b[0m\u001b[38;2;248;248;242;48;2;39;40;34m)\u001b[0m\u001b[38;2;248;248;242;48;2;39;40;34m \u001b[0m\u001b[38;2;248;248;242;48;2;39;40;34m(\u001b[0m\u001b[38;2;166;226;46;48;2;39;40;34ma\u001b[0m\u001b[38;2;248;248;242;48;2;39;40;34m \u001b[0m\u001b[38;2;174;129;255;48;2;39;40;34m22\u001b[0m\u001b[38;2;248;248;242;48;2;39;40;34m \u001b[0m\u001b[38;2;248;248;242;48;2;39;40;34m(\u001b[0m\u001b[38;2;166;226;46;48;2;39;40;34mc\u001b[0m\u001b[38;2;248;248;242;48;2;39;40;34m \u001b[0m\u001b[38;2;174;129;255;48;2;39;40;34m2\u001b[0m\u001b[38;2;248;248;242;48;2;39;40;34m \u001b[0m\u001b[38;2;248;248;242;48;2;39;40;34m(\u001b[0m\u001b[38;2;166;226;46;48;2;39;40;34mc\u001b[0m\u001b[38;2;248;248;242;48;2;39;40;34m \u001b[0m\u001b[38;2;174;129;255;48;2;39;40;34m13\u001b[0m\u001b[38;2;248;248;242;48;2;39;40;34m \u001b[0m\u001b[38;2;248;248;242;48;2;39;40;34m(\u001b[0m\u001b[38;2;166;226;46;48;2;39;40;34mc\u001b[0m\u001b[38;2;248;248;242;48;2;39;40;34m \u001b[0m\u001b[38;2;174;129;255;48;2;39;40;34m11\u001b[0m\u001b[38;2;248;248;242;48;2;39;40;34m \u001b[0m\u001b[38;2;248;248;242;48;2;39;40;34m(\u001b[0m\u001b[38;2;248;248;242;48;2;39;40;34m)\u001b[0m\u001b[38;2;248;248;242;48;2;39;40;34m)\u001b[0m\u001b[38;2;248;248;242;48;2;39;40;34m)\u001b[0m\u001b[38;2;248;248;242;48;2;39;40;34m)\u001b[0m\u001b[38;2;248;248;242;48;2;39;40;34m)\u001b[0m\u001b[38;2;248;248;242;48;2;39;40;34m)\u001b[0m\u001b[38;2;248;248;242;48;2;39;40;34m \u001b[0m\u001b[38;2;248;248;242;48;2;39;40;34m(\u001b[0m\u001b[38;2;166;226;46;48;2;39;40;34mq\u001b[0m\u001b[38;2;248;248;242;48;2;39;40;34m \u001b[0m\u001b[38;2;102;217;239;48;2;39;40;34m. \u001b[0m\u001b[38;2;174;129;255;48;2;39;40;34m11\u001b[0m\u001b[38;2;248;248;242;48;2;39;40;34m)\u001b[0m\u001b[38;2;248;248;242;48;2;39;40;34m)\u001b[0m\u001b[38;2;248;248;242;48;2;39;40;34m \u001b[0m\u001b[38;2;174;129;255;48;2;39;40;34m1\u001b[0m\u001b[38;2;248;248;242;48;2;39;40;34m)\u001b[0m\u001b[38;2;248;248;242;48;2;39;40;34m \u001b[0m\u001b[38;2;174;129;255;48;2;39;40;34m2\u001b[0m\u001b[38;2;248;248;242;48;2;39;40;34m \u001b[0m\u001b[38;2;248;248;242;48;2;39;40;34m(\u001b[0m\u001b[38;2;166;226;46;48;2;39;40;34mi\u001b[0m\u001b[38;2;248;248;242;48;2;39;40;34m \u001b[0m\u001b[38;2;248;248;242;48;2;39;40;34m(\u001b[0m\u001b[38;2;166;226;46;48;2;39;40;34ml\u001b[0m\u001b[38;2;248;248;242;48;2;39;40;34m \u001b[0m\u001b[38;2;174;129;255;48;2;39;40;34m5\u001b[0m\u001b[38;2;248;248;242;48;2;39;40;34m)\u001b[0m\u001b[38;2;248;248;242;48;2;39;40;34m \u001b[0m\u001b[38;2;248;248;242;48;2;39;40;34m(\u001b[0m\u001b[38;2;166;226;46;48;2;39;40;34mq\u001b[0m\u001b[38;2;248;248;242;48;2;39;40;34m \u001b[0m\u001b[48;2;39;40;34m \u001b[0m\n",
       "\u001b[38;2;174;129;255;48;2;39;40;34m11\u001b[0m\u001b[38;2;248;248;242;48;2;39;40;34m \u001b[0m\u001b[38;2;248;248;242;48;2;39;40;34m(\u001b[0m\u001b[38;2;166;226;46;48;2;39;40;34mq\u001b[0m\u001b[38;2;248;248;242;48;2;39;40;34m \u001b[0m\u001b[38;2;102;217;239;48;2;39;40;34m. \u001b[0m\u001b[38;2;174;129;255;48;2;39;40;34m2\u001b[0m\u001b[38;2;248;248;242;48;2;39;40;34m)\u001b[0m\u001b[38;2;248;248;242;48;2;39;40;34m \u001b[0m\u001b[38;2;248;248;242;48;2;39;40;34m(\u001b[0m\u001b[38;2;166;226;46;48;2;39;40;34ma\u001b[0m\u001b[38;2;248;248;242;48;2;39;40;34m \u001b[0m\u001b[38;2;174;129;255;48;2;39;40;34m30\u001b[0m\u001b[38;2;248;248;242;48;2;39;40;34m \u001b[0m\u001b[38;2;248;248;242;48;2;39;40;34m(\u001b[0m\u001b[38;2;166;226;46;48;2;39;40;34mc\u001b[0m\u001b[38;2;248;248;242;48;2;39;40;34m \u001b[0m\u001b[38;2;174;129;255;48;2;39;40;34m2\u001b[0m\u001b[38;2;248;248;242;48;2;39;40;34m \u001b[0m\u001b[38;2;248;248;242;48;2;39;40;34m(\u001b[0m\u001b[38;2;166;226;46;48;2;39;40;34mc\u001b[0m\u001b[38;2;248;248;242;48;2;39;40;34m \u001b[0m\u001b[38;2;174;129;255;48;2;39;40;34m9\u001b[0m\u001b[38;2;248;248;242;48;2;39;40;34m \u001b[0m\u001b[38;2;248;248;242;48;2;39;40;34m(\u001b[0m\u001b[38;2;248;248;242;48;2;39;40;34m)\u001b[0m\u001b[38;2;248;248;242;48;2;39;40;34m)\u001b[0m\u001b[38;2;248;248;242;48;2;39;40;34m)\u001b[0m\u001b[38;2;248;248;242;48;2;39;40;34m)\u001b[0m\u001b[38;2;248;248;242;48;2;39;40;34m \u001b[0m\u001b[38;2;248;248;242;48;2;39;40;34m(\u001b[0m\u001b[38;2;166;226;46;48;2;39;40;34ma\u001b[0m\u001b[38;2;248;248;242;48;2;39;40;34m \u001b[0m\u001b[38;2;174;129;255;48;2;39;40;34m30\u001b[0m\u001b[38;2;248;248;242;48;2;39;40;34m \u001b[0m\u001b[38;2;248;248;242;48;2;39;40;34m(\u001b[0m\u001b[38;2;166;226;46;48;2;39;40;34mc\u001b[0m\u001b[38;2;248;248;242;48;2;39;40;34m \u001b[0m\u001b[38;2;174;129;255;48;2;39;40;34m2\u001b[0m\u001b[38;2;248;248;242;48;2;39;40;34m \u001b[0m\u001b[38;2;248;248;242;48;2;39;40;34m(\u001b[0m\u001b[38;2;166;226;46;48;2;39;40;34mc\u001b[0m\u001b[38;2;248;248;242;48;2;39;40;34m \u001b[0m\u001b[38;2;174;129;255;48;2;39;40;34m13\u001b[0m\u001b[38;2;248;248;242;48;2;39;40;34m \u001b[0m\u001b[38;2;248;248;242;48;2;39;40;34m(\u001b[0m\u001b[38;2;248;248;242;48;2;39;40;34m)\u001b[0m\u001b[38;2;248;248;242;48;2;39;40;34m)\u001b[0m\u001b[38;2;248;248;242;48;2;39;40;34m)\u001b[0m\u001b[38;2;248;248;242;48;2;39;40;34m)\u001b[0m\u001b[38;2;248;248;242;48;2;39;40;34m)\u001b[0m\u001b[38;2;248;248;242;48;2;39;40;34m \u001b[0m\u001b[38;2;248;248;242;48;2;39;40;34m(\u001b[0m\u001b[38;2;166;226;46;48;2;39;40;34mq\u001b[0m\u001b[38;2;248;248;242;48;2;39;40;34m \u001b[0m\u001b[38;2;174;129;255;48;2;39;40;34m11\u001b[0m\u001b[38;2;248;248;242;48;2;39;40;34m \u001b[0m\u001b[38;2;248;248;242;48;2;39;40;34m(\u001b[0m\u001b[38;2;166;226;46;48;2;39;40;34mq\u001b[0m\u001b[38;2;248;248;242;48;2;39;40;34m \u001b[0m\u001b[38;2;102;217;239;48;2;39;40;34m. \u001b[0m\u001b[38;2;174;129;255;48;2;39;40;34m1\u001b[0m\u001b[38;2;248;248;242;48;2;39;40;34m)\u001b[0m\u001b[38;2;248;248;242;48;2;39;40;34m \u001b[0m\u001b[38;2;174;129;255;48;2;39;40;34m5\u001b[0m\u001b[38;2;248;248;242;48;2;39;40;34m)\u001b[0m\u001b[38;2;248;248;242;48;2;39;40;34m)\u001b[0m\u001b[38;2;248;248;242;48;2;39;40;34m \u001b[0m\u001b[38;2;174;129;255;48;2;39;40;34m1\u001b[0m\u001b[38;2;248;248;242;48;2;39;40;34m)\u001b[0m\u001b[38;2;248;248;242;48;2;39;40;34m \u001b[0m\u001b[38;2;174;129;255;48;2;39;40;34m1\u001b[0m\u001b[38;2;248;248;242;48;2;39;40;34m)\u001b[0m\u001b[38;2;248;248;242;48;2;39;40;34m)\u001b[0m\u001b[48;2;39;40;34m                                  \u001b[0m\n"
      ]
     },
     "metadata": {},
     "output_type": "display_data"
    },
    {
     "data": {
      "text/html": [
       "<pre style=\"white-space:pre;overflow-x:auto;line-height:normal;font-family:Menlo,'DejaVu Sans Mono',consolas,'Courier New',monospace\"><span style=\"color: #f8f8f2; text-decoration-color: #f8f8f2; background-color: #272822\">()</span><span style=\"background-color: #272822\">                                                                                                                 </span>\n",
       "</pre>\n"
      ],
      "text/plain": [
       "\u001b[38;2;248;248;242;48;2;39;40;34m(\u001b[0m\u001b[38;2;248;248;242;48;2;39;40;34m)\u001b[0m\u001b[48;2;39;40;34m                                                                                                                 \u001b[0m\n"
      ]
     },
     "metadata": {},
     "output_type": "display_data"
    },
    {
     "data": {
      "text/html": [
       "<pre style=\"white-space:pre;overflow-x:auto;line-height:normal;font-family:Menlo,'DejaVu Sans Mono',consolas,'Courier New',monospace\"><span style=\"color: #f8f8f2; text-decoration-color: #f8f8f2; background-color: #272822\">()</span><span style=\"background-color: #272822\">                                                                                                                 </span>\n",
       "</pre>\n"
      ],
      "text/plain": [
       "\u001b[38;2;248;248;242;48;2;39;40;34m(\u001b[0m\u001b[38;2;248;248;242;48;2;39;40;34m)\u001b[0m\u001b[48;2;39;40;34m                                                                                                                 \u001b[0m\n"
      ]
     },
     "metadata": {},
     "output_type": "display_data"
    }
   ],
   "source": [
    "coin_spend = await get_coin_spend(\n",
    "    maker_settlement_cr.coin.name(), \n",
    "    maker_settlement_cr.spent_block_index)\n",
    "puzzle = coin_spend.puzzle_reveal.to_program()\n",
    "print_program(puzzle)\n",
    "solution = coin_spend.solution.to_program()\n",
    "print_program(solution)\n",
    "conditions = puzzle.run(solution).as_python()\n",
    "print_program(puzzle.run(solution))\n",
    "for c in conditions:\n",
    "    opcode = ConditionOpcode.from_bytes(c[0])\n",
    "    print(opcode.name)\n",
    "    if opcode == ConditionOpcode.CREATE_COIN:\n",
    "        announcement = std_hash(maker_settlement_cr.coin.puzzle_hash + c[1])\n",
    "        print(announcement)"
   ]
  },
  {
   "cell_type": "code",
   "execution_count": 92,
   "id": "d93a9319-8b8c-414f-abf9-13ca8e714897",
   "metadata": {},
   "outputs": [
    {
     "data": {
      "text/html": [
       "<pre style=\"white-space:pre;overflow-x:auto;line-height:normal;font-family:Menlo,'DejaVu Sans Mono',consolas,'Courier New',monospace\">dbcb4fee7e94946b713ae68e669df3285ca40acd64d06a5cfc8e3c748c7e7bdb\n",
       "</pre>\n"
      ],
      "text/plain": [
       "dbcb4fee7e94946b713ae68e669df3285ca40acd64d06a5cfc8e3c748c7e7bdb\n"
      ]
     },
     "metadata": {},
     "output_type": "display_data"
    },
    {
     "data": {
      "text/html": [
       "<pre style=\"white-space:pre;overflow-x:auto;line-height:normal;font-family:Menlo,'DejaVu Sans Mono',consolas,'Courier New',monospace\"><span style=\"color: #800080; text-decoration-color: #800080; font-weight: bold\">CoinRecord</span><span style=\"font-weight: bold\">(</span>\n",
       "    <span style=\"color: #808000; text-decoration-color: #808000\">coin</span>=<span style=\"color: #800080; text-decoration-color: #800080\">Coin</span> <span style=\"font-weight: bold\">{</span> parent_coin_info: 76f55ce8e980b8551aa2c621c77488cf4255e883b6fb117bc4148ce64c757f94, puzzle_hash: \n",
       "dbcb4fee7e94946b713ae68e669df3285ca40acd64d06a5cfc8e3c748c7e7bdb, amount: <span style=\"color: #008080; text-decoration-color: #008080; font-weight: bold\">1000</span> <span style=\"font-weight: bold\">}</span>,\n",
       "    <span style=\"color: #808000; text-decoration-color: #808000\">confirmed_block_index</span>=<span style=\"color: #008080; text-decoration-color: #008080; font-weight: bold\">2094173</span>,\n",
       "    <span style=\"color: #808000; text-decoration-color: #808000\">spent_block_index</span>=<span style=\"color: #008080; text-decoration-color: #008080; font-weight: bold\">2094173</span>,\n",
       "    <span style=\"color: #808000; text-decoration-color: #808000\">coinbase</span>=<span style=\"color: #ff0000; text-decoration-color: #ff0000; font-style: italic\">False</span>,\n",
       "    <span style=\"color: #808000; text-decoration-color: #808000\">timestamp</span>=<span style=\"color: #008080; text-decoration-color: #008080; font-weight: bold\">1674002486</span>\n",
       "<span style=\"font-weight: bold\">)</span>\n",
       "</pre>\n"
      ],
      "text/plain": [
       "\u001b[1;35mCoinRecord\u001b[0m\u001b[1m(\u001b[0m\n",
       "    \u001b[33mcoin\u001b[0m=\u001b[35mCoin\u001b[0m \u001b[1m{\u001b[0m parent_coin_info: 76f55ce8e980b8551aa2c621c77488cf4255e883b6fb117bc4148ce64c757f94, puzzle_hash: \n",
       "dbcb4fee7e94946b713ae68e669df3285ca40acd64d06a5cfc8e3c748c7e7bdb, amount: \u001b[1;36m1000\u001b[0m \u001b[1m}\u001b[0m,\n",
       "    \u001b[33mconfirmed_block_index\u001b[0m=\u001b[1;36m2094173\u001b[0m,\n",
       "    \u001b[33mspent_block_index\u001b[0m=\u001b[1;36m2094173\u001b[0m,\n",
       "    \u001b[33mcoinbase\u001b[0m=\u001b[3;91mFalse\u001b[0m,\n",
       "    \u001b[33mtimestamp\u001b[0m=\u001b[1;36m1674002486\u001b[0m\n",
       "\u001b[1m)\u001b[0m\n"
      ]
     },
     "metadata": {},
     "output_type": "display_data"
    },
    {
     "data": {
      "text/html": [
       "<pre style=\"white-space:pre;overflow-x:auto;line-height:normal;font-family:Menlo,'DejaVu Sans Mono',consolas,'Courier New',monospace\">95ddff829a6e8a59290cd7dc91659bc16fffbb1ceb140fa84465249a147c444d\n",
       "</pre>\n"
      ],
      "text/plain": [
       "95ddff829a6e8a59290cd7dc91659bc16fffbb1ceb140fa84465249a147c444d\n"
      ]
     },
     "metadata": {},
     "output_type": "display_data"
    },
    {
     "data": {
      "text/html": [
       "<pre style=\"white-space:pre;overflow-x:auto;line-height:normal;font-family:Menlo,'DejaVu Sans Mono',consolas,'Courier New',monospace\"><span style=\"color: #008000; text-decoration-color: #008000\">b'\\x03\\xe8'</span>\n",
       "</pre>\n"
      ],
      "text/plain": [
       "\u001b[32mb'\\x03\\xe8'\u001b[0m\n"
      ]
     },
     "metadata": {},
     "output_type": "display_data"
    }
   ],
   "source": [
    "# (ASSERT_PUZZLE_ANNOUNCEMENT 0x95ddff829a6e8a59290cd7dc91659bc16fffbb1ceb140fa84465249a147c444d)\n",
    "coins = await get_coins_in_block(confirmed_at_height)\n",
    "additions = coins[0]\n",
    "removals = coins[1]\n",
    "\n",
    "settlement_ph = bytes32.from_hexstr(\"0xbae24162efbd568f89bc7a340798a6118df0189eb9e3f8697bcea27af99f8f79\")\n",
    "settlement_taker_ph = get_cat_puzzlehash(tdbx_asset_id, settlement_ph)\n",
    "print(settlement_taker_ph)\n",
    "for cr in removals:\n",
    "    if cr.coin.puzzle_hash == settlement_taker_ph:\n",
    "        print(cr)\n",
    "        coin_spend = await get_coin_spend(cr.coin.name(), cr.spent_block_index)\n",
    "        puzzle = coin_spend.puzzle_reveal.to_program()\n",
    "        solution = coin_spend.solution.to_program()\n",
    "        \n",
    "        conditions = puzzle.run(solution).as_python()\n",
    "        for c in conditions:\n",
    "            opcode = ConditionOpcode.from_bytes(c[0])\n",
    "            if opcode == ConditionOpcode.CREATE_PUZZLE_ANNOUNCEMENT:\n",
    "                announcement = std_hash(cr.coin.puzzle_hash + c[1])\n",
    "                print(announcement)\n",
    "            if opcode == ConditionOpcode.CREATE_COIN:\n",
    "                print(c[2])\n",
    "        "
   ]
  },
  {
   "cell_type": "code",
   "execution_count": 95,
   "id": "46255044-cc81-4d13-841c-efe9bc0c7ecd",
   "metadata": {},
   "outputs": [
    {
     "data": {
      "text/html": [
       "<pre style=\"white-space:pre;overflow-x:auto;line-height:normal;font-family:Menlo,'DejaVu Sans Mono',consolas,'Courier New',monospace\">bae24162efbd568f89bc7a340798a6118df0189eb9e3f8697bcea27af99f8f79\n",
       "</pre>\n"
      ],
      "text/plain": [
       "bae24162efbd568f89bc7a340798a6118df0189eb9e3f8697bcea27af99f8f79\n"
      ]
     },
     "metadata": {},
     "output_type": "display_data"
    },
    {
     "data": {
      "text/html": [
       "<pre style=\"white-space:pre;overflow-x:auto;line-height:normal;font-family:Menlo,'DejaVu Sans Mono',consolas,'Courier New',monospace\"><span style=\"color: #800080; text-decoration-color: #800080; font-weight: bold\">CoinRecord</span><span style=\"font-weight: bold\">(</span>\n",
       "    <span style=\"color: #808000; text-decoration-color: #808000\">coin</span>=<span style=\"color: #800080; text-decoration-color: #800080\">Coin</span> <span style=\"font-weight: bold\">{</span> parent_coin_info: f8d7fefd1261cf4d44509e4a6c0d13a0a1abb2402be7d26806b279308f03c427, puzzle_hash: \n",
       "bae24162efbd568f89bc7a340798a6118df0189eb9e3f8697bcea27af99f8f79, amount: <span style=\"color: #008080; text-decoration-color: #008080; font-weight: bold\">420700000</span> <span style=\"font-weight: bold\">}</span>,\n",
       "    <span style=\"color: #808000; text-decoration-color: #808000\">confirmed_block_index</span>=<span style=\"color: #008080; text-decoration-color: #008080; font-weight: bold\">2094173</span>,\n",
       "    <span style=\"color: #808000; text-decoration-color: #808000\">spent_block_index</span>=<span style=\"color: #008080; text-decoration-color: #008080; font-weight: bold\">2094173</span>,\n",
       "    <span style=\"color: #808000; text-decoration-color: #808000\">coinbase</span>=<span style=\"color: #ff0000; text-decoration-color: #ff0000; font-style: italic\">False</span>,\n",
       "    <span style=\"color: #808000; text-decoration-color: #808000\">timestamp</span>=<span style=\"color: #008080; text-decoration-color: #008080; font-weight: bold\">1674002486</span>\n",
       "<span style=\"font-weight: bold\">)</span>\n",
       "</pre>\n"
      ],
      "text/plain": [
       "\u001b[1;35mCoinRecord\u001b[0m\u001b[1m(\u001b[0m\n",
       "    \u001b[33mcoin\u001b[0m=\u001b[35mCoin\u001b[0m \u001b[1m{\u001b[0m parent_coin_info: f8d7fefd1261cf4d44509e4a6c0d13a0a1abb2402be7d26806b279308f03c427, puzzle_hash: \n",
       "bae24162efbd568f89bc7a340798a6118df0189eb9e3f8697bcea27af99f8f79, amount: \u001b[1;36m420700000\u001b[0m \u001b[1m}\u001b[0m,\n",
       "    \u001b[33mconfirmed_block_index\u001b[0m=\u001b[1;36m2094173\u001b[0m,\n",
       "    \u001b[33mspent_block_index\u001b[0m=\u001b[1;36m2094173\u001b[0m,\n",
       "    \u001b[33mcoinbase\u001b[0m=\u001b[3;91mFalse\u001b[0m,\n",
       "    \u001b[33mtimestamp\u001b[0m=\u001b[1;36m1674002486\u001b[0m\n",
       "\u001b[1m)\u001b[0m\n"
      ]
     },
     "metadata": {},
     "output_type": "display_data"
    },
    {
     "data": {
      "text/html": [
       "<pre style=\"white-space:pre;overflow-x:auto;line-height:normal;font-family:Menlo,'DejaVu Sans Mono',consolas,'Courier New',monospace\">fcce84769db0227d0db9f90a6232358d6c428109ca08a9836589982c99e29b70\n",
       "</pre>\n"
      ],
      "text/plain": [
       "fcce84769db0227d0db9f90a6232358d6c428109ca08a9836589982c99e29b70\n"
      ]
     },
     "metadata": {},
     "output_type": "display_data"
    },
    {
     "data": {
      "text/html": [
       "<pre style=\"white-space:pre;overflow-x:auto;line-height:normal;font-family:Menlo,'DejaVu Sans Mono',consolas,'Courier New',monospace\">2d545ccf93005c33b8020c7f905846b7c44d26e813e8979e61559deaaeeee9e4\n",
       "</pre>\n"
      ],
      "text/plain": [
       "2d545ccf93005c33b8020c7f905846b7c44d26e813e8979e61559deaaeeee9e4\n"
      ]
     },
     "metadata": {},
     "output_type": "display_data"
    }
   ],
   "source": [
    "settlement_maker_ph = bytes32.from_hexstr(\"0xbae24162efbd568f89bc7a340798a6118df0189eb9e3f8697bcea27af99f8f79\")\n",
    "print(settlement_maker_ph)\n",
    "for cr in removals:\n",
    "    if cr.coin.puzzle_hash == settlement_maker_ph:\n",
    "        print(cr)\n",
    "        coin_spend = await get_coin_spend(cr.coin.name(), cr.spent_block_index)\n",
    "        puzzle = coin_spend.puzzle_reveal.to_program()\n",
    "        solution = coin_spend.solution.to_program()\n",
    "        \n",
    "        conditions = puzzle.run(solution).as_python()\n",
    "        for c in conditions:\n",
    "            opcode = ConditionOpcode.from_bytes(c[0])\n",
    "            if opcode == ConditionOpcode.CREATE_PUZZLE_ANNOUNCEMENT:\n",
    "                announcement = std_hash(cr.coin.puzzle_hash + c[1])\n",
    "                print(announcement)\n",
    "            if opcode == ConditionOpcode.CREATE_COIN:\n",
    "                print(c[1].hex())"
   ]
  },
  {
   "cell_type": "code",
   "execution_count": null,
   "id": "8e07781a-368e-4389-a022-691873268cff",
   "metadata": {},
   "outputs": [],
   "source": []
  }
 ],
 "metadata": {
  "kernelspec": {
   "display_name": "Python 3 (ipykernel)",
   "language": "python",
   "name": "python3"
  },
  "language_info": {
   "codemirror_mode": {
    "name": "ipython",
    "version": 3
   },
   "file_extension": ".py",
   "mimetype": "text/x-python",
   "name": "python",
   "nbconvert_exporter": "python",
   "pygments_lexer": "ipython3",
   "version": "3.10.9"
  }
 },
 "nbformat": 4,
 "nbformat_minor": 5
}
