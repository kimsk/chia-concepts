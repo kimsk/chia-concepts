{
 "cells": [
  {
   "cell_type": "code",
   "execution_count": null,
   "id": "4a76495b-1957-47a3-9da6-380546cc977e",
   "metadata": {},
   "outputs": [],
   "source": [
    "chia_root = Path(\"/Users/karlkim/.chia/testnet10/\")\n",
    "chia_config = load_config(chia_root, \"config.yaml\")\n",
    "self_hostname = chia_config[\"self_hostname\"]\n",
    "full_node_rpc_port = chia_config[\"full_node\"][\"rpc_port\"]\n",
    "wallet_rpc_port = chia_config[\"wallet\"][\"rpc_port\"]\n",
    "\n",
    "@with_full_node_rpc_client(self_hostname, full_node_rpc_port, chia_root, chia_config)\n",
    "async def get_coin_record_by_name(full_node_client, name):\n",
    "    coin_records = await full_node_client.get_coin_record_by_name(\n",
    "        name\n",
    "    )\n",
    "    return coin_records\n",
    "\n",
    "@with_full_node_rpc_client(self_hostname, full_node_rpc_port, chia_root, chia_config)\n",
    "async def get_coin_records_by_parent_id(full_node_client, parent_id):\n",
    "    coin_records = await full_node_client.get_coin_records_by_parent_ids(\n",
    "        [parent_id]\n",
    "    )\n",
    "    return coin_records\n",
    "\n",
    "@with_full_node_rpc_client(self_hostname, full_node_rpc_port, chia_root, chia_config)\n",
    "async def get_coin_records_by_puzzle_hash(full_node_client, puzzle_hash):\n",
    "    coin_records = await full_node_client.get_coin_records_by_puzzle_hash(\n",
    "        puzzle_hash\n",
    "    )\n",
    "    return coin_records\n",
    "\n",
    "@with_full_node_rpc_client(self_hostname, full_node_rpc_port, chia_root, chia_config)\n",
    "async def get_coin_spend(full_node_client, coin_id, spent_height):\n",
    "    coin_spend = await full_node_client.get_puzzle_and_solution(coin_id, spent_height)\n",
    "    return coin_spend\n",
    "\n",
    "@with_full_node_rpc_client(self_hostname, full_node_rpc_port, chia_root, chia_config)\n",
    "async def get_coins_in_block(full_node_client, height):\n",
    "    block_records = await full_node_client.get_block_records(height, height + 1)\n",
    "    header_hash = bytes32.from_hexstr(block_records[0]['header_hash'])\n",
    "    result = await full_node_client.get_additions_and_removals(header_hash)\n",
    "    return result"
   ]
  }
 ],
 "metadata": {
  "kernelspec": {
   "display_name": "Python 3 (ipykernel)",
   "language": "python",
   "name": "python3"
  },
  "language_info": {
   "codemirror_mode": {
    "name": "ipython",
    "version": 3
   },
   "file_extension": ".py",
   "mimetype": "text/x-python",
   "name": "python",
   "nbconvert_exporter": "python",
   "pygments_lexer": "ipython3",
   "version": "3.10.9"
  }
 },
 "nbformat": 4,
 "nbformat_minor": 5
}
