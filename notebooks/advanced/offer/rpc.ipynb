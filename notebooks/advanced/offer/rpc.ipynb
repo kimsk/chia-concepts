{
 "cells": [
  {
   "cell_type": "code",
   "execution_count": null,
   "id": "4a76495b-1957-47a3-9da6-380546cc977e",
   "metadata": {},
   "outputs": [],
   "source": [
    "print(chia_root)\n",
    "\n",
    "chia_config = load_config(chia_root, \"config.yaml\")\n",
    "self_hostname = chia_config[\"self_hostname\"]\n",
    "full_node_rpc_port = chia_config[\"full_node\"][\"rpc_port\"]\n",
    "wallet_rpc_port = chia_config[\"wallet\"][\"rpc_port\"]\n",
    "\n",
    "inject_full_node = with_full_node_rpc_client(self_hostname, full_node_rpc_port, chia_root, chia_config)\n",
    "get_coin_record_by_name = inject_full_node(full_node_rpc.get_coin_record_by_name)\n",
    "get_coin_records_by_parent_id = inject_full_node(full_node_rpc.get_coin_records_by_parent_id)\n",
    "get_coin_records_by_puzzle_hash = inject_full_node(full_node_rpc.get_coin_records_by_puzzle_hash)\n",
    "get_coin_spend = inject_full_node(full_node_rpc.get_coin_spend)\n",
    "get_coins_in_block = inject_full_node(full_node_rpc.get_coins_in_block)"
   ]
  }
 ],
 "metadata": {
  "kernelspec": {
   "display_name": "Python 3 (ipykernel)",
   "language": "python",
   "name": "python3"
  },
  "language_info": {
   "codemirror_mode": {
    "name": "ipython",
    "version": 3
   },
   "file_extension": ".py",
   "mimetype": "text/x-python",
   "name": "python",
   "nbconvert_exporter": "python",
   "pygments_lexer": "ipython3",
   "version": "3.10.9"
  }
 },
 "nbformat": 4,
 "nbformat_minor": 5
}
