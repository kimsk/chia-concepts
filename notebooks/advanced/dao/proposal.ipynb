{
 "cells": [
  {
   "cell_type": "markdown",
   "id": "9b158741-4994-43cc-9588-4919768a4b7a",
   "metadata": {},
   "source": [
    "## [dao_proposal.clvm]()\n",
    "> This is a proposal which lives inside a singleton, it represents a proposed way to spend DAO money. If the proposal passes the INNERPUZ inside it will run, and the DAO Treasury will accept a spend to change itself or spend money\n",
    "\n",
    "```clojire\n",
    "(\n",
    "  SINGLETON_STRUCT  ; (SINGLETON_MOD_HASH, (SINGLETON_ID, LAUNCHER_PUZZLE_HASH))\n",
    "  PROPOSAL_MOD_HASH ; dao_proposal\n",
    "  PROPOSAL_TIMER_MOD_HASH ; proposal timer needs to know which proposal created it, AND\n",
    "  CAT_MOD_HASH ; CAT_V2\n",
    "  TREASURY_MOD_HASH\n",
    "  LOCKUP_MOD_HASH\n",
    "  CAT_TAIL_HASH\n",
    "  TREASURY_ID\n",
    "  YES_VOTES  ; yes votes are +1, no votes don't tally - we compare yes_votes/total_votes at the end\n",
    "  TOTAL_VOTES  ; how many people responded\n",
    "  INNERPUZ  ; this is what runs if this proposal is successful\n",
    "  vote_amount_or_solution  ; The qty of \"votes\" to add or subtract. ALWAYS POSITIVE.\n",
    "  vote_info_or_p2_singleton_mod_hash\n",
    "  vote_coin_id_or_current_cat_issuance  ; this is either the coin ID we're taking a vote from OR...\n",
    "                                        ; the total number of CATs in circulation according to the treasury\n",
    "  previous_votes  ; set this to 0 if we have passed\n",
    "  lockup_innerpuzhash_or_attendance_required  ; this is either the innerpuz of the locked up CAT we're taking a vote from OR\n",
    "                                              ; the attendance required - the percentage of the current issuance which must have voted represented as 0 to 10,000 - this is announced by the treasury\n",
    "  pass_margin  ; this is what percentage of the total votes must be YES - represented as an integer from 0 to 10,000 - typically this is set at 5100 (51%)\n",
    "  proposal_timelock  ; we assert this from the treasury and announce it, so the timer knows what the the current timelock is\n",
    "\n",
    ")\n",
    "```\n",
    "\n",
    "- Singleton\n",
    "- `SINGLETON_STRUCT`: (SINGLETON_MOD_HASH, (SINGLETON_ID, LAUNCHER_PUZZLE_HASH))\n",
    "- `PROPOSAL_MOD_HASH`: dao_proposal\n",
    "- `PROPOSAL_TIMER_MOD_HASH`: dao_proposal_timer\n",
    "- `CAT_MOD_HASH`: cat_v2\n",
    "- `TREASURY_MOD_HASH`: dao_treasury\n",
    "- `LOCKUP_MOD_HASH`: dao_lockup\n",
    "- `CAT_TAIL_HASH`: genesis_by_id?\n",
    "- `TREASURY_ID`:\n",
    "- `YES_VOTES`: yes votes are +1, no votes don't tally - we compare yes_votes/total_votes at the end\n",
    "- `TOTAL_VOTES`: how many people responded\n",
    "- `INNERPUZ`: this is what runs if this proposal is successful"
   ]
  },
  {
   "cell_type": "markdown",
   "id": "3568c17e-6960-4c19-bd7f-229f07ddcb9b",
   "metadata": {},
   "source": [
    "- [test_dao_clvm.py]"
   ]
  },
  {
   "cell_type": "code",
   "execution_count": 7,
   "id": "824d3f5f-63f0-46f2-96aa-6999a41fd584",
   "metadata": {},
   "outputs": [],
   "source": [
    "from chia.wallet.puzzles.cat_loader import CAT_MOD\n",
    "\n",
    "puzzle_path = \"/Users/karlkim/dexie/chia-blockchain/chia/wallet/puzzles\"\n",
    "SINGLETON_MOD: Program = load_hex(f\"{puzzle_path}/singleton_top_layer_v1_1.clvm.hex\")\n",
    "SINGLETON_LAUNCHER: Program = load_hex(f\"{puzzle_path}/singleton_launcher.clvm.hex\")\n",
    "DAO_LOCKUP_MOD: Program = load_hex(f\"{puzzle_path}/dao_lockup.clvm.hex\")\n",
    "DAO_PROPOSAL_TIMER_MOD: Program = load_hex(f\"{puzzle_path}/dao_proposal_timer.clvm.hex\")\n",
    "DAO_PROPOSAL_MOD: Program = load_hex(f\"{puzzle_path}/dao_proposal.clvm.hex\")\n",
    "DAO_TREASURY_MOD: Program = load_hex(f\"{puzzle_path}/dao_treasury.clvm.hex\")\n",
    "P2_SINGLETON_MOD: Program = load_hex(f\"{puzzle_path}/p2_singleton_or_delayed_puzhash.clvm.hex\")\n",
    "DAO_FINISHED_STATE: Program = load_hex(f\"{puzzle_path}/dao_finished_state.clvm.hex\")\n",
    "DAO_RESALE_PREVENTION: Program = load_hex(f\"{puzzle_path}/dao_resale_prevention_layer.clvm.hex\")\n",
    "DAO_CAT_TAIL: Program = load_hex(f\"{puzzle_path}/genesis_by_coin_id_or_proposal.clvm.hex\")\n",
    "DAO_SPEND_PROPOSAL: Program = load_hex(f\"{puzzle_path}/dao_spend_proposal.clvm.hex\")"
   ]
  },
  {
   "cell_type": "code",
   "execution_count": 8,
   "id": "94eeb070-78ab-4264-8d88-93f3cbac9229",
   "metadata": {},
   "outputs": [],
   "source": [
    "current_cat_issuance: uint64 = uint64(1000)\n",
    "proposal_pass_percentage: uint64 = uint64(15)\n",
    "CAT_TAIL: Program = Program.to(\"tail\").get_tree_hash()\n",
    "treasury_id: Program = Program.to(\"treasury\").get_tree_hash()\n",
    "LOCKUP_TIME: uint64 = uint64(200)\n",
    "singleton_id: Program = Program.to(\"singleton_id\").get_tree_hash()\n",
    "singleton_struct: Program = Program.to(\n",
    "    (SINGLETON_MOD.get_tree_hash(), (singleton_id, SINGLETON_LAUNCHER.get_tree_hash()))\n",
    ")"
   ]
  },
  {
   "cell_type": "code",
   "execution_count": 9,
   "id": "1af53d10-36e2-4229-ae52-dff97932291c",
   "metadata": {},
   "outputs": [],
   "source": [
    "full_proposal: Program = DAO_PROPOSAL_MOD.curry(\n",
    "    singleton_struct,\n",
    "    DAO_PROPOSAL_MOD.get_tree_hash(),\n",
    "    DAO_PROPOSAL_TIMER_MOD.get_tree_hash(),\n",
    "    CAT_MOD.get_tree_hash(),\n",
    "    DAO_TREASURY_MOD.get_tree_hash(),\n",
    "    DAO_LOCKUP_MOD.get_tree_hash(),\n",
    "    CAT_TAIL,\n",
    "    treasury_id,\n",
    "    20,\n",
    "    100,\n",
    "    Program.to(1),\n",
    ")"
   ]
  },
  {
   "cell_type": "code",
   "execution_count": 13,
   "id": "2cf059c6-6b75-4bb6-a52a-cdc1aa251f3a",
   "metadata": {},
   "outputs": [
    {
     "data": {
      "text/html": [
       "<pre style=\"white-space:pre;overflow-x:auto;line-height:normal;font-family:Menlo,'DejaVu Sans Mono',consolas,'Courier New',monospace\"><span style=\"color: #f8f8f2; text-decoration-color: #f8f8f2; background-color: #272822\">((</span><span style=\"color: #ae81ff; text-decoration-color: #ae81ff; background-color: #272822\">62</span><span style=\"color: #f8f8f2; text-decoration-color: #f8f8f2; background-color: #272822\"> </span><span style=\"color: #ae81ff; text-decoration-color: #ae81ff; background-color: #272822\">0</span><span style=\"color: #f8f8f2; text-decoration-color: #f8f8f2; background-color: #272822\">x8a33db157b86caf949c6661bd3a944b57801ae0e3651a6cd12ac1f3728ab995c) (</span><span style=\"color: #ae81ff; text-decoration-color: #ae81ff; background-color: #272822\">63</span><span style=\"color: #f8f8f2; text-decoration-color: #f8f8f2; background-color: #272822\"> </span><span style=\"background-color: #272822\">                                      </span>\n",
       "<span style=\"color: #ae81ff; text-decoration-color: #ae81ff; background-color: #272822\">0</span><span style=\"color: #f8f8f2; text-decoration-color: #f8f8f2; background-color: #272822\">xe4b2ab9273c426cb3da3fbaa38993a2cc36e6fd3bbf3a2f3ca6edb7d156cf370) (</span><span style=\"color: #ae81ff; text-decoration-color: #ae81ff; background-color: #272822\">51</span><span style=\"color: #f8f8f2; text-decoration-color: #f8f8f2; background-color: #272822\"> </span><span style=\"background-color: #272822\">                                           </span>\n",
       "<span style=\"color: #ae81ff; text-decoration-color: #ae81ff; background-color: #272822\">0</span><span style=\"color: #f8f8f2; text-decoration-color: #f8f8f2; background-color: #272822\">x520285ab5eb52b2786797a4bd290ed87951555175719a963b92a83bd1c1d4753 </span><span style=\"color: #ae81ff; text-decoration-color: #ae81ff; background-color: #272822\">1</span><span style=\"color: #f8f8f2; text-decoration-color: #f8f8f2; background-color: #272822\"> </span><span style=\"background-color: #272822\">                                              </span>\n",
       "<span style=\"color: #f8f8f2; text-decoration-color: #f8f8f2; background-color: #272822\">(</span><span style=\"color: #ae81ff; text-decoration-color: #ae81ff; background-color: #272822\">0</span><span style=\"color: #f8f8f2; text-decoration-color: #f8f8f2; background-color: #272822\">x0bed8f7fad171680e1f0ad13377d8b7602c1bd917414b7110289306589b83537)))</span><span style=\"background-color: #272822\">                                             </span>\n",
       "</pre>\n"
      ],
      "text/plain": [
       "\u001b[38;2;248;248;242;48;2;39;40;34m(\u001b[0m\u001b[38;2;248;248;242;48;2;39;40;34m(\u001b[0m\u001b[38;2;174;129;255;48;2;39;40;34m62\u001b[0m\u001b[38;2;248;248;242;48;2;39;40;34m \u001b[0m\u001b[38;2;174;129;255;48;2;39;40;34m0\u001b[0m\u001b[38;2;248;248;242;48;2;39;40;34mx8a33db157b86caf949c6661bd3a944b57801ae0e3651a6cd12ac1f3728ab995c\u001b[0m\u001b[38;2;248;248;242;48;2;39;40;34m)\u001b[0m\u001b[38;2;248;248;242;48;2;39;40;34m \u001b[0m\u001b[38;2;248;248;242;48;2;39;40;34m(\u001b[0m\u001b[38;2;174;129;255;48;2;39;40;34m63\u001b[0m\u001b[38;2;248;248;242;48;2;39;40;34m \u001b[0m\u001b[48;2;39;40;34m                                      \u001b[0m\n",
       "\u001b[38;2;174;129;255;48;2;39;40;34m0\u001b[0m\u001b[38;2;248;248;242;48;2;39;40;34mxe4b2ab9273c426cb3da3fbaa38993a2cc36e6fd3bbf3a2f3ca6edb7d156cf370\u001b[0m\u001b[38;2;248;248;242;48;2;39;40;34m)\u001b[0m\u001b[38;2;248;248;242;48;2;39;40;34m \u001b[0m\u001b[38;2;248;248;242;48;2;39;40;34m(\u001b[0m\u001b[38;2;174;129;255;48;2;39;40;34m51\u001b[0m\u001b[38;2;248;248;242;48;2;39;40;34m \u001b[0m\u001b[48;2;39;40;34m                                           \u001b[0m\n",
       "\u001b[38;2;174;129;255;48;2;39;40;34m0\u001b[0m\u001b[38;2;248;248;242;48;2;39;40;34mx520285ab5eb52b2786797a4bd290ed87951555175719a963b92a83bd1c1d4753\u001b[0m\u001b[38;2;248;248;242;48;2;39;40;34m \u001b[0m\u001b[38;2;174;129;255;48;2;39;40;34m1\u001b[0m\u001b[38;2;248;248;242;48;2;39;40;34m \u001b[0m\u001b[48;2;39;40;34m                                              \u001b[0m\n",
       "\u001b[38;2;248;248;242;48;2;39;40;34m(\u001b[0m\u001b[38;2;174;129;255;48;2;39;40;34m0\u001b[0m\u001b[38;2;248;248;242;48;2;39;40;34mx0bed8f7fad171680e1f0ad13377d8b7602c1bd917414b7110289306589b83537\u001b[0m\u001b[38;2;248;248;242;48;2;39;40;34m)\u001b[0m\u001b[38;2;248;248;242;48;2;39;40;34m)\u001b[0m\u001b[38;2;248;248;242;48;2;39;40;34m)\u001b[0m\u001b[48;2;39;40;34m                                             \u001b[0m\n"
      ]
     },
     "metadata": {},
     "output_type": "display_data"
    },
    {
     "data": {
      "text/html": [
       "<pre style=\"white-space:pre;overflow-x:auto;line-height:normal;font-family:Menlo,'DejaVu Sans Mono',consolas,'Courier New',monospace\"><span style=\"color: #f8f8f2; text-decoration-color: #f8f8f2; background-color: #272822\">(</span><span style=\"color: #a6e22e; text-decoration-color: #a6e22e; background-color: #272822\">CREATE_PUZZLE_ANNOUNCEMENT</span><span style=\"color: #f8f8f2; text-decoration-color: #f8f8f2; background-color: #272822\"> </span><span style=\"color: #ae81ff; text-decoration-color: #ae81ff; background-color: #272822\">0</span><span style=\"color: #f8f8f2; text-decoration-color: #f8f8f2; background-color: #272822\">x8a33db157b86caf949c6661bd3a944b57801ae0e3651a6cd12ac1f3728ab995c)</span><span style=\"background-color: #272822\">                    </span>\n",
       "</pre>\n"
      ],
      "text/plain": [
       "\u001b[38;2;248;248;242;48;2;39;40;34m(\u001b[0m\u001b[38;2;166;226;46;48;2;39;40;34mCREATE_PUZZLE_ANNOUNCEMENT\u001b[0m\u001b[38;2;248;248;242;48;2;39;40;34m \u001b[0m\u001b[38;2;174;129;255;48;2;39;40;34m0\u001b[0m\u001b[38;2;248;248;242;48;2;39;40;34mx8a33db157b86caf949c6661bd3a944b57801ae0e3651a6cd12ac1f3728ab995c\u001b[0m\u001b[38;2;248;248;242;48;2;39;40;34m)\u001b[0m\u001b[48;2;39;40;34m                    \u001b[0m\n"
      ]
     },
     "metadata": {},
     "output_type": "display_data"
    },
    {
     "data": {
      "text/html": [
       "<pre style=\"white-space:pre;overflow-x:auto;line-height:normal;font-family:Menlo,'DejaVu Sans Mono',consolas,'Courier New',monospace\"><span style=\"color: #f8f8f2; text-decoration-color: #f8f8f2; background-color: #272822\">(</span><span style=\"color: #a6e22e; text-decoration-color: #a6e22e; background-color: #272822\">ASSERT_PUZZLE_ANNOUNCEMENT</span><span style=\"color: #f8f8f2; text-decoration-color: #f8f8f2; background-color: #272822\"> </span><span style=\"color: #ae81ff; text-decoration-color: #ae81ff; background-color: #272822\">0</span><span style=\"color: #f8f8f2; text-decoration-color: #f8f8f2; background-color: #272822\">xe4b2ab9273c426cb3da3fbaa38993a2cc36e6fd3bbf3a2f3ca6edb7d156cf370)</span><span style=\"background-color: #272822\">                    </span>\n",
       "</pre>\n"
      ],
      "text/plain": [
       "\u001b[38;2;248;248;242;48;2;39;40;34m(\u001b[0m\u001b[38;2;166;226;46;48;2;39;40;34mASSERT_PUZZLE_ANNOUNCEMENT\u001b[0m\u001b[38;2;248;248;242;48;2;39;40;34m \u001b[0m\u001b[38;2;174;129;255;48;2;39;40;34m0\u001b[0m\u001b[38;2;248;248;242;48;2;39;40;34mxe4b2ab9273c426cb3da3fbaa38993a2cc36e6fd3bbf3a2f3ca6edb7d156cf370\u001b[0m\u001b[38;2;248;248;242;48;2;39;40;34m)\u001b[0m\u001b[48;2;39;40;34m                    \u001b[0m\n"
      ]
     },
     "metadata": {},
     "output_type": "display_data"
    },
    {
     "data": {
      "text/html": [
       "<pre style=\"white-space:pre;overflow-x:auto;line-height:normal;font-family:Menlo,'DejaVu Sans Mono',consolas,'Courier New',monospace\"><span style=\"color: #f8f8f2; text-decoration-color: #f8f8f2; background-color: #272822\">(</span><span style=\"color: #a6e22e; text-decoration-color: #a6e22e; background-color: #272822\">CREATE_COIN</span><span style=\"color: #f8f8f2; text-decoration-color: #f8f8f2; background-color: #272822\"> </span><span style=\"color: #ae81ff; text-decoration-color: #ae81ff; background-color: #272822\">0</span><span style=\"color: #f8f8f2; text-decoration-color: #f8f8f2; background-color: #272822\">x520285ab5eb52b2786797a4bd290ed87951555175719a963b92a83bd1c1d4753 </span><span style=\"color: #ae81ff; text-decoration-color: #ae81ff; background-color: #272822\">1</span><span style=\"color: #f8f8f2; text-decoration-color: #f8f8f2; background-color: #272822\">)</span><span style=\"background-color: #272822\">                                 </span>\n",
       "</pre>\n"
      ],
      "text/plain": [
       "\u001b[38;2;248;248;242;48;2;39;40;34m(\u001b[0m\u001b[38;2;166;226;46;48;2;39;40;34mCREATE_COIN\u001b[0m\u001b[38;2;248;248;242;48;2;39;40;34m \u001b[0m\u001b[38;2;174;129;255;48;2;39;40;34m0\u001b[0m\u001b[38;2;248;248;242;48;2;39;40;34mx520285ab5eb52b2786797a4bd290ed87951555175719a963b92a83bd1c1d4753\u001b[0m\u001b[38;2;248;248;242;48;2;39;40;34m \u001b[0m\u001b[38;2;174;129;255;48;2;39;40;34m1\u001b[0m\u001b[38;2;248;248;242;48;2;39;40;34m)\u001b[0m\u001b[48;2;39;40;34m                                 \u001b[0m\n"
      ]
     },
     "metadata": {},
     "output_type": "display_data"
    }
   ],
   "source": [
    "# Test Voting\n",
    "voting_solution: Program = Program.to(\n",
    "    [\n",
    "        10, # vote_amount\n",
    "        1,  # vote_info\n",
    "        Program.to(\"vote_coin\").get_tree_hash(), # vote coin id\n",
    "        [0xFADEDDAB], # previous votes\n",
    "        0xCAFEF00D, # lockup_innerpuzhash\n",
    "    ]\n",
    ")\n",
    "conds: Program = full_proposal.run(solution)\n",
    "print_program(conds)\n",
    "print_conditions(\n",
    "    full_proposal,\n",
    "    solution\n",
    ")"
   ]
  },
  {
   "cell_type": "code",
   "execution_count": 15,
   "id": "6450a1a0-1a3e-4d67-8fe2-d0141e7afa39",
   "metadata": {},
   "outputs": [
    {
     "data": {
      "text/html": [
       "<pre style=\"white-space:pre;overflow-x:auto;line-height:normal;font-family:Menlo,'DejaVu Sans Mono',consolas,'Courier New',monospace\"><span style=\"color: #f8f8f2; text-decoration-color: #f8f8f2; background-color: #272822\">((</span><span style=\"color: #ae81ff; text-decoration-color: #ae81ff; background-color: #272822\">51</span><span style=\"color: #f8f8f2; text-decoration-color: #f8f8f2; background-color: #272822\"> </span><span style=\"color: #ae81ff; text-decoration-color: #ae81ff; background-color: #272822\">0</span><span style=\"color: #f8f8f2; text-decoration-color: #f8f8f2; background-color: #272822\">xfb015415f2e6a09c1141f880fc2135beec6adf2a19e4d02a191432846db16559 </span><span style=\"color: #ae81ff; text-decoration-color: #ae81ff; background-color: #272822\">1</span><span style=\"color: #f8f8f2; text-decoration-color: #f8f8f2; background-color: #272822\"> (</span><span style=\"color: #e6db74; text-decoration-color: #e6db74; background-color: #272822\">\"my_singleton_id\"</span><span style=\"color: #f8f8f2; text-decoration-color: #f8f8f2; background-color: #272822\">)) (</span><span style=\"color: #ae81ff; text-decoration-color: #ae81ff; background-color: #272822\">82</span><span style=\"color: #f8f8f2; text-decoration-color: #f8f8f2; background-color: #272822\"> </span><span style=\"color: #ae81ff; text-decoration-color: #ae81ff; background-color: #272822\">5</span><span style=\"color: #f8f8f2; text-decoration-color: #f8f8f2; background-color: #272822\">) (</span><span style=\"color: #ae81ff; text-decoration-color: #ae81ff; background-color: #272822\">63</span><span style=\"color: #f8f8f2; text-decoration-color: #f8f8f2; background-color: #272822\"> </span><span style=\"background-color: #272822\">         </span>\n",
       "<span style=\"color: #ae81ff; text-decoration-color: #ae81ff; background-color: #272822\">0</span><span style=\"color: #f8f8f2; text-decoration-color: #f8f8f2; background-color: #272822\">x43cdaf328149fa93b68e30303c8cb28c36deb66d367df46ee66cb79d61efa670) (</span><span style=\"color: #ae81ff; text-decoration-color: #ae81ff; background-color: #272822\">62</span><span style=\"color: #f8f8f2; text-decoration-color: #f8f8f2; background-color: #272822\"> </span><span style=\"background-color: #272822\">                                           </span>\n",
       "<span style=\"color: #ae81ff; text-decoration-color: #ae81ff; background-color: #272822\">0</span><span style=\"color: #f8f8f2; text-decoration-color: #f8f8f2; background-color: #272822\">xd0f6e85befae86a4ab89374d8146b8b99104d6a19e850f9b976ec04739dff615) (</span><span style=\"color: #ae81ff; text-decoration-color: #ae81ff; background-color: #272822\">63</span><span style=\"color: #f8f8f2; text-decoration-color: #f8f8f2; background-color: #272822\"> </span><span style=\"background-color: #272822\">                                           </span>\n",
       "<span style=\"color: #ae81ff; text-decoration-color: #ae81ff; background-color: #272822\">0</span><span style=\"color: #f8f8f2; text-decoration-color: #f8f8f2; background-color: #272822\">xbf5f1d9606f594797fd068de0ad5b7714c693fece9182ed6e94211bcb486c500) (</span><span style=\"color: #ae81ff; text-decoration-color: #ae81ff; background-color: #272822\">51</span><span style=\"color: #f8f8f2; text-decoration-color: #f8f8f2; background-color: #272822\"> </span><span style=\"color: #ae81ff; text-decoration-color: #ae81ff; background-color: #272822\">0</span><span style=\"color: #f8f8f2; text-decoration-color: #f8f8f2; background-color: #272822\">x00cafef00d </span><span style=\"color: #ae81ff; text-decoration-color: #ae81ff; background-color: #272822\">200</span><span style=\"color: #f8f8f2; text-decoration-color: #f8f8f2; background-color: #272822\">))</span><span style=\"background-color: #272822\">                         </span>\n",
       "</pre>\n"
      ],
      "text/plain": [
       "\u001b[38;2;248;248;242;48;2;39;40;34m(\u001b[0m\u001b[38;2;248;248;242;48;2;39;40;34m(\u001b[0m\u001b[38;2;174;129;255;48;2;39;40;34m51\u001b[0m\u001b[38;2;248;248;242;48;2;39;40;34m \u001b[0m\u001b[38;2;174;129;255;48;2;39;40;34m0\u001b[0m\u001b[38;2;248;248;242;48;2;39;40;34mxfb015415f2e6a09c1141f880fc2135beec6adf2a19e4d02a191432846db16559\u001b[0m\u001b[38;2;248;248;242;48;2;39;40;34m \u001b[0m\u001b[38;2;174;129;255;48;2;39;40;34m1\u001b[0m\u001b[38;2;248;248;242;48;2;39;40;34m \u001b[0m\u001b[38;2;248;248;242;48;2;39;40;34m(\u001b[0m\u001b[38;2;230;219;116;48;2;39;40;34m\"my_singleton_id\"\u001b[0m\u001b[38;2;248;248;242;48;2;39;40;34m)\u001b[0m\u001b[38;2;248;248;242;48;2;39;40;34m)\u001b[0m\u001b[38;2;248;248;242;48;2;39;40;34m \u001b[0m\u001b[38;2;248;248;242;48;2;39;40;34m(\u001b[0m\u001b[38;2;174;129;255;48;2;39;40;34m82\u001b[0m\u001b[38;2;248;248;242;48;2;39;40;34m \u001b[0m\u001b[38;2;174;129;255;48;2;39;40;34m5\u001b[0m\u001b[38;2;248;248;242;48;2;39;40;34m)\u001b[0m\u001b[38;2;248;248;242;48;2;39;40;34m \u001b[0m\u001b[38;2;248;248;242;48;2;39;40;34m(\u001b[0m\u001b[38;2;174;129;255;48;2;39;40;34m63\u001b[0m\u001b[38;2;248;248;242;48;2;39;40;34m \u001b[0m\u001b[48;2;39;40;34m         \u001b[0m\n",
       "\u001b[38;2;174;129;255;48;2;39;40;34m0\u001b[0m\u001b[38;2;248;248;242;48;2;39;40;34mx43cdaf328149fa93b68e30303c8cb28c36deb66d367df46ee66cb79d61efa670\u001b[0m\u001b[38;2;248;248;242;48;2;39;40;34m)\u001b[0m\u001b[38;2;248;248;242;48;2;39;40;34m \u001b[0m\u001b[38;2;248;248;242;48;2;39;40;34m(\u001b[0m\u001b[38;2;174;129;255;48;2;39;40;34m62\u001b[0m\u001b[38;2;248;248;242;48;2;39;40;34m \u001b[0m\u001b[48;2;39;40;34m                                           \u001b[0m\n",
       "\u001b[38;2;174;129;255;48;2;39;40;34m0\u001b[0m\u001b[38;2;248;248;242;48;2;39;40;34mxd0f6e85befae86a4ab89374d8146b8b99104d6a19e850f9b976ec04739dff615\u001b[0m\u001b[38;2;248;248;242;48;2;39;40;34m)\u001b[0m\u001b[38;2;248;248;242;48;2;39;40;34m \u001b[0m\u001b[38;2;248;248;242;48;2;39;40;34m(\u001b[0m\u001b[38;2;174;129;255;48;2;39;40;34m63\u001b[0m\u001b[38;2;248;248;242;48;2;39;40;34m \u001b[0m\u001b[48;2;39;40;34m                                           \u001b[0m\n",
       "\u001b[38;2;174;129;255;48;2;39;40;34m0\u001b[0m\u001b[38;2;248;248;242;48;2;39;40;34mxbf5f1d9606f594797fd068de0ad5b7714c693fece9182ed6e94211bcb486c500\u001b[0m\u001b[38;2;248;248;242;48;2;39;40;34m)\u001b[0m\u001b[38;2;248;248;242;48;2;39;40;34m \u001b[0m\u001b[38;2;248;248;242;48;2;39;40;34m(\u001b[0m\u001b[38;2;174;129;255;48;2;39;40;34m51\u001b[0m\u001b[38;2;248;248;242;48;2;39;40;34m \u001b[0m\u001b[38;2;174;129;255;48;2;39;40;34m0\u001b[0m\u001b[38;2;248;248;242;48;2;39;40;34mx00cafef00d\u001b[0m\u001b[38;2;248;248;242;48;2;39;40;34m \u001b[0m\u001b[38;2;174;129;255;48;2;39;40;34m200\u001b[0m\u001b[38;2;248;248;242;48;2;39;40;34m)\u001b[0m\u001b[38;2;248;248;242;48;2;39;40;34m)\u001b[0m\u001b[48;2;39;40;34m                         \u001b[0m\n"
      ]
     },
     "metadata": {},
     "output_type": "display_data"
    },
    {
     "data": {
      "text/html": [
       "<pre style=\"white-space:pre;overflow-x:auto;line-height:normal;font-family:Menlo,'DejaVu Sans Mono',consolas,'Courier New',monospace\"><span style=\"color: #f8f8f2; text-decoration-color: #f8f8f2; background-color: #272822\">(</span><span style=\"color: #a6e22e; text-decoration-color: #a6e22e; background-color: #272822\">CREATE_COIN</span><span style=\"color: #f8f8f2; text-decoration-color: #f8f8f2; background-color: #272822\"> </span><span style=\"color: #ae81ff; text-decoration-color: #ae81ff; background-color: #272822\">0</span><span style=\"color: #f8f8f2; text-decoration-color: #f8f8f2; background-color: #272822\">xfb015415f2e6a09c1141f880fc2135beec6adf2a19e4d02a191432846db16559 </span><span style=\"color: #ae81ff; text-decoration-color: #ae81ff; background-color: #272822\">1</span><span style=\"color: #f8f8f2; text-decoration-color: #f8f8f2; background-color: #272822\">)</span><span style=\"background-color: #272822\">                                 </span>\n",
       "</pre>\n"
      ],
      "text/plain": [
       "\u001b[38;2;248;248;242;48;2;39;40;34m(\u001b[0m\u001b[38;2;166;226;46;48;2;39;40;34mCREATE_COIN\u001b[0m\u001b[38;2;248;248;242;48;2;39;40;34m \u001b[0m\u001b[38;2;174;129;255;48;2;39;40;34m0\u001b[0m\u001b[38;2;248;248;242;48;2;39;40;34mxfb015415f2e6a09c1141f880fc2135beec6adf2a19e4d02a191432846db16559\u001b[0m\u001b[38;2;248;248;242;48;2;39;40;34m \u001b[0m\u001b[38;2;174;129;255;48;2;39;40;34m1\u001b[0m\u001b[38;2;248;248;242;48;2;39;40;34m)\u001b[0m\u001b[48;2;39;40;34m                                 \u001b[0m\n"
      ]
     },
     "metadata": {},
     "output_type": "display_data"
    },
    {
     "data": {
      "text/html": [
       "<pre style=\"white-space:pre;overflow-x:auto;line-height:normal;font-family:Menlo,'DejaVu Sans Mono',consolas,'Courier New',monospace\"><span style=\"color: #f8f8f2; text-decoration-color: #f8f8f2; background-color: #272822\">(</span><span style=\"color: #a6e22e; text-decoration-color: #a6e22e; background-color: #272822\">ASSERT_HEIGHT_RELATIVE</span><span style=\"color: #f8f8f2; text-decoration-color: #f8f8f2; background-color: #272822\"> </span><span style=\"color: #ae81ff; text-decoration-color: #ae81ff; background-color: #272822\">5</span><span style=\"color: #f8f8f2; text-decoration-color: #f8f8f2; background-color: #272822\">)</span><span style=\"background-color: #272822\">                                                                                         </span>\n",
       "</pre>\n"
      ],
      "text/plain": [
       "\u001b[38;2;248;248;242;48;2;39;40;34m(\u001b[0m\u001b[38;2;166;226;46;48;2;39;40;34mASSERT_HEIGHT_RELATIVE\u001b[0m\u001b[38;2;248;248;242;48;2;39;40;34m \u001b[0m\u001b[38;2;174;129;255;48;2;39;40;34m5\u001b[0m\u001b[38;2;248;248;242;48;2;39;40;34m)\u001b[0m\u001b[48;2;39;40;34m                                                                                         \u001b[0m\n"
      ]
     },
     "metadata": {},
     "output_type": "display_data"
    },
    {
     "data": {
      "text/html": [
       "<pre style=\"white-space:pre;overflow-x:auto;line-height:normal;font-family:Menlo,'DejaVu Sans Mono',consolas,'Courier New',monospace\"><span style=\"color: #f8f8f2; text-decoration-color: #f8f8f2; background-color: #272822\">(</span><span style=\"color: #a6e22e; text-decoration-color: #a6e22e; background-color: #272822\">ASSERT_PUZZLE_ANNOUNCEMENT</span><span style=\"color: #f8f8f2; text-decoration-color: #f8f8f2; background-color: #272822\"> </span><span style=\"color: #ae81ff; text-decoration-color: #ae81ff; background-color: #272822\">0</span><span style=\"color: #f8f8f2; text-decoration-color: #f8f8f2; background-color: #272822\">x43cdaf328149fa93b68e30303c8cb28c36deb66d367df46ee66cb79d61efa670)</span><span style=\"background-color: #272822\">                    </span>\n",
       "</pre>\n"
      ],
      "text/plain": [
       "\u001b[38;2;248;248;242;48;2;39;40;34m(\u001b[0m\u001b[38;2;166;226;46;48;2;39;40;34mASSERT_PUZZLE_ANNOUNCEMENT\u001b[0m\u001b[38;2;248;248;242;48;2;39;40;34m \u001b[0m\u001b[38;2;174;129;255;48;2;39;40;34m0\u001b[0m\u001b[38;2;248;248;242;48;2;39;40;34mx43cdaf328149fa93b68e30303c8cb28c36deb66d367df46ee66cb79d61efa670\u001b[0m\u001b[38;2;248;248;242;48;2;39;40;34m)\u001b[0m\u001b[48;2;39;40;34m                    \u001b[0m\n"
      ]
     },
     "metadata": {},
     "output_type": "display_data"
    },
    {
     "data": {
      "text/html": [
       "<pre style=\"white-space:pre;overflow-x:auto;line-height:normal;font-family:Menlo,'DejaVu Sans Mono',consolas,'Courier New',monospace\"><span style=\"color: #f8f8f2; text-decoration-color: #f8f8f2; background-color: #272822\">(</span><span style=\"color: #a6e22e; text-decoration-color: #a6e22e; background-color: #272822\">CREATE_PUZZLE_ANNOUNCEMENT</span><span style=\"color: #f8f8f2; text-decoration-color: #f8f8f2; background-color: #272822\"> </span><span style=\"color: #ae81ff; text-decoration-color: #ae81ff; background-color: #272822\">0</span><span style=\"color: #f8f8f2; text-decoration-color: #f8f8f2; background-color: #272822\">xd0f6e85befae86a4ab89374d8146b8b99104d6a19e850f9b976ec04739dff615)</span><span style=\"background-color: #272822\">                    </span>\n",
       "</pre>\n"
      ],
      "text/plain": [
       "\u001b[38;2;248;248;242;48;2;39;40;34m(\u001b[0m\u001b[38;2;166;226;46;48;2;39;40;34mCREATE_PUZZLE_ANNOUNCEMENT\u001b[0m\u001b[38;2;248;248;242;48;2;39;40;34m \u001b[0m\u001b[38;2;174;129;255;48;2;39;40;34m0\u001b[0m\u001b[38;2;248;248;242;48;2;39;40;34mxd0f6e85befae86a4ab89374d8146b8b99104d6a19e850f9b976ec04739dff615\u001b[0m\u001b[38;2;248;248;242;48;2;39;40;34m)\u001b[0m\u001b[48;2;39;40;34m                    \u001b[0m\n"
      ]
     },
     "metadata": {},
     "output_type": "display_data"
    },
    {
     "data": {
      "text/html": [
       "<pre style=\"white-space:pre;overflow-x:auto;line-height:normal;font-family:Menlo,'DejaVu Sans Mono',consolas,'Courier New',monospace\"><span style=\"color: #f8f8f2; text-decoration-color: #f8f8f2; background-color: #272822\">(</span><span style=\"color: #a6e22e; text-decoration-color: #a6e22e; background-color: #272822\">ASSERT_PUZZLE_ANNOUNCEMENT</span><span style=\"color: #f8f8f2; text-decoration-color: #f8f8f2; background-color: #272822\"> </span><span style=\"color: #ae81ff; text-decoration-color: #ae81ff; background-color: #272822\">0</span><span style=\"color: #f8f8f2; text-decoration-color: #f8f8f2; background-color: #272822\">xbf5f1d9606f594797fd068de0ad5b7714c693fece9182ed6e94211bcb486c500)</span><span style=\"background-color: #272822\">                    </span>\n",
       "</pre>\n"
      ],
      "text/plain": [
       "\u001b[38;2;248;248;242;48;2;39;40;34m(\u001b[0m\u001b[38;2;166;226;46;48;2;39;40;34mASSERT_PUZZLE_ANNOUNCEMENT\u001b[0m\u001b[38;2;248;248;242;48;2;39;40;34m \u001b[0m\u001b[38;2;174;129;255;48;2;39;40;34m0\u001b[0m\u001b[38;2;248;248;242;48;2;39;40;34mxbf5f1d9606f594797fd068de0ad5b7714c693fece9182ed6e94211bcb486c500\u001b[0m\u001b[38;2;248;248;242;48;2;39;40;34m)\u001b[0m\u001b[48;2;39;40;34m                    \u001b[0m\n"
      ]
     },
     "metadata": {},
     "output_type": "display_data"
    },
    {
     "data": {
      "text/html": [
       "<pre style=\"white-space:pre;overflow-x:auto;line-height:normal;font-family:Menlo,'DejaVu Sans Mono',consolas,'Courier New',monospace\"><span style=\"color: #f8f8f2; text-decoration-color: #f8f8f2; background-color: #272822\">(</span><span style=\"color: #a6e22e; text-decoration-color: #a6e22e; background-color: #272822\">CREATE_COIN</span><span style=\"color: #f8f8f2; text-decoration-color: #f8f8f2; background-color: #272822\"> </span><span style=\"color: #ae81ff; text-decoration-color: #ae81ff; background-color: #272822\">0</span><span style=\"color: #f8f8f2; text-decoration-color: #f8f8f2; background-color: #272822\">x00cafef00d </span><span style=\"color: #ae81ff; text-decoration-color: #ae81ff; background-color: #272822\">200</span><span style=\"color: #f8f8f2; text-decoration-color: #f8f8f2; background-color: #272822\">)</span><span style=\"background-color: #272822\">                                                                                     </span>\n",
       "</pre>\n"
      ],
      "text/plain": [
       "\u001b[38;2;248;248;242;48;2;39;40;34m(\u001b[0m\u001b[38;2;166;226;46;48;2;39;40;34mCREATE_COIN\u001b[0m\u001b[38;2;248;248;242;48;2;39;40;34m \u001b[0m\u001b[38;2;174;129;255;48;2;39;40;34m0\u001b[0m\u001b[38;2;248;248;242;48;2;39;40;34mx00cafef00d\u001b[0m\u001b[38;2;248;248;242;48;2;39;40;34m \u001b[0m\u001b[38;2;174;129;255;48;2;39;40;34m200\u001b[0m\u001b[38;2;248;248;242;48;2;39;40;34m)\u001b[0m\u001b[48;2;39;40;34m                                                                                     \u001b[0m\n"
      ]
     },
     "metadata": {},
     "output_type": "display_data"
    }
   ],
   "source": [
    "exit_solution = Program.to(\n",
    "        [\n",
    "            [[51, 0xCAFEF00D, 200]], # solution to inner_puz\n",
    "            P2_SINGLETON_MOD.get_tree_hash(), # singleton_mod_hash\n",
    "            current_cat_issuance,\n",
    "            0, # previous votes\n",
    "            LOCKUP_TIME,\n",
    "            1000,\n",
    "            5100,\n",
    "            LOCKUP_TIME,\n",
    "        ]\n",
    "    )\n",
    "conds: Program = full_proposal.run(exit_solution)\n",
    "print_program(conds)\n",
    "print_conditions(\n",
    "    full_proposal,\n",
    "    exit_solution\n",
    ")"
   ]
  },
  {
   "cell_type": "markdown",
   "id": "250cbd3e-22d3-4e87-91f3-d31ef74cbca0",
   "metadata": {},
   "source": [
    "The workflow for DAO primitives seem to be the following:\n",
    "1. Dexie create a DAO wallet (which also creates DAO CAT wallet and mint DAO Cat coins?) with treasury launcher id\n",
    "https://github.com/Chia-Network/chia-blockchain/blob/021baba6c9e81e050742dc17c91b38c36329cea8/chia/wallet/dao_wallet/dao_wallet.py#L1199\n",
    "    - DAO wallet is created\n",
    "        - New DAO (DAO_Info) is created\n",
    "        - DAO CAT coins are minted\n",
    "        - Get DAO CAT tail id\n",
    "        - \n",
    "\n",
    "\n",
    "\n",
    "\n",
    "1. Dexie creates a singleton Treasury Coin\n",
    "\n",
    "https://github.com/Chia-Network/chia-blockchain/blob/3a2849fc59a81da5f6adb76cc85ed2f06cb8940b/chia/wallet/puzzles/dao_treasury.clvm#L4\n",
    "\n",
    "2. Dexie creates a singleton DAO Proposal Coin\n",
    "\n",
    "https://github.com/Chia-Network/chia-blockchain/blob/3a2849fc59a81da5f6adb76cc85ed2f06cb8940b/chia/wallet/puzzles/dao_proposal.clvm#L1\n",
    "\n",
    "\n",
    "### DAO Wallet\n",
    "> This is a wallet in the sense that it conforms to the interface needed by WalletStateManager. It is not a user-facing wallet. A user cannot spend or receive XCH though a wallet of this type. \n",
    "\n",
    "> It is expected that a wallet of type DAOCATWallet will be the user-facing wallet, and use a DAOWallet for state-tracking of the Treasury Singleton and its associated Proposals.\n",
    "\n",
    "\n",
    "\n",
    "4. User creates a DAO CAT wallet with DAO CAT tail"
   ]
  }
 ],
 "metadata": {
  "kernelspec": {
   "display_name": "Python 3 (ipykernel)",
   "language": "python",
   "name": "python3"
  },
  "language_info": {
   "codemirror_mode": {
    "name": "ipython",
    "version": 3
   },
   "file_extension": ".py",
   "mimetype": "text/x-python",
   "name": "python",
   "nbconvert_exporter": "python",
   "pygments_lexer": "ipython3",
   "version": "3.10.9"
  }
 },
 "nbformat": 4,
 "nbformat_minor": 5
}
