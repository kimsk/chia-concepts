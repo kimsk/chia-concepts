{
 "cells": [
  {
   "cell_type": "code",
   "execution_count": 1,
   "id": "3c91f061-95ef-48cc-afc6-130d32f559c5",
   "metadata": {},
   "outputs": [],
   "source": [
    "from chia.wallet.puzzles.cat_loader import CAT_MOD\n",
    "\n",
    "puzzle_path = \"/Users/karlkim/dexie/chia-blockchain/chia/wallet/puzzles\"\n",
    "SINGLETON_MOD: Program = load_hex(f\"{puzzle_path}/singleton_top_layer_v1_1.clvm.hex\")\n",
    "SINGLETON_LAUNCHER: Program = load_hex(f\"{puzzle_path}/singleton_launcher.clvm.hex\")\n",
    "DAO_LOCKUP_MOD: Program = load_hex(f\"{puzzle_path}/dao_lockup.clvm.hex\")\n",
    "DAO_PROPOSAL_TIMER_MOD: Program = load_hex(f\"{puzzle_path}/dao_proposal_timer.clvm.hex\")\n",
    "DAO_PROPOSAL_MOD: Program = load_hex(f\"{puzzle_path}/dao_proposal.clvm.hex\")\n",
    "DAO_TREASURY_MOD: Program = load_hex(f\"{puzzle_path}/dao_treasury.clvm.hex\")\n",
    "P2_SINGLETON_MOD: Program = load_hex(f\"{puzzle_path}/p2_singleton_or_delayed_puzhash.clvm.hex\")\n",
    "DAO_FINISHED_STATE: Program = load_hex(f\"{puzzle_path}/dao_finished_state.clvm.hex\")\n",
    "DAO_RESALE_PREVENTION: Program = load_hex(f\"{puzzle_path}/dao_resale_prevention_layer.clvm.hex\")\n",
    "DAO_CAT_TAIL: Program = load_hex(f\"{puzzle_path}/genesis_by_coin_id_or_proposal.clvm.hex\")\n",
    "DAO_SPEND_PROPOSAL: Program = load_hex(f\"{puzzle_path}/dao_spend_proposal.clvm.hex\")"
   ]
  },
  {
   "cell_type": "code",
   "execution_count": 2,
   "id": "354d06f8-060e-46a1-87ef-ab41b2a5ab2f",
   "metadata": {},
   "outputs": [],
   "source": [
    "current_cat_issuance: uint64 = uint64(1000)\n",
    "attendance_percentage: uint64 = uint64(15)\n",
    "CAT_TAIL: Program = Program.to(\"tail\").get_tree_hash()\n",
    "LOCKUP_TIME: uint64 = uint64(200)\n",
    "singleton_id: Program = Program.to(\"singleton_id\").get_tree_hash()\n",
    "singleton_struct: Program = Program.to(\n",
    "    (SINGLETON_MOD.get_tree_hash(), (singleton_id, SINGLETON_LAUNCHER.get_tree_hash()))\n",
    ")"
   ]
  },
  {
   "cell_type": "code",
   "execution_count": 3,
   "id": "1d330268-0ddb-45da-b823-a2416249cafc",
   "metadata": {},
   "outputs": [],
   "source": [
    "full_treasury_puz: Program = DAO_TREASURY_MOD.curry(\n",
    "    [\n",
    "        singleton_struct,\n",
    "        DAO_TREASURY_MOD.get_tree_hash(),\n",
    "        DAO_PROPOSAL_MOD.get_tree_hash(),\n",
    "        DAO_PROPOSAL_TIMER_MOD.get_tree_hash(),\n",
    "        DAO_LOCKUP_MOD.get_tree_hash(),\n",
    "        CAT_MOD.get_tree_hash(),\n",
    "        CAT_TAIL,\n",
    "        current_cat_issuance,\n",
    "        attendance_percentage,\n",
    "        5100,  # pass margin\n",
    "        LOCKUP_TIME,\n",
    "    ]\n",
    ")"
   ]
  },
  {
   "cell_type": "code",
   "execution_count": 4,
   "id": "87cb595f-84e4-4fd0-8688-bf6cb0d89135",
   "metadata": {},
   "outputs": [
    {
     "data": {
      "text/html": [
       "<pre style=\"white-space:pre;overflow-x:auto;line-height:normal;font-family:Menlo,'DejaVu Sans Mono',consolas,'Courier New',monospace\"><span style=\"color: #f8f8f2; text-decoration-color: #f8f8f2; background-color: #272822\">((</span><span style=\"color: #ae81ff; text-decoration-color: #ae81ff; background-color: #272822\">73</span><span style=\"color: #f8f8f2; text-decoration-color: #f8f8f2; background-color: #272822\"> </span><span style=\"color: #ae81ff; text-decoration-color: #ae81ff; background-color: #272822\">200</span><span style=\"color: #f8f8f2; text-decoration-color: #f8f8f2; background-color: #272822\">) (</span><span style=\"color: #ae81ff; text-decoration-color: #ae81ff; background-color: #272822\">51</span><span style=\"color: #f8f8f2; text-decoration-color: #f8f8f2; background-color: #272822\"> </span><span style=\"color: #ae81ff; text-decoration-color: #ae81ff; background-color: #272822\">0</span><span style=\"color: #f8f8f2; text-decoration-color: #f8f8f2; background-color: #272822\">x872963f910d1d0231801015c0fcec06fbeae4675e436ff68eabf990670adf74f </span><span style=\"color: #ae81ff; text-decoration-color: #ae81ff; background-color: #272822\">300</span><span style=\"color: #f8f8f2; text-decoration-color: #f8f8f2; background-color: #272822\"> </span><span style=\"background-color: #272822\">                              </span>\n",
       "<span style=\"color: #f8f8f2; text-decoration-color: #f8f8f2; background-color: #272822\">(</span><span style=\"color: #ae81ff; text-decoration-color: #ae81ff; background-color: #272822\">0</span><span style=\"color: #f8f8f2; text-decoration-color: #f8f8f2; background-color: #272822\">x6b29426cb02c933c5e17dc88ec9ec26edb87c70a73e75f7336d46c0ecd1729ed)) (</span><span style=\"color: #ae81ff; text-decoration-color: #ae81ff; background-color: #272822\">72</span><span style=\"color: #f8f8f2; text-decoration-color: #f8f8f2; background-color: #272822\"> </span><span style=\"background-color: #272822\">                                         </span>\n",
       "<span style=\"color: #ae81ff; text-decoration-color: #ae81ff; background-color: #272822\">0</span><span style=\"color: #f8f8f2; text-decoration-color: #f8f8f2; background-color: #272822\">xd2432694c64fa2dbfffaffd9e75917a69c756ed2a06fa9203c13f3dfcb12f3e2) (</span><span style=\"color: #ae81ff; text-decoration-color: #ae81ff; background-color: #272822\">62</span><span style=\"color: #f8f8f2; text-decoration-color: #f8f8f2; background-color: #272822\"> </span><span style=\"background-color: #272822\">                                           </span>\n",
       "<span style=\"color: #ae81ff; text-decoration-color: #ae81ff; background-color: #272822\">0</span><span style=\"color: #f8f8f2; text-decoration-color: #f8f8f2; background-color: #272822\">x812fe246f3f19cab5b20ba71b66c4a7db5a7a83647576958d212e103d3f32cd0))</span><span style=\"background-color: #272822\">                                               </span>\n",
       "</pre>\n"
      ],
      "text/plain": [
       "\u001b[38;2;248;248;242;48;2;39;40;34m(\u001b[0m\u001b[38;2;248;248;242;48;2;39;40;34m(\u001b[0m\u001b[38;2;174;129;255;48;2;39;40;34m73\u001b[0m\u001b[38;2;248;248;242;48;2;39;40;34m \u001b[0m\u001b[38;2;174;129;255;48;2;39;40;34m200\u001b[0m\u001b[38;2;248;248;242;48;2;39;40;34m)\u001b[0m\u001b[38;2;248;248;242;48;2;39;40;34m \u001b[0m\u001b[38;2;248;248;242;48;2;39;40;34m(\u001b[0m\u001b[38;2;174;129;255;48;2;39;40;34m51\u001b[0m\u001b[38;2;248;248;242;48;2;39;40;34m \u001b[0m\u001b[38;2;174;129;255;48;2;39;40;34m0\u001b[0m\u001b[38;2;248;248;242;48;2;39;40;34mx872963f910d1d0231801015c0fcec06fbeae4675e436ff68eabf990670adf74f\u001b[0m\u001b[38;2;248;248;242;48;2;39;40;34m \u001b[0m\u001b[38;2;174;129;255;48;2;39;40;34m300\u001b[0m\u001b[38;2;248;248;242;48;2;39;40;34m \u001b[0m\u001b[48;2;39;40;34m                              \u001b[0m\n",
       "\u001b[38;2;248;248;242;48;2;39;40;34m(\u001b[0m\u001b[38;2;174;129;255;48;2;39;40;34m0\u001b[0m\u001b[38;2;248;248;242;48;2;39;40;34mx6b29426cb02c933c5e17dc88ec9ec26edb87c70a73e75f7336d46c0ecd1729ed\u001b[0m\u001b[38;2;248;248;242;48;2;39;40;34m)\u001b[0m\u001b[38;2;248;248;242;48;2;39;40;34m)\u001b[0m\u001b[38;2;248;248;242;48;2;39;40;34m \u001b[0m\u001b[38;2;248;248;242;48;2;39;40;34m(\u001b[0m\u001b[38;2;174;129;255;48;2;39;40;34m72\u001b[0m\u001b[38;2;248;248;242;48;2;39;40;34m \u001b[0m\u001b[48;2;39;40;34m                                         \u001b[0m\n",
       "\u001b[38;2;174;129;255;48;2;39;40;34m0\u001b[0m\u001b[38;2;248;248;242;48;2;39;40;34mxd2432694c64fa2dbfffaffd9e75917a69c756ed2a06fa9203c13f3dfcb12f3e2\u001b[0m\u001b[38;2;248;248;242;48;2;39;40;34m)\u001b[0m\u001b[38;2;248;248;242;48;2;39;40;34m \u001b[0m\u001b[38;2;248;248;242;48;2;39;40;34m(\u001b[0m\u001b[38;2;174;129;255;48;2;39;40;34m62\u001b[0m\u001b[38;2;248;248;242;48;2;39;40;34m \u001b[0m\u001b[48;2;39;40;34m                                           \u001b[0m\n",
       "\u001b[38;2;174;129;255;48;2;39;40;34m0\u001b[0m\u001b[38;2;248;248;242;48;2;39;40;34mx812fe246f3f19cab5b20ba71b66c4a7db5a7a83647576958d212e103d3f32cd0\u001b[0m\u001b[38;2;248;248;242;48;2;39;40;34m)\u001b[0m\u001b[38;2;248;248;242;48;2;39;40;34m)\u001b[0m\u001b[48;2;39;40;34m                                               \u001b[0m\n"
      ]
     },
     "metadata": {},
     "output_type": "display_data"
    },
    {
     "data": {
      "text/html": [
       "<pre style=\"white-space:pre;overflow-x:auto;line-height:normal;font-family:Menlo,'DejaVu Sans Mono',consolas,'Courier New',monospace\"><span style=\"color: #f8f8f2; text-decoration-color: #f8f8f2; background-color: #272822\">(</span><span style=\"color: #a6e22e; text-decoration-color: #a6e22e; background-color: #272822\">ASSERT_MY_AMOUNT</span><span style=\"color: #f8f8f2; text-decoration-color: #f8f8f2; background-color: #272822\"> </span><span style=\"color: #ae81ff; text-decoration-color: #ae81ff; background-color: #272822\">200</span><span style=\"color: #f8f8f2; text-decoration-color: #f8f8f2; background-color: #272822\">)</span><span style=\"background-color: #272822\">                                                                                             </span>\n",
       "</pre>\n"
      ],
      "text/plain": [
       "\u001b[38;2;248;248;242;48;2;39;40;34m(\u001b[0m\u001b[38;2;166;226;46;48;2;39;40;34mASSERT_MY_AMOUNT\u001b[0m\u001b[38;2;248;248;242;48;2;39;40;34m \u001b[0m\u001b[38;2;174;129;255;48;2;39;40;34m200\u001b[0m\u001b[38;2;248;248;242;48;2;39;40;34m)\u001b[0m\u001b[48;2;39;40;34m                                                                                             \u001b[0m\n"
      ]
     },
     "metadata": {},
     "output_type": "display_data"
    },
    {
     "data": {
      "text/html": [
       "<pre style=\"white-space:pre;overflow-x:auto;line-height:normal;font-family:Menlo,'DejaVu Sans Mono',consolas,'Courier New',monospace\"><span style=\"color: #f8f8f2; text-decoration-color: #f8f8f2; background-color: #272822\">(</span><span style=\"color: #a6e22e; text-decoration-color: #a6e22e; background-color: #272822\">CREATE_COIN</span><span style=\"color: #f8f8f2; text-decoration-color: #f8f8f2; background-color: #272822\"> </span><span style=\"color: #ae81ff; text-decoration-color: #ae81ff; background-color: #272822\">0</span><span style=\"color: #f8f8f2; text-decoration-color: #f8f8f2; background-color: #272822\">x872963f910d1d0231801015c0fcec06fbeae4675e436ff68eabf990670adf74f </span><span style=\"color: #ae81ff; text-decoration-color: #ae81ff; background-color: #272822\">300</span><span style=\"color: #f8f8f2; text-decoration-color: #f8f8f2; background-color: #272822\">)</span><span style=\"background-color: #272822\">                               </span>\n",
       "</pre>\n"
      ],
      "text/plain": [
       "\u001b[38;2;248;248;242;48;2;39;40;34m(\u001b[0m\u001b[38;2;166;226;46;48;2;39;40;34mCREATE_COIN\u001b[0m\u001b[38;2;248;248;242;48;2;39;40;34m \u001b[0m\u001b[38;2;174;129;255;48;2;39;40;34m0\u001b[0m\u001b[38;2;248;248;242;48;2;39;40;34mx872963f910d1d0231801015c0fcec06fbeae4675e436ff68eabf990670adf74f\u001b[0m\u001b[38;2;248;248;242;48;2;39;40;34m \u001b[0m\u001b[38;2;174;129;255;48;2;39;40;34m300\u001b[0m\u001b[38;2;248;248;242;48;2;39;40;34m)\u001b[0m\u001b[48;2;39;40;34m                               \u001b[0m\n"
      ]
     },
     "metadata": {},
     "output_type": "display_data"
    },
    {
     "data": {
      "text/html": [
       "<pre style=\"white-space:pre;overflow-x:auto;line-height:normal;font-family:Menlo,'DejaVu Sans Mono',consolas,'Courier New',monospace\"><span style=\"color: #f8f8f2; text-decoration-color: #f8f8f2; background-color: #272822\">(</span><span style=\"color: #a6e22e; text-decoration-color: #a6e22e; background-color: #272822\">ASSERT_MY_PUZZLEHASH</span><span style=\"color: #f8f8f2; text-decoration-color: #f8f8f2; background-color: #272822\"> </span><span style=\"color: #ae81ff; text-decoration-color: #ae81ff; background-color: #272822\">0</span><span style=\"color: #f8f8f2; text-decoration-color: #f8f8f2; background-color: #272822\">xd2432694c64fa2dbfffaffd9e75917a69c756ed2a06fa9203c13f3dfcb12f3e2)</span><span style=\"background-color: #272822\">                          </span>\n",
       "</pre>\n"
      ],
      "text/plain": [
       "\u001b[38;2;248;248;242;48;2;39;40;34m(\u001b[0m\u001b[38;2;166;226;46;48;2;39;40;34mASSERT_MY_PUZZLEHASH\u001b[0m\u001b[38;2;248;248;242;48;2;39;40;34m \u001b[0m\u001b[38;2;174;129;255;48;2;39;40;34m0\u001b[0m\u001b[38;2;248;248;242;48;2;39;40;34mxd2432694c64fa2dbfffaffd9e75917a69c756ed2a06fa9203c13f3dfcb12f3e2\u001b[0m\u001b[38;2;248;248;242;48;2;39;40;34m)\u001b[0m\u001b[48;2;39;40;34m                          \u001b[0m\n"
      ]
     },
     "metadata": {},
     "output_type": "display_data"
    },
    {
     "data": {
      "text/html": [
       "<pre style=\"white-space:pre;overflow-x:auto;line-height:normal;font-family:Menlo,'DejaVu Sans Mono',consolas,'Courier New',monospace\"><span style=\"color: #f8f8f2; text-decoration-color: #f8f8f2; background-color: #272822\">(</span><span style=\"color: #a6e22e; text-decoration-color: #a6e22e; background-color: #272822\">CREATE_PUZZLE_ANNOUNCEMENT</span><span style=\"color: #f8f8f2; text-decoration-color: #f8f8f2; background-color: #272822\"> </span><span style=\"color: #ae81ff; text-decoration-color: #ae81ff; background-color: #272822\">0</span><span style=\"color: #f8f8f2; text-decoration-color: #f8f8f2; background-color: #272822\">x812fe246f3f19cab5b20ba71b66c4a7db5a7a83647576958d212e103d3f32cd0)</span><span style=\"background-color: #272822\">                    </span>\n",
       "</pre>\n"
      ],
      "text/plain": [
       "\u001b[38;2;248;248;242;48;2;39;40;34m(\u001b[0m\u001b[38;2;166;226;46;48;2;39;40;34mCREATE_PUZZLE_ANNOUNCEMENT\u001b[0m\u001b[38;2;248;248;242;48;2;39;40;34m \u001b[0m\u001b[38;2;174;129;255;48;2;39;40;34m0\u001b[0m\u001b[38;2;248;248;242;48;2;39;40;34mx812fe246f3f19cab5b20ba71b66c4a7db5a7a83647576958d212e103d3f32cd0\u001b[0m\u001b[38;2;248;248;242;48;2;39;40;34m)\u001b[0m\u001b[48;2;39;40;34m                    \u001b[0m\n"
      ]
     },
     "metadata": {},
     "output_type": "display_data"
    }
   ],
   "source": [
    "# Add money solution\n",
    "solution: Program = Program.to(\n",
    "    [\n",
    "        200,\n",
    "        100, # add 100\n",
    "        full_treasury_puz.get_tree_hash(),\n",
    "        Program.to(\"payment_nonce\").get_tree_hash(),\n",
    "        0,\n",
    "    ]\n",
    ")\n",
    "conds: Program = full_treasury_puz.run(solution)\n",
    "print_program(conds)\n",
    "print_conditions(\n",
    "    full_treasury_puz,\n",
    "    solution\n",
    ")"
   ]
  },
  {
   "cell_type": "code",
   "execution_count": null,
   "id": "27b20eea-c641-4602-9dea-98198219a54e",
   "metadata": {},
   "outputs": [],
   "source": []
  }
 ],
 "metadata": {
  "kernelspec": {
   "display_name": "Python 3 (ipykernel)",
   "language": "python",
   "name": "python3"
  },
  "language_info": {
   "codemirror_mode": {
    "name": "ipython",
    "version": 3
   },
   "file_extension": ".py",
   "mimetype": "text/x-python",
   "name": "python",
   "nbconvert_exporter": "python",
   "pygments_lexer": "ipython3",
   "version": "3.10.9"
  }
 },
 "nbformat": 4,
 "nbformat_minor": 5
}
