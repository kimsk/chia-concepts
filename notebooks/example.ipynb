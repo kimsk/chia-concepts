{
 "cells": [
  {
   "cell_type": "markdown",
   "id": "4d0db768-6c99-43d5-ac9b-d9c5a56aa8b9",
   "metadata": {},
   "source": [
    "## Markdown\n",
    "1. `one_line`\n",
    "2. **multi-lines**\n",
    "``` python\n",
    "def test():\n",
    "    print(\"test\")\n",
    "```\n",
    "3. [Markdown Cheatsheet](https://github.com/adam-p/markdown-here/wiki/Markdown-Cheatsheet)"
   ]
  },
  {
   "cell_type": "code",
   "execution_count": 2,
   "id": "154ca123-da42-4273-b64f-02c65b1c615a",
   "metadata": {},
   "outputs": [
    {
     "name": "stdout",
     "output_type": "stream",
     "text": [
      "[5, 4, 3, 2, 1]\n"
     ]
    }
   ],
   "source": [
    "# Python\n",
    "list = [1, 2, 3, 4, 5]\n",
    "reversed = []\n",
    "for item in list:\n",
    "    reversed.insert(0, item)\n",
    "\n",
    "print(reversed)"
   ]
  },
  {
   "cell_type": "code",
   "execution_count": 3,
   "id": "ac11fc2a-f8f9-4da2-90ef-b5b6c37df53c",
   "metadata": {},
   "outputs": [
    {
     "name": "stdout",
     "output_type": "stream",
     "text": [
      "1.3.6.dev654\n"
     ]
    }
   ],
   "source": [
    "%%bash\n",
    "chia version"
   ]
  },
  {
   "cell_type": "code",
   "execution_count": 2,
   "id": "e0dfa19c-e506-4233-97c4-549b5af776a5",
   "metadata": {},
   "outputs": [
    {
     "name": "stdout",
     "output_type": "stream",
     "text": [
      "\n",
      "\u001b[32;1mName                           Value\u001b[0m\n",
      "\u001b[32;1m----                           -----\u001b[0m\n",
      "PSVersion                      7.2.4\n",
      "PSEdition                      Core\n",
      "GitCommitId                    7.2.4\n",
      "OS                             Linux 5.10.102.1-microsoft-standard-WSL2 #1 SMP Wed Mar 2 00:30:59 …\n",
      "Platform                       Unix\n",
      "PSCompatibleVersions           {1.0, 2.0, 3.0, 4.0…}\n",
      "PSRemotingProtocolVersion      2.3\n",
      "SerializationVersion           1.1.0.1\n",
      "WSManStackVersion              3.0\n",
      "\n"
     ]
    }
   ],
   "source": [
    "$PSVersionTable"
   ]
  },
  {
   "cell_type": "code",
   "execution_count": 2,
   "id": "8de00240-0b89-4b4b-aa0d-77511d925012",
   "metadata": {},
   "outputs": [
    {
     "name": "stdout",
     "output_type": "stream",
     "text": [
      "\u001b[1;39m{\n",
      "  \u001b[0m\u001b[34;1m\"network_name\"\u001b[0m\u001b[1;39m: \u001b[0m\u001b[0;32m\"testnet10\"\u001b[0m\u001b[1;39m,\n",
      "  \u001b[0m\u001b[34;1m\"network_prefix\"\u001b[0m\u001b[1;39m: \u001b[0m\u001b[0;32m\"txch\"\u001b[0m\u001b[1;39m,\n",
      "  \u001b[0m\u001b[34;1m\"success\"\u001b[0m\u001b[1;39m: \u001b[0m\u001b[0;39mtrue\u001b[0m\u001b[1;39m\n",
      "\u001b[1;39m}\u001b[0m\n"
     ]
    }
   ],
   "source": [
    "%%bash\n",
    "chia rpc full_node get_network_info | jq --color-output"
   ]
  },
  {
   "cell_type": "code",
   "execution_count": 1,
   "id": "28bf14cb-c4d3-4c39-946b-037cbbba4263",
   "metadata": {},
   "outputs": [
    {
     "data": {
      "text/html": [
       "\r\n",
       "<div>\r\n",
       "    <div id='dotnet-interactive-this-cell-6152.Microsoft.DotNet.Interactive.Http.HttpPort' style='display: none'>\r\n",
       "        The below script needs to be able to find the current output cell; this is an easy method to get it.\r\n",
       "    </div>\r\n",
       "    <script type='text/javascript'>\r\n",
       "async function probeAddresses(probingAddresses) {\r\n",
       "    function timeout(ms, promise) {\r\n",
       "        return new Promise(function (resolve, reject) {\r\n",
       "            setTimeout(function () {\r\n",
       "                reject(new Error('timeout'))\r\n",
       "            }, ms)\r\n",
       "            promise.then(resolve, reject)\r\n",
       "        })\r\n",
       "    }\r\n",
       "\r\n",
       "    if (Array.isArray(probingAddresses)) {\r\n",
       "        for (let i = 0; i < probingAddresses.length; i++) {\r\n",
       "\r\n",
       "            let rootUrl = probingAddresses[i];\r\n",
       "\r\n",
       "            if (!rootUrl.endsWith('/')) {\r\n",
       "                rootUrl = `${rootUrl}/`;\r\n",
       "            }\r\n",
       "\r\n",
       "            try {\r\n",
       "                let response = await timeout(1000, fetch(`${rootUrl}discovery`, {\r\n",
       "                    method: 'POST',\r\n",
       "                    cache: 'no-cache',\r\n",
       "                    mode: 'cors',\r\n",
       "                    timeout: 1000,\r\n",
       "                    headers: {\r\n",
       "                        'Content-Type': 'text/plain'\r\n",
       "                    },\r\n",
       "                    body: probingAddresses[i]\r\n",
       "                }));\r\n",
       "\r\n",
       "                if (response.status == 200) {\r\n",
       "                    return rootUrl;\r\n",
       "                }\r\n",
       "            }\r\n",
       "            catch (e) { }\r\n",
       "        }\r\n",
       "    }\r\n",
       "}\r\n",
       "\r\n",
       "function loadDotnetInteractiveApi() {\r\n",
       "    probeAddresses([\"http://172.24.175.53:1024/\", \"http://127.0.0.1:1024/\"])\r\n",
       "        .then((root) => {\r\n",
       "        // use probing to find host url and api resources\r\n",
       "        // load interactive helpers and language services\r\n",
       "        let dotnetInteractiveRequire = require.config({\r\n",
       "        context: '6152.Microsoft.DotNet.Interactive.Http.HttpPort',\r\n",
       "                paths:\r\n",
       "            {\r\n",
       "                'dotnet-interactive': `${root}resources`\r\n",
       "                }\r\n",
       "        }) || require;\r\n",
       "\r\n",
       "            window.dotnetInteractiveRequire = dotnetInteractiveRequire;\r\n",
       "\r\n",
       "            window.configureRequireFromExtension = function(extensionName, extensionCacheBuster) {\r\n",
       "                let paths = {};\r\n",
       "                paths[extensionName] = `${root}extensions/${extensionName}/resources/`;\r\n",
       "                \r\n",
       "                let internalRequire = require.config({\r\n",
       "                    context: extensionCacheBuster,\r\n",
       "                    paths: paths,\r\n",
       "                    urlArgs: `cacheBuster=${extensionCacheBuster}`\r\n",
       "                    }) || require;\r\n",
       "\r\n",
       "                return internalRequire\r\n",
       "            };\r\n",
       "        \r\n",
       "            dotnetInteractiveRequire([\r\n",
       "                    'dotnet-interactive/dotnet-interactive'\r\n",
       "                ],\r\n",
       "                function (dotnet) {\r\n",
       "                    dotnet.init(window);\r\n",
       "                },\r\n",
       "                function (error) {\r\n",
       "                    console.log(error);\r\n",
       "                }\r\n",
       "            );\r\n",
       "        })\r\n",
       "        .catch(error => {console.log(error);});\r\n",
       "    }\r\n",
       "\r\n",
       "// ensure `require` is available globally\r\n",
       "if ((typeof(require) !==  typeof(Function)) || (typeof(require.config) !== typeof(Function))) {\r\n",
       "    let require_script = document.createElement('script');\r\n",
       "    require_script.setAttribute('src', 'https://cdnjs.cloudflare.com/ajax/libs/require.js/2.3.6/require.min.js');\r\n",
       "    require_script.setAttribute('type', 'text/javascript');\r\n",
       "    \r\n",
       "    \r\n",
       "    require_script.onload = function() {\r\n",
       "        loadDotnetInteractiveApi();\r\n",
       "    };\r\n",
       "\r\n",
       "    document.getElementsByTagName('head')[0].appendChild(require_script);\r\n",
       "}\r\n",
       "else {\r\n",
       "    loadDotnetInteractiveApi();\r\n",
       "}\r\n",
       "\r\n",
       "    </script>\r\n",
       "</div>"
      ]
     },
     "metadata": {},
     "output_type": "display_data"
    },
    {
     "name": "stdout",
     "output_type": "stream",
     "text": [
      "C6D34DA0B701BE0E6A599CEAFD61305C8DF47570DB58FB4E8B94527DBCDC9FAF\n"
     ]
    }
   ],
   "source": [
    "using System.Security.Cryptography;\n",
    "\n",
    "var parent_id = \"f85122d56db3f043af4ac7882411f7fcedf6177b1a8b9781be5f56a8668fdef1\";\n",
    "var puzzle_hash = \"07788e204c22a929b4e28c168a7517e0d7a2c9e0bdae911fb1ca778c3968609e\";\n",
    "var amount = 42_000_000_000; // in mojos\n",
    "\n",
    "// convert values to bytes\n",
    "byte[] parent_id_bytes = Convert.FromHexString(parent_id);\n",
    "byte[] puzzle_hash_bytes = Convert.FromHexString(puzzle_hash);\n",
    "var amount_hex_string = amount.ToString(\"X\");\n",
    "// add leading zero if needed\n",
    "amount_hex_string = (amount_hex_string.Length % 2 == 0 ? \"\" : \"0\") + amount_hex_string;\n",
    "byte[] amount_bytes = Convert.FromHexString(amount_hex_string);\n",
    "\n",
    "// concat all to one bytes array\n",
    "byte[] bytes = parent_id_bytes.Concat(puzzle_hash_bytes).Concat(amount_bytes).ToArray();\n",
    "\n",
    "var hash = SHA256.Create();\n",
    "byte[] coin_id_bytes = hash.ComputeHash(bytes);\n",
    "string coin_id = Convert.ToHexString(coin_id_bytes);\n",
    "\n",
    "Console.WriteLine(coin_id);"
   ]
  },
  {
   "cell_type": "code",
   "execution_count": 2,
   "id": "28f2785a-8bd7-41cd-a063-fb41a482941e",
   "metadata": {},
   "outputs": [
    {
     "data": {
      "text/html": [
       "<div><div></div><div></div><div><strong>Installed Packages</strong><ul><li><span>chia-dotnet, 1.2.0</span></li></ul></div></div>"
      ]
     },
     "metadata": {},
     "output_type": "display_data"
    },
    {
     "name": "stdout",
     "output_type": "stream",
     "text": [
      "https://localhost:8555/\n",
      "BlockchainState { Difficulty = 50176, GenesisChallengeInitiated = False, MempoolSize = 1, Peak = BlockRecord { ChallengeBlockInfoHash = 0xcf67118429eee069d41e6d4b8c3e468d06236b8386ab1676c342142aabc7a0cd, ChallengeVdfOutput = ClassgroupElement { Data = 0x00007cd277833d9d8517cc0cda4060f6c923e1b51eb17cb67d370be6b3c16c50ee48061c47b66c09100af0d766183d4bc66e9143821ba096a356a4fa9e333bbde539452c1b397b6b00b63c4e5e8438c8dea16398407db42e5c01ad501d326da5c7450100 }, Deficit = 6, FarmerPuzzleHash = 0xae5286dc6640f2ed06676e5045f8ba4d1377efee983d00399a0477454178af80, Fees = , FinishedChallengeSlotHashes = , FinishedInfusedChallengeSlotHashes = , FinishedRewardSlotHashes = , HeaderHash = 0x63c621a3e978964788059002232b1a4cd3485e9493b2094968d5f36696b0de86, Height = 1127790, InfusedChallengeVdfOutput = ClassgroupElement { Data = 0x020082dce562b2e1b3fcbf9abad021f07dcb2736992837131aed58daa85d734d3c8844569a64d8c0875234dcf7ca39c278f569cbb6180a66e3e000145033a585000025c187ad336d8fef2d844c6c1ed62e0b3e875e5615c7542b6ad6cb48a24f81000100 }, Overflow = False, PoolPuzzleHash = 0x3140ca9a6599285688263f44d443381bee53322bb7ae89230a48ae1c93391e06, PrevHash = 0x796cd300315b57823736ae4f2ca1cdc0ba5b4eb3468bfcf7e1782507deb64f40, PrevTransactionBlockHash = , PrevTransactionBlockHeight = 1127788, RequiredIters = 1000609, RewardClaimsIncorporated = , RewardInfusionNewChallenge = 0x61796456b1b839ee1ebdb481a73f16140d41025cf59c01ba891b2a5b15258d85, SignagePointIndex = 15, SubEpochSummaryIncluded = , SubSlotIters = 70778880, Timestamp = , TotalIters = 2594580399265, Weight = 95147739188, DateTimestamp = , IsTransactionBlock = False }, Space = 88270206292212, SubSlotIters = 70778880, Sync = SyncState { SyncMode = False, SyncProgressHeight = 0, SyncTipHeight = 0, Synced = True, SyncProgressPercent = 0 } }\n",
      "\n",
      "{\"ChallengeBlockInfoHash\":\"0xcf67118429eee069d41e6d4b8c3e468d06236b8386ab1676c342142aabc7a0cd\",\"ChallengeVdfOutput\":{\"Data\":\"0x00007cd277833d9d8517cc0cda4060f6c923e1b51eb17cb67d370be6b3c16c50ee48061c47b66c09100af0d766183d4bc66e9143821ba096a356a4fa9e333bbde539452c1b397b6b00b63c4e5e8438c8dea16398407db42e5c01ad501d326da5c7450100\"},\"Deficit\":6,\"FarmerPuzzleHash\":\"0xae5286dc6640f2ed06676e5045f8ba4d1377efee983d00399a0477454178af80\",\"Fees\":null,\"FinishedChallengeSlotHashes\":null,\"FinishedInfusedChallengeSlotHashes\":null,\"FinishedRewardSlotHashes\":null,\"HeaderHash\":\"0x63c621a3e978964788059002232b1a4cd3485e9493b2094968d5f36696b0de86\",\"Height\":1127790,\"InfusedChallengeVdfOutput\":{\"Data\":\"0x020082dce562b2e1b3fcbf9abad021f07dcb2736992837131aed58daa85d734d3c8844569a64d8c0875234dcf7ca39c278f569cbb6180a66e3e000145033a585000025c187ad336d8fef2d844c6c1ed62e0b3e875e5615c7542b6ad6cb48a24f81000100\"},\"Overflow\":false,\"PoolPuzzleHash\":\"0x3140ca9a6599285688263f44d443381bee53322bb7ae89230a48ae1c93391e06\",\"PrevHash\":\"0x796cd300315b57823736ae4f2ca1cdc0ba5b4eb3468bfcf7e1782507deb64f40\",\"PrevTransactionBlockHash\":null,\"PrevTransactionBlockHeight\":1127788,\"RequiredIters\":1000609,\"RewardClaimsIncorporated\":null,\"RewardInfusionNewChallenge\":\"0x61796456b1b839ee1ebdb481a73f16140d41025cf59c01ba891b2a5b15258d85\",\"SignagePointIndex\":15,\"SubEpochSummaryIncluded\":null,\"SubSlotIters\":70778880,\"Timestamp\":null,\"TotalIters\":2594580399265,\"Weight\":95147739188}\n"
     ]
    }
   ],
   "source": [
    "#r \"nuget:chia-dotnet\"\n",
    "\n",
    "open chia.dotnet\n",
    "\n",
    "\n",
    "let endpoint = Config.Open().GetEndpoint(\"full_node\")\n",
    "printfn \"%s\" endpoint.Uri.AbsoluteUri\n",
    "let rpcClient = new HttpRpcClient(endpoint)\n",
    "\n",
    "let fullNode = new FullNodeProxy(rpcClient, \"unit_tests\")\n",
    "let state = fullNode.GetBlockchainState() |> Async.AwaitTask |> Async.RunSynchronously\n",
    "let mempoolSize = state.MempoolSize\n",
    "printfn \"%A\\n\" state \n",
    "let json = Newtonsoft.Json.JsonConvert.SerializeObject(state.Peak)\n",
    "printfn \"%s\" json"
   ]
  },
  {
   "cell_type": "code",
   "execution_count": null,
   "id": "840e1bec-978b-49ff-a4ef-10f1b2eb44d5",
   "metadata": {},
   "outputs": [],
   "source": []
  }
 ],
 "metadata": {
  "kernelspec": {
   "display_name": ".NET (F#)",
   "language": "F#",
   "name": ".net-fsharp"
  },
  "language_info": {
   "file_extension": ".fs",
   "mimetype": "text/x-fsharp",
   "name": "F#",
   "pygments_lexer": "fsharp",
   "version": "6.0"
  }
 },
 "nbformat": 4,
 "nbformat_minor": 5
}
