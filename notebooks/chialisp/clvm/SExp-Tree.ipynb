{
 "cells": [
  {
   "cell_type": "markdown",
   "id": "b68654aa-9d0f-46a5-afbe-2d3bdbadc9ff",
   "metadata": {},
   "source": [
    "## [CLVM values](https://chialisp.com/docs/clvm/basics#clvm-values)\n",
    "\n",
    "CLVM is built out of `cons boxes` and `atoms`. These are referred to as **CLVM Objects**. A `cons box` is a pair of **CLVM Objects**. The items in a `cons box` can either be an `atom` or another `cons box`.\n",
    "\n",
    "### [Atoms](https://chialisp.com/docs/clvm/basics#atoms)\n",
    "An atom is a string of bytes.\n",
    "\n",
    "### [Cons Boxes](https://chialisp.com/docs/clvm/basics#cons-boxes)\n",
    "Cons boxes are represented as a parentheses with two elements separated by a `.`. For example:\n",
    "\n",
    "## [List]()\n",
    "A list is a representation of consecutive cons boxes terminated in a null atom `()`.\n",
    "\n",
    "`(200 . (300 . (400 . ())))` -> `(200 300 400)`\n",
    "\n",
    "`(+ . ((q . 1) . ((q . 2) . ())))` \n",
    "-> `(+ . ((q . 1) . ((q . 2))))`\n",
    "-> `(+ . ((q . 1) (q . 2)))`\n",
    "-> `(+ (q . 1) (q . 2))` "
   ]
  },
  {
   "cell_type": "code",
   "execution_count": 2,
   "id": "2b0a0567-9acf-44cb-a6ef-9c594658fb71",
   "metadata": {},
   "outputs": [
    {
     "name": "stdout",
     "output_type": "stream",
     "text": [
      "(200 300 400)\n"
     ]
    }
   ],
   "source": [
    "%%bash\n",
    "brun '(q . (200 . (300 . (400 . ()))))'"
   ]
  },
  {
   "cell_type": "code",
   "execution_count": 14,
   "id": "f1701559-1f3d-4d7d-b74d-9f430350a90f",
   "metadata": {},
   "outputs": [
    {
     "name": "stdout",
     "output_type": "stream",
     "text": [
      "(+ (q . 1) (q . 2))\n",
      "(+ (q . 1) (q . 2))\n",
      "(+ (q . 1) (q . 2))\n",
      "(+ (q . 1) (q . 2))\n"
     ]
    }
   ],
   "source": [
    "%%bash\n",
    "brun '(q . (+ . ((q . 1) . ((q . 2) . ()))))'\n",
    "brun '(q . (+ . ((q . 1) . ((q . 2)))))'\n",
    "brun '(q . (+ . ((q . 1) (q . 2))))'\n",
    "brun '(q . (+ (q . 1) (q . 2)))'"
   ]
  },
  {
   "cell_type": "markdown",
   "id": "22717b18-feef-4f88-82e3-7e394189c22e",
   "metadata": {},
   "source": [
    "## [S-expression](https://en.wikipedia.org/wiki/S-expression)\n",
    "\n",
    "In the usual parenthesized syntax of Lisp, an S-expression is classically defined as\n",
    "\n",
    "1. an `atom`, or\n",
    "1. an expression of the form `(x . y)` where x and y are S-expressions."
   ]
  },
  {
   "cell_type": "markdown",
   "id": "16bc9d78-e126-4a5a-8cea-74ed877f4578",
   "metadata": {},
   "source": [
    "## [SExp](https://github.com/Chia-Network/clvm/blob/main/clvm/SExp.py#L120)\n",
    "SExp provides higher level API on top of any object implementing the **CLVM object protocol**.\n",
    "    \n",
    "The CLVM object protocol (concept) exposes two attributes:\n",
    "\n",
    "    1. `atom` which is either `None` or `bytes`\n",
    "    2. `pair` which is either `None` or a `tuple` of exactly two elements. Both elements implementing the CLVM object protocol.\n",
    "    \n",
    "Exactly one of `atom` and `pair` must be `None`."
   ]
  },
  {
   "cell_type": "markdown",
   "id": "252e60c2-a702-4979-89e1-90477a8d9dfa",
   "metadata": {},
   "source": [
    "## [Program](https://github.com/Chia-Network/chia-blockchain/blob/main/chia/types/blockchain_format/program.py#L22)\n",
    "\n",
    "A thin wrapper around `s-expression` data intended to be invoked with \"eval\".\n",
    "\n",
    "### [compile_clvm_text](https://github.com/Chia-Network/clvm_tools/blob/main/clvm_tools/clvmc.py#L14)"
   ]
  },
  {
   "cell_type": "markdown",
   "id": "8213e37b-3755-408c-8be6-d590d23b1eae",
   "metadata": {},
   "source": [
    "## [CLVMObject](https://github.com/Chia-Network/clvm/blob/main/clvm/CLVMObject.py#L4)\n",
    "\n",
    "```python\n",
    "class CLVMObject:\n",
    "    \"\"\"\n",
    "    This class implements the CLVM Object protocol in the simplest possible way,\n",
    "    by just having an \"atom\" and a \"pair\" field\n",
    "    \"\"\"\n",
    "\n",
    "    atom: typing.Optional[bytes]\n",
    "\n",
    "    # this is always a 2-tuple of an object implementing the CLVM object\n",
    "    # protocol.\n",
    "    pair: typing.Optional[typing.Tuple[typing.Any, typing.Any]]\n",
    "```"
   ]
  },
  {
   "cell_type": "code",
   "execution_count": 78,
   "id": "722e2045-54ac-4be4-bce0-60e557d9729a",
   "metadata": {},
   "outputs": [
    {
     "name": "stdout",
     "output_type": "stream",
     "text": [
      "ff10ff01ffff018200af80\n",
      "(+ 1 (q . 175))\n",
      "None\n",
      "b'\\x10'\n",
      "b'\\x01'\n",
      "b''\n",
      "b'\\x01'\n",
      "b'\\x00\\xaf'\n",
      "+\n",
      "b'\\x01'\n",
      "q\n",
      "b'\\x00\\xaf'\n",
      "(q . 175)\n"
     ]
    },
    {
     "ename": "AttributeError",
     "evalue": "'CLVMObject' object has no attribute 'as_python'",
     "output_type": "error",
     "traceback": [
      "\u001b[0;31m---------------------------------------------------------------------------\u001b[0m",
      "\u001b[0;31mAttributeError\u001b[0m                            Traceback (most recent call last)",
      "Cell \u001b[0;32mIn [78], line 46\u001b[0m\n\u001b[1;32m     42\u001b[0m \u001b[38;5;28mprint\u001b[39m(puzzle\u001b[38;5;241m.\u001b[39mpair[\u001b[38;5;241m1\u001b[39m]\u001b[38;5;241m.\u001b[39mpair[\u001b[38;5;241m1\u001b[39m]\u001b[38;5;241m.\u001b[39mpair[\u001b[38;5;241m0\u001b[39m]\u001b[38;5;241m.\u001b[39mpair[\u001b[38;5;241m1\u001b[39m]\u001b[38;5;241m.\u001b[39matom)\n\u001b[1;32m     45\u001b[0m \u001b[38;5;28mprint\u001b[39m(disassemble(puzzle\u001b[38;5;241m.\u001b[39mpair[\u001b[38;5;241m1\u001b[39m]\u001b[38;5;241m.\u001b[39mpair[\u001b[38;5;241m1\u001b[39m]\u001b[38;5;241m.\u001b[39mpair[\u001b[38;5;241m0\u001b[39m]))\n\u001b[0;32m---> 46\u001b[0m \u001b[38;5;28mprint\u001b[39m((\u001b[43mpuzzle\u001b[49m\u001b[38;5;241;43m.\u001b[39;49m\u001b[43mpair\u001b[49m\u001b[43m[\u001b[49m\u001b[38;5;241;43m1\u001b[39;49m\u001b[43m]\u001b[49m\u001b[38;5;241;43m.\u001b[39;49m\u001b[43mpair\u001b[49m\u001b[43m[\u001b[49m\u001b[38;5;241;43m1\u001b[39;49m\u001b[43m]\u001b[49m\u001b[38;5;241;43m.\u001b[39;49m\u001b[43mpair\u001b[49m\u001b[43m[\u001b[49m\u001b[38;5;241;43m1\u001b[39;49m\u001b[43m]\u001b[49m\u001b[38;5;241;43m.\u001b[39;49m\u001b[43mas_python\u001b[49m()))\n\u001b[1;32m     48\u001b[0m \u001b[38;5;28mprint\u001b[39m(\u001b[38;5;28mint\u001b[39m(\u001b[38;5;124m'\u001b[39m\u001b[38;5;124m00af\u001b[39m\u001b[38;5;124m'\u001b[39m, \u001b[38;5;241m16\u001b[39m))\n",
      "\u001b[0;31mAttributeError\u001b[0m: 'CLVMObject' object has no attribute 'as_python'"
     ]
    }
   ],
   "source": [
    "from chia.types.blockchain_format.program import Program\n",
    "from clvm_tools.binutils import disassemble\n",
    "from clvm_tools.clvmc import compile_clvm_text\n",
    "from clvm.operators import KEYWORD_FROM_ATOM\n",
    "\n",
    "clsp_text = '''\n",
    "(mod ARGUMENT (+ ARGUMENT 175))\n",
    "'''\n",
    "\n",
    "puzzle: Program = Program(\n",
    "    compile_clvm_text(clsp_text, search_paths=[])\n",
    ")\n",
    "\n",
    "print(puzzle)\n",
    "print(disassemble(puzzle))\n",
    "\n",
    "# (+ 1 (q . 175))\n",
    "# (+ . (1 . ((q . 175) . ())))\n",
    "\n",
    "#    []\n",
    "#   /  \\\n",
    "#  +   []\n",
    "#     /  \\\n",
    "#    1   []\n",
    "#       /  \\\n",
    "#      []  ()\n",
    "#     /  \\\n",
    "#    q   175  \n",
    "\n",
    "\n",
    "print(puzzle.atom)\n",
    "print(puzzle.pair[0].as_python()) # +\n",
    "print(puzzle.pair[1].pair[0].as_python()) # 1\n",
    "print(puzzle.pair[1].pair[1].pair[1].atom) # ''\n",
    "print(puzzle.pair[1].pair[1].pair[0].pair[0].atom) # q\n",
    "print(puzzle.pair[1].pair[1].pair[0].pair[1].atom) # 175\n",
    "\n",
    "\n",
    "print(KEYWORD_FROM_ATOM[puzzle.pair[0].as_python()])\n",
    "print(puzzle.pair[1].pair[0].as_python())\n",
    "print(KEYWORD_FROM_ATOM[puzzle.pair[1].pair[1].pair[0].pair[0].atom])\n",
    "print(puzzle.pair[1].pair[1].pair[0].pair[1].atom)\n",
    "\n",
    "\n",
    "print(disassemble(puzzle.pair[1].pair[1].pair[0]))\n",
    "print((puzzle.pair[1].pair[1].pair[1]()))\n",
    "\n",
    "print(int('00af', 16))\n"
   ]
  },
  {
   "cell_type": "code",
   "execution_count": 71,
   "id": "5f5ad590-88a8-4dff-9c5c-586d2281582f",
   "metadata": {},
   "outputs": [
    {
     "name": "stdout",
     "output_type": "stream",
     "text": [
      "(+ 1 (q . 175))\n"
     ]
    }
   ],
   "source": [
    "%%bash\n",
    "brun '(q . (+ . (1 . ((q . 175) . ()))))'"
   ]
  },
  {
   "cell_type": "markdown",
   "id": "dbcadb6b-04e5-4826-bc7e-8288d3935df5",
   "metadata": {},
   "source": [
    "## [Program Evaluation](https://chialisp.com/docs/clvm/lang_reference/#program-evaluation)\n",
    "\n",
    "The semantics of the language implemented by the CLVM is similar to Lisp. A program is represented as a binary tree. The root of the tree is the least nested object in the program tree, with inner function calls embedded recursively inside of it. In the following example, the outer parentheses represent the `cons box` that is the root of the tree `(+ (q . 1) (q . 2))`.\n",
    "\n",
    "\n",
    "```\n",
    "      [ ]\n",
    "     /   \\\n",
    "    +     [ ]\n",
    "         /   \\\n",
    "      [q, 1]  [ ]\n",
    "             /   \\\n",
    "         [q, 2]  nil\n",
    "```"
   ]
  },
  {
   "cell_type": "code",
   "execution_count": null,
   "id": "a2c0c89f-c9cc-43ce-8f81-da7dfa59be52",
   "metadata": {},
   "outputs": [],
   "source": []
  }
 ],
 "metadata": {
  "kernelspec": {
   "display_name": "Python 3 (ipykernel)",
   "language": "python",
   "name": "python3"
  },
  "language_info": {
   "codemirror_mode": {
    "name": "ipython",
    "version": 3
   },
   "file_extension": ".py",
   "mimetype": "text/x-python",
   "name": "python",
   "nbconvert_exporter": "python",
   "pygments_lexer": "ipython3",
   "version": "3.10.8"
  }
 },
 "nbformat": 4,
 "nbformat_minor": 5
}
