{
 "cells": [
  {
   "cell_type": "code",
   "execution_count": null,
   "id": "9c1eeaa9-ef84-42f7-b790-5955ff371e87",
   "metadata": {},
   "outputs": [],
   "source": [
    "import sys\n",
    "sys.path.insert(0, \"../../../shared\")\n",
    "from utils import (load_program, print_program)\n",
    "\n",
    "from chia.types.blockchain_format.program import Program\n",
    "\n",
    "counter_puzzle = load_program(\"counter.clsp\", [\"../../../shared\"])\n",
    "terminate_singleton_puzzle = load_program(\"terminate-singleton.clsp\", [\"../../../shared\"])\n",
    "print(counter_puzzle.get_tree_hash())\n",
    "print(terminate_singleton_puzzle.get_tree_hash())"
   ]
  }
 ],
 "metadata": {
  "kernelspec": {
   "display_name": "Python 3 (ipykernel)",
   "language": "python",
   "name": "python3"
  },
  "language_info": {
   "codemirror_mode": {
    "name": "ipython",
    "version": 3
   },
   "file_extension": ".py",
   "mimetype": "text/x-python",
   "name": "python",
   "nbconvert_exporter": "python",
   "pygments_lexer": "ipython3",
   "version": "3.8.10"
  }
 },
 "nbformat": 4,
 "nbformat_minor": 5
}
