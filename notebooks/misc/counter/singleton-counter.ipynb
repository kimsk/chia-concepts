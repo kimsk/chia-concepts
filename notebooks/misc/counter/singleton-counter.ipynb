{
 "cells": [
  {
   "cell_type": "markdown",
   "id": "acf42ab6-51fc-4921-914c-2c1c2f05b406",
   "metadata": {},
   "source": [
    "## Prepare Network & Standard TXN Coin"
   ]
  },
  {
   "cell_type": "code",
   "execution_count": 1,
   "id": "535560e5-3e19-4f4d-a54e-210e54b8c986",
   "metadata": {},
   "outputs": [
    {
     "name": "stdout",
     "output_type": "stream",
     "text": [
      "alice balance:\t\t2000000000000\n",
      "alice puzzle hash:\t4f45877796d7a64e192bcc9f899afeedae391f71af3afd7e15a0792c049d23d3\n"
     ]
    }
   ],
   "source": [
    "from chia.wallet.puzzles import p2_delegated_puzzle_or_hidden_puzzle\n",
    "from cdv.test import Network, Wallet\n",
    "\n",
    "network: Network = await Network.create()\n",
    "\n",
    "# use as function parameters\n",
    "get_coin_records_by_parent_ids = network.sim_client.get_coin_records_by_parent_ids\n",
    "get_coin_record_by_name = network.sim_client.get_coin_record_by_name\n",
    "get_puzzle_and_solution = network.sim_client.get_puzzle_and_solution        \n",
    "get_block_records = network.sim_client.get_block_records\n",
    "get_additions_and_removals = network.sim_client.get_additions_and_removals\n",
    "\n",
    "await network.farm_block()\n",
    "\n",
    "alice: Wallet = network.make_wallet(\"alice\")\n",
    "await network.farm_block(farmer=alice)\n",
    "\n",
    "print(f'alice balance:\\t\\t{alice.balance()}')\n",
    "print(f'alice puzzle hash:\\t{alice.puzzle_hash}')\n",
    "\n",
    "standard_txn_coin_wrapper = await alice.choose_coin(1_750_000_000_000)\n",
    "standard_txn_coin = standard_txn_coin_wrapper.as_coin()\n",
    "standard_txn_puzzle = p2_delegated_puzzle_or_hidden_puzzle.puzzle_for_pk(alice.pk())"
   ]
  },
  {
   "cell_type": "markdown",
   "id": "47bddcc6-089f-4823-bd1d-fefb0c86e824",
   "metadata": {},
   "source": [
    "## Prepare Counter (Inner) Puzzle for Singleton"
   ]
  },
  {
   "cell_type": "code",
   "execution_count": 2,
   "id": "9c1eeaa9-ef84-42f7-b790-5955ff371e87",
   "metadata": {},
   "outputs": [
    {
     "name": "stdout",
     "output_type": "stream",
     "text": [
      "...0792c049d23d3) (c (q . 113) 1))) (c (q . 113) (c (q) 1))))))\n"
     ]
    }
   ],
   "source": [
    "import sys\n",
    "sys.path.insert(0, \"../../../shared\")\n",
    "from utils import (load_program, print_program, print_puzzle, print_json, print_push_tx_result)\n",
    "import singleton_utils\n",
    "\n",
    "from chia.types.blockchain_format.program import Program\n",
    "from clvm_tools.binutils import disassemble\n",
    "\n",
    "counter_puzzle = load_program(\"counter.clsp\", [\"../../../shared\"])\n",
    "terminate_singleton_puzzle = load_program(\"terminate-singleton.clsp\", [\"../../../shared\"])\n",
    "\n",
    "MOD = counter_puzzle\n",
    "AMOUNT = 113 # odd amount\n",
    "MAX_COUNT = 5\n",
    "PUZZLE_HASH = alice.puzzle_hash\n",
    "START_COUNT = 0\n",
    "TERMINAL_PUZZLE = terminate_singleton_puzzle.curry(PUZZLE_HASH, AMOUNT)\n",
    "puzzle = counter_puzzle.curry(\n",
    "    MOD,\n",
    "    MAX_COUNT,\n",
    "    TERMINAL_PUZZLE,\n",
    "    AMOUNT,\n",
    "    START_COUNT\n",
    ")\n",
    "print_puzzle(puzzle, 60)"
   ]
  },
  {
   "cell_type": "markdown",
   "id": "69657fe0-dbfa-436b-93e4-5b2e8ebafe48",
   "metadata": {},
   "source": [
    "## Prepare Launcher CoinSpend"
   ]
  },
  {
   "cell_type": "code",
   "execution_count": 3,
   "id": "4b54eafa-687e-488a-900d-8ddbea339b0f",
   "metadata": {},
   "outputs": [
    {
     "name": "stdout",
     "output_type": "stream",
     "text": [
      "\n",
      "launcher id: bb94201a4ac3ca98c688e42f0b65d3dce0bbf648ce56e58280685a304f785a60\n",
      "{\n",
      "    \"coin\": {\n",
      "        \"amount\": 113,\n",
      "        \"parent_coin_info\": \"0x12d7b8c1654f82f2330059abc28e3240e863450706de7fdc518026f393f68bba\",\n",
      "        \"puzzle_hash\": \"0xeff07522495060c066f66f32acc2a77e3a3e737aca8baea4d1a64ea4cdc13da9\"\n",
      "    },\n",
      "    \"puzzle_reveal\": \"0xff02ffff01ff04ffff04ff04ffff04ff05ffff04ff0bff80808080ffff04ffff04ff0affff04ffff02ff0effff04ff02ffff04ffff04ff05ffff04ff0bffff04ff17ff80808080ff80808080ff808080ff808080ffff04ffff01ff33ff3cff02ffff03ffff07ff0580ffff01ff0bffff0102ffff02ff0effff04ff02ffff04ff09ff80808080ffff02ff0effff04ff02ffff04ff0dff8080808080ffff01ff0bffff0101ff058080ff0180ff018080\",\n",
      "    \"solution\": \"0xffa0b76293c1b82e0b91090807dd64ab4a0faed819cca61c41b34370f5790aacf1d6ff71ffffff846e616d6561ffff8b73746172745f636f756e74808080\"\n",
      "}\n"
     ]
    }
   ],
   "source": [
    "from chia.types.blockchain_format.coin import Coin\n",
    "from chia.types.coin_spend import CoinSpend\n",
    "from chia.wallet.puzzles import singleton_top_layer_v1_1\n",
    "\n",
    "launcher_coin = Coin(\n",
    "    standard_txn_coin.name(), \n",
    "    singleton_top_layer_v1_1.SINGLETON_LAUNCHER_HASH, \n",
    "    AMOUNT\n",
    ")\n",
    "launcher_id = launcher_coin.name()\n",
    "print(f'\\nlauncher id: {launcher_id}')\n",
    "\n",
    "singleton_struct = (\n",
    "    singleton_top_layer_v1_1.SINGLETON_MOD_HASH, \n",
    "    (launcher_id, singleton_top_layer_v1_1.SINGLETON_LAUNCHER_HASH)\n",
    ")\n",
    "\n",
    "singleton_puzzle = singleton_top_layer_v1_1.SINGLETON_MOD.curry(\n",
    "    singleton_struct,\n",
    "    puzzle, # counter puzzle\n",
    ")\n",
    "\n",
    "launcher_solution = Program.to(\n",
    "    [\n",
    "        singleton_puzzle.get_tree_hash(),\n",
    "        AMOUNT,\n",
    "        [\n",
    "            (\"name\", \"a\"), \n",
    "            (\"start_count\", START_COUNT)\n",
    "        ]\n",
    "    ]\n",
    ")\n",
    "launcher_announcement = launcher_solution.get_tree_hash()\n",
    "\n",
    "launcher_coin_spend = CoinSpend(\n",
    "    launcher_coin,\n",
    "    singleton_top_layer_v1_1.SINGLETON_LAUNCHER,\n",
    "    launcher_solution\n",
    ")\n",
    "print_json(launcher_coin_spend.to_json_dict())"
   ]
  },
  {
   "cell_type": "markdown",
   "id": "f9929896-6c33-4f21-85dd-3939529e10a4",
   "metadata": {},
   "source": [
    "## Prepare Standard TXN CoinSpend & Signature"
   ]
  },
  {
   "cell_type": "code",
   "execution_count": 4,
   "id": "10b0242f-0eb0-4a77-8635-7ab8143865f6",
   "metadata": {},
   "outputs": [
    {
     "name": "stdout",
     "output_type": "stream",
     "text": [
      "{\n",
      "    \"coin\": {\n",
      "        \"amount\": 1750000000000,\n",
      "        \"parent_coin_info\": \"0xe3b0c44298fc1c149afbf4c8996fb92400000000000000000000000000000001\",\n",
      "        \"puzzle_hash\": \"0x4f45877796d7a64e192bcc9f899afeedae391f71af3afd7e15a0792c049d23d3\"\n",
      "    },\n",
      "    \"puzzle_reveal\": \"0xff02ffff01ff02ffff01ff02ffff03ff0bffff01ff02ffff03ffff09ff05ffff1dff0bffff1effff0bff0bffff02ff06ffff04ff02ffff04ff17ff8080808080808080ffff01ff02ff17ff2f80ffff01ff088080ff0180ffff01ff04ffff04ff04ffff04ff05ffff04ffff02ff06ffff04ff02ffff04ff17ff80808080ff80808080ffff02ff17ff2f808080ff0180ffff04ffff01ff32ff02ffff03ffff07ff0580ffff01ff0bffff0102ffff02ff06ffff04ff02ffff04ff09ff80808080ffff02ff06ffff04ff02ffff04ff0dff8080808080ffff01ff0bffff0101ff058080ff0180ff018080ffff04ffff01b0a042c855d234578415254b7870b711fb25e8f85beaa4a66bd0673d394c761fa156406c2e3bb375d5b18766d2a12cc918ff018080\",\n",
      "    \"solution\": \"0xff80ffff01ffff33ffa0eff07522495060c066f66f32acc2a77e3a3e737aca8baea4d1a64ea4cdc13da9ff7180ffff3dffa0d195505fe606087ba77daf46b3599190c1ccd3e76c447cd28e69e26689b966bb80ffff33ffa04f45877796d7a64e192bcc9f899afeedae391f71af3afd7e15a0792c049d23d3ff8601977420db8f8080ff8080\"\n",
      "}\n"
     ]
    }
   ],
   "source": [
    "from chia.consensus.default_constants import DEFAULT_CONSTANTS\n",
    "from chia.types.blockchain_format.program import Program\n",
    "from chia.types.condition_opcodes import ConditionOpcode\n",
    "from chia.util.hash import std_hash\n",
    "from chia.wallet.puzzles import p2_delegated_puzzle_or_hidden_puzzle\n",
    "\n",
    "standard_txn_coin_conditions = [\n",
    "    # create launcher coin with the odd_amount (odd)\n",
    "    Program.to(\n",
    "        [\n",
    "            ConditionOpcode.CREATE_COIN,\n",
    "            singleton_top_layer_v1_1.SINGLETON_LAUNCHER_HASH,\n",
    "            AMOUNT,\n",
    "        ]),\n",
    "    # assert launcher coin announcement\n",
    "    Program.to(\n",
    "        [\n",
    "            ConditionOpcode.ASSERT_COIN_ANNOUNCEMENT, \n",
    "            std_hash(launcher_id + launcher_announcement)\n",
    "        ]),\n",
    "]\n",
    "if standard_txn_coin.amount > AMOUNT:\n",
    "    standard_txn_coin_conditions = [\n",
    "        *standard_txn_coin_conditions, \n",
    "        Program.to(\n",
    "        [\n",
    "            ConditionOpcode.CREATE_COIN,\n",
    "            standard_txn_coin.puzzle_hash,\n",
    "            standard_txn_coin.amount - AMOUNT,\n",
    "        ])\n",
    "    ]\n",
    "\n",
    "\n",
    "delegated_puzzle = p2_delegated_puzzle_or_hidden_puzzle.puzzle_for_conditions(standard_txn_coin_conditions)\n",
    "solution = p2_delegated_puzzle_or_hidden_puzzle.solution_for_conditions(standard_txn_coin_conditions)\n",
    "\n",
    "standard_txn_coin_spend = CoinSpend(\n",
    "    standard_txn_coin,\n",
    "    standard_txn_puzzle,\n",
    "    solution\n",
    ")\n",
    "\n",
    "standard_coin_message = (\n",
    "    delegated_puzzle.get_tree_hash()\n",
    "    + standard_txn_coin.name()\n",
    "    + DEFAULT_CONSTANTS.AGG_SIG_ME_ADDITIONAL_DATA\n",
    ")\n",
    "\n",
    "\n",
    "# sign the standard txn spend\n",
    "from blspy import AugSchemeMPL, PrivateKey\n",
    "from chia.consensus.default_constants import DEFAULT_CONSTANTS\n",
    "\n",
    "synthetic_sk: PrivateKey = p2_delegated_puzzle_or_hidden_puzzle.calculate_synthetic_secret_key(\n",
    "    alice.sk_,\n",
    "    p2_delegated_puzzle_or_hidden_puzzle.DEFAULT_HIDDEN_PUZZLE_HASH\n",
    ")\n",
    "\n",
    "signature = AugSchemeMPL.sign(synthetic_sk,standard_coin_message)\n",
    "\n",
    "print_json(standard_txn_coin_spend.to_json_dict())"
   ]
  },
  {
   "cell_type": "markdown",
   "id": "d1d94cf2-44d7-4018-9f1a-8d520f3e6a6a",
   "metadata": {},
   "source": [
    "## Create First Singleton Counter"
   ]
  },
  {
   "cell_type": "code",
   "execution_count": 5,
   "id": "1870676b-11d9-4c6a-8c04-6224a70fd129",
   "metadata": {},
   "outputs": [
    {
     "name": "stdout",
     "output_type": "stream",
     "text": [
      "additions:\n",
      "==========\n",
      "{'amount': 1749999999887,\n",
      " 'parent_coin_info': '0x12d7b8c1654f82f2330059abc28e3240e863450706de7fdc518026f393f68bba',\n",
      " 'puzzle_hash': '0x4f45877796d7a64e192bcc9f899afeedae391f71af3afd7e15a0792c049d23d3'}\n",
      "{'amount': 113,\n",
      " 'parent_coin_info': '0x12d7b8c1654f82f2330059abc28e3240e863450706de7fdc518026f393f68bba',\n",
      " 'puzzle_hash': '0xeff07522495060c066f66f32acc2a77e3a3e737aca8baea4d1a64ea4cdc13da9'}\n",
      "{'amount': 113,\n",
      " 'parent_coin_info': '0xbb94201a4ac3ca98c688e42f0b65d3dce0bbf648ce56e58280685a304f785a60',\n",
      " 'puzzle_hash': '0xb76293c1b82e0b91090807dd64ab4a0faed819cca61c41b34370f5790aacf1d6'}\n",
      "removals:\n",
      "=========\n",
      "{'amount': 1750000000000,\n",
      " 'parent_coin_info': '0xe3b0c44298fc1c149afbf4c8996fb92400000000000000000000000000000001',\n",
      " 'puzzle_hash': '0x4f45877796d7a64e192bcc9f899afeedae391f71af3afd7e15a0792c049d23d3'}\n",
      "{'amount': 113,\n",
      " 'parent_coin_info': '0x12d7b8c1654f82f2330059abc28e3240e863450706de7fdc518026f393f68bba',\n",
      " 'puzzle_hash': '0xeff07522495060c066f66f32acc2a77e3a3e737aca8baea4d1a64ea4cdc13da9'}\n"
     ]
    }
   ],
   "source": [
    "from chia.types.spend_bundle import SpendBundle\n",
    "\n",
    "spend_bundle = SpendBundle(\n",
    "    [standard_txn_coin_spend, launcher_coin_spend],\n",
    "    signature\n",
    ")\n",
    "result = await network.push_tx(spend_bundle)\n",
    "print_push_tx_result(result)"
   ]
  },
  {
   "cell_type": "markdown",
   "id": "c3cd945e-bdf2-4211-a2c6-e5f4432bc283",
   "metadata": {},
   "source": [
    "## Verify Singleton & Launcher Coin Records"
   ]
  },
  {
   "cell_type": "code",
   "execution_count": 6,
   "id": "56f845c4-504e-4f26-85c8-9f7a4b593811",
   "metadata": {},
   "outputs": [
    {
     "name": "stdout",
     "output_type": "stream",
     "text": [
      "{'coin': {'amount': 113,\n",
      "          'parent_coin_info': '0x12d7b8c1654f82f2330059abc28e3240e863450706de7fdc518026f393f68bba',\n",
      "          'puzzle_hash': '0xeff07522495060c066f66f32acc2a77e3a3e737aca8baea4d1a64ea4cdc13da9'},\n",
      " 'coinbase': False,\n",
      " 'confirmed_block_index': 2,\n",
      " 'spent_block_index': 2,\n",
      " 'timestamp': 1}\n",
      "{'coin': {'amount': 113,\n",
      "          'parent_coin_info': '0xbb94201a4ac3ca98c688e42f0b65d3dce0bbf648ce56e58280685a304f785a60',\n",
      "          'puzzle_hash': '0xb76293c1b82e0b91090807dd64ab4a0faed819cca61c41b34370f5790aacf1d6'},\n",
      " 'coinbase': False,\n",
      " 'confirmed_block_index': 2,\n",
      " 'spent_block_index': 0,\n",
      " 'timestamp': 1}\n"
     ]
    }
   ],
   "source": [
    "launcher_cr = await singleton_utils.get_launcher_coin_record(\n",
    "    get_block_records, get_additions_and_removals, get_puzzle_and_solution, \n",
    "    0, 10, (\"name\", \"a\"))\n",
    "print(launcher_cr)\n",
    "\n",
    "singleton_cr = await singleton_utils.get_last_singleton_coin_record(get_coin_records_by_parent_ids, launcher_id)\n",
    "print(singleton_cr)"
   ]
  },
  {
   "cell_type": "markdown",
   "id": "27299e5a-7796-447c-ae5a-e91487dbc72a",
   "metadata": {},
   "source": [
    "## Spend Singleton And Retrieve Counts"
   ]
  },
  {
   "cell_type": "code",
   "execution_count": 7,
   "id": "54cb8450-2d59-4504-b1f6-61ed60e630d8",
   "metadata": {},
   "outputs": [
    {
     "data": {
      "text/plain": [
       "0"
      ]
     },
     "execution_count": 7,
     "metadata": {},
     "output_type": "execute_result"
    }
   ],
   "source": [
    "async def get_current_count(launcher_cr):\n",
    "    count = None\n",
    "    launcher_id = launcher_cr.coin.name()\n",
    "    singleton_cr = await singleton_utils.get_last_singleton_coin_record(get_coin_records_by_parent_ids, launcher_id)\n",
    "    if singleton_cr.spent_block_index != 0:\n",
    "            # get max count\n",
    "            coin_spent = await get_puzzle_and_solution(singleton_cr.coin.name(), singleton_cr.spent_block_index)\n",
    "            count = coin_spent.puzzle_reveal.to_program().at(\"rrfrrfrfrrrfrrfrfr\").as_int()\n",
    "    else:\n",
    "        singleton_parent_cr = await get_coin_record_by_name(singleton_cr.coin.parent_coin_info)\n",
    "        if singleton_parent_cr != None:\n",
    "            if singleton_parent_cr.coin.puzzle_hash == singleton_top_layer_v1_1.SINGLETON_LAUNCHER_HASH:\n",
    "                coin_spent = await get_puzzle_and_solution(launcher_id, launcher_cr.spent_block_index)\n",
    "                kv_list = coin_spent.solution.to_program().at(\"rrf\").as_iter()\n",
    "                for kv in kv_list:\n",
    "                    k = kv.first()\n",
    "                    if k == \"start_count\":\n",
    "                        v = kv.rest().as_int()\n",
    "                        count = v\n",
    "            else:\n",
    "                coin_spent = await get_puzzle_and_solution(singleton_parent_cr.coin.name(), singleton_parent_cr.spent_block_index)\n",
    "                count = coin_spent.puzzle_reveal.to_program().at(\"rrfrrfrfrrrfrrfrrfrrfrrfrfr\").as_int() + 1\n",
    "    return count\n",
    "\n",
    "current_count = await get_current_count(launcher_cr)\n",
    "current_count"
   ]
  },
  {
   "cell_type": "code",
   "execution_count": 8,
   "id": "c16cb03a-4e2e-4ddc-ab61-dfd914ef9614",
   "metadata": {},
   "outputs": [],
   "source": [
    "async def get_singleton_counter_coin_spend(launcher_cr, prev_coin_spend):\n",
    "    current_count = await get_current_count(launcher_cr)\n",
    "\n",
    "    # prepare puzzle reveal\n",
    "    puzzle = counter_puzzle.curry(\n",
    "        MOD,\n",
    "        MAX_COUNT,\n",
    "        TERMINAL_PUZZLE,\n",
    "        AMOUNT,\n",
    "        current_count\n",
    "    )\n",
    "    singleton_puzzle = singleton_top_layer_v1_1.SINGLETON_MOD.curry(\n",
    "                singleton_struct,\n",
    "                puzzle,\n",
    "        )\n",
    "\n",
    "    singleton_coin = await singleton_utils.get_unspent_singleton(\n",
    "        get_coin_records_by_parent_ids, \n",
    "        launcher_id)\n",
    "\n",
    "    lineage_proof = singleton_top_layer_v1_1.lineage_proof_for_coinsol(prev_coin_spend)\n",
    "\n",
    "    inner_solution = Program.to([])\n",
    "\n",
    "    coin_spend = singleton_utils.get_singleton_coin_spend(\n",
    "            singleton_coin, singleton_puzzle, lineage_proof, inner_solution\n",
    "    )\n",
    "    return coin_spend\n"
   ]
  },
  {
   "cell_type": "code",
   "execution_count": 9,
   "id": "5fa75dc1-cfd3-484f-b742-a7c600488827",
   "metadata": {},
   "outputs": [
    {
     "name": "stdout",
     "output_type": "stream",
     "text": [
      "additions:\n",
      "==========\n",
      "{'amount': 113,\n",
      " 'parent_coin_info': '0xbcb3eb5414bf5ea33feddcd5905ccfcbd354b94794f0255137f4a69cc814e5bd',\n",
      " 'puzzle_hash': '0xf11535c970b6d1d657d17bacd469b1de00aab146fab3760cba2e37960a5c6c14'}\n",
      "removals:\n",
      "=========\n",
      "{'amount': 113,\n",
      " 'parent_coin_info': '0xbb94201a4ac3ca98c688e42f0b65d3dce0bbf648ce56e58280685a304f785a60',\n",
      " 'puzzle_hash': '0xb76293c1b82e0b91090807dd64ab4a0faed819cca61c41b34370f5790aacf1d6'}\n"
     ]
    }
   ],
   "source": [
    "from blspy import (G2Element)\n",
    "from chia.types.spend_bundle import SpendBundle\n",
    "network.sim.pass_blocks(1)\n",
    "coin_spend = await get_singleton_counter_coin_spend(launcher_cr, launcher_coin_spend)\n",
    "spend_bundle = SpendBundle(\n",
    "    [coin_spend],\n",
    "    G2Element()\n",
    ")\n",
    "result = await network.push_tx(spend_bundle)\n",
    "print_push_tx_result(result)"
   ]
  },
  {
   "cell_type": "code",
   "execution_count": 10,
   "id": "44655cf9-ed40-4b67-94fb-5895226a09bc",
   "metadata": {},
   "outputs": [
    {
     "data": {
      "text/plain": [
       "1"
      ]
     },
     "execution_count": 10,
     "metadata": {},
     "output_type": "execute_result"
    }
   ],
   "source": [
    "current_count = await get_current_count(launcher_cr)\n",
    "current_count"
   ]
  },
  {
   "cell_type": "code",
   "execution_count": 11,
   "id": "9f526e06-d523-4370-a19a-bbe6e30b5c5d",
   "metadata": {},
   "outputs": [
    {
     "name": "stdout",
     "output_type": "stream",
     "text": [
      "additions:\n",
      "==========\n",
      "{'amount': 113,\n",
      " 'parent_coin_info': '0xdbf3363d1b178fa3ec0ccd579049b61e52b19766449c79406b9c83e3b355de7f',\n",
      " 'puzzle_hash': '0x27c063f18bed7ac1aa8feea8362a46a40202171065263b2cccd315bde47d5598'}\n",
      "removals:\n",
      "=========\n",
      "{'amount': 113,\n",
      " 'parent_coin_info': '0xbcb3eb5414bf5ea33feddcd5905ccfcbd354b94794f0255137f4a69cc814e5bd',\n",
      " 'puzzle_hash': '0xf11535c970b6d1d657d17bacd469b1de00aab146fab3760cba2e37960a5c6c14'}\n"
     ]
    },
    {
     "data": {
      "text/plain": [
       "2"
      ]
     },
     "execution_count": 11,
     "metadata": {},
     "output_type": "execute_result"
    }
   ],
   "source": [
    "from blspy import (G2Element)\n",
    "from chia.types.spend_bundle import SpendBundle\n",
    "network.sim.pass_blocks(1)\n",
    "coin_spend = await get_singleton_counter_coin_spend(launcher_cr, coin_spend)\n",
    "spend_bundle = SpendBundle(\n",
    "    [coin_spend],\n",
    "    G2Element()\n",
    ")\n",
    "result = await network.push_tx(spend_bundle)\n",
    "print_push_tx_result(result)\n",
    "current_count = await get_current_count(launcher_cr)\n",
    "current_count"
   ]
  },
  {
   "cell_type": "code",
   "execution_count": 12,
   "id": "999f9200-224d-49aa-b4e4-044725783991",
   "metadata": {},
   "outputs": [
    {
     "name": "stdout",
     "output_type": "stream",
     "text": [
      "{'additions': [Coin(parent_coin_info=<bytes32: 0701b568eb79f3ee686acf93dbdff517a09fa63638138a27998ba836a17f1cbf>, puzzle_hash=<bytes32: 25c2f2ca85ab74824e72277fb62d7ebc53810b06ddbe381d6c308d17795550fb>, amount=113)], 'removals': [Coin(parent_coin_info=<bytes32: dbf3363d1b178fa3ec0ccd579049b61e52b19766449c79406b9c83e3b355de7f>, puzzle_hash=<bytes32: 27c063f18bed7ac1aa8feea8362a46a40202171065263b2cccd315bde47d5598>, amount=113)]}\n"
     ]
    },
    {
     "data": {
      "text/plain": [
       "3"
      ]
     },
     "execution_count": 12,
     "metadata": {},
     "output_type": "execute_result"
    }
   ],
   "source": [
    "from blspy import (G2Element)\n",
    "from chia.types.spend_bundle import SpendBundle\n",
    "network.sim.pass_blocks(1)\n",
    "coin_spend = await get_singleton_counter_coin_spend(launcher_cr, coin_spend)\n",
    "spend_bundle = SpendBundle(\n",
    "    [coin_spend],\n",
    "    G2Element()\n",
    ")\n",
    "result = await network.push_tx(spend_bundle)\n",
    "print(result)\n",
    "current_count = await get_current_count(launcher_cr)\n",
    "current_count"
   ]
  },
  {
   "cell_type": "code",
   "execution_count": 13,
   "id": "bdb8c42a-7109-4639-9e91-9f04c5bc59c0",
   "metadata": {},
   "outputs": [
    {
     "name": "stdout",
     "output_type": "stream",
     "text": [
      "{'additions': [Coin(parent_coin_info=<bytes32: f7b3c6d0c35dd08e1f188405b7d7560e4fde0bd66d090233405b51856ae3d0dc>, puzzle_hash=<bytes32: a757488868cca5de9036009ec02d8e1c721fe5ace45b13f1a5a42283cb793c63>, amount=113)], 'removals': [Coin(parent_coin_info=<bytes32: 0701b568eb79f3ee686acf93dbdff517a09fa63638138a27998ba836a17f1cbf>, puzzle_hash=<bytes32: 25c2f2ca85ab74824e72277fb62d7ebc53810b06ddbe381d6c308d17795550fb>, amount=113)]}\n"
     ]
    },
    {
     "data": {
      "text/plain": [
       "4"
      ]
     },
     "execution_count": 13,
     "metadata": {},
     "output_type": "execute_result"
    }
   ],
   "source": [
    "from blspy import (G2Element)\n",
    "from chia.types.spend_bundle import SpendBundle\n",
    "network.sim.pass_blocks(1)\n",
    "coin_spend = await get_singleton_counter_coin_spend(launcher_cr, coin_spend)\n",
    "spend_bundle = SpendBundle(\n",
    "    [coin_spend],\n",
    "    G2Element()\n",
    ")\n",
    "result = await network.push_tx(spend_bundle)\n",
    "print(result)\n",
    "current_count = await get_current_count(launcher_cr)\n",
    "current_count"
   ]
  },
  {
   "cell_type": "code",
   "execution_count": 14,
   "id": "b19fee03-984d-46e0-b831-aa5328ecd923",
   "metadata": {},
   "outputs": [
    {
     "name": "stdout",
     "output_type": "stream",
     "text": [
      "{'additions': [Coin(parent_coin_info=<bytes32: cd4106d670c6885181dab7686a20cfd8dfd5adfccc52158d925df7108dab16a3>, puzzle_hash=<bytes32: 3fd8e3641995778c7c06c741ebc190cd7bb9a040df3431304913316d163e0c1a>, amount=113)], 'removals': [Coin(parent_coin_info=<bytes32: f7b3c6d0c35dd08e1f188405b7d7560e4fde0bd66d090233405b51856ae3d0dc>, puzzle_hash=<bytes32: a757488868cca5de9036009ec02d8e1c721fe5ace45b13f1a5a42283cb793c63>, amount=113)]}\n"
     ]
    },
    {
     "data": {
      "text/plain": [
       "5"
      ]
     },
     "execution_count": 14,
     "metadata": {},
     "output_type": "execute_result"
    }
   ],
   "source": [
    "from blspy import (G2Element)\n",
    "from chia.types.spend_bundle import SpendBundle\n",
    "network.sim.pass_blocks(1)\n",
    "coin_spend = await get_singleton_counter_coin_spend(launcher_cr, coin_spend)\n",
    "spend_bundle = SpendBundle(\n",
    "    [coin_spend],\n",
    "    G2Element()\n",
    ")\n",
    "result = await network.push_tx(spend_bundle)\n",
    "print(result)\n",
    "current_count = await get_current_count(launcher_cr)\n",
    "current_count"
   ]
  },
  {
   "cell_type": "code",
   "execution_count": 15,
   "id": "dd746fc2-c46c-4c45-97ea-75dfc9559d6b",
   "metadata": {},
   "outputs": [
    {
     "name": "stdout",
     "output_type": "stream",
     "text": [
      "{'additions': [Coin(parent_coin_info=<bytes32: d60e280ddd8cc7965c8c73f0f3b34d50ed1b0883772d33c1b1e0f73b0e11e4c3>, puzzle_hash=<bytes32: 4f45877796d7a64e192bcc9f899afeedae391f71af3afd7e15a0792c049d23d3>, amount=112)], 'removals': [Coin(parent_coin_info=<bytes32: cd4106d670c6885181dab7686a20cfd8dfd5adfccc52158d925df7108dab16a3>, puzzle_hash=<bytes32: 3fd8e3641995778c7c06c741ebc190cd7bb9a040df3431304913316d163e0c1a>, amount=113)]}\n"
     ]
    },
    {
     "data": {
      "text/plain": [
       "5"
      ]
     },
     "execution_count": 15,
     "metadata": {},
     "output_type": "execute_result"
    }
   ],
   "source": [
    "from blspy import (G2Element)\n",
    "from chia.types.spend_bundle import SpendBundle\n",
    "network.sim.pass_blocks(1)\n",
    "coin_spend = await get_singleton_counter_coin_spend(launcher_cr, coin_spend)\n",
    "spend_bundle = SpendBundle(\n",
    "    [coin_spend],\n",
    "    G2Element()\n",
    ")\n",
    "result = await network.push_tx(spend_bundle)\n",
    "print(result)\n",
    "current_count = await get_current_count(launcher_cr)\n",
    "current_count"
   ]
  }
 ],
 "metadata": {
  "kernelspec": {
   "display_name": "Python 3 (ipykernel)",
   "language": "python",
   "name": "python3"
  },
  "language_info": {
   "codemirror_mode": {
    "name": "ipython",
    "version": 3
   },
   "file_extension": ".py",
   "mimetype": "text/x-python",
   "name": "python",
   "nbconvert_exporter": "python",
   "pygments_lexer": "ipython3",
   "version": "3.8.10"
  }
 },
 "nbformat": 4,
 "nbformat_minor": 5
}
