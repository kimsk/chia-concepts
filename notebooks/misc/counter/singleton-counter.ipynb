{
 "cells": [
  {
   "cell_type": "markdown",
   "id": "47bddcc6-089f-4823-bd1d-fefb0c86e824",
   "metadata": {},
   "source": [
    "## Prepare Counter (Inner) Puzzle for Singleton"
   ]
  },
  {
   "cell_type": "code",
   "execution_count": 1,
   "id": "9c1eeaa9-ef84-42f7-b790-5955ff371e87",
   "metadata": {},
   "outputs": [
    {
     "name": "stdout",
     "output_type": "stream",
     "text": [
      "... 0x00900ddeed) (c (q . 113) 1))) (c (q . 113) (c (q) 1))))))\n"
     ]
    }
   ],
   "source": [
    "import sys\n",
    "sys.path.insert(0, \"../../../shared\")\n",
    "from utils import (load_program, print_program, print_puzzle, print_json, print_push_tx_result)\n",
    "import singleton_utils\n",
    "\n",
    "from chia.types.blockchain_format.program import Program\n",
    "from clvm_tools.binutils import disassemble\n",
    "\n",
    "counter_puzzle = load_program(\"counter.clsp\", [\"../../../shared\"])\n",
    "terminate_singleton_puzzle = load_program(\"terminate-singleton.clsp\", [\"../../../shared\"])\n",
    "\n",
    "MOD = counter_puzzle\n",
    "AMOUNT = 113 # odd amount\n",
    "MAX_COUNT = 3\n",
    "PUZZLE_HASH = 0x900ddeed\n",
    "START_COUNT = 0\n",
    "TERMINAL_PUZZLE = terminate_singleton_puzzle.curry(PUZZLE_HASH, AMOUNT)\n",
    "puzzle = counter_puzzle.curry(\n",
    "    MOD,\n",
    "    MAX_COUNT,\n",
    "    TERMINAL_PUZZLE,\n",
    "    AMOUNT,\n",
    "    START_COUNT\n",
    ")\n",
    "print_puzzle(puzzle, 60)"
   ]
  },
  {
   "cell_type": "markdown",
   "id": "f7af9f0a-a21f-469b-8c02-e1136116c75b",
   "metadata": {},
   "source": [
    "## Prepare Network & Standard TXN Coin"
   ]
  },
  {
   "cell_type": "code",
   "execution_count": 2,
   "id": "fd5cfe76-10c8-4bef-92e5-e1e2ca324f97",
   "metadata": {},
   "outputs": [
    {
     "name": "stdout",
     "output_type": "stream",
     "text": [
      "alice balance:\t\t2000000000000\n",
      "alice puzzle hash:\t4f45877796d7a64e192bcc9f899afeedae391f71af3afd7e15a0792c049d23d3\n"
     ]
    }
   ],
   "source": [
    "from chia.wallet.puzzles import p2_delegated_puzzle_or_hidden_puzzle\n",
    "from cdv.test import Network, Wallet\n",
    "\n",
    "network: Network = await Network.create()\n",
    "\n",
    "# use as function parameters\n",
    "get_coin_records_by_parent_ids = network.sim_client.get_coin_records_by_parent_ids\n",
    "get_coin_record_by_name = network.sim_client.get_coin_record_by_name\n",
    "get_puzzle_and_solution = network.sim_client.get_puzzle_and_solution        \n",
    "get_block_records = network.sim_client.get_block_records\n",
    "get_additions_and_removals = network.sim_client.get_additions_and_removals\n",
    "\n",
    "await network.farm_block()\n",
    "\n",
    "alice: Wallet = network.make_wallet(\"alice\")\n",
    "await network.farm_block(farmer=alice)\n",
    "\n",
    "print(f'alice balance:\\t\\t{alice.balance()}')\n",
    "print(f'alice puzzle hash:\\t{alice.puzzle_hash}')\n",
    "\n",
    "standard_txn_coin_wrapper = await alice.choose_coin(1_750_000_000_000)\n",
    "standard_txn_coin = standard_txn_coin_wrapper.as_coin()\n",
    "standard_txn_puzzle = p2_delegated_puzzle_or_hidden_puzzle.puzzle_for_pk(alice.pk())"
   ]
  },
  {
   "cell_type": "markdown",
   "id": "69657fe0-dbfa-436b-93e4-5b2e8ebafe48",
   "metadata": {},
   "source": [
    "## Prepare Launcher CoinSpend"
   ]
  },
  {
   "cell_type": "code",
   "execution_count": 3,
   "id": "4b54eafa-687e-488a-900d-8ddbea339b0f",
   "metadata": {},
   "outputs": [
    {
     "name": "stdout",
     "output_type": "stream",
     "text": [
      "\n",
      "launcher id: bb94201a4ac3ca98c688e42f0b65d3dce0bbf648ce56e58280685a304f785a60\n",
      "{\n",
      "    \"coin\": {\n",
      "        \"amount\": 113,\n",
      "        \"parent_coin_info\": \"0x12d7b8c1654f82f2330059abc28e3240e863450706de7fdc518026f393f68bba\",\n",
      "        \"puzzle_hash\": \"0xeff07522495060c066f66f32acc2a77e3a3e737aca8baea4d1a64ea4cdc13da9\"\n",
      "    },\n",
      "    \"puzzle_reveal\": \"0xff02ffff01ff04ffff04ff04ffff04ff05ffff04ff0bff80808080ffff04ffff04ff0affff04ffff02ff0effff04ff02ffff04ffff04ff05ffff04ff0bffff04ff17ff80808080ff80808080ff808080ff808080ffff04ffff01ff33ff3cff02ffff03ffff07ff0580ffff01ff0bffff0102ffff02ff0effff04ff02ffff04ff09ff80808080ffff02ff0effff04ff02ffff04ff0dff8080808080ffff01ff0bffff0101ff058080ff0180ff018080\",\n",
      "    \"solution\": \"0xffa09fb24418ad304910f91fc91b5c80d429c14c8cf30f6570571189ef3a626d3bc6ff71ffffff846e616d6561ffff8b73746172745f636f756e74808080\"\n",
      "}\n"
     ]
    }
   ],
   "source": [
    "from chia.types.blockchain_format.coin import Coin\n",
    "from chia.types.coin_spend import CoinSpend\n",
    "from chia.wallet.puzzles import singleton_top_layer_v1_1\n",
    "\n",
    "launcher_coin = Coin(\n",
    "    standard_txn_coin.name(), \n",
    "    singleton_top_layer_v1_1.SINGLETON_LAUNCHER_HASH, \n",
    "    AMOUNT\n",
    ")\n",
    "launcher_id = launcher_coin.name()\n",
    "print(f'\\nlauncher id: {launcher_id}')\n",
    "\n",
    "singleton_struct = (\n",
    "    singleton_top_layer_v1_1.SINGLETON_MOD_HASH, \n",
    "    (launcher_id, singleton_top_layer_v1_1.SINGLETON_LAUNCHER_HASH)\n",
    ")\n",
    "\n",
    "singleton_puzzle = singleton_top_layer_v1_1.SINGLETON_MOD.curry(\n",
    "    singleton_struct,\n",
    "    puzzle, # counter puzzle\n",
    ")\n",
    "\n",
    "launcher_solution = Program.to(\n",
    "    [\n",
    "        singleton_puzzle.get_tree_hash(),\n",
    "        AMOUNT,\n",
    "        [\n",
    "            (\"name\", \"a\"), \n",
    "            (\"start_count\", START_COUNT)\n",
    "        ]\n",
    "    ]\n",
    ")\n",
    "launcher_announcement = launcher_solution.get_tree_hash()\n",
    "\n",
    "launcher_coin_spend = CoinSpend(\n",
    "    launcher_coin,\n",
    "    singleton_top_layer_v1_1.SINGLETON_LAUNCHER,\n",
    "    launcher_solution\n",
    ")\n",
    "print_json(launcher_coin_spend.to_json_dict())"
   ]
  },
  {
   "cell_type": "markdown",
   "id": "f9929896-6c33-4f21-85dd-3939529e10a4",
   "metadata": {},
   "source": [
    "## Prepare Standard TXN CoinSpend & Signature"
   ]
  },
  {
   "cell_type": "code",
   "execution_count": 4,
   "id": "10b0242f-0eb0-4a77-8635-7ab8143865f6",
   "metadata": {},
   "outputs": [
    {
     "name": "stdout",
     "output_type": "stream",
     "text": [
      "{\n",
      "    \"coin\": {\n",
      "        \"amount\": 1750000000000,\n",
      "        \"parent_coin_info\": \"0xe3b0c44298fc1c149afbf4c8996fb92400000000000000000000000000000001\",\n",
      "        \"puzzle_hash\": \"0x4f45877796d7a64e192bcc9f899afeedae391f71af3afd7e15a0792c049d23d3\"\n",
      "    },\n",
      "    \"puzzle_reveal\": \"0xff02ffff01ff02ffff01ff02ffff03ff0bffff01ff02ffff03ffff09ff05ffff1dff0bffff1effff0bff0bffff02ff06ffff04ff02ffff04ff17ff8080808080808080ffff01ff02ff17ff2f80ffff01ff088080ff0180ffff01ff04ffff04ff04ffff04ff05ffff04ffff02ff06ffff04ff02ffff04ff17ff80808080ff80808080ffff02ff17ff2f808080ff0180ffff04ffff01ff32ff02ffff03ffff07ff0580ffff01ff0bffff0102ffff02ff06ffff04ff02ffff04ff09ff80808080ffff02ff06ffff04ff02ffff04ff0dff8080808080ffff01ff0bffff0101ff058080ff0180ff018080ffff04ffff01b0a042c855d234578415254b7870b711fb25e8f85beaa4a66bd0673d394c761fa156406c2e3bb375d5b18766d2a12cc918ff018080\",\n",
      "    \"solution\": \"0xff80ffff01ffff33ffa0eff07522495060c066f66f32acc2a77e3a3e737aca8baea4d1a64ea4cdc13da9ff7180ffff3dffa05d11d325dc9afbe908d9089f419433a9305681988ce7259d8b66910a09ff981880ffff33ffa04f45877796d7a64e192bcc9f899afeedae391f71af3afd7e15a0792c049d23d3ff8601977420db8f8080ff8080\"\n",
      "}\n"
     ]
    }
   ],
   "source": [
    "from chia.consensus.default_constants import DEFAULT_CONSTANTS\n",
    "from chia.types.blockchain_format.program import Program\n",
    "from chia.types.condition_opcodes import ConditionOpcode\n",
    "from chia.util.hash import std_hash\n",
    "from chia.wallet.puzzles import p2_delegated_puzzle_or_hidden_puzzle\n",
    "\n",
    "standard_txn_coin_conditions = [\n",
    "    # create launcher coin with the odd_amount (odd)\n",
    "    Program.to(\n",
    "        [\n",
    "            ConditionOpcode.CREATE_COIN,\n",
    "            singleton_top_layer_v1_1.SINGLETON_LAUNCHER_HASH,\n",
    "            AMOUNT,\n",
    "        ]),\n",
    "    # assert launcher coin announcement\n",
    "    Program.to(\n",
    "        [\n",
    "            ConditionOpcode.ASSERT_COIN_ANNOUNCEMENT, \n",
    "            std_hash(launcher_id + launcher_announcement)\n",
    "        ]),\n",
    "]\n",
    "if standard_txn_coin.amount > AMOUNT:\n",
    "    standard_txn_coin_conditions = [\n",
    "        *standard_txn_coin_conditions, \n",
    "        Program.to(\n",
    "        [\n",
    "            ConditionOpcode.CREATE_COIN,\n",
    "            standard_txn_coin.puzzle_hash,\n",
    "            standard_txn_coin.amount - AMOUNT,\n",
    "        ])\n",
    "    ]\n",
    "\n",
    "\n",
    "delegated_puzzle = p2_delegated_puzzle_or_hidden_puzzle.puzzle_for_conditions(standard_txn_coin_conditions)\n",
    "solution = p2_delegated_puzzle_or_hidden_puzzle.solution_for_conditions(standard_txn_coin_conditions)\n",
    "\n",
    "standard_txn_coin_spend = CoinSpend(\n",
    "    standard_txn_coin,\n",
    "    standard_txn_puzzle,\n",
    "    solution\n",
    ")\n",
    "\n",
    "standard_coin_message = (\n",
    "    delegated_puzzle.get_tree_hash()\n",
    "    + standard_txn_coin.name()\n",
    "    + DEFAULT_CONSTANTS.AGG_SIG_ME_ADDITIONAL_DATA\n",
    ")\n",
    "\n",
    "\n",
    "# sign the standard txn spend\n",
    "from blspy import AugSchemeMPL, PrivateKey\n",
    "from chia.consensus.default_constants import DEFAULT_CONSTANTS\n",
    "\n",
    "synthetic_sk: PrivateKey = p2_delegated_puzzle_or_hidden_puzzle.calculate_synthetic_secret_key(\n",
    "    alice.sk_,\n",
    "    p2_delegated_puzzle_or_hidden_puzzle.DEFAULT_HIDDEN_PUZZLE_HASH\n",
    ")\n",
    "\n",
    "signature = AugSchemeMPL.sign(synthetic_sk,standard_coin_message)\n",
    "\n",
    "print_json(standard_txn_coin_spend.to_json_dict())"
   ]
  },
  {
   "cell_type": "markdown",
   "id": "d1d94cf2-44d7-4018-9f1a-8d520f3e6a6a",
   "metadata": {},
   "source": [
    "## Create First Singleton Counter"
   ]
  },
  {
   "cell_type": "code",
   "execution_count": 5,
   "id": "1870676b-11d9-4c6a-8c04-6224a70fd129",
   "metadata": {},
   "outputs": [
    {
     "name": "stdout",
     "output_type": "stream",
     "text": [
      "additions:\n",
      "==========\n",
      "{'amount': 113,\n",
      " 'parent_coin_info': '0x12d7b8c1654f82f2330059abc28e3240e863450706de7fdc518026f393f68bba',\n",
      " 'puzzle_hash': '0xeff07522495060c066f66f32acc2a77e3a3e737aca8baea4d1a64ea4cdc13da9'}\n",
      "{'amount': 1749999999887,\n",
      " 'parent_coin_info': '0x12d7b8c1654f82f2330059abc28e3240e863450706de7fdc518026f393f68bba',\n",
      " 'puzzle_hash': '0x4f45877796d7a64e192bcc9f899afeedae391f71af3afd7e15a0792c049d23d3'}\n",
      "{'amount': 113,\n",
      " 'parent_coin_info': '0xbb94201a4ac3ca98c688e42f0b65d3dce0bbf648ce56e58280685a304f785a60',\n",
      " 'puzzle_hash': '0x9fb24418ad304910f91fc91b5c80d429c14c8cf30f6570571189ef3a626d3bc6'}\n",
      "removals:\n",
      "=========\n",
      "{'amount': 1750000000000,\n",
      " 'parent_coin_info': '0xe3b0c44298fc1c149afbf4c8996fb92400000000000000000000000000000001',\n",
      " 'puzzle_hash': '0x4f45877796d7a64e192bcc9f899afeedae391f71af3afd7e15a0792c049d23d3'}\n",
      "{'amount': 113,\n",
      " 'parent_coin_info': '0x12d7b8c1654f82f2330059abc28e3240e863450706de7fdc518026f393f68bba',\n",
      " 'puzzle_hash': '0xeff07522495060c066f66f32acc2a77e3a3e737aca8baea4d1a64ea4cdc13da9'}\n"
     ]
    }
   ],
   "source": [
    "from chia.types.spend_bundle import SpendBundle\n",
    "\n",
    "spend_bundle = SpendBundle(\n",
    "    [standard_txn_coin_spend, launcher_coin_spend],\n",
    "    signature\n",
    ")\n",
    "result = await network.push_tx(spend_bundle)\n",
    "print_push_tx_result(result)"
   ]
  },
  {
   "cell_type": "markdown",
   "id": "c3cd945e-bdf2-4211-a2c6-e5f4432bc283",
   "metadata": {},
   "source": [
    "## Verify Singleton & Launcher Coin Records"
   ]
  },
  {
   "cell_type": "code",
   "execution_count": 6,
   "id": "56f845c4-504e-4f26-85c8-9f7a4b593811",
   "metadata": {},
   "outputs": [
    {
     "name": "stdout",
     "output_type": "stream",
     "text": [
      "{'coin': {'amount': 113,\n",
      "          'parent_coin_info': '0x12d7b8c1654f82f2330059abc28e3240e863450706de7fdc518026f393f68bba',\n",
      "          'puzzle_hash': '0xeff07522495060c066f66f32acc2a77e3a3e737aca8baea4d1a64ea4cdc13da9'},\n",
      " 'coinbase': False,\n",
      " 'confirmed_block_index': 2,\n",
      " 'spent_block_index': 2,\n",
      " 'timestamp': 1}\n",
      "{'coin': {'amount': 113,\n",
      "          'parent_coin_info': '0xbb94201a4ac3ca98c688e42f0b65d3dce0bbf648ce56e58280685a304f785a60',\n",
      "          'puzzle_hash': '0x9fb24418ad304910f91fc91b5c80d429c14c8cf30f6570571189ef3a626d3bc6'},\n",
      " 'coinbase': False,\n",
      " 'confirmed_block_index': 2,\n",
      " 'spent_block_index': 0,\n",
      " 'timestamp': 1}\n"
     ]
    }
   ],
   "source": [
    "launcher_cr = await singleton_utils.get_launcher_coin_record(\n",
    "    get_block_records, get_additions_and_removals, get_puzzle_and_solution, \n",
    "    0, 10, (\"name\", \"a\"))\n",
    "print(launcher_cr)\n",
    "\n",
    "singleton_cr = await singleton_utils.get_last_singleton_coin_record(get_coin_records_by_parent_ids, launcher_id)\n",
    "print(singleton_cr)"
   ]
  },
  {
   "cell_type": "markdown",
   "id": "27299e5a-7796-447c-ae5a-e91487dbc72a",
   "metadata": {},
   "source": [
    "## Spend Singleton And Retrieve Counts"
   ]
  },
  {
   "cell_type": "code",
   "execution_count": 7,
   "id": "6b2f209e-32db-4a21-8b72-8d73d26fc65a",
   "metadata": {},
   "outputs": [
    {
     "data": {
      "text/plain": [
       "0"
      ]
     },
     "execution_count": 7,
     "metadata": {},
     "output_type": "execute_result"
    }
   ],
   "source": [
    "async def get_current_count(singleton_cr, name):\n",
    "    singleton_parent_cr = await get_coin_record_by_name(singleton_cr.coin.parent_coin_info)\n",
    "    count = None\n",
    "    if singleton_parent_cr != None:\n",
    "        if singleton_parent_cr.coin.puzzle_hash == singleton_top_layer_v1_1.SINGLETON_LAUNCHER_HASH:\n",
    "            launcher_cr = await singleton_utils.get_launcher_coin_record(\n",
    "                                get_block_records, get_additions_and_removals, get_puzzle_and_solution, \n",
    "                                0, 10, (\"name\", name)\n",
    "            )\n",
    "            coin_spent = await get_puzzle_and_solution(launcher_cr.coin.name(), launcher_cr.spent_block_index)\n",
    "            kv_list = coin_spent.solution.to_program().at(\"rrf\").as_iter()\n",
    "            for kv in kv_list:\n",
    "                k = kv.first()\n",
    "                if k == \"start_count\":\n",
    "                    v = kv.rest().as_int()\n",
    "                    count = v\n",
    "        else:\n",
    "            coin_spent = await get_puzzle_and_solution(singleton_parent_cr.coin.name(), singleton_parent_cr.spent_block_index)\n",
    "            print_program(coin_spent.puzzle_reveal.to_program())\n",
    "            \n",
    "            print(\"singleton\")\n",
    "    return count\n",
    "\n",
    "current_count = await get_current_count(singleton_cr, \"a\")\n",
    "current_count"
   ]
  },
  {
   "cell_type": "code",
   "execution_count": 8,
   "id": "f71222fb-d639-4b8b-9a30-faed2b648298",
   "metadata": {},
   "outputs": [
    {
     "name": "stdout",
     "output_type": "stream",
     "text": [
      "{'amount': 113,\n",
      " 'parent_coin_info': '0xbb94201a4ac3ca98c688e42f0b65d3dce0bbf648ce56e58280685a304f785a60',\n",
      " 'puzzle_hash': '0x9fb24418ad304910f91fc91b5c80d429c14c8cf30f6570571189ef3a626d3bc6'}\n",
      "singleton_coin:\n",
      "{'amount': 113,\n",
      " 'parent_coin_info': '0xbb94201a4ac3ca98c688e42f0b65d3dce0bbf648ce56e58280685a304f785a60',\n",
      " 'puzzle_hash': '0x9fb24418ad304910f91fc91b5c80d429c14c8cf30f6570571189ef3a626d3bc6'}\n",
      "\n",
      "lineage_proof:\n",
      "{'amount': 113,\n",
      " 'inner_puzzle_hash': None,\n",
      " 'parent_name': '0x12d7b8c1654f82f2330059abc28e3240e863450706de7fdc518026f393f68bba'}\n",
      "\n",
      "inner_solution:\n",
      "80\n",
      "\n",
      "singleton_puzzle:\n",
      "9fb24418ad304910f91fc91b5c80d429c14c8cf30f6570571189ef3a626d3bc6\n",
      "\n",
      "singleton_coin_spend:\n"
     ]
    },
    {
     "ename": "NameError",
     "evalue": "name 'singleton_coin_spend' is not defined",
     "output_type": "error",
     "traceback": [
      "\u001b[0;31m---------------------------------------------------------------------------\u001b[0m",
      "\u001b[0;31mNameError\u001b[0m                                 Traceback (most recent call last)",
      "Input \u001b[0;32mIn [8]\u001b[0m, in \u001b[0;36m<cell line: 38>\u001b[0;34m()\u001b[0m\n\u001b[1;32m     35\u001b[0m \u001b[38;5;28mprint\u001b[39m(\u001b[38;5;124mf\u001b[39m\u001b[38;5;124m'\u001b[39m\u001b[38;5;130;01m\\n\u001b[39;00m\u001b[38;5;124msingleton_puzzle:\u001b[39m\u001b[38;5;130;01m\\n\u001b[39;00m\u001b[38;5;132;01m{\u001b[39;00msingleton_puzzle\u001b[38;5;241m.\u001b[39mget_tree_hash()\u001b[38;5;132;01m}\u001b[39;00m\u001b[38;5;124m'\u001b[39m)\n\u001b[1;32m     37\u001b[0m \u001b[38;5;28mprint\u001b[39m(\u001b[38;5;124m'\u001b[39m\u001b[38;5;130;01m\\n\u001b[39;00m\u001b[38;5;124msingleton_coin_spend:\u001b[39m\u001b[38;5;124m'\u001b[39m)\n\u001b[0;32m---> 38\u001b[0m print_json(\u001b[43msingleton_coin_spend\u001b[49m\u001b[38;5;241m.\u001b[39mto_json_dict())\n",
      "\u001b[0;31mNameError\u001b[0m: name 'singleton_coin_spend' is not defined"
     ]
    }
   ],
   "source": [
    "network.sim.pass_blocks(1)\n",
    "coin_spend = launcher_coin_spend # eve spend\n",
    "lineage_proof = singleton_top_layer_v1_1.lineage_proof_for_coinsol(coin_spend)\n",
    "\n",
    "# prepare puzzle reveal\n",
    "puzzle = counter_puzzle.curry(\n",
    "    MOD,\n",
    "    MAX_COUNT,\n",
    "    TERMINAL_PUZZLE,\n",
    "    AMOUNT,\n",
    "    current_count\n",
    ")\n",
    "singleton_puzzle = singleton_top_layer_v1_1.SINGLETON_MOD.curry(\n",
    "            singleton_struct,\n",
    "            puzzle,\n",
    "    )\n",
    "\n",
    "singleton_coin = await singleton_utils.get_unspent_singleton(\n",
    "    get_coin_records_by_parent_ids, \n",
    "    launcher_id)\n",
    "print(singleton_coin)\n",
    "\n",
    "\n",
    "lineage_proof = singleton_top_layer_v1_1.lineage_proof_for_coinsol(launcher_coin_spend)\n",
    "\n",
    "inner_solution = Program.to([])\n",
    "\n",
    "coin_spend = singleton_utils.get_singleton_coin_spend(\n",
    "        singleton_coin, singleton_puzzle, lineage_proof, inner_solution\n",
    "    )\n",
    "\n",
    "print(f'singleton_coin:\\n{singleton_coin}')\n",
    "print(f'\\nlineage_proof:\\n{lineage_proof}')\n",
    "print(f'\\ninner_solution:\\n{inner_solution}')\n",
    "print(f'\\nsingleton_puzzle:\\n{singleton_puzzle.get_tree_hash()}')\n",
    "\n",
    "print('\\nsingleton_coin_spend:')\n",
    "print_json(singleton_coin_spend.to_json_dict())"
   ]
  },
  {
   "cell_type": "code",
   "execution_count": null,
   "id": "3a7fba26-ff91-4556-9bb4-872f44d28b0c",
   "metadata": {},
   "outputs": [],
   "source": [
    "from blspy import (G2Element)\n",
    "from chia.types.spend_bundle import SpendBundle\n",
    "\n",
    "spend_bundle = SpendBundle(\n",
    "    [coin_spend],\n",
    "    G2Element()\n",
    ")\n",
    "result = await network.push_tx(spend_bundle)\n",
    "print_push_tx_result(result)"
   ]
  },
  {
   "cell_type": "code",
   "execution_count": 10,
   "id": "2ad209cc-d7c2-45e8-a940-56a4a5594922",
   "metadata": {},
   "outputs": [
    {
     "name": "stdout",
     "output_type": "stream",
     "text": [
      "{'coin': {'amount': 113,\n",
      "          'parent_coin_info': '0xc7585cba34ae1b0e20cbcaeb55b20a654d869858c35114ca317054d43c1b93f1',\n",
      "          'puzzle_hash': '0xd6c086ce7cb127c2843d6ad38d185860123e0d531af4404cbffd54fa642c7a19'},\n",
      " 'coinbase': False,\n",
      " 'confirmed_block_index': 4,\n",
      " 'spent_block_index': 0,\n",
      " 'timestamp': 1}\n",
      "(a (q 2 (q 2 (i (logand 47 52) (q 4 (c 32 (c 47 ())) (c (a 62 (c 2 (c 5 (c (a 42 (c 2 (c 39 (c (a (i 119 (q 2 54 (c 2 (c 9 (c 87 (c (a 46 (c 2 (c 5 ()))) ()))))) (q . 29)) 1) (c (a (i 119 (q . -73) (q . 87)) 1) ()))))) (c 119 ()))))) (a 58 (c 2 (c 5 (c (a 11 95) (q ()))))))) (q 8)) 1) (c (q (((73 . 71) 2 . 51) (c . 1) 1 . 2) ((not 2 (i 5 (q 2 50 (c 2 (c 13 (c (sha256 60 (sha256 52 36) (sha256 60 (sha256 60 (sha256 52 44) 9) (sha256 60 11 (sha256 52 ())))) ())))) (q . 11)) 1) (a (i (all (= (strlen 5) 34) (= (strlen 11) 34) (> 23 (q . -1))) (q 11 5 11 23) (q 8)) 1) 2 (i 11 (q 2 (i (a 38 (c 2 (c 19 ()))) (q 2 (i (not 23) (q 2 (i (= -77 (q . -113)) (q 2 58 (c 2 (c 5 (c 27 (c 52 ()))))) (q 4 (c 35 (c (a 54 (c 2 (c 9 (c 83 (c (a 46 (c 2 (c 5 ()))) ()))))) 115)) (a 58 (c 2 (c 5 (c 27 (c 52 ()))))))) 1) (q 8)) 1) (q 4 19 (a 58 (c 2 (c 5 (c 27 (c 23 ()))))))) 1) (q 2 (i 23 () (q 8)) 1)) 1) ((a (i (= 9 56) (q 2 (i (logand 45 (q . 1)) (q 1 . 1) ()) 1) ()) 1) 11 60 (sha256 52 40) (sha256 60 (sha256 60 (sha256 52 44) 5) (sha256 60 (a 50 (c 2 (c 7 (c (sha256 52 52) ())))) (sha256 52 ())))) (a (i (l 5) (q 11 (q . 2) (a 46 (c 2 (c 9 ()))) (a 46 (c 2 (c 13 ())))) (q 11 (q . 1) 5)) 1) 2 (i (any 23 (= 11 21)) (q 4 48 (c 11 ())) (q 8)) 1) 1)) (c (q 0x7faa3253bfddd1e0decb0906b2dc6247bbc4cf608f58345d173adb63e8b47c9f 0xbb94201a4ac3ca98c688e42f0b65d3dce0bbf648ce56e58280685a304f785a60 . 0xeff07522495060c066f66f32acc2a77e3a3e737aca8baea4d1a64ea4cdc13da9) (c (q 2 (q 2 (q 2 (i (= 11 95) (q 2 23 ()) (q 2 12 (c 2 (c 5 (c 11 (c 23 (c 47 (c 95 ())))))))) 1) (c (q (51 4 (c 8 (c (a 30 (c 2 (c (a 10 (c 2 (c 5 (c (c 5 (c 11 (c 23 (c 47 (c (+ 95 (q . 1)) ()))))) ())))) ()))) (c 47 ()))) ()) (c (q . 2) (c (c (q . 1) 5) (c (a 22 (c 2 (c 11 (q 1)))) ()))) (a (i 5 (q 4 (q . 4) (c (c (q . 1) 9) (c (a 22 (c 2 (c 13 (c 11 ())))) ()))) (q . 11)) 1) 2 (i (l 5) (q 11 (q . 2) (a 30 (c 2 (c 9 ()))) (a 30 (c 2 (c 13 ())))) (q 11 (q . 1) 5)) 1) 1)) (c (q 2 (q 2 (i (= 11 95) (q 2 23 ()) (q 2 12 (c 2 (c 5 (c 11 (c 23 (c 47 (c 95 ())))))))) 1) (c (q (51 4 (c 8 (c (a 30 (c 2 (c (a 10 (c 2 (c 5 (c (c 5 (c 11 (c 23 (c 47 (c (+ 95 (q . 1)) ()))))) ())))) ()))) (c 47 ()))) ()) (c (q . 2) (c (c (q . 1) 5) (c (a 22 (c 2 (c 11 (q 1)))) ()))) (a (i 5 (q 4 (q . 4) (c (c (q . 1) 9) (c (a 22 (c 2 (c 13 (c 11 ())))) ()))) (q . 11)) 1) 2 (i (l 5) (q 11 (q . 2) (a 30 (c 2 (c 9 ()))) (a 30 (c 2 (c 13 ())))) (q 11 (q . 1) 5)) 1) 1)) (c (q . 3) (c (q 2 (q 2 (q 4 (c 2 (c 5 (q -113))) (c (a (i (logand 11 (q . 1)) (q 4 2 (c 5 (c (- 11 (q . 1)) ()))) (q 4 2 (c 5 (c 11 ())))) 1) ())) (c (q . 51) 1)) (c (q . 0x00900ddeed) (c (q . 113) 1))) (c (q . 113) (c (q) 1)))))) 1)))\n",
      "singleton\n"
     ]
    }
   ],
   "source": [
    "singleton_cr = await singleton_utils.get_last_singleton_coin_record(get_coin_records_by_parent_ids, launcher_id)\n",
    "print(singleton_cr)\n",
    "current_count = await get_current_count(singleton_cr, \"a\")\n",
    "current_count"
   ]
  },
  {
   "cell_type": "code",
   "execution_count": null,
   "id": "9a2db40d-8d6b-4699-801c-ca1773f82014",
   "metadata": {},
   "outputs": [],
   "source": []
  }
 ],
 "metadata": {
  "kernelspec": {
   "display_name": "Python 3 (ipykernel)",
   "language": "python",
   "name": "python3"
  },
  "language_info": {
   "codemirror_mode": {
    "name": "ipython",
    "version": 3
   },
   "file_extension": ".py",
   "mimetype": "text/x-python",
   "name": "python",
   "nbconvert_exporter": "python",
   "pygments_lexer": "ipython3",
   "version": "3.8.10"
  }
 },
 "nbformat": 4,
 "nbformat_minor": 5
}
