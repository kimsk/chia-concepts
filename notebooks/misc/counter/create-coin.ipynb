{
 "cells": [
  {
   "cell_type": "code",
   "execution_count": 1,
   "id": "db9f2a25-e184-4736-a7ee-1c227099027e",
   "metadata": {},
   "outputs": [
    {
     "name": "stdout",
     "output_type": "stream",
     "text": [
      "1.4.0\n",
      "cdv, version 1.0.8\n"
     ]
    }
   ],
   "source": [
    "%%bash\n",
    "chia version\n",
    "cdv --version"
   ]
  },
  {
   "cell_type": "code",
   "execution_count": 2,
   "id": "3380b1c5-c102-4786-85ce-fdac9e10d58e",
   "metadata": {},
   "outputs": [
    {
     "name": "stdout",
     "output_type": "stream",
     "text": [
      "d5b0cadac424ef077dc8eacc449d0bb8544639cc39f5462a48a8d6b5750a4483\n",
      "e016e18ebf275a5e0dfba0ba7d76c6969a727ef903de57a37386afef944fbe79\n"
     ]
    }
   ],
   "source": [
    "import sys\n",
    "sys.path.insert(0, \"../../../shared\")\n",
    "from utils import (load_program, print_program, print_puzzle)\n",
    "\n",
    "from chia.types.blockchain_format.program import Program\n",
    "\n",
    "counter_puzzle = load_program(\"counter.clsp\", [\"../../../shared\"])\n",
    "create_coin_puzzle =  load_program(\"create-coin.clsp\", [\"../../../shared\"])\n",
    "print(counter_puzzle.get_tree_hash())\n",
    "print(create_coin_puzzle.get_tree_hash())"
   ]
  },
  {
   "cell_type": "code",
   "execution_count": 3,
   "id": "688c0940-4283-4d97-b483-e25a3d781dd7",
   "metadata": {},
   "outputs": [
    {
     "name": "stdout",
     "output_type": "stream",
     "text": [
      "2206e10bac429d1f751e36f8feefffcaf81590b85c8112178a91cabe424ba9c0\n"
     ]
    }
   ],
   "source": [
    "MOD = counter_puzzle\n",
    "AMOUNT = 112\n",
    "MAX_COUNT = 3\n",
    "PUZZLE_HASH = 0x900ddeed\n",
    "START_COUNT = 0\n",
    "TERMINAL_PUZZLE = create_coin_puzzle.curry(PUZZLE_HASH, AMOUNT)\n",
    "puzzle = counter_puzzle.curry(\n",
    "    MOD,\n",
    "    MAX_COUNT,\n",
    "    TERMINAL_PUZZLE,\n",
    "    AMOUNT,\n",
    "    START_COUNT\n",
    ")\n",
    "print(puzzle.get_tree_hash())"
   ]
  },
  {
   "cell_type": "code",
   "execution_count": 4,
   "id": "27a73a8e-b43a-4b0c-8cb1-c372cedd318f",
   "metadata": {},
   "outputs": [
    {
     "name": "stdout",
     "output_type": "stream",
     "text": [
      "... 0x00900ddeed) (c (q . 112) 1))) (c (q . 112) (c (q) 1))))))\n",
      "((51 0x680fceade0f1b4b16e612d9b1d48ee90ceb0e32a3c1652be9c89ce4f05d7c4a3 112))\n",
      "680fceade0f1b4b16e612d9b1d48ee90ceb0e32a3c1652be9c89ce4f05d7c4a3\n",
      "...0900ddeed) (c (q . 112) 1))) (c (q . 112) (c (q . 1) 1))))))\n",
      "((51 0x6217555e127f79e3cf9ffba852949a2d1a3b8fa69ca70805037e73ccadc2e59e 112))\n",
      "6217555e127f79e3cf9ffba852949a2d1a3b8fa69ca70805037e73ccadc2e59e\n",
      "...0900ddeed) (c (q . 112) 1))) (c (q . 112) (c (q . 2) 1))))))\n",
      "((51 0x964c8ed7ec2aac80addcab109f0fb58d369634b526fbac08a5c42e39f9980ff5 112))\n",
      "964c8ed7ec2aac80addcab109f0fb58d369634b526fbac08a5c42e39f9980ff5\n",
      "(a (q 2 (q 2 (i (= 11 95) (q 2 23 ()) (q 2 12 (c 2 (c 5 (c 11 (c 23 (c 47 (c 95 ())))))))) 1) (c (q (51 4 (c 8 (c (a 30 (c 2 (c (a 10 (c 2 (c 5 (c (c 5 (c 11 (c 23 (c 47 (c (+ 95 (q . 1)) ()))))) ())))) ()))) (c 47 ()))) ()) (c (q . 2) (c (c (q . 1) 5) (c (a 22 (c 2 (c 11 (q 1)))) ()))) (a (i 5 (q 4 (q . 4) (c (c (q . 1) 9) (c (a 22 (c 2 (c 13 (c 11 ())))) ()))) (q . 11)) 1) 2 (i (l 5) (q 11 (q . 2) (a 30 (c 2 (c 9 ()))) (a 30 (c 2 (c 13 ())))) (q 11 (q . 1) 5)) 1) 1)) (c (q 2 (q 2 (i (= 11 95) (q 2 23 ()) (q 2 12 (c 2 (c 5 (c 11 (c 23 (c 47 (c 95 ())))))))) 1) (c (q (51 4 (c 8 (c (a 30 (c 2 (c (a 10 (c 2 (c 5 (c (c 5 (c 11 (c 23 (c 47 (c (+ 95 (q . 1)) ()))))) ())))) ()))) (c 47 ()))) ()) (c (q . 2) (c (c (q . 1) 5) (c (a 22 (c 2 (c 11 (q 1)))) ()))) (a (i 5 (q 4 (q . 4) (c (c (q . 1) 9) (c (a 22 (c 2 (c 13 (c 11 ())))) ()))) (q . 11)) 1) 2 (i (l 5) (q 11 (q . 2) (a 30 (c 2 (c 9 ()))) (a 30 (c 2 (c 13 ())))) (q 11 (q . 1) 5)) 1) 1)) (c (q . 3) (c (q 2 (q 2 (q 4 (c 2 (c 5 (c 11 ()))) ()) (c (q . 51) 1)) (c (q . 0x00900ddeed) (c (q . 112) 1))) (c (q . 112) (c (q . 3) 1))))))\n",
      "((51 0x00900ddeed 112))\n"
     ]
    }
   ],
   "source": [
    "from clvm_tools.binutils import disassemble\n",
    "def run_puzzle(puzzle):\n",
    "    result = puzzle.run(Program.to([]))\n",
    "    print_program(result)\n",
    "\n",
    "print_puzzle(puzzle, tail=60)\n",
    "run_puzzle(puzzle)\n",
    "puzzle = counter_puzzle.curry(MOD, MAX_COUNT, TERMINAL_PUZZLE, AMOUNT, START_COUNT + 1)\n",
    "print(puzzle.get_tree_hash())\n",
    "\n",
    "print_puzzle(puzzle, 60)\n",
    "run_puzzle(puzzle)\n",
    "puzzle = counter_puzzle.curry(MOD, MAX_COUNT, TERMINAL_PUZZLE, AMOUNT, START_COUNT + 2)\n",
    "print(puzzle.get_tree_hash())\n",
    "\n",
    "print_puzzle(puzzle, 60)\n",
    "run_puzzle(puzzle)\n",
    "puzzle = counter_puzzle.curry(MOD, MAX_COUNT, TERMINAL_PUZZLE, AMOUNT, START_COUNT + 3)\n",
    "print(puzzle.get_tree_hash())\n",
    "\n",
    "print_puzzle(puzzle)\n",
    "run_puzzle(puzzle)"
   ]
  },
  {
   "cell_type": "markdown",
   "id": "94e3587e-05ed-4f16-b57b-18982fef4010",
   "metadata": {},
   "source": [
    "## Notes\n",
    "\n",
    "### current count\n",
    "\n",
    "The current count is embedded inside the puzzle as curried value. To get it, we could get the `puzzle_reveal` of the previous `coin_spend` from the blockchain and pull the value from the puzzle.\n",
    "\n",
    "```clojure\n",
    "(a ... (c (q . 42) 1))))))\n",
    "```\n"
   ]
  },
  {
   "cell_type": "code",
   "execution_count": 5,
   "id": "bbb293db-f64b-406f-bc53-1925e32873e1",
   "metadata": {},
   "outputs": [
    {
     "name": "stdout",
     "output_type": "stream",
     "text": [
      "42\n"
     ]
    }
   ],
   "source": [
    "puzzle = counter_puzzle.curry(MOD, MAX_COUNT, TERMINAL_PUZZLE, AMOUNT, 42)\n",
    "count = puzzle.at(\"rrfrrfrrfrrfrrfrfr\").as_int()\n",
    "print(count)"
   ]
  }
 ],
 "metadata": {
  "kernelspec": {
   "display_name": "Python 3 (ipykernel)",
   "language": "python",
   "name": "python3"
  },
  "language_info": {
   "codemirror_mode": {
    "name": "ipython",
    "version": 3
   },
   "file_extension": ".py",
   "mimetype": "text/x-python",
   "name": "python",
   "nbconvert_exporter": "python",
   "pygments_lexer": "ipython3",
   "version": "3.8.10"
  }
 },
 "nbformat": 4,
 "nbformat_minor": 5
}
