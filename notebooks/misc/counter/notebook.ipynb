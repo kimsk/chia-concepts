{
 "cells": [
  {
   "cell_type": "markdown",
   "id": "82c20db1-a385-4c07-abae-fb2850217439",
   "metadata": {},
   "source": [
    "# Counter\n",
    "\n",
    "In this notebook, we create several puzzles to implement counter (0 to `MAX_COUNT`).\n",
    "\n",
    "This exmple demostrates several Chia concepts and design patterns:\n",
    "1. [Outer and Inner puzzles](https://chialisp.com/docs/common_functions#outer-and-inner-puzzles)\n",
    "2. [Currying](https://chialisp.com/docs/common_functions#currying)\n",
    "3. [Singleton](https://chialisp.com/docs/puzzles/singletons)\n",
    "    - [notebook](https://github.com/kimsk/chia-concepts/blob/main/notebooks/intermediate/singleton/notebook.ipynb)\n",
    "    - [singleton_top_layer_v1_1.clvm](https://github.com/Chia-Network/chia-blockchain/blob/main/chia/wallet/puzzles/singleton_top_layer_v1_1.clvm)\n",
    "    - [singleton_top_layer_v1_1.py](https://github.com/Chia-Network/chia-blockchain/blob/main/chia/wallet/puzzles/singleton_top_layer_v1_1.py)\n",
    "4. [Storing State](https://developers.chia.net/t/can-you-store-state-on-the-network/84)\n",
    "    - Deriving current state from previous coin spend"
   ]
  },
  {
   "cell_type": "markdown",
   "id": "29f0503c-fad6-48bf-b71e-3ffd4416f738",
   "metadata": {},
   "source": [
    "### [counter.clsp](counter.clsp)\n",
    "\n",
    "This is the main puzzle storing the current count. When a coin with this puzzle is spent, a new coin with `count + 1` is created. A `TERMINAL_PUZZLE` can be provided to customize the output of the last coin (when `COUNT` is equal to the `MAX_COUNT`).  \n",
    "\n",
    "```clojure\n",
    "; MOD: the puzzle itself\n",
    "; MAX_COUNT: maximum count\n",
    "; TERMINAL_PUZZLE: an inner puzzle run when the count reach maximum\n",
    "; AMOUNT: coin amount (odd for singleton)\n",
    "; COUNT: current count\n",
    "\n",
    "(mod (MOD MAX_COUNT TERMINAL_PUZZLE AMOUNT COUNT)\n",
    "    (include condition_codes.clib)\n",
    "    (include utils.clib)\n",
    "\n",
    "    (defun create-next-counter (MOD MAX_COUNT TERMINAL_PUZZLE AMOUNT COUNT)\n",
    "        (list\n",
    "            (list CREATE_COIN \n",
    "                (sha256tree\n",
    "                        (curry\n",
    "                            MOD\n",
    "                            (list\n",
    "                                MOD MAX_COUNT TERMINAL_PUZZLE AMOUNT\n",
    "                                (+ COUNT 1) ; increase count by one\n",
    "                            )\n",
    "                        )\n",
    "                )\n",
    "                AMOUNT\n",
    "            )\n",
    "        )\n",
    "    )\n",
    "\n",
    "    (if (= MAX_COUNT COUNT)\n",
    "        (a TERMINAL_PUZZLE ()) ; Terminated\n",
    "        (create-next-counter MOD MAX_COUNT TERMINAL_PUZZLE AMOUNT COUNT)\n",
    "    )\n",
    ")    \n",
    "```"
   ]
  },
  {
   "cell_type": "markdown",
   "id": "a68af479-3ff3-4827-b8cd-3987868aee00",
   "metadata": {},
   "source": [
    "### Terminal Puzzle\n",
    "\n",
    "The terminal puzzles are inner puzzles providing the terminal conditions for the counter puzzle. The `create-coin` puzzle will just create a new coin while the `terminate-singleton` puzzle will also provide `-113` which is a terminate signal for the standard [singleton top layer puzzle](https://github.com/Chia-Network/chia-blockchain/blob/main/chia/wallet/puzzles/singleton_top_layer_v1_1.clvm). \n",
    "\n",
    "#### [create-coin.clsp](create-coin.clsp)\n",
    "\n",
    "```clojure\n",
    "(mod (PUZZLE_HASH AMOUNT)\n",
    "    (include condition_codes.clib)\n",
    "\n",
    "    (list\n",
    "        (list CREATE_COIN PUZZLE_HASH AMOUNT)\n",
    "    )\n",
    ")\n",
    "```\n",
    "\n",
    "#### [terminate-singleton.clsp](terminate-singleton.clsp)\n",
    "```clojure\n",
    "(mod (PUZZLE_HASH AMOUNT)\n",
    "    (include condition_codes.clib)\n",
    "\n",
    "    (list\n",
    "        (list CREATE_COIN PUZZLE_HASH -113) ; terminate singleton\n",
    "        (if (logand AMOUNT 1) ; create even amount\n",
    "            (list CREATE_COIN PUZZLE_HASH (- AMOUNT 1)) \n",
    "            (list CREATE_COIN PUZZLE_HASH AMOUNT)\n",
    "        )\n",
    "    )\n",
    ")\n",
    "```"
   ]
  },
  {
   "cell_type": "markdown",
   "id": "64742b95-eae2-42d0-9657-71f5a5295bba",
   "metadata": {},
   "source": [
    "## Notebooks\n",
    "\n",
    "See the working examples via the notebooks:\n",
    "\n",
    "- [create-coin notebook](create-coin.ipynb)\n",
    "- [terminate-singleton notebook](terminate-singleton.ipynb)"
   ]
  }
 ],
 "metadata": {
  "kernelspec": {
   "display_name": "Python 3 (ipykernel)",
   "language": "python",
   "name": "python3"
  },
  "language_info": {
   "codemirror_mode": {
    "name": "ipython",
    "version": 3
   },
   "file_extension": ".py",
   "mimetype": "text/x-python",
   "name": "python",
   "nbconvert_exporter": "python",
   "pygments_lexer": "ipython3",
   "version": "3.8.10"
  }
 },
 "nbformat": 4,
 "nbformat_minor": 5
}
