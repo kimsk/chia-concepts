{
 "cells": [
  {
   "cell_type": "code",
   "execution_count": 1,
   "id": "0b771b4e-1066-4314-80b7-50e6e85ddae4",
   "metadata": {},
   "outputs": [],
   "source": [
    "import aiosqlite\n",
    "from pathlib import Path\n",
    "DB_VERSION = 2\n",
    "DB_PATH = Path(f'/Users/karlkim/.chia/simulator/hints/db/blockchain_v2_simulator0.sqlite')"
   ]
  },
  {
   "cell_type": "code",
   "execution_count": 2,
   "id": "9824161a-3149-46ba-a546-e87940a10c44",
   "metadata": {},
   "outputs": [
    {
     "name": "stdout",
     "output_type": "stream",
     "text": [
      "0\n",
      "1\n",
      "2\n",
      "3\n",
      "4\n",
      "5\n"
     ]
    }
   ],
   "source": [
    "from chia.consensus.block_record import BlockRecord\n",
    "query = f\"\"\"SELECT block_record FROM full_blocks\"\"\"\n",
    "async with aiosqlite.connect(DB_PATH) as db:\n",
    "    async with db.execute(query) as cursor:\n",
    "        async for row in cursor:\n",
    "            block_record = BlockRecord.from_bytes(row[0])\n",
    "            print(block_record.height)"
   ]
  }
 ],
 "metadata": {
  "kernelspec": {
   "display_name": "Python 3 (ipykernel)",
   "language": "python",
   "name": "python3"
  },
  "language_info": {
   "codemirror_mode": {
    "name": "ipython",
    "version": 3
   },
   "file_extension": ".py",
   "mimetype": "text/x-python",
   "name": "python",
   "nbconvert_exporter": "python",
   "pygments_lexer": "ipython3",
   "version": "3.10.8"
  }
 },
 "nbformat": 4,
 "nbformat_minor": 5
}
