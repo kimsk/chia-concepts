{
 "cells": [
  {
   "cell_type": "code",
   "execution_count": 1,
   "id": "0b771b4e-1066-4314-80b7-50e6e85ddae4",
   "metadata": {},
   "outputs": [],
   "source": [
    "import aiosqlite\n",
    "from pathlib import Path\n",
    "DB_VERSION = 2\n",
    "DB_PATH = Path(f'/Users/karlkim/.chia/simulator/hints/db/blockchain_v2_simulator0.sqlite')"
   ]
  },
  {
   "cell_type": "code",
   "execution_count": 4,
   "id": "9824161a-3149-46ba-a546-e87940a10c44",
   "metadata": {},
   "outputs": [
    {
     "name": "stdout",
     "output_type": "stream",
     "text": [
      "586d7cc57c40ab6dd4daafdc5de0008c30777ef5fb95102bcbb4e841373210d9\n",
      "7d91b636f8174f505c6c81052b9a08647628244d6976652e61c10502db4d374c\n",
      "b5aadeddb982b9815a2a0282b82aa2cded04cfef5a5c91b7b936c77fe68af7fe\n",
      "24ca69f2ce331f1fd33d0353d2ead52c3655f69063724a728274925b26fe2d28\n",
      "ec02ba90cbefa3b58863d2fadd1266d76e9e7de9250efdbd0f76ff1a632cf528\n",
      "67c6c0a1cbebb5f45b27f93679f350c13029b7e5579bf67079a2f3ea2f71dd0f\n"
     ]
    }
   ],
   "source": [
    "from chia.consensus.block_record import BlockRecord\n",
    "query = f\"\"\"SELECT block_record FROM full_blocks\"\"\"\n",
    "async with aiosqlite.connect(DB_PATH) as db:\n",
    "    async with db.execute(query) as cursor:\n",
    "        async for row in cursor:\n",
    "            block_record = BlockRecord.from_bytes(row[0])\n",
    "            print(block_record.header_hash.hex())"
   ]
  }
 ],
 "metadata": {
  "kernelspec": {
   "display_name": "Python 3 (ipykernel)",
   "language": "python",
   "name": "python3"
  },
  "language_info": {
   "codemirror_mode": {
    "name": "ipython",
    "version": 3
   },
   "file_extension": ".py",
   "mimetype": "text/x-python",
   "name": "python",
   "nbconvert_exporter": "python",
   "pygments_lexer": "ipython3",
   "version": "3.10.8"
  }
 },
 "nbformat": 4,
 "nbformat_minor": 5
}
