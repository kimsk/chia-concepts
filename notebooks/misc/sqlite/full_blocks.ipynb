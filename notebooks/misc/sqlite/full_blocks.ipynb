{
 "cells": [
  {
   "cell_type": "code",
   "execution_count": 2,
   "id": "0b771b4e-1066-4314-80b7-50e6e85ddae4",
   "metadata": {},
   "outputs": [],
   "source": [
    "import aiosqlite\n",
    "from pathlib import Path\n",
    "DB_VERSION = 2\n",
    "DB_PATH = Path(f'/Users/karlkim/.chia/simulator/hints/db/blockchain_v2_simulator0.sqlite')"
   ]
  },
  {
   "cell_type": "code",
   "execution_count": 3,
   "id": "9824161a-3149-46ba-a546-e87940a10c44",
   "metadata": {},
   "outputs": [
    {
     "data": {
      "text/html": [
       "<pre style=\"white-space:pre;overflow-x:auto;line-height:normal;font-family:Menlo,'DejaVu Sans Mono',consolas,'Courier New',monospace\">586d7cc57c40ab6dd4daafdc5de0008c30777ef5fb95102bcbb4e841373210d9\n",
       "</pre>\n"
      ],
      "text/plain": [
       "586d7cc57c40ab6dd4daafdc5de0008c30777ef5fb95102bcbb4e841373210d9\n"
      ]
     },
     "metadata": {},
     "output_type": "display_data"
    },
    {
     "data": {
      "text/html": [
       "<pre style=\"white-space:pre;overflow-x:auto;line-height:normal;font-family:Menlo,'DejaVu Sans Mono',consolas,'Courier New',monospace\">7d91b636f8174f505c6c81052b9a08647628244d6976652e61c10502db4d374c\n",
       "</pre>\n"
      ],
      "text/plain": [
       "7d91b636f8174f505c6c81052b9a08647628244d6976652e61c10502db4d374c\n"
      ]
     },
     "metadata": {},
     "output_type": "display_data"
    },
    {
     "data": {
      "text/html": [
       "<pre style=\"white-space:pre;overflow-x:auto;line-height:normal;font-family:Menlo,'DejaVu Sans Mono',consolas,'Courier New',monospace\">b5aadeddb982b9815a2a0282b82aa2cded04cfef5a5c91b7b936c77fe68af7fe\n",
       "</pre>\n"
      ],
      "text/plain": [
       "b5aadeddb982b9815a2a0282b82aa2cded04cfef5a5c91b7b936c77fe68af7fe\n"
      ]
     },
     "metadata": {},
     "output_type": "display_data"
    },
    {
     "data": {
      "text/html": [
       "<pre style=\"white-space:pre;overflow-x:auto;line-height:normal;font-family:Menlo,'DejaVu Sans Mono',consolas,'Courier New',monospace\">24ca69f2ce331f1fd33d0353d2ead52c3655f69063724a728274925b26fe2d28\n",
       "</pre>\n"
      ],
      "text/plain": [
       "24ca69f2ce331f1fd33d0353d2ead52c3655f69063724a728274925b26fe2d28\n"
      ]
     },
     "metadata": {},
     "output_type": "display_data"
    },
    {
     "data": {
      "text/html": [
       "<pre style=\"white-space:pre;overflow-x:auto;line-height:normal;font-family:Menlo,'DejaVu Sans Mono',consolas,'Courier New',monospace\">ec02ba90cbefa3b58863d2fadd1266d76e9e7de9250efdbd0f76ff1a632cf528\n",
       "</pre>\n"
      ],
      "text/plain": [
       "ec02ba90cbefa3b58863d2fadd1266d76e9e7de9250efdbd0f76ff1a632cf528\n"
      ]
     },
     "metadata": {},
     "output_type": "display_data"
    },
    {
     "data": {
      "text/html": [
       "<pre style=\"white-space:pre;overflow-x:auto;line-height:normal;font-family:Menlo,'DejaVu Sans Mono',consolas,'Courier New',monospace\">67c6c0a1cbebb5f45b27f93679f350c13029b7e5579bf67079a2f3ea2f71dd0f\n",
       "</pre>\n"
      ],
      "text/plain": [
       "67c6c0a1cbebb5f45b27f93679f350c13029b7e5579bf67079a2f3ea2f71dd0f\n"
      ]
     },
     "metadata": {},
     "output_type": "display_data"
    },
    {
     "data": {
      "text/html": [
       "<pre style=\"white-space:pre;overflow-x:auto;line-height:normal;font-family:Menlo,'DejaVu Sans Mono',consolas,'Courier New',monospace\">c3641c08d5f18eedb8341f675df3f26dbede7371acdbd54274b81e37ad6ecab7\n",
       "</pre>\n"
      ],
      "text/plain": [
       "c3641c08d5f18eedb8341f675df3f26dbede7371acdbd54274b81e37ad6ecab7\n"
      ]
     },
     "metadata": {},
     "output_type": "display_data"
    },
    {
     "data": {
      "text/html": [
       "<pre style=\"white-space:pre;overflow-x:auto;line-height:normal;font-family:Menlo,'DejaVu Sans Mono',consolas,'Courier New',monospace\">ac0fba04ec1651b20321447d931ab9d8180e74556a96c710c166ab1dc96e5c80\n",
       "</pre>\n"
      ],
      "text/plain": [
       "ac0fba04ec1651b20321447d931ab9d8180e74556a96c710c166ab1dc96e5c80\n"
      ]
     },
     "metadata": {},
     "output_type": "display_data"
    },
    {
     "data": {
      "text/html": [
       "<pre style=\"white-space:pre;overflow-x:auto;line-height:normal;font-family:Menlo,'DejaVu Sans Mono',consolas,'Courier New',monospace\">8d8b03c7d3546d546aa5a85ede1713e4227ce8a3f84c052b4fd8253dd759bdf6\n",
       "</pre>\n"
      ],
      "text/plain": [
       "8d8b03c7d3546d546aa5a85ede1713e4227ce8a3f84c052b4fd8253dd759bdf6\n"
      ]
     },
     "metadata": {},
     "output_type": "display_data"
    },
    {
     "data": {
      "text/html": [
       "<pre style=\"white-space:pre;overflow-x:auto;line-height:normal;font-family:Menlo,'DejaVu Sans Mono',consolas,'Courier New',monospace\">5699f9de61bc18276749194d338d86462e2cf19e77bb5bd7ce526dc825016ec5\n",
       "</pre>\n"
      ],
      "text/plain": [
       "5699f9de61bc18276749194d338d86462e2cf19e77bb5bd7ce526dc825016ec5\n"
      ]
     },
     "metadata": {},
     "output_type": "display_data"
    },
    {
     "data": {
      "text/html": [
       "<pre style=\"white-space:pre;overflow-x:auto;line-height:normal;font-family:Menlo,'DejaVu Sans Mono',consolas,'Courier New',monospace\">dacb884c94f5e1ad5d810a7b4f17c72f4be77575e04757b145e9f39e4d40c02d\n",
       "</pre>\n"
      ],
      "text/plain": [
       "dacb884c94f5e1ad5d810a7b4f17c72f4be77575e04757b145e9f39e4d40c02d\n"
      ]
     },
     "metadata": {},
     "output_type": "display_data"
    },
    {
     "data": {
      "text/html": [
       "<pre style=\"white-space:pre;overflow-x:auto;line-height:normal;font-family:Menlo,'DejaVu Sans Mono',consolas,'Courier New',monospace\">cc5ac0b5e5c429ff2a09b0c21ad55f20242ad184f038854b50c234e7f289a032\n",
       "</pre>\n"
      ],
      "text/plain": [
       "cc5ac0b5e5c429ff2a09b0c21ad55f20242ad184f038854b50c234e7f289a032\n"
      ]
     },
     "metadata": {},
     "output_type": "display_data"
    }
   ],
   "source": [
    "from chia.consensus.block_record import BlockRecord\n",
    "query = f\"\"\"SELECT block_record FROM full_blocks\"\"\"\n",
    "async with aiosqlite.connect(DB_PATH) as db:\n",
    "    async with db.execute(query) as cursor:\n",
    "        async for row in cursor:\n",
    "            block_record = BlockRecord.from_bytes(row[0])\n",
    "            print(block_record.header_hash.hex())"
   ]
  },
  {
   "cell_type": "code",
   "execution_count": 4,
   "id": "b4b20823-4cba-4a16-9856-283ba22250e9",
   "metadata": {},
   "outputs": [],
   "source": [
    "# decorator\n",
    "def with_db_connection(f):\n",
    "    async def with_connection(*args, **kwargs):\n",
    "        db = await aiosqlite.connect(DB_PATH)\n",
    "        try:\n",
    "            rv = await f(db, *args, **kwargs)\n",
    "        except Exception:\n",
    "            await db.rollback()\n",
    "            raise\n",
    "        else:\n",
    "            await db.commit()  # or maybe not\n",
    "        finally:\n",
    "            await db.close()\n",
    "\n",
    "        return rv\n",
    "\n",
    "    return with_connection"
   ]
  },
  {
   "cell_type": "code",
   "execution_count": 5,
   "id": "23d5d08f-a07e-4726-8c53-7c54920bd0b6",
   "metadata": {},
   "outputs": [
    {
     "data": {
      "text/html": [
       "<pre style=\"white-space:pre;overflow-x:auto;line-height:normal;font-family:Menlo,'DejaVu Sans Mono',consolas,'Courier New',monospace\"><span style=\"color: #008080; text-decoration-color: #008080; font-weight: bold\">11</span>\n",
       "</pre>\n"
      ],
      "text/plain": [
       "\u001b[1;36m11\u001b[0m\n"
      ]
     },
     "metadata": {},
     "output_type": "display_data"
    }
   ],
   "source": [
    "@with_db_connection\n",
    "async def get_height_async(db) -> Optional[uint32]:\n",
    "    query_peak = \"SELECT hash FROM current_peak WHERE key = 0\"\n",
    "    async with db.execute(query_peak) as cursor:\n",
    "        peak_row = await cursor.fetchone()\n",
    "        if peak_row is None:\n",
    "            return None\n",
    "\n",
    "    query_height = \"SELECT height FROM full_blocks WHERE header_hash=?\"\n",
    "    async with db.execute(query_height, (peak_row[0],)) as cursor:\n",
    "        height = await cursor.fetchone()\n",
    "        if height is not None:\n",
    "            return uint32(height[0])\n",
    "        else:\n",
    "            return None\n",
    "await get_height_async()"
   ]
  },
  {
   "cell_type": "code",
   "execution_count": 6,
   "id": "b6673112-97fb-4fd7-9616-868ad45fbd40",
   "metadata": {},
   "outputs": [],
   "source": [
    "import zstd\n",
    "\n",
    "@with_db_connection\n",
    "async def get_block_record_by_height_async(\n",
    "    db, height: uint32\n",
    ") -> Optional[BlockRecord]:\n",
    "    query = \"SELECT block_record FROM full_blocks WHERE height=?\"\n",
    "    async with db.execute(query, (height,)) as cursor:\n",
    "        row = await cursor.fetchone()\n",
    "        if row is not None:\n",
    "            block_record = BlockRecord.from_bytes(row[0])\n",
    "            return block_record\n",
    "        else:\n",
    "            return None\n",
    "\n",
    "@with_db_connection\n",
    "async def get_block_bytes_by_height_async(\n",
    "    db, height: uint32\n",
    ") -> Optional[str]:\n",
    "    query = f\"SELECT block FROM full_blocks WHERE height=?\"\n",
    "    async with db.execute(query, (height,)) as cursor:\n",
    "        row = await cursor.fetchone()\n",
    "        if row is not None:\n",
    "            block_bytes = zstd.decompress(row[0])\n",
    "            return block_bytes\n",
    "        else:\n",
    "            return None\n",
    "\n",
    "async def get_block_by_height_async(height: uint32) -> Optional[FullBlock]:\n",
    "    block_bytes = await get_block_bytes_by_height_async(height)\n",
    "    if block_bytes is None:\n",
    "        return None\n",
    "    block = FullBlock.from_bytes(block_bytes)\n",
    "    return block\n",
    "\n",
    "def get_coin_record(row) -> CoinRecord:\n",
    "    return CoinRecord(\n",
    "        Coin(row[4], row[3], uint64.from_bytes(row[5])), row[0], row[1], row[2], row[6]\n",
    "    )\n",
    "\n",
    "@with_db_connection\n",
    "async def get_coin_record_by_name_async(db, name: str):\n",
    "    query = f\"\"\"SELECT confirmed_index, spent_index, coinbase, puzzle_hash, \n",
    "    coin_parent, amount, timestamp FROM coin_record WHERE coin_name=?\"\"\"\n",
    "\n",
    "    async with db.execute(query, (bytes32.from_hexstr(name),)) as cursor:\n",
    "        row = await cursor.fetchone()\n",
    "        if row is None:\n",
    "            return None\n",
    "        else:\n",
    "            return get_coin_record(row)"
   ]
  },
  {
   "cell_type": "code",
   "execution_count": 7,
   "id": "26cd7377-2b6a-4931-8247-ea9f34f2529c",
   "metadata": {},
   "outputs": [
    {
     "data": {
      "text/html": [
       "<pre style=\"white-space:pre;overflow-x:auto;line-height:normal;font-family:Menlo,'DejaVu Sans Mono',consolas,'Courier New',monospace\">\n",
       "<span style=\"color: #800080; text-decoration-color: #800080; font-weight: bold\">BlockRecord</span><span style=\"font-weight: bold\">(</span>\n",
       "    <span style=\"color: #808000; text-decoration-color: #808000\">header_hash</span>=<span style=\"font-weight: bold\">&lt;</span><span style=\"color: #ff00ff; text-decoration-color: #ff00ff; font-weight: bold\">bytes32:</span><span style=\"color: #000000; text-decoration-color: #000000\"> b5aadeddb982b9815a2a0282b82aa2cded04cfef5a5c91b7b936c77fe68af7fe</span><span style=\"font-weight: bold\">&gt;</span>,\n",
       "    <span style=\"color: #808000; text-decoration-color: #808000\">prev_hash</span>=<span style=\"font-weight: bold\">&lt;</span><span style=\"color: #ff00ff; text-decoration-color: #ff00ff; font-weight: bold\">bytes32:</span><span style=\"color: #000000; text-decoration-color: #000000\"> 7d91b636f8174f505c6c81052b9a08647628244d6976652e61c10502db4d374c</span><span style=\"font-weight: bold\">&gt;</span>,\n",
       "    <span style=\"color: #808000; text-decoration-color: #808000\">height</span>=<span style=\"color: #008080; text-decoration-color: #008080; font-weight: bold\">2</span>,\n",
       "    <span style=\"color: #808000; text-decoration-color: #808000\">weight</span>=<span style=\"color: #008080; text-decoration-color: #008080; font-weight: bold\">3072</span>,\n",
       "    <span style=\"color: #808000; text-decoration-color: #808000\">total_iters</span>=<span style=\"color: #008080; text-decoration-color: #008080; font-weight: bold\">20605</span>,\n",
       "    <span style=\"color: #808000; text-decoration-color: #808000\">signage_point_index</span>=<span style=\"color: #008080; text-decoration-color: #008080; font-weight: bold\">14</span>,\n",
       "    <span style=\"color: #808000; text-decoration-color: #808000\">challenge_vdf_output</span>=<span style=\"color: #800080; text-decoration-color: #800080; font-weight: bold\">ClassgroupElement</span><span style=\"font-weight: bold\">(</span>\n",
       "        <span style=\"color: #808000; text-decoration-color: #808000\">data</span>=<span style=\"font-weight: bold\">&lt;</span><span style=\"color: #ff00ff; text-decoration-color: #ff00ff; font-weight: bold\">bytes100:</span><span style=\"color: #000000; text-decoration-color: #000000\"> 00001d00010100000000000000000000000000000000000000000000000000000000000000000000000000000000000000000000000000000000000000000000000000000000000000000000000000000000000000000000000000000000000000000000</span><span style=\"font-weight: bold\">&gt;</span>\n",
       "    <span style=\"font-weight: bold\">)</span>,\n",
       "    <span style=\"color: #808000; text-decoration-color: #808000\">infused_challenge_vdf_output</span>=<span style=\"color: #800080; text-decoration-color: #800080; font-weight: bold\">ClassgroupElement</span><span style=\"font-weight: bold\">(</span>\n",
       "        <span style=\"color: #808000; text-decoration-color: #808000\">data</span>=<span style=\"font-weight: bold\">&lt;</span><span style=\"color: #ff00ff; text-decoration-color: #ff00ff; font-weight: bold\">bytes100:</span><span style=\"color: #000000; text-decoration-color: #000000\"> 03000c00010301000000000000000000000000000000000000000000000000000000000000000000000000000000000000000000000000000000000000000000000000000000000000000000000000000000000000000000000000000000000000000000</span><span style=\"font-weight: bold\">&gt;</span>\n",
       "    <span style=\"font-weight: bold\">)</span>,\n",
       "    <span style=\"color: #808000; text-decoration-color: #808000\">reward_infusion_new_challenge</span>=<span style=\"font-weight: bold\">&lt;</span><span style=\"color: #ff00ff; text-decoration-color: #ff00ff; font-weight: bold\">bytes32:</span><span style=\"color: #000000; text-decoration-color: #000000\"> 756e903b6b6ce01db2aa31b6d2fe554a660dfbc6029618af47a84ce04edf4de7</span><span style=\"font-weight: bold\">&gt;</span>,\n",
       "    <span style=\"color: #808000; text-decoration-color: #808000\">challenge_block_info_hash</span>=<span style=\"font-weight: bold\">&lt;</span><span style=\"color: #ff00ff; text-decoration-color: #ff00ff; font-weight: bold\">bytes32:</span><span style=\"color: #000000; text-decoration-color: #000000\"> e58141bbd3a5e656874a95d21ab609db7593b34f73f2d43cc5fc567492a3d308</span><span style=\"font-weight: bold\">&gt;</span>,\n",
       "    <span style=\"color: #808000; text-decoration-color: #808000\">sub_slot_iters</span>=<span style=\"color: #008080; text-decoration-color: #008080; font-weight: bold\">1024</span>,\n",
       "    <span style=\"color: #808000; text-decoration-color: #808000\">pool_puzzle_hash</span>=<span style=\"font-weight: bold\">&lt;</span><span style=\"color: #ff00ff; text-decoration-color: #ff00ff; font-weight: bold\">bytes32:</span><span style=\"color: #000000; text-decoration-color: #000000\"> 121cbc81114741b39f7cf6aa6180303a2f5fee9d0e5ef3986a0215ca46b41385</span><span style=\"font-weight: bold\">&gt;</span>,\n",
       "    <span style=\"color: #808000; text-decoration-color: #808000\">farmer_puzzle_hash</span>=<span style=\"font-weight: bold\">&lt;</span><span style=\"color: #ff00ff; text-decoration-color: #ff00ff; font-weight: bold\">bytes32:</span><span style=\"color: #000000; text-decoration-color: #000000\"> 121cbc81114741b39f7cf6aa6180303a2f5fee9d0e5ef3986a0215ca46b41385</span><span style=\"font-weight: bold\">&gt;</span>,\n",
       "    <span style=\"color: #808000; text-decoration-color: #808000\">required_iters</span>=<span style=\"color: #008080; text-decoration-color: #008080; font-weight: bold\">61</span>,\n",
       "    <span style=\"color: #808000; text-decoration-color: #808000\">deficit</span>=<span style=\"color: #008080; text-decoration-color: #008080; font-weight: bold\">9</span>,\n",
       "    <span style=\"color: #808000; text-decoration-color: #808000\">overflow</span>=<span style=\"color: #00ff00; text-decoration-color: #00ff00; font-style: italic\">True</span>,\n",
       "    <span style=\"color: #808000; text-decoration-color: #808000\">prev_transaction_block_height</span>=<span style=\"color: #008080; text-decoration-color: #008080; font-weight: bold\">1</span>,\n",
       "    <span style=\"color: #808000; text-decoration-color: #808000\">timestamp</span>=<span style=\"color: #008080; text-decoration-color: #008080; font-weight: bold\">1668526174</span>,\n",
       "    <span style=\"color: #808000; text-decoration-color: #808000\">prev_transaction_block_hash</span>=<span style=\"font-weight: bold\">&lt;</span><span style=\"color: #ff00ff; text-decoration-color: #ff00ff; font-weight: bold\">bytes32:</span><span style=\"color: #000000; text-decoration-color: #000000\"> 7d91b636f8174f505c6c81052b9a08647628244d6976652e61c10502db4d374c</span><span style=\"font-weight: bold\">&gt;</span>,\n",
       "    <span style=\"color: #808000; text-decoration-color: #808000\">fees</span>=<span style=\"color: #008080; text-decoration-color: #008080; font-weight: bold\">0</span>,\n",
       "    <span style=\"color: #808000; text-decoration-color: #808000\">reward_claims_incorporated</span>=<span style=\"font-weight: bold\">[</span>\n",
       "        Coin <span style=\"font-weight: bold\">{</span> parent_coin_info: eb8c4d20b322be8d9fddbf9412016bdf00000000000000000000000000000001, puzzle_hash: bd85c2c28bd770997c36037fa842fbbb719803dba7ff6b741148739576e68a39, amount: <span style=\"color: #008080; text-decoration-color: #008080; font-weight: bold\">1750000000000</span> <span style=\"font-weight: bold\">}</span>,\n",
       "        Coin <span style=\"font-weight: bold\">{</span> parent_coin_info: fe9a2901d7edb0e364e94266d0e095f700000000000000000000000000000001, puzzle_hash: bd85c2c28bd770997c36037fa842fbbb719803dba7ff6b741148739576e68a39, amount: <span style=\"color: #008080; text-decoration-color: #008080; font-weight: bold\">250000000000</span> <span style=\"font-weight: bold\">}</span>\n",
       "    <span style=\"font-weight: bold\">]</span>,\n",
       "    <span style=\"color: #808000; text-decoration-color: #808000\">finished_challenge_slot_hashes</span>=<span style=\"font-weight: bold\">[</span>\n",
       "        <span style=\"font-weight: bold\">&lt;</span><span style=\"color: #ff00ff; text-decoration-color: #ff00ff; font-weight: bold\">bytes32:</span><span style=\"color: #000000; text-decoration-color: #000000\"> 83616d03da35d176e4c757f317e3c86a320adc3d495354e7c1330cfccc8cc8a9</span><span style=\"font-weight: bold\">&gt;</span>\n",
       "    <span style=\"font-weight: bold\">]</span>,\n",
       "    <span style=\"color: #808000; text-decoration-color: #808000\">finished_infused_challenge_slot_hashes</span>=<span style=\"font-weight: bold\">[</span>\n",
       "        <span style=\"font-weight: bold\">&lt;</span><span style=\"color: #ff00ff; text-decoration-color: #ff00ff; font-weight: bold\">bytes32:</span><span style=\"color: #000000; text-decoration-color: #000000\"> 3aec608c1932a52fa8a753d094acca70180bef4973408b2e41362dd7d2626acc</span><span style=\"font-weight: bold\">&gt;</span>\n",
       "    <span style=\"font-weight: bold\">]</span>,\n",
       "    <span style=\"color: #808000; text-decoration-color: #808000\">finished_reward_slot_hashes</span>=<span style=\"font-weight: bold\">[</span>\n",
       "        <span style=\"font-weight: bold\">&lt;</span><span style=\"color: #ff00ff; text-decoration-color: #ff00ff; font-weight: bold\">bytes32:</span><span style=\"color: #000000; text-decoration-color: #000000\"> b0e73e6b7657bf9681505be4777b015af9cd3da096a9131b389090090f26a885</span><span style=\"font-weight: bold\">&gt;</span>\n",
       "    <span style=\"font-weight: bold\">]</span>,\n",
       "    <span style=\"color: #808000; text-decoration-color: #808000\">sub_epoch_summary_included</span>=<span style=\"color: #800080; text-decoration-color: #800080; font-style: italic\">None</span>\n",
       "<span style=\"font-weight: bold\">)</span>\n",
       "</pre>\n"
      ],
      "text/plain": [
       "\n",
       "\u001b[1;35mBlockRecord\u001b[0m\u001b[1m(\u001b[0m\n",
       "    \u001b[33mheader_hash\u001b[0m=\u001b[1m<\u001b[0m\u001b[1;95mbytes32:\u001b[0m\u001b[39m b5aadeddb982b9815a2a0282b82aa2cded04cfef5a5c91b7b936c77fe68af7fe\u001b[0m\u001b[1m>\u001b[0m,\n",
       "    \u001b[33mprev_hash\u001b[0m=\u001b[1m<\u001b[0m\u001b[1;95mbytes32:\u001b[0m\u001b[39m 7d91b636f8174f505c6c81052b9a08647628244d6976652e61c10502db4d374c\u001b[0m\u001b[1m>\u001b[0m,\n",
       "    \u001b[33mheight\u001b[0m=\u001b[1;36m2\u001b[0m,\n",
       "    \u001b[33mweight\u001b[0m=\u001b[1;36m3072\u001b[0m,\n",
       "    \u001b[33mtotal_iters\u001b[0m=\u001b[1;36m20605\u001b[0m,\n",
       "    \u001b[33msignage_point_index\u001b[0m=\u001b[1;36m14\u001b[0m,\n",
       "    \u001b[33mchallenge_vdf_output\u001b[0m=\u001b[1;35mClassgroupElement\u001b[0m\u001b[1m(\u001b[0m\n",
       "        \u001b[33mdata\u001b[0m=\u001b[1m<\u001b[0m\u001b[1;95mbytes100:\u001b[0m\u001b[39m 00001d00010100000000000000000000000000000000000000000000000000000000000000000000000000000000000000000000000000000000000000000000000000000000000000000000000000000000000000000000000000000000000000000000\u001b[0m\u001b[1m>\u001b[0m\n",
       "    \u001b[1m)\u001b[0m,\n",
       "    \u001b[33minfused_challenge_vdf_output\u001b[0m=\u001b[1;35mClassgroupElement\u001b[0m\u001b[1m(\u001b[0m\n",
       "        \u001b[33mdata\u001b[0m=\u001b[1m<\u001b[0m\u001b[1;95mbytes100:\u001b[0m\u001b[39m 03000c00010301000000000000000000000000000000000000000000000000000000000000000000000000000000000000000000000000000000000000000000000000000000000000000000000000000000000000000000000000000000000000000000\u001b[0m\u001b[1m>\u001b[0m\n",
       "    \u001b[1m)\u001b[0m,\n",
       "    \u001b[33mreward_infusion_new_challenge\u001b[0m=\u001b[1m<\u001b[0m\u001b[1;95mbytes32:\u001b[0m\u001b[39m 756e903b6b6ce01db2aa31b6d2fe554a660dfbc6029618af47a84ce04edf4de7\u001b[0m\u001b[1m>\u001b[0m,\n",
       "    \u001b[33mchallenge_block_info_hash\u001b[0m=\u001b[1m<\u001b[0m\u001b[1;95mbytes32:\u001b[0m\u001b[39m e58141bbd3a5e656874a95d21ab609db7593b34f73f2d43cc5fc567492a3d308\u001b[0m\u001b[1m>\u001b[0m,\n",
       "    \u001b[33msub_slot_iters\u001b[0m=\u001b[1;36m1024\u001b[0m,\n",
       "    \u001b[33mpool_puzzle_hash\u001b[0m=\u001b[1m<\u001b[0m\u001b[1;95mbytes32:\u001b[0m\u001b[39m 121cbc81114741b39f7cf6aa6180303a2f5fee9d0e5ef3986a0215ca46b41385\u001b[0m\u001b[1m>\u001b[0m,\n",
       "    \u001b[33mfarmer_puzzle_hash\u001b[0m=\u001b[1m<\u001b[0m\u001b[1;95mbytes32:\u001b[0m\u001b[39m 121cbc81114741b39f7cf6aa6180303a2f5fee9d0e5ef3986a0215ca46b41385\u001b[0m\u001b[1m>\u001b[0m,\n",
       "    \u001b[33mrequired_iters\u001b[0m=\u001b[1;36m61\u001b[0m,\n",
       "    \u001b[33mdeficit\u001b[0m=\u001b[1;36m9\u001b[0m,\n",
       "    \u001b[33moverflow\u001b[0m=\u001b[3;92mTrue\u001b[0m,\n",
       "    \u001b[33mprev_transaction_block_height\u001b[0m=\u001b[1;36m1\u001b[0m,\n",
       "    \u001b[33mtimestamp\u001b[0m=\u001b[1;36m1668526174\u001b[0m,\n",
       "    \u001b[33mprev_transaction_block_hash\u001b[0m=\u001b[1m<\u001b[0m\u001b[1;95mbytes32:\u001b[0m\u001b[39m 7d91b636f8174f505c6c81052b9a08647628244d6976652e61c10502db4d374c\u001b[0m\u001b[1m>\u001b[0m,\n",
       "    \u001b[33mfees\u001b[0m=\u001b[1;36m0\u001b[0m,\n",
       "    \u001b[33mreward_claims_incorporated\u001b[0m=\u001b[1m[\u001b[0m\n",
       "        Coin \u001b[1m{\u001b[0m parent_coin_info: eb8c4d20b322be8d9fddbf9412016bdf00000000000000000000000000000001, puzzle_hash: bd85c2c28bd770997c36037fa842fbbb719803dba7ff6b741148739576e68a39, amount: \u001b[1;36m1750000000000\u001b[0m \u001b[1m}\u001b[0m,\n",
       "        Coin \u001b[1m{\u001b[0m parent_coin_info: fe9a2901d7edb0e364e94266d0e095f700000000000000000000000000000001, puzzle_hash: bd85c2c28bd770997c36037fa842fbbb719803dba7ff6b741148739576e68a39, amount: \u001b[1;36m250000000000\u001b[0m \u001b[1m}\u001b[0m\n",
       "    \u001b[1m]\u001b[0m,\n",
       "    \u001b[33mfinished_challenge_slot_hashes\u001b[0m=\u001b[1m[\u001b[0m\n",
       "        \u001b[1m<\u001b[0m\u001b[1;95mbytes32:\u001b[0m\u001b[39m 83616d03da35d176e4c757f317e3c86a320adc3d495354e7c1330cfccc8cc8a9\u001b[0m\u001b[1m>\u001b[0m\n",
       "    \u001b[1m]\u001b[0m,\n",
       "    \u001b[33mfinished_infused_challenge_slot_hashes\u001b[0m=\u001b[1m[\u001b[0m\n",
       "        \u001b[1m<\u001b[0m\u001b[1;95mbytes32:\u001b[0m\u001b[39m 3aec608c1932a52fa8a753d094acca70180bef4973408b2e41362dd7d2626acc\u001b[0m\u001b[1m>\u001b[0m\n",
       "    \u001b[1m]\u001b[0m,\n",
       "    \u001b[33mfinished_reward_slot_hashes\u001b[0m=\u001b[1m[\u001b[0m\n",
       "        \u001b[1m<\u001b[0m\u001b[1;95mbytes32:\u001b[0m\u001b[39m b0e73e6b7657bf9681505be4777b015af9cd3da096a9131b389090090f26a885\u001b[0m\u001b[1m>\u001b[0m\n",
       "    \u001b[1m]\u001b[0m,\n",
       "    \u001b[33msub_epoch_summary_included\u001b[0m=\u001b[3;35mNone\u001b[0m\n",
       "\u001b[1m)\u001b[0m\n"
      ]
     },
     "metadata": {},
     "output_type": "display_data"
    }
   ],
   "source": [
    "await get_block_record_by_height_async(2)"
   ]
  },
  {
   "cell_type": "code",
   "execution_count": 8,
   "id": "9c5c8753-7420-4b4f-9573-c19ac7e59821",
   "metadata": {},
   "outputs": [
    {
     "data": {
      "text/html": [
       "<pre style=\"white-space:pre;overflow-x:auto;line-height:normal;font-family:Menlo,'DejaVu Sans Mono',consolas,'Courier New',monospace\">\n",
       "<span style=\"color: #800080; text-decoration-color: #800080; font-weight: bold\">FullBlock</span><span style=\"font-weight: bold\">(</span>\n",
       "    <span style=\"color: #808000; text-decoration-color: #808000\">finished_sub_slots</span>=<span style=\"font-weight: bold\">[</span>\n",
       "        <span style=\"color: #800080; text-decoration-color: #800080; font-weight: bold\">EndOfSubSlotBundle</span><span style=\"font-weight: bold\">(</span>\n",
       "            <span style=\"color: #808000; text-decoration-color: #808000\">challenge_chain</span>=<span style=\"color: #800080; text-decoration-color: #800080; font-weight: bold\">ChallengeChainSubSlot</span><span style=\"font-weight: bold\">(</span>\n",
       "                <span style=\"color: #808000; text-decoration-color: #808000\">challenge_chain_end_of_slot_vdf</span>=<span style=\"color: #800080; text-decoration-color: #800080; font-weight: bold\">VDFInfo</span><span style=\"font-weight: bold\">(</span>\n",
       "                    <span style=\"color: #808000; text-decoration-color: #808000\">challenge</span>=<span style=\"font-weight: bold\">&lt;</span><span style=\"color: #ff00ff; text-decoration-color: #ff00ff; font-weight: bold\">bytes32:</span><span style=\"color: #000000; text-decoration-color: #000000\"> 0eb93be69bf0ea0dbb8033e7a78c8e0f03c742a08be363820a9d2b9562ab9acc</span><span style=\"font-weight: bold\">&gt;</span>,\n",
       "                    <span style=\"color: #808000; text-decoration-color: #808000\">number_of_iterations</span>=<span style=\"color: #008080; text-decoration-color: #008080; font-weight: bold\">1024</span>,\n",
       "                    <span style=\"color: #808000; text-decoration-color: #808000\">output</span>=<span style=\"color: #800080; text-decoration-color: #800080; font-weight: bold\">ClassgroupElement</span><span style=\"font-weight: bold\">(</span>\n",
       "                        <span style=\"color: #808000; text-decoration-color: #808000\">data</span>=<span style=\"font-weight: bold\">&lt;</span><span style=\"color: #ff00ff; text-decoration-color: #ff00ff; font-weight: bold\">bytes100:</span><span style=\"color: #000000; text-decoration-color: #000000\"> </span><span style=\"color: #008080; text-decoration-color: #008080; font-weight: bold\">00000800010100000000000000000000000000000000000000000000000000000000000000000000000000000000000000000000000000000000000000000000000000000000000000000000000000000000000000000000000000000000000000000000</span><span style=\"font-weight: bold\">&gt;</span>\n",
       "                    <span style=\"font-weight: bold\">)</span>\n",
       "                <span style=\"font-weight: bold\">)</span>,\n",
       "                <span style=\"color: #808000; text-decoration-color: #808000\">infused_challenge_chain_sub_slot_hash</span>=<span style=\"color: #800080; text-decoration-color: #800080; font-style: italic\">None</span>,\n",
       "                <span style=\"color: #808000; text-decoration-color: #808000\">subepoch_summary_hash</span>=<span style=\"color: #800080; text-decoration-color: #800080; font-style: italic\">None</span>,\n",
       "                <span style=\"color: #808000; text-decoration-color: #808000\">new_sub_slot_iters</span>=<span style=\"color: #800080; text-decoration-color: #800080; font-style: italic\">None</span>,\n",
       "                <span style=\"color: #808000; text-decoration-color: #808000\">new_difficulty</span>=<span style=\"color: #800080; text-decoration-color: #800080; font-style: italic\">None</span>\n",
       "            <span style=\"font-weight: bold\">)</span>,\n",
       "            <span style=\"color: #808000; text-decoration-color: #808000\">infused_challenge_chain</span>=<span style=\"color: #800080; text-decoration-color: #800080; font-weight: bold\">InfusedChallengeChainSubSlot</span><span style=\"font-weight: bold\">(</span>\n",
       "                <span style=\"color: #808000; text-decoration-color: #808000\">infused_challenge_chain_end_of_slot_vdf</span>=<span style=\"color: #800080; text-decoration-color: #800080; font-weight: bold\">VDFInfo</span><span style=\"font-weight: bold\">(</span>\n",
       "                    <span style=\"color: #808000; text-decoration-color: #808000\">challenge</span>=<span style=\"font-weight: bold\">&lt;</span><span style=\"color: #ff00ff; text-decoration-color: #ff00ff; font-weight: bold\">bytes32:</span><span style=\"color: #000000; text-decoration-color: #000000\"> 144747c0afd162ab283331eaad4269afa7e76b6e9d198d28e35ae974010a6d34</span><span style=\"font-weight: bold\">&gt;</span>,\n",
       "                    <span style=\"color: #808000; text-decoration-color: #808000\">number_of_iterations</span>=<span style=\"color: #008080; text-decoration-color: #008080; font-weight: bold\">1024</span>,\n",
       "                    <span style=\"color: #808000; text-decoration-color: #808000\">output</span>=<span style=\"color: #800080; text-decoration-color: #800080; font-weight: bold\">ClassgroupElement</span><span style=\"font-weight: bold\">(</span>\n",
       "                        <span style=\"color: #808000; text-decoration-color: #808000\">data</span>=<span style=\"font-weight: bold\">&lt;</span><span style=\"color: #ff00ff; text-decoration-color: #ff00ff; font-weight: bold\">bytes100:</span><span style=\"color: #000000; text-decoration-color: #000000\"> </span><span style=\"color: #008080; text-decoration-color: #008080; font-weight: bold\">02000700010100000000000000000000000000000000000000000000000000000000000000000000000000000000000000000000000000000000000000000000000000000000000000000000000000000000000000000000000000000000000000000000</span><span style=\"font-weight: bold\">&gt;</span>\n",
       "                    <span style=\"font-weight: bold\">)</span>\n",
       "                <span style=\"font-weight: bold\">)</span>\n",
       "            <span style=\"font-weight: bold\">)</span>,\n",
       "            <span style=\"color: #808000; text-decoration-color: #808000\">reward_chain</span>=<span style=\"color: #800080; text-decoration-color: #800080; font-weight: bold\">RewardChainSubSlot</span><span style=\"font-weight: bold\">(</span>\n",
       "                <span style=\"color: #808000; text-decoration-color: #808000\">end_of_slot_vdf</span>=<span style=\"color: #800080; text-decoration-color: #800080; font-weight: bold\">VDFInfo</span><span style=\"font-weight: bold\">(</span>\n",
       "                    <span style=\"color: #808000; text-decoration-color: #808000\">challenge</span>=<span style=\"font-weight: bold\">&lt;</span><span style=\"color: #ff00ff; text-decoration-color: #ff00ff; font-weight: bold\">bytes32:</span><span style=\"color: #000000; text-decoration-color: #000000\"> 6ceec1a03d2a512a79c9266205127ef2a2f7334f94c3bfe09b7d653d1bc507bf</span><span style=\"font-weight: bold\">&gt;</span>,\n",
       "                    <span style=\"color: #808000; text-decoration-color: #808000\">number_of_iterations</span>=<span style=\"color: #008080; text-decoration-color: #008080; font-weight: bold\">890</span>,\n",
       "                    <span style=\"color: #808000; text-decoration-color: #808000\">output</span>=<span style=\"color: #800080; text-decoration-color: #800080; font-weight: bold\">ClassgroupElement</span><span style=\"font-weight: bold\">(</span>\n",
       "                        <span style=\"color: #808000; text-decoration-color: #808000\">data</span>=<span style=\"font-weight: bold\">&lt;</span><span style=\"color: #ff00ff; text-decoration-color: #ff00ff; font-weight: bold\">bytes100:</span><span style=\"color: #000000; text-decoration-color: #000000\"> </span><span style=\"color: #008080; text-decoration-color: #008080; font-weight: bold\">00001100020100000000000000000000000000000000000000000000000000000000000000000000000000000000000000000000000000000000000000000000000000000000000000000000000000000000000000000000000000000000000000000000</span><span style=\"font-weight: bold\">&gt;</span>\n",
       "                    <span style=\"font-weight: bold\">)</span>\n",
       "                <span style=\"font-weight: bold\">)</span>,\n",
       "                <span style=\"color: #808000; text-decoration-color: #808000\">challenge_chain_sub_slot_hash</span>=<span style=\"font-weight: bold\">&lt;</span><span style=\"color: #ff00ff; text-decoration-color: #ff00ff; font-weight: bold\">bytes32:</span><span style=\"color: #000000; text-decoration-color: #000000\"> 83616d03da35d176e4c757f317e3c86a320adc3d495354e7c1330cfccc8cc8a9</span><span style=\"font-weight: bold\">&gt;</span>,\n",
       "                <span style=\"color: #808000; text-decoration-color: #808000\">infused_challenge_chain_sub_slot_hash</span>=<span style=\"font-weight: bold\">&lt;</span><span style=\"color: #ff00ff; text-decoration-color: #ff00ff; font-weight: bold\">bytes32:</span><span style=\"color: #000000; text-decoration-color: #000000\"> 3aec608c1932a52fa8a753d094acca70180bef4973408b2e41362dd7d2626acc</span><span style=\"font-weight: bold\">&gt;</span>,\n",
       "                <span style=\"color: #808000; text-decoration-color: #808000\">deficit</span>=<span style=\"color: #008080; text-decoration-color: #008080; font-weight: bold\">10</span>\n",
       "            <span style=\"font-weight: bold\">)</span>,\n",
       "            <span style=\"color: #808000; text-decoration-color: #808000\">proofs</span>=<span style=\"color: #800080; text-decoration-color: #800080; font-weight: bold\">SubSlotProofs</span><span style=\"font-weight: bold\">(</span>\n",
       "                <span style=\"color: #808000; text-decoration-color: #808000\">challenge_chain_slot_proof</span>=<span style=\"color: #800080; text-decoration-color: #800080; font-weight: bold\">VDFProof</span><span style=\"font-weight: bold\">(</span>\n",
       "                    <span style=\"color: #808000; text-decoration-color: #808000\">witness_type</span>=<span style=\"color: #008080; text-decoration-color: #008080; font-weight: bold\">0</span>,\n",
       "                    <span style=\"color: #808000; text-decoration-color: #808000\">witness</span>=<span style=\"color: #008000; text-decoration-color: #008000\">b'\\x03\\x00\\x17\\x00\\x02\\x01\\x00\\x00\\x00\\x00\\x00\\x00\\x00\\x00\\x00\\x00\\x00\\x00\\x00\\x00\\x00\\x00\\x00\\x00\\x00\\x00\\x00\\x00\\x00\\x00\\x00\\x00\\x00\\x00\\x00\\x00\\x00\\x00\\x00\\x00\\x00\\x00\\x00\\x00\\x00\\x00\\x00\\x00\\x00\\x00\\x00\\x00\\x00\\x00\\x00\\x00\\x00\\x00\\x00\\x00\\x00\\x00\\x00\\x00\\x00\\x00\\x00\\x00\\x00\\x00\\x00\\x00\\x00\\x00\\x00\\x00\\x00\\x00\\x00\\x00\\x00\\x00\\x00\\x00\\x00\\x00\\x00\\x00\\x00\\x00\\x00\\x00\\x00\\x00\\x00\\x00\\x00\\x00\\x00\\x00'</span>,\n",
       "                    <span style=\"color: #808000; text-decoration-color: #808000\">normalized_to_identity</span>=<span style=\"color: #ff0000; text-decoration-color: #ff0000; font-style: italic\">False</span>\n",
       "                <span style=\"font-weight: bold\">)</span>,\n",
       "                <span style=\"color: #808000; text-decoration-color: #808000\">infused_challenge_chain_slot_proof</span>=<span style=\"color: #800080; text-decoration-color: #800080; font-weight: bold\">VDFProof</span><span style=\"font-weight: bold\">(</span>\n",
       "                    <span style=\"color: #808000; text-decoration-color: #808000\">witness_type</span>=<span style=\"color: #008080; text-decoration-color: #008080; font-weight: bold\">0</span>,\n",
       "                    <span style=\"color: #808000; text-decoration-color: #808000\">witness</span>=<span style=\"color: #008000; text-decoration-color: #008000\">b'\\x00\\x001\\x00\\x01\\x01\\x00\\x00\\x00\\x00\\x00\\x00\\x00\\x00\\x00\\x00\\x00\\x00\\x00\\x00\\x00\\x00\\x00\\x00\\x00\\x00\\x00\\x00\\x00\\x00\\x00\\x00\\x00\\x00\\x00\\x00\\x00\\x00\\x00\\x00\\x00\\x00\\x00\\x00\\x00\\x00\\x00\\x00\\x00\\x00\\x00\\x00\\x00\\x00\\x00\\x00\\x00\\x00\\x00\\x00\\x00\\x00\\x00\\x00\\x00\\x00\\x00\\x00\\x00\\x00\\x00\\x00\\x00\\x00\\x00\\x00\\x00\\x00\\x00\\x00\\x00\\x00\\x00\\x00\\x00\\x00\\x00\\x00\\x00\\x00\\x00\\x00\\x00\\x00\\x00\\x00\\x00\\x00\\x00\\x00'</span>,\n",
       "                    <span style=\"color: #808000; text-decoration-color: #808000\">normalized_to_identity</span>=<span style=\"color: #ff0000; text-decoration-color: #ff0000; font-style: italic\">False</span>\n",
       "                <span style=\"font-weight: bold\">)</span>,\n",
       "                <span style=\"color: #808000; text-decoration-color: #808000\">reward_chain_slot_proof</span>=<span style=\"color: #800080; text-decoration-color: #800080; font-weight: bold\">VDFProof</span><span style=\"font-weight: bold\">(</span>\n",
       "                    <span style=\"color: #808000; text-decoration-color: #808000\">witness_type</span>=<span style=\"color: #008080; text-decoration-color: #008080; font-weight: bold\">0</span>,\n",
       "                    <span style=\"color: #808000; text-decoration-color: #808000\">witness</span>=<span style=\"color: #008000; text-decoration-color: #008000\">b'\\x02\\x00\\x17\\x00\\x03\\x01\\x00\\x00\\x00\\x00\\x00\\x00\\x00\\x00\\x00\\x00\\x00\\x00\\x00\\x00\\x00\\x00\\x00\\x00\\x00\\x00\\x00\\x00\\x00\\x00\\x00\\x00\\x00\\x00\\x00\\x00\\x00\\x00\\x00\\x00\\x00\\x00\\x00\\x00\\x00\\x00\\x00\\x00\\x00\\x00\\x00\\x00\\x00\\x00\\x00\\x00\\x00\\x00\\x00\\x00\\x00\\x00\\x00\\x00\\x00\\x00\\x00\\x00\\x00\\x00\\x00\\x00\\x00\\x00\\x00\\x00\\x00\\x00\\x00\\x00\\x00\\x00\\x00\\x00\\x00\\x00\\x00\\x00\\x00\\x00\\x00\\x00\\x00\\x00\\x00\\x00\\x00\\x00\\x00\\x00'</span>,\n",
       "                    <span style=\"color: #808000; text-decoration-color: #808000\">normalized_to_identity</span>=<span style=\"color: #ff0000; text-decoration-color: #ff0000; font-style: italic\">False</span>\n",
       "                <span style=\"font-weight: bold\">)</span>\n",
       "            <span style=\"font-weight: bold\">)</span>\n",
       "        <span style=\"font-weight: bold\">)</span>\n",
       "    <span style=\"font-weight: bold\">]</span>,\n",
       "    <span style=\"color: #808000; text-decoration-color: #808000\">reward_chain_block</span>=<span style=\"color: #800080; text-decoration-color: #800080; font-weight: bold\">RewardChainBlock</span><span style=\"font-weight: bold\">(</span>\n",
       "        <span style=\"color: #808000; text-decoration-color: #808000\">weight</span>=<span style=\"color: #008080; text-decoration-color: #008080; font-weight: bold\">3072</span>,\n",
       "        <span style=\"color: #808000; text-decoration-color: #808000\">height</span>=<span style=\"color: #008080; text-decoration-color: #008080; font-weight: bold\">2</span>,\n",
       "        <span style=\"color: #808000; text-decoration-color: #808000\">total_iters</span>=<span style=\"color: #008080; text-decoration-color: #008080; font-weight: bold\">20605</span>,\n",
       "        <span style=\"color: #808000; text-decoration-color: #808000\">signage_point_index</span>=<span style=\"color: #008080; text-decoration-color: #008080; font-weight: bold\">14</span>,\n",
       "        <span style=\"color: #808000; text-decoration-color: #808000\">pos_ss_cc_challenge_hash</span>=<span style=\"font-weight: bold\">&lt;</span><span style=\"color: #ff00ff; text-decoration-color: #ff00ff; font-weight: bold\">bytes32:</span><span style=\"color: #000000; text-decoration-color: #000000\"> 0eb93be69bf0ea0dbb8033e7a78c8e0f03c742a08be363820a9d2b9562ab9acc</span><span style=\"font-weight: bold\">&gt;</span>,\n",
       "        <span style=\"color: #808000; text-decoration-color: #808000\">proof_of_space</span>=<span style=\"color: #800080; text-decoration-color: #800080; font-weight: bold\">ProofOfSpace</span><span style=\"font-weight: bold\">(</span>\n",
       "            <span style=\"color: #808000; text-decoration-color: #808000\">challenge</span>=<span style=\"font-weight: bold\">&lt;</span><span style=\"color: #ff00ff; text-decoration-color: #ff00ff; font-weight: bold\">bytes32:</span><span style=\"color: #000000; text-decoration-color: #000000\"> 2195f470a0443e3921bf692bcd7994567713f53c19241466871344e48b6167eb</span><span style=\"font-weight: bold\">&gt;</span>,\n",
       "            <span style=\"color: #808000; text-decoration-color: #808000\">pool_public_key</span>=<span style=\"font-weight: bold\">&lt;</span><span style=\"color: #ff00ff; text-decoration-color: #ff00ff; font-weight: bold\">G1Element</span><span style=\"color: #000000; text-decoration-color: #000000\"> a4a37edd90627978204fe23ac77ad5e2f5555dff8de5e9699c7f6ca7b3b5318c5b5c4779f0ff265faf70ff4fe7685b12</span><span style=\"font-weight: bold\">&gt;</span>,\n",
       "            <span style=\"color: #808000; text-decoration-color: #808000\">pool_contract_puzzle_hash</span>=<span style=\"color: #800080; text-decoration-color: #800080; font-style: italic\">None</span>,\n",
       "            <span style=\"color: #808000; text-decoration-color: #808000\">plot_public_key</span>=<span style=\"font-weight: bold\">&lt;</span><span style=\"color: #ff00ff; text-decoration-color: #ff00ff; font-weight: bold\">G1Element</span><span style=\"color: #000000; text-decoration-color: #000000\"> 8a33e8bcc30aecffa75d708af66bceca1edfefa971885e012f3cebc9904dbbd11d5393a1aef8ffa0f01b76f31852080f</span><span style=\"font-weight: bold\">&gt;</span>,\n",
       "            <span style=\"color: #808000; text-decoration-color: #808000\">size</span>=<span style=\"color: #008080; text-decoration-color: #008080; font-weight: bold\">19</span>,\n",
       "            <span style=\"color: #808000; text-decoration-color: #808000\">proof</span>=<span style=\"color: #008000; text-decoration-color: #008000\">b\"\\x0f\\xe4/;S\\xf2\\xf4\\xdeD\\x01\\xcb\\xaa\\xf2\\xc5\\x9e\\xd9\\xf9\\xc0\\xa7#)\\xc4W\\xf8Z\\x06\\xfd\\x80r\\x01*l\\x7f\\xd4kJ\\x95\\xe1t-\\x9c\\xdb#n\\xab4W}*\\xec\\x071y\\x08\\x0ed\\xbdom$3\\x08=\\xe7\\xb9K'\\xdd\\xc4\\x81\\xdb\\xefL8\\x7fZ\\x9a3\\xb5\\xad\\xa5\\x16\\xea\\xae\\x89\\xf4.\\xabVvC\\xc6*\\xff\\xd9_\\xf2\\xdcm\\xa6\\xe6\\xcc\\x84M\\xad\\xeb\\\\s\\x86\\xf6\\xe0O\\x0b\\xfb\\x9eg\\xe0\\x11d\\xfe,\\xea\\xbe\\x1aB\\r[m\\xae\\xe6\\xf2L6^\\x93\\x902\\xba\\x10sg\\xad\\xda1\\xa5\\x7fH\\x8eBm\\xeeS\"</span>\n",
       "        <span style=\"font-weight: bold\">)</span>,\n",
       "        <span style=\"color: #808000; text-decoration-color: #808000\">challenge_chain_sp_vdf</span>=<span style=\"color: #800080; text-decoration-color: #800080; font-weight: bold\">VDFInfo</span><span style=\"font-weight: bold\">(</span>\n",
       "            <span style=\"color: #808000; text-decoration-color: #808000\">challenge</span>=<span style=\"font-weight: bold\">&lt;</span><span style=\"color: #ff00ff; text-decoration-color: #ff00ff; font-weight: bold\">bytes32:</span><span style=\"color: #000000; text-decoration-color: #000000\"> 0eb93be69bf0ea0dbb8033e7a78c8e0f03c742a08be363820a9d2b9562ab9acc</span><span style=\"font-weight: bold\">&gt;</span>,\n",
       "            <span style=\"color: #808000; text-decoration-color: #808000\">number_of_iterations</span>=<span style=\"color: #008080; text-decoration-color: #008080; font-weight: bold\">896</span>,\n",
       "            <span style=\"color: #808000; text-decoration-color: #808000\">output</span>=<span style=\"color: #800080; text-decoration-color: #800080; font-weight: bold\">ClassgroupElement</span><span style=\"font-weight: bold\">(</span>\n",
       "                <span style=\"color: #808000; text-decoration-color: #808000\">data</span>=<span style=\"font-weight: bold\">&lt;</span><span style=\"color: #ff00ff; text-decoration-color: #ff00ff; font-weight: bold\">bytes100:</span><span style=\"color: #000000; text-decoration-color: #000000\"> </span><span style=\"color: #008080; text-decoration-color: #008080; font-weight: bold\">03004300010100000000000000000000000000000000000000000000000000000000000000000000000000000000000000000000000000000000000000000000000000000000000000000000000000000000000000000000000000000000000000000000</span><span style=\"font-weight: bold\">&gt;</span>\n",
       "            <span style=\"font-weight: bold\">)</span>\n",
       "        <span style=\"font-weight: bold\">)</span>,\n",
       "        <span style=\"color: #808000; text-decoration-color: #808000\">challenge_chain_sp_signature</span>=<span style=\"font-weight: bold\">&lt;</span><span style=\"color: #ff00ff; text-decoration-color: #ff00ff; font-weight: bold\">G2Element</span><span style=\"color: #000000; text-decoration-color: #000000\"> 8b9624adc771077aed624680f5e08f93924cfa9e5732dbcb2420b3ead58413288b12ddd2180e896ea2a0dd0ac9d2ff9d145249264899e9474a9718d03f165b3a3ee90b1655313b5473a713a9b504e577ae9e7839cf31130fc17f5acfd9a05331</span><span style=\"font-weight: bold\">&gt;</span>,\n",
       "        <span style=\"color: #808000; text-decoration-color: #808000\">challenge_chain_ip_vdf</span>=<span style=\"color: #800080; text-decoration-color: #800080; font-weight: bold\">VDFInfo</span><span style=\"font-weight: bold\">(</span>\n",
       "            <span style=\"color: #808000; text-decoration-color: #808000\">challenge</span>=<span style=\"font-weight: bold\">&lt;</span><span style=\"color: #ff00ff; text-decoration-color: #ff00ff; font-weight: bold\">bytes32:</span><span style=\"color: #000000; text-decoration-color: #000000\"> 83616d03da35d176e4c757f317e3c86a320adc3d495354e7c1330cfccc8cc8a9</span><span style=\"font-weight: bold\">&gt;</span>,\n",
       "            <span style=\"color: #808000; text-decoration-color: #808000\">number_of_iterations</span>=<span style=\"color: #008080; text-decoration-color: #008080; font-weight: bold\">125</span>,\n",
       "            <span style=\"color: #808000; text-decoration-color: #808000\">output</span>=<span style=\"color: #800080; text-decoration-color: #800080; font-weight: bold\">ClassgroupElement</span><span style=\"font-weight: bold\">(</span>\n",
       "                <span style=\"color: #808000; text-decoration-color: #808000\">data</span>=<span style=\"font-weight: bold\">&lt;</span><span style=\"color: #ff00ff; text-decoration-color: #ff00ff; font-weight: bold\">bytes100:</span><span style=\"color: #000000; text-decoration-color: #000000\"> 00001d00010100000000000000000000000000000000000000000000000000000000000000000000000000000000000000000000000000000000000000000000000000000000000000000000000000000000000000000000000000000000000000000000</span><span style=\"font-weight: bold\">&gt;</span>\n",
       "            <span style=\"font-weight: bold\">)</span>\n",
       "        <span style=\"font-weight: bold\">)</span>,\n",
       "        <span style=\"color: #808000; text-decoration-color: #808000\">reward_chain_sp_vdf</span>=<span style=\"color: #800080; text-decoration-color: #800080; font-weight: bold\">VDFInfo</span><span style=\"font-weight: bold\">(</span>\n",
       "            <span style=\"color: #808000; text-decoration-color: #808000\">challenge</span>=<span style=\"font-weight: bold\">&lt;</span><span style=\"color: #ff00ff; text-decoration-color: #ff00ff; font-weight: bold\">bytes32:</span><span style=\"color: #000000; text-decoration-color: #000000\"> 6ceec1a03d2a512a79c9266205127ef2a2f7334f94c3bfe09b7d653d1bc507bf</span><span style=\"font-weight: bold\">&gt;</span>,\n",
       "            <span style=\"color: #808000; text-decoration-color: #808000\">number_of_iterations</span>=<span style=\"color: #008080; text-decoration-color: #008080; font-weight: bold\">762</span>,\n",
       "            <span style=\"color: #808000; text-decoration-color: #808000\">output</span>=<span style=\"color: #800080; text-decoration-color: #800080; font-weight: bold\">ClassgroupElement</span><span style=\"font-weight: bold\">(</span>\n",
       "                <span style=\"color: #808000; text-decoration-color: #808000\">data</span>=<span style=\"font-weight: bold\">&lt;</span><span style=\"color: #ff00ff; text-decoration-color: #ff00ff; font-weight: bold\">bytes100:</span><span style=\"color: #000000; text-decoration-color: #000000\"> </span><span style=\"color: #008080; text-decoration-color: #008080; font-weight: bold\">02002e00030200000000000000000000000000000000000000000000000000000000000000000000000000000000000000000000000000000000000000000000000000000000000000000000000000000000000000000000000000000000000000000000</span><span style=\"font-weight: bold\">&gt;</span>\n",
       "            <span style=\"font-weight: bold\">)</span>\n",
       "        <span style=\"font-weight: bold\">)</span>,\n",
       "        <span style=\"color: #808000; text-decoration-color: #808000\">reward_chain_sp_signature</span>=<span style=\"font-weight: bold\">&lt;</span><span style=\"color: #ff00ff; text-decoration-color: #ff00ff; font-weight: bold\">G2Element</span><span style=\"color: #000000; text-decoration-color: #000000\"> a0a552a4b1aaaaf21d83e68131d8c0c36e893c9e2116681a9ce7b0a6b58f5b07fab55c524106a96129bd261461af75c00ab3a3c5a4ae22c2c35c53b28b64171926e67cc82d22f23186d0c956522e299b769f6aee7d60709d822aec3222b952c1</span><span style=\"font-weight: bold\">&gt;</span>,\n",
       "        <span style=\"color: #808000; text-decoration-color: #808000\">reward_chain_ip_vdf</span>=<span style=\"color: #800080; text-decoration-color: #800080; font-weight: bold\">VDFInfo</span><span style=\"font-weight: bold\">(</span>\n",
       "            <span style=\"color: #808000; text-decoration-color: #808000\">challenge</span>=<span style=\"font-weight: bold\">&lt;</span><span style=\"color: #ff00ff; text-decoration-color: #ff00ff; font-weight: bold\">bytes32:</span><span style=\"color: #000000; text-decoration-color: #000000\"> b0e73e6b7657bf9681505be4777b015af9cd3da096a9131b389090090f26a885</span><span style=\"font-weight: bold\">&gt;</span>,\n",
       "            <span style=\"color: #808000; text-decoration-color: #808000\">number_of_iterations</span>=<span style=\"color: #008080; text-decoration-color: #008080; font-weight: bold\">125</span>,\n",
       "            <span style=\"color: #808000; text-decoration-color: #808000\">output</span>=<span style=\"color: #800080; text-decoration-color: #800080; font-weight: bold\">ClassgroupElement</span><span style=\"font-weight: bold\">(</span>\n",
       "                <span style=\"color: #808000; text-decoration-color: #808000\">data</span>=<span style=\"font-weight: bold\">&lt;</span><span style=\"color: #ff00ff; text-decoration-color: #ff00ff; font-weight: bold\">bytes100:</span><span style=\"color: #000000; text-decoration-color: #000000\"> </span><span style=\"color: #008080; text-decoration-color: #008080; font-weight: bold\">02000800010100000000000000000000000000000000000000000000000000000000000000000000000000000000000000000000000000000000000000000000000000000000000000000000000000000000000000000000000000000000000000000000</span><span style=\"font-weight: bold\">&gt;</span>\n",
       "            <span style=\"font-weight: bold\">)</span>\n",
       "        <span style=\"font-weight: bold\">)</span>,\n",
       "        <span style=\"color: #808000; text-decoration-color: #808000\">infused_challenge_chain_ip_vdf</span>=<span style=\"color: #800080; text-decoration-color: #800080; font-weight: bold\">VDFInfo</span><span style=\"font-weight: bold\">(</span>\n",
       "            <span style=\"color: #808000; text-decoration-color: #808000\">challenge</span>=<span style=\"font-weight: bold\">&lt;</span><span style=\"color: #ff00ff; text-decoration-color: #ff00ff; font-weight: bold\">bytes32:</span><span style=\"color: #000000; text-decoration-color: #000000\"> 3aec608c1932a52fa8a753d094acca70180bef4973408b2e41362dd7d2626acc</span><span style=\"font-weight: bold\">&gt;</span>,\n",
       "            <span style=\"color: #808000; text-decoration-color: #808000\">number_of_iterations</span>=<span style=\"color: #008080; text-decoration-color: #008080; font-weight: bold\">125</span>,\n",
       "            <span style=\"color: #808000; text-decoration-color: #808000\">output</span>=<span style=\"color: #800080; text-decoration-color: #800080; font-weight: bold\">ClassgroupElement</span><span style=\"font-weight: bold\">(</span>\n",
       "                <span style=\"color: #808000; text-decoration-color: #808000\">data</span>=<span style=\"font-weight: bold\">&lt;</span><span style=\"color: #ff00ff; text-decoration-color: #ff00ff; font-weight: bold\">bytes100:</span><span style=\"color: #000000; text-decoration-color: #000000\"> 03000c00010301000000000000000000000000000000000000000000000000000000000000000000000000000000000000000000000000000000000000000000000000000000000000000000000000000000000000000000000000000000000000000000</span><span style=\"font-weight: bold\">&gt;</span>\n",
       "            <span style=\"font-weight: bold\">)</span>\n",
       "        <span style=\"font-weight: bold\">)</span>,\n",
       "        <span style=\"color: #808000; text-decoration-color: #808000\">is_transaction_block</span>=<span style=\"color: #00ff00; text-decoration-color: #00ff00; font-style: italic\">True</span>\n",
       "    <span style=\"font-weight: bold\">)</span>,\n",
       "    <span style=\"color: #808000; text-decoration-color: #808000\">challenge_chain_sp_proof</span>=<span style=\"color: #800080; text-decoration-color: #800080; font-weight: bold\">VDFProof</span><span style=\"font-weight: bold\">(</span>\n",
       "        <span style=\"color: #808000; text-decoration-color: #808000\">witness_type</span>=<span style=\"color: #008080; text-decoration-color: #008080; font-weight: bold\">0</span>,\n",
       "        <span style=\"color: #808000; text-decoration-color: #808000\">witness</span>=<span style=\"color: #008000; text-decoration-color: #008000\">b'\\x01\\x00\"\\x00\\x01\\x01\\x00\\x00\\x00\\x00\\x00\\x00\\x00\\x00\\x00\\x00\\x00\\x00\\x00\\x00\\x00\\x00\\x00\\x00\\x00\\x00\\x00\\x00\\x00\\x00\\x00\\x00\\x00\\x00\\x00\\x00\\x00\\x00\\x00\\x00\\x00\\x00\\x00\\x00\\x00\\x00\\x00\\x00\\x00\\x00\\x00\\x00\\x00\\x00\\x00\\x00\\x00\\x00\\x00\\x00\\x00\\x00\\x00\\x00\\x00\\x00\\x00\\x00\\x00\\x00\\x00\\x00\\x00\\x00\\x00\\x00\\x00\\x00\\x00\\x00\\x00\\x00\\x00\\x00\\x00\\x00\\x00\\x00\\x00\\x00\\x00\\x00\\x00\\x00\\x00\\x00\\x00\\x00\\x00\\x00'</span>,\n",
       "        <span style=\"color: #808000; text-decoration-color: #808000\">normalized_to_identity</span>=<span style=\"color: #ff0000; text-decoration-color: #ff0000; font-style: italic\">False</span>\n",
       "    <span style=\"font-weight: bold\">)</span>,\n",
       "    <span style=\"color: #808000; text-decoration-color: #808000\">challenge_chain_ip_proof</span>=<span style=\"color: #800080; text-decoration-color: #800080; font-weight: bold\">VDFProof</span><span style=\"font-weight: bold\">(</span>\n",
       "        <span style=\"color: #808000; text-decoration-color: #808000\">witness_type</span>=<span style=\"color: #008080; text-decoration-color: #008080; font-weight: bold\">0</span>,\n",
       "        <span style=\"color: #808000; text-decoration-color: #808000\">witness</span>=<span style=\"color: #008000; text-decoration-color: #008000\">b'\\x04\\x00\\x00\\x00\\x00\\x00\\x00\\x00\\x00\\x00\\x00\\x00\\x00\\x00\\x00\\x00\\x00\\x00\\x00\\x00\\x00\\x00\\x00\\x00\\x00\\x00\\x00\\x00\\x00\\x00\\x00\\x00\\x00\\x00\\x00\\x00\\x00\\x00\\x00\\x00\\x00\\x00\\x00\\x00\\x00\\x00\\x00\\x00\\x00\\x00\\x00\\x00\\x00\\x00\\x00\\x00\\x00\\x00\\x00\\x00\\x00\\x00\\x00\\x00\\x00\\x00\\x00\\x00\\x00\\x00\\x00\\x00\\x00\\x00\\x00\\x00\\x00\\x00\\x00\\x00\\x00\\x00\\x00\\x00\\x00\\x00\\x00\\x00\\x00\\x00\\x00\\x00\\x00\\x00\\x00\\x00\\x00\\x00\\x00\\x00'</span>,\n",
       "        <span style=\"color: #808000; text-decoration-color: #808000\">normalized_to_identity</span>=<span style=\"color: #ff0000; text-decoration-color: #ff0000; font-style: italic\">False</span>\n",
       "    <span style=\"font-weight: bold\">)</span>,\n",
       "    <span style=\"color: #808000; text-decoration-color: #808000\">reward_chain_sp_proof</span>=<span style=\"color: #800080; text-decoration-color: #800080; font-weight: bold\">VDFProof</span><span style=\"font-weight: bold\">(</span>\n",
       "        <span style=\"color: #808000; text-decoration-color: #808000\">witness_type</span>=<span style=\"color: #008080; text-decoration-color: #008080; font-weight: bold\">0</span>,\n",
       "        <span style=\"color: #808000; text-decoration-color: #808000\">witness</span>=<span style=\"color: #008000; text-decoration-color: #008000\">b'\\x01\\x00\\x08\\x00\\x01\\x01\\x00\\x00\\x00\\x00\\x00\\x00\\x00\\x00\\x00\\x00\\x00\\x00\\x00\\x00\\x00\\x00\\x00\\x00\\x00\\x00\\x00\\x00\\x00\\x00\\x00\\x00\\x00\\x00\\x00\\x00\\x00\\x00\\x00\\x00\\x00\\x00\\x00\\x00\\x00\\x00\\x00\\x00\\x00\\x00\\x00\\x00\\x00\\x00\\x00\\x00\\x00\\x00\\x00\\x00\\x00\\x00\\x00\\x00\\x00\\x00\\x00\\x00\\x00\\x00\\x00\\x00\\x00\\x00\\x00\\x00\\x00\\x00\\x00\\x00\\x00\\x00\\x00\\x00\\x00\\x00\\x00\\x00\\x00\\x00\\x00\\x00\\x00\\x00\\x00\\x00\\x00\\x00\\x00\\x00'</span>,\n",
       "        <span style=\"color: #808000; text-decoration-color: #808000\">normalized_to_identity</span>=<span style=\"color: #ff0000; text-decoration-color: #ff0000; font-style: italic\">False</span>\n",
       "    <span style=\"font-weight: bold\">)</span>,\n",
       "    <span style=\"color: #808000; text-decoration-color: #808000\">reward_chain_ip_proof</span>=<span style=\"color: #800080; text-decoration-color: #800080; font-weight: bold\">VDFProof</span><span style=\"font-weight: bold\">(</span>\n",
       "        <span style=\"color: #808000; text-decoration-color: #808000\">witness_type</span>=<span style=\"color: #008080; text-decoration-color: #008080; font-weight: bold\">0</span>,\n",
       "        <span style=\"color: #808000; text-decoration-color: #808000\">witness</span>=<span style=\"color: #008000; text-decoration-color: #008000\">b'\\x04\\x00\\x00\\x00\\x00\\x00\\x00\\x00\\x00\\x00\\x00\\x00\\x00\\x00\\x00\\x00\\x00\\x00\\x00\\x00\\x00\\x00\\x00\\x00\\x00\\x00\\x00\\x00\\x00\\x00\\x00\\x00\\x00\\x00\\x00\\x00\\x00\\x00\\x00\\x00\\x00\\x00\\x00\\x00\\x00\\x00\\x00\\x00\\x00\\x00\\x00\\x00\\x00\\x00\\x00\\x00\\x00\\x00\\x00\\x00\\x00\\x00\\x00\\x00\\x00\\x00\\x00\\x00\\x00\\x00\\x00\\x00\\x00\\x00\\x00\\x00\\x00\\x00\\x00\\x00\\x00\\x00\\x00\\x00\\x00\\x00\\x00\\x00\\x00\\x00\\x00\\x00\\x00\\x00\\x00\\x00\\x00\\x00\\x00\\x00'</span>,\n",
       "        <span style=\"color: #808000; text-decoration-color: #808000\">normalized_to_identity</span>=<span style=\"color: #ff0000; text-decoration-color: #ff0000; font-style: italic\">False</span>\n",
       "    <span style=\"font-weight: bold\">)</span>,\n",
       "    <span style=\"color: #808000; text-decoration-color: #808000\">infused_challenge_chain_ip_proof</span>=<span style=\"color: #800080; text-decoration-color: #800080; font-weight: bold\">VDFProof</span><span style=\"font-weight: bold\">(</span>\n",
       "        <span style=\"color: #808000; text-decoration-color: #808000\">witness_type</span>=<span style=\"color: #008080; text-decoration-color: #008080; font-weight: bold\">0</span>,\n",
       "        <span style=\"color: #808000; text-decoration-color: #808000\">witness</span>=<span style=\"color: #008000; text-decoration-color: #008000\">b'\\x04\\x00\\x00\\x00\\x00\\x00\\x00\\x00\\x00\\x00\\x00\\x00\\x00\\x00\\x00\\x00\\x00\\x00\\x00\\x00\\x00\\x00\\x00\\x00\\x00\\x00\\x00\\x00\\x00\\x00\\x00\\x00\\x00\\x00\\x00\\x00\\x00\\x00\\x00\\x00\\x00\\x00\\x00\\x00\\x00\\x00\\x00\\x00\\x00\\x00\\x00\\x00\\x00\\x00\\x00\\x00\\x00\\x00\\x00\\x00\\x00\\x00\\x00\\x00\\x00\\x00\\x00\\x00\\x00\\x00\\x00\\x00\\x00\\x00\\x00\\x00\\x00\\x00\\x00\\x00\\x00\\x00\\x00\\x00\\x00\\x00\\x00\\x00\\x00\\x00\\x00\\x00\\x00\\x00\\x00\\x00\\x00\\x00\\x00\\x00'</span>,\n",
       "        <span style=\"color: #808000; text-decoration-color: #808000\">normalized_to_identity</span>=<span style=\"color: #ff0000; text-decoration-color: #ff0000; font-style: italic\">False</span>\n",
       "    <span style=\"font-weight: bold\">)</span>,\n",
       "    <span style=\"color: #808000; text-decoration-color: #808000\">foliage</span>=<span style=\"color: #800080; text-decoration-color: #800080; font-weight: bold\">Foliage</span><span style=\"font-weight: bold\">(</span>\n",
       "        <span style=\"color: #808000; text-decoration-color: #808000\">prev_block_hash</span>=<span style=\"font-weight: bold\">&lt;</span><span style=\"color: #ff00ff; text-decoration-color: #ff00ff; font-weight: bold\">bytes32:</span><span style=\"color: #000000; text-decoration-color: #000000\"> 7d91b636f8174f505c6c81052b9a08647628244d6976652e61c10502db4d374c</span><span style=\"font-weight: bold\">&gt;</span>,\n",
       "        <span style=\"color: #808000; text-decoration-color: #808000\">reward_block_hash</span>=<span style=\"font-weight: bold\">&lt;</span><span style=\"color: #ff00ff; text-decoration-color: #ff00ff; font-weight: bold\">bytes32:</span><span style=\"color: #000000; text-decoration-color: #000000\"> 756e903b6b6ce01db2aa31b6d2fe554a660dfbc6029618af47a84ce04edf4de7</span><span style=\"font-weight: bold\">&gt;</span>,\n",
       "        <span style=\"color: #808000; text-decoration-color: #808000\">foliage_block_data</span>=<span style=\"color: #800080; text-decoration-color: #800080; font-weight: bold\">FoliageBlockData</span><span style=\"font-weight: bold\">(</span>\n",
       "            <span style=\"color: #808000; text-decoration-color: #808000\">unfinished_reward_block_hash</span>=<span style=\"font-weight: bold\">&lt;</span><span style=\"color: #ff00ff; text-decoration-color: #ff00ff; font-weight: bold\">bytes32:</span><span style=\"color: #000000; text-decoration-color: #000000\"> 7196d93104ce6cacb5296068ada25eed03dc56c200ddebff21545661be7b3fd7</span><span style=\"font-weight: bold\">&gt;</span>,\n",
       "            <span style=\"color: #808000; text-decoration-color: #808000\">pool_target</span>=<span style=\"color: #800080; text-decoration-color: #800080; font-weight: bold\">PoolTarget</span><span style=\"font-weight: bold\">(</span>\n",
       "                <span style=\"color: #808000; text-decoration-color: #808000\">puzzle_hash</span>=<span style=\"font-weight: bold\">&lt;</span><span style=\"color: #ff00ff; text-decoration-color: #ff00ff; font-weight: bold\">bytes32:</span><span style=\"color: #000000; text-decoration-color: #000000\"> 121cbc81114741b39f7cf6aa6180303a2f5fee9d0e5ef3986a0215ca46b41385</span><span style=\"font-weight: bold\">&gt;</span>,\n",
       "                <span style=\"color: #808000; text-decoration-color: #808000\">max_height</span>=<span style=\"color: #008080; text-decoration-color: #008080; font-weight: bold\">0</span>\n",
       "            <span style=\"font-weight: bold\">)</span>,\n",
       "            <span style=\"color: #808000; text-decoration-color: #808000\">pool_signature</span>=<span style=\"font-weight: bold\">&lt;</span><span style=\"color: #ff00ff; text-decoration-color: #ff00ff; font-weight: bold\">G2Element</span><span style=\"color: #000000; text-decoration-color: #000000\"> 8d5bba4dbf1252220580880a3f9fc26dbfe51ab3174d90666bf4bba09a6b7940ad4914b0970330347ff10261d5aec532052a7a5a0f54b06a29f792034a73c74c7beb7184ff2f4a3acb08d0a87c7be2a0dbe4483aaa78d9c8e9db3f5996c185c6</span><span style=\"font-weight: bold\">&gt;</span>,\n",
       "            <span style=\"color: #808000; text-decoration-color: #808000\">farmer_reward_puzzle_hash</span>=<span style=\"font-weight: bold\">&lt;</span><span style=\"color: #ff00ff; text-decoration-color: #ff00ff; font-weight: bold\">bytes32:</span><span style=\"color: #000000; text-decoration-color: #000000\"> 121cbc81114741b39f7cf6aa6180303a2f5fee9d0e5ef3986a0215ca46b41385</span><span style=\"font-weight: bold\">&gt;</span>,\n",
       "            <span style=\"color: #808000; text-decoration-color: #808000\">extension_data</span>=<span style=\"font-weight: bold\">&lt;</span><span style=\"color: #ff00ff; text-decoration-color: #ff00ff; font-weight: bold\">bytes32:</span><span style=\"color: #000000; text-decoration-color: #000000\"> 0000000000000000000000000000000000000000000000000000000003a2c7c9</span><span style=\"font-weight: bold\">&gt;</span>\n",
       "        <span style=\"font-weight: bold\">)</span>,\n",
       "        <span style=\"color: #808000; text-decoration-color: #808000\">foliage_block_data_signature</span>=<span style=\"font-weight: bold\">&lt;</span><span style=\"color: #ff00ff; text-decoration-color: #ff00ff; font-weight: bold\">G2Element</span><span style=\"color: #000000; text-decoration-color: #000000\"> 896ea691e744f4cc7352272cd7b7954c1322de40160413c7d59dbbb3751f661727b6ffb11f0099ef59c45a9ed3adeb9804aec744e59224cf52a937312c3bc24b67e8d9899cae3bcc7090a2aad694b44fa2571c7ea7a24dfc545e150804df9f38</span><span style=\"font-weight: bold\">&gt;</span>,\n",
       "        <span style=\"color: #808000; text-decoration-color: #808000\">foliage_transaction_block_hash</span>=<span style=\"font-weight: bold\">&lt;</span><span style=\"color: #ff00ff; text-decoration-color: #ff00ff; font-weight: bold\">bytes32:</span><span style=\"color: #000000; text-decoration-color: #000000\"> c44b91df80099db4bf2e03e9beea1bb7d33cce55d56aabbf0623cac2c463e98b</span><span style=\"font-weight: bold\">&gt;</span>,\n",
       "        <span style=\"color: #808000; text-decoration-color: #808000\">foliage_transaction_block_signature</span>=<span style=\"font-weight: bold\">&lt;</span><span style=\"color: #ff00ff; text-decoration-color: #ff00ff; font-weight: bold\">G2Element</span><span style=\"color: #000000; text-decoration-color: #000000\"> b52a577f03601f7318e7820642e0008596da9da668548cfeb5cc09b65d7c456ffab779ce6a7c5d3efa40f520d18239b4087a08051c77ab01a949befe87ec97983391728a8989de52bc54b42a8a931f2c87c1665239a8f43e63e083c32f1443b0</span><span style=\"font-weight: bold\">&gt;</span>\n",
       "    <span style=\"font-weight: bold\">)</span>,\n",
       "    <span style=\"color: #808000; text-decoration-color: #808000\">foliage_transaction_block</span>=<span style=\"color: #800080; text-decoration-color: #800080; font-weight: bold\">FoliageTransactionBlock</span><span style=\"font-weight: bold\">(</span>\n",
       "        <span style=\"color: #808000; text-decoration-color: #808000\">prev_transaction_block_hash</span>=<span style=\"font-weight: bold\">&lt;</span><span style=\"color: #ff00ff; text-decoration-color: #ff00ff; font-weight: bold\">bytes32:</span><span style=\"color: #000000; text-decoration-color: #000000\"> 7d91b636f8174f505c6c81052b9a08647628244d6976652e61c10502db4d374c</span><span style=\"font-weight: bold\">&gt;</span>,\n",
       "        <span style=\"color: #808000; text-decoration-color: #808000\">timestamp</span>=<span style=\"color: #008080; text-decoration-color: #008080; font-weight: bold\">1668526174</span>,\n",
       "        <span style=\"color: #808000; text-decoration-color: #808000\">filter_hash</span>=<span style=\"font-weight: bold\">&lt;</span><span style=\"color: #ff00ff; text-decoration-color: #ff00ff; font-weight: bold\">bytes32:</span><span style=\"color: #000000; text-decoration-color: #000000\"> 7cf51587f2031ad2841b5f44fab27355107cd0f973d6ff19b4835767878fffc6</span><span style=\"font-weight: bold\">&gt;</span>,\n",
       "        <span style=\"color: #808000; text-decoration-color: #808000\">additions_root</span>=<span style=\"font-weight: bold\">&lt;</span><span style=\"color: #ff00ff; text-decoration-color: #ff00ff; font-weight: bold\">bytes32:</span><span style=\"color: #000000; text-decoration-color: #000000\"> 83ba2a535353952abf60c35addf951d1b5238bae2c408601bffb85ea17360908</span><span style=\"font-weight: bold\">&gt;</span>,\n",
       "        <span style=\"color: #808000; text-decoration-color: #808000\">removals_root</span>=<span style=\"font-weight: bold\">&lt;</span><span style=\"color: #ff00ff; text-decoration-color: #ff00ff; font-weight: bold\">bytes32:</span><span style=\"color: #000000; text-decoration-color: #000000\"> </span><span style=\"color: #008080; text-decoration-color: #008080; font-weight: bold\">0000000000000000000000000000000000000000000000000000000000000000</span><span style=\"font-weight: bold\">&gt;</span>,\n",
       "        <span style=\"color: #808000; text-decoration-color: #808000\">transactions_info_hash</span>=<span style=\"font-weight: bold\">&lt;</span><span style=\"color: #ff00ff; text-decoration-color: #ff00ff; font-weight: bold\">bytes32:</span><span style=\"color: #000000; text-decoration-color: #000000\"> ecb983702780688cab2820440154de934c9a4a67e0aec302dfc2660d108a92a2</span><span style=\"font-weight: bold\">&gt;</span>\n",
       "    <span style=\"font-weight: bold\">)</span>,\n",
       "    <span style=\"color: #808000; text-decoration-color: #808000\">transactions_info</span>=<span style=\"color: #800080; text-decoration-color: #800080; font-weight: bold\">TransactionsInfo</span><span style=\"font-weight: bold\">(</span>\n",
       "        <span style=\"color: #808000; text-decoration-color: #808000\">generator_root</span>=<span style=\"font-weight: bold\">&lt;</span><span style=\"color: #ff00ff; text-decoration-color: #ff00ff; font-weight: bold\">bytes32:</span><span style=\"color: #000000; text-decoration-color: #000000\"> </span><span style=\"color: #008080; text-decoration-color: #008080; font-weight: bold\">0000000000000000000000000000000000000000000000000000000000000000</span><span style=\"font-weight: bold\">&gt;</span>,\n",
       "        <span style=\"color: #808000; text-decoration-color: #808000\">generator_refs_root</span>=<span style=\"font-weight: bold\">&lt;</span><span style=\"color: #ff00ff; text-decoration-color: #ff00ff; font-weight: bold\">bytes32:</span><span style=\"color: #000000; text-decoration-color: #000000\"> </span><span style=\"color: #008080; text-decoration-color: #008080; font-weight: bold\">0101010101010101010101010101010101010101010101010101010101010101</span><span style=\"font-weight: bold\">&gt;</span>,\n",
       "        <span style=\"color: #808000; text-decoration-color: #808000\">aggregated_signature</span>=<span style=\"font-weight: bold\">&lt;</span><span style=\"color: #ff00ff; text-decoration-color: #ff00ff; font-weight: bold\">G2Element</span><span style=\"color: #000000; text-decoration-color: #000000\"> c00000000000000000000000000000000000000000000000000000000000000000000000000000000000000000000000000000000000000000000000000000000000000000000000000000000000000000000000000000000000000000000000</span><span style=\"font-weight: bold\">&gt;</span>,\n",
       "        <span style=\"color: #808000; text-decoration-color: #808000\">fees</span>=<span style=\"color: #008080; text-decoration-color: #008080; font-weight: bold\">0</span>,\n",
       "        <span style=\"color: #808000; text-decoration-color: #808000\">cost</span>=<span style=\"color: #008080; text-decoration-color: #008080; font-weight: bold\">0</span>,\n",
       "        <span style=\"color: #808000; text-decoration-color: #808000\">reward_claims_incorporated</span>=<span style=\"font-weight: bold\">[</span>\n",
       "            Coin <span style=\"font-weight: bold\">{</span> parent_coin_info: eb8c4d20b322be8d9fddbf9412016bdf00000000000000000000000000000001, puzzle_hash: bd85c2c28bd770997c36037fa842fbbb719803dba7ff6b741148739576e68a39, amount: <span style=\"color: #008080; text-decoration-color: #008080; font-weight: bold\">1750000000000</span> <span style=\"font-weight: bold\">}</span>,\n",
       "            Coin <span style=\"font-weight: bold\">{</span> parent_coin_info: fe9a2901d7edb0e364e94266d0e095f700000000000000000000000000000001, puzzle_hash: bd85c2c28bd770997c36037fa842fbbb719803dba7ff6b741148739576e68a39, amount: <span style=\"color: #008080; text-decoration-color: #008080; font-weight: bold\">250000000000</span> <span style=\"font-weight: bold\">}</span>\n",
       "        <span style=\"font-weight: bold\">]</span>\n",
       "    <span style=\"font-weight: bold\">)</span>,\n",
       "    <span style=\"color: #808000; text-decoration-color: #808000\">transactions_generator</span>=<span style=\"color: #800080; text-decoration-color: #800080; font-style: italic\">None</span>,\n",
       "    <span style=\"color: #808000; text-decoration-color: #808000\">transactions_generator_ref_list</span>=<span style=\"font-weight: bold\">[]</span>\n",
       "<span style=\"font-weight: bold\">)</span>\n",
       "</pre>\n"
      ],
      "text/plain": [
       "\n",
       "\u001b[1;35mFullBlock\u001b[0m\u001b[1m(\u001b[0m\n",
       "    \u001b[33mfinished_sub_slots\u001b[0m=\u001b[1m[\u001b[0m\n",
       "        \u001b[1;35mEndOfSubSlotBundle\u001b[0m\u001b[1m(\u001b[0m\n",
       "            \u001b[33mchallenge_chain\u001b[0m=\u001b[1;35mChallengeChainSubSlot\u001b[0m\u001b[1m(\u001b[0m\n",
       "                \u001b[33mchallenge_chain_end_of_slot_vdf\u001b[0m=\u001b[1;35mVDFInfo\u001b[0m\u001b[1m(\u001b[0m\n",
       "                    \u001b[33mchallenge\u001b[0m=\u001b[1m<\u001b[0m\u001b[1;95mbytes32:\u001b[0m\u001b[39m 0eb93be69bf0ea0dbb8033e7a78c8e0f03c742a08be363820a9d2b9562ab9acc\u001b[0m\u001b[1m>\u001b[0m,\n",
       "                    \u001b[33mnumber_of_iterations\u001b[0m=\u001b[1;36m1024\u001b[0m,\n",
       "                    \u001b[33moutput\u001b[0m=\u001b[1;35mClassgroupElement\u001b[0m\u001b[1m(\u001b[0m\n",
       "                        \u001b[33mdata\u001b[0m=\u001b[1m<\u001b[0m\u001b[1;95mbytes100:\u001b[0m\u001b[39m \u001b[0m\u001b[1;36m00000800010100000000000000000000000000000000000000000000000000000000000000000000000000000000000000000000000000000000000000000000000000000000000000000000000000000000000000000000000000000000000000000000\u001b[0m\u001b[1m>\u001b[0m\n",
       "                    \u001b[1m)\u001b[0m\n",
       "                \u001b[1m)\u001b[0m,\n",
       "                \u001b[33minfused_challenge_chain_sub_slot_hash\u001b[0m=\u001b[3;35mNone\u001b[0m,\n",
       "                \u001b[33msubepoch_summary_hash\u001b[0m=\u001b[3;35mNone\u001b[0m,\n",
       "                \u001b[33mnew_sub_slot_iters\u001b[0m=\u001b[3;35mNone\u001b[0m,\n",
       "                \u001b[33mnew_difficulty\u001b[0m=\u001b[3;35mNone\u001b[0m\n",
       "            \u001b[1m)\u001b[0m,\n",
       "            \u001b[33minfused_challenge_chain\u001b[0m=\u001b[1;35mInfusedChallengeChainSubSlot\u001b[0m\u001b[1m(\u001b[0m\n",
       "                \u001b[33minfused_challenge_chain_end_of_slot_vdf\u001b[0m=\u001b[1;35mVDFInfo\u001b[0m\u001b[1m(\u001b[0m\n",
       "                    \u001b[33mchallenge\u001b[0m=\u001b[1m<\u001b[0m\u001b[1;95mbytes32:\u001b[0m\u001b[39m 144747c0afd162ab283331eaad4269afa7e76b6e9d198d28e35ae974010a6d34\u001b[0m\u001b[1m>\u001b[0m,\n",
       "                    \u001b[33mnumber_of_iterations\u001b[0m=\u001b[1;36m1024\u001b[0m,\n",
       "                    \u001b[33moutput\u001b[0m=\u001b[1;35mClassgroupElement\u001b[0m\u001b[1m(\u001b[0m\n",
       "                        \u001b[33mdata\u001b[0m=\u001b[1m<\u001b[0m\u001b[1;95mbytes100:\u001b[0m\u001b[39m \u001b[0m\u001b[1;36m02000700010100000000000000000000000000000000000000000000000000000000000000000000000000000000000000000000000000000000000000000000000000000000000000000000000000000000000000000000000000000000000000000000\u001b[0m\u001b[1m>\u001b[0m\n",
       "                    \u001b[1m)\u001b[0m\n",
       "                \u001b[1m)\u001b[0m\n",
       "            \u001b[1m)\u001b[0m,\n",
       "            \u001b[33mreward_chain\u001b[0m=\u001b[1;35mRewardChainSubSlot\u001b[0m\u001b[1m(\u001b[0m\n",
       "                \u001b[33mend_of_slot_vdf\u001b[0m=\u001b[1;35mVDFInfo\u001b[0m\u001b[1m(\u001b[0m\n",
       "                    \u001b[33mchallenge\u001b[0m=\u001b[1m<\u001b[0m\u001b[1;95mbytes32:\u001b[0m\u001b[39m 6ceec1a03d2a512a79c9266205127ef2a2f7334f94c3bfe09b7d653d1bc507bf\u001b[0m\u001b[1m>\u001b[0m,\n",
       "                    \u001b[33mnumber_of_iterations\u001b[0m=\u001b[1;36m890\u001b[0m,\n",
       "                    \u001b[33moutput\u001b[0m=\u001b[1;35mClassgroupElement\u001b[0m\u001b[1m(\u001b[0m\n",
       "                        \u001b[33mdata\u001b[0m=\u001b[1m<\u001b[0m\u001b[1;95mbytes100:\u001b[0m\u001b[39m \u001b[0m\u001b[1;36m00001100020100000000000000000000000000000000000000000000000000000000000000000000000000000000000000000000000000000000000000000000000000000000000000000000000000000000000000000000000000000000000000000000\u001b[0m\u001b[1m>\u001b[0m\n",
       "                    \u001b[1m)\u001b[0m\n",
       "                \u001b[1m)\u001b[0m,\n",
       "                \u001b[33mchallenge_chain_sub_slot_hash\u001b[0m=\u001b[1m<\u001b[0m\u001b[1;95mbytes32:\u001b[0m\u001b[39m 83616d03da35d176e4c757f317e3c86a320adc3d495354e7c1330cfccc8cc8a9\u001b[0m\u001b[1m>\u001b[0m,\n",
       "                \u001b[33minfused_challenge_chain_sub_slot_hash\u001b[0m=\u001b[1m<\u001b[0m\u001b[1;95mbytes32:\u001b[0m\u001b[39m 3aec608c1932a52fa8a753d094acca70180bef4973408b2e41362dd7d2626acc\u001b[0m\u001b[1m>\u001b[0m,\n",
       "                \u001b[33mdeficit\u001b[0m=\u001b[1;36m10\u001b[0m\n",
       "            \u001b[1m)\u001b[0m,\n",
       "            \u001b[33mproofs\u001b[0m=\u001b[1;35mSubSlotProofs\u001b[0m\u001b[1m(\u001b[0m\n",
       "                \u001b[33mchallenge_chain_slot_proof\u001b[0m=\u001b[1;35mVDFProof\u001b[0m\u001b[1m(\u001b[0m\n",
       "                    \u001b[33mwitness_type\u001b[0m=\u001b[1;36m0\u001b[0m,\n",
       "                    \u001b[33mwitness\u001b[0m=\u001b[32mb\u001b[0m\u001b[32m'\\x03\\x00\\x17\\x00\\x02\\x01\\x00\\x00\\x00\\x00\\x00\\x00\\x00\\x00\\x00\\x00\\x00\\x00\\x00\\x00\\x00\\x00\\x00\\x00\\x00\\x00\\x00\\x00\\x00\\x00\\x00\\x00\\x00\\x00\\x00\\x00\\x00\\x00\\x00\\x00\\x00\\x00\\x00\\x00\\x00\\x00\\x00\\x00\\x00\\x00\\x00\\x00\\x00\\x00\\x00\\x00\\x00\\x00\\x00\\x00\\x00\\x00\\x00\\x00\\x00\\x00\\x00\\x00\\x00\\x00\\x00\\x00\\x00\\x00\\x00\\x00\\x00\\x00\\x00\\x00\\x00\\x00\\x00\\x00\\x00\\x00\\x00\\x00\\x00\\x00\\x00\\x00\\x00\\x00\\x00\\x00\\x00\\x00\\x00\\x00'\u001b[0m,\n",
       "                    \u001b[33mnormalized_to_identity\u001b[0m=\u001b[3;91mFalse\u001b[0m\n",
       "                \u001b[1m)\u001b[0m,\n",
       "                \u001b[33minfused_challenge_chain_slot_proof\u001b[0m=\u001b[1;35mVDFProof\u001b[0m\u001b[1m(\u001b[0m\n",
       "                    \u001b[33mwitness_type\u001b[0m=\u001b[1;36m0\u001b[0m,\n",
       "                    \u001b[33mwitness\u001b[0m=\u001b[32mb\u001b[0m\u001b[32m'\\x00\\x001\\x00\\x01\\x01\\x00\\x00\\x00\\x00\\x00\\x00\\x00\\x00\\x00\\x00\\x00\\x00\\x00\\x00\\x00\\x00\\x00\\x00\\x00\\x00\\x00\\x00\\x00\\x00\\x00\\x00\\x00\\x00\\x00\\x00\\x00\\x00\\x00\\x00\\x00\\x00\\x00\\x00\\x00\\x00\\x00\\x00\\x00\\x00\\x00\\x00\\x00\\x00\\x00\\x00\\x00\\x00\\x00\\x00\\x00\\x00\\x00\\x00\\x00\\x00\\x00\\x00\\x00\\x00\\x00\\x00\\x00\\x00\\x00\\x00\\x00\\x00\\x00\\x00\\x00\\x00\\x00\\x00\\x00\\x00\\x00\\x00\\x00\\x00\\x00\\x00\\x00\\x00\\x00\\x00\\x00\\x00\\x00\\x00'\u001b[0m,\n",
       "                    \u001b[33mnormalized_to_identity\u001b[0m=\u001b[3;91mFalse\u001b[0m\n",
       "                \u001b[1m)\u001b[0m,\n",
       "                \u001b[33mreward_chain_slot_proof\u001b[0m=\u001b[1;35mVDFProof\u001b[0m\u001b[1m(\u001b[0m\n",
       "                    \u001b[33mwitness_type\u001b[0m=\u001b[1;36m0\u001b[0m,\n",
       "                    \u001b[33mwitness\u001b[0m=\u001b[32mb\u001b[0m\u001b[32m'\\x02\\x00\\x17\\x00\\x03\\x01\\x00\\x00\\x00\\x00\\x00\\x00\\x00\\x00\\x00\\x00\\x00\\x00\\x00\\x00\\x00\\x00\\x00\\x00\\x00\\x00\\x00\\x00\\x00\\x00\\x00\\x00\\x00\\x00\\x00\\x00\\x00\\x00\\x00\\x00\\x00\\x00\\x00\\x00\\x00\\x00\\x00\\x00\\x00\\x00\\x00\\x00\\x00\\x00\\x00\\x00\\x00\\x00\\x00\\x00\\x00\\x00\\x00\\x00\\x00\\x00\\x00\\x00\\x00\\x00\\x00\\x00\\x00\\x00\\x00\\x00\\x00\\x00\\x00\\x00\\x00\\x00\\x00\\x00\\x00\\x00\\x00\\x00\\x00\\x00\\x00\\x00\\x00\\x00\\x00\\x00\\x00\\x00\\x00\\x00'\u001b[0m,\n",
       "                    \u001b[33mnormalized_to_identity\u001b[0m=\u001b[3;91mFalse\u001b[0m\n",
       "                \u001b[1m)\u001b[0m\n",
       "            \u001b[1m)\u001b[0m\n",
       "        \u001b[1m)\u001b[0m\n",
       "    \u001b[1m]\u001b[0m,\n",
       "    \u001b[33mreward_chain_block\u001b[0m=\u001b[1;35mRewardChainBlock\u001b[0m\u001b[1m(\u001b[0m\n",
       "        \u001b[33mweight\u001b[0m=\u001b[1;36m3072\u001b[0m,\n",
       "        \u001b[33mheight\u001b[0m=\u001b[1;36m2\u001b[0m,\n",
       "        \u001b[33mtotal_iters\u001b[0m=\u001b[1;36m20605\u001b[0m,\n",
       "        \u001b[33msignage_point_index\u001b[0m=\u001b[1;36m14\u001b[0m,\n",
       "        \u001b[33mpos_ss_cc_challenge_hash\u001b[0m=\u001b[1m<\u001b[0m\u001b[1;95mbytes32:\u001b[0m\u001b[39m 0eb93be69bf0ea0dbb8033e7a78c8e0f03c742a08be363820a9d2b9562ab9acc\u001b[0m\u001b[1m>\u001b[0m,\n",
       "        \u001b[33mproof_of_space\u001b[0m=\u001b[1;35mProofOfSpace\u001b[0m\u001b[1m(\u001b[0m\n",
       "            \u001b[33mchallenge\u001b[0m=\u001b[1m<\u001b[0m\u001b[1;95mbytes32:\u001b[0m\u001b[39m 2195f470a0443e3921bf692bcd7994567713f53c19241466871344e48b6167eb\u001b[0m\u001b[1m>\u001b[0m,\n",
       "            \u001b[33mpool_public_key\u001b[0m=\u001b[1m<\u001b[0m\u001b[1;95mG1Element\u001b[0m\u001b[39m a4a37edd90627978204fe23ac77ad5e2f5555dff8de5e9699c7f6ca7b3b5318c5b5c4779f0ff265faf70ff4fe7685b12\u001b[0m\u001b[1m>\u001b[0m,\n",
       "            \u001b[33mpool_contract_puzzle_hash\u001b[0m=\u001b[3;35mNone\u001b[0m,\n",
       "            \u001b[33mplot_public_key\u001b[0m=\u001b[1m<\u001b[0m\u001b[1;95mG1Element\u001b[0m\u001b[39m 8a33e8bcc30aecffa75d708af66bceca1edfefa971885e012f3cebc9904dbbd11d5393a1aef8ffa0f01b76f31852080f\u001b[0m\u001b[1m>\u001b[0m,\n",
       "            \u001b[33msize\u001b[0m=\u001b[1;36m19\u001b[0m,\n",
       "            \u001b[33mproof\u001b[0m=\u001b[32mb\"\u001b[0m\u001b[32m\\x0f\\xe4/;S\\xf2\\xf4\\xdeD\\x01\\xcb\\xaa\\xf2\\xc5\\x9e\\xd9\\xf9\\xc0\\xa7#\u001b[0m\u001b[32m)\u001b[0m\u001b[32m\\xc4W\\xf8Z\\x06\\xfd\\x80r\\x01*l\\x7f\\xd4kJ\\x95\\xe1t-\\x9c\\xdb#n\\xab4W\u001b[0m\u001b[32m}\u001b[0m\u001b[32m*\\xec\\x071y\\x08\\x0ed\\xbdom$3\\\u001b[0m\u001b[32mx08\u001b[0m\u001b[32m=\\xe7\\xb9K'\\xdd\\xc4\\x81\\xdb\\xefL8\\x7fZ\\x9a3\\xb5\\xad\\xa5\\x16\\xea\\xae\\x89\\xf4.\\xabVvC\\xc6*\\xff\\xd9_\\xf2\\xdcm\\xa6\\xe6\\xcc\\x84M\\xad\\xeb\\\\s\\x86\\xf6\\xe0O\\x0b\\xfb\\x9eg\\xe0\\x11d\\xfe,\\xea\\xbe\\x1aB\\r\u001b[0m\u001b[32m[\u001b[0m\u001b[32mm\\xae\\xe6\\xf2L6^\\x93\\x902\\xba\\x10sg\\xad\\xda1\\xa5\\x7fH\\x8eBm\\xeeS\"\u001b[0m\n",
       "        \u001b[1m)\u001b[0m,\n",
       "        \u001b[33mchallenge_chain_sp_vdf\u001b[0m=\u001b[1;35mVDFInfo\u001b[0m\u001b[1m(\u001b[0m\n",
       "            \u001b[33mchallenge\u001b[0m=\u001b[1m<\u001b[0m\u001b[1;95mbytes32:\u001b[0m\u001b[39m 0eb93be69bf0ea0dbb8033e7a78c8e0f03c742a08be363820a9d2b9562ab9acc\u001b[0m\u001b[1m>\u001b[0m,\n",
       "            \u001b[33mnumber_of_iterations\u001b[0m=\u001b[1;36m896\u001b[0m,\n",
       "            \u001b[33moutput\u001b[0m=\u001b[1;35mClassgroupElement\u001b[0m\u001b[1m(\u001b[0m\n",
       "                \u001b[33mdata\u001b[0m=\u001b[1m<\u001b[0m\u001b[1;95mbytes100:\u001b[0m\u001b[39m \u001b[0m\u001b[1;36m03004300010100000000000000000000000000000000000000000000000000000000000000000000000000000000000000000000000000000000000000000000000000000000000000000000000000000000000000000000000000000000000000000000\u001b[0m\u001b[1m>\u001b[0m\n",
       "            \u001b[1m)\u001b[0m\n",
       "        \u001b[1m)\u001b[0m,\n",
       "        \u001b[33mchallenge_chain_sp_signature\u001b[0m=\u001b[1m<\u001b[0m\u001b[1;95mG2Element\u001b[0m\u001b[39m 8b9624adc771077aed624680f5e08f93924cfa9e5732dbcb2420b3ead58413288b12ddd2180e896ea2a0dd0ac9d2ff9d145249264899e9474a9718d03f165b3a3ee90b1655313b5473a713a9b504e577ae9e7839cf31130fc17f5acfd9a05331\u001b[0m\u001b[1m>\u001b[0m,\n",
       "        \u001b[33mchallenge_chain_ip_vdf\u001b[0m=\u001b[1;35mVDFInfo\u001b[0m\u001b[1m(\u001b[0m\n",
       "            \u001b[33mchallenge\u001b[0m=\u001b[1m<\u001b[0m\u001b[1;95mbytes32:\u001b[0m\u001b[39m 83616d03da35d176e4c757f317e3c86a320adc3d495354e7c1330cfccc8cc8a9\u001b[0m\u001b[1m>\u001b[0m,\n",
       "            \u001b[33mnumber_of_iterations\u001b[0m=\u001b[1;36m125\u001b[0m,\n",
       "            \u001b[33moutput\u001b[0m=\u001b[1;35mClassgroupElement\u001b[0m\u001b[1m(\u001b[0m\n",
       "                \u001b[33mdata\u001b[0m=\u001b[1m<\u001b[0m\u001b[1;95mbytes100:\u001b[0m\u001b[39m 00001d00010100000000000000000000000000000000000000000000000000000000000000000000000000000000000000000000000000000000000000000000000000000000000000000000000000000000000000000000000000000000000000000000\u001b[0m\u001b[1m>\u001b[0m\n",
       "            \u001b[1m)\u001b[0m\n",
       "        \u001b[1m)\u001b[0m,\n",
       "        \u001b[33mreward_chain_sp_vdf\u001b[0m=\u001b[1;35mVDFInfo\u001b[0m\u001b[1m(\u001b[0m\n",
       "            \u001b[33mchallenge\u001b[0m=\u001b[1m<\u001b[0m\u001b[1;95mbytes32:\u001b[0m\u001b[39m 6ceec1a03d2a512a79c9266205127ef2a2f7334f94c3bfe09b7d653d1bc507bf\u001b[0m\u001b[1m>\u001b[0m,\n",
       "            \u001b[33mnumber_of_iterations\u001b[0m=\u001b[1;36m762\u001b[0m,\n",
       "            \u001b[33moutput\u001b[0m=\u001b[1;35mClassgroupElement\u001b[0m\u001b[1m(\u001b[0m\n",
       "                \u001b[33mdata\u001b[0m=\u001b[1m<\u001b[0m\u001b[1;95mbytes100:\u001b[0m\u001b[39m \u001b[0m\u001b[1;36m02002e00030200000000000000000000000000000000000000000000000000000000000000000000000000000000000000000000000000000000000000000000000000000000000000000000000000000000000000000000000000000000000000000000\u001b[0m\u001b[1m>\u001b[0m\n",
       "            \u001b[1m)\u001b[0m\n",
       "        \u001b[1m)\u001b[0m,\n",
       "        \u001b[33mreward_chain_sp_signature\u001b[0m=\u001b[1m<\u001b[0m\u001b[1;95mG2Element\u001b[0m\u001b[39m a0a552a4b1aaaaf21d83e68131d8c0c36e893c9e2116681a9ce7b0a6b58f5b07fab55c524106a96129bd261461af75c00ab3a3c5a4ae22c2c35c53b28b64171926e67cc82d22f23186d0c956522e299b769f6aee7d60709d822aec3222b952c1\u001b[0m\u001b[1m>\u001b[0m,\n",
       "        \u001b[33mreward_chain_ip_vdf\u001b[0m=\u001b[1;35mVDFInfo\u001b[0m\u001b[1m(\u001b[0m\n",
       "            \u001b[33mchallenge\u001b[0m=\u001b[1m<\u001b[0m\u001b[1;95mbytes32:\u001b[0m\u001b[39m b0e73e6b7657bf9681505be4777b015af9cd3da096a9131b389090090f26a885\u001b[0m\u001b[1m>\u001b[0m,\n",
       "            \u001b[33mnumber_of_iterations\u001b[0m=\u001b[1;36m125\u001b[0m,\n",
       "            \u001b[33moutput\u001b[0m=\u001b[1;35mClassgroupElement\u001b[0m\u001b[1m(\u001b[0m\n",
       "                \u001b[33mdata\u001b[0m=\u001b[1m<\u001b[0m\u001b[1;95mbytes100:\u001b[0m\u001b[39m \u001b[0m\u001b[1;36m02000800010100000000000000000000000000000000000000000000000000000000000000000000000000000000000000000000000000000000000000000000000000000000000000000000000000000000000000000000000000000000000000000000\u001b[0m\u001b[1m>\u001b[0m\n",
       "            \u001b[1m)\u001b[0m\n",
       "        \u001b[1m)\u001b[0m,\n",
       "        \u001b[33minfused_challenge_chain_ip_vdf\u001b[0m=\u001b[1;35mVDFInfo\u001b[0m\u001b[1m(\u001b[0m\n",
       "            \u001b[33mchallenge\u001b[0m=\u001b[1m<\u001b[0m\u001b[1;95mbytes32:\u001b[0m\u001b[39m 3aec608c1932a52fa8a753d094acca70180bef4973408b2e41362dd7d2626acc\u001b[0m\u001b[1m>\u001b[0m,\n",
       "            \u001b[33mnumber_of_iterations\u001b[0m=\u001b[1;36m125\u001b[0m,\n",
       "            \u001b[33moutput\u001b[0m=\u001b[1;35mClassgroupElement\u001b[0m\u001b[1m(\u001b[0m\n",
       "                \u001b[33mdata\u001b[0m=\u001b[1m<\u001b[0m\u001b[1;95mbytes100:\u001b[0m\u001b[39m 03000c00010301000000000000000000000000000000000000000000000000000000000000000000000000000000000000000000000000000000000000000000000000000000000000000000000000000000000000000000000000000000000000000000\u001b[0m\u001b[1m>\u001b[0m\n",
       "            \u001b[1m)\u001b[0m\n",
       "        \u001b[1m)\u001b[0m,\n",
       "        \u001b[33mis_transaction_block\u001b[0m=\u001b[3;92mTrue\u001b[0m\n",
       "    \u001b[1m)\u001b[0m,\n",
       "    \u001b[33mchallenge_chain_sp_proof\u001b[0m=\u001b[1;35mVDFProof\u001b[0m\u001b[1m(\u001b[0m\n",
       "        \u001b[33mwitness_type\u001b[0m=\u001b[1;36m0\u001b[0m,\n",
       "        \u001b[33mwitness\u001b[0m=\u001b[32mb\u001b[0m\u001b[32m'\\x01\\x00\"\\x00\\x01\\x01\\x00\\x00\\x00\\x00\\x00\\x00\\x00\\x00\\x00\\x00\\x00\\x00\\x00\\x00\\x00\\x00\\x00\\x00\\x00\\x00\\x00\\x00\\x00\\x00\\x00\\x00\\x00\\x00\\x00\\x00\\x00\\x00\\x00\\x00\\x00\\x00\\x00\\x00\\x00\\x00\\x00\\x00\\x00\\x00\\x00\\x00\\x00\\x00\\x00\\x00\\x00\\x00\\x00\\x00\\x00\\x00\\x00\\x00\\x00\\x00\\x00\\x00\\x00\\x00\\x00\\x00\\x00\\x00\\x00\\x00\\x00\\x00\\x00\\x00\\x00\\x00\\x00\\x00\\x00\\x00\\x00\\x00\\x00\\x00\\x00\\x00\\x00\\x00\\x00\\x00\\x00\\x00\\x00\\x00'\u001b[0m,\n",
       "        \u001b[33mnormalized_to_identity\u001b[0m=\u001b[3;91mFalse\u001b[0m\n",
       "    \u001b[1m)\u001b[0m,\n",
       "    \u001b[33mchallenge_chain_ip_proof\u001b[0m=\u001b[1;35mVDFProof\u001b[0m\u001b[1m(\u001b[0m\n",
       "        \u001b[33mwitness_type\u001b[0m=\u001b[1;36m0\u001b[0m,\n",
       "        \u001b[33mwitness\u001b[0m=\u001b[32mb\u001b[0m\u001b[32m'\\x04\\x00\\x00\\x00\\x00\\x00\\x00\\x00\\x00\\x00\\x00\\x00\\x00\\x00\\x00\\x00\\x00\\x00\\x00\\x00\\x00\\x00\\x00\\x00\\x00\\x00\\x00\\x00\\x00\\x00\\x00\\x00\\x00\\x00\\x00\\x00\\x00\\x00\\x00\\x00\\x00\\x00\\x00\\x00\\x00\\x00\\x00\\x00\\x00\\x00\\x00\\x00\\x00\\x00\\x00\\x00\\x00\\x00\\x00\\x00\\x00\\x00\\x00\\x00\\x00\\x00\\x00\\x00\\x00\\x00\\x00\\x00\\x00\\x00\\x00\\x00\\x00\\x00\\x00\\x00\\x00\\x00\\x00\\x00\\x00\\x00\\x00\\x00\\x00\\x00\\x00\\x00\\x00\\x00\\x00\\x00\\x00\\x00\\x00\\x00'\u001b[0m,\n",
       "        \u001b[33mnormalized_to_identity\u001b[0m=\u001b[3;91mFalse\u001b[0m\n",
       "    \u001b[1m)\u001b[0m,\n",
       "    \u001b[33mreward_chain_sp_proof\u001b[0m=\u001b[1;35mVDFProof\u001b[0m\u001b[1m(\u001b[0m\n",
       "        \u001b[33mwitness_type\u001b[0m=\u001b[1;36m0\u001b[0m,\n",
       "        \u001b[33mwitness\u001b[0m=\u001b[32mb\u001b[0m\u001b[32m'\\x01\\x00\\x08\\x00\\x01\\x01\\x00\\x00\\x00\\x00\\x00\\x00\\x00\\x00\\x00\\x00\\x00\\x00\\x00\\x00\\x00\\x00\\x00\\x00\\x00\\x00\\x00\\x00\\x00\\x00\\x00\\x00\\x00\\x00\\x00\\x00\\x00\\x00\\x00\\x00\\x00\\x00\\x00\\x00\\x00\\x00\\x00\\x00\\x00\\x00\\x00\\x00\\x00\\x00\\x00\\x00\\x00\\x00\\x00\\x00\\x00\\x00\\x00\\x00\\x00\\x00\\x00\\x00\\x00\\x00\\x00\\x00\\x00\\x00\\x00\\x00\\x00\\x00\\x00\\x00\\x00\\x00\\x00\\x00\\x00\\x00\\x00\\x00\\x00\\x00\\x00\\x00\\x00\\x00\\x00\\x00\\x00\\x00\\x00\\x00'\u001b[0m,\n",
       "        \u001b[33mnormalized_to_identity\u001b[0m=\u001b[3;91mFalse\u001b[0m\n",
       "    \u001b[1m)\u001b[0m,\n",
       "    \u001b[33mreward_chain_ip_proof\u001b[0m=\u001b[1;35mVDFProof\u001b[0m\u001b[1m(\u001b[0m\n",
       "        \u001b[33mwitness_type\u001b[0m=\u001b[1;36m0\u001b[0m,\n",
       "        \u001b[33mwitness\u001b[0m=\u001b[32mb\u001b[0m\u001b[32m'\\x04\\x00\\x00\\x00\\x00\\x00\\x00\\x00\\x00\\x00\\x00\\x00\\x00\\x00\\x00\\x00\\x00\\x00\\x00\\x00\\x00\\x00\\x00\\x00\\x00\\x00\\x00\\x00\\x00\\x00\\x00\\x00\\x00\\x00\\x00\\x00\\x00\\x00\\x00\\x00\\x00\\x00\\x00\\x00\\x00\\x00\\x00\\x00\\x00\\x00\\x00\\x00\\x00\\x00\\x00\\x00\\x00\\x00\\x00\\x00\\x00\\x00\\x00\\x00\\x00\\x00\\x00\\x00\\x00\\x00\\x00\\x00\\x00\\x00\\x00\\x00\\x00\\x00\\x00\\x00\\x00\\x00\\x00\\x00\\x00\\x00\\x00\\x00\\x00\\x00\\x00\\x00\\x00\\x00\\x00\\x00\\x00\\x00\\x00\\x00'\u001b[0m,\n",
       "        \u001b[33mnormalized_to_identity\u001b[0m=\u001b[3;91mFalse\u001b[0m\n",
       "    \u001b[1m)\u001b[0m,\n",
       "    \u001b[33minfused_challenge_chain_ip_proof\u001b[0m=\u001b[1;35mVDFProof\u001b[0m\u001b[1m(\u001b[0m\n",
       "        \u001b[33mwitness_type\u001b[0m=\u001b[1;36m0\u001b[0m,\n",
       "        \u001b[33mwitness\u001b[0m=\u001b[32mb\u001b[0m\u001b[32m'\\x04\\x00\\x00\\x00\\x00\\x00\\x00\\x00\\x00\\x00\\x00\\x00\\x00\\x00\\x00\\x00\\x00\\x00\\x00\\x00\\x00\\x00\\x00\\x00\\x00\\x00\\x00\\x00\\x00\\x00\\x00\\x00\\x00\\x00\\x00\\x00\\x00\\x00\\x00\\x00\\x00\\x00\\x00\\x00\\x00\\x00\\x00\\x00\\x00\\x00\\x00\\x00\\x00\\x00\\x00\\x00\\x00\\x00\\x00\\x00\\x00\\x00\\x00\\x00\\x00\\x00\\x00\\x00\\x00\\x00\\x00\\x00\\x00\\x00\\x00\\x00\\x00\\x00\\x00\\x00\\x00\\x00\\x00\\x00\\x00\\x00\\x00\\x00\\x00\\x00\\x00\\x00\\x00\\x00\\x00\\x00\\x00\\x00\\x00\\x00'\u001b[0m,\n",
       "        \u001b[33mnormalized_to_identity\u001b[0m=\u001b[3;91mFalse\u001b[0m\n",
       "    \u001b[1m)\u001b[0m,\n",
       "    \u001b[33mfoliage\u001b[0m=\u001b[1;35mFoliage\u001b[0m\u001b[1m(\u001b[0m\n",
       "        \u001b[33mprev_block_hash\u001b[0m=\u001b[1m<\u001b[0m\u001b[1;95mbytes32:\u001b[0m\u001b[39m 7d91b636f8174f505c6c81052b9a08647628244d6976652e61c10502db4d374c\u001b[0m\u001b[1m>\u001b[0m,\n",
       "        \u001b[33mreward_block_hash\u001b[0m=\u001b[1m<\u001b[0m\u001b[1;95mbytes32:\u001b[0m\u001b[39m 756e903b6b6ce01db2aa31b6d2fe554a660dfbc6029618af47a84ce04edf4de7\u001b[0m\u001b[1m>\u001b[0m,\n",
       "        \u001b[33mfoliage_block_data\u001b[0m=\u001b[1;35mFoliageBlockData\u001b[0m\u001b[1m(\u001b[0m\n",
       "            \u001b[33munfinished_reward_block_hash\u001b[0m=\u001b[1m<\u001b[0m\u001b[1;95mbytes32:\u001b[0m\u001b[39m 7196d93104ce6cacb5296068ada25eed03dc56c200ddebff21545661be7b3fd7\u001b[0m\u001b[1m>\u001b[0m,\n",
       "            \u001b[33mpool_target\u001b[0m=\u001b[1;35mPoolTarget\u001b[0m\u001b[1m(\u001b[0m\n",
       "                \u001b[33mpuzzle_hash\u001b[0m=\u001b[1m<\u001b[0m\u001b[1;95mbytes32:\u001b[0m\u001b[39m 121cbc81114741b39f7cf6aa6180303a2f5fee9d0e5ef3986a0215ca46b41385\u001b[0m\u001b[1m>\u001b[0m,\n",
       "                \u001b[33mmax_height\u001b[0m=\u001b[1;36m0\u001b[0m\n",
       "            \u001b[1m)\u001b[0m,\n",
       "            \u001b[33mpool_signature\u001b[0m=\u001b[1m<\u001b[0m\u001b[1;95mG2Element\u001b[0m\u001b[39m 8d5bba4dbf1252220580880a3f9fc26dbfe51ab3174d90666bf4bba09a6b7940ad4914b0970330347ff10261d5aec532052a7a5a0f54b06a29f792034a73c74c7beb7184ff2f4a3acb08d0a87c7be2a0dbe4483aaa78d9c8e9db3f5996c185c6\u001b[0m\u001b[1m>\u001b[0m,\n",
       "            \u001b[33mfarmer_reward_puzzle_hash\u001b[0m=\u001b[1m<\u001b[0m\u001b[1;95mbytes32:\u001b[0m\u001b[39m 121cbc81114741b39f7cf6aa6180303a2f5fee9d0e5ef3986a0215ca46b41385\u001b[0m\u001b[1m>\u001b[0m,\n",
       "            \u001b[33mextension_data\u001b[0m=\u001b[1m<\u001b[0m\u001b[1;95mbytes32:\u001b[0m\u001b[39m 0000000000000000000000000000000000000000000000000000000003a2c7c9\u001b[0m\u001b[1m>\u001b[0m\n",
       "        \u001b[1m)\u001b[0m,\n",
       "        \u001b[33mfoliage_block_data_signature\u001b[0m=\u001b[1m<\u001b[0m\u001b[1;95mG2Element\u001b[0m\u001b[39m 896ea691e744f4cc7352272cd7b7954c1322de40160413c7d59dbbb3751f661727b6ffb11f0099ef59c45a9ed3adeb9804aec744e59224cf52a937312c3bc24b67e8d9899cae3bcc7090a2aad694b44fa2571c7ea7a24dfc545e150804df9f38\u001b[0m\u001b[1m>\u001b[0m,\n",
       "        \u001b[33mfoliage_transaction_block_hash\u001b[0m=\u001b[1m<\u001b[0m\u001b[1;95mbytes32:\u001b[0m\u001b[39m c44b91df80099db4bf2e03e9beea1bb7d33cce55d56aabbf0623cac2c463e98b\u001b[0m\u001b[1m>\u001b[0m,\n",
       "        \u001b[33mfoliage_transaction_block_signature\u001b[0m=\u001b[1m<\u001b[0m\u001b[1;95mG2Element\u001b[0m\u001b[39m b52a577f03601f7318e7820642e0008596da9da668548cfeb5cc09b65d7c456ffab779ce6a7c5d3efa40f520d18239b4087a08051c77ab01a949befe87ec97983391728a8989de52bc54b42a8a931f2c87c1665239a8f43e63e083c32f1443b0\u001b[0m\u001b[1m>\u001b[0m\n",
       "    \u001b[1m)\u001b[0m,\n",
       "    \u001b[33mfoliage_transaction_block\u001b[0m=\u001b[1;35mFoliageTransactionBlock\u001b[0m\u001b[1m(\u001b[0m\n",
       "        \u001b[33mprev_transaction_block_hash\u001b[0m=\u001b[1m<\u001b[0m\u001b[1;95mbytes32:\u001b[0m\u001b[39m 7d91b636f8174f505c6c81052b9a08647628244d6976652e61c10502db4d374c\u001b[0m\u001b[1m>\u001b[0m,\n",
       "        \u001b[33mtimestamp\u001b[0m=\u001b[1;36m1668526174\u001b[0m,\n",
       "        \u001b[33mfilter_hash\u001b[0m=\u001b[1m<\u001b[0m\u001b[1;95mbytes32:\u001b[0m\u001b[39m 7cf51587f2031ad2841b5f44fab27355107cd0f973d6ff19b4835767878fffc6\u001b[0m\u001b[1m>\u001b[0m,\n",
       "        \u001b[33madditions_root\u001b[0m=\u001b[1m<\u001b[0m\u001b[1;95mbytes32:\u001b[0m\u001b[39m 83ba2a535353952abf60c35addf951d1b5238bae2c408601bffb85ea17360908\u001b[0m\u001b[1m>\u001b[0m,\n",
       "        \u001b[33mremovals_root\u001b[0m=\u001b[1m<\u001b[0m\u001b[1;95mbytes32:\u001b[0m\u001b[39m \u001b[0m\u001b[1;36m0000000000000000000000000000000000000000000000000000000000000000\u001b[0m\u001b[1m>\u001b[0m,\n",
       "        \u001b[33mtransactions_info_hash\u001b[0m=\u001b[1m<\u001b[0m\u001b[1;95mbytes32:\u001b[0m\u001b[39m ecb983702780688cab2820440154de934c9a4a67e0aec302dfc2660d108a92a2\u001b[0m\u001b[1m>\u001b[0m\n",
       "    \u001b[1m)\u001b[0m,\n",
       "    \u001b[33mtransactions_info\u001b[0m=\u001b[1;35mTransactionsInfo\u001b[0m\u001b[1m(\u001b[0m\n",
       "        \u001b[33mgenerator_root\u001b[0m=\u001b[1m<\u001b[0m\u001b[1;95mbytes32:\u001b[0m\u001b[39m \u001b[0m\u001b[1;36m0000000000000000000000000000000000000000000000000000000000000000\u001b[0m\u001b[1m>\u001b[0m,\n",
       "        \u001b[33mgenerator_refs_root\u001b[0m=\u001b[1m<\u001b[0m\u001b[1;95mbytes32:\u001b[0m\u001b[39m \u001b[0m\u001b[1;36m0101010101010101010101010101010101010101010101010101010101010101\u001b[0m\u001b[1m>\u001b[0m,\n",
       "        \u001b[33maggregated_signature\u001b[0m=\u001b[1m<\u001b[0m\u001b[1;95mG2Element\u001b[0m\u001b[39m c00000000000000000000000000000000000000000000000000000000000000000000000000000000000000000000000000000000000000000000000000000000000000000000000000000000000000000000000000000000000000000000000\u001b[0m\u001b[1m>\u001b[0m,\n",
       "        \u001b[33mfees\u001b[0m=\u001b[1;36m0\u001b[0m,\n",
       "        \u001b[33mcost\u001b[0m=\u001b[1;36m0\u001b[0m,\n",
       "        \u001b[33mreward_claims_incorporated\u001b[0m=\u001b[1m[\u001b[0m\n",
       "            Coin \u001b[1m{\u001b[0m parent_coin_info: eb8c4d20b322be8d9fddbf9412016bdf00000000000000000000000000000001, puzzle_hash: bd85c2c28bd770997c36037fa842fbbb719803dba7ff6b741148739576e68a39, amount: \u001b[1;36m1750000000000\u001b[0m \u001b[1m}\u001b[0m,\n",
       "            Coin \u001b[1m{\u001b[0m parent_coin_info: fe9a2901d7edb0e364e94266d0e095f700000000000000000000000000000001, puzzle_hash: bd85c2c28bd770997c36037fa842fbbb719803dba7ff6b741148739576e68a39, amount: \u001b[1;36m250000000000\u001b[0m \u001b[1m}\u001b[0m\n",
       "        \u001b[1m]\u001b[0m\n",
       "    \u001b[1m)\u001b[0m,\n",
       "    \u001b[33mtransactions_generator\u001b[0m=\u001b[3;35mNone\u001b[0m,\n",
       "    \u001b[33mtransactions_generator_ref_list\u001b[0m=\u001b[1m[\u001b[0m\u001b[1m]\u001b[0m\n",
       "\u001b[1m)\u001b[0m\n"
      ]
     },
     "metadata": {},
     "output_type": "display_data"
    }
   ],
   "source": [
    "await get_block_by_height_async(2)"
   ]
  },
  {
   "cell_type": "code",
   "execution_count": 9,
   "id": "10d52743-1bf1-4ba3-a844-83654e257302",
   "metadata": {},
   "outputs": [
    {
     "data": {
      "text/html": [
       "<pre style=\"white-space:pre;overflow-x:auto;line-height:normal;font-family:Menlo,'DejaVu Sans Mono',consolas,'Courier New',monospace\">\n",
       "<span style=\"color: #800080; text-decoration-color: #800080; font-weight: bold\">CoinRecord</span><span style=\"font-weight: bold\">(</span>\n",
       "    <span style=\"color: #808000; text-decoration-color: #808000\">coin</span>=<span style=\"color: #800080; text-decoration-color: #800080\">Coin</span> <span style=\"font-weight: bold\">{</span> parent_coin_info: fe9a2901d7edb0e364e94266d0e095f700000000000000000000000000000000, puzzle_hash: bd85c2c28bd770997c36037fa842fbbb719803dba7ff6b741148739576e68a39, amount: <span style=\"color: #008080; text-decoration-color: #008080; font-weight: bold\">2625000000000000000</span> <span style=\"font-weight: bold\">}</span>,\n",
       "    <span style=\"color: #808000; text-decoration-color: #808000\">confirmed_block_index</span>=<span style=\"color: #008080; text-decoration-color: #008080; font-weight: bold\">1</span>,\n",
       "    <span style=\"color: #808000; text-decoration-color: #808000\">spent_block_index</span>=<span style=\"color: #008080; text-decoration-color: #008080; font-weight: bold\">0</span>,\n",
       "    <span style=\"color: #808000; text-decoration-color: #808000\">coinbase</span>=<span style=\"color: #00ff00; text-decoration-color: #00ff00; font-style: italic\">True</span>,\n",
       "    <span style=\"color: #808000; text-decoration-color: #808000\">timestamp</span>=<span style=\"color: #008080; text-decoration-color: #008080; font-weight: bold\">1668525007</span>\n",
       "<span style=\"font-weight: bold\">)</span>\n",
       "</pre>\n"
      ],
      "text/plain": [
       "\n",
       "\u001b[1;35mCoinRecord\u001b[0m\u001b[1m(\u001b[0m\n",
       "    \u001b[33mcoin\u001b[0m=\u001b[35mCoin\u001b[0m \u001b[1m{\u001b[0m parent_coin_info: fe9a2901d7edb0e364e94266d0e095f700000000000000000000000000000000, puzzle_hash: bd85c2c28bd770997c36037fa842fbbb719803dba7ff6b741148739576e68a39, amount: \u001b[1;36m2625000000000000000\u001b[0m \u001b[1m}\u001b[0m,\n",
       "    \u001b[33mconfirmed_block_index\u001b[0m=\u001b[1;36m1\u001b[0m,\n",
       "    \u001b[33mspent_block_index\u001b[0m=\u001b[1;36m0\u001b[0m,\n",
       "    \u001b[33mcoinbase\u001b[0m=\u001b[3;92mTrue\u001b[0m,\n",
       "    \u001b[33mtimestamp\u001b[0m=\u001b[1;36m1668525007\u001b[0m\n",
       "\u001b[1m)\u001b[0m\n"
      ]
     },
     "metadata": {},
     "output_type": "display_data"
    }
   ],
   "source": [
    "await get_coin_record_by_name_async('c5149017be6a5af5b9b876165137b3b04ba50ba079f92320a063e344e73c9130')"
   ]
  }
 ],
 "metadata": {
  "kernelspec": {
   "display_name": "Python 3 (ipykernel)",
   "language": "python",
   "name": "python3"
  },
  "language_info": {
   "codemirror_mode": {
    "name": "ipython",
    "version": 3
   },
   "file_extension": ".py",
   "mimetype": "text/x-python",
   "name": "python",
   "nbconvert_exporter": "python",
   "pygments_lexer": "ipython3",
   "version": "3.10.8"
  }
 },
 "nbformat": 4,
 "nbformat_minor": 5
}
