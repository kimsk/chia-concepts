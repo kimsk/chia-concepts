{
 "cells": [
  {
   "cell_type": "code",
   "execution_count": 1,
   "id": "1fc5f31a-4e04-4df2-941e-82f7a694b6de",
   "metadata": {},
   "outputs": [
    {
     "name": "stdout",
     "output_type": "stream",
     "text": [
      "Wallet address 0: txch1zgwteqg3gaqm88mu764xrqps8gh4lm5ape008xr2qg2u5345zwzswr3wvy\n",
      "Wallet address 1: txch1va46l8pd2c2h2djs5jved3hfqkh0384tcda8347xt4u6rfea02lsztjjmv\n",
      "Wallet address 2: txch15c59kptqzxj9s0jqwm9035pkldg3qcy42kl7czsu6wyp465twwlsjcdehn\n",
      "Wallet address 3: txch1tngsu0rj98c2c077rdkdhxt9pljtzg9mq2rxy3jwl769ltxe43lqskcu9h\n",
      "Wallet address 4: txch1dagw2tqqfzzfy0krhqvp9dlgrmr7e774cjlfjlutyqtkas67j44sxu3afy\n"
     ]
    }
   ],
   "source": [
    "%%bash\n",
    "chia keys derive -f 4001300365 wallet-address -n 5"
   ]
  },
  {
   "cell_type": "code",
   "execution_count": 2,
   "id": "7f99aec0-79c8-4f9b-82a1-a9eb01b22043",
   "metadata": {},
   "outputs": [
    {
     "name": "stdout",
     "output_type": "stream",
     "text": [
      "Wallet height: 11\n",
      "Sync status: Synced\n",
      "Balances, fingerprint: 4001300365\n",
      "\n",
      "Chia Wallet:\n",
      "   -Total Balance:         1.999499999997 txch (1999499999997 mojo)\n",
      "   -Pending Total Balance: 1.999499999997 txch (1999499999997 mojo)\n",
      "   -Spendable:             1.999499999997 txch (1999499999997 mojo)\n",
      "   -Type:                  STANDARD_WALLET\n",
      "   -Wallet ID:             1\n",
      "\n",
      "Profile 1:\n",
      "   -Total Balance:         1.0  \n",
      "   -Pending Total Balance: 1.0  \n",
      "   -Spendable:             1.0  \n",
      "   -Type:                  DECENTRALIZED_ID\n",
      "   -DID ID:                did:chia:1fcs44905vc749sdcnqem4xh3fzmmx65p7htrz4p2rnrhe9m4jvgqy5j9pa\n",
      "   -Wallet ID:             2\n",
      "\n",
      "Profile 2:\n",
      "   -Total Balance:         1.0  \n",
      "   -Pending Total Balance: 1.0  \n",
      "   -Spendable:             1.0  \n",
      "   -Type:                  DECENTRALIZED_ID\n",
      "   -DID ID:                did:chia:1u7mstlcyenx22jnzyucnhzrnzecg0gr7996n0alkncl09gdnd0pq0fz0c8\n",
      "   -Wallet ID:             4\n",
      "\n",
      "NFT Wallet:\n",
      "   -Total Balance:         0.0  \n",
      "   -Pending Total Balance: 0.0  \n",
      "   -Spendable:             0.0  \n",
      "   -Type:                  NFT\n",
      "   -Wallet ID:             10\n",
      "\n",
      "NFT Wallet:\n",
      "   -Total Balance:         0.0  \n",
      "   -Pending Total Balance: 0.0  \n",
      "   -Spendable:             0.0  \n",
      "   -Type:                  NFT\n",
      "   -DID ID:                did:chia:1u7mstlcyenx22jnzyucnhzrnzecg0gr7996n0alkncl09gdnd0pq0fz0c8\n",
      "   -Wallet ID:             11\n",
      " \n",
      "Connections:\n",
      "Type      IP                                      Ports       NodeID      Last Connect      MiB Up|Dwn\n",
      "FULL_NODE 127.0.0.1                               48718/48718 6a6c3006... Nov 21 10:28:19      0.0|0.0    \n",
      "                                                  -Height: No Info    -Hash: No Info    -Trusted: True\n"
     ]
    }
   ],
   "source": [
    "%%bash\n",
    "chia wallet show -f 4001300365"
   ]
  },
  {
   "cell_type": "code",
   "execution_count": 3,
   "id": "f8294bba-9079-4f9c-b13a-7ed9e1125970",
   "metadata": {},
   "outputs": [],
   "source": [
    "import aiosqlite\n",
    "from pathlib import Path\n",
    "DB_VERSION = 2\n",
    "DB_PATH = Path(f'/Users/karlkim/.chia/simulator/hints/db/blockchain_v2_simulator0.sqlite')"
   ]
  },
  {
   "cell_type": "code",
   "execution_count": 4,
   "id": "88b3a21a-50f5-480c-8a2f-84b787f3d273",
   "metadata": {},
   "outputs": [
    {
     "data": {
      "text/html": [
       "<pre style=\"white-space:pre;overflow-x:auto;line-height:normal;font-family:Menlo,'DejaVu Sans Mono',consolas,'Courier New',monospace\">coin_id: bee957687d5e5ef69537a99f125146e267c722c0e2a0d427e7e3d788c2443c0c\n",
       "</pre>\n"
      ],
      "text/plain": [
       "coin_id: bee957687d5e5ef69537a99f125146e267c722c0e2a0d427e7e3d788c2443c0c\n"
      ]
     },
     "metadata": {},
     "output_type": "display_data"
    },
    {
     "data": {
      "text/html": [
       "<pre style=\"white-space:pre;overflow-x:auto;line-height:normal;font-family:Menlo,'DejaVu Sans Mono',consolas,'Courier New',monospace\">hint:    676baf9c2d5615753650a49996c6e905aef89eabc37a78d7c65d79a1a73d7abf\n",
       "</pre>\n"
      ],
      "text/plain": [
       "hint:    676baf9c2d5615753650a49996c6e905aef89eabc37a78d7c65d79a1a73d7abf\n"
      ]
     },
     "metadata": {},
     "output_type": "display_data"
    },
    {
     "data": {
      "text/html": [
       "<pre style=\"white-space:pre;overflow-x:auto;line-height:normal;font-family:Menlo,'DejaVu Sans Mono',consolas,'Courier New',monospace\">addr:    txch1va46l8pd2c2h2djs5jved3hfqkh0384tcda8347xt4u6rfea02lsztjjmv\n",
       "\n",
       "</pre>\n"
      ],
      "text/plain": [
       "addr:    txch1va46l8pd2c2h2djs5jved3hfqkh0384tcda8347xt4u6rfea02lsztjjmv\n",
       "\n"
      ]
     },
     "metadata": {},
     "output_type": "display_data"
    },
    {
     "data": {
      "text/html": [
       "<pre style=\"white-space:pre;overflow-x:auto;line-height:normal;font-family:Menlo,'DejaVu Sans Mono',consolas,'Courier New',monospace\">coin_id: 552add06fcb8986371bc3892233a3d29021377220411a072766486f005d7b42c\n",
       "</pre>\n"
      ],
      "text/plain": [
       "coin_id: 552add06fcb8986371bc3892233a3d29021377220411a072766486f005d7b42c\n"
      ]
     },
     "metadata": {},
     "output_type": "display_data"
    },
    {
     "data": {
      "text/html": [
       "<pre style=\"white-space:pre;overflow-x:auto;line-height:normal;font-family:Menlo,'DejaVu Sans Mono',consolas,'Courier New',monospace\">hint:    5cd10e3c7229f0ac3fde1b6cdb99650fe4b120bb028662464effb45facd9ac7e\n",
       "</pre>\n"
      ],
      "text/plain": [
       "hint:    5cd10e3c7229f0ac3fde1b6cdb99650fe4b120bb028662464effb45facd9ac7e\n"
      ]
     },
     "metadata": {},
     "output_type": "display_data"
    },
    {
     "data": {
      "text/html": [
       "<pre style=\"white-space:pre;overflow-x:auto;line-height:normal;font-family:Menlo,'DejaVu Sans Mono',consolas,'Courier New',monospace\">addr:    txch1tngsu0rj98c2c077rdkdhxt9pljtzg9mq2rxy3jwl769ltxe43lqskcu9h\n",
       "\n",
       "</pre>\n"
      ],
      "text/plain": [
       "addr:    txch1tngsu0rj98c2c077rdkdhxt9pljtzg9mq2rxy3jwl769ltxe43lqskcu9h\n",
       "\n"
      ]
     },
     "metadata": {},
     "output_type": "display_data"
    },
    {
     "data": {
      "text/html": [
       "<pre style=\"white-space:pre;overflow-x:auto;line-height:normal;font-family:Menlo,'DejaVu Sans Mono',consolas,'Courier New',monospace\">coin_id: 83d36e93ca4255b388143d4193a0ce1d8399cdc0fa2ee277f50b8bf4dbc96a47\n",
       "</pre>\n"
      ],
      "text/plain": [
       "coin_id: 83d36e93ca4255b388143d4193a0ce1d8399cdc0fa2ee277f50b8bf4dbc96a47\n"
      ]
     },
     "metadata": {},
     "output_type": "display_data"
    },
    {
     "data": {
      "text/html": [
       "<pre style=\"white-space:pre;overflow-x:auto;line-height:normal;font-family:Menlo,'DejaVu Sans Mono',consolas,'Courier New',monospace\">hint:    121cbc81114741b39f7cf6aa6180303a2f5fee9d0e5ef3986a0215ca46b41385\n",
       "</pre>\n"
      ],
      "text/plain": [
       "hint:    121cbc81114741b39f7cf6aa6180303a2f5fee9d0e5ef3986a0215ca46b41385\n"
      ]
     },
     "metadata": {},
     "output_type": "display_data"
    },
    {
     "data": {
      "text/html": [
       "<pre style=\"white-space:pre;overflow-x:auto;line-height:normal;font-family:Menlo,'DejaVu Sans Mono',consolas,'Courier New',monospace\">addr:    txch1zgwteqg3gaqm88mu764xrqps8gh4lm5ape008xr2qg2u5345zwzswr3wvy\n",
       "\n",
       "</pre>\n"
      ],
      "text/plain": [
       "addr:    txch1zgwteqg3gaqm88mu764xrqps8gh4lm5ape008xr2qg2u5345zwzswr3wvy\n",
       "\n"
      ]
     },
     "metadata": {},
     "output_type": "display_data"
    },
    {
     "data": {
      "text/html": [
       "<pre style=\"white-space:pre;overflow-x:auto;line-height:normal;font-family:Menlo,'DejaVu Sans Mono',consolas,'Courier New',monospace\">coin_id: 4c57566e626efb6f857b80e3d29cc3082b8712340480ddfd7370379cfb3a6a95\n",
       "</pre>\n"
      ],
      "text/plain": [
       "coin_id: 4c57566e626efb6f857b80e3d29cc3082b8712340480ddfd7370379cfb3a6a95\n"
      ]
     },
     "metadata": {},
     "output_type": "display_data"
    },
    {
     "data": {
      "text/html": [
       "<pre style=\"white-space:pre;overflow-x:auto;line-height:normal;font-family:Menlo,'DejaVu Sans Mono',consolas,'Courier New',monospace\">hint:    5cd10e3c7229f0ac3fde1b6cdb99650fe4b120bb028662464effb45facd9ac7e\n",
       "</pre>\n"
      ],
      "text/plain": [
       "hint:    5cd10e3c7229f0ac3fde1b6cdb99650fe4b120bb028662464effb45facd9ac7e\n"
      ]
     },
     "metadata": {},
     "output_type": "display_data"
    },
    {
     "data": {
      "text/html": [
       "<pre style=\"white-space:pre;overflow-x:auto;line-height:normal;font-family:Menlo,'DejaVu Sans Mono',consolas,'Courier New',monospace\">addr:    txch1tngsu0rj98c2c077rdkdhxt9pljtzg9mq2rxy3jwl769ltxe43lqskcu9h\n",
       "\n",
       "</pre>\n"
      ],
      "text/plain": [
       "addr:    txch1tngsu0rj98c2c077rdkdhxt9pljtzg9mq2rxy3jwl769ltxe43lqskcu9h\n",
       "\n"
      ]
     },
     "metadata": {},
     "output_type": "display_data"
    },
    {
     "data": {
      "text/html": [
       "<pre style=\"white-space:pre;overflow-x:auto;line-height:normal;font-family:Menlo,'DejaVu Sans Mono',consolas,'Courier New',monospace\">coin_id: 15b26a90eae059b9524fc0bd74a5fb012c008352d7f4cd37fadd4e83b2391ca1\n",
       "</pre>\n"
      ],
      "text/plain": [
       "coin_id: 15b26a90eae059b9524fc0bd74a5fb012c008352d7f4cd37fadd4e83b2391ca1\n"
      ]
     },
     "metadata": {},
     "output_type": "display_data"
    },
    {
     "data": {
      "text/html": [
       "<pre style=\"white-space:pre;overflow-x:auto;line-height:normal;font-family:Menlo,'DejaVu Sans Mono',consolas,'Courier New',monospace\">hint:    121cbc81114741b39f7cf6aa6180303a2f5fee9d0e5ef3986a0215ca46b41385\n",
       "</pre>\n"
      ],
      "text/plain": [
       "hint:    121cbc81114741b39f7cf6aa6180303a2f5fee9d0e5ef3986a0215ca46b41385\n"
      ]
     },
     "metadata": {},
     "output_type": "display_data"
    },
    {
     "data": {
      "text/html": [
       "<pre style=\"white-space:pre;overflow-x:auto;line-height:normal;font-family:Menlo,'DejaVu Sans Mono',consolas,'Courier New',monospace\">addr:    txch1zgwteqg3gaqm88mu764xrqps8gh4lm5ape008xr2qg2u5345zwzswr3wvy\n",
       "\n",
       "</pre>\n"
      ],
      "text/plain": [
       "addr:    txch1zgwteqg3gaqm88mu764xrqps8gh4lm5ape008xr2qg2u5345zwzswr3wvy\n",
       "\n"
      ]
     },
     "metadata": {},
     "output_type": "display_data"
    }
   ],
   "source": [
    "from chia.consensus.block_record import BlockRecord\n",
    "query = f\"\"\"SELECT coin_id, hint from hints\"\"\"\n",
    "async with aiosqlite.connect(DB_PATH) as db:\n",
    "    async with db.execute(query) as cursor:\n",
    "        async for row in cursor:\n",
    "            coin_id = row[0]\n",
    "            hint = row[1]\n",
    "            addr = encode_puzzle_hash(hint, 'txch')\n",
    "            print(f'coin_id: {coin_id.hex()}')\n",
    "            print(f'hint:\\t {hint.hex()}')\n",
    "            print(f'addr:\\t {addr}\\n')"
   ]
  }
 ],
 "metadata": {
  "kernelspec": {
   "display_name": "Python 3 (ipykernel)",
   "language": "python",
   "name": "python3"
  },
  "language_info": {
   "codemirror_mode": {
    "name": "ipython",
    "version": 3
   },
   "file_extension": ".py",
   "mimetype": "text/x-python",
   "name": "python",
   "nbconvert_exporter": "python",
   "pygments_lexer": "ipython3",
   "version": "3.10.8"
  }
 },
 "nbformat": 4,
 "nbformat_minor": 5
}
