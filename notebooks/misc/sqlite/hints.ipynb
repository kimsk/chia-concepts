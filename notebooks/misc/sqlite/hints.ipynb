{
 "cells": [
  {
   "cell_type": "code",
   "execution_count": 1,
   "id": "1fc5f31a-4e04-4df2-941e-82f7a694b6de",
   "metadata": {},
   "outputs": [
    {
     "name": "stdout",
     "output_type": "stream",
     "text": [
      "Wallet address 0: txch1zgwteqg3gaqm88mu764xrqps8gh4lm5ape008xr2qg2u5345zwzswr3wvy\n",
      "Wallet address 1: txch1va46l8pd2c2h2djs5jved3hfqkh0384tcda8347xt4u6rfea02lsztjjmv\n",
      "Wallet address 2: txch15c59kptqzxj9s0jqwm9035pkldg3qcy42kl7czsu6wyp465twwlsjcdehn\n",
      "Wallet address 3: txch1tngsu0rj98c2c077rdkdhxt9pljtzg9mq2rxy3jwl769ltxe43lqskcu9h\n",
      "Wallet address 4: txch1dagw2tqqfzzfy0krhqvp9dlgrmr7e774cjlfjlutyqtkas67j44sxu3afy\n"
     ]
    }
   ],
   "source": [
    "%%bash\n",
    "chia keys derive -f 4001300365 wallet-address -n 5"
   ]
  },
  {
   "cell_type": "code",
   "execution_count": 2,
   "id": "7f99aec0-79c8-4f9b-82a1-a9eb01b22043",
   "metadata": {},
   "outputs": [
    {
     "name": "stdout",
     "output_type": "stream",
     "text": [
      "Wallet height: 11\n",
      "Sync status: Synced\n",
      "Balances, fingerprint: 4001300365\n",
      "\n",
      "Chia Wallet:\n",
      "   -Total Balance:         1.999499999997 txch (1999499999997 mojo)\n",
      "   -Pending Total Balance: 1.999499999997 txch (1999499999997 mojo)\n",
      "   -Spendable:             1.999499999997 txch (1999499999997 mojo)\n",
      "   -Type:                  STANDARD_WALLET\n",
      "   -Wallet ID:             1\n",
      "\n",
      "Profile 1:\n",
      "   -Total Balance:         1.0  \n",
      "   -Pending Total Balance: 1.0  \n",
      "   -Spendable:             1.0  \n",
      "   -Type:                  DECENTRALIZED_ID\n",
      "   -DID ID:                did:chia:1fcs44905vc749sdcnqem4xh3fzmmx65p7htrz4p2rnrhe9m4jvgqy5j9pa\n",
      "   -Wallet ID:             2\n",
      "\n",
      "Profile 2:\n",
      "   -Total Balance:         1.0  \n",
      "   -Pending Total Balance: 1.0  \n",
      "   -Spendable:             1.0  \n",
      "   -Type:                  DECENTRALIZED_ID\n",
      "   -DID ID:                did:chia:1u7mstlcyenx22jnzyucnhzrnzecg0gr7996n0alkncl09gdnd0pq0fz0c8\n",
      "   -Wallet ID:             4\n",
      "\n",
      "NFT Wallet:\n",
      "   -Total Balance:         0.0  \n",
      "   -Pending Total Balance: 0.0  \n",
      "   -Spendable:             0.0  \n",
      "   -Type:                  NFT\n",
      "   -Wallet ID:             10\n",
      "\n",
      "NFT Wallet:\n",
      "   -Total Balance:         0.0  \n",
      "   -Pending Total Balance: 0.0  \n",
      "   -Spendable:             0.0  \n",
      "   -Type:                  NFT\n",
      "   -DID ID:                did:chia:1u7mstlcyenx22jnzyucnhzrnzecg0gr7996n0alkncl09gdnd0pq0fz0c8\n",
      "   -Wallet ID:             11\n",
      " \n",
      "Connections:\n",
      "Type      IP                                      Ports       NodeID      Last Connect      MiB Up|Dwn\n",
      "FULL_NODE 127.0.0.1                               48718/48718 6a6c3006... Nov 21 10:28:19      0.0|0.0    \n",
      "                                                  -Height: No Info    -Hash: No Info    -Trusted: True\n"
     ]
    }
   ],
   "source": [
    "%%bash\n",
    "chia wallet show -f 4001300365"
   ]
  },
  {
   "cell_type": "code",
   "execution_count": 12,
   "id": "f8294bba-9079-4f9c-b13a-7ed9e1125970",
   "metadata": {},
   "outputs": [],
   "source": [
    "import aiosqlite\n",
    "from pathlib import Path\n",
    "DB_VERSION = 2\n",
    "#DB_PATH = Path(f'/Users/karlkim/.chia/simulator/hints/db/blockchain_v2_simulator0.sqlite')\n",
    "DB_PATH = Path('/Users/karlkim/.chia/simulator/pretty-chia/db/blockchain_v2_simulator0.sqlite')"
   ]
  },
  {
   "cell_type": "code",
   "execution_count": 13,
   "id": "88b3a21a-50f5-480c-8a2f-84b787f3d273",
   "metadata": {},
   "outputs": [
    {
     "data": {
      "text/html": [
       "<pre style=\"white-space:pre;overflow-x:auto;line-height:normal;font-family:Menlo,'DejaVu Sans Mono',consolas,'Courier New',monospace\">coin_id: 596f6ccc43b767a6dbbf8973914d5fb067923d7fd2d64255f461f87c0ecce38c\n",
       "</pre>\n"
      ],
      "text/plain": [
       "coin_id: 596f6ccc43b767a6dbbf8973914d5fb067923d7fd2d64255f461f87c0ecce38c\n"
      ]
     },
     "metadata": {},
     "output_type": "display_data"
    },
    {
     "data": {
      "text/html": [
       "<pre style=\"white-space:pre;overflow-x:auto;line-height:normal;font-family:Menlo,'DejaVu Sans Mono',consolas,'Courier New',monospace\">hint:    078662243bf9d36adaa526cb34bf1592dbef29438ce675bc2a822bd726dfb323\n",
       "</pre>\n"
      ],
      "text/plain": [
       "hint:    078662243bf9d36adaa526cb34bf1592dbef29438ce675bc2a822bd726dfb323\n"
      ]
     },
     "metadata": {},
     "output_type": "display_data"
    },
    {
     "data": {
      "text/html": [
       "<pre style=\"white-space:pre;overflow-x:auto;line-height:normal;font-family:Menlo,'DejaVu Sans Mono',consolas,'Courier New',monospace\">addr:    txch1q7rxyfpml8fk4k49ym9nf0c4jtd7722r3nn8t0p2sg4awfklkv3s7lj6vj\n",
       "\n",
       "</pre>\n"
      ],
      "text/plain": [
       "addr:    txch1q7rxyfpml8fk4k49ym9nf0c4jtd7722r3nn8t0p2sg4awfklkv3s7lj6vj\n",
       "\n"
      ]
     },
     "metadata": {},
     "output_type": "display_data"
    },
    {
     "data": {
      "text/html": [
       "<pre style=\"white-space:pre;overflow-x:auto;line-height:normal;font-family:Menlo,'DejaVu Sans Mono',consolas,'Courier New',monospace\">coin_id: 21682522f8cc7be356f030f5d973a8c2515c3287927c125b17182e39faf81f53\n",
       "</pre>\n"
      ],
      "text/plain": [
       "coin_id: 21682522f8cc7be356f030f5d973a8c2515c3287927c125b17182e39faf81f53\n"
      ]
     },
     "metadata": {},
     "output_type": "display_data"
    },
    {
     "data": {
      "text/html": [
       "<pre style=\"white-space:pre;overflow-x:auto;line-height:normal;font-family:Menlo,'DejaVu Sans Mono',consolas,'Courier New',monospace\">hint:    9372962908dcdeb01ae5cf06b086272c3c4193b984602a5b0d319b5b0862d3a5\n",
       "</pre>\n"
      ],
      "text/plain": [
       "hint:    9372962908dcdeb01ae5cf06b086272c3c4193b984602a5b0d319b5b0862d3a5\n"
      ]
     },
     "metadata": {},
     "output_type": "display_data"
    },
    {
     "data": {
      "text/html": [
       "<pre style=\"white-space:pre;overflow-x:auto;line-height:normal;font-family:Menlo,'DejaVu Sans Mono',consolas,'Courier New',monospace\">addr:    txch1jdefv2ggmn0tqxh9eurtpp389s7yryaes3sz5kcdxxd4kzrz6wjszyk0ky\n",
       "\n",
       "</pre>\n"
      ],
      "text/plain": [
       "addr:    txch1jdefv2ggmn0tqxh9eurtpp389s7yryaes3sz5kcdxxd4kzrz6wjszyk0ky\n",
       "\n"
      ]
     },
     "metadata": {},
     "output_type": "display_data"
    },
    {
     "data": {
      "text/html": [
       "<pre style=\"white-space:pre;overflow-x:auto;line-height:normal;font-family:Menlo,'DejaVu Sans Mono',consolas,'Courier New',monospace\">coin_id: 1c99ac0c551fb7cfa866532b613a50a49e70271de57e234b5df1b78ca6c6c20d\n",
       "</pre>\n"
      ],
      "text/plain": [
       "coin_id: 1c99ac0c551fb7cfa866532b613a50a49e70271de57e234b5df1b78ca6c6c20d\n"
      ]
     },
     "metadata": {},
     "output_type": "display_data"
    },
    {
     "data": {
      "text/html": [
       "<pre style=\"white-space:pre;overflow-x:auto;line-height:normal;font-family:Menlo,'DejaVu Sans Mono',consolas,'Courier New',monospace\">hint:    9372962908dcdeb01ae5cf06b086272c3c4193b984602a5b0d319b5b0862d3a5\n",
       "</pre>\n"
      ],
      "text/plain": [
       "hint:    9372962908dcdeb01ae5cf06b086272c3c4193b984602a5b0d319b5b0862d3a5\n"
      ]
     },
     "metadata": {},
     "output_type": "display_data"
    },
    {
     "data": {
      "text/html": [
       "<pre style=\"white-space:pre;overflow-x:auto;line-height:normal;font-family:Menlo,'DejaVu Sans Mono',consolas,'Courier New',monospace\">addr:    txch1jdefv2ggmn0tqxh9eurtpp389s7yryaes3sz5kcdxxd4kzrz6wjszyk0ky\n",
       "\n",
       "</pre>\n"
      ],
      "text/plain": [
       "addr:    txch1jdefv2ggmn0tqxh9eurtpp389s7yryaes3sz5kcdxxd4kzrz6wjszyk0ky\n",
       "\n"
      ]
     },
     "metadata": {},
     "output_type": "display_data"
    },
    {
     "data": {
      "text/html": [
       "<pre style=\"white-space:pre;overflow-x:auto;line-height:normal;font-family:Menlo,'DejaVu Sans Mono',consolas,'Courier New',monospace\">coin_id: f7f8a57086b0bdf516016ddd3b9f4a92d7e8949f052c46aa19390c9d509aa41d\n",
       "</pre>\n"
      ],
      "text/plain": [
       "coin_id: f7f8a57086b0bdf516016ddd3b9f4a92d7e8949f052c46aa19390c9d509aa41d\n"
      ]
     },
     "metadata": {},
     "output_type": "display_data"
    },
    {
     "data": {
      "text/html": [
       "<pre style=\"white-space:pre;overflow-x:auto;line-height:normal;font-family:Menlo,'DejaVu Sans Mono',consolas,'Courier New',monospace\">hint:    c0f3487b205d3e0bb545513bd54ea0486c47206c1eeec5af6e0bea977d1c048e\n",
       "</pre>\n"
      ],
      "text/plain": [
       "hint:    c0f3487b205d3e0bb545513bd54ea0486c47206c1eeec5af6e0bea977d1c048e\n"
      ]
     },
     "metadata": {},
     "output_type": "display_data"
    },
    {
     "data": {
      "text/html": [
       "<pre style=\"white-space:pre;overflow-x:auto;line-height:normal;font-family:Menlo,'DejaVu Sans Mono',consolas,'Courier New',monospace\">addr:    txch1cre5s7eqt5lqhd292yaa2n4qfpkywgrvrmhvttmwp04fwlguqj8qhrvlls\n",
       "\n",
       "</pre>\n"
      ],
      "text/plain": [
       "addr:    txch1cre5s7eqt5lqhd292yaa2n4qfpkywgrvrmhvttmwp04fwlguqj8qhrvlls\n",
       "\n"
      ]
     },
     "metadata": {},
     "output_type": "display_data"
    },
    {
     "data": {
      "text/html": [
       "<pre style=\"white-space:pre;overflow-x:auto;line-height:normal;font-family:Menlo,'DejaVu Sans Mono',consolas,'Courier New',monospace\">coin_id: 574fd01374f605006065d9426d0c828cae4ba7cb0f7a226de0ed8d084773077f\n",
       "</pre>\n"
      ],
      "text/plain": [
       "coin_id: 574fd01374f605006065d9426d0c828cae4ba7cb0f7a226de0ed8d084773077f\n"
      ]
     },
     "metadata": {},
     "output_type": "display_data"
    },
    {
     "data": {
      "text/html": [
       "<pre style=\"white-space:pre;overflow-x:auto;line-height:normal;font-family:Menlo,'DejaVu Sans Mono',consolas,'Courier New',monospace\">hint:    c0f3487b205d3e0bb545513bd54ea0486c47206c1eeec5af6e0bea977d1c048e\n",
       "</pre>\n"
      ],
      "text/plain": [
       "hint:    c0f3487b205d3e0bb545513bd54ea0486c47206c1eeec5af6e0bea977d1c048e\n"
      ]
     },
     "metadata": {},
     "output_type": "display_data"
    },
    {
     "data": {
      "text/html": [
       "<pre style=\"white-space:pre;overflow-x:auto;line-height:normal;font-family:Menlo,'DejaVu Sans Mono',consolas,'Courier New',monospace\">addr:    txch1cre5s7eqt5lqhd292yaa2n4qfpkywgrvrmhvttmwp04fwlguqj8qhrvlls\n",
       "\n",
       "</pre>\n"
      ],
      "text/plain": [
       "addr:    txch1cre5s7eqt5lqhd292yaa2n4qfpkywgrvrmhvttmwp04fwlguqj8qhrvlls\n",
       "\n"
      ]
     },
     "metadata": {},
     "output_type": "display_data"
    }
   ],
   "source": [
    "from chia.consensus.block_record import BlockRecord\n",
    "query = f\"\"\"SELECT coin_id, hint from hints\"\"\"\n",
    "async with aiosqlite.connect(DB_PATH) as db:\n",
    "    async with db.execute(query) as cursor:\n",
    "        async for row in cursor:\n",
    "            coin_id = row[0]\n",
    "            hint = row[1]\n",
    "            addr = encode_puzzle_hash(hint, 'txch')\n",
    "            print(f'coin_id: {coin_id.hex()}')\n",
    "            print(f'hint:\\t {hint.hex()}')\n",
    "            print(f'addr:\\t {addr}\\n')"
   ]
  },
  {
   "cell_type": "code",
   "execution_count": 15,
   "id": "740fc8de-867d-4866-9789-cb99b188cf4c",
   "metadata": {},
   "outputs": [
    {
     "data": {
      "text/html": [
       "<pre style=\"white-space:pre;overflow-x:auto;line-height:normal;font-family:Menlo,'DejaVu Sans Mono',consolas,'Courier New',monospace\">574fd01374f605006065d9426d0c828cae4ba7cb0f7a226de0ed8d084773077f\n",
       "</pre>\n"
      ],
      "text/plain": [
       "574fd01374f605006065d9426d0c828cae4ba7cb0f7a226de0ed8d084773077f\n"
      ]
     },
     "metadata": {},
     "output_type": "display_data"
    },
    {
     "data": {
      "text/html": [
       "<pre style=\"white-space:pre;overflow-x:auto;line-height:normal;font-family:Menlo,'DejaVu Sans Mono',consolas,'Courier New',monospace\">f7f8a57086b0bdf516016ddd3b9f4a92d7e8949f052c46aa19390c9d509aa41d\n",
       "</pre>\n"
      ],
      "text/plain": [
       "f7f8a57086b0bdf516016ddd3b9f4a92d7e8949f052c46aa19390c9d509aa41d\n"
      ]
     },
     "metadata": {},
     "output_type": "display_data"
    }
   ],
   "source": [
    "from chia.types.blockchain_format.sized_bytes import bytes32\n",
    "from chia.types.coin_record import CoinRecord\n",
    "from chia.util.ints import uint32, uint64\n",
    "def get_coin_record(row):\n",
    "    return CoinRecord(\n",
    "        Coin(row[4], row[3], uint64.from_bytes(row[5])), \n",
    "        row[0], row[1], row[2], row[6]\n",
    "    ) \n",
    "hint = \"0xc0f3487b205d3e0bb545513bd54ea0486c47206c1eeec5af6e0bea977d1c048e\"\n",
    "async with aiosqlite.connect(DB_PATH) as db:\n",
    "    query = f\"\"\"SELECT confirmed_index, spent_index, coinbase, puzzle_hash, \n",
    "        coin_parent, amount, timestamp \n",
    "        FROM coin_record\n",
    "        JOIN hints h\n",
    "        WHERE coin_name=h.coin_id\n",
    "            AND h.hint=?\n",
    "        ORDER BY spent_index, confirmed_index\n",
    "    \"\"\"\n",
    " \n",
    "    async with db.execute(query, (bytes32.from_hexstr(hint) ,)) as cursor:\n",
    "        async for row in cursor:\n",
    "            coin_record = get_coin_record(row)\n",
    "            print(coin_record.coin.name().hex())"
   ]
  }
 ],
 "metadata": {
  "kernelspec": {
   "display_name": "Python 3 (ipykernel)",
   "language": "python",
   "name": "python3"
  },
  "language_info": {
   "codemirror_mode": {
    "name": "ipython",
    "version": 3
   },
   "file_extension": ".py",
   "mimetype": "text/x-python",
   "name": "python",
   "nbconvert_exporter": "python",
   "pygments_lexer": "ipython3",
   "version": "3.10.8"
  }
 },
 "nbformat": 4,
 "nbformat_minor": 5
}
