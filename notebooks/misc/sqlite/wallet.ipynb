{
 "cells": [
  {
   "cell_type": "code",
   "execution_count": 1,
   "id": "f2f80590-3c28-496f-8a5e-f17c2d2db25f",
   "metadata": {},
   "outputs": [],
   "source": [
    "def with_db_connection(db):\n",
    "    db_path = Path(db)\n",
    "    def _with_db_connection(f):\n",
    "        async def with_connection(*args, **kwargs):\n",
    "            conn = await aiosqlite.connect(db_path)\n",
    "            try:\n",
    "                rv = await f(conn, *args, **kwargs)\n",
    "            except Exception:\n",
    "                await conn.rollback()\n",
    "                raise\n",
    "            else:\n",
    "                await conn.commit()\n",
    "            finally:\n",
    "                await conn.close()\n",
    "\n",
    "            return rv\n",
    "\n",
    "        return with_connection\n",
    "    return _with_db_connection"
   ]
  },
  {
   "cell_type": "code",
   "execution_count": 8,
   "id": "7a8de458-29b7-45e1-aab6-293c9a4735ab",
   "metadata": {},
   "outputs": [
    {
     "data": {
      "text/html": [
       "<pre style=\"white-space:pre;overflow-x:auto;line-height:normal;font-family:Menlo,'DejaVu Sans Mono',consolas,'Courier New',monospace\">\n",
       "<span style=\"font-weight: bold\">[</span>\n",
       "    <span style=\"color: #008000; text-decoration-color: #008000\">'a3cb655a89276b4f1193a7d7b829350c3dbd57248fc93a29c328ed07798269d0'</span>,\n",
       "    <span style=\"color: #008000; text-decoration-color: #008000\">'e1604a3585d1f9b9f0eae2097dde02f0aad720721ae02bc536a51e5c99a382ee'</span>,\n",
       "    <span style=\"color: #008000; text-decoration-color: #008000\">'5e8d2e86a8b4a0cbc0e935b52061fc7f8b4d27ffdf9068f38f6138bd59170966'</span>,\n",
       "    <span style=\"color: #008000; text-decoration-color: #008000\">'5decbec84f6fc1ce42a915452dcb2a520cb489b013ae59fcfd19f2dbe1e9ec25'</span>,\n",
       "    <span style=\"color: #008000; text-decoration-color: #008000\">'ad1ebaf7331977905696a19d42ce3703de1b93e8fabe9fa5c2beb683bef3c3d6'</span>,\n",
       "    <span style=\"color: #008000; text-decoration-color: #008000\">'49c938ab3bc7532dc3cdd9cbd97f1e05b211eaf1c8be61fc61bdde2797dfb12f'</span>,\n",
       "    <span style=\"color: #008000; text-decoration-color: #008000\">'a3ebfc06c783408d6ca10cdb077f059518574acdb8d3ec0ecdd389640fcce023'</span>,\n",
       "    <span style=\"color: #008000; text-decoration-color: #008000\">'5e9d531fb6c0a41916f0b2e0dfe63293536afdab65371ffbbe19d2c54073ad62'</span>,\n",
       "    <span style=\"color: #008000; text-decoration-color: #008000\">'e3bfb8d3be1587a19926df5c18101e8aea26a276a39c3250c3a2879371def688'</span>,\n",
       "    <span style=\"color: #008000; text-decoration-color: #008000\">'3e06c65aff3a380222180ed0d4eeb2c335bf57488daeb0f58d023c19b564ffae'</span>,\n",
       "    <span style=\"color: #008000; text-decoration-color: #008000\">'5697847096013419f7c313c650b63e418e20b23e600c39a5539e044add4f355c'</span>,\n",
       "    <span style=\"color: #008000; text-decoration-color: #008000\">'efbe2ac8f48daf254c69d58a71552b6fccc80ed5b503c4dde585c77b99f2c3d0'</span>,\n",
       "    <span style=\"color: #008000; text-decoration-color: #008000\">'a5ed6dc60b837587bf7f5e13a77a1f1c2c7a24ea14f52c70d7dbed00b15537e5'</span>,\n",
       "    <span style=\"color: #008000; text-decoration-color: #008000\">'7436635f895b49251f08cdba739be94a03732b6125a59aa790787d9caf2a5adb'</span>,\n",
       "    <span style=\"color: #008000; text-decoration-color: #008000\">'656d6230f52f73c9d16954dec36bde6cfcad7e60895af500305f423f252326fa'</span>,\n",
       "    <span style=\"color: #008000; text-decoration-color: #008000\">'614ff4e877fd99f624fce03d4d486ea85065b60016bbd1dd8a679b550f4c5a49'</span>,\n",
       "    <span style=\"color: #008000; text-decoration-color: #008000\">'3043ed7d26e6ad9a619407a23e47618dd9509f77532dc344eae9e8b034d4fee1'</span>,\n",
       "    <span style=\"color: #008000; text-decoration-color: #008000\">'d0edfbc82d26d06301cee4a29c8931141b77deb28ed7651369e7e001b66ca0d4'</span>,\n",
       "    <span style=\"color: #008000; text-decoration-color: #008000\">'effb9a48e83090783db22f3f7932f700099eaef7c69d0a3670a601ca96829c73'</span>\n",
       "<span style=\"font-weight: bold\">]</span>\n",
       "</pre>\n"
      ],
      "text/plain": [
       "\n",
       "\u001b[1m[\u001b[0m\n",
       "    \u001b[32m'a3cb655a89276b4f1193a7d7b829350c3dbd57248fc93a29c328ed07798269d0'\u001b[0m,\n",
       "    \u001b[32m'e1604a3585d1f9b9f0eae2097dde02f0aad720721ae02bc536a51e5c99a382ee'\u001b[0m,\n",
       "    \u001b[32m'5e8d2e86a8b4a0cbc0e935b52061fc7f8b4d27ffdf9068f38f6138bd59170966'\u001b[0m,\n",
       "    \u001b[32m'5decbec84f6fc1ce42a915452dcb2a520cb489b013ae59fcfd19f2dbe1e9ec25'\u001b[0m,\n",
       "    \u001b[32m'ad1ebaf7331977905696a19d42ce3703de1b93e8fabe9fa5c2beb683bef3c3d6'\u001b[0m,\n",
       "    \u001b[32m'49c938ab3bc7532dc3cdd9cbd97f1e05b211eaf1c8be61fc61bdde2797dfb12f'\u001b[0m,\n",
       "    \u001b[32m'a3ebfc06c783408d6ca10cdb077f059518574acdb8d3ec0ecdd389640fcce023'\u001b[0m,\n",
       "    \u001b[32m'5e9d531fb6c0a41916f0b2e0dfe63293536afdab65371ffbbe19d2c54073ad62'\u001b[0m,\n",
       "    \u001b[32m'e3bfb8d3be1587a19926df5c18101e8aea26a276a39c3250c3a2879371def688'\u001b[0m,\n",
       "    \u001b[32m'3e06c65aff3a380222180ed0d4eeb2c335bf57488daeb0f58d023c19b564ffae'\u001b[0m,\n",
       "    \u001b[32m'5697847096013419f7c313c650b63e418e20b23e600c39a5539e044add4f355c'\u001b[0m,\n",
       "    \u001b[32m'efbe2ac8f48daf254c69d58a71552b6fccc80ed5b503c4dde585c77b99f2c3d0'\u001b[0m,\n",
       "    \u001b[32m'a5ed6dc60b837587bf7f5e13a77a1f1c2c7a24ea14f52c70d7dbed00b15537e5'\u001b[0m,\n",
       "    \u001b[32m'7436635f895b49251f08cdba739be94a03732b6125a59aa790787d9caf2a5adb'\u001b[0m,\n",
       "    \u001b[32m'656d6230f52f73c9d16954dec36bde6cfcad7e60895af500305f423f252326fa'\u001b[0m,\n",
       "    \u001b[32m'614ff4e877fd99f624fce03d4d486ea85065b60016bbd1dd8a679b550f4c5a49'\u001b[0m,\n",
       "    \u001b[32m'3043ed7d26e6ad9a619407a23e47618dd9509f77532dc344eae9e8b034d4fee1'\u001b[0m,\n",
       "    \u001b[32m'd0edfbc82d26d06301cee4a29c8931141b77deb28ed7651369e7e001b66ca0d4'\u001b[0m,\n",
       "    \u001b[32m'effb9a48e83090783db22f3f7932f700099eaef7c69d0a3670a601ca96829c73'\u001b[0m\n",
       "\u001b[1m]\u001b[0m\n"
      ]
     },
     "metadata": {},
     "output_type": "display_data"
    }
   ],
   "source": [
    "wallet_db = '/Users/karlkim/.chia/testnet10/wallet/db/blockchain_wallet_v2_r1_testnet10_2483575623.sqlite'\n",
    "\n",
    "@with_db_connection(wallet_db)\n",
    "async def get_coin_names_by_wallet_id(conn, wallet_id):\n",
    "    coins = []\n",
    "    \n",
    "    query = \"SELECT coin_name FROM coin_record WHERE wallet_id=?\"\n",
    "    async with conn.execute(query, (wallet_id,)) as cursor:\n",
    "        async for row in cursor:\n",
    "            coins.append(row[0])\n",
    "    return coins\n",
    "\n",
    "await get_coin_names_by_wallet_id(1)"
   ]
  },
  {
   "cell_type": "code",
   "execution_count": null,
   "id": "4104db16-fa9a-4734-8db8-a69eec2087b7",
   "metadata": {},
   "outputs": [],
   "source": []
  }
 ],
 "metadata": {
  "kernelspec": {
   "display_name": "Python 3 (ipykernel)",
   "language": "python",
   "name": "python3"
  },
  "language_info": {
   "codemirror_mode": {
    "name": "ipython",
    "version": 3
   },
   "file_extension": ".py",
   "mimetype": "text/x-python",
   "name": "python",
   "nbconvert_exporter": "python",
   "pygments_lexer": "ipython3",
   "version": "3.10.9"
  }
 },
 "nbformat": 4,
 "nbformat_minor": 5
}
