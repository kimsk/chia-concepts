{
 "cells": [
  {
   "cell_type": "markdown",
   "id": "61e511dc-247c-4213-b248-5104e4ab9486",
   "metadata": {},
   "source": [
    "# Tic Tac Toe Coin\n",
    "\n",
    "To store state of tic tac toe game on Chia blockchain, we create an outer puzzle that wrap the inner tic tac toe puzzle. The coin puzzle outputs the conditions based on the output from the inner tic tac toe puzzle.\n",
    "\n",
    "## Code\n",
    "### [coin.clsp](./code/coin.clsp)\n",
    "```lisp\n",
    ";   MOD                         : the puzzle itself\n",
    ";   PLAYER_ONE_INFO             : (PK, PUZZLE_HASH), public key and puzzle hash of the first player\n",
    ";   PLAYER_TWO_INFO             : (PK, PUZZLE_HASH), public key and puzzle hash of the second player\n",
    ";   CURRIED_TIC_TAC_TOE_PUZZLE  : tic tac toe puzzle with curried-in current board and next player\n",
    ";   AMOUNT                      : coin amount (odd to be used with singleton top layer)\n",
    ";   position                    : next play position as inner solution for curried tic tac toe puzzle\n",
    "\n",
    "(mod (MOD PLAYER_ONE_INFO PLAYER_TWO_INFO CURRIED_TIC_TAC_TOE_PUZZLE amount position)\n",
    "     ...\n",
    ")     \n",
    "```\n",
    "\n",
    "## Generate PKs for player one and two\n",
    "```sh\n",
    "cdv inspect keys --random | grep public -i\n",
    "cdv inspect keys --random | grep public -i\n",
    "Public Key: ab7431b52af2ff59d4305893d705f11a07eb8ba979bbe8a01dc37e7616e9967bd9a787a45394983f2ef05c7b76cef2f0\n",
    "Public Key: 9900d2dce0b44916b39715ba4d19f2d1c176c8d1c0001cec2f662e65d0fad984ef21969fe08264b7f42941836582dbdc\n",
    "```\n"
   ]
  },
  {
   "cell_type": "code",
   "execution_count": 1,
   "id": "aac54cd4-c72b-48d9-bab4-29d0e0df1f24",
   "metadata": {},
   "outputs": [
    {
     "name": "stdout",
     "output_type": "stream",
     "text": [
      "1.5.0\n",
      "cdv, version 1.0.8\n",
      "Python 3.8.10\n"
     ]
    }
   ],
   "source": [
    "%%bash\n",
    "chia version\n",
    "cdv --version\n",
    "python --version"
   ]
  },
  {
   "cell_type": "code",
   "execution_count": 2,
   "id": "f2d25ea0-4cbc-455f-88fc-156428846c89",
   "metadata": {},
   "outputs": [],
   "source": [
    "import sys\n",
    "sys.path.insert(0, \"../../../shared\")\n",
    "from utils import (load_program, print_program, print_puzzle)\n",
    "\n",
    "from chia.types.blockchain_format.program import Program\n",
    "from chia.wallet.puzzles import (p2_delegated_puzzle_or_hidden_puzzle)"
   ]
  },
  {
   "cell_type": "code",
   "execution_count": 3,
   "id": "1b852fa0-fff1-4f94-a191-025ad83be16b",
   "metadata": {},
   "outputs": [],
   "source": [
    "sys.path.insert(0, \"./code\")\n",
    "import tic_tac_toe"
   ]
  },
  {
   "cell_type": "code",
   "execution_count": 4,
   "id": "685d342f-4150-4897-abd8-f1703998007a",
   "metadata": {},
   "outputs": [],
   "source": [
    "tic_tac_toe_puzzle = load_program(\"./code/tic-tac-toe.clsp\", [\"./code\", \"../../../shared\"])\n",
    "coin_puzzle = load_program(\"./code/coin.clsp\", [\"./code\", \"../../../shared\"])"
   ]
  },
  {
   "cell_type": "code",
   "execution_count": 5,
   "id": "597a08b8-322a-478a-b405-02902a26907f",
   "metadata": {},
   "outputs": [],
   "source": [
    "player_one_pk = bytes.fromhex(\"ab7431b52af2ff59d4305893d705f11a07eb8ba979bbe8a01dc37e7616e9967bd9a787a45394983f2ef05c7b76cef2f0\")\n",
    "player_one_hash = p2_delegated_puzzle_or_hidden_puzzle.puzzle_for_pk(player_one_pk).get_tree_hash()\n",
    "player_two_pk = bytes.fromhex(\"9900d2dce0b44916b39715ba4d19f2d1c176c8d1c0001cec2f662e65d0fad984ef21969fe08264b7f42941836582dbdc\")\n",
    "player_two_hash = p2_delegated_puzzle_or_hidden_puzzle.puzzle_for_pk(player_two_pk).get_tree_hash()\n",
    "player_one_info = Program.to([player_one_pk, player_one_hash])\n",
    "player_two_info = Program.to([player_two_pk, player_two_hash])"
   ]
  },
  {
   "cell_type": "code",
   "execution_count": 6,
   "id": "53d2e3fe-e37e-4bd9-b53f-b491fa962fa9",
   "metadata": {},
   "outputs": [],
   "source": [
    "# empty board\n",
    "board = [' '] * 9\n",
    "\n",
    "# first player\n",
    "player = 'x'\n",
    "\n",
    "# (mod (BOARD V pos)\n",
    "curried_tic_tac_toe_puzzle = tic_tac_toe_puzzle.curry(\n",
    "        Program.to(board), \n",
    "        Program.to(player)\n",
    "    ) \n",
    "\n",
    "#(mod (MOD PLAYER_ONE_INFO PLAYER_TWO_INFO CURRIED_TIC_TAC_TOE_PUZZLE amount position)\n",
    "curried_coin_puzzle = coin_puzzle.curry(\n",
    "    coin_puzzle,\n",
    "    player_one_info,\n",
    "    player_two_info,\n",
    "    curried_tic_tac_toe_puzzle)"
   ]
  },
  {
   "cell_type": "code",
   "execution_count": 7,
   "id": "68466886-8b89-4585-a81d-f02ef8e9031e",
   "metadata": {},
   "outputs": [
    {
     "name": "stdout",
     "output_type": "stream",
     "text": [
      "[' ', ' ', ' ', ' ', ' ', ' ', ' ', ' ', ' '] x 4\n",
      "((50 0x9900d2dce0b44916b39715ba4d19f2d1c176c8d1c0001cec2f662e65d0fad984ef21969fe08264b7f42941836582dbdc 0x24644d734eb6f3bebcc3314494518cf5df9fb8e2614981b45bc753912c85ab19) (73 1023) (51 0x25a404557dafb3b77eb6bf85a9717c55751c8cfed526392c43320755eb5ead7f 1023))\n",
      "   |   |   \n",
      "---+---+---\n",
      "   | x |   \n",
      "---+---+---\n",
      "   |   |   \n",
      "\n"
     ]
    }
   ],
   "source": [
    "amount = 1023\n",
    "position = 4\n",
    "print(f'{board} {player} {position}')\n",
    "solution = Program.to([amount, position])\n",
    "conditions = curried_coin_puzzle.run(solution)\n",
    "print_program(conditions)\n",
    "coin_puzzle_hash = conditions.at(\"rrfrf\")\n",
    "\n",
    "## verify puzzle\n",
    "next_player = 'o'\n",
    "board_state, board = tic_tac_toe.play(curried_tic_tac_toe_puzzle, position)\n",
    "tic_tac_toe.print_board(board)\n",
    "curried_tic_tac_toe_puzzle = tic_tac_toe_puzzle.curry(\n",
    "        Program.to(board), \n",
    "        Program.to(next_player)\n",
    "    )\n",
    "curried_coin_puzzle = coin_puzzle.curry(\n",
    "    coin_puzzle,\n",
    "    player_one_info,\n",
    "    player_two_info,\n",
    "    curried_tic_tac_toe_puzzle)\n",
    "\n",
    "# new coin puzzle and curried_tic_tac_toe_coin_puzzle have to match\n",
    "assert curried_coin_puzzle.get_tree_hash() == coin_puzzle_hash"
   ]
  }
 ],
 "metadata": {
  "kernelspec": {
   "display_name": "Python 3 (ipykernel)",
   "language": "python",
   "name": "python3"
  },
  "language_info": {
   "codemirror_mode": {
    "name": "ipython",
    "version": 3
   },
   "file_extension": ".py",
   "mimetype": "text/x-python",
   "name": "python",
   "nbconvert_exporter": "python",
   "pygments_lexer": "ipython3",
   "version": "3.8.10"
  }
 },
 "nbformat": 4,
 "nbformat_minor": 5
}
