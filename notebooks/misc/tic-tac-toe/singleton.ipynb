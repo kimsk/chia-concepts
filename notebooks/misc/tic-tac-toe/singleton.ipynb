{
 "cells": [
  {
   "cell_type": "markdown",
   "id": "cf08904c-e861-44da-acb7-acebc876661a",
   "metadata": {},
   "source": [
    "# Tic Tac Toe Singleton Coin On Blockchain Simulator\n",
    "> Use [singleton_top_layer_v1_1](https://github.com/Chia-Network/chia-blockchain/blob/main/chia/wallet/puzzles/singleton_top_layer_v1_1.py)"
   ]
  },
  {
   "cell_type": "code",
   "execution_count": 1,
   "id": "ae6c7bb9-1b4b-488c-bf35-2b606ca726d1",
   "metadata": {},
   "outputs": [
    {
     "name": "stdout",
     "output_type": "stream",
     "text": [
      "1.5.0\n",
      "cdv, version 1.0.8\n",
      "Python 3.8.10\n"
     ]
    }
   ],
   "source": [
    "%%bash\n",
    "chia version\n",
    "cdv --version\n",
    "python --version"
   ]
  },
  {
   "cell_type": "code",
   "execution_count": 2,
   "id": "bb9a51ed-a9bb-4830-b1ae-0aba5fa69b60",
   "metadata": {},
   "outputs": [],
   "source": [
    "# chia libraries\n",
    "from blspy import (PrivateKey, AugSchemeMPL, G2Element)\n",
    "\n",
    "from chia.consensus.default_constants import DEFAULT_CONSTANTS\n",
    "from chia.types.blockchain_format.coin import Coin\n",
    "from chia.types.blockchain_format.program import Program\n",
    "from chia.types.coin_spend import CoinSpend\n",
    "from chia.types.condition_opcodes import ConditionOpcode\n",
    "from chia.types.spend_bundle import SpendBundle\n",
    "from chia.util.hash import std_hash\n",
    "from chia.wallet.puzzles import p2_delegated_puzzle_or_hidden_puzzle\n",
    "\n",
    "from clvm.casts import int_to_bytes\n",
    "from clvm_tools.clvmc import compile_clvm_text\n",
    "from clvm_tools.binutils import disassemble\n",
    "\n",
    "# utils & tic tac toe helper code\n",
    "import sys\n",
    "sys.path.insert(0, \"../../../shared\")\n",
    "from utils import (load_program, print_program, print_puzzle, print_json, print_push_tx_result)\n",
    "import singleton_utils\n",
    "\n",
    "sys.path.insert(0, \"./code\")\n",
    "import tic_tac_toe\n",
    "\n",
    "# load puzzles\n",
    "tic_tac_toe_puzzle = load_program(\"./code/tic-tac-toe.clsp\", [\"./code\", \"../../../shared\"])\n",
    "coin_puzzle = load_program(\"./code/coin.clsp\", [\"./code\", \"../../../shared\"])\n",
    "terminate_puzzle = load_program(\"./code/terminate-game.clsp\", [\"./code\", \"../../../shared\"])"
   ]
  },
  {
   "cell_type": "markdown",
   "id": "46a7a807-a0ea-4755-a1d5-1de0b9bd351d",
   "metadata": {},
   "source": [
    "## 1. Set Up A Blockchain Simulator"
   ]
  },
  {
   "cell_type": "code",
   "execution_count": 3,
   "id": "eeb6f4b2-611f-44f0-9fab-5c66cedd8c21",
   "metadata": {},
   "outputs": [
    {
     "name": "stdout",
     "output_type": "stream",
     "text": [
      "alice balance:\t\t2000000000000\n",
      "alice pk:\t\taba7ed288dd79189bec34698a3437fa7a45f801596d397a4f70081a0956dcdbe998388bfa758f4d49fa421ce3850a6d8\n",
      "alice puzzle hash:\t4f45877796d7a64e192bcc9f899afeedae391f71af3afd7e15a0792c049d23d3\n",
      "bob balance:\t\t2000000000000\n",
      "alice pk:\t\taba7ed288dd79189bec34698a3437fa7a45f801596d397a4f70081a0956dcdbe998388bfa758f4d49fa421ce3850a6d8\n",
      "bob puzzle hash:\t87908e3f85bf4b55c7e7709915c2ce97a1e6ec1d227e54a04dbfee6862d546a5\n"
     ]
    }
   ],
   "source": [
    "from cdv.test import Network, Wallet\n",
    "\n",
    "network: Network = await Network.create()\n",
    "\n",
    "# use as function parameters\n",
    "get_coin_records_by_parent_ids = network.sim_client.get_coin_records_by_parent_ids\n",
    "get_coin_records_by_puzzle_hash = network.sim_client.get_coin_records_by_puzzle_hash\n",
    "get_coin_record_by_name = network.sim_client.get_coin_record_by_name\n",
    "get_puzzle_and_solution = network.sim_client.get_puzzle_and_solution        \n",
    "get_block_records = network.sim_client.get_block_records\n",
    "get_additions_and_removals = network.sim_client.get_additions_and_removals\n",
    "\n",
    "await network.farm_block()\n",
    "\n",
    "alice: Wallet = network.make_wallet(\"alice\")\n",
    "bob: Wallet = network.make_wallet(\"bob\")\n",
    "await network.farm_block(farmer=alice)\n",
    "await network.farm_block(farmer=bob)\n",
    "\n",
    "print(f'alice balance:\\t\\t{alice.balance()}')\n",
    "print(f'alice pk:\\t\\t{alice.pk()}')\n",
    "print(f'alice puzzle hash:\\t{alice.puzzle_hash}')\n",
    "print(f'bob balance:\\t\\t{bob.balance()}')\n",
    "print(f'alice pk:\\t\\t{alice.pk()}')\n",
    "print(f'bob puzzle hash:\\t{bob.puzzle_hash}')\n",
    "\n",
    "# prepare players info\n",
    "player_one_info = Program.to([alice.pk(), alice.puzzle_hash])\n",
    "player_two_info = Program.to([bob.pk(), bob.puzzle_hash])"
   ]
  },
  {
   "cell_type": "markdown",
   "id": "594b3663-3cae-41e3-91f2-8eab2b7b4bb8",
   "metadata": {},
   "source": [
    "## 2. Prepare the Tic Tac Toe Coin (Inner) Puzzle for Singleton"
   ]
  },
  {
   "cell_type": "code",
   "execution_count": 4,
   "id": "486eda49-37da-438d-999c-ccd620ee37c9",
   "metadata": {},
   "outputs": [],
   "source": [
    "# both players put one XCH\n",
    "player_amount = 1_000_000_000_000\n",
    "player_fee = 50_000_000\n",
    "p2_amount = player_amount - player_fee\n",
    "game_amount = (player_amount * 2) + 1 # odd amount for singleton\n",
    "\n",
    "# prepare terminate-game puzzle\n",
    "# (mod (IS_SINGLETON PLAYER_ONE_HASH PLAYER_TWO_HASH P2_AMOUNT play_result)\n",
    "curried_terminate_puzzle = terminate_puzzle.curry(\n",
    "    1, # Terminate Singleton Coin\n",
    "    alice.puzzle_hash,\n",
    "    bob.puzzle_hash,\n",
    "    p2_amount\n",
    ")\n",
    "\n",
    "def get_coin_puzzle(board, player):\n",
    "    # (mod (BOARD V pos)\n",
    "    curried_tic_tac_toe_puzzle = tic_tac_toe_puzzle.curry(\n",
    "            Program.to(board), \n",
    "            Program.to(player)\n",
    "        ) \n",
    "\n",
    "    #(mod (MOD PLAYER_ONE_INFO PLAYER_TWO_INFO CURRIED_TIC_TAC_TOE_PUZZLE amount position)\n",
    "    curried_coin_puzzle = coin_puzzle.curry(\n",
    "        coin_puzzle,\n",
    "        curried_terminate_puzzle,\n",
    "        player_one_info,\n",
    "        player_two_info,\n",
    "        curried_tic_tac_toe_puzzle,\n",
    "        game_amount)\n",
    "    return curried_coin_puzzle\n",
    "\n",
    "curried_coin_puzzle = get_coin_puzzle([' '] * 9, 'x')"
   ]
  },
  {
   "cell_type": "markdown",
   "id": "1cf1d045-1d0a-49ae-8cba-206c87a5cc52",
   "metadata": {},
   "source": [
    "## 3. Prepare Alice, Bob, and Launcher CoinSpends"
   ]
  },
  {
   "cell_type": "code",
   "execution_count": 5,
   "id": "1fbd7df0-9157-4c4b-929c-fe424ffdd0f5",
   "metadata": {},
   "outputs": [],
   "source": [
    "alice_coin_wrapper = await alice.choose_coin(1_750_000_000_000)\n",
    "alice_coin = alice_coin_wrapper.as_coin()\n",
    "alice_puzzle = p2_delegated_puzzle_or_hidden_puzzle.puzzle_for_pk(alice.pk())"
   ]
  },
  {
   "cell_type": "code",
   "execution_count": 6,
   "id": "4cf0ba6b-6c60-4de3-bb0c-89ada52697c5",
   "metadata": {},
   "outputs": [
    {
     "name": "stdout",
     "output_type": "stream",
     "text": [
      "\n",
      "launcher id: dc49681391711e259f98d39b9d9f9f80d9d0829427a758ff543fb20d7eb2fce8\n",
      "{\n",
      "    \"coin\": {\n",
      "        \"amount\": 2000000000001,\n",
      "        \"parent_coin_info\": \"0x12d7b8c1654f82f2330059abc28e3240e863450706de7fdc518026f393f68bba\",\n",
      "        \"puzzle_hash\": \"0xeff07522495060c066f66f32acc2a77e3a3e737aca8baea4d1a64ea4cdc13da9\"\n",
      "    },\n",
      "    \"puzzle_reveal\": \"0xff02ffff01ff04ffff04ff04ffff04ff05ffff04ff0bff80808080ffff04ffff04ff0affff04ffff02ff0effff04ff02ffff04ffff04ff05ffff04ff0bffff04ff17ff80808080ff80808080ff808080ff808080ffff04ffff01ff33ff3cff02ffff03ffff07ff0580ffff01ff0bffff0102ffff02ff0effff04ff02ffff04ff09ff80808080ffff02ff0effff04ff02ffff04ff0dff8080808080ffff01ff0bffff0101ff058080ff0180ff018080\",\n",
      "    \"solution\": \"0xffa06c200b7ce3a0614a1959fd08fdc5cfa72b936db6373abcc90b63d6c54b7ba65aff8601d1a94a2001ffffff8467616d658b7469632074616320746f65ffff8a706c61796572206f6e65a04f45877796d7a64e192bcc9f899afeedae391f71af3afd7e15a0792c049d23d3ffff8a706c617965722074776fa087908e3f85bf4b55c7e7709915c2ce97a1e6ec1d227e54a04dbfee6862d546a58080\"\n",
      "}\n"
     ]
    }
   ],
   "source": [
    "from chia.types.blockchain_format.coin import Coin\n",
    "from chia.types.coin_spend import CoinSpend\n",
    "from chia.wallet.puzzles import singleton_top_layer_v1_1\n",
    "\n",
    "# prepare launcher coin\n",
    "launcher_coin = Coin(\n",
    "    alice_coin.name(), # alice's coin spend creates the launcher coin\n",
    "    singleton_top_layer_v1_1.SINGLETON_LAUNCHER_HASH, \n",
    "    game_amount\n",
    ")\n",
    "launcher_id = launcher_coin.name()\n",
    "print(f'\\nlauncher id: {launcher_id}')\n",
    "\n",
    "singleton_struct = (\n",
    "    singleton_top_layer_v1_1.SINGLETON_MOD_HASH, \n",
    "    (launcher_id, singleton_top_layer_v1_1.SINGLETON_LAUNCHER_HASH)\n",
    ")\n",
    "\n",
    "singleton_puzzle = singleton_top_layer_v1_1.SINGLETON_MOD.curry(\n",
    "    singleton_struct,\n",
    "    curried_coin_puzzle, # tic tac toe coin puzzle\n",
    ")\n",
    "\n",
    "launcher_solution = Program.to(\n",
    "    [\n",
    "        singleton_puzzle.get_tree_hash(),\n",
    "        game_amount,\n",
    "        [\n",
    "            (\"game\", \"tic tac toe\"), \n",
    "            (\"player one\", alice.puzzle_hash),\n",
    "            (\"player two\", bob.puzzle_hash),\n",
    "        ]\n",
    "    ]\n",
    ")\n",
    "launcher_announcement = launcher_solution.get_tree_hash()\n",
    "\n",
    "launcher_coin_spend = CoinSpend(\n",
    "    launcher_coin,\n",
    "    singleton_top_layer_v1_1.SINGLETON_LAUNCHER,\n",
    "    launcher_solution\n",
    ")\n",
    "print_json(launcher_coin_spend.to_json_dict())"
   ]
  },
  {
   "cell_type": "code",
   "execution_count": 7,
   "id": "b39ed550-bcfa-418a-b633-f278cc95ab87",
   "metadata": {},
   "outputs": [],
   "source": [
    "# alice's coin creates a launcher coin\n",
    "alice_conditions = [\n",
    "    # create launcher coin with the odd_amount (odd)\n",
    "    Program.to(\n",
    "        [\n",
    "            ConditionOpcode.CREATE_COIN,\n",
    "            singleton_top_layer_v1_1.SINGLETON_LAUNCHER_HASH,\n",
    "            game_amount,\n",
    "        ]),\n",
    "    # assert launcher coin announcement\n",
    "    Program.to(\n",
    "        [\n",
    "            ConditionOpcode.ASSERT_COIN_ANNOUNCEMENT, \n",
    "            std_hash(launcher_id + launcher_announcement)\n",
    "        ]),\n",
    "    \n",
    "    # change\n",
    "    [ConditionOpcode.CREATE_COIN, alice.puzzle_hash, alice_coin.amount - (player_amount + 1)]\n",
    "]\n",
    "\n",
    "alice_delegated_puzzle = p2_delegated_puzzle_or_hidden_puzzle.puzzle_for_conditions(alice_conditions)\n",
    "alice_delegated_puzzle_solution = p2_delegated_puzzle_or_hidden_puzzle.solution_for_conditions(alice_conditions)\n",
    "alice_coin_spend = CoinSpend(\n",
    "    alice_coin,\n",
    "    alice_puzzle,\n",
    "    alice_delegated_puzzle_solution\n",
    ")\n",
    "\n",
    "alice_coin_message = (\n",
    "    alice_delegated_puzzle.get_tree_hash()\n",
    "    + alice_coin.name()\n",
    "    + DEFAULT_CONSTANTS.AGG_SIG_ME_ADDITIONAL_DATA\n",
    ")\n",
    "alice_synthetic_sk: PrivateKey = p2_delegated_puzzle_or_hidden_puzzle.calculate_synthetic_secret_key(\n",
    "    alice.sk_,\n",
    "    p2_delegated_puzzle_or_hidden_puzzle.DEFAULT_HIDDEN_PUZZLE_HASH\n",
    ")\n",
    "alice_signature: G2Element = AugSchemeMPL.sign(\n",
    "    alice_synthetic_sk,\n",
    "    alice_coin_message\n",
    ")"
   ]
  },
  {
   "cell_type": "code",
   "execution_count": 8,
   "id": "ab7b2b59-3ad5-4211-a2e0-93810c192a17",
   "metadata": {},
   "outputs": [],
   "source": [
    "bob_coin_wrapper = await bob.choose_coin(1_750_000_000_000)\n",
    "bob_coin = bob_coin_wrapper.as_coin()\n",
    "bob_puzzle = p2_delegated_puzzle_or_hidden_puzzle.puzzle_for_pk(bob.pk())\n",
    "# bob's coin create change back to himself\n",
    "bob_conditions = [\n",
    "    [ConditionOpcode.CREATE_COIN, bob.puzzle_hash, bob_coin.amount - player_amount],\n",
    "]\n",
    "\n",
    "bob_delegated_puzzle = p2_delegated_puzzle_or_hidden_puzzle.puzzle_for_conditions(bob_conditions)\n",
    "bob_delegated_puzzle_solution = p2_delegated_puzzle_or_hidden_puzzle.solution_for_conditions(bob_conditions)\n",
    "bob_coin_spend = CoinSpend(\n",
    "    bob_coin,\n",
    "    bob_puzzle,\n",
    "    bob_delegated_puzzle_solution\n",
    ")\n",
    "\n",
    "bob_coin_message = (\n",
    "    bob_delegated_puzzle.get_tree_hash()\n",
    "    + bob_coin.name()\n",
    "    + DEFAULT_CONSTANTS.AGG_SIG_ME_ADDITIONAL_DATA\n",
    ")\n",
    "bob_synthetic_sk: PrivateKey = p2_delegated_puzzle_or_hidden_puzzle.calculate_synthetic_secret_key(\n",
    "    bob.sk_,\n",
    "    p2_delegated_puzzle_or_hidden_puzzle.DEFAULT_HIDDEN_PUZZLE_HASH\n",
    ")\n",
    "bob_signature: G2Element = AugSchemeMPL.sign(\n",
    "    bob_synthetic_sk,\n",
    "    bob_coin_message\n",
    ")"
   ]
  },
  {
   "cell_type": "code",
   "execution_count": 9,
   "id": "b8efa23e-07c1-4cd0-8a5b-c2633cf4a58a",
   "metadata": {},
   "outputs": [
    {
     "name": "stdout",
     "output_type": "stream",
     "text": [
      "additions:\n",
      "==========\n",
      "{'amount': 749999999999,\n",
      " 'parent_coin_info': '0x12d7b8c1654f82f2330059abc28e3240e863450706de7fdc518026f393f68bba',\n",
      " 'puzzle_hash': '0x4f45877796d7a64e192bcc9f899afeedae391f71af3afd7e15a0792c049d23d3'}\n",
      "{'amount': 2000000000001,\n",
      " 'parent_coin_info': '0x12d7b8c1654f82f2330059abc28e3240e863450706de7fdc518026f393f68bba',\n",
      " 'puzzle_hash': '0xeff07522495060c066f66f32acc2a77e3a3e737aca8baea4d1a64ea4cdc13da9'}\n",
      "{'amount': 750000000000,\n",
      " 'parent_coin_info': '0x17ca02c0a209d7e1a3869442ba13ef9468181c4b095b8823aeaf3c27f8e58c34',\n",
      " 'puzzle_hash': '0x87908e3f85bf4b55c7e7709915c2ce97a1e6ec1d227e54a04dbfee6862d546a5'}\n",
      "{'amount': 2000000000001,\n",
      " 'parent_coin_info': '0xdc49681391711e259f98d39b9d9f9f80d9d0829427a758ff543fb20d7eb2fce8',\n",
      " 'puzzle_hash': '0x6c200b7ce3a0614a1959fd08fdc5cfa72b936db6373abcc90b63d6c54b7ba65a'}\n",
      "removals:\n",
      "=========\n",
      "{'amount': 1750000000000,\n",
      " 'parent_coin_info': '0xe3b0c44298fc1c149afbf4c8996fb92400000000000000000000000000000001',\n",
      " 'puzzle_hash': '0x4f45877796d7a64e192bcc9f899afeedae391f71af3afd7e15a0792c049d23d3'}\n",
      "{'amount': 1750000000000,\n",
      " 'parent_coin_info': '0xe3b0c44298fc1c149afbf4c8996fb92400000000000000000000000000000002',\n",
      " 'puzzle_hash': '0x87908e3f85bf4b55c7e7709915c2ce97a1e6ec1d227e54a04dbfee6862d546a5'}\n",
      "{'amount': 2000000000001,\n",
      " 'parent_coin_info': '0x12d7b8c1654f82f2330059abc28e3240e863450706de7fdc518026f393f68bba',\n",
      " 'puzzle_hash': '0xeff07522495060c066f66f32acc2a77e3a3e737aca8baea4d1a64ea4cdc13da9'}\n"
     ]
    }
   ],
   "source": [
    "from chia.types.spend_bundle import SpendBundle\n",
    "\n",
    "agg_sig = AugSchemeMPL.aggregate([alice_signature, bob_signature])\n",
    "spend_bundle = SpendBundle(\n",
    "    [\n",
    "        alice_coin_spend,\n",
    "        bob_coin_spend,\n",
    "        launcher_coin_spend\n",
    "    ],\n",
    "    agg_sig\n",
    ")\n",
    "result = await network.push_tx(spend_bundle)\n",
    "print_push_tx_result(result)"
   ]
  }
 ],
 "metadata": {
  "kernelspec": {
   "display_name": "Python 3 (ipykernel)",
   "language": "python",
   "name": "python3"
  },
  "language_info": {
   "codemirror_mode": {
    "name": "ipython",
    "version": 3
   },
   "file_extension": ".py",
   "mimetype": "text/x-python",
   "name": "python",
   "nbconvert_exporter": "python",
   "pygments_lexer": "ipython3",
   "version": "3.8.10"
  }
 },
 "nbformat": 4,
 "nbformat_minor": 5
}
