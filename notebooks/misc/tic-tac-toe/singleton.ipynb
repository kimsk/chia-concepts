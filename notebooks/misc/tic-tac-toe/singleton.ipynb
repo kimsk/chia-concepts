{
 "cells": [
  {
   "cell_type": "markdown",
   "id": "cf08904c-e861-44da-acb7-acebc876661a",
   "metadata": {},
   "source": [
    "# Tic Tac Toe Singleton Coin On Blockchain Simulator\n",
    "> Use [singleton_top_layer_v1_1](https://github.com/Chia-Network/chia-blockchain/blob/main/chia/wallet/puzzles/singleton_top_layer_v1_1.py)"
   ]
  },
  {
   "cell_type": "code",
   "execution_count": 1,
   "id": "ae6c7bb9-1b4b-488c-bf35-2b606ca726d1",
   "metadata": {},
   "outputs": [
    {
     "name": "stdout",
     "output_type": "stream",
     "text": [
      "1.5.1.dev0\n",
      "cdv, version 1.0.8\n",
      "Python 3.10.5\n"
     ]
    }
   ],
   "source": [
    "%%bash\n",
    "chia version\n",
    "cdv --version\n",
    "python --version"
   ]
  },
  {
   "cell_type": "code",
   "execution_count": 2,
   "id": "bb9a51ed-a9bb-4830-b1ae-0aba5fa69b60",
   "metadata": {},
   "outputs": [],
   "source": [
    "# chia libraries\n",
    "from blspy import (PrivateKey, AugSchemeMPL, G2Element)\n",
    "\n",
    "from chia.consensus.default_constants import DEFAULT_CONSTANTS\n",
    "from chia.types.blockchain_format.coin import Coin\n",
    "from chia.types.blockchain_format.program import Program\n",
    "from chia.types.coin_spend import CoinSpend\n",
    "from chia.types.condition_opcodes import ConditionOpcode\n",
    "from chia.types.spend_bundle import SpendBundle\n",
    "from chia.util.hash import std_hash\n",
    "from chia.wallet.puzzles import p2_delegated_puzzle_or_hidden_puzzle\n",
    "\n",
    "from clvm.casts import int_to_bytes\n",
    "from clvm_tools.clvmc import compile_clvm_text\n",
    "from clvm_tools.binutils import disassemble\n",
    "\n",
    "# utils & tic tac toe helper code\n",
    "import sys\n",
    "sys.path.insert(0, \"../../../shared\")\n",
    "from utils import (load_program, print_program, print_puzzle, print_json)\n",
    "import singleton_utils\n",
    "\n",
    "sys.path.insert(0, \"./code\")\n",
    "import tic_tac_toe\n",
    "\n",
    "# load puzzles\n",
    "tic_tac_toe_puzzle = load_program(\"./code/tic-tac-toe.clsp\", [\"./code\", \"../../../shared\"])\n",
    "coin_puzzle = load_program(\"./code/coin.clsp\", [\"./code\", \"../../../shared\"])\n",
    "terminate_puzzle = load_program(\"./code/terminate-game.clsp\", [\"./code\", \"../../../shared\"])"
   ]
  },
  {
   "cell_type": "markdown",
   "id": "46a7a807-a0ea-4755-a1d5-1de0b9bd351d",
   "metadata": {},
   "source": [
    "## Set Up A Blockchain Simulator"
   ]
  },
  {
   "cell_type": "code",
   "execution_count": 3,
   "id": "eeb6f4b2-611f-44f0-9fab-5c66cedd8c21",
   "metadata": {},
   "outputs": [
    {
     "name": "stdout",
     "output_type": "stream",
     "text": [
      "alice balance:\t\t2000000000000\n",
      "alice pk:\t\taba7ed288dd79189bec34698a3437fa7a45f801596d397a4f70081a0956dcdbe998388bfa758f4d49fa421ce3850a6d8\n",
      "alice puzzle hash:\t4f45877796d7a64e192bcc9f899afeedae391f71af3afd7e15a0792c049d23d3\n",
      "bob balance:\t\t2000000000000\n",
      "alice pk:\t\taba7ed288dd79189bec34698a3437fa7a45f801596d397a4f70081a0956dcdbe998388bfa758f4d49fa421ce3850a6d8\n",
      "bob puzzle hash:\t87908e3f85bf4b55c7e7709915c2ce97a1e6ec1d227e54a04dbfee6862d546a5\n"
     ]
    }
   ],
   "source": [
    "from cdv.test import Network, Wallet\n",
    "\n",
    "network: Network = await Network.create()\n",
    "\n",
    "# use as function parameters\n",
    "get_coin_records_by_parent_ids = network.sim_client.get_coin_records_by_parent_ids\n",
    "get_coin_records_by_puzzle_hash = network.sim_client.get_coin_records_by_puzzle_hash\n",
    "get_coin_record_by_name = network.sim_client.get_coin_record_by_name\n",
    "get_puzzle_and_solution = network.sim_client.get_puzzle_and_solution        \n",
    "get_block_records = network.sim_client.get_block_records\n",
    "get_additions_and_removals = network.sim_client.get_additions_and_removals\n",
    "\n",
    "await network.farm_block()\n",
    "\n",
    "alice: Wallet = network.make_wallet(\"alice\")\n",
    "bob: Wallet = network.make_wallet(\"bob\")\n",
    "await network.farm_block(farmer=alice)\n",
    "await network.farm_block(farmer=bob)\n",
    "\n",
    "print(f'alice balance:\\t\\t{alice.balance()}')\n",
    "print(f'alice pk:\\t\\t{alice.pk()}')\n",
    "print(f'alice puzzle hash:\\t{alice.puzzle_hash}')\n",
    "print(f'bob balance:\\t\\t{bob.balance()}')\n",
    "print(f'alice pk:\\t\\t{alice.pk()}')\n",
    "print(f'bob puzzle hash:\\t{bob.puzzle_hash}')\n",
    "\n",
    "# prepare players info\n",
    "player_one_info = Program.to([alice.pk(), alice.puzzle_hash])\n",
    "player_two_info = Program.to([bob.pk(), bob.puzzle_hash])"
   ]
  },
  {
   "cell_type": "markdown",
   "id": "594b3663-3cae-41e3-91f2-8eab2b7b4bb8",
   "metadata": {},
   "source": [
    "## Prepare the Tic Tac Toe Coin (Inner) Puzzle for Singleton"
   ]
  },
  {
   "cell_type": "code",
   "execution_count": null,
   "id": "486eda49-37da-438d-999c-ccd620ee37c9",
   "metadata": {},
   "outputs": [],
   "source": [
    "# both players put one XCH\n",
    "player_amount = 1_000_000_000_000\n",
    "player_fee = 50_000_000\n",
    "p2_amount = player_amount - player_fee\n",
    "game_amount = player_amount * 2\n",
    "\n",
    "# prepare terminate-game puzzle\n",
    "# (mod (IS_SINGLETON PLAYER_ONE_HASH PLAYER_TWO_HASH P2_AMOUNT play_result)\n",
    "curried_terminate_puzzle = terminate_puzzle.curry(\n",
    "    1, # Terminate Singleton Coin\n",
    "    alice.puzzle_hash,\n",
    "    bob.puzzle_hash,\n",
    "    p2_amount\n",
    ")\n",
    "\n",
    "def get_coin_puzzle(board, player):\n",
    "    # (mod (BOARD V pos)\n",
    "    curried_tic_tac_toe_puzzle = tic_tac_toe_puzzle.curry(\n",
    "            Program.to(board), \n",
    "            Program.to(player)\n",
    "        ) \n",
    "\n",
    "    #(mod (MOD PLAYER_ONE_INFO PLAYER_TWO_INFO CURRIED_TIC_TAC_TOE_PUZZLE amount position)\n",
    "    curried_coin_puzzle = coin_puzzle.curry(\n",
    "        coin_puzzle,\n",
    "        curried_terminate_puzzle,\n",
    "        player_one_info,\n",
    "        player_two_info,\n",
    "        curried_tic_tac_toe_puzzle,\n",
    "        game_amount)\n",
    "    return curried_coin_puzzle\n",
    "\n",
    "curried_coin_puzzle = get_coin_puzzle([' '] * 9, 'x')"
   ]
  },
  {
   "cell_type": "markdown",
   "id": "1cf1d045-1d0a-49ae-8cba-206c87a5cc52",
   "metadata": {},
   "source": [
    "## Prepare Launcher CoinSpend"
   ]
  },
  {
   "cell_type": "code",
   "execution_count": 4,
   "id": "b8efa23e-07c1-4cd0-8a5b-c2633cf4a58a",
   "metadata": {},
   "outputs": [
    {
     "ename": "NameError",
     "evalue": "name 'standard_txn_coin' is not defined",
     "output_type": "error",
     "traceback": [
      "\u001b[0;31m---------------------------------------------------------------------------\u001b[0m",
      "\u001b[0;31mNameError\u001b[0m                                 Traceback (most recent call last)",
      "Input \u001b[0;32mIn [4]\u001b[0m, in \u001b[0;36m<cell line: 5>\u001b[0;34m()\u001b[0m\n\u001b[1;32m      2\u001b[0m \u001b[38;5;28;01mfrom\u001b[39;00m \u001b[38;5;21;01mchia\u001b[39;00m\u001b[38;5;21;01m.\u001b[39;00m\u001b[38;5;21;01mtypes\u001b[39;00m\u001b[38;5;21;01m.\u001b[39;00m\u001b[38;5;21;01mcoin_spend\u001b[39;00m \u001b[38;5;28;01mimport\u001b[39;00m CoinSpend\n\u001b[1;32m      3\u001b[0m \u001b[38;5;28;01mfrom\u001b[39;00m \u001b[38;5;21;01mchia\u001b[39;00m\u001b[38;5;21;01m.\u001b[39;00m\u001b[38;5;21;01mwallet\u001b[39;00m\u001b[38;5;21;01m.\u001b[39;00m\u001b[38;5;21;01mpuzzles\u001b[39;00m \u001b[38;5;28;01mimport\u001b[39;00m singleton_top_layer_v1_1\n\u001b[1;32m      5\u001b[0m launcher_coin \u001b[38;5;241m=\u001b[39m Coin(\n\u001b[0;32m----> 6\u001b[0m     \u001b[43mstandard_txn_coin\u001b[49m\u001b[38;5;241m.\u001b[39mname(), \n\u001b[1;32m      7\u001b[0m     singleton_top_layer_v1_1\u001b[38;5;241m.\u001b[39mSINGLETON_LAUNCHER_HASH, \n\u001b[1;32m      8\u001b[0m     AMOUNT\n\u001b[1;32m      9\u001b[0m )\n\u001b[1;32m     10\u001b[0m launcher_id \u001b[38;5;241m=\u001b[39m launcher_coin\u001b[38;5;241m.\u001b[39mname()\n\u001b[1;32m     11\u001b[0m \u001b[38;5;28mprint\u001b[39m(\u001b[38;5;124mf\u001b[39m\u001b[38;5;124m'\u001b[39m\u001b[38;5;130;01m\\n\u001b[39;00m\u001b[38;5;124mlauncher id: \u001b[39m\u001b[38;5;132;01m{\u001b[39;00mlauncher_id\u001b[38;5;132;01m}\u001b[39;00m\u001b[38;5;124m'\u001b[39m)\n",
      "\u001b[0;31mNameError\u001b[0m: name 'standard_txn_coin' is not defined"
     ]
    }
   ],
   "source": [
    "from chia.types.blockchain_format.coin import Coin\n",
    "from chia.types.coin_spend import CoinSpend\n",
    "from chia.wallet.puzzles import singleton_top_layer_v1_1\n",
    "\n",
    "launcher_coin = Coin(\n",
    "    alice_coin.name(), # alice's coin spend creates the launcher coin\n",
    "    singleton_top_layer_v1_1.SINGLETON_LAUNCHER_HASH, \n",
    "    game_amount\n",
    ")\n",
    "launcher_id = launcher_coin.name()\n",
    "print(f'\\nlauncher id: {launcher_id}')\n",
    "\n",
    "singleton_struct = (\n",
    "    singleton_top_layer_v1_1.SINGLETON_MOD_HASH, \n",
    "    (launcher_id, singleton_top_layer_v1_1.SINGLETON_LAUNCHER_HASH)\n",
    ")\n",
    "\n",
    "singleton_puzzle = singleton_top_layer_v1_1.SINGLETON_MOD.curry(\n",
    "    singleton_struct,\n",
    "    curried_coin_puzzle, # tic tac toe coin puzzle\n",
    ")\n",
    "\n",
    "launcher_solution = Program.to(\n",
    "    [\n",
    "        singleton_puzzle.get_tree_hash(),\n",
    "        game_amount,\n",
    "        [\n",
    "            (\"game\", \"tic tac toe\"), \n",
    "            (\"player one\", alice.puzzle_hash),\n",
    "            (\"player two\", bob.puzzle_hash),\n",
    "        ]\n",
    "    ]\n",
    ")\n",
    "launcher_announcement = launcher_solution.get_tree_hash()\n",
    "\n",
    "launcher_coin_spend = CoinSpend(\n",
    "    launcher_coin,\n",
    "    singleton_top_layer_v1_1.SINGLETON_LAUNCHER,\n",
    "    launcher_solution\n",
    ")\n",
    "print_json(launcher_coin_spend.to_json_dict())"
   ]
  },
  {
   "cell_type": "code",
   "execution_count": null,
   "id": "e0d3bc0f-fde8-40af-a413-d5d6fa5189e0",
   "metadata": {},
   "outputs": [],
   "source": [
    "alice_coin_wrapper = await alice.choose_coin(1_750_000_000_000)\n",
    "alice_coin = alice_coin_wrapper.as_coin()\n",
    "alice_puzzle = p2_delegated_puzzle_or_hidden_puzzle.puzzle_for_pk(alice.pk())\n",
    "# alice's coin creates a launcher coin\n",
    "alice_conditions = [\n",
    "    [ConditionOpcode.CREATE_COIN, launcher_coin.get_tree_hash(), game_amount],\n",
    "    [ConditionOpcode.CREATE_COIN, alice.puzzle_hash, alice_coin.amount - player_amount],\n",
    "    []\n",
    "]\n",
    "\n",
    "alice_delegated_puzzle = p2_delegated_puzzle_or_hidden_puzzle.puzzle_for_conditions(alice_conditions)\n",
    "alice_delegated_puzzle_solution = p2_delegated_puzzle_or_hidden_puzzle.solution_for_conditions(alice_conditions)\n",
    "alice_coin_spend = CoinSpend(\n",
    "    alice_coin,\n",
    "    alice_puzzle,\n",
    "    alice_delegated_puzzle_solution\n",
    ")\n",
    "\n",
    "alice_coin_message = (\n",
    "    alice_delegated_puzzle.get_tree_hash()\n",
    "    + alice_coin.name()\n",
    "    + DEFAULT_CONSTANTS.AGG_SIG_ME_ADDITIONAL_DATA\n",
    ")\n",
    "alice_synthetic_sk: PrivateKey = p2_delegated_puzzle_or_hidden_puzzle.calculate_synthetic_secret_key(\n",
    "    alice.sk_,\n",
    "    p2_delegated_puzzle_or_hidden_puzzle.DEFAULT_HIDDEN_PUZZLE_HASH\n",
    ")\n",
    "alice_signature: G2Element = AugSchemeMPL.sign(\n",
    "    alice_synthetic_sk,\n",
    "    alice_coin_message\n",
    ")"
   ]
  }
 ],
 "metadata": {
  "kernelspec": {
   "display_name": "Python 3 (ipykernel)",
   "language": "python",
   "name": "python3"
  },
  "language_info": {
   "codemirror_mode": {
    "name": "ipython",
    "version": 3
   },
   "file_extension": ".py",
   "mimetype": "text/x-python",
   "name": "python",
   "nbconvert_exporter": "python",
   "pygments_lexer": "ipython3",
   "version": "3.10.5"
  }
 },
 "nbformat": 4,
 "nbformat_minor": 5
}
