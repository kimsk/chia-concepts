{
 "cells": [
  {
   "cell_type": "markdown",
   "id": "bd616cad-6ea0-4dbd-8535-6ca7a1e8801f",
   "metadata": {},
   "source": [
    "# Tic Tac Toe\n",
    "\n",
    "This is the implementation of tic-tac-toe game in Chialisp. As you can see this puzzle has no knowledge about the blockchain. To play this game on the Chia blockchain, we will wrap this (inner) puzzle with another (outer) puzzle.\n",
    "\n",
    "## Code\n",
    "### [tic-tac-toe.clsp](./code/tic-tac-toe.clsp)\n",
    "```lisp\n",
    ";   BOARD : current tic tac toe board state (curried)\n",
    ";   V     : x or o to be played (curried)\n",
    ";   pos   : position to be played\n",
    "(mod (BOARD V pos)\n",
    "    (include tic-tac-toe.clib)\n",
    "\n",
    "    (defun play (new_board V)\n",
    "        (list \n",
    "            (check-board new_board V)\n",
    "            new_board\n",
    "        )\n",
    "    )\n",
    "\n",
    "    ; 1. get new board\n",
    "    ; 2. return the play result and new board\n",
    "    (play (get-new-board BOARD V pos) V)\n",
    ")\n",
    "```\n",
    "\n",
    "### [tic-tac-toe.clib](./code/tic-tac-toe.clib)\n",
    "```lisp\n",
    "    ;   if v won return v\n",
    "    ;   else if board is still playable return 0 (playable)\n",
    "    ;   else return -1 (not playable)\n",
    "    (defun check-board (board v)\n",
    "        (if (= (check-winning-board board v) 1)\n",
    "            v ; v won\n",
    "            (check-playable-board board) ; 0 or -1\n",
    "        )\n",
    "    )\n",
    "```"
   ]
  },
  {
   "cell_type": "code",
   "execution_count": 1,
   "id": "7705b022-783a-42ee-b47b-04273616d434",
   "metadata": {},
   "outputs": [
    {
     "name": "stdout",
     "output_type": "stream",
     "text": [
      "1.5.1.dev0\n",
      "cdv, version 1.0.8\n",
      "Python 3.10.5\n"
     ]
    }
   ],
   "source": [
    "%%bash\n",
    "chia version\n",
    "cdv --version\n",
    "python --version"
   ]
  },
  {
   "cell_type": "code",
   "execution_count": 2,
   "id": "55ec1392-44d1-425b-b4d4-8271a9dd9507",
   "metadata": {},
   "outputs": [],
   "source": [
    "import sys\n",
    "sys.path.insert(0, \"../../../shared\")\n",
    "from utils import (load_program, print_program, print_puzzle)\n",
    "\n",
    "from chia.types.blockchain_format.program import Program"
   ]
  },
  {
   "cell_type": "code",
   "execution_count": 3,
   "id": "b744cfde-83a0-4919-9eb6-c21904f25b73",
   "metadata": {},
   "outputs": [],
   "source": [
    "sys.path.insert(0, \"./code\")\n",
    "import tic_tac_toe\n",
    "\n",
    "tic_tac_toe_puzzle = load_program(\"./code/tic-tac-toe.clsp\", [\"./code\", \"../../../shared\"])\n",
    "\n",
    "def sim_play(board, player, position):\n",
    "    puzzle = tic_tac_toe.get_curried_puzzle(tic_tac_toe_puzzle, board, player)\n",
    "    board_state, board = tic_tac_toe.play(puzzle, position)\n",
    "    tic_tac_toe.print_board(board)\n",
    "    print({\n",
    "         0 : '',\n",
    "        -1 : 'tie game',\n",
    "        120: 'x wins',\n",
    "        113: 'o wins'\n",
    "    }[board_state])\n",
    "\n",
    "## Python 3.10+\n",
    "#    match board_state:\n",
    "#        case -1:\n",
    "#            print('tie game')\n",
    "#        case 120:\n",
    "#            print('x wins')\n",
    "#        case 113:\n",
    "#            print('o wins')\n",
    "\n",
    "    player = 'x' if player == 'o' else 'o'\n",
    "    return board, player\n",
    "\n"
   ]
  },
  {
   "cell_type": "markdown",
   "id": "30e41e4a-902b-423f-b475-d1dc1edbf6e6",
   "metadata": {},
   "source": [
    "## Simulate Winning Board\n",
    "1. Start with empty board.\n",
    "2. `x` plays first.\n",
    "3. `o` and `x` take turn until `x` wins."
   ]
  },
  {
   "cell_type": "code",
   "execution_count": 4,
   "id": "a56c08a5-287b-4189-b042-ba66d7303f5d",
   "metadata": {},
   "outputs": [
    {
     "name": "stdout",
     "output_type": "stream",
     "text": [
      "   |   |   \n",
      "---+---+---\n",
      "   | x |   \n",
      "---+---+---\n",
      "   |   |   \n",
      "\n",
      "\n",
      " o |   |   \n",
      "---+---+---\n",
      "   | x |   \n",
      "---+---+---\n",
      "   |   |   \n",
      "\n",
      "\n",
      " o |   |   \n",
      "---+---+---\n",
      " x | x |   \n",
      "---+---+---\n",
      "   |   |   \n",
      "\n",
      "\n",
      " o | o |   \n",
      "---+---+---\n",
      " x | x |   \n",
      "---+---+---\n",
      "   |   |   \n",
      "\n",
      "\n",
      " o | o |   \n",
      "---+---+---\n",
      " x | x | x \n",
      "---+---+---\n",
      "   |   |   \n",
      "\n",
      "x wins\n"
     ]
    }
   ],
   "source": [
    "board, player = sim_play([' '] * 9, 'x', 4)\n",
    "board, player = sim_play(board, player, 0)\n",
    "board, player = sim_play(board, player, 3)\n",
    "board, player = sim_play(board, player, 1)\n",
    "board, player = sim_play(board, player, 5)"
   ]
  },
  {
   "cell_type": "markdown",
   "id": "b35db523-db1f-44ed-b01b-ed4bad5badc5",
   "metadata": {},
   "source": [
    "## Simulate Tie Game\n",
    "1. Start with empty board.\n",
    "2. `x` plays first.\n",
    "3. `o` and `x` take turn until the board is not playable."
   ]
  },
  {
   "cell_type": "code",
   "execution_count": 5,
   "id": "4808d18e-2a93-4b88-9f49-e35271aa7da7",
   "metadata": {},
   "outputs": [
    {
     "name": "stdout",
     "output_type": "stream",
     "text": [
      " x |   |   \n",
      "---+---+---\n",
      "   |   |   \n",
      "---+---+---\n",
      "   |   |   \n",
      "\n",
      "\n",
      " x | o |   \n",
      "---+---+---\n",
      "   |   |   \n",
      "---+---+---\n",
      "   |   |   \n",
      "\n",
      "\n",
      " x | o | x \n",
      "---+---+---\n",
      "   |   |   \n",
      "---+---+---\n",
      "   |   |   \n",
      "\n",
      "\n",
      " x | o | x \n",
      "---+---+---\n",
      "   | o |   \n",
      "---+---+---\n",
      "   |   |   \n",
      "\n",
      "\n",
      " x | o | x \n",
      "---+---+---\n",
      "   | o | x \n",
      "---+---+---\n",
      "   |   |   \n",
      "\n",
      "\n",
      " x | o | x \n",
      "---+---+---\n",
      "   | o | x \n",
      "---+---+---\n",
      " o |   |   \n",
      "\n",
      "\n",
      " x | o | x \n",
      "---+---+---\n",
      "   | o | x \n",
      "---+---+---\n",
      " o | x |   \n",
      "\n",
      "\n",
      " x | o | x \n",
      "---+---+---\n",
      "   | o | x \n",
      "---+---+---\n",
      " o | x | o \n",
      "\n",
      "\n",
      " x | o | x \n",
      "---+---+---\n",
      " x | o | x \n",
      "---+---+---\n",
      " o | x | o \n",
      "\n",
      "tie game\n"
     ]
    }
   ],
   "source": [
    "board, player = sim_play([' '] * 9, 'x', 0)\n",
    "board, player = sim_play(board, player, 1)\n",
    "board, player = sim_play(board, player, 2)\n",
    "board, player = sim_play(board, player, 4)\n",
    "board, player = sim_play(board, player, 5)\n",
    "board, player = sim_play(board, player, 6)\n",
    "board, player = sim_play(board, player, 7)\n",
    "board, player = sim_play(board, player, 8)\n",
    "board, player = sim_play(board, player, 3)"
   ]
  },
  {
   "cell_type": "markdown",
   "id": "721b91a4-55c0-4a3a-b446-45019026d3a3",
   "metadata": {},
   "source": [
    "## Simulate Errors"
   ]
  },
  {
   "cell_type": "code",
   "execution_count": 6,
   "id": "005f68c6-ae1f-4bcc-a721-b9d6df89dbeb",
   "metadata": {},
   "outputs": [
    {
     "name": "stdout",
     "output_type": "stream",
     "text": [
      "('clvm raise', 'ff09ff90706f736974696f6e20696e76616c696480')\n",
      "(\"position invalid\")\n"
     ]
    }
   ],
   "source": [
    "from clvm_tools.binutils import disassemble\n",
    "try:\n",
    "    board = sim_play([0] * 9, 'x', 9)\n",
    "except ValueError as err:\n",
    "    print(err)\n",
    "    print(disassemble(Program.from_bytes(bytes.fromhex(err.args[1])).rest()))"
   ]
  },
  {
   "cell_type": "code",
   "execution_count": 7,
   "id": "2ce8920d-ff1c-41bc-bade-58037e4339e5",
   "metadata": {},
   "outputs": [
    {
     "name": "stdout",
     "output_type": "stream",
     "text": [
      "('clvm raise', 'ff81ffff90706f736974696f6e20696e76616c696480')\n",
      "(\"position invalid\")\n"
     ]
    }
   ],
   "source": [
    "try:\n",
    "    board, player = sim_play([0] * 9, 'x', -1)\n",
    "except ValueError as err:\n",
    "    print(err)\n",
    "    print(disassemble(Program.from_bytes(bytes.fromhex(err.args[1])).rest()))"
   ]
  },
  {
   "cell_type": "code",
   "execution_count": 8,
   "id": "c7f2dfeb-3e46-4ff5-8a19-7e44ff9de108",
   "metadata": {},
   "outputs": [
    {
     "name": "stdout",
     "output_type": "stream",
     "text": [
      "('clvm raise', 'ff01ff99706f736974696f6e20616c7265616479206f6363757069656480')\n",
      "(\"position already occupied\")\n"
     ]
    }
   ],
   "source": [
    "try:\n",
    "    board, player = sim_play([0] * 9, 'x', 1)\n",
    "    board, player = sim_play(board, player, 1)\n",
    "except ValueError as err:\n",
    "    print(err)\n",
    "    print(disassemble(Program.from_bytes(bytes.fromhex(err.args[1])).rest()))"
   ]
  },
  {
   "cell_type": "markdown",
   "id": "43eeb44e-cf4d-4343-abd7-226ef790283a",
   "metadata": {},
   "source": [
    "## Get Player & Board From Curried Puzzle\n"
   ]
  },
  {
   "cell_type": "code",
   "execution_count": 9,
   "id": "0c640e66-8fc8-4c33-a8f3-ff62a1393f46",
   "metadata": {},
   "outputs": [
    {
     "name": "stdout",
     "output_type": "stream",
     "text": [
      "   | x | x \n",
      "---+---+---\n",
      "   | o |   \n",
      "---+---+---\n",
      " o |   |   \n",
      "\n",
      "x\n"
     ]
    }
   ],
   "source": [
    "board = [' ', 'x', 'x', ' ', 'o', ' ', 'o', ' ', ' ']\n",
    "player = 'x'\n",
    "puzzle = tic_tac_toe.get_curried_puzzle(tic_tac_toe_puzzle, board, player)\n",
    "board_from_puzzle = tic_tac_toe.get_board_from_curried_puzzle(puzzle)\n",
    "player_from_puzzle = tic_tac_toe.get_player_from_curried_puzzle(puzzle)\n",
    "tic_tac_toe.print_board(board_from_puzzle)\n",
    "print(player_from_puzzle)"
   ]
  },
  {
   "cell_type": "markdown",
   "id": "e0a1ab06-4076-4bb0-bd5a-38a7d7a700e1",
   "metadata": {},
   "source": [
    "## Check Winning Before Check Tie Game"
   ]
  },
  {
   "cell_type": "code",
   "execution_count": 10,
   "id": "da0ebffc-1eae-4ad2-9033-bae6f1e9fc1f",
   "metadata": {},
   "outputs": [
    {
     "name": "stdout",
     "output_type": "stream",
     "text": [
      " o | o | x \n",
      "---+---+---\n",
      "   | x | x \n",
      "---+---+---\n",
      " o | x | o \n",
      "\n",
      "x\n",
      " o | o | x \n",
      "---+---+---\n",
      " x | x | x \n",
      "---+---+---\n",
      " o | x | o \n",
      "\n",
      "x wins\n"
     ]
    }
   ],
   "source": [
    "board = ['o', 'o', 'x', ' ', 'x', 'x', 'o', 'x', 'o']\n",
    "player = 'x'\n",
    "puzzle = tic_tac_toe.get_curried_puzzle(tic_tac_toe_puzzle, board, player)\n",
    "board_from_puzzle = tic_tac_toe.get_board_from_curried_puzzle(puzzle)\n",
    "player_from_puzzle = tic_tac_toe.get_player_from_curried_puzzle(puzzle)\n",
    "tic_tac_toe.print_board(board_from_puzzle)\n",
    "print(player_from_puzzle)\n",
    "position = 3\n",
    "board, player = sim_play(board, player, position)"
   ]
  },
  {
   "cell_type": "code",
   "execution_count": 11,
   "id": "90a07031-01ec-4314-b157-f296a3e0bae3",
   "metadata": {},
   "outputs": [
    {
     "name": "stdout",
     "output_type": "stream",
     "text": [
      " o | o |   \n",
      "---+---+---\n",
      "   | x | x \n",
      "---+---+---\n",
      " x | x | o \n",
      "\n",
      "x\n",
      " o | o | x \n",
      "---+---+---\n",
      "   | x | x \n",
      "---+---+---\n",
      " x | x | o \n",
      "\n",
      "x wins\n"
     ]
    }
   ],
   "source": [
    "board = ['o', 'o', ' ', ' ', 'x', 'x', 'x', 'x', 'o']\n",
    "player = 'x'\n",
    "puzzle = tic_tac_toe.get_curried_puzzle(tic_tac_toe_puzzle, board, player)\n",
    "board_from_puzzle = tic_tac_toe.get_board_from_curried_puzzle(puzzle)\n",
    "player_from_puzzle = tic_tac_toe.get_player_from_curried_puzzle(puzzle)\n",
    "tic_tac_toe.print_board(board_from_puzzle)\n",
    "print(player_from_puzzle)\n",
    "position = 2\n",
    "board, player = sim_play(board, player, position)"
   ]
  },
  {
   "cell_type": "markdown",
   "id": "f8ac5383-f6e7-4c46-9634-dc1453a393ae",
   "metadata": {},
   "source": [
    "## Check Tie Game"
   ]
  },
  {
   "cell_type": "code",
   "execution_count": 12,
   "id": "f2c92d78-e2a9-4cd7-bc7e-6ed2cb579407",
   "metadata": {},
   "outputs": [
    {
     "name": "stdout",
     "output_type": "stream",
     "text": [
      " x | o | x \n",
      "---+---+---\n",
      "   | o | x \n",
      "---+---+---\n",
      " o | x | o \n",
      "\n",
      "x\n",
      " x | o | x \n",
      "---+---+---\n",
      " x | o | x \n",
      "---+---+---\n",
      " o | x | o \n",
      "\n",
      "tie game\n"
     ]
    }
   ],
   "source": [
    "board = ['x', 'o', 'x', ' ', 'o', 'x', 'o', 'x', 'o']\n",
    "player = 'x'\n",
    "puzzle = tic_tac_toe.get_curried_puzzle(tic_tac_toe_puzzle, board, player)\n",
    "board_from_puzzle = tic_tac_toe.get_board_from_curried_puzzle(puzzle)\n",
    "player_from_puzzle = tic_tac_toe.get_player_from_curried_puzzle(puzzle)\n",
    "tic_tac_toe.print_board(board_from_puzzle)\n",
    "print(player_from_puzzle)\n",
    "position = 3\n",
    "board, player = sim_play(board, player, position)"
   ]
  }
 ],
 "metadata": {
  "kernelspec": {
   "display_name": "Python 3 (ipykernel)",
   "language": "python",
   "name": "python3"
  },
  "language_info": {
   "codemirror_mode": {
    "name": "ipython",
    "version": 3
   },
   "file_extension": ".py",
   "mimetype": "text/x-python",
   "name": "python",
   "nbconvert_exporter": "python",
   "pygments_lexer": "ipython3",
   "version": "3.10.5"
  }
 },
 "nbformat": 4,
 "nbformat_minor": 5
}
