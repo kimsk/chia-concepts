{
 "cells": [
  {
   "cell_type": "markdown",
   "id": "3b90238f-6d9b-4936-92b0-379d14cd1109",
   "metadata": {},
   "source": [
    "# Terminate Game Puzzle\n",
    "\n",
    "This is a puzzle output `CREATE_COIN` conditions according to the `play_result`. Also, if the tic tac toe coin puzzle is wrapped inside the singleton top layer, the `IS_SINGLETON` is set, and terminate conditions will include `CREATE_COIN ... -113` to terminate the singleton coin.\n",
    "\n",
    "```lisp\n",
    "(mod (IS_SINGLETON PLAYER_ONE_HASH PLAYER_TWO_HASH P2_AMOUNT play_result)\n",
    "    (include condition_codes.clib)\n",
    "\n",
    "    (defun p2-players (PLAYER_ONE_HASH PLAYER_TWO_HASH P2_AMOUNT play_result)\n",
    "       (if (= -1 play_result)\n",
    "            ; tie game\n",
    "            (list\n",
    "                (list CREATE_COIN PLAYER_ONE_HASH P2_AMOUNT)\n",
    "                (list CREATE_COIN PLAYER_TWO_HASH P2_AMOUNT)\n",
    "            )\n",
    "            ; there is a winner\n",
    "            (list\n",
    "                (list CREATE_COIN\n",
    "                    (if (= 'x' play_result) PLAYER_ONE_HASH PLAYER_TWO_HASH)\n",
    "                    (* P2_AMOUNT 2) \n",
    "                )\n",
    "            )\n",
    "        )\n",
    "    )\n",
    "\n",
    "    (if IS_SINGLETON\n",
    "        (c\n",
    "            (list CREATE_COIN PLAYER_ONE_HASH -113) ; destroy a singleton coin\n",
    "            (p2-players PLAYER_ONE_HASH PLAYER_TWO_HASH P2_AMOUNT play_result)\n",
    "        )\n",
    "        (p2-players PLAYER_ONE_HASH PLAYER_TWO_HASH P2_AMOUNT play_result)\n",
    "    )\n",
    ")\n",
    "```"
   ]
  },
  {
   "cell_type": "code",
   "execution_count": 1,
   "id": "af4676be-0f53-437d-9a74-8d32c831ba87",
   "metadata": {},
   "outputs": [],
   "source": [
    "# chia libraries\n",
    "from blspy import (PrivateKey, AugSchemeMPL, G1Element, G2Element)\n",
    "from chia.types.blockchain_format.program import Program\n",
    "\n",
    "# utils & tic tac toe helper code\n",
    "import sys\n",
    "sys.path.insert(0, \"../../../shared\")\n",
    "from utils import (load_program, print_program, print_puzzle)\n",
    "\n",
    "sys.path.insert(0, \"./code\")\n",
    "import tic_tac_toe\n",
    "\n",
    "terminate_puzzle = load_program(\"./code/terminate-game.clsp\", [\"./code\", \"../../../shared\"])"
   ]
  },
  {
   "cell_type": "markdown",
   "id": "6880d96a-c44e-4cfb-9d90-fbbcd9b99188",
   "metadata": {},
   "source": [
    "## Terminate Singleton Coin"
   ]
  },
  {
   "cell_type": "code",
   "execution_count": 2,
   "id": "fa8ea4d4-712c-41e0-ad6f-98b441f78ae4",
   "metadata": {},
   "outputs": [
    {
     "name": "stdout",
     "output_type": "stream",
     "text": [
      "((51 \"0xdeadbeef\" -113) (51 \"0xdeadbeef\" 100) (51 \"0xcafef00d\" 100))\n",
      "((51 \"0xdeadbeef\" -113) (51 \"0xdeadbeef\" 200))\n",
      "((51 \"0xdeadbeef\" -113) (51 \"0xcafef00d\" 200))\n"
     ]
    }
   ],
   "source": [
    "# (mod (IS_SINGLETON PLAYER_ONE_HASH PLAYER_TWO_HASH P2_AMOUNT play_result)\n",
    "puzzle = terminate_puzzle.curry(1, '0xdeadbeef' , '0xcafef00d', 100)\n",
    "print_program(puzzle.run(Program.to([-1])))\n",
    "print_program(puzzle.run(Program.to(['x'])))\n",
    "print_program(puzzle.run(Program.to(['o'])))"
   ]
  },
  {
   "cell_type": "markdown",
   "id": "4f3b50d9-cbed-49a7-a8d5-f54659d531a7",
   "metadata": {},
   "source": [
    "## Terminate Normal Coin"
   ]
  },
  {
   "cell_type": "code",
   "execution_count": 3,
   "id": "33875b21-5967-4369-818a-d99741298899",
   "metadata": {},
   "outputs": [
    {
     "name": "stdout",
     "output_type": "stream",
     "text": [
      "((51 \"0xdeadbeef\" 100) (51 \"0xcafef00d\" 100))\n",
      "((51 \"0xdeadbeef\" 200))\n",
      "((51 \"0xcafef00d\" 200))\n"
     ]
    }
   ],
   "source": [
    "# (mod (IS_SINGLETON PLAYER_ONE_HASH PLAYER_TWO_HASH P2_AMOUNT play_result)\n",
    "puzzle = terminate_puzzle.curry(0, '0xdeadbeef' , '0xcafef00d', 100)\n",
    "print_program(puzzle.run(Program.to([-1])))\n",
    "print_program(puzzle.run(Program.to(['x'])))\n",
    "print_program(puzzle.run(Program.to(['o'])))"
   ]
  }
 ],
 "metadata": {
  "kernelspec": {
   "display_name": "Python 3 (ipykernel)",
   "language": "python",
   "name": "python3"
  },
  "language_info": {
   "codemirror_mode": {
    "name": "ipython",
    "version": 3
   },
   "file_extension": ".py",
   "mimetype": "text/x-python",
   "name": "python",
   "nbconvert_exporter": "python",
   "pygments_lexer": "ipython3",
   "version": "3.10.5"
  }
 },
 "nbformat": 4,
 "nbformat_minor": 5
}
