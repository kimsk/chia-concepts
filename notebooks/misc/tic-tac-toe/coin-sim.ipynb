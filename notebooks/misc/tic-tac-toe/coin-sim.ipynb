{
 "cells": [
  {
   "cell_type": "markdown",
   "id": "38f344b9-122c-4487-9ad0-8003ea9b42ad",
   "metadata": {},
   "source": [
    "# Tic Tac Toe Coin on blockchain simulator"
   ]
  },
  {
   "cell_type": "code",
   "execution_count": 1,
   "id": "537d8a4c-85f4-4e4a-ad3d-9d1e4b4739e9",
   "metadata": {},
   "outputs": [
    {
     "name": "stdout",
     "output_type": "stream",
     "text": [
      "1.5.0\n",
      "cdv, version 1.0.8\n",
      "Python 3.8.10\n"
     ]
    }
   ],
   "source": [
    "%%bash\n",
    "chia version\n",
    "cdv --version\n",
    "python --version"
   ]
  },
  {
   "cell_type": "code",
   "execution_count": 2,
   "id": "c2c776d3-12b4-48c4-a95f-61f46cc0a0b3",
   "metadata": {},
   "outputs": [],
   "source": [
    "# chia libraries\n",
    "from blspy import (PrivateKey, AugSchemeMPL, G2Element)\n",
    "\n",
    "from chia.consensus.default_constants import DEFAULT_CONSTANTS\n",
    "from chia.types.blockchain_format.coin import Coin\n",
    "from chia.types.blockchain_format.program import Program\n",
    "from chia.types.coin_spend import CoinSpend\n",
    "from chia.types.condition_opcodes import ConditionOpcode\n",
    "from chia.types.spend_bundle import SpendBundle\n",
    "from chia.util.hash import std_hash\n",
    "from chia.wallet.puzzles import p2_delegated_puzzle_or_hidden_puzzle\n",
    "\n",
    "from clvm.casts import int_to_bytes\n",
    "from clvm_tools.clvmc import compile_clvm_text\n",
    "from clvm_tools.binutils import disassemble\n",
    "\n",
    "# utils & tic tac toe helper code\n",
    "import sys\n",
    "sys.path.insert(0, \"../../../shared\")\n",
    "from utils import (load_program, print_program, print_puzzle, print_json)\n",
    "\n",
    "sys.path.insert(0, \"./code\")\n",
    "import tic_tac_toe\n",
    "\n",
    "# load puzzles\n",
    "tic_tac_toe_puzzle = load_program(\"./code/tic-tac-toe.clsp\", [\"./code\", \"../../../shared\"])\n",
    "coin_puzzle = load_program(\"./code/coin.clsp\", [\"./code\", \"../../../shared\"])"
   ]
  },
  {
   "cell_type": "markdown",
   "id": "a65df6eb-31a6-4d2b-865e-0aa284742f68",
   "metadata": {},
   "source": [
    "## Set up blockchain simulator"
   ]
  },
  {
   "cell_type": "code",
   "execution_count": 3,
   "id": "b38a986b-e896-4c86-acee-0a098cdb371d",
   "metadata": {},
   "outputs": [
    {
     "name": "stdout",
     "output_type": "stream",
     "text": [
      "alice balance:\t\t2000000000000\n",
      "alice pk:\t\taba7ed288dd79189bec34698a3437fa7a45f801596d397a4f70081a0956dcdbe998388bfa758f4d49fa421ce3850a6d8\n",
      "alice puzzle hash:\t4f45877796d7a64e192bcc9f899afeedae391f71af3afd7e15a0792c049d23d3\n",
      "bob balance:\t\t2000000000000\n",
      "alice pk:\t\taba7ed288dd79189bec34698a3437fa7a45f801596d397a4f70081a0956dcdbe998388bfa758f4d49fa421ce3850a6d8\n",
      "bob puzzle hash:\t87908e3f85bf4b55c7e7709915c2ce97a1e6ec1d227e54a04dbfee6862d546a5\n"
     ]
    }
   ],
   "source": [
    "from cdv.test import Network, Wallet\n",
    "\n",
    "network: Network = await Network.create()\n",
    "\n",
    "# use as function parameters\n",
    "get_coin_records_by_parent_ids = network.sim_client.get_coin_records_by_parent_ids\n",
    "get_coin_records_by_puzzle_hash = network.sim_client.get_coin_records_by_puzzle_hash\n",
    "get_coin_record_by_name = network.sim_client.get_coin_record_by_name\n",
    "get_puzzle_and_solution = network.sim_client.get_puzzle_and_solution        \n",
    "get_block_records = network.sim_client.get_block_records\n",
    "get_additions_and_removals = network.sim_client.get_additions_and_removals\n",
    "\n",
    "await network.farm_block()\n",
    "\n",
    "alice: Wallet = network.make_wallet(\"alice\")\n",
    "bob: Wallet = network.make_wallet(\"bob\")\n",
    "await network.farm_block(farmer=alice)\n",
    "await network.farm_block(farmer=bob)\n",
    "\n",
    "print(f'alice balance:\\t\\t{alice.balance()}')\n",
    "print(f'alice pk:\\t\\t{alice.pk()}')\n",
    "print(f'alice puzzle hash:\\t{alice.puzzle_hash}')\n",
    "print(f'bob balance:\\t\\t{bob.balance()}')\n",
    "print(f'alice pk:\\t\\t{alice.pk()}')\n",
    "print(f'bob puzzle hash:\\t{bob.puzzle_hash}')\n",
    "\n",
    "# prepare players info\n",
    "player_one_info = Program.to([alice.pk(), alice.puzzle_hash])\n",
    "player_two_info = Program.to([bob.pk(), bob.puzzle_hash])"
   ]
  },
  {
   "cell_type": "markdown",
   "id": "e98629c3-c428-4ce1-9f2f-611bd7273325",
   "metadata": {},
   "source": [
    "## Alice and Bob create tic tac toe coin"
   ]
  },
  {
   "cell_type": "code",
   "execution_count": 4,
   "id": "1ecfaaa9-1510-4052-bc8c-009b5dd2a3fb",
   "metadata": {},
   "outputs": [],
   "source": [
    "# both players put one XCH\n",
    "amount = 1_000_000_000_000\n",
    "coin_amount = amount * 2\n",
    "def get_coin_puzzle(board, player):\n",
    "    # (mod (BOARD V pos)\n",
    "    curried_tic_tac_toe_puzzle = tic_tac_toe_puzzle.curry(\n",
    "            Program.to(board), \n",
    "            Program.to(player)\n",
    "        ) \n",
    "\n",
    "    #(mod (MOD PLAYER_ONE_INFO PLAYER_TWO_INFO CURRIED_TIC_TAC_TOE_PUZZLE amount position)\n",
    "    curried_coin_puzzle = coin_puzzle.curry(\n",
    "        coin_puzzle,\n",
    "        player_one_info,\n",
    "        player_two_info,\n",
    "        curried_tic_tac_toe_puzzle,\n",
    "        coin_amount)\n",
    "    return curried_coin_puzzle\n",
    "\n",
    "coin_puzzle = get_coin_puzzle([' '] * 9, 'x')\n",
    "coin_puzzle_hash = coin_puzzle.get_tree_hash()"
   ]
  },
  {
   "cell_type": "code",
   "execution_count": 5,
   "id": "a7137744-1e55-4a4e-a34e-ec519531aabb",
   "metadata": {},
   "outputs": [],
   "source": [
    "alice_coin_wrapper = await alice.choose_coin(1_750_000_000_000)\n",
    "alice_coin = alice_coin_wrapper.as_coin()\n",
    "alice_puzzle = p2_delegated_puzzle_or_hidden_puzzle.puzzle_for_pk(alice.pk())\n",
    "# alice's coin create 2 XCH tic tac toe coin\n",
    "alice_conditions = [\n",
    "    [ConditionOpcode.CREATE_COIN, coin_puzzle_hash, coin_amount],\n",
    "    [ConditionOpcode.CREATE_COIN, alice.puzzle_hash, alice_coin.amount - amount],\n",
    "]\n",
    "\n",
    "alice_delegated_puzzle = p2_delegated_puzzle_or_hidden_puzzle.puzzle_for_conditions(alice_conditions)\n",
    "alice_delegated_puzzle_solution = p2_delegated_puzzle_or_hidden_puzzle.solution_for_conditions(alice_conditions)\n",
    "alice_coin_spend = CoinSpend(\n",
    "    alice_coin,\n",
    "    alice_puzzle,\n",
    "    alice_delegated_puzzle_solution\n",
    ")\n",
    "\n",
    "alice_coin_message = (\n",
    "    alice_delegated_puzzle.get_tree_hash()\n",
    "    + alice_coin.name()\n",
    "    + DEFAULT_CONSTANTS.AGG_SIG_ME_ADDITIONAL_DATA\n",
    ")\n",
    "alice_synthetic_sk: PrivateKey = p2_delegated_puzzle_or_hidden_puzzle.calculate_synthetic_secret_key(\n",
    "    alice.sk_,\n",
    "    p2_delegated_puzzle_or_hidden_puzzle.DEFAULT_HIDDEN_PUZZLE_HASH\n",
    ")\n",
    "alice_signature: G2Element = AugSchemeMPL.sign(\n",
    "    alice_synthetic_sk,\n",
    "    alice_coin_message\n",
    ")"
   ]
  },
  {
   "cell_type": "code",
   "execution_count": 6,
   "id": "23112106-7bf8-4e61-9a94-f1740e66170b",
   "metadata": {},
   "outputs": [],
   "source": [
    "bob_coin_wrapper = await bob.choose_coin(1_750_000_000_000)\n",
    "bob_coin = bob_coin_wrapper.as_coin()\n",
    "bob_puzzle = p2_delegated_puzzle_or_hidden_puzzle.puzzle_for_pk(bob.pk())\n",
    "# bob's coin create change back to himself\n",
    "bob_conditions = [\n",
    "    [ConditionOpcode.CREATE_COIN, bob.puzzle_hash, bob_coin.amount - amount],\n",
    "]\n",
    "\n",
    "bob_delegated_puzzle = p2_delegated_puzzle_or_hidden_puzzle.puzzle_for_conditions(bob_conditions)\n",
    "bob_delegated_puzzle_solution = p2_delegated_puzzle_or_hidden_puzzle.solution_for_conditions(bob_conditions)\n",
    "bob_coin_spend = CoinSpend(\n",
    "    bob_coin,\n",
    "    bob_puzzle,\n",
    "    bob_delegated_puzzle_solution\n",
    ")\n",
    "\n",
    "bob_coin_message = (\n",
    "    bob_delegated_puzzle.get_tree_hash()\n",
    "    + bob_coin.name()\n",
    "    + DEFAULT_CONSTANTS.AGG_SIG_ME_ADDITIONAL_DATA\n",
    ")\n",
    "bob_synthetic_sk: PrivateKey = p2_delegated_puzzle_or_hidden_puzzle.calculate_synthetic_secret_key(\n",
    "    bob.sk_,\n",
    "    p2_delegated_puzzle_or_hidden_puzzle.DEFAULT_HIDDEN_PUZZLE_HASH\n",
    ")\n",
    "bob_signature: G2Element = AugSchemeMPL.sign(\n",
    "    bob_synthetic_sk,\n",
    "    bob_coin_message\n",
    ")"
   ]
  },
  {
   "cell_type": "code",
   "execution_count": 7,
   "id": "95aac8b8-bc57-4fbc-a03f-a7ef5e327cf3",
   "metadata": {},
   "outputs": [
    {
     "data": {
      "text/plain": [
       "{'additions': [Coin(parent_coin_info=<bytes32: 12d7b8c1654f82f2330059abc28e3240e863450706de7fdc518026f393f68bba>, puzzle_hash=<bytes32: 1d6ebdc5dffafffec3b7ccd30d292e13854b497a6bb2d3268d7c2e25d0055120>, amount=2000000000000),\n",
       "  Coin(parent_coin_info=<bytes32: 12d7b8c1654f82f2330059abc28e3240e863450706de7fdc518026f393f68bba>, puzzle_hash=<bytes32: 4f45877796d7a64e192bcc9f899afeedae391f71af3afd7e15a0792c049d23d3>, amount=750000000000),\n",
       "  Coin(parent_coin_info=<bytes32: 17ca02c0a209d7e1a3869442ba13ef9468181c4b095b8823aeaf3c27f8e58c34>, puzzle_hash=<bytes32: 87908e3f85bf4b55c7e7709915c2ce97a1e6ec1d227e54a04dbfee6862d546a5>, amount=750000000000)],\n",
       " 'removals': [Coin(parent_coin_info=<bytes32: e3b0c44298fc1c149afbf4c8996fb92400000000000000000000000000000001>, puzzle_hash=<bytes32: 4f45877796d7a64e192bcc9f899afeedae391f71af3afd7e15a0792c049d23d3>, amount=1750000000000),\n",
       "  Coin(parent_coin_info=<bytes32: e3b0c44298fc1c149afbf4c8996fb92400000000000000000000000000000002>, puzzle_hash=<bytes32: 87908e3f85bf4b55c7e7709915c2ce97a1e6ec1d227e54a04dbfee6862d546a5>, amount=1750000000000)]}"
      ]
     },
     "execution_count": 7,
     "metadata": {},
     "output_type": "execute_result"
    }
   ],
   "source": [
    "agg_sig = AugSchemeMPL.aggregate([alice_signature, bob_signature])\n",
    "spend_bundle = SpendBundle([alice_coin_spend, bob_coin_spend], agg_sig)\n",
    "#print_json(spend_bundle.to_json_dict())\n",
    "await network.push_tx(spend_bundle)"
   ]
  },
  {
   "cell_type": "code",
   "execution_count": 8,
   "id": "8d4ca1f4-b946-4b8b-90e0-479ac86f99d0",
   "metadata": {},
   "outputs": [
    {
     "name": "stdout",
     "output_type": "stream",
     "text": [
      "alice balance:\t\t1000000000000\n",
      "bob balance:\t\t1000000000000\n",
      "{'amount': 2000000000000,\n",
      " 'parent_coin_info': '0x12d7b8c1654f82f2330059abc28e3240e863450706de7fdc518026f393f68bba',\n",
      " 'puzzle_hash': '0x1d6ebdc5dffafffec3b7ccd30d292e13854b497a6bb2d3268d7c2e25d0055120'}\n"
     ]
    }
   ],
   "source": [
    "network.sim.pass_blocks(1)\n",
    "print(f'alice balance:\\t\\t{alice.balance()}')\n",
    "print(f'bob balance:\\t\\t{bob.balance()}')\n",
    "\n",
    "coin_records = await get_coin_records_by_puzzle_hash(coin_puzzle_hash)\n",
    "tic_tac_toe_coin = coin_records[0].coin\n",
    "print(tic_tac_toe_coin)"
   ]
  },
  {
   "cell_type": "markdown",
   "id": "ee896317-bed2-48d1-81cd-bd4f1e3f8aab",
   "metadata": {},
   "source": [
    "## Alice's turn"
   ]
  },
  {
   "cell_type": "code",
   "execution_count": 9,
   "id": "f304cfa4-f2d7-41b8-aeca-ee9f0d23c052",
   "metadata": {},
   "outputs": [
    {
     "data": {
      "text/plain": [
       "{'additions': [Coin(parent_coin_info=<bytes32: 8e8ce3ab205a7815be1d90174b2c2dd8d29c828045363ae0bcaedf82e90a7c2d>, puzzle_hash=<bytes32: 2d717ebec61edaff0b1e472100b3036d6b4f95d663337a08e1ec41a751cfe143>, amount=2000000000000)],\n",
       " 'removals': [Coin(parent_coin_info=<bytes32: 12d7b8c1654f82f2330059abc28e3240e863450706de7fdc518026f393f68bba>, puzzle_hash=<bytes32: 1d6ebdc5dffafffec3b7ccd30d292e13854b497a6bb2d3268d7c2e25d0055120>, amount=2000000000000)]}"
      ]
     },
     "execution_count": 9,
     "metadata": {},
     "output_type": "execute_result"
    }
   ],
   "source": [
    "position = 4\n",
    "coin_message = (\n",
    "    std_hash(int_to_bytes(position))\n",
    "    + tic_tac_toe_coin.name()\n",
    "    + DEFAULT_CONSTANTS.AGG_SIG_ME_ADDITIONAL_DATA\n",
    ")\n",
    "\n",
    "# sign with alice's sk\n",
    "signature: G2Element = AugSchemeMPL.sign(\n",
    "    alice.sk_,\n",
    "    coin_message\n",
    ")\n",
    "\n",
    "coin_spend = CoinSpend(\n",
    "    tic_tac_toe_coin,\n",
    "    coin_puzzle,\n",
    "    Program.to([position]) # coin amount and position\n",
    ")\n",
    "\n",
    "spend_bundle = SpendBundle([coin_spend], signature)\n",
    "#print_json(spend_bundle.to_json_dict())\n",
    "await network.push_tx(spend_bundle)"
   ]
  },
  {
   "cell_type": "markdown",
   "id": "e74c46e5-5f29-40a8-80f4-de1ffae8f787",
   "metadata": {},
   "source": [
    "## Bob's Turn"
   ]
  },
  {
   "cell_type": "code",
   "execution_count": 10,
   "id": "805aab27-9589-49b7-a7c1-120cb8b2c0a0",
   "metadata": {},
   "outputs": [
    {
     "name": "stdout",
     "output_type": "stream",
     "text": [
      "{'amount': 2000000000000,\n",
      " 'parent_coin_info': '0x8e8ce3ab205a7815be1d90174b2c2dd8d29c828045363ae0bcaedf82e90a7c2d',\n",
      " 'puzzle_hash': '0x2d717ebec61edaff0b1e472100b3036d6b4f95d663337a08e1ec41a751cfe143'}\n"
     ]
    }
   ],
   "source": [
    "network.sim.pass_blocks(1)\n",
    "coin_records = await get_coin_records_by_puzzle_hash(bytes.fromhex(\"2d717ebec61edaff0b1e472100b3036d6b4f95d663337a08e1ec41a751cfe143\"))\n",
    "tic_tac_toe_coin = coin_records[0].coin\n",
    "print(tic_tac_toe_coin)"
   ]
  }
 ],
 "metadata": {
  "kernelspec": {
   "display_name": "Python 3 (ipykernel)",
   "language": "python",
   "name": "python3"
  },
  "language_info": {
   "codemirror_mode": {
    "name": "ipython",
    "version": 3
   },
   "file_extension": ".py",
   "mimetype": "text/x-python",
   "name": "python",
   "nbconvert_exporter": "python",
   "pygments_lexer": "ipython3",
   "version": "3.8.10"
  }
 },
 "nbformat": 4,
 "nbformat_minor": 5
}
