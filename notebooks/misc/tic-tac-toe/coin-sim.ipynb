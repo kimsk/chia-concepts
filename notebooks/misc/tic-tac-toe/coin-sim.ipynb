{
 "cells": [
  {
   "cell_type": "markdown",
   "id": "38f344b9-122c-4487-9ad0-8003ea9b42ad",
   "metadata": {},
   "source": [
    "# Tic Tac Toe Coin On Blockchain Simulator"
   ]
  },
  {
   "cell_type": "code",
   "execution_count": 1,
   "id": "537d8a4c-85f4-4e4a-ad3d-9d1e4b4739e9",
   "metadata": {},
   "outputs": [
    {
     "name": "stdout",
     "output_type": "stream",
     "text": [
      "1.5.1.dev0\n",
      "cdv, version 1.0.8\n",
      "Python 3.10.5\n"
     ]
    }
   ],
   "source": [
    "%%bash\n",
    "chia version\n",
    "cdv --version\n",
    "python --version"
   ]
  },
  {
   "cell_type": "code",
   "execution_count": 2,
   "id": "c2c776d3-12b4-48c4-a95f-61f46cc0a0b3",
   "metadata": {},
   "outputs": [],
   "source": [
    "# chia libraries\n",
    "from blspy import (PrivateKey, AugSchemeMPL, G2Element)\n",
    "\n",
    "from chia.consensus.default_constants import DEFAULT_CONSTANTS\n",
    "from chia.types.blockchain_format.coin import Coin\n",
    "from chia.types.blockchain_format.program import Program\n",
    "from chia.types.coin_spend import CoinSpend\n",
    "from chia.types.condition_opcodes import ConditionOpcode\n",
    "from chia.types.spend_bundle import SpendBundle\n",
    "from chia.util.hash import std_hash\n",
    "from chia.wallet.puzzles import p2_delegated_puzzle_or_hidden_puzzle\n",
    "\n",
    "from clvm.casts import int_to_bytes\n",
    "from clvm_tools.clvmc import compile_clvm_text\n",
    "from clvm_tools.binutils import disassemble\n",
    "\n",
    "# utils & tic tac toe helper code\n",
    "import sys\n",
    "sys.path.insert(0, \"../../../shared\")\n",
    "from utils import (load_program, print_program, print_puzzle, print_json)\n",
    "\n",
    "sys.path.insert(0, \"./code\")\n",
    "import tic_tac_toe\n",
    "\n",
    "# load puzzles\n",
    "tic_tac_toe_puzzle = load_program(\"./code/tic-tac-toe.clsp\", [\"./code\", \"../../../shared\"])\n",
    "coin_puzzle = load_program(\"./code/coin.clsp\", [\"./code\", \"../../../shared\"])\n",
    "terminate_puzzle = load_program(\"./code/terminate-game.clsp\", [\"./code\", \"../../../shared\"])"
   ]
  },
  {
   "cell_type": "markdown",
   "id": "a65df6eb-31a6-4d2b-865e-0aa284742f68",
   "metadata": {},
   "source": [
    "## Set Up A Blockchain Simulator"
   ]
  },
  {
   "cell_type": "code",
   "execution_count": 3,
   "id": "b38a986b-e896-4c86-acee-0a098cdb371d",
   "metadata": {},
   "outputs": [
    {
     "name": "stdout",
     "output_type": "stream",
     "text": [
      "alice balance:\t\t2000000000000\n",
      "alice pk:\t\taba7ed288dd79189bec34698a3437fa7a45f801596d397a4f70081a0956dcdbe998388bfa758f4d49fa421ce3850a6d8\n",
      "alice puzzle hash:\t4f45877796d7a64e192bcc9f899afeedae391f71af3afd7e15a0792c049d23d3\n",
      "bob balance:\t\t2000000000000\n",
      "alice pk:\t\taba7ed288dd79189bec34698a3437fa7a45f801596d397a4f70081a0956dcdbe998388bfa758f4d49fa421ce3850a6d8\n",
      "bob puzzle hash:\t87908e3f85bf4b55c7e7709915c2ce97a1e6ec1d227e54a04dbfee6862d546a5\n"
     ]
    }
   ],
   "source": [
    "from cdv.test import Network, Wallet\n",
    "\n",
    "network: Network = await Network.create()\n",
    "\n",
    "# use as function parameters\n",
    "get_coin_records_by_parent_ids = network.sim_client.get_coin_records_by_parent_ids\n",
    "get_coin_records_by_puzzle_hash = network.sim_client.get_coin_records_by_puzzle_hash\n",
    "get_coin_record_by_name = network.sim_client.get_coin_record_by_name\n",
    "get_puzzle_and_solution = network.sim_client.get_puzzle_and_solution        \n",
    "get_block_records = network.sim_client.get_block_records\n",
    "get_additions_and_removals = network.sim_client.get_additions_and_removals\n",
    "\n",
    "await network.farm_block()\n",
    "\n",
    "alice: Wallet = network.make_wallet(\"alice\")\n",
    "bob: Wallet = network.make_wallet(\"bob\")\n",
    "await network.farm_block(farmer=alice)\n",
    "await network.farm_block(farmer=bob)\n",
    "\n",
    "print(f'alice balance:\\t\\t{alice.balance()}')\n",
    "print(f'alice pk:\\t\\t{alice.pk()}')\n",
    "print(f'alice puzzle hash:\\t{alice.puzzle_hash}')\n",
    "print(f'bob balance:\\t\\t{bob.balance()}')\n",
    "print(f'alice pk:\\t\\t{alice.pk()}')\n",
    "print(f'bob puzzle hash:\\t{bob.puzzle_hash}')\n",
    "\n",
    "# prepare players info\n",
    "player_one_info = Program.to([alice.pk(), alice.puzzle_hash])\n",
    "player_two_info = Program.to([bob.pk(), bob.puzzle_hash])"
   ]
  },
  {
   "cell_type": "markdown",
   "id": "e98629c3-c428-4ce1-9f2f-611bd7273325",
   "metadata": {},
   "source": [
    "## Alice & Bob Create Tic Tac Toe Coin Together"
   ]
  },
  {
   "cell_type": "code",
   "execution_count": 4,
   "id": "1ecfaaa9-1510-4052-bc8c-009b5dd2a3fb",
   "metadata": {},
   "outputs": [],
   "source": [
    "# both players put one XCH\n",
    "player_amount = 1_000_000_000_000\n",
    "player_fee = 50_000_000\n",
    "p2_amount = player_amount - player_fee\n",
    "game_amount = player_amount * 2\n",
    "\n",
    "# prepare terminate-game puzzle\n",
    "# (mod (IS_SINGLETON PLAYER_ONE_HASH PLAYER_TWO_HASH P2_AMOUNT play_result)\n",
    "curried_terminate_puzzle = terminate_puzzle.curry(\n",
    "    0,\n",
    "    alice.puzzle_hash,\n",
    "    bob.puzzle_hash,\n",
    "    p2_amount\n",
    ")\n",
    "\n",
    "def get_coin_puzzle(board, player):\n",
    "    # (mod (BOARD V pos)\n",
    "    curried_tic_tac_toe_puzzle = tic_tac_toe_puzzle.curry(\n",
    "            Program.to(board), \n",
    "            Program.to(player)\n",
    "        ) \n",
    "\n",
    "    #(mod (MOD PLAYER_ONE_INFO PLAYER_TWO_INFO CURRIED_TIC_TAC_TOE_PUZZLE amount position)\n",
    "    curried_coin_puzzle = coin_puzzle.curry(\n",
    "        coin_puzzle,\n",
    "        curried_terminate_puzzle,\n",
    "        player_one_info,\n",
    "        player_two_info,\n",
    "        curried_tic_tac_toe_puzzle,\n",
    "        game_amount)\n",
    "    return curried_coin_puzzle\n",
    "\n",
    "curried_coin_puzzle = get_coin_puzzle([' '] * 9, 'x')\n",
    "curried_coin_puzzle_hash = curried_coin_puzzle.get_tree_hash()"
   ]
  },
  {
   "cell_type": "code",
   "execution_count": 5,
   "id": "a7137744-1e55-4a4e-a34e-ec519531aabb",
   "metadata": {},
   "outputs": [],
   "source": [
    "alice_coin_wrapper = await alice.choose_coin(1_750_000_000_000)\n",
    "alice_coin = alice_coin_wrapper.as_coin()\n",
    "alice_puzzle = p2_delegated_puzzle_or_hidden_puzzle.puzzle_for_pk(alice.pk())\n",
    "# alice's coin create tic tac toe coin\n",
    "alice_conditions = [\n",
    "    [ConditionOpcode.CREATE_COIN, curried_coin_puzzle_hash, game_amount],\n",
    "    [ConditionOpcode.CREATE_COIN, alice.puzzle_hash, alice_coin.amount - player_amount],\n",
    "]\n",
    "\n",
    "alice_delegated_puzzle = p2_delegated_puzzle_or_hidden_puzzle.puzzle_for_conditions(alice_conditions)\n",
    "alice_delegated_puzzle_solution = p2_delegated_puzzle_or_hidden_puzzle.solution_for_conditions(alice_conditions)\n",
    "alice_coin_spend = CoinSpend(\n",
    "    alice_coin,\n",
    "    alice_puzzle,\n",
    "    alice_delegated_puzzle_solution\n",
    ")\n",
    "\n",
    "alice_coin_message = (\n",
    "    alice_delegated_puzzle.get_tree_hash()\n",
    "    + alice_coin.name()\n",
    "    + DEFAULT_CONSTANTS.AGG_SIG_ME_ADDITIONAL_DATA\n",
    ")\n",
    "alice_synthetic_sk: PrivateKey = p2_delegated_puzzle_or_hidden_puzzle.calculate_synthetic_secret_key(\n",
    "    alice.sk_,\n",
    "    p2_delegated_puzzle_or_hidden_puzzle.DEFAULT_HIDDEN_PUZZLE_HASH\n",
    ")\n",
    "alice_signature: G2Element = AugSchemeMPL.sign(\n",
    "    alice_synthetic_sk,\n",
    "    alice_coin_message\n",
    ")"
   ]
  },
  {
   "cell_type": "code",
   "execution_count": 6,
   "id": "23112106-7bf8-4e61-9a94-f1740e66170b",
   "metadata": {},
   "outputs": [],
   "source": [
    "bob_coin_wrapper = await bob.choose_coin(1_750_000_000_000)\n",
    "bob_coin = bob_coin_wrapper.as_coin()\n",
    "bob_puzzle = p2_delegated_puzzle_or_hidden_puzzle.puzzle_for_pk(bob.pk())\n",
    "# bob's coin create change back to himself\n",
    "bob_conditions = [\n",
    "    [ConditionOpcode.CREATE_COIN, bob.puzzle_hash, bob_coin.amount - player_amount],\n",
    "]\n",
    "\n",
    "bob_delegated_puzzle = p2_delegated_puzzle_or_hidden_puzzle.puzzle_for_conditions(bob_conditions)\n",
    "bob_delegated_puzzle_solution = p2_delegated_puzzle_or_hidden_puzzle.solution_for_conditions(bob_conditions)\n",
    "bob_coin_spend = CoinSpend(\n",
    "    bob_coin,\n",
    "    bob_puzzle,\n",
    "    bob_delegated_puzzle_solution\n",
    ")\n",
    "\n",
    "bob_coin_message = (\n",
    "    bob_delegated_puzzle.get_tree_hash()\n",
    "    + bob_coin.name()\n",
    "    + DEFAULT_CONSTANTS.AGG_SIG_ME_ADDITIONAL_DATA\n",
    ")\n",
    "bob_synthetic_sk: PrivateKey = p2_delegated_puzzle_or_hidden_puzzle.calculate_synthetic_secret_key(\n",
    "    bob.sk_,\n",
    "    p2_delegated_puzzle_or_hidden_puzzle.DEFAULT_HIDDEN_PUZZLE_HASH\n",
    ")\n",
    "bob_signature: G2Element = AugSchemeMPL.sign(\n",
    "    bob_synthetic_sk,\n",
    "    bob_coin_message\n",
    ")"
   ]
  },
  {
   "cell_type": "code",
   "execution_count": 7,
   "id": "95aac8b8-bc57-4fbc-a03f-a7ef5e327cf3",
   "metadata": {},
   "outputs": [
    {
     "data": {
      "text/plain": [
       "{'additions': [Coin(parent_coin_info=<bytes32: 12d7b8c1654f82f2330059abc28e3240e863450706de7fdc518026f393f68bba>, puzzle_hash=<bytes32: 4f45877796d7a64e192bcc9f899afeedae391f71af3afd7e15a0792c049d23d3>, amount=750000000000),\n",
       "  Coin(parent_coin_info=<bytes32: 12d7b8c1654f82f2330059abc28e3240e863450706de7fdc518026f393f68bba>, puzzle_hash=<bytes32: 8637d94359c5b33e714d07e707a1bf8772e4e1ee432439476359f6b6aaa65561>, amount=2000000000000),\n",
       "  Coin(parent_coin_info=<bytes32: 17ca02c0a209d7e1a3869442ba13ef9468181c4b095b8823aeaf3c27f8e58c34>, puzzle_hash=<bytes32: 87908e3f85bf4b55c7e7709915c2ce97a1e6ec1d227e54a04dbfee6862d546a5>, amount=750000000000)],\n",
       " 'removals': [Coin(parent_coin_info=<bytes32: e3b0c44298fc1c149afbf4c8996fb92400000000000000000000000000000001>, puzzle_hash=<bytes32: 4f45877796d7a64e192bcc9f899afeedae391f71af3afd7e15a0792c049d23d3>, amount=1750000000000),\n",
       "  Coin(parent_coin_info=<bytes32: e3b0c44298fc1c149afbf4c8996fb92400000000000000000000000000000002>, puzzle_hash=<bytes32: 87908e3f85bf4b55c7e7709915c2ce97a1e6ec1d227e54a04dbfee6862d546a5>, amount=1750000000000)]}"
      ]
     },
     "execution_count": 7,
     "metadata": {},
     "output_type": "execute_result"
    }
   ],
   "source": [
    "agg_sig = AugSchemeMPL.aggregate([alice_signature, bob_signature])\n",
    "spend_bundle = SpendBundle([alice_coin_spend, bob_coin_spend], agg_sig)\n",
    "#print_json(spend_bundle.to_json_dict())\n",
    "await network.push_tx(spend_bundle)"
   ]
  },
  {
   "cell_type": "code",
   "execution_count": 8,
   "id": "8d4ca1f4-b946-4b8b-90e0-479ac86f99d0",
   "metadata": {},
   "outputs": [
    {
     "name": "stdout",
     "output_type": "stream",
     "text": [
      "alice balance:\t\t1000000000000\n",
      "bob balance:\t\t1000000000000\n",
      "{'amount': 2000000000000,\n",
      " 'parent_coin_info': '0x12d7b8c1654f82f2330059abc28e3240e863450706de7fdc518026f393f68bba',\n",
      " 'puzzle_hash': '0x8637d94359c5b33e714d07e707a1bf8772e4e1ee432439476359f6b6aaa65561'}\n"
     ]
    }
   ],
   "source": [
    "network.sim.pass_blocks(1)\n",
    "print(f'alice balance:\\t\\t{alice.balance()}')\n",
    "print(f'bob balance:\\t\\t{bob.balance()}')\n",
    "\n",
    "coin_records = await get_coin_records_by_puzzle_hash(curried_coin_puzzle_hash)\n",
    "tic_tac_toe_coin = coin_records[0].coin\n",
    "print(tic_tac_toe_coin)"
   ]
  },
  {
   "cell_type": "markdown",
   "id": "ee896317-bed2-48d1-81cd-bd4f1e3f8aab",
   "metadata": {},
   "source": [
    "## Simulate Players Taking Turns"
   ]
  },
  {
   "cell_type": "code",
   "execution_count": 9,
   "id": "48ca5f76-1c44-49f4-8bff-06e60b9a5cea",
   "metadata": {},
   "outputs": [],
   "source": [
    "async def sim_play(tic_tac_toe_coin, sk, board, player, position):\n",
    "    curried_coin_puzzle = get_coin_puzzle(board, player)\n",
    "    curried_tic_tac_toe_puzzle = tic_tac_toe.get_curried_puzzle_from_curried_coin_puzzle(curried_coin_puzzle)\n",
    "    board_state, new_board = tic_tac_toe.play(curried_tic_tac_toe_puzzle, position)\n",
    "    tic_tac_toe.print_board(new_board)\n",
    "\n",
    "    coin_message = (\n",
    "        std_hash(int_to_bytes(position))\n",
    "        + tic_tac_toe_coin.name()\n",
    "        + DEFAULT_CONSTANTS.AGG_SIG_ME_ADDITIONAL_DATA\n",
    "    )\n",
    "\n",
    "    # sign with sk\n",
    "    signature: G2Element = AugSchemeMPL.sign(\n",
    "        sk,\n",
    "        coin_message\n",
    "    )\n",
    "\n",
    "    coin_spend = CoinSpend(\n",
    "        tic_tac_toe_coin,\n",
    "        curried_coin_puzzle,\n",
    "        Program.to([position]) # coin amount and position\n",
    "    )\n",
    "\n",
    "    spend_bundle = SpendBundle([coin_spend], signature)\n",
    "    #print_json(spend_bundle.to_json_dict())\n",
    "    result = await network.push_tx(spend_bundle)\n",
    "    print(result)\n",
    "    tic_tac_toe_coin = result[\"additions\"][0]\n",
    "    print(tic_tac_toe_coin)\n",
    "    next_player = 'x' if player == 'o' else 'o'\n",
    "    return new_board, next_player, tic_tac_toe_coin"
   ]
  },
  {
   "cell_type": "markdown",
   "id": "885c4d93-744d-4a7b-b659-0c7395eb9eef",
   "metadata": {},
   "source": [
    "## Simulate Winning Board\n",
    "1. Start with empty board.\n",
    "2. `x` plays first.\n",
    "3. `o` and `x` take turn until `x` wins."
   ]
  },
  {
   "cell_type": "code",
   "execution_count": 10,
   "id": "2c0e8a87-4649-4a3b-b485-4b4920298912",
   "metadata": {},
   "outputs": [
    {
     "name": "stdout",
     "output_type": "stream",
     "text": [
      "   |   |   \n",
      "---+---+---\n",
      "   | x |   \n",
      "---+---+---\n",
      "   |   |   \n",
      "\n",
      "{'additions': [Coin(parent_coin_info=<bytes32: 37b4ec70323155e7d587a84d880b0cc68c3c85c6d106808e89278dac165a6974>, puzzle_hash=<bytes32: 823e26d76fd3ca6607fac6e1212b850a0e68f9755d288d02dd16a81a36256a4b>, amount=2000000000000)], 'removals': [Coin(parent_coin_info=<bytes32: 12d7b8c1654f82f2330059abc28e3240e863450706de7fdc518026f393f68bba>, puzzle_hash=<bytes32: 8637d94359c5b33e714d07e707a1bf8772e4e1ee432439476359f6b6aaa65561>, amount=2000000000000)]}\n",
      "{'amount': 2000000000000,\n",
      " 'parent_coin_info': '0x37b4ec70323155e7d587a84d880b0cc68c3c85c6d106808e89278dac165a6974',\n",
      " 'puzzle_hash': '0x823e26d76fd3ca6607fac6e1212b850a0e68f9755d288d02dd16a81a36256a4b'}\n",
      " o |   |   \n",
      "---+---+---\n",
      "   | x |   \n",
      "---+---+---\n",
      "   |   |   \n",
      "\n",
      "{'additions': [Coin(parent_coin_info=<bytes32: c73dffc6dad7247b3a5db533737d85e96e63947f743ee04b77dac2903e43c2a6>, puzzle_hash=<bytes32: 9dc6ea6cd33f033d7c13443e62b5e25d324bfca6cee1ef5881e11a750a04d97b>, amount=2000000000000)], 'removals': [Coin(parent_coin_info=<bytes32: 37b4ec70323155e7d587a84d880b0cc68c3c85c6d106808e89278dac165a6974>, puzzle_hash=<bytes32: 823e26d76fd3ca6607fac6e1212b850a0e68f9755d288d02dd16a81a36256a4b>, amount=2000000000000)]}\n",
      "{'amount': 2000000000000,\n",
      " 'parent_coin_info': '0xc73dffc6dad7247b3a5db533737d85e96e63947f743ee04b77dac2903e43c2a6',\n",
      " 'puzzle_hash': '0x9dc6ea6cd33f033d7c13443e62b5e25d324bfca6cee1ef5881e11a750a04d97b'}\n",
      " o |   |   \n",
      "---+---+---\n",
      " x | x |   \n",
      "---+---+---\n",
      "   |   |   \n",
      "\n",
      "{'additions': [Coin(parent_coin_info=<bytes32: bff00299cd5ccfccbf58b936b692cba6256dc4275463e45df1b46c53f39ddfc7>, puzzle_hash=<bytes32: 57237dd57f6d4ac9d6a41ec8ac6fe6751f0c4563615e21ced41b23d0f6412f17>, amount=2000000000000)], 'removals': [Coin(parent_coin_info=<bytes32: c73dffc6dad7247b3a5db533737d85e96e63947f743ee04b77dac2903e43c2a6>, puzzle_hash=<bytes32: 9dc6ea6cd33f033d7c13443e62b5e25d324bfca6cee1ef5881e11a750a04d97b>, amount=2000000000000)]}\n",
      "{'amount': 2000000000000,\n",
      " 'parent_coin_info': '0xbff00299cd5ccfccbf58b936b692cba6256dc4275463e45df1b46c53f39ddfc7',\n",
      " 'puzzle_hash': '0x57237dd57f6d4ac9d6a41ec8ac6fe6751f0c4563615e21ced41b23d0f6412f17'}\n",
      " o | o |   \n",
      "---+---+---\n",
      " x | x |   \n",
      "---+---+---\n",
      "   |   |   \n",
      "\n",
      "{'additions': [Coin(parent_coin_info=<bytes32: 0fa6ab0c5f206b33eada621af95cddd34e2b277ca6a8265171e4718723248207>, puzzle_hash=<bytes32: 1777fd4cf27ca94710957fe49d5be084ebe0c55d6e9076226ae3c615f2f256c9>, amount=2000000000000)], 'removals': [Coin(parent_coin_info=<bytes32: bff00299cd5ccfccbf58b936b692cba6256dc4275463e45df1b46c53f39ddfc7>, puzzle_hash=<bytes32: 57237dd57f6d4ac9d6a41ec8ac6fe6751f0c4563615e21ced41b23d0f6412f17>, amount=2000000000000)]}\n",
      "{'amount': 2000000000000,\n",
      " 'parent_coin_info': '0x0fa6ab0c5f206b33eada621af95cddd34e2b277ca6a8265171e4718723248207',\n",
      " 'puzzle_hash': '0x1777fd4cf27ca94710957fe49d5be084ebe0c55d6e9076226ae3c615f2f256c9'}\n",
      " o | o |   \n",
      "---+---+---\n",
      " x | x | x \n",
      "---+---+---\n",
      "   |   |   \n",
      "\n",
      "{'additions': [Coin(parent_coin_info=<bytes32: fe26664f421a0d64d5ea99665967923877108f396797f091147c79774cf10e02>, puzzle_hash=<bytes32: 4f45877796d7a64e192bcc9f899afeedae391f71af3afd7e15a0792c049d23d3>, amount=1999900000000)], 'removals': [Coin(parent_coin_info=<bytes32: 0fa6ab0c5f206b33eada621af95cddd34e2b277ca6a8265171e4718723248207>, puzzle_hash=<bytes32: 1777fd4cf27ca94710957fe49d5be084ebe0c55d6e9076226ae3c615f2f256c9>, amount=2000000000000)]}\n",
      "{'amount': 1999900000000,\n",
      " 'parent_coin_info': '0xfe26664f421a0d64d5ea99665967923877108f396797f091147c79774cf10e02',\n",
      " 'puzzle_hash': '0x4f45877796d7a64e192bcc9f899afeedae391f71af3afd7e15a0792c049d23d3'}\n"
     ]
    }
   ],
   "source": [
    "board = [' '] * 9\n",
    "player = 'x'\n",
    "board, player, tic_tac_toe_coin = await sim_play(tic_tac_toe_coin, alice.sk_, board, player, 4)\n",
    "board, player, tic_tac_toe_coin = await sim_play(tic_tac_toe_coin, bob.sk_, board, player, 0)\n",
    "board, player, tic_tac_toe_coin = await sim_play(tic_tac_toe_coin, alice.sk_, board, player, 3)\n",
    "board, player, tic_tac_toe_coin = await sim_play(tic_tac_toe_coin, bob.sk_, board, player, 1)\n",
    "board, player, tic_tac_toe_coin = await sim_play(tic_tac_toe_coin, alice.sk_, board, player, 5)\n"
   ]
  },
  {
   "cell_type": "markdown",
   "id": "983628bd-c2bb-4a07-86e9-7660439e45d3",
   "metadata": {},
   "source": [
    "## Simulate Tie Game\n",
    "1. Start with empty board.\n",
    "2. `x` plays first.\n",
    "3. `o` and `x` take turn until the board is not playable."
   ]
  },
  {
   "cell_type": "code",
   "execution_count": 12,
   "id": "1671b1d3-7136-4635-9a8d-a0ad93d811fd",
   "metadata": {},
   "outputs": [
    {
     "name": "stdout",
     "output_type": "stream",
     "text": [
      "alice balance:\t\t4999900000000\n",
      "bob balance:\t\t3000000000000\n",
      "{'amount': 2000000000000,\n",
      " 'parent_coin_info': '0x12d7b8c1654f82f2330059abc28e3240e863450706de7fdc518026f393f68bba',\n",
      " 'puzzle_hash': '0x8637d94359c5b33e714d07e707a1bf8772e4e1ee432439476359f6b6aaa65561'}\n"
     ]
    }
   ],
   "source": [
    "network.sim.pass_blocks(1)\n",
    "await network.farm_block(farmer=alice)\n",
    "await network.farm_block(farmer=bob)\n",
    "print(f'alice balance:\\t\\t{alice.balance()}')\n",
    "print(f'bob balance:\\t\\t{bob.balance()}')\n",
    "\n",
    "coin_records = await get_coin_records_by_puzzle_hash(curried_coin_puzzle_hash)\n",
    "tic_tac_toe_coin = coin_records[0].coin\n",
    "print(tic_tac_toe_coin)"
   ]
  },
  {
   "cell_type": "code",
   "execution_count": 13,
   "id": "df20286d-6686-44d2-bdf8-be1a2271454d",
   "metadata": {},
   "outputs": [
    {
     "name": "stdout",
     "output_type": "stream",
     "text": [
      " x |   |   \n",
      "---+---+---\n",
      "   |   |   \n",
      "---+---+---\n",
      "   |   |   \n",
      "\n",
      "{'error': 'Err.DOUBLE_SPEND'}\n"
     ]
    },
    {
     "ename": "KeyError",
     "evalue": "'additions'",
     "output_type": "error",
     "traceback": [
      "\u001b[0;31m---------------------------------------------------------------------------\u001b[0m",
      "\u001b[0;31mKeyError\u001b[0m                                  Traceback (most recent call last)",
      "Input \u001b[0;32mIn [13]\u001b[0m, in \u001b[0;36m<cell line: 3>\u001b[0;34m()\u001b[0m\n\u001b[1;32m      1\u001b[0m board \u001b[38;5;241m=\u001b[39m [\u001b[38;5;124m'\u001b[39m\u001b[38;5;124m \u001b[39m\u001b[38;5;124m'\u001b[39m] \u001b[38;5;241m*\u001b[39m \u001b[38;5;241m9\u001b[39m\n\u001b[1;32m      2\u001b[0m player \u001b[38;5;241m=\u001b[39m \u001b[38;5;124m'\u001b[39m\u001b[38;5;124mx\u001b[39m\u001b[38;5;124m'\u001b[39m\n\u001b[0;32m----> 3\u001b[0m board, player, tic_tac_toe_coin \u001b[38;5;241m=\u001b[39m \u001b[38;5;28;01mawait\u001b[39;00m sim_play(tic_tac_toe_coin, alice\u001b[38;5;241m.\u001b[39msk_, board, player, \u001b[38;5;241m0\u001b[39m)\n\u001b[1;32m      4\u001b[0m board, player, tic_tac_toe_coin \u001b[38;5;241m=\u001b[39m \u001b[38;5;28;01mawait\u001b[39;00m sim_play(tic_tac_toe_coin, bob\u001b[38;5;241m.\u001b[39msk_, board, player, \u001b[38;5;241m1\u001b[39m)\n\u001b[1;32m      5\u001b[0m board, player, tic_tac_toe_coin \u001b[38;5;241m=\u001b[39m \u001b[38;5;28;01mawait\u001b[39;00m sim_play(tic_tac_toe_coin, alice\u001b[38;5;241m.\u001b[39msk_, board, player, \u001b[38;5;241m2\u001b[39m)\n",
      "Input \u001b[0;32mIn [9]\u001b[0m, in \u001b[0;36msim_play\u001b[0;34m(tic_tac_toe_coin, sk, board, player, position)\u001b[0m\n\u001b[1;32m     27\u001b[0m result \u001b[38;5;241m=\u001b[39m \u001b[38;5;28;01mawait\u001b[39;00m network\u001b[38;5;241m.\u001b[39mpush_tx(spend_bundle)\n\u001b[1;32m     28\u001b[0m \u001b[38;5;28mprint\u001b[39m(result)\n\u001b[0;32m---> 29\u001b[0m tic_tac_toe_coin \u001b[38;5;241m=\u001b[39m \u001b[43mresult\u001b[49m\u001b[43m[\u001b[49m\u001b[38;5;124;43m\"\u001b[39;49m\u001b[38;5;124;43madditions\u001b[39;49m\u001b[38;5;124;43m\"\u001b[39;49m\u001b[43m]\u001b[49m[\u001b[38;5;241m0\u001b[39m]\n\u001b[1;32m     30\u001b[0m \u001b[38;5;28mprint\u001b[39m(tic_tac_toe_coin)\n\u001b[1;32m     31\u001b[0m next_player \u001b[38;5;241m=\u001b[39m \u001b[38;5;124m'\u001b[39m\u001b[38;5;124mx\u001b[39m\u001b[38;5;124m'\u001b[39m \u001b[38;5;28;01mif\u001b[39;00m player \u001b[38;5;241m==\u001b[39m \u001b[38;5;124m'\u001b[39m\u001b[38;5;124mo\u001b[39m\u001b[38;5;124m'\u001b[39m \u001b[38;5;28;01melse\u001b[39;00m \u001b[38;5;124m'\u001b[39m\u001b[38;5;124mo\u001b[39m\u001b[38;5;124m'\u001b[39m\n",
      "\u001b[0;31mKeyError\u001b[0m: 'additions'"
     ]
    }
   ],
   "source": [
    "board = [' '] * 9\n",
    "player = 'x'\n",
    "board, player, tic_tac_toe_coin = await sim_play(tic_tac_toe_coin, alice.sk_, board, player, 0)\n",
    "board, player, tic_tac_toe_coin = await sim_play(tic_tac_toe_coin, bob.sk_, board, player, 1)\n",
    "board, player, tic_tac_toe_coin = await sim_play(tic_tac_toe_coin, alice.sk_, board, player, 2)\n",
    "board, player, tic_tac_toe_coin = await sim_play(tic_tac_toe_coin, bob.sk_, board, player, 4)\n",
    "board, player, tic_tac_toe_coin = await sim_play(tic_tac_toe_coin, alice.sk_, board, player, 5)\n",
    "board, player, tic_tac_toe_coin = await sim_play(tic_tac_toe_coin, bob.sk_, board, player, 6)\n",
    "board, player, tic_tac_toe_coin = await sim_play(tic_tac_toe_coin, alice.sk_, board, player, 7)\n",
    "board, player, tic_tac_toe_coin = await sim_play(tic_tac_toe_coin, bob.sk_, board, player, 8)\n",
    "board, player, tic_tac_toe_coin = await sim_play(tic_tac_toe_coin, alice.sk_, board, player, 3)\n"
   ]
  },
  {
   "cell_type": "code",
   "execution_count": null,
   "id": "621ee46f-ee7b-4fa5-bf13-0a3fabe81609",
   "metadata": {},
   "outputs": [],
   "source": []
  }
 ],
 "metadata": {
  "kernelspec": {
   "display_name": "Python 3 (ipykernel)",
   "language": "python",
   "name": "python3"
  },
  "language_info": {
   "codemirror_mode": {
    "name": "ipython",
    "version": 3
   },
   "file_extension": ".py",
   "mimetype": "text/x-python",
   "name": "python",
   "nbconvert_exporter": "python",
   "pygments_lexer": "ipython3",
   "version": "3.10.5"
  }
 },
 "nbformat": 4,
 "nbformat_minor": 5
}
