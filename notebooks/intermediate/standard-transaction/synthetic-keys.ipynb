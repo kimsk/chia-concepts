{
 "cells": [
  {
   "cell_type": "markdown",
   "id": "7ddfcdb8-faa6-41e0-8e7c-03f61f6a6b81",
   "metadata": {},
   "source": [
    "## Secret/Public Keys"
   ]
  },
  {
   "cell_type": "code",
   "execution_count": 1,
   "id": "ebc8430b-17e8-4e72-a7cf-2e941fab87c6",
   "metadata": {},
   "outputs": [
    {
     "name": "stdout",
     "output_type": "stream",
     "text": [
      " original sk: 31d87cd97f07d1b44064254617adc76a54d4fc176a557e7d8760b0a1c7f050f9\n",
      " original pk: b87af552cf4b079371b7c38f69f15f11f96e913c5a6c7ef09eb82cc0693e86a90e5c98fff952d2b4066be3d9292a8a84\n"
     ]
    }
   ],
   "source": [
    "original_sk = PrivateKey.from_bytes(bytes.fromhex(\"31d87cd97f07d1b44064254617adc76a54d4fc176a557e7d8760b0a1c7f050f9\"))\n",
    "original_pk = original_sk.get_g1()\n",
    "print(f\" original sk: {bytes(original_sk).hex()}\")\n",
    "print(f\" original pk: {original_pk}\")"
   ]
  },
  {
   "cell_type": "markdown",
   "id": "fb098f57-f17b-48f0-a706-cc5f23af66cd",
   "metadata": {},
   "source": [
    "## Synthentic keys\n",
    "A new set of keys derived from the **original public key** and the hidden puzzle hash. There are used by the [standard transaction](./standard-txn.ipynb).\n",
    "\n",
    "1. Get the synthetic offset ([calculate_synthetic_offset](https://github.com/Chia-Network/chia-blockchain/blob/main/chia/wallet/puzzles/p2_delegated_puzzle_or_hidden_puzzle.py#L86))\n",
    "```\n",
    "synthetic_offset = sha256(original_pk + hidden_puzzle_hash)\n",
    "```\n",
    "\n",
    "2. Get the synthetic offset public key\n",
    "```synthetic_offset_sk = PrivateKey.from_bytes(synthetic_offset.to_bytes(32, \"big\"))\n",
    "synthetic_offset_pk = synthetic_offset_sk.get_g1()\n",
    "```\n",
    "\n",
    "3. Get the synthetic public key\n",
    "```\n",
    "synthentic_pk = original_pk + synthetic_offset_pk\n",
    "```"
   ]
  },
  {
   "cell_type": "code",
   "execution_count": 3,
   "id": "bd76a453-65d5-46d7-80fa-b974c3c54480",
   "metadata": {},
   "outputs": [
    {
     "name": "stdout",
     "output_type": "stream",
     "text": [
      "synthetic_offset_sk:\t6d09189e26a65fd35f4ba150958489f696b85fc87cb7bb665b65f61e6fb23a80\n",
      "synthetic_offset_pk:\tb8aeaa286ce9d6fb34eac9228f6effc6b8692e470ea4316489bfce016fab3dd3f6954352c444b553254dbeb40fc25bf5\n",
      "synthetic_pk:\t\t8410a8a862f025d72b90ec667cd2a47dd1f8fe8667b14ff2cd90b62c104ba27acea8785ef3032db616eadad00069d298\n"
     ]
    }
   ],
   "source": [
    "# 1. Get the synthetic offset\n",
    "synthetic_offset = calculate_synthetic_offset(original_pk, DEFAULT_HIDDEN_PUZZLE_HASH)\n",
    "synthetic_offset_sk = PrivateKey.from_bytes(synthetic_offset.to_bytes(32, \"big\"))\n",
    "print(f\"synthetic_offset_sk:\\t{bytes(synthetic_offset_sk).hex()}\")\n",
    "\n",
    "# 2. Get the synthetic offset public key\n",
    "synthetic_offset_pk = synthetic_offset_sk.get_g1()\n",
    "print(f\"synthetic_offset_pk:\\t{synthetic_offset_pk}\")\n",
    "\n",
    "# 3. Get the synthetic public key\n",
    "synthetic_pk = original_pk + synthetic_offset_pk\n",
    "print(f\"synthetic_pk:\\t\\t{synthetic_pk}\")\n",
    "\n",
    "calculated_synthetic_pk = calculate_synthetic_public_key(original_pk, DEFAULT_HIDDEN_PUZZLE_HASH)\n",
    "assert synthetic_pk == calculated_synthetic_pk"
   ]
  },
  {
   "cell_type": "markdown",
   "id": "3586ab8c-20e0-4921-abf3-5d605d67cde3",
   "metadata": {},
   "source": [
    "### `synthentic_public_key = original_public_key + synthetic_offset_pubkey`"
   ]
  },
  {
   "cell_type": "markdown",
   "id": "d5066e32-d184-4ac5-872b-a5290ad0dd6b",
   "metadata": {},
   "source": [
    "> When you add two public keys, the sum of their private keys gives the private key for the resulting public key."
   ]
  },
  {
   "cell_type": "code",
   "execution_count": 9,
   "id": "4fd38268-d2be-4866-9163-3dea1f1556e3",
   "metadata": {},
   "outputs": [
    {
     "name": "stdout",
     "output_type": "stream",
     "text": [
      "synthetic_sk: 2af3ee247c10b43f6c75ee8ea390795b97cfb7dce70edde4e2c6a6c137a28b78\n",
      "synthetic_pk: 8410a8a862f025d72b90ec667cd2a47dd1f8fe8667b14ff2cd90b62c104ba27acea8785ef3032db616eadad00069d298\n"
     ]
    }
   ],
   "source": [
    "calcualted_synthetic_sk = calculate_synthetic_secret_key(original_sk, DEFAULT_HIDDEN_PUZZLE_HASH)\n",
    "\n",
    "# sum of two private keys\n",
    "synthetic_sk = PrivateKey.aggregate([original_sk, synthetic_offset_sk])\n",
    "# sum of two public keys\n",
    "synthetic_pk = original_pk + synthetic_offset_pk \n",
    "\n",
    "print(f\"synthetic_sk: {bytes(synthetic_sk).hex()}\")\n",
    "print(f\"synthetic_pk: {synthetic_pk}\")\n",
    "\n",
    "assert synthetic_sk == calcualted_synthetic_sk\n",
    "assert synthetic_pk == synthetic_sk.get_g1()\n",
    "assert original_pk + synthetic_offset_pk == synthetic_sk.get_g1()"
   ]
  },
  {
   "cell_type": "markdown",
   "id": "8b96cd0a-28ac-4226-aa5f-5e03500b7b4f",
   "metadata": {},
   "source": [
    "## Signing Message and Verifying Signature"
   ]
  },
  {
   "cell_type": "code",
   "execution_count": 10,
   "id": "5fcb4a90-482b-4d17-8578-9036ea48fe0a",
   "metadata": {},
   "outputs": [],
   "source": [
    "message = std_hash(bytes(\"hello\", \"utf-8\"))\n",
    "\n",
    "signature = AugSchemeMPL.sign(synthetic_sk, message)\n",
    "\n",
    "assert AugSchemeMPL.verify(synthetic_pk, message, signature)"
   ]
  }
 ],
 "metadata": {
  "kernelspec": {
   "display_name": "Python 3 (ipykernel)",
   "language": "python",
   "name": "python3"
  },
  "language_info": {
   "codemirror_mode": {
    "name": "ipython",
    "version": 3
   },
   "file_extension": ".py",
   "mimetype": "text/x-python",
   "name": "python",
   "nbconvert_exporter": "python",
   "pygments_lexer": "ipython3",
   "version": "3.10.8"
  }
 },
 "nbformat": 4,
 "nbformat_minor": 5
}
