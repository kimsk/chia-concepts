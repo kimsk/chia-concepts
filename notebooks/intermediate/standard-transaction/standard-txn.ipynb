{
 "cells": [
  {
   "cell_type": "code",
   "execution_count": 1,
   "id": "014589f0-7b3f-4875-aed1-f6f8fc1b0b42",
   "metadata": {},
   "outputs": [
    {
     "name": "stdout",
     "output_type": "stream",
     "text": [
      "1.6.1rc6.dev101\n",
      "cdv, version 1.1.2\n",
      "Python 3.10.8\n"
     ]
    }
   ],
   "source": [
    "%%bash\n",
    "chia version\n",
    "cdv --version\n",
    "python --version"
   ]
  },
  {
   "cell_type": "markdown",
   "id": "a091a8e6-c191-4a6b-8ae8-789156b550e9",
   "metadata": {},
   "source": [
    "- [Standard Transactions](https://chialisp.com/standard-transactions)\n",
    "- [p2_delegated_puzzle_or_hidden_puzzle.py](https://github.com/Chia-Network/chia-blockchain/blob/main/chia/wallet/puzzles/p2_delegated_puzzle_or_hidden_puzzle.py)\n",
    "- [p2_delegated_puzzle_or_hidden_puzzle.clvm](https://github.com/Chia-Network/chia-blockchain/blob/main/chia/wallet/puzzles/p2_delegated_puzzle_or_hidden_puzzle.clvm)\n",
    "\n",
    "```clojure\n",
    "; A puzzle should commit to `SYNTHETIC_PUBLIC_KEY` (curried)\n",
    "(SYNTHETIC_PUBLIC_KEY original_public_key delegated_puzzle solution)\n",
    "```\n",
    "\n",
    "```clojure\n",
    "    ; conditions = (a delegated_puzzle solution))\n",
    "\n",
    "      (if original_public_key\n",
    "          ; hidden puzzle\n",
    "          (assert\n",
    "              (is_hidden_puzzle_correct SYNTHETIC_PUBLIC_KEY original_public_key delegated_puzzle)\n",
    "              conditions\n",
    "          )\n",
    "          ; delegated puzzle\n",
    "          (c (list AGG_SIG_ME SYNTHETIC_PUBLIC_KEY (sha256tree1 delegated_puzzle)) conditions)\n",
    "      )\n",
    "```\n",
    "\n",
    "Two Paths:\n",
    "1. Hidden puzzle path: you can solve the hidden puzzle by revealing the `original_public_key`, the hidden puzzle in `delegated_puzzle`, and a solution to the hidden puzzle.\n",
    "\n",
    "> The hidden puzzle functionality is not used by the official wallet. It is there to allow for future functionality as needed.\n",
    "\n",
    "> If the hidden puzzle path is taken, the `hidden puzzle` and `original public key` will be revealed\n",
    "which proves that it was hidden there in the first place.\n",
    "\n",
    "```clojure\n",
    "    ; \"is_hidden_puzzle_correct\" returns true iff the hidden puzzle is correctly encoded\n",
    "\n",
    "    (defun-inline is_hidden_puzzle_correct (SYNTHETIC_PUBLIC_KEY original_public_key hidden_puzzle)\n",
    "      (=\n",
    "          SYNTHETIC_PUBLIC_KEY\n",
    "          (point_add\n",
    "              original_public_key\n",
    "              (pubkey_for_exp (sha256 original_public_key (sha256tree1 hidden_puzzle)))\n",
    "          )\n",
    "      )\n",
    "    )\n",
    "\n",
    "    ...\n",
    "    (assert\n",
    "      (is_hidden_puzzle_correct SYNTHETIC_PUBLIC_KEY original_public_key delegated_puzzle)\n",
    "      conditions\n",
    "    )\n",
    "```\n",
    "\n",
    "> This roughly corresponds to bitcoin's taproot.\n",
    "\n",
    "\n",
    "2. Delegated puzzle path: pass in 0 or `()` for `original_public_key` if it wants to use an arbitrary `delegated_puzzle` (and `solution`) signed by the `SYNTHETIC_PUBLIC_KEY` (whose corresponding private key can be calculated if you know the private key for `original_public_key`).\n",
    "\n",
    "> a delegated puzzle, as in \"graftroot\", which should return the desired conditions.\n",
    "```python\n",
    "    # graftroot, a puzzle returns a list of conditions\n",
    "    delegated_puzzle_solution = Program.to((1, condition_args))\n",
    "    # we have a list of conditions, solution is ignored\n",
    "    # conditions = (a delegated_puzzle solution))\n",
    "    solutions = Program.to([[], delgated_puzzle_solution, []])  \n",
    "```\n",
    "\n",
    "```clojure\n",
    "    ; prepend AGG_SIG_ME to the list of conditions\n",
    "    (c (list AGG_SIG_ME SYNTHETIC_PUBLIC_KEY (sha256tree1 delegated_puzzle)) conditions)\n",
    "```"
   ]
  },
  {
   "cell_type": "markdown",
   "id": "13102ea9-7135-4334-88ab-026f5613604c",
   "metadata": {},
   "source": [
    "## Hiding Hidden Puzzle\n",
    "\n",
    "> We also want the ability to pre-commit to a puzzle without revealing it.\n",
    "\n",
    "> If this hidden puzzle were to be curried it in, any spend (even the delegated spend case) would reveal the full puzzle including the hidden puzzle.\n",
    "\n",
    "> ...we wouldn't be able to lock up a coin with the same puzzle anymore, or people would be able to tell that the puzzle hash is the same and spend it without our consent.\n",
    "\n",
    "> We can attempt to solve this problem by hashing the hidden puzzle. However, this has a similar problem in that if you spend the hidden case even once, people could see any identical puzzle hashes later and spend them without your consent.\n",
    "\n",
    "> We need the puzzle to be hidden, but also have some entropy that keeps it unique to us."
   ]
  },
  {
   "cell_type": "code",
   "execution_count": 2,
   "id": "61f82ffd-1db2-468f-a571-9ab240b17c89",
   "metadata": {},
   "outputs": [
    {
     "name": "stdout",
     "output_type": "stream",
     "text": [
      " original sk: 31d87cd97f07d1b44064254617adc76a54d4fc176a557e7d8760b0a1c7f050f9\n",
      " original pk: b87af552cf4b079371b7c38f69f15f11f96e913c5a6c7ef09eb82cc0693e86a90e5c98fff952d2b4066be3d9292a8a84\n"
     ]
    }
   ],
   "source": [
    "original_sk = PrivateKey.from_bytes(bytes.fromhex(\"31d87cd97f07d1b44064254617adc76a54d4fc176a557e7d8760b0a1c7f050f9\"))\n",
    "original_pk = original_sk.get_g1()\n",
    "print(f\" original sk: {bytes(original_sk).hex()}\")\n",
    "print(f\" original pk: {original_pk}\")"
   ]
  },
  {
   "cell_type": "markdown",
   "id": "5b7b2fa3-ac70-4550-ad77-1edb60d83a04",
   "metadata": {},
   "source": [
    "### Synthentic keys\n",
    "> The solution that the standard transaction uses is to **derive a new private key from the hidden puzzle and the original public key that can sign for the delegated spend case**.\n",
    "\n",
    "> This is known as the `synthetic_offset`:\n",
    "\n",
    "`synthetic_offset = sha256(original_public_key + hidden_puzzle_hash);`\n",
    "\n",
    "> We then calculate the public key of this new private key (i.e. `synthetic_offset`), and add it to our existing original public key.\n",
    "\n",
    "> This is known as the `synthetic_public_key`:\n",
    "\n",
    "`synthentic_public_key = original_public_key + synthetic_offset_pubkey`"
   ]
  },
  {
   "cell_type": "code",
   "execution_count": 3,
   "id": "66c20978-b0ad-4125-ae3c-8583126aea01",
   "metadata": {},
   "outputs": [
    {
     "name": "stdout",
     "output_type": "stream",
     "text": [
      "synthetic_offset_sk:\t6d09189e26a65fd35f4ba150958489f696b85fc87cb7bb665b65f61e6fb23a80\n",
      "synthetic_offset_pk:\tb8aeaa286ce9d6fb34eac9228f6effc6b8692e470ea4316489bfce016fab3dd3f6954352c444b553254dbeb40fc25bf5\n",
      "synthetic_pk:\t\t8410a8a862f025d72b90ec667cd2a47dd1f8fe8667b14ff2cd90b62c104ba27acea8785ef3032db616eadad00069d298\n"
     ]
    }
   ],
   "source": [
    "# sha256 of original pk and hidden puzzle hash\n",
    "synthetic_offset = calculate_synthetic_offset(original_pk, DEFAULT_HIDDEN_PUZZLE_HASH)\n",
    "synthetic_offset_sk = PrivateKey.from_bytes(synthetic_offset.to_bytes(32, \"big\"))\n",
    "synthetic_offset_pk = synthetic_offset_sk.get_g1()\n",
    "\n",
    "# Commit to Puzzle\n",
    "synthetic_pk = original_pk + synthetic_offset_pk\n",
    "\n",
    "print(f\"synthetic_offset_sk:\\t{bytes(synthetic_offset_sk).hex()}\")\n",
    "print(f\"synthetic_offset_pk:\\t{synthetic_offset_pk}\")\n",
    "print(f\"synthetic_pk:\\t\\t{synthetic_pk}\")\n",
    "\n",
    "calculated_synthetic_pk = calculate_synthetic_public_key(original_pk, DEFAULT_HIDDEN_PUZZLE_HASH)\n",
    "\n",
    "assert synthetic_pk == calculated_synthetic_pk"
   ]
  },
  {
   "cell_type": "markdown",
   "id": "b1aeb7f1-9c34-40a8-af8a-981c7e524d76",
   "metadata": {},
   "source": [
    "### `synthentic_public_key = original_public_key + synthetic_offset_pubkey`\n",
    "> You may wonder why we add the public key from our derived private key to the original public key when it's already part of the derivation. **This is because we use the synthetic public key to verify the signature of our delegated spends as well**.\n",
    "\n",
    "```clojure\n",
    "AGG_SIG_ME SYNTHETIC_PUBLIC_KEY (sha256tree1 delegated_puzzle))\n",
    "```\n",
    "\n",
    "> When you add two public keys, the sum of their private keys gives the private key for the resulting public key. If we didn't add the original public key then anyone who knew the hidden puzzle could derive the synthetic private key and could then perform delegated spends! Adding the original public key ensures that there is still a secret component of the synthetic private key, even though half of it can be known.\n",
    "\n",
    "```python\n",
    "# sum of pks\n",
    "synthetic_pk = original_pk + synthetic_offset_pk\n",
    "\n",
    "# sum of sks\n",
    "synthetic_sk = original_sk + synthetic_offset_sk\n",
    "\n",
    "# pk of sum of sks = sum of pks\n",
    "original_pk + synthetic_offset_pk = synthetic_sk.get_g1()\n",
    "```\n",
    "\n",
    "> This secret component is the **private key** for the original public key.\n",
    "\n",
    "You don't know `synthetic_sk` unless you know `original_sk`"
   ]
  },
  {
   "cell_type": "code",
   "execution_count": 4,
   "id": "65932593-bf60-4430-aa6a-c80fa000f777",
   "metadata": {},
   "outputs": [
    {
     "name": "stdout",
     "output_type": "stream",
     "text": [
      "original_sk + synthetic_offset_sk\n",
      "   or\n",
      "synthetic_sk\n",
      " 2af3ee247c10b43f6c75ee8ea390795b97cfb7dce70edde4e2c6a6c137a28b78\n"
     ]
    }
   ],
   "source": [
    "calcualted_synthetic_sk = calculate_synthetic_secret_key(original_sk, DEFAULT_HIDDEN_PUZZLE_HASH)\n",
    "synthetic_sk = PrivateKey.aggregate([original_sk, synthetic_offset_sk])\n",
    "\n",
    "print(f\"original_sk + synthetic_offset_sk\\n   or\\nsynthetic_sk\\n {bytes(synthetic_sk).hex()}\")\n",
    "\n",
    "assert synthetic_sk == calcualted_synthetic_sk\n",
    "assert synthetic_pk == synthetic_sk.get_g1()\n",
    "assert original_pk + synthetic_offset_pk == synthetic_sk.get_g1()"
   ]
  },
  {
   "cell_type": "markdown",
   "id": "5d54c69c-6b8b-4b5f-9733-063a86ffcce2",
   "metadata": {},
   "source": [
    "### Spend\n",
    "> This technique is also neat because it allows us to hide the **hidden puzzle** in a piece of information that was already necessary for the delegated spend. It's impossible to guess what the hidden puzzle is (because of original_pk), even if it's a standard hidden puzzle. It's even hard to tell if there's a hidden puzzle at all. All of this can contribute to the overall privacy.\n",
    "\n",
    "> For example, if two parties agree to lock up some coins with a hidden puzzle together, you can share pubkeys and verify that information on the blockchain without revealing anything to the network. \n",
    "\n",
    "> Then, if you both agree that the coins can be spent with the hidden puzzle if either party is dishonest, you can trustlessly delegated spend the coins to the correct destinations and it's impossible to tell that they are not just normal everyday spends.\n",
    "\n",
    "When a coin is spent, `puzzle` and `original_pk`, `hidden_puzzle`, and `solution_for_hidden_puzzle` are known.\n",
    "\n",
    "The coin with the same puzzle hash can be spent the same way.\n",
    "\n",
    "```python\n",
    "solution = Program.to([original_pk, hidden_puzzle, solution_for_hidden_puzzle])  \n",
    "```\n",
    "\n",
    "```clojure\n",
    "; hidden puzzle\n",
    "; conditions = (a hidden_puzzle solution_for_hidden_puzzle))\n",
    "; conditions should include AGG_SIG_ME\n",
    "(assert\n",
    "  (is_hidden_puzzle_correct SYNTHETIC_PUBLIC_KEY original_public_key delegated_puzzle)\n",
    "  conditions\n",
    ")\n",
    "```\n"
   ]
  },
  {
   "cell_type": "markdown",
   "id": "5ce425de-f928-4b1e-afb7-85234a6112cd",
   "metadata": {},
   "source": [
    "### Spend Hidden Puzzle"
   ]
  },
  {
   "cell_type": "code",
   "execution_count": 41,
   "id": "cdf65404-322f-43e8-b933-c11578317a00",
   "metadata": {},
   "outputs": [
    {
     "name": "stdout",
     "output_type": "stream",
     "text": [
      "(a (q 4 (c 2 (q 0x0857fa0746661ee8531b0316bf71f5e0ef5323a03b4d6ad60964cf71d74dc37a)) ()) (c (q . 60) 1))\n",
      "((60 0x0857fa0746661ee8531b0316bf71f5e0ef5323a03b4d6ad60964cf71d74dc37a))\n"
     ]
    }
   ],
   "source": [
    "message = \"hidden puzzle message\"\n",
    "hidden_puzzle = Program(\n",
    "    compile_clvm_text(\n",
    "'''\n",
    "(mod ()\n",
    "    (include condition_codes.clib)\n",
    "    (list\n",
    "        (list CREATE_COIN_ANNOUNCEMENT (sha256 {message}))\n",
    "    )\n",
    ")\n",
    "'''.format(message=message), search_paths=[\"/Users/karlkim/kimsk/chia-concepts/shared\"]\n",
    "    )\n",
    ")\n",
    "\n",
    "print_program(hidden_puzzle)\n",
    "print_program(hidden_puzzle.run([]))"
   ]
  },
  {
   "cell_type": "code",
   "execution_count": 42,
   "id": "9b963dc7-b39e-4875-93e0-27393a3741d8",
   "metadata": {},
   "outputs": [
    {
     "name": "stdout",
     "output_type": "stream",
     "text": [
      "eff6b61b3e30877d4abab459afb714def8e51dc0377e7dfd8d7deffb30312d77\n"
     ]
    }
   ],
   "source": [
    "synthetic_pk = calculate_synthetic_public_key(original_pk, hidden_puzzle.get_tree_hash())\n",
    "\n",
    "standard_hidden_puzzle = p2_delegated_puzzle_or_hidden_puzzle.puzzle_for_synthetic_public_key(synthetic_pk)\n",
    "standard_hidden_ph = standard_hidden_puzzle.get_tree_hash()\n",
    "print(standard_hidden_ph)"
   ]
  },
  {
   "cell_type": "code",
   "execution_count": 43,
   "id": "1bde355c-57d5-40b6-9f8a-5b047b18e753",
   "metadata": {},
   "outputs": [
    {
     "name": "stdout",
     "output_type": "stream",
     "text": [
      "{\n",
      "    \"aggregated_signature\": \"0xc00000000000000000000000000000000000000000000000000000000000000000000000000000000000000000000000000000000000000000000000000000000000000000000000000000000000000000000000000000000000000000000000\",\n",
      "    \"coin_spends\": [\n",
      "        {\n",
      "            \"coin\": {\n",
      "                \"amount\": 1,\n",
      "                \"parent_coin_info\": \"0xf85122d56db3f043af4ac7882411f7fcedf6177b1a8b9781be5f56a8668fdef1\",\n",
      "                \"puzzle_hash\": \"0xeff6b61b3e30877d4abab459afb714def8e51dc0377e7dfd8d7deffb30312d77\"\n",
      "            },\n",
      "            \"puzzle_reveal\": \"0xff02ffff01ff02ffff01ff02ffff03ff0bffff01ff02ffff03ffff09ff05ffff1dff0bffff1effff0bff0bffff02ff06ffff04ff02ffff04ff17ff8080808080808080ffff01ff02ff17ff2f80ffff01ff088080ff0180ffff01ff04ffff04ff04ffff04ff05ffff04ffff02ff06ffff04ff02ffff04ff17ff80808080ff80808080ffff02ff17ff2f808080ff0180ffff04ffff01ff32ff02ffff03ffff07ff0580ffff01ff0bffff0102ffff02ff06ffff04ff02ffff04ff09ff80808080ffff02ff06ffff04ff02ffff04ff0dff8080808080ffff01ff0bffff0101ff058080ff0180ff018080ffff04ffff01b08f3a70061da27abcffa1d4d0f1eaedfd969e69959c56f342de0f5df0fe7ac61b774b936138475479cd35ba44ece7d95eff018080\",\n",
      "            \"solution\": \"0xffb0b87af552cf4b079371b7c38f69f15f11f96e913c5a6c7ef09eb82cc0693e86a90e5c98fff952d2b4066be3d9292a8a84ffff02ffff01ff04ffff04ff02ffff01ffa00857fa0746661ee8531b0316bf71f5e0ef5323a03b4d6ad60964cf71d74dc37a8080ff8080ffff04ffff013cff018080ff8080\"\n",
      "        }\n",
      "    ]\n",
      "}\n"
     ]
    }
   ],
   "source": [
    "parent_coin_info = bytes.fromhex(\"f85122d56db3f043af4ac7882411f7fcedf6177b1a8b9781be5f56a8668fdef1\")\n",
    "coin = Coin(\n",
    "    parent_coin_info,\n",
    "    standard_hidden_ph,\n",
    "    1\n",
    ")\n",
    "\n",
    "solution = Program.to([original_pk, hidden_puzzle, []])\n",
    "\n",
    "coin_spend = CoinSpend(\n",
    "    coin,\n",
    "    standard_hidden_puzzle,\n",
    "    solution\n",
    ")\n",
    "\n",
    "synthetic_sk: PrivateKey = calculate_synthetic_secret_key(\n",
    "    original_sk,\n",
    "    standard_hidden_ph\n",
    ")\n",
    "\n",
    "spend_bundle = SpendBundle(\n",
    "    [coin_spend],\n",
    "    G2Element()\n",
    ")\n",
    "\n",
    "print_json(spend_bundle.to_json_dict(include_legacy_keys = False, exclude_modern_keys = False))"
   ]
  },
  {
   "cell_type": "markdown",
   "id": "48b39d68-7617-4f4c-ba9d-b884be1e1939",
   "metadata": {},
   "source": [
    "### Spend Hidden Puzzle with AGG_SIG_ME"
   ]
  },
  {
   "cell_type": "code",
   "execution_count": 53,
   "id": "52226ba5-5696-4591-9daa-90f48fe8e927",
   "metadata": {},
   "outputs": [
    {
     "name": "stdout",
     "output_type": "stream",
     "text": [
      "(a (q 2 (q 4 (c 2 (c 5 (q 0x07ac75e2dcf3cd9c93690a20c2ff064c2c2be05230ca5c665f3335c70ad761a2))) ()) (c (q . 50) 1)) (c (q . 0xb87af552cf4b079371b7c38f69f15f11f96e913c5a6c7ef09eb82cc0693e86a90e5c98fff952d2b4066be3d9292a8a84) 1))\n",
      "((50 0xb87af552cf4b079371b7c38f69f15f11f96e913c5a6c7ef09eb82cc0693e86a90e5c98fff952d2b4066be3d9292a8a84 0x07ac75e2dcf3cd9c93690a20c2ff064c2c2be05230ca5c665f3335c70ad761a2))\n"
     ]
    }
   ],
   "source": [
    "message = \"hidden puzzle message\"\n",
    "hidden_puzzle = Program(\n",
    "    compile_clvm_text(\n",
    "'''\n",
    "(mod (PK)\n",
    "    (include condition_codes.clib)\n",
    "    (list\n",
    "        (list AGG_SIG_ME PK (sha256 \"{message}\"))\n",
    "    )\n",
    ")\n",
    "'''.format(message=message), search_paths=[\"/Users/karlkim/kimsk/chia-concepts/shared\"]\n",
    "    )\n",
    ").curry(original_pk)\n",
    "\n",
    "print_program(hidden_puzzle)\n",
    "print_program(hidden_puzzle.run([]))"
   ]
  },
  {
   "cell_type": "code",
   "execution_count": 54,
   "id": "a4836334-7182-4aef-b876-b1f71460800e",
   "metadata": {},
   "outputs": [
    {
     "name": "stdout",
     "output_type": "stream",
     "text": [
      "07389aba93b611096a35e82141824243f5f3708aee09e2158d2115dd8394c8ba\n"
     ]
    }
   ],
   "source": [
    "synthetic_pk = calculate_synthetic_public_key(original_pk, hidden_puzzle.get_tree_hash())\n",
    "\n",
    "standard_hidden_puzzle = p2_delegated_puzzle_or_hidden_puzzle.puzzle_for_synthetic_public_key(synthetic_pk)\n",
    "standard_hidden_ph = standard_hidden_puzzle.get_tree_hash()\n",
    "print(standard_hidden_ph)"
   ]
  },
  {
   "cell_type": "code",
   "execution_count": 55,
   "id": "16bc42ec-4e3b-4285-9aae-c8ed100f26ff",
   "metadata": {},
   "outputs": [
    {
     "name": "stdout",
     "output_type": "stream",
     "text": [
      "{\n",
      "    \"aggregated_signature\": \"0xa4eeafa23a6d9a7e9f941fb6a7cfe55407f291bacb0428cef2b99dd14f7cfc580626072c163b1b83bafdbeed3517602f197d996da04cc8bec52d59bb3e51e1e5bf94fe8726adc5d86107a6855fadb2295ad722e8e74cb473522991cb082c2d22\",\n",
      "    \"coin_spends\": [\n",
      "        {\n",
      "            \"coin\": {\n",
      "                \"amount\": 1,\n",
      "                \"parent_coin_info\": \"0xf85122d56db3f043af4ac7882411f7fcedf6177b1a8b9781be5f56a8668fdef1\",\n",
      "                \"puzzle_hash\": \"0x07389aba93b611096a35e82141824243f5f3708aee09e2158d2115dd8394c8ba\"\n",
      "            },\n",
      "            \"puzzle_reveal\": \"0xff02ffff01ff02ffff01ff02ffff03ff0bffff01ff02ffff03ffff09ff05ffff1dff0bffff1effff0bff0bffff02ff06ffff04ff02ffff04ff17ff8080808080808080ffff01ff02ff17ff2f80ffff01ff088080ff0180ffff01ff04ffff04ff04ffff04ff05ffff04ffff02ff06ffff04ff02ffff04ff17ff80808080ff80808080ffff02ff17ff2f808080ff0180ffff04ffff01ff32ff02ffff03ffff07ff0580ffff01ff0bffff0102ffff02ff06ffff04ff02ffff04ff09ff80808080ffff02ff06ffff04ff02ffff04ff0dff8080808080ffff01ff0bffff0101ff058080ff0180ff018080ffff04ffff01b08fd850138d4c2e6783019ca4a5a302db0372f5ddd0f1fe60a960fce4e32247da05d02e789171953abdb7dd32f3b4244bff018080\",\n",
      "            \"solution\": \"0xffb0b87af552cf4b079371b7c38f69f15f11f96e913c5a6c7ef09eb82cc0693e86a90e5c98fff952d2b4066be3d9292a8a84ffff02ffff01ff02ffff01ff04ffff04ff02ffff04ff05ffff01ffa007ac75e2dcf3cd9c93690a20c2ff064c2c2be05230ca5c665f3335c70ad761a2808080ff8080ffff04ffff0132ff018080ffff04ffff01b0b87af552cf4b079371b7c38f69f15f11f96e913c5a6c7ef09eb82cc0693e86a90e5c98fff952d2b4066be3d9292a8a84ff018080ff8080\"\n",
      "        }\n",
      "    ]\n",
      "}\n"
     ]
    }
   ],
   "source": [
    "parent_coin_info = bytes.fromhex(\"f85122d56db3f043af4ac7882411f7fcedf6177b1a8b9781be5f56a8668fdef1\")\n",
    "coin = Coin(\n",
    "    parent_coin_info,\n",
    "    standard_hidden_ph,\n",
    "    1\n",
    ")\n",
    "\n",
    "solution = Program.to([original_pk, hidden_puzzle, []])\n",
    "\n",
    "coin_spend = CoinSpend(\n",
    "    coin,\n",
    "    standard_hidden_puzzle,\n",
    "    solution\n",
    ")\n",
    "\n",
    "sig =  AugSchemeMPL.sign(original_sk,\n",
    "    (\n",
    "        std_hash(bytes(message, \"utf-8\"))\n",
    "        + coin.name()\n",
    "        + DEFAULT_CONSTANTS.AGG_SIG_ME_ADDITIONAL_DATA\n",
    "    )\n",
    ")\n",
    "\n",
    "assert AugSchemeMPL.verify(\n",
    "    original_pk, \n",
    "    (\n",
    "        std_hash(bytes(message, \"utf-8\"))\n",
    "        + coin.name()\n",
    "        + DEFAULT_CONSTANTS.AGG_SIG_ME_ADDITIONAL_DATA\n",
    "    ),\n",
    "    sig)\n",
    "\n",
    "spend_bundle = SpendBundle(\n",
    "    [coin_spend],\n",
    "    sig\n",
    ")\n",
    "\n",
    "print_json(spend_bundle.to_json_dict(include_legacy_keys = False, exclude_modern_keys = False))"
   ]
  },
  {
   "cell_type": "markdown",
   "id": "616a17b6-9395-48c0-a382-2e83cf943472",
   "metadata": {},
   "source": [
    "### Spend Delegated Puzzle"
   ]
  },
  {
   "cell_type": "code",
   "execution_count": 33,
   "id": "00ca4779-c209-47c1-b445-418e59bd5382",
   "metadata": {},
   "outputs": [
    {
     "name": "stdout",
     "output_type": "stream",
     "text": [
      "879f4dc5ec5d30c6b6aec9a8531d2ec209bd618da967a4a462dececf9184c767\n"
     ]
    }
   ],
   "source": [
    "synthetic_pk = calculate_synthetic_public_key(original_pk, DEFAULT_HIDDEN_PUZZLE_HASH)\n",
    "standard_delegated_puzzle = p2_delegated_puzzle_or_hidden_puzzle.puzzle_for_synthetic_public_key(synthetic_pk)\n",
    "standard_delegated_ph = standard_delegated_puzzle.get_tree_hash()\n",
    "print(standard_delegated_ph)"
   ]
  },
  {
   "cell_type": "code",
   "execution_count": 35,
   "id": "5e2d4941-88f9-4685-915e-7e01012483f3",
   "metadata": {},
   "outputs": [
    {
     "name": "stdout",
     "output_type": "stream",
     "text": [
      "{\n",
      "    \"aggregated_signature\": \"0x865040e3d472ae25c80fb61a98395b0c41d948e942b944f05b202c8e447973d26ef6ad6f0cdc133f35a585740182ec85167d8404f02ce29c053647d26bd86cf960156f507911a778457c226783cd157744182d6dfe458c72f351a654d3f56dfe\",\n",
      "    \"coin_spends\": [\n",
      "        {\n",
      "            \"coin\": {\n",
      "                \"amount\": 1,\n",
      "                \"parent_coin_info\": \"0xf85122d56db3f043af4ac7882411f7fcedf6177b1a8b9781be5f56a8668fdef1\",\n",
      "                \"puzzle_hash\": \"0x879f4dc5ec5d30c6b6aec9a8531d2ec209bd618da967a4a462dececf9184c767\"\n",
      "            },\n",
      "            \"puzzle_reveal\": \"0xff02ffff01ff02ffff01ff02ffff03ff0bffff01ff02ffff03ffff09ff05ffff1dff0bffff1effff0bff0bffff02ff06ffff04ff02ffff04ff17ff8080808080808080ffff01ff02ff17ff2f80ffff01ff088080ff0180ffff01ff04ffff04ff04ffff04ff05ffff04ffff02ff06ffff04ff02ffff04ff17ff80808080ff80808080ffff02ff17ff2f808080ff0180ffff04ffff01ff32ff02ffff03ffff07ff0580ffff01ff0bffff0102ffff02ff06ffff04ff02ffff04ff09ff80808080ffff02ff06ffff04ff02ffff04ff0dff8080808080ffff01ff0bffff0101ff058080ff0180ff018080ffff04ffff01b08410a8a862f025d72b90ec667cd2a47dd1f8fe8667b14ff2cd90b62c104ba27acea8785ef3032db616eadad00069d298ff018080\",\n",
      "            \"solution\": \"0xff80ffff01ffff3cffa007ac75e2dcf3cd9c93690a20c2ff064c2c2be05230ca5c665f3335c70ad761a28080ff8080\"\n",
      "        }\n",
      "    ]\n",
      "}\n"
     ]
    }
   ],
   "source": [
    "parent_coin_info = bytes.fromhex(\"f85122d56db3f043af4ac7882411f7fcedf6177b1a8b9781be5f56a8668fdef1\")\n",
    "coin = Coin(\n",
    "    parent_coin_info,\n",
    "    standard_delegated_ph,\n",
    "    1\n",
    ")\n",
    "\n",
    "conditions = [\n",
    "    [\n",
    "        ConditionOpcode.CREATE_COIN_ANNOUNCEMENT,\n",
    "        std_hash(bytes(message, \"utf-8\"))\n",
    "    ]\n",
    "]\n",
    "\n",
    "delegated_puzzle: Program = puzzle_for_conditions(conditions) \n",
    "solution = solution_for_conditions(conditions)\n",
    "\n",
    "coin_spend = CoinSpend(\n",
    "    coin,\n",
    "    standard_delegated_puzzle,\n",
    "    solution\n",
    ")\n",
    "\n",
    "    \n",
    "synthetic_sk: PrivateKey = calculate_synthetic_secret_key(\n",
    "    original_sk,\n",
    "    DEFAULT_HIDDEN_PUZZLE_HASH\n",
    ")\n",
    "\n",
    "sig =  AugSchemeMPL.sign(synthetic_sk,\n",
    "    (\n",
    "        delegated_puzzle.get_tree_hash()\n",
    "        + coin.name()\n",
    "        + DEFAULT_CONSTANTS.AGG_SIG_ME_ADDITIONAL_DATA\n",
    "    )\n",
    ")\n",
    "\n",
    "spend_bundle = SpendBundle(\n",
    "    [coin_spend],\n",
    "    sig\n",
    ")\n",
    "\n",
    "print_json(spend_bundle.to_json_dict(include_legacy_keys = False, exclude_modern_keys = False))"
   ]
  }
 ],
 "metadata": {
  "kernelspec": {
   "display_name": "Python 3 (ipykernel)",
   "language": "python",
   "name": "python3"
  },
  "language_info": {
   "codemirror_mode": {
    "name": "ipython",
    "version": 3
   },
   "file_extension": ".py",
   "mimetype": "text/x-python",
   "name": "python",
   "nbconvert_exporter": "python",
   "pygments_lexer": "ipython3",
   "version": "3.10.8"
  }
 },
 "nbformat": 4,
 "nbformat_minor": 5
}
