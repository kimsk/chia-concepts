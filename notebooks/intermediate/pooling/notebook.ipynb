{
 "cells": [
  {
   "cell_type": "markdown",
   "id": "3e7a6a15-2179-4159-a081-78637d5ca6f7",
   "metadata": {},
   "source": [
    "## What's in the Plots?\n",
    "### Original ppk plots\n",
    "1. Farmer public key, `-f`\n",
    "2. Pool public key, `-p`\n",
    "\n",
    "### Pooling plots (1.2+)\n",
    "\n",
    "1. Farmer public key, `-f`\n",
    "2. Pool contract address (AKA pay to singleton address), `-c`"
   ]
  },
  {
   "cell_type": "markdown",
   "id": "8f60d52a-aa0a-48be-b720-bc65357a668e",
   "metadata": {},
   "source": [
    "# References\n",
    "- [Chia Pools for Pool Operators](https://www.youtube.com/watch?v=XzSZwxowPzw)\n",
    "- [`chia plots create`](https://github.com/Chia-Network/chia-blockchain/wiki/CLI-Commands-Reference#create)"
   ]
  },
  {
   "cell_type": "code",
   "execution_count": null,
   "id": "d7add934-3d7e-424b-a503-f644c207c539",
   "metadata": {},
   "outputs": [],
   "source": []
  }
 ],
 "metadata": {
  "kernelspec": {
   "display_name": "Python 3 (ipykernel)",
   "language": "python",
   "name": "python3"
  },
  "language_info": {
   "codemirror_mode": {
    "name": "ipython",
    "version": 3
   },
   "file_extension": ".py",
   "mimetype": "text/x-python",
   "name": "python",
   "nbconvert_exporter": "python",
   "pygments_lexer": "ipython3",
   "version": "3.9.12"
  }
 },
 "nbformat": 4,
 "nbformat_minor": 5
}
