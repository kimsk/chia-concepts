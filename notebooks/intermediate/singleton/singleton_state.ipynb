{
 "cells": [
  {
   "cell_type": "markdown",
   "id": "3abedc12-65fb-4a77-ac9d-1c6348649c75",
   "metadata": {},
   "source": [
    "# Counter\n",
    "\n",
    "Every time the singleton is spent, the count is incresed by one.\n",
    "\n",
    "The observer observes the blockchain and check when there is a coin with key/values, `[\"Counter\", \"A\"]`. The observer can monitor when a singleton is spent and check the value from the parent's solution."
   ]
  },
  {
   "cell_type": "code",
   "execution_count": 1,
   "id": "89395f51-5c85-4ef0-b481-8f1a6ed0c77d",
   "metadata": {},
   "outputs": [],
   "source": [
    "# import singleton_helpers\n",
    "import sys\n",
    "sys.path.insert(0, \".\")\n",
    "\n",
    "from pathlib import Path\n",
    "\n",
    "import singleton_helpers"
   ]
  },
  {
   "cell_type": "code",
   "execution_count": 2,
   "id": "d7bc2670-252f-4e02-a40c-2985814189cf",
   "metadata": {},
   "outputs": [
    {
     "name": "stdout",
     "output_type": "stream",
     "text": [
      "alice: 2000000000000\n",
      "\n",
      "starting coin spend:\n",
      "{\n",
      "    \"coin\": {\n",
      "        \"amount\": 1750000000000,\n",
      "        \"parent_coin_info\": \"0xe3b0c44298fc1c149afbf4c8996fb92400000000000000000000000000000001\",\n",
      "        \"puzzle_hash\": \"0x4f45877796d7a64e192bcc9f899afeedae391f71af3afd7e15a0792c049d23d3\"\n",
      "    },\n",
      "    \"puzzle_reveal\": \"0xff02ffff01ff02ffff01ff02ffff03ff0bffff01ff02ffff03ffff09ff05ffff1dff0bffff1effff0bff0bffff02ff06ffff04ff02ffff04ff17ff8080808080808080ffff01ff02ff17ff2f80ffff01ff088080ff0180ffff01ff04ffff04ff04ffff04ff05ffff04ffff02ff06ffff04ff02ffff04ff17ff80808080ff80808080ffff02ff17ff2f808080ff0180ffff04ffff01ff32ff02ffff03ffff07ff0580ffff01ff0bffff0102ffff02ff06ffff04ff02ffff04ff09ff80808080ffff02ff06ffff04ff02ffff04ff0dff8080808080ffff01ff0bffff0101ff058080ff0180ff018080ffff04ffff01b0a042c855d234578415254b7870b711fb25e8f85beaa4a66bd0673d394c761fa156406c2e3bb375d5b18766d2a12cc918ff018080\",\n",
      "    \"solution\": \"0xff80ffff01ffff33ffa0eff07522495060c066f66f32acc2a77e3a3e737aca8baea4d1a64ea4cdc13da9ff8203ff80ffff3dffa030e19f9505ebee851cdea55ad9acdf0679a81322a030798c77d98f36b29d8bed80ffff33ffa04f45877796d7a64e192bcc9f899afeedae391f71af3afd7e15a0792c049d23d3ff8601977420d8018080ff8080\"\n",
      "}\n",
      "\n",
      "launcher coin spend:\n",
      "{\n",
      "    \"coin\": {\n",
      "        \"amount\": 1023,\n",
      "        \"parent_coin_info\": \"0x12d7b8c1654f82f2330059abc28e3240e863450706de7fdc518026f393f68bba\",\n",
      "        \"puzzle_hash\": \"0xeff07522495060c066f66f32acc2a77e3a3e737aca8baea4d1a64ea4cdc13da9\"\n",
      "    },\n",
      "    \"puzzle_reveal\": \"0xff02ffff01ff04ffff04ff04ffff04ff05ffff04ff0bff80808080ffff04ffff04ff0affff04ffff02ff0effff04ff02ffff04ffff04ff05ffff04ff0bffff04ff17ff80808080ff80808080ff808080ff808080ffff04ffff01ff33ff3cff02ffff03ffff07ff0580ffff01ff0bffff0102ffff02ff0effff04ff02ffff04ff09ff80808080ffff02ff0effff04ff02ffff04ff0dff8080808080ffff01ff0bffff0101ff058080ff0180ff018080\",\n",
      "    \"solution\": \"0xffa098a9cac73d70ccf45a659858f390cac158e764cf864d168841173c22c862a50aff8203ffffffff87436f756e746572418080\"\n",
      "}\n",
      "\n",
      "launcher id: 6a4ba7e394f8d346deafcda74b26bcad649ed0cb691d7172b14970c4cf47a570\n",
      "\n",
      "standard_coin_message: 5a81fb6415f5746097514de6b34f4e7d02cebca5524326f559fdac8bb18607bb12d7b8c1654f82f2330059abc28e3240e863450706de7fdc518026f393f68bbaccd5bb71183532bff220ba46c268991a3ff07eb358e8255a65c30a2dce0e5fbb\n"
     ]
    },
    {
     "data": {
      "text/plain": [
       "{'additions': [Coin(parent_coin_info=<bytes32: 12d7b8c1654f82f2330059abc28e3240e863450706de7fdc518026f393f68bba>, puzzle_hash=<bytes32: eff07522495060c066f66f32acc2a77e3a3e737aca8baea4d1a64ea4cdc13da9>, amount=1023),\n",
       "  Coin(parent_coin_info=<bytes32: 12d7b8c1654f82f2330059abc28e3240e863450706de7fdc518026f393f68bba>, puzzle_hash=<bytes32: 4f45877796d7a64e192bcc9f899afeedae391f71af3afd7e15a0792c049d23d3>, amount=1749999998977),\n",
       "  Coin(parent_coin_info=<bytes32: 6a4ba7e394f8d346deafcda74b26bcad649ed0cb691d7172b14970c4cf47a570>, puzzle_hash=<bytes32: 98a9cac73d70ccf45a659858f390cac158e764cf864d168841173c22c862a50a>, amount=1023)],\n",
       " 'removals': [Coin(parent_coin_info=<bytes32: e3b0c44298fc1c149afbf4c8996fb92400000000000000000000000000000001>, puzzle_hash=<bytes32: 4f45877796d7a64e192bcc9f899afeedae391f71af3afd7e15a0792c049d23d3>, amount=1750000000000),\n",
       "  Coin(parent_coin_info=<bytes32: 12d7b8c1654f82f2330059abc28e3240e863450706de7fdc518026f393f68bba>, puzzle_hash=<bytes32: eff07522495060c066f66f32acc2a77e3a3e737aca8baea4d1a64ea4cdc13da9>, amount=1023)]}"
      ]
     },
     "execution_count": 2,
     "metadata": {},
     "output_type": "execute_result"
    }
   ],
   "source": [
    "from chia.types.blockchain_format.program import Program\n",
    "from chia.wallet.puzzles import (singleton_top_layer, p2_delegated_puzzle_or_hidden_puzzle)\n",
    "\n",
    "from cdv.test import Network, Wallet\n",
    "from cdv.util.load_clvm import load_clvm\n",
    "from clvm_tools.clvmc import compile_clvm_text\n",
    "\n",
    "network: Network = await Network.create()\n",
    "\n",
    "# use as function parameters\n",
    "get_coin_records_by_parent_ids = network.sim_client.get_coin_records_by_parent_ids\n",
    "get_coin_record_by_name = network.sim_client.get_coin_record_by_name\n",
    "get_puzzle_and_solution = network.sim_client.get_puzzle_and_solution        \n",
    "\n",
    "await network.farm_block()\n",
    "\n",
    "alice: Wallet = network.make_wallet(\"alice\")\n",
    "await network.farm_block(farmer=alice) # alice has 2000_000_000_000 mojos\n",
    "\n",
    "print(f'alice: {alice.balance()}')\n",
    "standard_txn_coin_wrapper = await alice.choose_coin(1_750_000_000_000)\n",
    "standard_txn_coin = standard_txn_coin_wrapper.as_coin()\n",
    "standard_txn_puzzle = p2_delegated_puzzle_or_hidden_puzzle.puzzle_for_pk(alice.pk())\n",
    "\n",
    "counter_clsp = Path('singleton_counter.clsp').read_text()\n",
    "\n",
    "counter_puzzle = Program(\n",
    "    compile_clvm_text(counter_clsp, search_paths=[\"../include\"])\n",
    ")\n",
    "\n",
    "inner_puzzle = singleton_top_layer.adapt_inner_to_singleton(counter_puzzle)\n",
    "\n",
    "standard_coin_message, coin_spends = singleton_helpers.get_create_singleton_coin_spends(\n",
    "                    standard_txn_coin,\n",
    "                    standard_txn_puzzle,\n",
    "                    odd_amount = 1023, \n",
    "                    inner_puzzle = inner_puzzle,\n",
    "                    keys_values = [(\"Counter\", \"A\")]\n",
    "              )\n",
    "standard_txn_coin_spend = coin_spends[0]\n",
    "launcher_coin_spend = coin_spends[1]\n",
    "print(\"\\nstarting coin spend:\")\n",
    "singleton_helpers.print_json(standard_txn_coin_spend.to_json_dict())\n",
    "print(\"\\nlauncher coin spend:\")\n",
    "singleton_helpers.print_json(launcher_coin_spend.to_json_dict())\n",
    "print(f'\\nlauncher id: {launcher_coin_spend.coin.name()}')\n",
    "print(f'\\nstandard_coin_message: {standard_coin_message.hex()}')\n",
    "\n",
    "# sign the standard txn spend\n",
    "from blspy import AugSchemeMPL, PrivateKey\n",
    "from chia.consensus.default_constants import DEFAULT_CONSTANTS\n",
    "\n",
    "synthetic_sk: PrivateKey = p2_delegated_puzzle_or_hidden_puzzle.calculate_synthetic_secret_key(\n",
    "    alice.sk_,\n",
    "    p2_delegated_puzzle_or_hidden_puzzle.DEFAULT_HIDDEN_PUZZLE_HASH\n",
    ")\n",
    "\n",
    "signature = AugSchemeMPL.sign(synthetic_sk,standard_coin_message)\n",
    "\n",
    "# push txn to create an eve singleton\n",
    "from chia.types.spend_bundle import SpendBundle\n",
    "\n",
    "spend_bundle = SpendBundle(\n",
    "    coin_spends,\n",
    "    signature\n",
    ")\n",
    "await network.push_tx(spend_bundle)"
   ]
  },
  {
   "cell_type": "code",
   "execution_count": 3,
   "id": "18b477f0-1c04-4428-b279-9ebb6b2f520c",
   "metadata": {},
   "outputs": [
    {
     "name": "stdout",
     "output_type": "stream",
     "text": [
      "singleton_coin:\n",
      "{'amount': 1023,\n",
      " 'parent_coin_info': '0x6a4ba7e394f8d346deafcda74b26bcad649ed0cb691d7172b14970c4cf47a570',\n",
      " 'puzzle_hash': '0x98a9cac73d70ccf45a659858f390cac158e764cf864d168841173c22c862a50a'}\n",
      "\n",
      "lineage_proof:\n",
      "{'amount': 1023,\n",
      " 'inner_puzzle_hash': None,\n",
      " 'parent_name': '0x12d7b8c1654f82f2330059abc28e3240e863450706de7fdc518026f393f68bba'}\n",
      "\n",
      "inner_solution:\n",
      "ffa098a9cac73d70ccf45a659858f390cac158e764cf864d168841173c22c862a50aff8203ffffa01194ba575907e87f7478167d938824ce215eb3a906384e07e3bc74b3d98913e5ff0180]\n",
      "\n",
      "singleton_coin_spend:\n",
      "{\n",
      "    \"coin\": {\n",
      "        \"amount\": 1023,\n",
      "        \"parent_coin_info\": \"0x6a4ba7e394f8d346deafcda74b26bcad649ed0cb691d7172b14970c4cf47a570\",\n",
      "        \"puzzle_hash\": \"0x98a9cac73d70ccf45a659858f390cac158e764cf864d168841173c22c862a50a\"\n",
      "    },\n",
      "    \"puzzle_reveal\": \"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\",\n",
      "    \"solution\": \"0xffffa012d7b8c1654f82f2330059abc28e3240e863450706de7fdc518026f393f68bbaff8203ff80ff8203ffffffa098a9cac73d70ccf45a659858f390cac158e764cf864d168841173c22c862a50aff8203ffffa01194ba575907e87f7478167d938824ce215eb3a906384e07e3bc74b3d98913e5ff018080\"\n",
      "}\n"
     ]
    },
    {
     "data": {
      "text/plain": [
       "{'additions': [Coin(parent_coin_info=<bytes32: 319563d316c50eb4e8323a5a90c8db6a579802c694503f0232355b7270e5b4bc>, puzzle_hash=<bytes32: 98a9cac73d70ccf45a659858f390cac158e764cf864d168841173c22c862a50a>, amount=1023)],\n",
       " 'removals': [Coin(parent_coin_info=<bytes32: 6a4ba7e394f8d346deafcda74b26bcad649ed0cb691d7172b14970c4cf47a570>, puzzle_hash=<bytes32: 98a9cac73d70ccf45a659858f390cac158e764cf864d168841173c22c862a50a>, amount=1023)]}"
      ]
     },
     "execution_count": 3,
     "metadata": {},
     "output_type": "execute_result"
    }
   ],
   "source": [
    "# spend eve singleton\n",
    "network.sim.pass_blocks(1)\n",
    "launcher_id = launcher_coin_spend.coin.name()\n",
    "singleton_struct = (\n",
    "        singleton_top_layer.SINGLETON_MOD_HASH, \n",
    "        (launcher_id, singleton_top_layer.SINGLETON_LAUNCHER_HASH)\n",
    "    )\n",
    "\n",
    "singleton_puzzle = singleton_top_layer.SINGLETON_MOD.curry(\n",
    "            singleton_struct,\n",
    "            inner_puzzle,\n",
    "    )\n",
    "\n",
    "singleton_coin = await singleton_helpers.get_unspent_singleton(\n",
    "    get_coin_records_by_parent_ids, \n",
    "    launcher_id) \n",
    "\n",
    "lineage_proof = singleton_top_layer.lineage_proof_for_coinsol(launcher_coin_spend)\n",
    "\n",
    "current_value = 0 # eve singleton has zero value\n",
    "inner_solution = Program.to([\n",
    "    singleton_puzzle.get_tree_hash(), \n",
    "    singleton_coin.amount, \n",
    "    inner_puzzle.get_tree_hash(), \n",
    "    current_value + 1\n",
    "])\n",
    "\n",
    "singleton_coin_spend = singleton_helpers.get_singleton_coin_spend(\n",
    "        singleton_coin, singleton_puzzle, lineage_proof, inner_solution\n",
    "    )\n",
    "\n",
    "print(f'singleton_coin:\\n{singleton_coin}')\n",
    "print(f'\\nlineage_proof:\\n{lineage_proof}')\n",
    "print(f'\\ninner_solution:\\n{inner_solution}]')\n",
    "\n",
    "print('\\nsingleton_coin_spend:')\n",
    "singleton_helpers.print_json(singleton_coin_spend.to_json_dict())\n",
    "\n",
    "from blspy import G2Element\n",
    "spend_bundle = SpendBundle(\n",
    "    [singleton_coin_spend],\n",
    "    G2Element()\n",
    ")\n",
    "await network.push_tx(spend_bundle)"
   ]
  },
  {
   "cell_type": "code",
   "execution_count": 4,
   "id": "ec63b07c-650b-4ae0-9f0c-29fe6f41e710",
   "metadata": {},
   "outputs": [],
   "source": [
    "async def get_counter_value(get_coin_records_by_parent_ids, get_coin_record_by_name, get_puzzle_and_solution, launcher_id):\n",
    "    singleton_coin = await singleton_helpers.get_unspent_singleton(get_coin_records_by_parent_ids, launcher_id)\n",
    "    if singleton_coin == None:\n",
    "        return None\n",
    "    else:\n",
    "        # get solution of the spent parent\n",
    "        parent_id = singleton_coin.parent_coin_info\n",
    "        parent_coin_record = await get_coin_record_by_name(parent_id)\n",
    "        spent_block_index = parent_coin_record.spent_block_index\n",
    "        coin_spent = await get_puzzle_and_solution(parent_id, spent_block_index)\n",
    "        solutions = list(coin_spent.solution.to_program().as_iter())\n",
    "        solution = list(solutions)[2]\n",
    "        current_value = int.from_bytes((solution.as_atom_list())[3], byteorder='little')\n",
    "        return current_value"
   ]
  },
  {
   "cell_type": "code",
   "execution_count": 5,
   "id": "27de6106-27f2-495c-9317-523a6f6de462",
   "metadata": {},
   "outputs": [
    {
     "name": "stdout",
     "output_type": "stream",
     "text": [
      "singleton_coin:\n",
      "{'amount': 1023,\n",
      " 'parent_coin_info': '0x319563d316c50eb4e8323a5a90c8db6a579802c694503f0232355b7270e5b4bc',\n",
      " 'puzzle_hash': '0x98a9cac73d70ccf45a659858f390cac158e764cf864d168841173c22c862a50a'}\n",
      "\n",
      "lineage_proof:\n",
      "{'amount': 1023,\n",
      " 'inner_puzzle_hash': '0x1194ba575907e87f7478167d938824ce215eb3a906384e07e3bc74b3d98913e5',\n",
      " 'parent_name': '0x6a4ba7e394f8d346deafcda74b26bcad649ed0cb691d7172b14970c4cf47a570'}\n",
      "\n",
      "inner_solution:\n",
      "ffa098a9cac73d70ccf45a659858f390cac158e764cf864d168841173c22c862a50aff8203ffffa01194ba575907e87f7478167d938824ce215eb3a906384e07e3bc74b3d98913e5ff0280]\n",
      "\n",
      "singleton_coin_spend:\n",
      "{\n",
      "    \"coin\": {\n",
      "        \"amount\": 1023,\n",
      "        \"parent_coin_info\": \"0x319563d316c50eb4e8323a5a90c8db6a579802c694503f0232355b7270e5b4bc\",\n",
      "        \"puzzle_hash\": \"0x98a9cac73d70ccf45a659858f390cac158e764cf864d168841173c22c862a50a\"\n",
      "    },\n",
      "    \"puzzle_reveal\": \"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\",\n",
      "    \"solution\": \"0xffffa06a4ba7e394f8d346deafcda74b26bcad649ed0cb691d7172b14970c4cf47a570ffa01194ba575907e87f7478167d938824ce215eb3a906384e07e3bc74b3d98913e5ff8203ff80ff8203ffffffa098a9cac73d70ccf45a659858f390cac158e764cf864d168841173c22c862a50aff8203ffffa01194ba575907e87f7478167d938824ce215eb3a906384e07e3bc74b3d98913e5ff028080\"\n",
      "}\n"
     ]
    },
    {
     "data": {
      "text/plain": [
       "{'additions': [Coin(parent_coin_info=<bytes32: f25b047a7b830e74747caeea9a752f93af748101e0523b2947fdcd15c8d76726>, puzzle_hash=<bytes32: 98a9cac73d70ccf45a659858f390cac158e764cf864d168841173c22c862a50a>, amount=1023)],\n",
       " 'removals': [Coin(parent_coin_info=<bytes32: 319563d316c50eb4e8323a5a90c8db6a579802c694503f0232355b7270e5b4bc>, puzzle_hash=<bytes32: 98a9cac73d70ccf45a659858f390cac158e764cf864d168841173c22c862a50a>, amount=1023)]}"
      ]
     },
     "execution_count": 5,
     "metadata": {},
     "output_type": "execute_result"
    }
   ],
   "source": [
    "# spend another singleton to increase value\n",
    "\n",
    "lineage_proof = singleton_top_layer.lineage_proof_for_coinsol(singleton_coin_spend)\n",
    "\n",
    "singleton_coin = await singleton_helpers.get_unspent_singleton(get_coin_records_by_parent_ids, launcher_id)\n",
    "current_value = await get_counter_value(get_coin_records_by_parent_ids, get_coin_record_by_name, get_puzzle_and_solution, launcher_id)\n",
    "inner_solution = Program.to([\n",
    "    singleton_puzzle.get_tree_hash(), \n",
    "    singleton_coin.amount, \n",
    "    inner_puzzle.get_tree_hash(), \n",
    "    current_value + 1\n",
    "])\n",
    "\n",
    "singleton_coin_spend = singleton_helpers.get_singleton_coin_spend(\n",
    "        singleton_coin, singleton_puzzle, lineage_proof, inner_solution\n",
    "    )\n",
    "\n",
    "print(f'singleton_coin:\\n{singleton_coin}')\n",
    "print(f'\\nlineage_proof:\\n{lineage_proof}')\n",
    "print(f'\\ninner_solution:\\n{inner_solution}]')\n",
    "\n",
    "print('\\nsingleton_coin_spend:')\n",
    "singleton_helpers.print_json(singleton_coin_spend.to_json_dict())\n",
    "spend_bundle = SpendBundle(\n",
    "    [singleton_coin_spend],\n",
    "    G2Element()\n",
    ")\n",
    "await network.push_tx(spend_bundle)"
   ]
  },
  {
   "cell_type": "code",
   "execution_count": 51,
   "id": "ffd0a712-e5a2-4536-9364-65d8e4ddd617",
   "metadata": {},
   "outputs": [
    {
     "name": "stdout",
     "output_type": "stream",
     "text": [
      "[Program(a098a9cac73d70ccf45a659858f390cac158e764cf864d168841173c22c862a50a), Program(8203ff), Program(ffff87436f756e7465724180)]\n",
      "found counter A\n"
     ]
    }
   ],
   "source": [
    "from clvm_tools.binutils import disassemble, assemble\n",
    "\n",
    "# the observer looks for a coin with [\"Counter\", \"A\"]\n",
    "get_block_records = network.sim_client.get_block_records\n",
    "get_additions_and_removals = network.sim_client.get_additions_and_removals\n",
    "block_records = await get_block_records(0, 20)\n",
    "header_hashes = list(map(lambda br: br.header_hash, block_records))\n",
    "for header_hash in header_hashes:\n",
    "    _, removals = await get_additions_and_removals(header_hash)\n",
    "    launchers = list(filter(lambda cr: cr.coin.puzzle_hash == singleton_top_layer.SINGLETON_LAUNCHER_HASH, removals))\n",
    "    for cr in launchers:\n",
    "        coin_id = cr.coin.name()\n",
    "        coin_spent = await get_puzzle_and_solution(coin_id, cr.spent_block_index)\n",
    "        solutions = list(coin_spent.solution.to_program().as_iter())\n",
    "        print(solutions)\n",
    "        kv = coin_spent.solution.to_program().at(\"rrff\")\n",
    "        if kv == assemble('(\"Counter\" . \"A\")'):\n",
    "            print(\"found counter A\")\n",
    "\n"
   ]
  },
  {
   "cell_type": "code",
   "execution_count": null,
   "id": "f63934c9-fe80-44b2-bd9a-64852383633a",
   "metadata": {},
   "outputs": [],
   "source": []
  }
 ],
 "metadata": {
  "kernelspec": {
   "display_name": "Python 3 (ipykernel)",
   "language": "python",
   "name": "python3"
  },
  "language_info": {
   "codemirror_mode": {
    "name": "ipython",
    "version": 3
   },
   "file_extension": ".py",
   "mimetype": "text/x-python",
   "name": "python",
   "nbconvert_exporter": "python",
   "pygments_lexer": "ipython3",
   "version": "3.8.10"
  }
 },
 "nbformat": 4,
 "nbformat_minor": 5
}
