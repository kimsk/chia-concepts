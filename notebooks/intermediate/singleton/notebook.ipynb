{
 "cells": [
  {
   "cell_type": "code",
   "execution_count": 1,
   "id": "5719374a-ceed-460c-8680-0b311035821c",
   "metadata": {},
   "outputs": [
    {
     "name": "stdout",
     "output_type": "stream",
     "text": [
      "1.3.5\n",
      "cdv, version 1.0.8\n"
     ]
    }
   ],
   "source": [
    "%%bash\n",
    "chia version\n",
    "cdv --version"
   ]
  },
  {
   "cell_type": "markdown",
   "id": "d858bcc6-f5b1-4e19-8ee8-9ce53b0c176b",
   "metadata": {},
   "source": [
    "# What Is Singleton?\n",
    "\n",
    "> **A singleton is an identity which is embodied by exactly one coin** at any given time, and where it’s possible for coins to validate that they’re interacting with the current representative of that identity. It’s similar to, but simpler than, coloured coins. An NFT is barely more than a raw singleton. Singletons are also the foundation of rate limited wallets, distributed identities, pool protocol, and price oracles. -- [A Vision for DeFi in Chia](https://www.chia.net/2021/07/13/a-vision-for-defi-in-chia.en.html)\n",
    "\n",
    "> **A singleton is a coin that is verifiably unique**. Similar to (but more powerful than) NFTs, a singleton cannot be copied, duplicated, or recreated if it is destroyed. It is a common outer puzzle for things like DIDs, NFTs, or the pooling protocol. -- [The Great Chia Glossary | Singleton](https://chialisp.com/docs/glossary)\n",
    "\n",
    "> **A singleton is a special kind of puzzle that asserts uniqueness**, preventing other coins from being mistaken for it. It can change state over time, each time creating a new puzzle based on the previous. It wraps an `inner puzzle` which can have whatever behavior you desire. These traits combined allow for smart contracts and things like NFTs to be created. -- [What is a singleton?](https://developers.chia.net/t/what-is-a-singleton/87)"
   ]
  },
  {
   "cell_type": "markdown",
   "id": "0769d36c-d465-451e-bbd9-6e1ab818beb7",
   "metadata": {},
   "source": [
    "## Why Do We Need Singleton?\n",
    "> Coins on the network are state, the puzzle is the data contained within them. You can spend them to change their state however you like, by creating new coins. This is what singletons excel at. -- [Can you store state on the network?](https://developers.chia.net/t/can-you-store-state-on-the-network/84)\n",
    "\n",
    "In the account model (e.g, Ethereum), you have **a unique contract address** that you can access and update data. In the coin set model, however, coins are state, so we need to be able to extract state that we are interested from those coins somehow. To update those states, we will need to spend them and create new coins. \n",
    "\n",
    "### Coin Id & Puzzle Hash\n",
    "Each coin has a unique [coin_id](../../basic/coins/notebook.ipynb) which derived from `parent_coin_id`, `puzzle_hash`, and its `amount` (in mojos). \n",
    "\n",
    "Once you spend the coin with the existing state, you could get a new unspent coin with the new state (different or same puzzle hash). However, this means that you have to keep track of a valid `coin_id` and/or `puzzle hash`. In addition, someone can just create new coins with the same puzzle hash out of nowhere which could be more confusing.\n",
    "\n",
    "### A Singleton Puzzle & Launcher Id\n",
    "It's clear that we need a way to model the idea of **unique id**, so the Chia Network comes up with [singleton puzzle](https://chialisp.com/docs/puzzles/singletons). **A singleton coin provides a unique id called launcher id that can be used as the permanent unique address.** The `launcher id` is basically the `coin_id` of the launcher coin that creates the first singleton coin. When a singleton coin is spent, at most one new singleton coin can be created. We can always track all of those singleton coins and find the unspent singleton coin by following the `launcher id`.\n"
   ]
  },
  {
   "cell_type": "markdown",
   "id": "e5e54990-08bc-4cf8-ace8-71df8294ed26",
   "metadata": {},
   "source": [
    "## Singleton Puzzle\n",
    "\n",
    "The singleton puzzle is an outer puzzle that can wrap any inner puzzle. This ensures that all singleton coins follow the rules of singleton.\n",
    "\n",
    "### Rules of Singleton\n",
    "- A singleton must have an odd mojo value.\n",
    "- Only one output (i.e., a singleton) coin can have an odd mojo value.\n",
    "- All singletons should have the same format.\n",
    "\n",
    "### Boot Strapping\n",
    "\n",
    "To create **the first singleton coin (eve)**, we spend a standard coin and a [singleton launcher coin](https://github.com/Chia-Network/chia-blockchain/blob/1.3.5/chia/wallet/puzzles/singleton_launcher.clvm).\n",
    "\n",
    "- The first singleton coin (eve) must be created from the coin called the Launcher by passing in our `singleton_puzzle_hash` (as a solution).\n",
    "- `singleton_puzzle_hash` is a [singleton top layer puzzle](https://github.com/Chia-Network/chia-blockchain/blob/1.3.5/chia/wallet/puzzles/singleton_top_layer.clvm) curried in `SINGLETON_STRUCT` and `INNER_PUZZLE`.\n",
    "- `SINGLETON_STRUCT` is `(SINGLETON_MOD_HASH . (LAUNCHER_ID . SINGLETON_LAUNCHER_HASH))`.\n",
    "- `SINGLETON_MOD_HASH` is a puzzle hash of the [singleton top layer puzzle](https://github.com/Chia-Network/chia-blockchain/blob/1.3.5/chia/wallet/puzzles/singleton_top_layer.clvm).\n",
    "- To make sure that the `singleton_puzzle_hash` is not tampered, we will utilize annoucement which contains `singleton_puzzle_hash`, `odd_amount`, and list of keys/values .\n",
    "- The starting coin (which can be a standard transaction coin) creates the launcher coin and assert the announcement from the same launcher coin that is spent at the same time. The launcher coin is an **ephemeral** coin.\n",
    "\n",
    "<img src=\"bootstrapping_singleton.jpg\" alt=\"Boot Strapping Singleton\" width=\"600\"/>\n"
   ]
  },
  {
   "cell_type": "markdown",
   "id": "cb66033a-061a-4398-ba2e-de9c609d01fa",
   "metadata": {},
   "source": [
    "## Code\n",
    "### Singleton Top Layer & Singleton Launcher\n",
    "\n",
    "- [singleton_top_layer.py](https://github.com/Chia-Network/chia-blockchain/blob/1.3.5/chia/wallet/puzzles/singleton_top_layer.py)\n",
    "- [singleton_top_layer.clvm](https://github.com/Chia-Network/chia-blockchain/blob/1.3.5/chia/wallet/puzzles/singleton_top_layer.clvm)\n",
    "- [singleton_launcher.clvm](https://github.com/Chia-Network/chia-blockchain/blob/1.3.5/chia/wallet/puzzles/singleton_launcher.clvm)"
   ]
  },
  {
   "cell_type": "code",
   "execution_count": 2,
   "id": "8666fb91-ad7f-42c6-a6ba-a2461dbaff53",
   "metadata": {},
   "outputs": [
    {
     "name": "stdout",
     "output_type": "stream",
     "text": [
      "SINGLETON_MOD_HASH:\t\t24e044101e57b3d8c908b8a38ad57848afd29d3eecc439dba45f4412df4954fd\n",
      "SINGLETON_LAUNCHER_HASH:\teff07522495060c066f66f32acc2a77e3a3e737aca8baea4d1a64ea4cdc13da9\n"
     ]
    }
   ],
   "source": [
    "from chia.wallet.puzzles import (singleton_top_layer, p2_delegated_puzzle_or_hidden_puzzle)\n",
    "\n",
    "print(f'SINGLETON_MOD_HASH:\\t\\t{singleton_top_layer.SINGLETON_MOD_HASH}')\n",
    "print(f'SINGLETON_LAUNCHER_HASH:\\t{singleton_top_layer.SINGLETON_LAUNCHER_HASH}')\n"
   ]
  },
  {
   "cell_type": "markdown",
   "id": "e189c604-803c-4d3e-8007-e50411f5837d",
   "metadata": {},
   "source": [
    "### Starting Coin\n",
    "First, let's prepare the starting coin. In this notebook, we will just use the blockchain simulator (and cdv.test)."
   ]
  },
  {
   "cell_type": "code",
   "execution_count": 12,
   "id": "8176e77a-c303-458d-8df6-32fec1e0f37b",
   "metadata": {},
   "outputs": [
    {
     "name": "stdout",
     "output_type": "stream",
     "text": [
      "12d7b8c1654f82f2330059abc28e3240e863450706de7fdc518026f393f68bba\n",
      "{\n",
      "    \"amount\": 1750000000000,\n",
      "    \"parent_coin_info\": \"0xe3b0c44298fc1c149afbf4c8996fb92400000000000000000000000000000001\",\n",
      "    \"puzzle_hash\": \"0x4f45877796d7a64e192bcc9f899afeedae391f71af3afd7e15a0792c049d23d3\"\n",
      "}\n"
     ]
    }
   ],
   "source": [
    "# starting coin\n",
    "import json\n",
    "def print_json(dict):\n",
    "    print(json.dumps(dict, sort_keys=True, indent=4))\n",
    "\n",
    "from cdv.test import Network, Wallet\n",
    "\n",
    "network: Network = await Network.create()\n",
    "await network.farm_block()\n",
    "\n",
    "alice: Wallet = network.make_wallet(\"alice\")\n",
    "await network.farm_block(farmer=alice) # alice has 2000_000_000_000 mojos\n",
    "\n",
    "odd_amount = 1023 # odd mojo\n",
    "starting_puzzle = p2_delegated_puzzle_or_hidden_puzzle.puzzle_for_pk(alice.pk())\n",
    "coin_records = await network.sim_client.get_coin_records_by_puzzle_hash(starting_puzzle.get_tree_hash())\n",
    "starting_coin = next(cr.coin for cr in coin_records if cr.spent == False and cr.coin.amount >= odd_amount)\n",
    "print(starting_coin.name())\n",
    "print_json(starting_coin.to_json_dict())\n"
   ]
  },
  {
   "cell_type": "markdown",
   "id": "4d378945-1285-41a8-88f1-f2195f4a5074",
   "metadata": {},
   "source": [
    "### Launcher Coin\n",
    "Although the launcher coin is not on the blockchain yet, we can still create a reference to it by providing, the `parent_coin_info`, `puzzle_hash`, and the amount. The launcher coin will be created by the starting coin, so we use its `coin_id` as `parent_coin_info`. `puzzle_hash` is the `SINGLETON_LAUNCHER_HASH` and the amount is the odd amount that we want our singleton coin to have."
   ]
  },
  {
   "cell_type": "code",
   "execution_count": 15,
   "id": "907de7d3-b746-4a4a-a329-0818a52bd66c",
   "metadata": {},
   "outputs": [
    {
     "name": "stdout",
     "output_type": "stream",
     "text": [
      "6a4ba7e394f8d346deafcda74b26bcad649ed0cb691d7172b14970c4cf47a570\n",
      "{\n",
      "    \"amount\": 1023,\n",
      "    \"parent_coin_info\": \"0x12d7b8c1654f82f2330059abc28e3240e863450706de7fdc518026f393f68bba\",\n",
      "    \"puzzle_hash\": \"0xeff07522495060c066f66f32acc2a77e3a3e737aca8baea4d1a64ea4cdc13da9\"\n",
      "}\n"
     ]
    }
   ],
   "source": [
    "from chia.types.blockchain_format.coin import Coin\n",
    "\n",
    "# or singleton_top_layer.generate_launcher_coin()\n",
    "launcher_coin = Coin(starting_coin.name(), singleton_top_layer.SINGLETON_LAUNCHER_HASH, odd_amount)\n",
    "launcher_id = launching_coin.name()\n",
    "print(launcher_id)\n",
    "print_json(launcher_coin.to_json_dict())"
   ]
  },
  {
   "cell_type": "markdown",
   "id": "c03cdc35-3bde-4955-9f2b-8300b5d33a97",
   "metadata": {},
   "source": [
    "### Singleton Puzzle\n",
    "Since Chia Network already provide the [reference singleton puzzle](https://github.com/Chia-Network/chia-blockchain/blob/1.3.5/chia/wallet/puzzles/singleton_top_layer.clvm), we will use it as an outer puzzle and we will provide our inner puzzle which in this example, the standard coin puzzle (same puzzle as the starting coin) adapted to be used as an inner puzzle for singleton.\n",
    "\n",
    "We curry in `SINGLETON_STRUCT` and the adapted inner puzzle to the reference singleton puzzle and that puzzle will be the puzzle of our first singleton coin."
   ]
  },
  {
   "cell_type": "code",
   "execution_count": 16,
   "id": "c1279550-fe91-4ee6-be97-ad2b80e20d82",
   "metadata": {},
   "outputs": [
    {
     "name": "stdout",
     "output_type": "stream",
     "text": [
      "a1af73b7dc0f246ffb0bd41b4ac8f0253f4c0949bfdd070d52a3be037767baa3\n"
     ]
    }
   ],
   "source": [
    "# Singleton Puzzle\n",
    "inner_puzzle = singleton_top_layer.adapt_inner_to_singleton(starting_puzzle)\n",
    "curried_singleton_puzzle = singleton_top_layer.SINGLETON_MOD.curry(\n",
    "            (\n",
    "                singleton_top_layer.SINGLETON_MOD_HASH, \n",
    "                (launcher_id, singleton_top_layer.SINGLETON_LAUNCHER_HASH)\n",
    "            ), # SINGLETON_STRUCT\n",
    "            inner_puzzle, # INNER_PUZZLE\n",
    "        )\n",
    "singleton_puzzle_hash = curried_singleton_puzzle.get_tree_hash()\n",
    "print(singleton_puzzle_hash)"
   ]
  },
  {
   "cell_type": "markdown",
   "id": "7f83e268-dcb3-4f3d-a087-b0b445f50d5e",
   "metadata": {},
   "source": [
    "### Lanucher Solution\n",
    "Let's look at the launcher coin again. To create our singleton coin, we will spend the launcher coin (at the same time it's created by the starting coin!).\n",
    "\n",
    "The solution for the [launcher coin puzzle]((https://github.com/Chia-Network/chia-blockchain/blob/1.3.5/chia/wallet/puzzles/singleton_launcher.clvm) ) is the followings:\n",
    "\n",
    "`(singleton_full_puzzle_hash amount key_value_list)`\n",
    "\n",
    "Both `singleton_puzzle_hash` and `amount` are required while `key_value_list` is the extra parameter that we can used to inform any observer that our singleton has been created."
   ]
  },
  {
   "cell_type": "code",
   "execution_count": 17,
   "id": "e7c09f47-45b8-42c1-9a7d-8b6295c655ba",
   "metadata": {},
   "outputs": [],
   "source": [
    "# Launcher Solution\n",
    "launcher_solution = Program.to(\n",
    "    [\n",
    "        singleton_puzzle_hash,\n",
    "        int_to_bytes(odd_amount),\n",
    "        [(\"Key\", \"Value\")],\n",
    "    ]\n",
    ")"
   ]
  },
  {
   "cell_type": "markdown",
   "id": "b8cf2a63-d021-4072-a1c6-2dee44871474",
   "metadata": {},
   "source": [
    "### Conditions for Starting Coin\n",
    "\n",
    "The conditions we need from the starting coin spend must include `(CREATE_COIN SINGLETON_LAUNCHER_HASH)` and `(ASSERT_COIN_ANNOUNCEMENT launcher_announcement)`. These two conditions guarantees that the launcher coin is created and spent in the same spend bundle. An optional condition is the `(CREATE_COIN starting_coin_puzzle_hash)` which returns excess mojos back as a change to the original sender."
   ]
  },
  {
   "cell_type": "code",
   "execution_count": 18,
   "id": "e4cc8595-ef36-4c7f-a2bc-bf2b9d45f263",
   "metadata": {},
   "outputs": [
    {
     "name": "stdout",
     "output_type": "stream",
     "text": [
      "(51 0xeff07522495060c066f66f32acc2a77e3a3e737aca8baea4d1a64ea4cdc13da9 1023)\n",
      "(61 0x14dcea3e86ca6b0b2da5d868ed49c021eab241201fbb2685442a0a43bcfc52a0)\n",
      "(51 0x4f45877796d7a64e192bcc9f899afeedae391f71af3afd7e15a0792c049d23d3 0x01977420d801)\n"
     ]
    }
   ],
   "source": [
    "from chia.types.blockchain_format.program import Program\n",
    "from chia.types.condition_opcodes import ConditionOpcode\n",
    "from chia.util.hash import std_hash\n",
    "from clvm.casts import int_to_bytes\n",
    "from clvm_tools.binutils import disassemble\n",
    "\n",
    "launcher_announcement = launcher_solution.get_tree_hash()\n",
    "\n",
    "# conditions for starting coin\n",
    "starting_coin_conditions = [\n",
    "    # create launcher coin with the odd_amount (odd)\n",
    "    Program.to(\n",
    "        [\n",
    "            ConditionOpcode.CREATE_COIN,\n",
    "            singleton_top_layer.SINGLETON_LAUNCHER_HASH,\n",
    "            odd_amount,\n",
    "        ]),\n",
    "    # assert launcher coin announcement\n",
    "    Program.to(\n",
    "        [\n",
    "            ConditionOpcode.ASSERT_COIN_ANNOUNCEMENT, \n",
    "            std_hash(launcher_id + launcher_announcement)\n",
    "        ]),\n",
    "    # create change minus fee coin (amount - (odd_amount + fee)) to itself\n",
    "    Program.to(\n",
    "        [\n",
    "            ConditionOpcode.CREATE_COIN,\n",
    "            starting_puzzle.get_tree_hash(),\n",
    "            starting_coin.amount - odd_amount,\n",
    "        ]),\n",
    "]\n",
    "\n",
    "for condition in starting_coin_conditions:\n",
    "    print(disassemble(condition))"
   ]
  },
  {
   "cell_type": "markdown",
   "id": "1bf6cfa6-723b-4d43-9b04-b4ce6550bee7",
   "metadata": {},
   "source": [
    "## Use Cases\n",
    "\n",
    "### Plot NFT for Pooling\n",
    "The most well-known singleton example is the [plot nft](https://github.com/Chia-Network/chia-blockchain/wiki/Pooling-FAQ#what-is-a-plot-nft), which keeps the pool that the farmer belongs to. Farmer can always switch the pool by spending the singleton plot nfg and provide the new pool information. \n",
    "\n",
    "> The original pool design was having pool keys in plot files, but that means if farmers want to switch pool, they'd have to re-plot!! [Pools in Chia](https://www.chia.net/2020/11/10/pools-in-chia.html)\n",
    "\n",
    "### Others\n",
    "\n",
    "Anything that needs to be unique on the blockchain can also be represented by a singleton.\n",
    "\n",
    "- NFT (Non-Fungible Token) \n",
    "- DIDs (Decentralized Identifiers) : A parent singleton can be treated as DID.\n",
    "\n",
    "## How it works?\n",
    "\n",
    "To ensure that the coin is unique, when a singleton coin is spent, it creates another singleton coin with the same launcher id. This, however, doesn't prevent a singleton coin to create non-singleton coins.\n",
    "\n",
    "\n"
   ]
  },
  {
   "cell_type": "code",
   "execution_count": null,
   "id": "edd36c8b-2a6b-4126-8eb4-9c28ae59a676",
   "metadata": {},
   "outputs": [],
   "source": []
  }
 ],
 "metadata": {
  "kernelspec": {
   "display_name": "Python 3 (ipykernel)",
   "language": "python",
   "name": "python3"
  },
  "language_info": {
   "codemirror_mode": {
    "name": "ipython",
    "version": 3
   },
   "file_extension": ".py",
   "mimetype": "text/x-python",
   "name": "python",
   "nbconvert_exporter": "python",
   "pygments_lexer": "ipython3",
   "version": "3.8.10"
  }
 },
 "nbformat": 4,
 "nbformat_minor": 5
}
