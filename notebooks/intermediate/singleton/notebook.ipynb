{
 "cells": [
  {
   "cell_type": "code",
   "execution_count": 1,
   "id": "5719374a-ceed-460c-8680-0b311035821c",
   "metadata": {},
   "outputs": [
    {
     "name": "stdout",
     "output_type": "stream",
     "text": [
      "1.3.5\n",
      "cdv, version 1.0.8\n"
     ]
    }
   ],
   "source": [
    "%%bash\n",
    "chia version\n",
    "cdv --version"
   ]
  },
  {
   "cell_type": "markdown",
   "id": "d858bcc6-f5b1-4e19-8ee8-9ce53b0c176b",
   "metadata": {},
   "source": [
    "# What Is Singleton?\n",
    "\n",
    "> **A singleton is an identity which is embodied by exactly one coin** at any given time, and where it’s possible for coins to validate that they’re interacting with the current representative of that identity. It’s similar to, but simpler than, coloured coins. An NFT is barely more than a raw singleton. Singletons are also the foundation of rate limited wallets, distributed identities, pool protocol, and price oracles. -- [A Vision for DeFi in Chia](https://www.chia.net/2021/07/13/a-vision-for-defi-in-chia.en.html)\n",
    "\n",
    "> **A singleton is a coin that is verifiably unique**. Similar to (but more powerful than) NFTs, a singleton cannot be copied, duplicated, or recreated if it is destroyed. It is a common outer puzzle for things like DIDs, NFTs, or the pooling protocol. -- [The Great Chia Glossary | Singleton](https://chialisp.com/docs/glossary)\n",
    "\n",
    "> **A singleton is a special kind of puzzle that asserts uniqueness**, preventing other coins from being mistaken for it. It can change state over time, each time creating a new puzzle based on the previous. It wraps an `inner puzzle` which can have whatever behavior you desire. These traits combined allow for smart contracts and things like NFTs to be created. -- [What is a singleton?](https://developers.chia.net/t/what-is-a-singleton/87)"
   ]
  },
  {
   "cell_type": "markdown",
   "id": "0769d36c-d465-451e-bbd9-6e1ab818beb7",
   "metadata": {},
   "source": [
    "## Why Do We Need Singleton?\n",
    "> Coins on the network are state, the puzzle is the data contained within them. You can spend them to change their state however you like, by creating new coins. This is what singletons excel at. -- [Can you store state on the network?](https://developers.chia.net/t/can-you-store-state-on-the-network/84)\n",
    "\n",
    "In the account model (e.g, Ethereum), you have **a unique contract address** that you can access and update data. In the coin set model, however, coins are state, so we need to be able to extract state that we are interested from those coins somehow. To update those states, we will need to spend them and create new coins. \n",
    "\n",
    "### Coin Id & Puzzle Hash\n",
    "Each coin has a unique [coin_id](../../basic/coins/notebook.ipynb) which derived from `parent_coin_id`, `puzzle_hash`, and its `amount` (in mojos). \n",
    "\n",
    "Once you spend the coin with the existing state, you could get a new unspent coin with the new state (different or same puzzle hash). However, this means that you have to keep track of a valid `coin_id` and/or `puzzle hash`. In addition, someone can just create new coins with the same puzzle hash out of nowhere which could be more confusing.\n",
    "\n",
    "### A Singleton Puzzle & Launcher Id\n",
    "It's clear that we need a way to model the idea of **unique id**, so the Chia Network comes up with [singleton puzzle](https://chialisp.com/docs/puzzles/singletons). **A singleton coin provides a unique id called launcher id that can be used as the permanent unique address.** The `launcher id` is basically the `coin_id` of the launcher coin that creates the first singleton coin. When a singleton coin is spent, at most one new singleton coin can be created. We can always track all of those singleton coins and find the unspent singleton coin by following the `launcher id`.\n"
   ]
  },
  {
   "cell_type": "markdown",
   "id": "e5e54990-08bc-4cf8-ace8-71df8294ed26",
   "metadata": {},
   "source": [
    "## Singleton Puzzle\n",
    "\n",
    "The singleton puzzle is an outer puzzle that can wrap any inner puzzle. This ensures that all singleton coins follow the rules of singleton.\n",
    "\n",
    "### Rules of Singleton\n",
    "- A singleton must have an odd mojo value.\n",
    "- Only one output (i.e., a singleton) coin can have an odd mojo value.\n",
    "- All singletons should have the same format.\n",
    "\n",
    "### Boot Strapping\n",
    "\n",
    "To create **the first singleton coin (eve)**, we spend a standard coin and a [singleton launcher coin](https://github.com/Chia-Network/chia-blockchain/blob/1.3.5/chia/wallet/puzzles/singleton_launcher.clvm).\n",
    "\n",
    "- The first singleton coin (eve) must be created from the coin called the Launcher by passing in our `singleton_puzzle_hash` (as a solution).\n",
    "- `singleton_puzzle_hash` is a [singleton top layer puzzle](https://github.com/Chia-Network/chia-blockchain/blob/1.3.5/chia/wallet/puzzles/singleton_top_layer.clvm) curried in `SINGLETON_STRUCT` and `INNER_PUZZLE`.\n",
    "- `SINGLETON_STRUCT` is `(SINGLETON_MOD_HASH . (LAUNCHER_ID . SINGLETON_LAUNCHER_HASH))`.\n",
    "- `SINGLETON_MOD_HASH` is a puzzle hash of the [singleton top layer puzzle](https://github.com/Chia-Network/chia-blockchain/blob/1.3.5/chia/wallet/puzzles/singleton_top_layer.clvm).\n",
    "- To make sure that the `singleton_puzzle_hash` is not tampered, we will utilize annoucement which contains `singleton_puzzle_hash`, `odd_amount`, and list of keys/values .\n",
    "- The starting coin (which can be a standard transaction coin) creates the launcher coin and assert the announcement from the same launcher coin that is spent at the same time. The launcher coin is an **ephemeral** coin.\n",
    "\n",
    "<img src=\"bootstrapping_singleton.jpg\" alt=\"Boot Strapping Singleton\" width=\"600\"/>\n"
   ]
  },
  {
   "cell_type": "markdown",
   "id": "cb66033a-061a-4398-ba2e-de9c609d01fa",
   "metadata": {},
   "source": [
    "## Code\n",
    "### Singleton Top Layer & Singleton Launcher\n",
    "\n",
    "- [singleton_top_layer.py](https://github.com/Chia-Network/chia-blockchain/blob/1.3.5/chia/wallet/puzzles/singleton_top_layer.py)\n",
    "- [singleton_top_layer.clvm](https://github.com/Chia-Network/chia-blockchain/blob/1.3.5/chia/wallet/puzzles/singleton_top_layer.clvm)\n",
    "- [singleton_launcher.clvm](https://github.com/Chia-Network/chia-blockchain/blob/1.3.5/chia/wallet/puzzles/singleton_launcher.clvm)"
   ]
  },
  {
   "cell_type": "code",
   "execution_count": 2,
   "id": "8666fb91-ad7f-42c6-a6ba-a2461dbaff53",
   "metadata": {},
   "outputs": [
    {
     "name": "stdout",
     "output_type": "stream",
     "text": [
      "SINGLETON_MOD_HASH:\t\t24e044101e57b3d8c908b8a38ad57848afd29d3eecc439dba45f4412df4954fd\n",
      "SINGLETON_LAUNCHER_HASH:\teff07522495060c066f66f32acc2a77e3a3e737aca8baea4d1a64ea4cdc13da9\n"
     ]
    }
   ],
   "source": [
    "from chia.wallet.puzzles import (singleton_top_layer, p2_delegated_puzzle_or_hidden_puzzle)\n",
    "\n",
    "print(f'SINGLETON_MOD_HASH:\\t\\t{singleton_top_layer.SINGLETON_MOD_HASH}')\n",
    "print(f'SINGLETON_LAUNCHER_HASH:\\t{singleton_top_layer.SINGLETON_LAUNCHER_HASH}')\n"
   ]
  },
  {
   "cell_type": "markdown",
   "id": "e189c604-803c-4d3e-8007-e50411f5837d",
   "metadata": {},
   "source": [
    "### Starting Coin\n",
    "First, let's prepare the starting coin. In this notebook, we will just use the blockchain simulator (and cdv.test)."
   ]
  },
  {
   "cell_type": "code",
   "execution_count": 3,
   "id": "8176e77a-c303-458d-8df6-32fec1e0f37b",
   "metadata": {},
   "outputs": [
    {
     "name": "stdout",
     "output_type": "stream",
     "text": [
      "09dd51046893b6d9fd6b96a6cc60faedaf43fc82aad9d2ae817a38608bcba3f5\n",
      "{\n",
      "    \"amount\": 250000000000,\n",
      "    \"parent_coin_info\": \"0x27ae41e4649b934ca495991b7852b85500000000000000000000000000000001\",\n",
      "    \"puzzle_hash\": \"0x4f45877796d7a64e192bcc9f899afeedae391f71af3afd7e15a0792c049d23d3\"\n",
      "}\n"
     ]
    }
   ],
   "source": [
    "# starting coin\n",
    "import json\n",
    "def print_json(dict):\n",
    "    print(json.dumps(dict, sort_keys=True, indent=4))\n",
    "\n",
    "from cdv.test import Network, Wallet\n",
    "\n",
    "network: Network = await Network.create()\n",
    "await network.farm_block()\n",
    "\n",
    "alice: Wallet = network.make_wallet(\"alice\")\n",
    "await network.farm_block(farmer=alice) # alice has 2000_000_000_000 mojos\n",
    "\n",
    "odd_amount = 1023 # odd mojo\n",
    "starting_puzzle = p2_delegated_puzzle_or_hidden_puzzle.puzzle_for_pk(alice.pk()) # Pre-commit DEFAULT_HIDDEN_PUZZLE_HASH\n",
    "coin_records = await network.sim_client.get_coin_records_by_puzzle_hash(starting_puzzle.get_tree_hash())\n",
    "starting_coin = next(cr.coin for cr in coin_records if cr.spent == False and cr.coin.amount >= odd_amount)\n",
    "print(starting_coin.name())\n",
    "print_json(starting_coin.to_json_dict())\n"
   ]
  },
  {
   "cell_type": "markdown",
   "id": "4d378945-1285-41a8-88f1-f2195f4a5074",
   "metadata": {},
   "source": [
    "### Launcher Coin\n",
    "Although the launcher coin is not on the blockchain yet, we can still create a reference to it by providing, the `parent_coin_info`, `puzzle_hash`, and the `amount`. The launcher coin will be created by the starting coin, so we use its `coin_id` as `parent_coin_info`. `puzzle_hash` is the `SINGLETON_LAUNCHER_HASH` and the amount is the odd amount that we want our singleton coin to have."
   ]
  },
  {
   "cell_type": "code",
   "execution_count": 4,
   "id": "907de7d3-b746-4a4a-a329-0818a52bd66c",
   "metadata": {},
   "outputs": [
    {
     "name": "stdout",
     "output_type": "stream",
     "text": [
      "b5a07c625d08b4dc45d69dcb6291fc9efbfa439432579bbb3dec06f5631d9661\n",
      "{\n",
      "    \"amount\": 1023,\n",
      "    \"parent_coin_info\": \"0x09dd51046893b6d9fd6b96a6cc60faedaf43fc82aad9d2ae817a38608bcba3f5\",\n",
      "    \"puzzle_hash\": \"0xeff07522495060c066f66f32acc2a77e3a3e737aca8baea4d1a64ea4cdc13da9\"\n",
      "}\n"
     ]
    }
   ],
   "source": [
    "from chia.types.blockchain_format.coin import Coin\n",
    "\n",
    "# or singleton_top_layer.generate_launcher_coin()\n",
    "launcher_coin = Coin(starting_coin.name(), singleton_top_layer.SINGLETON_LAUNCHER_HASH, odd_amount)\n",
    "launcher_id = launcher_coin.name()\n",
    "print(launcher_id)\n",
    "print_json(launcher_coin.to_json_dict())"
   ]
  },
  {
   "cell_type": "markdown",
   "id": "c03cdc35-3bde-4955-9f2b-8300b5d33a97",
   "metadata": {},
   "source": [
    "### Singleton Puzzle\n",
    "Since Chia Network already provide the [reference singleton puzzle](https://github.com/Chia-Network/chia-blockchain/blob/1.3.5/chia/wallet/puzzles/singleton_top_layer.clvm), we will use it as an outer puzzle and we will provide our inner puzzle which in this example, the standard coin puzzle (same puzzle as the starting coin) adapted to be used as an inner puzzle for singleton.\n",
    "\n",
    "We curry in `SINGLETON_STRUCT` and the adapted inner puzzle to the reference singleton puzzle and that puzzle will be the puzzle of our first singleton coin."
   ]
  },
  {
   "cell_type": "code",
   "execution_count": 35,
   "id": "c1279550-fe91-4ee6-be97-ad2b80e20d82",
   "metadata": {},
   "outputs": [
    {
     "name": "stdout",
     "output_type": "stream",
     "text": [
      "206318efd67658a08ae16781f0819a216437a7774d98d2af101f8f8d7a03a02e\n",
      "0c0d126c89fc434fbf5ddbf6ad2afd1c5529a9df4f099608c6cd536d753948b2\n"
     ]
    }
   ],
   "source": [
    "# Singleton Puzzle\n",
    "inner_puzzle = singleton_top_layer.adapt_inner_to_singleton(starting_puzzle)\n",
    "print(inner_puzzle.get_tree_hash())\n",
    "singleton_struct = (\n",
    "    singleton_top_layer.SINGLETON_MOD_HASH, \n",
    "    (launcher_id, singleton_top_layer.SINGLETON_LAUNCHER_HASH)\n",
    ")\n",
    "curried_singleton_puzzle = singleton_top_layer.SINGLETON_MOD.curry(\n",
    "            singleton_struct,\n",
    "            inner_puzzle,\n",
    "        )\n",
    "singleton_puzzle_hash = curried_singleton_puzzle.get_tree_hash()\n",
    "print(singleton_puzzle_hash)"
   ]
  },
  {
   "cell_type": "markdown",
   "id": "7f83e268-dcb3-4f3d-a087-b0b445f50d5e",
   "metadata": {},
   "source": [
    "### Lanucher Solution & Coin Spend\n",
    "Let's look at the launcher coin again. To create our singleton coin, we will spend the launcher coin (at the same time it's created by the starting coin!).\n",
    "\n",
    "The solution for the [launcher coin puzzle]((https://github.com/Chia-Network/chia-blockchain/blob/1.3.5/chia/wallet/puzzles/singleton_launcher.clvm) ) is the followings:\n",
    "\n",
    "`(singleton_full_puzzle_hash amount key_value_list)`\n",
    "\n",
    "Both `singleton_puzzle_hash` and `amount` are required while `key_value_list` is the extra parameter that we can used to inform any observer that our singleton has been created."
   ]
  },
  {
   "cell_type": "code",
   "execution_count": 7,
   "id": "e7c09f47-45b8-42c1-9a7d-8b6295c655ba",
   "metadata": {},
   "outputs": [
    {
     "name": "stdout",
     "output_type": "stream",
     "text": [
      "{\n",
      "    \"coin\": {\n",
      "        \"amount\": 1023,\n",
      "        \"parent_coin_info\": \"0x09dd51046893b6d9fd6b96a6cc60faedaf43fc82aad9d2ae817a38608bcba3f5\",\n",
      "        \"puzzle_hash\": \"0xeff07522495060c066f66f32acc2a77e3a3e737aca8baea4d1a64ea4cdc13da9\"\n",
      "    },\n",
      "    \"puzzle_reveal\": \"0xff02ffff01ff04ffff04ff04ffff04ff05ffff04ff0bff80808080ffff04ffff04ff0affff04ffff02ff0effff04ff02ffff04ffff04ff05ffff04ff0bffff04ff17ff80808080ff80808080ff808080ff808080ffff04ffff01ff33ff3cff02ffff03ffff07ff0580ffff01ff0bffff0102ffff02ff0effff04ff02ffff04ff09ff80808080ffff02ff0effff04ff02ffff04ff0dff8080808080ffff01ff0bffff0101ff058080ff0180ff018080\",\n",
      "    \"solution\": \"0xffa00c0d126c89fc434fbf5ddbf6ad2afd1c5529a9df4f099608c6cd536d753948b2ff8203ffffffff834b65798556616c75658080\"\n",
      "}\n"
     ]
    }
   ],
   "source": [
    "from chia.types.coin_spend import CoinSpend\n",
    "from chia.types.blockchain_format.program import Program\n",
    "from clvm.casts import int_to_bytes\n",
    "\n",
    "# Launcher Solution\n",
    "launcher_solution = Program.to(\n",
    "    [\n",
    "        singleton_puzzle_hash,\n",
    "        int_to_bytes(odd_amount),\n",
    "        [(\"Key\", \"Value\")],\n",
    "    ]\n",
    ")\n",
    "\n",
    "launcher_coin_spend = CoinSpend(\n",
    "        launcher_coin,\n",
    "        singleton_top_layer.SINGLETON_LAUNCHER,\n",
    "        launcher_solution\n",
    ")\n",
    "print_json(launcher_coin_spend.to_json_dict())"
   ]
  },
  {
   "cell_type": "markdown",
   "id": "b8cf2a63-d021-4072-a1c6-2dee44871474",
   "metadata": {},
   "source": [
    "### Conditions for Starting Coin\n",
    "\n",
    "The conditions we need from the starting coin spend must include `(CREATE_COIN SINGLETON_LAUNCHER_HASH)` and `(ASSERT_COIN_ANNOUNCEMENT launcher_announcement)`. These two conditions guarantees that the launcher coin is created and spent in the same spend bundle. An optional condition is the `(CREATE_COIN starting_coin_puzzle_hash)` which returns excess mojos back as a change to the original sender."
   ]
  },
  {
   "cell_type": "code",
   "execution_count": 8,
   "id": "e4cc8595-ef36-4c7f-a2bc-bf2b9d45f263",
   "metadata": {},
   "outputs": [
    {
     "name": "stdout",
     "output_type": "stream",
     "text": [
      "(51 0xeff07522495060c066f66f32acc2a77e3a3e737aca8baea4d1a64ea4cdc13da9 1023)\n",
      "(61 0x4170b3107405d7d21216a5f13b9bce171c2fc9b7fb7cca07f423e9d5bfbdd75f)\n",
      "(51 0x4f45877796d7a64e192bcc9f899afeedae391f71af3afd7e15a0792c049d23d3 0x3a35294001)\n"
     ]
    }
   ],
   "source": [
    "from chia.types.condition_opcodes import ConditionOpcode\n",
    "from chia.util.hash import std_hash\n",
    "from clvm_tools.binutils import disassemble\n",
    "\n",
    "launcher_announcement = launcher_solution.get_tree_hash()\n",
    "\n",
    "# conditions for starting coin\n",
    "starting_coin_conditions = [\n",
    "    # create launcher coin with the odd_amount (odd)\n",
    "    Program.to(\n",
    "        [\n",
    "            ConditionOpcode.CREATE_COIN,\n",
    "            singleton_top_layer.SINGLETON_LAUNCHER_HASH,\n",
    "            odd_amount,\n",
    "        ]),\n",
    "    # assert launcher coin announcement\n",
    "    Program.to(\n",
    "        [\n",
    "            ConditionOpcode.ASSERT_COIN_ANNOUNCEMENT, \n",
    "            std_hash(launcher_id + launcher_announcement)\n",
    "        ]),\n",
    "    # create change minus fee coin (amount - (odd_amount + fee)) to itself\n",
    "    Program.to(\n",
    "        [\n",
    "            ConditionOpcode.CREATE_COIN,\n",
    "            starting_puzzle.get_tree_hash(),\n",
    "            starting_coin.amount - odd_amount,\n",
    "        ]),\n",
    "]\n",
    "\n",
    "for condition in starting_coin_conditions:\n",
    "    print(disassemble(condition))"
   ]
  },
  {
   "cell_type": "markdown",
   "id": "424744e1-0f80-4ec5-83b1-3f14c53cda06",
   "metadata": {},
   "source": [
    "### Spend Starting Coin\n",
    "\n",
    "A [spend bundle](https://github.com/Chia-Network/chia-blockchain/blob/1.3.5/chia/types/spend_bundle.py) consists of an aggregate signature and one or more [CoinSpend(s)](https://github.com/Chia-Network/chia-blockchain/blob/1.3.5/chia/types/coin_spend.py) which contains, `coin`, `puzzle_reveal`, and `solution`.\n",
    "\n",
    "The starting coin is a [standard transaction coin](https://chialisp.com/docs/standard_transaction). The coin has a puzzle that pre-commits [DEFAULT_HIDDEN_PUZZLE_HASH](https://github.com/Chia-Network/chiablockchain/blob/1.3.5/chia/wallet/puzzles/p2_delegated_puzzle_or_hidden_puzzle.py#L70) via the curried-in `SYNTHETIC_PUBLIC_KEY`.\n",
    "\n",
    "```clojure\n",
    "(SYNTHETIC_PUBLIC_KEY _public_key delegated_puzzle solution)\n",
    "...\n",
    "\n",
    "(c\n",
    "    (list AGG_SIG_ME SYNTHETIC_PUBLIC_KEY (sha256tree1 delegated_puzzle)) \n",
    "    (a delegated_puzzle solution)\n",
    ")\n",
    "```\n",
    "\n",
    "#### Solution\n",
    "\n",
    "In this [Graftroot](https://www.chia.net/2021/05/27/Agrgregated-Sigs-Taproot-Graftroot.html) case, we only need to provide `delegated_puzzle` and `solution` that will give the list of conditions above."
   ]
  },
  {
   "cell_type": "code",
   "execution_count": 9,
   "id": "09d07c2a-4a50-4bc3-a71b-d2303828df52",
   "metadata": {},
   "outputs": [
    {
     "name": "stdout",
     "output_type": "stream",
     "text": [
      "(q (51 0xeff07522495060c066f66f32acc2a77e3a3e737aca8baea4d1a64ea4cdc13da9 1023) (61 0x4170b3107405d7d21216a5f13b9bce171c2fc9b7fb7cca07f423e9d5bfbdd75f) (51 0x4f45877796d7a64e192bcc9f899afeedae391f71af3afd7e15a0792c049d23d3 0x3a35294001))\n",
      "(() (q (51 0xeff07522495060c066f66f32acc2a77e3a3e737aca8baea4d1a64ea4cdc13da9 1023) (61 0x4170b3107405d7d21216a5f13b9bce171c2fc9b7fb7cca07f423e9d5bfbdd75f) (51 0x4f45877796d7a64e192bcc9f899afeedae391f71af3afd7e15a0792c049d23d3 0x3a35294001)) ())\n"
     ]
    }
   ],
   "source": [
    "delegated_puzzle = p2_delegated_puzzle_or_hidden_puzzle.puzzle_for_conditions(starting_coin_conditions)\n",
    "print(disassemble(delegated_puzzle))\n",
    "solution = p2_delegated_puzzle_or_hidden_puzzle.solution_for_conditions(starting_coin_conditions)\n",
    "print(disassemble(solution))"
   ]
  },
  {
   "cell_type": "markdown",
   "id": "048aa2cd-4c61-4b92-b65f-ce2a24a416ca",
   "metadata": {},
   "source": [
    "#### AGG_SIG_ME\n",
    "We also need to provide the signature to satisfy the `AGG_SIG_ME SYNTHETIC_PUBLIC_KEY (sha256tree1 delegated_puzzle)` condition."
   ]
  },
  {
   "cell_type": "code",
   "execution_count": 10,
   "id": "db1d0f58-7ebd-4193-b814-b8388ccf5bae",
   "metadata": {},
   "outputs": [
    {
     "name": "stdout",
     "output_type": "stream",
     "text": [
      "{\n",
      "    \"coin\": {\n",
      "        \"amount\": 250000000000,\n",
      "        \"parent_coin_info\": \"0x27ae41e4649b934ca495991b7852b85500000000000000000000000000000001\",\n",
      "        \"puzzle_hash\": \"0x4f45877796d7a64e192bcc9f899afeedae391f71af3afd7e15a0792c049d23d3\"\n",
      "    },\n",
      "    \"puzzle_reveal\": \"0xff02ffff01ff02ffff01ff02ffff03ff0bffff01ff02ffff03ffff09ff05ffff1dff0bffff1effff0bff0bffff02ff06ffff04ff02ffff04ff17ff8080808080808080ffff01ff02ff17ff2f80ffff01ff088080ff0180ffff01ff04ffff04ff04ffff04ff05ffff04ffff02ff06ffff04ff02ffff04ff17ff80808080ff80808080ffff02ff17ff2f808080ff0180ffff04ffff01ff32ff02ffff03ffff07ff0580ffff01ff0bffff0102ffff02ff06ffff04ff02ffff04ff09ff80808080ffff02ff06ffff04ff02ffff04ff0dff8080808080ffff01ff0bffff0101ff058080ff0180ff018080ffff04ffff01b0a042c855d234578415254b7870b711fb25e8f85beaa4a66bd0673d394c761fa156406c2e3bb375d5b18766d2a12cc918ff018080\",\n",
      "    \"solution\": \"0xff80ffff01ffff33ffa0eff07522495060c066f66f32acc2a77e3a3e737aca8baea4d1a64ea4cdc13da9ff8203ff80ffff3dffa04170b3107405d7d21216a5f13b9bce171c2fc9b7fb7cca07f423e9d5bfbdd75f80ffff33ffa04f45877796d7a64e192bcc9f899afeedae391f71af3afd7e15a0792c049d23d3ff853a352940018080ff8080\"\n",
      "}\n"
     ]
    }
   ],
   "source": [
    "from blspy import AugSchemeMPL, PrivateKey\n",
    "from chia.consensus.default_constants import DEFAULT_CONSTANTS\n",
    "\n",
    "synthetic_sk: PrivateKey = p2_delegated_puzzle_or_hidden_puzzle.calculate_synthetic_secret_key(\n",
    "    alice.sk_,\n",
    "    p2_delegated_puzzle_or_hidden_puzzle.DEFAULT_HIDDEN_PUZZLE_HASH\n",
    ")\n",
    "signature = AugSchemeMPL.sign(synthetic_sk,\n",
    "    (\n",
    "        delegated_puzzle.get_tree_hash()\n",
    "        + starting_coin.name()\n",
    "        + DEFAULT_CONSTANTS.AGG_SIG_ME_ADDITIONAL_DATA\n",
    "    )\n",
    ")\n",
    "starting_coin_spend = CoinSpend(\n",
    "        starting_coin,\n",
    "        starting_puzzle,\n",
    "        solution\n",
    ")\n",
    "\n",
    "## Assert the signature (sanity test)\n",
    "assert AugSchemeMPL.verify(\n",
    "    p2_delegated_puzzle_or_hidden_puzzle.calculate_synthetic_public_key(\n",
    "        alice.pk(), \n",
    "        p2_delegated_puzzle_or_hidden_puzzle.DEFAULT_HIDDEN_PUZZLE_HASH\n",
    "    ), \n",
    "    delegated_puzzle.get_tree_hash()\n",
    "        + starting_coin.name()\n",
    "        + DEFAULT_CONSTANTS.AGG_SIG_ME_ADDITIONAL_DATA, \n",
    "    signature\n",
    ")\n",
    "\n",
    "print_json(starting_coin_spend.to_json_dict())"
   ]
  },
  {
   "cell_type": "markdown",
   "id": "0c97f1f7-d5e6-4aa0-b687-5dedd346cf16",
   "metadata": {},
   "source": [
    "### Create Eve Singleton\n",
    "\n",
    "Now we have `starting_coin_spend`, `launcher_coin_spend`, and `signature`, we can create the spend bundle and spend it and we should see our first singleton coin on the blockchain."
   ]
  },
  {
   "cell_type": "code",
   "execution_count": 11,
   "id": "eafe0fc5-945d-4b03-a0af-ba518e01dcb2",
   "metadata": {},
   "outputs": [
    {
     "data": {
      "text/plain": [
       "{'additions': [Coin(parent_coin_info=<bytes32: 09dd51046893b6d9fd6b96a6cc60faedaf43fc82aad9d2ae817a38608bcba3f5>, puzzle_hash=<bytes32: eff07522495060c066f66f32acc2a77e3a3e737aca8baea4d1a64ea4cdc13da9>, amount=1023),\n",
       "  Coin(parent_coin_info=<bytes32: 09dd51046893b6d9fd6b96a6cc60faedaf43fc82aad9d2ae817a38608bcba3f5>, puzzle_hash=<bytes32: 4f45877796d7a64e192bcc9f899afeedae391f71af3afd7e15a0792c049d23d3>, amount=249999998977),\n",
       "  Coin(parent_coin_info=<bytes32: b5a07c625d08b4dc45d69dcb6291fc9efbfa439432579bbb3dec06f5631d9661>, puzzle_hash=<bytes32: 0c0d126c89fc434fbf5ddbf6ad2afd1c5529a9df4f099608c6cd536d753948b2>, amount=1023)],\n",
       " 'removals': [Coin(parent_coin_info=<bytes32: 27ae41e4649b934ca495991b7852b85500000000000000000000000000000001>, puzzle_hash=<bytes32: 4f45877796d7a64e192bcc9f899afeedae391f71af3afd7e15a0792c049d23d3>, amount=250000000000),\n",
       "  Coin(parent_coin_info=<bytes32: 09dd51046893b6d9fd6b96a6cc60faedaf43fc82aad9d2ae817a38608bcba3f5>, puzzle_hash=<bytes32: eff07522495060c066f66f32acc2a77e3a3e737aca8baea4d1a64ea4cdc13da9>, amount=1023)]}"
      ]
     },
     "execution_count": 11,
     "metadata": {},
     "output_type": "execute_result"
    }
   ],
   "source": [
    "from chia.types.spend_bundle import SpendBundle\n",
    "\n",
    "spend_bundle = SpendBundle(\n",
    "    [starting_coin_spend, launcher_coin_spend],\n",
    "    signature\n",
    ")\n",
    "result = await network.push_tx(spend_bundle)\n",
    "result"
   ]
  },
  {
   "cell_type": "code",
   "execution_count": 13,
   "id": "be935a8a-d9f5-4932-9f24-13d4d262499d",
   "metadata": {},
   "outputs": [
    {
     "name": "stdout",
     "output_type": "stream",
     "text": [
      "{'amount': 1023,\n",
      " 'parent_coin_info': '0xb5a07c625d08b4dc45d69dcb6291fc9efbfa439432579bbb3dec06f5631d9661',\n",
      " 'puzzle_hash': '0x0c0d126c89fc434fbf5ddbf6ad2afd1c5529a9df4f099608c6cd536d753948b2'}\n"
     ]
    }
   ],
   "source": [
    "eve_singleton_coin_records = await network.sim_client.get_coin_records_by_parent_ids([launcher_id])\n",
    "print(eve_singleton_coin_records[0].coin)"
   ]
  },
  {
   "cell_type": "markdown",
   "id": "24d6b45a-8820-467f-8176-4d1defc8db3d",
   "metadata": {},
   "source": [
    "## Standard Singleton Puzzle\n",
    "Now we have our first singleton coin. Let's revisit the [singleton top layer puzzle](https://chialisp.com/docs/puzzles/singletons#the-singleton-top-layer) again. The singleton top layer puzzle is an outer puzzle that will guarantee that when it's spent, only one legal singleton coin will be created from it. Other than that restriction, the inner puzzle can do whatever they want.\n"
   ]
  },
  {
   "cell_type": "markdown",
   "id": "b981dfce-e8ff-459f-9a65-6c2d51405345",
   "metadata": {},
   "source": [
    "### Singleton Struct\n",
    "\n",
    "`SINGLETON_STRUCT` is a collection of three things:\n",
    "- `SINGLETON_MOD_HASH`\n",
    "- launcher id\n",
    "- `SINGLETON_PUZZLE_HASH`\n",
    "\n",
    "These are helper functions for `SINGLETON_STRUCT`:\n",
    "\n",
    "[singleton_top_layer.clvm](https://github.com/Chia-Network/chia-blockchain/blob/1.3.5/chia/wallet/puzzles/singleton_top_layer.clvm#L37)\n",
    "```clojure\n",
    "  (defun-inline mod_hash_for_singleton_struct (SINGLETON_STRUCT) (f SINGLETON_STRUCT))\n",
    "  (defun-inline launcher_id_for_singleton_struct (SINGLETON_STRUCT) (f (r SINGLETON_STRUCT)))\n",
    "  (defun-inline launcher_puzzle_hash_for_singleton_struct (SINGLETON_STRUCT) (r (r SINGLETON_STRUCT)))\n",
    "```"
   ]
  },
  {
   "cell_type": "code",
   "execution_count": 28,
   "id": "d4c5e745-4bb6-4b77-ab60-2ef61977570c",
   "metadata": {},
   "outputs": [
    {
     "data": {
      "text/plain": [
       "'(0x24e044101e57b3d8c908b8a38ad57848afd29d3eecc439dba45f4412df4954fd 0xb5a07c625d08b4dc45d69dcb6291fc9efbfa439432579bbb3dec06f5631d9661 . 0xeff07522495060c066f66f32acc2a77e3a3e737aca8baea4d1a64ea4cdc13da9)'"
      ]
     },
     "execution_count": 28,
     "metadata": {},
     "output_type": "execute_result"
    }
   ],
   "source": [
    "disassemble(Program.to(singleton_struct))"
   ]
  },
  {
   "cell_type": "code",
   "execution_count": 31,
   "id": "82e07cef-53bc-4ede-b930-a51e4f41bd92",
   "metadata": {},
   "outputs": [
    {
     "name": "stdout",
     "output_type": "stream",
     "text": [
      "0x24e044101e57b3d8c908b8a38ad57848afd29d3eecc439dba45f4412df4954fd\n",
      "0xb5a07c625d08b4dc45d69dcb6291fc9efbfa439432579bbb3dec06f5631d9661\n",
      "0xeff07522495060c066f66f32acc2a77e3a3e737aca8baea4d1a64ea4cdc13da9\n"
     ]
    }
   ],
   "source": [
    "%%bash\n",
    "# mod_hash_for_singleton_struct\n",
    "brun '(f 1)' '(0x24e044101e57b3d8c908b8a38ad57848afd29d3eecc439dba45f4412df4954fd 0xb5a07c625d08b4dc45d69dcb6291fc9efbfa439432579bbb3dec06f5631d9661 . 0xeff07522495060c066f66f32acc2a77e3a3e737aca8baea4d1a64ea4cdc13da9)'\n",
    "# launcher_id_for_singleton_struct\n",
    "brun '(f (r 1))' '(0x24e044101e57b3d8c908b8a38ad57848afd29d3eecc439dba45f4412df4954fd 0xb5a07c625d08b4dc45d69dcb6291fc9efbfa439432579bbb3dec06f5631d9661 . 0xeff07522495060c066f66f32acc2a77e3a3e737aca8baea4d1a64ea4cdc13da9)'\n",
    "# launcher_puzzle_hash_for_singleton_struct\n",
    "brun '(r (r 1))' '(0x24e044101e57b3d8c908b8a38ad57848afd29d3eecc439dba45f4412df4954fd 0xb5a07c625d08b4dc45d69dcb6291fc9efbfa439432579bbb3dec06f5631d9661 . 0xeff07522495060c066f66f32acc2a77e3a3e737aca8baea4d1a64ea4cdc13da9)'"
   ]
  },
  {
   "cell_type": "markdown",
   "id": "4b94f72a-8002-4eb3-8ca4-ad5d49069841",
   "metadata": {},
   "source": [
    "### Lineage Proof\n",
    "> We use this lineage proof to verify that our parent was a singleton. However, in the first spend, the parent is not a singleton and we actually execute a different path where we verify that our parent was a singleton launcher instead.\n",
    "\n",
    "These are helper functions for **lineage proof**:\n",
    "\n",
    "[singleton_truths.clib](https://github.com/Chia-Network/chia-blockchain/blob/1.3.5/chia/wallet/puzzles/singleton_truths.clib#L15)\n",
    "```clojure\n",
    "  (defun-inline parent_info_for_lineage_proof (lineage_proof) (f lineage_proof))\n",
    "  (defun-inline puzzle_hash_for_lineage_proof (lineage_proof) (f (r lineage_proof)))\n",
    "  (defun-inline amount_for_lineage_proof (lineage_proof) (f (r (r lineage_proof))))\n",
    "  (defun-inline is_not_eve_proof (lineage_proof) (r (r lineage_proof)))\n",
    "  (defun-inline parent_info_for_eve_proof (lineage_proof) (f lineage_proof))\n",
    "  (defun-inline amount_for_eve_proof (lineage_proof) (f (r lineage_proof)))\n",
    "```"
   ]
  },
  {
   "cell_type": "code",
   "execution_count": 16,
   "id": "610c22eb-d19d-457c-bf6b-63656692d820",
   "metadata": {},
   "outputs": [
    {
     "name": "stdout",
     "output_type": "stream",
     "text": [
      "{'amount': 1023,\n",
      " 'inner_puzzle_hash': None,\n",
      " 'parent_name': '0x09dd51046893b6d9fd6b96a6cc60faedaf43fc82aad9d2ae817a38608bcba3f5'}\n",
      "(0x09dd51046893b6d9fd6b96a6cc60faedaf43fc82aad9d2ae817a38608bcba3f5 1023)\n"
     ]
    }
   ],
   "source": [
    "eve_proof = singleton_top_layer.lineage_proof_for_coinsol(launcher_coin_spend)\n",
    "print(eve_proof)\n",
    "print(disassemble(eve_proof.to_program()))"
   ]
  },
  {
   "cell_type": "code",
   "execution_count": 22,
   "id": "4f7fba9d-bb40-4c12-95b2-08632805a9d3",
   "metadata": {},
   "outputs": [
    {
     "name": "stdout",
     "output_type": "stream",
     "text": [
      "()\n",
      "0x09dd51046893b6d9fd6b96a6cc60faedaf43fc82aad9d2ae817a38608bcba3f5\n",
      "1023\n"
     ]
    }
   ],
   "source": [
    "%%bash\n",
    "# is_not_eve_proof\n",
    "brun '(r (r 1))' '(0x09dd51046893b6d9fd6b96a6cc60faedaf43fc82aad9d2ae817a38608bcba3f5 1023)'\n",
    "# parent_info_for_eve_proof\n",
    "brun '(f 1)' '(0x09dd51046893b6d9fd6b96a6cc60faedaf43fc82aad9d2ae817a38608bcba3f5 1023)'\n",
    "# amount_for_eve_proof\n",
    "brun '(f (r 1))' '(0x09dd51046893b6d9fd6b96a6cc60faedaf43fc82aad9d2ae817a38608bcba3f5 1023)'"
   ]
  },
  {
   "cell_type": "code",
   "execution_count": 34,
   "id": "44fec8ad-adc4-42de-8f07-3e99d93b04c3",
   "metadata": {},
   "outputs": [
    {
     "name": "stdout",
     "output_type": "stream",
     "text": [
      "0xb5a07c625d08b4dc45d69dcb6291fc9efbfa439432579bbb3dec06f5631d9661\n"
     ]
    }
   ],
   "source": [
    "%%bash\n",
    "# calculate launcher id\n",
    "run '(sha256 0x09dd51046893b6d9fd6b96a6cc60faedaf43fc82aad9d2ae817a38608bcba3f5 0xeff07522495060c066f66f32acc2a77e3a3e737aca8baea4d1a64ea4cdc13da9 1023)'"
   ]
  },
  {
   "cell_type": "code",
   "execution_count": 36,
   "id": "62bce284-385b-421c-92b8-39b23a778fc8",
   "metadata": {},
   "outputs": [
    {
     "name": "stdout",
     "output_type": "stream",
     "text": [
      "(a (q 2 22 (c 2 (c 9 (c 11 (c (a 30 (c 2 (c 5 ()))) ()))))) (c (q ((a . 4) 1 . 1) (a 2 (i 5 (q 2 26 (c 2 (c 13 (c (sha256 18 (sha256 20 24) (sha256 18 (sha256 18 (sha256 20 28) 9) (sha256 18 11 (sha256 20 ())))) ())))) (q . 11)) 1) (sha256 18 (sha256 20 16) (sha256 18 (sha256 18 (sha256 20 28) 5) (sha256 18 (a 26 (c 2 (c 7 (c (sha256 20 20) ())))) (sha256 20 ())))) 2 (i (l 5) (q 11 (q . 2) (a 30 (c 2 (c 9 ()))) (a 30 (c 2 (c 13 ())))) (q 11 (q . 1) 5)) 1) 1))\n"
     ]
    }
   ],
   "source": [
    "%%bash\n",
    "run calculate_full_puzzle_hash.clsp -i ."
   ]
  },
  {
   "cell_type": "code",
   "execution_count": 37,
   "id": "fd155a18-3960-4b84-bbd6-40edf4d0dd64",
   "metadata": {},
   "outputs": [
    {
     "name": "stdout",
     "output_type": "stream",
     "text": [
      "0x0c0d126c89fc434fbf5ddbf6ad2afd1c5529a9df4f099608c6cd536d753948b2\n"
     ]
    }
   ],
   "source": [
    "%%bash\n",
    "# calculate singleton puzzle hash\n",
    "brun '(a (q 2 22 (c 2 (c 9 (c 11 (c (a 30 (c 2 (c 5 ()))) ()))))) (c (q ((a . 4) 1 . 1) (a 2 (i 5 (q 2 26 (c 2 (c 13 (c (sha256 18 (sha256 20 24) (sha256 18 (sha256 18 (sha256 20 28) 9) (sha256 18 11 (sha256 20 ())))) ())))) (q . 11)) 1) (sha256 18 (sha256 20 16) (sha256 18 (sha256 18 (sha256 20 28) 5) (sha256 18 (a 26 (c 2 (c 7 (c (sha256 20 20) ())))) (sha256 20 ())))) 2 (i (l 5) (q 11 (q . 2) (a 30 (c 2 (c 9 ()))) (a 30 (c 2 (c 13 ())))) (q 11 (q . 1) 5)) 1) 1))' '((0x24e044101e57b3d8c908b8a38ad57848afd29d3eecc439dba45f4412df4954fd 0xb5a07c625d08b4dc45d69dcb6291fc9efbfa439432579bbb3dec06f5631d9661 . 0xeff07522495060c066f66f32acc2a77e3a3e737aca8baea4d1a64ea4cdc13da9) 0x206318efd67658a08ae16781f0819a216437a7774d98d2af101f8f8d7a03a02e)'"
   ]
  },
  {
   "cell_type": "markdown",
   "id": "2ff9699d-7d0f-4d6a-aec5-b411ada65cc6",
   "metadata": {},
   "source": [
    "### Singleton Top Layer Diagram\n",
    "\n",
    "This is the very simplified diagram of how [singleton top layer](https://chialisp.com/docs/puzzles/singletons/#the-singleton-top-layer) works.\n",
    "\n",
    "<img src=\"singleton_top_layer.jpg\" alt=\"Boot Strapping Singleton\" width=\"600\"/>\n"
   ]
  },
  {
   "cell_type": "code",
   "execution_count": null,
   "id": "bf63f233-acb3-441e-ba47-cbdf3e58a706",
   "metadata": {},
   "outputs": [],
   "source": []
  }
 ],
 "metadata": {
  "kernelspec": {
   "display_name": "Python 3 (ipykernel)",
   "language": "python",
   "name": "python3"
  },
  "language_info": {
   "codemirror_mode": {
    "name": "ipython",
    "version": 3
   },
   "file_extension": ".py",
   "mimetype": "text/x-python",
   "name": "python",
   "nbconvert_exporter": "python",
   "pygments_lexer": "ipython3",
   "version": "3.8.10"
  }
 },
 "nbformat": 4,
 "nbformat_minor": 5
}
