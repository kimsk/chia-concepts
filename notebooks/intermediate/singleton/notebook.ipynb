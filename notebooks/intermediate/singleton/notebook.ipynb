{
 "cells": [
  {
   "cell_type": "markdown",
   "id": "d858bcc6-f5b1-4e19-8ee8-9ce53b0c176b",
   "metadata": {},
   "source": [
    "# What Is Singleton?\n",
    "\n",
    "> **A singleton is an identity which is embodied by exactly one coin** at any given time, and where it’s possible for coins to validate that they’re interacting with the current representative of that identity. It’s similar to, but simpler than, coloured coins. An NFT is barely more than a raw singleton. Singletons are also the foundation of rate limited wallets, distributed identities, pool protocol, and price oracles. -- [A Vision for DeFi in Chia](https://www.chia.net/2021/07/13/a-vision-for-defi-in-chia.en.html)\n",
    "\n",
    "> **A singleton is a coin that is verifiably unique**. Similar to (but more powerful than) NFTs, a singleton cannot be copied, duplicated, or recreated if it is destroyed. It is a common outer puzzle for things like DIDs, NFTs, or the pooling protocol. -- [The Great Chia Glossary | Singleton](https://chialisp.com/docs/glossary)\n",
    "\n",
    "> **A singleton is a special kind of puzzle that asserts uniqueness**, preventing other coins from being mistaken for it. It can change state over time, each time creating a new puzzle based on the previous. It wraps an `inner puzzle` which can have whatever behavior you desire. These traits combined allow for smart contracts and things like NFTs to be created. -- [What is a singleton?](https://developers.chia.net/t/what-is-a-singleton/87)"
   ]
  },
  {
   "cell_type": "markdown",
   "id": "0769d36c-d465-451e-bbd9-6e1ab818beb7",
   "metadata": {},
   "source": [
    "## Why Do We Need Singleton?\n",
    "> Coins on the network are state, the puzzle is the data contained within them. You can spend them to change their state however you like, by creating new coins. This is what singletons excel at. -- [Can you store state on the network?](https://developers.chia.net/t/can-you-store-state-on-the-network/84)\n",
    "\n",
    "### Coin Id & Puzzle Hash\n",
    "Each coin has a unique [coin_id](../../basic/coins/notebook.ipynb) which derived from `parent_coin_id`, `puzzle_hash`, and its `amount` (in mojos). \n",
    "\n",
    "Once you spend the coin with the existing state, you could get a new unspent coin with the new state (different puzzle hash). However, this means that you have to keep track of a valid `coin_id` or `puzzle_hash`.\n",
    "\n",
    "### Launcher Id\n",
    "In the account model (e.g, Ethereum), you have a unique contract address that you can access and update data. In the coin set model, however, coins are state, so we need to be able to extract state that we are interested from those coins somehow. To update those states, we will need to spend them and create new coins. **A singleton coin provides a unique id called launcher id that can be used as permanent unique address.** The singleton coin is spent and the new singleton coin is created, but the `launcher id` (a unique id) is always the same.\n",
    "\n",
    "## Use Cases\n",
    "\n",
    "### Plot NFT for Pooling\n",
    "The most well-known singleton example is the [plot nft](https://github.com/Chia-Network/chia-blockchain/wiki/Pooling-FAQ#what-is-a-plot-nft), which keeps the pool that the farmer belongs to. Farmer can always switch the pool by spending the singleton plot nfg and provide the new pool information. \n",
    "\n",
    "> The original pool design was having pool keys in plot files, but that means if farmers want to switch pool, they'd have to re-plot!! [Pools in Chia](https://www.chia.net/2020/11/10/pools-in-chia.html)\n",
    "\n",
    "### Others\n",
    "\n",
    "Anything that needs to be unique on the blockchain can also be represented by a singleton.\n",
    "\n",
    "- NFT (Non-Fungible Token) \n",
    "- DIDs (Decentralized Identifiers) : A parent singleton can be treated as DID.\n",
    "\n",
    "## How it works?\n",
    "\n",
    "To ensure that the coin is unique, when a singleton coin is spent, it creates another singleton coin with the same launcher id. This, however, doesn't prevent a singleton coin to create non-singleton coins.\n",
    "\n",
    "### Rules of Singleton\n",
    "- A singleton must have an odd mojo value.\n",
    "- Only one output (i.e., a singleton) coin can have an odd mojo value.\n",
    "- All singletons should have the same format.\n",
    "\n",
    "## Bootstrapping\n",
    "\n",
    "So we have set up the rules for our singleton puzzle. However, how we can create one and only-one singleton coin?\n",
    "\n",
    "> We need to ensure that only one singleton is created with the same ID. This is surprisingly difficult. The crux of the issue is that we have no control over the coin that creates the singleton. \n",
    "\n",
    "> This is technically detectable by crawling up the chain and checking the first non-singleton coin to see if it had multiple singleton children, but this is inefficient and we would like all of our logic to be contained to the puzzles.\n",
    "\n",
    "> Instead, what we can use is a launcher which is a specific puzzle that does exactly one thing: create a single singleton. We then need to curry this launcher puzzle hash into our singleton and have the first singleton assert that it, in fact, came from a parent whose puzzle hash was the launcher puzzle hash. Then, when people look at our singleton, they can see that the launcher puzzle hash is the hash of what they know to be a puzzle that creates only one singleton. They don't need to go back to the original parent and verify because the singleton puzzle takes care of that right from the start!\n",
    "[The Launcher](https://chialisp.com/docs/puzzles/singletons#the-launcher)\n",
    "\n",
    "- A first singleton coin must be created from the coin called **the Launcher** by passing in our `singleton_puzzle_hash` (as a solution).\n",
    "- To make sure that the `singleton_puzzle_hash` is not tampered, we will utilize annoucement.\n",
    "- The standard coin creates the launcher coin and assert the announcement from the same launcher coin that is spent at the same time. The launcher coin is an ephemeral coin.\n"
   ]
  },
  {
   "cell_type": "code",
   "execution_count": null,
   "id": "a809f7d1-f626-4cf3-b428-eb36d57c8421",
   "metadata": {},
   "outputs": [],
   "source": []
  }
 ],
 "metadata": {
  "kernelspec": {
   "display_name": "Python 3 (ipykernel)",
   "language": "python",
   "name": "python3"
  },
  "language_info": {
   "codemirror_mode": {
    "name": "ipython",
    "version": 3
   },
   "file_extension": ".py",
   "mimetype": "text/x-python",
   "name": "python",
   "nbconvert_exporter": "python",
   "pygments_lexer": "ipython3",
   "version": "3.8.10"
  }
 },
 "nbformat": 4,
 "nbformat_minor": 5
}
