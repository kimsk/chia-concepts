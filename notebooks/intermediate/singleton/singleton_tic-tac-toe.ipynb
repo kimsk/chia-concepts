{
 "cells": [
  {
   "cell_type": "code",
   "execution_count": 1,
   "id": "6e613b2b-881d-462a-b572-1347ee729663",
   "metadata": {},
   "outputs": [
    {
     "name": "stdout",
     "output_type": "stream",
     "text": [
      "1.3.5\n",
      "cdv, version 1.0.8\n"
     ]
    }
   ],
   "source": [
    "%%bash\n",
    "chia version\n",
    "cdv --version"
   ]
  },
  {
   "cell_type": "markdown",
   "id": "31bd45da-1a6a-4c6f-a1b9-ff0cf3f7ad0b",
   "metadata": {},
   "source": [
    "# Tic Tac Toe\n",
    "\n",
    "Board:\n",
    "\n",
    "\n",
    "```\n",
    "__|__|__\n",
    "__|__|__\n",
    "  |  |\n",
    "```\n",
    "\n",
    "   \n",
    "```\n",
    "(list\n",
    "    (list 0 0 0)\n",
    "    (list 0 0 0)\n",
    "    (list 0 0 0)\n",
    ")\n",
    "```\n",
    "\n",
    "```\n",
    "(\n",
    "    (0,0 0,1 0,2)\n",
    "    (1,0 1,1 1,2)\n",
    "    (2,0 2,1 2,2)\n",
    ")\n",
    "```\n",
    "\n",
    "```\n",
    "ff   frf   frrf\n",
    "rff  rfrf  rfrrf\n",
    "rrff rrrf  rrrrf\n",
    "\n",
    "```\n"
   ]
  },
  {
   "cell_type": "code",
   "execution_count": 2,
   "id": "02d91ffa-e0d9-4d74-b054-521fdb09de87",
   "metadata": {},
   "outputs": [
    {
     "data": {
      "text/plain": [
       "Program(ffff01ff80ff8080ffff80ff80ff8080ffff80ff80ff808080)"
      ]
     },
     "execution_count": 2,
     "metadata": {},
     "output_type": "execute_result"
    }
   ],
   "source": [
    "from chia.types.blockchain_format.program import Program\n",
    "from clvm_tools.binutils import disassemble\n",
    "\n",
    "board = [\n",
    "    [0, 0, 0], \n",
    "    [0, 0, 0], \n",
    "    [0, 0, 0]\n",
    "]\n",
    "\n",
    "pos = [\"f\", \"rf\", \"rrf\"]\n",
    "\n",
    "b = Program.to(board)\n",
    "        \n",
    "\"\"\"\n",
    "for i in range(3):\n",
    "    for j in range(3):\n",
    "        print(b.at(f'{pos[i]}{pos[j]}').as_int())\n",
    "\"\"\"        \n",
    "board = b.as_python()\n",
    "board[0][0] = 1\n",
    "b = Program.to(board)\n",
    "\n",
    "\"\"\"for i in range(3):\n",
    "    for j in range(3):\n",
    "        print(b.at(f'{pos[i]}{pos[j]}').as_int())\n",
    "\"\"\"\n",
    "b"
   ]
  }
 ],
 "metadata": {
  "kernelspec": {
   "display_name": "Python 3 (ipykernel)",
   "language": "python",
   "name": "python3"
  },
  "language_info": {
   "codemirror_mode": {
    "name": "ipython",
    "version": 3
   },
   "file_extension": ".py",
   "mimetype": "text/x-python",
   "name": "python",
   "nbconvert_exporter": "python",
   "pygments_lexer": "ipython3",
   "version": "3.8.10"
  }
 },
 "nbformat": 4,
 "nbformat_minor": 5
}
