{
 "cells": [
  {
   "cell_type": "code",
   "execution_count": 1,
   "id": "6e613b2b-881d-462a-b572-1347ee729663",
   "metadata": {},
   "outputs": [
    {
     "name": "stdout",
     "output_type": "stream",
     "text": [
      "1.3.5\n",
      "cdv, version 1.0.8\n"
     ]
    }
   ],
   "source": [
    "%%bash\n",
    "chia version\n",
    "cdv --version"
   ]
  },
  {
   "cell_type": "markdown",
   "id": "b9208999-662f-4866-a4fe-9eb8511c95a8",
   "metadata": {},
   "source": [
    "# Tic Tac Toe\n",
    "\n",
    "## Empty Board:\n",
    "> with position number\n",
    "```\n",
    " 0 | 1 | 2\n",
    "---+---+---\n",
    " 3 | 4 | 5 \n",
    "---+---+---\n",
    " 6 | 7 | 8\n",
    "\n",
    "```\n",
    "\n",
    "```python\n",
    "# python\n",
    "board = [0] * 9\n",
    "```\n",
    "\n",
    "```lisp\n",
    "; chialisp\n",
    "(0 0 0\n",
    " 0 0 0\n",
    " 0 0 0)\n",
    "```\n",
    "\n",
    "## Normal Board:\n",
    "```\n",
    " o | x | \n",
    "---+---+---\n",
    " o |   | x \n",
    "---+---+---\n",
    " x |   | o\n",
    "```\n",
    "```python\n",
    "# python\n",
    "board = [\n",
    "    1, 2, 0,\n",
    "    1, 0, 2,\n",
    "    2, 0, 1\n",
    "]\n",
    "    \n",
    "```\n",
    "\n",
    "```lisp\n",
    "; chialisp\n",
    "(1 2 0\n",
    " 1 0 2\n",
    " 2 0 1)\n",
    "```\n",
    "\n",
    "\n",
    "\n",
    "``python\n",
    "# python\n",
    "empty_board = [0] * 9\n",
    "```\n",
    "\n",
    "```lisp\n",
    "; chialisp\n",
    "(0 0 0\n",
    " 0 0 0\n",
    " 0 0 0)\n",
    "```"
   ]
  },
  {
   "cell_type": "code",
   "execution_count": 2,
   "id": "96f01fc3-2514-42df-98bd-c39b3612e551",
   "metadata": {},
   "outputs": [],
   "source": [
    "def print_board(b):\n",
    "    p = lambda v : ' ' if v == 0 else 'x' if v == 1 else 'o'\n",
    "    print(f' {p(b[0])} | {p(b[1])} | {p(b[2])} ')\n",
    "    print('---+---+---')\n",
    "    print(f' {p(b[3])} | {p(b[4])} | {p(b[5])} ')\n",
    "    print('---+---+---')\n",
    "    print(f' {p(b[6])} | {p(b[7])} | {p(b[8])} ')"
   ]
  },
  {
   "cell_type": "code",
   "execution_count": 3,
   "id": "b4f4e038-5458-430c-b588-b5de49d4e4ca",
   "metadata": {},
   "outputs": [
    {
     "name": "stdout",
     "output_type": "stream",
     "text": [
      "   |   |   \n",
      "---+---+---\n",
      "   |   |   \n",
      "---+---+---\n",
      "   |   |   \n"
     ]
    }
   ],
   "source": [
    "print_board([0] * 9)"
   ]
  },
  {
   "cell_type": "code",
   "execution_count": 4,
   "id": "acfb3acb-b39e-4047-83e7-d83570ba917b",
   "metadata": {},
   "outputs": [
    {
     "name": "stdout",
     "output_type": "stream",
     "text": [
      " x | o |   \n",
      "---+---+---\n",
      " x |   | o \n",
      "---+---+---\n",
      " o |   | x \n"
     ]
    }
   ],
   "source": [
    "board = [\n",
    "    1, 2, 0,\n",
    "    1, 0, 2,\n",
    "    2, 0, 1\n",
    "]\n",
    "print_board(board)"
   ]
  },
  {
   "cell_type": "code",
   "execution_count": 5,
   "id": "b1fde5e9-6dcd-4cde-9f39-433fae2fd24f",
   "metadata": {},
   "outputs": [],
   "source": [
    "from pathlib import Path\n",
    "from cdv.util.load_clvm import load_clvm\n",
    "from chia.types.blockchain_format.program import Program\n",
    "from clvm_tools.binutils import disassemble\n",
    "from clvm_tools.clvmc import compile_clvm_text\n",
    "\n",
    "def load_program(file_path, search_paths):\n",
    "    clsp = Path(file_path).read_text()\n",
    "    return Program(\n",
    "        compile_clvm_text(clsp, search_paths)\n",
    "    )\n",
    "\n",
    "tic_tac_toe_puzzle = load_program('tic-tac-toe.clsp', '.')"
   ]
  },
  {
   "cell_type": "code",
   "execution_count": 6,
   "id": "f906cdde-fd38-4714-929f-976f5625dba7",
   "metadata": {},
   "outputs": [],
   "source": [
    "def get_play_result(run_result):\n",
    "    is_winning = bool(run_result.at(\"f\").as_int())\n",
    "    result_board = list(map(lambda b: int.from_bytes(b, \"little\"), run_result.at(\"rf\").as_atom_list()))\n",
    "    return (is_winning, result_board)"
   ]
  },
  {
   "cell_type": "code",
   "execution_count": 7,
   "id": "9f6ee179-f089-4ce4-b983-72ea9475ed11",
   "metadata": {},
   "outputs": [],
   "source": [
    "def play(curried_tic_tac_toe_puzzle, position):\n",
    "    solution = Program.to([position])\n",
    "    run_result = curried_tic_tac_toe_puzzle.run(solution)\n",
    "    return get_play_result(run_result)"
   ]
  },
  {
   "cell_type": "code",
   "execution_count": 8,
   "id": "b8223e16-f447-44eb-9643-372d4efaa7fc",
   "metadata": {},
   "outputs": [],
   "source": [
    "from clvm.casts import int_to_bytes\n",
    "\n",
    "def get_curried_tic_tac_toe_puzzle(board, player):\n",
    "    return tic_tac_toe_puzzle.curry(\n",
    "        Program.to(board), \n",
    "        int_to_bytes(player)\n",
    "    )"
   ]
  },
  {
   "cell_type": "code",
   "execution_count": 9,
   "id": "824310a1-b5c8-47c4-a7a2-2463f7e124b7",
   "metadata": {},
   "outputs": [
    {
     "name": "stdout",
     "output_type": "stream",
     "text": [
      "False\n",
      "   |   |   \n",
      "---+---+---\n",
      "   | x |   \n",
      "---+---+---\n",
      "   |   |   \n"
     ]
    }
   ],
   "source": [
    "# 1st play\n",
    "board = [0] * 9\n",
    "player = 1 # x\n",
    "\n",
    "position = 4\n",
    "puzzle = get_curried_tic_tac_toe_puzzle(board, player)\n",
    "is_winning, board = play(puzzle, position)\n",
    "print(is_winning)\n",
    "print_board(board)"
   ]
  },
  {
   "cell_type": "code",
   "execution_count": 10,
   "id": "3a9ddb89-4d76-4ecd-97e3-e286a32ababb",
   "metadata": {},
   "outputs": [
    {
     "name": "stdout",
     "output_type": "stream",
     "text": [
      "False\n",
      " o |   |   \n",
      "---+---+---\n",
      "   | x |   \n",
      "---+---+---\n",
      "   |   |   \n"
     ]
    }
   ],
   "source": [
    "# 2nd play\n",
    "player = 2 # o\n",
    "\n",
    "position = 0\n",
    "puzzle = get_curried_tic_tac_toe_puzzle(board, player)\n",
    "is_winning, board = play(puzzle, position)\n",
    "print(is_winning)\n",
    "print_board(board)"
   ]
  },
  {
   "cell_type": "code",
   "execution_count": 11,
   "id": "31effe6c-3b0e-481f-837b-b99c814a2a2e",
   "metadata": {},
   "outputs": [
    {
     "name": "stdout",
     "output_type": "stream",
     "text": [
      "False\n",
      " o |   |   \n",
      "---+---+---\n",
      " x | x |   \n",
      "---+---+---\n",
      "   |   |   \n"
     ]
    }
   ],
   "source": [
    "# 3rd play\n",
    "player = 1\n",
    "\n",
    "position = 3\n",
    "puzzle = get_curried_tic_tac_toe_puzzle(board, player)\n",
    "is_winning, board = play(puzzle, position)\n",
    "print(is_winning)\n",
    "print_board(board)"
   ]
  },
  {
   "cell_type": "code",
   "execution_count": 12,
   "id": "494b4615-8899-4138-b2d1-f4e3854eddfc",
   "metadata": {},
   "outputs": [
    {
     "name": "stdout",
     "output_type": "stream",
     "text": [
      "False\n",
      " o | o |   \n",
      "---+---+---\n",
      " x | x |   \n",
      "---+---+---\n",
      "   |   |   \n"
     ]
    }
   ],
   "source": [
    "# 4th play\n",
    "player = 2\n",
    "\n",
    "position = 1\n",
    "puzzle = get_curried_tic_tac_toe_puzzle(board, player)\n",
    "is_winning, board = play(puzzle, position)\n",
    "print(is_winning)\n",
    "print_board(board)"
   ]
  },
  {
   "cell_type": "code",
   "execution_count": 13,
   "id": "ab127012-3faa-4829-ab70-4fb6088fd4cf",
   "metadata": {},
   "outputs": [
    {
     "name": "stdout",
     "output_type": "stream",
     "text": [
      "True\n",
      " o | o |   \n",
      "---+---+---\n",
      " x | x | x \n",
      "---+---+---\n",
      "   |   |   \n"
     ]
    }
   ],
   "source": [
    "# 5th play\n",
    "player = 1\n",
    "\n",
    "position = 5\n",
    "puzzle = get_curried_tic_tac_toe_puzzle(board, player)\n",
    "is_winning, board = play(puzzle, position)\n",
    "print(is_winning)\n",
    "print_board(board)"
   ]
  }
 ],
 "metadata": {
  "kernelspec": {
   "display_name": "Python 3 (ipykernel)",
   "language": "python",
   "name": "python3"
  },
  "language_info": {
   "codemirror_mode": {
    "name": "ipython",
    "version": 3
   },
   "file_extension": ".py",
   "mimetype": "text/x-python",
   "name": "python",
   "nbconvert_exporter": "python",
   "pygments_lexer": "ipython3",
   "version": "3.8.10"
  }
 },
 "nbformat": 4,
 "nbformat_minor": 5
}
