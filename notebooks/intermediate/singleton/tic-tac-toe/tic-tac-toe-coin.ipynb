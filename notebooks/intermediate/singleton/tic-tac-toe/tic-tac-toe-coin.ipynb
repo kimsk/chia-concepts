{
 "cells": [
  {
   "cell_type": "code",
   "execution_count": 1,
   "id": "e871b451-f7e8-4351-bd67-5ce9ee547c30",
   "metadata": {},
   "outputs": [
    {
     "name": "stdout",
     "output_type": "stream",
     "text": [
      "1.4.0\n",
      "cdv, version 1.0.8\n"
     ]
    }
   ],
   "source": [
    "%%bash\n",
    "chia version\n",
    "cdv --version"
   ]
  },
  {
   "cell_type": "markdown",
   "id": "b5cad93e-c70a-4726-9880-f9b938b9e145",
   "metadata": {},
   "source": [
    "# Tic Tac Toe Coin\n",
    "\n",
    "An outer puzzle for an inner [tic-tac-toe puzzle](tic-tac-toe.ipynb). The tic-tac-toe puzzle is the game engine used by the tic-tac-toe coin puzzle to create a new coin with the next state.\n",
    "\n",
    "## Chialisp\n",
    "- [tic-tac-toe-coin.clsp](tic-tac-toe-coin.clsp)\n",
    "- [tic-tac-toe.clsp](tic-tac-toe.clsp)\n",
    "- [tic-tac-toe.clib](tic-tac-toe.clib)\n",
    "- [utils.clib](utils.clip)\n",
    "\n",
    "## Driver Code\n",
    "- [tic_tac_toe.py](tic_tac_toe.py)\n",
    " "
   ]
  },
  {
   "cell_type": "code",
   "execution_count": 2,
   "id": "1d73d9fd-93ac-4d63-a8ab-355d31992b32",
   "metadata": {},
   "outputs": [],
   "source": [
    "from chia.types.blockchain_format.program import Program\n",
    "from cdv.util.load_clvm import load_clvm\n",
    "from clvm_tools.binutils import disassemble\n",
    "from clvm_tools.clvmc import compile_clvm_text\n",
    "\n",
    "from pathlib import Path\n",
    "import sys\n",
    "sys.path.insert(0, \".\")\n",
    "import tic_tac_toe\n",
    "\n",
    "tic_tac_toe_puzzle = tic_tac_toe.load_puzzle()\n",
    "tic_tac_toe_coin_puzzle = tic_tac_toe.load_coin_puzzle()"
   ]
  },
  {
   "cell_type": "code",
   "execution_count": 3,
   "id": "9839a199-9700-4002-9fce-55a3c9bd7b13",
   "metadata": {},
   "outputs": [],
   "source": [
    "player_one_hash = bytes.fromhex(\"cafef00d\")\n",
    "player_two_hash = bytes.fromhex(\"deadbeef\")\n",
    "# empty board\n",
    "board = [0] * 9\n",
    "# player 1 (x)\n",
    "player = 1\n",
    "# prepare the tic-tac-toe inner puzzle\n",
    "curried_tic_tac_toe_puzzle = tic_tac_toe.get_curried_puzzle(tic_tac_toe_puzzle, board, player)\n",
    "curried_tic_tac_toe_coin_puzzle = tic_tac_toe_coin_puzzle.curry(\n",
    "    tic_tac_toe_coin_puzzle,\n",
    "    player_one_hash,\n",
    "    player_two_hash,\n",
    "    curried_tic_tac_toe_puzzle)"
   ]
  },
  {
   "cell_type": "code",
   "execution_count": 4,
   "id": "af78c51f-c507-4c39-94de-ff339f7d76fd",
   "metadata": {},
   "outputs": [
    {
     "name": "stdout",
     "output_type": "stream",
     "text": [
      "[0, 0, 0, 0, 0, 0, 0, 0, 0] 1 4\n",
      "((73 1023) (51 0x1392c11fceb41d23515f19ab8b0ffd8c2216cdc38e8f18017b66089063a3079a 1023))\n",
      "   |   |   \n",
      "---+---+---\n",
      "   | x |   \n",
      "---+---+---\n",
      "   |   |   \n"
     ]
    }
   ],
   "source": [
    "player_one_hash = bytes.fromhex(\"cafef00d\")\n",
    "player_two_hash = bytes.fromhex(\"deadbeef\")\n",
    "# empty board\n",
    "board = [0] * 9\n",
    "# player 1 (x)\n",
    "player = 1\n",
    "# prepare the tic-tac-toe inner puzzle\n",
    "curried_tic_tac_toe_puzzle = tic_tac_toe.get_curried_puzzle(tic_tac_toe_puzzle, board, player)\n",
    "curried_tic_tac_toe_coin_puzzle = tic_tac_toe_coin_puzzle.curry(\n",
    "    tic_tac_toe_coin_puzzle,\n",
    "    player_one_hash,\n",
    "    player_two_hash, \n",
    "    curried_tic_tac_toe_puzzle)\n",
    "\n",
    "# player 1 plays position 4\n",
    "position = 4\n",
    "print(f'{board} {player} {position}')\n",
    "\n",
    "solution = Program.to([1023, position])\n",
    "conditions = curried_tic_tac_toe_coin_puzzle.run(solution)\n",
    "print(disassemble(conditions))\n",
    "coin_puzzle_hash = conditions.at(\"rfrf\")\n",
    "\n",
    "## verify puzzle\n",
    "next_player = 2\n",
    "board_state, board = tic_tac_toe.play(curried_tic_tac_toe_puzzle, position)\n",
    "tic_tac_toe.print_board(board)\n",
    "curried_tic_tac_toe_puzzle = tic_tac_toe.get_curried_puzzle(\n",
    "    tic_tac_toe_puzzle, \n",
    "    board, next_player)\n",
    "curried_tic_tac_toe_coin_puzzle = tic_tac_toe_coin_puzzle.curry(\n",
    "    tic_tac_toe_coin_puzzle,\n",
    "    player_one_hash,\n",
    "    player_two_hash,\n",
    "    curried_tic_tac_toe_puzzle)\n",
    "\n",
    "# new coin puzzle and curried_tic_tac_toe_coin_puzzle have to match\n",
    "assert curried_tic_tac_toe_coin_puzzle.get_tree_hash() == coin_puzzle_hash"
   ]
  },
  {
   "cell_type": "code",
   "execution_count": 5,
   "id": "83ed6ebc-22fc-4cf1-8fcd-661d1eebcbac",
   "metadata": {},
   "outputs": [
    {
     "name": "stdout",
     "output_type": "stream",
     "text": [
      "[0, 0, 0, 0, 1, 0, 0, 0, 0] 2 5\n",
      "((73 1023) (51 0x8bc52b8c51f302f082be521f38e574ceae81a167d7cc62a508bc956d3576fa8b 1023))\n",
      "   |   |   \n",
      "---+---+---\n",
      "   | x | o \n",
      "---+---+---\n",
      "   |   |   \n"
     ]
    }
   ],
   "source": [
    "player, next_player = next_player, player\n",
    "position = 5\n",
    "print(f'{board} {player} {position}')\n",
    "solution = Program.to([1023, position])\n",
    "conditions = curried_tic_tac_toe_coin_puzzle.run(solution)\n",
    "print(disassemble(conditions))\n",
    "coin_puzzle_hash = conditions.at(\"rfrf\")\n",
    "\n",
    "## verify puzzle\n",
    "board_state, board = tic_tac_toe.play(curried_tic_tac_toe_puzzle, position)\n",
    "tic_tac_toe.print_board(board)\n",
    "curried_tic_tac_toe_puzzle = tic_tac_toe.get_curried_puzzle(\n",
    "    tic_tac_toe_puzzle, \n",
    "    board, next_player)\n",
    "curried_tic_tac_toe_coin_puzzle = tic_tac_toe_coin_puzzle.curry(\n",
    "    tic_tac_toe_coin_puzzle,\n",
    "    player_one_hash,\n",
    "    player_two_hash,\n",
    "    curried_tic_tac_toe_puzzle)\n",
    "\n",
    "# new coin puzzle and curried_tic_tac_toe_coin_puzzle have to match\n",
    "assert curried_tic_tac_toe_coin_puzzle.get_tree_hash() == coin_puzzle_hash"
   ]
  },
  {
   "cell_type": "code",
   "execution_count": 6,
   "id": "af56c536-416e-4e0b-8751-135b53cdf3b9",
   "metadata": {},
   "outputs": [
    {
     "name": "stdout",
     "output_type": "stream",
     "text": [
      "[0, 0, 0, 0, 1, 2, 0, 0, 0] 1 1\n",
      "((73 1023) (51 0x6a45a3d94f5f2b51fb4e09a20071fc78a4293487fdd92e26ea4f0154f9fd0e9a 1023))\n",
      "   | x |   \n",
      "---+---+---\n",
      "   | x | o \n",
      "---+---+---\n",
      "   |   |   \n"
     ]
    }
   ],
   "source": [
    "player, next_player = next_player, player\n",
    "position = 1\n",
    "print(f'{board} {player} {position}')\n",
    "solution = Program.to([1023, position])\n",
    "conditions = curried_tic_tac_toe_coin_puzzle.run(solution)\n",
    "print(disassemble(conditions))\n",
    "coin_puzzle_hash = conditions.at(\"rfrf\")\n",
    "\n",
    "## verify puzzle\n",
    "board_state, board = tic_tac_toe.play(curried_tic_tac_toe_puzzle, position)\n",
    "tic_tac_toe.print_board(board)\n",
    "curried_tic_tac_toe_puzzle = tic_tac_toe.get_curried_puzzle(\n",
    "    tic_tac_toe_puzzle, \n",
    "    board, next_player)\n",
    "curried_tic_tac_toe_coin_puzzle = tic_tac_toe_coin_puzzle.curry(\n",
    "    tic_tac_toe_coin_puzzle,\n",
    "    player_one_hash,\n",
    "    player_two_hash, \n",
    "    curried_tic_tac_toe_puzzle)\n",
    "\n",
    "# new coin puzzle and curried_tic_tac_toe_coin_puzzle have to match\n",
    "assert curried_tic_tac_toe_coin_puzzle.get_tree_hash() == coin_puzzle_hash"
   ]
  },
  {
   "cell_type": "code",
   "execution_count": 7,
   "id": "18de46c5-8978-4391-93f1-d05827a11b73",
   "metadata": {},
   "outputs": [
    {
     "name": "stdout",
     "output_type": "stream",
     "text": [
      "[0, 1, 0, 0, 1, 2, 0, 0, 0] 2 3\n",
      "((73 1023) (51 0x3ced6fc0280cdd2d0dd116e113e1d26a05b371c4688e95891ff465b00be14a7f 1023))\n",
      "   | x |   \n",
      "---+---+---\n",
      " o | x | o \n",
      "---+---+---\n",
      "   |   |   \n"
     ]
    }
   ],
   "source": [
    "player, next_player = next_player, player\n",
    "position = 3\n",
    "print(f'{board} {player} {position}')\n",
    "solution = Program.to([1023, position])\n",
    "conditions = curried_tic_tac_toe_coin_puzzle.run(solution)\n",
    "print(disassemble(conditions))\n",
    "coin_puzzle_hash = conditions.at(\"rfrf\")\n",
    "\n",
    "## verify puzzle\n",
    "board_state, board = tic_tac_toe.play(curried_tic_tac_toe_puzzle, position)\n",
    "tic_tac_toe.print_board(board)\n",
    "curried_tic_tac_toe_puzzle = tic_tac_toe.get_curried_puzzle(\n",
    "    tic_tac_toe_puzzle, \n",
    "    board, next_player)\n",
    "curried_tic_tac_toe_coin_puzzle = tic_tac_toe_coin_puzzle.curry(\n",
    "    tic_tac_toe_coin_puzzle,\n",
    "    player_one_hash,\n",
    "    player_two_hash, \n",
    "    curried_tic_tac_toe_puzzle)\n",
    "\n",
    "# new coin puzzle and curried_tic_tac_toe_coin_puzzle have to match\n",
    "assert curried_tic_tac_toe_coin_puzzle.get_tree_hash() == coin_puzzle_hash"
   ]
  },
  {
   "cell_type": "code",
   "execution_count": 8,
   "id": "dd0ec210-fbc4-4dc8-b55f-21c7b773e4d1",
   "metadata": {},
   "outputs": [
    {
     "name": "stdout",
     "output_type": "stream",
     "text": [
      "[0, 1, 0, 2, 1, 2, 0, 0, 0] 1 7\n",
      "((51 0xcafef00d -113) (51 0xcafef00d 1023))\n",
      "1\n",
      "   | x |   \n",
      "---+---+---\n",
      " o | x | o \n",
      "---+---+---\n",
      "   | x |   \n"
     ]
    }
   ],
   "source": [
    "player, next_player = next_player, player\n",
    "position = 7\n",
    "print(f'{board} {player} {position}')\n",
    "solution = Program.to([1023, position, next_player])\n",
    "conditions = curried_tic_tac_toe_coin_puzzle.run(solution)\n",
    "print(disassemble(conditions))\n",
    "\n",
    "board_state, board = tic_tac_toe.play(curried_tic_tac_toe_puzzle, position)\n",
    "print(board_state)\n",
    "tic_tac_toe.print_board(board)"
   ]
  },
  {
   "cell_type": "markdown",
   "id": "e5feb3a3-c7d0-4bed-8343-44cd86c80201",
   "metadata": {},
   "source": [
    "## Simulate Unplayable Board"
   ]
  },
  {
   "cell_type": "code",
   "execution_count": 9,
   "id": "a3ba87b4-0b3d-4d3a-80e1-e2e7474e4bac",
   "metadata": {},
   "outputs": [
    {
     "name": "stdout",
     "output_type": "stream",
     "text": [
      "[0, 0, 0, 0, 0, 0, 0, 0, 0] 1 0\n",
      "((73 1023) (51 0xf5c838112a508cd3d6e13be498fccbc1339386aa5c806c79af8c72c9f5e27849 1023))\n",
      " x |   |   \n",
      "---+---+---\n",
      "   |   |   \n",
      "---+---+---\n",
      "   |   |   \n"
     ]
    }
   ],
   "source": [
    "player_one_hash = bytes.fromhex(\"cafef00d\")\n",
    "player_two_hash = bytes.fromhex(\"deadbeef\")\n",
    "# empty board\n",
    "board = [0] * 9\n",
    "# player 1 (x)\n",
    "player = 1\n",
    "# prepare the tic-tac-toe inner puzzle\n",
    "curried_tic_tac_toe_puzzle, curried_tic_tac_toe_coin_puzzle = tic_tac_toe.get_curried_puzzles(\n",
    "    tic_tac_toe_coin_puzzle,\n",
    "    player_one_hash,\n",
    "    player_two_hash,\n",
    "    tic_tac_toe_puzzle,\n",
    "    board, \n",
    "    player\n",
    ")\n",
    "\n",
    "# player 1 plays position 4\n",
    "position = 0\n",
    "print(f'{board} {player} {position}')\n",
    "\n",
    "next_player = 2\n",
    "solution = Program.to([1023, position])\n",
    "conditions = curried_tic_tac_toe_coin_puzzle.run(solution)\n",
    "print(disassemble(conditions))\n",
    "coin_puzzle_hash = conditions.at(\"rfrf\")\n",
    "\n",
    "## verify puzzle\n",
    "board_state, board = tic_tac_toe.play(curried_tic_tac_toe_puzzle, position)\n",
    "tic_tac_toe.print_board(board)\n",
    "curried_tic_tac_toe_puzzle, curried_tic_tac_toe_coin_puzzle = tic_tac_toe.get_curried_puzzles(\n",
    "    tic_tac_toe_coin_puzzle,\n",
    "    player_one_hash,\n",
    "    player_two_hash,\n",
    "    tic_tac_toe_puzzle,\n",
    "    board, \n",
    "    next_player\n",
    ")\n",
    "\n",
    "# new coin puzzle and curried_tic_tac_toe_coin_puzzle have to match\n",
    "assert curried_tic_tac_toe_coin_puzzle.get_tree_hash() == coin_puzzle_hash"
   ]
  },
  {
   "cell_type": "code",
   "execution_count": 10,
   "id": "60485e23-65c3-4d13-a151-1980628ec62e",
   "metadata": {},
   "outputs": [
    {
     "name": "stdout",
     "output_type": "stream",
     "text": [
      "[1, 0, 0, 0, 0, 0, 0, 0, 0] 2 1\n",
      "((73 1023) (51 0x6f1684b17da4607c9f129ff7457af31b9258d9ce1c7a356675bd14f004229e09 1023))\n",
      " x | o |   \n",
      "---+---+---\n",
      "   |   |   \n",
      "---+---+---\n",
      "   |   |   \n"
     ]
    }
   ],
   "source": [
    "player, next_player = next_player, player\n",
    "position = 1\n",
    "print(f'{board} {player} {position}')\n",
    "solution = Program.to([1023, position])\n",
    "conditions = curried_tic_tac_toe_coin_puzzle.run(solution)\n",
    "print(disassemble(conditions))\n",
    "coin_puzzle_hash = conditions.at(\"rfrf\")\n",
    "\n",
    "## verify puzzle\n",
    "board_state, board = tic_tac_toe.play(curried_tic_tac_toe_puzzle, position)\n",
    "tic_tac_toe.print_board(board)\n",
    "curried_tic_tac_toe_puzzle, curried_tic_tac_toe_coin_puzzle = tic_tac_toe.get_curried_puzzles(\n",
    "    tic_tac_toe_coin_puzzle,\n",
    "    player_one_hash,\n",
    "    player_two_hash,\n",
    "    tic_tac_toe_puzzle,\n",
    "    board, \n",
    "    next_player\n",
    ")\n",
    "\n",
    "# new coin puzzle and curried_tic_tac_toe_coin_puzzle have to match\n",
    "assert curried_tic_tac_toe_coin_puzzle.get_tree_hash() == coin_puzzle_hash"
   ]
  },
  {
   "cell_type": "code",
   "execution_count": 11,
   "id": "77c4a990-1a34-4cdd-9fd4-6d3bf0ca803e",
   "metadata": {},
   "outputs": [
    {
     "name": "stdout",
     "output_type": "stream",
     "text": [
      "[1, 2, 0, 0, 0, 0, 0, 0, 0] 1 2\n",
      "((73 1023) (51 0xa1933578cb433571a433538d7c2f4e7d14020bd629d263383d637939fbff8284 1023))\n",
      " x | o | x \n",
      "---+---+---\n",
      "   |   |   \n",
      "---+---+---\n",
      "   |   |   \n"
     ]
    }
   ],
   "source": [
    "player, next_player = next_player, player\n",
    "position = 2\n",
    "print(f'{board} {player} {position}')\n",
    "solution = Program.to([1023, position])\n",
    "conditions = curried_tic_tac_toe_coin_puzzle.run(solution)\n",
    "print(disassemble(conditions))\n",
    "coin_puzzle_hash = conditions.at(\"rfrf\")\n",
    "\n",
    "## verify puzzle\n",
    "board_state, board = tic_tac_toe.play(curried_tic_tac_toe_puzzle, position)\n",
    "tic_tac_toe.print_board(board)\n",
    "curried_tic_tac_toe_puzzle, curried_tic_tac_toe_coin_puzzle = tic_tac_toe.get_curried_puzzles(\n",
    "    tic_tac_toe_coin_puzzle,\n",
    "    player_one_hash,\n",
    "    player_two_hash,\n",
    "    tic_tac_toe_puzzle,\n",
    "    board, \n",
    "    next_player\n",
    ")\n",
    "\n",
    "# new coin puzzle and curried_tic_tac_toe_coin_puzzle have to match\n",
    "assert curried_tic_tac_toe_coin_puzzle.get_tree_hash() == coin_puzzle_hash"
   ]
  },
  {
   "cell_type": "code",
   "execution_count": 12,
   "id": "8ddd0759-2be0-405d-9b5a-a29bdfe4bfef",
   "metadata": {},
   "outputs": [
    {
     "name": "stdout",
     "output_type": "stream",
     "text": [
      "[1, 2, 1, 0, 0, 0, 0, 0, 0] 2 4\n",
      "((73 1023) (51 0xba82434903cfef6e4d776905edf76256fc27496d261735b5863b8c5ccf6194af 1023))\n",
      " x | o | x \n",
      "---+---+---\n",
      "   | o |   \n",
      "---+---+---\n",
      "   |   |   \n"
     ]
    }
   ],
   "source": [
    "player, next_player = next_player, player\n",
    "position = 4\n",
    "print(f'{board} {player} {position}')\n",
    "solution = Program.to([1023, position])\n",
    "conditions = curried_tic_tac_toe_coin_puzzle.run(solution)\n",
    "print(disassemble(conditions))\n",
    "coin_puzzle_hash = conditions.at(\"rfrf\")\n",
    "\n",
    "## verify puzzle\n",
    "board_state, board = tic_tac_toe.play(curried_tic_tac_toe_puzzle, position)\n",
    "tic_tac_toe.print_board(board)\n",
    "curried_tic_tac_toe_puzzle, curried_tic_tac_toe_coin_puzzle = tic_tac_toe.get_curried_puzzles(\n",
    "    tic_tac_toe_coin_puzzle,\n",
    "    player_one_hash,\n",
    "    player_two_hash,\n",
    "    tic_tac_toe_puzzle,\n",
    "    board, \n",
    "    next_player\n",
    ")\n",
    "\n",
    "# new coin puzzle and curried_tic_tac_toe_coin_puzzle have to match\n",
    "assert curried_tic_tac_toe_coin_puzzle.get_tree_hash() == coin_puzzle_hash"
   ]
  },
  {
   "cell_type": "code",
   "execution_count": 13,
   "id": "d7fa1774-07ea-452b-91e9-d31274287fe7",
   "metadata": {},
   "outputs": [
    {
     "name": "stdout",
     "output_type": "stream",
     "text": [
      "[1, 2, 1, 0, 2, 0, 0, 0, 0] 1 5\n",
      "((73 1023) (51 0x8650dc373a00a54c2e3e54ed52b58de6ae1fe3ed77dda54dfe2fa7dfea04fb7d 1023))\n",
      " x | o | x \n",
      "---+---+---\n",
      "   | o | x \n",
      "---+---+---\n",
      "   |   |   \n"
     ]
    }
   ],
   "source": [
    "player, next_player = next_player, player\n",
    "position = 5\n",
    "print(f'{board} {player} {position}')\n",
    "solution = Program.to([1023, position])\n",
    "conditions = curried_tic_tac_toe_coin_puzzle.run(solution)\n",
    "print(disassemble(conditions))\n",
    "coin_puzzle_hash = conditions.at(\"rfrf\")\n",
    "\n",
    "## verify puzzle\n",
    "board_state, board = tic_tac_toe.play(curried_tic_tac_toe_puzzle, position)\n",
    "tic_tac_toe.print_board(board)\n",
    "curried_tic_tac_toe_puzzle, curried_tic_tac_toe_coin_puzzle = tic_tac_toe.get_curried_puzzles(\n",
    "    tic_tac_toe_coin_puzzle,\n",
    "    player_one_hash,\n",
    "    player_two_hash,\n",
    "    tic_tac_toe_puzzle,\n",
    "    board, \n",
    "    next_player\n",
    ")\n",
    "\n",
    "# new coin puzzle and curried_tic_tac_toe_coin_puzzle have to match\n",
    "assert curried_tic_tac_toe_coin_puzzle.get_tree_hash() == coin_puzzle_hash"
   ]
  },
  {
   "cell_type": "code",
   "execution_count": 14,
   "id": "91a8a54d-5e0d-43ca-85b0-f9a5bb2b574e",
   "metadata": {},
   "outputs": [
    {
     "name": "stdout",
     "output_type": "stream",
     "text": [
      "[1, 2, 1, 0, 2, 1, 0, 0, 0] 2 6\n",
      "((73 1023) (51 0x04b23562e19e3f69016c70499aff1668bf29e7b23248de82352643e2098cdc40 1023))\n",
      " x | o | x \n",
      "---+---+---\n",
      "   | o | x \n",
      "---+---+---\n",
      " o |   |   \n"
     ]
    }
   ],
   "source": [
    "player, next_player = next_player, player\n",
    "position = 6\n",
    "print(f'{board} {player} {position}')\n",
    "solution = Program.to([1023, position])\n",
    "conditions = curried_tic_tac_toe_coin_puzzle.run(solution)\n",
    "print(disassemble(conditions))\n",
    "coin_puzzle_hash = conditions.at(\"rfrf\")\n",
    "\n",
    "## verify puzzle\n",
    "board_state, board = tic_tac_toe.play(curried_tic_tac_toe_puzzle, position)\n",
    "tic_tac_toe.print_board(board)\n",
    "curried_tic_tac_toe_puzzle, curried_tic_tac_toe_coin_puzzle = tic_tac_toe.get_curried_puzzles(\n",
    "    tic_tac_toe_coin_puzzle,\n",
    "    player_one_hash,\n",
    "    player_two_hash,\n",
    "    tic_tac_toe_puzzle,\n",
    "    board, \n",
    "    next_player\n",
    ")\n",
    "\n",
    "# new coin puzzle and curried_tic_tac_toe_coin_puzzle have to match\n",
    "assert curried_tic_tac_toe_coin_puzzle.get_tree_hash() == coin_puzzle_hash"
   ]
  },
  {
   "cell_type": "code",
   "execution_count": 15,
   "id": "5a5cb862-24c1-4a0a-9d2c-86ce2913614d",
   "metadata": {},
   "outputs": [
    {
     "name": "stdout",
     "output_type": "stream",
     "text": [
      "[1, 2, 1, 0, 2, 1, 2, 0, 0] 1 7\n",
      "((73 1023) (51 0x68987227412be7b42b2c5a7a2c4f31c3e0d72eefd4c838b5fea1d19d2c4bfa81 1023))\n",
      " x | o | x \n",
      "---+---+---\n",
      "   | o | x \n",
      "---+---+---\n",
      " o | x |   \n"
     ]
    }
   ],
   "source": [
    "player, next_player = next_player, player\n",
    "position = 7\n",
    "print(f'{board} {player} {position}')\n",
    "solution = Program.to([1023, position])\n",
    "conditions = curried_tic_tac_toe_coin_puzzle.run(solution)\n",
    "print(disassemble(conditions))\n",
    "coin_puzzle_hash = conditions.at(\"rfrf\")\n",
    "\n",
    "## verify puzzle\n",
    "board_state, board = tic_tac_toe.play(curried_tic_tac_toe_puzzle, position)\n",
    "tic_tac_toe.print_board(board)\n",
    "curried_tic_tac_toe_puzzle, curried_tic_tac_toe_coin_puzzle = tic_tac_toe.get_curried_puzzles(\n",
    "    tic_tac_toe_coin_puzzle,\n",
    "    player_one_hash,\n",
    "    player_two_hash,\n",
    "    tic_tac_toe_puzzle,\n",
    "    board, \n",
    "    next_player\n",
    ")\n",
    "\n",
    "# new coin puzzle and curried_tic_tac_toe_coin_puzzle have to match\n",
    "assert curried_tic_tac_toe_coin_puzzle.get_tree_hash() == coin_puzzle_hash"
   ]
  },
  {
   "cell_type": "code",
   "execution_count": 16,
   "id": "1f20076e-c885-4c6b-ac85-53d03cacad4b",
   "metadata": {},
   "outputs": [
    {
     "name": "stdout",
     "output_type": "stream",
     "text": [
      "[1, 2, 1, 0, 2, 1, 2, 1, 0] 2 8\n",
      "((73 1023) (51 0x034bb946b5878d02f8b2e0db19b2d7c42d1cfd7484f1f25e4ce23d0b9a0992f9 1023))\n",
      " x | o | x \n",
      "---+---+---\n",
      "   | o | x \n",
      "---+---+---\n",
      " o | x | o \n"
     ]
    }
   ],
   "source": [
    "player, next_player = next_player, player\n",
    "position = 8\n",
    "print(f'{board} {player} {position}')\n",
    "solution = Program.to([1023, position])\n",
    "conditions = curried_tic_tac_toe_coin_puzzle.run(solution)\n",
    "print(disassemble(conditions))\n",
    "coin_puzzle_hash = conditions.at(\"rfrf\")\n",
    "\n",
    "## verify puzzle\n",
    "board_state, board = tic_tac_toe.play(curried_tic_tac_toe_puzzle, position)\n",
    "tic_tac_toe.print_board(board)\n",
    "curried_tic_tac_toe_puzzle, curried_tic_tac_toe_coin_puzzle = tic_tac_toe.get_curried_puzzles(\n",
    "    tic_tac_toe_coin_puzzle,\n",
    "    player_one_hash,\n",
    "    player_two_hash,\n",
    "    tic_tac_toe_puzzle,\n",
    "    board, \n",
    "    next_player\n",
    ")\n",
    "\n",
    "# new coin puzzle and curried_tic_tac_toe_coin_puzzle have to match\n",
    "assert curried_tic_tac_toe_coin_puzzle.get_tree_hash() == coin_puzzle_hash"
   ]
  },
  {
   "cell_type": "code",
   "execution_count": 17,
   "id": "5db63d18-c110-4054-9a8a-008ff643caf7",
   "metadata": {},
   "outputs": [
    {
     "name": "stdout",
     "output_type": "stream",
     "text": [
      "[1, 2, 1, 0, 2, 1, 2, 1, 2] 1 3\n",
      "((51 0xcafef00d -113) (51 0xcafef00d 511) (51 0xdeadbeef 511))\n"
     ]
    }
   ],
   "source": [
    "player, next_player = next_player, player\n",
    "position = 3\n",
    "print(f'{board} {player} {position}')\n",
    "solution = Program.to([1023, position])\n",
    "conditions = curried_tic_tac_toe_coin_puzzle.run(solution)\n",
    "print(disassemble(conditions))"
   ]
  },
  {
   "cell_type": "markdown",
   "id": "712307b9-de3e-4825-a7d1-0e1343bc6442",
   "metadata": {},
   "source": [
    "## Get Board From Curried Coin Puzzle"
   ]
  },
  {
   "cell_type": "code",
   "execution_count": 18,
   "id": "c0c4d92a-6583-49a4-8662-8b4973d58842",
   "metadata": {},
   "outputs": [],
   "source": [
    "from pathlib import Path\n",
    "import sys\n",
    "sys.path.insert(0, \".\")\n",
    "import tic_tac_toe\n",
    "\n",
    "from clvm_tools.binutils import disassemble\n",
    "board = [0, 1, 1, 0, 2, 0, 2, 0, 0]\n",
    "player_one_hash = bytes.fromhex(\"cafef00d\")\n",
    "player_two_hash = bytes.fromhex(\"deadbeef\")\n",
    "# player 1 (x)\n",
    "player = 1\n",
    "# prepare the tic-tac-toe inner puzzle\n",
    "curried_tic_tac_toe_puzzle = tic_tac_toe.get_curried_puzzle(\n",
    "    tic_tac_toe_puzzle, board, player\n",
    ")\n",
    "curried_tic_tac_toe_coin_puzzle = tic_tac_toe_coin_puzzle.curry(\n",
    "    tic_tac_toe_coin_puzzle,\n",
    "    player_one_hash,\n",
    "    player_two_hash, \n",
    "    curried_tic_tac_toe_puzzle)\n",
    "\n",
    "# print(disassemble(curried_tic_tac_toe_coin_puzzle))"
   ]
  },
  {
   "cell_type": "code",
   "execution_count": 19,
   "id": "8fe222c2-99c8-47f8-9235-abfe0b454b41",
   "metadata": {},
   "outputs": [
    {
     "name": "stdout",
     "output_type": "stream",
     "text": [
      "(() 1 1 () 2 () 2 () ())\n"
     ]
    }
   ],
   "source": [
    "board_from_puzzle = curried_tic_tac_toe_coin_puzzle.at(\"rrfrrfrrfrrfrfrrrfrfr\")\n",
    "print(disassemble(board_from_puzzle))"
   ]
  },
  {
   "cell_type": "code",
   "execution_count": 20,
   "id": "c8d21fda-1bc9-4834-b1fe-48c21f97eb22",
   "metadata": {},
   "outputs": [
    {
     "name": "stdout",
     "output_type": "stream",
     "text": [
      "(() 1 1 () 2 () 2 () ())\n",
      "   | x | x \n",
      "---+---+---\n",
      "   | o |   \n",
      "---+---+---\n",
      " o |   |   \n"
     ]
    }
   ],
   "source": [
    "board_from_puzzle = curried_tic_tac_toe_coin_puzzle.at(\"rrfrrfrrfrrfrfrrrfrfr\")\n",
    "print(disassemble(board_from_puzzle))\n",
    "board_from_puzzle = tic_tac_toe.get_board_from_curried_coin_puzzle(curried_tic_tac_toe_coin_puzzle)\n",
    "tic_tac_toe.print_board(board_from_puzzle)"
   ]
  },
  {
   "cell_type": "code",
   "execution_count": 21,
   "id": "556b9277-b3d6-45fa-b3f7-840d72fde03e",
   "metadata": {},
   "outputs": [
    {
     "name": "stdout",
     "output_type": "stream",
     "text": [
      "(() (a 1 1 () 2 () 2 () ()))\n"
     ]
    }
   ],
   "source": [
    "from clvm.casts import int_to_bytes\n",
    "board_from_puzzle = curried_tic_tac_toe_coin_puzzle.at(\"rrfrrfrrfrrfrfrrrfrfr\")\n",
    "solution = Program.to([board_from_puzzle, int_to_bytes(2), int_to_bytes(0)])\n",
    "result = tic_tac_toe_puzzle.run(solution)\n",
    "print(disassemble(result))"
   ]
  }
 ],
 "metadata": {
  "kernelspec": {
   "display_name": "Python 3 (ipykernel)",
   "language": "python",
   "name": "python3"
  },
  "language_info": {
   "codemirror_mode": {
    "name": "ipython",
    "version": 3
   },
   "file_extension": ".py",
   "mimetype": "text/x-python",
   "name": "python",
   "nbconvert_exporter": "python",
   "pygments_lexer": "ipython3",
   "version": "3.8.10"
  }
 },
 "nbformat": 4,
 "nbformat_minor": 5
}
