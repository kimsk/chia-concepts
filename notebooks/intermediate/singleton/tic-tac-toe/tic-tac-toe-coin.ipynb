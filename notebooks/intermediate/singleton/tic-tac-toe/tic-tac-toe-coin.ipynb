{
 "cells": [
  {
   "cell_type": "code",
   "execution_count": 1,
   "id": "e871b451-f7e8-4351-bd67-5ce9ee547c30",
   "metadata": {},
   "outputs": [
    {
     "name": "stdout",
     "output_type": "stream",
     "text": [
      "1.3.5\n",
      "cdv, version 1.0.8\n"
     ]
    }
   ],
   "source": [
    "%%bash\n",
    "chia version\n",
    "cdv --version"
   ]
  },
  {
   "cell_type": "markdown",
   "id": "b5cad93e-c70a-4726-9880-f9b938b9e145",
   "metadata": {},
   "source": [
    "# Tic Tac Toe Coin\n",
    "\n",
    "An outer puzzle for an inner [tic-tac-toe puzzle](tic-tac-toe.ipynb). The tic-tac-toe puzzle is the game engine used by the tic-tac-toe coin puzzle to create a new coin with the next state.\n",
    "\n",
    "- [tic-tac-toe-coin.clsp](tic-tac-toe-coin.clsp)\n",
    "- [tic-tac-toe.clsp](tic-tac-toe.clsp)\n",
    "- [tic-tac-toe.clib](tic-tac-toe.clib)\n",
    "- [tic_tac_toe.py](tic_tac_toe.py)\n",
    " "
   ]
  },
  {
   "cell_type": "code",
   "execution_count": 2,
   "id": "1d73d9fd-93ac-4d63-a8ab-355d31992b32",
   "metadata": {},
   "outputs": [],
   "source": [
    "from chia.types.blockchain_format.program import Program\n",
    "from cdv.util.load_clvm import load_clvm\n",
    "from clvm_tools.binutils import disassemble\n",
    "from clvm_tools.clvmc import compile_clvm_text\n",
    "\n",
    "from pathlib import Path\n",
    "import sys\n",
    "sys.path.insert(0, \".\")\n",
    "import tic_tac_toe\n",
    "\n",
    "def load_program(file_path, search_paths):\n",
    "    clsp = Path(file_path).read_text()\n",
    "    return Program(\n",
    "        compile_clvm_text(clsp, search_paths)\n",
    "    )\n",
    "\n",
    "tic_tac_toe_puzzle = load_program('tic-tac-toe.clsp', '.')\n",
    "tic_tac_toe_coin_puzzle = load_program('tic-tac-toe-coin.clsp', '.')"
   ]
  },
  {
   "cell_type": "code",
   "execution_count": 3,
   "id": "af78c51f-c507-4c39-94de-ff339f7d76fd",
   "metadata": {},
   "outputs": [
    {
     "name": "stdout",
     "output_type": "stream",
     "text": [
      "[0, 0, 0, 0, 0, 0, 0, 0, 0] 1 4\n",
      "((73 1023) (51 0xd0a502821e0c3686f8642a10ede2fba0e8ec43e9c599a14d4b6785106de69a71 1023))\n",
      "   |   |   \n",
      "---+---+---\n",
      "   | x |   \n",
      "---+---+---\n",
      "   |   |   \n"
     ]
    }
   ],
   "source": [
    "player_one_hash = bytes.fromhex(\"cafef00d\")\n",
    "player_two_hash = bytes.fromhex(\"deadbeef\")\n",
    "# empty board\n",
    "board = [0] * 9\n",
    "# player 1 (x)\n",
    "player = 1\n",
    "# prepare the tic-tac-toe inner puzzle\n",
    "curried_tic_tac_toe_puzzle = tic_tac_toe.get_curried_tic_tac_toe_puzzle(tic_tac_toe_puzzle, board, player)\n",
    "curried_tic_tac_toe_coin_puzzle = tic_tac_toe_coin_puzzle.curry(\n",
    "    tic_tac_toe_coin_puzzle,\n",
    "    player_one_hash,\n",
    "    player_two_hash,\n",
    "    tic_tac_toe_puzzle, \n",
    "    curried_tic_tac_toe_puzzle)\n",
    "\n",
    "# player 1 plays position 4\n",
    "position = 4\n",
    "print(f'{board} {player} {position}')\n",
    "\n",
    "next_player = 2\n",
    "solution = Program.to([1023, position, next_player])\n",
    "conditions = curried_tic_tac_toe_coin_puzzle.run(solution)\n",
    "print(disassemble(conditions))\n",
    "coin_puzzle_hash = conditions.at(\"rfrf\")\n",
    "\n",
    "## Prepare puzzle reveal\n",
    "board_state, board = tic_tac_toe.play(curried_tic_tac_toe_puzzle, position)\n",
    "tic_tac_toe.print_board(board)\n",
    "curried_tic_tac_toe_puzzle = tic_tac_toe.get_curried_tic_tac_toe_puzzle(\n",
    "    tic_tac_toe_puzzle, \n",
    "    board, next_player)\n",
    "curried_tic_tac_toe_coin_puzzle = tic_tac_toe_coin_puzzle.curry(\n",
    "    tic_tac_toe_coin_puzzle,\n",
    "    player_one_hash,\n",
    "    player_two_hash,\n",
    "    tic_tac_toe_puzzle, \n",
    "    curried_tic_tac_toe_puzzle)\n",
    "\n",
    "# new coin puzzle and curried_tic_tac_toe_coin_puzzle have to match\n",
    "assert curried_tic_tac_toe_coin_puzzle.get_tree_hash() == coin_puzzle_hash"
   ]
  },
  {
   "cell_type": "code",
   "execution_count": 4,
   "id": "83ed6ebc-22fc-4cf1-8fcd-661d1eebcbac",
   "metadata": {},
   "outputs": [
    {
     "name": "stdout",
     "output_type": "stream",
     "text": [
      "[0, 0, 0, 0, 1, 0, 0, 0, 0] 2 5\n",
      "((73 1023) (51 0x7585e2aa95f5a4ca402d9da19d68ff64d7b7770e3b8178e9100b329b7f77f80c 1023))\n",
      "   |   |   \n",
      "---+---+---\n",
      "   | x | o \n",
      "---+---+---\n",
      "   |   |   \n"
     ]
    }
   ],
   "source": [
    "player, next_player = next_player, player\n",
    "position = 5\n",
    "print(f'{board} {player} {position}')\n",
    "solution = Program.to([1023, position, next_player])\n",
    "conditions = curried_tic_tac_toe_coin_puzzle.run(solution)\n",
    "print(disassemble(conditions))\n",
    "coin_puzzle_hash = conditions.at(\"rfrf\")\n",
    "\n",
    "## Prepare puzzle reveal\n",
    "board_state, board = tic_tac_toe.play(curried_tic_tac_toe_puzzle, position)\n",
    "tic_tac_toe.print_board(board)\n",
    "curried_tic_tac_toe_puzzle = tic_tac_toe.get_curried_tic_tac_toe_puzzle(\n",
    "    tic_tac_toe_puzzle, \n",
    "    board, next_player)\n",
    "curried_tic_tac_toe_coin_puzzle = tic_tac_toe_coin_puzzle.curry(\n",
    "    tic_tac_toe_coin_puzzle,\n",
    "    player_one_hash,\n",
    "    player_two_hash,\n",
    "    tic_tac_toe_puzzle, \n",
    "    curried_tic_tac_toe_puzzle)\n",
    "\n",
    "# new coin puzzle and curried_tic_tac_toe_coin_puzzle have to match\n",
    "assert curried_tic_tac_toe_coin_puzzle.get_tree_hash() == coin_puzzle_hash"
   ]
  },
  {
   "cell_type": "code",
   "execution_count": 5,
   "id": "af56c536-416e-4e0b-8751-135b53cdf3b9",
   "metadata": {},
   "outputs": [
    {
     "name": "stdout",
     "output_type": "stream",
     "text": [
      "[0, 0, 0, 0, 1, 2, 0, 0, 0] 1 1\n",
      "((73 1023) (51 0x6ae935c59bf9118e787e3f314f0b08af7e5129547dfe58d1650bb14a80c11e54 1023))\n",
      "   | x |   \n",
      "---+---+---\n",
      "   | x | o \n",
      "---+---+---\n",
      "   |   |   \n"
     ]
    }
   ],
   "source": [
    "player, next_player = next_player, player\n",
    "position = 1\n",
    "print(f'{board} {player} {position}')\n",
    "solution = Program.to([1023, position, next_player])\n",
    "conditions = curried_tic_tac_toe_coin_puzzle.run(solution)\n",
    "print(disassemble(conditions))\n",
    "coin_puzzle_hash = conditions.at(\"rfrf\")\n",
    "\n",
    "## Prepare puzzle reveal\n",
    "board_state, board = tic_tac_toe.play(curried_tic_tac_toe_puzzle, position)\n",
    "tic_tac_toe.print_board(board)\n",
    "curried_tic_tac_toe_puzzle = tic_tac_toe.get_curried_tic_tac_toe_puzzle(\n",
    "    tic_tac_toe_puzzle, \n",
    "    board, next_player)\n",
    "curried_tic_tac_toe_coin_puzzle = tic_tac_toe_coin_puzzle.curry(\n",
    "    tic_tac_toe_coin_puzzle,\n",
    "    player_one_hash,\n",
    "    player_two_hash,\n",
    "    tic_tac_toe_puzzle, \n",
    "    curried_tic_tac_toe_puzzle)\n",
    "\n",
    "# new coin puzzle and curried_tic_tac_toe_coin_puzzle have to match\n",
    "assert curried_tic_tac_toe_coin_puzzle.get_tree_hash() == coin_puzzle_hash"
   ]
  },
  {
   "cell_type": "code",
   "execution_count": 6,
   "id": "18de46c5-8978-4391-93f1-d05827a11b73",
   "metadata": {},
   "outputs": [
    {
     "name": "stdout",
     "output_type": "stream",
     "text": [
      "[0, 1, 0, 0, 1, 2, 0, 0, 0] 2 3\n",
      "((73 1023) (51 0x11a9b704028a2f7c1bca4201fa65ef23cee9a4654242a270655bd5a73154db96 1023))\n",
      "   | x |   \n",
      "---+---+---\n",
      " o | x | o \n",
      "---+---+---\n",
      "   |   |   \n"
     ]
    }
   ],
   "source": [
    "player, next_player = next_player, player\n",
    "position = 3\n",
    "print(f'{board} {player} {position}')\n",
    "solution = Program.to([1023, position, next_player])\n",
    "conditions = curried_tic_tac_toe_coin_puzzle.run(solution)\n",
    "print(disassemble(conditions))\n",
    "coin_puzzle_hash = conditions.at(\"rfrf\")\n",
    "\n",
    "## Prepare puzzle reveal\n",
    "board_state, board = tic_tac_toe.play(curried_tic_tac_toe_puzzle, position)\n",
    "tic_tac_toe.print_board(board)\n",
    "curried_tic_tac_toe_puzzle = tic_tac_toe.get_curried_tic_tac_toe_puzzle(\n",
    "    tic_tac_toe_puzzle, \n",
    "    board, next_player)\n",
    "curried_tic_tac_toe_coin_puzzle = tic_tac_toe_coin_puzzle.curry(\n",
    "    tic_tac_toe_coin_puzzle,\n",
    "    player_one_hash,\n",
    "    player_two_hash,\n",
    "    tic_tac_toe_puzzle, \n",
    "    curried_tic_tac_toe_puzzle)\n",
    "\n",
    "# new coin puzzle and curried_tic_tac_toe_coin_puzzle have to match\n",
    "assert curried_tic_tac_toe_coin_puzzle.get_tree_hash() == coin_puzzle_hash"
   ]
  },
  {
   "cell_type": "code",
   "execution_count": 7,
   "id": "dd0ec210-fbc4-4dc8-b55f-21c7b773e4d1",
   "metadata": {},
   "outputs": [
    {
     "name": "stdout",
     "output_type": "stream",
     "text": [
      "[0, 1, 0, 2, 1, 2, 0, 0, 0] 1 7\n",
      "((51 0x900ddeed -113) (51 0xcafef00d 1023))\n",
      "1\n",
      "   | x |   \n",
      "---+---+---\n",
      " o | x | o \n",
      "---+---+---\n",
      "   | x |   \n"
     ]
    }
   ],
   "source": [
    "player, next_player = next_player, player\n",
    "position = 7\n",
    "print(f'{board} {player} {position}')\n",
    "solution = Program.to([1023, position, next_player])\n",
    "conditions = curried_tic_tac_toe_coin_puzzle.run(solution)\n",
    "print(disassemble(conditions))\n",
    "\n",
    "## Prepare puzzle reveal\n",
    "board_state, board = tic_tac_toe.play(curried_tic_tac_toe_puzzle, position)\n",
    "print(board_state)\n",
    "tic_tac_toe.print_board(board)"
   ]
  },
  {
   "cell_type": "markdown",
   "id": "e5feb3a3-c7d0-4bed-8343-44cd86c80201",
   "metadata": {},
   "source": [
    "## Simulate Unplayable Board"
   ]
  },
  {
   "cell_type": "code",
   "execution_count": 8,
   "id": "a3ba87b4-0b3d-4d3a-80e1-e2e7474e4bac",
   "metadata": {},
   "outputs": [
    {
     "name": "stdout",
     "output_type": "stream",
     "text": [
      "[0, 0, 0, 0, 0, 0, 0, 0, 0] 1 0\n",
      "((73 1023) (51 0xdd00b9336d42f2a227f861aa34ad747404e3e16757a59c12743ac3a79fb3330c 1023))\n",
      " x |   |   \n",
      "---+---+---\n",
      "   |   |   \n",
      "---+---+---\n",
      "   |   |   \n"
     ]
    }
   ],
   "source": [
    "player_one_hash = bytes.fromhex(\"cafef00d\")\n",
    "player_two_hash = bytes.fromhex(\"deadbeef\")\n",
    "# empty board\n",
    "board = [0] * 9\n",
    "# player 1 (x)\n",
    "player = 1\n",
    "# prepare the tic-tac-toe inner puzzle\n",
    "curried_tic_tac_toe_puzzle, curried_tic_tac_toe_coin_puzzle = tic_tac_toe.get_curried_tic_tac_toe_puzzles(\n",
    "    tic_tac_toe_coin_puzzle,\n",
    "    player_one_hash,\n",
    "    player_two_hash,\n",
    "    tic_tac_toe_puzzle,\n",
    "    board, \n",
    "    player\n",
    ")\n",
    "\n",
    "# player 1 plays position 4\n",
    "position = 0\n",
    "print(f'{board} {player} {position}')\n",
    "\n",
    "next_player = 2\n",
    "solution = Program.to([1023, position, next_player])\n",
    "conditions = curried_tic_tac_toe_coin_puzzle.run(solution)\n",
    "print(disassemble(conditions))\n",
    "coin_puzzle_hash = conditions.at(\"rfrf\")\n",
    "\n",
    "## Prepare puzzle reveal\n",
    "board_state, board = tic_tac_toe.play(curried_tic_tac_toe_puzzle, position)\n",
    "tic_tac_toe.print_board(board)\n",
    "curried_tic_tac_toe_puzzle, curried_tic_tac_toe_coin_puzzle = tic_tac_toe.get_curried_tic_tac_toe_puzzles(\n",
    "    tic_tac_toe_coin_puzzle,\n",
    "    player_one_hash,\n",
    "    player_two_hash,\n",
    "    tic_tac_toe_puzzle,\n",
    "    board, \n",
    "    next_player\n",
    ")\n",
    "\n",
    "# new coin puzzle and curried_tic_tac_toe_coin_puzzle have to match\n",
    "assert curried_tic_tac_toe_coin_puzzle.get_tree_hash() == coin_puzzle_hash"
   ]
  },
  {
   "cell_type": "code",
   "execution_count": 9,
   "id": "60485e23-65c3-4d13-a151-1980628ec62e",
   "metadata": {},
   "outputs": [
    {
     "name": "stdout",
     "output_type": "stream",
     "text": [
      "[1, 0, 0, 0, 0, 0, 0, 0, 0] 2 1\n",
      "((73 1023) (51 0xa4ef7f72d61a688441e80294908b02dceb0060999a391e1589ee64e0fec1831b 1023))\n",
      " x | o |   \n",
      "---+---+---\n",
      "   |   |   \n",
      "---+---+---\n",
      "   |   |   \n"
     ]
    }
   ],
   "source": [
    "player, next_player = next_player, player\n",
    "position = 1\n",
    "print(f'{board} {player} {position}')\n",
    "solution = Program.to([1023, position, next_player])\n",
    "conditions = curried_tic_tac_toe_coin_puzzle.run(solution)\n",
    "print(disassemble(conditions))\n",
    "coin_puzzle_hash = conditions.at(\"rfrf\")\n",
    "\n",
    "## Prepare puzzle reveal\n",
    "board_state, board = tic_tac_toe.play(curried_tic_tac_toe_puzzle, position)\n",
    "tic_tac_toe.print_board(board)\n",
    "curried_tic_tac_toe_puzzle, curried_tic_tac_toe_coin_puzzle = tic_tac_toe.get_curried_tic_tac_toe_puzzles(\n",
    "    tic_tac_toe_coin_puzzle,\n",
    "    player_one_hash,\n",
    "    player_two_hash,\n",
    "    tic_tac_toe_puzzle,\n",
    "    board, \n",
    "    next_player\n",
    ")\n",
    "\n",
    "# new coin puzzle and curried_tic_tac_toe_coin_puzzle have to match\n",
    "assert curried_tic_tac_toe_coin_puzzle.get_tree_hash() == coin_puzzle_hash"
   ]
  },
  {
   "cell_type": "code",
   "execution_count": 10,
   "id": "77c4a990-1a34-4cdd-9fd4-6d3bf0ca803e",
   "metadata": {},
   "outputs": [
    {
     "name": "stdout",
     "output_type": "stream",
     "text": [
      "[1, 2, 0, 0, 0, 0, 0, 0, 0] 1 2\n",
      "((73 1023) (51 0xd81614bf56076edb88c30abc074447c1880163828346781538f3db525c25a31a 1023))\n",
      " x | o | x \n",
      "---+---+---\n",
      "   |   |   \n",
      "---+---+---\n",
      "   |   |   \n"
     ]
    }
   ],
   "source": [
    "player, next_player = next_player, player\n",
    "position = 2\n",
    "print(f'{board} {player} {position}')\n",
    "solution = Program.to([1023, position, next_player])\n",
    "conditions = curried_tic_tac_toe_coin_puzzle.run(solution)\n",
    "print(disassemble(conditions))\n",
    "coin_puzzle_hash = conditions.at(\"rfrf\")\n",
    "\n",
    "## Prepare puzzle reveal\n",
    "board_state, board = tic_tac_toe.play(curried_tic_tac_toe_puzzle, position)\n",
    "tic_tac_toe.print_board(board)\n",
    "curried_tic_tac_toe_puzzle, curried_tic_tac_toe_coin_puzzle = tic_tac_toe.get_curried_tic_tac_toe_puzzles(\n",
    "    tic_tac_toe_coin_puzzle,\n",
    "    player_one_hash,\n",
    "    player_two_hash,\n",
    "    tic_tac_toe_puzzle,\n",
    "    board, \n",
    "    next_player\n",
    ")\n",
    "\n",
    "# new coin puzzle and curried_tic_tac_toe_coin_puzzle have to match\n",
    "assert curried_tic_tac_toe_coin_puzzle.get_tree_hash() == coin_puzzle_hash"
   ]
  },
  {
   "cell_type": "code",
   "execution_count": 11,
   "id": "8ddd0759-2be0-405d-9b5a-a29bdfe4bfef",
   "metadata": {},
   "outputs": [
    {
     "name": "stdout",
     "output_type": "stream",
     "text": [
      "[1, 2, 1, 0, 0, 0, 0, 0, 0] 2 3\n",
      "((73 1023) (51 0x833005ffcab628dcce9fd4ee2d5f2b36a473201f25c187d369ab4d1256e9a4ba 1023))\n",
      " x | o | x \n",
      "---+---+---\n",
      " o |   |   \n",
      "---+---+---\n",
      "   |   |   \n"
     ]
    }
   ],
   "source": [
    "player, next_player = next_player, player\n",
    "position = 3\n",
    "print(f'{board} {player} {position}')\n",
    "solution = Program.to([1023, position, next_player])\n",
    "conditions = curried_tic_tac_toe_coin_puzzle.run(solution)\n",
    "print(disassemble(conditions))\n",
    "coin_puzzle_hash = conditions.at(\"rfrf\")\n",
    "\n",
    "## Prepare puzzle reveal\n",
    "board_state, board = tic_tac_toe.play(curried_tic_tac_toe_puzzle, position)\n",
    "tic_tac_toe.print_board(board)\n",
    "curried_tic_tac_toe_puzzle, curried_tic_tac_toe_coin_puzzle = tic_tac_toe.get_curried_tic_tac_toe_puzzles(\n",
    "    tic_tac_toe_coin_puzzle,\n",
    "    player_one_hash,\n",
    "    player_two_hash,\n",
    "    tic_tac_toe_puzzle,\n",
    "    board, \n",
    "    next_player\n",
    ")\n",
    "\n",
    "# new coin puzzle and curried_tic_tac_toe_coin_puzzle have to match\n",
    "assert curried_tic_tac_toe_coin_puzzle.get_tree_hash() == coin_puzzle_hash"
   ]
  },
  {
   "cell_type": "code",
   "execution_count": 12,
   "id": "d7fa1774-07ea-452b-91e9-d31274287fe7",
   "metadata": {},
   "outputs": [
    {
     "name": "stdout",
     "output_type": "stream",
     "text": [
      "[1, 2, 1, 2, 0, 0, 0, 0, 0] 1 4\n",
      "((73 1023) (51 0x5c85990173e1b6ad165eb0b81a0e769e9d3dffaa78cceca7397203a115726f83 1023))\n",
      " x | o | x \n",
      "---+---+---\n",
      " o | x |   \n",
      "---+---+---\n",
      "   |   |   \n"
     ]
    }
   ],
   "source": [
    "player, next_player = next_player, player\n",
    "position = 4\n",
    "print(f'{board} {player} {position}')\n",
    "solution = Program.to([1023, position, next_player])\n",
    "conditions = curried_tic_tac_toe_coin_puzzle.run(solution)\n",
    "print(disassemble(conditions))\n",
    "coin_puzzle_hash = conditions.at(\"rfrf\")\n",
    "\n",
    "## Prepare puzzle reveal\n",
    "board_state, board = tic_tac_toe.play(curried_tic_tac_toe_puzzle, position)\n",
    "tic_tac_toe.print_board(board)\n",
    "curried_tic_tac_toe_puzzle, curried_tic_tac_toe_coin_puzzle = tic_tac_toe.get_curried_tic_tac_toe_puzzles(\n",
    "    tic_tac_toe_coin_puzzle,\n",
    "    player_one_hash,\n",
    "    player_two_hash,\n",
    "    tic_tac_toe_puzzle,\n",
    "    board, \n",
    "    next_player\n",
    ")\n",
    "\n",
    "# new coin puzzle and curried_tic_tac_toe_coin_puzzle have to match\n",
    "assert curried_tic_tac_toe_coin_puzzle.get_tree_hash() == coin_puzzle_hash"
   ]
  },
  {
   "cell_type": "code",
   "execution_count": 13,
   "id": "91a8a54d-5e0d-43ca-85b0-f9a5bb2b574e",
   "metadata": {},
   "outputs": [
    {
     "name": "stdout",
     "output_type": "stream",
     "text": [
      "[1, 2, 1, 2, 1, 0, 0, 0, 0] 2 5\n",
      "((73 1023) (51 0x43291a5c869ce206c716fc533026fafc5300ea6daa06efb480cf48a07e7e73d5 1023))\n",
      " x | o | x \n",
      "---+---+---\n",
      " o | x | o \n",
      "---+---+---\n",
      "   |   |   \n"
     ]
    }
   ],
   "source": [
    "player, next_player = next_player, player\n",
    "position = 5\n",
    "print(f'{board} {player} {position}')\n",
    "solution = Program.to([1023, position, next_player])\n",
    "conditions = curried_tic_tac_toe_coin_puzzle.run(solution)\n",
    "print(disassemble(conditions))\n",
    "coin_puzzle_hash = conditions.at(\"rfrf\")\n",
    "\n",
    "## Prepare puzzle reveal\n",
    "board_state, board = tic_tac_toe.play(curried_tic_tac_toe_puzzle, position)\n",
    "tic_tac_toe.print_board(board)\n",
    "curried_tic_tac_toe_puzzle, curried_tic_tac_toe_coin_puzzle = tic_tac_toe.get_curried_tic_tac_toe_puzzles(\n",
    "    tic_tac_toe_coin_puzzle,\n",
    "    player_one_hash,\n",
    "    player_two_hash,\n",
    "    tic_tac_toe_puzzle,\n",
    "    board, \n",
    "    next_player\n",
    ")\n",
    "\n",
    "# new coin puzzle and curried_tic_tac_toe_coin_puzzle have to match\n",
    "assert curried_tic_tac_toe_coin_puzzle.get_tree_hash() == coin_puzzle_hash"
   ]
  },
  {
   "cell_type": "code",
   "execution_count": 14,
   "id": "5a5cb862-24c1-4a0a-9d2c-86ce2913614d",
   "metadata": {},
   "outputs": [
    {
     "name": "stdout",
     "output_type": "stream",
     "text": [
      "[1, 2, 1, 2, 1, 2, 0, 0, 0] 1 7\n",
      "((73 1023) (51 0x4dd248b6fd2213616d945605285567a4bda92d7d222717a66451d805290b99fd 1023))\n",
      " x | o | x \n",
      "---+---+---\n",
      " o | x | o \n",
      "---+---+---\n",
      "   | x |   \n"
     ]
    }
   ],
   "source": [
    "player, next_player = next_player, player\n",
    "position = 7\n",
    "print(f'{board} {player} {position}')\n",
    "solution = Program.to([1023, position, next_player])\n",
    "conditions = curried_tic_tac_toe_coin_puzzle.run(solution)\n",
    "print(disassemble(conditions))\n",
    "coin_puzzle_hash = conditions.at(\"rfrf\")\n",
    "\n",
    "## Prepare puzzle reveal\n",
    "board_state, board = tic_tac_toe.play(curried_tic_tac_toe_puzzle, position)\n",
    "tic_tac_toe.print_board(board)\n",
    "curried_tic_tac_toe_puzzle, curried_tic_tac_toe_coin_puzzle = tic_tac_toe.get_curried_tic_tac_toe_puzzles(\n",
    "    tic_tac_toe_coin_puzzle,\n",
    "    player_one_hash,\n",
    "    player_two_hash,\n",
    "    tic_tac_toe_puzzle,\n",
    "    board, \n",
    "    next_player\n",
    ")\n",
    "\n",
    "# new coin puzzle and curried_tic_tac_toe_coin_puzzle have to match\n",
    "assert curried_tic_tac_toe_coin_puzzle.get_tree_hash() == coin_puzzle_hash"
   ]
  },
  {
   "cell_type": "code",
   "execution_count": 15,
   "id": "1f20076e-c885-4c6b-ac85-53d03cacad4b",
   "metadata": {},
   "outputs": [
    {
     "name": "stdout",
     "output_type": "stream",
     "text": [
      "[1, 2, 1, 2, 1, 2, 0, 1, 0] 2 6\n",
      "((73 1023) (51 0x038a4f60cd45f4f6580c088b975632e5d81d27b8ed9a40da2435c174731bc45d 1023))\n",
      " x | o | x \n",
      "---+---+---\n",
      " o | x | o \n",
      "---+---+---\n",
      " o | x |   \n"
     ]
    }
   ],
   "source": [
    "player, next_player = next_player, player\n",
    "position = 6\n",
    "print(f'{board} {player} {position}')\n",
    "solution = Program.to([1023, position, next_player])\n",
    "conditions = curried_tic_tac_toe_coin_puzzle.run(solution)\n",
    "print(disassemble(conditions))\n",
    "coin_puzzle_hash = conditions.at(\"rfrf\")\n",
    "\n",
    "## Prepare puzzle reveal\n",
    "board_state, board = tic_tac_toe.play(curried_tic_tac_toe_puzzle, position)\n",
    "tic_tac_toe.print_board(board)\n",
    "curried_tic_tac_toe_puzzle, curried_tic_tac_toe_coin_puzzle = tic_tac_toe.get_curried_tic_tac_toe_puzzles(\n",
    "    tic_tac_toe_coin_puzzle,\n",
    "    player_one_hash,\n",
    "    player_two_hash,\n",
    "    tic_tac_toe_puzzle,\n",
    "    board, \n",
    "    next_player\n",
    ")\n",
    "\n",
    "# new coin puzzle and curried_tic_tac_toe_coin_puzzle have to match\n",
    "assert curried_tic_tac_toe_coin_puzzle.get_tree_hash() == coin_puzzle_hash"
   ]
  },
  {
   "cell_type": "code",
   "execution_count": 16,
   "id": "5db63d18-c110-4054-9a8a-008ff643caf7",
   "metadata": {},
   "outputs": [
    {
     "name": "stdout",
     "output_type": "stream",
     "text": [
      "[1, 2, 1, 2, 1, 2, 2, 1, 0] 1 8\n",
      "((51 0x900ddeed -113))\n"
     ]
    }
   ],
   "source": [
    "player, next_player = next_player, player\n",
    "position = 8\n",
    "print(f'{board} {player} {position}')\n",
    "solution = Program.to([1023, position, next_player])\n",
    "conditions = curried_tic_tac_toe_coin_puzzle.run(solution)\n",
    "print(disassemble(conditions))"
   ]
  }
 ],
 "metadata": {
  "kernelspec": {
   "display_name": "Python 3 (ipykernel)",
   "language": "python",
   "name": "python3"
  },
  "language_info": {
   "codemirror_mode": {
    "name": "ipython",
    "version": 3
   },
   "file_extension": ".py",
   "mimetype": "text/x-python",
   "name": "python",
   "nbconvert_exporter": "python",
   "pygments_lexer": "ipython3",
   "version": "3.8.10"
  }
 },
 "nbformat": 4,
 "nbformat_minor": 5
}
