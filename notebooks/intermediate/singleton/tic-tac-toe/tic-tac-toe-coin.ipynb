{
 "cells": [
  {
   "cell_type": "code",
   "execution_count": 1,
   "id": "e871b451-f7e8-4351-bd67-5ce9ee547c30",
   "metadata": {},
   "outputs": [
    {
     "name": "stdout",
     "output_type": "stream",
     "text": [
      "1.3.5\n",
      "cdv, version 1.0.8\n"
     ]
    }
   ],
   "source": [
    "%%bash\n",
    "chia version\n",
    "cdv --version"
   ]
  },
  {
   "cell_type": "markdown",
   "id": "b5cad93e-c70a-4726-9880-f9b938b9e145",
   "metadata": {},
   "source": [
    "# Tic Tac Toe Coin\n",
    "\n",
    "[tic-tac-toe puzzle](tic-tac-toe-ipynb) is an inner puzzle.\n",
    "\n",
    "[p2_delegated_puzzle_or_hidden_puzzle.py](https://github.com/Chia-Network/chia-blockchain/blob/main/chia/wallet/puzzles/p2_delegated_puzzle_or_hidden_puzzle.py)"
   ]
  },
  {
   "cell_type": "code",
   "execution_count": 1,
   "id": "1d73d9fd-93ac-4d63-a8ab-355d31992b32",
   "metadata": {},
   "outputs": [],
   "source": [
    "from chia.types.blockchain_format.program import Program\n",
    "from cdv.util.load_clvm import load_clvm\n",
    "from clvm_tools.binutils import disassemble\n",
    "from clvm_tools.clvmc import compile_clvm_text\n",
    "\n",
    "from pathlib import Path\n",
    "import sys\n",
    "sys.path.insert(0, \".\")\n",
    "import tic_tac_toe\n",
    "\n",
    "def load_program(file_path, search_paths):\n",
    "    clsp = Path(file_path).read_text()\n",
    "    return Program(\n",
    "        compile_clvm_text(clsp, search_paths)\n",
    "    )\n",
    "\n",
    "tic_tac_toe_puzzle = load_program('tic-tac-toe.clsp', '.')\n",
    "tic_tac_toe_coin_puzzle = load_program('tic-tac-toe-coin.clsp', '.')"
   ]
  },
  {
   "cell_type": "code",
   "execution_count": 3,
   "id": "1ddfb3f3-bc97-4599-aae1-fc3a0cfe688f",
   "metadata": {},
   "outputs": [
    {
     "name": "stdout",
     "output_type": "stream",
     "text": [
      "alice: 2000000000000\n"
     ]
    }
   ],
   "source": [
    "from chia.wallet.puzzles import (singleton_top_layer, p2_delegated_puzzle_or_hidden_puzzle)\n",
    "\n",
    "from cdv.test import Network, Wallet\n",
    "\n",
    "network: Network = await Network.create()\n",
    "\n",
    "await network.farm_block()\n",
    "\n",
    "alice: Wallet = network.make_wallet(\"alice\")\n",
    "await network.farm_block(farmer=alice) # alice has 2000_000_000_000 mojos\n",
    "\n",
    "print(f'alice: {alice.balance()}')\n",
    "standard_txn_coin_wrapper = await alice.choose_coin(1_750_000_000_000)\n",
    "standard_txn_coin = standard_txn_coin_wrapper.as_coin()\n",
    "standard_txn_puzzle = p2_delegated_puzzle_or_hidden_puzzle.puzzle_for_pk(alice.pk())"
   ]
  },
  {
   "cell_type": "code",
   "execution_count": 2,
   "id": "1f3a6612-c3b4-4bee-9359-b254706dd29a",
   "metadata": {},
   "outputs": [
    {
     "name": "stdout",
     "output_type": "stream",
     "text": [
      "[0, 0, 0, 0, 0, 0, 0, 0, 0] 1\n",
      "15089968ec663f2f696effa21bc1b9d62045eb47ee4d5c9cb4a7fa7b2d901a7f\n",
      "6f7a531db1e96dae108ded928f593a693e9723c42721d67fdc3ce7d80e08c661\n",
      "(a (q 2 (q 2 4 (c 2 (c 5 (c (c 5 (c 11 (c (a 4 (c 2 (c 11 (c (c (f (r (a 23 (c 47 ())))) (c 95 ())) ())))) ()))) ())))) (c (q (c (q . 2) (c (c (q . 1) 5) (c (a 6 (c 2 (c 11 (q 1)))) ()))) 2 (i 5 (q 4 (q . 4) (c (c (q . 1) 9) (c (a 6 (c 2 (c 13 (c 11 ())))) ()))) (q . 11)) 1) 1)) (c (q 2 (q 2 4 (c 2 (c 5 (c (c 5 (c 11 (c (a 4 (c 2 (c 11 (c (c (f (r (a 23 (c 47 ())))) (c 95 ())) ())))) ()))) ())))) (c (q (c (q . 2) (c (c (q . 1) 5) (c (a 6 (c 2 (c 11 (q 1)))) ()))) 2 (i 5 (q 4 (q . 4) (c (c (q . 1) 9) (c (a 6 (c 2 (c 13 (c 11 ())))) ()))) (q . 11)) 1) 1)) (c (q 2 (q 2 10 (c 2 (c (a 14 (c 2 (c 5 (c 11 (c () (c 23 ())))))) (c 11 ())))) (c (q ((a (i (any (a 12 (c 2 (c 9 (c 21 (c 45 (c 11 ())))))) (a 12 (c 2 (c 93 (c -67 (c 381 (c 11 ())))))) (a 12 (c 2 (c 765 (c 1533 (c 3069 (c 11 ())))))) (a 12 (c 2 (c 9 (c 93 (c 765 (c 11 ())))))) (a 12 (c 2 (c 21 (c -67 (c 1533 (c 11 ())))))) (a 12 (c 2 (c 45 (c 381 (c 3069 (c 11 ())))))) (a 12 (c 2 (c 9 (c -67 (c 3069 (c 11 ())))))) (a 12 (c 2 (c 45 (c -67 (c 765 (c 11 ()))))))) (q 1 . 1) ()) 1) 2 (i (all (= 5 47) (= 11 47) (= 23 47)) (q 1 . 1) ()) 1) (c (a 8 (c 2 (c 5 (c 11 ())))) (c 5 ())) 2 (i (l 5) (q 4 (a (i (= 23 47) (q 2 (i (= () 9) (q . 11) (q 8 (q . \"update error\"))) 1) (q . 9)) 1) (a 14 (c 2 (c 13 (c 11 (c (+ 23 (q . 1)) (c 47 ()))))))) ()) 1) 1)) (c (q 2 (q 2 (q 2 10 (c 2 (c (a 14 (c 2 (c 5 (c 11 (c () (c 23 ())))))) (c 11 ())))) (c (q ((a (i (any (a 12 (c 2 (c 9 (c 21 (c 45 (c 11 ())))))) (a 12 (c 2 (c 93 (c -67 (c 381 (c 11 ())))))) (a 12 (c 2 (c 765 (c 1533 (c 3069 (c 11 ())))))) (a 12 (c 2 (c 9 (c 93 (c 765 (c 11 ())))))) (a 12 (c 2 (c 21 (c -67 (c 1533 (c 11 ())))))) (a 12 (c 2 (c 45 (c 381 (c 3069 (c 11 ())))))) (a 12 (c 2 (c 9 (c -67 (c 3069 (c 11 ())))))) (a 12 (c 2 (c 45 (c -67 (c 765 (c 11 ()))))))) (q 1 . 1) ()) 1) 2 (i (all (= 5 47) (= 11 47) (= 23 47)) (q 1 . 1) ()) 1) (c (a 8 (c 2 (c 5 (c 11 ())))) (c 5 ())) 2 (i (l 5) (q 4 (a (i (= 23 47) (q 2 (i (= () 9) (q . 11) (q 8 (q . \"update error\"))) 1) (q . 9)) 1) (a 14 (c 2 (c 13 (c 11 (c (+ 23 (q . 1)) (c 47 ()))))))) ()) 1) 1)) (c (q () () () () () () () () ()) (c (q . 1) 1))) 1))))\n",
      "6f7a531db1e96dae108ded928f593a693e9723c42721d67fdc3ce7d80e08c661\n",
      "\n",
      "(a (q 2 (q 2 4 (c 2 (c 5 (c (c 5 (c 11 (c (a 4 (c 2 (c 11 (c (c (f (r (a 23 (c 47 ())))) (c 95 ())) ())))) ()))) ())))) (c (q (c (q . 2) (c (c (q . 1) 5) (c (a 6 (c 2 (c 11 (q 1)))) ()))) 2 (i 5 (q 4 (q . 4) (c (c (q . 1) 9) (c (a 6 (c 2 (c 13 (c 11 ())))) ()))) (q . 11)) 1) 1)) (c (q 2 (q 2 4 (c 2 (c 5 (c (c 5 (c 11 (c (a 4 (c 2 (c 11 (c (c (f (r (a 23 (c 47 ())))) (c 95 ())) ())))) ()))) ())))) (c (q (c (q . 2) (c (c (q . 1) 5) (c (a 6 (c 2 (c 11 (q 1)))) ()))) 2 (i 5 (q 4 (q . 4) (c (c (q . 1) 9) (c (a 6 (c 2 (c 13 (c 11 ())))) ()))) (q . 11)) 1) 1)) (c (q 2 (q 2 10 (c 2 (c (a 14 (c 2 (c 5 (c 11 (c () (c 23 ())))))) (c 11 ())))) (c (q ((a (i (any (a 12 (c 2 (c 9 (c 21 (c 45 (c 11 ())))))) (a 12 (c 2 (c 93 (c -67 (c 381 (c 11 ())))))) (a 12 (c 2 (c 765 (c 1533 (c 3069 (c 11 ())))))) (a 12 (c 2 (c 9 (c 93 (c 765 (c 11 ())))))) (a 12 (c 2 (c 21 (c -67 (c 1533 (c 11 ())))))) (a 12 (c 2 (c 45 (c 381 (c 3069 (c 11 ())))))) (a 12 (c 2 (c 9 (c -67 (c 3069 (c 11 ())))))) (a 12 (c 2 (c 45 (c -67 (c 765 (c 11 ()))))))) (q 1 . 1) ()) 1) 2 (i (all (= 5 47) (= 11 47) (= 23 47)) (q 1 . 1) ()) 1) (c (a 8 (c 2 (c 5 (c 11 ())))) (c 5 ())) 2 (i (l 5) (q 4 (a (i (= 23 47) (q 2 (i (= () 9) (q . 11) (q 8 (q . \"update error\"))) 1) (q . 9)) 1) (a 14 (c 2 (c 13 (c 11 (c (+ 23 (q . 1)) (c 47 ()))))))) ()) 1) 1)) (c (q 2 (q 2 (q 2 10 (c 2 (c (a 14 (c 2 (c 5 (c 11 (c () (c 23 ())))))) (c 11 ())))) (c (q ((a (i (any (a 12 (c 2 (c 9 (c 21 (c 45 (c 11 ())))))) (a 12 (c 2 (c 93 (c -67 (c 381 (c 11 ())))))) (a 12 (c 2 (c 765 (c 1533 (c 3069 (c 11 ())))))) (a 12 (c 2 (c 9 (c 93 (c 765 (c 11 ())))))) (a 12 (c 2 (c 21 (c -67 (c 1533 (c 11 ())))))) (a 12 (c 2 (c 45 (c 381 (c 3069 (c 11 ())))))) (a 12 (c 2 (c 9 (c -67 (c 3069 (c 11 ())))))) (a 12 (c 2 (c 45 (c -67 (c 765 (c 11 ()))))))) (q 1 . 1) ()) 1) 2 (i (all (= 5 47) (= 11 47) (= 23 47)) (q 1 . 1) ()) 1) (c (a 8 (c 2 (c 5 (c 11 ())))) (c 5 ())) 2 (i (l 5) (q 4 (a (i (= 23 47) (q 2 (i (= () 9) (q . 11) (q 8 (q . \"update error\"))) 1) (q . 9)) 1) (a 14 (c 2 (c 13 (c 11 (c (+ 23 (q . 1)) (c 47 ()))))))) ()) 1) 1)) (c (q () () () () 1 () () () ()) (c (q . 2) 1))) 1))))\n",
      "65b06ddfce8b47de0ea956416c5b15eb80ef11cd51b89fff0002b010c94595c9\n",
      "\n",
      "(a (q 2 (q 2 4 (c 2 (c 5 (c (c 5 (c 11 (c (a 4 (c 2 (c 11 (c (c (f (r (a 23 (c 47 ())))) (c 95 ())) ())))) ()))) ())))) (c (q (c (q . 2) (c (c (q . 1) 5) (c (a 6 (c 2 (c 11 (q 1)))) ()))) 2 (i 5 (q 4 (q . 4) (c (c (q . 1) 9) (c (a 6 (c 2 (c 13 (c 11 ())))) ()))) (q . 11)) 1) 1)) (c (q 2 (q 2 4 (c 2 (c 5 (c (c 5 (c 11 (c (a 4 (c 2 (c 11 (c (c (f (r (a 23 (c 47 ())))) (c 95 ())) ())))) ()))) ())))) (c (q (c (q . 2) (c (c (q . 1) 5) (c (a 6 (c 2 (c 11 (q 1)))) ()))) 2 (i 5 (q 4 (q . 4) (c (c (q . 1) 9) (c (a 6 (c 2 (c 13 (c 11 ())))) ()))) (q . 11)) 1) 1)) (c (q 2 (q 2 10 (c 2 (c (a 14 (c 2 (c 5 (c 11 (c () (c 23 ())))))) (c 11 ())))) (c (q ((a (i (any (a 12 (c 2 (c 9 (c 21 (c 45 (c 11 ())))))) (a 12 (c 2 (c 93 (c -67 (c 381 (c 11 ())))))) (a 12 (c 2 (c 765 (c 1533 (c 3069 (c 11 ())))))) (a 12 (c 2 (c 9 (c 93 (c 765 (c 11 ())))))) (a 12 (c 2 (c 21 (c -67 (c 1533 (c 11 ())))))) (a 12 (c 2 (c 45 (c 381 (c 3069 (c 11 ())))))) (a 12 (c 2 (c 9 (c -67 (c 3069 (c 11 ())))))) (a 12 (c 2 (c 45 (c -67 (c 765 (c 11 ()))))))) (q 1 . 1) ()) 1) 2 (i (all (= 5 47) (= 11 47) (= 23 47)) (q 1 . 1) ()) 1) (c (a 8 (c 2 (c 5 (c 11 ())))) (c 5 ())) 2 (i (l 5) (q 4 (a (i (= 23 47) (q 2 (i (= () 9) (q . 11) (q 8 (q . \"update error\"))) 1) (q . 9)) 1) (a 14 (c 2 (c 13 (c 11 (c (+ 23 (q . 1)) (c 47 ()))))))) ()) 1) 1)) (c (q 2 (q 2 (q 2 10 (c 2 (c (a 14 (c 2 (c 5 (c 11 (c () (c 23 ())))))) (c 11 ())))) (c (q ((a (i (any (a 12 (c 2 (c 9 (c 21 (c 45 (c 11 ())))))) (a 12 (c 2 (c 93 (c -67 (c 381 (c 11 ())))))) (a 12 (c 2 (c 765 (c 1533 (c 3069 (c 11 ())))))) (a 12 (c 2 (c 9 (c 93 (c 765 (c 11 ())))))) (a 12 (c 2 (c 21 (c -67 (c 1533 (c 11 ())))))) (a 12 (c 2 (c 45 (c 381 (c 3069 (c 11 ())))))) (a 12 (c 2 (c 9 (c -67 (c 3069 (c 11 ())))))) (a 12 (c 2 (c 45 (c -67 (c 765 (c 11 ()))))))) (q 1 . 1) ()) 1) 2 (i (all (= 5 47) (= 11 47) (= 23 47)) (q 1 . 1) ()) 1) (c (a 8 (c 2 (c 5 (c 11 ())))) (c 5 ())) 2 (i (l 5) (q 4 (a (i (= 23 47) (q 2 (i (= () 9) (q . 11) (q 8 (q . \"update error\"))) 1) (q . 9)) 1) (a 14 (c 2 (c 13 (c 11 (c (+ 23 (q . 1)) (c 47 ()))))))) ()) 1) 1)) (c (q () () () () 1 2 () () ()) (c (q . 1) 1))) 1))))\n",
      "fe9fc8abce7488a7db9feafb3c2f4454b3c2aa04e0f56fd051f7fd5f2cd32c8c\n",
      "\n"
     ]
    }
   ],
   "source": [
    "# empty board\n",
    "board = [0] * 9\n",
    "# player 1 (x)\n",
    "player = 1\n",
    "# prepare the tic-tac-toe inner puzzle\n",
    "curried_tic_tac_toe_puzzle = tic_tac_toe.get_curried_tic_tac_toe_puzzle(tic_tac_toe_puzzle, board, player)\n",
    "curried_tic_tac_toe_coin_puzzle = tic_tac_toe_coin_puzzle.curry(\n",
    "    tic_tac_toe_coin_puzzle,\n",
    "    tic_tac_toe_puzzle, \n",
    "    curried_tic_tac_toe_puzzle)\n",
    "\n",
    "print(f'{board} {player}')\n",
    "print(curried_tic_tac_toe_puzzle.get_tree_hash())\n",
    "print(curried_tic_tac_toe_coin_puzzle.get_tree_hash())\n",
    "print(disassemble(curried_tic_tac_toe_coin_puzzle))\n",
    "print(f'{curried_tic_tac_toe_coin_puzzle.get_tree_hash()}\\n')\n",
    "\n",
    "# player 1 plays position 4\n",
    "next_player = 2\n",
    "position = 4\n",
    "solution = Program.to([position, next_player])\n",
    "curried_tic_tac_toe_coin_puzzle = curried_tic_tac_toe_coin_puzzle.run(solution)\n",
    "print(disassemble(curried_tic_tac_toe_coin_puzzle))\n",
    "print(f'{curried_tic_tac_toe_coin_puzzle.get_tree_hash()}\\n')\n",
    "\n",
    "# player 2 plays position 5\n",
    "next_player = 1\n",
    "position = 5\n",
    "solution = Program.to([position, next_player])\n",
    "curried_tic_tac_toe_coin_puzzle = curried_tic_tac_toe_coin_puzzle.run(solution)\n",
    "print(disassemble(curried_tic_tac_toe_coin_puzzle))\n",
    "print(f'{curried_tic_tac_toe_coin_puzzle.get_tree_hash()}\\n')\n"
   ]
  },
  {
   "cell_type": "code",
   "execution_count": null,
   "id": "1f67a0dd-a76a-458b-ade4-06387a83043a",
   "metadata": {},
   "outputs": [],
   "source": []
  }
 ],
 "metadata": {
  "kernelspec": {
   "display_name": "Python 3 (ipykernel)",
   "language": "python",
   "name": "python3"
  },
  "language_info": {
   "codemirror_mode": {
    "name": "ipython",
    "version": 3
   },
   "file_extension": ".py",
   "mimetype": "text/x-python",
   "name": "python",
   "nbconvert_exporter": "python",
   "pygments_lexer": "ipython3",
   "version": "3.8.10"
  }
 },
 "nbformat": 4,
 "nbformat_minor": 5
}
