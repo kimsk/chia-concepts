{
 "cells": [
  {
   "cell_type": "code",
   "execution_count": 1,
   "id": "e871b451-f7e8-4351-bd67-5ce9ee547c30",
   "metadata": {},
   "outputs": [
    {
     "name": "stdout",
     "output_type": "stream",
     "text": [
      "1.3.5\n",
      "cdv, version 1.0.8\n"
     ]
    }
   ],
   "source": [
    "%%bash\n",
    "chia version\n",
    "cdv --version"
   ]
  },
  {
   "cell_type": "markdown",
   "id": "b5cad93e-c70a-4726-9880-f9b938b9e145",
   "metadata": {},
   "source": [
    "# Tic Tac Toe Coin\n",
    "\n",
    "[tic-tac-toe puzzle](tic-tac-toe-ipynb) is an inner puzzle.\n",
    "\n",
    "[p2_delegated_puzzle_or_hidden_puzzle.py](https://github.com/Chia-Network/chia-blockchain/blob/main/chia/wallet/puzzles/p2_delegated_puzzle_or_hidden_puzzle.py)"
   ]
  },
  {
   "cell_type": "code",
   "execution_count": 1,
   "id": "1d73d9fd-93ac-4d63-a8ab-355d31992b32",
   "metadata": {},
   "outputs": [],
   "source": [
    "from chia.types.blockchain_format.program import Program\n",
    "from cdv.util.load_clvm import load_clvm\n",
    "from clvm_tools.binutils import disassemble\n",
    "from clvm_tools.clvmc import compile_clvm_text\n",
    "\n",
    "from pathlib import Path\n",
    "import sys\n",
    "sys.path.insert(0, \".\")\n",
    "import tic_tac_toe\n",
    "\n",
    "def load_program(file_path, search_paths):\n",
    "    clsp = Path(file_path).read_text()\n",
    "    return Program(\n",
    "        compile_clvm_text(clsp, search_paths)\n",
    "    )\n",
    "\n",
    "tic_tac_toe_puzzle = load_program('tic-tac-toe.clsp', '.')"
   ]
  },
  {
   "cell_type": "code",
   "execution_count": 2,
   "id": "1ddfb3f3-bc97-4599-aae1-fc3a0cfe688f",
   "metadata": {},
   "outputs": [
    {
     "name": "stdout",
     "output_type": "stream",
     "text": [
      "alice: 2000000000000\n"
     ]
    }
   ],
   "source": [
    "from chia.wallet.puzzles import (singleton_top_layer, p2_delegated_puzzle_or_hidden_puzzle)\n",
    "\n",
    "from cdv.test import Network, Wallet\n",
    "\n",
    "network: Network = await Network.create()\n",
    "\n",
    "await network.farm_block()\n",
    "\n",
    "alice: Wallet = network.make_wallet(\"alice\")\n",
    "await network.farm_block(farmer=alice) # alice has 2000_000_000_000 mojos\n",
    "\n",
    "print(f'alice: {alice.balance()}')\n",
    "standard_txn_coin_wrapper = await alice.choose_coin(1_750_000_000_000)\n",
    "standard_txn_coin = standard_txn_coin_wrapper.as_coin()\n",
    "standard_txn_puzzle = p2_delegated_puzzle_or_hidden_puzzle.puzzle_for_pk(alice.pk())"
   ]
  },
  {
   "cell_type": "code",
   "execution_count": 2,
   "id": "48b2ea5b-842d-4541-99a8-901e536d652d",
   "metadata": {},
   "outputs": [
    {
     "name": "stdout",
     "output_type": "stream",
     "text": [
      "False\n",
      "   |   |   \n",
      "---+---+---\n",
      "   | x |   \n",
      "---+---+---\n",
      "   |   |   \n"
     ]
    }
   ],
   "source": [
    "# empty board\n",
    "board = [0] * 9\n",
    "# alice is the 'x'\n",
    "# and will create an empty board\n",
    "player = 1\n",
    "# prepare the tic-tac-toe inner puzzle\n",
    "inner_puzzle = tic_tac_toe.get_curried_tic_tac_toe_puzzle(tic_tac_toe_puzzle, board, player)\n",
    "# alice plays position 4\n",
    "inner_solution = Program.to([4])\n",
    "\n",
    "# test tic_tac_toe puzzle\n",
    "run_result = inner_puzzle.run(inner_solution)\n",
    "is_winning, board = tic_tac_toe.get_play_result(run_result)\n",
    "print(is_winning)\n",
    "tic_tac_toe.print_board(board)\n"
   ]
  },
  {
   "cell_type": "code",
   "execution_count": 3,
   "id": "0450b7a8-ebdb-417a-b38e-2b4f50036e1e",
   "metadata": {},
   "outputs": [
    {
     "name": "stdout",
     "output_type": "stream",
     "text": [
      "671ebebd93fb2538976c3483c86ec0cfd759dc10727ad98ad1b6afa5defcdf2b\n",
      "94fcc7039309f6bba4385b3b483b0f583afa47a1efa456c5f42b700a724fdf6e\n",
      "0xb7a509c44b99922025f70933f6f9430cd5bf0883ed8006bb6c181105a1abf79a\n",
      "False\n",
      "   |   |   \n",
      "---+---+---\n",
      "   | x | o \n",
      "---+---+---\n",
      "   |   |   \n",
      "b7a509c44b99922025f70933f6f9430cd5bf0883ed8006bb6c181105a1abf79a\n"
     ]
    }
   ],
   "source": [
    "tic_tac_toe_coin_puzzle = load_program('tic-tac-toe-coin.clsp', '.').curry(tic_tac_toe_puzzle)\n",
    "\n",
    "# player 2 (o)\n",
    "curried_tic_tac_toe_puzzle = tic_tac_toe.get_curried_tic_tac_toe_puzzle(tic_tac_toe_puzzle, board, 2)\n",
    "print(tic_tac_toe_puzzle.get_tree_hash())\n",
    "print(curried_tic_tac_toe_puzzle.get_tree_hash())\n",
    "\n",
    "# next_v is 1\n",
    "solution = Program.to([curried_tic_tac_toe_puzzle, 5, 1])\n",
    "#print(disassemble(solution))\n",
    "coin_run_result = tic_tac_toe_coin_puzzle.run(solution)\n",
    "print(disassemble(coin_run_result))\n",
    "#print(coin_run_result.get_tree_hash())\n",
    "run_result = curried_tic_tac_toe_puzzle.run(Program.to([5]))\n",
    "is_winning, board = tic_tac_toe.get_play_result(run_result)\n",
    "print(is_winning)\n",
    "tic_tac_toe.print_board(board)\n",
    "\n",
    "# player 1 (x)\n",
    "# next puzzle\n",
    "curried_tic_tac_toe_puzzle = tic_tac_toe.get_curried_tic_tac_toe_puzzle(tic_tac_toe_puzzle, board, 1)\n",
    "print(curried_tic_tac_toe_puzzle.get_tree_hash())\n",
    "#print(disassemble(curried_tic_tac_toe_puzzle))\n"
   ]
  }
 ],
 "metadata": {
  "kernelspec": {
   "display_name": "Python 3 (ipykernel)",
   "language": "python",
   "name": "python3"
  },
  "language_info": {
   "codemirror_mode": {
    "name": "ipython",
    "version": 3
   },
   "file_extension": ".py",
   "mimetype": "text/x-python",
   "name": "python",
   "nbconvert_exporter": "python",
   "pygments_lexer": "ipython3",
   "version": "3.8.10"
  }
 },
 "nbformat": 4,
 "nbformat_minor": 5
}
