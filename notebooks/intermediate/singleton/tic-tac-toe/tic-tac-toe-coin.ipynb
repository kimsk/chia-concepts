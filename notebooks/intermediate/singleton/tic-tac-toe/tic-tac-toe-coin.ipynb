{
 "cells": [
  {
   "cell_type": "code",
   "execution_count": 1,
   "id": "e871b451-f7e8-4351-bd67-5ce9ee547c30",
   "metadata": {},
   "outputs": [
    {
     "name": "stdout",
     "output_type": "stream",
     "text": [
      "1.4.0\n",
      "cdv, version 1.0.8\n"
     ]
    }
   ],
   "source": [
    "%%bash\n",
    "chia version\n",
    "cdv --version"
   ]
  },
  {
   "cell_type": "markdown",
   "id": "b5cad93e-c70a-4726-9880-f9b938b9e145",
   "metadata": {},
   "source": [
    "# Tic Tac Toe Coin\n",
    "\n",
    "An outer puzzle for an inner [tic-tac-toe puzzle](tic-tac-toe.ipynb). The tic-tac-toe puzzle is the game engine used by the tic-tac-toe coin puzzle to create a new coin with the next state.\n",
    "\n",
    "## Chialisp\n",
    "- [tic-tac-toe-coin.clsp](tic-tac-toe-coin.clsp)\n",
    "- [tic-tac-toe.clsp](tic-tac-toe.clsp)\n",
    "- [tic-tac-toe.clib](tic-tac-toe.clib)\n",
    "- [utils.clib](utils.clip)\n",
    "\n",
    "## Driver Code\n",
    "- [tic_tac_toe.py](tic_tac_toe.py)\n",
    " "
   ]
  },
  {
   "cell_type": "code",
   "execution_count": 2,
   "id": "1d73d9fd-93ac-4d63-a8ab-355d31992b32",
   "metadata": {},
   "outputs": [],
   "source": [
    "from chia.types.blockchain_format.program import Program\n",
    "from cdv.util.load_clvm import load_clvm\n",
    "from clvm_tools.binutils import disassemble\n",
    "from clvm_tools.clvmc import compile_clvm_text\n",
    "\n",
    "from pathlib import Path\n",
    "import sys\n",
    "sys.path.insert(0, \".\")\n",
    "import tic_tac_toe\n",
    "\n",
    "def load_program(file_path, search_paths):\n",
    "    clsp = Path(file_path).read_text()\n",
    "    return Program(\n",
    "        compile_clvm_text(clsp, search_paths)\n",
    "    )\n",
    "\n",
    "tic_tac_toe_puzzle = load_program('tic-tac-toe.clsp', '.')\n",
    "tic_tac_toe_coin_puzzle = load_program('tic-tac-toe-coin.clsp', '.')"
   ]
  },
  {
   "cell_type": "code",
   "execution_count": 3,
   "id": "9839a199-9700-4002-9fce-55a3c9bd7b13",
   "metadata": {},
   "outputs": [
    {
     "name": "stdout",
     "output_type": "stream",
     "text": [
      "(a (q 2 12 (c 2 (c (a 22 (c 2 (c 5 (c 11 (c 23 ()))))) (c 11 ())))) (c (q ((a (i (all (not (= 9 ())) (not (= 21 ())) (not (= 45 ())) (not (= 93 ())) (not (= -67 ())) (not (= 381 ())) (not (= 765 ())) (not (= 1533 ())) (not (= 3069 ()))) (q 1 . -1) (q 2 10 (c 2 (c (c 9 (c 21 (c 45 (c 93 (c -67 (c 381 (c 765 (c 1533 (c 3069 ()))))))))) (c 11 ()))))) 1) 4 (a 8 (c 2 (c 5 (c 11 ())))) (c 5 ())) (a (i (any (a (i (all (= 9 11) (= 21 11) (= 45 11)) (q 1 . 1) ()) 1) (a (i (all (= 93 11) (= -67 11) (= 381 11)) (q 1 . 1) ()) 1) (a (i (all (= 765 11) (= 1533 11) (= 3069 11)) (q 1 . 1) ()) 1) (a (i (all (= 9 11) (= 93 11) (= 765 11)) (q 1 . 1) ()) 1) (a (i (all (= 21 11) (= -67 11) (= 1533 11)) (q 1 . 1) ()) 1) (a (i (all (= 45 11) (= 381 11) (= 3069 11)) (q 1 . 1) ()) 1) (a (i (all (= 9 11) (= -67 11) (= 3069 11)) (q 1 . 1) ()) 1) (a (i (all (= 45 11) (= -67 11) (= 765 11)) (q 1 . 1) ()) 1)) (q . 11) ()) 1) (a (i (any (> () 23) (> 23 (q . 8))) (q 8 (q . \"position invalid\")) (q 2 30 (c 2 (c 5 (c 11 (c () (c 23 ()))))))) 1) 2 (i (l 5) (q 4 (a (i (= 23 47) (q 2 (i (= () 9) (q . 11) (q 8 (q . \"position already occupied\"))) 1) (q . 9)) 1) (a 30 (c 2 (c 13 (c 11 (c (+ 23 (q . 1)) (c 47 ()))))))) ()) 1) 1))\n",
      "\n",
      "(a (q 2 (q 2 12 (c 2 (c (a 22 (c 2 (c 5 (c 11 (c 23 ()))))) (c 11 ())))) (c (q ((a (i (all (not (= 9 ())) (not (= 21 ())) (not (= 45 ())) (not (= 93 ())) (not (= -67 ())) (not (= 381 ())) (not (= 765 ())) (not (= 1533 ())) (not (= 3069 ()))) (q 1 . -1) (q 2 10 (c 2 (c (c 9 (c 21 (c 45 (c 93 (c -67 (c 381 (c 765 (c 1533 (c 3069 ()))))))))) (c 11 ()))))) 1) 4 (a 8 (c 2 (c 5 (c 11 ())))) (c 5 ())) (a (i (any (a (i (all (= 9 11) (= 21 11) (= 45 11)) (q 1 . 1) ()) 1) (a (i (all (= 93 11) (= -67 11) (= 381 11)) (q 1 . 1) ()) 1) (a (i (all (= 765 11) (= 1533 11) (= 3069 11)) (q 1 . 1) ()) 1) (a (i (all (= 9 11) (= 93 11) (= 765 11)) (q 1 . 1) ()) 1) (a (i (all (= 21 11) (= -67 11) (= 1533 11)) (q 1 . 1) ()) 1) (a (i (all (= 45 11) (= 381 11) (= 3069 11)) (q 1 . 1) ()) 1) (a (i (all (= 9 11) (= -67 11) (= 3069 11)) (q 1 . 1) ()) 1) (a (i (all (= 45 11) (= -67 11) (= 765 11)) (q 1 . 1) ()) 1)) (q . 11) ()) 1) (a (i (any (> () 23) (> 23 (q . 8))) (q 8 (q . \"position invalid\")) (q 2 30 (c 2 (c 5 (c 11 (c () (c 23 ()))))))) 1) 2 (i (l 5) (q 4 (a (i (= 23 47) (q 2 (i (= () 9) (q . 11) (q 8 (q . \"position already occupied\"))) 1) (q . 9)) 1) (a 30 (c 2 (c 13 (c 11 (c (+ 23 (q . 1)) (c 47 ()))))))) ()) 1) 1)) (c (q () () () () () () () () ()) (c (q . 1) 1)))\n",
      "\n",
      "(a (q 2 12 (c 2 (c (a 22 (c 2 (c 5 (c 11 (c 23 ()))))) (c 11 ())))) (c (q ((a (i (all (not (= 9 ())) (not (= 21 ())) (not (= 45 ())) (not (= 93 ())) (not (= -67 ())) (not (= 381 ())) (not (= 765 ())) (not (= 1533 ())) (not (= 3069 ()))) (q 1 . -1) (q 2 10 (c 2 (c (c 9 (c 21 (c 45 (c 93 (c -67 (c 381 (c 765 (c 1533 (c 3069 ()))))))))) (c 11 ()))))) 1) 4 (a 8 (c 2 (c 5 (c 11 ())))) (c 5 ())) (a (i (any (a (i (all (= 9 11) (= 21 11) (= 45 11)) (q 1 . 1) ()) 1) (a (i (all (= 93 11) (= -67 11) (= 381 11)) (q 1 . 1) ()) 1) (a (i (all (= 765 11) (= 1533 11) (= 3069 11)) (q 1 . 1) ()) 1) (a (i (all (= 9 11) (= 93 11) (= 765 11)) (q 1 . 1) ()) 1) (a (i (all (= 21 11) (= -67 11) (= 1533 11)) (q 1 . 1) ()) 1) (a (i (all (= 45 11) (= 381 11) (= 3069 11)) (q 1 . 1) ()) 1) (a (i (all (= 9 11) (= -67 11) (= 3069 11)) (q 1 . 1) ()) 1) (a (i (all (= 45 11) (= -67 11) (= 765 11)) (q 1 . 1) ()) 1)) (q . 11) ()) 1) (a (i (any (> () 23) (> 23 (q . 8))) (q 8 (q . \"position invalid\")) (q 2 30 (c 2 (c 5 (c 11 (c () (c 23 ()))))))) 1) 2 (i (l 5) (q 4 (a (i (= 23 47) (q 2 (i (= () 9) (q . 11) (q 8 (q . \"position already occupied\"))) 1) (q . 9)) 1) (a 30 (c 2 (c 13 (c 11 (c (+ 23 (q . 1)) (c 47 ()))))))) ()) 1) 1))\n"
     ]
    }
   ],
   "source": [
    "player_one_hash = bytes.fromhex(\"cafef00d\")\n",
    "player_two_hash = bytes.fromhex(\"deadbeef\")\n",
    "# empty board\n",
    "board = [0] * 9\n",
    "# player 1 (x)\n",
    "player = 1\n",
    "# prepare the tic-tac-toe inner puzzle\n",
    "curried_tic_tac_toe_puzzle = tic_tac_toe.get_curried_tic_tac_toe_puzzle(tic_tac_toe_puzzle, board, player)\n",
    "curried_tic_tac_toe_coin_puzzle = tic_tac_toe_coin_puzzle.curry(\n",
    "    tic_tac_toe_coin_puzzle,\n",
    "    player_one_hash,\n",
    "    player_two_hash,\n",
    "    curried_tic_tac_toe_puzzle)\n",
    "print(disassemble(tic_tac_toe_puzzle))\n",
    "print()\n",
    "print(disassemble(curried_tic_tac_toe_puzzle))\n",
    "print()\n",
    "print(disassemble(curried_tic_tac_toe_puzzle.rest().first().rest()))"
   ]
  },
  {
   "cell_type": "code",
   "execution_count": 4,
   "id": "af78c51f-c507-4c39-94de-ff339f7d76fd",
   "metadata": {},
   "outputs": [
    {
     "name": "stdout",
     "output_type": "stream",
     "text": [
      "[0, 0, 0, 0, 0, 0, 0, 0, 0] 1 4\n",
      "((73 1023) (51 0x573a4741565fd46402d867686094dbae6df8a4c0154941d3e8cffff8e2f9b5df 1023))\n",
      "   |   |   \n",
      "---+---+---\n",
      "   | x |   \n",
      "---+---+---\n",
      "   |   |   \n"
     ]
    }
   ],
   "source": [
    "player_one_hash = bytes.fromhex(\"cafef00d\")\n",
    "player_two_hash = bytes.fromhex(\"deadbeef\")\n",
    "# empty board\n",
    "board = [0] * 9\n",
    "# player 1 (x)\n",
    "player = 1\n",
    "# prepare the tic-tac-toe inner puzzle\n",
    "curried_tic_tac_toe_puzzle = tic_tac_toe.get_curried_tic_tac_toe_puzzle(tic_tac_toe_puzzle, board, player)\n",
    "curried_tic_tac_toe_coin_puzzle = tic_tac_toe_coin_puzzle.curry(\n",
    "    tic_tac_toe_coin_puzzle,\n",
    "    player_one_hash,\n",
    "    player_two_hash, \n",
    "    curried_tic_tac_toe_puzzle)\n",
    "\n",
    "# player 1 plays position 4\n",
    "position = 4\n",
    "print(f'{board} {player} {position}')\n",
    "\n",
    "solution = Program.to([1023, position])\n",
    "conditions = curried_tic_tac_toe_coin_puzzle.run(solution)\n",
    "print(disassemble(conditions))\n",
    "coin_puzzle_hash = conditions.at(\"rfrf\")\n",
    "\n",
    "## verify puzzle\n",
    "next_player = 2\n",
    "board_state, board = tic_tac_toe.play(curried_tic_tac_toe_puzzle, position)\n",
    "tic_tac_toe.print_board(board)\n",
    "curried_tic_tac_toe_puzzle = tic_tac_toe.get_curried_tic_tac_toe_puzzle(\n",
    "    tic_tac_toe_puzzle, \n",
    "    board, next_player)\n",
    "curried_tic_tac_toe_coin_puzzle = tic_tac_toe_coin_puzzle.curry(\n",
    "    tic_tac_toe_coin_puzzle,\n",
    "    player_one_hash,\n",
    "    player_two_hash,\n",
    "    curried_tic_tac_toe_puzzle)\n",
    "\n",
    "# new coin puzzle and curried_tic_tac_toe_coin_puzzle have to match\n",
    "assert curried_tic_tac_toe_coin_puzzle.get_tree_hash() == coin_puzzle_hash"
   ]
  },
  {
   "cell_type": "code",
   "execution_count": 5,
   "id": "83ed6ebc-22fc-4cf1-8fcd-661d1eebcbac",
   "metadata": {},
   "outputs": [
    {
     "name": "stdout",
     "output_type": "stream",
     "text": [
      "[0, 0, 0, 0, 1, 0, 0, 0, 0] 2 5\n",
      "((73 1023) (51 0x710a171ba6a6aaa0dee9dfbc1b6506ea3a6f1d0a0482f8622d44510564349e40 1023))\n",
      "   |   |   \n",
      "---+---+---\n",
      "   | x | o \n",
      "---+---+---\n",
      "   |   |   \n"
     ]
    }
   ],
   "source": [
    "player, next_player = next_player, player\n",
    "position = 5\n",
    "print(f'{board} {player} {position}')\n",
    "solution = Program.to([1023, position])\n",
    "conditions = curried_tic_tac_toe_coin_puzzle.run(solution)\n",
    "print(disassemble(conditions))\n",
    "coin_puzzle_hash = conditions.at(\"rfrf\")\n",
    "\n",
    "## verify puzzle\n",
    "board_state, board = tic_tac_toe.play(curried_tic_tac_toe_puzzle, position)\n",
    "tic_tac_toe.print_board(board)\n",
    "curried_tic_tac_toe_puzzle = tic_tac_toe.get_curried_tic_tac_toe_puzzle(\n",
    "    tic_tac_toe_puzzle, \n",
    "    board, next_player)\n",
    "curried_tic_tac_toe_coin_puzzle = tic_tac_toe_coin_puzzle.curry(\n",
    "    tic_tac_toe_coin_puzzle,\n",
    "    player_one_hash,\n",
    "    player_two_hash,\n",
    "    curried_tic_tac_toe_puzzle)\n",
    "\n",
    "# new coin puzzle and curried_tic_tac_toe_coin_puzzle have to match\n",
    "assert curried_tic_tac_toe_coin_puzzle.get_tree_hash() == coin_puzzle_hash"
   ]
  },
  {
   "cell_type": "code",
   "execution_count": 6,
   "id": "af56c536-416e-4e0b-8751-135b53cdf3b9",
   "metadata": {},
   "outputs": [
    {
     "name": "stdout",
     "output_type": "stream",
     "text": [
      "[0, 0, 0, 0, 1, 2, 0, 0, 0] 1 1\n",
      "((73 1023) (51 0x2a8cbb499a4b6a47ba6fb65330263105137f485413ff409ef195bca8444a1ff7 1023))\n",
      "   | x |   \n",
      "---+---+---\n",
      "   | x | o \n",
      "---+---+---\n",
      "   |   |   \n"
     ]
    }
   ],
   "source": [
    "player, next_player = next_player, player\n",
    "position = 1\n",
    "print(f'{board} {player} {position}')\n",
    "solution = Program.to([1023, position])\n",
    "conditions = curried_tic_tac_toe_coin_puzzle.run(solution)\n",
    "print(disassemble(conditions))\n",
    "coin_puzzle_hash = conditions.at(\"rfrf\")\n",
    "\n",
    "## verify puzzle\n",
    "board_state, board = tic_tac_toe.play(curried_tic_tac_toe_puzzle, position)\n",
    "tic_tac_toe.print_board(board)\n",
    "curried_tic_tac_toe_puzzle = tic_tac_toe.get_curried_tic_tac_toe_puzzle(\n",
    "    tic_tac_toe_puzzle, \n",
    "    board, next_player)\n",
    "curried_tic_tac_toe_coin_puzzle = tic_tac_toe_coin_puzzle.curry(\n",
    "    tic_tac_toe_coin_puzzle,\n",
    "    player_one_hash,\n",
    "    player_two_hash, \n",
    "    curried_tic_tac_toe_puzzle)\n",
    "\n",
    "# new coin puzzle and curried_tic_tac_toe_coin_puzzle have to match\n",
    "assert curried_tic_tac_toe_coin_puzzle.get_tree_hash() == coin_puzzle_hash"
   ]
  },
  {
   "cell_type": "code",
   "execution_count": 7,
   "id": "18de46c5-8978-4391-93f1-d05827a11b73",
   "metadata": {},
   "outputs": [
    {
     "name": "stdout",
     "output_type": "stream",
     "text": [
      "[0, 1, 0, 0, 1, 2, 0, 0, 0] 2 3\n",
      "((73 1023) (51 0xc647b7044fb67761230fea05d20ce6da8ee9960b4dced8589f78c01063477c9a 1023))\n",
      "   | x |   \n",
      "---+---+---\n",
      " o | x | o \n",
      "---+---+---\n",
      "   |   |   \n"
     ]
    }
   ],
   "source": [
    "player, next_player = next_player, player\n",
    "position = 3\n",
    "print(f'{board} {player} {position}')\n",
    "solution = Program.to([1023, position])\n",
    "conditions = curried_tic_tac_toe_coin_puzzle.run(solution)\n",
    "print(disassemble(conditions))\n",
    "coin_puzzle_hash = conditions.at(\"rfrf\")\n",
    "\n",
    "## verify puzzle\n",
    "board_state, board = tic_tac_toe.play(curried_tic_tac_toe_puzzle, position)\n",
    "tic_tac_toe.print_board(board)\n",
    "curried_tic_tac_toe_puzzle = tic_tac_toe.get_curried_tic_tac_toe_puzzle(\n",
    "    tic_tac_toe_puzzle, \n",
    "    board, next_player)\n",
    "curried_tic_tac_toe_coin_puzzle = tic_tac_toe_coin_puzzle.curry(\n",
    "    tic_tac_toe_coin_puzzle,\n",
    "    player_one_hash,\n",
    "    player_two_hash, \n",
    "    curried_tic_tac_toe_puzzle)\n",
    "\n",
    "# new coin puzzle and curried_tic_tac_toe_coin_puzzle have to match\n",
    "assert curried_tic_tac_toe_coin_puzzle.get_tree_hash() == coin_puzzle_hash"
   ]
  },
  {
   "cell_type": "code",
   "execution_count": 8,
   "id": "dd0ec210-fbc4-4dc8-b55f-21c7b773e4d1",
   "metadata": {},
   "outputs": [
    {
     "name": "stdout",
     "output_type": "stream",
     "text": [
      "[0, 1, 0, 2, 1, 2, 0, 0, 0] 1 7\n",
      "((51 0x900ddeed -113) (51 0xcafef00d 1023))\n",
      "1\n",
      "   | x |   \n",
      "---+---+---\n",
      " o | x | o \n",
      "---+---+---\n",
      "   | x |   \n"
     ]
    }
   ],
   "source": [
    "player, next_player = next_player, player\n",
    "position = 7\n",
    "print(f'{board} {player} {position}')\n",
    "solution = Program.to([1023, position, next_player])\n",
    "conditions = curried_tic_tac_toe_coin_puzzle.run(solution)\n",
    "print(disassemble(conditions))\n",
    "\n",
    "board_state, board = tic_tac_toe.play(curried_tic_tac_toe_puzzle, position)\n",
    "print(board_state)\n",
    "tic_tac_toe.print_board(board)"
   ]
  },
  {
   "cell_type": "markdown",
   "id": "e5feb3a3-c7d0-4bed-8343-44cd86c80201",
   "metadata": {},
   "source": [
    "## Simulate Unplayable Board"
   ]
  },
  {
   "cell_type": "code",
   "execution_count": 9,
   "id": "a3ba87b4-0b3d-4d3a-80e1-e2e7474e4bac",
   "metadata": {},
   "outputs": [
    {
     "name": "stdout",
     "output_type": "stream",
     "text": [
      "[0, 0, 0, 0, 0, 0, 0, 0, 0] 1 0\n",
      "((73 1023) (51 0x23dae9cd96b230c57f487a33cb851d3d348ee08269483f747327b4ae15d33ebe 1023))\n",
      " x |   |   \n",
      "---+---+---\n",
      "   |   |   \n",
      "---+---+---\n",
      "   |   |   \n"
     ]
    }
   ],
   "source": [
    "player_one_hash = bytes.fromhex(\"cafef00d\")\n",
    "player_two_hash = bytes.fromhex(\"deadbeef\")\n",
    "# empty board\n",
    "board = [0] * 9\n",
    "# player 1 (x)\n",
    "player = 1\n",
    "# prepare the tic-tac-toe inner puzzle\n",
    "curried_tic_tac_toe_puzzle, curried_tic_tac_toe_coin_puzzle = tic_tac_toe.get_curried_tic_tac_toe_puzzles(\n",
    "    tic_tac_toe_coin_puzzle,\n",
    "    player_one_hash,\n",
    "    player_two_hash,\n",
    "    tic_tac_toe_puzzle,\n",
    "    board, \n",
    "    player\n",
    ")\n",
    "\n",
    "# player 1 plays position 4\n",
    "position = 0\n",
    "print(f'{board} {player} {position}')\n",
    "\n",
    "next_player = 2\n",
    "solution = Program.to([1023, position])\n",
    "conditions = curried_tic_tac_toe_coin_puzzle.run(solution)\n",
    "print(disassemble(conditions))\n",
    "coin_puzzle_hash = conditions.at(\"rfrf\")\n",
    "\n",
    "## verify puzzle\n",
    "board_state, board = tic_tac_toe.play(curried_tic_tac_toe_puzzle, position)\n",
    "tic_tac_toe.print_board(board)\n",
    "curried_tic_tac_toe_puzzle, curried_tic_tac_toe_coin_puzzle = tic_tac_toe.get_curried_tic_tac_toe_puzzles(\n",
    "    tic_tac_toe_coin_puzzle,\n",
    "    player_one_hash,\n",
    "    player_two_hash,\n",
    "    tic_tac_toe_puzzle,\n",
    "    board, \n",
    "    next_player\n",
    ")\n",
    "\n",
    "# new coin puzzle and curried_tic_tac_toe_coin_puzzle have to match\n",
    "assert curried_tic_tac_toe_coin_puzzle.get_tree_hash() == coin_puzzle_hash"
   ]
  },
  {
   "cell_type": "code",
   "execution_count": 10,
   "id": "60485e23-65c3-4d13-a151-1980628ec62e",
   "metadata": {},
   "outputs": [
    {
     "name": "stdout",
     "output_type": "stream",
     "text": [
      "[1, 0, 0, 0, 0, 0, 0, 0, 0] 2 1\n",
      "((73 1023) (51 0x3f72bdc1b45c7dd01258697f172d2441f9cf3bd9b64fda8784291d9dd4d29816 1023))\n",
      " x | o |   \n",
      "---+---+---\n",
      "   |   |   \n",
      "---+---+---\n",
      "   |   |   \n"
     ]
    }
   ],
   "source": [
    "player, next_player = next_player, player\n",
    "position = 1\n",
    "print(f'{board} {player} {position}')\n",
    "solution = Program.to([1023, position])\n",
    "conditions = curried_tic_tac_toe_coin_puzzle.run(solution)\n",
    "print(disassemble(conditions))\n",
    "coin_puzzle_hash = conditions.at(\"rfrf\")\n",
    "\n",
    "## verify puzzle\n",
    "board_state, board = tic_tac_toe.play(curried_tic_tac_toe_puzzle, position)\n",
    "tic_tac_toe.print_board(board)\n",
    "curried_tic_tac_toe_puzzle, curried_tic_tac_toe_coin_puzzle = tic_tac_toe.get_curried_tic_tac_toe_puzzles(\n",
    "    tic_tac_toe_coin_puzzle,\n",
    "    player_one_hash,\n",
    "    player_two_hash,\n",
    "    tic_tac_toe_puzzle,\n",
    "    board, \n",
    "    next_player\n",
    ")\n",
    "\n",
    "# new coin puzzle and curried_tic_tac_toe_coin_puzzle have to match\n",
    "assert curried_tic_tac_toe_coin_puzzle.get_tree_hash() == coin_puzzle_hash"
   ]
  },
  {
   "cell_type": "code",
   "execution_count": 11,
   "id": "77c4a990-1a34-4cdd-9fd4-6d3bf0ca803e",
   "metadata": {},
   "outputs": [
    {
     "name": "stdout",
     "output_type": "stream",
     "text": [
      "[1, 2, 0, 0, 0, 0, 0, 0, 0] 1 2\n",
      "((73 1023) (51 0x94977a2c0b27e2090c4ebf8b9c4517678f8f817070893f1fc62191a2c2130c91 1023))\n",
      " x | o | x \n",
      "---+---+---\n",
      "   |   |   \n",
      "---+---+---\n",
      "   |   |   \n"
     ]
    }
   ],
   "source": [
    "player, next_player = next_player, player\n",
    "position = 2\n",
    "print(f'{board} {player} {position}')\n",
    "solution = Program.to([1023, position])\n",
    "conditions = curried_tic_tac_toe_coin_puzzle.run(solution)\n",
    "print(disassemble(conditions))\n",
    "coin_puzzle_hash = conditions.at(\"rfrf\")\n",
    "\n",
    "## verify puzzle\n",
    "board_state, board = tic_tac_toe.play(curried_tic_tac_toe_puzzle, position)\n",
    "tic_tac_toe.print_board(board)\n",
    "curried_tic_tac_toe_puzzle, curried_tic_tac_toe_coin_puzzle = tic_tac_toe.get_curried_tic_tac_toe_puzzles(\n",
    "    tic_tac_toe_coin_puzzle,\n",
    "    player_one_hash,\n",
    "    player_two_hash,\n",
    "    tic_tac_toe_puzzle,\n",
    "    board, \n",
    "    next_player\n",
    ")\n",
    "\n",
    "# new coin puzzle and curried_tic_tac_toe_coin_puzzle have to match\n",
    "assert curried_tic_tac_toe_coin_puzzle.get_tree_hash() == coin_puzzle_hash"
   ]
  },
  {
   "cell_type": "code",
   "execution_count": 12,
   "id": "8ddd0759-2be0-405d-9b5a-a29bdfe4bfef",
   "metadata": {},
   "outputs": [
    {
     "name": "stdout",
     "output_type": "stream",
     "text": [
      "[1, 2, 1, 0, 0, 0, 0, 0, 0] 2 3\n",
      "((73 1023) (51 0xe28939f3536ca8bb5803666a68765ba88b29241558a12b1242740141299887d3 1023))\n",
      " x | o | x \n",
      "---+---+---\n",
      " o |   |   \n",
      "---+---+---\n",
      "   |   |   \n"
     ]
    }
   ],
   "source": [
    "player, next_player = next_player, player\n",
    "position = 3\n",
    "print(f'{board} {player} {position}')\n",
    "solution = Program.to([1023, position])\n",
    "conditions = curried_tic_tac_toe_coin_puzzle.run(solution)\n",
    "print(disassemble(conditions))\n",
    "coin_puzzle_hash = conditions.at(\"rfrf\")\n",
    "\n",
    "## verify puzzle\n",
    "board_state, board = tic_tac_toe.play(curried_tic_tac_toe_puzzle, position)\n",
    "tic_tac_toe.print_board(board)\n",
    "curried_tic_tac_toe_puzzle, curried_tic_tac_toe_coin_puzzle = tic_tac_toe.get_curried_tic_tac_toe_puzzles(\n",
    "    tic_tac_toe_coin_puzzle,\n",
    "    player_one_hash,\n",
    "    player_two_hash,\n",
    "    tic_tac_toe_puzzle,\n",
    "    board, \n",
    "    next_player\n",
    ")\n",
    "\n",
    "# new coin puzzle and curried_tic_tac_toe_coin_puzzle have to match\n",
    "assert curried_tic_tac_toe_coin_puzzle.get_tree_hash() == coin_puzzle_hash"
   ]
  },
  {
   "cell_type": "code",
   "execution_count": 13,
   "id": "d7fa1774-07ea-452b-91e9-d31274287fe7",
   "metadata": {},
   "outputs": [
    {
     "name": "stdout",
     "output_type": "stream",
     "text": [
      "[1, 2, 1, 2, 0, 0, 0, 0, 0] 1 4\n",
      "((73 1023) (51 0x1832a6a578a7bd0d6fca069234069be38eb24fc0112ca537473668d220fe358e 1023))\n",
      " x | o | x \n",
      "---+---+---\n",
      " o | x |   \n",
      "---+---+---\n",
      "   |   |   \n"
     ]
    }
   ],
   "source": [
    "player, next_player = next_player, player\n",
    "position = 4\n",
    "print(f'{board} {player} {position}')\n",
    "solution = Program.to([1023, position])\n",
    "conditions = curried_tic_tac_toe_coin_puzzle.run(solution)\n",
    "print(disassemble(conditions))\n",
    "coin_puzzle_hash = conditions.at(\"rfrf\")\n",
    "\n",
    "## verify puzzle\n",
    "board_state, board = tic_tac_toe.play(curried_tic_tac_toe_puzzle, position)\n",
    "tic_tac_toe.print_board(board)\n",
    "curried_tic_tac_toe_puzzle, curried_tic_tac_toe_coin_puzzle = tic_tac_toe.get_curried_tic_tac_toe_puzzles(\n",
    "    tic_tac_toe_coin_puzzle,\n",
    "    player_one_hash,\n",
    "    player_two_hash,\n",
    "    tic_tac_toe_puzzle,\n",
    "    board, \n",
    "    next_player\n",
    ")\n",
    "\n",
    "# new coin puzzle and curried_tic_tac_toe_coin_puzzle have to match\n",
    "assert curried_tic_tac_toe_coin_puzzle.get_tree_hash() == coin_puzzle_hash"
   ]
  },
  {
   "cell_type": "code",
   "execution_count": 14,
   "id": "91a8a54d-5e0d-43ca-85b0-f9a5bb2b574e",
   "metadata": {},
   "outputs": [
    {
     "name": "stdout",
     "output_type": "stream",
     "text": [
      "[1, 2, 1, 2, 1, 0, 0, 0, 0] 2 5\n",
      "((73 1023) (51 0x11ad1a7aecd116ca7e5c66f6f635a83b4ffc48a5a766ed159bff1b4ea12b8a13 1023))\n",
      " x | o | x \n",
      "---+---+---\n",
      " o | x | o \n",
      "---+---+---\n",
      "   |   |   \n"
     ]
    }
   ],
   "source": [
    "player, next_player = next_player, player\n",
    "position = 5\n",
    "print(f'{board} {player} {position}')\n",
    "solution = Program.to([1023, position])\n",
    "conditions = curried_tic_tac_toe_coin_puzzle.run(solution)\n",
    "print(disassemble(conditions))\n",
    "coin_puzzle_hash = conditions.at(\"rfrf\")\n",
    "\n",
    "## verify puzzle\n",
    "board_state, board = tic_tac_toe.play(curried_tic_tac_toe_puzzle, position)\n",
    "tic_tac_toe.print_board(board)\n",
    "curried_tic_tac_toe_puzzle, curried_tic_tac_toe_coin_puzzle = tic_tac_toe.get_curried_tic_tac_toe_puzzles(\n",
    "    tic_tac_toe_coin_puzzle,\n",
    "    player_one_hash,\n",
    "    player_two_hash,\n",
    "    tic_tac_toe_puzzle,\n",
    "    board, \n",
    "    next_player\n",
    ")\n",
    "\n",
    "# new coin puzzle and curried_tic_tac_toe_coin_puzzle have to match\n",
    "assert curried_tic_tac_toe_coin_puzzle.get_tree_hash() == coin_puzzle_hash"
   ]
  },
  {
   "cell_type": "code",
   "execution_count": 15,
   "id": "5a5cb862-24c1-4a0a-9d2c-86ce2913614d",
   "metadata": {},
   "outputs": [
    {
     "name": "stdout",
     "output_type": "stream",
     "text": [
      "[1, 2, 1, 2, 1, 2, 0, 0, 0] 1 7\n",
      "((73 1023) (51 0x37a3704e46115814aedf3078066c37ae6c6049923b7d561c34b32d1be35eb3ce 1023))\n",
      " x | o | x \n",
      "---+---+---\n",
      " o | x | o \n",
      "---+---+---\n",
      "   | x |   \n"
     ]
    }
   ],
   "source": [
    "player, next_player = next_player, player\n",
    "position = 7\n",
    "print(f'{board} {player} {position}')\n",
    "solution = Program.to([1023, position])\n",
    "conditions = curried_tic_tac_toe_coin_puzzle.run(solution)\n",
    "print(disassemble(conditions))\n",
    "coin_puzzle_hash = conditions.at(\"rfrf\")\n",
    "\n",
    "## verify puzzle\n",
    "board_state, board = tic_tac_toe.play(curried_tic_tac_toe_puzzle, position)\n",
    "tic_tac_toe.print_board(board)\n",
    "curried_tic_tac_toe_puzzle, curried_tic_tac_toe_coin_puzzle = tic_tac_toe.get_curried_tic_tac_toe_puzzles(\n",
    "    tic_tac_toe_coin_puzzle,\n",
    "    player_one_hash,\n",
    "    player_two_hash,\n",
    "    tic_tac_toe_puzzle,\n",
    "    board, \n",
    "    next_player\n",
    ")\n",
    "\n",
    "# new coin puzzle and curried_tic_tac_toe_coin_puzzle have to match\n",
    "assert curried_tic_tac_toe_coin_puzzle.get_tree_hash() == coin_puzzle_hash"
   ]
  },
  {
   "cell_type": "code",
   "execution_count": 16,
   "id": "1f20076e-c885-4c6b-ac85-53d03cacad4b",
   "metadata": {},
   "outputs": [
    {
     "name": "stdout",
     "output_type": "stream",
     "text": [
      "[1, 2, 1, 2, 1, 2, 0, 1, 0] 2 6\n",
      "((73 1023) (51 0x86006894358afcc8e70a3b6909fb3fd26b8b4eb338873bf86f32266469e9a124 1023))\n",
      " x | o | x \n",
      "---+---+---\n",
      " o | x | o \n",
      "---+---+---\n",
      " o | x |   \n"
     ]
    }
   ],
   "source": [
    "player, next_player = next_player, player\n",
    "position = 6\n",
    "print(f'{board} {player} {position}')\n",
    "solution = Program.to([1023, position])\n",
    "conditions = curried_tic_tac_toe_coin_puzzle.run(solution)\n",
    "print(disassemble(conditions))\n",
    "coin_puzzle_hash = conditions.at(\"rfrf\")\n",
    "\n",
    "## verify puzzle\n",
    "board_state, board = tic_tac_toe.play(curried_tic_tac_toe_puzzle, position)\n",
    "tic_tac_toe.print_board(board)\n",
    "curried_tic_tac_toe_puzzle, curried_tic_tac_toe_coin_puzzle = tic_tac_toe.get_curried_tic_tac_toe_puzzles(\n",
    "    tic_tac_toe_coin_puzzle,\n",
    "    player_one_hash,\n",
    "    player_two_hash,\n",
    "    tic_tac_toe_puzzle,\n",
    "    board, \n",
    "    next_player\n",
    ")\n",
    "\n",
    "# new coin puzzle and curried_tic_tac_toe_coin_puzzle have to match\n",
    "assert curried_tic_tac_toe_coin_puzzle.get_tree_hash() == coin_puzzle_hash"
   ]
  },
  {
   "cell_type": "code",
   "execution_count": 17,
   "id": "5db63d18-c110-4054-9a8a-008ff643caf7",
   "metadata": {},
   "outputs": [
    {
     "name": "stdout",
     "output_type": "stream",
     "text": [
      "[1, 2, 1, 2, 1, 2, 2, 1, 0] 1 8\n",
      "((51 0x900ddeed -113))\n"
     ]
    }
   ],
   "source": [
    "player, next_player = next_player, player\n",
    "position = 8\n",
    "print(f'{board} {player} {position}')\n",
    "solution = Program.to([1023, position])\n",
    "conditions = curried_tic_tac_toe_coin_puzzle.run(solution)\n",
    "print(disassemble(conditions))"
   ]
  },
  {
   "cell_type": "markdown",
   "id": "712307b9-de3e-4825-a7d1-0e1343bc6442",
   "metadata": {},
   "source": [
    "## Get Board From Curried Coin Puzzle"
   ]
  },
  {
   "cell_type": "code",
   "execution_count": 18,
   "id": "c0c4d92a-6583-49a4-8662-8b4973d58842",
   "metadata": {},
   "outputs": [
    {
     "name": "stdout",
     "output_type": "stream",
     "text": [
      "(a (q 2 (q 2 22 (c 2 (c 5 (c 11 (c 23 (c 431 (c (a 47 (c -65 ())) (c 95 (c (a (i (= 27503 (q . 1)) (q 1 . 2) (q 1 . 1)) 1) ()))))))))) (c (q (73 51 4 (c 8 (c 11 ())) (c (c 20 (c 5 (c 11 ()))) ())) ((c (q . 2) (c (c (q . 1) 5) (c (a 26 (c 2 (c 11 (q 1)))) ()))) 2 (i 5 (q 4 (q . 4) (c (c (q . 1) 9) (c (a 26 (c 2 (c 13 (c 11 ())))) ()))) (q . 11)) 1) (a (i (not (= () -97)) (q 4 (c 20 (q 0x900ddeed -113)) (a (i (= (q . -1) -97) () (q 4 (a (i (= (q . 1) -97) (q 4 20 (c 11 (c -65 ()))) (q 4 20 (c 23 (c -65 ())))) 1) ())) 1)) (q 2 28 (c 2 (c (a 30 (c 2 (c (a 18 (c 2 (c 5 (c (c 5 (c 11 (c 23 (c (a 18 (c 2 (c 47 (c (c 351 (c 383 ())) ())))) ())))) ())))) ()))) (c -65 ()))))) 1) 2 (i (l 5) (q 11 (q . 2) (a 30 (c 2 (c 9 ()))) (a 30 (c 2 (c 13 ())))) (q 11 (q . 1) 5)) 1) 1)) (c (q 2 (q 2 22 (c 2 (c 5 (c 11 (c 23 (c 431 (c (a 47 (c -65 ())) (c 95 (c (a (i (= 27503 (q . 1)) (q 1 . 2) (q 1 . 1)) 1) ()))))))))) (c (q (73 51 4 (c 8 (c 11 ())) (c (c 20 (c 5 (c 11 ()))) ())) ((c (q . 2) (c (c (q . 1) 5) (c (a 26 (c 2 (c 11 (q 1)))) ()))) 2 (i 5 (q 4 (q . 4) (c (c (q . 1) 9) (c (a 26 (c 2 (c 13 (c 11 ())))) ()))) (q . 11)) 1) (a (i (not (= () -97)) (q 4 (c 20 (q 0x900ddeed -113)) (a (i (= (q . -1) -97) () (q 4 (a (i (= (q . 1) -97) (q 4 20 (c 11 (c -65 ()))) (q 4 20 (c 23 (c -65 ())))) 1) ())) 1)) (q 2 28 (c 2 (c (a 30 (c 2 (c (a 18 (c 2 (c 5 (c (c 5 (c 11 (c 23 (c (a 18 (c 2 (c 47 (c (c 351 (c 383 ())) ())))) ())))) ())))) ()))) (c -65 ()))))) 1) 2 (i (l 5) (q 11 (q . 2) (a 30 (c 2 (c 9 ()))) (a 30 (c 2 (c 13 ())))) (q 11 (q . 1) 5)) 1) 1)) (c (q . 0xcafef00d) (c (q . 0xdeadbeef) (c (q 2 (q 2 (q 2 12 (c 2 (c (a 22 (c 2 (c 5 (c 11 (c 23 ()))))) (c 11 ())))) (c (q ((a (i (all (not (= 9 ())) (not (= 21 ())) (not (= 45 ())) (not (= 93 ())) (not (= -67 ())) (not (= 381 ())) (not (= 765 ())) (not (= 1533 ())) (not (= 3069 ()))) (q 1 . -1) (q 2 10 (c 2 (c (c 9 (c 21 (c 45 (c 93 (c -67 (c 381 (c 765 (c 1533 (c 3069 ()))))))))) (c 11 ()))))) 1) 4 (a 8 (c 2 (c 5 (c 11 ())))) (c 5 ())) (a (i (any (a (i (all (= 9 11) (= 21 11) (= 45 11)) (q 1 . 1) ()) 1) (a (i (all (= 93 11) (= -67 11) (= 381 11)) (q 1 . 1) ()) 1) (a (i (all (= 765 11) (= 1533 11) (= 3069 11)) (q 1 . 1) ()) 1) (a (i (all (= 9 11) (= 93 11) (= 765 11)) (q 1 . 1) ()) 1) (a (i (all (= 21 11) (= -67 11) (= 1533 11)) (q 1 . 1) ()) 1) (a (i (all (= 45 11) (= 381 11) (= 3069 11)) (q 1 . 1) ()) 1) (a (i (all (= 9 11) (= -67 11) (= 3069 11)) (q 1 . 1) ()) 1) (a (i (all (= 45 11) (= -67 11) (= 765 11)) (q 1 . 1) ()) 1)) (q . 11) ()) 1) (a (i (any (> () 23) (> 23 (q . 8))) (q 8 (q . \"position invalid\")) (q 2 30 (c 2 (c 5 (c 11 (c () (c 23 ()))))))) 1) 2 (i (l 5) (q 4 (a (i (= 23 47) (q 2 (i (= () 9) (q . 11) (q 8 (q . \"position already occupied\"))) 1) (q . 9)) 1) (a 30 (c 2 (c 13 (c 11 (c (+ 23 (q . 1)) (c 47 ()))))))) ()) 1) 1)) (c (q () 1 1 () 2 () 2 () ()) (c (q . 1) 1))) 1)))))\n"
     ]
    }
   ],
   "source": [
    "from pathlib import Path\n",
    "import sys\n",
    "sys.path.insert(0, \".\")\n",
    "import tic_tac_toe\n",
    "\n",
    "from clvm_tools.binutils import disassemble\n",
    "board = [0, 1, 1, 0, 2, 0, 2, 0, 0]\n",
    "player_one_hash = bytes.fromhex(\"cafef00d\")\n",
    "player_two_hash = bytes.fromhex(\"deadbeef\")\n",
    "# player 1 (x)\n",
    "player = 1\n",
    "# prepare the tic-tac-toe inner puzzle\n",
    "curried_tic_tac_toe_puzzle = tic_tac_toe.get_curried_tic_tac_toe_puzzle(\n",
    "    tic_tac_toe_puzzle, board, player\n",
    ")\n",
    "curried_tic_tac_toe_coin_puzzle = tic_tac_toe_coin_puzzle.curry(\n",
    "    tic_tac_toe_coin_puzzle,\n",
    "    player_one_hash,\n",
    "    player_two_hash, \n",
    "    curried_tic_tac_toe_puzzle)\n",
    "\n",
    "print(disassemble(curried_tic_tac_toe_coin_puzzle))"
   ]
  },
  {
   "cell_type": "code",
   "execution_count": 19,
   "id": "8fe222c2-99c8-47f8-9235-abfe0b454b41",
   "metadata": {},
   "outputs": [
    {
     "name": "stdout",
     "output_type": "stream",
     "text": [
      "(() 1 1 () 2 () 2 () ())\n"
     ]
    }
   ],
   "source": [
    "board_from_puzzle = curried_tic_tac_toe_coin_puzzle.at(\"rrfrrfrrfrrfrfrrrfrfr\")\n",
    "print(disassemble(board_from_puzzle))"
   ]
  },
  {
   "cell_type": "code",
   "execution_count": 20,
   "id": "c8d21fda-1bc9-4834-b1fe-48c21f97eb22",
   "metadata": {},
   "outputs": [
    {
     "name": "stdout",
     "output_type": "stream",
     "text": [
      "(() 1 1 () 2 () 2 () ())\n",
      "   | x | x \n",
      "---+---+---\n",
      "   | o |   \n",
      "---+---+---\n",
      " o |   |   \n"
     ]
    }
   ],
   "source": [
    "board_from_puzzle = curried_tic_tac_toe_coin_puzzle.at(\"rrfrrfrrfrrfrfrrrfrfr\")\n",
    "print(disassemble(board_from_puzzle))\n",
    "board_from_puzzle = tic_tac_toe.get_board_from_curried_tic_tac_toe_coin_puzzle(curried_tic_tac_toe_coin_puzzle)\n",
    "tic_tac_toe.print_board(board_from_puzzle)"
   ]
  },
  {
   "cell_type": "code",
   "execution_count": 21,
   "id": "556b9277-b3d6-45fa-b3f7-840d72fde03e",
   "metadata": {},
   "outputs": [
    {
     "name": "stdout",
     "output_type": "stream",
     "text": [
      "(() (a 1 1 () 2 () 2 () ()))\n"
     ]
    }
   ],
   "source": [
    "from clvm.casts import int_to_bytes\n",
    "board_from_puzzle = curried_tic_tac_toe_coin_puzzle.at(\"rrfrrfrrfrrfrfrrrfrfr\")\n",
    "solution = Program.to([board_from_puzzle, int_to_bytes(2), int_to_bytes(0)])\n",
    "result = tic_tac_toe_puzzle.run(solution)\n",
    "print(disassemble(result))"
   ]
  }
 ],
 "metadata": {
  "kernelspec": {
   "display_name": "Python 3 (ipykernel)",
   "language": "python",
   "name": "python3"
  },
  "language_info": {
   "codemirror_mode": {
    "name": "ipython",
    "version": 3
   },
   "file_extension": ".py",
   "mimetype": "text/x-python",
   "name": "python",
   "nbconvert_exporter": "python",
   "pygments_lexer": "ipython3",
   "version": "3.8.10"
  }
 },
 "nbformat": 4,
 "nbformat_minor": 5
}
