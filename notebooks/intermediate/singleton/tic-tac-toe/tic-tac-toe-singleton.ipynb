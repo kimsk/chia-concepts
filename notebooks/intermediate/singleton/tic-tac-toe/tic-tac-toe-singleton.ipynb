{
 "cells": [
  {
   "cell_type": "code",
   "execution_count": 1,
   "id": "339bca37-d27c-46bc-b675-ba1a3eaf990d",
   "metadata": {},
   "outputs": [
    {
     "name": "stdout",
     "output_type": "stream",
     "text": [
      "1.4.0\n",
      "cdv, version 1.0.8\n"
     ]
    }
   ],
   "source": [
    "%%bash\n",
    "chia version\n",
    "cdv --version"
   ]
  },
  {
   "cell_type": "markdown",
   "id": "f2502e4e-eb08-40eb-8ab5-d18d7011ed18",
   "metadata": {},
   "source": [
    "# Tic Tac Toe\n",
    "\n",
    "> Use [singleton_top_layer_v1_1](https://github.com/Chia-Network/chia-blockchain/blob/main/chia/wallet/puzzles/singleton_top_layer_v1_1.py)\n",
    "\n",
    "Inner Puzzle is [tic tac toe coin](tic-tac-toe-coin.ipynb)."
   ]
  },
  {
   "cell_type": "code",
   "execution_count": 2,
   "id": "9d3f473f-808d-43e8-8137-7144beab15b3",
   "metadata": {},
   "outputs": [],
   "source": [
    "from pathlib import Path\n",
    "import sys\n",
    "\n",
    "# import singleton_helpers and tic_tac_toe\n",
    "sys.path.insert(0, \".\")\n",
    "import tic_tac_toe\n",
    "sys.path.insert(0, \"..\")\n",
    "import singleton_helpers_v1_1"
   ]
  },
  {
   "cell_type": "code",
   "execution_count": 3,
   "id": "9fe49397-a654-45fb-9485-0d3f18910363",
   "metadata": {},
   "outputs": [],
   "source": [
    "from chia.types.blockchain_format.program import Program\n",
    "from clvm.casts import int_to_bytes\n",
    "from clvm_tools.clvmc import compile_clvm_text\n",
    "from clvm_tools.binutils import disassemble\n",
    "\n",
    "tic_tac_toe_puzzle = tic_tac_toe.load_puzzle()\n",
    "tic_tac_toe_coin_puzzle = tic_tac_toe.load_coin_puzzle()"
   ]
  },
  {
   "cell_type": "code",
   "execution_count": 4,
   "id": "66f54c85-cca1-40c8-b9db-9110a80318d7",
   "metadata": {},
   "outputs": [
    {
     "name": "stdout",
     "output_type": "stream",
     "text": [
      "alice balance:\t\t2000000000000\n",
      "alice puzzle hash:\t4f45877796d7a64e192bcc9f899afeedae391f71af3afd7e15a0792c049d23d3\n",
      "bob balance:\t\t2000000000000\n",
      "bob puzzle hash:\t87908e3f85bf4b55c7e7709915c2ce97a1e6ec1d227e54a04dbfee6862d546a5\n"
     ]
    }
   ],
   "source": [
    "from chia.wallet.puzzles import (singleton_top_layer_v1_1, p2_delegated_puzzle_or_hidden_puzzle)\n",
    "from cdv.test import Network, Wallet\n",
    "\n",
    "network: Network = await Network.create()\n",
    "\n",
    "# use as function parameters\n",
    "get_coin_records_by_parent_ids = network.sim_client.get_coin_records_by_parent_ids\n",
    "get_coin_record_by_name = network.sim_client.get_coin_record_by_name\n",
    "get_puzzle_and_solution = network.sim_client.get_puzzle_and_solution        \n",
    "get_block_records = network.sim_client.get_block_records\n",
    "get_additions_and_removals = network.sim_client.get_additions_and_removals\n",
    "\n",
    "await network.farm_block()\n",
    "\n",
    "alice: Wallet = network.make_wallet(\"alice\")\n",
    "bob: Wallet = network.make_wallet(\"bob\")\n",
    "await network.farm_block(farmer=alice)\n",
    "await network.farm_block(farmer=bob)\n",
    "\n",
    "print(f'alice balance:\\t\\t{alice.balance()}')\n",
    "print(f'alice puzzle hash:\\t{alice.puzzle_hash}')\n",
    "print(f'bob balance:\\t\\t{bob.balance()}')\n",
    "print(f'bob puzzle hash:\\t{bob.puzzle_hash}')"
   ]
  },
  {
   "cell_type": "code",
   "execution_count": 5,
   "id": "9d8efbfd-d9ef-4df6-9e35-ea1513b72c29",
   "metadata": {},
   "outputs": [],
   "source": [
    "# prepare tic tac toe coin\n",
    "# empty board\n",
    "board = [0] * 9\n",
    "# player one (x)\n",
    "player = 1\n",
    "curried_tic_tac_toe_puzzle = tic_tac_toe.get_curried_puzzle(\n",
    "    tic_tac_toe_puzzle, board, player\n",
    ")\n",
    "curried_tic_tac_toe_coin_puzzle = tic_tac_toe_coin_puzzle.curry(\n",
    "    tic_tac_toe_coin_puzzle,\n",
    "    alice.puzzle_hash, # player one (x)\n",
    "    bob.puzzle_hash, # player two (o)\n",
    "    curried_tic_tac_toe_puzzle)\n",
    "\n",
    "# print(disassemble(curried_tic_tac_toe_puzzle))\n",
    "# print()\n",
    "# print(disassemble(curried_tic_tac_toe_coin_puzzle))"
   ]
  },
  {
   "cell_type": "code",
   "execution_count": 6,
   "id": "2dca4963-307a-4701-b8b5-2c3340762d35",
   "metadata": {},
   "outputs": [
    {
     "name": "stdout",
     "output_type": "stream",
     "text": [
      "\n",
      "starting coin spend:\n",
      "{\n",
      "    \"coin\": {\n",
      "        \"amount\": 1750000000000,\n",
      "        \"parent_coin_info\": \"0xe3b0c44298fc1c149afbf4c8996fb92400000000000000000000000000000001\",\n",
      "        \"puzzle_hash\": \"0x4f45877796d7a64e192bcc9f899afeedae391f71af3afd7e15a0792c049d23d3\"\n",
      "    },\n",
      "    \"puzzle_reveal\": \"0xff02ffff01ff02ffff01ff02ffff03ff0bffff01ff02ffff03ffff09ff05ffff1dff0bffff1effff0bff0bffff02ff06ffff04ff02ffff04ff17ff8080808080808080ffff01ff02ff17ff2f80ffff01ff088080ff0180ffff01ff04ffff04ff04ffff04ff05ffff04ffff02ff06ffff04ff02ffff04ff17ff80808080ff80808080ffff02ff17ff2f808080ff0180ffff04ffff01ff32ff02ffff03ffff07ff0580ffff01ff0bffff0102ffff02ff06ffff04ff02ffff04ff09ff80808080ffff02ff06ffff04ff02ffff04ff0dff8080808080ffff01ff0bffff0101ff058080ff0180ff018080ffff04ffff01b0a042c855d234578415254b7870b711fb25e8f85beaa4a66bd0673d394c761fa156406c2e3bb375d5b18766d2a12cc918ff018080\",\n",
      "    \"solution\": \"0xff80ffff01ffff33ffa0eff07522495060c066f66f32acc2a77e3a3e737aca8baea4d1a64ea4cdc13da9ff8203ff80ffff3dffa0e6a4e5248c75c85ebc8ce9c0f895a33891e968c6a4b9ea2090e6816720b77a4c80ffff33ffa04f45877796d7a64e192bcc9f899afeedae391f71af3afd7e15a0792c049d23d3ff8601977420d8018080ff8080\"\n",
      "}\n",
      "\n",
      "launcher coin spend:\n",
      "{\n",
      "    \"coin\": {\n",
      "        \"amount\": 1023,\n",
      "        \"parent_coin_info\": \"0x12d7b8c1654f82f2330059abc28e3240e863450706de7fdc518026f393f68bba\",\n",
      "        \"puzzle_hash\": \"0xeff07522495060c066f66f32acc2a77e3a3e737aca8baea4d1a64ea4cdc13da9\"\n",
      "    },\n",
      "    \"puzzle_reveal\": \"0xff02ffff01ff04ffff04ff04ffff04ff05ffff04ff0bff80808080ffff04ffff04ff0affff04ffff02ff0effff04ff02ffff04ffff04ff05ffff04ff0bffff04ff17ff80808080ff80808080ff808080ff808080ffff04ffff01ff33ff3cff02ffff03ffff07ff0580ffff01ff0bffff0102ffff02ff0effff04ff02ffff04ff09ff80808080ffff02ff0effff04ff02ffff04ff0dff8080808080ffff01ff0bffff0101ff058080ff0180ff018080\",\n",
      "    \"solution\": \"0xffa07a56d20c59d68dd1b72c680d61aafef7d65d307c7b60a8f9c65da9c803ad3019ff8203ffffffff8467616d658b7469632074616320746f65ffff8a706c61796572206f6e6585616c696365ffff8a706c617965722074776f83626f628080\"\n",
      "}\n",
      "\n",
      "launcher id: 6a4ba7e394f8d346deafcda74b26bcad649ed0cb691d7172b14970c4cf47a570\n",
      "\n",
      "standard_coin_message: c5530018cd0b4798db771f08e2287f37c2b98157e6036d3ed679e867f7c5504e12d7b8c1654f82f2330059abc28e3240e863450706de7fdc518026f393f68bbaccd5bb71183532bff220ba46c268991a3ff07eb358e8255a65c30a2dce0e5fbb\n"
     ]
    }
   ],
   "source": [
    "standard_txn_coin_wrapper = await alice.choose_coin(1_750_000_000_000)\n",
    "standard_txn_coin = standard_txn_coin_wrapper.as_coin()\n",
    "standard_txn_puzzle = p2_delegated_puzzle_or_hidden_puzzle.puzzle_for_pk(alice.pk())\n",
    "\n",
    "inner_puzzle = curried_tic_tac_toe_coin_puzzle\n",
    "standard_coin_message, coin_spends = singleton_helpers_v1_1.get_create_singleton_coin_spends(\n",
    "                    standard_txn_coin,\n",
    "                    standard_txn_puzzle,\n",
    "                    odd_amount = 1023, \n",
    "                    inner_puzzle = inner_puzzle,\n",
    "                    keys_values = [\n",
    "                        (\"game\", \"tic tac toe\"),\n",
    "                        (\"player one\", \"alice\"),\n",
    "                        (\"player two\", \"bob\")\n",
    "                    ]\n",
    "              )\n",
    "standard_txn_coin_spend = coin_spends[0]\n",
    "launcher_coin_spend = coin_spends[1]\n",
    "print(\"\\nstarting coin spend:\")\n",
    "singleton_helpers_v1_1.print_json(standard_txn_coin_spend.to_json_dict())\n",
    "print(\"\\nlauncher coin spend:\")\n",
    "singleton_helpers_v1_1.print_json(launcher_coin_spend.to_json_dict())\n",
    "print(f'\\nlauncher id: {launcher_coin_spend.coin.name()}')\n",
    "print(f'\\nstandard_coin_message: {standard_coin_message.hex()}')\n",
    "\n",
    "# print(disassemble(inner_puzzle))"
   ]
  },
  {
   "cell_type": "code",
   "execution_count": 7,
   "id": "9e8ac929-a60f-4e11-a6be-d3e4cb99c3d0",
   "metadata": {},
   "outputs": [
    {
     "data": {
      "text/plain": [
       "{'additions': [Coin(parent_coin_info=<bytes32: 12d7b8c1654f82f2330059abc28e3240e863450706de7fdc518026f393f68bba>, puzzle_hash=<bytes32: eff07522495060c066f66f32acc2a77e3a3e737aca8baea4d1a64ea4cdc13da9>, amount=1023),\n",
       "  Coin(parent_coin_info=<bytes32: 12d7b8c1654f82f2330059abc28e3240e863450706de7fdc518026f393f68bba>, puzzle_hash=<bytes32: 4f45877796d7a64e192bcc9f899afeedae391f71af3afd7e15a0792c049d23d3>, amount=1749999998977),\n",
       "  Coin(parent_coin_info=<bytes32: 6a4ba7e394f8d346deafcda74b26bcad649ed0cb691d7172b14970c4cf47a570>, puzzle_hash=<bytes32: 7a56d20c59d68dd1b72c680d61aafef7d65d307c7b60a8f9c65da9c803ad3019>, amount=1023)],\n",
       " 'removals': [Coin(parent_coin_info=<bytes32: e3b0c44298fc1c149afbf4c8996fb92400000000000000000000000000000001>, puzzle_hash=<bytes32: 4f45877796d7a64e192bcc9f899afeedae391f71af3afd7e15a0792c049d23d3>, amount=1750000000000),\n",
       "  Coin(parent_coin_info=<bytes32: 12d7b8c1654f82f2330059abc28e3240e863450706de7fdc518026f393f68bba>, puzzle_hash=<bytes32: eff07522495060c066f66f32acc2a77e3a3e737aca8baea4d1a64ea4cdc13da9>, amount=1023)]}"
      ]
     },
     "execution_count": 7,
     "metadata": {},
     "output_type": "execute_result"
    }
   ],
   "source": [
    "# sign the standard txn spend\n",
    "from blspy import AugSchemeMPL, PrivateKey\n",
    "from chia.consensus.default_constants import DEFAULT_CONSTANTS\n",
    "\n",
    "synthetic_sk: PrivateKey = p2_delegated_puzzle_or_hidden_puzzle.calculate_synthetic_secret_key(\n",
    "    alice.sk_,\n",
    "    p2_delegated_puzzle_or_hidden_puzzle.DEFAULT_HIDDEN_PUZZLE_HASH\n",
    ")\n",
    "\n",
    "signature = AugSchemeMPL.sign(synthetic_sk,standard_coin_message)\n",
    "\n",
    "# push txn to create an eve singleton\n",
    "from chia.types.spend_bundle import SpendBundle\n",
    "\n",
    "spend_bundle = SpendBundle(\n",
    "    coin_spends,\n",
    "    signature\n",
    ")\n",
    "await network.push_tx(spend_bundle)"
   ]
  },
  {
   "cell_type": "code",
   "execution_count": 8,
   "id": "8918329f-7e42-4e28-87d8-8d776d0ba296",
   "metadata": {},
   "outputs": [
    {
     "name": "stdout",
     "output_type": "stream",
     "text": [
      "singleton_coin:\n",
      "{'amount': 1023,\n",
      " 'parent_coin_info': '0x6a4ba7e394f8d346deafcda74b26bcad649ed0cb691d7172b14970c4cf47a570',\n",
      " 'puzzle_hash': '0x7a56d20c59d68dd1b72c680d61aafef7d65d307c7b60a8f9c65da9c803ad3019'}\n",
      "\n",
      "lineage_proof:\n",
      "{'amount': 1023,\n",
      " 'inner_puzzle_hash': None,\n",
      " 'parent_name': '0x12d7b8c1654f82f2330059abc28e3240e863450706de7fdc518026f393f68bba'}\n",
      "\n",
      "inner_solution:\n",
      "ff8203ffff0480\n",
      "\n",
      "singleton_puzzle:\n",
      "7a56d20c59d68dd1b72c680d61aafef7d65d307c7b60a8f9c65da9c803ad3019\n",
      "\n",
      "singleton_coin_spend:\n",
      "{\n",
      "    \"coin\": {\n",
      "        \"amount\": 1023,\n",
      "        \"parent_coin_info\": \"0x6a4ba7e394f8d346deafcda74b26bcad649ed0cb691d7172b14970c4cf47a570\",\n",
      "        \"puzzle_hash\": \"0x7a56d20c59d68dd1b72c680d61aafef7d65d307c7b60a8f9c65da9c803ad3019\"\n",
      "    },\n",
      "    \"puzzle_reveal\": \"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\",\n",
      "    \"solution\": \"0xffffa012d7b8c1654f82f2330059abc28e3240e863450706de7fdc518026f393f68bbaff8203ff80ff8203ffffff8203ffff048080\"\n",
      "}\n"
     ]
    }
   ],
   "source": [
    "# spend eve singleton\n",
    "network.sim.pass_blocks(1)\n",
    "launcher_id = launcher_coin_spend.coin.name()\n",
    "singleton_struct = (\n",
    "        singleton_top_layer_v1_1.SINGLETON_MOD_HASH, \n",
    "        (launcher_id, singleton_top_layer_v1_1.SINGLETON_LAUNCHER_HASH)\n",
    "    )\n",
    "\n",
    "singleton_puzzle = singleton_top_layer_v1_1.SINGLETON_MOD.curry(\n",
    "            singleton_struct,\n",
    "            inner_puzzle,\n",
    "    )\n",
    "\n",
    "singleton_coin = await singleton_helpers_v1_1.get_unspent_singleton(\n",
    "    get_coin_records_by_parent_ids, \n",
    "    launcher_id) \n",
    "\n",
    "lineage_proof = singleton_top_layer_v1_1.lineage_proof_for_coinsol(launcher_coin_spend)\n",
    "\n",
    "odd_amount = 1023\n",
    "position = 4\n",
    "inner_solution = Program.to([\n",
    "    odd_amount, \n",
    "    position\n",
    "])\n",
    "\n",
    "singleton_coin_spend = singleton_helpers_v1_1.get_singleton_coin_spend(\n",
    "        singleton_coin, singleton_puzzle, lineage_proof, inner_solution\n",
    "    )\n",
    "\n",
    "print(f'singleton_coin:\\n{singleton_coin}')\n",
    "print(f'\\nlineage_proof:\\n{lineage_proof}')\n",
    "print(f'\\ninner_solution:\\n{inner_solution}')\n",
    "print(f'\\nsingleton_puzzle:\\n{singleton_puzzle.get_tree_hash()}')\n",
    "\n",
    "print('\\nsingleton_coin_spend:')\n",
    "singleton_helpers_v1_1.print_json(singleton_coin_spend.to_json_dict())"
   ]
  },
  {
   "cell_type": "code",
   "execution_count": 9,
   "id": "7b62b640-f2e4-4ddf-829a-5e04455ef624",
   "metadata": {},
   "outputs": [
    {
     "name": "stdout",
     "output_type": "stream",
     "text": [
      "{\n",
      "    \"aggregated_signature\": \"0xc00000000000000000000000000000000000000000000000000000000000000000000000000000000000000000000000000000000000000000000000000000000000000000000000000000000000000000000000000000000000000000000000\",\n",
      "    \"coin_solutions\": [\n",
      "        {\n",
      "            \"coin\": {\n",
      "                \"amount\": 1023,\n",
      "                \"parent_coin_info\": \"0x6a4ba7e394f8d346deafcda74b26bcad649ed0cb691d7172b14970c4cf47a570\",\n",
      "                \"puzzle_hash\": \"0x7a56d20c59d68dd1b72c680d61aafef7d65d307c7b60a8f9c65da9c803ad3019\"\n",
      "            },\n",
      "            \"puzzle_reveal\": \"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\",\n",
      "            \"solution\": \"0xffffa012d7b8c1654f82f2330059abc28e3240e863450706de7fdc518026f393f68bbaff8203ff80ff8203ffffff8203ffff048080\"\n",
      "        }\n",
      "    ]\n",
      "}\n"
     ]
    },
    {
     "data": {
      "text/plain": [
       "{'additions': [Coin(parent_coin_info=<bytes32: 09626e520eb95437de86e181ae3e4d32663ac12cc515bc9d83d3c0e6f649be80>, puzzle_hash=<bytes32: f6dd76a3c69ad8e979949330ed244cf299fc07c468e0a693247ddcbcfe1efaf7>, amount=1023)],\n",
       " 'removals': [Coin(parent_coin_info=<bytes32: 6a4ba7e394f8d346deafcda74b26bcad649ed0cb691d7172b14970c4cf47a570>, puzzle_hash=<bytes32: 7a56d20c59d68dd1b72c680d61aafef7d65d307c7b60a8f9c65da9c803ad3019>, amount=1023)]}"
      ]
     },
     "execution_count": 9,
     "metadata": {},
     "output_type": "execute_result"
    }
   ],
   "source": [
    "from blspy import G2Element\n",
    "spend_bundle = SpendBundle(\n",
    "    [singleton_coin_spend],\n",
    "    G2Element()\n",
    ")\n",
    "singleton_helpers_v1_1.print_json(spend_bundle.to_json_dict())\n",
    "await network.push_tx(spend_bundle)"
   ]
  },
  {
   "cell_type": "code",
   "execution_count": 10,
   "id": "d441f877-ef54-48b3-811c-dda966e4a269",
   "metadata": {},
   "outputs": [
    {
     "name": "stdout",
     "output_type": "stream",
     "text": [
      "\n",
      "singleton_coin:\n",
      "{'amount': 1023,\n",
      " 'parent_coin_info': '0x09626e520eb95437de86e181ae3e4d32663ac12cc515bc9d83d3c0e6f649be80',\n",
      " 'puzzle_hash': '0xf6dd76a3c69ad8e979949330ed244cf299fc07c468e0a693247ddcbcfe1efaf7'}\n",
      "\n",
      "parent_coin_record:\n",
      "{'coin': {'amount': 1023,\n",
      "          'parent_coin_info': '0x6a4ba7e394f8d346deafcda74b26bcad649ed0cb691d7172b14970c4cf47a570',\n",
      "          'puzzle_hash': '0x7a56d20c59d68dd1b72c680d61aafef7d65d307c7b60a8f9c65da9c803ad3019'},\n",
      " 'coinbase': False,\n",
      " 'confirmed_block_index': 3,\n",
      " 'spent_block_index': 5,\n",
      " 'timestamp': 1}\n"
     ]
    }
   ],
   "source": [
    "# get puzzle reveal and solution\n",
    "singleton_coin = await singleton_helpers_v1_1.get_unspent_singleton(get_coin_records_by_parent_ids, launcher_id)\n",
    "parent_id = singleton_coin.parent_coin_info\n",
    "parent_coin_record = await get_coin_record_by_name(parent_id)\n",
    "spent_block_index = parent_coin_record.spent_block_index\n",
    "coin_spent = await get_puzzle_and_solution(parent_id, spent_block_index)\n",
    "singleton_puzzle = coin_spent.puzzle_reveal.to_program()\n",
    "singleton_solution = coin_spent.solution.to_program()\n",
    "print(f'\\nsingleton_coin:\\n{singleton_coin}')\n",
    "print(f'\\nparent_coin_record:\\n{parent_coin_record}')\n",
    "# print(disassemble(singleton_puzzle))"
   ]
  },
  {
   "cell_type": "code",
   "execution_count": 11,
   "id": "a651f2ad-cb9b-4522-807d-663b2c01d40f",
   "metadata": {},
   "outputs": [
    {
     "name": "stdout",
     "output_type": "stream",
     "text": [
      "   |   |   \n",
      "---+---+---\n",
      "   |   |   \n",
      "---+---+---\n",
      "   |   |   \n",
      "player: 1\n",
      "((0x12d7b8c1654f82f2330059abc28e3240e863450706de7fdc518026f393f68bba 1023) 1023 (1023 4))\n",
      "position: 4\n",
      "   |   |   \n",
      "---+---+---\n",
      "   | x |   \n",
      "---+---+---\n",
      "   |   |   \n"
     ]
    }
   ],
   "source": [
    "from clvm_tools.binutils import disassemble\n",
    "# get last board and last player\n",
    "curried_tic_tac_toe_puzzle = tic_tac_toe.get_curried_puzzle_from_curried_coin_puzzle(curried_tic_tac_toe_coin_puzzle)\n",
    "board_from_puzzle = tic_tac_toe.get_board_from_curried_puzzle(curried_tic_tac_toe_puzzle)\n",
    "tic_tac_toe.print_board(board_from_puzzle)\n",
    "\n",
    "player_from_puzzle = tic_tac_toe.get_player_from_curried_puzzle(curried_tic_tac_toe_puzzle)\n",
    "print(f'player: {player_from_puzzle}')\n",
    "\n",
    "# get position from spent singleton solution\n",
    "# use it to get current board\n",
    "print(disassemble(singleton_solution))\n",
    "position_from_solution = tic_tac_toe.get_position_from_singleton_solution(singleton_solution)\n",
    "print(f'position: {position_from_solution}')\n",
    "_, current_board = tic_tac_toe.play(curried_tic_tac_toe_puzzle, position_from_solution)\n",
    "tic_tac_toe.print_board(current_board)"
   ]
  },
  {
   "cell_type": "code",
   "execution_count": 12,
   "id": "805f9ccc-ecde-42c7-a4e0-f67c445d693d",
   "metadata": {},
   "outputs": [
    {
     "name": "stdout",
     "output_type": "stream",
     "text": [
      "0\n",
      "   |   |   \n",
      "---+---+---\n",
      "   | x |   \n",
      "---+---+---\n",
      "   |   |   \n"
     ]
    }
   ],
   "source": [
    "result, current_board = await tic_tac_toe.get_current_state(get_coin_records_by_parent_ids, get_coin_record_by_name, get_puzzle_and_solution, launcher_id)\n",
    "print(result)\n",
    "tic_tac_toe.print_board(current_board)"
   ]
  },
  {
   "cell_type": "code",
   "execution_count": 13,
   "id": "d01581b8-8965-4c2c-af04-21e80493b06a",
   "metadata": {},
   "outputs": [
    {
     "name": "stdout",
     "output_type": "stream",
     "text": [
      "singleton_struct:\n",
      "(<bytes32: 7faa3253bfddd1e0decb0906b2dc6247bbc4cf608f58345d173adb63e8b47c9f>, (<bytes32: 6a4ba7e394f8d346deafcda74b26bcad649ed0cb691d7172b14970c4cf47a570>, <bytes32: eff07522495060c066f66f32acc2a77e3a3e737aca8baea4d1a64ea4cdc13da9>))\n",
      "singleton_coin:\n",
      "{'amount': 1023,\n",
      " 'parent_coin_info': '0x09626e520eb95437de86e181ae3e4d32663ac12cc515bc9d83d3c0e6f649be80',\n",
      " 'puzzle_hash': '0xf6dd76a3c69ad8e979949330ed244cf299fc07c468e0a693247ddcbcfe1efaf7'}\n",
      "\n",
      "lineage_proof:\n",
      "{'amount': 1023,\n",
      " 'inner_puzzle_hash': '0x2950dbd372a6fe5d9e0fc2d2bcae3ba5339ed41df3ca45b94a8631bc5959c712',\n",
      " 'parent_name': '0x6a4ba7e394f8d346deafcda74b26bcad649ed0cb691d7172b14970c4cf47a570'}\n",
      "\n",
      "inner_solution:\n",
      "ff8203ffff0180\n",
      "\n",
      "singleton_coin_spend:\n",
      "{\n",
      "    \"coin\": {\n",
      "        \"amount\": 1023,\n",
      "        \"parent_coin_info\": \"0x09626e520eb95437de86e181ae3e4d32663ac12cc515bc9d83d3c0e6f649be80\",\n",
      "        \"puzzle_hash\": \"0xf6dd76a3c69ad8e979949330ed244cf299fc07c468e0a693247ddcbcfe1efaf7\"\n",
      "    },\n",
      "    \"puzzle_reveal\": \"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\",\n",
      "    \"solution\": \"0xffffa06a4ba7e394f8d346deafcda74b26bcad649ed0cb691d7172b14970c4cf47a570ffa02950dbd372a6fe5d9e0fc2d2bcae3ba5339ed41df3ca45b94a8631bc5959c712ff8203ff80ff8203ffffff8203ffff018080\"\n",
      "}\n"
     ]
    }
   ],
   "source": [
    "# spend next singleton\n",
    "network.sim.pass_blocks(1)\n",
    "singleton_struct = (\n",
    "        singleton_top_layer_v1_1.SINGLETON_MOD_HASH, \n",
    "        (launcher_id, singleton_top_layer_v1_1.SINGLETON_LAUNCHER_HASH)\n",
    "    )\n",
    "\n",
    "# new curried_tic_tac_toe_coin_puzzle\n",
    "player = 2\n",
    "curried_tic_tac_toe_puzzle = tic_tac_toe.get_curried_puzzle(\n",
    "    tic_tac_toe_puzzle, current_board, player\n",
    ")\n",
    "\n",
    "curried_tic_tac_toe_coin_puzzle = tic_tac_toe_coin_puzzle.curry(\n",
    "    tic_tac_toe_coin_puzzle,\n",
    "    alice.puzzle_hash, # player one (x)\n",
    "    bob.puzzle_hash, # player two (o)\n",
    "    curried_tic_tac_toe_puzzle)\n",
    "\n",
    "inner_puzzle = curried_tic_tac_toe_coin_puzzle\n",
    "singleton_puzzle: Program = singleton_top_layer_v1_1.puzzle_for_singleton(\n",
    "    launcher_id,\n",
    "    inner_puzzle\n",
    ")\n",
    "\n",
    "singleton_coin = await singleton_helpers_v1_1.get_unspent_singleton(\n",
    "    get_coin_records_by_parent_ids, \n",
    "    launcher_id)\n",
    "\n",
    "lineage_proof = singleton_top_layer_v1_1.lineage_proof_for_coinsol(singleton_coin_spend)\n",
    "\n",
    "odd_amount = 1023\n",
    "position = 1\n",
    "inner_solution = Program.to([\n",
    "    odd_amount,\n",
    "    position\n",
    "])\n",
    "\n",
    "singleton_coin_spend = singleton_helpers_v1_1.get_singleton_coin_spend(\n",
    "        singleton_coin, singleton_puzzle, lineage_proof, inner_solution\n",
    ")\n",
    "\n",
    "print(f'singleton_struct:\\n{singleton_struct}')\n",
    "print(f'singleton_coin:\\n{singleton_coin}')\n",
    "print(f'\\nlineage_proof:\\n{lineage_proof}')\n",
    "print(f'\\ninner_solution:\\n{inner_solution}')\n",
    "\n",
    "print('\\nsingleton_coin_spend:')\n",
    "singleton_helpers_v1_1.print_json(singleton_coin_spend.to_json_dict())"
   ]
  },
  {
   "cell_type": "code",
   "execution_count": 14,
   "id": "a204716b-949f-40fa-bc8c-a05734150b2c",
   "metadata": {},
   "outputs": [
    {
     "name": "stdout",
     "output_type": "stream",
     "text": [
      "{\n",
      "    \"aggregated_signature\": \"0xc00000000000000000000000000000000000000000000000000000000000000000000000000000000000000000000000000000000000000000000000000000000000000000000000000000000000000000000000000000000000000000000000\",\n",
      "    \"coin_solutions\": [\n",
      "        {\n",
      "            \"coin\": {\n",
      "                \"amount\": 1023,\n",
      "                \"parent_coin_info\": \"0x09626e520eb95437de86e181ae3e4d32663ac12cc515bc9d83d3c0e6f649be80\",\n",
      "                \"puzzle_hash\": \"0xf6dd76a3c69ad8e979949330ed244cf299fc07c468e0a693247ddcbcfe1efaf7\"\n",
      "            },\n",
      "            \"puzzle_reveal\": \"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\",\n",
      "            \"solution\": \"0xffffa06a4ba7e394f8d346deafcda74b26bcad649ed0cb691d7172b14970c4cf47a570ffa02950dbd372a6fe5d9e0fc2d2bcae3ba5339ed41df3ca45b94a8631bc5959c712ff8203ff80ff8203ffffff8203ffff018080\"\n",
      "        }\n",
      "    ]\n",
      "}\n"
     ]
    },
    {
     "data": {
      "text/plain": [
       "{'additions': [Coin(parent_coin_info=<bytes32: 26bc64e0f9e8a5dda42f898ce9b6d8b04cdfab16a9170134292fb214839955fc>, puzzle_hash=<bytes32: 5cea3f3d112e288d6667b01fdeff4f10cfc8c404de8c483e6528e02db2988946>, amount=1023)],\n",
       " 'removals': [Coin(parent_coin_info=<bytes32: 09626e520eb95437de86e181ae3e4d32663ac12cc515bc9d83d3c0e6f649be80>, puzzle_hash=<bytes32: f6dd76a3c69ad8e979949330ed244cf299fc07c468e0a693247ddcbcfe1efaf7>, amount=1023)]}"
      ]
     },
     "execution_count": 14,
     "metadata": {},
     "output_type": "execute_result"
    }
   ],
   "source": [
    "from blspy import G2Element\n",
    "spend_bundle = SpendBundle(\n",
    "    [singleton_coin_spend],\n",
    "    G2Element()\n",
    ")\n",
    "singleton_helpers_v1_1.print_json(spend_bundle.to_json_dict())\n",
    "await network.push_tx(spend_bundle)"
   ]
  },
  {
   "cell_type": "code",
   "execution_count": 15,
   "id": "bdc871ff-d745-4d54-b85d-0cd47736eb75",
   "metadata": {},
   "outputs": [
    {
     "name": "stdout",
     "output_type": "stream",
     "text": [
      "0\n",
      "   | o |   \n",
      "---+---+---\n",
      "   | x |   \n",
      "---+---+---\n",
      "   |   |   \n"
     ]
    }
   ],
   "source": [
    "result, current_board = await tic_tac_toe.get_current_state(get_coin_records_by_parent_ids, get_coin_record_by_name, get_puzzle_and_solution, launcher_id)\n",
    "print(result)\n",
    "tic_tac_toe.print_board(current_board)"
   ]
  }
 ],
 "metadata": {
  "kernelspec": {
   "display_name": "Python 3 (ipykernel)",
   "language": "python",
   "name": "python3"
  },
  "language_info": {
   "codemirror_mode": {
    "name": "ipython",
    "version": 3
   },
   "file_extension": ".py",
   "mimetype": "text/x-python",
   "name": "python",
   "nbconvert_exporter": "python",
   "pygments_lexer": "ipython3",
   "version": "3.8.10"
  }
 },
 "nbformat": 4,
 "nbformat_minor": 5
}
