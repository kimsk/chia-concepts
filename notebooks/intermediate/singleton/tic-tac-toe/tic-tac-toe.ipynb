{
 "cells": [
  {
   "cell_type": "code",
   "execution_count": 1,
   "id": "6e613b2b-881d-462a-b572-1347ee729663",
   "metadata": {},
   "outputs": [
    {
     "name": "stdout",
     "output_type": "stream",
     "text": [
      "1.3.5\n",
      "cdv, version 1.0.8\n"
     ]
    }
   ],
   "source": [
    "%%bash\n",
    "chia version\n",
    "cdv --version"
   ]
  },
  {
   "cell_type": "markdown",
   "id": "b9208999-662f-4866-a4fe-9eb8511c95a8",
   "metadata": {},
   "source": [
    "# Tic Tac Toe\n",
    "\n",
    "## Empty Board:\n",
    "> with position number\n",
    "```\n",
    " 0 | 1 | 2\n",
    "---+---+---\n",
    " 3 | 4 | 5 \n",
    "---+---+---\n",
    " 6 | 7 | 8\n",
    "\n",
    "```\n",
    "\n",
    "```python\n",
    "# python\n",
    "board = [0] * 9\n",
    "```\n",
    "\n",
    "```lisp\n",
    "; chialisp\n",
    "(0 0 0\n",
    " 0 0 0\n",
    " 0 0 0)\n",
    "```\n",
    "\n",
    "## Normal Board:\n",
    "```\n",
    " o | x | \n",
    "---+---+---\n",
    " o |   | x \n",
    "---+---+---\n",
    " x |   | o\n",
    "```\n",
    "```python\n",
    "# python\n",
    "board = [\n",
    "    1, 2, 0,\n",
    "    1, 0, 2,\n",
    "    2, 0, 1\n",
    "]\n",
    "    \n",
    "```\n",
    "\n",
    "```lisp\n",
    "; chialisp\n",
    "(1 2 0\n",
    " 1 0 2\n",
    " 2 0 1)\n",
    "```\n",
    "\n",
    "\n",
    "\n",
    "```python\n",
    "# python\n",
    "empty_board = [0] * 9\n",
    "```\n",
    "\n",
    "```lisp\n",
    "; chialisp\n",
    "(0 0 0\n",
    " 0 0 0\n",
    " 0 0 0)\n",
    "```\n",
    "\n",
    "## Winning Board\n",
    "\n",
    "### Horizontals\n",
    "- `0 1 2`\n",
    "- `3 4 5`\n",
    "- `6 7 8`\n",
    "\n",
    "### Verticals\n",
    "- `0 3 6`\n",
    "- `1 4 7`\n",
    "- `2 5 8`\n",
    "\n",
    "### Diagnols\n",
    "- `0 4 8`\n",
    "- `2 4 6`\n",
    "\n",
    "- [tic-tac-toe.clib](tic-tac-toe.clib)\n",
    "- [tic-tac-toe.clsp](tic-tac-toe.clsp)\n",
    "- [tic_tac_toe.py](tic_tac_toe.py)\n"
   ]
  },
  {
   "cell_type": "code",
   "execution_count": 2,
   "id": "b1fde5e9-6dcd-4cde-9f39-433fae2fd24f",
   "metadata": {},
   "outputs": [],
   "source": [
    "from pathlib import Path\n",
    "from cdv.util.load_clvm import load_clvm\n",
    "from chia.types.blockchain_format.program import Program\n",
    "from clvm_tools.binutils import disassemble\n",
    "from clvm_tools.clvmc import compile_clvm_text\n",
    "\n",
    "import sys\n",
    "sys.path.insert(0, \".\")\n",
    "import tic_tac_toe\n",
    "\n",
    "def load_program(file_path, search_paths):\n",
    "    clsp = Path(file_path).read_text()\n",
    "    return Program(\n",
    "        compile_clvm_text(clsp, search_paths)\n",
    "    )\n",
    "\n",
    "tic_tac_toe_puzzle = load_program('tic-tac-toe.clsp', '.')\n",
    "\n",
    "def sim_play(board, player, position):\n",
    "    puzzle = tic_tac_toe.get_curried_tic_tac_toe_puzzle(tic_tac_toe_puzzle, board, player)\n",
    "    board_state, board = tic_tac_toe.play(puzzle, position)\n",
    "    print(board_state)\n",
    "    tic_tac_toe.print_board(board)\n",
    "    return board"
   ]
  },
  {
   "cell_type": "markdown",
   "id": "8853da9f-4191-4371-aea7-86b6f0498d34",
   "metadata": {},
   "source": [
    "## Simulate Winning Board"
   ]
  },
  {
   "cell_type": "code",
   "execution_count": 3,
   "id": "824310a1-b5c8-47c4-a7a2-2463f7e124b7",
   "metadata": {},
   "outputs": [
    {
     "name": "stdout",
     "output_type": "stream",
     "text": [
      "0\n",
      "   |   |   \n",
      "---+---+---\n",
      "   | x |   \n",
      "---+---+---\n",
      "   |   |   \n"
     ]
    }
   ],
   "source": [
    "# 1st play\n",
    "board = [0] * 9\n",
    "player = 1 # x\n",
    "position = 4\n",
    "board = sim_play(board, player, position)"
   ]
  },
  {
   "cell_type": "code",
   "execution_count": 4,
   "id": "3a9ddb89-4d76-4ecd-97e3-e286a32ababb",
   "metadata": {},
   "outputs": [
    {
     "name": "stdout",
     "output_type": "stream",
     "text": [
      "0\n",
      " o |   |   \n",
      "---+---+---\n",
      "   | x |   \n",
      "---+---+---\n",
      "   |   |   \n"
     ]
    }
   ],
   "source": [
    "# 2nd play\n",
    "player = 2 # o\n",
    "position = 0\n",
    "board = sim_play(board, player, position)"
   ]
  },
  {
   "cell_type": "code",
   "execution_count": 5,
   "id": "31effe6c-3b0e-481f-837b-b99c814a2a2e",
   "metadata": {},
   "outputs": [
    {
     "name": "stdout",
     "output_type": "stream",
     "text": [
      "0\n",
      " o |   |   \n",
      "---+---+---\n",
      " x | x |   \n",
      "---+---+---\n",
      "   |   |   \n"
     ]
    }
   ],
   "source": [
    "# 3rd play\n",
    "player = 1\n",
    "position = 3\n",
    "board = sim_play(board, player, position)"
   ]
  },
  {
   "cell_type": "code",
   "execution_count": 6,
   "id": "494b4615-8899-4138-b2d1-f4e3854eddfc",
   "metadata": {},
   "outputs": [
    {
     "name": "stdout",
     "output_type": "stream",
     "text": [
      "0\n",
      " o | o |   \n",
      "---+---+---\n",
      " x | x |   \n",
      "---+---+---\n",
      "   |   |   \n"
     ]
    }
   ],
   "source": [
    "# 4th play\n",
    "player = 2\n",
    "position = 1\n",
    "board = sim_play(board, player, position)"
   ]
  },
  {
   "cell_type": "code",
   "execution_count": 7,
   "id": "ab127012-3faa-4829-ab70-4fb6088fd4cf",
   "metadata": {},
   "outputs": [
    {
     "name": "stdout",
     "output_type": "stream",
     "text": [
      "1\n",
      " o | o |   \n",
      "---+---+---\n",
      " x | x | x \n",
      "---+---+---\n",
      "   |   |   \n"
     ]
    }
   ],
   "source": [
    "# 5th play\n",
    "player = 1\n",
    "position = 5\n",
    "board = sim_play(board, player, position)"
   ]
  },
  {
   "cell_type": "markdown",
   "id": "56892a4a-a0cc-40c9-9c24-c41827834ba8",
   "metadata": {},
   "source": [
    "## Simulate Unplayable Board"
   ]
  },
  {
   "cell_type": "code",
   "execution_count": 9,
   "id": "28ca8d1e-c860-4209-900f-36a5dbc769d9",
   "metadata": {},
   "outputs": [
    {
     "name": "stdout",
     "output_type": "stream",
     "text": [
      "0\n",
      " x |   |   \n",
      "---+---+---\n",
      "   |   |   \n",
      "---+---+---\n",
      "   |   |   \n"
     ]
    }
   ],
   "source": [
    "# 1st play\n",
    "board = [0] * 9\n",
    "player = 1 # x\n",
    "next_player = 2 # o\n",
    "position = 0\n",
    "board = sim_play(board, player, position)"
   ]
  },
  {
   "cell_type": "code",
   "execution_count": 10,
   "id": "c1af65e4-bd2f-4869-ae49-4342e701181f",
   "metadata": {},
   "outputs": [
    {
     "name": "stdout",
     "output_type": "stream",
     "text": [
      "0\n",
      " x | o |   \n",
      "---+---+---\n",
      "   |   |   \n",
      "---+---+---\n",
      "   |   |   \n",
      "0\n",
      " x | o | x \n",
      "---+---+---\n",
      "   |   |   \n",
      "---+---+---\n",
      "   |   |   \n",
      "0\n",
      " x | o | x \n",
      "---+---+---\n",
      " o |   |   \n",
      "---+---+---\n",
      "   |   |   \n",
      "0\n",
      " x | o | x \n",
      "---+---+---\n",
      " o | x |   \n",
      "---+---+---\n",
      "   |   |   \n",
      "0\n",
      " x | o | x \n",
      "---+---+---\n",
      " o | x | o \n",
      "---+---+---\n",
      "   |   |   \n",
      "0\n",
      " x | o | x \n",
      "---+---+---\n",
      " o | x | o \n",
      "---+---+---\n",
      "   | x |   \n",
      "0\n",
      " x | o | x \n",
      "---+---+---\n",
      " o | x | o \n",
      "---+---+---\n",
      " o | x |   \n",
      "-1\n",
      " x | o | x \n",
      "---+---+---\n",
      " o | x | o \n",
      "---+---+---\n",
      " o | x | x \n"
     ]
    }
   ],
   "source": [
    "player, next_player = next_player, player\n",
    "position = 1\n",
    "board = sim_play(board, player, position)\n",
    "player, next_player = next_player, player\n",
    "position = 2\n",
    "board = sim_play(board, player, position)\n",
    "player, next_player = next_player, player\n",
    "position = 3\n",
    "board = sim_play(board, player, position)\n",
    "player, next_player = next_player, player\n",
    "position = 4\n",
    "board = sim_play(board, player, position)\n",
    "player, next_player = next_player, player\n",
    "position = 5\n",
    "board = sim_play(board, player, position)\n",
    "player, next_player = next_player, player\n",
    "position = 7\n",
    "board = sim_play(board, player, position)\n",
    "player, next_player = next_player, player\n",
    "position = 6\n",
    "board = sim_play(board, player, position)\n",
    "player, next_player = next_player, player\n",
    "position = 8\n",
    "board = sim_play(board, player, position)"
   ]
  }
 ],
 "metadata": {
  "kernelspec": {
   "display_name": "Python 3 (ipykernel)",
   "language": "python",
   "name": "python3"
  },
  "language_info": {
   "codemirror_mode": {
    "name": "ipython",
    "version": 3
   },
   "file_extension": ".py",
   "mimetype": "text/x-python",
   "name": "python",
   "nbconvert_exporter": "python",
   "pygments_lexer": "ipython3",
   "version": "3.8.10"
  }
 },
 "nbformat": 4,
 "nbformat_minor": 5
}
