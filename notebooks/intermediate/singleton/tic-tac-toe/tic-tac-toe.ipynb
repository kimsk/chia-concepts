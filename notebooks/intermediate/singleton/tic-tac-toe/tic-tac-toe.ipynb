{
 "cells": [
  {
   "cell_type": "code",
   "execution_count": 1,
   "id": "6e613b2b-881d-462a-b572-1347ee729663",
   "metadata": {},
   "outputs": [
    {
     "name": "stdout",
     "output_type": "stream",
     "text": [
      "1.4.0\n",
      "cdv, version 1.0.8\n"
     ]
    }
   ],
   "source": [
    "%%bash\n",
    "chia version\n",
    "cdv --version"
   ]
  },
  {
   "cell_type": "markdown",
   "id": "b9208999-662f-4866-a4fe-9eb8511c95a8",
   "metadata": {},
   "source": [
    "# Tic Tac Toe\n",
    "\n",
    "## Empty Board:\n",
    "> with position number\n",
    "```\n",
    " 0 | 1 | 2\n",
    "---+---+---\n",
    " 3 | 4 | 5 \n",
    "---+---+---\n",
    " 6 | 7 | 8\n",
    "\n",
    "```\n",
    "\n",
    "```python\n",
    "# python\n",
    "board = [0] * 9\n",
    "```\n",
    "\n",
    "```lisp\n",
    "; chialisp\n",
    "(0 0 0\n",
    " 0 0 0\n",
    " 0 0 0)\n",
    "```\n",
    "\n",
    "## Normal Board:\n",
    "```\n",
    " o | x | \n",
    "---+---+---\n",
    " o |   | x \n",
    "---+---+---\n",
    " x |   | o\n",
    "```\n",
    "```python\n",
    "# python\n",
    "board = [\n",
    "    1, 2, 0,\n",
    "    1, 0, 2,\n",
    "    2, 0, 1\n",
    "]\n",
    "    \n",
    "```\n",
    "\n",
    "```lisp\n",
    "; chialisp\n",
    "(1 2 0\n",
    " 1 0 2\n",
    " 2 0 1)\n",
    "```\n",
    "\n",
    "\n",
    "\n",
    "```python\n",
    "# python\n",
    "empty_board = [0] * 9\n",
    "```\n",
    "\n",
    "```lisp\n",
    "; chialisp\n",
    "(0 0 0\n",
    " 0 0 0\n",
    " 0 0 0)\n",
    "```\n",
    "\n",
    "## Winning Board\n",
    "\n",
    "### Horizontals\n",
    "- `0 1 2`\n",
    "- `3 4 5`\n",
    "- `6 7 8`\n",
    "\n",
    "### Verticals\n",
    "- `0 3 6`\n",
    "- `1 4 7`\n",
    "- `2 5 8`\n",
    "\n",
    "### Diagnols\n",
    "- `0 4 8`\n",
    "- `2 4 6`\n",
    "\n",
    "- [tic-tac-toe.clib](tic-tac-toe.clib)\n",
    "- [tic-tac-toe.clsp](tic-tac-toe.clsp)\n",
    "- [tic_tac_toe.py](tic_tac_toe.py)\n"
   ]
  },
  {
   "cell_type": "code",
   "execution_count": 2,
   "id": "b1fde5e9-6dcd-4cde-9f39-433fae2fd24f",
   "metadata": {},
   "outputs": [],
   "source": [
    "from pathlib import Path\n",
    "from cdv.util.load_clvm import load_clvm\n",
    "from chia.types.blockchain_format.program import Program\n",
    "from clvm_tools.binutils import disassemble\n",
    "from clvm_tools.clvmc import compile_clvm_text\n",
    "\n",
    "import sys\n",
    "sys.path.insert(0, \".\")\n",
    "import tic_tac_toe\n",
    "\n",
    "def load_program(file_path, search_paths):\n",
    "    clsp = Path(file_path).read_text()\n",
    "    return Program(\n",
    "        compile_clvm_text(clsp, search_paths)\n",
    "    )\n",
    "\n",
    "tic_tac_toe_puzzle = load_program('tic-tac-toe.clsp', '.')\n",
    "\n",
    "def sim_play(board, player, position):\n",
    "    puzzle = tic_tac_toe.get_curried_tic_tac_toe_puzzle(tic_tac_toe_puzzle, board, player)\n",
    "    board_state, board = tic_tac_toe.play(puzzle, position)\n",
    "    print(board_state)\n",
    "    tic_tac_toe.print_board(board)\n",
    "    return board"
   ]
  },
  {
   "cell_type": "markdown",
   "id": "8853da9f-4191-4371-aea7-86b6f0498d34",
   "metadata": {},
   "source": [
    "## Simulate Winning Board"
   ]
  },
  {
   "cell_type": "code",
   "execution_count": 3,
   "id": "824310a1-b5c8-47c4-a7a2-2463f7e124b7",
   "metadata": {},
   "outputs": [
    {
     "name": "stdout",
     "output_type": "stream",
     "text": [
      "0\n",
      "   |   |   \n",
      "---+---+---\n",
      "   | x |   \n",
      "---+---+---\n",
      "   |   |   \n"
     ]
    }
   ],
   "source": [
    "# 1st play\n",
    "board = [0] * 9\n",
    "player = 1 # x\n",
    "position = 4\n",
    "board = sim_play(board, player, position)"
   ]
  },
  {
   "cell_type": "code",
   "execution_count": 4,
   "id": "3a9ddb89-4d76-4ecd-97e3-e286a32ababb",
   "metadata": {},
   "outputs": [
    {
     "name": "stdout",
     "output_type": "stream",
     "text": [
      "0\n",
      " o |   |   \n",
      "---+---+---\n",
      "   | x |   \n",
      "---+---+---\n",
      "   |   |   \n"
     ]
    }
   ],
   "source": [
    "# 2nd play\n",
    "player = 2 # o\n",
    "position = 0\n",
    "board = sim_play(board, player, position)"
   ]
  },
  {
   "cell_type": "code",
   "execution_count": 5,
   "id": "31effe6c-3b0e-481f-837b-b99c814a2a2e",
   "metadata": {},
   "outputs": [
    {
     "name": "stdout",
     "output_type": "stream",
     "text": [
      "0\n",
      " o |   |   \n",
      "---+---+---\n",
      " x | x |   \n",
      "---+---+---\n",
      "   |   |   \n"
     ]
    }
   ],
   "source": [
    "# 3rd play\n",
    "player = 1\n",
    "position = 3\n",
    "board = sim_play(board, player, position)"
   ]
  },
  {
   "cell_type": "code",
   "execution_count": 6,
   "id": "494b4615-8899-4138-b2d1-f4e3854eddfc",
   "metadata": {},
   "outputs": [
    {
     "name": "stdout",
     "output_type": "stream",
     "text": [
      "0\n",
      " o | o |   \n",
      "---+---+---\n",
      " x | x |   \n",
      "---+---+---\n",
      "   |   |   \n"
     ]
    }
   ],
   "source": [
    "# 4th play\n",
    "player = 2\n",
    "position = 1\n",
    "board = sim_play(board, player, position)"
   ]
  },
  {
   "cell_type": "code",
   "execution_count": 7,
   "id": "ab127012-3faa-4829-ab70-4fb6088fd4cf",
   "metadata": {},
   "outputs": [
    {
     "name": "stdout",
     "output_type": "stream",
     "text": [
      "1\n",
      " o | o |   \n",
      "---+---+---\n",
      " x | x | x \n",
      "---+---+---\n",
      "   |   |   \n"
     ]
    }
   ],
   "source": [
    "# 5th play\n",
    "player = 1\n",
    "position = 5\n",
    "board = sim_play(board, player, position)"
   ]
  },
  {
   "cell_type": "markdown",
   "id": "56892a4a-a0cc-40c9-9c24-c41827834ba8",
   "metadata": {},
   "source": [
    "## Simulate Unplayable Board"
   ]
  },
  {
   "cell_type": "code",
   "execution_count": 8,
   "id": "28ca8d1e-c860-4209-900f-36a5dbc769d9",
   "metadata": {},
   "outputs": [
    {
     "name": "stdout",
     "output_type": "stream",
     "text": [
      "0\n",
      " x |   |   \n",
      "---+---+---\n",
      "   |   |   \n",
      "---+---+---\n",
      "   |   |   \n"
     ]
    }
   ],
   "source": [
    "# 1st play\n",
    "board = [0] * 9\n",
    "player = 1 # x\n",
    "next_player = 2 # o\n",
    "position = 0\n",
    "board = sim_play(board, player, position)"
   ]
  },
  {
   "cell_type": "code",
   "execution_count": 9,
   "id": "c1af65e4-bd2f-4869-ae49-4342e701181f",
   "metadata": {},
   "outputs": [
    {
     "name": "stdout",
     "output_type": "stream",
     "text": [
      "0\n",
      " x | o |   \n",
      "---+---+---\n",
      "   |   |   \n",
      "---+---+---\n",
      "   |   |   \n",
      "0\n",
      " x | o | x \n",
      "---+---+---\n",
      "   |   |   \n",
      "---+---+---\n",
      "   |   |   \n",
      "0\n",
      " x | o | x \n",
      "---+---+---\n",
      " o |   |   \n",
      "---+---+---\n",
      "   |   |   \n",
      "0\n",
      " x | o | x \n",
      "---+---+---\n",
      " o | x |   \n",
      "---+---+---\n",
      "   |   |   \n",
      "0\n",
      " x | o | x \n",
      "---+---+---\n",
      " o | x | o \n",
      "---+---+---\n",
      "   |   |   \n",
      "0\n",
      " x | o | x \n",
      "---+---+---\n",
      " o | x | o \n",
      "---+---+---\n",
      "   | x |   \n",
      "0\n",
      " x | o | x \n",
      "---+---+---\n",
      " o | x | o \n",
      "---+---+---\n",
      " o | x |   \n",
      "-1\n",
      " x | o | x \n",
      "---+---+---\n",
      " o | x | o \n",
      "---+---+---\n",
      " o | x | x \n"
     ]
    }
   ],
   "source": [
    "player, next_player = next_player, player\n",
    "position = 1\n",
    "board = sim_play(board, player, position)\n",
    "player, next_player = next_player, player\n",
    "position = 2\n",
    "board = sim_play(board, player, position)\n",
    "player, next_player = next_player, player\n",
    "position = 3\n",
    "board = sim_play(board, player, position)\n",
    "player, next_player = next_player, player\n",
    "position = 4\n",
    "board = sim_play(board, player, position)\n",
    "player, next_player = next_player, player\n",
    "position = 5\n",
    "board = sim_play(board, player, position)\n",
    "player, next_player = next_player, player\n",
    "position = 7\n",
    "board = sim_play(board, player, position)\n",
    "player, next_player = next_player, player\n",
    "position = 6\n",
    "board = sim_play(board, player, position)\n",
    "player, next_player = next_player, player\n",
    "position = 8\n",
    "board = sim_play(board, player, position)"
   ]
  },
  {
   "cell_type": "markdown",
   "id": "52b3fc9b-0b4a-4cfa-b55f-797a2ee031d4",
   "metadata": {},
   "source": [
    "## Simulate Invalid Position"
   ]
  },
  {
   "cell_type": "code",
   "execution_count": 10,
   "id": "7bb17556-484c-4d5f-b497-9c0a95351b07",
   "metadata": {},
   "outputs": [
    {
     "name": "stdout",
     "output_type": "stream",
     "text": [
      "('clvm raise', 'ff90706f736974696f6e20696e76616c696480')\n"
     ]
    }
   ],
   "source": [
    "try:\n",
    "    board = [0] * 9\n",
    "    player = 1 # x\n",
    "    next_player = 2 # o\n",
    "    position = 9\n",
    "    board = sim_play(board, player, position)\n",
    "except ValueError as err:\n",
    "    print(err)"
   ]
  },
  {
   "cell_type": "code",
   "execution_count": 11,
   "id": "67f86f95-c68b-49dd-8502-a866ceedb57d",
   "metadata": {},
   "outputs": [
    {
     "name": "stdout",
     "output_type": "stream",
     "text": [
      "('clvm raise', 'ff90706f736974696f6e20696e76616c696480')\n"
     ]
    }
   ],
   "source": [
    "try:\n",
    "    board = [0] * 9\n",
    "    player = 1 # x\n",
    "    next_player = 2 # o\n",
    "    position = -1\n",
    "    board = sim_play(board, player, position)\n",
    "except ValueError as err:\n",
    "    print(err)"
   ]
  },
  {
   "cell_type": "code",
   "execution_count": 12,
   "id": "c2fddde3-8a6c-4011-81e8-88f9b983438b",
   "metadata": {},
   "outputs": [
    {
     "name": "stdout",
     "output_type": "stream",
     "text": [
      "0\n",
      "   | x |   \n",
      "---+---+---\n",
      "   |   |   \n",
      "---+---+---\n",
      "   |   |   \n",
      "('clvm raise', 'ff99706f736974696f6e20616c7265616479206f6363757069656480')\n"
     ]
    }
   ],
   "source": [
    "try:\n",
    "    board = [0] * 9\n",
    "    player = 1 # x\n",
    "    next_player = 2 # o\n",
    "    position = 1\n",
    "    board = sim_play(board, player, position)\n",
    "    player, next_player = next_player, player\n",
    "    position = 1\n",
    "    board = sim_play(board, player, position)\n",
    "except ValueError as err:\n",
    "    print(err)"
   ]
  },
  {
   "cell_type": "code",
   "execution_count": 13,
   "id": "f2fa6926-17af-4302-bc75-4149cb6e94c5",
   "metadata": {},
   "outputs": [
    {
     "name": "stdout",
     "output_type": "stream",
     "text": [
      "(\"position invalid\")\n",
      "(\"position already occupied\")\n"
     ]
    }
   ],
   "source": [
    "%%bash\n",
    "opd ff90706f736974696f6e20696e76616c696480\n",
    "opd ff99706f736974696f6e20616c7265616479206f6363757069656480"
   ]
  },
  {
   "cell_type": "markdown",
   "id": "9ad30fc6-e23f-4954-ac7f-ff7519a234f5",
   "metadata": {},
   "source": [
    "## Get Player & Board From Curried Puzzle"
   ]
  },
  {
   "cell_type": "code",
   "execution_count": 14,
   "id": "df8f8dbd-3bb4-41dc-b5f9-aba5e3a31ea6",
   "metadata": {},
   "outputs": [
    {
     "name": "stdout",
     "output_type": "stream",
     "text": [
      "   | x | x \n",
      "---+---+---\n",
      "   | o |   \n",
      "---+---+---\n",
      " o |   |   \n",
      "(a (q 2 (q 2 12 (c 2 (c (a 22 (c 2 (c 5 (c 11 (c 23 ()))))) (c 11 ())))) (c (q ((a (i (all (not (= 9 ())) (not (= 21 ())) (not (= 45 ())) (not (= 93 ())) (not (= -67 ())) (not (= 381 ())) (not (= 765 ())) (not (= 1533 ())) (not (= 3069 ()))) (q 1 . -1) (q 2 10 (c 2 (c (c 9 (c 21 (c 45 (c 93 (c -67 (c 381 (c 765 (c 1533 (c 3069 ()))))))))) (c 11 ()))))) 1) 4 (a 8 (c 2 (c 5 (c 11 ())))) (c 5 ())) (a (i (any (a (i (all (= 9 11) (= 21 11) (= 45 11)) (q 1 . 1) ()) 1) (a (i (all (= 93 11) (= -67 11) (= 381 11)) (q 1 . 1) ()) 1) (a (i (all (= 765 11) (= 1533 11) (= 3069 11)) (q 1 . 1) ()) 1) (a (i (all (= 9 11) (= 93 11) (= 765 11)) (q 1 . 1) ()) 1) (a (i (all (= 21 11) (= -67 11) (= 1533 11)) (q 1 . 1) ()) 1) (a (i (all (= 45 11) (= 381 11) (= 3069 11)) (q 1 . 1) ()) 1) (a (i (all (= 9 11) (= -67 11) (= 3069 11)) (q 1 . 1) ()) 1) (a (i (all (= 45 11) (= -67 11) (= 765 11)) (q 1 . 1) ()) 1)) (q . 11) ()) 1) (a (i (any (> () 23) (> 23 (q . 8))) (q 8 (q . \"position invalid\")) (q 2 30 (c 2 (c 5 (c 11 (c () (c 23 ()))))))) 1) 2 (i (l 5) (q 4 (a (i (= 23 47) (q 2 (i (= () 9) (q . 11) (q 8 (q . \"position already occupied\"))) 1) (q . 9)) 1) (a 30 (c 2 (c 13 (c 11 (c (+ 23 (q . 1)) (c 47 ()))))))) ()) 1) 1)) (c (q () 1 1 () 2 () 2 () ()) (c (q . 2) 1)))\n",
      "\n",
      "2\n",
      "\n",
      "(() 1 1 () 2 () 2 () ())\n",
      "[b'', b'\\x01', b'\\x01', b'', b'\\x02', b'', b'\\x02', b'', b'']\n",
      "[0, 1, 1, 0, 2, 0, 2, 0, 0]\n",
      "   | x | x \n",
      "---+---+---\n",
      "   | o |   \n",
      "---+---+---\n",
      " o |   |   \n"
     ]
    }
   ],
   "source": [
    "board = [0, 1, 1, 0, 2, 0, 2, 0, 0]\n",
    "tic_tac_toe.print_board(board)\n",
    "player = 2 # x\n",
    "puzzle = tic_tac_toe.get_curried_tic_tac_toe_puzzle(tic_tac_toe_puzzle, board, player)\n",
    "print(disassemble(puzzle))\n",
    "print()\n",
    "print(disassemble(puzzle.at(\"rrfrrfrfr\"))) # get player\n",
    "print()\n",
    "print(disassemble(puzzle.at(\"rrfrfr\"))) # get board\n",
    "board_from_puzzle = puzzle.at(\"rrfrfr\").as_atom_list()\n",
    "print(board_from_puzzle)\n",
    "board_from_puzzle = list(\n",
    "        map(lambda b: int.from_bytes(b, \"little\"), board_from_puzzle)\n",
    "    )\n",
    "print(board_from_puzzle)\n",
    "tic_tac_toe.print_board(board_from_puzzle)"
   ]
  },
  {
   "cell_type": "code",
   "execution_count": 15,
   "id": "373501ea-8282-44a1-9cac-40e5cab263c9",
   "metadata": {},
   "outputs": [
    {
     "name": "stdout",
     "output_type": "stream",
     "text": [
      "cost = 323\n",
      "2\n"
     ]
    }
   ],
   "source": [
    "%%bash\n",
    "brun '(r (f (r (f (r (r (f (r (r 1)))))))))' '(a (q 2 (q 2 28 (c 2 (c (a 22 (c 2 (c 5 (c 11 (c 23 ()))))) (c 11 ())))) (c (q ((a (i (all (not (= 9 ())) (not (= 21 ())) (not (= 45 ())) (not (= 93 ())) (not (= -67 ())) (not (= 381 ())) (not (= 765 ())) (not (= 1533 ())) (not (= 3069 ()))) (q 1 . -1) (q 2 10 (c 2 (c (c 9 (c 21 (c 45 (c 93 (c -67 (c 381 (c 765 (c 1533 (c 3069 ()))))))))) (c 11 ()))))) 1) (a (i (all (= 5 47) (= 11 47) (= 23 47)) (q 1 . 1) ()) 1) 4 (a 8 (c 2 (c 5 (c 11 ())))) (c 5 ())) (a (i (any (a 20 (c 2 (c 9 (c 21 (c 45 (c 11 ())))))) (a 20 (c 2 (c 93 (c -67 (c 381 (c 11 ())))))) (a 20 (c 2 (c 765 (c 1533 (c 3069 (c 11 ())))))) (a 20 (c 2 (c 9 (c 93 (c 765 (c 11 ())))))) (a 20 (c 2 (c 21 (c -67 (c 1533 (c 11 ())))))) (a 20 (c 2 (c 45 (c 381 (c 3069 (c 11 ())))))) (a 20 (c 2 (c 9 (c -67 (c 3069 (c 11 ())))))) (a 20 (c 2 (c 45 (c -67 (c 765 (c 11 ()))))))) (q . 11) ()) 1) (a (i (any (> () 23) (> 23 (q . 8))) (q 8 (q . \"position invalid\")) (q 2 30 (c 2 (c 5 (c 11 (c () (c 23 ()))))))) 1) 2 (i (l 5) (q 4 (a (i (= 23 47) (q 2 (i (= () 9) (q . 11) (q 8 (q . \"position already occupied\"))) 1) (q . 9)) 1) (a 30 (c 2 (c 13 (c 11 (c (+ 23 (q . 1)) (c 47 ()))))))) ()) 1) 1)) (c (q () () () () () () () () ()) (c (q . 2) 1)))' -c"
   ]
  }
 ],
 "metadata": {
  "kernelspec": {
   "display_name": "Python 3 (ipykernel)",
   "language": "python",
   "name": "python3"
  },
  "language_info": {
   "codemirror_mode": {
    "name": "ipython",
    "version": 3
   },
   "file_extension": ".py",
   "mimetype": "text/x-python",
   "name": "python",
   "nbconvert_exporter": "python",
   "pygments_lexer": "ipython3",
   "version": "3.8.10"
  }
 },
 "nbformat": 4,
 "nbformat_minor": 5
}
