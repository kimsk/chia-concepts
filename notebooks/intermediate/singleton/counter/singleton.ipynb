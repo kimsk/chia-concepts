{
 "cells": [
  {
   "cell_type": "markdown",
   "id": "fc1faa27-20f5-428a-b5e2-7851605c87c9",
   "metadata": {},
   "source": [
    "- [counter.clsp](counter.clsp)\n",
    "- [singleton_terminal.clsp](singleton_terminal.clsp)\n",
    "- [singleton_helpers_v1_1.py](../singleton_helpers_v1_1.py)\n",
    "- [singleton_top_layer_v1_1.py](https://github.com/Chia-Network/chia-blockchain/blob/1.4.0/chia/wallet/puzzles/singleton_top_layer_v1_1.py)\n",
    "- [singleton_top_layer_v1_1.clvm](https://github.com/Chia-Network/chia-blockchain/blob/1.4.0/chia/wallet/puzzles/singleton_top_layer_v1_1.clvm)"
   ]
  },
  {
   "cell_type": "code",
   "execution_count": 1,
   "id": "4dd9d717-9e91-4f6e-a02b-6de8ee88055f",
   "metadata": {},
   "outputs": [
    {
     "name": "stdout",
     "output_type": "stream",
     "text": [
      "1.4.0\n",
      "cdv, version 1.0.8\n"
     ]
    }
   ],
   "source": [
    "%%bash\n",
    "chia version\n",
    "cdv --version"
   ]
  },
  {
   "cell_type": "code",
   "execution_count": 2,
   "id": "f74d818c-b95a-4211-b943-662f3472981c",
   "metadata": {},
   "outputs": [
    {
     "name": "stdout",
     "output_type": "stream",
     "text": [
      "d5b0cadac424ef077dc8eacc449d0bb8544639cc39f5462a48a8d6b5750a4483\n",
      "efafe67593029270221b07866b7e4b8dec7226ebd6be177ed4c9051c9ce1cc96\n"
     ]
    }
   ],
   "source": [
    "import sys\n",
    "sys.path.insert(0, \".\")\n",
    "import singleton_counter\n",
    "sys.path.insert(0, \"..\")\n",
    "import singleton_helpers_v1_1\n",
    "\n",
    "counter_puzzle = singleton_counter.load_program(\"counter.clsp\", \".\")\n",
    "singleton_terminal_puzzle =  singleton_counter.load_program(\"singleton_terminal.clsp\", \".\")\n",
    "print(counter_puzzle.get_tree_hash())\n",
    "print(singleton_terminal_puzzle.get_tree_hash())"
   ]
  },
  {
   "cell_type": "code",
   "execution_count": 3,
   "id": "61994cff-7622-4a43-89e2-9a31ec379830",
   "metadata": {},
   "outputs": [
    {
     "name": "stdout",
     "output_type": "stream",
     "text": [
      "alice balance:\t\t2000000000000\n",
      "alice puzzle hash:\t4f45877796d7a64e192bcc9f899afeedae391f71af3afd7e15a0792c049d23d3\n"
     ]
    }
   ],
   "source": [
    "from chia.wallet.puzzles import (singleton_top_layer_v1_1, p2_delegated_puzzle_or_hidden_puzzle)\n",
    "from cdv.test import Network, Wallet\n",
    "\n",
    "network: Network = await Network.create()\n",
    "\n",
    "# use as function parameters\n",
    "get_coin_records_by_parent_ids = network.sim_client.get_coin_records_by_parent_ids\n",
    "get_coin_record_by_name = network.sim_client.get_coin_record_by_name\n",
    "get_puzzle_and_solution = network.sim_client.get_puzzle_and_solution        \n",
    "get_block_records = network.sim_client.get_block_records\n",
    "get_additions_and_removals = network.sim_client.get_additions_and_removals\n",
    "\n",
    "await network.farm_block()\n",
    "\n",
    "alice: Wallet = network.make_wallet(\"alice\")\n",
    "await network.farm_block(farmer=alice)\n",
    "\n",
    "print(f'alice balance:\\t\\t{alice.balance()}')\n",
    "print(f'alice puzzle hash:\\t{alice.puzzle_hash}')"
   ]
  },
  {
   "cell_type": "code",
   "execution_count": 4,
   "id": "363b73b4-fe3d-4280-b9f0-dd38a5bace69",
   "metadata": {},
   "outputs": [
    {
     "name": "stdout",
     "output_type": "stream",
     "text": [
      "a870977635c6fb664f8fe9147e86e794ffb39a4b6e0ced1c4417a42d94249481\n",
      "5105569e016af878e23bf86a02ccb75fcae1d61d6e6f0268282355b7af071dc4\n"
     ]
    }
   ],
   "source": [
    "PUZZLE_HASH = alice.puzzle_hash\n",
    "AMOUNT = 1023\n",
    "MAX_VALUE = 3\n",
    "VALUE = 0\n",
    "\n",
    "singleton_terminal_puzzle = singleton_terminal_puzzle.curry(PUZZLE_HASH, AMOUNT)\n",
    "singleton_counter_puzzle = counter_puzzle.curry(counter_puzzle, MAX_VALUE, singleton_terminal_puzzle, AMOUNT, VALUE)\n",
    "print(singleton_terminal_puzzle.get_tree_hash())\n",
    "print(singleton_counter_puzzle.get_tree_hash())"
   ]
  },
  {
   "cell_type": "code",
   "execution_count": 5,
   "id": "ae7312a5-b69d-4aa3-8654-1b8d26429724",
   "metadata": {},
   "outputs": [
    {
     "name": "stdout",
     "output_type": "stream",
     "text": [
      "\n",
      "starting coin spend:\n",
      "{\n",
      "    \"coin\": {\n",
      "        \"amount\": 1750000000000,\n",
      "        \"parent_coin_info\": \"0xe3b0c44298fc1c149afbf4c8996fb92400000000000000000000000000000001\",\n",
      "        \"puzzle_hash\": \"0x4f45877796d7a64e192bcc9f899afeedae391f71af3afd7e15a0792c049d23d3\"\n",
      "    },\n",
      "    \"puzzle_reveal\": \"0xff02ffff01ff02ffff01ff02ffff03ff0bffff01ff02ffff03ffff09ff05ffff1dff0bffff1effff0bff0bffff02ff06ffff04ff02ffff04ff17ff8080808080808080ffff01ff02ff17ff2f80ffff01ff088080ff0180ffff01ff04ffff04ff04ffff04ff05ffff04ffff02ff06ffff04ff02ffff04ff17ff80808080ff80808080ffff02ff17ff2f808080ff0180ffff04ffff01ff32ff02ffff03ffff07ff0580ffff01ff0bffff0102ffff02ff06ffff04ff02ffff04ff09ff80808080ffff02ff06ffff04ff02ffff04ff0dff8080808080ffff01ff0bffff0101ff058080ff0180ff018080ffff04ffff01b0a042c855d234578415254b7870b711fb25e8f85beaa4a66bd0673d394c761fa156406c2e3bb375d5b18766d2a12cc918ff018080\",\n",
      "    \"solution\": \"0xff80ffff01ffff33ffa0eff07522495060c066f66f32acc2a77e3a3e737aca8baea4d1a64ea4cdc13da9ff8203ff80ffff3dffa0e4c8f006115673629776be3bf9fb8cb4d4b4b966643ce98bdeae3e8bfdb2d48c80ffff33ffa04f45877796d7a64e192bcc9f899afeedae391f71af3afd7e15a0792c049d23d3ff8601977420d8018080ff8080\"\n",
      "}\n",
      "\n",
      "launcher coin spend:\n",
      "{\n",
      "    \"coin\": {\n",
      "        \"amount\": 1023,\n",
      "        \"parent_coin_info\": \"0x12d7b8c1654f82f2330059abc28e3240e863450706de7fdc518026f393f68bba\",\n",
      "        \"puzzle_hash\": \"0xeff07522495060c066f66f32acc2a77e3a3e737aca8baea4d1a64ea4cdc13da9\"\n",
      "    },\n",
      "    \"puzzle_reveal\": \"0xff02ffff01ff04ffff04ff04ffff04ff05ffff04ff0bff80808080ffff04ffff04ff0affff04ffff02ff0effff04ff02ffff04ffff04ff05ffff04ff0bffff04ff17ff80808080ff80808080ff808080ff808080ffff04ffff01ff33ff3cff02ffff03ffff07ff0580ffff01ff0bffff0102ffff02ff0effff04ff02ffff04ff09ff80808080ffff02ff0effff04ff02ffff04ff0dff8080808080ffff01ff0bffff0101ff058080ff0180ff018080\",\n",
      "    \"solution\": \"0xffa0c3dff2bf57480d788070ec0e8c9bb111692cdcd751d3dae351d5747205956e47ff8203ffffffff87636f756e74657284746573748080\"\n",
      "}\n",
      "\n",
      "launcher id: 6a4ba7e394f8d346deafcda74b26bcad649ed0cb691d7172b14970c4cf47a570\n",
      "\n",
      "standard_coin_message: d4edce5cf9bab87445eb14b54381282af0c2a939e2c1a605f94bac01fefc5ef712d7b8c1654f82f2330059abc28e3240e863450706de7fdc518026f393f68bbaccd5bb71183532bff220ba46c268991a3ff07eb358e8255a65c30a2dce0e5fbb\n"
     ]
    }
   ],
   "source": [
    "standard_txn_coin_wrapper = await alice.choose_coin(1_750_000_000_000)\n",
    "standard_txn_coin = standard_txn_coin_wrapper.as_coin()\n",
    "standard_txn_puzzle = p2_delegated_puzzle_or_hidden_puzzle.puzzle_for_pk(alice.pk())\n",
    "\n",
    "inner_puzzle = singleton_counter_puzzle\n",
    "standard_coin_message, coin_spends = singleton_helpers_v1_1.get_create_singleton_coin_spends(\n",
    "                    standard_txn_coin,\n",
    "                    standard_txn_puzzle,\n",
    "                    odd_amount = 1023, \n",
    "                    inner_puzzle = inner_puzzle,\n",
    "                    keys_values = [\n",
    "                        (\"counter\", \"test\")\n",
    "                    ]\n",
    "              )\n",
    "standard_txn_coin_spend = coin_spends[0]\n",
    "launcher_coin_spend = coin_spends[1]\n",
    "launcher_id = launcher_coin_spend.coin.name()\n",
    "print(\"\\nstarting coin spend:\")\n",
    "singleton_helpers_v1_1.print_json(standard_txn_coin_spend.to_json_dict())\n",
    "print(\"\\nlauncher coin spend:\")\n",
    "singleton_helpers_v1_1.print_json(launcher_coin_spend.to_json_dict())\n",
    "print(f'\\nlauncher id: {launcher_coin_spend.coin.name()}')\n",
    "print(f'\\nstandard_coin_message: {standard_coin_message.hex()}')"
   ]
  },
  {
   "cell_type": "code",
   "execution_count": 6,
   "id": "52221c2e-20fd-4fde-8bc7-41c687007f82",
   "metadata": {},
   "outputs": [
    {
     "data": {
      "text/plain": [
       "{'additions': [Coin(parent_coin_info=<bytes32: 12d7b8c1654f82f2330059abc28e3240e863450706de7fdc518026f393f68bba>, puzzle_hash=<bytes32: eff07522495060c066f66f32acc2a77e3a3e737aca8baea4d1a64ea4cdc13da9>, amount=1023),\n",
       "  Coin(parent_coin_info=<bytes32: 12d7b8c1654f82f2330059abc28e3240e863450706de7fdc518026f393f68bba>, puzzle_hash=<bytes32: 4f45877796d7a64e192bcc9f899afeedae391f71af3afd7e15a0792c049d23d3>, amount=1749999998977),\n",
       "  Coin(parent_coin_info=<bytes32: 6a4ba7e394f8d346deafcda74b26bcad649ed0cb691d7172b14970c4cf47a570>, puzzle_hash=<bytes32: c3dff2bf57480d788070ec0e8c9bb111692cdcd751d3dae351d5747205956e47>, amount=1023)],\n",
       " 'removals': [Coin(parent_coin_info=<bytes32: e3b0c44298fc1c149afbf4c8996fb92400000000000000000000000000000001>, puzzle_hash=<bytes32: 4f45877796d7a64e192bcc9f899afeedae391f71af3afd7e15a0792c049d23d3>, amount=1750000000000),\n",
       "  Coin(parent_coin_info=<bytes32: 12d7b8c1654f82f2330059abc28e3240e863450706de7fdc518026f393f68bba>, puzzle_hash=<bytes32: eff07522495060c066f66f32acc2a77e3a3e737aca8baea4d1a64ea4cdc13da9>, amount=1023)]}"
      ]
     },
     "execution_count": 6,
     "metadata": {},
     "output_type": "execute_result"
    }
   ],
   "source": [
    "# sign the standard txn spend\n",
    "from blspy import AugSchemeMPL, PrivateKey\n",
    "from chia.consensus.default_constants import DEFAULT_CONSTANTS\n",
    "\n",
    "synthetic_sk: PrivateKey = p2_delegated_puzzle_or_hidden_puzzle.calculate_synthetic_secret_key(\n",
    "    alice.sk_,\n",
    "    p2_delegated_puzzle_or_hidden_puzzle.DEFAULT_HIDDEN_PUZZLE_HASH\n",
    ")\n",
    "\n",
    "signature = AugSchemeMPL.sign(synthetic_sk,standard_coin_message)\n",
    "\n",
    "# push txn to create an eve singleton\n",
    "from chia.types.spend_bundle import SpendBundle\n",
    "\n",
    "spend_bundle = SpendBundle(\n",
    "    coin_spends,\n",
    "    signature\n",
    ")\n",
    "await network.push_tx(spend_bundle)"
   ]
  },
  {
   "cell_type": "code",
   "execution_count": 7,
   "id": "101a0842-d1d3-456c-a00a-43d42d37a74c",
   "metadata": {},
   "outputs": [],
   "source": [
    "from chia.types.blockchain_format.program import Program\n",
    "from clvm_tools.binutils import disassemble\n",
    "from blspy import G2Element\n",
    "async def get_last_spent_singleton_puzzle(launcher_id):\n",
    "    # get the last singleton coin\n",
    "    last_cr = await singleton_helpers_v1_1.get_last_singleton_coin_record(get_coin_records_by_parent_ids, launcher_id)\n",
    "    coin_spend = None\n",
    "    if last_cr.spent_block_index == 0:\n",
    "        # if the last singleton is not spent, current count is the value of parent coin + 1\n",
    "        parent_cr = await get_coin_record_by_name(last_cr.coin.parent_coin_info)\n",
    "        coin_spend = await get_puzzle_and_solution(parent_cr.coin.name(), parent_cr.spent_block_index)\n",
    "    else:\n",
    "        # return last_cr puzzle_reveal\n",
    "        coin_spend = await get_puzzle_and_solution(last_cr.coin.name(), last_cr.spent_block_index)\n",
    "\n",
    "    if coin_spend == None:\n",
    "        return None\n",
    "    else:\n",
    "        puzzle_reveal = coin_spend.puzzle_reveal\n",
    "        return puzzle_reveal.to_program()\n",
    "\n",
    "def get_max_value_from_curried_puzzle(puzzle):\n",
    "    try:\n",
    "        p = puzzle.at(\"rrf\")     \\\n",
    "                    .at(\"rrf\")   \\\n",
    "                    .at(\"rfr\")   \\\n",
    "                    .at(\"rrf\")   \\\n",
    "                    .at(\"rrf\")   \\\n",
    "                    .at(\"rfr\")\n",
    "        return p.as_int()\n",
    "    except Program.EvalError:\n",
    "        return None\n",
    "\n",
    "# get current count\n",
    "def get_value_from_curried_puzzle(puzzle):\n",
    "    try:\n",
    "        p = puzzle.at(\"rrf\")     \\\n",
    "                    .at(\"rrf\")   \\\n",
    "                    .at(\"rfr\")   \\\n",
    "                    .at(\"rrf\")   \\\n",
    "                    .at(\"rrf\")   \\\n",
    "                    .at(\"rrf\")   \\\n",
    "                    .at(\"rrf\")   \\\n",
    "                    .at(\"rrf\")   \\\n",
    "                    .at(\"rfr\")\n",
    "        return p.as_int() + 1\n",
    "    except Program.EvalError:\n",
    "        return None\n"
   ]
  },
  {
   "cell_type": "code",
   "execution_count": 8,
   "id": "02142709-a96e-4e82-852e-eee3915012e0",
   "metadata": {},
   "outputs": [],
   "source": [
    "last_spent_singleton_puzzle = await get_last_spent_singleton_puzzle(launcher_id)\n",
    "get_value_from_curried_puzzle(last_spent_singleton_puzzle)"
   ]
  },
  {
   "cell_type": "code",
   "execution_count": 9,
   "id": "6cd3ab37-1cc8-4534-9c71-0b256f2ae671",
   "metadata": {},
   "outputs": [],
   "source": [
    "launcher_id = launcher_coin_spend.coin.name()\n",
    "singleton_struct = (\n",
    "        singleton_top_layer_v1_1.SINGLETON_MOD_HASH, \n",
    "        (launcher_id, singleton_top_layer_v1_1.SINGLETON_LAUNCHER_HASH)\n",
    "    )\n",
    "\n",
    "def get_count_coin_spend(singleton_coin, singleton_puzzle, coin_spend):\n",
    "    lineage_proof = singleton_top_layer_v1_1.lineage_proof_for_coinsol(coin_spend)\n",
    "    inner_solution = Program.to([])\n",
    "    coin_spend = singleton_helpers_v1_1.get_singleton_coin_spend(\n",
    "        singleton_coin, singleton_puzzle, lineage_proof, inner_solution\n",
    "    )\n",
    "\n",
    "    return coin_spend\n",
    "\n",
    "async def count(launcher_id, prev_coin_spend):\n",
    "    singleton_coin = await singleton_helpers_v1_1.get_unspent_singleton(\n",
    "        get_coin_records_by_parent_ids, launcher_id)\n",
    "\n",
    "    singleton_counter_puzzle = counter_puzzle.curry(counter_puzzle, MAX_VALUE, singleton_terminal_puzzle, AMOUNT, 0)\n",
    "    singleton_puzzle = await get_last_spent_singleton_puzzle(launcher_id)\n",
    "    c = get_value_from_curried_puzzle(singleton_puzzle)\n",
    "\n",
    "    if c != None:\n",
    "        singleton_counter_puzzle = counter_puzzle.curry(counter_puzzle, MAX_VALUE, singleton_terminal_puzzle, AMOUNT, c)\n",
    "        \n",
    "    singleton_puzzle: Program = singleton_top_layer_v1_1.puzzle_for_singleton(\n",
    "            launcher_id,\n",
    "            singleton_counter_puzzle # inner_puzzle\n",
    "    )\n",
    "\n",
    "    coin_spend = get_count_coin_spend(singleton_coin, singleton_puzzle, prev_coin_spend)\n",
    "    result = await network.push_tx(SpendBundle(\n",
    "            [coin_spend],\n",
    "            G2Element()\n",
    "        ))\n",
    "    print(result)\n",
    "    return coin_spend"
   ]
  },
  {
   "cell_type": "code",
   "execution_count": 10,
   "id": "6a9c620c-1f65-41e6-a1c4-a6b982aef0c7",
   "metadata": {},
   "outputs": [
    {
     "name": "stdout",
     "output_type": "stream",
     "text": [
      "{'additions': [Coin(parent_coin_info=<bytes32: 815ecd83433d842c12a2bca4ec08a9d8c795661a12abc42b5b11339a04c0ad16>, puzzle_hash=<bytes32: 57b547a80acabe515c7d41757d1a69b6120d133423781cf70e6f38a364aad244>, amount=1023)], 'removals': [Coin(parent_coin_info=<bytes32: 6a4ba7e394f8d346deafcda74b26bcad649ed0cb691d7172b14970c4cf47a570>, puzzle_hash=<bytes32: c3dff2bf57480d788070ec0e8c9bb111692cdcd751d3dae351d5747205956e47>, amount=1023)]}\n"
     ]
    }
   ],
   "source": [
    "coin_spend = await count(launcher_id, launcher_coin_spend)"
   ]
  },
  {
   "cell_type": "code",
   "execution_count": 11,
   "id": "668e4b53-6dde-4d55-b4e2-666b8ff89a8c",
   "metadata": {},
   "outputs": [
    {
     "name": "stdout",
     "output_type": "stream",
     "text": [
      "3\n",
      "1\n"
     ]
    }
   ],
   "source": [
    "puzzle = await get_last_spent_singleton_puzzle(launcher_id)\n",
    "mc = get_max_value_from_curried_puzzle(puzzle)\n",
    "print(mc)\n",
    "\n",
    "c = get_value_from_curried_puzzle(puzzle)\n",
    "print(c)"
   ]
  },
  {
   "cell_type": "code",
   "execution_count": 12,
   "id": "23162aa1-d029-460d-aa13-13b7243b153a",
   "metadata": {},
   "outputs": [
    {
     "name": "stdout",
     "output_type": "stream",
     "text": [
      "{'additions': [Coin(parent_coin_info=<bytes32: 9f4a5da9066c5d6c1c091d94a01e8138693f969247173c616e2910cfe4ca72b9>, puzzle_hash=<bytes32: 789db1ea2983bbf724a14d5236e272889c0d4ab13e214a16a3659f71be29174c>, amount=1023)], 'removals': [Coin(parent_coin_info=<bytes32: 815ecd83433d842c12a2bca4ec08a9d8c795661a12abc42b5b11339a04c0ad16>, puzzle_hash=<bytes32: 57b547a80acabe515c7d41757d1a69b6120d133423781cf70e6f38a364aad244>, amount=1023)]}\n",
      "2\n"
     ]
    }
   ],
   "source": [
    "coin_spend = await count(launcher_id, coin_spend)\n",
    "puzzle = await get_last_spent_singleton_puzzle(launcher_id)\n",
    "c = get_value_from_curried_puzzle(puzzle)\n",
    "print(c)"
   ]
  },
  {
   "cell_type": "code",
   "execution_count": 13,
   "id": "9678de23-5777-4af4-b046-d2cfae052fa7",
   "metadata": {},
   "outputs": [
    {
     "name": "stdout",
     "output_type": "stream",
     "text": [
      "{'additions': [Coin(parent_coin_info=<bytes32: 4238e577dc4aabb5f8aff3e8ff2695123e712ac7c3670b573e150e7e03e3107b>, puzzle_hash=<bytes32: aaf3a437c916cffd74edbf605cd3d550bc1a0969f9857a212d72ed40e193a084>, amount=1023)], 'removals': [Coin(parent_coin_info=<bytes32: 9f4a5da9066c5d6c1c091d94a01e8138693f969247173c616e2910cfe4ca72b9>, puzzle_hash=<bytes32: 789db1ea2983bbf724a14d5236e272889c0d4ab13e214a16a3659f71be29174c>, amount=1023)]}\n",
      "3\n"
     ]
    }
   ],
   "source": [
    "coin_spend = await count(launcher_id, coin_spend)\n",
    "puzzle = await get_last_spent_singleton_puzzle(launcher_id)\n",
    "c = get_value_from_curried_puzzle(puzzle)\n",
    "print(c)"
   ]
  },
  {
   "cell_type": "code",
   "execution_count": 14,
   "id": "82aa9491-5f91-41c7-b655-2c983876a819",
   "metadata": {},
   "outputs": [
    {
     "name": "stdout",
     "output_type": "stream",
     "text": [
      "{'additions': [Coin(parent_coin_info=<bytes32: c82c581c59aae06554cb555f5cd406ec7987195174e8e6a7e9a95108b1058ca4>, puzzle_hash=<bytes32: 4f45877796d7a64e192bcc9f899afeedae391f71af3afd7e15a0792c049d23d3>, amount=1022)], 'removals': [Coin(parent_coin_info=<bytes32: 4238e577dc4aabb5f8aff3e8ff2695123e712ac7c3670b573e150e7e03e3107b>, puzzle_hash=<bytes32: aaf3a437c916cffd74edbf605cd3d550bc1a0969f9857a212d72ed40e193a084>, amount=1023)]}\n",
      "4\n"
     ]
    }
   ],
   "source": [
    "coin_spend = await count(launcher_id, coin_spend)\n",
    "puzzle = await get_last_spent_singleton_puzzle(launcher_id)\n",
    "c = get_value_from_curried_puzzle(puzzle)\n",
    "print(c)"
   ]
  }
 ],
 "metadata": {
  "kernelspec": {
   "display_name": "Python 3 (ipykernel)",
   "language": "python",
   "name": "python3"
  },
  "language_info": {
   "codemirror_mode": {
    "name": "ipython",
    "version": 3
   },
   "file_extension": ".py",
   "mimetype": "text/x-python",
   "name": "python",
   "nbconvert_exporter": "python",
   "pygments_lexer": "ipython3",
   "version": "3.8.10"
  }
 },
 "nbformat": 4,
 "nbformat_minor": 5
}
