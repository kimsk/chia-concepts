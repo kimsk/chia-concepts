{
 "cells": [
  {
   "cell_type": "markdown",
   "id": "fc1faa27-20f5-428a-b5e2-7851605c87c9",
   "metadata": {},
   "source": [
    "- [counter.clsp](counter.clsp)\n",
    "- [singleton_terminal.clsp](singleton_terminal.clsp)\n",
    "- [singleton_helpers_v1_1.py](../singleton_helpers_v1_1.py)\n",
    "- [singleton_top_layer_v1_1.py](https://github.com/Chia-Network/chia-blockchain/blob/1.4.0/chia/wallet/puzzles/singleton_top_layer_v1_1.py)\n",
    "- [singleton_top_layer_v1_1.clvm](https://github.com/Chia-Network/chia-blockchain/blob/1.4.0/chia/wallet/puzzles/singleton_top_layer_v1_1.clvm)"
   ]
  },
  {
   "cell_type": "code",
   "execution_count": 1,
   "id": "4dd9d717-9e91-4f6e-a02b-6de8ee88055f",
   "metadata": {},
   "outputs": [
    {
     "name": "stdout",
     "output_type": "stream",
     "text": [
      "1.4.0\n",
      "cdv, version 1.0.8\n"
     ]
    }
   ],
   "source": [
    "%%bash\n",
    "chia version\n",
    "cdv --version"
   ]
  },
  {
   "cell_type": "code",
   "execution_count": 2,
   "id": "08543ba0-ef74-4f2f-bf73-bff47f489ca6",
   "metadata": {},
   "outputs": [],
   "source": [
    "from pathlib import Path\n",
    "import sys\n",
    "sys.path.insert(0, \"..\")\n",
    "import singleton_helpers_v1_1\n",
    "\n",
    "from chia.types.blockchain_format.program import Program\n",
    "from clvm.casts import int_to_bytes\n",
    "from clvm_tools.binutils import disassemble\n",
    "from clvm_tools.clvmc import compile_clvm_text\n",
    "\n",
    "def load_program(file_path, search_paths):\n",
    "    clsp = Path(file_path).read_text()\n",
    "    return Program(\n",
    "        compile_clvm_text(clsp, search_paths)\n",
    "    )\n",
    "\n",
    "def print_program(program):\n",
    "    print(disassemble(program))"
   ]
  },
  {
   "cell_type": "code",
   "execution_count": 3,
   "id": "f74d818c-b95a-4211-b943-662f3472981c",
   "metadata": {},
   "outputs": [
    {
     "name": "stdout",
     "output_type": "stream",
     "text": [
      "d5b0cadac424ef077dc8eacc449d0bb8544639cc39f5462a48a8d6b5750a4483\n",
      "efafe67593029270221b07866b7e4b8dec7226ebd6be177ed4c9051c9ce1cc96\n"
     ]
    }
   ],
   "source": [
    "counter_puzzle = load_program(\"counter.clsp\", \".\")\n",
    "singleton_terminal_puzzle =  load_program(\"singleton_terminal.clsp\", \".\")\n",
    "print(counter_puzzle.get_tree_hash())\n",
    "print(singleton_terminal_puzzle.get_tree_hash())"
   ]
  },
  {
   "cell_type": "code",
   "execution_count": 4,
   "id": "61994cff-7622-4a43-89e2-9a31ec379830",
   "metadata": {},
   "outputs": [
    {
     "name": "stdout",
     "output_type": "stream",
     "text": [
      "alice balance:\t\t2000000000000\n",
      "alice puzzle hash:\t4f45877796d7a64e192bcc9f899afeedae391f71af3afd7e15a0792c049d23d3\n"
     ]
    }
   ],
   "source": [
    "from chia.wallet.puzzles import (singleton_top_layer_v1_1, p2_delegated_puzzle_or_hidden_puzzle)\n",
    "from cdv.test import Network, Wallet\n",
    "\n",
    "network: Network = await Network.create()\n",
    "\n",
    "# use as function parameters\n",
    "get_coin_records_by_parent_ids = network.sim_client.get_coin_records_by_parent_ids\n",
    "get_coin_record_by_name = network.sim_client.get_coin_record_by_name\n",
    "get_puzzle_and_solution = network.sim_client.get_puzzle_and_solution        \n",
    "get_block_records = network.sim_client.get_block_records\n",
    "get_additions_and_removals = network.sim_client.get_additions_and_removals\n",
    "\n",
    "await network.farm_block()\n",
    "\n",
    "alice: Wallet = network.make_wallet(\"alice\")\n",
    "await network.farm_block(farmer=alice)\n",
    "\n",
    "print(f'alice balance:\\t\\t{alice.balance()}')\n",
    "print(f'alice puzzle hash:\\t{alice.puzzle_hash}')"
   ]
  },
  {
   "cell_type": "code",
   "execution_count": 5,
   "id": "363b73b4-fe3d-4280-b9f0-dd38a5bace69",
   "metadata": {},
   "outputs": [
    {
     "name": "stdout",
     "output_type": "stream",
     "text": [
      "a870977635c6fb664f8fe9147e86e794ffb39a4b6e0ced1c4417a42d94249481\n",
      "5105569e016af878e23bf86a02ccb75fcae1d61d6e6f0268282355b7af071dc4\n"
     ]
    }
   ],
   "source": [
    "PUZZLE_HASH = alice.puzzle_hash\n",
    "AMOUNT = 1023\n",
    "MAX_VALUE = 3\n",
    "VALUE = 0\n",
    "\n",
    "singleton_terminal_puzzle = singleton_terminal_puzzle.curry(PUZZLE_HASH, AMOUNT)\n",
    "singleton_counter_puzzle = counter_puzzle.curry(counter_puzzle, MAX_VALUE, singleton_terminal_puzzle, AMOUNT, VALUE)\n",
    "print(singleton_terminal_puzzle.get_tree_hash())\n",
    "print(singleton_counter_puzzle.get_tree_hash())"
   ]
  },
  {
   "cell_type": "code",
   "execution_count": 6,
   "id": "ae7312a5-b69d-4aa3-8654-1b8d26429724",
   "metadata": {},
   "outputs": [
    {
     "name": "stdout",
     "output_type": "stream",
     "text": [
      "\n",
      "starting coin spend:\n",
      "{\n",
      "    \"coin\": {\n",
      "        \"amount\": 1750000000000,\n",
      "        \"parent_coin_info\": \"0xe3b0c44298fc1c149afbf4c8996fb92400000000000000000000000000000001\",\n",
      "        \"puzzle_hash\": \"0x4f45877796d7a64e192bcc9f899afeedae391f71af3afd7e15a0792c049d23d3\"\n",
      "    },\n",
      "    \"puzzle_reveal\": \"0xff02ffff01ff02ffff01ff02ffff03ff0bffff01ff02ffff03ffff09ff05ffff1dff0bffff1effff0bff0bffff02ff06ffff04ff02ffff04ff17ff8080808080808080ffff01ff02ff17ff2f80ffff01ff088080ff0180ffff01ff04ffff04ff04ffff04ff05ffff04ffff02ff06ffff04ff02ffff04ff17ff80808080ff80808080ffff02ff17ff2f808080ff0180ffff04ffff01ff32ff02ffff03ffff07ff0580ffff01ff0bffff0102ffff02ff06ffff04ff02ffff04ff09ff80808080ffff02ff06ffff04ff02ffff04ff0dff8080808080ffff01ff0bffff0101ff058080ff0180ff018080ffff04ffff01b0a042c855d234578415254b7870b711fb25e8f85beaa4a66bd0673d394c761fa156406c2e3bb375d5b18766d2a12cc918ff018080\",\n",
      "    \"solution\": \"0xff80ffff01ffff33ffa0eff07522495060c066f66f32acc2a77e3a3e737aca8baea4d1a64ea4cdc13da9ff8203ff80ffff3dffa068dc31ccf6c3973170b9e12399f8f9defe00c95b729f866586fb9df91dd1f75180ffff33ffa04f45877796d7a64e192bcc9f899afeedae391f71af3afd7e15a0792c049d23d3ff8601977420d8018080ff8080\"\n",
      "}\n",
      "\n",
      "launcher coin spend:\n",
      "{\n",
      "    \"coin\": {\n",
      "        \"amount\": 1023,\n",
      "        \"parent_coin_info\": \"0x12d7b8c1654f82f2330059abc28e3240e863450706de7fdc518026f393f68bba\",\n",
      "        \"puzzle_hash\": \"0xeff07522495060c066f66f32acc2a77e3a3e737aca8baea4d1a64ea4cdc13da9\"\n",
      "    },\n",
      "    \"puzzle_reveal\": \"0xff02ffff01ff04ffff04ff04ffff04ff05ffff04ff0bff80808080ffff04ffff04ff0affff04ffff02ff0effff04ff02ffff04ffff04ff05ffff04ff0bffff04ff17ff80808080ff80808080ff808080ff808080ffff04ffff01ff33ff3cff02ffff03ffff07ff0580ffff01ff0bffff0102ffff02ff0effff04ff02ffff04ff09ff80808080ffff02ff0effff04ff02ffff04ff0dff8080808080ffff01ff0bffff0101ff058080ff0180ff018080\",\n",
      "    \"solution\": \"0xffa0c3dff2bf57480d788070ec0e8c9bb111692cdcd751d3dae351d5747205956e47ff8203ffffffff87636f756e746572836f6e658080\"\n",
      "}\n",
      "\n",
      "launcher id: 6a4ba7e394f8d346deafcda74b26bcad649ed0cb691d7172b14970c4cf47a570\n",
      "\n",
      "standard_coin_message: 5714f3478c3b0c71186a196986170e56b9c7b85e32c53c94abd9cebec2637ac612d7b8c1654f82f2330059abc28e3240e863450706de7fdc518026f393f68bbaccd5bb71183532bff220ba46c268991a3ff07eb358e8255a65c30a2dce0e5fbb\n"
     ]
    }
   ],
   "source": [
    "standard_txn_coin_wrapper = await alice.choose_coin(1_750_000_000_000)\n",
    "standard_txn_coin = standard_txn_coin_wrapper.as_coin()\n",
    "standard_txn_puzzle = p2_delegated_puzzle_or_hidden_puzzle.puzzle_for_pk(alice.pk())\n",
    "\n",
    "inner_puzzle = singleton_counter_puzzle\n",
    "standard_coin_message, coin_spends = singleton_helpers_v1_1.get_create_singleton_coin_spends(\n",
    "                    standard_txn_coin,\n",
    "                    standard_txn_puzzle,\n",
    "                    odd_amount = 1023, \n",
    "                    inner_puzzle = inner_puzzle,\n",
    "                    keys_values = [\n",
    "                        (\"counter\", \"one\")\n",
    "                    ]\n",
    "              )\n",
    "standard_txn_coin_spend = coin_spends[0]\n",
    "launcher_coin_spend = coin_spends[1]\n",
    "print(\"\\nstarting coin spend:\")\n",
    "singleton_helpers_v1_1.print_json(standard_txn_coin_spend.to_json_dict())\n",
    "print(\"\\nlauncher coin spend:\")\n",
    "singleton_helpers_v1_1.print_json(launcher_coin_spend.to_json_dict())\n",
    "print(f'\\nlauncher id: {launcher_coin_spend.coin.name()}')\n",
    "print(f'\\nstandard_coin_message: {standard_coin_message.hex()}')"
   ]
  },
  {
   "cell_type": "code",
   "execution_count": 7,
   "id": "52221c2e-20fd-4fde-8bc7-41c687007f82",
   "metadata": {},
   "outputs": [
    {
     "data": {
      "text/plain": [
       "{'additions': [Coin(parent_coin_info=<bytes32: 12d7b8c1654f82f2330059abc28e3240e863450706de7fdc518026f393f68bba>, puzzle_hash=<bytes32: 4f45877796d7a64e192bcc9f899afeedae391f71af3afd7e15a0792c049d23d3>, amount=1749999998977),\n",
       "  Coin(parent_coin_info=<bytes32: 12d7b8c1654f82f2330059abc28e3240e863450706de7fdc518026f393f68bba>, puzzle_hash=<bytes32: eff07522495060c066f66f32acc2a77e3a3e737aca8baea4d1a64ea4cdc13da9>, amount=1023),\n",
       "  Coin(parent_coin_info=<bytes32: 6a4ba7e394f8d346deafcda74b26bcad649ed0cb691d7172b14970c4cf47a570>, puzzle_hash=<bytes32: c3dff2bf57480d788070ec0e8c9bb111692cdcd751d3dae351d5747205956e47>, amount=1023)],\n",
       " 'removals': [Coin(parent_coin_info=<bytes32: e3b0c44298fc1c149afbf4c8996fb92400000000000000000000000000000001>, puzzle_hash=<bytes32: 4f45877796d7a64e192bcc9f899afeedae391f71af3afd7e15a0792c049d23d3>, amount=1750000000000),\n",
       "  Coin(parent_coin_info=<bytes32: 12d7b8c1654f82f2330059abc28e3240e863450706de7fdc518026f393f68bba>, puzzle_hash=<bytes32: eff07522495060c066f66f32acc2a77e3a3e737aca8baea4d1a64ea4cdc13da9>, amount=1023)]}"
      ]
     },
     "execution_count": 7,
     "metadata": {},
     "output_type": "execute_result"
    }
   ],
   "source": [
    "# sign the standard txn spend\n",
    "from blspy import AugSchemeMPL, PrivateKey\n",
    "from chia.consensus.default_constants import DEFAULT_CONSTANTS\n",
    "\n",
    "synthetic_sk: PrivateKey = p2_delegated_puzzle_or_hidden_puzzle.calculate_synthetic_secret_key(\n",
    "    alice.sk_,\n",
    "    p2_delegated_puzzle_or_hidden_puzzle.DEFAULT_HIDDEN_PUZZLE_HASH\n",
    ")\n",
    "\n",
    "signature = AugSchemeMPL.sign(synthetic_sk,standard_coin_message)\n",
    "\n",
    "# push txn to create an eve singleton\n",
    "from chia.types.spend_bundle import SpendBundle\n",
    "\n",
    "spend_bundle = SpendBundle(\n",
    "    coin_spends,\n",
    "    signature\n",
    ")\n",
    "await network.push_tx(spend_bundle)"
   ]
  },
  {
   "cell_type": "code",
   "execution_count": 8,
   "id": "0b70c81f-d64c-4745-bc76-9351d3b7e39e",
   "metadata": {},
   "outputs": [
    {
     "name": "stdout",
     "output_type": "stream",
     "text": [
      "{'amount': 1023,\n",
      " 'parent_coin_info': '0x6a4ba7e394f8d346deafcda74b26bcad649ed0cb691d7172b14970c4cf47a570',\n",
      " 'puzzle_hash': '0xc3dff2bf57480d788070ec0e8c9bb111692cdcd751d3dae351d5747205956e47'}\n",
      "singleton_coin:\n",
      "{'amount': 1023,\n",
      " 'parent_coin_info': '0x6a4ba7e394f8d346deafcda74b26bcad649ed0cb691d7172b14970c4cf47a570',\n",
      " 'puzzle_hash': '0xc3dff2bf57480d788070ec0e8c9bb111692cdcd751d3dae351d5747205956e47'}\n",
      "\n",
      "lineage_proof:\n",
      "{'amount': 1023,\n",
      " 'inner_puzzle_hash': None,\n",
      " 'parent_name': '0x12d7b8c1654f82f2330059abc28e3240e863450706de7fdc518026f393f68bba'}\n",
      "\n",
      "inner_solution:\n",
      "80\n",
      "\n",
      "singleton_puzzle:\n",
      "c3dff2bf57480d788070ec0e8c9bb111692cdcd751d3dae351d5747205956e47\n",
      "\n",
      "singleton_coin_spend:\n",
      "{\n",
      "    \"coin\": {\n",
      "        \"amount\": 1023,\n",
      "        \"parent_coin_info\": \"0x6a4ba7e394f8d346deafcda74b26bcad649ed0cb691d7172b14970c4cf47a570\",\n",
      "        \"puzzle_hash\": \"0xc3dff2bf57480d788070ec0e8c9bb111692cdcd751d3dae351d5747205956e47\"\n",
      "    },\n",
      "    \"puzzle_reveal\": \"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\",\n",
      "    \"solution\": \"0xffffa012d7b8c1654f82f2330059abc28e3240e863450706de7fdc518026f393f68bbaff8203ff80ff8203ffff8080\"\n",
      "}\n",
      "{\n",
      "    \"aggregated_signature\": \"0xc00000000000000000000000000000000000000000000000000000000000000000000000000000000000000000000000000000000000000000000000000000000000000000000000000000000000000000000000000000000000000000000000\",\n",
      "    \"coin_solutions\": [\n",
      "        {\n",
      "            \"coin\": {\n",
      "                \"amount\": 1023,\n",
      "                \"parent_coin_info\": \"0x6a4ba7e394f8d346deafcda74b26bcad649ed0cb691d7172b14970c4cf47a570\",\n",
      "                \"puzzle_hash\": \"0xc3dff2bf57480d788070ec0e8c9bb111692cdcd751d3dae351d5747205956e47\"\n",
      "            },\n",
      "            \"puzzle_reveal\": \"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\",\n",
      "            \"solution\": \"0xffffa012d7b8c1654f82f2330059abc28e3240e863450706de7fdc518026f393f68bbaff8203ff80ff8203ffff8080\"\n",
      "        }\n",
      "    ]\n",
      "}\n",
      "(a (q 2 (q 2 (i (logand 47 52) (q 4 (c 32 (c 47 ())) (c (a 62 (c 2 (c 5 (c (a 42 (c 2 (c 39 (c (a (i 119 (q 2 54 (c 2 (c 9 (c 87 (c (a 46 (c 2 (c 5 ()))) ()))))) (q . 29)) 1) (c (a (i 119 (q . -73) (q . 87)) 1) ()))))) (c 119 ()))))) (a 58 (c 2 (c 5 (c (a 11 95) (q ()))))))) (q 8)) 1) (c (q (((73 . 71) 2 . 51) (c . 1) 1 . 2) ((not 2 (i 5 (q 2 50 (c 2 (c 13 (c (sha256 60 (sha256 52 36) (sha256 60 (sha256 60 (sha256 52 44) 9) (sha256 60 11 (sha256 52 ())))) ())))) (q . 11)) 1) (a (i (all (= (strlen 5) 34) (= (strlen 11) 34) (> 23 (q . -1))) (q 11 5 11 23) (q 8)) 1) 2 (i 11 (q 2 (i (a 38 (c 2 (c 19 ()))) (q 2 (i (not 23) (q 2 (i (= -77 (q . -113)) (q 2 58 (c 2 (c 5 (c 27 (c 52 ()))))) (q 4 (c 35 (c (a 54 (c 2 (c 9 (c 83 (c (a 46 (c 2 (c 5 ()))) ()))))) 115)) (a 58 (c 2 (c 5 (c 27 (c 52 ()))))))) 1) (q 8)) 1) (q 4 19 (a 58 (c 2 (c 5 (c 27 (c 23 ()))))))) 1) (q 2 (i 23 () (q 8)) 1)) 1) ((a (i (= 9 56) (q 2 (i (logand 45 (q . 1)) (q 1 . 1) ()) 1) ()) 1) 11 60 (sha256 52 40) (sha256 60 (sha256 60 (sha256 52 44) 5) (sha256 60 (a 50 (c 2 (c 7 (c (sha256 52 52) ())))) (sha256 52 ())))) (a (i (l 5) (q 11 (q . 2) (a 46 (c 2 (c 9 ()))) (a 46 (c 2 (c 13 ())))) (q 11 (q . 1) 5)) 1) 2 (i (any 23 (= 11 21)) (q 4 48 (c 11 ())) (q 8)) 1) 1)) (c (q 0x7faa3253bfddd1e0decb0906b2dc6247bbc4cf608f58345d173adb63e8b47c9f 0x6a4ba7e394f8d346deafcda74b26bcad649ed0cb691d7172b14970c4cf47a570 . 0xeff07522495060c066f66f32acc2a77e3a3e737aca8baea4d1a64ea4cdc13da9) (c (q 2 (q 2 (q 2 (i (= 11 95) (q 2 23 ()) (q 2 12 (c 2 (c 5 (c 11 (c 23 (c 47 (c 95 ())))))))) 1) (c (q (51 4 (c 8 (c (a 30 (c 2 (c (a 10 (c 2 (c 5 (c (c 5 (c 11 (c 23 (c 47 (c (+ 95 (q . 1)) ()))))) ())))) ()))) (c 47 ()))) ()) (c (q . 2) (c (c (q . 1) 5) (c (a 22 (c 2 (c 11 (q 1)))) ()))) (a (i 5 (q 4 (q . 4) (c (c (q . 1) 9) (c (a 22 (c 2 (c 13 (c 11 ())))) ()))) (q . 11)) 1) 2 (i (l 5) (q 11 (q . 2) (a 30 (c 2 (c 9 ()))) (a 30 (c 2 (c 13 ())))) (q 11 (q . 1) 5)) 1) 1)) (c (q 2 (q 2 (i (= 11 95) (q 2 23 ()) (q 2 12 (c 2 (c 5 (c 11 (c 23 (c 47 (c 95 ())))))))) 1) (c (q (51 4 (c 8 (c (a 30 (c 2 (c (a 10 (c 2 (c 5 (c (c 5 (c 11 (c 23 (c 47 (c (+ 95 (q . 1)) ()))))) ())))) ()))) (c 47 ()))) ()) (c (q . 2) (c (c (q . 1) 5) (c (a 22 (c 2 (c 11 (q 1)))) ()))) (a (i 5 (q 4 (q . 4) (c (c (q . 1) 9) (c (a 22 (c 2 (c 13 (c 11 ())))) ()))) (q . 11)) 1) 2 (i (l 5) (q 11 (q . 2) (a 30 (c 2 (c 9 ()))) (a 30 (c 2 (c 13 ())))) (q 11 (q . 1) 5)) 1) 1)) (c (q . 3) (c (q 2 (q 2 (q 4 (c 2 (c 5 (q -113))) (c (a (i (logand 11 (q . 1)) (q 4 2 (c 5 (c (- 11 (q . 1)) ()))) (q 4 2 (c 5 (c 11 ())))) 1) ())) (c (q . 51) 1)) (c (q . 0x4f45877796d7a64e192bcc9f899afeedae391f71af3afd7e15a0792c049d23d3) (c (q . 1023) 1))) (c (q . 1023) (c (q) 1)))))) 1)))\n"
     ]
    },
    {
     "data": {
      "text/plain": [
       "{'additions': [Coin(parent_coin_info=<bytes32: 815ecd83433d842c12a2bca4ec08a9d8c795661a12abc42b5b11339a04c0ad16>, puzzle_hash=<bytes32: 57b547a80acabe515c7d41757d1a69b6120d133423781cf70e6f38a364aad244>, amount=1023)],\n",
       " 'removals': [Coin(parent_coin_info=<bytes32: 6a4ba7e394f8d346deafcda74b26bcad649ed0cb691d7172b14970c4cf47a570>, puzzle_hash=<bytes32: c3dff2bf57480d788070ec0e8c9bb111692cdcd751d3dae351d5747205956e47>, amount=1023)]}"
      ]
     },
     "execution_count": 8,
     "metadata": {},
     "output_type": "execute_result"
    }
   ],
   "source": [
    "# spend eve singleton\n",
    "network.sim.pass_blocks(1)\n",
    "launcher_id = launcher_coin_spend.coin.name()\n",
    "            \n",
    "singleton_struct = (\n",
    "        singleton_top_layer_v1_1.SINGLETON_MOD_HASH, \n",
    "        (launcher_id, singleton_top_layer_v1_1.SINGLETON_LAUNCHER_HASH)\n",
    "    )\n",
    "\n",
    "singleton_puzzle = singleton_top_layer_v1_1.SINGLETON_MOD.curry(\n",
    "            singleton_struct,\n",
    "            inner_puzzle,\n",
    "    )\n",
    "\n",
    "singleton_coin = await singleton_helpers_v1_1.get_unspent_singleton(\n",
    "    get_coin_records_by_parent_ids, \n",
    "    launcher_id)\n",
    "print(singleton_coin)\n",
    "\n",
    "lineage_proof = singleton_top_layer_v1_1.lineage_proof_for_coinsol(launcher_coin_spend)\n",
    "\n",
    "inner_solution = Program.to([])\n",
    "\n",
    "singleton_coin_spend = singleton_helpers_v1_1.get_singleton_coin_spend(\n",
    "        singleton_coin, singleton_puzzle, lineage_proof, inner_solution\n",
    "    )\n",
    "\n",
    "print(f'singleton_coin:\\n{singleton_coin}')\n",
    "print(f'\\nlineage_proof:\\n{lineage_proof}')\n",
    "print(f'\\ninner_solution:\\n{inner_solution}')\n",
    "print(f'\\nsingleton_puzzle:\\n{singleton_puzzle.get_tree_hash()}')\n",
    "\n",
    "print('\\nsingleton_coin_spend:')\n",
    "singleton_helpers_v1_1.print_json(singleton_coin_spend.to_json_dict())\n",
    "from blspy import G2Element\n",
    "spend_bundle = SpendBundle(\n",
    "    [singleton_coin_spend],\n",
    "    G2Element()\n",
    ")\n",
    "singleton_helpers_v1_1.print_json(spend_bundle.to_json_dict())\n",
    "print_program(singleton_puzzle)\n",
    "await network.push_tx(spend_bundle)"
   ]
  },
  {
   "cell_type": "code",
   "execution_count": 9,
   "id": "564a5b6d-2664-4503-a1ec-e158ef25ecf3",
   "metadata": {},
   "outputs": [
    {
     "name": "stdout",
     "output_type": "stream",
     "text": [
      "singleton_struct:\n",
      "(<bytes32: 7faa3253bfddd1e0decb0906b2dc6247bbc4cf608f58345d173adb63e8b47c9f>, (<bytes32: 6a4ba7e394f8d346deafcda74b26bcad649ed0cb691d7172b14970c4cf47a570>, <bytes32: eff07522495060c066f66f32acc2a77e3a3e737aca8baea4d1a64ea4cdc13da9>))\n",
      "singleton_coin:\n",
      "{'amount': 1023,\n",
      " 'parent_coin_info': '0x815ecd83433d842c12a2bca4ec08a9d8c795661a12abc42b5b11339a04c0ad16',\n",
      " 'puzzle_hash': '0x57b547a80acabe515c7d41757d1a69b6120d133423781cf70e6f38a364aad244'}\n",
      "\n",
      "lineage_proof:\n",
      "{'amount': 1023,\n",
      " 'inner_puzzle_hash': '0x5105569e016af878e23bf86a02ccb75fcae1d61d6e6f0268282355b7af071dc4',\n",
      " 'parent_name': '0x6a4ba7e394f8d346deafcda74b26bcad649ed0cb691d7172b14970c4cf47a570'}\n",
      "\n",
      "inner_solution:\n",
      "80\n",
      "\n",
      "singleton_coin_spend:\n",
      "{\n",
      "    \"coin\": {\n",
      "        \"amount\": 1023,\n",
      "        \"parent_coin_info\": \"0x815ecd83433d842c12a2bca4ec08a9d8c795661a12abc42b5b11339a04c0ad16\",\n",
      "        \"puzzle_hash\": \"0x57b547a80acabe515c7d41757d1a69b6120d133423781cf70e6f38a364aad244\"\n",
      "    },\n",
      "    \"puzzle_reveal\": \"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\",\n",
      "    \"solution\": \"0xffffa06a4ba7e394f8d346deafcda74b26bcad649ed0cb691d7172b14970c4cf47a570ffa05105569e016af878e23bf86a02ccb75fcae1d61d6e6f0268282355b7af071dc4ff8203ff80ff8203ffff8080\"\n",
      "}\n",
      "{\n",
      "    \"aggregated_signature\": \"0xc00000000000000000000000000000000000000000000000000000000000000000000000000000000000000000000000000000000000000000000000000000000000000000000000000000000000000000000000000000000000000000000000\",\n",
      "    \"coin_solutions\": [\n",
      "        {\n",
      "            \"coin\": {\n",
      "                \"amount\": 1023,\n",
      "                \"parent_coin_info\": \"0x815ecd83433d842c12a2bca4ec08a9d8c795661a12abc42b5b11339a04c0ad16\",\n",
      "                \"puzzle_hash\": \"0x57b547a80acabe515c7d41757d1a69b6120d133423781cf70e6f38a364aad244\"\n",
      "            },\n",
      "            \"puzzle_reveal\": \"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\",\n",
      "            \"solution\": \"0xffffa06a4ba7e394f8d346deafcda74b26bcad649ed0cb691d7172b14970c4cf47a570ffa05105569e016af878e23bf86a02ccb75fcae1d61d6e6f0268282355b7af071dc4ff8203ff80ff8203ffff8080\"\n",
      "        }\n",
      "    ]\n",
      "}\n",
      "(a (q 2 (q 2 (i (logand 47 52) (q 4 (c 32 (c 47 ())) (c (a 62 (c 2 (c 5 (c (a 42 (c 2 (c 39 (c (a (i 119 (q 2 54 (c 2 (c 9 (c 87 (c (a 46 (c 2 (c 5 ()))) ()))))) (q . 29)) 1) (c (a (i 119 (q . -73) (q . 87)) 1) ()))))) (c 119 ()))))) (a 58 (c 2 (c 5 (c (a 11 95) (q ()))))))) (q 8)) 1) (c (q (((73 . 71) 2 . 51) (c . 1) 1 . 2) ((not 2 (i 5 (q 2 50 (c 2 (c 13 (c (sha256 60 (sha256 52 36) (sha256 60 (sha256 60 (sha256 52 44) 9) (sha256 60 11 (sha256 52 ())))) ())))) (q . 11)) 1) (a (i (all (= (strlen 5) 34) (= (strlen 11) 34) (> 23 (q . -1))) (q 11 5 11 23) (q 8)) 1) 2 (i 11 (q 2 (i (a 38 (c 2 (c 19 ()))) (q 2 (i (not 23) (q 2 (i (= -77 (q . -113)) (q 2 58 (c 2 (c 5 (c 27 (c 52 ()))))) (q 4 (c 35 (c (a 54 (c 2 (c 9 (c 83 (c (a 46 (c 2 (c 5 ()))) ()))))) 115)) (a 58 (c 2 (c 5 (c 27 (c 52 ()))))))) 1) (q 8)) 1) (q 4 19 (a 58 (c 2 (c 5 (c 27 (c 23 ()))))))) 1) (q 2 (i 23 () (q 8)) 1)) 1) ((a (i (= 9 56) (q 2 (i (logand 45 (q . 1)) (q 1 . 1) ()) 1) ()) 1) 11 60 (sha256 52 40) (sha256 60 (sha256 60 (sha256 52 44) 5) (sha256 60 (a 50 (c 2 (c 7 (c (sha256 52 52) ())))) (sha256 52 ())))) (a (i (l 5) (q 11 (q . 2) (a 46 (c 2 (c 9 ()))) (a 46 (c 2 (c 13 ())))) (q 11 (q . 1) 5)) 1) 2 (i (any 23 (= 11 21)) (q 4 48 (c 11 ())) (q 8)) 1) 1)) (c (q 0x7faa3253bfddd1e0decb0906b2dc6247bbc4cf608f58345d173adb63e8b47c9f 0x6a4ba7e394f8d346deafcda74b26bcad649ed0cb691d7172b14970c4cf47a570 . 0xeff07522495060c066f66f32acc2a77e3a3e737aca8baea4d1a64ea4cdc13da9) (c (q 2 (q 2 (q 2 (i (= 11 95) (q 2 23 ()) (q 2 12 (c 2 (c 5 (c 11 (c 23 (c 47 (c 95 ())))))))) 1) (c (q (51 4 (c 8 (c (a 30 (c 2 (c (a 10 (c 2 (c 5 (c (c 5 (c 11 (c 23 (c 47 (c (+ 95 (q . 1)) ()))))) ())))) ()))) (c 47 ()))) ()) (c (q . 2) (c (c (q . 1) 5) (c (a 22 (c 2 (c 11 (q 1)))) ()))) (a (i 5 (q 4 (q . 4) (c (c (q . 1) 9) (c (a 22 (c 2 (c 13 (c 11 ())))) ()))) (q . 11)) 1) 2 (i (l 5) (q 11 (q . 2) (a 30 (c 2 (c 9 ()))) (a 30 (c 2 (c 13 ())))) (q 11 (q . 1) 5)) 1) 1)) (c (q 2 (q 2 (i (= 11 95) (q 2 23 ()) (q 2 12 (c 2 (c 5 (c 11 (c 23 (c 47 (c 95 ())))))))) 1) (c (q (51 4 (c 8 (c (a 30 (c 2 (c (a 10 (c 2 (c 5 (c (c 5 (c 11 (c 23 (c 47 (c (+ 95 (q . 1)) ()))))) ())))) ()))) (c 47 ()))) ()) (c (q . 2) (c (c (q . 1) 5) (c (a 22 (c 2 (c 11 (q 1)))) ()))) (a (i 5 (q 4 (q . 4) (c (c (q . 1) 9) (c (a 22 (c 2 (c 13 (c 11 ())))) ()))) (q . 11)) 1) 2 (i (l 5) (q 11 (q . 2) (a 30 (c 2 (c 9 ()))) (a 30 (c 2 (c 13 ())))) (q 11 (q . 1) 5)) 1) 1)) (c (q . 3) (c (q 2 (q 2 (q 4 (c 2 (c 5 (q -113))) (c (a (i (logand 11 (q . 1)) (q 4 2 (c 5 (c (- 11 (q . 1)) ()))) (q 4 2 (c 5 (c 11 ())))) 1) ())) (c (q . 51) 1)) (c (q . 0x4f45877796d7a64e192bcc9f899afeedae391f71af3afd7e15a0792c049d23d3) (c (q . 1023) 1))) (c (q . 1023) (c (q . 1) 1)))))) 1)))\n"
     ]
    },
    {
     "data": {
      "text/plain": [
       "{'additions': [Coin(parent_coin_info=<bytes32: 9f4a5da9066c5d6c1c091d94a01e8138693f969247173c616e2910cfe4ca72b9>, puzzle_hash=<bytes32: 789db1ea2983bbf724a14d5236e272889c0d4ab13e214a16a3659f71be29174c>, amount=1023)],\n",
       " 'removals': [Coin(parent_coin_info=<bytes32: 815ecd83433d842c12a2bca4ec08a9d8c795661a12abc42b5b11339a04c0ad16>, puzzle_hash=<bytes32: 57b547a80acabe515c7d41757d1a69b6120d133423781cf70e6f38a364aad244>, amount=1023)]}"
      ]
     },
     "execution_count": 9,
     "metadata": {},
     "output_type": "execute_result"
    }
   ],
   "source": [
    "# spend next singleton\n",
    "v = VALUE + 1\n",
    "network.sim.pass_blocks(1)\n",
    "singleton_struct = (\n",
    "        singleton_top_layer_v1_1.SINGLETON_MOD_HASH, \n",
    "        (launcher_id, singleton_top_layer_v1_1.SINGLETON_LAUNCHER_HASH)\n",
    "    )\n",
    "\n",
    "singleton_counter_puzzle = counter_puzzle.curry(counter_puzzle, MAX_VALUE, singleton_terminal_puzzle, AMOUNT, v)\n",
    "\n",
    "inner_puzzle = singleton_counter_puzzle\n",
    "singleton_puzzle: Program = singleton_top_layer_v1_1.puzzle_for_singleton(\n",
    "    launcher_id,\n",
    "    inner_puzzle\n",
    ")\n",
    "\n",
    "singleton_coin = await singleton_helpers_v1_1.get_unspent_singleton(\n",
    "    get_coin_records_by_parent_ids, \n",
    "    launcher_id)\n",
    "\n",
    "lineage_proof = singleton_top_layer_v1_1.lineage_proof_for_coinsol(singleton_coin_spend)\n",
    "\n",
    "inner_solution = Program.to([])\n",
    "\n",
    "singleton_coin_spend = singleton_helpers_v1_1.get_singleton_coin_spend(\n",
    "        singleton_coin, singleton_puzzle, lineage_proof, inner_solution\n",
    ")\n",
    "\n",
    "print(f'singleton_struct:\\n{singleton_struct}')\n",
    "print(f'singleton_coin:\\n{singleton_coin}')\n",
    "print(f'\\nlineage_proof:\\n{lineage_proof}')\n",
    "print(f'\\ninner_solution:\\n{inner_solution}')\n",
    "\n",
    "print('\\nsingleton_coin_spend:')\n",
    "singleton_helpers_v1_1.print_json(singleton_coin_spend.to_json_dict())\n",
    "from blspy import G2Element\n",
    "spend_bundle = SpendBundle(\n",
    "    [singleton_coin_spend],\n",
    "    G2Element()\n",
    ")\n",
    "singleton_helpers_v1_1.print_json(spend_bundle.to_json_dict())\n",
    "print_program(singleton_puzzle)\n",
    "await network.push_tx(spend_bundle)"
   ]
  },
  {
   "cell_type": "code",
   "execution_count": 10,
   "id": "44f480d2-1b0d-4c89-8b1d-d41bac6e4912",
   "metadata": {},
   "outputs": [
    {
     "name": "stdout",
     "output_type": "stream",
     "text": [
      "singleton_struct:\n",
      "(<bytes32: 7faa3253bfddd1e0decb0906b2dc6247bbc4cf608f58345d173adb63e8b47c9f>, (<bytes32: 6a4ba7e394f8d346deafcda74b26bcad649ed0cb691d7172b14970c4cf47a570>, <bytes32: eff07522495060c066f66f32acc2a77e3a3e737aca8baea4d1a64ea4cdc13da9>))\n",
      "singleton_coin:\n",
      "{'amount': 1023,\n",
      " 'parent_coin_info': '0x9f4a5da9066c5d6c1c091d94a01e8138693f969247173c616e2910cfe4ca72b9',\n",
      " 'puzzle_hash': '0x789db1ea2983bbf724a14d5236e272889c0d4ab13e214a16a3659f71be29174c'}\n",
      "\n",
      "lineage_proof:\n",
      "{'amount': 1023,\n",
      " 'inner_puzzle_hash': '0xfbe3666aa80a296db1b2e93a27eb6e36364528271c0e3f7e45f54a6eca0b83f1',\n",
      " 'parent_name': '0x815ecd83433d842c12a2bca4ec08a9d8c795661a12abc42b5b11339a04c0ad16'}\n",
      "\n",
      "inner_solution:\n",
      "80\n",
      "\n",
      "singleton_coin_spend:\n",
      "{\n",
      "    \"coin\": {\n",
      "        \"amount\": 1023,\n",
      "        \"parent_coin_info\": \"0x9f4a5da9066c5d6c1c091d94a01e8138693f969247173c616e2910cfe4ca72b9\",\n",
      "        \"puzzle_hash\": \"0x789db1ea2983bbf724a14d5236e272889c0d4ab13e214a16a3659f71be29174c\"\n",
      "    },\n",
      "    \"puzzle_reveal\": \"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\",\n",
      "    \"solution\": \"0xffffa0815ecd83433d842c12a2bca4ec08a9d8c795661a12abc42b5b11339a04c0ad16ffa0fbe3666aa80a296db1b2e93a27eb6e36364528271c0e3f7e45f54a6eca0b83f1ff8203ff80ff8203ffff8080\"\n",
      "}\n",
      "{\n",
      "    \"aggregated_signature\": \"0xc00000000000000000000000000000000000000000000000000000000000000000000000000000000000000000000000000000000000000000000000000000000000000000000000000000000000000000000000000000000000000000000000\",\n",
      "    \"coin_solutions\": [\n",
      "        {\n",
      "            \"coin\": {\n",
      "                \"amount\": 1023,\n",
      "                \"parent_coin_info\": \"0x9f4a5da9066c5d6c1c091d94a01e8138693f969247173c616e2910cfe4ca72b9\",\n",
      "                \"puzzle_hash\": \"0x789db1ea2983bbf724a14d5236e272889c0d4ab13e214a16a3659f71be29174c\"\n",
      "            },\n",
      "            \"puzzle_reveal\": \"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\",\n",
      "            \"solution\": \"0xffffa0815ecd83433d842c12a2bca4ec08a9d8c795661a12abc42b5b11339a04c0ad16ffa0fbe3666aa80a296db1b2e93a27eb6e36364528271c0e3f7e45f54a6eca0b83f1ff8203ff80ff8203ffff8080\"\n",
      "        }\n",
      "    ]\n",
      "}\n",
      "(a (q 2 (q 2 (i (logand 47 52) (q 4 (c 32 (c 47 ())) (c (a 62 (c 2 (c 5 (c (a 42 (c 2 (c 39 (c (a (i 119 (q 2 54 (c 2 (c 9 (c 87 (c (a 46 (c 2 (c 5 ()))) ()))))) (q . 29)) 1) (c (a (i 119 (q . -73) (q . 87)) 1) ()))))) (c 119 ()))))) (a 58 (c 2 (c 5 (c (a 11 95) (q ()))))))) (q 8)) 1) (c (q (((73 . 71) 2 . 51) (c . 1) 1 . 2) ((not 2 (i 5 (q 2 50 (c 2 (c 13 (c (sha256 60 (sha256 52 36) (sha256 60 (sha256 60 (sha256 52 44) 9) (sha256 60 11 (sha256 52 ())))) ())))) (q . 11)) 1) (a (i (all (= (strlen 5) 34) (= (strlen 11) 34) (> 23 (q . -1))) (q 11 5 11 23) (q 8)) 1) 2 (i 11 (q 2 (i (a 38 (c 2 (c 19 ()))) (q 2 (i (not 23) (q 2 (i (= -77 (q . -113)) (q 2 58 (c 2 (c 5 (c 27 (c 52 ()))))) (q 4 (c 35 (c (a 54 (c 2 (c 9 (c 83 (c (a 46 (c 2 (c 5 ()))) ()))))) 115)) (a 58 (c 2 (c 5 (c 27 (c 52 ()))))))) 1) (q 8)) 1) (q 4 19 (a 58 (c 2 (c 5 (c 27 (c 23 ()))))))) 1) (q 2 (i 23 () (q 8)) 1)) 1) ((a (i (= 9 56) (q 2 (i (logand 45 (q . 1)) (q 1 . 1) ()) 1) ()) 1) 11 60 (sha256 52 40) (sha256 60 (sha256 60 (sha256 52 44) 5) (sha256 60 (a 50 (c 2 (c 7 (c (sha256 52 52) ())))) (sha256 52 ())))) (a (i (l 5) (q 11 (q . 2) (a 46 (c 2 (c 9 ()))) (a 46 (c 2 (c 13 ())))) (q 11 (q . 1) 5)) 1) 2 (i (any 23 (= 11 21)) (q 4 48 (c 11 ())) (q 8)) 1) 1)) (c (q 0x7faa3253bfddd1e0decb0906b2dc6247bbc4cf608f58345d173adb63e8b47c9f 0x6a4ba7e394f8d346deafcda74b26bcad649ed0cb691d7172b14970c4cf47a570 . 0xeff07522495060c066f66f32acc2a77e3a3e737aca8baea4d1a64ea4cdc13da9) (c (q 2 (q 2 (q 2 (i (= 11 95) (q 2 23 ()) (q 2 12 (c 2 (c 5 (c 11 (c 23 (c 47 (c 95 ())))))))) 1) (c (q (51 4 (c 8 (c (a 30 (c 2 (c (a 10 (c 2 (c 5 (c (c 5 (c 11 (c 23 (c 47 (c (+ 95 (q . 1)) ()))))) ())))) ()))) (c 47 ()))) ()) (c (q . 2) (c (c (q . 1) 5) (c (a 22 (c 2 (c 11 (q 1)))) ()))) (a (i 5 (q 4 (q . 4) (c (c (q . 1) 9) (c (a 22 (c 2 (c 13 (c 11 ())))) ()))) (q . 11)) 1) 2 (i (l 5) (q 11 (q . 2) (a 30 (c 2 (c 9 ()))) (a 30 (c 2 (c 13 ())))) (q 11 (q . 1) 5)) 1) 1)) (c (q 2 (q 2 (i (= 11 95) (q 2 23 ()) (q 2 12 (c 2 (c 5 (c 11 (c 23 (c 47 (c 95 ())))))))) 1) (c (q (51 4 (c 8 (c (a 30 (c 2 (c (a 10 (c 2 (c 5 (c (c 5 (c 11 (c 23 (c 47 (c (+ 95 (q . 1)) ()))))) ())))) ()))) (c 47 ()))) ()) (c (q . 2) (c (c (q . 1) 5) (c (a 22 (c 2 (c 11 (q 1)))) ()))) (a (i 5 (q 4 (q . 4) (c (c (q . 1) 9) (c (a 22 (c 2 (c 13 (c 11 ())))) ()))) (q . 11)) 1) 2 (i (l 5) (q 11 (q . 2) (a 30 (c 2 (c 9 ()))) (a 30 (c 2 (c 13 ())))) (q 11 (q . 1) 5)) 1) 1)) (c (q . 3) (c (q 2 (q 2 (q 4 (c 2 (c 5 (q -113))) (c (a (i (logand 11 (q . 1)) (q 4 2 (c 5 (c (- 11 (q . 1)) ()))) (q 4 2 (c 5 (c 11 ())))) 1) ())) (c (q . 51) 1)) (c (q . 0x4f45877796d7a64e192bcc9f899afeedae391f71af3afd7e15a0792c049d23d3) (c (q . 1023) 1))) (c (q . 1023) (c (q . 2) 1)))))) 1)))\n"
     ]
    },
    {
     "data": {
      "text/plain": [
       "{'additions': [Coin(parent_coin_info=<bytes32: 4238e577dc4aabb5f8aff3e8ff2695123e712ac7c3670b573e150e7e03e3107b>, puzzle_hash=<bytes32: aaf3a437c916cffd74edbf605cd3d550bc1a0969f9857a212d72ed40e193a084>, amount=1023)],\n",
       " 'removals': [Coin(parent_coin_info=<bytes32: 9f4a5da9066c5d6c1c091d94a01e8138693f969247173c616e2910cfe4ca72b9>, puzzle_hash=<bytes32: 789db1ea2983bbf724a14d5236e272889c0d4ab13e214a16a3659f71be29174c>, amount=1023)]}"
      ]
     },
     "execution_count": 10,
     "metadata": {},
     "output_type": "execute_result"
    }
   ],
   "source": [
    "# spend next singleton\n",
    "v = VALUE + 2\n",
    "network.sim.pass_blocks(1)\n",
    "singleton_struct = (\n",
    "        singleton_top_layer_v1_1.SINGLETON_MOD_HASH, \n",
    "        (launcher_id, singleton_top_layer_v1_1.SINGLETON_LAUNCHER_HASH)\n",
    "    )\n",
    "\n",
    "singleton_counter_puzzle = counter_puzzle.curry(counter_puzzle, MAX_VALUE, singleton_terminal_puzzle, AMOUNT, v)\n",
    "\n",
    "inner_puzzle = singleton_counter_puzzle\n",
    "singleton_puzzle: Program = singleton_top_layer_v1_1.puzzle_for_singleton(\n",
    "    launcher_id,\n",
    "    inner_puzzle\n",
    ")\n",
    "\n",
    "singleton_coin = await singleton_helpers_v1_1.get_unspent_singleton(\n",
    "    get_coin_records_by_parent_ids, \n",
    "    launcher_id)\n",
    "\n",
    "lineage_proof = singleton_top_layer_v1_1.lineage_proof_for_coinsol(singleton_coin_spend)\n",
    "\n",
    "inner_solution = Program.to([])\n",
    "\n",
    "singleton_coin_spend = singleton_helpers_v1_1.get_singleton_coin_spend(\n",
    "        singleton_coin, singleton_puzzle, lineage_proof, inner_solution\n",
    ")\n",
    "\n",
    "print(f'singleton_struct:\\n{singleton_struct}')\n",
    "print(f'singleton_coin:\\n{singleton_coin}')\n",
    "print(f'\\nlineage_proof:\\n{lineage_proof}')\n",
    "print(f'\\ninner_solution:\\n{inner_solution}')\n",
    "\n",
    "print('\\nsingleton_coin_spend:')\n",
    "singleton_helpers_v1_1.print_json(singleton_coin_spend.to_json_dict())\n",
    "from blspy import G2Element\n",
    "spend_bundle = SpendBundle(\n",
    "    [singleton_coin_spend],\n",
    "    G2Element()\n",
    ")\n",
    "singleton_helpers_v1_1.print_json(spend_bundle.to_json_dict())\n",
    "print_program(singleton_puzzle)\n",
    "await network.push_tx(spend_bundle)"
   ]
  },
  {
   "cell_type": "code",
   "execution_count": 13,
   "id": "7bc3138e-952e-4e5f-b4af-c6152fba730a",
   "metadata": {},
   "outputs": [
    {
     "name": "stdout",
     "output_type": "stream",
     "text": [
      "singleton_struct:\n",
      "(<bytes32: 7faa3253bfddd1e0decb0906b2dc6247bbc4cf608f58345d173adb63e8b47c9f>, (<bytes32: 6a4ba7e394f8d346deafcda74b26bcad649ed0cb691d7172b14970c4cf47a570>, <bytes32: eff07522495060c066f66f32acc2a77e3a3e737aca8baea4d1a64ea4cdc13da9>))\n",
      "singleton_coin:\n",
      "{'amount': 1023,\n",
      " 'parent_coin_info': '0x4238e577dc4aabb5f8aff3e8ff2695123e712ac7c3670b573e150e7e03e3107b',\n",
      " 'puzzle_hash': '0xaaf3a437c916cffd74edbf605cd3d550bc1a0969f9857a212d72ed40e193a084'}\n",
      "\n",
      "lineage_proof:\n",
      "{'amount': 1023,\n",
      " 'inner_puzzle_hash': '0x82549a5c359964fe8cc7b313e6ec7adf2f9c4af8d217dcbd95910eae453c6036',\n",
      " 'parent_name': '0x4238e577dc4aabb5f8aff3e8ff2695123e712ac7c3670b573e150e7e03e3107b'}\n",
      "\n",
      "inner_solution:\n",
      "80\n",
      "\n",
      "singleton_coin_spend:\n",
      "{\n",
      "    \"coin\": {\n",
      "        \"amount\": 1023,\n",
      "        \"parent_coin_info\": \"0x4238e577dc4aabb5f8aff3e8ff2695123e712ac7c3670b573e150e7e03e3107b\",\n",
      "        \"puzzle_hash\": \"0xaaf3a437c916cffd74edbf605cd3d550bc1a0969f9857a212d72ed40e193a084\"\n",
      "    },\n",
      "    \"puzzle_reveal\": \"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\",\n",
      "    \"solution\": \"0xffffa04238e577dc4aabb5f8aff3e8ff2695123e712ac7c3670b573e150e7e03e3107bffa082549a5c359964fe8cc7b313e6ec7adf2f9c4af8d217dcbd95910eae453c6036ff8203ff80ff8203ffff8080\"\n",
      "}\n",
      "{\n",
      "    \"aggregated_signature\": \"0xc00000000000000000000000000000000000000000000000000000000000000000000000000000000000000000000000000000000000000000000000000000000000000000000000000000000000000000000000000000000000000000000000\",\n",
      "    \"coin_solutions\": [\n",
      "        {\n",
      "            \"coin\": {\n",
      "                \"amount\": 1023,\n",
      "                \"parent_coin_info\": \"0x4238e577dc4aabb5f8aff3e8ff2695123e712ac7c3670b573e150e7e03e3107b\",\n",
      "                \"puzzle_hash\": \"0xaaf3a437c916cffd74edbf605cd3d550bc1a0969f9857a212d72ed40e193a084\"\n",
      "            },\n",
      "            \"puzzle_reveal\": \"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\",\n",
      "            \"solution\": \"0xffffa04238e577dc4aabb5f8aff3e8ff2695123e712ac7c3670b573e150e7e03e3107bffa082549a5c359964fe8cc7b313e6ec7adf2f9c4af8d217dcbd95910eae453c6036ff8203ff80ff8203ffff8080\"\n",
      "        }\n",
      "    ]\n",
      "}\n",
      "(a (q 2 (q 2 (i (logand 47 52) (q 4 (c 32 (c 47 ())) (c (a 62 (c 2 (c 5 (c (a 42 (c 2 (c 39 (c (a (i 119 (q 2 54 (c 2 (c 9 (c 87 (c (a 46 (c 2 (c 5 ()))) ()))))) (q . 29)) 1) (c (a (i 119 (q . -73) (q . 87)) 1) ()))))) (c 119 ()))))) (a 58 (c 2 (c 5 (c (a 11 95) (q ()))))))) (q 8)) 1) (c (q (((73 . 71) 2 . 51) (c . 1) 1 . 2) ((not 2 (i 5 (q 2 50 (c 2 (c 13 (c (sha256 60 (sha256 52 36) (sha256 60 (sha256 60 (sha256 52 44) 9) (sha256 60 11 (sha256 52 ())))) ())))) (q . 11)) 1) (a (i (all (= (strlen 5) 34) (= (strlen 11) 34) (> 23 (q . -1))) (q 11 5 11 23) (q 8)) 1) 2 (i 11 (q 2 (i (a 38 (c 2 (c 19 ()))) (q 2 (i (not 23) (q 2 (i (= -77 (q . -113)) (q 2 58 (c 2 (c 5 (c 27 (c 52 ()))))) (q 4 (c 35 (c (a 54 (c 2 (c 9 (c 83 (c (a 46 (c 2 (c 5 ()))) ()))))) 115)) (a 58 (c 2 (c 5 (c 27 (c 52 ()))))))) 1) (q 8)) 1) (q 4 19 (a 58 (c 2 (c 5 (c 27 (c 23 ()))))))) 1) (q 2 (i 23 () (q 8)) 1)) 1) ((a (i (= 9 56) (q 2 (i (logand 45 (q . 1)) (q 1 . 1) ()) 1) ()) 1) 11 60 (sha256 52 40) (sha256 60 (sha256 60 (sha256 52 44) 5) (sha256 60 (a 50 (c 2 (c 7 (c (sha256 52 52) ())))) (sha256 52 ())))) (a (i (l 5) (q 11 (q . 2) (a 46 (c 2 (c 9 ()))) (a 46 (c 2 (c 13 ())))) (q 11 (q . 1) 5)) 1) 2 (i (any 23 (= 11 21)) (q 4 48 (c 11 ())) (q 8)) 1) 1)) (c (q 0x7faa3253bfddd1e0decb0906b2dc6247bbc4cf608f58345d173adb63e8b47c9f 0x6a4ba7e394f8d346deafcda74b26bcad649ed0cb691d7172b14970c4cf47a570 . 0xeff07522495060c066f66f32acc2a77e3a3e737aca8baea4d1a64ea4cdc13da9) (c (q 2 (q 2 (q 2 (i (= 11 95) (q 2 23 ()) (q 2 12 (c 2 (c 5 (c 11 (c 23 (c 47 (c 95 ())))))))) 1) (c (q (51 4 (c 8 (c (a 30 (c 2 (c (a 10 (c 2 (c 5 (c (c 5 (c 11 (c 23 (c 47 (c (+ 95 (q . 1)) ()))))) ())))) ()))) (c 47 ()))) ()) (c (q . 2) (c (c (q . 1) 5) (c (a 22 (c 2 (c 11 (q 1)))) ()))) (a (i 5 (q 4 (q . 4) (c (c (q . 1) 9) (c (a 22 (c 2 (c 13 (c 11 ())))) ()))) (q . 11)) 1) 2 (i (l 5) (q 11 (q . 2) (a 30 (c 2 (c 9 ()))) (a 30 (c 2 (c 13 ())))) (q 11 (q . 1) 5)) 1) 1)) (c (q 2 (q 2 (i (= 11 95) (q 2 23 ()) (q 2 12 (c 2 (c 5 (c 11 (c 23 (c 47 (c 95 ())))))))) 1) (c (q (51 4 (c 8 (c (a 30 (c 2 (c (a 10 (c 2 (c 5 (c (c 5 (c 11 (c 23 (c 47 (c (+ 95 (q . 1)) ()))))) ())))) ()))) (c 47 ()))) ()) (c (q . 2) (c (c (q . 1) 5) (c (a 22 (c 2 (c 11 (q 1)))) ()))) (a (i 5 (q 4 (q . 4) (c (c (q . 1) 9) (c (a 22 (c 2 (c 13 (c 11 ())))) ()))) (q . 11)) 1) 2 (i (l 5) (q 11 (q . 2) (a 30 (c 2 (c 9 ()))) (a 30 (c 2 (c 13 ())))) (q 11 (q . 1) 5)) 1) 1)) (c (q . 3) (c (q 2 (q 2 (q 4 (c 2 (c 5 (q -113))) (c (a (i (logand 11 (q . 1)) (q 4 2 (c 5 (c (- 11 (q . 1)) ()))) (q 4 2 (c 5 (c 11 ())))) 1) ())) (c (q . 51) 1)) (c (q . 0x4f45877796d7a64e192bcc9f899afeedae391f71af3afd7e15a0792c049d23d3) (c (q . 1023) 1))) (c (q . 1023) (c (q . 3) 1)))))) 1)))\n",
      "((73 1023) (71 0xc82c581c59aae06554cb555f5cd406ec7987195174e8e6a7e9a95108b1058ca4) (51 0x4f45877796d7a64e192bcc9f899afeedae391f71af3afd7e15a0792c049d23d3 1022))\n"
     ]
    },
    {
     "data": {
      "text/plain": [
       "{'error': 'Err.ASSERT_MY_PARENT_ID_FAILED'}"
      ]
     },
     "execution_count": 13,
     "metadata": {},
     "output_type": "execute_result"
    }
   ],
   "source": [
    "# spend next singleton\n",
    "v = VALUE + 3\n",
    "network.sim.pass_blocks(1)\n",
    "singleton_struct = (\n",
    "        singleton_top_layer_v1_1.SINGLETON_MOD_HASH, \n",
    "        (launcher_id, singleton_top_layer_v1_1.SINGLETON_LAUNCHER_HASH)\n",
    "    )\n",
    "\n",
    "singleton_counter_puzzle = counter_puzzle.curry(counter_puzzle, MAX_VALUE, singleton_terminal_puzzle, AMOUNT, v)\n",
    "\n",
    "inner_puzzle = singleton_counter_puzzle\n",
    "singleton_puzzle: Program = singleton_top_layer_v1_1.puzzle_for_singleton(\n",
    "    launcher_id,\n",
    "    inner_puzzle\n",
    ")\n",
    "\n",
    "singleton_coin = await singleton_helpers_v1_1.get_unspent_singleton(\n",
    "    get_coin_records_by_parent_ids, \n",
    "    launcher_id)\n",
    "\n",
    "lineage_proof = singleton_top_layer_v1_1.lineage_proof_for_coinsol(singleton_coin_spend)\n",
    "\n",
    "inner_solution = Program.to([])\n",
    "\n",
    "singleton_coin_spend = singleton_helpers_v1_1.get_singleton_coin_spend(\n",
    "        singleton_coin, singleton_puzzle, lineage_proof, inner_solution\n",
    ")\n",
    "\n",
    "print(f'singleton_struct:\\n{singleton_struct}')\n",
    "print(f'singleton_coin:\\n{singleton_coin}')\n",
    "print(f'\\nlineage_proof:\\n{lineage_proof}')\n",
    "print(f'\\ninner_solution:\\n{inner_solution}')\n",
    "\n",
    "print('\\nsingleton_coin_spend:')\n",
    "singleton_helpers_v1_1.print_json(singleton_coin_spend.to_json_dict())\n",
    "from blspy import G2Element\n",
    "spend_bundle = SpendBundle(\n",
    "    [singleton_coin_spend],\n",
    "    G2Element()\n",
    ")\n",
    "singleton_helpers_v1_1.print_json(spend_bundle.to_json_dict())\n",
    "print_program(singleton_puzzle)\n",
    "await network.push_tx(spend_bundle)"
   ]
  },
  {
   "cell_type": "code",
   "execution_count": null,
   "id": "2f40f2d9-e419-4128-9ad1-05461346f779",
   "metadata": {},
   "outputs": [],
   "source": []
  }
 ],
 "metadata": {
  "kernelspec": {
   "display_name": "Python 3 (ipykernel)",
   "language": "python",
   "name": "python3"
  },
  "language_info": {
   "codemirror_mode": {
    "name": "ipython",
    "version": 3
   },
   "file_extension": ".py",
   "mimetype": "text/x-python",
   "name": "python",
   "nbconvert_exporter": "python",
   "pygments_lexer": "ipython3",
   "version": "3.8.10"
  }
 },
 "nbformat": 4,
 "nbformat_minor": 5
}
