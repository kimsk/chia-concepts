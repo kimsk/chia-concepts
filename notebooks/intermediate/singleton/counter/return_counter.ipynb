{
 "cells": [
  {
   "cell_type": "markdown",
   "id": "a3c377be-e9de-4f07-8b38-b7a05d21467b",
   "metadata": {},
   "source": [
    "- [counter.clsp](counter.clsp)\n",
    "- [return_terminal.clsp](return_terminal.clsp)"
   ]
  },
  {
   "cell_type": "code",
   "execution_count": 1,
   "id": "71c6b1da-2c18-489b-8b6a-71d907735f49",
   "metadata": {},
   "outputs": [
    {
     "name": "stdout",
     "output_type": "stream",
     "text": [
      "1.4.0\n",
      "cdv, version 1.0.8\n"
     ]
    }
   ],
   "source": [
    "%%bash\n",
    "chia version\n",
    "cdv --version"
   ]
  },
  {
   "cell_type": "code",
   "execution_count": 2,
   "id": "0644fd24-4ce1-4363-9ed7-891f594fbc98",
   "metadata": {},
   "outputs": [],
   "source": [
    "from pathlib import Path\n",
    "from chia.types.blockchain_format.program import Program\n",
    "from clvm.casts import int_to_bytes\n",
    "from clvm_tools.binutils import disassemble\n",
    "from clvm_tools.clvmc import compile_clvm_text\n",
    "\n",
    "def load_program(file_path, search_paths):\n",
    "    clsp = Path(file_path).read_text()\n",
    "    return Program(\n",
    "        compile_clvm_text(clsp, search_paths)\n",
    "    )\n",
    "\n",
    "def print_program(program):\n",
    "    print(disassemble(program))"
   ]
  },
  {
   "cell_type": "code",
   "execution_count": 3,
   "id": "96524e0d-4120-4e7a-bd3b-5cc167c39031",
   "metadata": {},
   "outputs": [
    {
     "name": "stdout",
     "output_type": "stream",
     "text": [
      "d5b0cadac424ef077dc8eacc449d0bb8544639cc39f5462a48a8d6b5750a4483\n",
      "e016e18ebf275a5e0dfba0ba7d76c6969a727ef903de57a37386afef944fbe79\n"
     ]
    }
   ],
   "source": [
    "counter_puzzle = load_program(\"counter.clsp\", \".\")\n",
    "return_terminal_puzzle =  load_program(\"return_terminal.clsp\", \".\")\n",
    "print(counter_puzzle.get_tree_hash())\n",
    "print(return_terminal_puzzle.get_tree_hash())"
   ]
  },
  {
   "cell_type": "code",
   "execution_count": 4,
   "id": "1e97c018-2769-4a35-b386-3a5064386b1b",
   "metadata": {},
   "outputs": [
    {
     "name": "stdout",
     "output_type": "stream",
     "text": [
      "62f0728637b44be23872a31a37a1a495b148d940168ca58ae4ba673fa3bb43f5\n",
      "67b42fce6208a772ed1bcb58d68719f12af8ab1ca411e4aede3df61413aa4b95\n"
     ]
    }
   ],
   "source": [
    "PUZZLE_HASH = 0x900ddeed\n",
    "AMOUNT = 42\n",
    "MAX_VALUE = 5\n",
    "VALUE = 0\n",
    "\n",
    "return_terminal_puzzle = return_terminal_puzzle.curry(PUZZLE_HASH, AMOUNT)\n",
    "return_counter_puzzle = counter_puzzle.curry(counter_puzzle, MAX_VALUE, return_terminal_puzzle, AMOUNT, VALUE)\n",
    "print(return_terminal_puzzle.get_tree_hash())\n",
    "print(return_counter_puzzle.get_tree_hash())"
   ]
  },
  {
   "cell_type": "code",
   "execution_count": 5,
   "id": "171e0013-a3ba-405c-bb53-a9288b8f8cc0",
   "metadata": {},
   "outputs": [
    {
     "name": "stdout",
     "output_type": "stream",
     "text": [
      "((51 0x00900ddeed 42))\n"
     ]
    }
   ],
   "source": [
    "print_program(return_terminal_puzzle.run(Program.to([])))"
   ]
  },
  {
   "cell_type": "code",
   "execution_count": 6,
   "id": "1ad4f1fe-5a06-4db9-95b6-952597f222a2",
   "metadata": {},
   "outputs": [
    {
     "name": "stdout",
     "output_type": "stream",
     "text": [
      "((51 0xc2296b8434ca1b71f323b9cd3a9499a99fbd5e0ba707f508874349640ad7f1b8 42))\n"
     ]
    },
    {
     "data": {
      "text/plain": [
       "<bytes32: c2296b8434ca1b71f323b9cd3a9499a99fbd5e0ba707f508874349640ad7f1b8>"
      ]
     },
     "execution_count": 6,
     "metadata": {},
     "output_type": "execute_result"
    }
   ],
   "source": [
    "result = return_counter_puzzle.run(Program.to([]))\n",
    "print_program(result)\n",
    "# verify hash\n",
    "counter_puzzle.curry(counter_puzzle, MAX_VALUE, return_terminal_puzzle, AMOUNT, VALUE + 1).get_tree_hash()"
   ]
  },
  {
   "cell_type": "code",
   "execution_count": 7,
   "id": "11ad653a-1397-4ac1-9a87-24ea89a715d0",
   "metadata": {},
   "outputs": [
    {
     "name": "stdout",
     "output_type": "stream",
     "text": [
      "((51 0xc2296b8434ca1b71f323b9cd3a9499a99fbd5e0ba707f508874349640ad7f1b8 42))\n",
      "((51 0x489aef77455dea2416888c6165382fbffe3e2f0350ac47f3cda1ff19f5052c25 42))\n",
      "((51 0xd6f926b0d324017872c075142d14cdf49f6f1e13f6228a4ccd6d11685aaa827f 42))\n",
      "((51 0x1d4a0eeb1a3a9151606c395f9a9a213662b44b462e2763f4a67f90771eed077a 42))\n",
      "((51 0x752e96f649ebb607b306ab133aac12145aceea20efcf9bae27c9ccb0c6c256fc 42))\n",
      "((51 0x00900ddeed 42))\n"
     ]
    }
   ],
   "source": [
    "# count from 0 to 5\n",
    "return_counter_puzzle = counter_puzzle.curry(counter_puzzle, MAX_VALUE, return_terminal_puzzle, AMOUNT, 0)\n",
    "result = return_counter_puzzle.run(Program.to([]))\n",
    "print_program(result)\n",
    "\n",
    "return_counter_puzzle = counter_puzzle.curry(counter_puzzle, MAX_VALUE, return_terminal_puzzle, AMOUNT, 1)\n",
    "result = return_counter_puzzle.run(Program.to([]))\n",
    "print_program(result)\n",
    "\n",
    "return_counter_puzzle = counter_puzzle.curry(counter_puzzle, MAX_VALUE, return_terminal_puzzle, AMOUNT, 2)\n",
    "result = return_counter_puzzle.run(Program.to([]))\n",
    "print_program(result)\n",
    "\n",
    "return_counter_puzzle = counter_puzzle.curry(counter_puzzle, MAX_VALUE, return_terminal_puzzle, AMOUNT, 3)\n",
    "result = return_counter_puzzle.run(Program.to([]))\n",
    "print_program(result)\n",
    "\n",
    "return_counter_puzzle = counter_puzzle.curry(counter_puzzle, MAX_VALUE, return_terminal_puzzle, AMOUNT, 4)\n",
    "result = return_counter_puzzle.run(Program.to([]))\n",
    "print_program(result)\n",
    "\n",
    "return_counter_puzzle = counter_puzzle.curry(counter_puzzle, MAX_VALUE, return_terminal_puzzle, AMOUNT, 5)\n",
    "result = return_counter_puzzle.run(Program.to([]))\n",
    "print_program(result)"
   ]
  }
 ],
 "metadata": {
  "kernelspec": {
   "display_name": "Python 3 (ipykernel)",
   "language": "python",
   "name": "python3"
  },
  "language_info": {
   "codemirror_mode": {
    "name": "ipython",
    "version": 3
   },
   "file_extension": ".py",
   "mimetype": "text/x-python",
   "name": "python",
   "nbconvert_exporter": "python",
   "pygments_lexer": "ipython3",
   "version": "3.8.10"
  }
 },
 "nbformat": 4,
 "nbformat_minor": 5
}
