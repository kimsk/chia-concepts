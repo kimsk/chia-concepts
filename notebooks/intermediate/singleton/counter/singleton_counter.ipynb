{
 "cells": [
  {
   "cell_type": "markdown",
   "id": "529b3de7-8283-4d44-bddc-f3c6f28b0d38",
   "metadata": {},
   "source": [
    "- [counter.clsp](counter.clsp)\n",
    "- [singleton_terminal.clsp](singleton_terminal.clsp)"
   ]
  },
  {
   "cell_type": "code",
   "execution_count": 1,
   "id": "1b5da00a-f10e-44dc-8808-55d0cba18218",
   "metadata": {},
   "outputs": [
    {
     "name": "stdout",
     "output_type": "stream",
     "text": [
      "1.4.0\n",
      "cdv, version 1.0.8\n"
     ]
    }
   ],
   "source": [
    "%%bash\n",
    "chia version\n",
    "cdv --version"
   ]
  },
  {
   "cell_type": "code",
   "execution_count": 2,
   "id": "504fdd68-5f88-46bb-8b9d-34e8ea13ff4f",
   "metadata": {},
   "outputs": [],
   "source": [
    "from pathlib import Path\n",
    "import sys\n",
    "sys.path.insert(0, \"..\")\n",
    "import singleton_helpers_v1_1\n",
    "\n",
    "from chia.types.blockchain_format.program import Program\n",
    "from clvm.casts import int_to_bytes\n",
    "from clvm_tools.binutils import disassemble\n",
    "from clvm_tools.clvmc import compile_clvm_text\n",
    "\n",
    "def load_program(file_path, search_paths):\n",
    "    clsp = Path(file_path).read_text()\n",
    "    return Program(\n",
    "        compile_clvm_text(clsp, search_paths)\n",
    "    )\n",
    "\n",
    "def print_program(program):\n",
    "    print(disassemble(program))"
   ]
  },
  {
   "cell_type": "code",
   "execution_count": 3,
   "id": "d15013b2-9819-4d91-b889-9ebf7b44da90",
   "metadata": {},
   "outputs": [
    {
     "name": "stdout",
     "output_type": "stream",
     "text": [
      "d5b0cadac424ef077dc8eacc449d0bb8544639cc39f5462a48a8d6b5750a4483\n",
      "efafe67593029270221b07866b7e4b8dec7226ebd6be177ed4c9051c9ce1cc96\n"
     ]
    }
   ],
   "source": [
    "counter_puzzle = load_program(\"counter.clsp\", \".\")\n",
    "singleton_terminal_puzzle =  load_program(\"singleton_terminal.clsp\", \".\")\n",
    "print(counter_puzzle.get_tree_hash())\n",
    "print(singleton_terminal_puzzle.get_tree_hash())"
   ]
  },
  {
   "cell_type": "code",
   "execution_count": 4,
   "id": "e0bac603-e1d0-48a0-aeda-507d3e641e68",
   "metadata": {},
   "outputs": [
    {
     "name": "stdout",
     "output_type": "stream",
     "text": [
      "acc905288a01de730d9f983754106aa3ff5037cc85f29ab4004c9008967c330e\n",
      "432920b8d8789e679765885dbede469d89b80844a17fd600135f4af57a6bd649\n"
     ]
    }
   ],
   "source": [
    "PUZZLE_HASH = 0x900ddeed\n",
    "AMOUNT = 1023\n",
    "MAX_VALUE = 5\n",
    "VALUE = 0\n",
    "\n",
    "singleton_terminal_puzzle = singleton_terminal_puzzle.curry(PUZZLE_HASH, AMOUNT)\n",
    "singleton_counter_puzzle = counter_puzzle.curry(counter_puzzle, MAX_VALUE, singleton_terminal_puzzle, AMOUNT, VALUE)\n",
    "print(singleton_terminal_puzzle.get_tree_hash())\n",
    "print(singleton_counter_puzzle.get_tree_hash())"
   ]
  },
  {
   "cell_type": "code",
   "execution_count": 5,
   "id": "60acc35e-94a3-4d8b-bebb-b445d8db52c8",
   "metadata": {},
   "outputs": [
    {
     "name": "stdout",
     "output_type": "stream",
     "text": [
      "((51 0x00900ddeed -113) (51 0x00900ddeed 1022))\n"
     ]
    }
   ],
   "source": [
    "print_program(singleton_terminal_puzzle.run(Program.to([])))"
   ]
  },
  {
   "cell_type": "code",
   "execution_count": 6,
   "id": "c318824b-e218-4d39-b6cf-2ae52892e1d9",
   "metadata": {},
   "outputs": [
    {
     "name": "stdout",
     "output_type": "stream",
     "text": [
      "((51 0x5785976b35f05ca2d3829acca9970a9d880fbf20bf081bac6f9e9a25124954c0 1023))\n"
     ]
    },
    {
     "data": {
      "text/plain": [
       "<bytes32: 5785976b35f05ca2d3829acca9970a9d880fbf20bf081bac6f9e9a25124954c0>"
      ]
     },
     "execution_count": 6,
     "metadata": {},
     "output_type": "execute_result"
    }
   ],
   "source": [
    "result = singleton_counter_puzzle.run(Program.to([]))\n",
    "print_program(result)\n",
    "# verify hash\n",
    "counter_puzzle.curry(counter_puzzle, MAX_VALUE, singleton_terminal_puzzle, AMOUNT, VALUE + 1).get_tree_hash()"
   ]
  },
  {
   "cell_type": "code",
   "execution_count": 7,
   "id": "181562d6-64a2-42ed-b936-f362441bff2d",
   "metadata": {},
   "outputs": [
    {
     "name": "stdout",
     "output_type": "stream",
     "text": [
      "((51 0x5785976b35f05ca2d3829acca9970a9d880fbf20bf081bac6f9e9a25124954c0 1023))\n",
      "((51 0x497ba06e930ab67c0e0423aebc69270512594d76a3e0d125c3476477d362a605 1023))\n",
      "((51 0x4af8ff3ada1dff618c6bf03a8dabe8713af7e376bc20ae64e26c2826f152b230 1023))\n",
      "((51 0x59fcf17f02d91391297e073c59cd32a98180b82a6e1cbb2a4619c19130b8f6ef 1023))\n",
      "((51 0x3ed1de869029967f425237775b8a29ecc6f3e2cabc00924cd10a9a629b534e1c 1023))\n",
      "((51 0x00900ddeed -113) (51 0x00900ddeed 1022))\n"
     ]
    }
   ],
   "source": [
    "# count from 0 to 5\n",
    "singleton_counter_puzzle = counter_puzzle.curry(counter_puzzle, MAX_VALUE, singleton_terminal_puzzle, AMOUNT, 0)\n",
    "result = singleton_counter_puzzle.run(Program.to([]))\n",
    "print_program(result)\n",
    "\n",
    "singleton_counter_puzzle = counter_puzzle.curry(counter_puzzle, MAX_VALUE, singleton_terminal_puzzle, AMOUNT, 1)\n",
    "result = singleton_counter_puzzle.run(Program.to([]))\n",
    "print_program(result)\n",
    "\n",
    "singleton_counter_puzzle = counter_puzzle.curry(counter_puzzle, MAX_VALUE, singleton_terminal_puzzle, AMOUNT, 2)\n",
    "result = singleton_counter_puzzle.run(Program.to([]))\n",
    "print_program(result)\n",
    "\n",
    "singleton_counter_puzzle = counter_puzzle.curry(counter_puzzle, MAX_VALUE, singleton_terminal_puzzle, AMOUNT, 3)\n",
    "result = singleton_counter_puzzle.run(Program.to([]))\n",
    "print_program(result)\n",
    "\n",
    "singleton_counter_puzzle = counter_puzzle.curry(counter_puzzle, MAX_VALUE, singleton_terminal_puzzle, AMOUNT, 4)\n",
    "result = singleton_counter_puzzle.run(Program.to([]))\n",
    "print_program(result)\n",
    "\n",
    "singleton_counter_puzzle = counter_puzzle.curry(counter_puzzle, MAX_VALUE, singleton_terminal_puzzle, AMOUNT, 5)\n",
    "result = singleton_counter_puzzle.run(Program.to([]))\n",
    "print_program(result)"
   ]
  }
 ],
 "metadata": {
  "kernelspec": {
   "display_name": "Python 3 (ipykernel)",
   "language": "python",
   "name": "python3"
  },
  "language_info": {
   "codemirror_mode": {
    "name": "ipython",
    "version": 3
   },
   "file_extension": ".py",
   "mimetype": "text/x-python",
   "name": "python",
   "nbconvert_exporter": "python",
   "pygments_lexer": "ipython3",
   "version": "3.8.10"
  }
 },
 "nbformat": 4,
 "nbformat_minor": 5
}
