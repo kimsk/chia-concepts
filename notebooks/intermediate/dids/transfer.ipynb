{
 "cells": [
  {
   "cell_type": "markdown",
   "id": "ba5c997b-2e9f-4b0f-8fef-6054a4b56f50",
   "metadata": {},
   "source": [
    "## Transfer DID\n",
    "\n",
    "```sh\n",
    "❯ $did_transfer_did_payload = @{ wallet_id = 2; inner_address = $bob_addr } | ConvertTo-Json\n",
    "\n",
    "~\n",
    "❯ $did_transfer_did_payload\n",
    "{\n",
    "  \"wallet_id\": 2,\n",
    "  \"inner_address\": \"txch1xquze68sl2lkdeahve3zew44xhhtdk6uqms5nnpm5mx04am4k0wsa363eq\"\n",
    "}\n",
    "\n",
    "~\n",
    "❯ chia rpc wallet did_transfer_did $did_transfer_did_payload\n",
    "{\n",
    "    \"success\": true,\n",
    "    \"transaction\": {\n",
    "        \"additions\": [\n",
    "            {\n",
    "                \"amount\": 1,\n",
    "                \"parent_coin_info\": \"0x7f0a599ceef15c6b8763cbd570bed25f8086b1362f33b61853c68c8b759a11ea\",\n",
    "                \"puzzle_hash\": \"0x43e78655c18f33e50487171799478cb95aff570b6ae2850a5022dc5da5c745b8\"\n",
    "            }\n",
    "        ],\n",
    "        \"amount\": 1,\n",
    "        \"confirmed\": false,\n",
    "        \"confirmed_at_height\": 0,\n",
    "        \"created_at_time\": 1668089047,\n",
    "        \"fee_amount\": 0,\n",
    "        \"memos\": {\n",
    "            \"6585a941c6e4ec29c67a6021b65b363f326cb51e0027bd53f5542e65f916a6b9\": \"30382ce8f0fabf66e7b766622cbab535eeb6db5c06e149cc3ba6ccfaf775b3dd\"\n",
    "        },\n",
    "        \"name\": \"0xb352a65d606bad936855f357114c9036d79832303589394a24cd11148329d78f\",\n",
    "        \"removals\": [\n",
    "            {\n",
    "                \"amount\": 1,\n",
    "                \"parent_coin_info\": \"0x8ef7c734bcc2789cc13d7766423733308a92f5a649476829694d646a34d13776\",\n",
    "                \"puzzle_hash\": \"0x378a6be25d8afa17e119da04a7327c80112396999b7d545fd32cc0cc8e36f64f\"\n",
    "            }\n",
    "        ],\n",
    "        \"sent\": 0,\n",
    "        \"sent_to\": [],\n",
    "        \"spend_bundle\": {\n",
    "            \"aggregated_signature\": \"0xa65cb284a31f4f4b758f7b02e7baf46f24482c2505217055eef97af4fabb6436c946af11f3e948b8b4d911ae312296360ef5297561e53665dc6b671dd3113dac40eaffe50e83e18f9f4cdcaad8773620226c4b6941266694783b20ce41188751\",\n",
    "            \"coin_spends\": [\n",
    "                {\n",
    "                    \"coin\": {\n",
    "                        \"amount\": 1,\n",
    "                        \"parent_coin_info\": \"0x8ef7c734bcc2789cc13d7766423733308a92f5a649476829694d646a34d13776\",\n",
    "                        \"puzzle_hash\": \"0x378a6be25d8afa17e119da04a7327c80112396999b7d545fd32cc0cc8e36f64f\"\n",
    "                    },\n",
    "                    \"puzzle_reveal\": \"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\",\n",
    "                    \"solution\": \"0xffffa03ea1c0ec5d2be2c8b6d9b70218f8169d33735775d5edbc651316164cab6983c0ffa03b28694e28afea944de7a5af588685ad7a30887f97cdebf719fc8b368dae85c6ff0180ff01ffff02ffff80ffff01ffff33ffa024cdcfeff5b67b8778cc27821d3d44d33e6c764644c25a039022ce6b65b980b6ff01ffffa030382ce8f0fabf66e7b766622cbab535eeb6db5c06e149cc3ba6ccfaf775b3dd8080ffff3cffa07f0a599ceef15c6b8763cbd570bed25f8086b1362f33b61853c68c8b759a11ea8080ff8080ff80ff80ff80ff808080\"\n",
    "                }\n",
    "            ]\n",
    "        },\n",
    "        \"to_address\": \"txch1rdueaunf6jaqunz6y0hn332dz78f49exem5hzcf3nd32d7jajads9zce69\",\n",
    "        \"to_puzzle_hash\": \"0x1b799ef269d4ba0e4c5a23ef38c54d178e9a9726cee97161319b62a6fa5d975b\",\n",
    "        \"trade_id\": null,\n",
    "        \"type\": 1,\n",
    "        \"wallet_id\": 2\n",
    "    },\n",
    "    \"transaction_id\": \"0xb352a65d606bad936855f357114c9036d79832303589394a24cd11148329d78f\"\n",
    "}\n",
    "```"
   ]
  },
  {
   "cell_type": "markdown",
   "id": "3e7db1df-b522-4a80-b595-05d4c52dede0",
   "metadata": {},
   "source": [
    "```sh\n",
    "❯ chia wallet show -f $bob_fp\n",
    "Wallet height: 9\n",
    "Sync status: Synced\n",
    "Balances, fingerprint: 4174968354\n",
    "\n",
    "Chia Wallet:\n",
    "   -Total Balance:         2.0 txch (2000000000000 mojo)\n",
    "   -Pending Total Balance: 2.0 txch (2000000000000 mojo)\n",
    "   -Spendable:             2.0 txch (2000000000000 mojo)\n",
    "   -Type:                  STANDARD_WALLET\n",
    "   -Wallet ID:             1\n",
    "\n",
    "DID did:chia:10hq8mukapz8lml97tgnnsfdv24t9u5mw6pnqfh64kwh6vljykyrsc4m38t:\n",
    "   -Total Balance:         1.0\n",
    "   -Pending Total Balance: 1.0\n",
    "   -Spendable:             1.0\n",
    "   -Type:                  DECENTRALIZED_ID\n",
    "   -DID ID:                did:chia:10hq8mukapz8lml97tgnnsfdv24t9u5mw6pnqfh64kwh6vljykyrsc4m38t\n",
    "   -Wallet ID:             2\n",
    "```"
   ]
  },
  {
   "cell_type": "code",
   "execution_count": 1,
   "id": "ae2b089a-66cd-4571-851e-8f35bd456f81",
   "metadata": {},
   "outputs": [
    {
     "name": "stdout",
     "output_type": "stream",
     "text": [
      "7dc07df2dd088ffdfcbe5a273825ac55565e536ed06604df55b3afa67e44b107\n"
     ]
    }
   ],
   "source": [
    "# did is the encoded launcher_id\n",
    "did = \"did:chia:10hq8mukapz8lml97tgnnsfdv24t9u5mw6pnqfh64kwh6vljykyrsc4m38t\"\n",
    "launcher_id = decode_puzzle_hash(did)\n",
    "print(launcher_id)"
   ]
  },
  {
   "cell_type": "code",
   "execution_count": 2,
   "id": "c8bd483d-ca93-4128-b786-e1c19bae82a6",
   "metadata": {},
   "outputs": [
    {
     "name": "stdout",
     "output_type": "stream",
     "text": [
      "Current DID Coin Record:\n",
      "{'coin': {'amount': 1,\n",
      "          'parent_coin_info': '0x7f0a599ceef15c6b8763cbd570bed25f8086b1362f33b61853c68c8b759a11ea',\n",
      "          'puzzle_hash': '0x43e78655c18f33e50487171799478cb95aff570b6ae2850a5022dc5da5c745b8'},\n",
      " 'coinbase': False,\n",
      " 'confirmed_block_index': 9,\n",
      " 'spent_block_index': 0,\n",
      " 'timestamp': 1668089146}\n"
     ]
    }
   ],
   "source": [
    "full_node_client = await get_full_node_client()\n",
    "\n",
    "get_coin_records_by_parent_ids = full_node_client.get_coin_records_by_parent_ids\n",
    "\n",
    "current_did_singleton_cr = await singleton_utils.get_last_singleton_coin_record(get_coin_records_by_parent_ids, launcher_id)\n",
    "print(\"Current DID Coin Record:\")\n",
    "print(current_did_singleton_cr)\n",
    "\n",
    "parent_coin_info = current_did_singleton_cr.coin.parent_coin_info\n",
    "spent_height = current_did_singleton_cr.confirmed_block_index\n",
    "\n",
    "puzzle_solution = await full_node_client.get_puzzle_and_solution(parent_coin_info, spent_height)\n",
    "puzzle = puzzle_solution.puzzle_reveal.to_program()\n",
    "\n",
    "\n",
    "await close_rpc_client(full_node_client)"
   ]
  },
  {
   "cell_type": "code",
   "execution_count": 4,
   "id": "8a358711-36d7-4d73-b1ba-38ad92545fb1",
   "metadata": {},
   "outputs": [
    {
     "name": "stdout",
     "output_type": "stream",
     "text": [
      "DID Inner Puzzle:\n",
      "(a (q 2 (q 2 (i -65 (q 2 5 383) (q 2 (i (all (= (a 126 (c 2 (c 6143 ()))) 11) (> 23 ())) (q 4 (c 40 (c 383 ())) (c (c 52 (c 767 (c 383 (c (c 767 ()) ())))) (c (c 56 (c 12287 ())) (a 38 (c 2 (c 47 (c 23 (c 6143 (c 12287 (c 767 (c 1535 (c 3071 (q ()))))))))))))) (q 8)) 1)) 1) (c (q (((49 . 61) 73 . 70) (a . 51) 60 . 4) ((q . 1) 2 2 (i 5 (q 2 58 (c 2 (c 13 (c (sha256 42 (sha256 34 60) (sha256 42 (sha256 42 (sha256 34 50) 9) (sha256 42 11 (sha256 34 ())))) ())))) (q . 11)) 1) ((a (i 23 (q 2 (i 319 (q 4 (c 48 (c (sha256 (sha256 (a 54 (c 2 (c 5 (c 39 (c 575 (c 1343 (c 2879 ()))))))) (a 126 (c 2 (c (a 46 (c 2 (c 47 (c 95 (c 383 ()))))) ())))) 47) ())) (a 38 (c 2 (c 5 (c 11 (c 55 (c 47 (c 95 (c 447 (c 383 (c (+ 767 (q . 1)) ()))))))))))) (q 2 38 (c 2 (c 5 (c 55 (c 47 (c 95 (c 447 (c 383 (c 767 ())))))))))) 1) (q 2 (i (> 767 (- 11 (q . 1))) (q 4 (c 32 (c 383 (c 95 ()))) ()) (q 8)) 1)) 1) 11 23 (a 94 (c 2 (c 9 (c 47 (c (a 126 (c 2 (c (c 9 (c 11 29)) ()))) ()))))) 95) (c (q . 1) (c (c 44 (c 5 ())) (c (c 32 (c 23 (c 11 ()))) ()))) (sha256 42 (sha256 34 36) (sha256 42 (sha256 42 (sha256 34 50) 5) (sha256 42 (a 58 (c 2 (c 7 (c (sha256 34 34) ())))) (sha256 34 ())))) 2 (i (l 5) (q 11 (q . 2) (a 126 (c 2 (c 9 ()))) (a 126 (c 2 (c 13 ())))) (q 11 (q . 1) 5)) 1) 1)) (c (q 2 (q 2 (q 2 (i 11 (q 2 (i (= 5 (point_add 11 (pubkey_for_exp (sha256 11 (a 6 (c 2 (c 23 ()))))))) (q 2 23 47) (q 8)) 1) (q 4 (c 4 (c 5 (c (a 6 (c 2 (c 23 ()))) ()))) (a 23 47))) 1) (c (q 50 2 (i (l 5) (q 11 (q . 2) (a 6 (c 2 (c 9 ()))) (a 6 (c 2 (c 13 ())))) (q 11 (q . 1) 5)) 1) 1)) (c (q . 0xb7bef5a25e9a23ceeb0b2941341635c18b7743cfae85e31681e33019ef74151f9ae877d31c5cd44ac94b366b39045a12) 1)) (c (q . 0x4bf5122f344554c53bde2ebb8cd2b7e3d1600ad631c385a5d7cce23c7785459a) (c (q) (c (q 0x7faa3253bfddd1e0decb0906b2dc6247bbc4cf608f58345d173adb63e8b47c9f 0x7dc07df2dd088ffdfcbe5a273825ac55565e536ed06604df55b3afa67e44b107 . 0xeff07522495060c066f66f32acc2a77e3a3e737aca8baea4d1a64ea4cdc13da9) (c (q (\"foo\" . \"bar\") (\"something\" . 5)) 1))))))\n",
      "\n",
      "Synthetic PK:\n",
      "b7bef5a25e9a23ceeb0b2941341635c18b7743cfae85e31681e33019ef74151f9ae877d31c5cd44ac94b366b39045a12\n"
     ]
    }
   ],
   "source": [
    "curried_singleton_args = puzzle.uncurry()[1]\n",
    "\n",
    "print(\"DID Inner Puzzle:\")\n",
    "did_inner_puzzle = curried_singleton_args.rest().first()\n",
    "print_program(did_inner_puzzle)\n",
    "\n",
    "print(\"\\nSynthetic PK:\")\n",
    "curried_did_inner_args = did_inner_puzzle.uncurry()[1]\n",
    "synthetic_pk = G1Element.from_bytes(hexstr_to_bytes(disassemble(curried_did_inner_args.at(\"frrfrfr\"))))\n",
    "print(synthetic_pk)"
   ]
  },
  {
   "cell_type": "markdown",
   "id": "6125e508-be5b-453a-8bc0-0a1d4cb808a9",
   "metadata": {},
   "source": [
    "## Have to spend DID again to get correct PK\n",
    "\n",
    "```sh\n",
    "❯ chia rpc wallet did_update_metadata '{\"wallet_id\": 2, \"metadata\": {\"foo\": \"bob\", \"something\": 5}}'\n",
    "{\n",
    "    \"spend_bundle\": {\n",
    "        \"aggregated_signature\": \"0xb1d8142028a5f06ffaa68e32d8308c51b8436567dfc9fe5fd0c2ce86b2a6e48ba9598a631eae04a66c155bf4d72f3e0310675b9b3241d7fa88cdb362760a7528261985b792f2b759cea0ba795b031195643f10d0e88d531c633ab2bd381facc8\",\n",
    "        \"coin_solutions\": [\n",
    "            {\n",
    "                \"coin\": {\n",
    "                    \"amount\": 1,\n",
    "                    \"parent_coin_info\": \"0x7f0a599ceef15c6b8763cbd570bed25f8086b1362f33b61853c68c8b759a11ea\",\n",
    "                    \"puzzle_hash\": \"0x43e78655c18f33e50487171799478cb95aff570b6ae2850a5022dc5da5c745b8\"\n",
    "                },\n",
    "                \"puzzle_reveal\": \"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\",\n",
    "                \"solution\": \"0xffffa08ef7c734bcc2789cc13d7766423733308a92f5a649476829694d646a34d13776ffa002d24f8cd40ef4fc144100831cb52757c0a2b009b23e3b00d64c26cff028f5a6ff0180ff01ffff01ffff80ffff01ffff33ffa09e715612eb954904b02ce9167d6d9599a1fee2020d884a82bd09cafbd5d24595ff01ffffa09e715612eb954904b02ce9167d6d9599a1fee2020d884a82bd09cafbd5d245958080ffff3cffa06585a941c6e4ec29c67a6021b65b363f326cb51e0027bd53f5542e65f916a6b98080ff80808080\"\n",
    "            }\n",
    "        ]\n",
    "    },\n",
    "    \"success\": true,\n",
    "    \"wallet_id\": 2\n",
    "}\n",
    "```"
   ]
  },
  {
   "cell_type": "code",
   "execution_count": 21,
   "id": "f6b6dd79-c8b6-4e71-a068-e1c7cc185c19",
   "metadata": {},
   "outputs": [
    {
     "name": "stdout",
     "output_type": "stream",
     "text": [
      "Current DID Coin Record:\n",
      "{'coin': {'amount': 1,\n",
      "          'parent_coin_info': '0x6585a941c6e4ec29c67a6021b65b363f326cb51e0027bd53f5542e65f916a6b9',\n",
      "          'puzzle_hash': '0x7012affe58785c05dd36650c284f8f33604c38a70b8a59e17eaa3d461ef1d3e8'},\n",
      " 'coinbase': False,\n",
      " 'confirmed_block_index': 10,\n",
      " 'spent_block_index': 0,\n",
      " 'timestamp': 1668089944}\n",
      "DID Inner Puzzle:\n",
      "(a (q 2 (q 2 (i -65 (q 2 5 383) (q 2 (i (all (= (a 126 (c 2 (c 6143 ()))) 11) (> 23 ())) (q 4 (c 40 (c 383 ())) (c (c 52 (c 767 (c 383 (c (c 767 ()) ())))) (c (c 56 (c 12287 ())) (a 38 (c 2 (c 47 (c 23 (c 6143 (c 12287 (c 767 (c 1535 (c 3071 (q ()))))))))))))) (q 8)) 1)) 1) (c (q (((49 . 61) 73 . 70) (a . 51) 60 . 4) ((q . 1) 2 2 (i 5 (q 2 58 (c 2 (c 13 (c (sha256 42 (sha256 34 60) (sha256 42 (sha256 42 (sha256 34 50) 9) (sha256 42 11 (sha256 34 ())))) ())))) (q . 11)) 1) ((a (i 23 (q 2 (i 319 (q 4 (c 48 (c (sha256 (sha256 (a 54 (c 2 (c 5 (c 39 (c 575 (c 1343 (c 2879 ()))))))) (a 126 (c 2 (c (a 46 (c 2 (c 47 (c 95 (c 383 ()))))) ())))) 47) ())) (a 38 (c 2 (c 5 (c 11 (c 55 (c 47 (c 95 (c 447 (c 383 (c (+ 767 (q . 1)) ()))))))))))) (q 2 38 (c 2 (c 5 (c 55 (c 47 (c 95 (c 447 (c 383 (c 767 ())))))))))) 1) (q 2 (i (> 767 (- 11 (q . 1))) (q 4 (c 32 (c 383 (c 95 ()))) ()) (q 8)) 1)) 1) 11 23 (a 94 (c 2 (c 9 (c 47 (c (a 126 (c 2 (c (c 9 (c 11 29)) ()))) ()))))) 95) (c (q . 1) (c (c 44 (c 5 ())) (c (c 32 (c 23 (c 11 ()))) ()))) (sha256 42 (sha256 34 36) (sha256 42 (sha256 42 (sha256 34 50) 5) (sha256 42 (a 58 (c 2 (c 7 (c (sha256 34 34) ())))) (sha256 34 ())))) 2 (i (l 5) (q 11 (q . 2) (a 126 (c 2 (c 9 ()))) (a 126 (c 2 (c 13 ())))) (q 11 (q . 1) 5)) 1) 1)) (c (q 2 (q 2 (q 2 (i 11 (q 2 (i (= 5 (point_add 11 (pubkey_for_exp (sha256 11 (a 6 (c 2 (c 23 ()))))))) (q 2 23 47) (q 8)) 1) (q 4 (c 4 (c 5 (c (a 6 (c 2 (c 23 ()))) ()))) (a 23 47))) 1) (c (q 50 2 (i (l 5) (q 11 (q . 2) (a 6 (c 2 (c 9 ()))) (a 6 (c 2 (c 13 ())))) (q 11 (q . 1) 5)) 1) 1)) (c (q . 0xa90b1fe6bfb793e429b2ec90d2b39a833dd83be5f43903416c073da91a0737517de279ce45471a13e1ce99c4f84950c5) 1)) (c (q . 0x4bf5122f344554c53bde2ebb8cd2b7e3d1600ad631c385a5d7cce23c7785459a) (c (q) (c (q 0x7faa3253bfddd1e0decb0906b2dc6247bbc4cf608f58345d173adb63e8b47c9f 0x7dc07df2dd088ffdfcbe5a273825ac55565e536ed06604df55b3afa67e44b107 . 0xeff07522495060c066f66f32acc2a77e3a3e737aca8baea4d1a64ea4cdc13da9) (c (q (\"foo\" . \"bar\") (\"something\" . 5)) 1))))))\n",
      "\n",
      "Synthetic PK:\n",
      "a90b1fe6bfb793e429b2ec90d2b39a833dd83be5f43903416c073da91a0737517de279ce45471a13e1ce99c4f84950c5\n"
     ]
    }
   ],
   "source": [
    "full_node_client = await get_full_node_client()\n",
    "\n",
    "get_coin_records_by_parent_ids = full_node_client.get_coin_records_by_parent_ids\n",
    "\n",
    "current_did_singleton_cr = await singleton_utils.get_last_singleton_coin_record(get_coin_records_by_parent_ids, launcher_id)\n",
    "print(\"Current DID Coin Record:\")\n",
    "print(current_did_singleton_cr)\n",
    "\n",
    "parent_coin_info = current_did_singleton_cr.coin.parent_coin_info\n",
    "spent_height = current_did_singleton_cr.confirmed_block_index\n",
    "\n",
    "puzzle_solution = await full_node_client.get_puzzle_and_solution(parent_coin_info, spent_height)\n",
    "puzzle = puzzle_solution.puzzle_reveal.to_program()\n",
    "\n",
    "\n",
    "await close_rpc_client(full_node_client)\n",
    "\n",
    "curried_singleton_args = puzzle.uncurry()[1]\n",
    "\n",
    "print(\"DID Inner Puzzle:\")\n",
    "did_inner_puzzle = curried_singleton_args.rest().first()\n",
    "print_program(did_inner_puzzle)\n",
    "\n",
    "print(\"\\nSynthetic PK:\")\n",
    "curried_did_inner_args = did_inner_puzzle.uncurry()[1]\n",
    "synthetic_pk = G1Element.from_bytes(hexstr_to_bytes(disassemble(curried_did_inner_args.at(\"frrfrfr\"))))\n",
    "print(synthetic_pk)"
   ]
  },
  {
   "cell_type": "code",
   "execution_count": 25,
   "id": "98df3ec5-78ec-4be0-a1ea-674c28107eff",
   "metadata": {},
   "outputs": [
    {
     "name": "stdout",
     "output_type": "stream",
     "text": [
      "message:\n",
      "This is Bob's DID now.\n",
      "\n",
      "synthetic pk:\n",
      "a90b1fe6bfb793e429b2ec90d2b39a833dd83be5f43903416c073da91a0737517de279ce45471a13e1ce99c4f84950c5\n",
      "\n",
      "synthetic sk:\n",
      "4f5e18ea3d09f76a788139c13584384a997f02a53ac43b990da76f4bfb9912d5\n",
      "\n",
      "signature:\n",
      "a309a0cf7653ada3257456bcd2815dbbaa5daf8003ba5aafb52534598ef1989a8c6f8de12eef2cf553992a431e2eb78e18056a139b74165842c55c29eeb7099c91cad0a2f822e1d88fd3a83164343b98edf58317d1d2f90342ade5eaec87445f\n",
      "5468697320697320426f62277320444944206e6f772e\n"
     ]
    }
   ],
   "source": [
    "bob_fp = 4174968354\n",
    "wallet_client = await get_synced_wallet_client(bob_fp)\n",
    "\n",
    "message = \"This is Bob's DID now.\"\n",
    "print(f\"message:\\n{message}\")\n",
    "message_bytes = bytes(message, \"utf-8\")\n",
    "\n",
    "synthetic_sk = await wallet_utils.synthetic_pk_to_sk(wallet_client, bob_fp, synthetic_pk, 10)\n",
    "await close_rpc_client(wallet_client)\n",
    "\n",
    "print(f\"\\nsynthetic pk:\\n{bytes(synthetic_pk).hex()}\")\n",
    "print(f\"\\nsynthetic sk:\\n{bytes(synthetic_sk).hex()}\")\n",
    "\n",
    "signature = AugSchemeMPL.sign(synthetic_sk, message_bytes)\n",
    "print(f\"\\nsignature:\\n{signature}\")\n",
    "print(message_bytes.hex())\n",
    "\n",
    "assert AugSchemeMPL.verify(\n",
    "    synthetic_pk,\n",
    "    message_bytes,\n",
    "    signature\n",
    ")"
   ]
  },
  {
   "cell_type": "code",
   "execution_count": null,
   "id": "2d0383ae-4202-4aea-90b4-2153165f1b00",
   "metadata": {},
   "outputs": [],
   "source": []
  }
 ],
 "metadata": {
  "kernelspec": {
   "display_name": "Python 3 (ipykernel)",
   "language": "python",
   "name": "python3"
  },
  "language_info": {
   "codemirror_mode": {
    "name": "ipython",
    "version": 3
   },
   "file_extension": ".py",
   "mimetype": "text/x-python",
   "name": "python",
   "nbconvert_exporter": "python",
   "pygments_lexer": "ipython3",
   "version": "3.10.8"
  }
 },
 "nbformat": 4,
 "nbformat_minor": 5
}
