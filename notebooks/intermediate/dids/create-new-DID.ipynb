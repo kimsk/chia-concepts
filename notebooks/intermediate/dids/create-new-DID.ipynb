{
 "cells": [
  {
   "cell_type": "code",
   "execution_count": 1,
   "id": "34bfb263-5489-4423-8a33-a4b508a409bf",
   "metadata": {},
   "outputs": [
    {
     "name": "stdout",
     "output_type": "stream",
     "text": [
      "1.6.1rc6.dev101\n",
      "cdv, version 1.1.2\n",
      "Python 3.10.8\n"
     ]
    }
   ],
   "source": [
    "%%bash\n",
    "chia version\n",
    "cdv --version\n",
    "python --version"
   ]
  },
  {
   "cell_type": "markdown",
   "id": "6ac49eb4-70ec-46e1-915f-c993ccd31cb0",
   "metadata": {},
   "source": [
    "## DID puzzle\n",
    "- [DIDs](https://chialisp.com/dids/)\n",
    "> DIDs are a decentralized way to represent an identity, be that an organization or a person. It is possible to recover a DID even if the key is lost, by having multiple parties send messages approving the inner puzzle change. More functionality will be added to the DID standard in the future, allowing for easier identification and recovery methods.\n",
    "\n",
    "- [chia-blockchain/chia/wallet/puzzles/did_innerpuz.clvm](https://github.com/Chia-Network/chia-blockchain/blob/main/chia/wallet/puzzles/did_innerpuz.clvm)\n",
    "> ; The DID innerpuzzle is designed to sit inside the singleton layer and provide functionality related to being an identity.\n",
    "; At the moment the two pieces of functionality are recovery and message creation.\n",
    "; A DID's ID is it's Singleton ID\n",
    "; Recovery is based around having a list of known other DIDs which can send messages approving you change the innerpuzzle of your DID singleton\n"
   ]
  },
  {
   "cell_type": "code",
   "execution_count": 2,
   "id": "7d5610bf-1421-4de8-9bd3-ea8f5b425bb8",
   "metadata": {},
   "outputs": [
    {
     "name": "stdout",
     "output_type": "stream",
     "text": [
      "Wallet public key 0 (m/12381/8444/2/0): b87af552cf4b079371b7c38f69f15f11f96e913c5a6c7ef09eb82cc0693e86a90e5c98fff952d2b4066be3d9292a8a84\n",
      "Wallet private key 0 (m/12381/8444/2/0): 31d87cd97f07d1b44064254617adc76a54d4fc176a557e7d8760b0a1c7f050f9\n",
      "Wallet address 0 (m/12381/8444/2/0): txch1s705m30vt5cvdd4wex59x8fwcgym6cvd49n6ffrzmm8vlyvycansfvjfp9\n"
     ]
    }
   ],
   "source": [
    "%%bash\n",
    "chia keys derive -f 3855208971 child-key -t wallet -i 0 --show-hd-path -s\n",
    "chia keys derive -f 3855208971 wallet-address -i 0 --show-hd-path"
   ]
  },
  {
   "cell_type": "code",
   "execution_count": 3,
   "id": "98ad0fb4-f3f7-4fd3-9f29-99c91bd1cbce",
   "metadata": {},
   "outputs": [
    {
     "name": "stdout",
     "output_type": "stream",
     "text": [
      "Alice:\n",
      "\tfingerprint:\t3855208971\n",
      "\taddress:\ttxch1s705m30vt5cvdd4wex59x8fwcgym6cvd49n6ffrzmm8vlyvycansfvjfp9\n",
      "\tsk:\t\t31d87cd97f07d1b44064254617adc76a54d4fc176a557e7d8760b0a1c7f050f9\n",
      "\tpk:\t\tb87af552cf4b079371b7c38f69f15f11f96e913c5a6c7ef09eb82cc0693e86a90e5c98fff952d2b4066be3d9292a8a84\n"
     ]
    }
   ],
   "source": [
    "alice_fp = 3855208971\n",
    "alice_addr = \"txch1s705m30vt5cvdd4wex59x8fwcgym6cvd49n6ffrzmm8vlyvycansfvjfp9\"\n",
    "alice_ph = decode_puzzle_hash(alice_addr)\n",
    "alice_sk = PrivateKey.from_bytes(bytes.fromhex(\"31d87cd97f07d1b44064254617adc76a54d4fc176a557e7d8760b0a1c7f050f9\"))\n",
    "alice_pk = alice_sk.get_g1()\n",
    "\n",
    "print(\"Alice:\")\n",
    "print(f\"\\tfingerprint:\\t{alice_fp}\")\n",
    "print(f\"\\taddress:\\t{alice_addr}\")\n",
    "print(f\"\\tsk:\\t\\t{bytes(alice_sk).hex()}\")\n",
    "print(f\"\\tpk:\\t\\t{alice_pk}\")"
   ]
  },
  {
   "cell_type": "code",
   "execution_count": 4,
   "id": "bb1f94f1-8bda-4d13-8750-e8dd58cc0196",
   "metadata": {},
   "outputs": [
    {
     "name": "stdout",
     "output_type": "stream",
     "text": [
      "Wallet public key 0 (m/12381/8444/2/0): 831c75d8db815b7e1972d99b238cb62d9ba23b8668143b8c1de237d4a504f745277312917e38e9bdf9bec60b3615de3a\n",
      "Wallet private key 0 (m/12381/8444/2/0): 156f2ae00d0506a166031a999915a64b608f733ec068a4ee85962c187edeeb02\n",
      "Wallet address 0 (m/12381/8444/2/0): txch1xquze68sl2lkdeahve3zew44xhhtdk6uqms5nnpm5mx04am4k0wsa363eq\n"
     ]
    }
   ],
   "source": [
    "%%bash\n",
    "chia keys derive -f 4174968354 child-key -t wallet -i 0 --show-hd-path -s\n",
    "chia keys derive -f 4174968354 wallet-address -i 0 --show-hd-path"
   ]
  },
  {
   "cell_type": "code",
   "execution_count": 5,
   "id": "cd0a1d8a-af68-4881-9126-8d62d0e0d746",
   "metadata": {},
   "outputs": [
    {
     "name": "stdout",
     "output_type": "stream",
     "text": [
      "Bob:\n",
      "\tfingerprint:\t4174968354\n",
      "\taddress:\ttxch1xquze68sl2lkdeahve3zew44xhhtdk6uqms5nnpm5mx04am4k0wsa363eq\n",
      "\tsk:\t\t156f2ae00d0506a166031a999915a64b608f733ec068a4ee85962c187edeeb02\n",
      "\tpk:\t\t831c75d8db815b7e1972d99b238cb62d9ba23b8668143b8c1de237d4a504f745277312917e38e9bdf9bec60b3615de3a\n"
     ]
    }
   ],
   "source": [
    "bob_fp = 4174968354\n",
    "bob_addr = \"txch1xquze68sl2lkdeahve3zew44xhhtdk6uqms5nnpm5mx04am4k0wsa363eq\"\n",
    "bob_ph = decode_puzzle_hash(alice_addr)\n",
    "bob_sk = PrivateKey.from_bytes(bytes.fromhex(\"156f2ae00d0506a166031a999915a64b608f733ec068a4ee85962c187edeeb02\"))\n",
    "bob_pk = bob_sk.get_g1()\n",
    "\n",
    "print(\"Bob:\")\n",
    "print(f\"\\tfingerprint:\\t{bob_fp}\")\n",
    "print(f\"\\taddress:\\t{bob_addr}\")\n",
    "print(f\"\\tsk:\\t\\t{bytes(bob_sk).hex()}\")\n",
    "print(f\"\\tpk:\\t\\t{bob_pk}\")"
   ]
  },
  {
   "cell_type": "markdown",
   "id": "ef95b5f5-7504-4511-a112-88c9cd4eef5c",
   "metadata": {},
   "source": [
    "### Create DID wallet\n",
    "- [RPC](https://docs.chia.net/did-rpc#create_new_wallet)\n",
    "- [API](https://github.com/Chia-Network/chia-blockchain/blob/main/chia/rpc/wallet_rpc_api.py#L542)"
   ]
  },
  {
   "cell_type": "code",
   "execution_count": 6,
   "id": "0fe56177-de38-4fb9-a3df-a5e418f68962",
   "metadata": {},
   "outputs": [
    {
     "name": "stdout",
     "output_type": "stream",
     "text": [
      "fingerprint: 3855208971\n",
      "False\n",
      "{'my_did': 'did:chia:10hq8mukapz8lml97tgnnsfdv24t9u5mw6pnqfh64kwh6vljykyrsc4m38t', 'success': True, 'type': 8, 'wallet_id': 2}\n"
     ]
    }
   ],
   "source": [
    "wallet_client = await get_synced_wallet_client(alice_fp)\n",
    "\n",
    "# create DID for alice\n",
    "response = await wallet_client.create_new_did_wallet(\n",
    "        amount = 1,\n",
    "        fee = 0,\n",
    "        name = \"DID Wallet\"\n",
    ")\n",
    "print(response)\n",
    "\n",
    "await close_rpc_client(wallet_client)"
   ]
  },
  {
   "cell_type": "code",
   "execution_count": 8,
   "id": "cb8c3ccd-6c2d-40d0-989c-a499a821a034",
   "metadata": {},
   "outputs": [
    {
     "name": "stdout",
     "output_type": "stream",
     "text": [
      "{\n",
      "    \"did_amount\": 1,\n",
      "    \"did_innerpuz\": \"0x3b28694e28afea944de7a5af588685ad7a30887f97cdebf719fc8b368dae85c6\",\n",
      "    \"did_parent\": \"0x3ea1c0ec5d2be2c8b6d9b70218f8169d33735775d5edbc651316164cab6983c0\",\n",
      "    \"my_did\": \"did:chia:10hq8mukapz8lml97tgnnsfdv24t9u5mw6pnqfh64kwh6vljykyrsc4m38t\",\n",
      "    \"success\": true,\n",
      "    \"wallet_id\": 2\n",
      "}\n",
      "{\n",
      "    \"coin_id\": \"0x8ef7c734bcc2789cc13d7766423733308a92f5a649476829694d646a34d13776\",\n",
      "    \"my_did\": \"did:chia:10hq8mukapz8lml97tgnnsfdv24t9u5mw6pnqfh64kwh6vljykyrsc4m38t\",\n",
      "    \"success\": true,\n",
      "    \"wallet_id\": 2\n",
      "}\n"
     ]
    }
   ],
   "source": [
    "%%bash\n",
    "chia rpc wallet did_get_current_coin_info '{\"wallet_id\": 2}'\n",
    "chia rpc wallet did_get_did '{\"wallet_id\": 2}'"
   ]
  },
  {
   "cell_type": "code",
   "execution_count": 9,
   "id": "834664d1-4c5b-4230-83c5-b7d33ef0be85",
   "metadata": {},
   "outputs": [
    {
     "name": "stdout",
     "output_type": "stream",
     "text": [
      "launcher_id: 7dc07df2dd088ffdfcbe5a273825ac55565e536ed06604df55b3afa67e44b107\n",
      "{'coin': {'amount': 1,\n",
      "          'parent_coin_info': '0x389e85e5bc97d408d0aad44e754490fccb047326361697173732e42f8cb6300f',\n",
      "          'puzzle_hash': '0xeff07522495060c066f66f32acc2a77e3a3e737aca8baea4d1a64ea4cdc13da9'},\n",
      " 'coinbase': False,\n",
      " 'confirmed_block_index': 6,\n",
      " 'spent_block_index': 6,\n",
      " 'timestamp': 1667807290}\n",
      "\n",
      "DID PH: 4c9257a1982cb878544c7cf400d79c30131e59cdbbc66f74da2cc7a8141408e6\n",
      "\n",
      "Coin { parent_coin_info: 3ea1c0ec5d2be2c8b6d9b70218f8169d33735775d5edbc651316164cab6983c0, puzzle_hash: 4c9257a1982cb878544c7cf400d79c30131e59cdbbc66f74da2cc7a8141408e6, amount: 1 }\n",
      "\n",
      "Coin { parent_coin_info: 7dc07df2dd088ffdfcbe5a273825ac55565e536ed06604df55b3afa67e44b107, puzzle_hash: 4c9257a1982cb878544c7cf400d79c30131e59cdbbc66f74da2cc7a8141408e6, amount: 1 }\n",
      "(a (q 2 (q 2 (i (logand 47 52) (q 4 (c 32 (c 47 ())) (c (a 62 (c 2 (c 5 (c (a 42 (c 2 (c 39 (c (a (i 119 (q 2 54 (c 2 (c 9 (c 87 (c (a 46 (c 2 (c 5 ()))) ()))))) (q . 29)) 1) (c (a (i 119 (q . -73) (q . 87)) 1) ()))))) (c 119 ()))))) (a 58 (c 2 (c 5 (c (a 11 95) (q ()))))))) (q 8)) 1) (c (q (((73 . 71) 2 . 51) (c . 1) 1 . 2) ((not 2 (i 5 (q 2 50 (c 2 (c 13 (c (sha256 60 (sha256 52 36) (sha256 60 (sha256 60 (sha256 52 44) 9) (sha256 60 11 (sha256 52 ())))) ())))) (q . 11)) 1) (a (i (all (= (strlen 5) 34) (= (strlen 11) 34) (> 23 (q . -1))) (q 11 5 11 23) (q 8)) 1) 2 (i 11 (q 2 (i (a 38 (c 2 (c 19 ()))) (q 2 (i (not 23) (q 2 (i (= -77 (q . -113)) (q 2 58 (c 2 (c 5 (c 27 (c 52 ()))))) (q 4 (c 35 (c (a 54 (c 2 (c 9 (c 83 (c (a 46 (c 2 (c 5 ()))) ()))))) 115)) (a 58 (c 2 (c 5 (c 27 (c 52 ()))))))) 1) (q 8)) 1) (q 4 19 (a 58 (c 2 (c 5 (c 27 (c 23 ()))))))) 1) (q 2 (i 23 () (q 8)) 1)) 1) ((a (i (= 9 56) (q 2 (i (logand 45 (q . 1)) (q 1 . 1) ()) 1) ()) 1) 11 60 (sha256 52 40) (sha256 60 (sha256 60 (sha256 52 44) 5) (sha256 60 (a 50 (c 2 (c 7 (c (sha256 52 52) ())))) (sha256 52 ())))) (a (i (l 5) (q 11 (q . 2) (a 46 (c 2 (c 9 ()))) (a 46 (c 2 (c 13 ())))) (q 11 (q . 1) 5)) 1) 2 (i (any 23 (= 11 21)) (q 4 48 (c 11 ())) (q 8)) 1) 1)) (c (q 0x7faa3253bfddd1e0decb0906b2dc6247bbc4cf608f58345d173adb63e8b47c9f 0x7dc07df2dd088ffdfcbe5a273825ac55565e536ed06604df55b3afa67e44b107 . 0xeff07522495060c066f66f32acc2a77e3a3e737aca8baea4d1a64ea4cdc13da9) (c (q 2 (q 2 (q 2 (i -65 (q 2 5 383) (q 2 (i (all (= (a 126 (c 2 (c 6143 ()))) 11) (> 23 ())) (q 4 (c 40 (c 383 ())) (c (c 52 (c 767 (c 383 (c (c 767 ()) ())))) (c (c 56 (c 12287 ())) (a 38 (c 2 (c 47 (c 23 (c 6143 (c 12287 (c 767 (c 1535 (c 3071 (q ()))))))))))))) (q 8)) 1)) 1) (c (q (((49 . 61) 73 . 70) (a . 51) 60 . 4) ((q . 1) 2 2 (i 5 (q 2 58 (c 2 (c 13 (c (sha256 42 (sha256 34 60) (sha256 42 (sha256 42 (sha256 34 50) 9) (sha256 42 11 (sha256 34 ())))) ())))) (q . 11)) 1) ((a (i 23 (q 2 (i 319 (q 4 (c 48 (c (sha256 (sha256 (a 54 (c 2 (c 5 (c 39 (c 575 (c 1343 (c 2879 ()))))))) (a 126 (c 2 (c (a 46 (c 2 (c 47 (c 95 (c 383 ()))))) ())))) 47) ())) (a 38 (c 2 (c 5 (c 11 (c 55 (c 47 (c 95 (c 447 (c 383 (c (+ 767 (q . 1)) ()))))))))))) (q 2 38 (c 2 (c 5 (c 55 (c 47 (c 95 (c 447 (c 383 (c 767 ())))))))))) 1) (q 2 (i (> 767 (- 11 (q . 1))) (q 4 (c 32 (c 383 (c 95 ()))) ()) (q 8)) 1)) 1) 11 23 (a 94 (c 2 (c 9 (c 47 (c (a 126 (c 2 (c (c 9 (c 11 29)) ()))) ()))))) 95) (c (q . 1) (c (c 44 (c 5 ())) (c (c 32 (c 23 (c 11 ()))) ()))) (sha256 42 (sha256 34 36) (sha256 42 (sha256 42 (sha256 34 50) 5) (sha256 42 (a 58 (c 2 (c 7 (c (sha256 34 34) ())))) (sha256 34 ())))) 2 (i (l 5) (q 11 (q . 2) (a 126 (c 2 (c 9 ()))) (a 126 (c 2 (c 13 ())))) (q 11 (q . 1) 5)) 1) 1)) (c (q 2 (q 2 (q 2 (i 11 (q 2 (i (= 5 (point_add 11 (pubkey_for_exp (sha256 11 (a 6 (c 2 (c 23 ()))))))) (q 2 23 47) (q 8)) 1) (q 4 (c 4 (c 5 (c (a 6 (c 2 (c 23 ()))) ()))) (a 23 47))) 1) (c (q 50 2 (i (l 5) (q 11 (q . 2) (a 6 (c 2 (c 9 ()))) (a 6 (c 2 (c 13 ())))) (q 11 (q . 1) 5)) 1) 1)) (c (q . 0x93c8a14b74d0cfe62cf451200eb42f3f2fe5c581f5153d308b10c43f40fba9d49a812204e0f970b2f83e23c59eb22e09) 1)) (c (q . 0x4bf5122f344554c53bde2ebb8cd2b7e3d1600ad631c385a5d7cce23c7785459a) (c (q) (c (q 0x7faa3253bfddd1e0decb0906b2dc6247bbc4cf608f58345d173adb63e8b47c9f 0x7dc07df2dd088ffdfcbe5a273825ac55565e536ed06604df55b3afa67e44b107 . 0xeff07522495060c066f66f32acc2a77e3a3e737aca8baea4d1a64ea4cdc13da9) (c (q) 1)))))) 1)))\n",
      "\n",
      "((0x389e85e5bc97d408d0aad44e754490fccb047326361697173732e42f8cb6300f 1) 1 (q (() (q (51 0x3b28694e28afea944de7a5af588685ad7a30887f97cdebf719fc8b368dae85c6 1 (0xd34d627dec07b56ed99319d53d5ae1340e5bc8f262216c946abf79764a9c6562))) ())))\n",
      "\n"
     ]
    }
   ],
   "source": [
    "# did is the encoded launcher_id\n",
    "did = \"did:chia:10hq8mukapz8lml97tgnnsfdv24t9u5mw6pnqfh64kwh6vljykyrsc4m38t\"\n",
    "launcher_id = decode_puzzle_hash(did)\n",
    "\n",
    "full_node_client = await get_full_node_client()\n",
    "print(f\"launcher_id: {launcher_id}\")\n",
    "\n",
    "# get launcher_coin\n",
    "coin_record = await full_node_client.get_coin_record_by_name(launcher_id)\n",
    "spent_height = coin_record.spent_block_index\n",
    "print(coin_record)\n",
    "print()\n",
    "\n",
    "# get puzzle and solution\n",
    "puzzle_solution = await full_node_client.get_puzzle_and_solution(launcher_id, spent_height)\n",
    "puzzle = puzzle_solution.puzzle_reveal.to_program()\n",
    "solution = puzzle_solution.solution.to_program()\n",
    "\n",
    "# (singleton_full_puzzle_hash amount key_value_list)\n",
    "did_full_puzzle_hash = hexstr_to_bytes(disassemble(solution.first()))\n",
    "print(f\"DID PH: {did_full_puzzle_hash.hex()}\")\n",
    "print()\n",
    "\n",
    "did_coin_records = await full_node_client.get_coin_records_by_puzzle_hash(did_full_puzzle_hash, include_spent_coins = True)\n",
    "for cr in did_coin_records:\n",
    "    print(cr.coin)\n",
    "    if cr.spent_block_index > 0:\n",
    "        puzzle_solution = await full_node_client.get_puzzle_and_solution(cr.coin.name(), cr.spent_block_index)\n",
    "        #print(puzzle_solution.puzzle_reveal)\n",
    "        puzzle = puzzle_solution.puzzle_reveal.to_program()\n",
    "        solution = puzzle_solution.solution.to_program()\n",
    "        print_program(puzzle)\n",
    "        print()\n",
    "        print_program(solution)\n",
    "    print()\n",
    "\n",
    "await close_rpc_client(full_node_client)\n"
   ]
  },
  {
   "cell_type": "code",
   "execution_count": 36,
   "id": "5e26fdd0-cd8e-4352-a1bb-2b6b7f4f4b3e",
   "metadata": {},
   "outputs": [
    {
     "name": "stdout",
     "output_type": "stream",
     "text": [
      "3ea1c0ec5d2be2c8b6d9b70218f8169d33735775d5edbc651316164cab6983c0\n",
      "(a (q 2 (q 2 (i (logand 47 52) (q 4 (c 32 (c 47 ())) (c (a 62 (c 2 (c 5 (c (a 42 (c 2 (c 39 (c (a (i 119 (q 2 54 (c 2 (c 9 (c 87 (c (a 46 (c 2 (c 5 ()))) ()))))) (q . 29)) 1) (c (a (i 119 (q . -73) (q . 87)) 1) ()))))) (c 119 ()))))) (a 58 (c 2 (c 5 (c (a 11 95) (q ()))))))) (q 8)) 1) (c (q (((73 . 71) 2 . 51) (c . 1) 1 . 2) ((not 2 (i 5 (q 2 50 (c 2 (c 13 (c (sha256 60 (sha256 52 36) (sha256 60 (sha256 60 (sha256 52 44) 9) (sha256 60 11 (sha256 52 ())))) ())))) (q . 11)) 1) (a (i (all (= (strlen 5) 34) (= (strlen 11) 34) (> 23 (q . -1))) (q 11 5 11 23) (q 8)) 1) 2 (i 11 (q 2 (i (a 38 (c 2 (c 19 ()))) (q 2 (i (not 23) (q 2 (i (= -77 (q . -113)) (q 2 58 (c 2 (c 5 (c 27 (c 52 ()))))) (q 4 (c 35 (c (a 54 (c 2 (c 9 (c 83 (c (a 46 (c 2 (c 5 ()))) ()))))) 115)) (a 58 (c 2 (c 5 (c 27 (c 52 ()))))))) 1) (q 8)) 1) (q 4 19 (a 58 (c 2 (c 5 (c 27 (c 23 ()))))))) 1) (q 2 (i 23 () (q 8)) 1)) 1) ((a (i (= 9 56) (q 2 (i (logand 45 (q . 1)) (q 1 . 1) ()) 1) ()) 1) 11 60 (sha256 52 40) (sha256 60 (sha256 60 (sha256 52 44) 5) (sha256 60 (a 50 (c 2 (c 7 (c (sha256 52 52) ())))) (sha256 52 ())))) (a (i (l 5) (q 11 (q . 2) (a 46 (c 2 (c 9 ()))) (a 46 (c 2 (c 13 ())))) (q 11 (q . 1) 5)) 1) 2 (i (any 23 (= 11 21)) (q 4 48 (c 11 ())) (q 8)) 1) 1)) (c (q 0x7faa3253bfddd1e0decb0906b2dc6247bbc4cf608f58345d173adb63e8b47c9f 0x7dc07df2dd088ffdfcbe5a273825ac55565e536ed06604df55b3afa67e44b107 . 0xeff07522495060c066f66f32acc2a77e3a3e737aca8baea4d1a64ea4cdc13da9) (c (q 2 (q 2 (q 2 (i -65 (q 2 5 383) (q 2 (i (all (= (a 126 (c 2 (c 6143 ()))) 11) (> 23 ())) (q 4 (c 40 (c 383 ())) (c (c 52 (c 767 (c 383 (c (c 767 ()) ())))) (c (c 56 (c 12287 ())) (a 38 (c 2 (c 47 (c 23 (c 6143 (c 12287 (c 767 (c 1535 (c 3071 (q ()))))))))))))) (q 8)) 1)) 1) (c (q (((49 . 61) 73 . 70) (a . 51) 60 . 4) ((q . 1) 2 2 (i 5 (q 2 58 (c 2 (c 13 (c (sha256 42 (sha256 34 60) (sha256 42 (sha256 42 (sha256 34 50) 9) (sha256 42 11 (sha256 34 ())))) ())))) (q . 11)) 1) ((a (i 23 (q 2 (i 319 (q 4 (c 48 (c (sha256 (sha256 (a 54 (c 2 (c 5 (c 39 (c 575 (c 1343 (c 2879 ()))))))) (a 126 (c 2 (c (a 46 (c 2 (c 47 (c 95 (c 383 ()))))) ())))) 47) ())) (a 38 (c 2 (c 5 (c 11 (c 55 (c 47 (c 95 (c 447 (c 383 (c (+ 767 (q . 1)) ()))))))))))) (q 2 38 (c 2 (c 5 (c 55 (c 47 (c 95 (c 447 (c 383 (c 767 ())))))))))) 1) (q 2 (i (> 767 (- 11 (q . 1))) (q 4 (c 32 (c 383 (c 95 ()))) ()) (q 8)) 1)) 1) 11 23 (a 94 (c 2 (c 9 (c 47 (c (a 126 (c 2 (c (c 9 (c 11 29)) ()))) ()))))) 95) (c (q . 1) (c (c 44 (c 5 ())) (c (c 32 (c 23 (c 11 ()))) ()))) (sha256 42 (sha256 34 36) (sha256 42 (sha256 42 (sha256 34 50) 5) (sha256 42 (a 58 (c 2 (c 7 (c (sha256 34 34) ())))) (sha256 34 ())))) 2 (i (l 5) (q 11 (q . 2) (a 126 (c 2 (c 9 ()))) (a 126 (c 2 (c 13 ())))) (q 11 (q . 1) 5)) 1) 1)) (c (q 2 (q 2 (q 2 (i 11 (q 2 (i (= 5 (point_add 11 (pubkey_for_exp (sha256 11 (a 6 (c 2 (c 23 ()))))))) (q 2 23 47) (q 8)) 1) (q 4 (c 4 (c 5 (c (a 6 (c 2 (c 23 ()))) ()))) (a 23 47))) 1) (c (q 50 2 (i (l 5) (q 11 (q . 2) (a 6 (c 2 (c 9 ()))) (a 6 (c 2 (c 13 ())))) (q 11 (q . 1) 5)) 1) 1)) (c (q . 0x93c8a14b74d0cfe62cf451200eb42f3f2fe5c581f5153d308b10c43f40fba9d49a812204e0f970b2f83e23c59eb22e09) 1)) (c (q . 0x4bf5122f344554c53bde2ebb8cd2b7e3d1600ad631c385a5d7cce23c7785459a) (c (q) (c (q 0x7faa3253bfddd1e0decb0906b2dc6247bbc4cf608f58345d173adb63e8b47c9f 0x7dc07df2dd088ffdfcbe5a273825ac55565e536ed06604df55b3afa67e44b107 . 0xeff07522495060c066f66f32acc2a77e3a3e737aca8baea4d1a64ea4cdc13da9) (c (q) 1)))))) 1)))\n",
      "\n",
      "((0x389e85e5bc97d408d0aad44e754490fccb047326361697173732e42f8cb6300f 1) 1 (q (() (q (51 0x3b28694e28afea944de7a5af588685ad7a30887f97cdebf719fc8b368dae85c6 1 (0xd34d627dec07b56ed99319d53d5ae1340e5bc8f262216c946abf79764a9c6562))) ())))\n"
     ]
    }
   ],
   "source": [
    "spent_did_cr = did_coin_records[1]\n",
    "print(spent_did_cr.coin.name().hex())\n",
    "full_node_client = await get_full_node_client()\n",
    "puzzle_solution = await full_node_client.get_puzzle_and_solution(spent_did_cr.coin.name(), spent_did_cr.spent_block_index)\n",
    "await close_rpc_client(full_node_client)\n",
    "\n",
    "\n",
    "puzzle = puzzle_solution.puzzle_reveal.to_program()\n",
    "solution = puzzle_solution.solution.to_program()\n",
    "print_program(puzzle)\n",
    "print()\n",
    "print_program(solution)"
   ]
  },
  {
   "cell_type": "code",
   "execution_count": 25,
   "id": "69624575-ee64-4754-869b-ee8268c5c8f3",
   "metadata": {},
   "outputs": [
    {
     "name": "stdout",
     "output_type": "stream",
     "text": [
      "(a (q 2 (i (logand 47 52) (q 4 (c 32 (c 47 ())) (c (a 62 (c 2 (c 5 (c (a 42 (c 2 (c 39 (c (a (i 119 (q 2 54 (c 2 (c 9 (c 87 (c (a 46 (c 2 (c 5 ()))) ()))))) (q . 29)) 1) (c (a (i 119 (q . -73) (q . 87)) 1) ()))))) (c 119 ()))))) (a 58 (c 2 (c 5 (c (a 11 95) (q ()))))))) (q 8)) 1) (c (q (((73 . 71) 2 . 51) (c . 1) 1 . 2) ((not 2 (i 5 (q 2 50 (c 2 (c 13 (c (sha256 60 (sha256 52 36) (sha256 60 (sha256 60 (sha256 52 44) 9) (sha256 60 11 (sha256 52 ())))) ())))) (q . 11)) 1) (a (i (all (= (strlen 5) 34) (= (strlen 11) 34) (> 23 (q . -1))) (q 11 5 11 23) (q 8)) 1) 2 (i 11 (q 2 (i (a 38 (c 2 (c 19 ()))) (q 2 (i (not 23) (q 2 (i (= -77 (q . -113)) (q 2 58 (c 2 (c 5 (c 27 (c 52 ()))))) (q 4 (c 35 (c (a 54 (c 2 (c 9 (c 83 (c (a 46 (c 2 (c 5 ()))) ()))))) 115)) (a 58 (c 2 (c 5 (c 27 (c 52 ()))))))) 1) (q 8)) 1) (q 4 19 (a 58 (c 2 (c 5 (c 27 (c 23 ()))))))) 1) (q 2 (i 23 () (q 8)) 1)) 1) ((a (i (= 9 56) (q 2 (i (logand 45 (q . 1)) (q 1 . 1) ()) 1) ()) 1) 11 60 (sha256 52 40) (sha256 60 (sha256 60 (sha256 52 44) 5) (sha256 60 (a 50 (c 2 (c 7 (c (sha256 52 52) ())))) (sha256 52 ())))) (a (i (l 5) (q 11 (q . 2) (a 46 (c 2 (c 9 ()))) (a 46 (c 2 (c 13 ())))) (q 11 (q . 1) 5)) 1) 2 (i (any 23 (= 11 21)) (q 4 48 (c 11 ())) (q 8)) 1) 1))\n",
      "\n",
      "((0x7faa3253bfddd1e0decb0906b2dc6247bbc4cf608f58345d173adb63e8b47c9f 0x7dc07df2dd088ffdfcbe5a273825ac55565e536ed06604df55b3afa67e44b107 . 0xeff07522495060c066f66f32acc2a77e3a3e737aca8baea4d1a64ea4cdc13da9) (a (q 2 (q 2 (i -65 (q 2 5 383) (q 2 (i (all (= (a 126 (c 2 (c 6143 ()))) 11) (> 23 ())) (q 4 (c 40 (c 383 ())) (c (c 52 (c 767 (c 383 (c (c 767 ()) ())))) (c (c 56 (c 12287 ())) (a 38 (c 2 (c 47 (c 23 (c 6143 (c 12287 (c 767 (c 1535 (c 3071 (q ()))))))))))))) (q 8)) 1)) 1) (c (q (((49 . 61) 73 . 70) (a . 51) 60 . 4) ((q . 1) 2 2 (i 5 (q 2 58 (c 2 (c 13 (c (sha256 42 (sha256 34 60) (sha256 42 (sha256 42 (sha256 34 50) 9) (sha256 42 11 (sha256 34 ())))) ())))) (q . 11)) 1) ((a (i 23 (q 2 (i 319 (q 4 (c 48 (c (sha256 (sha256 (a 54 (c 2 (c 5 (c 39 (c 575 (c 1343 (c 2879 ()))))))) (a 126 (c 2 (c (a 46 (c 2 (c 47 (c 95 (c 383 ()))))) ())))) 47) ())) (a 38 (c 2 (c 5 (c 11 (c 55 (c 47 (c 95 (c 447 (c 383 (c (+ 767 (q . 1)) ()))))))))))) (q 2 38 (c 2 (c 5 (c 55 (c 47 (c 95 (c 447 (c 383 (c 767 ())))))))))) 1) (q 2 (i (> 767 (- 11 (q . 1))) (q 4 (c 32 (c 383 (c 95 ()))) ()) (q 8)) 1)) 1) 11 23 (a 94 (c 2 (c 9 (c 47 (c (a 126 (c 2 (c (c 9 (c 11 29)) ()))) ()))))) 95) (c (q . 1) (c (c 44 (c 5 ())) (c (c 32 (c 23 (c 11 ()))) ()))) (sha256 42 (sha256 34 36) (sha256 42 (sha256 42 (sha256 34 50) 5) (sha256 42 (a 58 (c 2 (c 7 (c (sha256 34 34) ())))) (sha256 34 ())))) 2 (i (l 5) (q 11 (q . 2) (a 126 (c 2 (c 9 ()))) (a 126 (c 2 (c 13 ())))) (q 11 (q . 1) 5)) 1) 1)) (c (q 2 (q 2 (q 2 (i 11 (q 2 (i (= 5 (point_add 11 (pubkey_for_exp (sha256 11 (a 6 (c 2 (c 23 ()))))))) (q 2 23 47) (q 8)) 1) (q 4 (c 4 (c 5 (c (a 6 (c 2 (c 23 ()))) ()))) (a 23 47))) 1) (c (q 50 2 (i (l 5) (q 11 (q . 2) (a 6 (c 2 (c 9 ()))) (a 6 (c 2 (c 13 ())))) (q 11 (q . 1) 5)) 1) 1)) (c (q . 0x93c8a14b74d0cfe62cf451200eb42f3f2fe5c581f5153d308b10c43f40fba9d49a812204e0f970b2f83e23c59eb22e09) 1)) (c (q . 0x4bf5122f344554c53bde2ebb8cd2b7e3d1600ad631c385a5d7cce23c7785459a) (c (q) (c (q 0x7faa3253bfddd1e0decb0906b2dc6247bbc4cf608f58345d173adb63e8b47c9f 0x7dc07df2dd088ffdfcbe5a273825ac55565e536ed06604df55b3afa67e44b107 . 0xeff07522495060c066f66f32acc2a77e3a3e737aca8baea4d1a64ea4cdc13da9) (c (q) 1)))))))\n"
     ]
    }
   ],
   "source": [
    "result = puzzle.uncurry()\n",
    "uncurried_puzzle = result[0]\n",
    "curried_args = result[1]\n",
    "\n",
    "print_program(uncurried_puzzle)\n",
    "print()\n",
    "print_program(curried_args)"
   ]
  },
  {
   "cell_type": "markdown",
   "id": "14b5d909-7ef4-4437-9629-dc5c24c69d24",
   "metadata": {},
   "source": [
    "### Singleton Top Layer\n",
    "\n",
    "```clojure\n",
    "(SINGLETON_STRUCT INNER_PUZZLE lineage_proof my_amount inner_solution)\n",
    "```\n",
    "\n",
    "#### SINGLTON_STRUCT (SINGLETON_MOD_HASH, (LAUNCHER_ID, LAUNCHER_PUZZLE_HASH))\n",
    "`(0x7faa3253bfddd1e0decb0906b2dc6247bbc4cf608f58345d173adb63e8b47c9f 0x7dc07df2dd088ffdfcbe5a273825ac55565e536ed06604df55b3afa67e44b107 . 0xeff07522495060c066f66f32acc2a77e3a3e737aca8baea4d1a64ea4cdc13da9)`\n",
    "\n",
    "#### INNER_PUZZLE (DID_INNER_PUZZLE)\n",
    "```cljoure\n",
    "(a (q 2 (q 2 (i -65 (q 2 5 383) (q 2 (i (all (= (a 126 (c 2 (c 6143 ()))) 11) (> 23 ())) (q 4 (c 40 (c 383 ())) (c (c 52 (c 767 (c 383 (c (c 767 ()) ())))) (c (c 56 (c 12287 ())) (a 38 (c 2 (c 47 (c 23 (c 6143 (c 12287 (c 767 (c 1535 (c 3071 (q ()))))))))))))) (q 8)) 1)) 1) (c (q (((49 . 61) 73 . 70) (a . 51) 60 . 4) ((q . 1) 2 2 (i 5 (q 2 58 (c 2 (c 13 (c (sha256 42 (sha256 34 60) (sha256 42 (sha256 42 (sha256 34 50) 9) (sha256 42 11 (sha256 34 ())))) ())))) (q . 11)) 1) ((a (i 23 (q 2 (i 319 (q 4 (c 48 (c (sha256 (sha256 (a 54 (c 2 (c 5 (c 39 (c 575 (c 1343 (c 2879 ()))))))) (a 126 (c 2 (c (a 46 (c 2 (c 47 (c 95 (c 383 ()))))) ())))) 47) ())) (a 38 (c 2 (c 5 (c 11 (c 55 (c 47 (c 95 (c 447 (c 383 (c (+ 767 (q . 1)) ()))))))))))) (q 2 38 (c 2 (c 5 (c 55 (c 47 (c 95 (c 447 (c 383 (c 767 ())))))))))) 1) (q 2 (i (> 767 (- 11 (q . 1))) (q 4 (c 32 (c 383 (c 95 ()))) ()) (q 8)) 1)) 1) 11 23 (a 94 (c 2 (c 9 (c 47 (c (a 126 (c 2 (c (c 9 (c 11 29)) ()))) ()))))) 95) (c (q . 1) (c (c 44 (c 5 ())) (c (c 32 (c 23 (c 11 ()))) ()))) (sha256 42 (sha256 34 36) (sha256 42 (sha256 42 (sha256 34 50) 5) (sha256 42 (a 58 (c 2 (c 7 (c (sha256 34 34) ())))) (sha256 34 ())))) 2 (i (l 5) (q 11 (q . 2) (a 126 (c 2 (c 9 ()))) (a 126 (c 2 (c 13 ())))) (q 11 (q . 1) 5)) 1) 1)) (c (q 2 (q 2 (q 2 (i 11 (q 2 (i (= 5 (point_add 11 (pubkey_for_exp (sha256 11 (a 6 (c 2 (c 23 ()))))))) (q 2 23 47) (q 8)) 1) (q 4 (c 4 (c 5 (c (a 6 (c 2 (c 23 ()))) ()))) (a 23 47))) 1) (c (q 50 2 (i (l 5) (q 11 (q . 2) (a 6 (c 2 (c 9 ()))) (a 6 (c 2 (c 13 ())))) (q 11 (q . 1) 5)) 1) 1)) (c (q . 0x93c8a14b74d0cfe62cf451200eb42f3f2fe5c581f5153d308b10c43f40fba9d49a812204e0f970b2f83e23c59eb22e09) 1)) (c (q . 0x4bf5122f344554c53bde2ebb8cd2b7e3d1600ad631c385a5d7cce23c7785459a) (c (q) (c (q 0x7faa3253bfddd1e0decb0906b2dc6247bbc4cf608f58345d173adb63e8b47c9f 0x7dc07df2dd088ffdfcbe5a273825ac55565e536ed06604df55b3afa67e44b107 . 0xeff07522495060c066f66f32acc2a77e3a3e737aca8baea4d1a64ea4cdc13da9) (c (q) 1))))))\n",
    "```\n"
   ]
  },
  {
   "cell_type": "code",
   "execution_count": 30,
   "id": "487b6034-db5c-4669-8e33-b73cf2e1844e",
   "metadata": {},
   "outputs": [
    {
     "name": "stdout",
     "output_type": "stream",
     "text": [
      "(0x7faa3253bfddd1e0decb0906b2dc6247bbc4cf608f58345d173adb63e8b47c9f 0x7dc07df2dd088ffdfcbe5a273825ac55565e536ed06604df55b3afa67e44b107 . 0xeff07522495060c066f66f32acc2a77e3a3e737aca8baea4d1a64ea4cdc13da9)\n",
      "\n",
      "(a (q 2 (q 2 (i -65 (q 2 5 383) (q 2 (i (all (= (a 126 (c 2 (c 6143 ()))) 11) (> 23 ())) (q 4 (c 40 (c 383 ())) (c (c 52 (c 767 (c 383 (c (c 767 ()) ())))) (c (c 56 (c 12287 ())) (a 38 (c 2 (c 47 (c 23 (c 6143 (c 12287 (c 767 (c 1535 (c 3071 (q ()))))))))))))) (q 8)) 1)) 1) (c (q (((49 . 61) 73 . 70) (a . 51) 60 . 4) ((q . 1) 2 2 (i 5 (q 2 58 (c 2 (c 13 (c (sha256 42 (sha256 34 60) (sha256 42 (sha256 42 (sha256 34 50) 9) (sha256 42 11 (sha256 34 ())))) ())))) (q . 11)) 1) ((a (i 23 (q 2 (i 319 (q 4 (c 48 (c (sha256 (sha256 (a 54 (c 2 (c 5 (c 39 (c 575 (c 1343 (c 2879 ()))))))) (a 126 (c 2 (c (a 46 (c 2 (c 47 (c 95 (c 383 ()))))) ())))) 47) ())) (a 38 (c 2 (c 5 (c 11 (c 55 (c 47 (c 95 (c 447 (c 383 (c (+ 767 (q . 1)) ()))))))))))) (q 2 38 (c 2 (c 5 (c 55 (c 47 (c 95 (c 447 (c 383 (c 767 ())))))))))) 1) (q 2 (i (> 767 (- 11 (q . 1))) (q 4 (c 32 (c 383 (c 95 ()))) ()) (q 8)) 1)) 1) 11 23 (a 94 (c 2 (c 9 (c 47 (c (a 126 (c 2 (c (c 9 (c 11 29)) ()))) ()))))) 95) (c (q . 1) (c (c 44 (c 5 ())) (c (c 32 (c 23 (c 11 ()))) ()))) (sha256 42 (sha256 34 36) (sha256 42 (sha256 42 (sha256 34 50) 5) (sha256 42 (a 58 (c 2 (c 7 (c (sha256 34 34) ())))) (sha256 34 ())))) 2 (i (l 5) (q 11 (q . 2) (a 126 (c 2 (c 9 ()))) (a 126 (c 2 (c 13 ())))) (q 11 (q . 1) 5)) 1) 1)) (c (q 2 (q 2 (q 2 (i 11 (q 2 (i (= 5 (point_add 11 (pubkey_for_exp (sha256 11 (a 6 (c 2 (c 23 ()))))))) (q 2 23 47) (q 8)) 1) (q 4 (c 4 (c 5 (c (a 6 (c 2 (c 23 ()))) ()))) (a 23 47))) 1) (c (q 50 2 (i (l 5) (q 11 (q . 2) (a 6 (c 2 (c 9 ()))) (a 6 (c 2 (c 13 ())))) (q 11 (q . 1) 5)) 1) 1)) (c (q . 0x93c8a14b74d0cfe62cf451200eb42f3f2fe5c581f5153d308b10c43f40fba9d49a812204e0f970b2f83e23c59eb22e09) 1)) (c (q . 0x4bf5122f344554c53bde2ebb8cd2b7e3d1600ad631c385a5d7cce23c7785459a) (c (q) (c (q 0x7faa3253bfddd1e0decb0906b2dc6247bbc4cf608f58345d173adb63e8b47c9f 0x7dc07df2dd088ffdfcbe5a273825ac55565e536ed06604df55b3afa67e44b107 . 0xeff07522495060c066f66f32acc2a77e3a3e737aca8baea4d1a64ea4cdc13da9) (c (q) 1))))))\n"
     ]
    }
   ],
   "source": [
    "singleton_struct = curried_args.first()\n",
    "print_program(singleton_struct)\n",
    "print()\n",
    "did_inner_puzzle = curried_args.rest().first()\n",
    "print_program(did_inner_puzzle)"
   ]
  },
  {
   "cell_type": "code",
   "execution_count": 31,
   "id": "9b069141-9fdf-477a-8dc2-0eb7ee665276",
   "metadata": {},
   "outputs": [
    {
     "name": "stdout",
     "output_type": "stream",
     "text": [
      "(a (q 2 (i -65 (q 2 5 383) (q 2 (i (all (= (a 126 (c 2 (c 6143 ()))) 11) (> 23 ())) (q 4 (c 40 (c 383 ())) (c (c 52 (c 767 (c 383 (c (c 767 ()) ())))) (c (c 56 (c 12287 ())) (a 38 (c 2 (c 47 (c 23 (c 6143 (c 12287 (c 767 (c 1535 (c 3071 (q ()))))))))))))) (q 8)) 1)) 1) (c (q (((49 . 61) 73 . 70) (a . 51) 60 . 4) ((q . 1) 2 2 (i 5 (q 2 58 (c 2 (c 13 (c (sha256 42 (sha256 34 60) (sha256 42 (sha256 42 (sha256 34 50) 9) (sha256 42 11 (sha256 34 ())))) ())))) (q . 11)) 1) ((a (i 23 (q 2 (i 319 (q 4 (c 48 (c (sha256 (sha256 (a 54 (c 2 (c 5 (c 39 (c 575 (c 1343 (c 2879 ()))))))) (a 126 (c 2 (c (a 46 (c 2 (c 47 (c 95 (c 383 ()))))) ())))) 47) ())) (a 38 (c 2 (c 5 (c 11 (c 55 (c 47 (c 95 (c 447 (c 383 (c (+ 767 (q . 1)) ()))))))))))) (q 2 38 (c 2 (c 5 (c 55 (c 47 (c 95 (c 447 (c 383 (c 767 ())))))))))) 1) (q 2 (i (> 767 (- 11 (q . 1))) (q 4 (c 32 (c 383 (c 95 ()))) ()) (q 8)) 1)) 1) 11 23 (a 94 (c 2 (c 9 (c 47 (c (a 126 (c 2 (c (c 9 (c 11 29)) ()))) ()))))) 95) (c (q . 1) (c (c 44 (c 5 ())) (c (c 32 (c 23 (c 11 ()))) ()))) (sha256 42 (sha256 34 36) (sha256 42 (sha256 42 (sha256 34 50) 5) (sha256 42 (a 58 (c 2 (c 7 (c (sha256 34 34) ())))) (sha256 34 ())))) 2 (i (l 5) (q 11 (q . 2) (a 126 (c 2 (c 9 ()))) (a 126 (c 2 (c 13 ())))) (q 11 (q . 1) 5)) 1) 1))\n",
      "\n",
      "((a (q 2 (q 2 (i 11 (q 2 (i (= 5 (point_add 11 (pubkey_for_exp (sha256 11 (a 6 (c 2 (c 23 ()))))))) (q 2 23 47) (q 8)) 1) (q 4 (c 4 (c 5 (c (a 6 (c 2 (c 23 ()))) ()))) (a 23 47))) 1) (c (q 50 2 (i (l 5) (q 11 (q . 2) (a 6 (c 2 (c 9 ()))) (a 6 (c 2 (c 13 ())))) (q 11 (q . 1) 5)) 1) 1)) (c (q . 0x93c8a14b74d0cfe62cf451200eb42f3f2fe5c581f5153d308b10c43f40fba9d49a812204e0f970b2f83e23c59eb22e09) 1)) 0x4bf5122f344554c53bde2ebb8cd2b7e3d1600ad631c385a5d7cce23c7785459a () (0x7faa3253bfddd1e0decb0906b2dc6247bbc4cf608f58345d173adb63e8b47c9f 0x7dc07df2dd088ffdfcbe5a273825ac55565e536ed06604df55b3afa67e44b107 . 0xeff07522495060c066f66f32acc2a77e3a3e737aca8baea4d1a64ea4cdc13da9) ())\n"
     ]
    }
   ],
   "source": [
    "result = did_inner_puzzle.uncurry()\n",
    "uncurried_did_inner_puzzle = result[0]\n",
    "print_program(uncurried_did_inner_puzzle)\n",
    "print()\n",
    "curried_args = result[1]\n",
    "print_program(curried_args)"
   ]
  },
  {
   "cell_type": "markdown",
   "id": "793ca769-958a-49fb-9429-764481f0f5b4",
   "metadata": {},
   "source": [
    "### DID_INNER_PUZZLE\n",
    "```cljoure\n",
    "(\n",
    "  INNER_PUZZLE  ; Standard P2 inner puzzle, used to record the ownership of the DID.\n",
    "  RECOVERY_DID_LIST_HASH  ; the list of DIDs that can send messages to you for recovery we store only the hash so that we don't have to reveal every time we make a message spend\n",
    "  NUM_VERIFICATIONS_REQUIRED  ; how many of the above list are required for a recovery\n",
    "  SINGLETON_STRUCT  ; my singleton_struct, formerly a Truth - ((SINGLETON_MOD_HASH, (LAUNCHER_ID, LAUNCHER_PUZZLE_HASH)))\n",
    "  METADATA ; Customized metadata, e.g KYC info\n",
    "  mode  ; this indicates which spend mode we want. 0. Recovery mode 1. Run INNER_PUZZLE with p2_solution\n",
    "  my_amount_or_inner_solution  ; In mode 0, we use this to recover our coin and assert it is our actual amount\n",
    "                             ; In mode 1 this is the solution of the inner P2 puzzle, only required in the create message mode and transfer mode.\n",
    "  new_inner_puzhash  ; In recovery mode, this will be the new wallet DID puzzle hash\n",
    "  parent_innerpuzhash_amounts_for_recovery_ids  ; during a recovery we need extra information about our recovery list coins\n",
    "  pubkey  ; this is the new pubkey used for a recovery\n",
    "  recovery_list_reveal  ; this is the reveal of the stored list of DIDs approved for recovery\n",
    "  my_id  ; my coin ID\n",
    "  )\n",
    "  ;message is the new puzzle in the recovery and standard spend cases\n",
    "\n",
    "  ;MOD_HASH, MY_PUBKEY, RECOVERY_DID_LIST_HASH are curried into the puzzle\n",
    "  ;EXAMPLE SOLUTION (0xcafef00d 0x12341234 0x923bf9a7856b19d335a65f12d68957d497e1f0c16c0e14baf6d120e60753a1ce 2 1 100 (q \"source code\") 0xdeadbeef 0xcafef00d ((0xdadadada 0xdad5dad5 200) () (0xfafafafa 0xfaf5faf5 200)) 0xfadeddab (0x22222222 0x33333333 0x44444444))\n",
    "\n",
    "```\n",
    "\n",
    "#### INNER_PUZZLE with SYNTHETIC_PK\n",
    "```clojure\n",
    "(a (q 2 (q 2 (i 11 (q 2 (i (= 5 (point_add 11 (pubkey_for_exp (sha256 11 (a 6 (c 2 (c 23 ()))))))) (q 2 23 47) (q 8)) 1) (q 4 (c 4 (c 5 (c (a 6 (c 2 (c 23 ()))) ()))) (a 23 47))) 1) (c (q 50 2 (i (l 5) (q 11 (q . 2) (a 6 (c 2 (c 9 ()))) (a 6 (c 2 (c 13 ())))) (q 11 (q . 1) 5)) 1) 1)) (c (q . 0x93c8a14b74d0cfe62cf451200eb42f3f2fe5c581f5153d308b10c43f40fba9d49a812204e0f970b2f83e23c59eb22e09) 1))\n",
    "```\n",
    "\n",
    "##### Synthetic PK\n",
    "`0x93c8a14b74d0cfe62cf451200eb42f3f2fe5c581f5153d308b10c43f40fba9d49a812204e0f970b2f83e23c59eb22e09`\n",
    "\n",
    "#### RECOVERY_DID_LIST_HASH\n",
    "`0x4bf5122f344554c53bde2ebb8cd2b7e3d1600ad631c385a5d7cce23c7785459a`\n",
    "\n",
    "#### NUM_VERIFICATIONS_REQUIRED \n",
    "`()` \n",
    "\n",
    "#### SINGLETON_STRUCT\n",
    "`(0x7faa3253bfddd1e0decb0906b2dc6247bbc4cf608f58345d173adb63e8b47c9f 0x7dc07df2dd088ffdfcbe5a273825ac55565e536ed06604df55b3afa67e44b107 . 0xeff07522495060c066f66f32acc2a77e3a3e737aca8baea4d1a64ea4cdc13da9)`\n",
    "\n",
    "#### METADATA\n",
    "`()`\n",
    "\n",
    "#### Solution of singlton top layer\n",
    "`lineage_proof my_amount inner_solution`\n",
    "``` clojure\n",
    "(\n",
    "    (0x389e85e5bc97d408d0aad44e754490fccb047326361697173732e42f8cb6300f 1) ; lineage_proof\n",
    "    1 ; my_amount\n",
    "    (   q ; mode 1 \n",
    "        (\n",
    "            () \n",
    "            (   q \n",
    "                (\n",
    "                 51 ; CREATE_COIN\n",
    "                 0x3b28694e28afea944de7a5af588685ad7a30887f97cdebf719fc8b368dae85c6 ; did_innerpuz\n",
    "                 1 ; did amount\n",
    "                 (0xd34d627dec07b56ed99319d53d5ae1340e5bc8f262216c946abf79764a9c6562) ; memo (wallet ph)\n",
    "                )\n",
    "            ) \n",
    "            ()\n",
    "        ) ; my_amount_or_inner_solution\n",
    "    ) ; inner_solution\n",
    ")\n",
    "\n",
    "```"
   ]
  },
  {
   "cell_type": "code",
   "execution_count": 34,
   "id": "74275eac-e854-466c-9a79-02b9726f014f",
   "metadata": {},
   "outputs": [
    {
     "name": "stdout",
     "output_type": "stream",
     "text": [
      "(a (q 2 (q 2 (i 11 (q 2 (i (= 5 (point_add 11 (pubkey_for_exp (sha256 11 (a 6 (c 2 (c 23 ()))))))) (q 2 23 47) (q 8)) 1) (q 4 (c 4 (c 5 (c (a 6 (c 2 (c 23 ()))) ()))) (a 23 47))) 1) (c (q 50 2 (i (l 5) (q 11 (q . 2) (a 6 (c 2 (c 9 ()))) (a 6 (c 2 (c 13 ())))) (q 11 (q . 1) 5)) 1) 1)) (c (q . 0x93c8a14b74d0cfe62cf451200eb42f3f2fe5c581f5153d308b10c43f40fba9d49a812204e0f970b2f83e23c59eb22e09) 1))\n",
      "\n",
      "(a (q 2 (i 11 (q 2 (i (= 5 (point_add 11 (pubkey_for_exp (sha256 11 (a 6 (c 2 (c 23 ()))))))) (q 2 23 47) (q 8)) 1) (q 4 (c 4 (c 5 (c (a 6 (c 2 (c 23 ()))) ()))) (a 23 47))) 1) (c (q 50 2 (i (l 5) (q 11 (q . 2) (a 6 (c 2 (c 9 ()))) (a 6 (c 2 (c 13 ())))) (q 11 (q . 1) 5)) 1) 1))\n",
      "\n",
      "(0x93c8a14b74d0cfe62cf451200eb42f3f2fe5c581f5153d308b10c43f40fba9d49a812204e0f970b2f83e23c59eb22e09)\n"
     ]
    }
   ],
   "source": [
    "curried_standard_puzzle = curried_args.first()\n",
    "print_program(curried_standard_puzzle)\n",
    "print()\n",
    "result = curried_standard_puzzle.uncurry()\n",
    "standard_puzzle = result[0]\n",
    "print_program(standard_puzzle)\n",
    "print()\n",
    "print_program(result[1])"
   ]
  },
  {
   "cell_type": "markdown",
   "id": "4f43e6c6-f1cf-4c42-92aa-d49493648fc5",
   "metadata": {},
   "source": [
    "`did_inner_puzzle_hash`: `0x3b28694e28afea944de7a5af588685ad7a30887f97cdebf719fc8b368dae85c6`\n",
    "\n",
    "`wallet_address_1`: `txch16dxkyl0vq76kakvnr82n6khpxs89hj8jvgske9r2hauhvj5uv43q9mcaa0`\n",
    "\n",
    "`wallet_ph_1`: `d34d627dec07b56ed99319d53d5ae1340e5bc8f262216c946abf79764a9c6562`"
   ]
  },
  {
   "cell_type": "code",
   "execution_count": 44,
   "id": "6a898fc2-7c66-4b5e-8705-3d66d8bbf096",
   "metadata": {},
   "outputs": [
    {
     "name": "stdout",
     "output_type": "stream",
     "text": [
      "Wallet public key 0: b87af552cf4b079371b7c38f69f15f11f96e913c5a6c7ef09eb82cc0693e86a90e5c98fff952d2b4066be3d9292a8a84\n",
      "Wallet public key 1: 97c6c9f4e251dd874156c2b49344285258e45f9e10797612b90baecef8da69b3fda76f9889ff97a90fc82cc8dfde7f99\n",
      "Wallet public key 2: 8febecc9e2cf0c7c63fe3d024dee1fe44dc92cba8643ad0c3dbb832396a41e1448b16d55f889341bd225894d8ef29e7d\n",
      "Wallet public key 3: b2c81aed4a3d3926784c04b4520b2f4dd31bff899147a7ea246f33741aa70d5fc22e3c53fcf9bed775e90e81f4f7001b\n",
      "Wallet public key 4: 8795eaebf0c8f7755fe71baab1dbc49a47f64131c5980091cea56525e439744d75a4293e89034038a781e280215e61f1\n",
      "Wallet address 0: txch1s705m30vt5cvdd4wex59x8fwcgym6cvd49n6ffrzmm8vlyvycansfvjfp9\n",
      "Wallet address 1: txch16dxkyl0vq76kakvnr82n6khpxs89hj8jvgske9r2hauhvj5uv43q9mcaa0\n",
      "Wallet address 2: txch1zczw8x349yaadzeesmjuxyg4a0mu9clysam90xv267a0gvauz6sswg35x3\n",
      "Wallet address 3: txch19q9pef7caahchaa2ermpkfa4xxdxp6929n2nanx4p35ep2p5408s0jzvgm\n",
      "Wallet address 4: txch1rdueaunf6jaqunz6y0hn332dz78f49exem5hzcf3nd32d7jajads9zce69\n"
     ]
    }
   ],
   "source": [
    "%%bash\n",
    "chia keys derive -f 3855208971 child-key -t wallet -n 5\n",
    "chia keys derive -f 3855208971 wallet-address -n 5"
   ]
  },
  {
   "cell_type": "code",
   "execution_count": 49,
   "id": "7083a994-2c24-4a72-a204-b703a60d249b",
   "metadata": {},
   "outputs": [
    {
     "name": "stdout",
     "output_type": "stream",
     "text": [
      "alice_ph_1:\td34d627dec07b56ed99319d53d5ae1340e5bc8f262216c946abf79764a9c6562\n",
      "alice_addr_1:\ttxch16dxkyl0vq76kakvnr82n6khpxs89hj8jvgske9r2hauhvj5uv43q9mcaa0\n",
      "synthetic_pk:\t93c8a14b74d0cfe62cf451200eb42f3f2fe5c581f5153d308b10c43f40fba9d49a812204e0f970b2f83e23c59eb22e09\n"
     ]
    }
   ],
   "source": [
    "wallet_pk_1 = G1Element.from_bytes(bytes.fromhex(\"97c6c9f4e251dd874156c2b49344285258e45f9e10797612b90baecef8da69b3fda76f9889ff97a90fc82cc8dfde7f99\"))\n",
    "curreied_standard_puzzle = puzzle_for_pk(wallet_pk_1)\n",
    "alice_ph_1 = curreied_standard_puzzle.get_tree_hash()\n",
    "alice_addr_1 = encode_puzzle_hash(alice_ph, \"txch\")\n",
    "print(f\"alice_ph_1:\\t{alice_ph_1}\")\n",
    "print(f\"alice_addr_1:\\t{alice_addr_1}\")\n",
    "\n",
    "synthetic_pk = calculate_synthetic_public_key(wallet_pk_1, DEFAULT_HIDDEN_PUZZLE_HASH)\n",
    "print(f\"synthetic_pk:\\t{synthetic_pk}\")"
   ]
  },
  {
   "cell_type": "markdown",
   "id": "c18af601-a7dc-436a-b9a0-7e5517bcb84c",
   "metadata": {},
   "source": [
    "### Conclusion\n",
    "`did:chia:10hq8mukapz8lml97tgnnsfdv24t9u5mw6pnqfh64kwh6vljykyrsc4m38t` belongs to Alice, because the `synthetic_pk` matches!"
   ]
  }
 ],
 "metadata": {
  "kernelspec": {
   "display_name": "Python 3 (ipykernel)",
   "language": "python",
   "name": "python3"
  },
  "language_info": {
   "codemirror_mode": {
    "name": "ipython",
    "version": 3
   },
   "file_extension": ".py",
   "mimetype": "text/x-python",
   "name": "python",
   "nbconvert_exporter": "python",
   "pygments_lexer": "ipython3",
   "version": "3.10.8"
  }
 },
 "nbformat": 4,
 "nbformat_minor": 5
}
