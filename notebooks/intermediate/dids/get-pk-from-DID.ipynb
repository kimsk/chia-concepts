{
 "cells": [
  {
   "cell_type": "code",
   "execution_count": 1,
   "id": "f742893c-eb7b-4216-8346-2362fb656ade",
   "metadata": {
    "tags": []
   },
   "outputs": [
    {
     "name": "stdout",
     "output_type": "stream",
     "text": [
      "1.6.2.dev130\n",
      "cdv, version 1.1.3\n",
      "Python 3.10.8\n"
     ]
    }
   ],
   "source": [
    "%%bash\n",
    "chia version\n",
    "cdv --version\n",
    "python --version"
   ]
  },
  {
   "cell_type": "code",
   "execution_count": 2,
   "id": "e26b993a-0f22-4796-bf30-34719eae7997",
   "metadata": {},
   "outputs": [
    {
     "name": "stdout",
     "output_type": "stream",
     "text": [
      "7dc07df2dd088ffdfcbe5a273825ac55565e536ed06604df55b3afa67e44b107\n"
     ]
    }
   ],
   "source": [
    "# did is the encoded launcher_id\n",
    "did = \"did:chia:10hq8mukapz8lml97tgnnsfdv24t9u5mw6pnqfh64kwh6vljykyrsc4m38t\"\n",
    "launcher_id = decode_puzzle_hash(did)\n",
    "print(launcher_id)"
   ]
  },
  {
   "cell_type": "code",
   "execution_count": 3,
   "id": "4da63f28-5eb1-49b9-b90d-e9e89c7d6507",
   "metadata": {},
   "outputs": [
    {
     "name": "stdout",
     "output_type": "stream",
     "text": [
      "Current DID Coin Record:\n",
      "{'coin': {'amount': 1,\n",
      "          'parent_coin_info': '0x8ef7c734bcc2789cc13d7766423733308a92f5a649476829694d646a34d13776',\n",
      "          'puzzle_hash': '0x378a6be25d8afa17e119da04a7327c80112396999b7d545fd32cc0cc8e36f64f'},\n",
      " 'coinbase': False,\n",
      " 'confirmed_block_index': 7,\n",
      " 'spent_block_index': 0,\n",
      " 'timestamp': 1667881000}\n"
     ]
    }
   ],
   "source": [
    "full_node_client = await get_full_node_client()\n",
    "\n",
    "get_coin_records_by_parent_ids = full_node_client.get_coin_records_by_parent_ids\n",
    "\n",
    "current_did_singleton_cr = await singleton_utils.get_last_singleton_coin_record(get_coin_records_by_parent_ids, launcher_id)\n",
    "print(\"Current DID Coin Record:\")\n",
    "print(current_did_singleton_cr)\n",
    "\n",
    "parent_coin_info = current_did_singleton_cr.coin.parent_coin_info\n",
    "spent_height = current_did_singleton_cr.confirmed_block_index\n",
    "\n",
    "puzzle_solution = await full_node_client.get_puzzle_and_solution(parent_coin_info, spent_height)\n",
    "puzzle = puzzle_solution.puzzle_reveal.to_program()\n",
    "\n",
    "\n",
    "await close_rpc_client(full_node_client)\n"
   ]
  },
  {
   "cell_type": "code",
   "execution_count": 4,
   "id": "98d80154-5b23-4a1b-9498-e2aca746481b",
   "metadata": {},
   "outputs": [
    {
     "name": "stdout",
     "output_type": "stream",
     "text": [
      "DID Inner Puzzle:\n",
      "(a (q 2 (q 2 (i -65 (q 2 5 383) (q 2 (i (all (= (a 126 (c 2 (c 6143 ()))) 11) (> 23 ())) (q 4 (c 40 (c 383 ())) (c (c 52 (c 767 (c 383 (c (c 767 ()) ())))) (c (c 56 (c 12287 ())) (a 38 (c 2 (c 47 (c 23 (c 6143 (c 12287 (c 767 (c 1535 (c 3071 (q ()))))))))))))) (q 8)) 1)) 1) (c (q (((49 . 61) 73 . 70) (a . 51) 60 . 4) ((q . 1) 2 2 (i 5 (q 2 58 (c 2 (c 13 (c (sha256 42 (sha256 34 60) (sha256 42 (sha256 42 (sha256 34 50) 9) (sha256 42 11 (sha256 34 ())))) ())))) (q . 11)) 1) ((a (i 23 (q 2 (i 319 (q 4 (c 48 (c (sha256 (sha256 (a 54 (c 2 (c 5 (c 39 (c 575 (c 1343 (c 2879 ()))))))) (a 126 (c 2 (c (a 46 (c 2 (c 47 (c 95 (c 383 ()))))) ())))) 47) ())) (a 38 (c 2 (c 5 (c 11 (c 55 (c 47 (c 95 (c 447 (c 383 (c (+ 767 (q . 1)) ()))))))))))) (q 2 38 (c 2 (c 5 (c 55 (c 47 (c 95 (c 447 (c 383 (c 767 ())))))))))) 1) (q 2 (i (> 767 (- 11 (q . 1))) (q 4 (c 32 (c 383 (c 95 ()))) ()) (q 8)) 1)) 1) 11 23 (a 94 (c 2 (c 9 (c 47 (c (a 126 (c 2 (c (c 9 (c 11 29)) ()))) ()))))) 95) (c (q . 1) (c (c 44 (c 5 ())) (c (c 32 (c 23 (c 11 ()))) ()))) (sha256 42 (sha256 34 36) (sha256 42 (sha256 42 (sha256 34 50) 5) (sha256 42 (a 58 (c 2 (c 7 (c (sha256 34 34) ())))) (sha256 34 ())))) 2 (i (l 5) (q 11 (q . 2) (a 126 (c 2 (c 9 ()))) (a 126 (c 2 (c 13 ())))) (q 11 (q . 1) 5)) 1) 1)) (c (q 2 (q 2 (q 2 (i 11 (q 2 (i (= 5 (point_add 11 (pubkey_for_exp (sha256 11 (a 6 (c 2 (c 23 ()))))))) (q 2 23 47) (q 8)) 1) (q 4 (c 4 (c 5 (c (a 6 (c 2 (c 23 ()))) ()))) (a 23 47))) 1) (c (q 50 2 (i (l 5) (q 11 (q . 2) (a 6 (c 2 (c 9 ()))) (a 6 (c 2 (c 13 ())))) (q 11 (q . 1) 5)) 1) 1)) (c (q . 0x93c8a14b74d0cfe62cf451200eb42f3f2fe5c581f5153d308b10c43f40fba9d49a812204e0f970b2f83e23c59eb22e09) 1)) (c (q . 0x4bf5122f344554c53bde2ebb8cd2b7e3d1600ad631c385a5d7cce23c7785459a) (c (q) (c (q 0x7faa3253bfddd1e0decb0906b2dc6247bbc4cf608f58345d173adb63e8b47c9f 0x7dc07df2dd088ffdfcbe5a273825ac55565e536ed06604df55b3afa67e44b107 . 0xeff07522495060c066f66f32acc2a77e3a3e737aca8baea4d1a64ea4cdc13da9) (c (q) 1))))))\n",
      "\n",
      "Synthetic PK:\n",
      "93c8a14b74d0cfe62cf451200eb42f3f2fe5c581f5153d308b10c43f40fba9d49a812204e0f970b2f83e23c59eb22e09\n"
     ]
    }
   ],
   "source": [
    "curried_singleton_args = puzzle.uncurry()[1]\n",
    "\n",
    "print(\"DID Inner Puzzle:\")\n",
    "did_inner_puzzle = curried_singleton_args.rest().first()\n",
    "print_program(did_inner_puzzle)\n",
    "\n",
    "print(\"\\nSynthetic PK:\")\n",
    "curried_did_inner_args = did_inner_puzzle.uncurry()[1]\n",
    "synthetic_pk = G1Element.from_bytes(hexstr_to_bytes(disassemble(curried_did_inner_args.at(\"frrfrfr\"))))\n",
    "print(synthetic_pk)"
   ]
  },
  {
   "cell_type": "code",
   "execution_count": null,
   "id": "72aba596-4ea0-4944-9f40-925ed907a6f9",
   "metadata": {},
   "outputs": [],
   "source": [
    "alice_fp = 3855208971\n",
    "wallet_client = await get_synced_wallet_client(alice_fp)\n",
    "\n",
    "message = \"This is Alice's DID\"\n",
    "print(f\"message:\\n{message}\")\n",
    "message_bytes = bytes(message, \"utf-8\")\n",
    "\n",
    "synthetic_sk = await wallet_utils.synthetic_pk_to_sk(wallet_client, alice_fp, synthetic_pk, 10)\n",
    "await close_rpc_client(wallet_client)\n",
    "\n",
    "print(f\"\\nsynthetic pk:\\n{bytes(synthetic_pk).hex()}\")\n",
    "print(f\"\\nsynthetic sk:\\n{bytes(synthetic_sk).hex()}\")\n",
    "\n",
    "signature = AugSchemeMPL.sign(synthetic_sk, message_bytes)\n",
    "print(f\"\\nsignature:\\n{signature}\")\n",
    "print(message_bytes.hex())\n",
    "\n",
    "assert AugSchemeMPL.verify(\n",
    "    synthetic_pk,\n",
    "    message_bytes,\n",
    "    signature\n",
    ")\n"
   ]
  }
 ],
 "metadata": {
  "kernelspec": {
   "display_name": "Python 3 (ipykernel)",
   "language": "python",
   "name": "python3"
  },
  "language_info": {
   "codemirror_mode": {
    "name": "ipython",
    "version": 3
   },
   "file_extension": ".py",
   "mimetype": "text/x-python",
   "name": "python",
   "nbconvert_exporter": "python",
   "pygments_lexer": "ipython3",
   "version": "3.10.8"
  }
 },
 "nbformat": 4,
 "nbformat_minor": 5
}
