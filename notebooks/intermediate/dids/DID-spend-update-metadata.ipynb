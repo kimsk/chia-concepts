{
 "cells": [
  {
   "cell_type": "markdown",
   "id": "8baf100d-2bfa-4f6f-aaae-5e062ee1d93b",
   "metadata": {},
   "source": [
    "## 6th Block\n",
    "\n",
    "\n",
    "```sh\n",
    "❯ chia wallet did get_did -f $alice_fp -i 2\n",
    "DID:                    did:chia:10hq8mukapz8lml97tgnnsfdv24t9u5mw6pnqfh64kwh6vljykyrsc4m38t\n",
    "Coin ID:                0x8ef7c734bcc2789cc13d7766423733308a92f5a649476829694d646a34d13776\n",
    "```\n",
    "\n",
    "```sh\n",
    "❯ chia rpc wallet did_get_metadata '{\"wallet_id\": 2}'\n",
    "{\n",
    "    \"metadata\": {},\n",
    "    \"success\": true,\n",
    "    \"wallet_id\": 2\n",
    "}\n",
    "```\n",
    "\n",
    "```sh\n",
    "❯ chia rpc wallet did_update_metadata '{\"wallet_id\": 2, \"metadata\": {\"foo\": \"bar\", \"something\": 5}}'\n",
    "{\n",
    "    \"spend_bundle\": {\n",
    "        \"aggregated_signature\": \"0xb5c52d0c1f472c4945ee284c64fab4f958b143dc67cf4b1d399b7815bb3080ecbb83ea8ea88303a6aed3d3cbd719085e19120fe97cd63d2286a3a64b1a7173b667f4acbf93b4feaadbcfbdb4e6ae998e20860420d86d3b04ee2192ca7d9ffe27\",\n",
    "        \"coin_solutions\": [\n",
    "            {\n",
    "                \"coin\": {\n",
    "                    \"amount\": 1,\n",
    "                    \"parent_coin_info\": \"0x3ea1c0ec5d2be2c8b6d9b70218f8169d33735775d5edbc651316164cab6983c0\",\n",
    "                    \"puzzle_hash\": \"0x4c9257a1982cb878544c7cf400d79c30131e59cdbbc66f74da2cc7a8141408e6\"\n",
    "                },\n",
    "                \"puzzle_reveal\": \"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\",\n",
    "                \"solution\": \"0xffffa07dc07df2dd088ffdfcbe5a273825ac55565e536ed06604df55b3afa67e44b107ffa03b28694e28afea944de7a5af588685ad7a30887f97cdebf719fc8b368dae85c6ff0180ff01ffff01ffff80ffff01ffff33ffa002d24f8cd40ef4fc144100831cb52757c0a2b009b23e3b00d64c26cff028f5a6ff01ffffa002d24f8cd40ef4fc144100831cb52757c0a2b009b23e3b00d64c26cff028f5a68080ffff3cffa08ef7c734bcc2789cc13d7766423733308a92f5a649476829694d646a34d137768080ff80808080\"\n",
    "            }\n",
    "        ]\n",
    "    },\n",
    "    \"success\": true,\n",
    "    \"wallet_id\": 2\n",
    "}\n",
    "```\n",
    "\n",
    "```sh\n",
    "❯ chia rpc wallet did_get_metadata '{\"wallet_id\": 2}'\n",
    "{\n",
    "    \"metadata\": {\n",
    "        \"foo\": \"bar\",\n",
    "        \"something\": 5\n",
    "    },\n",
    "    \"success\": true,\n",
    "    \"wallet_id\": 2\n",
    "}\n",
    "```\n",
    "\n",
    "```sh\n",
    "❯ chia rpc wallet did_get_did '{\"wallet_id\": 2}'\n",
    "{\n",
    "    \"coin_id\": \"0x7f0a599ceef15c6b8763cbd570bed25f8086b1362f33b61853c68c8b759a11ea\",\n",
    "    \"my_did\": \"did:chia:10hq8mukapz8lml97tgnnsfdv24t9u5mw6pnqfh64kwh6vljykyrsc4m38t\",\n",
    "    \"success\": true,\n",
    "    \"wallet_id\": 2\n",
    "}\n",
    "```"
   ]
  },
  {
   "cell_type": "code",
   "execution_count": 1,
   "id": "3cc1473e-e5dd-47c5-bce0-d57f0a523636",
   "metadata": {},
   "outputs": [],
   "source": [
    "coin_id = bytes.fromhex(\"7f0a599ceef15c6b8763cbd570bed25f8086b1362f33b61853c68c8b759a11ea\")\n",
    "did = \"did:chia:10hq8mukapz8lml97tgnnsfdv24t9u5mw6pnqfh64kwh6vljykyrsc4m38t\"\n",
    "launcher_id = decode_puzzle_hash(did)"
   ]
  },
  {
   "cell_type": "code",
   "execution_count": 16,
   "id": "06e746f7-bc53-4f7c-ad73-f3e5e3088ee2",
   "metadata": {},
   "outputs": [
    {
     "name": "stdout",
     "output_type": "stream",
     "text": [
      "Current DID Coin:\n",
      "{'coin': {'amount': 1,\n",
      "          'parent_coin_info': '0x8ef7c734bcc2789cc13d7766423733308a92f5a649476829694d646a34d13776',\n",
      "          'puzzle_hash': '0x378a6be25d8afa17e119da04a7327c80112396999b7d545fd32cc0cc8e36f64f'},\n",
      " 'coinbase': False,\n",
      " 'confirmed_block_index': 7,\n",
      " 'spent_block_index': 0,\n",
      " 'timestamp': 1667881000}\n",
      "\n",
      "Parent DID Coin:\n",
      "{'coin': {'amount': 1,\n",
      "          'parent_coin_info': '0x3ea1c0ec5d2be2c8b6d9b70218f8169d33735775d5edbc651316164cab6983c0',\n",
      "          'puzzle_hash': '0x4c9257a1982cb878544c7cf400d79c30131e59cdbbc66f74da2cc7a8141408e6'},\n",
      " 'coinbase': False,\n",
      " 'confirmed_block_index': 6,\n",
      " 'spent_block_index': 7,\n",
      " 'timestamp': 1667880284}\n",
      "\n",
      "Parent Puzzle Reveal:\n",
      "(a (q 2 (q 2 (i (logand 47 52) (q 4 (c 32 (c 47 ())) (c (a 62 (c 2 (c 5 (c (a 42 (c 2 (c 39 (c (a (i 119 (q 2 54 (c 2 (c 9 (c 87 (c (a 46 (c 2 (c 5 ()))) ()))))) (q . 29)) 1) (c (a (i 119 (q . -73) (q . 87)) 1) ()))))) (c 119 ()))))) (a 58 (c 2 (c 5 (c (a 11 95) (q ()))))))) (q 8)) 1) (c (q (((73 . 71) 2 . 51) (c . 1) 1 . 2) ((not 2 (i 5 (q 2 50 (c 2 (c 13 (c (sha256 60 (sha256 52 36) (sha256 60 (sha256 60 (sha256 52 44) 9) (sha256 60 11 (sha256 52 ())))) ())))) (q . 11)) 1) (a (i (all (= (strlen 5) 34) (= (strlen 11) 34) (> 23 (q . -1))) (q 11 5 11 23) (q 8)) 1) 2 (i 11 (q 2 (i (a 38 (c 2 (c 19 ()))) (q 2 (i (not 23) (q 2 (i (= -77 (q . -113)) (q 2 58 (c 2 (c 5 (c 27 (c 52 ()))))) (q 4 (c 35 (c (a 54 (c 2 (c 9 (c 83 (c (a 46 (c 2 (c 5 ()))) ()))))) 115)) (a 58 (c 2 (c 5 (c 27 (c 52 ()))))))) 1) (q 8)) 1) (q 4 19 (a 58 (c 2 (c 5 (c 27 (c 23 ()))))))) 1) (q 2 (i 23 () (q 8)) 1)) 1) ((a (i (= 9 56) (q 2 (i (logand 45 (q . 1)) (q 1 . 1) ()) 1) ()) 1) 11 60 (sha256 52 40) (sha256 60 (sha256 60 (sha256 52 44) 5) (sha256 60 (a 50 (c 2 (c 7 (c (sha256 52 52) ())))) (sha256 52 ())))) (a (i (l 5) (q 11 (q . 2) (a 46 (c 2 (c 9 ()))) (a 46 (c 2 (c 13 ())))) (q 11 (q . 1) 5)) 1) 2 (i (any 23 (= 11 21)) (q 4 48 (c 11 ())) (q 8)) 1) 1)) (c (q 0x7faa3253bfddd1e0decb0906b2dc6247bbc4cf608f58345d173adb63e8b47c9f 0x7dc07df2dd088ffdfcbe5a273825ac55565e536ed06604df55b3afa67e44b107 . 0xeff07522495060c066f66f32acc2a77e3a3e737aca8baea4d1a64ea4cdc13da9) (c (q 2 (q 2 (q 2 (i -65 (q 2 5 383) (q 2 (i (all (= (a 126 (c 2 (c 6143 ()))) 11) (> 23 ())) (q 4 (c 40 (c 383 ())) (c (c 52 (c 767 (c 383 (c (c 767 ()) ())))) (c (c 56 (c 12287 ())) (a 38 (c 2 (c 47 (c 23 (c 6143 (c 12287 (c 767 (c 1535 (c 3071 (q ()))))))))))))) (q 8)) 1)) 1) (c (q (((49 . 61) 73 . 70) (a . 51) 60 . 4) ((q . 1) 2 2 (i 5 (q 2 58 (c 2 (c 13 (c (sha256 42 (sha256 34 60) (sha256 42 (sha256 42 (sha256 34 50) 9) (sha256 42 11 (sha256 34 ())))) ())))) (q . 11)) 1) ((a (i 23 (q 2 (i 319 (q 4 (c 48 (c (sha256 (sha256 (a 54 (c 2 (c 5 (c 39 (c 575 (c 1343 (c 2879 ()))))))) (a 126 (c 2 (c (a 46 (c 2 (c 47 (c 95 (c 383 ()))))) ())))) 47) ())) (a 38 (c 2 (c 5 (c 11 (c 55 (c 47 (c 95 (c 447 (c 383 (c (+ 767 (q . 1)) ()))))))))))) (q 2 38 (c 2 (c 5 (c 55 (c 47 (c 95 (c 447 (c 383 (c 767 ())))))))))) 1) (q 2 (i (> 767 (- 11 (q . 1))) (q 4 (c 32 (c 383 (c 95 ()))) ()) (q 8)) 1)) 1) 11 23 (a 94 (c 2 (c 9 (c 47 (c (a 126 (c 2 (c (c 9 (c 11 29)) ()))) ()))))) 95) (c (q . 1) (c (c 44 (c 5 ())) (c (c 32 (c 23 (c 11 ()))) ()))) (sha256 42 (sha256 34 36) (sha256 42 (sha256 42 (sha256 34 50) 5) (sha256 42 (a 58 (c 2 (c 7 (c (sha256 34 34) ())))) (sha256 34 ())))) 2 (i (l 5) (q 11 (q . 2) (a 126 (c 2 (c 9 ()))) (a 126 (c 2 (c 13 ())))) (q 11 (q . 1) 5)) 1) 1)) (c (q 2 (q 2 (q 2 (i 11 (q 2 (i (= 5 (point_add 11 (pubkey_for_exp (sha256 11 (a 6 (c 2 (c 23 ()))))))) (q 2 23 47) (q 8)) 1) (q 4 (c 4 (c 5 (c (a 6 (c 2 (c 23 ()))) ()))) (a 23 47))) 1) (c (q 50 2 (i (l 5) (q 11 (q . 2) (a 6 (c 2 (c 9 ()))) (a 6 (c 2 (c 13 ())))) (q 11 (q . 1) 5)) 1) 1)) (c (q . 0x93c8a14b74d0cfe62cf451200eb42f3f2fe5c581f5153d308b10c43f40fba9d49a812204e0f970b2f83e23c59eb22e09) 1)) (c (q . 0x4bf5122f344554c53bde2ebb8cd2b7e3d1600ad631c385a5d7cce23c7785459a) (c (q) (c (q 0x7faa3253bfddd1e0decb0906b2dc6247bbc4cf608f58345d173adb63e8b47c9f 0x7dc07df2dd088ffdfcbe5a273825ac55565e536ed06604df55b3afa67e44b107 . 0xeff07522495060c066f66f32acc2a77e3a3e737aca8baea4d1a64ea4cdc13da9) (c (q) 1)))))) 1)))\n",
      "\n",
      "Parent Solution:\n",
      "((0x7dc07df2dd088ffdfcbe5a273825ac55565e536ed06604df55b3afa67e44b107 0x3b28694e28afea944de7a5af588685ad7a30887f97cdebf719fc8b368dae85c6 1) 1 (q (() (q (51 0x02d24f8cd40ef4fc144100831cb52757c0a2b009b23e3b00d64c26cff028f5a6 1 (0x02d24f8cd40ef4fc144100831cb52757c0a2b009b23e3b00d64c26cff028f5a6)) (60 0x8ef7c734bcc2789cc13d7766423733308a92f5a649476829694d646a34d13776)) ())))\n"
     ]
    }
   ],
   "source": [
    "full_node_client = await get_full_node_client()\n",
    "coin_record = await full_node_client.get_coin_record_by_name(coin_id)\n",
    "print(\"Current DID Coin:\")\n",
    "print(coin_record)\n",
    "\n",
    "print(\"\\nParent DID Coin:\")\n",
    "print(parent_coin_record)\n",
    "parent_coin_record = await full_node_client.get_coin_record_by_name(coin_record.coin.parent_coin_info)\n",
    "spent_height = parent_coin_record.spent_block_index\n",
    "\n",
    "# get puzzle and solution\n",
    "puzzle_solution = await full_node_client.get_puzzle_and_solution(parent_coin_record.coin.name(), spent_height)\n",
    "\n",
    "print(\"\\nParent Puzzle Reveal:\")\n",
    "puzzle = puzzle_solution.puzzle_reveal.to_program()\n",
    "print_program(puzzle)\n",
    "print(\"\\nParent Solution:\")\n",
    "solution = puzzle_solution.solution.to_program()\n",
    "print_program(solution)\n",
    "\n",
    "await close_rpc_client(full_node_client)\n"
   ]
  },
  {
   "cell_type": "code",
   "execution_count": 10,
   "id": "966ae3e9-dc8f-41a3-b268-f491cffd7070",
   "metadata": {},
   "outputs": [
    {
     "name": "stdout",
     "output_type": "stream",
     "text": [
      "((0x7faa3253bfddd1e0decb0906b2dc6247bbc4cf608f58345d173adb63e8b47c9f 0x7dc07df2dd088ffdfcbe5a273825ac55565e536ed06604df55b3afa67e44b107 . 0xeff07522495060c066f66f32acc2a77e3a3e737aca8baea4d1a64ea4cdc13da9) (a (q 2 (q 2 (i -65 (q 2 5 383) (q 2 (i (all (= (a 126 (c 2 (c 6143 ()))) 11) (> 23 ())) (q 4 (c 40 (c 383 ())) (c (c 52 (c 767 (c 383 (c (c 767 ()) ())))) (c (c 56 (c 12287 ())) (a 38 (c 2 (c 47 (c 23 (c 6143 (c 12287 (c 767 (c 1535 (c 3071 (q ()))))))))))))) (q 8)) 1)) 1) (c (q (((49 . 61) 73 . 70) (a . 51) 60 . 4) ((q . 1) 2 2 (i 5 (q 2 58 (c 2 (c 13 (c (sha256 42 (sha256 34 60) (sha256 42 (sha256 42 (sha256 34 50) 9) (sha256 42 11 (sha256 34 ())))) ())))) (q . 11)) 1) ((a (i 23 (q 2 (i 319 (q 4 (c 48 (c (sha256 (sha256 (a 54 (c 2 (c 5 (c 39 (c 575 (c 1343 (c 2879 ()))))))) (a 126 (c 2 (c (a 46 (c 2 (c 47 (c 95 (c 383 ()))))) ())))) 47) ())) (a 38 (c 2 (c 5 (c 11 (c 55 (c 47 (c 95 (c 447 (c 383 (c (+ 767 (q . 1)) ()))))))))))) (q 2 38 (c 2 (c 5 (c 55 (c 47 (c 95 (c 447 (c 383 (c 767 ())))))))))) 1) (q 2 (i (> 767 (- 11 (q . 1))) (q 4 (c 32 (c 383 (c 95 ()))) ()) (q 8)) 1)) 1) 11 23 (a 94 (c 2 (c 9 (c 47 (c (a 126 (c 2 (c (c 9 (c 11 29)) ()))) ()))))) 95) (c (q . 1) (c (c 44 (c 5 ())) (c (c 32 (c 23 (c 11 ()))) ()))) (sha256 42 (sha256 34 36) (sha256 42 (sha256 42 (sha256 34 50) 5) (sha256 42 (a 58 (c 2 (c 7 (c (sha256 34 34) ())))) (sha256 34 ())))) 2 (i (l 5) (q 11 (q . 2) (a 126 (c 2 (c 9 ()))) (a 126 (c 2 (c 13 ())))) (q 11 (q . 1) 5)) 1) 1)) (c (q 2 (q 2 (q 2 (i 11 (q 2 (i (= 5 (point_add 11 (pubkey_for_exp (sha256 11 (a 6 (c 2 (c 23 ()))))))) (q 2 23 47) (q 8)) 1) (q 4 (c 4 (c 5 (c (a 6 (c 2 (c 23 ()))) ()))) (a 23 47))) 1) (c (q 50 2 (i (l 5) (q 11 (q . 2) (a 6 (c 2 (c 9 ()))) (a 6 (c 2 (c 13 ())))) (q 11 (q . 1) 5)) 1) 1)) (c (q . 0x93c8a14b74d0cfe62cf451200eb42f3f2fe5c581f5153d308b10c43f40fba9d49a812204e0f970b2f83e23c59eb22e09) 1)) (c (q . 0x4bf5122f344554c53bde2ebb8cd2b7e3d1600ad631c385a5d7cce23c7785459a) (c (q) (c (q 0x7faa3253bfddd1e0decb0906b2dc6247bbc4cf608f58345d173adb63e8b47c9f 0x7dc07df2dd088ffdfcbe5a273825ac55565e536ed06604df55b3afa67e44b107 . 0xeff07522495060c066f66f32acc2a77e3a3e737aca8baea4d1a64ea4cdc13da9) (c (q) 1)))))))\n"
     ]
    }
   ],
   "source": [
    "result = puzzle.uncurry()\n",
    "uncurried_puzzle = result[0]\n",
    "curried_args = result[1]\n",
    "print_program(curried_args)"
   ]
  },
  {
   "cell_type": "markdown",
   "id": "0ec67ac7-baf9-4616-9ba2-ab4920a5d1fa",
   "metadata": {},
   "source": [
    "## Result\n",
    "\n",
    "same synthetic_pk: `93c8a14b74d0cfe62cf451200eb42f3f2fe5c581f5153d308b10c43f40fba9d49a812204e0f970b2f83e23c59eb22e09`\n",
    "\n",
    "parent DID ph: `0x4c9257a1982cb878544c7cf400d79c30131e59cdbbc66f74da2cc7a8141408e6`\n",
    "\n",
    "new DID ph (new METADATA): `0x378a6be25d8afa17e119da04a7327c80112396999b7d545fd32cc0cc8e36f64f`"
   ]
  },
  {
   "cell_type": "code",
   "execution_count": 14,
   "id": "0e1529fe-bbb4-4add-8c49-6276e27b2f7e",
   "metadata": {},
   "outputs": [
    {
     "name": "stdout",
     "output_type": "stream",
     "text": [
      "\n",
      "SINGLETON_STRUCT:\n",
      "(0x7faa3253bfddd1e0decb0906b2dc6247bbc4cf608f58345d173adb63e8b47c9f 0x7dc07df2dd088ffdfcbe5a273825ac55565e536ed06604df55b3afa67e44b107 . 0xeff07522495060c066f66f32acc2a77e3a3e737aca8baea4d1a64ea4cdc13da9)\n",
      "\n",
      "DID_INNER_PUZZLE:\n",
      "(a (q 2 (q 2 (i -65 (q 2 5 383) (q 2 (i (all (= (a 126 (c 2 (c 6143 ()))) 11) (> 23 ())) (q 4 (c 40 (c 383 ())) (c (c 52 (c 767 (c 383 (c (c 767 ()) ())))) (c (c 56 (c 12287 ())) (a 38 (c 2 (c 47 (c 23 (c 6143 (c 12287 (c 767 (c 1535 (c 3071 (q ()))))))))))))) (q 8)) 1)) 1) (c (q (((49 . 61) 73 . 70) (a . 51) 60 . 4) ((q . 1) 2 2 (i 5 (q 2 58 (c 2 (c 13 (c (sha256 42 (sha256 34 60) (sha256 42 (sha256 42 (sha256 34 50) 9) (sha256 42 11 (sha256 34 ())))) ())))) (q . 11)) 1) ((a (i 23 (q 2 (i 319 (q 4 (c 48 (c (sha256 (sha256 (a 54 (c 2 (c 5 (c 39 (c 575 (c 1343 (c 2879 ()))))))) (a 126 (c 2 (c (a 46 (c 2 (c 47 (c 95 (c 383 ()))))) ())))) 47) ())) (a 38 (c 2 (c 5 (c 11 (c 55 (c 47 (c 95 (c 447 (c 383 (c (+ 767 (q . 1)) ()))))))))))) (q 2 38 (c 2 (c 5 (c 55 (c 47 (c 95 (c 447 (c 383 (c 767 ())))))))))) 1) (q 2 (i (> 767 (- 11 (q . 1))) (q 4 (c 32 (c 383 (c 95 ()))) ()) (q 8)) 1)) 1) 11 23 (a 94 (c 2 (c 9 (c 47 (c (a 126 (c 2 (c (c 9 (c 11 29)) ()))) ()))))) 95) (c (q . 1) (c (c 44 (c 5 ())) (c (c 32 (c 23 (c 11 ()))) ()))) (sha256 42 (sha256 34 36) (sha256 42 (sha256 42 (sha256 34 50) 5) (sha256 42 (a 58 (c 2 (c 7 (c (sha256 34 34) ())))) (sha256 34 ())))) 2 (i (l 5) (q 11 (q . 2) (a 126 (c 2 (c 9 ()))) (a 126 (c 2 (c 13 ())))) (q 11 (q . 1) 5)) 1) 1)) (c (q 2 (q 2 (q 2 (i 11 (q 2 (i (= 5 (point_add 11 (pubkey_for_exp (sha256 11 (a 6 (c 2 (c 23 ()))))))) (q 2 23 47) (q 8)) 1) (q 4 (c 4 (c 5 (c (a 6 (c 2 (c 23 ()))) ()))) (a 23 47))) 1) (c (q 50 2 (i (l 5) (q 11 (q . 2) (a 6 (c 2 (c 9 ()))) (a 6 (c 2 (c 13 ())))) (q 11 (q . 1) 5)) 1) 1)) (c (q . 0x93c8a14b74d0cfe62cf451200eb42f3f2fe5c581f5153d308b10c43f40fba9d49a812204e0f970b2f83e23c59eb22e09) 1)) (c (q . 0x4bf5122f344554c53bde2ebb8cd2b7e3d1600ad631c385a5d7cce23c7785459a) (c (q) (c (q 0x7faa3253bfddd1e0decb0906b2dc6247bbc4cf608f58345d173adb63e8b47c9f 0x7dc07df2dd088ffdfcbe5a273825ac55565e536ed06604df55b3afa67e44b107 . 0xeff07522495060c066f66f32acc2a77e3a3e737aca8baea4d1a64ea4cdc13da9) (c (q) 1))))))\n",
      "\n",
      "DID_INNER_PUZZLE (uncurried):\n",
      "(a (q 2 (i -65 (q 2 5 383) (q 2 (i (all (= (a 126 (c 2 (c 6143 ()))) 11) (> 23 ())) (q 4 (c 40 (c 383 ())) (c (c 52 (c 767 (c 383 (c (c 767 ()) ())))) (c (c 56 (c 12287 ())) (a 38 (c 2 (c 47 (c 23 (c 6143 (c 12287 (c 767 (c 1535 (c 3071 (q ()))))))))))))) (q 8)) 1)) 1) (c (q (((49 . 61) 73 . 70) (a . 51) 60 . 4) ((q . 1) 2 2 (i 5 (q 2 58 (c 2 (c 13 (c (sha256 42 (sha256 34 60) (sha256 42 (sha256 42 (sha256 34 50) 9) (sha256 42 11 (sha256 34 ())))) ())))) (q . 11)) 1) ((a (i 23 (q 2 (i 319 (q 4 (c 48 (c (sha256 (sha256 (a 54 (c 2 (c 5 (c 39 (c 575 (c 1343 (c 2879 ()))))))) (a 126 (c 2 (c (a 46 (c 2 (c 47 (c 95 (c 383 ()))))) ())))) 47) ())) (a 38 (c 2 (c 5 (c 11 (c 55 (c 47 (c 95 (c 447 (c 383 (c (+ 767 (q . 1)) ()))))))))))) (q 2 38 (c 2 (c 5 (c 55 (c 47 (c 95 (c 447 (c 383 (c 767 ())))))))))) 1) (q 2 (i (> 767 (- 11 (q . 1))) (q 4 (c 32 (c 383 (c 95 ()))) ()) (q 8)) 1)) 1) 11 23 (a 94 (c 2 (c 9 (c 47 (c (a 126 (c 2 (c (c 9 (c 11 29)) ()))) ()))))) 95) (c (q . 1) (c (c 44 (c 5 ())) (c (c 32 (c 23 (c 11 ()))) ()))) (sha256 42 (sha256 34 36) (sha256 42 (sha256 42 (sha256 34 50) 5) (sha256 42 (a 58 (c 2 (c 7 (c (sha256 34 34) ())))) (sha256 34 ())))) 2 (i (l 5) (q 11 (q . 2) (a 126 (c 2 (c 9 ()))) (a 126 (c 2 (c 13 ())))) (q 11 (q . 1) 5)) 1) 1))\n",
      "\n",
      "CURRIED ARGs:\n",
      "((a (q 2 (q 2 (i 11 (q 2 (i (= 5 (point_add 11 (pubkey_for_exp (sha256 11 (a 6 (c 2 (c 23 ()))))))) (q 2 23 47) (q 8)) 1) (q 4 (c 4 (c 5 (c (a 6 (c 2 (c 23 ()))) ()))) (a 23 47))) 1) (c (q 50 2 (i (l 5) (q 11 (q . 2) (a 6 (c 2 (c 9 ()))) (a 6 (c 2 (c 13 ())))) (q 11 (q . 1) 5)) 1) 1)) (c (q . 0x93c8a14b74d0cfe62cf451200eb42f3f2fe5c581f5153d308b10c43f40fba9d49a812204e0f970b2f83e23c59eb22e09) 1)) 0x4bf5122f344554c53bde2ebb8cd2b7e3d1600ad631c385a5d7cce23c7785459a () (0x7faa3253bfddd1e0decb0906b2dc6247bbc4cf608f58345d173adb63e8b47c9f 0x7dc07df2dd088ffdfcbe5a273825ac55565e536ed06604df55b3afa67e44b107 . 0xeff07522495060c066f66f32acc2a77e3a3e737aca8baea4d1a64ea4cdc13da9) ())\n"
     ]
    }
   ],
   "source": [
    "print(\"\\nSINGLETON_STRUCT:\")\n",
    "singleton_struct = curried_args.first()\n",
    "print_program(singleton_struct)\n",
    "\n",
    "print(\"\\nDID_INNER_PUZZLE:\")\n",
    "did_inner_puzzle = curried_args.rest().first()\n",
    "print_program(did_inner_puzzle)\n",
    "\n",
    "print(\"\\nDID_INNER_PUZZLE (uncurried):\")\n",
    "result = did_inner_puzzle.uncurry()\n",
    "uncurried_did_inner_puzzle = result[0]\n",
    "print_program(uncurried_did_inner_puzzle)\n",
    "\n",
    "print(\"\\nCURRIED ARGs:\")\n",
    "curried_did_inner_puzzle_args = result[1]\n",
    "print_program(curried_did_inner_puzzle_args)"
   ]
  },
  {
   "cell_type": "code",
   "execution_count": 17,
   "id": "429b0f39-ad10-4e75-aae2-3ebeb4c2e9c3",
   "metadata": {},
   "outputs": [
    {
     "name": "stdout",
     "output_type": "stream",
     "text": [
      "((0x7dc07df2dd088ffdfcbe5a273825ac55565e536ed06604df55b3afa67e44b107 0x3b28694e28afea944de7a5af588685ad7a30887f97cdebf719fc8b368dae85c6 1) 1 (q (() (q (51 0x02d24f8cd40ef4fc144100831cb52757c0a2b009b23e3b00d64c26cff028f5a6 1 (0x02d24f8cd40ef4fc144100831cb52757c0a2b009b23e3b00d64c26cff028f5a6)) (60 0x8ef7c734bcc2789cc13d7766423733308a92f5a649476829694d646a34d13776)) ())))\n"
     ]
    }
   ],
   "source": [
    "# Singleton Top Layer Solution\n",
    "print_program(solution)"
   ]
  },
  {
   "cell_type": "markdown",
   "id": "6a890d89-1839-4f45-8832-e4b8e15093f9",
   "metadata": {},
   "source": [
    "#### Solution of singlton top layer\n",
    "`lineage_proof my_amount inner_solution`\n",
    "```clojure\n",
    "(\n",
    "    (\n",
    "        0x7dc07df2dd088ffdfcbe5a273825ac55565e536ed06604df55b3afa67e44b107 0x3b28694e28afea944de7a5af588685ad7a30887f97cdebf719fc8b368dae85c6\n",
    "        1\n",
    "    ) ; lineage_proof (parent_parent_id parent_INNER_puzzle_hash parent_amount)\n",
    "     ; (launcher_id parent_did_inner_ph amount)\n",
    "    1 ; my_amount\n",
    "    (\n",
    "        q \n",
    "        (\n",
    "            () \n",
    "            (q \n",
    "                (51 \n",
    "                    0x02d24f8cd40ef4fc144100831cb52757c0a2b009b23e3b00d64c26cff028f5a6 ; did_innerpuz\n",
    "                    1 \n",
    "                    (0x02d24f8cd40ef4fc144100831cb52757c0a2b009b23e3b00d64c26cff028f5a6) ; memo (did_innerpuz)\n",
    "                ) \n",
    "                (60 0x8ef7c734bcc2789cc13d7766423733308a92f5a649476829694d646a34d13776); announce parent_coin_info\n",
    "            ) \n",
    "            ()\n",
    "        )\n",
    "    )\n",
    ")\n",
    "```"
   ]
  },
  {
   "cell_type": "markdown",
   "id": "0d119c66-2702-4cbf-a651-7d40dbb4676b",
   "metadata": {},
   "source": [
    "### Wallet DB\n",
    "```\n",
    "sqlite> select * from users_wallets;\n",
    "1|Chia Wallet|0|\n",
    "2|DID Wallet|8|{...}\n",
    "```\n",
    "\n",
    "```json\n",
    "{\n",
    "    \"origin_coin\": {\n",
    "        \"parent_coin_info\": \"0x389e85e5bc97d408d0aad44e754490fccb047326361697173732e42f8cb6300f\",\n",
    "        \"puzzle_hash\": \"0xeff07522495060c066f66f32acc2a77e3a3e737aca8baea4d1a64ea4cdc13da9\",\n",
    "        \"amount\": 1\n",
    "    },\n",
    "    \"backup_ids\": [],\n",
    "    \"num_of_backup_ids_needed\": 0,\n",
    "    \"parent_info\": [\n",
    "        [\n",
    "            \"0x7dc07df2dd088ffdfcbe5a273825ac55565e536ed06604df55b3afa67e44b107\",\n",
    "            {\n",
    "                \"parent_name\": \"0x389e85e5bc97d408d0aad44e754490fccb047326361697173732e42f8cb6300f\",\n",
    "                \"inner_puzzle_hash\": \"0xeff07522495060c066f66f32acc2a77e3a3e737aca8baea4d1a64ea4cdc13da9\",\n",
    "                \"amount\": 1\n",
    "            }\n",
    "        ],\n",
    "        [\n",
    "            \"0x3ea1c0ec5d2be2c8b6d9b70218f8169d33735775d5edbc651316164cab6983c0\",\n",
    "            {\n",
    "                \"parent_name\": \"0x7dc07df2dd088ffdfcbe5a273825ac55565e536ed06604df55b3afa67e44b107\",\n",
    "                \"inner_puzzle_hash\": \"0x3b28694e28afea944de7a5af588685ad7a30887f97cdebf719fc8b368dae85c6\",\n",
    "                \"amount\": 1\n",
    "            }\n",
    "        ],\n",
    "        [\n",
    "            \"0x8ef7c734bcc2789cc13d7766423733308a92f5a649476829694d646a34d13776\",\n",
    "            {\n",
    "                \"parent_name\": \"0x3ea1c0ec5d2be2c8b6d9b70218f8169d33735775d5edbc651316164cab6983c0\",\n",
    "                \"inner_puzzle_hash\": \"0x3b28694e28afea944de7a5af588685ad7a30887f97cdebf719fc8b368dae85c6\",\n",
    "                \"amount\": 1\n",
    "            }\n",
    "        ],\n",
    "        [\n",
    "            \"0x8ef7c734bcc2789cc13d7766423733308a92f5a649476829694d646a34d13776\",\n",
    "            {\n",
    "                \"parent_name\": \"0x3ea1c0ec5d2be2c8b6d9b70218f8169d33735775d5edbc651316164cab6983c0\",\n",
    "                \"inner_puzzle_hash\": \"0x3b28694e28afea944de7a5af588685ad7a30887f97cdebf719fc8b368dae85c6\",\n",
    "                \"amount\": 1\n",
    "            }\n",
    "        ],\n",
    "        [\n",
    "            \"0x8ef7c734bcc2789cc13d7766423733308a92f5a649476829694d646a34d13776\",\n",
    "            {\n",
    "                \"parent_name\": \"0x3ea1c0ec5d2be2c8b6d9b70218f8169d33735775d5edbc651316164cab6983c0\",\n",
    "                \"inner_puzzle_hash\": \"0x3b28694e28afea944de7a5af588685ad7a30887f97cdebf719fc8b368dae85c6\",\n",
    "                \"amount\": 1\n",
    "            }\n",
    "        ],\n",
    "        [\n",
    "            \"0x7f0a599ceef15c6b8763cbd570bed25f8086b1362f33b61853c68c8b759a11ea\",\n",
    "            {\n",
    "                \"parent_name\": \"0x8ef7c734bcc2789cc13d7766423733308a92f5a649476829694d646a34d13776\",\n",
    "                \"inner_puzzle_hash\": \"0x02d24f8cd40ef4fc144100831cb52757c0a2b009b23e3b00d64c26cff028f5a6\",\n",
    "                \"amount\": 1\n",
    "            }\n",
    "        ],\n",
    "        [\n",
    "            \"0x7f0a599ceef15c6b8763cbd570bed25f8086b1362f33b61853c68c8b759a11ea\",\n",
    "            {\n",
    "                \"parent_name\": \"0x8ef7c734bcc2789cc13d7766423733308a92f5a649476829694d646a34d13776\",\n",
    "                \"inner_puzzle_hash\": \"0x02d24f8cd40ef4fc144100831cb52757c0a2b009b23e3b00d64c26cff028f5a6\",\n",
    "                \"amount\": 1\n",
    "            }\n",
    "        ]\n",
    "    ],\n",
    "    \"current_inner\": \"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\",\n",
    "    \"temp_coin\": null,\n",
    "    \"temp_puzhash\": null,\n",
    "    \"temp_pubkey\": null,\n",
    "    \"sent_recovery_transaction\": false,\n",
    "    \"metadata\": \"{\\\"foo\\\": \\\"bar\\\", \\\"something\\\": 5}\"\n",
    "}\n",
    "```"
   ]
  },
  {
   "cell_type": "markdown",
   "id": "3ce9e00f-9b53-4fd6-8b3e-f171735aef48",
   "metadata": {},
   "source": [
    "```sh\n",
    "❯ opd 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\n",
    "(a (q 2 (q 2 (i -65 (q 2 5 383) (q 2 (i (all (= (a 126 (c 2 (c 6143 ()))) 11) (> 23 ())) (q 4 (c 40 (c 383 ())) (c (c 52 (c 767 (c 383 (c (c 767 ()) ())))) (c (c 56 (c 12287 ())) (a 38 (c 2 (c 47 (c 23 (c 6143 (c 12287 (c 767 (c 1535 (c 3071 (q ()))))))))))))) (q 8)) 1)) 1) (c (q (((49 . 61) 73 . 70) (a . 51) 60 . 4) ((q . 1) 2 2 (i 5 (q 2 58 (c 2 (c 13 (c (sha256 42 (sha256 34 60) (sha256 42 (sha256 42 (sha256 34 50) 9) (sha256 42 11 (sha256 34 ())))) ())))) (q . 11)) 1) ((a (i 23 (q 2 (i 319 (q 4 (c 48 (c (sha256 (sha256 (a 54 (c 2 (c 5 (c 39 (c 575 (c 1343 (c 2879 ()))))))) (a 126 (c 2 (c (a 46 (c 2 (c 47 (c 95 (c 383 ()))))) ())))) 47) ())) (a 38 (c 2 (c 5 (c 11 (c 55 (c 47 (c 95 (c 447 (c 383 (c (+ 767 (q . 1)) ()))))))))))) (q 2 38 (c 2 (c 5 (c 55 (c 47 (c 95 (c 447 (c 383 (c 767 ())))))))))) 1) (q 2 (i (> 767 (- 11 (q . 1))) (q 4 (c 32 (c 383 (c 95 ()))) ()) (q 8)) 1)) 1) 11 23 (a 94 (c 2 (c 9 (c 47 (c (a 126 (c 2 (c (c 9 (c 11 29)) ()))) ()))))) 95) (c (q . 1) (c (c 44 (c 5 ())) (c (c 32 (c 23 (c 11 ()))) ()))) (sha256 42 (sha256 34 36) (sha256 42 (sha256 42 (sha256 34 50) 5) (sha256 42 (a 58 (c 2 (c 7 (c (sha256 34 34) ())))) (sha256 34 ())))) 2 (i (l 5) (q 11 (q . 2) (a 126 (c 2 (c 9 ()))) (a 126 (c 2 (c 13 ())))) (q 11 (q . 1) 5)) 1) 1)) (c (q 2 (q 2 (q 2 (i 11 (q 2 (i (= 5 (point_add 11 (pubkey_for_exp (sha256 11 (a 6 (c 2 (c 23 ()))))))) (q 2 23 47) (q 8)) 1) (q 4 (c 4 (c 5 (c (a 6 (c 2 (c 23 ()))) ()))) (a 23 47))) 1) (c (q 50 2 (i (l 5) (q 11 (q . 2) (a 6 (c 2 (c 9 ()))) (a 6 (c 2 (c 13 ())))) (q 11 (q . 1) 5)) 1) 1)) (c (q . 0xb7bef5a25e9a23ceeb0b2941341635c18b7743cfae85e31681e33019ef74151f9ae877d31c5cd44ac94b366b39045a12) 1)) (c (q . 0x4bf5122f344554c53bde2ebb8cd2b7e3d1600ad631c385a5d7cce23c7785459a) (c (q) (c (q 0x7faa3253bfddd1e0decb0906b2dc6247bbc4cf608f58345d173adb63e8b47c9f 0x7dc07df2dd088ffdfcbe5a273825ac55565e536ed06604df55b3afa67e44b107 . 0xeff07522495060c066f66f32acc2a77e3a3e737aca8baea4d1a64ea4cdc13da9) (c (q (\"foo\" . \"bar\") (\"something\" . 5)) 1))))))\n",
    "```"
   ]
  },
  {
   "cell_type": "code",
   "execution_count": 18,
   "id": "2c69a9e3-905a-42ac-a0b4-088dbe74807f",
   "metadata": {},
   "outputs": [
    {
     "name": "stdout",
     "output_type": "stream",
     "text": [
      "(a (q 2 (q 2 (i -65 (q 2 5 383) (q 2 (i (all (= (a 126 (c 2 (c 6143 ()))) 11) (> 23 ())) (q 4 (c 40 (c 383 ())) (c (c 52 (c 767 (c 383 (c (c 767 ()) ())))) (c (c 56 (c 12287 ())) (a 38 (c 2 (c 47 (c 23 (c 6143 (c 12287 (c 767 (c 1535 (c 3071 (q ()))))))))))))) (q 8)) 1)) 1) (c (q (((49 . 61) 73 . 70) (a . 51) 60 . 4) ((q . 1) 2 2 (i 5 (q 2 58 (c 2 (c 13 (c (sha256 42 (sha256 34 60) (sha256 42 (sha256 42 (sha256 34 50) 9) (sha256 42 11 (sha256 34 ())))) ())))) (q . 11)) 1) ((a (i 23 (q 2 (i 319 (q 4 (c 48 (c (sha256 (sha256 (a 54 (c 2 (c 5 (c 39 (c 575 (c 1343 (c 2879 ()))))))) (a 126 (c 2 (c (a 46 (c 2 (c 47 (c 95 (c 383 ()))))) ())))) 47) ())) (a 38 (c 2 (c 5 (c 11 (c 55 (c 47 (c 95 (c 447 (c 383 (c (+ 767 (q . 1)) ()))))))))))) (q 2 38 (c 2 (c 5 (c 55 (c 47 (c 95 (c 447 (c 383 (c 767 ())))))))))) 1) (q 2 (i (> 767 (- 11 (q . 1))) (q 4 (c 32 (c 383 (c 95 ()))) ()) (q 8)) 1)) 1) 11 23 (a 94 (c 2 (c 9 (c 47 (c (a 126 (c 2 (c (c 9 (c 11 29)) ()))) ()))))) 95) (c (q . 1) (c (c 44 (c 5 ())) (c (c 32 (c 23 (c 11 ()))) ()))) (sha256 42 (sha256 34 36) (sha256 42 (sha256 42 (sha256 34 50) 5) (sha256 42 (a 58 (c 2 (c 7 (c (sha256 34 34) ())))) (sha256 34 ())))) 2 (i (l 5) (q 11 (q . 2) (a 126 (c 2 (c 9 ()))) (a 126 (c 2 (c 13 ())))) (q 11 (q . 1) 5)) 1) 1)) (c (q 2 (q 2 (q 2 (i 11 (q 2 (i (= 5 (point_add 11 (pubkey_for_exp (sha256 11 (a 6 (c 2 (c 23 ()))))))) (q 2 23 47) (q 8)) 1) (q 4 (c 4 (c 5 (c (a 6 (c 2 (c 23 ()))) ()))) (a 23 47))) 1) (c (q 50 2 (i (l 5) (q 11 (q . 2) (a 6 (c 2 (c 9 ()))) (a 6 (c 2 (c 13 ())))) (q 11 (q . 1) 5)) 1) 1)) (c (q . 0xb7bef5a25e9a23ceeb0b2941341635c18b7743cfae85e31681e33019ef74151f9ae877d31c5cd44ac94b366b39045a12) 1)) (c (q . 0x4bf5122f344554c53bde2ebb8cd2b7e3d1600ad631c385a5d7cce23c7785459a) (c (q) (c (q 0x7faa3253bfddd1e0decb0906b2dc6247bbc4cf608f58345d173adb63e8b47c9f 0x7dc07df2dd088ffdfcbe5a273825ac55565e536ed06604df55b3afa67e44b107 . 0xeff07522495060c066f66f32acc2a77e3a3e737aca8baea4d1a64ea4cdc13da9) (c (q (\"foo\" . \"bar\") (\"something\" . 5)) 1))))))\n"
     ]
    }
   ],
   "source": [
    "current_did_inner_puzzle = Program.fromhex(\"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\")\n",
    "print_program(current_did_inner_puzzle)"
   ]
  },
  {
   "cell_type": "code",
   "execution_count": 20,
   "id": "36186679-63b4-458e-a9d5-04c3ca7a3a5e",
   "metadata": {},
   "outputs": [
    {
     "name": "stdout",
     "output_type": "stream",
     "text": [
      "((a (q 2 (q 2 (i 11 (q 2 (i (= 5 (point_add 11 (pubkey_for_exp (sha256 11 (a 6 (c 2 (c 23 ()))))))) (q 2 23 47) (q 8)) 1) (q 4 (c 4 (c 5 (c (a 6 (c 2 (c 23 ()))) ()))) (a 23 47))) 1) (c (q 50 2 (i (l 5) (q 11 (q . 2) (a 6 (c 2 (c 9 ()))) (a 6 (c 2 (c 13 ())))) (q 11 (q . 1) 5)) 1) 1)) (c (q . 0xb7bef5a25e9a23ceeb0b2941341635c18b7743cfae85e31681e33019ef74151f9ae877d31c5cd44ac94b366b39045a12) 1)) 0x4bf5122f344554c53bde2ebb8cd2b7e3d1600ad631c385a5d7cce23c7785459a () (0x7faa3253bfddd1e0decb0906b2dc6247bbc4cf608f58345d173adb63e8b47c9f 0x7dc07df2dd088ffdfcbe5a273825ac55565e536ed06604df55b3afa67e44b107 . 0xeff07522495060c066f66f32acc2a77e3a3e737aca8baea4d1a64ea4cdc13da9) ((\"foo\" . \"bar\") (\"something\" . 5)))\n"
     ]
    }
   ],
   "source": [
    "result = current_did_inner_puzzle.uncurry()\n",
    "print_program(result[1])"
   ]
  }
 ],
 "metadata": {
  "kernelspec": {
   "display_name": "Python 3 (ipykernel)",
   "language": "python",
   "name": "python3"
  },
  "language_info": {
   "codemirror_mode": {
    "name": "ipython",
    "version": 3
   },
   "file_extension": ".py",
   "mimetype": "text/x-python",
   "name": "python",
   "nbconvert_exporter": "python",
   "pygments_lexer": "ipython3",
   "version": "3.10.8"
  }
 },
 "nbformat": 4,
 "nbformat_minor": 5
}
