{
 "cells": [
  {
   "cell_type": "code",
   "execution_count": 1,
   "id": "561634a6-825b-42d7-b946-e4338181b068",
   "metadata": {},
   "outputs": [
    {
     "name": "stdout",
     "output_type": "stream",
     "text": [
      "1.6.1rc3.dev49\n",
      "cdv, version 1.1.2\n",
      "Python 3.10.8\n"
     ]
    }
   ],
   "source": [
    "%%bash\n",
    "chia version\n",
    "cdv --version\n",
    "python --version"
   ]
  },
  {
   "cell_type": "code",
   "execution_count": null,
   "id": "3cf43b20-dfbe-4281-a793-4b14ee47afbb",
   "metadata": {},
   "outputs": [],
   "source": [
    "%%bash\n",
    "CUR_HEIGHT=$(chia rpc full_node get_blockchain_state | jq \".blockchain_state.peak.height\")\n",
    "echo $CUR_HEIGHT\n",
    "echo $((CUR_HEIGHT-4))\n",
    "cdv sim -n announcement revert -fd --blocks $((CUR_HEIGHT-4))"
   ]
  },
  {
   "cell_type": "markdown",
   "id": "4041d60f-7fa3-4f6f-8769-09aebb7c1391",
   "metadata": {},
   "source": [
    "## Run on simulator\n",
    "```sh\n",
    "❯ chia show -s\n",
    "Network: simulator0    Port: 43941   RPC Port: 23058\n",
    "Node ID: 85c082f243d0fc97428c827e62bfa8c48ed1a181a0a3b399bf44f67e508b99e3\n",
    "Genesis Challenge: eb8c4d20b322be8d9fddbf9412016bdffe9a2901d7edb0e364e94266d0e095f7\n",
    "Current Blockchain Status: Full Node Synced\n",
    "\n",
    "Peak: Hash: 93eedac96ec5b56db0dc1938cb088b474b53c9c07229480265150a0132b17408\n",
    "      Time: Sun Oct 30 2022 15:11:05 +07                  Height:          4\n",
    "\n",
    "Estimated network space: 51.785 MiB\n",
    "Current difficulty: 1024\n",
    "Current VDF sub_slot_iters: 1024\n",
    "\n",
    "  Height: |   Hash:\n",
    "        4 | 93eedac96ec5b56db0dc1938cb088b474b53c9c07229480265150a0132b17408\n",
    "        3 | 300661e1d55817018f30d9e36b3f68959e0b89ab0d3981d1667da9aabd6737ba\n",
    "        2 | 21c8b860aef6ba7cf5445b5bc1c60fd43a000f3465a42b41f438d6a047d0149b\n",
    "        1 | 390ac4b8ae997289f4cdee933d870d9d12b529ac83c925a7f5d02eeb25a69a88\n",
    "```"
   ]
  },
  {
   "cell_type": "markdown",
   "id": "5cedd675-4793-4980-a6af-3a8abb8dccb9",
   "metadata": {},
   "source": [
    "## Alice's Coin Announcement"
   ]
  },
  {
   "cell_type": "code",
   "execution_count": null,
   "id": "d8bff6f9-d0af-4f3d-b9c0-6f92bf5c2b1d",
   "metadata": {},
   "outputs": [],
   "source": [
    "%%bash\n",
    "chia keys show --json | jq"
   ]
  },
  {
   "cell_type": "code",
   "execution_count": null,
   "id": "3a3820dc-6213-48e7-92ef-09cd08d0432f",
   "metadata": {},
   "outputs": [],
   "source": [
    "%%bash\n",
    "cdv decode txch1rcr6pusjdvagw53c8hxgsg9m6qxd3s7jdyhusq2c788g7d69xupse7js8m"
   ]
  },
  {
   "cell_type": "code",
   "execution_count": 10,
   "id": "874d03f5-a307-4fb9-8d91-f2037dd4b561",
   "metadata": {},
   "outputs": [],
   "source": [
    "# chia libraries\n",
    "from blspy import (PrivateKey, AugSchemeMPL, G1Element, G2Element)\n",
    "\n",
    "from chia.consensus.default_constants import DEFAULT_CONSTANTS\n",
    "from chia.types.blockchain_format.coin import Coin\n",
    "from chia.types.blockchain_format.program import Program\n",
    "from chia.types.coin_spend import CoinSpend\n",
    "from chia.types.condition_opcodes import ConditionOpcode\n",
    "from chia.types.spend_bundle import SpendBundle\n",
    "from chia.util.hash import std_hash\n",
    "from chia.wallet.puzzles import p2_delegated_puzzle_or_hidden_puzzle\n",
    "\n",
    "from chia.wallet.puzzles.p2_delegated_puzzle_or_hidden_puzzle import (\n",
    "    DEFAULT_HIDDEN_PUZZLE_HASH,\n",
    "    calculate_synthetic_secret_key,\n",
    "    puzzle_for_pk,\n",
    "    puzzle_for_conditions,\n",
    "    solution_for_conditions,\n",
    ")\n",
    "\n",
    "from clvm.casts import int_to_bytes\n",
    "from clvm_tools.clvmc import compile_clvm_text\n",
    "from clvm_tools.binutils import disassemble\n",
    "\n",
    "# utils & tic tac toe helper code\n",
    "import sys\n",
    "sys.path.insert(0, \"../../../shared\")\n",
    "from utils import (load_program, print_program, print_puzzle, print_json, print_push_tx_result)\n"
   ]
  },
  {
   "cell_type": "code",
   "execution_count": 11,
   "id": "ad27e1aa-94da-4952-900b-640cdbce045d",
   "metadata": {},
   "outputs": [],
   "source": [
    "from chia.rpc.full_node_rpc_client import FullNodeRpcClient\n",
    "from chia.util.config import load_config\n",
    "from chia.util.default_root import DEFAULT_ROOT_PATH\n",
    "from chia.util.ints import uint16\n",
    "\n",
    "config = load_config(DEFAULT_ROOT_PATH, \"config.yaml\")\n",
    "selected_network = config[\"selected_network\"]\n",
    "genesis_challenge = config[\"network_overrides\"][\"constants\"][selected_network][\"GENESIS_CHALLENGE\"]\n",
    "\n",
    "self_hostname = config[\"self_hostname\"] # localhost\n",
    "full_node_rpc_port = config[\"full_node\"][\"rpc_port\"] # 8555"
   ]
  },
  {
   "cell_type": "markdown",
   "id": "425a58f6-350c-4e18-af5a-275d6ee9efb2",
   "metadata": {},
   "source": [
    "```sh\n",
    "❯ chia keys derive -f $fp_alice wallet-address -i 0 --show-hd-path\n",
    "Wallet address 0 (m/12381/8444/2/0): txch1rcr6pusjdvagw53c8hxgsg9m6qxd3s7jdyhusq2c788g7d69xupse7js8m\n",
    "\n",
    "❯ cdv decode txch1rcr6pusjdvagw53c8hxgsg9m6qxd3s7jdyhusq2c788g7d69xupse7js8m\n",
    "1e07a0f2126b3a8752383dcc8820bbd00cd8c3d2692fc80158f1ce8f37453703\n",
    "\n",
    "~\n",
    "❯ chia keys derive -f $fp_alice child-key -t wallet -i 0 --show-hd-path -s\n",
    "Wallet public key 0 (m/12381/8444/2/0): b92ff51129c3e792edee9144168902567fa8e595b2196e4a654614ab024d31de42dda7ca243a65b6e11b5664c8f58947\n",
    "Wallet private key 0 (m/12381/8444/2/0): 4088622ebb45d037bb313695e798a803597bdfc3fcd9151cd7fee3fd92feec4e\n",
    "```"
   ]
  },
  {
   "cell_type": "code",
   "execution_count": 16,
   "id": "e72710fd-c040-44ba-aaf9-d47c8ee3fe1e",
   "metadata": {},
   "outputs": [
    {
     "name": "stdout",
     "output_type": "stream",
     "text": [
      "{\n",
      "    \"amount\": 1750000000000,\n",
      "    \"parent_coin_info\": \"0xeb8c4d20b322be8d9fddbf9412016bdf00000000000000000000000000000002\",\n",
      "    \"puzzle_hash\": \"0x1e07a0f2126b3a8752383dcc8820bbd00cd8c3d2692fc80158f1ce8f37453703\"\n",
      "}\n"
     ]
    }
   ],
   "source": [
    "alice_sk = PrivateKey.from_bytes(bytes.fromhex(\"4088622ebb45d037bb313695e798a803597bdfc3fcd9151cd7fee3fd92feec4e\"))\n",
    "alice_pk = alice_sk.get_g1()\n",
    "alice_ph = bytes.fromhex(\"1e07a0f2126b3a8752383dcc8820bbd00cd8c3d2692fc80158f1ce8f37453703\")\n",
    "full_node_client = await FullNodeRpcClient.create(\n",
    "    self_hostname, uint16(full_node_rpc_port), DEFAULT_ROOT_PATH, config\n",
    ")\n",
    "coin_records = await full_node_client.get_coin_records_by_puzzle_hash(alice_ph)\n",
    "full_node_client.close()\n",
    "await full_node_client.await_closed()\n",
    "\n",
    "alice_coin = coin_records[0].coin\n",
    "print_json(alice_coin.to_json_dict())"
   ]
  },
  {
   "cell_type": "code",
   "execution_count": 17,
   "id": "cb999c2f-62e9-44ff-afb5-5e4be89f7181",
   "metadata": {},
   "outputs": [
    {
     "name": "stdout",
     "output_type": "stream",
     "text": [
      "{\n",
      "    \"aggregated_signature\": \"0x89ac850a8b3db3d29bfaaba81a89e36714e8fe07b4bbf937ecb34d3364f1915fdeebe95a36462626afb3ec54f145a0e102fffbdb9a3b002cf6eb9ab5ba685f7e24ba2613de37033969069881193a83dd6b93b5c73d6a87743070428b5a3c7635\",\n",
      "    \"coin_solutions\": [\n",
      "        {\n",
      "            \"coin\": {\n",
      "                \"amount\": 1750000000000,\n",
      "                \"parent_coin_info\": \"0xeb8c4d20b322be8d9fddbf9412016bdf00000000000000000000000000000002\",\n",
      "                \"puzzle_hash\": \"0x1e07a0f2126b3a8752383dcc8820bbd00cd8c3d2692fc80158f1ce8f37453703\"\n",
      "            },\n",
      "            \"puzzle_reveal\": \"0xff02ffff01ff02ffff01ff02ffff03ff0bffff01ff02ffff03ffff09ff05ffff1dff0bffff1effff0bff0bffff02ff06ffff04ff02ffff04ff17ff8080808080808080ffff01ff02ff17ff2f80ffff01ff088080ff0180ffff01ff04ffff04ff04ffff04ff05ffff04ffff02ff06ffff04ff02ffff04ff17ff80808080ff80808080ffff02ff17ff2f808080ff0180ffff04ffff01ff32ff02ffff03ffff07ff0580ffff01ff0bffff0102ffff02ff06ffff04ff02ffff04ff09ff80808080ffff02ff06ffff04ff02ffff04ff0dff8080808080ffff01ff0bffff0101ff058080ff0180ff018080ffff04ffff01b0a984c10ce922adfaaa6c24b977b4e84e3d3ebd2533c7a22be3322617c11568c291fbe1f3a013967d79621c91fd013a72ff018080\",\n",
      "            \"solution\": \"0xff80ffff01ffff3cffa02cf24dba5fb0a30e26e83b2ac5b9e29e1b161e5c1fa7425e73043362938b982480ffff33ffa01e07a0f2126b3a8752383dcc8820bbd00cd8c3d2692fc80158f1ce8f37453703ff8601977420dc008080ff8080\"\n",
      "        }\n",
      "    ]\n",
      "}\n"
     ]
    }
   ],
   "source": [
    "message = bytes(\"hello\", \"utf-8\")\n",
    "announcement = std_hash(message)\n",
    "alice_conditions = [\n",
    "    [\n",
    "        ConditionOpcode.CREATE_COIN_ANNOUNCEMENT,\n",
    "        announcement\n",
    "    ],\n",
    "\n",
    "    # return\n",
    "    [\n",
    "        ConditionOpcode.CREATE_COIN, \n",
    "        alice_coin.puzzle_hash, \n",
    "        alice_coin.amount\n",
    "    ]\n",
    "]\n",
    "\n",
    "puzzle_reveal = puzzle_for_pk(alice_pk)\n",
    "delegated_puzzle: Program = puzzle_for_conditions(alice_conditions) \n",
    "solution = solution_for_conditions(alice_conditions)\n",
    "\n",
    "alice_coin_spend = CoinSpend(\n",
    "    alice_coin,\n",
    "    puzzle_reveal,\n",
    "    solution\n",
    ")\n",
    "    \n",
    "synthetic_sk: PrivateKey = calculate_synthetic_secret_key(\n",
    "    alice_sk,\n",
    "    DEFAULT_HIDDEN_PUZZLE_HASH\n",
    ")\n",
    "\n",
    "alice_sig = AugSchemeMPL.sign(synthetic_sk,\n",
    "    (\n",
    "        delegated_puzzle.get_tree_hash()\n",
    "        + alice_coin.name()\n",
    "        + DEFAULT_CONSTANTS.AGG_SIG_ME_ADDITIONAL_DATA\n",
    "    )\n",
    ")\n",
    "\n",
    "spend_bundle = SpendBundle(\n",
    "    [alice_coin_spend],\n",
    "    alice_sig\n",
    ")\n",
    "print_json(spend_bundle.to_json_dict())"
   ]
  },
  {
   "cell_type": "markdown",
   "id": "27e647a1-6044-4829-b476-4f6b4585dd21",
   "metadata": {},
   "source": [
    "### Bob's\n",
    "```sh\n",
    "❯ chia keys derive -f $fp_bob wallet-address -i 0 --show-hd-path\n",
    "Wallet address 0 (m/12381/8444/2/0): txch1adsehp8swwmhzrmq0ctucja05070fumzq88hppt972m85aczy9hszmy3s8\n",
    "\n",
    "~\n",
    "❯ cdv decode txch1adsehp8swwmhzrmq0ctucja05070fumzq88hppt972m85aczy9hszmy3s8\n",
    "eb619b84f073b7710f607e17cc4bafa3fcf4f36201cf708565f2b67a7702216f\n",
    "\n",
    "~\n",
    "❯ chia keys derive -f $fp_bob child-key -t wallet -i 0 --show-hd-path -s\n",
    "Wallet public key 0 (m/12381/8444/2/0): 8ee201eda461ccf142cdd3042cc22a2c1efba8bbd13ccb51602dfdf4074f33240c7b0418c209cca51352162d77dab249\n",
    "Wallet private key 0 (m/12381/8444/2/0): 59baf8f28b17d616e5737e700beefae3f5bb2be927708bdd68066c2d992da77b\n",
    "```"
   ]
  },
  {
   "cell_type": "code",
   "execution_count": 13,
   "id": "00eb933c-7422-4c76-a0d2-0109b1004c6c",
   "metadata": {},
   "outputs": [
    {
     "name": "stdout",
     "output_type": "stream",
     "text": [
      "{\n",
      "    \"amount\": 250000000000,\n",
      "    \"parent_coin_info\": \"0xfe9a2901d7edb0e364e94266d0e095f700000000000000000000000000000003\",\n",
      "    \"puzzle_hash\": \"0xeb619b84f073b7710f607e17cc4bafa3fcf4f36201cf708565f2b67a7702216f\"\n",
      "}\n"
     ]
    }
   ],
   "source": [
    "bob_sk = PrivateKey.from_bytes(bytes.fromhex(\"59baf8f28b17d616e5737e700beefae3f5bb2be927708bdd68066c2d992da77b\"))\n",
    "bob_pk = bob_sk.get_g1()\n",
    "bob_ph = bytes.fromhex(\"eb619b84f073b7710f607e17cc4bafa3fcf4f36201cf708565f2b67a7702216f\")\n",
    "full_node_client = await FullNodeRpcClient.create(\n",
    "    self_hostname, uint16(full_node_rpc_port), DEFAULT_ROOT_PATH, config\n",
    ")\n",
    "coin_records = await full_node_client.get_coin_records_by_puzzle_hash(bob_ph)\n",
    "full_node_client.close()\n",
    "await full_node_client.await_closed()\n",
    "\n",
    "bob_coin = coin_records[0].coin\n",
    "print_json(bob_coin.to_json_dict())"
   ]
  },
  {
   "cell_type": "code",
   "execution_count": 14,
   "id": "6008a276-7e5a-4dc4-bc1c-c2f3441316d5",
   "metadata": {},
   "outputs": [
    {
     "name": "stdout",
     "output_type": "stream",
     "text": [
      "{\n",
      "    \"aggregated_signature\": \"0xae373df0c410dc18a76ba9312874243599e6e0b9230bc9b80cc2ba71971cc01b6a489c2f175eeb65957c1297c111ca300e215e46f2a7c60fb09cc508d5fd46f6a879f7830c781e4e880753ef8ad231750c473b793a359f36050f69d23008d015\",\n",
      "    \"coin_solutions\": [\n",
      "        {\n",
      "            \"coin\": {\n",
      "                \"amount\": 250000000000,\n",
      "                \"parent_coin_info\": \"0xfe9a2901d7edb0e364e94266d0e095f700000000000000000000000000000003\",\n",
      "                \"puzzle_hash\": \"0xeb619b84f073b7710f607e17cc4bafa3fcf4f36201cf708565f2b67a7702216f\"\n",
      "            },\n",
      "            \"puzzle_reveal\": \"0xff02ffff01ff02ffff01ff02ffff03ff0bffff01ff02ffff03ffff09ff05ffff1dff0bffff1effff0bff0bffff02ff06ffff04ff02ffff04ff17ff8080808080808080ffff01ff02ff17ff2f80ffff01ff088080ff0180ffff01ff04ffff04ff04ffff04ff05ffff04ffff02ff06ffff04ff02ffff04ff17ff80808080ff80808080ffff02ff17ff2f808080ff0180ffff04ffff01ff32ff02ffff03ffff07ff0580ffff01ff0bffff0102ffff02ff06ffff04ff02ffff04ff09ff80808080ffff02ff06ffff04ff02ffff04ff0dff8080808080ffff01ff0bffff0101ff058080ff0180ff018080ffff04ffff01b08671e0eb602ca034df9bd04aeea8ca9d245756e7bf626c82b16a73789778a16351cbc4bd1fb53ddd5b626072e9f223e1ff018080\",\n",
      "            \"solution\": \"0xff80ffff01ffff3dffa0a051f700affc2f41603a6f4ad1fd79d0e41a2e17bf84f9fa09b5a48b222a187280ffff33ffa0eb619b84f073b7710f607e17cc4bafa3fcf4f36201cf708565f2b67a7702216fff853a352944008080ff8080\"\n",
      "        }\n",
      "    ]\n",
      "}\n"
     ]
    }
   ],
   "source": [
    "bob_conditions = [\n",
    "    [\n",
    "        ConditionOpcode.ASSERT_COIN_ANNOUNCEMENT,\n",
    "        std_hash(alice_coin.name() + announcement)\n",
    "    ],\n",
    "    \n",
    "    # return\n",
    "    [\n",
    "        ConditionOpcode.CREATE_COIN, \n",
    "        bob_coin.puzzle_hash, \n",
    "        bob_coin.amount\n",
    "    ]\n",
    "]\n",
    "\n",
    "puzzle_reveal = puzzle_for_pk(bob_pk)\n",
    "delegated_puzzle: Program = puzzle_for_conditions(bob_conditions) \n",
    "solution = solution_for_conditions(bob_conditions)\n",
    "\n",
    "bob_coin_spend = CoinSpend(\n",
    "    bob_coin,\n",
    "    puzzle_reveal,\n",
    "    solution\n",
    ")\n",
    "    \n",
    "synthetic_sk: PrivateKey = calculate_synthetic_secret_key(\n",
    "    bob_sk,\n",
    "    DEFAULT_HIDDEN_PUZZLE_HASH\n",
    ")\n",
    "\n",
    "bob_sig = AugSchemeMPL.sign(synthetic_sk,\n",
    "    (\n",
    "        delegated_puzzle.get_tree_hash()\n",
    "        + bob_coin.name()\n",
    "        + DEFAULT_CONSTANTS.AGG_SIG_ME_ADDITIONAL_DATA\n",
    "    )\n",
    ")\n",
    "\n",
    "spend_bundle = SpendBundle(\n",
    "    [bob_coin_spend],\n",
    "    bob_sig\n",
    ")\n",
    "print_json(spend_bundle.to_json_dict())"
   ]
  },
  {
   "cell_type": "code",
   "execution_count": 15,
   "id": "48ff3ae7-3d1f-413f-9303-1eea7169c0cd",
   "metadata": {},
   "outputs": [
    {
     "ename": "ValueError",
     "evalue": "{'error': 'Failed to include transaction 9426414b7370e21d802fc33241fbe614a0263b21a3a1603748c7cb3f5107eddc, error ASSERT_ANNOUNCE_CONSUMED_FAILED', 'success': False}",
     "output_type": "error",
     "traceback": [
      "\u001b[0;31m---------------------------------------------------------------------------\u001b[0m",
      "\u001b[0;31mValueError\u001b[0m                                Traceback (most recent call last)",
      "Cell \u001b[0;32mIn [15], line 4\u001b[0m\n\u001b[1;32m      1\u001b[0m full_node_client \u001b[38;5;241m=\u001b[39m \u001b[38;5;28;01mawait\u001b[39;00m FullNodeRpcClient\u001b[38;5;241m.\u001b[39mcreate(\n\u001b[1;32m      2\u001b[0m     self_hostname, uint16(full_node_rpc_port), DEFAULT_ROOT_PATH, config\n\u001b[1;32m      3\u001b[0m )\n\u001b[0;32m----> 4\u001b[0m result \u001b[38;5;241m=\u001b[39m \u001b[38;5;28;01mawait\u001b[39;00m full_node_client\u001b[38;5;241m.\u001b[39mpush_tx(spend_bundle)\n\u001b[1;32m      5\u001b[0m full_node_client\u001b[38;5;241m.\u001b[39mclose()\n\u001b[1;32m      6\u001b[0m \u001b[38;5;28;01mawait\u001b[39;00m full_node_client\u001b[38;5;241m.\u001b[39mawait_closed()\n",
      "File \u001b[0;32m~/chia-network/chia-blockchain/chia/rpc/full_node_rpc_client.py:214\u001b[0m, in \u001b[0;36mFullNodeRpcClient.push_tx\u001b[0;34m(self, spend_bundle)\u001b[0m\n\u001b[1;32m    213\u001b[0m \u001b[38;5;28;01masync\u001b[39;00m \u001b[38;5;28;01mdef\u001b[39;00m \u001b[38;5;21mpush_tx\u001b[39m(\u001b[38;5;28mself\u001b[39m, spend_bundle: SpendBundle):\n\u001b[0;32m--> 214\u001b[0m     \u001b[38;5;28;01mreturn\u001b[39;00m \u001b[38;5;28;01mawait\u001b[39;00m \u001b[38;5;28mself\u001b[39m\u001b[38;5;241m.\u001b[39mfetch(\u001b[38;5;124m\"\u001b[39m\u001b[38;5;124mpush_tx\u001b[39m\u001b[38;5;124m\"\u001b[39m, {\u001b[38;5;124m\"\u001b[39m\u001b[38;5;124mspend_bundle\u001b[39m\u001b[38;5;124m\"\u001b[39m: spend_bundle\u001b[38;5;241m.\u001b[39mto_json_dict()})\n",
      "File \u001b[0;32m~/chia-network/chia-blockchain/chia/rpc/rpc_client.py:49\u001b[0m, in \u001b[0;36mRpcClient.fetch\u001b[0;34m(self, path, request_json)\u001b[0m\n\u001b[1;32m     47\u001b[0m res_json \u001b[38;5;241m=\u001b[39m \u001b[38;5;28;01mawait\u001b[39;00m response\u001b[38;5;241m.\u001b[39mjson()\n\u001b[1;32m     48\u001b[0m \u001b[38;5;28;01mif\u001b[39;00m \u001b[38;5;129;01mnot\u001b[39;00m res_json[\u001b[38;5;124m\"\u001b[39m\u001b[38;5;124msuccess\u001b[39m\u001b[38;5;124m\"\u001b[39m]:\n\u001b[0;32m---> 49\u001b[0m     \u001b[38;5;28;01mraise\u001b[39;00m \u001b[38;5;167;01mValueError\u001b[39;00m(res_json)\n\u001b[1;32m     50\u001b[0m \u001b[38;5;28;01mreturn\u001b[39;00m res_json\n",
      "\u001b[0;31mValueError\u001b[0m: {'error': 'Failed to include transaction 9426414b7370e21d802fc33241fbe614a0263b21a3a1603748c7cb3f5107eddc, error ASSERT_ANNOUNCE_CONSUMED_FAILED', 'success': False}"
     ]
    }
   ],
   "source": [
    "full_node_client = await FullNodeRpcClient.create(\n",
    "    self_hostname, uint16(full_node_rpc_port), DEFAULT_ROOT_PATH, config\n",
    ")\n",
    "result = await full_node_client.push_tx(spend_bundle)\n",
    "full_node_client.close()\n",
    "await full_node_client.await_closed()\n",
    "print(result)"
   ]
  },
  {
   "cell_type": "code",
   "execution_count": null,
   "id": "b081c411-a520-442b-8c79-bc6ae2d5884a",
   "metadata": {},
   "outputs": [],
   "source": []
  }
 ],
 "metadata": {
  "kernelspec": {
   "display_name": "Python 3 (ipykernel)",
   "language": "python",
   "name": "python3"
  },
  "language_info": {
   "codemirror_mode": {
    "name": "ipython",
    "version": 3
   },
   "file_extension": ".py",
   "mimetype": "text/x-python",
   "name": "python",
   "nbconvert_exporter": "python",
   "pygments_lexer": "ipython3",
   "version": "3.10.8"
  }
 },
 "nbformat": 4,
 "nbformat_minor": 5
}
