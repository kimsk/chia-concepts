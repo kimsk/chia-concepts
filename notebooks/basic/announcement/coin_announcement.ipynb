{
 "cells": [
  {
   "cell_type": "code",
   "execution_count": 1,
   "id": "a712de53-53c1-43a4-b79f-505145a4ad7e",
   "metadata": {},
   "outputs": [
    {
     "name": "stdout",
     "output_type": "stream",
     "text": [
      "1.6.1rc3.dev49\n",
      "cdv, version 1.1.2\n",
      "Python 3.10.8\n"
     ]
    }
   ],
   "source": [
    "%%bash\n",
    "chia version\n",
    "cdv --version\n",
    "python --version"
   ]
  },
  {
   "cell_type": "code",
   "execution_count": 2,
   "id": "d05da045-8d3c-4c04-b5e9-c53220626df0",
   "metadata": {},
   "outputs": [],
   "source": [
    "# chia libraries\n",
    "from blspy import (PrivateKey, AugSchemeMPL, G1Element, G2Element)\n",
    "\n",
    "from chia.consensus.default_constants import DEFAULT_CONSTANTS\n",
    "from chia.types.blockchain_format.coin import Coin\n",
    "from chia.types.blockchain_format.program import Program\n",
    "from chia.types.coin_spend import CoinSpend\n",
    "from chia.types.condition_opcodes import ConditionOpcode\n",
    "from chia.types.spend_bundle import SpendBundle\n",
    "from chia.util.hash import std_hash\n",
    "from chia.wallet.puzzles import p2_delegated_puzzle_or_hidden_puzzle\n",
    "\n",
    "from clvm.casts import int_to_bytes\n",
    "from clvm_tools.clvmc import compile_clvm_text\n",
    "from clvm_tools.binutils import disassemble\n",
    "\n",
    "# utils & tic tac toe helper code\n",
    "import sys\n",
    "sys.path.insert(0, \"../../../shared\")\n",
    "from utils import (load_program, print_program, print_puzzle, print_json, print_push_tx_result)\n"
   ]
  },
  {
   "cell_type": "markdown",
   "id": "42a18a23-8770-483e-943a-242b167d5c11",
   "metadata": {},
   "source": [
    "## Coin Announcement"
   ]
  },
  {
   "cell_type": "markdown",
   "id": "a83199e0-f5bc-4bfd-ab31-55b83a9a1083",
   "metadata": {},
   "source": [
    "#### `CREATE_COIN_ANNOUNCEMENT`\t\n",
    "`(60 message)`\tCreates a block announcement specific to this coin.\n",
    "\n",
    "#### `ASSERT_COIN_ANNOUNCEMENT`\t\n",
    "`(61 announcement_id)`\tRequires a coin specific block announcement by its id.\n",
    "\n",
    "`announcement_id == sha256(coinID + message)`"
   ]
  },
  {
   "cell_type": "code",
   "execution_count": 3,
   "id": "6d67a6be-d8df-4f9d-b28c-a5fd7b841b85",
   "metadata": {},
   "outputs": [
    {
     "name": "stdout",
     "output_type": "stream",
     "text": [
      "(c (c (q . 60) (c 2 ())) ())\n",
      "(c (c (q . 61) (c (sha256 2 5) ())) ())\n"
     ]
    }
   ],
   "source": [
    "announcer_puzzle = Program(\n",
    "    compile_clvm_text(\n",
    "'''\n",
    "(mod (announcement)\n",
    "    (list\n",
    "        (list 60 announcement)\n",
    "    )\n",
    ")\n",
    "''', search_paths=[]\n",
    "    )\n",
    ")\n",
    "\n",
    "asserter_puzzle = Program(\n",
    "    compile_clvm_text(\n",
    "'''\n",
    "(mod (announcer_coin_id announcement)\n",
    "    (list\n",
    "        (list 61 (sha256 announcer_coin_id announcement))\n",
    "    )\n",
    ")\n",
    "''', search_paths=[]\n",
    "    )\n",
    ")\n",
    "\n",
    "print_program(announcer_puzzle)\n",
    "print_program(asserter_puzzle)"
   ]
  },
  {
   "cell_type": "code",
   "execution_count": 4,
   "id": "3430bbea-5fe3-4a2e-a523-0b59be6c2b79",
   "metadata": {},
   "outputs": [
    {
     "name": "stdout",
     "output_type": "stream",
     "text": [
      "((60 0x2cf24dba5fb0a30e26e83b2ac5b9e29e1b161e5c1fa7425e73043362938b9824))\n",
      "{\n",
      "    \"coin\": {\n",
      "        \"amount\": 1,\n",
      "        \"parent_coin_info\": \"0xf85122d56db3f043af4ac7882411f7fcedf6177b1a8b9781be5f56a8668fdef1\",\n",
      "        \"puzzle_hash\": \"0xfe2f967d127f57fd68395ad068c99d3e138d129e93dcb0ee69ddcb9fc6982773\"\n",
      "    },\n",
      "    \"puzzle_reveal\": \"0xff04ffff04ffff013cffff04ff02ff808080ff8080\",\n",
      "    \"solution\": \"0xffa02cf24dba5fb0a30e26e83b2ac5b9e29e1b161e5c1fa7425e73043362938b982480\"\n",
      "}\n"
     ]
    }
   ],
   "source": [
    "parent_coin_info = bytes.fromhex(\"f85122d56db3f043af4ac7882411f7fcedf6177b1a8b9781be5f56a8668fdef1\")\n",
    "\n",
    "announcer_coin = Coin(\n",
    "    parent_coin_info,\n",
    "    announcer_puzzle.get_tree_hash(),\n",
    "    1\n",
    ")\n",
    "\n",
    "message = bytes(\"hello\", \"utf-8\")\n",
    "announcement = std_hash(message)\n",
    "solution = Program.to([announcement])\n",
    "\n",
    "result = announcer_puzzle.run(solution)\n",
    "print_program(result)\n",
    "\n",
    "announcer_coin_spend = CoinSpend(\n",
    "    announcer_coin,\n",
    "    announcer_puzzle,\n",
    "    solution\n",
    ")\n",
    "\n",
    "print_json(announcer_coin_spend.to_json_dict())"
   ]
  },
  {
   "cell_type": "code",
   "execution_count": 5,
   "id": "8e1f9cbe-2d2e-4789-aa19-ce9fa574136c",
   "metadata": {},
   "outputs": [
    {
     "name": "stdout",
     "output_type": "stream",
     "text": [
      "((61 0xd2eff3682669e021371cc956264cde255082136e4e3dddd1dbce1e0d9d5467c1))\n",
      "{\n",
      "    \"coin\": {\n",
      "        \"amount\": 1,\n",
      "        \"parent_coin_info\": \"0xf85122d56db3f043af4ac7882411f7fcedf6177b1a8b9781be5f56a8668fdef1\",\n",
      "        \"puzzle_hash\": \"0x42cc0686c5a4491c0e5aa8d687556344f2ac0d7aade8b6932f2c6907f6d529ff\"\n",
      "    },\n",
      "    \"puzzle_reveal\": \"0xff04ffff04ffff013dffff04ffff0bff02ff0580ff808080ff8080\",\n",
      "    \"solution\": \"0xffa00f9229c339e54bc8da0a244c34b370164d14cb63fede6d91d30351b96ad50ad2ffa02cf24dba5fb0a30e26e83b2ac5b9e29e1b161e5c1fa7425e73043362938b982480\"\n",
      "}\n"
     ]
    }
   ],
   "source": [
    "asserter_coin = Coin(\n",
    "    parent_coin_info,\n",
    "    asserter_puzzle.get_tree_hash(),\n",
    "    1\n",
    ")\n",
    "\n",
    "message = bytes(\"hello\", \"utf-8\")\n",
    "announcement = std_hash(message)\n",
    "solution = Program.to([announcer_coin.name(), announcement])\n",
    "\n",
    "result = asserter_puzzle.run(solution)\n",
    "print_program(result)\n",
    "\n",
    "asserter_coin_spend = CoinSpend(\n",
    "    asserter_coin,\n",
    "    asserter_puzzle,\n",
    "    solution\n",
    ")\n",
    "\n",
    "print_json(asserter_coin_spend.to_json_dict())"
   ]
  },
  {
   "cell_type": "markdown",
   "id": "a0d5ceec-05e7-4fcb-be2f-793767dba8f9",
   "metadata": {},
   "source": [
    "### Happy Path"
   ]
  },
  {
   "cell_type": "code",
   "execution_count": 6,
   "id": "184a9633-e117-4cc8-bf33-02aa0fb21ce5",
   "metadata": {},
   "outputs": [
    {
     "name": "stdout",
     "output_type": "stream",
     "text": [
      "{\n",
      "    \"aggregated_signature\": \"0xc00000000000000000000000000000000000000000000000000000000000000000000000000000000000000000000000000000000000000000000000000000000000000000000000000000000000000000000000000000000000000000000000\",\n",
      "    \"coin_solutions\": [\n",
      "        {\n",
      "            \"coin\": {\n",
      "                \"amount\": 1,\n",
      "                \"parent_coin_info\": \"0xf85122d56db3f043af4ac7882411f7fcedf6177b1a8b9781be5f56a8668fdef1\",\n",
      "                \"puzzle_hash\": \"0xfe2f967d127f57fd68395ad068c99d3e138d129e93dcb0ee69ddcb9fc6982773\"\n",
      "            },\n",
      "            \"puzzle_reveal\": \"0xff04ffff04ffff013cffff04ff02ff808080ff8080\",\n",
      "            \"solution\": \"0xffa02cf24dba5fb0a30e26e83b2ac5b9e29e1b161e5c1fa7425e73043362938b982480\"\n",
      "        },\n",
      "        {\n",
      "            \"coin\": {\n",
      "                \"amount\": 1,\n",
      "                \"parent_coin_info\": \"0xf85122d56db3f043af4ac7882411f7fcedf6177b1a8b9781be5f56a8668fdef1\",\n",
      "                \"puzzle_hash\": \"0x42cc0686c5a4491c0e5aa8d687556344f2ac0d7aade8b6932f2c6907f6d529ff\"\n",
      "            },\n",
      "            \"puzzle_reveal\": \"0xff04ffff04ffff013dffff04ffff0bff02ff0580ff808080ff8080\",\n",
      "            \"solution\": \"0xffa00f9229c339e54bc8da0a244c34b370164d14cb63fede6d91d30351b96ad50ad2ffa02cf24dba5fb0a30e26e83b2ac5b9e29e1b161e5c1fa7425e73043362938b982480\"\n",
      "        }\n",
      "    ]\n",
      "}\n"
     ]
    }
   ],
   "source": [
    "spend_bundle = SpendBundle(\n",
    "    [\n",
    "        announcer_coin_spend,\n",
    "        asserter_coin_spend\n",
    "    ],\n",
    "    G2Element()\n",
    ")\n",
    "\n",
    "print_json(spend_bundle.to_json_dict())"
   ]
  },
  {
   "cell_type": "markdown",
   "id": "03695dfb-0d3b-4a59-a067-e24e8298bc34",
   "metadata": {},
   "source": [
    "### Debug Spend Bundle\n",
    "\n",
    "```sh\n",
    "❯ cdv inspect spendbundles $spendbundle -db\n",
    "...\n",
    "brun -y main.sym '(c (c (q . 60) (c 2 ())) ())' '(0x2cf24dba5fb0a30e26e83b2ac5b9e29e1b161e5c1fa7425e73043362938b9824)'\n",
    "\n",
    "((CREATE_COIN_ANNOUNCEMENT 0x2cf24dba5fb0a30e26e83b2ac5b9e29e1b161e5c1fa7425e73043362938b9824))\n",
    "\n",
    "grouped conditions:\n",
    "\n",
    "  (CREATE_COIN_ANNOUNCEMENT 0x2cf24dba5fb0a30e26e83b2ac5b9e29e1b161e5c1fa7425e73043362938b9824)\n",
    "\n",
    "\n",
    "-------\n",
    "consuming coin (0xf85122d56db3f043af4ac7882411f7fcedf6177b1a8b9781be5f56a8668fdef1 0x42cc0686c5a4491c0e5aa8d687556344f2ac0d7aade8b6932f2c6907f6d529ff 1)\n",
    "  with id ee9a9818a8769bd85f55353f4956fd4676c01d39a95ff5f51a31f20e446b7d0d\n",
    "\n",
    "\n",
    "brun -y main.sym '(c (c (q . 61) (c (sha256 2 5) ())) ())' '(0x0f9229c339e54bc8da0a244c34b370164d14cb63fede6d91d30351b96ad50ad2 0x2cf24dba5fb0a30e26e83b2ac5b9e29e1b161e5c1fa7425e73043362938b9824)'\n",
    "\n",
    "((ASSERT_COIN_ANNOUNCEMENT 0xd2eff3682669e021371cc956264cde255082136e4e3dddd1dbce1e0d9d5467c1))\n",
    "\n",
    "grouped conditions:\n",
    "\n",
    "  (ASSERT_COIN_ANNOUNCEMENT 0xd2eff3682669e021371cc956264cde255082136e4e3dddd1dbce1e0d9d5467c1)\n",
    "\n",
    "\n",
    "-------\n",
    "\n",
    "spent coins\n",
    "  (0xf85122d56db3f043af4ac7882411f7fcedf6177b1a8b9781be5f56a8668fdef1 0xfe2f967d127f57fd68395ad068c99d3e138d129e93dcb0ee69ddcb9fc6982773 1)\n",
    "      => spent coin id 0f9229c339e54bc8da0a244c34b370164d14cb63fede6d91d30351b96ad50ad2\n",
    "  (0xf85122d56db3f043af4ac7882411f7fcedf6177b1a8b9781be5f56a8668fdef1 0x42cc0686c5a4491c0e5aa8d687556344f2ac0d7aade8b6932f2c6907f6d529ff 1)\n",
    "      => spent coin id ee9a9818a8769bd85f55353f4956fd4676c01d39a95ff5f51a31f20e446b7d0d\n",
    "\n",
    "created coins\n",
    "created coin announcements\n",
    "  ['0x0f9229c339e54bc8da0a244c34b370164d14cb63fede6d91d30351b96ad50ad2', '0x2cf24dba5fb0a30e26e83b2ac5b9e29e1b161e5c1fa7425e73043362938b9824'] =>\n",
    "      d2eff3682669e021371cc956264cde255082136e4e3dddd1dbce1e0d9d5467c1\n",
    "\n",
    "\n",
    "zero_coin_set = []\n",
    "\n",
    "created  coin announcements = ['d2eff3682669e021371cc956264cde255082136e4e3dddd1dbce1e0d9d5467c1']\n",
    "\n",
    "asserted coin announcements = ['d2eff3682669e021371cc956264cde255082136e4e3dddd1dbce1e0d9d5467c1']\n",
    "\n",
    "symdiff of coin announcements = []\n",
    "\n",
    "\n",
    "================================================================================\n",
    "\n",
    "aggregated signature check pass: True\n",
    "pks: []\n",
    "msgs: []\n",
    "  msg_data: []\n",
    "  coin_ids: []\n",
    "  add_data: []\n",
    "signature: c00000000000000000000000000000000000000000000000000000000000000000000000000000000000000000000000000000000000000000000000000000000000000000000000000000000000000000000000000000000000000000000000\n",
    "None\n",
    "```"
   ]
  },
  {
   "cell_type": "markdown",
   "id": "67d0bdc9-8e43-4f44-be8d-bf58324eadbe",
   "metadata": {},
   "source": [
    "## Run on Simulator"
   ]
  },
  {
   "cell_type": "code",
   "execution_count": 10,
   "id": "ca7fc9df-32b6-45fb-b124-98a048b926c1",
   "metadata": {},
   "outputs": [],
   "source": [
    "from cdv.test import Network, Wallet\n",
    "\n",
    "async def get_network_n_wallets():\n",
    "    network: Network = await Network.create()\n",
    "    await network.farm_block()\n",
    "\n",
    "    alice: Wallet = network.make_wallet(\"alice\")\n",
    "    bob: Wallet = network.make_wallet(\"bob\")\n",
    "    await network.farm_block(farmer=alice)\n",
    "    await network.farm_block(farmer=bob)\n",
    "    return network, alice, bob"
   ]
  },
  {
   "cell_type": "markdown",
   "id": "7fe768a9-01d1-4b7a-8447-ddceb20c6af7",
   "metadata": {},
   "source": [
    "#### One Announcer and One Asserter (OK!)"
   ]
  },
  {
   "cell_type": "code",
   "execution_count": 13,
   "id": "18338e6a-2c07-46cc-b507-f44e5416664f",
   "metadata": {},
   "outputs": [
    {
     "name": "stdout",
     "output_type": "stream",
     "text": [
      "additions:\n",
      "==========\n",
      "Coin { parent_coin_info: 12d7b8c1654f82f2330059abc28e3240e863450706de7fdc518026f393f68bba, puzzle_hash: 4f45877796d7a64e192bcc9f899afeedae391f71af3afd7e15a0792c049d23d3, amount: 1750000000000 }\n",
      "Coin { parent_coin_info: 17ca02c0a209d7e1a3869442ba13ef9468181c4b095b8823aeaf3c27f8e58c34, puzzle_hash: 87908e3f85bf4b55c7e7709915c2ce97a1e6ec1d227e54a04dbfee6862d546a5, amount: 1750000000000 }\n",
      "removals:\n",
      "=========\n",
      "Coin { parent_coin_info: e3b0c44298fc1c149afbf4c8996fb92400000000000000000000000000000001, puzzle_hash: 4f45877796d7a64e192bcc9f899afeedae391f71af3afd7e15a0792c049d23d3, amount: 1750000000000 }\n",
      "Coin { parent_coin_info: e3b0c44298fc1c149afbf4c8996fb92400000000000000000000000000000002, puzzle_hash: 87908e3f85bf4b55c7e7709915c2ce97a1e6ec1d227e54a04dbfee6862d546a5, amount: 1750000000000 }\n"
     ]
    }
   ],
   "source": [
    "network, alice, bob = await get_network_n_wallets()\n",
    "\n",
    "# alice's coin is an announcer\n",
    "alice_coin_wrapper = await alice.choose_coin(1_750_000_000_000)\n",
    "alice_conditions = [\n",
    "    [\n",
    "        ConditionOpcode.CREATE_COIN_ANNOUNCEMENT,\n",
    "        announcement\n",
    "    ],\n",
    "\n",
    "    # return\n",
    "    [\n",
    "        ConditionOpcode.CREATE_COIN, \n",
    "        alice.puzzle_hash, \n",
    "        alice_coin_wrapper.coin.amount\n",
    "    ]\n",
    "]\n",
    "\n",
    "alice_coin_spend, alice_sig = alice_coin_wrapper.create_standard_spend(alice_sk, alice_conditions)\n",
    "\n",
    "# bob's coin is an asserter\n",
    "bob_coin_wrapper = await bob.choose_coin(1_750_000_000_000)\n",
    "bob_conditions = [\n",
    "    [\n",
    "        ConditionOpcode.ASSERT_COIN_ANNOUNCEMENT,\n",
    "        std_hash(alice_coin_wrapper.coin.name() + announcement)\n",
    "    ],\n",
    "    \n",
    "    # return\n",
    "    [\n",
    "        ConditionOpcode.CREATE_COIN, \n",
    "        bob.puzzle_hash, \n",
    "        bob_coin_wrapper.coin.amount\n",
    "    ]\n",
    "]\n",
    "\n",
    "bob_coin_spend, bob_sig = bob_coin_wrapper.create_standard_spend(bob_sk, bob_conditions)\n",
    "spend_bundle = SpendBundle(\n",
    "    [ alice_coin_spend, bob_coin_spend ],\n",
    "    AugSchemeMPL.aggregate([alice_sig, bob_sig])\n",
    ")\n",
    "result = await network.push_tx(spend_bundle)\n",
    "print_push_tx_result(result)"
   ]
  },
  {
   "cell_type": "markdown",
   "id": "1672f5d6-031b-452a-9de4-dabb64ef7f75",
   "metadata": {},
   "source": [
    "#### One Announcer and No Asserter (Ok!)"
   ]
  },
  {
   "cell_type": "code",
   "execution_count": 15,
   "id": "effa3636-6819-4362-af1f-fcac26522a57",
   "metadata": {},
   "outputs": [
    {
     "name": "stdout",
     "output_type": "stream",
     "text": [
      "additions:\n",
      "==========\n",
      "Coin { parent_coin_info: 12d7b8c1654f82f2330059abc28e3240e863450706de7fdc518026f393f68bba, puzzle_hash: 4f45877796d7a64e192bcc9f899afeedae391f71af3afd7e15a0792c049d23d3, amount: 1750000000000 }\n",
      "removals:\n",
      "=========\n",
      "Coin { parent_coin_info: e3b0c44298fc1c149afbf4c8996fb92400000000000000000000000000000001, puzzle_hash: 4f45877796d7a64e192bcc9f899afeedae391f71af3afd7e15a0792c049d23d3, amount: 1750000000000 }\n"
     ]
    }
   ],
   "source": [
    "network, alice, bob = await get_network_n_wallets()\n",
    "\n",
    "# alice's coin is an announcer\n",
    "alice_coin_wrapper = await alice.choose_coin(1_750_000_000_000)\n",
    "alice_conditions = [\n",
    "    [\n",
    "        ConditionOpcode.CREATE_COIN_ANNOUNCEMENT,\n",
    "        announcement\n",
    "    ],\n",
    "\n",
    "    # return\n",
    "    [\n",
    "        ConditionOpcode.CREATE_COIN, \n",
    "        alice.puzzle_hash, \n",
    "        alice_coin_wrapper.coin.amount\n",
    "    ]\n",
    "]\n",
    "\n",
    "alice_coin_spend, alice_sig = alice_coin_wrapper.create_standard_spend(alice_sk, alice_conditions)\n",
    "\n",
    "spend_bundle = SpendBundle(\n",
    "    [ alice_coin_spend ],\n",
    "    AugSchemeMPL.aggregate([alice_sig])\n",
    ")\n",
    "result = await network.push_tx(spend_bundle)\n",
    "#print(result)\n",
    "print_push_tx_result(result)"
   ]
  },
  {
   "cell_type": "markdown",
   "id": "07406907-3c4e-4237-8105-a731f969795f",
   "metadata": {},
   "source": [
    "#### One Asserter and No Announcer (`Err.ASSERT_ANNOUNCE_CONSUMED_FAILED`)"
   ]
  },
  {
   "cell_type": "code",
   "execution_count": 17,
   "id": "9216c167-484f-4fc9-9cc5-ef5743813ebe",
   "metadata": {},
   "outputs": [
    {
     "name": "stdout",
     "output_type": "stream",
     "text": [
      "{'error': 'Err.ASSERT_ANNOUNCE_CONSUMED_FAILED'}\n"
     ]
    }
   ],
   "source": [
    "network, alice, bob = await get_network_n_wallets()\n",
    "\n",
    "# bob's coin is an asserter\n",
    "bob_coin_wrapper = await bob.choose_coin(1_750_000_000_000)\n",
    "bob_conditions = [\n",
    "    [\n",
    "        ConditionOpcode.ASSERT_COIN_ANNOUNCEMENT,\n",
    "        std_hash(alice_coin_wrapper.coin.name() + announcement)\n",
    "    ],\n",
    "    \n",
    "    # return\n",
    "    [\n",
    "        ConditionOpcode.CREATE_COIN, \n",
    "        bob.puzzle_hash, \n",
    "        bob_coin_wrapper.coin.amount\n",
    "    ]\n",
    "]\n",
    "\n",
    "bob_coin_spend, bob_sig = bob_coin_wrapper.create_standard_spend(bob_sk, bob_conditions)\n",
    "spend_bundle = SpendBundle(\n",
    "    [ bob_coin_spend ],\n",
    "    AugSchemeMPL.aggregate([bob_sig])\n",
    ")\n",
    "result = await network.push_tx(spend_bundle)\n",
    "print(result)\n",
    "#print_push_tx_result(result)"
   ]
  },
  {
   "cell_type": "markdown",
   "id": "3938e50a-97b3-47e9-8400-7906e3699748",
   "metadata": {},
   "source": [
    "#### One Announcer and Multiple Asserters (Ok!)"
   ]
  },
  {
   "cell_type": "code",
   "execution_count": 33,
   "id": "f0ffb5c4-8aaf-4d3c-ae3e-bff3909bdfad",
   "metadata": {},
   "outputs": [
    {
     "name": "stdout",
     "output_type": "stream",
     "text": [
      "{\n",
      "    \"aggregated_signature\": \"0xa08ee08f3de3b1615a7a154697043685b5470062336d4b4e12ef958df4d11a103d656e6391c3759bdd8a916a68ea4ee40646a88fb90cc53696b95ae72af3b748e6d1a8f6853e87b2b8ad73c790464bbf42a93f7f491b8a8d7e5b35d90e38c563\",\n",
      "    \"coin_solutions\": [\n",
      "        {\n",
      "            \"coin\": {\n",
      "                \"amount\": 1750000000000,\n",
      "                \"parent_coin_info\": \"0xe3b0c44298fc1c149afbf4c8996fb92400000000000000000000000000000001\",\n",
      "                \"puzzle_hash\": \"0x4f45877796d7a64e192bcc9f899afeedae391f71af3afd7e15a0792c049d23d3\"\n",
      "            },\n",
      "            \"puzzle_reveal\": \"0xff02ffff01ff02ffff01ff02ffff03ff0bffff01ff02ffff03ffff09ff05ffff1dff0bffff1effff0bff0bffff02ff06ffff04ff02ffff04ff17ff8080808080808080ffff01ff02ff17ff2f80ffff01ff088080ff0180ffff01ff04ffff04ff04ffff04ff05ffff04ffff02ff06ffff04ff02ffff04ff17ff80808080ff80808080ffff02ff17ff2f808080ff0180ffff04ffff01ff32ff02ffff03ffff07ff0580ffff01ff0bffff0102ffff02ff06ffff04ff02ffff04ff09ff80808080ffff02ff06ffff04ff02ffff04ff0dff8080808080ffff01ff0bffff0101ff058080ff0180ff018080ffff04ffff01b0a042c855d234578415254b7870b711fb25e8f85beaa4a66bd0673d394c761fa156406c2e3bb375d5b18766d2a12cc918ff018080\",\n",
      "            \"solution\": \"0xff80ffff01ffff3cffa02cf24dba5fb0a30e26e83b2ac5b9e29e1b161e5c1fa7425e73043362938b982480ffff33ffa04f45877796d7a64e192bcc9f899afeedae391f71af3afd7e15a0792c049d23d3ff8601977420dc008080ff8080\"\n",
      "        },\n",
      "        {\n",
      "            \"coin\": {\n",
      "                \"amount\": 1750000000000,\n",
      "                \"parent_coin_info\": \"0xe3b0c44298fc1c149afbf4c8996fb92400000000000000000000000000000002\",\n",
      "                \"puzzle_hash\": \"0x87908e3f85bf4b55c7e7709915c2ce97a1e6ec1d227e54a04dbfee6862d546a5\"\n",
      "            },\n",
      "            \"puzzle_reveal\": \"0xff02ffff01ff02ffff01ff02ffff03ff0bffff01ff02ffff03ffff09ff05ffff1dff0bffff1effff0bff0bffff02ff06ffff04ff02ffff04ff17ff8080808080808080ffff01ff02ff17ff2f80ffff01ff088080ff0180ffff01ff04ffff04ff04ffff04ff05ffff04ffff02ff06ffff04ff02ffff04ff17ff80808080ff80808080ffff02ff17ff2f808080ff0180ffff04ffff01ff32ff02ffff03ffff07ff0580ffff01ff0bffff0102ffff02ff06ffff04ff02ffff04ff09ff80808080ffff02ff06ffff04ff02ffff04ff0dff8080808080ffff01ff0bffff0101ff058080ff0180ff018080ffff04ffff01b0ad23d290a6569d41be4f58704709812f466cc10c5720fee77bf491d0fae2164a6eb57e2c4158879d9e25f18ce515a306ff018080\",\n",
      "            \"solution\": \"0xff80ffff01ffff3dffa0d8dabb7b2e70e971af0cbbcbeab84c4bf978232537bf6e7bd480ab48b9355c4d80ffff33ffa087908e3f85bf4b55c7e7709915c2ce97a1e6ec1d227e54a04dbfee6862d546a5ff8601977420dc008080ff8080\"\n",
      "        },\n",
      "        {\n",
      "            \"coin\": {\n",
      "                \"amount\": 250000000000,\n",
      "                \"parent_coin_info\": \"0x27ae41e4649b934ca495991b7852b85500000000000000000000000000000002\",\n",
      "                \"puzzle_hash\": \"0x87908e3f85bf4b55c7e7709915c2ce97a1e6ec1d227e54a04dbfee6862d546a5\"\n",
      "            },\n",
      "            \"puzzle_reveal\": \"0xff02ffff01ff02ffff01ff02ffff03ff0bffff01ff02ffff03ffff09ff05ffff1dff0bffff1effff0bff0bffff02ff06ffff04ff02ffff04ff17ff8080808080808080ffff01ff02ff17ff2f80ffff01ff088080ff0180ffff01ff04ffff04ff04ffff04ff05ffff04ffff02ff06ffff04ff02ffff04ff17ff80808080ff80808080ffff02ff17ff2f808080ff0180ffff04ffff01ff32ff02ffff03ffff07ff0580ffff01ff0bffff0102ffff02ff06ffff04ff02ffff04ff09ff80808080ffff02ff06ffff04ff02ffff04ff0dff8080808080ffff01ff0bffff0101ff058080ff0180ff018080ffff04ffff01b0ad23d290a6569d41be4f58704709812f466cc10c5720fee77bf491d0fae2164a6eb57e2c4158879d9e25f18ce515a306ff018080\",\n",
      "            \"solution\": \"0xff80ffff01ffff3dffa0d8dabb7b2e70e971af0cbbcbeab84c4bf978232537bf6e7bd480ab48b9355c4d80ffff33ffa087908e3f85bf4b55c7e7709915c2ce97a1e6ec1d227e54a04dbfee6862d546a5ff853a352944008080ff8080\"\n",
      "        }\n",
      "    ]\n",
      "}\n",
      "additions:\n",
      "==========\n",
      "Coin { parent_coin_info: 12d7b8c1654f82f2330059abc28e3240e863450706de7fdc518026f393f68bba, puzzle_hash: 4f45877796d7a64e192bcc9f899afeedae391f71af3afd7e15a0792c049d23d3, amount: 1750000000000 }\n",
      "Coin { parent_coin_info: 17ca02c0a209d7e1a3869442ba13ef9468181c4b095b8823aeaf3c27f8e58c34, puzzle_hash: 87908e3f85bf4b55c7e7709915c2ce97a1e6ec1d227e54a04dbfee6862d546a5, amount: 1750000000000 }\n",
      "Coin { parent_coin_info: df7560b305e3625d6d9a7d6545bea6d5a9322ec4ec8968aac57eecb76392a6e0, puzzle_hash: 87908e3f85bf4b55c7e7709915c2ce97a1e6ec1d227e54a04dbfee6862d546a5, amount: 250000000000 }\n",
      "removals:\n",
      "=========\n",
      "Coin { parent_coin_info: e3b0c44298fc1c149afbf4c8996fb92400000000000000000000000000000001, puzzle_hash: 4f45877796d7a64e192bcc9f899afeedae391f71af3afd7e15a0792c049d23d3, amount: 1750000000000 }\n",
      "Coin { parent_coin_info: e3b0c44298fc1c149afbf4c8996fb92400000000000000000000000000000002, puzzle_hash: 87908e3f85bf4b55c7e7709915c2ce97a1e6ec1d227e54a04dbfee6862d546a5, amount: 1750000000000 }\n",
      "Coin { parent_coin_info: 27ae41e4649b934ca495991b7852b85500000000000000000000000000000002, puzzle_hash: 87908e3f85bf4b55c7e7709915c2ce97a1e6ec1d227e54a04dbfee6862d546a5, amount: 250000000000 }\n"
     ]
    }
   ],
   "source": [
    "network, alice, bob = await get_network_n_wallets()\n",
    "\n",
    "bob_coins = list(bob.usable_coins.values())\n",
    "\n",
    "# alice's coin is an announcer\n",
    "alice_coin_wrapper = await alice.choose_coin(1_750_000_000_000)\n",
    "alice_conditions = [\n",
    "    [\n",
    "        ConditionOpcode.CREATE_COIN_ANNOUNCEMENT,\n",
    "        announcement\n",
    "    ],\n",
    "\n",
    "    # return\n",
    "    [\n",
    "        ConditionOpcode.CREATE_COIN, \n",
    "        alice.puzzle_hash, \n",
    "        alice_coin_wrapper.coin.amount\n",
    "    ]\n",
    "]\n",
    "\n",
    "alice_coin_spend, alice_sig = alice_coin_wrapper.create_standard_spend(alice_sk, alice_conditions)\n",
    "\n",
    "# bob's coin is an asserter\n",
    "bob_coin_wrapper = bob_coins[0]\n",
    "bob_conditions = [\n",
    "    [\n",
    "        ConditionOpcode.ASSERT_COIN_ANNOUNCEMENT,\n",
    "        std_hash(alice_coin_wrapper.coin.name() + announcement)\n",
    "    ],\n",
    "    \n",
    "    # return\n",
    "    [\n",
    "        ConditionOpcode.CREATE_COIN, \n",
    "        bob.puzzle_hash, \n",
    "        bob_coin_wrapper.coin.amount\n",
    "    ]\n",
    "]\n",
    "\n",
    "bob_coin_spend, bob_sig = bob_coin_wrapper.create_standard_spend(bob_sk, bob_conditions)\n",
    "\n",
    "# bob's coin is an asserter\n",
    "bob_coin_wrapper2 = bob_coins[1]\n",
    "bob_conditions2 = [\n",
    "    [\n",
    "        ConditionOpcode.ASSERT_COIN_ANNOUNCEMENT,\n",
    "        std_hash(alice_coin_wrapper.coin.name() + announcement)\n",
    "    ],\n",
    "    \n",
    "    # return\n",
    "    [\n",
    "        ConditionOpcode.CREATE_COIN, \n",
    "        bob.puzzle_hash, \n",
    "        bob_coin_wrapper2.coin.amount\n",
    "    ]\n",
    "]\n",
    "\n",
    "bob_coin_spend2, bob_sig2 = bob_coin_wrapper2.create_standard_spend(bob_sk, bob_conditions2)\n",
    "\n",
    "\n",
    "spend_bundle = SpendBundle(\n",
    "    [ alice_coin_spend, bob_coin_spend, bob_coin_spend2 ],\n",
    "    AugSchemeMPL.aggregate([alice_sig, bob_sig, bob_sig2])\n",
    ")\n",
    "print_json(spend_bundle.to_json_dict())\n",
    "result = await network.push_tx(spend_bundle)\n",
    "#print(result)\n",
    "print_push_tx_result(result)"
   ]
  }
 ],
 "metadata": {
  "kernelspec": {
   "display_name": "Python 3 (ipykernel)",
   "language": "python",
   "name": "python3"
  },
  "language_info": {
   "codemirror_mode": {
    "name": "ipython",
    "version": 3
   },
   "file_extension": ".py",
   "mimetype": "text/x-python",
   "name": "python",
   "nbconvert_exporter": "python",
   "pygments_lexer": "ipython3",
   "version": "3.10.8"
  }
 },
 "nbformat": 4,
 "nbformat_minor": 5
}
