{
 "cells": [
  {
   "cell_type": "code",
   "execution_count": 1,
   "id": "a712de53-53c1-43a4-b79f-505145a4ad7e",
   "metadata": {},
   "outputs": [
    {
     "name": "stdout",
     "output_type": "stream",
     "text": [
      "1.6.1rc3.dev49\n",
      "cdv, version 1.1.2\n",
      "Python 3.10.8\n"
     ]
    }
   ],
   "source": [
    "%%bash\n",
    "chia version\n",
    "cdv --version\n",
    "python --version"
   ]
  },
  {
   "cell_type": "code",
   "execution_count": 2,
   "id": "d05da045-8d3c-4c04-b5e9-c53220626df0",
   "metadata": {},
   "outputs": [],
   "source": [
    "# chia libraries\n",
    "from blspy import (PrivateKey, AugSchemeMPL, G1Element, G2Element)\n",
    "\n",
    "from chia.consensus.default_constants import DEFAULT_CONSTANTS\n",
    "from chia.types.blockchain_format.coin import Coin\n",
    "from chia.types.blockchain_format.program import Program\n",
    "from chia.types.coin_spend import CoinSpend\n",
    "from chia.types.condition_opcodes import ConditionOpcode\n",
    "from chia.types.spend_bundle import SpendBundle\n",
    "from chia.util.hash import std_hash\n",
    "from chia.wallet.puzzles import p2_delegated_puzzle_or_hidden_puzzle\n",
    "\n",
    "from clvm.casts import int_to_bytes\n",
    "from clvm_tools.clvmc import compile_clvm_text\n",
    "from clvm_tools.binutils import disassemble\n",
    "\n",
    "# utils & tic tac toe helper code\n",
    "import sys\n",
    "sys.path.insert(0, \"../../../shared\")\n",
    "from utils import (load_program, print_program, print_puzzle, print_json, print_push_tx_result)\n"
   ]
  },
  {
   "cell_type": "markdown",
   "id": "42a18a23-8770-483e-943a-242b167d5c11",
   "metadata": {},
   "source": [
    "## Coin Announcement"
   ]
  },
  {
   "cell_type": "markdown",
   "id": "a83199e0-f5bc-4bfd-ab31-55b83a9a1083",
   "metadata": {},
   "source": [
    "#### `CREATE_COIN_ANNOUNCEMENT`\t\n",
    "`(60 message)`\tCreates a block announcement specific to this coin.\n",
    "\n",
    "#### `ASSERT_COIN_ANNOUNCEMENT`\t\n",
    "`(61 announcement_id)`\tRequires a coin specific block announcement by its id.\n",
    "\n",
    "`announcement_id == sha256(coinID + message)`"
   ]
  },
  {
   "cell_type": "code",
   "execution_count": 3,
   "id": "6d67a6be-d8df-4f9d-b28c-a5fd7b841b85",
   "metadata": {},
   "outputs": [
    {
     "name": "stdout",
     "output_type": "stream",
     "text": [
      "(c (c (q . 60) (c 2 ())) ())\n",
      "(c (c (q . 61) (c (sha256 2 5) ())) ())\n"
     ]
    }
   ],
   "source": [
    "announcer_puzzle = Program(\n",
    "    compile_clvm_text(\n",
    "'''\n",
    "(mod (announcement)\n",
    "    (list\n",
    "        (list 60 announcement)\n",
    "    )\n",
    ")\n",
    "''', search_paths=[]\n",
    "    )\n",
    ")\n",
    "\n",
    "asserter_puzzle = Program(\n",
    "    compile_clvm_text(\n",
    "'''\n",
    "(mod (announcer_coin_id announcement)\n",
    "    (list\n",
    "        (list 61 (sha256 announcer_coin_id announcement))\n",
    "    )\n",
    ")\n",
    "''', search_paths=[]\n",
    "    )\n",
    ")\n",
    "\n",
    "print_program(announcer_puzzle)\n",
    "print_program(asserter_puzzle)"
   ]
  },
  {
   "cell_type": "code",
   "execution_count": 7,
   "id": "3430bbea-5fe3-4a2e-a523-0b59be6c2b79",
   "metadata": {},
   "outputs": [
    {
     "name": "stdout",
     "output_type": "stream",
     "text": [
      "((60 0x2cf24dba5fb0a30e26e83b2ac5b9e29e1b161e5c1fa7425e73043362938b9824))\n",
      "{\n",
      "    \"coin\": {\n",
      "        \"amount\": 1,\n",
      "        \"parent_coin_info\": \"0xf85122d56db3f043af4ac7882411f7fcedf6177b1a8b9781be5f56a8668fdef1\",\n",
      "        \"puzzle_hash\": \"0xfe2f967d127f57fd68395ad068c99d3e138d129e93dcb0ee69ddcb9fc6982773\"\n",
      "    },\n",
      "    \"puzzle_reveal\": \"0xff04ffff04ffff013cffff04ff02ff808080ff8080\",\n",
      "    \"solution\": \"0xffa02cf24dba5fb0a30e26e83b2ac5b9e29e1b161e5c1fa7425e73043362938b982480\"\n",
      "}\n"
     ]
    }
   ],
   "source": [
    "parent_coin_info = bytes.fromhex(\"f85122d56db3f043af4ac7882411f7fcedf6177b1a8b9781be5f56a8668fdef1\")\n",
    "\n",
    "announcer_coin = Coin(\n",
    "    parent_coin_info,\n",
    "    announcer_puzzle.get_tree_hash(),\n",
    "    1\n",
    ")\n",
    "\n",
    "message = bytes(\"hello\", \"utf-8\")\n",
    "announcement = std_hash(message)\n",
    "solution = Program.to([announcement])\n",
    "\n",
    "result = announcer_puzzle.run(solution)\n",
    "print_program(result)\n",
    "\n",
    "announcer_coin_spend = CoinSpend(\n",
    "    announcer_coin,\n",
    "    announcer_puzzle,\n",
    "    solution\n",
    ")\n",
    "\n",
    "print_json(announcer_coin_spend.to_json_dict())"
   ]
  },
  {
   "cell_type": "code",
   "execution_count": 8,
   "id": "8e1f9cbe-2d2e-4789-aa19-ce9fa574136c",
   "metadata": {},
   "outputs": [
    {
     "name": "stdout",
     "output_type": "stream",
     "text": [
      "((61 0xd2eff3682669e021371cc956264cde255082136e4e3dddd1dbce1e0d9d5467c1))\n",
      "{\n",
      "    \"coin\": {\n",
      "        \"amount\": 1,\n",
      "        \"parent_coin_info\": \"0xf85122d56db3f043af4ac7882411f7fcedf6177b1a8b9781be5f56a8668fdef1\",\n",
      "        \"puzzle_hash\": \"0x42cc0686c5a4491c0e5aa8d687556344f2ac0d7aade8b6932f2c6907f6d529ff\"\n",
      "    },\n",
      "    \"puzzle_reveal\": \"0xff04ffff04ffff013dffff04ffff0bff02ff0580ff808080ff8080\",\n",
      "    \"solution\": \"0xffa00f9229c339e54bc8da0a244c34b370164d14cb63fede6d91d30351b96ad50ad2ffa02cf24dba5fb0a30e26e83b2ac5b9e29e1b161e5c1fa7425e73043362938b982480\"\n",
      "}\n"
     ]
    }
   ],
   "source": [
    "asserter_coin = Coin(\n",
    "    parent_coin_info,\n",
    "    asserter_puzzle.get_tree_hash(),\n",
    "    1\n",
    ")\n",
    "\n",
    "message = bytes(\"hello\", \"utf-8\")\n",
    "announcement = std_hash(message)\n",
    "solution = Program.to([announcer_coin.name(), announcement])\n",
    "\n",
    "result = asserter_puzzle.run(solution)\n",
    "print_program(result)\n",
    "\n",
    "asserter_coin_spend = CoinSpend(\n",
    "    asserter_coin,\n",
    "    asserter_puzzle,\n",
    "    solution\n",
    ")\n",
    "\n",
    "print_json(asserter_coin_spend.to_json_dict())"
   ]
  },
  {
   "cell_type": "code",
   "execution_count": 9,
   "id": "184a9633-e117-4cc8-bf33-02aa0fb21ce5",
   "metadata": {},
   "outputs": [
    {
     "name": "stdout",
     "output_type": "stream",
     "text": [
      "{\n",
      "    \"aggregated_signature\": \"0xc00000000000000000000000000000000000000000000000000000000000000000000000000000000000000000000000000000000000000000000000000000000000000000000000000000000000000000000000000000000000000000000000\",\n",
      "    \"coin_solutions\": [\n",
      "        {\n",
      "            \"coin\": {\n",
      "                \"amount\": 1,\n",
      "                \"parent_coin_info\": \"0xf85122d56db3f043af4ac7882411f7fcedf6177b1a8b9781be5f56a8668fdef1\",\n",
      "                \"puzzle_hash\": \"0xfe2f967d127f57fd68395ad068c99d3e138d129e93dcb0ee69ddcb9fc6982773\"\n",
      "            },\n",
      "            \"puzzle_reveal\": \"0xff04ffff04ffff013cffff04ff02ff808080ff8080\",\n",
      "            \"solution\": \"0xffa02cf24dba5fb0a30e26e83b2ac5b9e29e1b161e5c1fa7425e73043362938b982480\"\n",
      "        },\n",
      "        {\n",
      "            \"coin\": {\n",
      "                \"amount\": 1,\n",
      "                \"parent_coin_info\": \"0xf85122d56db3f043af4ac7882411f7fcedf6177b1a8b9781be5f56a8668fdef1\",\n",
      "                \"puzzle_hash\": \"0x42cc0686c5a4491c0e5aa8d687556344f2ac0d7aade8b6932f2c6907f6d529ff\"\n",
      "            },\n",
      "            \"puzzle_reveal\": \"0xff04ffff04ffff013dffff04ffff0bff02ff0580ff808080ff8080\",\n",
      "            \"solution\": \"0xffa00f9229c339e54bc8da0a244c34b370164d14cb63fede6d91d30351b96ad50ad2ffa02cf24dba5fb0a30e26e83b2ac5b9e29e1b161e5c1fa7425e73043362938b982480\"\n",
      "        }\n",
      "    ]\n",
      "}\n"
     ]
    }
   ],
   "source": [
    "spend_bundle = SpendBundle(\n",
    "    [\n",
    "        announcer_coin_spend,\n",
    "        asserter_coin_spend\n",
    "    ],\n",
    "    G2Element()\n",
    ")\n",
    "\n",
    "print_json(spend_bundle.to_json_dict())"
   ]
  },
  {
   "cell_type": "markdown",
   "id": "03695dfb-0d3b-4a59-a067-e24e8298bc34",
   "metadata": {},
   "source": [
    "### Debug Spend Bundle\n",
    "\n",
    "```sh\n",
    "❯ cdv inspect spendbundles $spendbundle -db\n",
    "...\n",
    "brun -y main.sym '(c (c (q . 60) (c 2 ())) ())' '(0x2cf24dba5fb0a30e26e83b2ac5b9e29e1b161e5c1fa7425e73043362938b9824)'\n",
    "\n",
    "((CREATE_COIN_ANNOUNCEMENT 0x2cf24dba5fb0a30e26e83b2ac5b9e29e1b161e5c1fa7425e73043362938b9824))\n",
    "\n",
    "grouped conditions:\n",
    "\n",
    "  (CREATE_COIN_ANNOUNCEMENT 0x2cf24dba5fb0a30e26e83b2ac5b9e29e1b161e5c1fa7425e73043362938b9824)\n",
    "\n",
    "\n",
    "-------\n",
    "consuming coin (0xf85122d56db3f043af4ac7882411f7fcedf6177b1a8b9781be5f56a8668fdef1 0x42cc0686c5a4491c0e5aa8d687556344f2ac0d7aade8b6932f2c6907f6d529ff 1)\n",
    "  with id ee9a9818a8769bd85f55353f4956fd4676c01d39a95ff5f51a31f20e446b7d0d\n",
    "\n",
    "\n",
    "brun -y main.sym '(c (c (q . 61) (c (sha256 2 5) ())) ())' '(0x0f9229c339e54bc8da0a244c34b370164d14cb63fede6d91d30351b96ad50ad2 0x2cf24dba5fb0a30e26e83b2ac5b9e29e1b161e5c1fa7425e73043362938b9824)'\n",
    "\n",
    "((ASSERT_COIN_ANNOUNCEMENT 0xd2eff3682669e021371cc956264cde255082136e4e3dddd1dbce1e0d9d5467c1))\n",
    "\n",
    "grouped conditions:\n",
    "\n",
    "  (ASSERT_COIN_ANNOUNCEMENT 0xd2eff3682669e021371cc956264cde255082136e4e3dddd1dbce1e0d9d5467c1)\n",
    "\n",
    "\n",
    "-------\n",
    "\n",
    "spent coins\n",
    "  (0xf85122d56db3f043af4ac7882411f7fcedf6177b1a8b9781be5f56a8668fdef1 0xfe2f967d127f57fd68395ad068c99d3e138d129e93dcb0ee69ddcb9fc6982773 1)\n",
    "      => spent coin id 0f9229c339e54bc8da0a244c34b370164d14cb63fede6d91d30351b96ad50ad2\n",
    "  (0xf85122d56db3f043af4ac7882411f7fcedf6177b1a8b9781be5f56a8668fdef1 0x42cc0686c5a4491c0e5aa8d687556344f2ac0d7aade8b6932f2c6907f6d529ff 1)\n",
    "      => spent coin id ee9a9818a8769bd85f55353f4956fd4676c01d39a95ff5f51a31f20e446b7d0d\n",
    "\n",
    "created coins\n",
    "created coin announcements\n",
    "  ['0x0f9229c339e54bc8da0a244c34b370164d14cb63fede6d91d30351b96ad50ad2', '0x2cf24dba5fb0a30e26e83b2ac5b9e29e1b161e5c1fa7425e73043362938b9824'] =>\n",
    "      d2eff3682669e021371cc956264cde255082136e4e3dddd1dbce1e0d9d5467c1\n",
    "\n",
    "\n",
    "zero_coin_set = []\n",
    "\n",
    "created  coin announcements = ['d2eff3682669e021371cc956264cde255082136e4e3dddd1dbce1e0d9d5467c1']\n",
    "\n",
    "asserted coin announcements = ['d2eff3682669e021371cc956264cde255082136e4e3dddd1dbce1e0d9d5467c1']\n",
    "\n",
    "symdiff of coin announcements = []\n",
    "\n",
    "\n",
    "================================================================================\n",
    "\n",
    "aggregated signature check pass: True\n",
    "pks: []\n",
    "msgs: []\n",
    "  msg_data: []\n",
    "  coin_ids: []\n",
    "  add_data: []\n",
    "signature: c00000000000000000000000000000000000000000000000000000000000000000000000000000000000000000000000000000000000000000000000000000000000000000000000000000000000000000000000000000000000000000000000\n",
    "None\n",
    "```"
   ]
  },
  {
   "cell_type": "code",
   "execution_count": null,
   "id": "b5489735-ae76-4e26-a0e2-9ef34c2705bc",
   "metadata": {},
   "outputs": [],
   "source": []
  }
 ],
 "metadata": {
  "kernelspec": {
   "display_name": "Python 3 (ipykernel)",
   "language": "python",
   "name": "python3"
  },
  "language_info": {
   "codemirror_mode": {
    "name": "ipython",
    "version": 3
   },
   "file_extension": ".py",
   "mimetype": "text/x-python",
   "name": "python",
   "nbconvert_exporter": "python",
   "pygments_lexer": "ipython3",
   "version": "3.10.8"
  }
 },
 "nbformat": 4,
 "nbformat_minor": 5
}
