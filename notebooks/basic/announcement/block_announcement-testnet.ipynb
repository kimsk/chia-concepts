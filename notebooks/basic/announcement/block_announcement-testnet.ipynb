{
 "cells": [
  {
   "cell_type": "code",
   "execution_count": 1,
   "id": "92a5ee26-1565-4abf-b36d-e59c5ed1ec9a",
   "metadata": {},
   "outputs": [
    {
     "name": "stdout",
     "output_type": "stream",
     "text": [
      "1.6.1rc3.dev49\n",
      "cdv, version 1.1.2\n",
      "Python 3.10.8\n"
     ]
    }
   ],
   "source": [
    "%%bash\n",
    "chia version\n",
    "cdv --version\n",
    "python --version"
   ]
  },
  {
   "cell_type": "code",
   "execution_count": 2,
   "id": "3e08f41a-e973-437a-9c29-20c0cc32a3d2",
   "metadata": {},
   "outputs": [],
   "source": [
    "# chia libraries\n",
    "from blspy import (PrivateKey, AugSchemeMPL, G1Element, G2Element)\n",
    "\n",
    "from chia.consensus.default_constants import DEFAULT_CONSTANTS\n",
    "from chia.types.blockchain_format.coin import Coin\n",
    "from chia.types.blockchain_format.program import Program\n",
    "from chia.types.coin_spend import CoinSpend\n",
    "from chia.types.condition_opcodes import ConditionOpcode\n",
    "from chia.types.spend_bundle import SpendBundle\n",
    "from chia.util.hash import std_hash\n",
    "from chia.wallet.puzzles import p2_delegated_puzzle_or_hidden_puzzle\n",
    "\n",
    "from chia.wallet.puzzles.p2_delegated_puzzle_or_hidden_puzzle import (\n",
    "    DEFAULT_HIDDEN_PUZZLE_HASH,\n",
    "    calculate_synthetic_secret_key,\n",
    "    puzzle_for_pk,\n",
    "    puzzle_for_conditions,\n",
    "    solution_for_conditions,\n",
    ")\n",
    "\n",
    "from clvm.casts import int_to_bytes\n",
    "from clvm_tools.clvmc import compile_clvm_text\n",
    "from clvm_tools.binutils import disassemble\n",
    "\n",
    "# utils & tic tac toe helper code\n",
    "import sys\n",
    "sys.path.insert(0, \"../../../shared\")\n",
    "from utils import (load_program, print_program, print_puzzle, print_json, print_push_tx_result)\n"
   ]
  },
  {
   "cell_type": "code",
   "execution_count": 3,
   "id": "b8428408-8b43-4dd3-84cc-a814af678376",
   "metadata": {},
   "outputs": [],
   "source": [
    "from chia.rpc.full_node_rpc_client import FullNodeRpcClient\n",
    "from chia.util.config import load_config\n",
    "from chia.util.default_root import DEFAULT_ROOT_PATH\n",
    "from chia.util.ints import uint16\n",
    "\n",
    "config = load_config(DEFAULT_ROOT_PATH, \"config.yaml\")\n",
    "selected_network = config[\"selected_network\"]\n",
    "genesis_challenge = config[\"network_overrides\"][\"constants\"][selected_network][\"GENESIS_CHALLENGE\"]\n",
    "\n",
    "self_hostname = config[\"self_hostname\"] # localhost\n",
    "full_node_rpc_port = config[\"full_node\"][\"rpc_port\"] # 8555\n"
   ]
  },
  {
   "cell_type": "markdown",
   "id": "061246f2-eea9-4cff-b1ef-b042e6c6ba5d",
   "metadata": {},
   "source": [
    "### Alice's\n",
    "```sh\n",
    "❯ chia keys derive -f $alice_fp wallet-address -i 0 --show-hd-path\n",
    "Wallet address 0 (m/12381/8444/2/0): txch1n8s8aralslwl8ae2720rj30nt79qfspdfczxqreacjtyust8q3wsh8zj2d\n",
    "\n",
    "~\n",
    "❯ cdv decode txch1n8s8aralslwl8ae2720rj30nt79qfspdfczxqreacjtyust8q3wsh8zj2d\n",
    "99e07e8fbf87ddf3f72af29e3945f35f8a04c02d4e04600f3dc4964e4167045d\n",
    "\n",
    "~\n",
    "❯ chia keys derive -f $alice_fp child-key -t wallet -i 0 --show-hd-path -s\n",
    "Wallet public key 0 (m/12381/8444/2/0): 920c4790087dcf50e1b0cf565e58900b76743d2dd702c86a448f91acb3e8c0f7d66bf9ad637029bb319b60195b5bef72\n",
    "Wallet private key 0 (m/12381/8444/2/0): 3c779a6deca5bce66a0738b957779d9eb355137041a3c902bee92d6ca3f396a4\n",
    "```"
   ]
  },
  {
   "cell_type": "code",
   "execution_count": 4,
   "id": "5b4e28ba-bf24-413d-87ef-401911c40e69",
   "metadata": {},
   "outputs": [
    {
     "name": "stdout",
     "output_type": "stream",
     "text": [
      "{\n",
      "    \"amount\": 10000000000000,\n",
      "    \"parent_coin_info\": \"0xd3f33700d7aa4515f5226e0283cc8426bee8ca2dfe4589cde5622b7d463cc88a\",\n",
      "    \"puzzle_hash\": \"0x99e07e8fbf87ddf3f72af29e3945f35f8a04c02d4e04600f3dc4964e4167045d\"\n",
      "}\n"
     ]
    }
   ],
   "source": [
    "alice_sk = PrivateKey.from_bytes(bytes.fromhex(\"3c779a6deca5bce66a0738b957779d9eb355137041a3c902bee92d6ca3f396a4\"))\n",
    "alice_pk = alice_sk.get_g1()\n",
    "alice_ph = bytes.fromhex(\"99e07e8fbf87ddf3f72af29e3945f35f8a04c02d4e04600f3dc4964e4167045d\")\n",
    "full_node_client = await FullNodeRpcClient.create(\n",
    "    self_hostname, uint16(full_node_rpc_port), DEFAULT_ROOT_PATH, config\n",
    ")\n",
    "coin_records = await full_node_client.get_coin_records_by_puzzle_hash(alice_ph, include_spent_coins = False)\n",
    "full_node_client.close()\n",
    "await full_node_client.await_closed()\n",
    "\n",
    "alice_coin = coin_records[0].coin\n",
    "print_json(alice_coin.to_json_dict())"
   ]
  },
  {
   "cell_type": "code",
   "execution_count": 5,
   "id": "825c62f9-9655-46f4-a942-7ba5c8ba8c3f",
   "metadata": {},
   "outputs": [
    {
     "name": "stdout",
     "output_type": "stream",
     "text": [
      "{\n",
      "    \"aggregated_signature\": \"0x80d9598bacc28be2acb759bc76e29590ea3eb14ff415bb3df5cb0cd532728582bbeb691187e4bc1a9c4b86cfec8e809413c8da2409bea7f156446db7ed48ad6af7683cfe4afe9aafaa62f0df5d45e38c72780c4c7c012119409ef0ee9fad9553\",\n",
      "    \"coin_solutions\": [\n",
      "        {\n",
      "            \"coin\": {\n",
      "                \"amount\": 10000000000000,\n",
      "                \"parent_coin_info\": \"0xd3f33700d7aa4515f5226e0283cc8426bee8ca2dfe4589cde5622b7d463cc88a\",\n",
      "                \"puzzle_hash\": \"0x99e07e8fbf87ddf3f72af29e3945f35f8a04c02d4e04600f3dc4964e4167045d\"\n",
      "            },\n",
      "            \"puzzle_reveal\": \"0xff02ffff01ff02ffff01ff02ffff03ff0bffff01ff02ffff03ffff09ff05ffff1dff0bffff1effff0bff0bffff02ff06ffff04ff02ffff04ff17ff8080808080808080ffff01ff02ff17ff2f80ffff01ff088080ff0180ffff01ff04ffff04ff04ffff04ff05ffff04ffff02ff06ffff04ff02ffff04ff17ff80808080ff80808080ffff02ff17ff2f808080ff0180ffff04ffff01ff32ff02ffff03ffff07ff0580ffff01ff0bffff0102ffff02ff06ffff04ff02ffff04ff09ff80808080ffff02ff06ffff04ff02ffff04ff0dff8080808080ffff01ff0bffff0101ff058080ff0180ff018080ffff04ffff01b0824f45f882649b634c2cbbb94292cd30e76f96448e86f297e3e4a08dffe6bc494c7450cbfb6c4650fb5c6cb161c6ae3cff018080\",\n",
      "            \"solution\": \"0xff80ffff01ffff3cffa02cf24dba5fb0a30e26e83b2ac5b9e29e1b161e5c1fa7425e73043362938b982480ffff33ffa099e07e8fbf87ddf3f72af29e3945f35f8a04c02d4e04600f3dc4964e4167045dff8609184e72a0008080ff8080\"\n",
      "        }\n",
      "    ]\n",
      "}\n"
     ]
    }
   ],
   "source": [
    "message = bytes(\"hello\", \"utf-8\")\n",
    "announcement = std_hash(message)\n",
    "alice_conditions = [\n",
    "    [\n",
    "        ConditionOpcode.CREATE_COIN_ANNOUNCEMENT,\n",
    "        announcement\n",
    "    ],\n",
    "\n",
    "    # return\n",
    "    [\n",
    "        ConditionOpcode.CREATE_COIN, \n",
    "        alice_coin.puzzle_hash, \n",
    "        alice_coin.amount\n",
    "    ]\n",
    "]\n",
    "\n",
    "puzzle_reveal = puzzle_for_pk(alice_pk)\n",
    "delegated_puzzle: Program = puzzle_for_conditions(alice_conditions) \n",
    "solution = solution_for_conditions(alice_conditions)\n",
    "\n",
    "alice_coin_spend = CoinSpend(\n",
    "    alice_coin,\n",
    "    puzzle_reveal,\n",
    "    solution\n",
    ")\n",
    "    \n",
    "synthetic_sk: PrivateKey = calculate_synthetic_secret_key(\n",
    "    alice_sk,\n",
    "    DEFAULT_HIDDEN_PUZZLE_HASH\n",
    ")\n",
    "\n",
    "alice_sig = AugSchemeMPL.sign(synthetic_sk,\n",
    "    (\n",
    "        delegated_puzzle.get_tree_hash()\n",
    "        + alice_coin.name()\n",
    "        + bytes.fromhex(genesis_challenge)\n",
    "    )\n",
    ")\n",
    "\n",
    "alice_spend_bundle = SpendBundle(\n",
    "    [alice_coin_spend],\n",
    "    alice_sig\n",
    ")\n",
    "print_json(alice_spend_bundle.to_json_dict())"
   ]
  },
  {
   "cell_type": "code",
   "execution_count": 8,
   "id": "dea09623-089d-4069-924c-970ac024ed60",
   "metadata": {},
   "outputs": [
    {
     "name": "stdout",
     "output_type": "stream",
     "text": [
      "{'status': 'SUCCESS', 'success': True}\n"
     ]
    }
   ],
   "source": [
    "full_node_client = await FullNodeRpcClient.create(\n",
    "    self_hostname, uint16(full_node_rpc_port), DEFAULT_ROOT_PATH, config\n",
    ")\n",
    "result = await full_node_client.push_tx(alice_spend_bundle)\n",
    "full_node_client.close()\n",
    "await full_node_client.await_closed()\n",
    "print(result)"
   ]
  },
  {
   "cell_type": "markdown",
   "id": "cea79a33-534f-468b-9f9d-8a4fadc4fdca",
   "metadata": {},
   "source": [
    "### Bob's\n",
    "```sh\n",
    "❯ chia keys derive -f $bob_fp wallet-address -i 0 --show-hd-path\n",
    "Wallet address 0 (m/12381/8444/2/0): txch1kn7ge94x4l3kcv74ywmm40d8grashjuszc4rx92t35swryhcypusgy53ls\n",
    "\n",
    "~\n",
    "❯ cdv decode txch1kn7ge94x4l3kcv74ywmm40d8grashjuszc4rx92t35swryhcypusgy53ls\n",
    "b4fc8c96a6afe36c33d523b7babda740fb0bcb90162a33154b8d20e192f82079\n",
    "\n",
    "~\n",
    "❯ chia keys derive -f $bob_fp child-key -t wallet -i 0 --show-hd-path -s\n",
    "Wallet public key 0 (m/12381/8444/2/0): a9d51a7afd3614725f44a1bd3720eea37cbf983b2335d90cf4674acf52085da15273b679cd05ac4f960272d23f5a4831\n",
    "Wallet private key 0 (m/12381/8444/2/0): 1d9116c0fba5ec752d8dda784b9796fe3ae0cdb9d8daf8cca774c62c3c58c29c\n",
    "\n",
    "```"
   ]
  },
  {
   "cell_type": "code",
   "execution_count": 6,
   "id": "b2c9b6e6-f87f-4165-93ca-bb5b6d64c65a",
   "metadata": {},
   "outputs": [
    {
     "name": "stdout",
     "output_type": "stream",
     "text": [
      "{\n",
      "    \"amount\": 1000000000000,\n",
      "    \"parent_coin_info\": \"0x4b36f6f9fec96fd81512486690d85716e702d50434ac75da4afb8805fd2e8828\",\n",
      "    \"puzzle_hash\": \"0xb4fc8c96a6afe36c33d523b7babda740fb0bcb90162a33154b8d20e192f82079\"\n",
      "}\n"
     ]
    }
   ],
   "source": [
    "bob_sk = PrivateKey.from_bytes(bytes.fromhex(\"1d9116c0fba5ec752d8dda784b9796fe3ae0cdb9d8daf8cca774c62c3c58c29c\"))\n",
    "bob_pk = bob_sk.get_g1()\n",
    "bob_ph = bytes.fromhex(\"b4fc8c96a6afe36c33d523b7babda740fb0bcb90162a33154b8d20e192f82079\")\n",
    "full_node_client = await FullNodeRpcClient.create(\n",
    "    self_hostname, uint16(full_node_rpc_port), DEFAULT_ROOT_PATH, config\n",
    ")\n",
    "coin_records = await full_node_client.get_coin_records_by_puzzle_hash(bob_ph, include_spent_coins = False)\n",
    "full_node_client.close()\n",
    "await full_node_client.await_closed()\n",
    "\n",
    "bob_coin = coin_records[0].coin\n",
    "print_json(bob_coin.to_json_dict())"
   ]
  },
  {
   "cell_type": "code",
   "execution_count": 7,
   "id": "d76ce375-827c-4de8-9d3b-78ca909b3ad8",
   "metadata": {},
   "outputs": [
    {
     "name": "stdout",
     "output_type": "stream",
     "text": [
      "{\n",
      "    \"aggregated_signature\": \"0xb7b151ad6edf35bf4f2de384cd740dff9d9f833bfe81c1f846f48007fe86c2dbc619bdd5499e0d19c5223f4b7bebc05a17312758bb82b6867c0a4ee4a554bef02f6446cc0d9f95c78856ff69be9266f88f8febf46d945838fe38d43b3ddc7717\",\n",
      "    \"coin_solutions\": [\n",
      "        {\n",
      "            \"coin\": {\n",
      "                \"amount\": 1000000000000,\n",
      "                \"parent_coin_info\": \"0x4b36f6f9fec96fd81512486690d85716e702d50434ac75da4afb8805fd2e8828\",\n",
      "                \"puzzle_hash\": \"0xb4fc8c96a6afe36c33d523b7babda740fb0bcb90162a33154b8d20e192f82079\"\n",
      "            },\n",
      "            \"puzzle_reveal\": \"0xff02ffff01ff02ffff01ff02ffff03ff0bffff01ff02ffff03ffff09ff05ffff1dff0bffff1effff0bff0bffff02ff06ffff04ff02ffff04ff17ff8080808080808080ffff01ff02ff17ff2f80ffff01ff088080ff0180ffff01ff04ffff04ff04ffff04ff05ffff04ffff02ff06ffff04ff02ffff04ff17ff80808080ff80808080ffff02ff17ff2f808080ff0180ffff04ffff01ff32ff02ffff03ffff07ff0580ffff01ff0bffff0102ffff02ff06ffff04ff02ffff04ff09ff80808080ffff02ff06ffff04ff02ffff04ff0dff8080808080ffff01ff0bffff0101ff058080ff0180ff018080ffff04ffff01b0a661269350cd44ef86c8ceb0e9ac78326bc0a7bba38dddcb93904ac97b53d6f995bdd5224f6396815e3cad0b49cbfafaff018080\",\n",
      "            \"solution\": \"0xff80ffff01ffff3dffa042c482cacca5fe6a389b8769eb8acb33eb2f74c49a02ce1f5af0f71ad0827bfe80ffff33ffa0b4fc8c96a6afe36c33d523b7babda740fb0bcb90162a33154b8d20e192f82079ff8600e8d4a510008080ff8080\"\n",
      "        }\n",
      "    ]\n",
      "}\n"
     ]
    }
   ],
   "source": [
    "bob_conditions = [\n",
    "    [\n",
    "        ConditionOpcode.ASSERT_COIN_ANNOUNCEMENT,\n",
    "        std_hash(alice_coin.name() + announcement)\n",
    "    ],\n",
    "    \n",
    "    # return\n",
    "    [\n",
    "        ConditionOpcode.CREATE_COIN, \n",
    "        bob_coin.puzzle_hash, \n",
    "        bob_coin.amount\n",
    "    ]\n",
    "]\n",
    "\n",
    "puzzle_reveal = puzzle_for_pk(bob_pk)\n",
    "delegated_puzzle: Program = puzzle_for_conditions(bob_conditions) \n",
    "solution = solution_for_conditions(bob_conditions)\n",
    "\n",
    "bob_coin_spend = CoinSpend(\n",
    "    bob_coin,\n",
    "    puzzle_reveal,\n",
    "    solution\n",
    ")\n",
    "    \n",
    "synthetic_sk: PrivateKey = calculate_synthetic_secret_key(\n",
    "    bob_sk,\n",
    "    DEFAULT_HIDDEN_PUZZLE_HASH\n",
    ")\n",
    "\n",
    "bob_sig = AugSchemeMPL.sign(synthetic_sk,\n",
    "    (\n",
    "        delegated_puzzle.get_tree_hash()\n",
    "        + bob_coin.name()\n",
    "        + bytes.fromhex(genesis_challenge)\n",
    "    )\n",
    ")\n",
    "\n",
    "bob_spend_bundle = SpendBundle(\n",
    "    [bob_coin_spend],\n",
    "    bob_sig\n",
    ")\n",
    "print_json(bob_spend_bundle.to_json_dict())"
   ]
  },
  {
   "cell_type": "code",
   "execution_count": 9,
   "id": "74947fd3-1104-421f-9d0c-cb55433e8336",
   "metadata": {},
   "outputs": [
    {
     "ename": "ValueError",
     "evalue": "{'error': 'Failed to include transaction 2061901dc155228c89cdf0490ae8695caba6b86ee256fe0b079fcb99d645af53, error ASSERT_ANNOUNCE_CONSUMED_FAILED', 'success': False}",
     "output_type": "error",
     "traceback": [
      "\u001b[0;31m---------------------------------------------------------------------------\u001b[0m",
      "\u001b[0;31mValueError\u001b[0m                                Traceback (most recent call last)",
      "Cell \u001b[0;32mIn [9], line 4\u001b[0m\n\u001b[1;32m      1\u001b[0m full_node_client \u001b[38;5;241m=\u001b[39m \u001b[38;5;28;01mawait\u001b[39;00m FullNodeRpcClient\u001b[38;5;241m.\u001b[39mcreate(\n\u001b[1;32m      2\u001b[0m     self_hostname, uint16(full_node_rpc_port), DEFAULT_ROOT_PATH, config\n\u001b[1;32m      3\u001b[0m )\n\u001b[0;32m----> 4\u001b[0m result \u001b[38;5;241m=\u001b[39m \u001b[38;5;28;01mawait\u001b[39;00m full_node_client\u001b[38;5;241m.\u001b[39mpush_tx(bob_spend_bundle)\n\u001b[1;32m      5\u001b[0m full_node_client\u001b[38;5;241m.\u001b[39mclose()\n\u001b[1;32m      6\u001b[0m \u001b[38;5;28;01mawait\u001b[39;00m full_node_client\u001b[38;5;241m.\u001b[39mawait_closed()\n",
      "File \u001b[0;32m~/chia-network/chia-blockchain/chia/rpc/full_node_rpc_client.py:214\u001b[0m, in \u001b[0;36mFullNodeRpcClient.push_tx\u001b[0;34m(self, spend_bundle)\u001b[0m\n\u001b[1;32m    213\u001b[0m \u001b[38;5;28;01masync\u001b[39;00m \u001b[38;5;28;01mdef\u001b[39;00m \u001b[38;5;21mpush_tx\u001b[39m(\u001b[38;5;28mself\u001b[39m, spend_bundle: SpendBundle):\n\u001b[0;32m--> 214\u001b[0m     \u001b[38;5;28;01mreturn\u001b[39;00m \u001b[38;5;28;01mawait\u001b[39;00m \u001b[38;5;28mself\u001b[39m\u001b[38;5;241m.\u001b[39mfetch(\u001b[38;5;124m\"\u001b[39m\u001b[38;5;124mpush_tx\u001b[39m\u001b[38;5;124m\"\u001b[39m, {\u001b[38;5;124m\"\u001b[39m\u001b[38;5;124mspend_bundle\u001b[39m\u001b[38;5;124m\"\u001b[39m: spend_bundle\u001b[38;5;241m.\u001b[39mto_json_dict()})\n",
      "File \u001b[0;32m~/chia-network/chia-blockchain/chia/rpc/rpc_client.py:49\u001b[0m, in \u001b[0;36mRpcClient.fetch\u001b[0;34m(self, path, request_json)\u001b[0m\n\u001b[1;32m     47\u001b[0m res_json \u001b[38;5;241m=\u001b[39m \u001b[38;5;28;01mawait\u001b[39;00m response\u001b[38;5;241m.\u001b[39mjson()\n\u001b[1;32m     48\u001b[0m \u001b[38;5;28;01mif\u001b[39;00m \u001b[38;5;129;01mnot\u001b[39;00m res_json[\u001b[38;5;124m\"\u001b[39m\u001b[38;5;124msuccess\u001b[39m\u001b[38;5;124m\"\u001b[39m]:\n\u001b[0;32m---> 49\u001b[0m     \u001b[38;5;28;01mraise\u001b[39;00m \u001b[38;5;167;01mValueError\u001b[39;00m(res_json)\n\u001b[1;32m     50\u001b[0m \u001b[38;5;28;01mreturn\u001b[39;00m res_json\n",
      "\u001b[0;31mValueError\u001b[0m: {'error': 'Failed to include transaction 2061901dc155228c89cdf0490ae8695caba6b86ee256fe0b079fcb99d645af53, error ASSERT_ANNOUNCE_CONSUMED_FAILED', 'success': False}"
     ]
    }
   ],
   "source": [
    "full_node_client = await FullNodeRpcClient.create(\n",
    "    self_hostname, uint16(full_node_rpc_port), DEFAULT_ROOT_PATH, config\n",
    ")\n",
    "result = await full_node_client.push_tx(bob_spend_bundle)\n",
    "full_node_client.close()\n",
    "await full_node_client.await_closed()\n",
    "print(result)"
   ]
  },
  {
   "cell_type": "code",
   "execution_count": 10,
   "id": "c108c519-9fd3-41a0-b5a3-d223dd0b42c5",
   "metadata": {},
   "outputs": [
    {
     "name": "stdout",
     "output_type": "stream",
     "text": [
      "{\n",
      "    \"aggregated_signature\": \"0xab3b2fbcd163be413d69ea1f7dab816b50b0e5085f3f4536758b75a056fddd5d8ef39dc73916e08f46cf03b4269f65ae147d236720996201c6c8518bfb360e75b269f11a919d97132e4d1a161ed79ea01ee9434af45a6fefc76fe6120238577d\",\n",
      "    \"coin_solutions\": [\n",
      "        {\n",
      "            \"coin\": {\n",
      "                \"amount\": 10000000000000,\n",
      "                \"parent_coin_info\": \"0x2844cd3578ea58014befe5311bbf74587da8663767bf7b037923de7ec294e82b\",\n",
      "                \"puzzle_hash\": \"0x99e07e8fbf87ddf3f72af29e3945f35f8a04c02d4e04600f3dc4964e4167045d\"\n",
      "            },\n",
      "            \"puzzle_reveal\": \"0xff02ffff01ff02ffff01ff02ffff03ff0bffff01ff02ffff03ffff09ff05ffff1dff0bffff1effff0bff0bffff02ff06ffff04ff02ffff04ff17ff8080808080808080ffff01ff02ff17ff2f80ffff01ff088080ff0180ffff01ff04ffff04ff04ffff04ff05ffff04ffff02ff06ffff04ff02ffff04ff17ff80808080ff80808080ffff02ff17ff2f808080ff0180ffff04ffff01ff32ff02ffff03ffff07ff0580ffff01ff0bffff0102ffff02ff06ffff04ff02ffff04ff09ff80808080ffff02ff06ffff04ff02ffff04ff0dff8080808080ffff01ff0bffff0101ff058080ff0180ff018080ffff04ffff01b0824f45f882649b634c2cbbb94292cd30e76f96448e86f297e3e4a08dffe6bc494c7450cbfb6c4650fb5c6cb161c6ae3cff018080\",\n",
      "            \"solution\": \"0xff80ffff01ffff3cffa02cf24dba5fb0a30e26e83b2ac5b9e29e1b161e5c1fa7425e73043362938b982480ffff33ffa099e07e8fbf87ddf3f72af29e3945f35f8a04c02d4e04600f3dc4964e4167045dff8609184e72a0008080ff8080\"\n",
      "        },\n",
      "        {\n",
      "            \"coin\": {\n",
      "                \"amount\": 1000000000000,\n",
      "                \"parent_coin_info\": \"0x51b299323e684bf81ab77d402ed06877d223ac36c5d64475764b92bdbb1a0b07\",\n",
      "                \"puzzle_hash\": \"0xb4fc8c96a6afe36c33d523b7babda740fb0bcb90162a33154b8d20e192f82079\"\n",
      "            },\n",
      "            \"puzzle_reveal\": \"0xff02ffff01ff02ffff01ff02ffff03ff0bffff01ff02ffff03ffff09ff05ffff1dff0bffff1effff0bff0bffff02ff06ffff04ff02ffff04ff17ff8080808080808080ffff01ff02ff17ff2f80ffff01ff088080ff0180ffff01ff04ffff04ff04ffff04ff05ffff04ffff02ff06ffff04ff02ffff04ff17ff80808080ff80808080ffff02ff17ff2f808080ff0180ffff04ffff01ff32ff02ffff03ffff07ff0580ffff01ff0bffff0102ffff02ff06ffff04ff02ffff04ff09ff80808080ffff02ff06ffff04ff02ffff04ff0dff8080808080ffff01ff0bffff0101ff058080ff0180ff018080ffff04ffff01b0a661269350cd44ef86c8ceb0e9ac78326bc0a7bba38dddcb93904ac97b53d6f995bdd5224f6396815e3cad0b49cbfafaff018080\",\n",
      "            \"solution\": \"0xff80ffff01ffff3dffa009d3449719d04c9991beff8cb65839d69cbdce934ad6f34288a47a9651d44a9380ffff33ffa0b4fc8c96a6afe36c33d523b7babda740fb0bcb90162a33154b8d20e192f82079ff8600e8d4a510008080ff8080\"\n",
      "        }\n",
      "    ]\n",
      "}\n"
     ]
    }
   ],
   "source": [
    "spend_bundle = SpendBundle(\n",
    "    [alice_coin_spend, bob_coin_spend],\n",
    "    AugSchemeMPL.aggregate([alice_sig, bob_sig])\n",
    ")\n",
    "print_json(spend_bundle.to_json_dict())"
   ]
  },
  {
   "cell_type": "code",
   "execution_count": 11,
   "id": "742a8a7f-d367-44a7-bf30-eb8ac7c4f8d9",
   "metadata": {},
   "outputs": [
    {
     "name": "stdout",
     "output_type": "stream",
     "text": [
      "{'status': 'SUCCESS', 'success': True}\n"
     ]
    }
   ],
   "source": [
    "full_node_client = await FullNodeRpcClient.create(\n",
    "    self_hostname, uint16(full_node_rpc_port), DEFAULT_ROOT_PATH, config\n",
    ")\n",
    "result = await full_node_client.push_tx(spend_bundle)\n",
    "full_node_client.close()\n",
    "await full_node_client.await_closed()\n",
    "print(result)"
   ]
  },
  {
   "cell_type": "code",
   "execution_count": null,
   "id": "589f0a91-8b69-4d8d-a07c-fccb4c6dc7b9",
   "metadata": {},
   "outputs": [],
   "source": []
  }
 ],
 "metadata": {
  "kernelspec": {
   "display_name": "Python 3 (ipykernel)",
   "language": "python",
   "name": "python3"
  },
  "language_info": {
   "codemirror_mode": {
    "name": "ipython",
    "version": 3
   },
   "file_extension": ".py",
   "mimetype": "text/x-python",
   "name": "python",
   "nbconvert_exporter": "python",
   "pygments_lexer": "ipython3",
   "version": "3.10.8"
  }
 },
 "nbformat": 4,
 "nbformat_minor": 5
}
