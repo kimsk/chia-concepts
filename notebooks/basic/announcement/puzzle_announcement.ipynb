{
 "cells": [
  {
   "cell_type": "code",
   "execution_count": 1,
   "id": "1bc6c52b-44d0-4022-b7a1-84f699211862",
   "metadata": {},
   "outputs": [
    {
     "name": "stdout",
     "output_type": "stream",
     "text": [
      "1.6.1rc3.dev49\n",
      "cdv, version 1.1.2\n",
      "Python 3.10.8\n"
     ]
    }
   ],
   "source": [
    "%%bash\n",
    "chia version\n",
    "cdv --version\n",
    "python --version"
   ]
  },
  {
   "cell_type": "code",
   "execution_count": 2,
   "id": "f8cc42bc-65bb-4f7b-bd19-72ea253ddfd0",
   "metadata": {},
   "outputs": [],
   "source": [
    "# chia libraries\n",
    "from blspy import (PrivateKey, AugSchemeMPL, G1Element, G2Element)\n",
    "\n",
    "from chia.consensus.default_constants import DEFAULT_CONSTANTS\n",
    "from chia.types.blockchain_format.coin import Coin\n",
    "from chia.types.blockchain_format.program import Program\n",
    "from chia.types.coin_spend import CoinSpend\n",
    "from chia.types.condition_opcodes import ConditionOpcode\n",
    "from chia.types.spend_bundle import SpendBundle\n",
    "from chia.util.hash import std_hash\n",
    "from chia.wallet.puzzles import p2_delegated_puzzle_or_hidden_puzzle\n",
    "\n",
    "from clvm.casts import int_to_bytes\n",
    "from clvm_tools.clvmc import compile_clvm_text\n",
    "from clvm_tools.binutils import disassemble\n",
    "\n",
    "# utils & tic tac toe helper code\n",
    "import sys\n",
    "sys.path.insert(0, \"../../../shared\")\n",
    "from utils import (load_program, print_program, print_puzzle, print_json, print_push_tx_result)\n"
   ]
  },
  {
   "cell_type": "markdown",
   "id": "92584003-21fd-40b6-a9bb-7d95627e1c23",
   "metadata": {},
   "source": [
    "## Puzzle Announcement\n",
    "#### `CREATE_PUZZLE_ANNOUNCEMENT`\n",
    "`(62 message)`\n",
    "If this spend is valid, this creates an ephemeral announcement with an ID dependent on the puzzle that creates it. Other coins can then assert an announcement exists for inter-coin communication inside a block.\n",
    "\n",
    "#### `ASSERT_PUZZLE_ANNOUNCEMENT`\n",
    "`(63 announcementID)`\n",
    "This spend is only valid if there was an announcement in this block matching the announcementID. The announcementID is the message that was announced concatenated with the puzzle hash of the coin that announced it `announcementID == sha256(puzzle_hash + message)`."
   ]
  },
  {
   "cell_type": "code",
   "execution_count": 11,
   "id": "108e499b-ce3d-4c59-87d1-f6a03aeef75d",
   "metadata": {},
   "outputs": [
    {
     "name": "stdout",
     "output_type": "stream",
     "text": [
      "(c (c (q . 62) (c 5 ())) ())\n",
      "(c (c (q . 63) (c (sha256 2 5) ())) ())\n"
     ]
    }
   ],
   "source": [
    "announcer_puzzle = Program(\n",
    "    compile_clvm_text(\n",
    "'''\n",
    "(mod (N announcement)\n",
    "    (list\n",
    "        (list 62 announcement)\n",
    "    )\n",
    ")\n",
    "''', search_paths=[]\n",
    "    )\n",
    ")\n",
    "\n",
    "asserter_puzzle = Program(\n",
    "    compile_clvm_text(\n",
    "'''\n",
    "(mod (announcer_ph announcement)\n",
    "    (list\n",
    "        (list 63 (sha256 announcer_ph announcement))\n",
    "    )\n",
    ")\n",
    "''', search_paths=[]\n",
    "    )\n",
    ")\n",
    "\n",
    "print_program(announcer_puzzle)\n",
    "print_program(asserter_puzzle)"
   ]
  },
  {
   "cell_type": "code",
   "execution_count": 12,
   "id": "1ba02140-ad97-4e1f-b1d9-ff8ddecdf653",
   "metadata": {},
   "outputs": [
    {
     "name": "stdout",
     "output_type": "stream",
     "text": [
      "((62 0x2cf24dba5fb0a30e26e83b2ac5b9e29e1b161e5c1fa7425e73043362938b9824))\n",
      "{\n",
      "    \"coin\": {\n",
      "        \"amount\": 1,\n",
      "        \"parent_coin_info\": \"0xf85122d56db3f043af4ac7882411f7fcedf6177b1a8b9781be5f56a8668fdef1\",\n",
      "        \"puzzle_hash\": \"0xf8814f3c924d9befa37b02c6faf8ca28fe25e7b982dde639194bb5fcaf869b28\"\n",
      "    },\n",
      "    \"puzzle_reveal\": \"0xff02ffff01ff04ffff04ffff013effff04ff05ff808080ff8080ffff04ffff0101ff018080\",\n",
      "    \"solution\": \"0xffa02cf24dba5fb0a30e26e83b2ac5b9e29e1b161e5c1fa7425e73043362938b982480\"\n",
      "}\n"
     ]
    }
   ],
   "source": [
    "parent_coin_info = bytes.fromhex(\"f85122d56db3f043af4ac7882411f7fcedf6177b1a8b9781be5f56a8668fdef1\")\n",
    "\n",
    "announcer_puzzle_1 = announcer_puzzle.curry(1)\n",
    "\n",
    "announcer_coin = Coin(\n",
    "    parent_coin_info,\n",
    "    announcer_puzzle_1.get_tree_hash(),\n",
    "    1\n",
    ")\n",
    "\n",
    "message = bytes(\"hello\", \"utf-8\")\n",
    "announcement = std_hash(message)\n",
    "solution = Program.to([announcement])\n",
    "\n",
    "result = announcer_puzzle_1.run(solution)\n",
    "print_program(result)\n",
    "\n",
    "announcer_coin_spend = CoinSpend(\n",
    "    announcer_coin,\n",
    "    announcer_puzzle_1,\n",
    "    solution\n",
    ")\n",
    "\n",
    "print_json(announcer_coin_spend.to_json_dict())"
   ]
  },
  {
   "cell_type": "code",
   "execution_count": 13,
   "id": "c953ce8d-92db-4765-8377-0791b080518d",
   "metadata": {},
   "outputs": [
    {
     "name": "stdout",
     "output_type": "stream",
     "text": [
      "((63 0xd0efbccf8c133e5230863790adeb4880af5e842fd4b2b47f4e4889d38a09578a))\n",
      "{\n",
      "    \"coin\": {\n",
      "        \"amount\": 1,\n",
      "        \"parent_coin_info\": \"0xf85122d56db3f043af4ac7882411f7fcedf6177b1a8b9781be5f56a8668fdef1\",\n",
      "        \"puzzle_hash\": \"0x4e0e250d90fe525477bf182325ffcc5f1d0b692461ebf33f6ff54e3d4d732903\"\n",
      "    },\n",
      "    \"puzzle_reveal\": \"0xff04ffff04ffff013fffff04ffff0bff02ff0580ff808080ff8080\",\n",
      "    \"solution\": \"0xffa0f8814f3c924d9befa37b02c6faf8ca28fe25e7b982dde639194bb5fcaf869b28ffa02cf24dba5fb0a30e26e83b2ac5b9e29e1b161e5c1fa7425e73043362938b982480\"\n",
      "}\n"
     ]
    }
   ],
   "source": [
    "asserter_coin = Coin(\n",
    "    parent_coin_info,\n",
    "    asserter_puzzle.get_tree_hash(),\n",
    "    1\n",
    ")\n",
    "\n",
    "message = bytes(\"hello\", \"utf-8\")\n",
    "announcement = std_hash(message)\n",
    "solution = Program.to([announcer_puzzle_1.get_tree_hash(), announcement])\n",
    "\n",
    "result = asserter_puzzle.run(solution)\n",
    "print_program(result)\n",
    "\n",
    "asserter_coin_spend = CoinSpend(\n",
    "    asserter_coin,\n",
    "    asserter_puzzle,\n",
    "    solution\n",
    ")\n",
    "\n",
    "print_json(asserter_coin_spend.to_json_dict())"
   ]
  },
  {
   "cell_type": "code",
   "execution_count": 14,
   "id": "8c7d8feb-19dd-4cb0-969b-a9f355bc1c58",
   "metadata": {},
   "outputs": [
    {
     "name": "stdout",
     "output_type": "stream",
     "text": [
      "{\n",
      "    \"aggregated_signature\": \"0xc00000000000000000000000000000000000000000000000000000000000000000000000000000000000000000000000000000000000000000000000000000000000000000000000000000000000000000000000000000000000000000000000\",\n",
      "    \"coin_solutions\": [\n",
      "        {\n",
      "            \"coin\": {\n",
      "                \"amount\": 1,\n",
      "                \"parent_coin_info\": \"0xf85122d56db3f043af4ac7882411f7fcedf6177b1a8b9781be5f56a8668fdef1\",\n",
      "                \"puzzle_hash\": \"0xf8814f3c924d9befa37b02c6faf8ca28fe25e7b982dde639194bb5fcaf869b28\"\n",
      "            },\n",
      "            \"puzzle_reveal\": \"0xff02ffff01ff04ffff04ffff013effff04ff05ff808080ff8080ffff04ffff0101ff018080\",\n",
      "            \"solution\": \"0xffa02cf24dba5fb0a30e26e83b2ac5b9e29e1b161e5c1fa7425e73043362938b982480\"\n",
      "        },\n",
      "        {\n",
      "            \"coin\": {\n",
      "                \"amount\": 1,\n",
      "                \"parent_coin_info\": \"0xf85122d56db3f043af4ac7882411f7fcedf6177b1a8b9781be5f56a8668fdef1\",\n",
      "                \"puzzle_hash\": \"0x4e0e250d90fe525477bf182325ffcc5f1d0b692461ebf33f6ff54e3d4d732903\"\n",
      "            },\n",
      "            \"puzzle_reveal\": \"0xff04ffff04ffff013fffff04ffff0bff02ff0580ff808080ff8080\",\n",
      "            \"solution\": \"0xffa0f8814f3c924d9befa37b02c6faf8ca28fe25e7b982dde639194bb5fcaf869b28ffa02cf24dba5fb0a30e26e83b2ac5b9e29e1b161e5c1fa7425e73043362938b982480\"\n",
      "        }\n",
      "    ]\n",
      "}\n"
     ]
    }
   ],
   "source": [
    "spend_bundle = SpendBundle(\n",
    "    [\n",
    "        announcer_coin_spend,\n",
    "        asserter_coin_spend\n",
    "    ],\n",
    "    G2Element()\n",
    ")\n",
    "\n",
    "print_json(spend_bundle.to_json_dict())"
   ]
  },
  {
   "cell_type": "markdown",
   "id": "6fd295a1-fbd5-4ec1-814f-a84b52e4600c",
   "metadata": {},
   "source": [
    "### Debug Spend Bundle\n",
    "❯ cdv inspect spendbundles $spendbundle -db\n",
    "...\n",
    "Debugging Information\n",
    "---------------------\n",
    "================================================================================\n",
    "consuming coin (0xf85122d56db3f043af4ac7882411f7fcedf6177b1a8b9781be5f56a8668fdef1 0xf8814f3c924d9befa37b02c6faf8ca28fe25e7b982dde639194bb5fcaf869b28 1)\n",
    "  with id fa2c07b885b795659c271466d378c67e388753c58a34186b7a70fa4eda6c5f9b\n",
    "\n",
    "\n",
    "brun -y main.sym '(a (q 4 (c (q . 62) (c 5 ())) ()) (c (q . 1) 1))' '(0x2cf24dba5fb0a30e26e83b2ac5b9e29e1b161e5c1fa7425e73043362938b9824)'\n",
    "\n",
    "((CREATE_PUZZLE_ANNOUNCEMENT 0x2cf24dba5fb0a30e26e83b2ac5b9e29e1b161e5c1fa7425e73043362938b9824))\n",
    "\n",
    "grouped conditions:\n",
    "\n",
    "  (CREATE_PUZZLE_ANNOUNCEMENT 0x2cf24dba5fb0a30e26e83b2ac5b9e29e1b161e5c1fa7425e73043362938b9824)\n",
    "\n",
    "\n",
    "-------\n",
    "consuming coin (0xf85122d56db3f043af4ac7882411f7fcedf6177b1a8b9781be5f56a8668fdef1 0x4e0e250d90fe525477bf182325ffcc5f1d0b692461ebf33f6ff54e3d4d732903 1)\n",
    "  with id be0a385c46c20f772ca55d82646f7c49481eb83390edb09b68e2366fd29ec30f\n",
    "\n",
    "\n",
    "brun -y main.sym '(c (c (q . 63) (c (sha256 2 5) ())) ())' '(0xf8814f3c924d9befa37b02c6faf8ca28fe25e7b982dde639194bb5fcaf869b28 0x2cf24dba5fb0a30e26e83b2ac5b9e29e1b161e5c1fa7425e73043362938b9824)'\n",
    "\n",
    "((ASSERT_PUZZLE_ANNOUNCEMENT 0xd0efbccf8c133e5230863790adeb4880af5e842fd4b2b47f4e4889d38a09578a))\n",
    "\n",
    "grouped conditions:\n",
    "\n",
    "  (ASSERT_PUZZLE_ANNOUNCEMENT 0xd0efbccf8c133e5230863790adeb4880af5e842fd4b2b47f4e4889d38a09578a)\n",
    "\n",
    "\n",
    "-------\n",
    "\n",
    "spent coins\n",
    "  (0xf85122d56db3f043af4ac7882411f7fcedf6177b1a8b9781be5f56a8668fdef1 0x4e0e250d90fe525477bf182325ffcc5f1d0b692461ebf33f6ff54e3d4d732903 1)\n",
    "      => spent coin id be0a385c46c20f772ca55d82646f7c49481eb83390edb09b68e2366fd29ec30f\n",
    "  (0xf85122d56db3f043af4ac7882411f7fcedf6177b1a8b9781be5f56a8668fdef1 0xf8814f3c924d9befa37b02c6faf8ca28fe25e7b982dde639194bb5fcaf869b28 1)\n",
    "      => spent coin id fa2c07b885b795659c271466d378c67e388753c58a34186b7a70fa4eda6c5f9b\n",
    "\n",
    "created coins\n",
    "created puzzle announcements\n",
    "  ['0xf8814f3c924d9befa37b02c6faf8ca28fe25e7b982dde639194bb5fcaf869b28', '0x2cf24dba5fb0a30e26e83b2ac5b9e29e1b161e5c1fa7425e73043362938b9824'] =>\n",
    "      d0efbccf8c133e5230863790adeb4880af5e842fd4b2b47f4e4889d38a09578a\n",
    "\n",
    "\n",
    "zero_coin_set = []\n",
    "\n",
    "created  puzzle announcements = ['d0efbccf8c133e5230863790adeb4880af5e842fd4b2b47f4e4889d38a09578a']\n",
    "\n",
    "asserted puzzle announcements = ['d0efbccf8c133e5230863790adeb4880af5e842fd4b2b47f4e4889d38a09578a']\n",
    "\n",
    "symdiff of puzzle announcements = []\n",
    "\n",
    "\n",
    "================================================================================\n",
    "\n",
    "aggregated signature check pass: True\n",
    "pks: []\n",
    "msgs: []\n",
    "  msg_data: []\n",
    "  coin_ids: []\n",
    "  add_data: []\n",
    "signature: c00000000000000000000000000000000000000000000000000000000000000000000000000000000000000000000000000000000000000000000000000000000000000000000000000000000000000000000000000000000000000000000000\n",
    "None"
   ]
  },
  {
   "cell_type": "markdown",
   "id": "62ddf419-10ad-43bc-beaa-9b9d5a34bbad",
   "metadata": {},
   "source": [
    "## Run on Simulator"
   ]
  },
  {
   "cell_type": "code",
   "execution_count": 16,
   "id": "0287e089-2cec-430e-91ed-e86364d02460",
   "metadata": {},
   "outputs": [],
   "source": [
    "from cdv.test import Network, Wallet\n",
    "\n",
    "async def get_network_n_wallets():\n",
    "    network: Network = await Network.create()\n",
    "    await network.farm_block()\n",
    "\n",
    "    alice: Wallet = network.make_wallet(\"alice\")\n",
    "    bob: Wallet = network.make_wallet(\"bob\")\n",
    "    await network.farm_block(farmer=alice)\n",
    "    await network.farm_block(farmer=bob)\n",
    "    return network, alice, bob"
   ]
  },
  {
   "cell_type": "code",
   "execution_count": 24,
   "id": "a6e03a63-12a0-4812-b765-3e1f4fb80664",
   "metadata": {},
   "outputs": [
    {
     "name": "stdout",
     "output_type": "stream",
     "text": [
      "additions:\n",
      "==========\n",
      "Coin { parent_coin_info: 12d7b8c1654f82f2330059abc28e3240e863450706de7fdc518026f393f68bba, puzzle_hash: 4f45877796d7a64e192bcc9f899afeedae391f71af3afd7e15a0792c049d23d3, amount: 1750000000000 }\n",
      "Coin { parent_coin_info: 17ca02c0a209d7e1a3869442ba13ef9468181c4b095b8823aeaf3c27f8e58c34, puzzle_hash: 87908e3f85bf4b55c7e7709915c2ce97a1e6ec1d227e54a04dbfee6862d546a5, amount: 1750000000000 }\n",
      "removals:\n",
      "=========\n",
      "Coin { parent_coin_info: e3b0c44298fc1c149afbf4c8996fb92400000000000000000000000000000001, puzzle_hash: 4f45877796d7a64e192bcc9f899afeedae391f71af3afd7e15a0792c049d23d3, amount: 1750000000000 }\n",
      "Coin { parent_coin_info: e3b0c44298fc1c149afbf4c8996fb92400000000000000000000000000000002, puzzle_hash: 87908e3f85bf4b55c7e7709915c2ce97a1e6ec1d227e54a04dbfee6862d546a5, amount: 1750000000000 }\n"
     ]
    }
   ],
   "source": [
    "network, alice, bob = await get_network_n_wallets()\n",
    "\n",
    "# alice's coin is an announcer\n",
    "alice_coin_wrapper = await alice.choose_coin(1_750_000_000_000)\n",
    "alice_conditions = [\n",
    "    [\n",
    "        ConditionOpcode.CREATE_PUZZLE_ANNOUNCEMENT,\n",
    "        announcement\n",
    "    ],\n",
    "\n",
    "    # return\n",
    "    [\n",
    "        ConditionOpcode.CREATE_COIN, \n",
    "        alice.puzzle_hash, \n",
    "        alice_coin_wrapper.coin.amount\n",
    "    ]\n",
    "]\n",
    "\n",
    "alice_coin_spend, alice_sig = alice_coin_wrapper.create_standard_spend(alice.sk_, alice_conditions)\n",
    "\n",
    "# bob's coin is an asserter\n",
    "bob_coin_wrapper = await bob.choose_coin(1_750_000_000_000)\n",
    "bob_conditions = [\n",
    "    [\n",
    "        ConditionOpcode.ASSERT_PUZZLE_ANNOUNCEMENT,\n",
    "        std_hash(alice.puzzle_hash + announcement)\n",
    "    ],\n",
    "    \n",
    "    # return\n",
    "    [\n",
    "        ConditionOpcode.CREATE_COIN, \n",
    "        bob.puzzle_hash, \n",
    "        bob_coin_wrapper.coin.amount\n",
    "    ]\n",
    "]\n",
    "\n",
    "bob_coin_spend, bob_sig = bob_coin_wrapper.create_standard_spend(bob.sk_, bob_conditions)\n",
    "spend_bundle = SpendBundle(\n",
    "    [ alice_coin_spend, bob_coin_spend ],\n",
    "    AugSchemeMPL.aggregate([alice_sig, bob_sig])\n",
    ")\n",
    "result = await network.push_tx(spend_bundle)\n",
    "#print(result)\n",
    "print_push_tx_result(result)"
   ]
  },
  {
   "cell_type": "code",
   "execution_count": null,
   "id": "426e6446-b910-49b3-8836-c60fecd76cda",
   "metadata": {},
   "outputs": [],
   "source": []
  }
 ],
 "metadata": {
  "kernelspec": {
   "display_name": "Python 3 (ipykernel)",
   "language": "python",
   "name": "python3"
  },
  "language_info": {
   "codemirror_mode": {
    "name": "ipython",
    "version": 3
   },
   "file_extension": ".py",
   "mimetype": "text/x-python",
   "name": "python",
   "nbconvert_exporter": "python",
   "pygments_lexer": "ipython3",
   "version": "3.10.8"
  }
 },
 "nbformat": 4,
 "nbformat_minor": 5
}
