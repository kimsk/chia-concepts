{
 "cells": [
  {
   "cell_type": "markdown",
   "id": "f99ad49e-2dac-42d4-a8ec-43fd329ab9f1",
   "metadata": {},
   "source": [
    "## map\n",
    "[map.clsp](./map.clsp)"
   ]
  },
  {
   "cell_type": "code",
   "execution_count": 1,
   "id": "f882bce9-d6a5-4705-825f-9842c6f96f3a",
   "metadata": {},
   "outputs": [
    {
     "name": "stdout",
     "output_type": "stream",
     "text": [
      "(a (q 2 2 (c 2 (c 5 (c 7 ())))) (c (q 2 (i 11 (q 4 (a 5 19) (a 2 (c 2 (c 5 (c 27 ()))))) ()) 1) 1))\n"
     ]
    }
   ],
   "source": [
    "from chia.types.blockchain_format.program import Program\n",
    "from clvm_tools.binutils import assemble, disassemble\n",
    "\n",
    "import sys\n",
    "sys.path.insert(0, \"../../../shared\")\n",
    "from utils import (load_program, print_program, print_puzzle)\n",
    "\n",
    "map_puzzle: Program = load_program(\"./map.clsp\", [])\n",
    "print_program(map_puzzle)"
   ]
  },
  {
   "cell_type": "code",
   "execution_count": 2,
   "id": "3dfb99b6-deea-4646-be50-728c360c8baf",
   "metadata": {},
   "outputs": [
    {
     "name": "stdout",
     "output_type": "stream",
     "text": [
      "(a (q 2 (q 2 2 (c 2 (c 5 (c 7 ())))) (c (q 2 (i 11 (q 4 (a 5 19) (a 2 (c 2 (c 5 (c 27 ()))))) ()) 1) 1)) (c (q 16 1 1 1) 1))\n",
      "(126 216 111 159)\n"
     ]
    }
   ],
   "source": [
    "map_triple = map_puzzle.curry(\n",
    "    Program.to(assemble(\"(+ 1 1 1)\"))\n",
    ")\n",
    "\n",
    "print_program(map_triple)\n",
    "\n",
    "lst = Program.to([42, 72, 37, 53])\n",
    "result = map_triple.run(lst)\n",
    "print_program(result)"
   ]
  },
  {
   "cell_type": "code",
   "execution_count": 3,
   "id": "1f340f9d-c1ac-48fe-8961-ea6232a6b9be",
   "metadata": {},
   "outputs": [
    {
     "name": "stdout",
     "output_type": "stream",
     "text": [
      "(a (q 2 (q 2 2 (c 2 (c 5 (c 7 ())))) (c (q 2 (i 11 (q 4 (a 5 19) (a 2 (c 2 (c 5 (c 27 ()))))) ()) 1) 1)) (c (q 18 1 1) 1))\n",
      "(1764 5184 1369 2809)\n"
     ]
    }
   ],
   "source": [
    "map_square = map_puzzle.curry(\n",
    "    Program.to(assemble(\"(* 1 1)\"))\n",
    ")\n",
    "\n",
    "print_program(map_square)\n",
    "\n",
    "lst = Program.to([42, 72, 37, 53])\n",
    "result = map_square.run(lst)\n",
    "print_program(result)"
   ]
  },
  {
   "cell_type": "markdown",
   "id": "ca98b0a7-a25f-46d9-a174-b19c76387afa",
   "metadata": {},
   "source": [
    "## reduce\n",
    "[reduce](./reduce.clsp)"
   ]
  },
  {
   "cell_type": "code",
   "execution_count": 4,
   "id": "fc1c6179-766a-4bad-8966-d9340634cd72",
   "metadata": {},
   "outputs": [
    {
     "name": "stdout",
     "output_type": "stream",
     "text": [
      "(a (q 2 2 (c 2 (c 5 (c 11 (c 15 ()))))) (c (q 2 (i 23 (q 2 2 (c 2 (c 5 (c (a 5 (c 11 (c 39 ()))) (c 55 ()))))) (q . 11)) 1) 1))\n"
     ]
    }
   ],
   "source": [
    "reduce_puzzle: Program = load_program(\"./reduce.clsp\", [])\n",
    "print_program(reduce_puzzle)"
   ]
  },
  {
   "cell_type": "code",
   "execution_count": 5,
   "id": "1fcc19bc-b151-40d5-9715-2332b1c46756",
   "metadata": {},
   "outputs": [
    {
     "name": "stdout",
     "output_type": "stream",
     "text": [
      "(a (q 2 (q 2 2 (c 2 (c 5 (c 11 (c 15 ()))))) (c (q 2 (i 23 (q 2 2 (c 2 (c 5 (c (a 5 (c 11 (c 39 ()))) (c 55 ()))))) (q . 11)) 1) 1)) (c (q 16 2 5) 1))\n",
      "15\n"
     ]
    }
   ],
   "source": [
    "reduce_sum = reduce_puzzle.curry(\n",
    "    Program.to(assemble(\"(+ 2 5)\"))\n",
    ")\n",
    "\n",
    "print(disassemble(reduce_sum))\n",
    "\n",
    "lst = Program.to([1, 2, 3, 4, 5])\n",
    "result = reduce_sum.run(lst)\n",
    "print_program(result)"
   ]
  },
  {
   "cell_type": "code",
   "execution_count": 6,
   "id": "e91e469a-15a4-4f96-8c0c-f9aa4b792290",
   "metadata": {},
   "outputs": [
    {
     "name": "stdout",
     "output_type": "stream",
     "text": [
      "(a (q 2 (q 2 2 (c 2 (c 5 (c 11 (c 15 ()))))) (c (q 2 (i 23 (q 2 2 (c 2 (c 5 (c (a 5 (c 11 (c 39 ()))) (c 55 ()))))) (q . 11)) 1) 1)) (c (q 18 2 5) 1))\n",
      "120\n"
     ]
    }
   ],
   "source": [
    "reduce_factorial = reduce_puzzle.curry(\n",
    "    Program.to(assemble(\"(* 2 5)\"))\n",
    ")\n",
    "print(disassemble(reduce_factorial))\n",
    "\n",
    "lst = Program.to([1, 2, 3, 4, 5])\n",
    "result = reduce_factorial.run(lst)\n",
    "print_program(result)"
   ]
  },
  {
   "cell_type": "markdown",
   "id": "a0d4fdf4-cc5f-4c95-b709-3cfe4ce6c031",
   "metadata": {},
   "source": [
    "## filter\n",
    "[filter.clsp](./filter.clsp)"
   ]
  },
  {
   "cell_type": "code",
   "execution_count": 7,
   "id": "8fd0d832-ed16-4f51-9178-196c4d17c9d6",
   "metadata": {},
   "outputs": [
    {
     "name": "stdout",
     "output_type": "stream",
     "text": [
      "(a (q 2 6 (c 2 (c () (c (a 4 (c 2 (c 5 (c () (c 7 ()))))) ())))) (c (q (a (i 23 (q 2 4 (c 2 (c 5 (c (a (i (a 5 39) (q 4 39 11) (q . 11)) 1) (c 55 ()))))) (q . 11)) 1) 2 (i 11 (q 2 6 (c 2 (c (c 19 5) (c 27 ())))) (q . 5)) 1) 1))\n"
     ]
    }
   ],
   "source": [
    "filter_puzzle = load_program(\"./filter.clsp\", [])\n",
    "print_program(filter_puzzle)"
   ]
  },
  {
   "cell_type": "code",
   "execution_count": 8,
   "id": "358cc139-d57c-43f9-b070-8120e7700efc",
   "metadata": {},
   "outputs": [
    {
     "name": "stdout",
     "output_type": "stream",
     "text": [
      "(112 130 45)\n"
     ]
    }
   ],
   "source": [
    "filter_larger_than_42 = filter_puzzle.curry(\n",
    "    Program.to(assemble(\"(> 1 (q . 42))\"))\n",
    ")\n",
    "\n",
    "lst = Program.to([112, 37, 130, 41, 45])\n",
    "result = filter_larger_than_42.run(lst)\n",
    "print_program(result)"
   ]
  },
  {
   "cell_type": "markdown",
   "id": "6be70157-b786-43e9-856c-ff095473af41",
   "metadata": {},
   "source": [
    "## Chain\n",
    "[chain.clsp](./chain.clsp)"
   ]
  },
  {
   "cell_type": "code",
   "execution_count": 9,
   "id": "436d1d5a-36da-459b-b694-db68af07cfd9",
   "metadata": {},
   "outputs": [
    {
     "name": "stdout",
     "output_type": "stream",
     "text": [
      "(112 37 130 41 45)\n",
      "(112 130 45)\n",
      "(12544 16900 2025)\n",
      "31469\n"
     ]
    }
   ],
   "source": [
    "lst = Program.to([112, 37, 130, 41, 45])\n",
    "print_program(lst)\n",
    "filtered_lst = filter_larger_than_42.run(lst)\n",
    "print_program(filtered_lst)\n",
    "square_lst = map_square.run(filtered_lst) \n",
    "print_program(square_lst)\n",
    "sum_result = reduce_sum.run(square_lst)\n",
    "print_program(sum_result)"
   ]
  },
  {
   "cell_type": "code",
   "execution_count": 10,
   "id": "922f7c8e-e976-4525-8eb5-2e36c41222d8",
   "metadata": {},
   "outputs": [
    {
     "name": "stdout",
     "output_type": "stream",
     "text": [
      "(a (q 2 2 (c 2 (c 5 (c 7 ())))) (c (q 2 (i 5 (q 2 2 (c 2 (c 13 (c (a 9 11) ())))) (q . 11)) 1) 1))\n"
     ]
    }
   ],
   "source": [
    "chain_puzzle = load_program(\"./chain.clsp\", [])\n",
    "print_program(chain_puzzle)"
   ]
  },
  {
   "cell_type": "code",
   "execution_count": 11,
   "id": "613d44cd-e5f3-42a4-8021-a5774233d563",
   "metadata": {},
   "outputs": [
    {
     "name": "stdout",
     "output_type": "stream",
     "text": [
      "31469\n"
     ]
    }
   ],
   "source": [
    "result = chain_puzzle.curry(\n",
    "    [\n",
    "        filter_larger_than_42,\n",
    "        map_square,\n",
    "        reduce_sum\n",
    "    ]\n",
    ").run(Program.to([112, 37, 130, 41, 45]))\n",
    "print_program(result)"
   ]
  }
 ],
 "metadata": {
  "kernelspec": {
   "display_name": "Python 3 (ipykernel)",
   "language": "python",
   "name": "python3"
  },
  "language_info": {
   "codemirror_mode": {
    "name": "ipython",
    "version": 3
   },
   "file_extension": ".py",
   "mimetype": "text/x-python",
   "name": "python",
   "nbconvert_exporter": "python",
   "pygments_lexer": "ipython3",
   "version": "3.10.8"
  }
 },
 "nbformat": 4,
 "nbformat_minor": 5
}
