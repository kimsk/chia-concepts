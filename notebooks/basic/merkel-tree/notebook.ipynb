{
 "cells": [
  {
   "cell_type": "markdown",
   "id": "798684a3-d361-4f24-bbda-8b5f09d221bb",
   "metadata": {},
   "source": [
    "- [Merkle Tree in Blockchain: What is it, How does it work and Benefits](https://www.simplilearn.com/tutorials/blockchain-tutorial/merkle-tree-in-blockchain)\n",
    "\n",
    "\n",
    "> Coin set uses two Merkle trees (one for inputs and one for outputs), which allows all transactions in a block to occur simultaneously. As long as all of the inputs are unspent (coins can only be spent once) and all of the values are valid (you can't create more than you burn, for example), the transactions will be valid. This is one of the differences between coin set and UTXO, which only uses a single Merkle tree for inputs and outputs. -- [keybase](keybase://chat/chia_offers#general/1662)\n",
    "\n",
    "> In Bitcoin's UTXO model, an individual block's transactions are organized as a Merkle tree, where each transaction in a block is a leaf, and the coinbase transaction is the root. The leaves must be sorted in topological, or natural, order. If transaction B spends an output of transaction A, then both A and B are allowed to occur in the same block, but A must be stored in an earlier position than B in the Merkle tree.\n",
    "\n",
    "> In Chia's coin set model, each of a block's transactions occur simultaneously. Chia uses two Merkle trees – one for removing coins, and one for adding them. -- [Transaction/coin processing](https://docs.chia.net/docs/04coin-set-model/coin_set_vs_utxo/#transactioncoin-processing)\n",
    "\n",
    "# References\n",
    "- [Off-chain storage pattern in Solidity: Merkle Tree](https://redduck.medium.com/off-chain-storage-pattern-in-solidity-merkle-tree-d277be4453f4)"
   ]
  },
  {
   "cell_type": "code",
   "execution_count": null,
   "id": "8b0267e6-ed2b-42e7-a4fd-ea5bd80cc99f",
   "metadata": {},
   "outputs": [],
   "source": []
  }
 ],
 "metadata": {
  "kernelspec": {
   "display_name": "Python 3 (ipykernel)",
   "language": "python",
   "name": "python3"
  },
  "language_info": {
   "codemirror_mode": {
    "name": "ipython",
    "version": 3
   },
   "file_extension": ".py",
   "mimetype": "text/x-python",
   "name": "python",
   "nbconvert_exporter": "python",
   "pygments_lexer": "ipython3",
   "version": "3.9.12"
  }
 },
 "nbformat": 4,
 "nbformat_minor": 5
}
