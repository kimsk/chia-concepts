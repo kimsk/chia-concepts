{
 "cells": [
  {
   "cell_type": "markdown",
   "id": "f69d27bf-29b8-4e22-9783-846b22920bfd",
   "metadata": {},
   "source": [
    "## Normal\n",
    "\n",
    "```clojure\n",
    "(mod (f r)\n",
    "    (c\n",
    "        f\n",
    "        r\n",
    "    )\n",
    ")\n",
    "```"
   ]
  },
  {
   "cell_type": "code",
   "execution_count": 1,
   "id": "f8205e8c-12c9-48f6-a6c7-9e4510a60679",
   "metadata": {},
   "outputs": [
    {
     "name": "stdout",
     "output_type": "stream",
     "text": [
      "(c 2 5)\n"
     ]
    }
   ],
   "source": [
    "%%bash\n",
    "run '(mod (f r)\n",
    "    (c\n",
    "        f\n",
    "        r\n",
    "    )\n",
    ")'"
   ]
  },
  {
   "cell_type": "code",
   "execution_count": 2,
   "id": "70f11983-4557-4ac9-9c33-04303c5c0278",
   "metadata": {},
   "outputs": [
    {
     "name": "stdout",
     "output_type": "stream",
     "text": [
      "(100 . 200)\n",
      "(100 . 200)\n"
     ]
    }
   ],
   "source": [
    "%%bash\n",
    "brun '(c 2 5)' '(100 200)'\n",
    "brun '(c 2 5)' '(100 200 300)'"
   ]
  },
  {
   "cell_type": "markdown",
   "id": "3ced9bd6-5fff-4e56-a952-9d77f2b3fc28",
   "metadata": {},
   "source": [
    "## Rest\n",
    "```clojure\n",
    "(mod (f . r)\n",
    "    (c\n",
    "        f\n",
    "        r\n",
    "    )\n",
    ")\n",
    "```"
   ]
  },
  {
   "cell_type": "code",
   "execution_count": 3,
   "id": "83c13b21-6e8d-41ad-af4d-4ee58d10c59c",
   "metadata": {},
   "outputs": [
    {
     "name": "stdout",
     "output_type": "stream",
     "text": [
      "(c 2 3)\n"
     ]
    }
   ],
   "source": [
    "%%bash\n",
    "run '(mod (f . r)\n",
    "    (c\n",
    "        f\n",
    "        r\n",
    "    )\n",
    ")'"
   ]
  },
  {
   "cell_type": "code",
   "execution_count": 4,
   "id": "8f56aa6d-4353-4c4f-8162-c3895115efc2",
   "metadata": {},
   "outputs": [
    {
     "name": "stdout",
     "output_type": "stream",
     "text": [
      "(100 200)\n",
      "(100 200 300)\n"
     ]
    }
   ],
   "source": [
    "%%bash\n",
    "brun '(c 2 3)' '(100 200)'\n",
    "brun '(c 2 3)' '(100 200 300)'"
   ]
  }
 ],
 "metadata": {
  "kernelspec": {
   "display_name": "Python 3 (ipykernel)",
   "language": "python",
   "name": "python3"
  },
  "language_info": {
   "codemirror_mode": {
    "name": "ipython",
    "version": 3
   },
   "file_extension": ".py",
   "mimetype": "text/x-python",
   "name": "python",
   "nbconvert_exporter": "python",
   "pygments_lexer": "ipython3",
   "version": "3.10.8"
  }
 },
 "nbformat": 4,
 "nbformat_minor": 5
}
